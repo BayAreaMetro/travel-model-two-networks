{
 "cells": [
  {
   "cell_type": "markdown",
   "metadata": {},
   "source": [
    "# 01 Attribute Network and Make Scenario Pickle"
   ]
  },
  {
   "cell_type": "code",
   "execution_count": 1,
   "metadata": {},
   "outputs": [],
   "source": [
    "import os\n",
    "import sys\n",
    "import yaml\n",
    "\n",
    "import pandas as pd\n",
    "\n",
    "from network_wrangler import RoadwayNetwork\n",
    "from network_wrangler import TransitNetwork\n",
    "from network_wrangler import ProjectCard\n",
    "from network_wrangler import Scenario\n",
    "from network_wrangler import WranglerLogger\n",
    "\n",
    "from lasso import ModelRoadwayNetwork\n",
    "from lasso import StandardTransit\n",
    "from lasso import Parameters\n",
    "from lasso import mtc\n",
    "\n",
    "import pickle"
   ]
  },
  {
   "cell_type": "code",
   "execution_count": 2,
   "metadata": {},
   "outputs": [],
   "source": [
    "%load_ext autoreload\n",
    "%autoreload 2"
   ]
  },
  {
   "cell_type": "code",
   "execution_count": 3,
   "metadata": {},
   "outputs": [],
   "source": [
    "import logging\n",
    "logger = logging.getLogger(\"WranglerLogger\")\n",
    "logger.handlers[0].stream = sys.stdout\n",
    "# if you don't want to see so much detail, set to logging.INFO or DEBUG\n",
    "logger.setLevel(logging.INFO)"
   ]
  },
  {
   "cell_type": "markdown",
   "metadata": {},
   "source": [
    "## Remote I/O"
   ]
  },
  {
   "cell_type": "code",
   "execution_count": 4,
   "metadata": {},
   "outputs": [],
   "source": [
    "root_dir = \"D:/github/lfs-cleaning/travel-model-two-networks\"\n",
    "input_dir = os.path.join(root_dir, 'data', 'processed', 'version_12')\n",
    "output_dir = os.path.join(root_dir, 'data', 'processed', 'version_12')\n",
    "lasso_dir = \"Z:/Data/Users/Sijia/MTC/github/Lasso\""
   ]
  },
  {
   "cell_type": "code",
   "execution_count": 5,
   "metadata": {},
   "outputs": [
    {
     "name": "stdout",
     "output_type": "stream",
     "text": [
      "2021-09-09 13:35:10, INFO: Lasso base directory set as: Z:/Data/Users/Sijia/MTC/github/Lasso\n",
      "2021-09-09 13:35:10, INFO: Lasso base directory set as: Z:/Data/Users/Sijia/MTC/github/Lasso\n",
      "2021-09-09 13:35:10, INFO: Lasso base directory set as: Z:/Data/Users/Sijia/MTC/github/Lasso\n",
      "2021-09-09 13:35:10, INFO: Lasso base directory set as: Z:/Data/Users/Sijia/MTC/github/Lasso\n"
     ]
    }
   ],
   "source": [
    "parameters = Parameters(lasso_base_dir = lasso_dir)"
   ]
  },
  {
   "cell_type": "markdown",
   "metadata": {},
   "source": [
    "## Data Reads"
   ]
  },
  {
   "cell_type": "code",
   "execution_count": 6,
   "metadata": {},
   "outputs": [
    {
     "name": "stdout",
     "output_type": "stream",
     "text": [
      "2021-09-09 13:35:19, INFO: Reading RoadwayNetwork\n",
      "2021-09-09 13:35:19, INFO: Reading RoadwayNetwork\n",
      "2021-09-09 13:37:45, INFO: Read 1634790 links from D:/github/lfs-cleaning/travel-model-two-networks\\data\\processed\\version_12\\link.json\n",
      "2021-09-09 13:37:45, INFO: Read 1634790 links from D:/github/lfs-cleaning/travel-model-two-networks\\data\\processed\\version_12\\link.json\n",
      "2021-09-09 13:37:45, INFO: Read 644480 nodes from D:/github/lfs-cleaning/travel-model-two-networks\\data\\processed\\version_12\\node.geojson\n",
      "2021-09-09 13:37:45, INFO: Read 644480 nodes from D:/github/lfs-cleaning/travel-model-two-networks\\data\\processed\\version_12\\node.geojson\n",
      "2021-09-09 13:37:45, INFO: Read 869986 shapes from D:/github/lfs-cleaning/travel-model-two-networks\\data\\processed\\version_12\\shape.geojson\n",
      "2021-09-09 13:37:45, INFO: Read 869986 shapes from D:/github/lfs-cleaning/travel-model-two-networks\\data\\processed\\version_12\\shape.geojson\n"
     ]
    }
   ],
   "source": [
    "link_file = os.path.join(input_dir, 'link.json')\n",
    "node_file = os.path.join(input_dir, 'node.geojson')\n",
    "shape_file = os.path.join(input_dir, 'shape.geojson')\n",
    "\n",
    "roadway_net = RoadwayNetwork.read(\n",
    "    link_filename = link_file, \n",
    "    node_filename = node_file, \n",
    "    shape_filename = shape_file\n",
    ")"
   ]
  },
  {
   "cell_type": "code",
   "execution_count": 7,
   "metadata": {},
   "outputs": [
    {
     "data": {
      "text/plain": [
       "1634790"
      ]
     },
     "execution_count": 7,
     "metadata": {},
     "output_type": "execute_result"
    }
   ],
   "source": [
    "roadway_net.links_df.model_link_id.nunique()"
   ]
  },
  {
   "cell_type": "markdown",
   "metadata": {},
   "source": [
    "*Please note*: a third party library is used to read in the GTFS feed and it will generate warnings such as, `INFO: Removing calendar.txt from transit network config because file not found`. These warnings can be ignored, as the standard Network Wrangler transit network does not need these files. "
   ]
  },
  {
   "cell_type": "code",
   "execution_count": 8,
   "metadata": {},
   "outputs": [
    {
     "name": "stdout",
     "output_type": "stream",
     "text": [
      "2021-09-09 13:55:46, INFO: Read in transit feed from: D:/github/lfs-cleaning/travel-model-two-networks\\data\\processed\\version_12\n",
      "2021-09-09 13:55:46, INFO: Read in transit feed from: D:/github/lfs-cleaning/travel-model-two-networks\\data\\processed\\version_12\n",
      "2021-09-09 13:55:46, INFO: Removing calendar.txt from transit network config because file not found\n",
      "2021-09-09 13:55:46, INFO: Removing calendar.txt from transit network config because file not found\n",
      "2021-09-09 13:55:46, INFO: Removing calendar_dates.txt from transit network config because file not found\n",
      "2021-09-09 13:55:46, INFO: Removing calendar_dates.txt from transit network config because file not found\n",
      "2021-09-09 13:55:49, INFO: Removing transfers.txt from transit network config because file not found\n",
      "2021-09-09 13:55:49, INFO: Removing transfers.txt from transit network config because file not found\n",
      "2021-09-09 13:55:49, INFO: Removing feed_info.txt from transit network config because file not found\n",
      "2021-09-09 13:55:49, INFO: Removing feed_info.txt from transit network config because file not found\n",
      "2021-09-09 13:55:49, WARNING: The following stop_ids from are referenced but missing from stops.txt: ['place_NAMO', 'place_CHCO', 'ctmp', 'place_ROBA', 'ctsmat', 'place_CVBA', 'place_14BD', 'ctmh', 'place_ETSF', 'ctsmar', 'ct22', 'ctrwc', 'ctha', 'place_HBBA', 'place_SMSE', 'ctsc', 'ctcap', 'ctca', 'place_FRBA', 'ctsf', 'ctco', 'place_SNCO', 'place_BDBL', 'place_EBBA', 'place_HPNR', 'place_PSOT', 'ctmv', 'place_SHDF', 'place_PAHE', 'place_BNTE', 'place_CSSH', 'place_SHBA', 'ctbe', 'ctmi', 'place_FVMA', 'place_CCCO', 'place_FBBA', 'cthi', 'place_WOBA', 'ctgi', 'ctsa', 'ctbl', 'place_DBBA', 'ctba', 'place_12BD', 'ctla', 'place_11JE', 'place_90MA', 'ctssf', 'ctsj', 'place_MBLS', 'place_CBBA', 'place_MOME', 'place_NEPA', 'place_11BD', 'ctta', 'place_HRSH', 'place_TAPI', 'ctbu', 'ctscl', 'place_BYBA', 'ctpa', 'place_4SSP', 'ctsb', 'place_HIWY', 'ctsu']\n",
      "2021-09-09 13:55:49, WARNING: The following stop_ids from are referenced but missing from stops.txt: ['place_NAMO', 'place_CHCO', 'ctmp', 'place_ROBA', 'ctsmat', 'place_CVBA', 'place_14BD', 'ctmh', 'place_ETSF', 'ctsmar', 'ct22', 'ctrwc', 'ctha', 'place_HBBA', 'place_SMSE', 'ctsc', 'ctcap', 'ctca', 'place_FRBA', 'ctsf', 'ctco', 'place_SNCO', 'place_BDBL', 'place_EBBA', 'place_HPNR', 'place_PSOT', 'ctmv', 'place_SHDF', 'place_PAHE', 'place_BNTE', 'place_CSSH', 'place_SHBA', 'ctbe', 'ctmi', 'place_FVMA', 'place_CCCO', 'place_FBBA', 'cthi', 'place_WOBA', 'ctgi', 'ctsa', 'ctbl', 'place_DBBA', 'ctba', 'place_12BD', 'ctla', 'place_11JE', 'place_90MA', 'ctssf', 'ctsj', 'place_MBLS', 'place_CBBA', 'place_MOME', 'place_NEPA', 'place_11BD', 'ctta', 'place_HRSH', 'place_TAPI', 'ctbu', 'ctscl', 'place_BYBA', 'ctpa', 'place_4SSP', 'ctsb', 'place_HIWY', 'ctsu']\n"
     ]
    }
   ],
   "source": [
    "transit_net = TransitNetwork.read(feed_path = input_dir)"
   ]
  },
  {
   "cell_type": "markdown",
   "metadata": {},
   "source": [
    "## Attribute the Network"
   ]
  },
  {
   "cell_type": "code",
   "execution_count": 9,
   "metadata": {},
   "outputs": [
    {
     "name": "stdout",
     "output_type": "stream",
     "text": [
      "2021-09-09 13:56:00, INFO: Determining number of lanes\n",
      "2021-09-09 13:56:00, INFO: Determining number of lanes\n",
      "2021-09-09 13:56:01, INFO: Lasso base directory set as: Z:/Data/Users/Sijia/MTC/github/Lasso\n",
      "2021-09-09 13:56:01, INFO: Lasso base directory set as: Z:/Data/Users/Sijia/MTC/github/Lasso\n",
      "2021-09-09 13:56:01, INFO: Lasso base directory set as: Z:/Data/Users/Sijia/MTC/github/Lasso\n",
      "2021-09-09 13:56:01, INFO: Lasso base directory set as: Z:/Data/Users/Sijia/MTC/github/Lasso\n",
      "2021-09-09 14:00:59, INFO: Finished determining number of lanes using variable: lanes\n",
      "2021-09-09 14:00:59, INFO: Finished determining number of lanes using variable: lanes\n"
     ]
    },
    {
     "data": {
      "text/plain": [
       "1    1486418\n",
       "2     104207\n",
       "3      22455\n",
       "4      14124\n",
       "5       6504\n",
       "6        929\n",
       "7        134\n",
       "8         18\n",
       "9          1\n",
       "Name: lanes, dtype: int64"
      ]
     },
     "execution_count": 9,
     "metadata": {},
     "output_type": "execute_result"
    }
   ],
   "source": [
    "r_net = mtc.determine_number_of_lanes(\n",
    "    roadway_network = roadway_net,\n",
    "    parameters = parameters,\n",
    "    network_variable = 'lanes'\n",
    ")\n",
    "\n",
    "r_net.links_df.lanes.value_counts()"
   ]
  },
  {
   "cell_type": "code",
   "execution_count": 10,
   "metadata": {},
   "outputs": [
    {
     "name": "stdout",
     "output_type": "stream",
     "text": [
      "2021-09-09 14:01:00, INFO: Calculating Facility Type\n",
      "2021-09-09 14:01:00, INFO: Calculating Facility Type\n",
      "2021-09-09 14:01:00, INFO: Lasso base directory set as: Z:/Data/Users/Sijia/MTC/github/Lasso\n",
      "2021-09-09 14:01:00, INFO: Lasso base directory set as: Z:/Data/Users/Sijia/MTC/github/Lasso\n",
      "2021-09-09 14:01:00, INFO: Lasso base directory set as: Z:/Data/Users/Sijia/MTC/github/Lasso\n",
      "2021-09-09 14:01:00, INFO: Lasso base directory set as: Z:/Data/Users/Sijia/MTC/github/Lasso\n",
      "2021-09-09 14:03:37, INFO: Finished calculating roadway class variable: ft\n",
      "2021-09-09 14:03:37, INFO: Finished calculating roadway class variable: ft\n"
     ]
    },
    {
     "data": {
      "text/plain": [
       "99    890174\n",
       "7     538666\n",
       "6      96883\n",
       "5      58344\n",
       "4      38332\n",
       "3       6365\n",
       "2       3252\n",
       "1       2774\n",
       "Name: ft, dtype: int64"
      ]
     },
     "execution_count": 10,
     "metadata": {},
     "output_type": "execute_result"
    }
   ],
   "source": [
    "r_net = mtc.calculate_facility_type(\n",
    "    roadway_network = r_net,\n",
    "    parameters = parameters,\n",
    "    network_variable = 'ft')\n",
    "\n",
    "r_net.links_df.ft.value_counts()"
   ]
  },
  {
   "cell_type": "code",
   "execution_count": 11,
   "metadata": {},
   "outputs": [
    {
     "name": "stdout",
     "output_type": "stream",
     "text": [
      "2021-09-09 14:03:38, INFO: Determining useclass\n",
      "2021-09-09 14:03:38, INFO: Determining useclass\n",
      "2021-09-09 14:03:38, INFO: Lasso base directory set as: Z:/Data/Users/Sijia/MTC/github/Lasso\n",
      "2021-09-09 14:03:38, INFO: Lasso base directory set as: Z:/Data/Users/Sijia/MTC/github/Lasso\n",
      "2021-09-09 14:03:38, INFO: Lasso base directory set as: Z:/Data/Users/Sijia/MTC/github/Lasso\n",
      "2021-09-09 14:03:38, INFO: Lasso base directory set as: Z:/Data/Users/Sijia/MTC/github/Lasso\n",
      "2021-09-09 14:03:38, INFO: Calculating and adding roadway network variable: useclass\n",
      "2021-09-09 14:03:38, INFO: Calculating and adding roadway network variable: useclass\n",
      "2021-09-09 14:03:38, INFO: Finished determining variable: useclass\n",
      "2021-09-09 14:03:38, INFO: Finished determining variable: useclass\n"
     ]
    },
    {
     "data": {
      "text/plain": [
       "0    1634790\n",
       "Name: useclass, dtype: int64"
      ]
     },
     "execution_count": 11,
     "metadata": {},
     "output_type": "execute_result"
    }
   ],
   "source": [
    "r_net = mtc.calculate_useclass(\n",
    "    roadway_network = r_net,\n",
    "    parameters = parameters,\n",
    "    network_variable = 'useclass')\n",
    "\n",
    "r_net.links_df.useclass.value_counts()"
   ]
  },
  {
   "cell_type": "code",
   "execution_count": 12,
   "metadata": {},
   "outputs": [
    {
     "name": "stdout",
     "output_type": "stream",
     "text": [
      "2021-09-09 14:03:38, INFO: Determining assignable\n",
      "2021-09-09 14:03:38, INFO: Determining assignable\n",
      "2021-09-09 14:03:38, INFO: Lasso base directory set as: Z:/Data/Users/Sijia/MTC/github/Lasso\n",
      "2021-09-09 14:03:38, INFO: Lasso base directory set as: Z:/Data/Users/Sijia/MTC/github/Lasso\n",
      "2021-09-09 14:03:38, INFO: Lasso base directory set as: Z:/Data/Users/Sijia/MTC/github/Lasso\n",
      "2021-09-09 14:03:38, INFO: Lasso base directory set as: Z:/Data/Users/Sijia/MTC/github/Lasso\n",
      "2021-09-09 14:03:38, INFO: Calculating and adding roadway network variable: assignable\n",
      "2021-09-09 14:03:38, INFO: Calculating and adding roadway network variable: assignable\n",
      "2021-09-09 14:03:47, INFO: Finished determining assignable using variable: assignable\n",
      "2021-09-09 14:03:47, INFO: Finished determining assignable using variable: assignable\n"
     ]
    },
    {
     "data": {
      "text/plain": [
       "0.0    1245221\n",
       "1.0     388313\n",
       "Name: assignable, dtype: int64"
      ]
     },
     "execution_count": 12,
     "metadata": {},
     "output_type": "execute_result"
    }
   ],
   "source": [
    "r_net = mtc.calculate_assignable(\n",
    "    roadway_network = r_net,\n",
    "    parameters = parameters,\n",
    "    network_variable = 'assignable')\n",
    "\n",
    "r_net.links_df.assignable.value_counts()"
   ]
  },
  {
   "cell_type": "code",
   "execution_count": 13,
   "metadata": {},
   "outputs": [
    {
     "name": "stdout",
     "output_type": "stream",
     "text": [
      "2021-09-09 14:03:47, INFO: Determining transit\n",
      "2021-09-09 14:03:47, INFO: Determining transit\n",
      "2021-09-09 14:03:47, INFO: Lasso base directory set as: Z:/Data/Users/Sijia/MTC/github/Lasso\n",
      "2021-09-09 14:03:47, INFO: Lasso base directory set as: Z:/Data/Users/Sijia/MTC/github/Lasso\n",
      "2021-09-09 14:03:47, INFO: Lasso base directory set as: Z:/Data/Users/Sijia/MTC/github/Lasso\n",
      "2021-09-09 14:03:47, INFO: Lasso base directory set as: Z:/Data/Users/Sijia/MTC/github/Lasso\n",
      "2021-09-09 14:03:47, INFO: Calculating and adding roadway network variable: transit\n",
      "2021-09-09 14:03:47, INFO: Calculating and adding roadway network variable: transit\n",
      "2021-09-09 14:03:47, INFO: Finished determining transit-only variable: transit\n",
      "2021-09-09 14:03:47, INFO: Finished determining transit-only variable: transit\n"
     ]
    },
    {
     "data": {
      "text/plain": [
       "0    1634040\n",
       "1        750\n",
       "Name: transit, dtype: int64"
      ]
     },
     "execution_count": 13,
     "metadata": {},
     "output_type": "execute_result"
    }
   ],
   "source": [
    "r_net = mtc.calculate_transit(\n",
    "    roadway_network = r_net,\n",
    "    parameters = parameters,\n",
    "    network_variable = 'transit')\n",
    "\n",
    "r_net.links_df.transit.value_counts()"
   ]
  },
  {
   "cell_type": "code",
   "execution_count": 14,
   "metadata": {},
   "outputs": [
    {
     "name": "stdout",
     "output_type": "stream",
     "text": [
      "<class 'pandas.core.frame.DataFrame'>\n",
      "RangeIndex: 21881 entries, 0 to 21880\n",
      "Data columns (total 20 columns):\n",
      "stop_name              21881 non-null object\n",
      "stop_lat               21881 non-null float64\n",
      "stop_lon               21881 non-null float64\n",
      "zone_id                8232 non-null object\n",
      "agency_raw_name        21881 non-null object\n",
      "stop_code              15289 non-null object\n",
      "location_type          5475 non-null float64\n",
      "parent_station         249 non-null object\n",
      "stop_desc              409 non-null object\n",
      "stop_url               261 non-null object\n",
      "stop_timezone          126 non-null object\n",
      "wheelchair_boarding    377 non-null float64\n",
      "platform_code          52 non-null object\n",
      "position               0 non-null object\n",
      "direction              0 non-null object\n",
      "* used by routes       124 non-null object\n",
      "stop_id                21881 non-null object\n",
      "osm_node_id            21212 non-null object\n",
      "shst_node_id           21212 non-null object\n",
      "model_node_id          21881 non-null object\n",
      "dtypes: float64(4), object(16)\n",
      "memory usage: 3.3+ MB\n"
     ]
    }
   ],
   "source": [
    "transit_net.feed.stops.info()"
   ]
  },
  {
   "cell_type": "code",
   "execution_count": 15,
   "metadata": {},
   "outputs": [
    {
     "name": "stdout",
     "output_type": "stream",
     "text": [
      "2021-09-09 14:03:48, INFO: Determining farezone\n",
      "2021-09-09 14:03:48, INFO: Determining farezone\n",
      "2021-09-09 14:03:48, INFO: Lasso base directory set as: Z:/Data/Users/Sijia/MTC/github/Lasso\n",
      "2021-09-09 14:03:48, INFO: Lasso base directory set as: Z:/Data/Users/Sijia/MTC/github/Lasso\n",
      "2021-09-09 14:03:48, INFO: Lasso base directory set as: Z:/Data/Users/Sijia/MTC/github/Lasso\n",
      "2021-09-09 14:03:48, INFO: Lasso base directory set as: Z:/Data/Users/Sijia/MTC/github/Lasso\n",
      "2021-09-09 14:03:48, INFO: Calculating and adding roadway network variable: farezone\n",
      "2021-09-09 14:03:48, INFO: Calculating and adding roadway network variable: farezone\n",
      "2021-09-09 14:03:49, INFO: Finished determining variable: farezone\n",
      "2021-09-09 14:03:49, INFO: Finished determining variable: farezone\n"
     ]
    },
    {
     "data": {
      "text/plain": [
       "110.0    3454\n",
       "89.0     1527\n",
       "82.0      226\n",
       "72.0      207\n",
       "103.0     179\n",
       "         ... \n",
       "63.0        1\n",
       "62.0        1\n",
       "61.0        1\n",
       "1.0         1\n",
       "128.0       1\n",
       "Name: farezone, Length: 203, dtype: int64"
      ]
     },
     "execution_count": 15,
     "metadata": {},
     "output_type": "execute_result"
    }
   ],
   "source": [
    "r_net = mtc.calculate_farezone(\n",
    "    roadway_network = r_net,\n",
    "    transit_network = transit_net,\n",
    "    parameters = parameters,\n",
    "    network_variable = 'farezone',\n",
    ")\n",
    "\n",
    "r_net.nodes_df.farezone.value_counts()"
   ]
  },
  {
   "cell_type": "markdown",
   "metadata": {},
   "source": [
    "## Create a Scenario"
   ]
  },
  {
   "cell_type": "code",
   "execution_count": 16,
   "metadata": {},
   "outputs": [
    {
     "name": "stdout",
     "output_type": "stream",
     "text": [
      "2021-09-09 14:03:49, INFO: Creating Scenario\n",
      "2021-09-09 14:03:49, INFO: Creating Scenario\n"
     ]
    }
   ],
   "source": [
    "base_scenario = {\"road_net\": r_net, \"transit_net\": transit_net}\n",
    "working_scenario = Scenario.create_scenario(base_scenario = base_scenario)"
   ]
  },
  {
   "cell_type": "markdown",
   "metadata": {},
   "source": [
    "## Write to Disk"
   ]
  },
  {
   "cell_type": "code",
   "execution_count": 17,
   "metadata": {},
   "outputs": [],
   "source": [
    "working_scenario_filename = os.path.join(output_dir, 'working_scenario_01.pickle')\n",
    "pickle.dump(working_scenario, open(working_scenario_filename, 'wb'))"
   ]
  },
  {
   "cell_type": "code",
   "execution_count": 18,
   "metadata": {},
   "outputs": [
    {
     "data": {
      "text/html": [
       "<div>\n",
       "<style scoped>\n",
       "    .dataframe tbody tr th:only-of-type {\n",
       "        vertical-align: middle;\n",
       "    }\n",
       "\n",
       "    .dataframe tbody tr th {\n",
       "        vertical-align: top;\n",
       "    }\n",
       "\n",
       "    .dataframe thead th {\n",
       "        text-align: right;\n",
       "    }\n",
       "</style>\n",
       "<table border=\"1\" class=\"dataframe\">\n",
       "  <thead>\n",
       "    <tr style=\"text-align: right;\">\n",
       "      <th>roadway</th>\n",
       "      <th>cycleway</th>\n",
       "      <th>footway</th>\n",
       "      <th>motorway</th>\n",
       "      <th>motorway_link</th>\n",
       "      <th>primary</th>\n",
       "      <th>primary_link</th>\n",
       "      <th>residential</th>\n",
       "      <th>secondary</th>\n",
       "      <th>secondary_link</th>\n",
       "      <th>service</th>\n",
       "      <th>tertiary</th>\n",
       "      <th>tertiary_link</th>\n",
       "      <th>trunk</th>\n",
       "      <th>trunk_link</th>\n",
       "    </tr>\n",
       "    <tr>\n",
       "      <th>ft</th>\n",
       "      <th></th>\n",
       "      <th></th>\n",
       "      <th></th>\n",
       "      <th></th>\n",
       "      <th></th>\n",
       "      <th></th>\n",
       "      <th></th>\n",
       "      <th></th>\n",
       "      <th></th>\n",
       "      <th></th>\n",
       "      <th></th>\n",
       "      <th></th>\n",
       "      <th></th>\n",
       "      <th></th>\n",
       "    </tr>\n",
       "  </thead>\n",
       "  <tbody>\n",
       "    <tr>\n",
       "      <th>1</th>\n",
       "      <td>0</td>\n",
       "      <td>0</td>\n",
       "      <td>2774</td>\n",
       "      <td>0</td>\n",
       "      <td>0</td>\n",
       "      <td>0</td>\n",
       "      <td>0</td>\n",
       "      <td>0</td>\n",
       "      <td>0</td>\n",
       "      <td>0</td>\n",
       "      <td>0</td>\n",
       "      <td>0</td>\n",
       "      <td>0</td>\n",
       "      <td>0</td>\n",
       "    </tr>\n",
       "    <tr>\n",
       "      <th>2</th>\n",
       "      <td>0</td>\n",
       "      <td>0</td>\n",
       "      <td>0</td>\n",
       "      <td>0</td>\n",
       "      <td>0</td>\n",
       "      <td>0</td>\n",
       "      <td>0</td>\n",
       "      <td>0</td>\n",
       "      <td>0</td>\n",
       "      <td>0</td>\n",
       "      <td>0</td>\n",
       "      <td>0</td>\n",
       "      <td>3252</td>\n",
       "      <td>0</td>\n",
       "    </tr>\n",
       "    <tr>\n",
       "      <th>3</th>\n",
       "      <td>0</td>\n",
       "      <td>0</td>\n",
       "      <td>0</td>\n",
       "      <td>4983</td>\n",
       "      <td>0</td>\n",
       "      <td>0</td>\n",
       "      <td>0</td>\n",
       "      <td>0</td>\n",
       "      <td>0</td>\n",
       "      <td>0</td>\n",
       "      <td>0</td>\n",
       "      <td>0</td>\n",
       "      <td>0</td>\n",
       "      <td>1382</td>\n",
       "    </tr>\n",
       "    <tr>\n",
       "      <th>4</th>\n",
       "      <td>0</td>\n",
       "      <td>0</td>\n",
       "      <td>0</td>\n",
       "      <td>0</td>\n",
       "      <td>15505</td>\n",
       "      <td>0</td>\n",
       "      <td>0</td>\n",
       "      <td>17933</td>\n",
       "      <td>0</td>\n",
       "      <td>0</td>\n",
       "      <td>4894</td>\n",
       "      <td>0</td>\n",
       "      <td>0</td>\n",
       "      <td>0</td>\n",
       "    </tr>\n",
       "    <tr>\n",
       "      <th>5</th>\n",
       "      <td>0</td>\n",
       "      <td>0</td>\n",
       "      <td>0</td>\n",
       "      <td>0</td>\n",
       "      <td>8432</td>\n",
       "      <td>0</td>\n",
       "      <td>0</td>\n",
       "      <td>24996</td>\n",
       "      <td>0</td>\n",
       "      <td>0</td>\n",
       "      <td>24034</td>\n",
       "      <td>0</td>\n",
       "      <td>882</td>\n",
       "      <td>0</td>\n",
       "    </tr>\n",
       "    <tr>\n",
       "      <th>6</th>\n",
       "      <td>0</td>\n",
       "      <td>0</td>\n",
       "      <td>0</td>\n",
       "      <td>0</td>\n",
       "      <td>2555</td>\n",
       "      <td>1506</td>\n",
       "      <td>0</td>\n",
       "      <td>25600</td>\n",
       "      <td>1566</td>\n",
       "      <td>0</td>\n",
       "      <td>65019</td>\n",
       "      <td>611</td>\n",
       "      <td>26</td>\n",
       "      <td>0</td>\n",
       "    </tr>\n",
       "    <tr>\n",
       "      <th>7</th>\n",
       "      <td>0</td>\n",
       "      <td>0</td>\n",
       "      <td>0</td>\n",
       "      <td>0</td>\n",
       "      <td>0</td>\n",
       "      <td>0</td>\n",
       "      <td>538666</td>\n",
       "      <td>0</td>\n",
       "      <td>0</td>\n",
       "      <td>0</td>\n",
       "      <td>0</td>\n",
       "      <td>0</td>\n",
       "      <td>0</td>\n",
       "      <td>0</td>\n",
       "    </tr>\n",
       "    <tr>\n",
       "      <th>99</th>\n",
       "      <td>98614</td>\n",
       "      <td>247489</td>\n",
       "      <td>0</td>\n",
       "      <td>0</td>\n",
       "      <td>0</td>\n",
       "      <td>0</td>\n",
       "      <td>0</td>\n",
       "      <td>0</td>\n",
       "      <td>0</td>\n",
       "      <td>541983</td>\n",
       "      <td>0</td>\n",
       "      <td>0</td>\n",
       "      <td>0</td>\n",
       "      <td>0</td>\n",
       "    </tr>\n",
       "  </tbody>\n",
       "</table>\n",
       "</div>"
      ],
      "text/plain": [
       "roadway  cycleway  footway  motorway  motorway_link  primary  primary_link  \\\n",
       "ft                                                                           \n",
       "1               0        0      2774              0        0             0   \n",
       "2               0        0         0              0        0             0   \n",
       "3               0        0         0           4983        0             0   \n",
       "4               0        0         0              0    15505             0   \n",
       "5               0        0         0              0     8432             0   \n",
       "6               0        0         0              0     2555          1506   \n",
       "7               0        0         0              0        0             0   \n",
       "99          98614   247489         0              0        0             0   \n",
       "\n",
       "roadway  residential  secondary  secondary_link  service  tertiary  \\\n",
       "ft                                                                   \n",
       "1                  0          0               0        0         0   \n",
       "2                  0          0               0        0         0   \n",
       "3                  0          0               0        0         0   \n",
       "4                  0      17933               0        0      4894   \n",
       "5                  0      24996               0        0     24034   \n",
       "6                  0      25600            1566        0     65019   \n",
       "7             538666          0               0        0         0   \n",
       "99                 0          0               0   541983         0   \n",
       "\n",
       "roadway  tertiary_link  trunk  trunk_link  \n",
       "ft                                         \n",
       "1                    0      0           0  \n",
       "2                    0   3252           0  \n",
       "3                    0      0        1382  \n",
       "4                    0      0           0  \n",
       "5                    0    882           0  \n",
       "6                  611     26           0  \n",
       "7                    0      0           0  \n",
       "99                   0      0           0  "
      ]
     },
     "execution_count": 18,
     "metadata": {},
     "output_type": "execute_result"
    }
   ],
   "source": [
    "pd.crosstab(r_net.links_df.ft, r_net.links_df.roadway)"
   ]
  },
  {
   "cell_type": "code",
   "execution_count": 19,
   "metadata": {},
   "outputs": [
    {
     "data": {
      "text/plain": [
       "Index(['stop_name', 'stop_lat', 'stop_lon', 'zone_id', 'agency_raw_name',\n",
       "       'stop_code', 'location_type', 'parent_station', 'stop_desc', 'stop_url',\n",
       "       'stop_timezone', 'wheelchair_boarding', 'platform_code', 'position',\n",
       "       'direction', '* used by routes', 'stop_id', 'osm_node_id',\n",
       "       'shst_node_id', 'model_node_id'],\n",
       "      dtype='object')"
      ]
     },
     "execution_count": 19,
     "metadata": {},
     "output_type": "execute_result"
    }
   ],
   "source": [
    "transit_net.feed.stops.columns"
   ]
  },
  {
   "cell_type": "code",
   "execution_count": 20,
   "metadata": {},
   "outputs": [
    {
     "data": {
      "text/plain": [
       "8063197"
      ]
     },
     "execution_count": 20,
     "metadata": {},
     "output_type": "execute_result"
    }
   ],
   "source": [
    "roadway_net.links_df[roadway_net.links_df.county == \"Marin\"].model_link_id.max()"
   ]
  },
  {
   "cell_type": "code",
   "execution_count": 21,
   "metadata": {},
   "outputs": [
    {
     "data": {
      "text/html": [
       "<div>\n",
       "<style scoped>\n",
       "    .dataframe tbody tr th:only-of-type {\n",
       "        vertical-align: middle;\n",
       "    }\n",
       "\n",
       "    .dataframe tbody tr th {\n",
       "        vertical-align: top;\n",
       "    }\n",
       "\n",
       "    .dataframe thead th {\n",
       "        text-align: right;\n",
       "    }\n",
       "</style>\n",
       "<table border=\"1\" class=\"dataframe\">\n",
       "  <thead>\n",
       "    <tr style=\"text-align: right;\">\n",
       "      <th></th>\n",
       "      <th>osm_node_id</th>\n",
       "      <th>shst_node_id</th>\n",
       "      <th>county</th>\n",
       "      <th>drive_access</th>\n",
       "      <th>walk_access</th>\n",
       "      <th>bike_access</th>\n",
       "      <th>model_node_id</th>\n",
       "      <th>rail_only</th>\n",
       "      <th>X</th>\n",
       "      <th>Y</th>\n",
       "      <th>geometry</th>\n",
       "      <th>farezone</th>\n",
       "    </tr>\n",
       "  </thead>\n",
       "  <tbody>\n",
       "  </tbody>\n",
       "</table>\n",
       "</div>"
      ],
      "text/plain": [
       "Empty GeoDataFrame\n",
       "Columns: [osm_node_id, shst_node_id, county, drive_access, walk_access, bike_access, model_node_id, rail_only, X, Y, geometry, farezone]\n",
       "Index: []"
      ]
     },
     "execution_count": 21,
     "metadata": {},
     "output_type": "execute_result"
    }
   ],
   "source": [
    "roadway_net.nodes_df[roadway_net.nodes_df.model_node_id == 5030000]"
   ]
  },
  {
   "cell_type": "code",
   "execution_count": null,
   "metadata": {},
   "outputs": [],
   "source": []
  }
 ],
 "metadata": {
  "kernelspec": {
   "display_name": "Python 3",
   "language": "python",
   "name": "python3"
  },
  "language_info": {
   "codemirror_mode": {
    "name": "ipython",
    "version": 3
   },
   "file_extension": ".py",
   "mimetype": "text/x-python",
   "name": "python",
   "nbconvert_exporter": "python",
   "pygments_lexer": "ipython3",
   "version": "3.7.9"
  }
 },
 "nbformat": 4,
 "nbformat_minor": 4
}
