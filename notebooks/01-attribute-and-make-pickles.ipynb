{
 "cells": [
  {
   "cell_type": "markdown",
   "metadata": {},
   "source": [
    "# 01 Attribute Network and Make Scenario Pickle"
   ]
  },
  {
   "cell_type": "code",
   "execution_count": 1,
   "metadata": {},
   "outputs": [],
   "source": [
    "import os\n",
    "import sys\n",
    "import yaml\n",
    "\n",
    "import pandas as pd\n",
    "\n",
    "from network_wrangler import RoadwayNetwork\n",
    "from network_wrangler import TransitNetwork\n",
    "from network_wrangler import ProjectCard\n",
    "from network_wrangler import Scenario\n",
    "from network_wrangler import WranglerLogger\n",
    "\n",
    "from lasso import ModelRoadwayNetwork\n",
    "from lasso import StandardTransit\n",
    "from lasso import Parameters\n",
    "from lasso import mtc\n",
    "\n",
    "import pickle"
   ]
  },
  {
   "cell_type": "code",
   "execution_count": 2,
   "metadata": {},
   "outputs": [],
   "source": [
    "%load_ext autoreload\n",
    "%autoreload 2"
   ]
  },
  {
   "cell_type": "code",
   "execution_count": 3,
   "metadata": {},
   "outputs": [],
   "source": [
    "import logging\n",
    "logger = logging.getLogger(\"WranglerLogger\")\n",
    "logger.handlers[0].stream = sys.stdout\n",
    "# if you don't want to see so much detail, set to logging.INFO or DEBUG\n",
    "logger.setLevel(logging.INFO)"
   ]
  },
  {
   "cell_type": "markdown",
   "metadata": {},
   "source": [
    "## Remote I/O"
   ]
  },
  {
   "cell_type": "code",
   "execution_count": 4,
   "metadata": {},
   "outputs": [],
   "source": [
    "root_dir = os.path.join('C:\\\\' 'Users', 'david.ory', 'Documents', 'GitHub', 'travel-model-two-networks')\n",
    "input_dir = os.path.join(root_dir, 'data', 'processed', 'version_02')\n",
    "output_dir = input_dir\n",
    "lasso_dir = os.path.join('C:\\\\', 'Users', 'david.ory', 'Documents', 'GitHub', 'mtc_Lasso')"
   ]
  },
  {
   "cell_type": "code",
   "execution_count": 4,
   "metadata": {},
   "outputs": [],
   "source": [
    "root_dir = \"Z:/Data/Users/Sijia/MTC/github/travel-model-two-networks\"\n",
    "input_dir = os.path.join(root_dir, 'data', 'processed', 'version_03')\n",
    "output_dir = input_dir\n",
    "lasso_dir = \"Z:/Data/Users/Sijia/MTC/github/Lasso\""
   ]
  },
  {
   "cell_type": "code",
   "execution_count": 5,
   "metadata": {},
   "outputs": [
    {
     "name": "stdout",
     "output_type": "stream",
     "text": [
      "2020-12-07 11:09:44, INFO: Lasso base directory set as: Z:/Data/Users/Sijia/MTC/github/Lasso\n",
      "2020-12-07 11:09:44, INFO: Lasso base directory set as: Z:/Data/Users/Sijia/MTC/github/Lasso\n"
     ]
    }
   ],
   "source": [
    "parameters = Parameters(lasso_base_dir = lasso_dir)"
   ]
  },
  {
   "cell_type": "markdown",
   "metadata": {},
   "source": [
    "## Data Reads"
   ]
  },
  {
   "cell_type": "code",
   "execution_count": 6,
   "metadata": {},
   "outputs": [
    {
     "name": "stdout",
     "output_type": "stream",
     "text": [
      "2020-12-07 11:09:48, INFO: Reading from following files:\n",
      "-Z:/Data/Users/Sijia/MTC/github/travel-model-two-networks\\data\\processed\\version_03\\link.json\n",
      "-Z:/Data/Users/Sijia/MTC/github/travel-model-two-networks\\data\\processed\\version_03\\node.geojson\n",
      "-Z:/Data/Users/Sijia/MTC/github/travel-model-two-networks\\data\\processed\\version_03\\shape.geojson.\n",
      "2020-12-07 11:09:48, INFO: Reading from following files:\n",
      "-Z:/Data/Users/Sijia/MTC/github/travel-model-two-networks\\data\\processed\\version_03\\link.json\n",
      "-Z:/Data/Users/Sijia/MTC/github/travel-model-two-networks\\data\\processed\\version_03\\node.geojson\n",
      "-Z:/Data/Users/Sijia/MTC/github/travel-model-two-networks\\data\\processed\\version_03\\shape.geojson.\n",
      "2020-12-07 11:13:32, INFO: Read 1634769 links from Z:/Data/Users/Sijia/MTC/github/travel-model-two-networks\\data\\processed\\version_03\\link.json\n",
      "2020-12-07 11:13:32, INFO: Read 1634769 links from Z:/Data/Users/Sijia/MTC/github/travel-model-two-networks\\data\\processed\\version_03\\link.json\n",
      "2020-12-07 11:13:32, INFO: Read 644475 nodes from Z:/Data/Users/Sijia/MTC/github/travel-model-two-networks\\data\\processed\\version_03\\node.geojson\n",
      "2020-12-07 11:13:32, INFO: Read 644475 nodes from Z:/Data/Users/Sijia/MTC/github/travel-model-two-networks\\data\\processed\\version_03\\node.geojson\n",
      "2020-12-07 11:13:32, INFO: Read 869970 shapes from Z:/Data/Users/Sijia/MTC/github/travel-model-two-networks\\data\\processed\\version_03\\shape.geojson\n",
      "2020-12-07 11:13:32, INFO: Read 869970 shapes from Z:/Data/Users/Sijia/MTC/github/travel-model-two-networks\\data\\processed\\version_03\\shape.geojson\n"
     ]
    }
   ],
   "source": [
    "link_file = os.path.join(input_dir, 'link.json')\n",
    "node_file = os.path.join(input_dir, 'node.geojson')\n",
    "shape_file = os.path.join(input_dir, 'shape.geojson')\n",
    "\n",
    "roadway_net = RoadwayNetwork.read(\n",
    "    link_file = link_file, \n",
    "    node_file = node_file, \n",
    "    shape_file = shape_file\n",
    ")"
   ]
  },
  {
   "cell_type": "markdown",
   "metadata": {},
   "source": [
    "*Please note*: a third party library is used to read in the GTFS feed and it will generate warnings such as, `INFO: Removing calendar.txt from transit network config because file not found`. These warnings can be ignored, as the standard Network Wrangler transit network does not need these files. "
   ]
  },
  {
   "cell_type": "code",
   "execution_count": 7,
   "metadata": {},
   "outputs": [
    {
     "name": "stdout",
     "output_type": "stream",
     "text": [
      "2020-12-07 11:18:07, INFO: Read in transit feed from: Z:/Data/Users/Sijia/MTC/github/travel-model-two-networks\\data\\processed\\version_03\n",
      "2020-12-07 11:18:07, INFO: Read in transit feed from: Z:/Data/Users/Sijia/MTC/github/travel-model-two-networks\\data\\processed\\version_03\n",
      "2020-12-07 11:18:07, INFO: Removing calendar.txt from transit network config because file not found\n",
      "2020-12-07 11:18:07, INFO: Removing calendar.txt from transit network config because file not found\n",
      "2020-12-07 11:18:07, INFO: Removing calendar_dates.txt from transit network config because file not found\n",
      "2020-12-07 11:18:07, INFO: Removing calendar_dates.txt from transit network config because file not found\n",
      "2020-12-07 11:18:09, INFO: Removing fare_attributes.txt from transit network config because file not found\n",
      "2020-12-07 11:18:09, INFO: Removing fare_attributes.txt from transit network config because file not found\n",
      "2020-12-07 11:18:09, INFO: Removing fare_rules.txt from transit network config because file not found\n",
      "2020-12-07 11:18:09, INFO: Removing fare_rules.txt from transit network config because file not found\n",
      "2020-12-07 11:18:10, INFO: Removing transfers.txt from transit network config because file not found\n",
      "2020-12-07 11:18:10, INFO: Removing transfers.txt from transit network config because file not found\n",
      "2020-12-07 11:18:10, INFO: Removing feed_info.txt from transit network config because file not found\n",
      "2020-12-07 11:18:10, INFO: Removing feed_info.txt from transit network config because file not found\n",
      "2020-12-07 11:18:10, WARNING: The following stop_ids from are referenced but missing from stops.txt: ['place_BYBA', 'place_BDBL', 'place_12BD', 'ctbl', 'place_HRSH', 'ctssf', 'ctmh', 'place_4SSP', 'ct22', 'place_DBBA', 'ctbe', 'ctsb', 'ctmv', 'place_NAMO', 'place_PSOT', 'place_FBBA', 'place_CCCO', 'place_HBBA', 'place_EBBA', 'ctsmat', 'ctsmar', 'place_11BD', 'place_FRBA', 'place_FVMA', 'ctsa', 'ctsf', 'place_HIWY', 'ctsj', 'place_WOBA', 'place_NEPA', 'place_HPNR', 'place_CBBA', 'place_SHBA', 'place_SMSE', 'ctmi', 'ctcap', 'cthi', 'ctrwc', 'place_ROBA', 'place_11JE', 'place_ETSF', 'place_BNTE', 'place_SNCO', 'ctca', 'ctha', 'ctbu', 'ctla', 'place_14BD', 'ctmp', 'ctpa', 'ctgi', 'ctco', 'place_MBLS', 'ctsc', 'ctsu', 'ctba', 'place_MOME', 'place_SHDF', 'place_TAPI', 'place_CSSH', 'ctta', 'ctscl', 'place_90MA', 'place_PAHE', 'place_CVBA', 'place_CHCO']\n",
      "2020-12-07 11:18:10, WARNING: The following stop_ids from are referenced but missing from stops.txt: ['place_BYBA', 'place_BDBL', 'place_12BD', 'ctbl', 'place_HRSH', 'ctssf', 'ctmh', 'place_4SSP', 'ct22', 'place_DBBA', 'ctbe', 'ctsb', 'ctmv', 'place_NAMO', 'place_PSOT', 'place_FBBA', 'place_CCCO', 'place_HBBA', 'place_EBBA', 'ctsmat', 'ctsmar', 'place_11BD', 'place_FRBA', 'place_FVMA', 'ctsa', 'ctsf', 'place_HIWY', 'ctsj', 'place_WOBA', 'place_NEPA', 'place_HPNR', 'place_CBBA', 'place_SHBA', 'place_SMSE', 'ctmi', 'ctcap', 'cthi', 'ctrwc', 'place_ROBA', 'place_11JE', 'place_ETSF', 'place_BNTE', 'place_SNCO', 'ctca', 'ctha', 'ctbu', 'ctla', 'place_14BD', 'ctmp', 'ctpa', 'ctgi', 'ctco', 'place_MBLS', 'ctsc', 'ctsu', 'ctba', 'place_MOME', 'place_SHDF', 'place_TAPI', 'place_CSSH', 'ctta', 'ctscl', 'place_90MA', 'place_PAHE', 'place_CVBA', 'place_CHCO']\n"
     ]
    }
   ],
   "source": [
    "transit_net = TransitNetwork.read(feed_path = input_dir)"
   ]
  },
  {
   "cell_type": "markdown",
   "metadata": {},
   "source": [
    "## Attribute the Network"
   ]
  },
  {
   "cell_type": "code",
   "execution_count": 8,
   "metadata": {},
   "outputs": [
    {
     "name": "stdout",
     "output_type": "stream",
     "text": [
      "2020-12-07 11:22:27, INFO: Determining number of lanes\n",
      "2020-12-07 11:22:27, INFO: Determining number of lanes\n",
      "2020-12-07 11:22:27, INFO: Lasso base directory set as: Z:/Data/Users/Sijia/MTC/github/Lasso\n",
      "2020-12-07 11:22:27, INFO: Lasso base directory set as: Z:/Data/Users/Sijia/MTC/github/Lasso\n",
      "2020-12-07 11:27:29, INFO: Finished determining number of lanes using variable: lanes\n",
      "2020-12-07 11:27:29, INFO: Finished determining number of lanes using variable: lanes\n"
     ]
    },
    {
     "data": {
      "text/plain": [
       "1    1486397\n",
       "2     104207\n",
       "3      22455\n",
       "4      14124\n",
       "5       6504\n",
       "6        929\n",
       "7        134\n",
       "8         18\n",
       "9          1\n",
       "Name: lanes, dtype: int64"
      ]
     },
     "execution_count": 8,
     "metadata": {},
     "output_type": "execute_result"
    }
   ],
   "source": [
    "r_net = mtc.determine_number_of_lanes(\n",
    "    roadway_network = roadway_net,\n",
    "    parameters = parameters,\n",
    "    network_variable = 'lanes'\n",
    ")\n",
    "\n",
    "r_net.links_df.lanes.value_counts()"
   ]
  },
  {
   "cell_type": "code",
   "execution_count": 9,
   "metadata": {},
   "outputs": [
    {
     "name": "stdout",
     "output_type": "stream",
     "text": [
      "2020-12-07 11:40:22, INFO: Calculating Facility Type\n",
      "2020-12-07 11:40:22, INFO: Calculating Facility Type\n",
      "2020-12-07 11:40:22, INFO: Lasso base directory set as: Z:/Data/Users/Sijia/MTC/github/Lasso\n",
      "2020-12-07 11:40:22, INFO: Lasso base directory set as: Z:/Data/Users/Sijia/MTC/github/Lasso\n",
      "2020-12-07 11:42:42, INFO: Finished calculating roadway class variable: ft\n",
      "2020-12-07 11:42:42, INFO: Finished calculating roadway class variable: ft\n"
     ]
    },
    {
     "data": {
      "text/plain": [
       "99    890153\n",
       "7     538666\n",
       "6      96883\n",
       "5      58344\n",
       "4      38332\n",
       "3       6365\n",
       "2       3252\n",
       "1       2774\n",
       "Name: ft, dtype: int64"
      ]
     },
     "execution_count": 9,
     "metadata": {},
     "output_type": "execute_result"
    }
   ],
   "source": [
    "r_net = mtc.calculate_facility_type(\n",
    "    roadway_network = r_net,\n",
    "    parameters = parameters,\n",
    "    network_variable = 'ft')\n",
    "\n",
    "r_net.links_df.ft.value_counts()"
   ]
  },
  {
   "cell_type": "code",
   "execution_count": 10,
   "metadata": {},
   "outputs": [
    {
     "name": "stdout",
     "output_type": "stream",
     "text": [
      "2020-12-07 11:43:34, INFO: Determining useclass\n",
      "2020-12-07 11:43:34, INFO: Determining useclass\n",
      "2020-12-07 11:43:34, INFO: Lasso base directory set as: Z:/Data/Users/Sijia/MTC/github/Lasso\n",
      "2020-12-07 11:43:34, INFO: Lasso base directory set as: Z:/Data/Users/Sijia/MTC/github/Lasso\n",
      "2020-12-07 11:43:34, INFO: Calculating and adding roadway network variable: useclass\n",
      "2020-12-07 11:43:34, INFO: Calculating and adding roadway network variable: useclass\n",
      "2020-12-07 11:43:34, INFO: Finished determining variable: useclass\n",
      "2020-12-07 11:43:34, INFO: Finished determining variable: useclass\n"
     ]
    },
    {
     "data": {
      "text/plain": [
       "0    1634769\n",
       "Name: useclass, dtype: int64"
      ]
     },
     "execution_count": 10,
     "metadata": {},
     "output_type": "execute_result"
    }
   ],
   "source": [
    "r_net = mtc.calculate_useclass(\n",
    "    roadway_network = r_net,\n",
    "    parameters = parameters,\n",
    "    network_variable = 'useclass')\n",
    "\n",
    "r_net.links_df.useclass.value_counts()"
   ]
  },
  {
   "cell_type": "code",
   "execution_count": 11,
   "metadata": {},
   "outputs": [
    {
     "name": "stdout",
     "output_type": "stream",
     "text": [
      "2020-12-07 11:43:37, INFO: Determining assignable\n",
      "2020-12-07 11:43:37, INFO: Determining assignable\n",
      "2020-12-07 11:43:37, INFO: Lasso base directory set as: Z:/Data/Users/Sijia/MTC/github/Lasso\n",
      "2020-12-07 11:43:37, INFO: Lasso base directory set as: Z:/Data/Users/Sijia/MTC/github/Lasso\n",
      "2020-12-07 11:43:38, INFO: Calculating and adding roadway network variable: assignable\n",
      "2020-12-07 11:43:38, INFO: Calculating and adding roadway network variable: assignable\n",
      "2020-12-07 11:43:49, INFO: Finished determining assignable using variable: assignable\n",
      "2020-12-07 11:43:49, INFO: Finished determining assignable using variable: assignable\n"
     ]
    },
    {
     "data": {
      "text/plain": [
       "1.0    695049\n",
       "0.0     57163\n",
       "Name: assignable, dtype: int64"
      ]
     },
     "execution_count": 11,
     "metadata": {},
     "output_type": "execute_result"
    }
   ],
   "source": [
    "r_net = mtc.calculate_assignable(\n",
    "    roadway_network = r_net,\n",
    "    parameters = parameters,\n",
    "    network_variable = 'assignable')\n",
    "\n",
    "r_net.links_df.assignable.value_counts()"
   ]
  },
  {
   "cell_type": "code",
   "execution_count": 12,
   "metadata": {},
   "outputs": [
    {
     "name": "stdout",
     "output_type": "stream",
     "text": [
      "2020-12-07 11:43:51, INFO: Determining transit\n",
      "2020-12-07 11:43:51, INFO: Determining transit\n",
      "2020-12-07 11:43:51, INFO: Lasso base directory set as: Z:/Data/Users/Sijia/MTC/github/Lasso\n",
      "2020-12-07 11:43:51, INFO: Lasso base directory set as: Z:/Data/Users/Sijia/MTC/github/Lasso\n",
      "2020-12-07 11:43:51, INFO: Calculating and adding roadway network variable: transit\n",
      "2020-12-07 11:43:51, INFO: Calculating and adding roadway network variable: transit\n",
      "2020-12-07 11:43:51, INFO: Finished determining transit-only variable: transit\n",
      "2020-12-07 11:43:51, INFO: Finished determining transit-only variable: transit\n"
     ]
    },
    {
     "data": {
      "text/plain": [
       "0    1634030\n",
       "1        739\n",
       "Name: transit, dtype: int64"
      ]
     },
     "execution_count": 12,
     "metadata": {},
     "output_type": "execute_result"
    }
   ],
   "source": [
    "r_net = mtc.calculate_transit(\n",
    "    roadway_network = r_net,\n",
    "    parameters = parameters,\n",
    "    network_variable = 'transit')\n",
    "\n",
    "r_net.links_df.transit.value_counts()"
   ]
  },
  {
   "cell_type": "markdown",
   "metadata": {},
   "source": [
    "## Create a Scenario"
   ]
  },
  {
   "cell_type": "code",
   "execution_count": 13,
   "metadata": {},
   "outputs": [
    {
     "name": "stdout",
     "output_type": "stream",
     "text": [
      "2020-12-07 11:43:55, INFO: Creating Scenario\n",
      "2020-12-07 11:43:55, INFO: Creating Scenario\n"
     ]
    }
   ],
   "source": [
    "base_scenario = {\"road_net\": r_net, \"transit_net\": transit_net}\n",
    "working_scenario = Scenario.create_scenario(base_scenario = base_scenario)"
   ]
  },
  {
   "cell_type": "markdown",
   "metadata": {},
   "source": [
    "## Write to Disk"
   ]
  },
  {
   "cell_type": "code",
   "execution_count": 14,
   "metadata": {},
   "outputs": [],
   "source": [
    "working_scenario_filename = os.path.join(output_dir, 'working_scenario_00.pickle')\n",
    "pickle.dump(working_scenario, open(working_scenario_filename, 'wb'))"
   ]
  },
  {
   "cell_type": "code",
   "execution_count": null,
   "metadata": {},
   "outputs": [],
   "source": []
  }
 ],
 "metadata": {
  "kernelspec": {
   "display_name": "Python 3",
   "language": "python",
   "name": "python3"
  },
  "language_info": {
   "codemirror_mode": {
    "name": "ipython",
    "version": 3
   },
   "file_extension": ".py",
   "mimetype": "text/x-python",
   "name": "python",
   "nbconvert_exporter": "python",
   "pygments_lexer": "ipython3",
   "version": "3.7.9"
  }
 },
 "nbformat": 4,
 "nbformat_minor": 4
}
