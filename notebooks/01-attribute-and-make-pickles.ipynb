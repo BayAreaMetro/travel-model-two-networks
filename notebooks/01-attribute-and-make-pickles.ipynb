{
 "cells": [
  {
   "cell_type": "markdown",
   "metadata": {},
   "source": [
    "# 01 Attribute Network and Make Scenario Pickle"
   ]
  },
  {
   "cell_type": "code",
   "execution_count": 1,
   "metadata": {},
   "outputs": [],
   "source": [
    "import os\n",
    "import sys\n",
    "import yaml\n",
    "\n",
    "import pandas as pd\n",
    "\n",
    "# https://github.com/BayAreaMetro/network_wrangler/tree/generic_agency\n",
    "from network_wrangler import RoadwayNetwork\n",
    "from network_wrangler import TransitNetwork\n",
    "from network_wrangler import ProjectCard\n",
    "from network_wrangler import Scenario\n",
    "from network_wrangler import WranglerLogger\n",
    "\n",
    "# https://github.com/BayAreaMetro/Lasso/tree/mtc_parameters\n",
    "from lasso import ModelRoadwayNetwork\n",
    "from lasso import StandardTransit\n",
    "from lasso import Parameters\n",
    "from lasso import mtc\n",
    "\n",
    "import pickle"
   ]
  },
  {
   "cell_type": "code",
   "execution_count": 2,
   "metadata": {},
   "outputs": [],
   "source": [
    "# Reload all modules (except those excluded by %aimport) every time before executing the Python code typed.\n",
    "# Note: this can cause the pickle.dump to fail with\n",
    "# PicklingError: Can't pickle <class 'network_wrangler.transitnetwork.DotDict'>: \n",
    "# it's not the same object as network_wrangler.transitnetwork.DotDict\n",
    "%load_ext autoreload\n",
    "%autoreload 2"
   ]
  },
  {
   "cell_type": "markdown",
   "metadata": {},
   "source": [
    "## Remote I/O"
   ]
  },
  {
   "cell_type": "code",
   "execution_count": 3,
   "metadata": {},
   "outputs": [],
   "source": [
    "# input directories - use Box\n",
    "TM2_REBUILD_BOX_DIR      = r\"C:\\Users\\{}\\Box\\Modeling and Surveys\\Development\\Travel Model Two Development\\Travel Model Two Network Rebuild\".format(os.getenv('USERNAME'))\n",
    "TM2_NETWORKS_DATA_DIR    = os.path.join(TM2_REBUILD_BOX_DIR,    \"travel-model-two-networks\", \"data\")\n",
    "input_data_interim_dir   = os.path.join(TM2_NETWORKS_DATA_DIR,  \"interim\")\n",
    "input_data_processed_dir = os.path.join(TM2_NETWORKS_DATA_DIR,  \"processed\", \"version_12\")\n",
    "input_data_external_dir  = os.path.join(TM2_NETWORKS_DATA_DIR,  \"external\")\n",
    "\n",
    "# Lasso\n",
    "LASSO_DIR               = 'C:/Users/{}/Documents/GitHub/Lasso'.format(os.getenv('USERNAME'))"
   ]
  },
  {
   "cell_type": "code",
   "execution_count": 4,
   "metadata": {},
   "outputs": [],
   "source": [
    "# output folders - use local, most likely\n",
    "output_dir = r\"C:\\Users\\{}\\Documents\\scratch\\tm2_network_building\\processed\\version_12\".format(os.getenv('USERNAME'))"
   ]
  },
  {
   "cell_type": "code",
   "execution_count": 5,
   "metadata": {},
   "outputs": [
    {
     "name": "stdout",
     "output_type": "stream",
     "text": [
      "2022-01-13 14:45:29, INFO: Lasso base directory set as: C:/Users/lzorn/Documents/GitHub/Lasso\n",
      "2022-01-13 14:45:29, INFO: Lasso base directory set as: C:/Users/lzorn/Documents/GitHub/Lasso\n"
     ]
    }
   ],
   "source": [
    "parameters = Parameters(lasso_base_dir = LASSO_DIR)"
   ]
  },
  {
   "cell_type": "markdown",
   "metadata": {},
   "source": [
    "## Data Reads"
   ]
  },
  {
   "cell_type": "code",
   "execution_count": 6,
   "metadata": {},
   "outputs": [
    {
     "name": "stdout",
     "output_type": "stream",
     "text": [
      "2022-01-13 14:45:29, INFO: Reading RoadwayNetwork\n",
      "2022-01-13 14:50:03, INFO: Read 1634790 links from C:\\Users\\lzorn\\Box\\Modeling and Surveys\\Development\\Travel Model Two Development\\Travel Model Two Network Rebuild\\travel-model-two-networks\\data\\interim\\step8_standard_format\\link.json\n",
      "2022-01-13 14:50:03, INFO: Read 644480 nodes from C:\\Users\\lzorn\\Box\\Modeling and Surveys\\Development\\Travel Model Two Development\\Travel Model Two Network Rebuild\\travel-model-two-networks\\data\\interim\\step8_standard_format\\node.geojson\n",
      "2022-01-13 14:50:03, INFO: Read 869986 shapes from C:\\Users\\lzorn\\Box\\Modeling and Surveys\\Development\\Travel Model Two Development\\Travel Model Two Network Rebuild\\travel-model-two-networks\\data\\interim\\step8_standard_format\\shape.geojson\n",
      "Wall time: 11min 32s\n"
     ]
    }
   ],
   "source": [
    "%%time\n",
    "# Wall time: ~10min\n",
    "\n",
    "# These are zipped in [input_data_processed_dir]\\standard_roadway_pre_base_project_cards\n",
    "# So used unzipped copy in interim dir\n",
    "link_file  = os.path.join(input_data_interim_dir,'step8_standard_format','link.json')\n",
    "node_file  = os.path.join(input_data_interim_dir,'step8_standard_format','node.geojson')\n",
    "shape_file = os.path.join(input_data_interim_dir,'step8_standard_format','shape.geojson')\n",
    "\n",
    "roadway_net = RoadwayNetwork.read(\n",
    "    link_filename = link_file, \n",
    "    node_filename = node_file, \n",
    "    shape_filename = shape_file\n",
    ")"
   ]
  },
  {
   "cell_type": "code",
   "execution_count": 7,
   "metadata": {},
   "outputs": [
    {
     "data": {
      "text/plain": [
       "88233     1004047\n",
       "818710    1024160\n",
       "Name: A, dtype: int64"
      ]
     },
     "execution_count": 7,
     "metadata": {},
     "output_type": "execute_result"
    }
   ],
   "source": [
    "roadway_net.links_df[\n",
    "    roadway_net.links_df.model_link_id.isin([4166,38545])].A"
   ]
  },
  {
   "cell_type": "code",
   "execution_count": 8,
   "metadata": {},
   "outputs": [
    {
     "data": {
      "text/plain": [
       "1634790"
      ]
     },
     "execution_count": 8,
     "metadata": {},
     "output_type": "execute_result"
    }
   ],
   "source": [
    "roadway_net.links_df.model_link_id.nunique()"
   ]
  },
  {
   "cell_type": "markdown",
   "metadata": {},
   "source": [
    "*Please note*: a third party library is used to read in the GTFS feed and it will generate warnings such as, `INFO: Removing calendar.txt from transit network config because file not found`. These warnings can be ignored, as the standard Network Wrangler transit network does not need these files. "
   ]
  },
  {
   "cell_type": "code",
   "execution_count": 9,
   "metadata": {},
   "outputs": [
    {
     "name": "stdout",
     "output_type": "stream",
     "text": [
      "2022-01-13 14:57:03, INFO: Read in transit feed from: C:\\Users\\lzorn\\Box\\Modeling and Surveys\\Development\\Travel Model Two Development\\Travel Model Two Network Rebuild\\travel-model-two-networks\\data\\processed\\version_12\\standard_transit_pre_base_project_cards\n",
      "pruning routes.txt\n",
      "pruning agency.txt\n",
      "pruning routes.txt\n",
      "pruning agency.txt\n",
      "pruning calendar.txt\n",
      "pruning calendar.txt\n",
      "2022-01-13 14:57:03, INFO: Removing calendar.txt from transit network config because file not found\n",
      "pruning calendar_dates.txt\n",
      "pruning calendar_dates.txt\n",
      "2022-01-13 14:57:03, INFO: Removing calendar_dates.txt from transit network config because file not found\n",
      "pruning stop_times.txt\n",
      "pruning stops.txt\n",
      "Pruned stops.txt based on stop_id from 22153 rows to 21881 rows\n",
      "pruning fare_rules.txt\n",
      "Pruned fare_rules.txt based on origin_id from 3249 rows to 3162 rows\n",
      "pruning fare_rules.txt\n",
      "Pruned fare_rules.txt based on destination_id from 3162 rows to 3111 rows\n",
      "pruning fare_rules.txt\n",
      "pruning fare_rules.txt\n",
      "Pruned fare_rules.txt based on route_id from 3111 rows to 119 rows\n",
      "pruning fare_attributes.txt\n",
      "Pruned fare_attributes.txt based on fare_id from 805 rows to 29 rows\n",
      "pruning stop_times.txt\n",
      "pruning stops.txt\n",
      "pruning fare_rules.txt\n",
      "pruning fare_rules.txt\n",
      "pruning fare_rules.txt\n",
      "pruning fare_rules.txt\n",
      "pruning fare_attributes.txt\n",
      "pruning frequencies.txt\n",
      "pruning frequencies.txt\n",
      "pruning shapes.txt\n",
      "pruning shapes.txt\n",
      "pruning transfers.txt\n",
      "pruning transfers.txt\n",
      "pruning transfers.txt\n",
      "pruning transfers.txt\n",
      "2022-01-13 14:57:08, INFO: Removing transfers.txt from transit network config because file not found\n",
      "2022-01-13 14:57:08, INFO: Removing feed_info.txt from transit network config because file not found\n",
      "2022-01-13 14:57:08, WARNING: The following stop_ids from are referenced but missing from stops.txt: ['ctcap', 'place_BDBL', 'ctba', 'ctsb', 'ctsj', 'place_HBBA', 'ctha', 'place_NAMO', 'place_4SSP', 'place_MOME', 'ctca', 'ctmv', 'ctco', 'place_CBBA', 'ctscl', 'place_MBLS', 'place_CSSH', 'place_PSOT', 'ctmh', 'ctbl', 'place_PAHE', 'ctbe', 'place_CVBA', 'place_BNTE', 'place_WOBA', 'ctsmat', 'place_SMSE', 'place_BYBA', 'place_SNCO', 'place_11JE', 'place_HPNR', 'place_FBBA', 'place_90MA', 'ctsu', 'ctgi', 'place_SHDF', 'place_CHCO', 'ctsc', 'ctrwc', 'place_14BD', 'ctta', 'place_NEPA', 'place_FVMA', 'ctla', 'place_ROBA', 'ctsa', 'place_HIWY', 'place_12BD', 'ctbu', 'ct22', 'ctmp', 'place_FRBA', 'cthi', 'ctsf', 'place_11BD', 'ctssf', 'ctmi', 'ctsmar', 'place_HRSH', 'place_CCCO', 'ctpa', 'place_EBBA', 'place_SHBA', 'place_ETSF', 'place_DBBA', 'place_TAPI']\n"
     ]
    }
   ],
   "source": [
    "transit_net = TransitNetwork.read(feed_path = os.path.join(input_data_processed_dir, \n",
    "                                                           'standard_transit_pre_base_project_cards'))"
   ]
  },
  {
   "cell_type": "code",
   "execution_count": 10,
   "metadata": {},
   "outputs": [
    {
     "data": {
      "text/plain": [
       "(3249, 7)"
      ]
     },
     "execution_count": 10,
     "metadata": {},
     "output_type": "execute_result"
    }
   ],
   "source": [
    "transit_net.feed.fare_rules.shape"
   ]
  },
  {
   "cell_type": "code",
   "execution_count": 11,
   "metadata": {},
   "outputs": [
    {
     "data": {
      "text/plain": [
       "(805, 8)"
      ]
     },
     "execution_count": 11,
     "metadata": {},
     "output_type": "execute_result"
    }
   ],
   "source": [
    "transit_net.feed.fare_attributes.shape"
   ]
  },
  {
   "cell_type": "markdown",
   "metadata": {},
   "source": [
    "## Attribute the Network"
   ]
  },
  {
   "cell_type": "code",
   "execution_count": 12,
   "metadata": {},
   "outputs": [
    {
     "name": "stdout",
     "output_type": "stream",
     "text": [
      "2022-01-13 14:57:09, INFO: Determining number of lanes\n",
      "2022-01-13 14:57:09, INFO: Lasso base directory set as: C:/Users/lzorn/Documents/GitHub/Lasso\n",
      "2022-01-13 14:57:09, INFO: Lasso base directory set as: C:/Users/lzorn/Documents/GitHub/Lasso\n",
      "2022-01-13 15:02:22, INFO: Finished determining number of lanes using variable: lanes\n",
      "Wall time: 5min 13s\n"
     ]
    },
    {
     "data": {
      "text/plain": [
       "1    1486418\n",
       "2     104207\n",
       "3      22455\n",
       "4      14124\n",
       "5       6504\n",
       "6        929\n",
       "7        134\n",
       "8         18\n",
       "9          1\n",
       "Name: lanes, dtype: int64"
      ]
     },
     "execution_count": 12,
     "metadata": {},
     "output_type": "execute_result"
    }
   ],
   "source": [
    "%%time\n",
    "# Wall time: ~5min\n",
    "r_net = mtc.determine_number_of_lanes(\n",
    "    roadway_network = roadway_net,\n",
    "    parameters = parameters,\n",
    "    network_variable = 'lanes'\n",
    ")\n",
    "\n",
    "r_net.links_df.lanes.value_counts()"
   ]
  },
  {
   "cell_type": "code",
   "execution_count": 13,
   "metadata": {},
   "outputs": [
    {
     "name": "stdout",
     "output_type": "stream",
     "text": [
      "2022-01-13 15:02:23, INFO: Calculating Facility Type\n",
      "2022-01-13 15:02:23, INFO: Lasso base directory set as: C:/Users/lzorn/Documents/GitHub/Lasso\n",
      "2022-01-13 15:02:23, INFO: Lasso base directory set as: C:/Users/lzorn/Documents/GitHub/Lasso\n",
      "2022-01-13 15:04:59, INFO: Finished calculating roadway class variable: ft\n"
     ]
    },
    {
     "data": {
      "text/plain": [
       "99    890174\n",
       "7     538666\n",
       "6      96883\n",
       "5      58344\n",
       "4      38332\n",
       "3       6365\n",
       "2       3252\n",
       "1       2774\n",
       "Name: ft, dtype: int64"
      ]
     },
     "execution_count": 13,
     "metadata": {},
     "output_type": "execute_result"
    }
   ],
   "source": [
    "r_net = mtc.calculate_facility_type(\n",
    "    roadway_network = r_net,\n",
    "    parameters = parameters,\n",
    "    network_variable = 'ft')\n",
    "\n",
    "r_net.links_df.ft.value_counts()"
   ]
  },
  {
   "cell_type": "code",
   "execution_count": 14,
   "metadata": {},
   "outputs": [
    {
     "name": "stdout",
     "output_type": "stream",
     "text": [
      "2022-01-13 15:05:00, INFO: Determining useclass\n",
      "2022-01-13 15:05:00, INFO: Lasso base directory set as: C:/Users/lzorn/Documents/GitHub/Lasso\n",
      "2022-01-13 15:05:00, INFO: Lasso base directory set as: C:/Users/lzorn/Documents/GitHub/Lasso\n",
      "2022-01-13 15:05:00, INFO: Calculating and adding roadway network variable: useclass\n",
      "2022-01-13 15:05:00, INFO: Finished determining variable: useclass\n"
     ]
    },
    {
     "data": {
      "text/plain": [
       "0    1634790\n",
       "Name: useclass, dtype: int64"
      ]
     },
     "execution_count": 14,
     "metadata": {},
     "output_type": "execute_result"
    }
   ],
   "source": [
    "r_net = mtc.calculate_useclass(\n",
    "    roadway_network = r_net,\n",
    "    parameters = parameters,\n",
    "    network_variable = 'useclass')\n",
    "\n",
    "r_net.links_df.useclass.value_counts()"
   ]
  },
  {
   "cell_type": "code",
   "execution_count": 15,
   "metadata": {},
   "outputs": [
    {
     "name": "stdout",
     "output_type": "stream",
     "text": [
      "2022-01-13 15:05:00, INFO: Determining assignable\n",
      "2022-01-13 15:05:00, INFO: Lasso base directory set as: C:/Users/lzorn/Documents/GitHub/Lasso\n",
      "2022-01-13 15:05:00, INFO: Lasso base directory set as: C:/Users/lzorn/Documents/GitHub/Lasso\n",
      "2022-01-13 15:05:00, INFO: Calculating and adding roadway network variable: assignable\n",
      "2022-01-13 15:05:10, INFO: Finished determining assignable using variable: assignable\n"
     ]
    },
    {
     "data": {
      "text/plain": [
       "0.0    1245221\n",
       "1.0     388313\n",
       "Name: assignable, dtype: int64"
      ]
     },
     "execution_count": 15,
     "metadata": {},
     "output_type": "execute_result"
    }
   ],
   "source": [
    "r_net = mtc.calculate_assignable(\n",
    "    roadway_network = r_net,\n",
    "    parameters = parameters,\n",
    "    network_variable = 'assignable')\n",
    "\n",
    "r_net.links_df.assignable.value_counts()"
   ]
  },
  {
   "cell_type": "code",
   "execution_count": 16,
   "metadata": {},
   "outputs": [
    {
     "name": "stdout",
     "output_type": "stream",
     "text": [
      "2022-01-13 15:05:11, INFO: Determining transit\n",
      "2022-01-13 15:05:11, INFO: Lasso base directory set as: C:/Users/lzorn/Documents/GitHub/Lasso\n",
      "2022-01-13 15:05:11, INFO: Lasso base directory set as: C:/Users/lzorn/Documents/GitHub/Lasso\n",
      "2022-01-13 15:05:11, INFO: Calculating and adding roadway network variable: transit\n",
      "2022-01-13 15:05:11, INFO: Finished determining transit-only variable: transit\n"
     ]
    },
    {
     "data": {
      "text/plain": [
       "0    1634040\n",
       "1        750\n",
       "Name: transit, dtype: int64"
      ]
     },
     "execution_count": 16,
     "metadata": {},
     "output_type": "execute_result"
    }
   ],
   "source": [
    "r_net = mtc.calculate_transit(\n",
    "    roadway_network = r_net,\n",
    "    parameters = parameters,\n",
    "    network_variable = 'transit')\n",
    "\n",
    "r_net.links_df.transit.value_counts()"
   ]
  },
  {
   "cell_type": "code",
   "execution_count": 17,
   "metadata": {},
   "outputs": [
    {
     "name": "stdout",
     "output_type": "stream",
     "text": [
      "<class 'pandas.core.frame.DataFrame'>\n",
      "RangeIndex: 21881 entries, 0 to 21880\n",
      "Data columns (total 20 columns):\n",
      " #   Column               Non-Null Count  Dtype  \n",
      "---  ------               --------------  -----  \n",
      " 0   stop_name            21881 non-null  object \n",
      " 1   stop_lat             21881 non-null  float64\n",
      " 2   stop_lon             21881 non-null  float64\n",
      " 3   zone_id              8233 non-null   object \n",
      " 4   agency_raw_name      21881 non-null  object \n",
      " 5   stop_code            15289 non-null  object \n",
      " 6   location_type        5475 non-null   float64\n",
      " 7   parent_station       249 non-null    object \n",
      " 8   stop_desc            409 non-null    object \n",
      " 9   stop_url             261 non-null    object \n",
      " 10  stop_timezone        126 non-null    object \n",
      " 11  wheelchair_boarding  377 non-null    float64\n",
      " 12  platform_code        52 non-null     object \n",
      " 13  position             0 non-null      object \n",
      " 14  direction            0 non-null      object \n",
      " 15  * used by routes     124 non-null    object \n",
      " 16  stop_id              21881 non-null  object \n",
      " 17  osm_node_id          21212 non-null  object \n",
      " 18  shst_node_id         21212 non-null  object \n",
      " 19  model_node_id        21881 non-null  object \n",
      "dtypes: float64(4), object(16)\n",
      "memory usage: 3.3+ MB\n"
     ]
    }
   ],
   "source": [
    "transit_net.feed.stops.info()"
   ]
  },
  {
   "cell_type": "code",
   "execution_count": 18,
   "metadata": {},
   "outputs": [
    {
     "name": "stdout",
     "output_type": "stream",
     "text": [
      "<class 'pandas.core.frame.DataFrame'>\n",
      "RangeIndex: 3249 entries, 0 to 3248\n",
      "Data columns (total 7 columns):\n",
      " #   Column             Non-Null Count  Dtype  \n",
      "---  ------             --------------  -----  \n",
      " 0   fare_id            3249 non-null   object \n",
      " 1   route_id_original  586 non-null    object \n",
      " 2   agency_raw_name    3249 non-null   object \n",
      " 3   origin_id          2875 non-null   object \n",
      " 4   destination_id     2875 non-null   object \n",
      " 5   contains_id        19 non-null     object \n",
      " 6   route_id           492 non-null    float64\n",
      "dtypes: float64(1), object(6)\n",
      "memory usage: 177.8+ KB\n"
     ]
    }
   ],
   "source": [
    "transit_net.feed.fare_rules.info()"
   ]
  },
  {
   "cell_type": "code",
   "execution_count": 19,
   "metadata": {},
   "outputs": [
    {
     "name": "stdout",
     "output_type": "stream",
     "text": [
      "2022-01-13 15:05:12, INFO: Determining farezone\n",
      "2022-01-13 15:05:12, INFO: Lasso base directory set as: C:/Users/lzorn/Documents/GitHub/Lasso\n",
      "2022-01-13 15:05:12, INFO: Lasso base directory set as: C:/Users/lzorn/Documents/GitHub/Lasso\n",
      "2022-01-13 15:05:12, INFO: Calculating and adding roadway network variable: farezone\n",
      "2022-01-13 15:05:13, INFO: Finished determining variable: farezone\n"
     ]
    },
    {
     "data": {
      "text/plain": [
       "90.0     1532\n",
       "83.0      226\n",
       "72.0      208\n",
       "103.0     179\n",
       "95.0      130\n",
       "         ... \n",
       "70.0        1\n",
       "71.0        1\n",
       "73.0        1\n",
       "24.0        1\n",
       "32.0        1\n",
       "Name: farezone, Length: 120, dtype: int64"
      ]
     },
     "execution_count": 19,
     "metadata": {},
     "output_type": "execute_result"
    }
   ],
   "source": [
    "r_net = mtc.calculate_farezone(\n",
    "    roadway_network = r_net,\n",
    "    transit_network = transit_net,\n",
    "    parameters = parameters,\n",
    "    network_variable = 'farezone',\n",
    ")\n",
    "\n",
    "r_net.nodes_df.farezone.value_counts()"
   ]
  },
  {
   "cell_type": "code",
   "execution_count": 20,
   "metadata": {},
   "outputs": [
    {
     "data": {
      "text/plain": [
       "0"
      ]
     },
     "execution_count": 20,
     "metadata": {},
     "output_type": "execute_result"
    }
   ],
   "source": [
    "r_net.nodes_df.county.isnull().sum()"
   ]
  },
  {
   "cell_type": "code",
   "execution_count": 21,
   "metadata": {},
   "outputs": [
    {
     "data": {
      "text/plain": [
       "0"
      ]
     },
     "execution_count": 21,
     "metadata": {},
     "output_type": "execute_result"
    }
   ],
   "source": [
    "r_net.links_df.county.isnull().sum()"
   ]
  },
  {
   "cell_type": "markdown",
   "metadata": {},
   "source": [
    "## Create a Scenario"
   ]
  },
  {
   "cell_type": "code",
   "execution_count": 22,
   "metadata": {},
   "outputs": [
    {
     "name": "stdout",
     "output_type": "stream",
     "text": [
      "2022-01-13 15:05:15, INFO: Creating Scenario\n"
     ]
    }
   ],
   "source": [
    "base_scenario = {\"road_net\": r_net, \"transit_net\": transit_net}\n",
    "working_scenario = Scenario.create_scenario(base_scenario = base_scenario)"
   ]
  },
  {
   "cell_type": "markdown",
   "metadata": {},
   "source": [
    "## Write to Disk"
   ]
  },
  {
   "cell_type": "code",
   "execution_count": 23,
   "metadata": {},
   "outputs": [],
   "source": [
    "working_scenario_filename = os.path.join(output_dir, 'working_scenario_01.pickle')\n",
    "pickle.dump(working_scenario, open(working_scenario_filename, 'wb'))"
   ]
  },
  {
   "cell_type": "code",
   "execution_count": 24,
   "metadata": {},
   "outputs": [
    {
     "data": {
      "text/html": [
       "<div>\n",
       "<style scoped>\n",
       "    .dataframe tbody tr th:only-of-type {\n",
       "        vertical-align: middle;\n",
       "    }\n",
       "\n",
       "    .dataframe tbody tr th {\n",
       "        vertical-align: top;\n",
       "    }\n",
       "\n",
       "    .dataframe thead th {\n",
       "        text-align: right;\n",
       "    }\n",
       "</style>\n",
       "<table border=\"1\" class=\"dataframe\">\n",
       "  <thead>\n",
       "    <tr style=\"text-align: right;\">\n",
       "      <th>roadway</th>\n",
       "      <th>cycleway</th>\n",
       "      <th>footway</th>\n",
       "      <th>motorway</th>\n",
       "      <th>motorway_link</th>\n",
       "      <th>primary</th>\n",
       "      <th>primary_link</th>\n",
       "      <th>residential</th>\n",
       "      <th>secondary</th>\n",
       "      <th>secondary_link</th>\n",
       "      <th>service</th>\n",
       "      <th>tertiary</th>\n",
       "      <th>tertiary_link</th>\n",
       "      <th>trunk</th>\n",
       "      <th>trunk_link</th>\n",
       "    </tr>\n",
       "    <tr>\n",
       "      <th>ft</th>\n",
       "      <th></th>\n",
       "      <th></th>\n",
       "      <th></th>\n",
       "      <th></th>\n",
       "      <th></th>\n",
       "      <th></th>\n",
       "      <th></th>\n",
       "      <th></th>\n",
       "      <th></th>\n",
       "      <th></th>\n",
       "      <th></th>\n",
       "      <th></th>\n",
       "      <th></th>\n",
       "      <th></th>\n",
       "    </tr>\n",
       "  </thead>\n",
       "  <tbody>\n",
       "    <tr>\n",
       "      <th>1</th>\n",
       "      <td>0</td>\n",
       "      <td>0</td>\n",
       "      <td>2774</td>\n",
       "      <td>0</td>\n",
       "      <td>0</td>\n",
       "      <td>0</td>\n",
       "      <td>0</td>\n",
       "      <td>0</td>\n",
       "      <td>0</td>\n",
       "      <td>0</td>\n",
       "      <td>0</td>\n",
       "      <td>0</td>\n",
       "      <td>0</td>\n",
       "      <td>0</td>\n",
       "    </tr>\n",
       "    <tr>\n",
       "      <th>2</th>\n",
       "      <td>0</td>\n",
       "      <td>0</td>\n",
       "      <td>0</td>\n",
       "      <td>0</td>\n",
       "      <td>0</td>\n",
       "      <td>0</td>\n",
       "      <td>0</td>\n",
       "      <td>0</td>\n",
       "      <td>0</td>\n",
       "      <td>0</td>\n",
       "      <td>0</td>\n",
       "      <td>0</td>\n",
       "      <td>3252</td>\n",
       "      <td>0</td>\n",
       "    </tr>\n",
       "    <tr>\n",
       "      <th>3</th>\n",
       "      <td>0</td>\n",
       "      <td>0</td>\n",
       "      <td>0</td>\n",
       "      <td>4983</td>\n",
       "      <td>0</td>\n",
       "      <td>0</td>\n",
       "      <td>0</td>\n",
       "      <td>0</td>\n",
       "      <td>0</td>\n",
       "      <td>0</td>\n",
       "      <td>0</td>\n",
       "      <td>0</td>\n",
       "      <td>0</td>\n",
       "      <td>1382</td>\n",
       "    </tr>\n",
       "    <tr>\n",
       "      <th>4</th>\n",
       "      <td>0</td>\n",
       "      <td>0</td>\n",
       "      <td>0</td>\n",
       "      <td>0</td>\n",
       "      <td>15505</td>\n",
       "      <td>0</td>\n",
       "      <td>0</td>\n",
       "      <td>17933</td>\n",
       "      <td>0</td>\n",
       "      <td>0</td>\n",
       "      <td>4894</td>\n",
       "      <td>0</td>\n",
       "      <td>0</td>\n",
       "      <td>0</td>\n",
       "    </tr>\n",
       "    <tr>\n",
       "      <th>5</th>\n",
       "      <td>0</td>\n",
       "      <td>0</td>\n",
       "      <td>0</td>\n",
       "      <td>0</td>\n",
       "      <td>8432</td>\n",
       "      <td>0</td>\n",
       "      <td>0</td>\n",
       "      <td>24996</td>\n",
       "      <td>0</td>\n",
       "      <td>0</td>\n",
       "      <td>24034</td>\n",
       "      <td>0</td>\n",
       "      <td>882</td>\n",
       "      <td>0</td>\n",
       "    </tr>\n",
       "    <tr>\n",
       "      <th>6</th>\n",
       "      <td>0</td>\n",
       "      <td>0</td>\n",
       "      <td>0</td>\n",
       "      <td>0</td>\n",
       "      <td>2555</td>\n",
       "      <td>1506</td>\n",
       "      <td>0</td>\n",
       "      <td>25600</td>\n",
       "      <td>1566</td>\n",
       "      <td>0</td>\n",
       "      <td>65019</td>\n",
       "      <td>611</td>\n",
       "      <td>26</td>\n",
       "      <td>0</td>\n",
       "    </tr>\n",
       "    <tr>\n",
       "      <th>7</th>\n",
       "      <td>0</td>\n",
       "      <td>0</td>\n",
       "      <td>0</td>\n",
       "      <td>0</td>\n",
       "      <td>0</td>\n",
       "      <td>0</td>\n",
       "      <td>538666</td>\n",
       "      <td>0</td>\n",
       "      <td>0</td>\n",
       "      <td>0</td>\n",
       "      <td>0</td>\n",
       "      <td>0</td>\n",
       "      <td>0</td>\n",
       "      <td>0</td>\n",
       "    </tr>\n",
       "    <tr>\n",
       "      <th>99</th>\n",
       "      <td>98614</td>\n",
       "      <td>247489</td>\n",
       "      <td>0</td>\n",
       "      <td>0</td>\n",
       "      <td>0</td>\n",
       "      <td>0</td>\n",
       "      <td>0</td>\n",
       "      <td>0</td>\n",
       "      <td>0</td>\n",
       "      <td>541983</td>\n",
       "      <td>0</td>\n",
       "      <td>0</td>\n",
       "      <td>0</td>\n",
       "      <td>0</td>\n",
       "    </tr>\n",
       "  </tbody>\n",
       "</table>\n",
       "</div>"
      ],
      "text/plain": [
       "roadway  cycleway  footway  motorway  motorway_link  primary  primary_link  \\\n",
       "ft                                                                           \n",
       "1               0        0      2774              0        0             0   \n",
       "2               0        0         0              0        0             0   \n",
       "3               0        0         0           4983        0             0   \n",
       "4               0        0         0              0    15505             0   \n",
       "5               0        0         0              0     8432             0   \n",
       "6               0        0         0              0     2555          1506   \n",
       "7               0        0         0              0        0             0   \n",
       "99          98614   247489         0              0        0             0   \n",
       "\n",
       "roadway  residential  secondary  secondary_link  service  tertiary  \\\n",
       "ft                                                                   \n",
       "1                  0          0               0        0         0   \n",
       "2                  0          0               0        0         0   \n",
       "3                  0          0               0        0         0   \n",
       "4                  0      17933               0        0      4894   \n",
       "5                  0      24996               0        0     24034   \n",
       "6                  0      25600            1566        0     65019   \n",
       "7             538666          0               0        0         0   \n",
       "99                 0          0               0   541983         0   \n",
       "\n",
       "roadway  tertiary_link  trunk  trunk_link  \n",
       "ft                                         \n",
       "1                    0      0           0  \n",
       "2                    0   3252           0  \n",
       "3                    0      0        1382  \n",
       "4                    0      0           0  \n",
       "5                    0    882           0  \n",
       "6                  611     26           0  \n",
       "7                    0      0           0  \n",
       "99                   0      0           0  "
      ]
     },
     "execution_count": 24,
     "metadata": {},
     "output_type": "execute_result"
    }
   ],
   "source": [
    "pd.crosstab(r_net.links_df.ft, r_net.links_df.roadway)"
   ]
  }
 ],
 "metadata": {
  "kernelspec": {
   "display_name": "Python 3",
   "language": "python",
   "name": "python3"
  },
  "language_info": {
   "codemirror_mode": {
    "name": "ipython",
    "version": 3
   },
   "file_extension": ".py",
   "mimetype": "text/x-python",
   "name": "python",
   "nbconvert_exporter": "python",
   "pygments_lexer": "ipython3",
   "version": "3.7.9"
  }
 },
 "nbformat": 4,
 "nbformat_minor": 4
}
