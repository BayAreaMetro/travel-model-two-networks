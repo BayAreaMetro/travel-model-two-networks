{
 "cells": [
  {
   "cell_type": "markdown",
   "metadata": {},
   "source": [
    "# 01 Attribute Network and Make Scenario Pickle"
   ]
  },
  {
   "cell_type": "code",
   "execution_count": 1,
   "metadata": {},
   "outputs": [],
   "source": [
    "import os\n",
    "import sys\n",
    "import yaml\n",
    "\n",
    "import pandas as pd\n",
    "\n",
    "from network_wrangler import RoadwayNetwork\n",
    "from network_wrangler import TransitNetwork\n",
    "from network_wrangler import ProjectCard\n",
    "from network_wrangler import Scenario\n",
    "from network_wrangler import WranglerLogger\n",
    "\n",
    "from lasso import ModelRoadwayNetwork\n",
    "from lasso import StandardTransit\n",
    "from lasso import Parameters\n",
    "from lasso import mtc\n",
    "\n",
    "import pickle"
   ]
  },
  {
   "cell_type": "code",
   "execution_count": 2,
   "metadata": {},
   "outputs": [],
   "source": [
    "%load_ext autoreload\n",
    "%autoreload 2"
   ]
  },
  {
   "cell_type": "code",
   "execution_count": 3,
   "metadata": {},
   "outputs": [],
   "source": [
    "import logging\n",
    "logger = logging.getLogger(\"WranglerLogger\")\n",
    "logger.handlers[0].stream = sys.stdout\n",
    "# if you don't want to see so much detail, set to logging.INFO or DEBUG\n",
    "logger.setLevel(logging.INFO)"
   ]
  },
  {
   "cell_type": "markdown",
   "metadata": {},
   "source": [
    "## Remote I/O"
   ]
  },
  {
   "cell_type": "code",
   "execution_count": 4,
   "metadata": {},
   "outputs": [],
   "source": [
    "root_dir = os.path.join('C:\\\\' 'Users', 'david.ory', 'Documents', 'GitHub', 'travel-model-two-networks')\n",
    "input_dir = os.path.join(root_dir, 'data', 'processed', 'version_02')\n",
    "output_dir = input_dir\n",
    "lasso_dir = os.path.join('C:\\\\', 'Users', 'david.ory', 'Documents', 'GitHub', 'mtc_Lasso')"
   ]
  },
  {
   "cell_type": "code",
   "execution_count": 5,
   "metadata": {},
   "outputs": [
    {
     "name": "stdout",
     "output_type": "stream",
     "text": [
      "2020-10-27 10:48:51, INFO: Lasso base directory set as: C:\\Users\\david.ory\\Documents\\GitHub\\mtc_Lasso\n",
      "2020-10-27 10:48:51, INFO: Lasso base directory set as: C:\\Users\\david.ory\\Documents\\GitHub\\mtc_Lasso\n"
     ]
    }
   ],
   "source": [
    "parameters = Parameters(lasso_base_dir = lasso_dir)"
   ]
  },
  {
   "cell_type": "markdown",
   "metadata": {},
   "source": [
    "## Data Reads"
   ]
  },
  {
   "cell_type": "code",
   "execution_count": 6,
   "metadata": {},
   "outputs": [
    {
     "name": "stdout",
     "output_type": "stream",
     "text": [
      "2020-10-27 10:48:52, INFO: Reading from following files:\n",
      "-C:\\Users\\david.ory\\Documents\\GitHub\\travel-model-two-networks\\data\\processed\\version_02\\link.json\n",
      "-C:\\Users\\david.ory\\Documents\\GitHub\\travel-model-two-networks\\data\\processed\\version_02\\node.geojson\n",
      "-C:\\Users\\david.ory\\Documents\\GitHub\\travel-model-two-networks\\data\\processed\\version_02\\shape.geojson.\n",
      "2020-10-27 10:48:52, INFO: Reading from following files:\n",
      "-C:\\Users\\david.ory\\Documents\\GitHub\\travel-model-two-networks\\data\\processed\\version_02\\link.json\n",
      "-C:\\Users\\david.ory\\Documents\\GitHub\\travel-model-two-networks\\data\\processed\\version_02\\node.geojson\n",
      "-C:\\Users\\david.ory\\Documents\\GitHub\\travel-model-two-networks\\data\\processed\\version_02\\shape.geojson.\n",
      "2020-10-27 10:54:07, INFO: Read 1634769 links from C:\\Users\\david.ory\\Documents\\GitHub\\travel-model-two-networks\\data\\processed\\version_02\\link.json\n",
      "2020-10-27 10:54:07, INFO: Read 1634769 links from C:\\Users\\david.ory\\Documents\\GitHub\\travel-model-two-networks\\data\\processed\\version_02\\link.json\n",
      "2020-10-27 10:54:07, INFO: Read 644475 nodes from C:\\Users\\david.ory\\Documents\\GitHub\\travel-model-two-networks\\data\\processed\\version_02\\node.geojson\n",
      "2020-10-27 10:54:07, INFO: Read 644475 nodes from C:\\Users\\david.ory\\Documents\\GitHub\\travel-model-two-networks\\data\\processed\\version_02\\node.geojson\n",
      "2020-10-27 10:54:07, INFO: Read 869970 shapes from C:\\Users\\david.ory\\Documents\\GitHub\\travel-model-two-networks\\data\\processed\\version_02\\shape.geojson\n",
      "2020-10-27 10:54:07, INFO: Read 869970 shapes from C:\\Users\\david.ory\\Documents\\GitHub\\travel-model-two-networks\\data\\processed\\version_02\\shape.geojson\n"
     ]
    }
   ],
   "source": [
    "link_file = os.path.join(input_dir, 'link.json')\n",
    "node_file = os.path.join(input_dir, 'node.geojson')\n",
    "shape_file = os.path.join(input_dir, 'shape.geojson')\n",
    "\n",
    "roadway_net = RoadwayNetwork.read(\n",
    "    link_file = link_file, \n",
    "    node_file = node_file, \n",
    "    shape_file = shape_file\n",
    ")"
   ]
  },
  {
   "cell_type": "markdown",
   "metadata": {},
   "source": [
    "*Please note*: a third party library is used to read in the GTFS feed and it will generate warnings such as, `INFO: Removing calendar.txt from transit network config because file not found`. These warnings can be ignored, as the standard Network Wrangler transit network does not need these files. "
   ]
  },
  {
   "cell_type": "code",
   "execution_count": 7,
   "metadata": {},
   "outputs": [
    {
     "name": "stdout",
     "output_type": "stream",
     "text": [
      "2020-10-27 11:05:04, INFO: Read in transit feed from: C:\\Users\\david.ory\\Documents\\GitHub\\travel-model-two-networks\\data\\processed\\version_02\n",
      "2020-10-27 11:05:04, INFO: Read in transit feed from: C:\\Users\\david.ory\\Documents\\GitHub\\travel-model-two-networks\\data\\processed\\version_02\n",
      "2020-10-27 11:05:04, INFO: Removing calendar.txt from transit network config because file not found\n",
      "2020-10-27 11:05:04, INFO: Removing calendar.txt from transit network config because file not found\n",
      "2020-10-27 11:05:04, INFO: Removing calendar_dates.txt from transit network config because file not found\n",
      "2020-10-27 11:05:04, INFO: Removing calendar_dates.txt from transit network config because file not found\n",
      "2020-10-27 11:05:07, INFO: Removing fare_attributes.txt from transit network config because file not found\n",
      "2020-10-27 11:05:07, INFO: Removing fare_attributes.txt from transit network config because file not found\n",
      "2020-10-27 11:05:07, INFO: Removing fare_rules.txt from transit network config because file not found\n",
      "2020-10-27 11:05:07, INFO: Removing fare_rules.txt from transit network config because file not found\n",
      "2020-10-27 11:05:09, INFO: Removing transfers.txt from transit network config because file not found\n",
      "2020-10-27 11:05:09, INFO: Removing transfers.txt from transit network config because file not found\n",
      "2020-10-27 11:05:09, INFO: Removing feed_info.txt from transit network config because file not found\n",
      "2020-10-27 11:05:09, INFO: Removing feed_info.txt from transit network config because file not found\n",
      "2020-10-27 11:05:09, WARNING: The following stop_ids from are referenced but missing from stops.txt: ['place_SNCO', 'place_SHBA', 'place_TAPI', 'place_FBBA', 'place_12BD', 'place_ETSF', 'place_MOME', 'place_BNTE', 'ctpa', 'ctca', 'cthi', 'ctsj', 'place_ROBA', 'ct22', 'place_SMSE', 'ctssf', 'place_NEPA', 'place_CCCO', 'place_4SSP', 'ctrwc', 'place_HPNR', 'ctla', 'place_WOBA', 'place_CVBA', 'ctmi', 'place_NAMO', 'ctmh', 'ctsf', 'place_HRSH', 'place_PAHE', 'place_BYBA', 'ctco', 'place_HBBA', 'place_DBBA', 'ctba', 'place_CBBA', 'ctgi', 'ctbl', 'place_11JE', 'ctsmar', 'ctsb', 'ctmp', 'place_FRBA', 'ctmv', 'ctsu', 'place_14BD', 'place_SHDF', 'place_11BD', 'place_90MA', 'place_HIWY', 'ctha', 'place_FVMA', 'ctsa', 'place_CSSH', 'ctcap', 'place_EBBA', 'ctbe', 'place_MBLS', 'place_PSOT', 'ctta', 'place_BDBL', 'place_CHCO', 'ctsc', 'ctscl', 'ctbu', 'ctsmat']\n",
      "2020-10-27 11:05:09, WARNING: The following stop_ids from are referenced but missing from stops.txt: ['place_SNCO', 'place_SHBA', 'place_TAPI', 'place_FBBA', 'place_12BD', 'place_ETSF', 'place_MOME', 'place_BNTE', 'ctpa', 'ctca', 'cthi', 'ctsj', 'place_ROBA', 'ct22', 'place_SMSE', 'ctssf', 'place_NEPA', 'place_CCCO', 'place_4SSP', 'ctrwc', 'place_HPNR', 'ctla', 'place_WOBA', 'place_CVBA', 'ctmi', 'place_NAMO', 'ctmh', 'ctsf', 'place_HRSH', 'place_PAHE', 'place_BYBA', 'ctco', 'place_HBBA', 'place_DBBA', 'ctba', 'place_CBBA', 'ctgi', 'ctbl', 'place_11JE', 'ctsmar', 'ctsb', 'ctmp', 'place_FRBA', 'ctmv', 'ctsu', 'place_14BD', 'place_SHDF', 'place_11BD', 'place_90MA', 'place_HIWY', 'ctha', 'place_FVMA', 'ctsa', 'place_CSSH', 'ctcap', 'place_EBBA', 'ctbe', 'place_MBLS', 'place_PSOT', 'ctta', 'place_BDBL', 'place_CHCO', 'ctsc', 'ctscl', 'ctbu', 'ctsmat']\n"
     ]
    }
   ],
   "source": [
    "transit_net = TransitNetwork.read(feed_path = input_dir)"
   ]
  },
  {
   "cell_type": "markdown",
   "metadata": {},
   "source": [
    "## Attribute the Network"
   ]
  },
  {
   "cell_type": "code",
   "execution_count": 8,
   "metadata": {},
   "outputs": [
    {
     "name": "stdout",
     "output_type": "stream",
     "text": [
      "2020-10-27 11:05:10, INFO: Determining number of lanes\n",
      "2020-10-27 11:05:10, INFO: Determining number of lanes\n",
      "2020-10-27 11:05:10, INFO: Lasso base directory set as: C:\\Users\\david.ory\\Documents\\GitHub\\mtc_Lasso\n",
      "2020-10-27 11:05:10, INFO: Lasso base directory set as: C:\\Users\\david.ory\\Documents\\GitHub\\mtc_Lasso\n",
      "2020-10-27 11:13:35, INFO: Finished determining number of lanes using variable: lanes\n",
      "2020-10-27 11:13:35, INFO: Finished determining number of lanes using variable: lanes\n"
     ]
    },
    {
     "data": {
      "text/plain": [
       "1    1486397\n",
       "2     104207\n",
       "3      22455\n",
       "4      14124\n",
       "5       6504\n",
       "6        929\n",
       "7        134\n",
       "8         18\n",
       "9          1\n",
       "Name: lanes, dtype: int64"
      ]
     },
     "execution_count": 8,
     "metadata": {},
     "output_type": "execute_result"
    }
   ],
   "source": [
    "r_net = mtc.determine_number_of_lanes(\n",
    "    roadway_network = roadway_net,\n",
    "    parameters = parameters,\n",
    "    network_variable = 'lanes'\n",
    ")\n",
    "\n",
    "r_net.links_df.lanes.value_counts()"
   ]
  },
  {
   "cell_type": "code",
   "execution_count": 9,
   "metadata": {},
   "outputs": [
    {
     "name": "stdout",
     "output_type": "stream",
     "text": [
      "2020-10-27 11:13:37, INFO: Calculating Facility Type\n",
      "2020-10-27 11:13:37, INFO: Calculating Facility Type\n",
      "2020-10-27 11:13:37, INFO: Lasso base directory set as: C:\\Users\\david.ory\\Documents\\GitHub\\mtc_Lasso\n",
      "2020-10-27 11:13:37, INFO: Lasso base directory set as: C:\\Users\\david.ory\\Documents\\GitHub\\mtc_Lasso\n",
      "2020-10-27 11:17:44, INFO: Finished calculating roadway class variable: ft\n",
      "2020-10-27 11:17:44, INFO: Finished calculating roadway class variable: ft\n"
     ]
    },
    {
     "data": {
      "text/plain": [
       "99    890153\n",
       "7     538666\n",
       "6      96883\n",
       "5      58344\n",
       "4      38332\n",
       "3       6365\n",
       "2       3252\n",
       "1       2774\n",
       "Name: ft, dtype: int64"
      ]
     },
     "execution_count": 9,
     "metadata": {},
     "output_type": "execute_result"
    }
   ],
   "source": [
    "r_net = mtc.calculate_facility_type(\n",
    "    roadway_network = r_net,\n",
    "    parameters = parameters,\n",
    "    network_variable = 'ft')\n",
    "\n",
    "r_net.links_df.ft.value_counts()"
   ]
  },
  {
   "cell_type": "code",
   "execution_count": 10,
   "metadata": {},
   "outputs": [
    {
     "name": "stdout",
     "output_type": "stream",
     "text": [
      "2020-10-27 11:17:45, INFO: Determining useclass\n",
      "2020-10-27 11:17:45, INFO: Determining useclass\n",
      "2020-10-27 11:17:45, INFO: Lasso base directory set as: C:\\Users\\david.ory\\Documents\\GitHub\\mtc_Lasso\n",
      "2020-10-27 11:17:45, INFO: Lasso base directory set as: C:\\Users\\david.ory\\Documents\\GitHub\\mtc_Lasso\n",
      "2020-10-27 11:17:45, INFO: Calculating and adding roadway network variable: useclass\n",
      "2020-10-27 11:17:45, INFO: Calculating and adding roadway network variable: useclass\n",
      "2020-10-27 11:17:45, INFO: Finished determining transit-only variable: useclass\n",
      "2020-10-27 11:17:45, INFO: Finished determining transit-only variable: useclass\n"
     ]
    },
    {
     "data": {
      "text/plain": [
       "0    1634769\n",
       "Name: useclass, dtype: int64"
      ]
     },
     "execution_count": 10,
     "metadata": {},
     "output_type": "execute_result"
    }
   ],
   "source": [
    "r_net = mtc.calculate_useclass(\n",
    "    roadway_network = r_net,\n",
    "    parameters = parameters,\n",
    "    network_variable = 'useclass')\n",
    "\n",
    "r_net.links_df.useclass.value_counts()"
   ]
  },
  {
   "cell_type": "code",
   "execution_count": 14,
   "metadata": {},
   "outputs": [
    {
     "name": "stdout",
     "output_type": "stream",
     "text": [
      "2020-10-27 11:18:03, INFO: Determining assignable\n",
      "2020-10-27 11:18:03, INFO: Determining assignable\n",
      "2020-10-27 11:18:03, INFO: Lasso base directory set as: C:\\Users\\david.ory\\Documents\\GitHub\\mtc_Lasso\n",
      "2020-10-27 11:18:03, INFO: Lasso base directory set as: C:\\Users\\david.ory\\Documents\\GitHub\\mtc_Lasso\n",
      "2020-10-27 11:18:03, INFO: Variable 'assignable' already in network. Returning without overwriting.\n",
      "2020-10-27 11:18:03, INFO: Variable 'assignable' already in network. Returning without overwriting.\n"
     ]
    },
    {
     "data": {
      "text/plain": [
       "1.0    695049\n",
       "0.0     57163\n",
       "Name: assignable, dtype: int64"
      ]
     },
     "execution_count": 14,
     "metadata": {},
     "output_type": "execute_result"
    }
   ],
   "source": [
    "r_net = mtc.calculate_assignable(\n",
    "    roadway_network = r_net,\n",
    "    parameters = parameters,\n",
    "    network_variable = 'assignable')\n",
    "\n",
    "r_net.links_df.assignable.value_counts()"
   ]
  },
  {
   "cell_type": "code",
   "execution_count": 12,
   "metadata": {},
   "outputs": [
    {
     "name": "stdout",
     "output_type": "stream",
     "text": [
      "2020-10-27 11:18:01, INFO: Determining assignable\n",
      "2020-10-27 11:18:01, INFO: Determining assignable\n",
      "2020-10-27 11:18:01, INFO: Lasso base directory set as: C:\\Users\\david.ory\\Documents\\GitHub\\mtc_Lasso\n",
      "2020-10-27 11:18:01, INFO: Lasso base directory set as: C:\\Users\\david.ory\\Documents\\GitHub\\mtc_Lasso\n",
      "2020-10-27 11:18:01, INFO: Calculating and adding roadway network variable: transit\n",
      "2020-10-27 11:18:01, INFO: Calculating and adding roadway network variable: transit\n",
      "2020-10-27 11:18:01, INFO: Finished determining transit-only variable: transit\n",
      "2020-10-27 11:18:01, INFO: Finished determining transit-only variable: transit\n"
     ]
    },
    {
     "data": {
      "text/plain": [
       "0    1634030\n",
       "1        739\n",
       "Name: transit, dtype: int64"
      ]
     },
     "execution_count": 12,
     "metadata": {},
     "output_type": "execute_result"
    }
   ],
   "source": [
    "r_net = mtc.calculate_transit(\n",
    "    roadway_network = r_net,\n",
    "    parameters = parameters,\n",
    "    network_variable = 'transit')\n",
    "\n",
    "r_net.links_df.transit.value_counts()"
   ]
  },
  {
   "cell_type": "markdown",
   "metadata": {},
   "source": [
    "## Create a Scenario"
   ]
  },
  {
   "cell_type": "code",
   "execution_count": 13,
   "metadata": {},
   "outputs": [
    {
     "name": "stdout",
     "output_type": "stream",
     "text": [
      "2020-10-27 11:18:02, INFO: Creating Scenario\n",
      "2020-10-27 11:18:02, INFO: Creating Scenario\n"
     ]
    }
   ],
   "source": [
    "base_scenario = {\"road_net\": r_net, \"transit_net\": transit_net}\n",
    "working_scenario = Scenario.create_scenario(base_scenario = base_scenario)"
   ]
  },
  {
   "cell_type": "markdown",
   "metadata": {},
   "source": [
    "## Write to Disk"
   ]
  },
  {
   "cell_type": "code",
   "execution_count": 22,
   "metadata": {},
   "outputs": [],
   "source": [
    "working_scenario_filename = os.path.join(output_dir, 'working_scenario_00.pickle')\n",
    "pickle.dump(working_scenario, open(working_scenario_filename, 'wb'))"
   ]
  },
  {
   "cell_type": "code",
   "execution_count": null,
   "metadata": {},
   "outputs": [],
   "source": []
  }
 ],
 "metadata": {
  "kernelspec": {
   "display_name": "Python 3",
   "language": "python",
   "name": "python3"
  },
  "language_info": {
   "codemirror_mode": {
    "name": "ipython",
    "version": 3
   },
   "file_extension": ".py",
   "mimetype": "text/x-python",
   "name": "python",
   "nbconvert_exporter": "python",
   "pygments_lexer": "ipython3",
   "version": "3.7.7"
  }
 },
 "nbformat": 4,
 "nbformat_minor": 4
}
