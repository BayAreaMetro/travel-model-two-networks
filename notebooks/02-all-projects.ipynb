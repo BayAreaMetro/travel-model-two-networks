{
 "cells": [
  {
   "cell_type": "markdown",
   "metadata": {},
   "source": [
    "# 02 Apply all project cards"
   ]
  },
  {
   "cell_type": "code",
   "execution_count": 1,
   "metadata": {},
   "outputs": [],
   "source": [
    "import os\n",
    "import sys\n",
    "import yaml\n",
    "import pickle\n",
    "import glob\n",
    "import copy\n",
    "import re\n",
    "\n",
    "import pandas as pd\n",
    "\n",
    "# https://github.com/BayAreaMetro/network_wrangler/tree/generic_agency\n",
    "from network_wrangler import RoadwayNetwork\n",
    "from network_wrangler import TransitNetwork\n",
    "from network_wrangler import ProjectCard\n",
    "from network_wrangler import Scenario\n",
    "from network_wrangler import WranglerLogger\n",
    "\n",
    "# https://github.com/BayAreaMetro/Lasso/tree/mtc_parameters\n",
    "from lasso import ModelRoadwayNetwork\n",
    "from lasso import StandardTransit\n",
    "from lasso import Parameters\n",
    "from lasso import mtc\n",
    "from lasso import util"
   ]
  },
  {
   "cell_type": "code",
   "execution_count": 2,
   "metadata": {},
   "outputs": [],
   "source": [
    "# Reload all modules (except those excluded by %aimport) every time before executing the Python code typed.\n",
    "%load_ext autoreload\n",
    "%autoreload 2\n",
    "\n",
    "# Load memory profiler\n",
    "%load_ext memory_profiler"
   ]
  },
  {
   "cell_type": "markdown",
   "metadata": {},
   "source": [
    "# Remote I/O and parameters"
   ]
  },
  {
   "cell_type": "code",
   "execution_count": 3,
   "metadata": {},
   "outputs": [],
   "source": [
    "# input directories - use Box\n",
    "TM2_REBUILD_BOX_DIR      = r\"C:\\Users\\{}\\Box\\Modeling and Surveys\\Development\\Travel Model Two Development\\Travel Model Two Network Rebuild\".format(os.getenv('USERNAME'))\n",
    "TM2_NETWORKS_DATA_DIR    = os.path.join(TM2_REBUILD_BOX_DIR,    \"travel-model-two-networks\", \"data\")\n",
    "input_data_interim_dir   = os.path.join(TM2_NETWORKS_DATA_DIR,  \"interim\")\n",
    "input_data_processed_dir = os.path.join(TM2_NETWORKS_DATA_DIR,  \"processed\", \"version_12\")\n",
    "input_data_external_dir  = os.path.join(TM2_NETWORKS_DATA_DIR,  \"external\")\n",
    "\n",
    "# Lasso\n",
    "LASSO_DIR                = 'C:/Users/{}/Documents/GitHub/Lasso'.format(os.getenv('USERNAME'))\n",
    "\n",
    "# location of the project cards in the travel-model-two-networks repo\n",
    "project_card_dir         ='C:/Users/{}/Documents/GitHub/travel-model-two-networks/project_cards'.format(os.getenv('USERNAME'))"
   ]
  },
  {
   "cell_type": "code",
   "execution_count": 4,
   "metadata": {},
   "outputs": [],
   "source": [
    "# output folders - use local, most likely\n",
    "output_dir          = r\"C:\\Users\\{}\\Documents\\scratch\\tm2_network_building\\processed\\version_12\".format(os.getenv('USERNAME'))\n",
    "output_standard_dir = os.path.join(output_dir, 'network_standard')\n",
    "output_cube_dir     = os.path.join(output_dir, 'network_cube')\n",
    "output_emme_dir     = os.path.join(output_dir, 'network_emme')\n",
    "\n",
    "os.makedirs(output_standard_dir, exist_ok=True)\n",
    "os.makedirs(output_cube_dir,     exist_ok=True)\n",
    "os.makedirs(output_emme_dir,     exist_ok=True)"
   ]
  },
  {
   "cell_type": "code",
   "execution_count": 5,
   "metadata": {},
   "outputs": [
    {
     "name": "stdout",
     "output_type": "stream",
     "text": [
      "2022-01-20 12:11:06, INFO: Lasso base directory set as: C:/Users/lzorn/Documents/GitHub/Lasso\n",
      "2022-01-20 12:11:06, INFO: Lasso base directory set as: C:/Users/lzorn/Documents/GitHub/Lasso\n"
     ]
    }
   ],
   "source": [
    "parameters = Parameters(lasso_base_dir = LASSO_DIR)"
   ]
  },
  {
   "cell_type": "code",
   "execution_count": 6,
   "metadata": {},
   "outputs": [
    {
     "data": {
      "text/plain": [
       "4756"
      ]
     },
     "execution_count": 6,
     "metadata": {},
     "output_type": "execute_result"
    }
   ],
   "source": [
    "parameters.zones"
   ]
  },
  {
   "cell_type": "markdown",
   "metadata": {},
   "source": [
    "# Read scenario pickle"
   ]
  },
  {
   "cell_type": "code",
   "execution_count": 7,
   "metadata": {
    "scrolled": true
   },
   "outputs": [
    {
     "name": "stdout",
     "output_type": "stream",
     "text": [
      "peak memory: 7626.91 MiB, increment: 7401.82 MiB\n",
      "Wall time: 1min 59s\n"
     ]
    }
   ],
   "source": [
    "%%time\n",
    "%%memit\n",
    "# Wall time: ~2min\n",
    "version_01_pickle_file_name = os.path.join(input_data_processed_dir, 'working_scenario_01.pickle')\n",
    "scenario = pickle.load(open(version_01_pickle_file_name, 'rb'))"
   ]
  },
  {
   "cell_type": "code",
   "execution_count": 8,
   "metadata": {},
   "outputs": [
    {
     "name": "stdout",
     "output_type": "stream",
     "text": [
      "<class 'pandas.core.frame.DataFrame'>\n",
      "RangeIndex: 21881 entries, 0 to 21880\n",
      "Data columns (total 20 columns):\n",
      " #   Column               Non-Null Count  Dtype  \n",
      "---  ------               --------------  -----  \n",
      " 0   stop_name            21881 non-null  object \n",
      " 1   stop_lat             21881 non-null  float64\n",
      " 2   stop_lon             21881 non-null  float64\n",
      " 3   zone_id              8233 non-null   object \n",
      " 4   agency_raw_name      21881 non-null  object \n",
      " 5   stop_code            15289 non-null  object \n",
      " 6   location_type        5475 non-null   float64\n",
      " 7   parent_station       249 non-null    object \n",
      " 8   stop_desc            409 non-null    object \n",
      " 9   stop_url             261 non-null    object \n",
      " 10  stop_timezone        126 non-null    object \n",
      " 11  wheelchair_boarding  377 non-null    float64\n",
      " 12  platform_code        52 non-null     object \n",
      " 13  position             0 non-null      object \n",
      " 14  direction            0 non-null      object \n",
      " 15  * used by routes     124 non-null    object \n",
      " 16  stop_id              21881 non-null  object \n",
      " 17  osm_node_id          21212 non-null  object \n",
      " 18  shst_node_id         21212 non-null  object \n",
      " 19  model_node_id        21881 non-null  object \n",
      "dtypes: float64(4), object(16)\n",
      "memory usage: 3.3+ MB\n"
     ]
    }
   ],
   "source": [
    "scenario.transit_net.feed.stops.info()"
   ]
  },
  {
   "cell_type": "code",
   "execution_count": 9,
   "metadata": {},
   "outputs": [
    {
     "data": {
      "text/html": [
       "<div>\n",
       "<style scoped>\n",
       "    .dataframe tbody tr th:only-of-type {\n",
       "        vertical-align: middle;\n",
       "    }\n",
       "\n",
       "    .dataframe tbody tr th {\n",
       "        vertical-align: top;\n",
       "    }\n",
       "\n",
       "    .dataframe thead th {\n",
       "        text-align: right;\n",
       "    }\n",
       "</style>\n",
       "<table border=\"1\" class=\"dataframe\">\n",
       "  <thead>\n",
       "    <tr style=\"text-align: right;\">\n",
       "      <th></th>\n",
       "      <th>stop_name</th>\n",
       "      <th>stop_lat</th>\n",
       "      <th>stop_lon</th>\n",
       "      <th>zone_id</th>\n",
       "      <th>agency_raw_name</th>\n",
       "      <th>stop_code</th>\n",
       "      <th>location_type</th>\n",
       "      <th>parent_station</th>\n",
       "      <th>stop_desc</th>\n",
       "      <th>stop_url</th>\n",
       "      <th>stop_timezone</th>\n",
       "      <th>wheelchair_boarding</th>\n",
       "      <th>platform_code</th>\n",
       "      <th>position</th>\n",
       "      <th>direction</th>\n",
       "      <th>* used by routes</th>\n",
       "      <th>stop_id</th>\n",
       "      <th>osm_node_id</th>\n",
       "      <th>shst_node_id</th>\n",
       "      <th>model_node_id</th>\n",
       "    </tr>\n",
       "  </thead>\n",
       "  <tbody>\n",
       "    <tr>\n",
       "      <th>5466</th>\n",
       "      <td>San Jose</td>\n",
       "      <td>37.329935</td>\n",
       "      <td>-121.902496</td>\n",
       "      <td>56146</td>\n",
       "      <td>Capitol_2017_3_20</td>\n",
       "      <td>NaN</td>\n",
       "      <td>NaN</td>\n",
       "      <td>NaN</td>\n",
       "      <td>NaN</td>\n",
       "      <td>NaN</td>\n",
       "      <td>NaN</td>\n",
       "      <td>NaN</td>\n",
       "      <td>NaN</td>\n",
       "      <td>NaN</td>\n",
       "      <td>NaN</td>\n",
       "      <td>NaN</td>\n",
       "      <td>6680</td>\n",
       "      <td>NaN</td>\n",
       "      <td>NaN</td>\n",
       "      <td>2192825</td>\n",
       "    </tr>\n",
       "  </tbody>\n",
       "</table>\n",
       "</div>"
      ],
      "text/plain": [
       "     stop_name   stop_lat    stop_lon zone_id    agency_raw_name stop_code  \\\n",
       "5466  San Jose  37.329935 -121.902496   56146  Capitol_2017_3_20       NaN   \n",
       "\n",
       "      location_type parent_station stop_desc stop_url stop_timezone  \\\n",
       "5466            NaN            NaN       NaN      NaN           NaN   \n",
       "\n",
       "      wheelchair_boarding platform_code position direction * used by routes  \\\n",
       "5466                  NaN           NaN      NaN       NaN              NaN   \n",
       "\n",
       "     stop_id osm_node_id shst_node_id model_node_id  \n",
       "5466    6680         NaN          NaN       2192825  "
      ]
     },
     "execution_count": 9,
     "metadata": {},
     "output_type": "execute_result"
    }
   ],
   "source": [
    "scenario.transit_net.feed.stops[\n",
    "    scenario.transit_net.feed.stops.stop_name == \"San Jose\"]"
   ]
  },
  {
   "cell_type": "markdown",
   "metadata": {},
   "source": [
    "# Create scenario and apply projects"
   ]
  },
  {
   "cell_type": "code",
   "execution_count": 10,
   "metadata": {},
   "outputs": [],
   "source": [
    "# this is required because the shape_foreign_key, which is 'id', is also expected in the links_df\n",
    "# See https://app.asana.com/0/0/1201662144568397/f\n",
    "scenario.road_net.links_df[\"id\"] = scenario.road_net.links_df[\"shstGeometryId\"]"
   ]
  },
  {
   "cell_type": "code",
   "execution_count": 11,
   "metadata": {},
   "outputs": [
    {
     "name": "stdout",
     "output_type": "stream",
     "text": [
      "peak memory: 6604.23 MiB, increment: 0.01 MiB\n",
      "Wall time: 7.24 s\n"
     ]
    }
   ],
   "source": [
    "%%time\n",
    "%%memit\n",
    "\n",
    "# todo: why not validate?  Requested some documentation on this here: \n",
    "# https://github.com/wsp-sag/network_wrangler/issues/278\n",
    "scenario.remove_all_projects()\n",
    "scenario.add_project_cards_from_tags(\n",
    "    folder=project_card_dir,\n",
    "    tags=['highway review', \"Major Arterial Review\", \"Reversible Lanes\", 'Bus Only', 'Toll Plaza'],\n",
    "    validate=False\n",
    ")"
   ]
  },
  {
   "cell_type": "code",
   "execution_count": 12,
   "metadata": {
    "scrolled": true
   },
   "outputs": [
    {
     "name": "stdout",
     "output_type": "stream",
     "text": [
      "2022-01-20 12:13:19, INFO: Applying Year 2015 Modify Service Road Dumbarton Bridge Bypass\n",
      "2022-01-20 12:13:19, INFO: Applying Year 2015 Modify Service Road Dumbarton Bridge Bypass\n",
      "2022-01-20 12:13:19, INFO: Applying Project to Roadway Network: Year 2015 Modify Service Road Dumbarton Bridge Bypass\n"
     ]
    },
    {
     "name": "stderr",
     "output_type": "stream",
     "text": [
      "C:\\Users\\lzorn\\.conda\\envs\\tm2_network_dev\\lib\\site-packages\\geopandas\\geodataframe.py:853: SettingWithCopyWarning: \n",
      "A value is trying to be set on a copy of a slice from a DataFrame.\n",
      "Try using .loc[row_indexer,col_indexer] = value instead\n",
      "\n",
      "See the caveats in the documentation: https://pandas.pydata.org/pandas-docs/stable/user_guide/indexing.html#returning-a-view-versus-a-copy\n",
      "  super(GeoDataFrame, self).__setitem__(key, value)\n"
     ]
    },
    {
     "name": "stdout",
     "output_type": "stream",
     "text": [
      "2022-01-20 12:13:20, INFO: Applying Year 2015 Modify Service Road Carquinez Bridge Bypass\n",
      "2022-01-20 12:13:20, INFO: Applying Year 2015 Modify Service Road Carquinez Bridge Bypass\n",
      "2022-01-20 12:13:20, INFO: Applying Project to Roadway Network: Year 2015 Modify Service Road Carquinez Bridge Bypass\n",
      "2022-01-20 12:13:20, INFO: Applying add san mateo bridge toll plaza\n",
      "2022-01-20 12:13:20, INFO: Applying add san mateo bridge toll plaza\n",
      "2022-01-20 12:13:20, INFO: Applying Project to Roadway Network: add san mateo bridge toll plaza\n",
      "2022-01-20 12:13:22, INFO: Applying Project to Transit Network: add san mateo bridge toll plaza\n",
      "2022-01-20 12:13:22, WARNING: Roadway Deletion not yet implemented in Transit; ignoring\n",
      "2022-01-20 12:13:22, INFO: Applying add san mateo bridge toll plaza\n",
      "2022-01-20 12:13:22, INFO: Applying Project to Roadway Network: add san mateo bridge toll plaza\n",
      "2022-01-20 12:16:16, INFO: Applying Year 2015 Correct As Is\n",
      "2022-01-20 12:16:16, INFO: Applying Year 2015 Correct As Is\n",
      "2022-01-20 12:16:16, INFO: Applying Project to Roadway Network: Year 2015 Correct As Is\n",
      "2022-01-20 12:16:17, INFO: Applying Year 2015 Modify Facility Type to Service\n",
      "2022-01-20 12:16:17, INFO: Applying Year 2015 Modify Facility Type to Service\n",
      "2022-01-20 12:16:17, INFO: Applying Project to Roadway Network: Year 2015 Modify Facility Type to Service\n"
     ]
    },
    {
     "name": "stderr",
     "output_type": "stream",
     "text": [
      "C:\\Users\\lzorn\\.conda\\envs\\tm2_network_dev\\lib\\site-packages\\geopandas\\geodataframe.py:853: SettingWithCopyWarning: \n",
      "A value is trying to be set on a copy of a slice from a DataFrame.\n",
      "Try using .loc[row_indexer,col_indexer] = value instead\n",
      "\n",
      "See the caveats in the documentation: https://pandas.pydata.org/pandas-docs/stable/user_guide/indexing.html#returning-a-view-versus-a-copy\n",
      "  super(GeoDataFrame, self).__setitem__(key, value)\n"
     ]
    },
    {
     "name": "stdout",
     "output_type": "stream",
     "text": [
      "2022-01-20 12:16:17, INFO: Applying Year 2015 Modify Facility Type to Ramp shape incorrect\n",
      "2022-01-20 12:16:17, INFO: Applying Year 2015 Modify Facility Type to Ramp shape incorrect\n",
      "2022-01-20 12:16:17, INFO: Applying Project to Roadway Network: Year 2015 Modify Facility Type to Ramp shape incorrect\n",
      "2022-01-20 12:16:17, INFO: Applying Year 2015 Modify Facility Type to Ramp\n",
      "2022-01-20 12:16:17, INFO: Applying Year 2015 Modify Facility Type to Ramp\n",
      "2022-01-20 12:16:17, INFO: Applying Project to Roadway Network: Year 2015 Modify Facility Type to Ramp\n",
      "2022-01-20 12:16:17, INFO: Applying Year 2015 Modify Lanes to 2 Lane and Facility Type to Ramp shape incorrect\n",
      "2022-01-20 12:16:17, INFO: Applying Year 2015 Modify Lanes to 2 Lane and Facility Type to Ramp shape incorrect\n",
      "2022-01-20 12:16:17, INFO: Applying Project to Roadway Network: Year 2015 Modify Lanes to 2 Lane and Facility Type to Ramp shape incorrect\n",
      "2022-01-20 12:16:17, INFO: Applying Year 2015 Modify Lanes to 2 Lane and Facility Type to Ramp\n",
      "2022-01-20 12:16:17, INFO: Applying Year 2015 Modify Lanes to 2 Lane and Facility Type to Ramp\n",
      "2022-01-20 12:16:17, INFO: Applying Project to Roadway Network: Year 2015 Modify Lanes to 2 Lane and Facility Type to Ramp\n",
      "2022-01-20 12:16:18, INFO: Applying Year 2015 Modify Lanes to 1 Lane and Facility Type to Ramp\n",
      "2022-01-20 12:16:18, INFO: Applying Year 2015 Modify Lanes to 1 Lane and Facility Type to Ramp\n",
      "2022-01-20 12:16:18, INFO: Applying Project to Roadway Network: Year 2015 Modify Lanes to 1 Lane and Facility Type to Ramp\n",
      "2022-01-20 12:16:18, INFO: Applying Year 2015 Bus Only Segments\n",
      "2022-01-20 12:16:18, INFO: Applying Year 2015 Bus Only Segments\n",
      "2022-01-20 12:16:18, INFO: Applying Project to Roadway Network: Year 2015 Bus Only Segments\n",
      "2022-01-20 12:16:18, INFO: Applying Year 2015 Should be 7 Lane should be Expressway\n",
      "2022-01-20 12:16:18, INFO: Applying Year 2015 Should be 7 Lane should be Expressway\n",
      "2022-01-20 12:16:18, INFO: Applying Project to Roadway Network: Year 2015 Should be 7 Lane should be Expressway\n",
      "2022-01-20 12:16:18, INFO: Applying Year 2015 Modify Lanes to 7 Lanes\n",
      "2022-01-20 12:16:18, INFO: Applying Year 2015 Modify Lanes to 7 Lanes\n",
      "2022-01-20 12:16:18, INFO: Applying Project to Roadway Network: Year 2015 Modify Lanes to 7 Lanes\n",
      "2022-01-20 12:16:18, INFO: Applying Year 2015 Should be 6 Lane should be Expressway\n",
      "2022-01-20 12:16:18, INFO: Applying Year 2015 Should be 6 Lane should be Expressway\n",
      "2022-01-20 12:16:18, INFO: Applying Project to Roadway Network: Year 2015 Should be 6 Lane should be Expressway\n",
      "2022-01-20 12:16:19, INFO: Applying Year 2015 Should be 6 Lane should be Divided Arterial\n",
      "2022-01-20 12:16:19, INFO: Applying Year 2015 Should be 6 Lane should be Divided Arterial\n",
      "2022-01-20 12:16:19, INFO: Applying Project to Roadway Network: Year 2015 Should be 6 Lane should be Divided Arterial\n",
      "2022-01-20 12:16:19, INFO: Applying Year 2015 Modify Lanes to 6 Lanes\n",
      "2022-01-20 12:16:19, INFO: Applying Year 2015 Modify Lanes to 6 Lanes\n",
      "2022-01-20 12:16:19, INFO: Applying Project to Roadway Network: Year 2015 Modify Lanes to 6 Lanes\n",
      "2022-01-20 12:16:19, INFO: Applying Year 2015 Should be 5 Lane should be Expressway\n",
      "2022-01-20 12:16:19, INFO: Applying Year 2015 Should be 5 Lane should be Expressway\n",
      "2022-01-20 12:16:19, INFO: Applying Project to Roadway Network: Year 2015 Should be 5 Lane should be Expressway\n",
      "2022-01-20 12:16:19, INFO: Applying Year 2015 Should be 5 Lane should be Divided Arterial\n",
      "2022-01-20 12:16:19, INFO: Applying Year 2015 Should be 5 Lane should be Divided Arterial\n",
      "2022-01-20 12:16:19, INFO: Applying Project to Roadway Network: Year 2015 Should be 5 Lane should be Divided Arterial\n",
      "2022-01-20 12:16:19, INFO: Applying Year 2015 Should be 5 Lane correct facility type\n",
      "2022-01-20 12:16:19, INFO: Applying Year 2015 Should be 5 Lane correct facility type\n",
      "2022-01-20 12:16:19, INFO: Applying Project to Roadway Network: Year 2015 Should be 5 Lane correct facility type\n",
      "2022-01-20 12:16:19, INFO: Applying Year 2015 Modify Lanes to 5 Lanes\n",
      "2022-01-20 12:16:19, INFO: Applying Year 2015 Modify Lanes to 5 Lanes\n",
      "2022-01-20 12:16:19, INFO: Applying Project to Roadway Network: Year 2015 Modify Lanes to 5 Lanes\n",
      "2022-01-20 12:16:19, INFO: Applying Year 2015 Should be 4 Lane should be Expressway\n",
      "2022-01-20 12:16:19, INFO: Applying Year 2015 Should be 4 Lane should be Expressway\n",
      "2022-01-20 12:16:19, INFO: Applying Project to Roadway Network: Year 2015 Should be 4 Lane should be Expressway\n",
      "2022-01-20 12:16:20, INFO: Applying Year 2015 Should be 4 Lane should be Divided Arterial\n",
      "2022-01-20 12:16:20, INFO: Applying Year 2015 Should be 4 Lane should be Divided Arterial\n",
      "2022-01-20 12:16:20, INFO: Applying Project to Roadway Network: Year 2015 Should be 4 Lane should be Divided Arterial\n",
      "2022-01-20 12:16:20, INFO: Applying Year 2015 Should be 4 Lane correct facility type\n",
      "2022-01-20 12:16:20, INFO: Applying Year 2015 Should be 4 Lane correct facility type\n",
      "2022-01-20 12:16:20, INFO: Applying Project to Roadway Network: Year 2015 Should be 4 Lane correct facility type\n",
      "2022-01-20 12:16:20, INFO: Applying Year 2015 Modify Lanes to 4 Lanes\n",
      "2022-01-20 12:16:20, INFO: Applying Year 2015 Modify Lanes to 4 Lanes\n",
      "2022-01-20 12:16:20, INFO: Applying Project to Roadway Network: Year 2015 Modify Lanes to 4 Lanes\n",
      "2022-01-20 12:16:20, INFO: Applying Year 2015 Should be 3 Lane should be Expressway\n",
      "2022-01-20 12:16:20, INFO: Applying Year 2015 Should be 3 Lane should be Expressway\n",
      "2022-01-20 12:16:20, INFO: Applying Project to Roadway Network: Year 2015 Should be 3 Lane should be Expressway\n",
      "2022-01-20 12:16:20, INFO: Applying Year 2015 Should be 3 Lane should be Divided Arterial\n",
      "2022-01-20 12:16:20, INFO: Applying Year 2015 Should be 3 Lane should be Divided Arterial\n",
      "2022-01-20 12:16:20, INFO: Applying Project to Roadway Network: Year 2015 Should be 3 Lane should be Divided Arterial\n",
      "2022-01-20 12:16:21, INFO: Applying Year 2015 Should be 3 Lane correct facility type\n",
      "2022-01-20 12:16:21, INFO: Applying Year 2015 Should be 3 Lane correct facility type\n",
      "2022-01-20 12:16:21, INFO: Applying Project to Roadway Network: Year 2015 Should be 3 Lane correct facility type\n",
      "2022-01-20 12:16:21, INFO: Applying Year 2015 Modify Lanes to 3 Lanes\n",
      "2022-01-20 12:16:21, INFO: Applying Year 2015 Modify Lanes to 3 Lanes\n",
      "2022-01-20 12:16:21, INFO: Applying Project to Roadway Network: Year 2015 Modify Lanes to 3 Lanes\n",
      "2022-01-20 12:16:21, INFO: Applying Year 2015 Should be 2 Lane should be Divided Arterial\n",
      "2022-01-20 12:16:21, INFO: Applying Year 2015 Should be 2 Lane should be Divided Arterial\n",
      "2022-01-20 12:16:21, INFO: Applying Project to Roadway Network: Year 2015 Should be 2 Lane should be Divided Arterial\n",
      "2022-01-20 12:16:22, INFO: Applying Year 2015 Should be 2 Lane correct facility type\n",
      "2022-01-20 12:16:22, INFO: Applying Year 2015 Should be 2 Lane correct facility type\n",
      "2022-01-20 12:16:22, INFO: Applying Project to Roadway Network: Year 2015 Should be 2 Lane correct facility type\n",
      "2022-01-20 12:16:22, INFO: Applying Year 2015 Modify Lanes to 2 Lanes\n",
      "2022-01-20 12:16:22, INFO: Applying Year 2015 Modify Lanes to 2 Lanes\n",
      "2022-01-20 12:16:22, INFO: Applying Project to Roadway Network: Year 2015 Modify Lanes to 2 Lanes\n",
      "2022-01-20 12:16:22, INFO: Applying Year 2015 Should be 1 Lane should be Divided Arterial\n",
      "2022-01-20 12:16:22, INFO: Applying Year 2015 Should be 1 Lane should be Divided Arterial\n",
      "2022-01-20 12:16:22, INFO: Applying Project to Roadway Network: Year 2015 Should be 1 Lane should be Divided Arterial\n",
      "2022-01-20 12:16:22, INFO: Applying Year 2015 Should be 1 Lane correct facility type\n",
      "2022-01-20 12:16:22, INFO: Applying Year 2015 Should be 1 Lane correct facility type\n",
      "2022-01-20 12:16:22, INFO: Applying Project to Roadway Network: Year 2015 Should be 1 Lane correct facility type\n",
      "2022-01-20 12:16:23, INFO: Applying Year 2015 Modify Lanes to 1 Lane\n",
      "2022-01-20 12:16:23, INFO: Applying Year 2015 Modify Lanes to 1 Lane\n",
      "2022-01-20 12:16:23, INFO: Applying Project to Roadway Network: Year 2015 Modify Lanes to 1 Lane\n",
      "2022-01-20 12:16:23, INFO: Applying Year 2015 Modify Lanes to 14 Lanes\n",
      "2022-01-20 12:16:23, INFO: Applying Year 2015 Modify Lanes to 14 Lanes\n",
      "2022-01-20 12:16:23, INFO: Applying Project to Roadway Network: Year 2015 Modify Lanes to 14 Lanes\n"
     ]
    },
    {
     "name": "stdout",
     "output_type": "stream",
     "text": [
      "2022-01-20 12:16:23, INFO: Applying Year 2015 Should be 3 Lane should be Undivided Arterial\n",
      "2022-01-20 12:16:23, INFO: Applying Year 2015 Should be 3 Lane should be Undivided Arterial\n",
      "2022-01-20 12:16:23, INFO: Applying Project to Roadway Network: Year 2015 Should be 3 Lane should be Undivided Arterial\n",
      "2022-01-20 12:16:23, INFO: Applying Year 2015 Should be 2 Lane should be Undivided Arterial\n",
      "2022-01-20 12:16:23, INFO: Applying Year 2015 Should be 2 Lane should be Undivided Arterial\n",
      "2022-01-20 12:16:23, INFO: Applying Project to Roadway Network: Year 2015 Should be 2 Lane should be Undivided Arterial\n",
      "2022-01-20 12:16:23, INFO: Applying Year 2015 Lane correct should be Undivided Arterial\n",
      "2022-01-20 12:16:23, INFO: Applying Year 2015 Lane correct should be Undivided Arterial\n",
      "2022-01-20 12:16:23, INFO: Applying Project to Roadway Network: Year 2015 Lane correct should be Undivided Arterial\n",
      "2022-01-20 12:16:24, INFO: Applying Year 2015 Lanes Correct should be Expressway\n",
      "2022-01-20 12:16:24, INFO: Applying Year 2015 Lanes Correct should be Expressway\n",
      "2022-01-20 12:16:24, INFO: Applying Project to Roadway Network: Year 2015 Lanes Correct should be Expressway\n",
      "2022-01-20 12:16:24, INFO: Applying Year 2015 Correct As Is should be Divided Arterial part 4\n",
      "2022-01-20 12:16:24, INFO: Applying Year 2015 Correct As Is should be Divided Arterial part 4\n",
      "2022-01-20 12:16:24, INFO: Applying Project to Roadway Network: Year 2015 Correct As Is should be Divided Arterial part 4\n",
      "2022-01-20 12:16:24, INFO: Applying Year 2015 Correct As Is should be Divided Arterial part 3\n",
      "2022-01-20 12:16:24, INFO: Applying Year 2015 Correct As Is should be Divided Arterial part 3\n",
      "2022-01-20 12:16:24, INFO: Applying Project to Roadway Network: Year 2015 Correct As Is should be Divided Arterial part 3\n",
      "2022-01-20 12:16:25, INFO: Applying Year 2015 Correct As Is should be Divided Arterial part 2\n",
      "2022-01-20 12:16:25, INFO: Applying Year 2015 Correct As Is should be Divided Arterial part 2\n",
      "2022-01-20 12:16:25, INFO: Applying Project to Roadway Network: Year 2015 Correct As Is should be Divided Arterial part 2\n",
      "2022-01-20 12:16:25, INFO: Applying Year 2015 Correct As Is should be Divided Arterial part 1\n",
      "2022-01-20 12:16:25, INFO: Applying Year 2015 Correct As Is should be Divided Arterial part 1\n",
      "2022-01-20 12:16:25, INFO: Applying Project to Roadway Network: Year 2015 Correct As Is should be Divided Arterial part 1\n",
      "2022-01-20 12:16:26, INFO: Applying year 2015 pacheco pass highway missing segments\n",
      "2022-01-20 12:16:26, INFO: Applying year 2015 pacheco pass highway missing segments\n",
      "2022-01-20 12:16:26, INFO: Applying Project to Roadway Network: year 2015 pacheco pass highway missing segments\n",
      "2022-01-20 12:19:02, INFO: Applying add golden gate bridge toll plaza\n",
      "2022-01-20 12:19:02, INFO: Applying add golden gate bridge toll plaza\n",
      "2022-01-20 12:19:02, INFO: Applying Project to Roadway Network: add golden gate bridge toll plaza\n",
      "2022-01-20 12:19:04, INFO: Applying Project to Transit Network: add golden gate bridge toll plaza\n",
      "2022-01-20 12:19:04, WARNING: Roadway Deletion not yet implemented in Transit; ignoring\n",
      "2022-01-20 12:19:04, INFO: Applying add golden gate bridge toll plaza\n",
      "2022-01-20 12:19:04, INFO: Applying Project to Roadway Network: add golden gate bridge toll plaza\n",
      "2022-01-20 12:21:54, INFO: Applying Year 2015 Bus Only Segments for Transbay Terminal Ramps\n",
      "2022-01-20 12:21:54, INFO: Applying Year 2015 Bus Only Segments for Transbay Terminal Ramps\n",
      "2022-01-20 12:21:54, INFO: Applying Project to Roadway Network: Year 2015 Bus Only Segments for Transbay Terminal Ramps\n"
     ]
    },
    {
     "name": "stderr",
     "output_type": "stream",
     "text": [
      "C:\\Users\\lzorn\\.conda\\envs\\tm2_network_dev\\lib\\site-packages\\geopandas\\geodataframe.py:853: SettingWithCopyWarning: \n",
      "A value is trying to be set on a copy of a slice from a DataFrame.\n",
      "Try using .loc[row_indexer,col_indexer] = value instead\n",
      "\n",
      "See the caveats in the documentation: https://pandas.pydata.org/pandas-docs/stable/user_guide/indexing.html#returning-a-view-versus-a-copy\n",
      "  super(GeoDataFrame, self).__setitem__(key, value)\n"
     ]
    },
    {
     "name": "stdout",
     "output_type": "stream",
     "text": [
      "2022-01-20 12:21:54, INFO: Applying Year 2015 Bus Only Segments for Golden Gate Transit on US 101\n",
      "2022-01-20 12:21:54, INFO: Applying Year 2015 Bus Only Segments for Golden Gate Transit on US 101\n",
      "2022-01-20 12:21:54, INFO: Applying Project to Roadway Network: Year 2015 Bus Only Segments for Golden Gate Transit on US 101\n",
      "2022-01-20 12:21:55, INFO: Applying year 2015 sterling on ramp HOV only in PM\n",
      "2022-01-20 12:21:55, INFO: Applying Project to Roadway Network: year 2015 sterling on ramp HOV only in PM\n",
      "2022-01-20 12:21:55, INFO: Applying year 2015 golden gate reversible lanes\n",
      "2022-01-20 12:21:55, INFO: Applying Project to Roadway Network: year 2015 golden gate reversible lanes\n",
      "2022-01-20 12:21:56, INFO: Applying year 2015 golden gate bridge shape correction\n",
      "2022-01-20 12:21:56, INFO: Applying Project to Roadway Network: year 2015 golden gate bridge shape correction\n",
      "peak memory: 8472.32 MiB, increment: 1868.09 MiB\n",
      "Wall time: 8min 40s\n"
     ]
    }
   ],
   "source": [
    "%%time\n",
    "%%memit\n",
    "# Wall time: ~9min\n",
    "scenario.apply_all_projects()"
   ]
  },
  {
   "cell_type": "code",
   "execution_count": 13,
   "metadata": {},
   "outputs": [],
   "source": [
    "# nice idea but this crashes\n",
    "# step1_scenario.scenario_summary()"
   ]
  },
  {
   "cell_type": "code",
   "execution_count": 14,
   "metadata": {},
   "outputs": [
    {
     "data": {
      "text/html": [
       "<div>\n",
       "<style scoped>\n",
       "    .dataframe tbody tr th:only-of-type {\n",
       "        vertical-align: middle;\n",
       "    }\n",
       "\n",
       "    .dataframe tbody tr th {\n",
       "        vertical-align: top;\n",
       "    }\n",
       "\n",
       "    .dataframe thead th {\n",
       "        text-align: right;\n",
       "    }\n",
       "</style>\n",
       "<table border=\"1\" class=\"dataframe\">\n",
       "  <thead>\n",
       "    <tr style=\"text-align: right;\">\n",
       "      <th></th>\n",
       "      <th>A</th>\n",
       "      <th>B</th>\n",
       "      <th>geometry</th>\n",
       "      <th>id</th>\n",
       "    </tr>\n",
       "  </thead>\n",
       "  <tbody>\n",
       "    <tr>\n",
       "      <th>1634794</th>\n",
       "      <td>5013515</td>\n",
       "      <td>5030001</td>\n",
       "      <td>LINESTRING (-122.48221 37.83307, -122.48175 37...</td>\n",
       "      <td>d01b27cabff869e0bf4f7187ee77d6de</td>\n",
       "    </tr>\n",
       "  </tbody>\n",
       "</table>\n",
       "</div>"
      ],
      "text/plain": [
       "               A        B                                           geometry  \\\n",
       "1634794  5013515  5030001  LINESTRING (-122.48221 37.83307, -122.48175 37...   \n",
       "\n",
       "                                       id  \n",
       "1634794  d01b27cabff869e0bf4f7187ee77d6de  "
      ]
     },
     "execution_count": 14,
     "metadata": {},
     "output_type": "execute_result"
    }
   ],
   "source": [
    "scenario.road_net.links_df[scenario.road_net.links_df.model_link_id == 8063198][[\"A\", \"B\", \"geometry\", \"id\"]]"
   ]
  },
  {
   "cell_type": "code",
   "execution_count": 15,
   "metadata": {},
   "outputs": [
    {
     "data": {
      "text/html": [
       "<div>\n",
       "<style scoped>\n",
       "    .dataframe tbody tr th:only-of-type {\n",
       "        vertical-align: middle;\n",
       "    }\n",
       "\n",
       "    .dataframe tbody tr th {\n",
       "        vertical-align: top;\n",
       "    }\n",
       "\n",
       "    .dataframe thead th {\n",
       "        text-align: right;\n",
       "    }\n",
       "</style>\n",
       "<table border=\"1\" class=\"dataframe\">\n",
       "  <thead>\n",
       "    <tr style=\"text-align: right;\">\n",
       "      <th></th>\n",
       "      <th>osm_node_id</th>\n",
       "      <th>shst_node_id</th>\n",
       "      <th>county</th>\n",
       "      <th>drive_access</th>\n",
       "      <th>walk_access</th>\n",
       "      <th>bike_access</th>\n",
       "      <th>model_node_id</th>\n",
       "      <th>rail_only</th>\n",
       "      <th>X</th>\n",
       "      <th>Y</th>\n",
       "      <th>geometry</th>\n",
       "      <th>farezone</th>\n",
       "    </tr>\n",
       "  </thead>\n",
       "  <tbody>\n",
       "    <tr>\n",
       "      <th>644481</th>\n",
       "      <td>NaN</td>\n",
       "      <td></td>\n",
       "      <td>Marin</td>\n",
       "      <td>1</td>\n",
       "      <td>0</td>\n",
       "      <td>0</td>\n",
       "      <td>5030001</td>\n",
       "      <td>0</td>\n",
       "      <td>-122.47658</td>\n",
       "      <td>37.808073</td>\n",
       "      <td>POINT (-122.47658 37.80807)</td>\n",
       "      <td></td>\n",
       "    </tr>\n",
       "  </tbody>\n",
       "</table>\n",
       "</div>"
      ],
      "text/plain": [
       "        osm_node_id shst_node_id county  drive_access  walk_access  \\\n",
       "644481          NaN               Marin             1            0   \n",
       "\n",
       "        bike_access  model_node_id  rail_only          X          Y  \\\n",
       "644481            0        5030001          0 -122.47658  37.808073   \n",
       "\n",
       "                           geometry farezone  \n",
       "644481  POINT (-122.47658 37.80807)           "
      ]
     },
     "execution_count": 15,
     "metadata": {},
     "output_type": "execute_result"
    }
   ],
   "source": [
    "scenario.road_net.nodes_df[scenario.road_net.nodes_df.model_node_id == 5030001]"
   ]
  },
  {
   "cell_type": "code",
   "execution_count": 16,
   "metadata": {},
   "outputs": [
    {
     "data": {
      "text/plain": [
       "[(-122.4822082, 37.8330742),\n",
       " (-122.48175233602524, 37.832883609672905),\n",
       " (-122.48116359114647, 37.83254572138074),\n",
       " (-122.4807545542717, 37.8322078315411),\n",
       " (-122.48029455542564, 37.83168881278591),\n",
       " (-122.48009875416754, 37.83132443825398),\n",
       " (-122.47998476028442, 37.83103844535508),\n",
       " (-122.47989490628242, 37.83066029748685),\n",
       " (-122.47976046055554, 37.829561062531596),\n",
       " (-122.47972592711449, 37.82925917389109),\n",
       " (-122.47969474643469, 37.82899541754155),\n",
       " (-122.47965652495623, 37.82866942822046),\n",
       " (-122.47961830347776, 37.828343967096075),\n",
       " (-122.4795787408948, 37.82800393945721),\n",
       " (-122.47953817248343, 37.82765676008782),\n",
       " (-122.47949860990049, 37.827314081061175),\n",
       " (-122.47865572571753, 37.820096795765785),\n",
       " (-122.4780549108982, 37.81498611149333),\n",
       " (-122.47746214270592, 37.80990050232683),\n",
       " (-122.47741788625717, 37.80948516210632),\n",
       " (-122.47734010219573, 37.80920968005912),\n",
       " (-122.47717916965483, 37.80883671811151),\n",
       " (-122.47690826654433, 37.808453158689176),\n",
       " (-122.47657969594002, 37.808072775968476)]"
      ]
     },
     "execution_count": 16,
     "metadata": {},
     "output_type": "execute_result"
    }
   ],
   "source": [
    "list(scenario.road_net.links_df[scenario.road_net.links_df.model_link_id == 8063198].geometry.iloc[0].coords)"
   ]
  },
  {
   "cell_type": "code",
   "execution_count": 17,
   "metadata": {},
   "outputs": [
    {
     "data": {
      "text/plain": [
       "[(-122.4822082, 37.8330742),\n",
       " (-122.48175233602524, 37.832883609672905),\n",
       " (-122.48116359114647, 37.83254572138074),\n",
       " (-122.4807545542717, 37.8322078315411),\n",
       " (-122.48029455542564, 37.83168881278591),\n",
       " (-122.48009875416754, 37.83132443825398),\n",
       " (-122.47998476028442, 37.83103844535508),\n",
       " (-122.47989490628242, 37.83066029748685),\n",
       " (-122.47976046055554, 37.829561062531596),\n",
       " (-122.47972592711449, 37.82925917389109),\n",
       " (-122.47969474643469, 37.82899541754155),\n",
       " (-122.47965652495623, 37.82866942822046),\n",
       " (-122.47961830347776, 37.828343967096075),\n",
       " (-122.4795787408948, 37.82800393945721),\n",
       " (-122.47953817248343, 37.82765676008782),\n",
       " (-122.47949860990049, 37.827314081061175),\n",
       " (-122.47865572571753, 37.820096795765785),\n",
       " (-122.4780549108982, 37.81498611149333),\n",
       " (-122.47746214270592, 37.80990050232683),\n",
       " (-122.47741788625717, 37.80948516210632),\n",
       " (-122.47734010219573, 37.80920968005912),\n",
       " (-122.47717916965483, 37.80883671811151),\n",
       " (-122.47690826654433, 37.808453158689176),\n",
       " (-122.47657969594002, 37.808072775968476)]"
      ]
     },
     "execution_count": 17,
     "metadata": {},
     "output_type": "execute_result"
    }
   ],
   "source": [
    "list(scenario.road_net.shapes_df[scenario.road_net.shapes_df.id == \"d01b27cabff869e0bf4f7187ee77d6de\"].geometry.iloc[0].coords)"
   ]
  },
  {
   "cell_type": "code",
   "execution_count": 18,
   "metadata": {
    "scrolled": true
   },
   "outputs": [
    {
     "name": "stdout",
     "output_type": "stream",
     "text": [
      "peak memory: 7088.15 MiB, increment: 0.07 MiB\n",
      "Wall time: 8.21 s\n"
     ]
    }
   ],
   "source": [
    "%%time\n",
    "%%memit\n",
    "\n",
    "scenario.remove_all_projects() # reset\n",
    "scenario.add_project_cards_from_tags(\n",
    "    folder=project_card_dir,\n",
    "    tags=['Managed Lanes', 'toll review', 'Exclude Trucks'],\n",
    "    validate=False\n",
    ")"
   ]
  },
  {
   "cell_type": "code",
   "execution_count": 19,
   "metadata": {
    "scrolled": true
   },
   "outputs": [
    {
     "name": "stdout",
     "output_type": "stream",
     "text": [
      "2022-01-20 12:22:12, ERROR: Projects year 2015 golden gate bridge shape correction has add golden gate bridge toll plaza as prerequisite project which is missing for the scenario\n",
      "2022-01-20 12:22:12, ERROR: Projects year 2015 golden gate reversible lanes has add golden gate bridge toll plaza as prerequisite project which is missing for the scenario\n",
      "2022-01-20 12:22:12, ERROR: Projects year 2015 modify toll links on golden gate bridge toll plaza on us101 sb - bridge pass has add golden gate bridge toll plaza as prerequisite project which is missing for the scenario\n",
      "2022-01-20 12:22:12, ERROR: Projects year 2015 modify hov lanes and use on san mateo bridge toll plaza toll plaza on ca-92 wb - bridge pass has add san mateo bridge toll plaza as prerequisite project which is missing for the scenario\n",
      "2022-01-20 12:22:12, INFO: Applying year 2015 modify hov lanes and use on san mateo bridge toll plaza toll plaza on ca-92 wb - bridge pass\n",
      "2022-01-20 12:22:12, INFO: Applying year 2015 modify hov lanes and use on san mateo bridge toll plaza toll plaza on ca-92 wb - bridge pass\n",
      "2022-01-20 12:22:12, INFO: Applying Project to Roadway Network: year 2015 modify hov lanes and use on san mateo bridge toll plaza toll plaza on ca-92 wb - bridge pass\n"
     ]
    },
    {
     "name": "stderr",
     "output_type": "stream",
     "text": [
      "C:\\Users\\lzorn\\.conda\\envs\\tm2_network_dev\\lib\\site-packages\\geopandas\\geodataframe.py:853: SettingWithCopyWarning: \n",
      "A value is trying to be set on a copy of a slice from a DataFrame.\n",
      "Try using .loc[row_indexer,col_indexer] = value instead\n",
      "\n",
      "See the caveats in the documentation: https://pandas.pydata.org/pandas-docs/stable/user_guide/indexing.html#returning-a-view-versus-a-copy\n",
      "  super(GeoDataFrame, self).__setitem__(key, value)\n"
     ]
    },
    {
     "name": "stdout",
     "output_type": "stream",
     "text": [
      "2022-01-20 12:22:12, INFO: Applying Year 2015 Modify HOV Lanes and USE on Benicia Bridge Toll Plaza - Segment 03 - Bridge Pass\n",
      "2022-01-20 12:22:12, INFO: Applying Year 2015 Modify HOV Lanes and USE on Benicia Bridge Toll Plaza - Segment 03 - Bridge Pass\n",
      "2022-01-20 12:22:12, INFO: Applying Project to Roadway Network: Year 2015 Modify HOV Lanes and USE on Benicia Bridge Toll Plaza - Segment 03 - Bridge Pass\n",
      "2022-01-20 12:22:14, INFO: Applying Year 2015 Modify HOV Lanes and USE on Richmond-San Rafael Bridge Toll Plaza - Bridge Pass\n",
      "2022-01-20 12:22:14, INFO: Applying Year 2015 Modify HOV Lanes and USE on Richmond-San Rafael Bridge Toll Plaza - Bridge Pass\n",
      "2022-01-20 12:22:14, INFO: Applying Project to Roadway Network: Year 2015 Modify HOV Lanes and USE on Richmond-San Rafael Bridge Toll Plaza - Bridge Pass\n",
      "2022-01-20 12:22:14, INFO: Applying Year 2015 Modify USE and HOV Lanes on US-101 SB (Segment 02) from South of Healdsburg to North of Petaluma\n",
      "2022-01-20 12:22:14, INFO: Applying Year 2015 Modify USE and HOV Lanes on US-101 SB (Segment 02) from South of Healdsburg to North of Petaluma\n",
      "2022-01-20 12:22:14, INFO: Applying Project to Roadway Network: Year 2015 Modify USE and HOV Lanes on US-101 SB (Segment 02) from South of Healdsburg to North of Petaluma\n",
      "2022-01-20 12:22:20, INFO: Applying Year 2015 Modify HOV Lanes and USE on US-101 SB from Novato to North of Marin City\n",
      "2022-01-20 12:22:20, INFO: Applying Year 2015 Modify HOV Lanes and USE on US-101 SB from Novato to North of Marin City\n",
      "2022-01-20 12:22:20, INFO: Applying Project to Roadway Network: Year 2015 Modify HOV Lanes and USE on US-101 SB from Novato to North of Marin City\n",
      "2022-01-20 12:22:29, INFO: Applying Year 2015 Modify HOV Lanes and USE on US 101 SB CA-85 to Oregon Expressway\n",
      "2022-01-20 12:22:29, INFO: Applying Year 2015 Modify HOV Lanes and USE on US 101 SB CA-85 to Oregon Expressway\n",
      "2022-01-20 12:22:29, INFO: Applying Project to Roadway Network: Year 2015 Modify HOV Lanes and USE on US 101 SB CA-85 to Oregon Expressway\n",
      "2022-01-20 12:22:32, INFO: Applying Year 2015 Modify HOV Lanes and USE on US 101 SB CA-85 to Cochrane Road\n",
      "2022-01-20 12:22:32, INFO: Applying Year 2015 Modify HOV Lanes and USE on US 101 SB CA-85 to Cochrane Road\n",
      "2022-01-20 12:22:32, INFO: Applying Project to Roadway Network: Year 2015 Modify HOV Lanes and USE on US 101 SB CA-85 to Cochrane Road\n",
      "2022-01-20 12:22:46, INFO: Applying Year 2015 Modify HOV Lanes and USE on US-101 NB (Segment 02) from North of Petaluma to South of Healdsburg\n",
      "2022-01-20 12:22:46, INFO: Applying Year 2015 Modify HOV Lanes and USE on US-101 NB (Segment 02) from North of Petaluma to South of Healdsburg\n",
      "2022-01-20 12:22:46, INFO: Applying Project to Roadway Network: Year 2015 Modify HOV Lanes and USE on US-101 NB (Segment 02) from North of Petaluma to South of Healdsburg\n",
      "2022-01-20 12:22:52, INFO: Applying Year 2015 Modify HOV Lanes and USE on US 101 NB Oregon Expressway to Whipple Road\n",
      "2022-01-20 12:22:52, INFO: Applying Year 2015 Modify HOV Lanes and USE on US 101 NB Oregon Expressway to Whipple Road\n",
      "2022-01-20 12:22:52, INFO: Applying Project to Roadway Network: Year 2015 Modify HOV Lanes and USE on US 101 NB Oregon Expressway to Whipple Road\n",
      "2022-01-20 12:22:55, INFO: Applying Year 2015 Modify HOV Lanes and USE on US-101 NB from North of Marin City to Novato\n",
      "2022-01-20 12:22:55, INFO: Applying Year 2015 Modify HOV Lanes and USE on US-101 NB from North of Marin City to Novato\n",
      "2022-01-20 12:22:55, INFO: Applying Project to Roadway Network: Year 2015 Modify HOV Lanes and USE on US-101 NB from North of Marin City to Novato\n",
      "2022-01-20 12:23:04, INFO: Applying Year 2015 Modify HOV Lanes and USE on US 101 NB Cochran Road to CA-85\n",
      "2022-01-20 12:23:04, INFO: Applying Year 2015 Modify HOV Lanes and USE on US 101 NB Cochran Road to CA-85\n",
      "2022-01-20 12:23:04, INFO: Applying Project to Roadway Network: Year 2015 Modify HOV Lanes and USE on US 101 NB Cochran Road to CA-85\n",
      "2022-01-20 12:23:20, INFO: Applying Year 2015 Modify HOV Lanes and USE on San Tomas Expressway SB I-880 to Hwy 17\n",
      "2022-01-20 12:23:20, INFO: Applying Year 2015 Modify HOV Lanes and USE on San Tomas Expressway SB I-880 to Hwy 17\n",
      "2022-01-20 12:23:20, INFO: Applying Project to Roadway Network: Year 2015 Modify HOV Lanes and USE on San Tomas Expressway SB I-880 to Hwy 17\n",
      "2022-01-20 12:23:35, INFO: Applying Year 2015 Modify HOV Lanes and USE on San Tomas Expressway NB Hwy 17 to I-880\n",
      "2022-01-20 12:23:35, INFO: Applying Year 2015 Modify HOV Lanes and USE on San Tomas Expressway NB Hwy 17 to I-880\n",
      "2022-01-20 12:23:35, INFO: Applying Project to Roadway Network: Year 2015 Modify HOV Lanes and USE on San Tomas Expressway NB Hwy 17 to I-880\n",
      "2022-01-20 12:23:50, INFO: Applying Year 2015 Modify HOV Lanes and USE on Montague Expressway WB I-880 to US 101\n",
      "2022-01-20 12:23:50, INFO: Applying Year 2015 Modify HOV Lanes and USE on Montague Expressway WB I-880 to US 101\n",
      "2022-01-20 12:23:50, INFO: Applying Project to Roadway Network: Year 2015 Modify HOV Lanes and USE on Montague Expressway WB I-880 to US 101\n",
      "2022-01-20 12:23:59, INFO: Applying Year 2015 Modify HOV Lanes and USE on Montague Expressway EB US 101 to I-880\n",
      "2022-01-20 12:23:59, INFO: Applying Year 2015 Modify HOV Lanes and USE on Montague Expressway EB US 101 to I-880\n",
      "2022-01-20 12:23:59, INFO: Applying Project to Roadway Network: Year 2015 Modify HOV Lanes and USE on Montague Expressway EB US 101 to I-880\n",
      "2022-01-20 12:24:06, INFO: Applying Year 2015 Modify HOV Lanes and USE on Lawrence Expressway SB SR 237 to I-280\n",
      "2022-01-20 12:24:06, INFO: Applying Year 2015 Modify HOV Lanes and USE on Lawrence Expressway SB SR 237 to I-280\n",
      "2022-01-20 12:24:06, INFO: Applying Project to Roadway Network: Year 2015 Modify HOV Lanes and USE on Lawrence Expressway SB SR 237 to I-280\n",
      "2022-01-20 12:24:20, INFO: Applying Year 2015 Modify HOV Lanes and USE on Lawrence Expressway NB I-280 to SR 237\n",
      "2022-01-20 12:24:20, INFO: Applying Year 2015 Modify HOV Lanes and USE on Lawrence Expressway NB I-280 to SR 237\n",
      "2022-01-20 12:24:20, INFO: Applying Project to Roadway Network: Year 2015 Modify HOV Lanes and USE on Lawrence Expressway NB I-280 to SR 237\n",
      "2022-01-20 12:24:34, INFO: Applying Year 2015 Modify HOV Lanes and USE on Ramp Connecting I880 and Bay Bridge Plaza\n",
      "2022-01-20 12:24:34, INFO: Applying Year 2015 Modify HOV Lanes and USE on Ramp Connecting I880 and Bay Bridge Plaza\n",
      "2022-01-20 12:24:34, INFO: Applying Project to Roadway Network: Year 2015 Modify HOV Lanes and USE on Ramp Connecting I880 and Bay Bridge Plaza\n",
      "2022-01-20 12:24:35, INFO: Applying Year 2015 Modify HOV Lanes and USE on I-880 SB from Hegenberger Road to Dixon Road\n",
      "2022-01-20 12:24:35, INFO: Applying Year 2015 Modify HOV Lanes and USE on I-880 SB from Hegenberger Road to Dixon Road\n",
      "2022-01-20 12:24:35, INFO: Applying Project to Roadway Network: Year 2015 Modify HOV Lanes and USE on I-880 SB from Hegenberger Road to Dixon Road\n",
      "2022-01-20 12:24:46, INFO: Applying Year 2015 Modify Express Lanes and USE on I-880 SB Dixon Road to CA-237\n",
      "2022-01-20 12:24:46, INFO: Applying Year 2015 Modify Express Lanes and USE on I-880 SB Dixon Road to CA-237\n",
      "2022-01-20 12:24:46, INFO: Applying Project to Roadway Network: Year 2015 Modify Express Lanes and USE on I-880 SB Dixon Road to CA-237\n",
      "2022-01-20 12:24:46, INFO: Applying Year 2015 Modify HOV Lanes and USE on I-880 SB CA-237 to US 101\n",
      "2022-01-20 12:24:46, INFO: Applying Year 2015 Modify HOV Lanes and USE on I-880 SB CA-237 to US 101\n",
      "2022-01-20 12:24:46, INFO: Applying Project to Roadway Network: Year 2015 Modify HOV Lanes and USE on I-880 SB CA-237 to US 101\n",
      "2022-01-20 12:24:50, INFO: Applying Year 2015 Modify HOV lanes and USE on I-880 NB US 101 to CA-237\n",
      "2022-01-20 12:24:50, INFO: Applying Year 2015 Modify HOV lanes and USE on I-880 NB US 101 to CA-237\n",
      "2022-01-20 12:24:50, INFO: Applying Project to Roadway Network: Year 2015 Modify HOV lanes and USE on I-880 NB US 101 to CA-237\n",
      "2022-01-20 12:24:51, INFO: Applying Year 2015 Modify HOV Lanes and USE on I-880 NB from Dixon Road to I-238\n",
      "2022-01-20 12:24:51, INFO: Applying Year 2015 Modify HOV Lanes and USE on I-880 NB from Dixon Road to I-238\n",
      "2022-01-20 12:24:51, INFO: Applying Project to Roadway Network: Year 2015 Modify HOV Lanes and USE on I-880 NB from Dixon Road to I-238\n"
     ]
    },
    {
     "name": "stdout",
     "output_type": "stream",
     "text": [
      "2022-01-20 12:25:00, INFO: Applying Year 2015 Modify Express Lanes and USE on I-880 NB CA-237 to Dixon Road\n",
      "2022-01-20 12:25:00, INFO: Applying Year 2015 Modify Express Lanes and USE on I-880 NB CA-237 to Dixon Road\n",
      "2022-01-20 12:25:00, INFO: Applying Project to Roadway Network: Year 2015 Modify Express Lanes and USE on I-880 NB CA-237 to Dixon Road\n",
      "2022-01-20 12:25:00, INFO: Applying Year 2015 Modify USE on I-80 WB to Bay Bridge Toll Plaza\n",
      "2022-01-20 12:25:00, INFO: Applying Project to Roadway Network: Year 2015 Modify USE on I-80 WB to Bay Bridge Toll Plaza\n",
      "2022-01-20 12:25:02, INFO: Applying Year 2015 Modify HOV Lanes and USE on I-80 WB from Fairfield to I-680\n",
      "2022-01-20 12:25:02, INFO: Applying Year 2015 Modify HOV Lanes and USE on I-80 WB from Fairfield to I-680\n",
      "2022-01-20 12:25:02, INFO: Applying Project to Roadway Network: Year 2015 Modify HOV Lanes and USE on I-80 WB from Fairfield to I-680\n"
     ]
    },
    {
     "name": "stderr",
     "output_type": "stream",
     "text": [
      "C:\\Users\\lzorn\\.conda\\envs\\tm2_network_dev\\lib\\site-packages\\geopandas\\geodataframe.py:853: SettingWithCopyWarning: \n",
      "A value is trying to be set on a copy of a slice from a DataFrame.\n",
      "Try using .loc[row_indexer,col_indexer] = value instead\n",
      "\n",
      "See the caveats in the documentation: https://pandas.pydata.org/pandas-docs/stable/user_guide/indexing.html#returning-a-view-versus-a-copy\n",
      "  super(GeoDataFrame, self).__setitem__(key, value)\n"
     ]
    },
    {
     "name": "stdout",
     "output_type": "stream",
     "text": [
      "2022-01-20 12:25:06, INFO: Applying Year 2015 Modify HOV Lanes and USE on I-80 WB from Carquinez Bridge to Bay Bridge Toll Plaza\n",
      "2022-01-20 12:25:06, INFO: Applying Year 2015 Modify HOV Lanes and USE on I-80 WB from Carquinez Bridge to Bay Bridge Toll Plaza\n",
      "2022-01-20 12:25:06, INFO: Applying Project to Roadway Network: Year 2015 Modify HOV Lanes and USE on I-80 WB from Carquinez Bridge to Bay Bridge Toll Plaza\n",
      "2022-01-20 12:25:14, INFO: Applying Year 2015 Modify HOV Lanes and USE on I-80 EB from I-680 to Fairfield\n",
      "2022-01-20 12:25:14, INFO: Applying Year 2015 Modify HOV Lanes and USE on I-80 EB from I-680 to Fairfield\n",
      "2022-01-20 12:25:14, INFO: Applying Project to Roadway Network: Year 2015 Modify HOV Lanes and USE on I-80 EB from I-680 to Fairfield\n",
      "2022-01-20 12:25:18, INFO: Applying Year 2015 Modify HOV Lanes and USE on I-80 EB from Bay Bridge to Carquinez Bridge Toll Plaza\n",
      "2022-01-20 12:25:18, INFO: Applying Year 2015 Modify HOV Lanes and USE on I-80 EB from Bay Bridge to Carquinez Bridge Toll Plaza\n",
      "2022-01-20 12:25:18, INFO: Applying Project to Roadway Network: Year 2015 Modify HOV Lanes and USE on I-80 EB from Bay Bridge to Carquinez Bridge Toll Plaza\n",
      "2022-01-20 12:25:27, INFO: Applying Year 2015 Modify Express Lanes and USE on I-680 SB Washington Blvd to Mission Blvd\n",
      "2022-01-20 12:25:27, INFO: Applying Year 2015 Modify Express Lanes and USE on I-680 SB Washington Blvd to Mission Blvd\n",
      "2022-01-20 12:25:27, INFO: Applying Project to Roadway Network: Year 2015 Modify Express Lanes and USE on I-680 SB Washington Blvd to Mission Blvd\n",
      "2022-01-20 12:25:27, INFO: Applying Year 2015 Modify Express Lanes and USE on I-680 SB Mission Blvd to CA-237\n",
      "2022-01-20 12:25:27, INFO: Applying Year 2015 Modify Express Lanes and USE on I-680 SB Mission Blvd to CA-237\n",
      "2022-01-20 12:25:27, INFO: Applying Project to Roadway Network: Year 2015 Modify Express Lanes and USE on I-680 SB Mission Blvd to CA-237\n",
      "2022-01-20 12:25:28, INFO: Applying Year 2015 Modify HOV Lanes and USE on I-680 SB from Benicia Bridge to Alcosta Blvd\n",
      "2022-01-20 12:25:28, INFO: Applying Year 2015 Modify HOV Lanes and USE on I-680 SB from Benicia Bridge to Alcosta Blvd\n",
      "2022-01-20 12:25:28, INFO: Applying Project to Roadway Network: Year 2015 Modify HOV Lanes and USE on I-680 SB from Benicia Bridge to Alcosta Blvd\n",
      "2022-01-20 12:25:37, INFO: Applying Year 2015 Modify Express Lanes and USE on I-680 SB Andrade Road to Washington Blvd\n",
      "2022-01-20 12:25:37, INFO: Applying Year 2015 Modify Express Lanes and USE on I-680 SB Andrade Road to Washington Blvd\n",
      "2022-01-20 12:25:37, INFO: Applying Project to Roadway Network: Year 2015 Modify Express Lanes and USE on I-680 SB Andrade Road to Washington Blvd\n",
      "2022-01-20 12:25:39, INFO: Applying Year 2015 Modify HOV Lanes and USE on I-680 NB from Alcosta Blvd to Livorna Road\n",
      "2022-01-20 12:25:39, INFO: Applying Year 2015 Modify HOV Lanes and USE on I-680 NB from Alcosta Blvd to Livorna Road\n",
      "2022-01-20 12:25:39, INFO: Applying Project to Roadway Network: Year 2015 Modify HOV Lanes and USE on I-680 NB from Alcosta Blvd to Livorna Road\n",
      "2022-01-20 12:25:42, INFO: Applying Year 2015 Modify USE on I-580 WB Springtown Blvd to Isabel Ave\n",
      "2022-01-20 12:25:42, INFO: Applying Year 2015 Modify USE on I-580 WB Springtown Blvd to Isabel Ave\n",
      "2022-01-20 12:25:42, INFO: Applying Project to Roadway Network: Year 2015 Modify USE on I-580 WB Springtown Blvd to Isabel Ave\n",
      "2022-01-20 12:25:43, INFO: Applying Year 2015 Modify USE on I-580 WB Isabel Ave to Fallon Road\n",
      "2022-01-20 12:25:43, INFO: Applying Year 2015 Modify USE on I-580 WB Isabel Ave to Fallon Road\n",
      "2022-01-20 12:25:43, INFO: Applying Project to Roadway Network: Year 2015 Modify USE on I-580 WB Isabel Ave to Fallon Road\n",
      "2022-01-20 12:25:45, INFO: Applying Year 2015 Modify USE on I-580 WB Hacienda Drive to San Ramon Road\n",
      "2022-01-20 12:25:45, INFO: Applying Year 2015 Modify USE on I-580 WB Hacienda Drive to San Ramon Road\n",
      "2022-01-20 12:25:45, INFO: Applying Project to Roadway Network: Year 2015 Modify USE on I-580 WB Hacienda Drive to San Ramon Road\n",
      "2022-01-20 12:25:46, INFO: Applying Year 2015 Modify USE on I-580 WB Greenville Road to Springtown Blvd\n",
      "2022-01-20 12:25:46, INFO: Applying Year 2015 Modify USE on I-580 WB Greenville Road to Springtown Blvd\n",
      "2022-01-20 12:25:46, INFO: Applying Project to Roadway Network: Year 2015 Modify USE on I-580 WB Greenville Road to Springtown Blvd\n",
      "2022-01-20 12:25:47, INFO: Applying Year 2015 Modify USE on I-580 WB Fallon Road to Hacienda Drive\n",
      "2022-01-20 12:25:47, INFO: Applying Year 2015 Modify USE on I-580 WB Fallon Road to Hacienda Drive\n",
      "2022-01-20 12:25:47, INFO: Applying Project to Roadway Network: Year 2015 Modify USE on I-580 WB Fallon Road to Hacienda Drive\n",
      "2022-01-20 12:25:48, INFO: Applying Year 2015 Modify Express Lanes and USE on I-580 EB Vasco Road to Greenville Road\n",
      "2022-01-20 12:25:48, INFO: Applying Year 2015 Modify Express Lanes and USE on I-580 EB Vasco Road to Greenville Road\n",
      "2022-01-20 12:25:48, INFO: Applying Project to Roadway Network: Year 2015 Modify Express Lanes and USE on I-580 EB Vasco Road to Greenville Road\n",
      "2022-01-20 12:25:49, INFO: Applying Year 2015 Modify Express Lanes and USE on I-580 EB (segment 02) Livermore Ave to Vasco Road\n",
      "2022-01-20 12:25:49, INFO: Applying Year 2015 Modify Express Lanes and USE on I-580 EB (segment 02) Livermore Ave to Vasco Road\n",
      "2022-01-20 12:25:49, INFO: Applying Project to Roadway Network: Year 2015 Modify Express Lanes and USE on I-580 EB (segment 02) Livermore Ave to Vasco Road\n",
      "2022-01-20 12:25:49, INFO: Applying Year 2015 Modify Express Lanes and USE on I-580 EB (segment 02) Hacienda Drive to Airway Blvd\n",
      "2022-01-20 12:25:49, INFO: Applying Year 2015 Modify Express Lanes and USE on I-580 EB (segment 02) Hacienda Drive to Airway Blvd\n",
      "2022-01-20 12:25:49, INFO: Applying Project to Roadway Network: Year 2015 Modify Express Lanes and USE on I-580 EB (segment 02) Hacienda Drive to Airway Blvd\n",
      "2022-01-20 12:25:50, INFO: Applying Year 2015 Modify Express Lanes and USE on I-580 EB (segment 01) Livermore Ave to Vasco Road\n",
      "2022-01-20 12:25:50, INFO: Applying Year 2015 Modify Express Lanes and USE on I-580 EB (segment 01) Livermore Ave to Vasco Road\n",
      "2022-01-20 12:25:50, INFO: Applying Project to Roadway Network: Year 2015 Modify Express Lanes and USE on I-580 EB (segment 01) Livermore Ave to Vasco Road\n",
      "2022-01-20 12:25:51, INFO: Applying Year 2015 Modify Express Lanes and USE on I-580 EB (segment 01) Hacienda Drive to Airway_Blvd\n",
      "2022-01-20 12:25:51, INFO: Applying Year 2015 Modify Express Lanes and USE on I-580 EB (segment 01) Hacienda Drive to Airway_Blvd\n",
      "2022-01-20 12:25:51, INFO: Applying Project to Roadway Network: Year 2015 Modify Express Lanes and USE on I-580 EB (segment 01) Hacienda Drive to Airway_Blvd\n",
      "2022-01-20 12:25:52, INFO: Applying Year 2015 Modify Express Lanes and USE on I-580 EB Airway Blvd to Livermore Ave\n",
      "2022-01-20 12:25:52, INFO: Applying Year 2015 Modify Express Lanes and USE on I-580 EB Airway Blvd to Livermore Ave\n",
      "2022-01-20 12:25:52, INFO: Applying Project to Roadway Network: Year 2015 Modify Express Lanes and USE on I-580 EB Airway Blvd to Livermore Ave\n",
      "2022-01-20 12:25:52, INFO: Applying Year 2015 Modify HOV lanes and USE on Hwy 4 WB from Deer Valley Road to Port Chicago Highway\n",
      "2022-01-20 12:25:52, INFO: Applying Year 2015 Modify HOV lanes and USE on Hwy 4 WB from Deer Valley Road to Port Chicago Highway\n",
      "2022-01-20 12:25:52, INFO: Applying Project to Roadway Network: Year 2015 Modify HOV lanes and USE on Hwy 4 WB from Deer Valley Road to Port Chicago Highway\n",
      "2022-01-20 12:25:57, INFO: Applying Year 2015 Modify HOV Lanes and USE on Hwy 4 EB from Port Chicago Highway to Deer Valley Road\n",
      "2022-01-20 12:25:57, INFO: Applying Year 2015 Modify HOV Lanes and USE on Hwy 4 EB from Port Chicago Highway to Deer Valley Road\n",
      "2022-01-20 12:25:57, INFO: Applying Project to Roadway Network: Year 2015 Modify HOV Lanes and USE on Hwy 4 EB from Port Chicago Highway to Deer Valley Road\n",
      "2022-01-20 12:26:01, INFO: Applying Year 2015 Modify HOV Lanes and USE on E Capitol Expressway SB I-680 to US 101\n",
      "2022-01-20 12:26:01, INFO: Applying Year 2015 Modify HOV Lanes and USE on E Capitol Expressway SB I-680 to US 101\n",
      "2022-01-20 12:26:01, INFO: Applying Project to Roadway Network: Year 2015 Modify HOV Lanes and USE on E Capitol Expressway SB I-680 to US 101\n"
     ]
    },
    {
     "name": "stdout",
     "output_type": "stream",
     "text": [
      "2022-01-20 12:26:14, INFO: Applying Year 2015 Modify HOV Lanes and USE on E Capitol Expressway NB US101 to I-680\n",
      "2022-01-20 12:26:14, INFO: Applying Year 2015 Modify HOV Lanes and USE on E Capitol Expressway NB US101 to I-680\n",
      "2022-01-20 12:26:14, INFO: Applying Project to Roadway Network: Year 2015 Modify HOV Lanes and USE on E Capitol Expressway NB US101 to I-680\n",
      "2022-01-20 12:26:25, INFO: Applying Year 2015 Modify HOV Lanes and USE on CA-92 WB Eden Landing Rd to San Mateo-Hayward Bridge Toll Plaza\n",
      "2022-01-20 12:26:25, INFO: Applying Year 2015 Modify HOV Lanes and USE on CA-92 WB Eden Landing Rd to San Mateo-Hayward Bridge Toll Plaza\n",
      "2022-01-20 12:26:25, INFO: Applying Project to Roadway Network: Year 2015 Modify HOV Lanes and USE on CA-92 WB Eden Landing Rd to San Mateo-Hayward Bridge Toll Plaza\n",
      "2022-01-20 12:26:27, INFO: Applying Year 2015 Modify HOV Lanes and USE on CA-87 SB US 101 to CA-85\n",
      "2022-01-20 12:26:27, INFO: Applying Year 2015 Modify HOV Lanes and USE on CA-87 SB US 101 to CA-85\n",
      "2022-01-20 12:26:27, INFO: Applying Project to Roadway Network: Year 2015 Modify HOV Lanes and USE on CA-87 SB US 101 to CA-85\n",
      "2022-01-20 12:26:31, INFO: Applying Year 2015 Modify HOV Lanes and USE on CA 87 NB CA-85 to US 101\n",
      "2022-01-20 12:26:31, INFO: Applying Year 2015 Modify HOV Lanes and USE on CA 87 NB CA-85 to US 101\n",
      "2022-01-20 12:26:31, INFO: Applying Project to Roadway Network: Year 2015 Modify HOV Lanes and USE on CA 87 NB CA-85 to US 101\n",
      "2022-01-20 12:26:34, INFO: Applying Year 2015 Modify HOV Lanes and USE on CA-85 SB US101 to US101\n",
      "2022-01-20 12:26:34, INFO: Applying Year 2015 Modify HOV Lanes and USE on CA-85 SB US101 to US101\n",
      "2022-01-20 12:26:34, INFO: Applying Project to Roadway Network: Year 2015 Modify HOV Lanes and USE on CA-85 SB US101 to US101\n",
      "2022-01-20 12:26:43, INFO: Applying Year 2015 Modify HOV Lanes and USE on CA-85 NB US101 to US101\n",
      "2022-01-20 12:26:43, INFO: Applying Year 2015 Modify HOV Lanes and USE on CA-85 NB US101 to US101\n",
      "2022-01-20 12:26:43, INFO: Applying Project to Roadway Network: Year 2015 Modify HOV Lanes and USE on CA-85 NB US101 to US101\n",
      "2022-01-20 12:26:52, INFO: Applying Year 2015 Modify HOV Lanes and USE on CA-84 WB I-880 to Dumbarton Bridge Toll Plaza\n",
      "2022-01-20 12:26:52, INFO: Applying Year 2015 Modify HOV Lanes and USE on CA-84 WB I-880 to Dumbarton Bridge Toll Plaza\n",
      "2022-01-20 12:26:52, INFO: Applying Project to Roadway Network: Year 2015 Modify HOV Lanes and USE on CA-84 WB I-880 to Dumbarton Bridge Toll Plaza\n",
      "2022-01-20 12:26:53, INFO: Applying Year 2015 Modify HOV Lanes and USE on CA-280 SB Magdalena Ave to Southwest Expressway\n",
      "2022-01-20 12:26:53, INFO: Applying Year 2015 Modify HOV Lanes and USE on CA-280 SB Magdalena Ave to Southwest Expressway\n",
      "2022-01-20 12:26:53, INFO: Applying Project to Roadway Network: Year 2015 Modify HOV Lanes and USE on CA-280 SB Magdalena Ave to Southwest Expressway\n",
      "2022-01-20 12:26:57, INFO: Applying Year 2015 Modify HOV Lanes and USE on CA-280 NB Bascom Ave to Magdalena Ave\n",
      "2022-01-20 12:26:57, INFO: Applying Year 2015 Modify HOV Lanes and USE on CA-280 NB Bascom Ave to Magdalena Ave\n",
      "2022-01-20 12:26:57, INFO: Applying Project to Roadway Network: Year 2015 Modify HOV Lanes and USE on CA-280 NB Bascom Ave to Magdalena Ave\n",
      "2022-01-20 12:27:01, INFO: Applying Year 2015 Modify HOV Lanes and USE on CA-237 WB North 1st Street to US 101\n",
      "2022-01-20 12:27:01, INFO: Applying Year 2015 Modify HOV Lanes and USE on CA-237 WB North 1st Street to US 101\n",
      "2022-01-20 12:27:01, INFO: Applying Project to Roadway Network: Year 2015 Modify HOV Lanes and USE on CA-237 WB North 1st Street to US 101\n",
      "2022-01-20 12:27:02, INFO: Applying Year 2015 Modify Express Lanes and USE on CA-237 WB I-880 to CA-262 Mission Blvd\n",
      "2022-01-20 12:27:02, INFO: Applying Year 2015 Modify Express Lanes and USE on CA-237 WB I-880 to CA-262 Mission Blvd\n",
      "2022-01-20 12:27:02, INFO: Applying Project to Roadway Network: Year 2015 Modify Express Lanes and USE on CA-237 WB I-880 to CA-262 Mission Blvd\n",
      "2022-01-20 12:27:03, INFO: Applying Year 2015 Modify HOV Lanes and USE on CA-237 EB US 101 to North 1st Street\n",
      "2022-01-20 12:27:03, INFO: Applying Year 2015 Modify HOV Lanes and USE on CA-237 EB US 101 to North 1st Street\n",
      "2022-01-20 12:27:03, INFO: Applying Project to Roadway Network: Year 2015 Modify HOV Lanes and USE on CA-237 EB US 101 to North 1st Street\n",
      "2022-01-20 12:27:05, INFO: Applying Year 2015 Modify Express Lanes and USE on CA-237 EB SR-262 Mission Blvd to I-880\n",
      "2022-01-20 12:27:05, INFO: Applying Year 2015 Modify Express Lanes and USE on CA-237 EB SR-262 Mission Blvd to I-880\n",
      "2022-01-20 12:27:05, INFO: Applying Project to Roadway Network: Year 2015 Modify Express Lanes and USE on CA-237 EB SR-262 Mission Blvd to I-880\n",
      "2022-01-20 12:27:06, INFO: Applying Year 2015 Modify HOV Lanes and USE on Benicia Bridge Toll Plaza - Bridge Pass\n",
      "2022-01-20 12:27:06, INFO: Applying Year 2015 Modify HOV Lanes and USE on Benicia Bridge Toll Plaza - Bridge Pass\n",
      "2022-01-20 12:27:06, INFO: Applying Project to Roadway Network: Year 2015 Modify HOV Lanes and USE on Benicia Bridge Toll Plaza - Bridge Pass\n",
      "2022-01-20 12:27:06, INFO: Applying Year 2015 Modify HOV Lanes-Fastrak Lanes and USE on San Francisco-Oakland Bay Bridge WB Toll Plaza segment 03 - Bridge Pass\n",
      "2022-01-20 12:27:06, INFO: Applying Year 2015 Modify HOV Lanes-Fastrak Lanes and USE on San Francisco-Oakland Bay Bridge WB Toll Plaza segment 03 - Bridge Pass\n",
      "2022-01-20 12:27:06, INFO: Applying Project to Roadway Network: Year 2015 Modify HOV Lanes-Fastrak Lanes and USE on San Francisco-Oakland Bay Bridge WB Toll Plaza segment 03 - Bridge Pass\n",
      "2022-01-20 12:27:07, INFO: Applying Year 2015 Modify HOV Lanes-Fastrak Lanes and USE on San Francisco-Oakland Bay Bridge WB Toll Plaza segment 02 - Bridge Pass\n",
      "2022-01-20 12:27:07, INFO: Applying Year 2015 Modify HOV Lanes-Fastrak Lanes and USE on San Francisco-Oakland Bay Bridge WB Toll Plaza segment 02 - Bridge Pass\n",
      "2022-01-20 12:27:07, INFO: Applying Project to Roadway Network: Year 2015 Modify HOV Lanes-Fastrak Lanes and USE on San Francisco-Oakland Bay Bridge WB Toll Plaza segment 02 - Bridge Pass\n",
      "2022-01-20 12:27:07, INFO: Applying Year 2015 Modify HOV Lanes-Fastrak Lanes and USE on San Francisco-Oakland Bay Bridge WB Toll Plaza - Bridge Pass\n",
      "2022-01-20 12:27:07, INFO: Applying Year 2015 Modify HOV Lanes-Fastrak Lanes and USE on San Francisco-Oakland Bay Bridge WB Toll Plaza - Bridge Pass\n",
      "2022-01-20 12:27:07, INFO: Applying Project to Roadway Network: Year 2015 Modify HOV Lanes-Fastrak Lanes and USE on San Francisco-Oakland Bay Bridge WB Toll Plaza - Bridge Pass\n",
      "2022-01-20 12:27:07, INFO: Applying year 2015 modify toll links on golden gate bridge toll plaza on us101 sb - bridge pass\n",
      "2022-01-20 12:27:07, INFO: Applying year 2015 modify toll links on golden gate bridge toll plaza on us101 sb - bridge pass\n",
      "2022-01-20 12:27:07, INFO: Applying Project to Roadway Network: year 2015 modify toll links on golden gate bridge toll plaza on us101 sb - bridge pass\n",
      "2022-01-20 12:27:07, INFO: Applying Year 2015 Modify HOV Lanes and USE on Dumbarton Bridge Toll Plaza Toll Plaza on CA-84 WB - Bridge Pass\n",
      "2022-01-20 12:27:07, INFO: Applying Year 2015 Modify HOV Lanes and USE on Dumbarton Bridge Toll Plaza Toll Plaza on CA-84 WB - Bridge Pass\n",
      "2022-01-20 12:27:07, INFO: Applying Project to Roadway Network: Year 2015 Modify HOV Lanes and USE on Dumbarton Bridge Toll Plaza Toll Plaza on CA-84 WB - Bridge Pass\n",
      "2022-01-20 12:27:08, INFO: Applying Year 2015 Modify HOV Lanes and USE on Carquinez Bridge Toll Plaza on I-80 NB - Bridge Pass\n",
      "2022-01-20 12:27:08, INFO: Applying Year 2015 Modify HOV Lanes and USE on Carquinez Bridge Toll Plaza on I-80 NB - Bridge Pass\n",
      "2022-01-20 12:27:08, INFO: Applying Project to Roadway Network: Year 2015 Modify HOV Lanes and USE on Carquinez Bridge Toll Plaza on I-80 NB - Bridge Pass\n",
      "2022-01-20 12:27:08, INFO: Applying Year 2015 Exclude Trucks on SR 85\n",
      "2022-01-20 12:27:08, INFO: Applying Year 2015 Exclude Trucks on SR 85\n",
      "2022-01-20 12:27:08, INFO: Applying Project to Roadway Network: Year 2015 Exclude Trucks on SR 85\n",
      "2022-01-20 12:27:08, INFO: Applying Year 2015 Exclude Trucks on I580\n",
      "2022-01-20 12:27:08, INFO: Applying Year 2015 Exclude Trucks on I580\n"
     ]
    },
    {
     "name": "stdout",
     "output_type": "stream",
     "text": [
      "2022-01-20 12:27:08, INFO: Applying Project to Roadway Network: Year 2015 Exclude Trucks on I580\n",
      "2022-01-20 12:27:08, INFO: Applying Year 2015 Modify HOV Lanes-Fastrak Lanes and USE on Antioch Bridge NB on Route 160 - Bridge Pass\n",
      "2022-01-20 12:27:08, INFO: Applying Year 2015 Modify HOV Lanes-Fastrak Lanes and USE on Antioch Bridge NB on Route 160 - Bridge Pass\n",
      "2022-01-20 12:27:08, INFO: Applying Project to Roadway Network: Year 2015 Modify HOV Lanes-Fastrak Lanes and USE on Antioch Bridge NB on Route 160 - Bridge Pass\n",
      "peak memory: 8100.13 MiB, increment: 1011.98 MiB\n",
      "Wall time: 5min\n"
     ]
    }
   ],
   "source": [
    "%%time\n",
    "%%memit\n",
    "# Wall time: ~6min\n",
    "scenario.apply_all_projects()"
   ]
  },
  {
   "cell_type": "code",
   "execution_count": 20,
   "metadata": {},
   "outputs": [
    {
     "data": {
      "text/plain": [
       "(1634796, 44)"
      ]
     },
     "execution_count": 20,
     "metadata": {},
     "output_type": "execute_result"
    }
   ],
   "source": [
    "# todo: these QA queries would be more useful with notes about expected output\n",
    "scenario.road_net.links_df.shape"
   ]
  },
  {
   "cell_type": "code",
   "execution_count": 21,
   "metadata": {},
   "outputs": [
    {
     "data": {
      "text/plain": [
       "1634796"
      ]
     },
     "execution_count": 21,
     "metadata": {},
     "output_type": "execute_result"
    }
   ],
   "source": [
    "scenario.road_net.links_df.model_link_id.nunique()"
   ]
  },
  {
   "cell_type": "code",
   "execution_count": 22,
   "metadata": {},
   "outputs": [
    {
     "data": {
      "text/plain": [
       "762806    {'default': 0, 'timeofday': [{'time': (21600, ...\n",
       "Name: useclass, dtype: object"
      ]
     },
     "execution_count": 22,
     "metadata": {},
     "output_type": "execute_result"
    }
   ],
   "source": [
    "scenario.road_net.links_df[scenario.road_net.links_df.model_link_id == 3149471].useclass"
   ]
  },
  {
   "cell_type": "code",
   "execution_count": 23,
   "metadata": {},
   "outputs": [
    {
     "data": {
      "text/plain": [
       "0"
      ]
     },
     "execution_count": 23,
     "metadata": {},
     "output_type": "execute_result"
    }
   ],
   "source": [
    "scenario.road_net.links_df.county.isnull().sum()"
   ]
  },
  {
   "cell_type": "code",
   "execution_count": 24,
   "metadata": {},
   "outputs": [
    {
     "data": {
      "text/plain": [
       "8063199"
      ]
     },
     "execution_count": 24,
     "metadata": {},
     "output_type": "execute_result"
    }
   ],
   "source": [
    "scenario.road_net.links_df.model_link_id.max()"
   ]
  },
  {
   "cell_type": "code",
   "execution_count": 25,
   "metadata": {
    "scrolled": true
   },
   "outputs": [
    {
     "name": "stdout",
     "output_type": "stream",
     "text": [
      "peak memory: 7201.49 MiB, increment: 0.55 MiB\n",
      "Wall time: 7.65 s\n"
     ]
    }
   ],
   "source": [
    "%%time\n",
    "%%memit\n",
    "\n",
    "scenario.remove_all_projects() # reset\n",
    "scenario.add_project_cards_from_tags(\n",
    "    folder=project_card_dir,\n",
    "    tags=['Major Transit links'],\n",
    "    validate=False\n",
    ")"
   ]
  },
  {
   "cell_type": "code",
   "execution_count": 26,
   "metadata": {
    "scrolled": true
   },
   "outputs": [
    {
     "name": "stdout",
     "output_type": "stream",
     "text": [
      "2022-01-20 12:27:22, ERROR: Projects year 2015 golden gate bridge shape correction has add golden gate bridge toll plaza as prerequisite project which is missing for the scenario\n",
      "2022-01-20 12:27:22, ERROR: Projects year 2015 golden gate reversible lanes has add golden gate bridge toll plaza as prerequisite project which is missing for the scenario\n",
      "2022-01-20 12:27:22, ERROR: Projects year 2015 modify toll links on golden gate bridge toll plaza on us101 sb - bridge pass has add golden gate bridge toll plaza as prerequisite project which is missing for the scenario\n",
      "2022-01-20 12:27:22, ERROR: Projects year 2015 modify hov lanes and use on san mateo bridge toll plaza toll plaza on ca-92 wb - bridge pass has add san mateo bridge toll plaza as prerequisite project which is missing for the scenario\n",
      "2022-01-20 12:27:22, INFO: Applying move street rail to street connector links\n",
      "2022-01-20 12:27:22, INFO: Applying move street rail to street connector links\n",
      "2022-01-20 12:27:22, INFO: Applying Project to Roadway Network: move street rail to street connector links\n",
      "2022-01-20 12:27:22, INFO: Applying move street rail to street connector links\n",
      "2022-01-20 12:27:22, INFO: Applying Project to Roadway Network: move street rail to street connector links\n"
     ]
    },
    {
     "name": "stderr",
     "output_type": "stream",
     "text": [
      "C:\\Users\\lzorn\\.conda\\envs\\tm2_network_dev\\lib\\site-packages\\geopandas\\geodataframe.py:853: SettingWithCopyWarning: \n",
      "A value is trying to be set on a copy of a slice from a DataFrame.\n",
      "Try using .loc[row_indexer,col_indexer] = value instead\n",
      "\n",
      "See the caveats in the documentation: https://pandas.pydata.org/pandas-docs/stable/user_guide/indexing.html#returning-a-view-versus-a-copy\n",
      "  super(GeoDataFrame, self).__setitem__(key, value)\n"
     ]
    },
    {
     "name": "stdout",
     "output_type": "stream",
     "text": [
      "2022-01-20 12:29:48, INFO: Applying move street rail to street connector links\n",
      "2022-01-20 12:29:48, INFO: Applying Project to Roadway Network: move street rail to street connector links\n",
      "2022-01-20 12:32:18, INFO: Applying move street rail to street connector links\n",
      "2022-01-20 12:32:18, INFO: Applying Project to Roadway Network: move street rail to street connector links\n",
      "2022-01-20 12:34:52, INFO: Applying move street rail to street connector links\n",
      "2022-01-20 12:34:52, INFO: Applying Project to Roadway Network: move street rail to street connector links\n",
      "2022-01-20 12:37:27, INFO: Applying move street rail to street connector links\n",
      "2022-01-20 12:37:27, INFO: Applying Project to Roadway Network: move street rail to street connector links\n",
      "2022-01-20 12:40:01, INFO: Applying move street rail to street connector links\n",
      "2022-01-20 12:40:01, INFO: Applying Project to Roadway Network: move street rail to street connector links\n",
      "2022-01-20 12:42:39, INFO: Applying move street rail to street connector links\n",
      "2022-01-20 12:42:39, INFO: Applying Project to Roadway Network: move street rail to street connector links\n",
      "2022-01-20 12:45:08, INFO: Applying move street rail to street connector links\n",
      "2022-01-20 12:45:08, INFO: Applying Project to Roadway Network: move street rail to street connector links\n",
      "2022-01-20 12:47:40, INFO: Applying move street rail to street connector links\n",
      "2022-01-20 12:47:40, INFO: Applying Project to Roadway Network: move street rail to street connector links\n",
      "2022-01-20 12:50:32, INFO: Applying move street rail to street connector links\n",
      "2022-01-20 12:50:32, INFO: Applying Project to Roadway Network: move street rail to street connector links\n",
      "2022-01-20 12:53:18, INFO: Applying move street rail to street connector links\n",
      "2022-01-20 12:53:18, INFO: Applying Project to Roadway Network: move street rail to street connector links\n",
      "2022-01-20 12:55:48, INFO: Applying move street rail to street connector links\n",
      "2022-01-20 12:55:48, INFO: Applying Project to Roadway Network: move street rail to street connector links\n",
      "2022-01-20 12:58:18, INFO: Applying move street rail to street connector links\n",
      "2022-01-20 12:58:18, INFO: Applying Project to Roadway Network: move street rail to street connector links\n",
      "2022-01-20 13:00:43, INFO: Applying move street rail to street connector links\n",
      "2022-01-20 13:00:43, INFO: Applying Project to Roadway Network: move street rail to street connector links\n",
      "2022-01-20 13:03:11, INFO: Applying move street rail to street connector links\n",
      "2022-01-20 13:03:11, INFO: Applying Project to Roadway Network: move street rail to street connector links\n",
      "2022-01-20 13:05:39, INFO: Applying move street rail to street connector links\n",
      "2022-01-20 13:05:39, INFO: Applying Project to Roadway Network: move street rail to street connector links\n",
      "2022-01-20 13:08:04, INFO: Applying move street rail to street connector links\n",
      "2022-01-20 13:08:04, INFO: Applying Project to Roadway Network: move street rail to street connector links\n",
      "2022-01-20 13:10:31, INFO: Applying move street rail to street connector links\n",
      "2022-01-20 13:10:31, INFO: Applying Project to Roadway Network: move street rail to street connector links\n",
      "peak memory: 8776.53 MiB, increment: 1575.45 MiB\n",
      "Wall time: 45min 37s\n"
     ]
    }
   ],
   "source": [
    "%%time\n",
    "%%memit\n",
    "# Wall time: ~45min\n",
    "scenario.apply_all_projects()"
   ]
  },
  {
   "cell_type": "code",
   "execution_count": 27,
   "metadata": {},
   "outputs": [
    {
     "data": {
      "text/plain": [
       "(1634814, 44)"
      ]
     },
     "execution_count": 27,
     "metadata": {},
     "output_type": "execute_result"
    }
   ],
   "source": [
    "scenario.road_net.links_df.shape"
   ]
  },
  {
   "cell_type": "code",
   "execution_count": 28,
   "metadata": {},
   "outputs": [
    {
     "data": {
      "text/plain": [
       "Index(['access', 'bike_access', 'drive_access', 'fromIntersectionId', 'lanes',\n",
       "       'maxspeed', 'name', 'oneWay', 'ref', 'roadway', 'shstGeometryId',\n",
       "       'shstReferenceId', 'toIntersectionId', 'u', 'v', 'walk_access', 'wayId',\n",
       "       'county', 'model_link_id', 'A', 'B', 'rail_traveltime', 'rail_only',\n",
       "       'locationReferences', 'geometry', 'ft_cal', 'ft', 'useclass',\n",
       "       'assignable_cal', 'assignable', 'transit', 'id', 'tollbooth',\n",
       "       'bus_only', 'transit_access', 'managed', 'ML_lanes', 'segment_id',\n",
       "       'ML_tollbooth', 'ML_useclass', 'ML_access', 'ML_egress', 'ML_tollseg',\n",
       "       'tollseg'],\n",
       "      dtype='object')"
      ]
     },
     "execution_count": 28,
     "metadata": {},
     "output_type": "execute_result"
    }
   ],
   "source": [
    "scenario.road_net.links_df.columns"
   ]
  },
  {
   "cell_type": "code",
   "execution_count": 29,
   "metadata": {},
   "outputs": [
    {
     "name": "stdout",
     "output_type": "stream",
     "text": [
      "2022-01-20 13:13:00, INFO: Summarizing Scenario\n",
      "------------------------------\n",
      "Scenario created on 2022-01-20 13:13:00.922562\n",
      "Base Scenario:\n",
      "--Road Network:\n",
      "----Link File: C:\\Users\\lzorn\\Box\\Modeling and Surveys\\Development\\Travel Model Two Development\\Travel Model Two Network Rebuild\\travel-model-two-networks\\data\\interim\\step8_standard_format\\link.json\n",
      "----Node File: C:\\Users\\lzorn\\Box\\Modeling and Surveys\\Development\\Travel Model Two Development\\Travel Model Two Network Rebuild\\travel-model-two-networks\\data\\interim\\step8_standard_format\\node.geojson\n",
      "----Shape File: C:\\Users\\lzorn\\Box\\Modeling and Surveys\\Development\\Travel Model Two Development\\Travel Model Two Network Rebuild\\travel-model-two-networks\\data\\interim\\step8_standard_format\\shape.geojson\n",
      "--Transit Network:\n",
      "----Feed Path: C:\\Users\\lzorn\\Box\\Modeling and Surveys\\Development\\Travel Model Two Development\\Travel Model Two Network Rebuild\\travel-model-two-networks\\data\\processed\\version_12\\standard_transit_pre_base_project_cards\n",
      "\n",
      "Project Cards:\n",
      " -C:/Users/lzorn/Documents/GitHub/travel-model-two-networks/project_cards\\rail-to-street-connector-links.yml\n",
      "Applied Projects:\n",
      "-Year 2015 Modify Service Road Dumbarton Bridge Bypass\n",
      "-Year 2015 Modify Service Road Carquinez Bridge Bypass\n",
      "-add san mateo bridge toll plaza\n",
      "-Year 2015 Correct As Is\n",
      "-Year 2015 Modify Facility Type to Service\n",
      "-Year 2015 Modify Facility Type to Ramp shape incorrect\n",
      "-Year 2015 Modify Facility Type to Ramp\n",
      "-Year 2015 Modify Lanes to 2 Lane and Facility Type to Ramp shape incorrect\n",
      "-Year 2015 Modify Lanes to 2 Lane and Facility Type to Ramp\n",
      "-Year 2015 Modify Lanes to 1 Lane and Facility Type to Ramp\n",
      "-Year 2015 Bus Only Segments\n",
      "-Year 2015 Should be 7 Lane should be Expressway\n",
      "-Year 2015 Modify Lanes to 7 Lanes\n",
      "-Year 2015 Should be 6 Lane should be Expressway\n",
      "-Year 2015 Should be 6 Lane should be Divided Arterial\n",
      "-Year 2015 Modify Lanes to 6 Lanes\n",
      "-Year 2015 Should be 5 Lane should be Expressway\n",
      "-Year 2015 Should be 5 Lane should be Divided Arterial\n",
      "-Year 2015 Should be 5 Lane correct facility type\n",
      "-Year 2015 Modify Lanes to 5 Lanes\n",
      "-Year 2015 Should be 4 Lane should be Expressway\n",
      "-Year 2015 Should be 4 Lane should be Divided Arterial\n",
      "-Year 2015 Should be 4 Lane correct facility type\n",
      "-Year 2015 Modify Lanes to 4 Lanes\n",
      "-Year 2015 Should be 3 Lane should be Expressway\n",
      "-Year 2015 Should be 3 Lane should be Divided Arterial\n",
      "-Year 2015 Should be 3 Lane correct facility type\n",
      "-Year 2015 Modify Lanes to 3 Lanes\n",
      "-Year 2015 Should be 2 Lane should be Divided Arterial\n",
      "-Year 2015 Should be 2 Lane correct facility type\n",
      "-Year 2015 Modify Lanes to 2 Lanes\n",
      "-Year 2015 Should be 1 Lane should be Divided Arterial\n",
      "-Year 2015 Should be 1 Lane correct facility type\n",
      "-Year 2015 Modify Lanes to 1 Lane\n",
      "-Year 2015 Modify Lanes to 14 Lanes\n",
      "-Year 2015 Should be 3 Lane should be Undivided Arterial\n",
      "-Year 2015 Should be 2 Lane should be Undivided Arterial\n",
      "-Year 2015 Lane correct should be Undivided Arterial\n",
      "-Year 2015 Lanes Correct should be Expressway\n",
      "-Year 2015 Correct As Is should be Divided Arterial part 4\n",
      "-Year 2015 Correct As Is should be Divided Arterial part 3\n",
      "-Year 2015 Correct As Is should be Divided Arterial part 2\n",
      "-Year 2015 Correct As Is should be Divided Arterial part 1\n",
      "-year 2015 pacheco pass highway missing segments\n",
      "-add golden gate bridge toll plaza\n",
      "-Year 2015 Bus Only Segments for Transbay Terminal Ramps\n",
      "-Year 2015 Bus Only Segments for Golden Gate Transit on US 101\n",
      "-year 2015 sterling on ramp HOV only in PM\n",
      "-year 2015 golden gate reversible lanes\n",
      "-year 2015 golden gate bridge shape correction\n",
      "-year 2015 modify hov lanes and use on san mateo bridge toll plaza toll plaza on ca-92 wb - bridge pass\n",
      "-Year 2015 Modify HOV Lanes and USE on Benicia Bridge Toll Plaza - Segment 03 - Bridge Pass\n",
      "-Year 2015 Modify HOV Lanes and USE on Richmond-San Rafael Bridge Toll Plaza - Bridge Pass\n",
      "-Year 2015 Modify USE and HOV Lanes on US-101 SB (Segment 02) from South of Healdsburg to North of Petaluma\n",
      "-Year 2015 Modify HOV Lanes and USE on US-101 SB from Novato to North of Marin City\n",
      "-Year 2015 Modify HOV Lanes and USE on US 101 SB CA-85 to Oregon Expressway\n",
      "-Year 2015 Modify HOV Lanes and USE on US 101 SB CA-85 to Cochrane Road\n",
      "-Year 2015 Modify HOV Lanes and USE on US-101 NB (Segment 02) from North of Petaluma to South of Healdsburg\n",
      "-Year 2015 Modify HOV Lanes and USE on US 101 NB Oregon Expressway to Whipple Road\n",
      "-Year 2015 Modify HOV Lanes and USE on US-101 NB from North of Marin City to Novato\n",
      "-Year 2015 Modify HOV Lanes and USE on US 101 NB Cochran Road to CA-85\n",
      "-Year 2015 Modify HOV Lanes and USE on San Tomas Expressway SB I-880 to Hwy 17\n",
      "-Year 2015 Modify HOV Lanes and USE on San Tomas Expressway NB Hwy 17 to I-880\n",
      "-Year 2015 Modify HOV Lanes and USE on Montague Expressway WB I-880 to US 101\n",
      "-Year 2015 Modify HOV Lanes and USE on Montague Expressway EB US 101 to I-880\n",
      "-Year 2015 Modify HOV Lanes and USE on Lawrence Expressway SB SR 237 to I-280\n",
      "-Year 2015 Modify HOV Lanes and USE on Lawrence Expressway NB I-280 to SR 237\n",
      "-Year 2015 Modify HOV Lanes and USE on Ramp Connecting I880 and Bay Bridge Plaza\n",
      "-Year 2015 Modify HOV Lanes and USE on I-880 SB from Hegenberger Road to Dixon Road\n",
      "-Year 2015 Modify Express Lanes and USE on I-880 SB Dixon Road to CA-237\n",
      "-Year 2015 Modify HOV Lanes and USE on I-880 SB CA-237 to US 101\n",
      "-Year 2015 Modify HOV lanes and USE on I-880 NB US 101 to CA-237\n",
      "-Year 2015 Modify HOV Lanes and USE on I-880 NB from Dixon Road to I-238\n",
      "-Year 2015 Modify Express Lanes and USE on I-880 NB CA-237 to Dixon Road\n",
      "-Year 2015 Modify USE on I-80 WB to Bay Bridge Toll Plaza\n",
      "-Year 2015 Modify HOV Lanes and USE on I-80 WB from Fairfield to I-680\n",
      "-Year 2015 Modify HOV Lanes and USE on I-80 WB from Carquinez Bridge to Bay Bridge Toll Plaza\n",
      "-Year 2015 Modify HOV Lanes and USE on I-80 EB from I-680 to Fairfield\n",
      "-Year 2015 Modify HOV Lanes and USE on I-80 EB from Bay Bridge to Carquinez Bridge Toll Plaza\n",
      "-Year 2015 Modify Express Lanes and USE on I-680 SB Washington Blvd to Mission Blvd\n",
      "-Year 2015 Modify Express Lanes and USE on I-680 SB Mission Blvd to CA-237\n",
      "-Year 2015 Modify HOV Lanes and USE on I-680 SB from Benicia Bridge to Alcosta Blvd\n",
      "-Year 2015 Modify Express Lanes and USE on I-680 SB Andrade Road to Washington Blvd\n",
      "-Year 2015 Modify HOV Lanes and USE on I-680 NB from Alcosta Blvd to Livorna Road\n",
      "-Year 2015 Modify USE on I-580 WB Springtown Blvd to Isabel Ave\n",
      "-Year 2015 Modify USE on I-580 WB Isabel Ave to Fallon Road\n",
      "-Year 2015 Modify USE on I-580 WB Hacienda Drive to San Ramon Road\n",
      "-Year 2015 Modify USE on I-580 WB Greenville Road to Springtown Blvd\n",
      "-Year 2015 Modify USE on I-580 WB Fallon Road to Hacienda Drive\n",
      "-Year 2015 Modify Express Lanes and USE on I-580 EB Vasco Road to Greenville Road\n",
      "-Year 2015 Modify Express Lanes and USE on I-580 EB (segment 02) Livermore Ave to Vasco Road\n",
      "-Year 2015 Modify Express Lanes and USE on I-580 EB (segment 02) Hacienda Drive to Airway Blvd\n",
      "-Year 2015 Modify Express Lanes and USE on I-580 EB (segment 01) Livermore Ave to Vasco Road\n",
      "-Year 2015 Modify Express Lanes and USE on I-580 EB (segment 01) Hacienda Drive to Airway_Blvd\n",
      "-Year 2015 Modify Express Lanes and USE on I-580 EB Airway Blvd to Livermore Ave\n",
      "-Year 2015 Modify HOV lanes and USE on Hwy 4 WB from Deer Valley Road to Port Chicago Highway\n",
      "-Year 2015 Modify HOV Lanes and USE on Hwy 4 EB from Port Chicago Highway to Deer Valley Road\n",
      "-Year 2015 Modify HOV Lanes and USE on E Capitol Expressway SB I-680 to US 101\n",
      "-Year 2015 Modify HOV Lanes and USE on E Capitol Expressway NB US101 to I-680\n",
      "-Year 2015 Modify HOV Lanes and USE on CA-92 WB Eden Landing Rd to San Mateo-Hayward Bridge Toll Plaza\n",
      "-Year 2015 Modify HOV Lanes and USE on CA-87 SB US 101 to CA-85\n",
      "-Year 2015 Modify HOV Lanes and USE on CA 87 NB CA-85 to US 101\n",
      "-Year 2015 Modify HOV Lanes and USE on CA-85 SB US101 to US101\n",
      "-Year 2015 Modify HOV Lanes and USE on CA-85 NB US101 to US101\n",
      "-Year 2015 Modify HOV Lanes and USE on CA-84 WB I-880 to Dumbarton Bridge Toll Plaza\n",
      "-Year 2015 Modify HOV Lanes and USE on CA-280 SB Magdalena Ave to Southwest Expressway\n",
      "-Year 2015 Modify HOV Lanes and USE on CA-280 NB Bascom Ave to Magdalena Ave\n",
      "-Year 2015 Modify HOV Lanes and USE on CA-237 WB North 1st Street to US 101\n",
      "-Year 2015 Modify Express Lanes and USE on CA-237 WB I-880 to CA-262 Mission Blvd\n",
      "-Year 2015 Modify HOV Lanes and USE on CA-237 EB US 101 to North 1st Street\n",
      "-Year 2015 Modify Express Lanes and USE on CA-237 EB SR-262 Mission Blvd to I-880\n",
      "-Year 2015 Modify HOV Lanes and USE on Benicia Bridge Toll Plaza - Bridge Pass\n",
      "-Year 2015 Modify HOV Lanes-Fastrak Lanes and USE on San Francisco-Oakland Bay Bridge WB Toll Plaza segment 03 - Bridge Pass\n",
      "-Year 2015 Modify HOV Lanes-Fastrak Lanes and USE on San Francisco-Oakland Bay Bridge WB Toll Plaza segment 02 - Bridge Pass\n",
      "-Year 2015 Modify HOV Lanes-Fastrak Lanes and USE on San Francisco-Oakland Bay Bridge WB Toll Plaza - Bridge Pass\n",
      "-year 2015 modify toll links on golden gate bridge toll plaza on us101 sb - bridge pass\n",
      "-Year 2015 Modify HOV Lanes and USE on Dumbarton Bridge Toll Plaza Toll Plaza on CA-84 WB - Bridge Pass\n",
      "-Year 2015 Modify HOV Lanes and USE on Carquinez Bridge Toll Plaza on I-80 NB - Bridge Pass\n",
      "-Year 2015 Exclude Trucks on SR 85\n",
      "-Year 2015 Exclude Trucks on I580\n",
      "-Year 2015 Modify HOV Lanes-Fastrak Lanes and USE on Antioch Bridge NB on Route 160 - Bridge Pass\n",
      "-move street rail to street connector links\n",
      "---Project Card Details---\n",
      "\n",
      "{'Part 1': {'attributes': ['drive_access'],\n",
      "            'category': 'roadway property change',\n",
      "            'map': <folium.folium.Map object at 0x00000286D5ADAA08>,\n",
      "            'project': 'move street rail to street connector links – Part 1',\n",
      "            'sel_idx': [492459,\n",
      "                        1633610,\n",
      "                        1633891,\n",
      "                        1633907,\n",
      "                        1634585,\n",
      "                        1634614,\n",
      "                        1634649]},\n",
      " 'Part 10': {'added_links':          A        B  model_link_id  lanes  ft  rail_only  new_link\n",
      "0  1027952  1011387       26067390      1  99          1         1,\n",
      "             'added_nodes': Empty DataFrame\n",
      "Columns: []\n",
      "Index: [],\n",
      "             'category': 'add new roadway',\n",
      "             'map': None,\n",
      "             'project': 'move street rail to street connector links – Part 10'},\n",
      " 'Part 11': {'added_links':          A        B  model_link_id  lanes  ft  rail_only  new_link\n",
      "0  1011914  1027953       26067391      1  99          1         1,\n",
      "             'added_nodes': Empty DataFrame\n",
      "Columns: []\n",
      "Index: [],\n",
      "             'category': 'add new roadway',\n",
      "             'map': None,\n",
      "             'project': 'move street rail to street connector links – Part 11'},\n",
      " 'Part 12': {'added_links':          A        B  model_link_id  lanes  ft  rail_only  new_link\n",
      "0  1013049  1028007       26067392      1  99          1         1,\n",
      "             'added_nodes': Empty DataFrame\n",
      "Columns: []\n",
      "Index: [],\n",
      "             'category': 'add new roadway',\n",
      "             'map': None,\n",
      "             'project': 'move street rail to street connector links – Part 12'},\n",
      " 'Part 13': {'added_links':          A        B  model_link_id  lanes  ft  rail_only  new_link\n",
      "0  1028011  1009043       26067394      1  99          1         1,\n",
      "             'added_nodes': Empty DataFrame\n",
      "Columns: []\n",
      "Index: [],\n",
      "             'category': 'add new roadway',\n",
      "             'map': None,\n",
      "             'project': 'move street rail to street connector links – Part 13'},\n",
      " 'Part 14': {'added_links':          A        B  model_link_id  lanes  ft  rail_only  new_link\n",
      "0  1014376  1027666       26067395      1  99          1         1,\n",
      "             'added_nodes': Empty DataFrame\n",
      "Columns: []\n",
      "Index: [],\n",
      "             'category': 'add new roadway',\n",
      "             'map': None,\n",
      "             'project': 'move street rail to street connector links – Part 14'},\n",
      " 'Part 15': {'added_links':          A        B  model_link_id  lanes  ft  rail_only  new_link\n",
      "0  1027647  1011164       26067396      1  99          1         1,\n",
      "             'added_nodes': Empty DataFrame\n",
      "Columns: []\n",
      "Index: [],\n",
      "             'category': 'add new roadway',\n",
      "             'map': None,\n",
      "             'project': 'move street rail to street connector links – Part 15'},\n",
      " 'Part 16': {'added_links':          A        B  model_link_id  lanes  ft  rail_only  new_link\n",
      "0  1027863  1000377       26067397      1  99          1         1,\n",
      "             'added_nodes': Empty DataFrame\n",
      "Columns: []\n",
      "Index: [],\n",
      "             'category': 'add new roadway',\n",
      "             'map': None,\n",
      "             'project': 'move street rail to street connector links – Part 16'},\n",
      " 'Part 17': {'added_links':          A        B  model_link_id  lanes  ft  rail_only  new_link\n",
      "0  1003537  1027971       26067398      1  99          1         1,\n",
      "             'added_nodes': Empty DataFrame\n",
      "Columns: []\n",
      "Index: [],\n",
      "             'category': 'add new roadway',\n",
      "             'map': None,\n",
      "             'project': 'move street rail to street connector links – Part 17'},\n",
      " 'Part 18': {'added_links':          A        B  model_link_id  lanes  ft  rail_only  new_link\n",
      "0  1008816  1028012       26067399      1  99          1         1,\n",
      "             'added_nodes': Empty DataFrame\n",
      "Columns: []\n",
      "Index: [],\n",
      "             'category': 'add new roadway',\n",
      "             'map': None,\n",
      "             'project': 'move street rail to street connector links – Part 18'},\n",
      " 'Part 19': {'added_links':          A        B  model_link_id  lanes  ft  rail_only  new_link\n",
      "0  1018021  1028032       26067400      1  99          1         1,\n",
      "             'added_nodes': Empty DataFrame\n",
      "Columns: []\n",
      "Index: [],\n",
      "             'category': 'add new roadway',\n",
      "             'map': None,\n",
      "             'project': 'move street rail to street connector links – Part 19'},\n",
      " 'Part 2': {'added_links':          A        B  model_link_id  lanes  ft  rail_only  new_link\n",
      "0  1027970  1009869       26067378      1  99          1         1,\n",
      "            'added_nodes': Empty DataFrame\n",
      "Columns: []\n",
      "Index: [],\n",
      "            'category': 'add new roadway',\n",
      "            'map': None,\n",
      "            'project': 'move street rail to street connector links – Part 2'},\n",
      " 'Part 3': {'added_links':          A        B  model_link_id  lanes  ft  rail_only  new_link\n",
      "0  1027971  1003537       26067379      1  99          1         1,\n",
      "            'added_nodes': Empty DataFrame\n",
      "Columns: []\n",
      "Index: [],\n",
      "            'category': 'add new roadway',\n",
      "            'map': None,\n",
      "            'project': 'move street rail to street connector links – Part 3'},\n",
      " 'Part 4': {'added_links':          A        B  model_link_id  lanes  ft  rail_only  new_link\n",
      "0  1009869  1028037       26067381      1  99          1         1,\n",
      "            'added_nodes': Empty DataFrame\n",
      "Columns: []\n",
      "Index: [],\n",
      "            'category': 'add new roadway',\n",
      "            'map': None,\n",
      "            'project': 'move street rail to street connector links – Part 4'},\n",
      " 'Part 5': {'added_links':          A        B  model_link_id  lanes  ft  rail_only  new_link\n",
      "0  1002433  1027909       26067382      1  99          1         1,\n",
      "            'added_nodes': Empty DataFrame\n",
      "Columns: []\n",
      "Index: [],\n",
      "            'category': 'add new roadway',\n",
      "            'map': None,\n",
      "            'project': 'move street rail to street connector links – Part 5'},\n",
      " 'Part 6': {'added_links':          A        B  model_link_id  lanes  ft  rail_only  new_link\n",
      "0  1027827  1002433       26067383      1  99          1         1,\n",
      "            'added_nodes': Empty DataFrame\n",
      "Columns: []\n",
      "Index: [],\n",
      "            'category': 'add new roadway',\n",
      "            'map': None,\n",
      "            'project': 'move street rail to street connector links – Part 6'},\n",
      " 'Part 7': {'added_links':          A        B  model_link_id  lanes  ft  rail_only  new_link\n",
      "0  1010580  1027906       26067386      1  99          1         1,\n",
      "            'added_nodes': Empty DataFrame\n",
      "Columns: []\n",
      "Index: [],\n",
      "            'category': 'add new roadway',\n",
      "            'map': None,\n",
      "            'project': 'move street rail to street connector links – Part 7'},\n",
      " 'Part 8': {'added_links':          A        B  model_link_id  lanes  ft  rail_only  new_link\n",
      "0  1027830  1012791       26067387      1  99          1         1,\n",
      "            'added_nodes': Empty DataFrame\n",
      "Columns: []\n",
      "Index: [],\n",
      "            'category': 'add new roadway',\n",
      "            'map': None,\n",
      "            'project': 'move street rail to street connector links – Part 8'},\n",
      " 'Part 9': {'added_links':          A        B  model_link_id  lanes  ft  rail_only  new_link\n",
      "0  1027956  1015862       26067389      1  99          1         1,\n",
      "            'added_nodes': Empty DataFrame\n",
      "Columns: []\n",
      "Index: [],\n",
      "            'category': 'add new roadway',\n",
      "            'map': None,\n",
      "            'project': 'move street rail to street connector links – Part 9'},\n",
      " 'project_card': 'C:/Users/lzorn/Documents/GitHub/travel-model-two-networks/project_cards\\\\rail-to-street-connector-links.yml',\n",
      " 'total_parts': 19}\n"
     ]
    }
   ],
   "source": [
    "print(scenario.scenario_summary())"
   ]
  },
  {
   "cell_type": "code",
   "execution_count": 30,
   "metadata": {
    "scrolled": true
   },
   "outputs": [
    {
     "name": "stdout",
     "output_type": "stream",
     "text": [
      "peak memory: 13380.31 MiB, increment: 6063.34 MiB\n",
      "Wall time: 6min 22s\n"
     ]
    }
   ],
   "source": [
    "%%time\n",
    "%%memit\n",
    "\n",
    "# why is this necessary?  why not validate consistency?\n",
    "scenario.transit_net.set_roadnet(scenario.road_net, \n",
    "                                 validate_consistency = False)\n",
    "\n",
    "scenario.remove_all_projects() # reset\n",
    "scenario.add_project_cards_from_tags(\n",
    "    folder=project_card_dir,\n",
    "    tags=['Minor Transit', 'Add Transit', 'Major Transit', 'Toll Plaza Transit'],\n",
    "    validate=False\n",
    ")"
   ]
  },
  {
   "cell_type": "code",
   "execution_count": 31,
   "metadata": {},
   "outputs": [
    {
     "name": "stdout",
     "output_type": "stream",
     "text": [
      "2022-01-20 13:19:31, ERROR: Projects year 2015 golden gate bridge shape correction has add golden gate bridge toll plaza as prerequisite project which is missing for the scenario\n",
      "2022-01-20 13:19:31, ERROR: Projects year 2015 golden gate reversible lanes has add golden gate bridge toll plaza as prerequisite project which is missing for the scenario\n",
      "2022-01-20 13:19:31, ERROR: Projects year 2015 modify toll links on golden gate bridge toll plaza on us101 sb - bridge pass has add golden gate bridge toll plaza as prerequisite project which is missing for the scenario\n",
      "2022-01-20 13:19:31, ERROR: Projects year 2015 modify hov lanes and use on san mateo bridge toll plaza toll plaza on ca-92 wb - bridge pass has add san mateo bridge toll plaza as prerequisite project which is missing for the scenario\n",
      "2022-01-20 13:19:31, ERROR: Projects sfmta route n-judah has move street rail to street connector links as prerequisite project which is missing for the scenario\n",
      "2022-01-20 13:19:31, ERROR: Projects update routing for golden gate bridge toll plaza transit has add golden gate bridge toll plaza as prerequisite project which is missing for the scenario\n",
      "2022-01-20 13:19:31, ERROR: Projects update routing for san mateo bridge toll plaza transit has add san mateo bridge toll plaza as prerequisite project which is missing for the scenario\n",
      "2022-01-20 13:19:31, INFO: Applying update routing for san mateo bridge toll plaza transit\n",
      "2022-01-20 13:19:31, INFO: Applying update routing for san mateo bridge toll plaza transit\n",
      "2022-01-20 13:19:31, INFO: Applying Project to Transit Network: update routing for san mateo bridge toll plaza transit\n",
      "2022-01-20 13:19:32, INFO: Applying update routing for golden gate bridge toll plaza transit\n",
      "2022-01-20 13:19:32, INFO: Applying update routing for golden gate bridge toll plaza transit\n",
      "2022-01-20 13:19:32, INFO: Applying Project to Transit Network: update routing for golden gate bridge toll plaza transit\n",
      "2022-01-20 13:19:55, INFO: Applying VTA Route 22\n",
      "2022-01-20 13:19:55, INFO: Applying VTA Route 22\n",
      "2022-01-20 13:19:55, INFO: Applying Project to Transit Network: VTA Route 22\n",
      "2022-01-20 13:19:56, WARNING: Missing connections from node 2129493 to node 2118093 for the new routing, find complete path using default graph\n",
      "2022-01-20 13:19:56, INFO: Routing path from node 2129493 to node 2118093 for missing connections: ['2129493', '2008039', '2118093'].\n",
      "2022-01-20 13:19:56, WARNING: Missing connections from node 2082223 to node 2078170 for the new routing, find complete path using default graph\n",
      "2022-01-20 13:19:56, INFO: Routing path from node 2082223 to node 2078170 for missing connections: ['2082223', '2065491', '2078170'].\n",
      "2022-01-20 13:19:56, WARNING: Missing connections from node 2012977 to node 2012977 for the new routing, find complete path using default graph\n",
      "2022-01-20 13:19:56, INFO: Routing path from node 2012977 to node 2012977 for missing connections: ['2012977'].\n",
      "2022-01-20 13:19:56, INFO: Creating a new stop in stops.txt for node ID: 2009862\n",
      "2022-01-20 13:19:56, INFO: Creating a new stop in stops.txt for node ID: 2086038\n",
      "2022-01-20 13:19:56, INFO: Creating a new stop in stops.txt for node ID: 2026481\n",
      "2022-01-20 13:19:56, INFO: Creating a new stop in stops.txt for node ID: 2035856\n",
      "2022-01-20 13:19:56, INFO: Creating a new stop in stops.txt for node ID: 2129493\n",
      "2022-01-20 13:19:56, INFO: Creating a new stop in stops.txt for node ID: 2130826\n",
      "2022-01-20 13:19:56, INFO: Creating a new stop in stops.txt for node ID: 2034826\n",
      "2022-01-20 13:19:56, INFO: Creating a new stop in stops.txt for node ID: 2117639\n",
      "2022-01-20 13:19:56, INFO: Creating a new stop in stops.txt for node ID: 2056269\n",
      "2022-01-20 13:19:56, INFO: Creating a new stop in stops.txt for node ID: 2161338\n",
      "2022-01-20 13:19:56, INFO: Creating a new stop in stops.txt for node ID: 2146003\n",
      "2022-01-20 13:19:56, INFO: Creating a new stop in stops.txt for node ID: 2064421\n"
     ]
    },
    {
     "name": "stderr",
     "output_type": "stream",
     "text": [
      "C:\\Users\\lzorn\\.conda\\envs\\tm2_network_dev\\lib\\site-packages\\numpy\\core\\fromnumeric.py:3162: VisibleDeprecationWarning: Creating an ndarray from ragged nested sequences (which is a list-or-tuple of lists-or-tuples-or ndarrays with different lengths or shapes) is deprecated. If you meant to do this, you must specify 'dtype=object' when creating the ndarray.\n",
      "  return asarray(a).ndim\n",
      "C:\\Users\\lzorn\\.conda\\envs\\tm2_network_dev\\lib\\site-packages\\numpy\\core\\fromnumeric.py:3162: VisibleDeprecationWarning: Creating an ndarray from ragged nested sequences (which is a list-or-tuple of lists-or-tuples-or ndarrays with different lengths or shapes) is deprecated. If you meant to do this, you must specify 'dtype=object' when creating the ndarray.\n",
      "  return asarray(a).ndim\n",
      "C:\\Users\\lzorn\\.conda\\envs\\tm2_network_dev\\lib\\site-packages\\numpy\\core\\fromnumeric.py:3162: VisibleDeprecationWarning: Creating an ndarray from ragged nested sequences (which is a list-or-tuple of lists-or-tuples-or ndarrays with different lengths or shapes) is deprecated. If you meant to do this, you must specify 'dtype=object' when creating the ndarray.\n",
      "  return asarray(a).ndim\n",
      "C:\\Users\\lzorn\\.conda\\envs\\tm2_network_dev\\lib\\site-packages\\numpy\\core\\fromnumeric.py:3162: VisibleDeprecationWarning: Creating an ndarray from ragged nested sequences (which is a list-or-tuple of lists-or-tuples-or ndarrays with different lengths or shapes) is deprecated. If you meant to do this, you must specify 'dtype=object' when creating the ndarray.\n",
      "  return asarray(a).ndim\n",
      "C:\\Users\\lzorn\\.conda\\envs\\tm2_network_dev\\lib\\site-packages\\numpy\\core\\fromnumeric.py:3162: VisibleDeprecationWarning: Creating an ndarray from ragged nested sequences (which is a list-or-tuple of lists-or-tuples-or ndarrays with different lengths or shapes) is deprecated. If you meant to do this, you must specify 'dtype=object' when creating the ndarray.\n",
      "  return asarray(a).ndim\n",
      "C:\\Users\\lzorn\\.conda\\envs\\tm2_network_dev\\lib\\site-packages\\numpy\\core\\fromnumeric.py:3162: VisibleDeprecationWarning: Creating an ndarray from ragged nested sequences (which is a list-or-tuple of lists-or-tuples-or ndarrays with different lengths or shapes) is deprecated. If you meant to do this, you must specify 'dtype=object' when creating the ndarray.\n",
      "  return asarray(a).ndim\n",
      "C:\\Users\\lzorn\\.conda\\envs\\tm2_network_dev\\lib\\site-packages\\numpy\\core\\fromnumeric.py:3162: VisibleDeprecationWarning: Creating an ndarray from ragged nested sequences (which is a list-or-tuple of lists-or-tuples-or ndarrays with different lengths or shapes) is deprecated. If you meant to do this, you must specify 'dtype=object' when creating the ndarray.\n",
      "  return asarray(a).ndim\n",
      "C:\\Users\\lzorn\\.conda\\envs\\tm2_network_dev\\lib\\site-packages\\numpy\\core\\fromnumeric.py:3162: VisibleDeprecationWarning: Creating an ndarray from ragged nested sequences (which is a list-or-tuple of lists-or-tuples-or ndarrays with different lengths or shapes) is deprecated. If you meant to do this, you must specify 'dtype=object' when creating the ndarray.\n",
      "  return asarray(a).ndim\n",
      "C:\\Users\\lzorn\\.conda\\envs\\tm2_network_dev\\lib\\site-packages\\numpy\\core\\fromnumeric.py:3162: VisibleDeprecationWarning: Creating an ndarray from ragged nested sequences (which is a list-or-tuple of lists-or-tuples-or ndarrays with different lengths or shapes) is deprecated. If you meant to do this, you must specify 'dtype=object' when creating the ndarray.\n",
      "  return asarray(a).ndim\n",
      "C:\\Users\\lzorn\\.conda\\envs\\tm2_network_dev\\lib\\site-packages\\numpy\\core\\fromnumeric.py:3162: VisibleDeprecationWarning: Creating an ndarray from ragged nested sequences (which is a list-or-tuple of lists-or-tuples-or ndarrays with different lengths or shapes) is deprecated. If you meant to do this, you must specify 'dtype=object' when creating the ndarray.\n",
      "  return asarray(a).ndim\n",
      "C:\\Users\\lzorn\\.conda\\envs\\tm2_network_dev\\lib\\site-packages\\numpy\\core\\fromnumeric.py:3162: VisibleDeprecationWarning: Creating an ndarray from ragged nested sequences (which is a list-or-tuple of lists-or-tuples-or ndarrays with different lengths or shapes) is deprecated. If you meant to do this, you must specify 'dtype=object' when creating the ndarray.\n",
      "  return asarray(a).ndim\n",
      "C:\\Users\\lzorn\\.conda\\envs\\tm2_network_dev\\lib\\site-packages\\numpy\\core\\fromnumeric.py:3162: VisibleDeprecationWarning: Creating an ndarray from ragged nested sequences (which is a list-or-tuple of lists-or-tuples-or ndarrays with different lengths or shapes) is deprecated. If you meant to do this, you must specify 'dtype=object' when creating the ndarray.\n",
      "  return asarray(a).ndim\n"
     ]
    },
    {
     "name": "stdout",
     "output_type": "stream",
     "text": [
      "2022-01-20 13:19:56, INFO: Creating a new stop in stops.txt for node ID: 2078170\n",
      "2022-01-20 13:19:56, INFO: Creating a new stop in stops.txt for node ID: 2104183\n",
      "2022-01-20 13:19:57, INFO: Creating a new stop in stops.txt for node ID: 2015328\n"
     ]
    },
    {
     "name": "stderr",
     "output_type": "stream",
     "text": [
      "C:\\Users\\lzorn\\.conda\\envs\\tm2_network_dev\\lib\\site-packages\\numpy\\core\\fromnumeric.py:3162: VisibleDeprecationWarning: Creating an ndarray from ragged nested sequences (which is a list-or-tuple of lists-or-tuples-or ndarrays with different lengths or shapes) is deprecated. If you meant to do this, you must specify 'dtype=object' when creating the ndarray.\n",
      "  return asarray(a).ndim\n",
      "C:\\Users\\lzorn\\.conda\\envs\\tm2_network_dev\\lib\\site-packages\\numpy\\core\\fromnumeric.py:3162: VisibleDeprecationWarning: Creating an ndarray from ragged nested sequences (which is a list-or-tuple of lists-or-tuples-or ndarrays with different lengths or shapes) is deprecated. If you meant to do this, you must specify 'dtype=object' when creating the ndarray.\n",
      "  return asarray(a).ndim\n",
      "C:\\Users\\lzorn\\.conda\\envs\\tm2_network_dev\\lib\\site-packages\\numpy\\core\\fromnumeric.py:3162: VisibleDeprecationWarning: Creating an ndarray from ragged nested sequences (which is a list-or-tuple of lists-or-tuples-or ndarrays with different lengths or shapes) is deprecated. If you meant to do this, you must specify 'dtype=object' when creating the ndarray.\n",
      "  return asarray(a).ndim\n"
     ]
    },
    {
     "name": "stdout",
     "output_type": "stream",
     "text": [
      "2022-01-20 13:19:58, INFO: Applying VTA Route 22\n",
      "2022-01-20 13:19:58, INFO: Applying Project to Transit Network: VTA Route 22\n",
      "2022-01-20 13:19:59, WARNING: Missing connections from node 2033565 to node 2103889 for the new routing, find complete path using default graph\n",
      "2022-01-20 13:19:59, INFO: Routing path from node 2033565 to node 2103889 for missing connections: ['2033565', '2155466', '2103889'].\n",
      "2022-01-20 13:19:59, WARNING: Missing connections from node 2035353 to node 2158621 for the new routing, find complete path using default graph\n",
      "2022-01-20 13:19:59, INFO: Routing path from node 2035353 to node 2158621 for missing connections: ['2035353', '2061243', '2158621'].\n",
      "2022-01-20 13:19:59, WARNING: Missing connections from node 2026323 to node 2102903 for the new routing, find complete path using default graph\n",
      "2022-01-20 13:19:59, INFO: Routing path from node 2026323 to node 2102903 for missing connections: ['2026323', '2045820', '2102903'].\n",
      "2022-01-20 13:19:59, INFO: Creating a new stop in stops.txt for node ID: 2103889\n",
      "2022-01-20 13:19:59, INFO: Creating a new stop in stops.txt for node ID: 2102412\n",
      "2022-01-20 13:19:59, INFO: Creating a new stop in stops.txt for node ID: 2119404\n",
      "2022-01-20 13:19:59, INFO: Creating a new stop in stops.txt for node ID: 2089567\n",
      "2022-01-20 13:19:59, INFO: Creating a new stop in stops.txt for node ID: 2144963\n",
      "2022-01-20 13:19:59, INFO: Creating a new stop in stops.txt for node ID: 2118760\n",
      "2022-01-20 13:19:59, INFO: Creating a new stop in stops.txt for node ID: 2056579\n",
      "2022-01-20 13:19:59, INFO: Creating a new stop in stops.txt for node ID: 2073153\n",
      "2022-01-20 13:19:59, INFO: Creating a new stop in stops.txt for node ID: 2086763\n",
      "2022-01-20 13:19:59, INFO: Creating a new stop in stops.txt for node ID: 2057050\n",
      "2022-01-20 13:19:59, INFO: Creating a new stop in stops.txt for node ID: 2069128\n"
     ]
    },
    {
     "name": "stderr",
     "output_type": "stream",
     "text": [
      "C:\\Users\\lzorn\\.conda\\envs\\tm2_network_dev\\lib\\site-packages\\numpy\\core\\fromnumeric.py:3162: VisibleDeprecationWarning: Creating an ndarray from ragged nested sequences (which is a list-or-tuple of lists-or-tuples-or ndarrays with different lengths or shapes) is deprecated. If you meant to do this, you must specify 'dtype=object' when creating the ndarray.\n",
      "  return asarray(a).ndim\n",
      "C:\\Users\\lzorn\\.conda\\envs\\tm2_network_dev\\lib\\site-packages\\numpy\\core\\fromnumeric.py:3162: VisibleDeprecationWarning: Creating an ndarray from ragged nested sequences (which is a list-or-tuple of lists-or-tuples-or ndarrays with different lengths or shapes) is deprecated. If you meant to do this, you must specify 'dtype=object' when creating the ndarray.\n",
      "  return asarray(a).ndim\n",
      "C:\\Users\\lzorn\\.conda\\envs\\tm2_network_dev\\lib\\site-packages\\numpy\\core\\fromnumeric.py:3162: VisibleDeprecationWarning: Creating an ndarray from ragged nested sequences (which is a list-or-tuple of lists-or-tuples-or ndarrays with different lengths or shapes) is deprecated. If you meant to do this, you must specify 'dtype=object' when creating the ndarray.\n",
      "  return asarray(a).ndim\n",
      "C:\\Users\\lzorn\\.conda\\envs\\tm2_network_dev\\lib\\site-packages\\numpy\\core\\fromnumeric.py:3162: VisibleDeprecationWarning: Creating an ndarray from ragged nested sequences (which is a list-or-tuple of lists-or-tuples-or ndarrays with different lengths or shapes) is deprecated. If you meant to do this, you must specify 'dtype=object' when creating the ndarray.\n",
      "  return asarray(a).ndim\n",
      "C:\\Users\\lzorn\\.conda\\envs\\tm2_network_dev\\lib\\site-packages\\numpy\\core\\fromnumeric.py:3162: VisibleDeprecationWarning: Creating an ndarray from ragged nested sequences (which is a list-or-tuple of lists-or-tuples-or ndarrays with different lengths or shapes) is deprecated. If you meant to do this, you must specify 'dtype=object' when creating the ndarray.\n",
      "  return asarray(a).ndim\n",
      "C:\\Users\\lzorn\\.conda\\envs\\tm2_network_dev\\lib\\site-packages\\numpy\\core\\fromnumeric.py:3162: VisibleDeprecationWarning: Creating an ndarray from ragged nested sequences (which is a list-or-tuple of lists-or-tuples-or ndarrays with different lengths or shapes) is deprecated. If you meant to do this, you must specify 'dtype=object' when creating the ndarray.\n",
      "  return asarray(a).ndim\n",
      "C:\\Users\\lzorn\\.conda\\envs\\tm2_network_dev\\lib\\site-packages\\numpy\\core\\fromnumeric.py:3162: VisibleDeprecationWarning: Creating an ndarray from ragged nested sequences (which is a list-or-tuple of lists-or-tuples-or ndarrays with different lengths or shapes) is deprecated. If you meant to do this, you must specify 'dtype=object' when creating the ndarray.\n",
      "  return asarray(a).ndim\n",
      "C:\\Users\\lzorn\\.conda\\envs\\tm2_network_dev\\lib\\site-packages\\numpy\\core\\fromnumeric.py:3162: VisibleDeprecationWarning: Creating an ndarray from ragged nested sequences (which is a list-or-tuple of lists-or-tuples-or ndarrays with different lengths or shapes) is deprecated. If you meant to do this, you must specify 'dtype=object' when creating the ndarray.\n",
      "  return asarray(a).ndim\n",
      "C:\\Users\\lzorn\\.conda\\envs\\tm2_network_dev\\lib\\site-packages\\numpy\\core\\fromnumeric.py:3162: VisibleDeprecationWarning: Creating an ndarray from ragged nested sequences (which is a list-or-tuple of lists-or-tuples-or ndarrays with different lengths or shapes) is deprecated. If you meant to do this, you must specify 'dtype=object' when creating the ndarray.\n",
      "  return asarray(a).ndim\n",
      "C:\\Users\\lzorn\\.conda\\envs\\tm2_network_dev\\lib\\site-packages\\numpy\\core\\fromnumeric.py:3162: VisibleDeprecationWarning: Creating an ndarray from ragged nested sequences (which is a list-or-tuple of lists-or-tuples-or ndarrays with different lengths or shapes) is deprecated. If you meant to do this, you must specify 'dtype=object' when creating the ndarray.\n",
      "  return asarray(a).ndim\n",
      "C:\\Users\\lzorn\\.conda\\envs\\tm2_network_dev\\lib\\site-packages\\numpy\\core\\fromnumeric.py:3162: VisibleDeprecationWarning: Creating an ndarray from ragged nested sequences (which is a list-or-tuple of lists-or-tuples-or ndarrays with different lengths or shapes) is deprecated. If you meant to do this, you must specify 'dtype=object' when creating the ndarray.\n",
      "  return asarray(a).ndim\n"
     ]
    },
    {
     "name": "stdout",
     "output_type": "stream",
     "text": [
      "2022-01-20 13:19:59, INFO: Creating a new stop in stops.txt for node ID: 2043135\n",
      "2022-01-20 13:19:59, INFO: Creating a new stop in stops.txt for node ID: 2054854\n",
      "2022-01-20 13:19:59, INFO: Creating a new stop in stops.txt for node ID: 2012179\n",
      "2022-01-20 13:19:59, INFO: Creating a new stop in stops.txt for node ID: 2133611\n",
      "2022-01-20 13:19:59, INFO: Creating a new stop in stops.txt for node ID: 2146984\n",
      "2022-01-20 13:19:59, INFO: Creating a new stop in stops.txt for node ID: 2063919\n",
      "2022-01-20 13:19:59, INFO: Creating a new stop in stops.txt for node ID: 2119618\n",
      "2022-01-20 13:19:59, INFO: Creating a new stop in stops.txt for node ID: 2097752\n",
      "2022-01-20 13:19:59, INFO: Creating a new stop in stops.txt for node ID: 2026323\n",
      "2022-01-20 13:19:59, INFO: Creating a new stop in stops.txt for node ID: 2097794\n",
      "2022-01-20 13:19:59, INFO: Creating a new stop in stops.txt for node ID: 2093764\n",
      "2022-01-20 13:19:59, INFO: Creating a new stop in stops.txt for node ID: 2137837\n",
      "2022-01-20 13:19:59, INFO: Creating a new stop in stops.txt for node ID: 2136770\n"
     ]
    },
    {
     "name": "stderr",
     "output_type": "stream",
     "text": [
      "C:\\Users\\lzorn\\.conda\\envs\\tm2_network_dev\\lib\\site-packages\\numpy\\core\\fromnumeric.py:3162: VisibleDeprecationWarning: Creating an ndarray from ragged nested sequences (which is a list-or-tuple of lists-or-tuples-or ndarrays with different lengths or shapes) is deprecated. If you meant to do this, you must specify 'dtype=object' when creating the ndarray.\n",
      "  return asarray(a).ndim\n",
      "C:\\Users\\lzorn\\.conda\\envs\\tm2_network_dev\\lib\\site-packages\\numpy\\core\\fromnumeric.py:3162: VisibleDeprecationWarning: Creating an ndarray from ragged nested sequences (which is a list-or-tuple of lists-or-tuples-or ndarrays with different lengths or shapes) is deprecated. If you meant to do this, you must specify 'dtype=object' when creating the ndarray.\n",
      "  return asarray(a).ndim\n",
      "C:\\Users\\lzorn\\.conda\\envs\\tm2_network_dev\\lib\\site-packages\\numpy\\core\\fromnumeric.py:3162: VisibleDeprecationWarning: Creating an ndarray from ragged nested sequences (which is a list-or-tuple of lists-or-tuples-or ndarrays with different lengths or shapes) is deprecated. If you meant to do this, you must specify 'dtype=object' when creating the ndarray.\n",
      "  return asarray(a).ndim\n",
      "C:\\Users\\lzorn\\.conda\\envs\\tm2_network_dev\\lib\\site-packages\\numpy\\core\\fromnumeric.py:3162: VisibleDeprecationWarning: Creating an ndarray from ragged nested sequences (which is a list-or-tuple of lists-or-tuples-or ndarrays with different lengths or shapes) is deprecated. If you meant to do this, you must specify 'dtype=object' when creating the ndarray.\n",
      "  return asarray(a).ndim\n",
      "C:\\Users\\lzorn\\.conda\\envs\\tm2_network_dev\\lib\\site-packages\\numpy\\core\\fromnumeric.py:3162: VisibleDeprecationWarning: Creating an ndarray from ragged nested sequences (which is a list-or-tuple of lists-or-tuples-or ndarrays with different lengths or shapes) is deprecated. If you meant to do this, you must specify 'dtype=object' when creating the ndarray.\n",
      "  return asarray(a).ndim\n",
      "C:\\Users\\lzorn\\.conda\\envs\\tm2_network_dev\\lib\\site-packages\\numpy\\core\\fromnumeric.py:3162: VisibleDeprecationWarning: Creating an ndarray from ragged nested sequences (which is a list-or-tuple of lists-or-tuples-or ndarrays with different lengths or shapes) is deprecated. If you meant to do this, you must specify 'dtype=object' when creating the ndarray.\n",
      "  return asarray(a).ndim\n",
      "C:\\Users\\lzorn\\.conda\\envs\\tm2_network_dev\\lib\\site-packages\\numpy\\core\\fromnumeric.py:3162: VisibleDeprecationWarning: Creating an ndarray from ragged nested sequences (which is a list-or-tuple of lists-or-tuples-or ndarrays with different lengths or shapes) is deprecated. If you meant to do this, you must specify 'dtype=object' when creating the ndarray.\n",
      "  return asarray(a).ndim\n",
      "C:\\Users\\lzorn\\.conda\\envs\\tm2_network_dev\\lib\\site-packages\\numpy\\core\\fromnumeric.py:3162: VisibleDeprecationWarning: Creating an ndarray from ragged nested sequences (which is a list-or-tuple of lists-or-tuples-or ndarrays with different lengths or shapes) is deprecated. If you meant to do this, you must specify 'dtype=object' when creating the ndarray.\n",
      "  return asarray(a).ndim\n",
      "C:\\Users\\lzorn\\.conda\\envs\\tm2_network_dev\\lib\\site-packages\\numpy\\core\\fromnumeric.py:3162: VisibleDeprecationWarning: Creating an ndarray from ragged nested sequences (which is a list-or-tuple of lists-or-tuples-or ndarrays with different lengths or shapes) is deprecated. If you meant to do this, you must specify 'dtype=object' when creating the ndarray.\n",
      "  return asarray(a).ndim\n",
      "C:\\Users\\lzorn\\.conda\\envs\\tm2_network_dev\\lib\\site-packages\\numpy\\core\\fromnumeric.py:3162: VisibleDeprecationWarning: Creating an ndarray from ragged nested sequences (which is a list-or-tuple of lists-or-tuples-or ndarrays with different lengths or shapes) is deprecated. If you meant to do this, you must specify 'dtype=object' when creating the ndarray.\n",
      "  return asarray(a).ndim\n",
      "C:\\Users\\lzorn\\.conda\\envs\\tm2_network_dev\\lib\\site-packages\\numpy\\core\\fromnumeric.py:3162: VisibleDeprecationWarning: Creating an ndarray from ragged nested sequences (which is a list-or-tuple of lists-or-tuples-or ndarrays with different lengths or shapes) is deprecated. If you meant to do this, you must specify 'dtype=object' when creating the ndarray.\n",
      "  return asarray(a).ndim\n",
      "C:\\Users\\lzorn\\.conda\\envs\\tm2_network_dev\\lib\\site-packages\\numpy\\core\\fromnumeric.py:3162: VisibleDeprecationWarning: Creating an ndarray from ragged nested sequences (which is a list-or-tuple of lists-or-tuples-or ndarrays with different lengths or shapes) is deprecated. If you meant to do this, you must specify 'dtype=object' when creating the ndarray.\n",
      "  return asarray(a).ndim\n"
     ]
    },
    {
     "name": "stdout",
     "output_type": "stream",
     "text": [
      "2022-01-20 13:19:59, INFO: Creating a new stop in stops.txt for node ID: 2123755\n",
      "2022-01-20 13:19:59, INFO: Creating a new stop in stops.txt for node ID: 2156698\n",
      "2022-01-20 13:19:59, INFO: Creating a new stop in stops.txt for node ID: 2140430\n",
      "2022-01-20 13:20:00, INFO: Creating a new stop in stops.txt for node ID: 2097974\n"
     ]
    },
    {
     "name": "stderr",
     "output_type": "stream",
     "text": [
      "C:\\Users\\lzorn\\.conda\\envs\\tm2_network_dev\\lib\\site-packages\\numpy\\core\\fromnumeric.py:3162: VisibleDeprecationWarning: Creating an ndarray from ragged nested sequences (which is a list-or-tuple of lists-or-tuples-or ndarrays with different lengths or shapes) is deprecated. If you meant to do this, you must specify 'dtype=object' when creating the ndarray.\n",
      "  return asarray(a).ndim\n",
      "C:\\Users\\lzorn\\.conda\\envs\\tm2_network_dev\\lib\\site-packages\\numpy\\core\\fromnumeric.py:3162: VisibleDeprecationWarning: Creating an ndarray from ragged nested sequences (which is a list-or-tuple of lists-or-tuples-or ndarrays with different lengths or shapes) is deprecated. If you meant to do this, you must specify 'dtype=object' when creating the ndarray.\n",
      "  return asarray(a).ndim\n",
      "C:\\Users\\lzorn\\.conda\\envs\\tm2_network_dev\\lib\\site-packages\\numpy\\core\\fromnumeric.py:3162: VisibleDeprecationWarning: Creating an ndarray from ragged nested sequences (which is a list-or-tuple of lists-or-tuples-or ndarrays with different lengths or shapes) is deprecated. If you meant to do this, you must specify 'dtype=object' when creating the ndarray.\n",
      "  return asarray(a).ndim\n",
      "C:\\Users\\lzorn\\.conda\\envs\\tm2_network_dev\\lib\\site-packages\\numpy\\core\\fromnumeric.py:3162: VisibleDeprecationWarning: Creating an ndarray from ragged nested sequences (which is a list-or-tuple of lists-or-tuples-or ndarrays with different lengths or shapes) is deprecated. If you meant to do this, you must specify 'dtype=object' when creating the ndarray.\n",
      "  return asarray(a).ndim\n",
      "C:\\Users\\lzorn\\.conda\\envs\\tm2_network_dev\\lib\\site-packages\\numpy\\core\\fromnumeric.py:3162: VisibleDeprecationWarning: Creating an ndarray from ragged nested sequences (which is a list-or-tuple of lists-or-tuples-or ndarrays with different lengths or shapes) is deprecated. If you meant to do this, you must specify 'dtype=object' when creating the ndarray.\n",
      "  return asarray(a).ndim\n"
     ]
    },
    {
     "name": "stdout",
     "output_type": "stream",
     "text": [
      "2022-01-20 13:20:01, INFO: Applying VTA Route 607 Edits\n",
      "2022-01-20 13:20:01, INFO: Applying VTA Route 607 Edits\n",
      "2022-01-20 13:20:01, INFO: Applying Project to Transit Network: VTA Route 607 Edits\n",
      "2022-01-20 13:20:02, INFO: Creating a new stop in stops.txt for node ID: 2031200\n",
      "2022-01-20 13:20:02, INFO: Creating a new stop in stops.txt for node ID: 2165214\n",
      "2022-01-20 13:20:02, INFO: Creating a new stop in stops.txt for node ID: 2131220\n",
      "2022-01-20 13:20:02, INFO: Creating a new stop in stops.txt for node ID: 2043788\n",
      "2022-01-20 13:20:02, INFO: Creating a new stop in stops.txt for node ID: 2108685\n",
      "2022-01-20 13:20:02, INFO: Creating a new stop in stops.txt for node ID: 2046425\n",
      "2022-01-20 13:20:02, INFO: Creating a new stop in stops.txt for node ID: 2098451\n",
      "2022-01-20 13:20:02, INFO: Creating a new stop in stops.txt for node ID: 2020562\n",
      "2022-01-20 13:20:02, INFO: Creating a new stop in stops.txt for node ID: 2090983\n",
      "2022-01-20 13:20:02, INFO: Creating a new stop in stops.txt for node ID: 2054217\n",
      "2022-01-20 13:20:02, INFO: Creating a new stop in stops.txt for node ID: 2038694\n",
      "2022-01-20 13:20:02, INFO: Creating a new stop in stops.txt for node ID: 2003121\n",
      "2022-01-20 13:20:02, INFO: Creating a new stop in stops.txt for node ID: 2146572\n"
     ]
    },
    {
     "name": "stderr",
     "output_type": "stream",
     "text": [
      "C:\\Users\\lzorn\\.conda\\envs\\tm2_network_dev\\lib\\site-packages\\numpy\\core\\fromnumeric.py:3162: VisibleDeprecationWarning: Creating an ndarray from ragged nested sequences (which is a list-or-tuple of lists-or-tuples-or ndarrays with different lengths or shapes) is deprecated. If you meant to do this, you must specify 'dtype=object' when creating the ndarray.\n",
      "  return asarray(a).ndim\n",
      "C:\\Users\\lzorn\\.conda\\envs\\tm2_network_dev\\lib\\site-packages\\numpy\\core\\fromnumeric.py:3162: VisibleDeprecationWarning: Creating an ndarray from ragged nested sequences (which is a list-or-tuple of lists-or-tuples-or ndarrays with different lengths or shapes) is deprecated. If you meant to do this, you must specify 'dtype=object' when creating the ndarray.\n",
      "  return asarray(a).ndim\n",
      "C:\\Users\\lzorn\\.conda\\envs\\tm2_network_dev\\lib\\site-packages\\numpy\\core\\fromnumeric.py:3162: VisibleDeprecationWarning: Creating an ndarray from ragged nested sequences (which is a list-or-tuple of lists-or-tuples-or ndarrays with different lengths or shapes) is deprecated. If you meant to do this, you must specify 'dtype=object' when creating the ndarray.\n",
      "  return asarray(a).ndim\n",
      "C:\\Users\\lzorn\\.conda\\envs\\tm2_network_dev\\lib\\site-packages\\numpy\\core\\fromnumeric.py:3162: VisibleDeprecationWarning: Creating an ndarray from ragged nested sequences (which is a list-or-tuple of lists-or-tuples-or ndarrays with different lengths or shapes) is deprecated. If you meant to do this, you must specify 'dtype=object' when creating the ndarray.\n",
      "  return asarray(a).ndim\n",
      "C:\\Users\\lzorn\\.conda\\envs\\tm2_network_dev\\lib\\site-packages\\numpy\\core\\fromnumeric.py:3162: VisibleDeprecationWarning: Creating an ndarray from ragged nested sequences (which is a list-or-tuple of lists-or-tuples-or ndarrays with different lengths or shapes) is deprecated. If you meant to do this, you must specify 'dtype=object' when creating the ndarray.\n",
      "  return asarray(a).ndim\n",
      "C:\\Users\\lzorn\\.conda\\envs\\tm2_network_dev\\lib\\site-packages\\numpy\\core\\fromnumeric.py:3162: VisibleDeprecationWarning: Creating an ndarray from ragged nested sequences (which is a list-or-tuple of lists-or-tuples-or ndarrays with different lengths or shapes) is deprecated. If you meant to do this, you must specify 'dtype=object' when creating the ndarray.\n",
      "  return asarray(a).ndim\n",
      "C:\\Users\\lzorn\\.conda\\envs\\tm2_network_dev\\lib\\site-packages\\numpy\\core\\fromnumeric.py:3162: VisibleDeprecationWarning: Creating an ndarray from ragged nested sequences (which is a list-or-tuple of lists-or-tuples-or ndarrays with different lengths or shapes) is deprecated. If you meant to do this, you must specify 'dtype=object' when creating the ndarray.\n",
      "  return asarray(a).ndim\n",
      "C:\\Users\\lzorn\\.conda\\envs\\tm2_network_dev\\lib\\site-packages\\numpy\\core\\fromnumeric.py:3162: VisibleDeprecationWarning: Creating an ndarray from ragged nested sequences (which is a list-or-tuple of lists-or-tuples-or ndarrays with different lengths or shapes) is deprecated. If you meant to do this, you must specify 'dtype=object' when creating the ndarray.\n",
      "  return asarray(a).ndim\n",
      "C:\\Users\\lzorn\\.conda\\envs\\tm2_network_dev\\lib\\site-packages\\numpy\\core\\fromnumeric.py:3162: VisibleDeprecationWarning: Creating an ndarray from ragged nested sequences (which is a list-or-tuple of lists-or-tuples-or ndarrays with different lengths or shapes) is deprecated. If you meant to do this, you must specify 'dtype=object' when creating the ndarray.\n",
      "  return asarray(a).ndim\n",
      "C:\\Users\\lzorn\\.conda\\envs\\tm2_network_dev\\lib\\site-packages\\numpy\\core\\fromnumeric.py:3162: VisibleDeprecationWarning: Creating an ndarray from ragged nested sequences (which is a list-or-tuple of lists-or-tuples-or ndarrays with different lengths or shapes) is deprecated. If you meant to do this, you must specify 'dtype=object' when creating the ndarray.\n",
      "  return asarray(a).ndim\n",
      "C:\\Users\\lzorn\\.conda\\envs\\tm2_network_dev\\lib\\site-packages\\numpy\\core\\fromnumeric.py:3162: VisibleDeprecationWarning: Creating an ndarray from ragged nested sequences (which is a list-or-tuple of lists-or-tuples-or ndarrays with different lengths or shapes) is deprecated. If you meant to do this, you must specify 'dtype=object' when creating the ndarray.\n",
      "  return asarray(a).ndim\n",
      "C:\\Users\\lzorn\\.conda\\envs\\tm2_network_dev\\lib\\site-packages\\numpy\\core\\fromnumeric.py:3162: VisibleDeprecationWarning: Creating an ndarray from ragged nested sequences (which is a list-or-tuple of lists-or-tuples-or ndarrays with different lengths or shapes) is deprecated. If you meant to do this, you must specify 'dtype=object' when creating the ndarray.\n",
      "  return asarray(a).ndim\n",
      "C:\\Users\\lzorn\\.conda\\envs\\tm2_network_dev\\lib\\site-packages\\numpy\\core\\fromnumeric.py:3162: VisibleDeprecationWarning: Creating an ndarray from ragged nested sequences (which is a list-or-tuple of lists-or-tuples-or ndarrays with different lengths or shapes) is deprecated. If you meant to do this, you must specify 'dtype=object' when creating the ndarray.\n",
      "  return asarray(a).ndim\n"
     ]
    },
    {
     "name": "stdout",
     "output_type": "stream",
     "text": [
      "2022-01-20 13:20:02, INFO: Creating a new stop in stops.txt for node ID: 2129877\n"
     ]
    },
    {
     "name": "stderr",
     "output_type": "stream",
     "text": [
      "C:\\Users\\lzorn\\.conda\\envs\\tm2_network_dev\\lib\\site-packages\\numpy\\core\\fromnumeric.py:3162: VisibleDeprecationWarning: Creating an ndarray from ragged nested sequences (which is a list-or-tuple of lists-or-tuples-or ndarrays with different lengths or shapes) is deprecated. If you meant to do this, you must specify 'dtype=object' when creating the ndarray.\n",
      "  return asarray(a).ndim\n"
     ]
    },
    {
     "name": "stdout",
     "output_type": "stream",
     "text": [
      "2022-01-20 13:20:03, INFO: Applying VTA Route 607 Edits\n",
      "2022-01-20 13:20:03, INFO: Applying Project to Transit Network: VTA Route 607 Edits\n",
      "2022-01-20 13:20:04, INFO: Creating a new stop in stops.txt for node ID: 2009535\n",
      "2022-01-20 13:20:04, INFO: Creating a new stop in stops.txt for node ID: 2150339\n"
     ]
    },
    {
     "name": "stderr",
     "output_type": "stream",
     "text": [
      "C:\\Users\\lzorn\\.conda\\envs\\tm2_network_dev\\lib\\site-packages\\numpy\\core\\fromnumeric.py:3162: VisibleDeprecationWarning: Creating an ndarray from ragged nested sequences (which is a list-or-tuple of lists-or-tuples-or ndarrays with different lengths or shapes) is deprecated. If you meant to do this, you must specify 'dtype=object' when creating the ndarray.\n",
      "  return asarray(a).ndim\n",
      "C:\\Users\\lzorn\\.conda\\envs\\tm2_network_dev\\lib\\site-packages\\numpy\\core\\fromnumeric.py:3162: VisibleDeprecationWarning: Creating an ndarray from ragged nested sequences (which is a list-or-tuple of lists-or-tuples-or ndarrays with different lengths or shapes) is deprecated. If you meant to do this, you must specify 'dtype=object' when creating the ndarray.\n",
      "  return asarray(a).ndim\n"
     ]
    },
    {
     "name": "stdout",
     "output_type": "stream",
     "text": [
      "2022-01-20 13:20:05, INFO: Applying VTA Route 607 Edits\n",
      "2022-01-20 13:20:05, INFO: Applying Project to Transit Network: VTA Route 607 Edits\n",
      "2022-01-20 13:20:06, INFO: Creating a new stop in stops.txt for node ID: 2074289\n",
      "2022-01-20 13:20:06, INFO: Creating a new stop in stops.txt for node ID: 2157897\n",
      "2022-01-20 13:20:06, INFO: Creating a new stop in stops.txt for node ID: 2143337\n",
      "2022-01-20 13:20:06, INFO: Creating a new stop in stops.txt for node ID: 2153964\n",
      "2022-01-20 13:20:06, INFO: Creating a new stop in stops.txt for node ID: 2086438\n",
      "2022-01-20 13:20:06, INFO: Creating a new stop in stops.txt for node ID: 2006386\n",
      "2022-01-20 13:20:06, INFO: Creating a new stop in stops.txt for node ID: 2047978\n",
      "2022-01-20 13:20:06, INFO: Creating a new stop in stops.txt for node ID: 2167291\n",
      "2022-01-20 13:20:06, INFO: Creating a new stop in stops.txt for node ID: 2096624\n",
      "2022-01-20 13:20:06, INFO: Creating a new stop in stops.txt for node ID: 2074186\n",
      "2022-01-20 13:20:06, INFO: Creating a new stop in stops.txt for node ID: 2033438\n",
      "2022-01-20 13:20:06, INFO: Creating a new stop in stops.txt for node ID: 2138375\n"
     ]
    },
    {
     "name": "stderr",
     "output_type": "stream",
     "text": [
      "C:\\Users\\lzorn\\.conda\\envs\\tm2_network_dev\\lib\\site-packages\\numpy\\core\\fromnumeric.py:3162: VisibleDeprecationWarning: Creating an ndarray from ragged nested sequences (which is a list-or-tuple of lists-or-tuples-or ndarrays with different lengths or shapes) is deprecated. If you meant to do this, you must specify 'dtype=object' when creating the ndarray.\n",
      "  return asarray(a).ndim\n",
      "C:\\Users\\lzorn\\.conda\\envs\\tm2_network_dev\\lib\\site-packages\\numpy\\core\\fromnumeric.py:3162: VisibleDeprecationWarning: Creating an ndarray from ragged nested sequences (which is a list-or-tuple of lists-or-tuples-or ndarrays with different lengths or shapes) is deprecated. If you meant to do this, you must specify 'dtype=object' when creating the ndarray.\n",
      "  return asarray(a).ndim\n",
      "C:\\Users\\lzorn\\.conda\\envs\\tm2_network_dev\\lib\\site-packages\\numpy\\core\\fromnumeric.py:3162: VisibleDeprecationWarning: Creating an ndarray from ragged nested sequences (which is a list-or-tuple of lists-or-tuples-or ndarrays with different lengths or shapes) is deprecated. If you meant to do this, you must specify 'dtype=object' when creating the ndarray.\n",
      "  return asarray(a).ndim\n",
      "C:\\Users\\lzorn\\.conda\\envs\\tm2_network_dev\\lib\\site-packages\\numpy\\core\\fromnumeric.py:3162: VisibleDeprecationWarning: Creating an ndarray from ragged nested sequences (which is a list-or-tuple of lists-or-tuples-or ndarrays with different lengths or shapes) is deprecated. If you meant to do this, you must specify 'dtype=object' when creating the ndarray.\n",
      "  return asarray(a).ndim\n",
      "C:\\Users\\lzorn\\.conda\\envs\\tm2_network_dev\\lib\\site-packages\\numpy\\core\\fromnumeric.py:3162: VisibleDeprecationWarning: Creating an ndarray from ragged nested sequences (which is a list-or-tuple of lists-or-tuples-or ndarrays with different lengths or shapes) is deprecated. If you meant to do this, you must specify 'dtype=object' when creating the ndarray.\n",
      "  return asarray(a).ndim\n",
      "C:\\Users\\lzorn\\.conda\\envs\\tm2_network_dev\\lib\\site-packages\\numpy\\core\\fromnumeric.py:3162: VisibleDeprecationWarning: Creating an ndarray from ragged nested sequences (which is a list-or-tuple of lists-or-tuples-or ndarrays with different lengths or shapes) is deprecated. If you meant to do this, you must specify 'dtype=object' when creating the ndarray.\n",
      "  return asarray(a).ndim\n",
      "C:\\Users\\lzorn\\.conda\\envs\\tm2_network_dev\\lib\\site-packages\\numpy\\core\\fromnumeric.py:3162: VisibleDeprecationWarning: Creating an ndarray from ragged nested sequences (which is a list-or-tuple of lists-or-tuples-or ndarrays with different lengths or shapes) is deprecated. If you meant to do this, you must specify 'dtype=object' when creating the ndarray.\n",
      "  return asarray(a).ndim\n",
      "C:\\Users\\lzorn\\.conda\\envs\\tm2_network_dev\\lib\\site-packages\\numpy\\core\\fromnumeric.py:3162: VisibleDeprecationWarning: Creating an ndarray from ragged nested sequences (which is a list-or-tuple of lists-or-tuples-or ndarrays with different lengths or shapes) is deprecated. If you meant to do this, you must specify 'dtype=object' when creating the ndarray.\n",
      "  return asarray(a).ndim\n",
      "C:\\Users\\lzorn\\.conda\\envs\\tm2_network_dev\\lib\\site-packages\\numpy\\core\\fromnumeric.py:3162: VisibleDeprecationWarning: Creating an ndarray from ragged nested sequences (which is a list-or-tuple of lists-or-tuples-or ndarrays with different lengths or shapes) is deprecated. If you meant to do this, you must specify 'dtype=object' when creating the ndarray.\n",
      "  return asarray(a).ndim\n",
      "C:\\Users\\lzorn\\.conda\\envs\\tm2_network_dev\\lib\\site-packages\\numpy\\core\\fromnumeric.py:3162: VisibleDeprecationWarning: Creating an ndarray from ragged nested sequences (which is a list-or-tuple of lists-or-tuples-or ndarrays with different lengths or shapes) is deprecated. If you meant to do this, you must specify 'dtype=object' when creating the ndarray.\n",
      "  return asarray(a).ndim\n",
      "C:\\Users\\lzorn\\.conda\\envs\\tm2_network_dev\\lib\\site-packages\\numpy\\core\\fromnumeric.py:3162: VisibleDeprecationWarning: Creating an ndarray from ragged nested sequences (which is a list-or-tuple of lists-or-tuples-or ndarrays with different lengths or shapes) is deprecated. If you meant to do this, you must specify 'dtype=object' when creating the ndarray.\n",
      "  return asarray(a).ndim\n"
     ]
    },
    {
     "name": "stdout",
     "output_type": "stream",
     "text": [
      "2022-01-20 13:20:06, INFO: Creating a new stop in stops.txt for node ID: 2068611\n",
      "2022-01-20 13:20:06, INFO: Creating a new stop in stops.txt for node ID: 2050660\n",
      "2022-01-20 13:20:06, INFO: Creating a new stop in stops.txt for node ID: 2021999\n",
      "2022-01-20 13:20:06, INFO: Creating a new stop in stops.txt for node ID: 2122156\n",
      "2022-01-20 13:20:06, INFO: Creating a new stop in stops.txt for node ID: 2162422\n",
      "2022-01-20 13:20:06, INFO: Creating a new stop in stops.txt for node ID: 2074967\n",
      "2022-01-20 13:20:06, INFO: Creating a new stop in stops.txt for node ID: 2041497\n",
      "2022-01-20 13:20:06, INFO: Creating a new stop in stops.txt for node ID: 2017937\n",
      "2022-01-20 13:20:06, INFO: Creating a new stop in stops.txt for node ID: 2098690\n",
      "2022-01-20 13:20:06, INFO: Creating a new stop in stops.txt for node ID: 2027591\n"
     ]
    },
    {
     "name": "stderr",
     "output_type": "stream",
     "text": [
      "C:\\Users\\lzorn\\.conda\\envs\\tm2_network_dev\\lib\\site-packages\\numpy\\core\\fromnumeric.py:3162: VisibleDeprecationWarning: Creating an ndarray from ragged nested sequences (which is a list-or-tuple of lists-or-tuples-or ndarrays with different lengths or shapes) is deprecated. If you meant to do this, you must specify 'dtype=object' when creating the ndarray.\n",
      "  return asarray(a).ndim\n",
      "C:\\Users\\lzorn\\.conda\\envs\\tm2_network_dev\\lib\\site-packages\\numpy\\core\\fromnumeric.py:3162: VisibleDeprecationWarning: Creating an ndarray from ragged nested sequences (which is a list-or-tuple of lists-or-tuples-or ndarrays with different lengths or shapes) is deprecated. If you meant to do this, you must specify 'dtype=object' when creating the ndarray.\n",
      "  return asarray(a).ndim\n",
      "C:\\Users\\lzorn\\.conda\\envs\\tm2_network_dev\\lib\\site-packages\\numpy\\core\\fromnumeric.py:3162: VisibleDeprecationWarning: Creating an ndarray from ragged nested sequences (which is a list-or-tuple of lists-or-tuples-or ndarrays with different lengths or shapes) is deprecated. If you meant to do this, you must specify 'dtype=object' when creating the ndarray.\n",
      "  return asarray(a).ndim\n",
      "C:\\Users\\lzorn\\.conda\\envs\\tm2_network_dev\\lib\\site-packages\\numpy\\core\\fromnumeric.py:3162: VisibleDeprecationWarning: Creating an ndarray from ragged nested sequences (which is a list-or-tuple of lists-or-tuples-or ndarrays with different lengths or shapes) is deprecated. If you meant to do this, you must specify 'dtype=object' when creating the ndarray.\n",
      "  return asarray(a).ndim\n",
      "C:\\Users\\lzorn\\.conda\\envs\\tm2_network_dev\\lib\\site-packages\\numpy\\core\\fromnumeric.py:3162: VisibleDeprecationWarning: Creating an ndarray from ragged nested sequences (which is a list-or-tuple of lists-or-tuples-or ndarrays with different lengths or shapes) is deprecated. If you meant to do this, you must specify 'dtype=object' when creating the ndarray.\n",
      "  return asarray(a).ndim\n",
      "C:\\Users\\lzorn\\.conda\\envs\\tm2_network_dev\\lib\\site-packages\\numpy\\core\\fromnumeric.py:3162: VisibleDeprecationWarning: Creating an ndarray from ragged nested sequences (which is a list-or-tuple of lists-or-tuples-or ndarrays with different lengths or shapes) is deprecated. If you meant to do this, you must specify 'dtype=object' when creating the ndarray.\n",
      "  return asarray(a).ndim\n",
      "C:\\Users\\lzorn\\.conda\\envs\\tm2_network_dev\\lib\\site-packages\\numpy\\core\\fromnumeric.py:3162: VisibleDeprecationWarning: Creating an ndarray from ragged nested sequences (which is a list-or-tuple of lists-or-tuples-or ndarrays with different lengths or shapes) is deprecated. If you meant to do this, you must specify 'dtype=object' when creating the ndarray.\n",
      "  return asarray(a).ndim\n",
      "C:\\Users\\lzorn\\.conda\\envs\\tm2_network_dev\\lib\\site-packages\\numpy\\core\\fromnumeric.py:3162: VisibleDeprecationWarning: Creating an ndarray from ragged nested sequences (which is a list-or-tuple of lists-or-tuples-or ndarrays with different lengths or shapes) is deprecated. If you meant to do this, you must specify 'dtype=object' when creating the ndarray.\n",
      "  return asarray(a).ndim\n",
      "C:\\Users\\lzorn\\.conda\\envs\\tm2_network_dev\\lib\\site-packages\\numpy\\core\\fromnumeric.py:3162: VisibleDeprecationWarning: Creating an ndarray from ragged nested sequences (which is a list-or-tuple of lists-or-tuples-or ndarrays with different lengths or shapes) is deprecated. If you meant to do this, you must specify 'dtype=object' when creating the ndarray.\n",
      "  return asarray(a).ndim\n",
      "C:\\Users\\lzorn\\.conda\\envs\\tm2_network_dev\\lib\\site-packages\\numpy\\core\\fromnumeric.py:3162: VisibleDeprecationWarning: Creating an ndarray from ragged nested sequences (which is a list-or-tuple of lists-or-tuples-or ndarrays with different lengths or shapes) is deprecated. If you meant to do this, you must specify 'dtype=object' when creating the ndarray.\n",
      "  return asarray(a).ndim\n",
      "C:\\Users\\lzorn\\.conda\\envs\\tm2_network_dev\\lib\\site-packages\\numpy\\core\\fromnumeric.py:3162: VisibleDeprecationWarning: Creating an ndarray from ragged nested sequences (which is a list-or-tuple of lists-or-tuples-or ndarrays with different lengths or shapes) is deprecated. If you meant to do this, you must specify 'dtype=object' when creating the ndarray.\n",
      "  return asarray(a).ndim\n"
     ]
    },
    {
     "name": "stdout",
     "output_type": "stream",
     "text": [
      "2022-01-20 13:20:08, INFO: Applying VTA Route 606 Edits\n",
      "2022-01-20 13:20:08, INFO: Applying VTA Route 606 Edits\n",
      "2022-01-20 13:20:08, INFO: Applying Project to Transit Network: VTA Route 606 Edits\n",
      "2022-01-20 13:20:09, INFO: Creating a new stop in stops.txt for node ID: 2051252\n",
      "2022-01-20 13:20:09, INFO: Creating a new stop in stops.txt for node ID: 2044375\n",
      "2022-01-20 13:20:09, INFO: Creating a new stop in stops.txt for node ID: 2104838\n",
      "2022-01-20 13:20:09, INFO: Creating a new stop in stops.txt for node ID: 2024885\n",
      "2022-01-20 13:20:09, INFO: Creating a new stop in stops.txt for node ID: 2019319\n",
      "2022-01-20 13:20:09, INFO: Creating a new stop in stops.txt for node ID: 2002706\n",
      "2022-01-20 13:20:09, INFO: Creating a new stop in stops.txt for node ID: 2157717\n",
      "2022-01-20 13:20:09, INFO: Creating a new stop in stops.txt for node ID: 2121794\n",
      "2022-01-20 13:20:09, INFO: Creating a new stop in stops.txt for node ID: 2123406\n",
      "2022-01-20 13:20:09, INFO: Creating a new stop in stops.txt for node ID: 2120028\n",
      "2022-01-20 13:20:09, INFO: Creating a new stop in stops.txt for node ID: 2030540\n",
      "2022-01-20 13:20:09, INFO: Creating a new stop in stops.txt for node ID: 2075183\n"
     ]
    },
    {
     "name": "stderr",
     "output_type": "stream",
     "text": [
      "C:\\Users\\lzorn\\.conda\\envs\\tm2_network_dev\\lib\\site-packages\\numpy\\core\\fromnumeric.py:3162: VisibleDeprecationWarning: Creating an ndarray from ragged nested sequences (which is a list-or-tuple of lists-or-tuples-or ndarrays with different lengths or shapes) is deprecated. If you meant to do this, you must specify 'dtype=object' when creating the ndarray.\n",
      "  return asarray(a).ndim\n",
      "C:\\Users\\lzorn\\.conda\\envs\\tm2_network_dev\\lib\\site-packages\\numpy\\core\\fromnumeric.py:3162: VisibleDeprecationWarning: Creating an ndarray from ragged nested sequences (which is a list-or-tuple of lists-or-tuples-or ndarrays with different lengths or shapes) is deprecated. If you meant to do this, you must specify 'dtype=object' when creating the ndarray.\n",
      "  return asarray(a).ndim\n",
      "C:\\Users\\lzorn\\.conda\\envs\\tm2_network_dev\\lib\\site-packages\\numpy\\core\\fromnumeric.py:3162: VisibleDeprecationWarning: Creating an ndarray from ragged nested sequences (which is a list-or-tuple of lists-or-tuples-or ndarrays with different lengths or shapes) is deprecated. If you meant to do this, you must specify 'dtype=object' when creating the ndarray.\n",
      "  return asarray(a).ndim\n",
      "C:\\Users\\lzorn\\.conda\\envs\\tm2_network_dev\\lib\\site-packages\\numpy\\core\\fromnumeric.py:3162: VisibleDeprecationWarning: Creating an ndarray from ragged nested sequences (which is a list-or-tuple of lists-or-tuples-or ndarrays with different lengths or shapes) is deprecated. If you meant to do this, you must specify 'dtype=object' when creating the ndarray.\n",
      "  return asarray(a).ndim\n",
      "C:\\Users\\lzorn\\.conda\\envs\\tm2_network_dev\\lib\\site-packages\\numpy\\core\\fromnumeric.py:3162: VisibleDeprecationWarning: Creating an ndarray from ragged nested sequences (which is a list-or-tuple of lists-or-tuples-or ndarrays with different lengths or shapes) is deprecated. If you meant to do this, you must specify 'dtype=object' when creating the ndarray.\n",
      "  return asarray(a).ndim\n",
      "C:\\Users\\lzorn\\.conda\\envs\\tm2_network_dev\\lib\\site-packages\\numpy\\core\\fromnumeric.py:3162: VisibleDeprecationWarning: Creating an ndarray from ragged nested sequences (which is a list-or-tuple of lists-or-tuples-or ndarrays with different lengths or shapes) is deprecated. If you meant to do this, you must specify 'dtype=object' when creating the ndarray.\n",
      "  return asarray(a).ndim\n",
      "C:\\Users\\lzorn\\.conda\\envs\\tm2_network_dev\\lib\\site-packages\\numpy\\core\\fromnumeric.py:3162: VisibleDeprecationWarning: Creating an ndarray from ragged nested sequences (which is a list-or-tuple of lists-or-tuples-or ndarrays with different lengths or shapes) is deprecated. If you meant to do this, you must specify 'dtype=object' when creating the ndarray.\n",
      "  return asarray(a).ndim\n",
      "C:\\Users\\lzorn\\.conda\\envs\\tm2_network_dev\\lib\\site-packages\\numpy\\core\\fromnumeric.py:3162: VisibleDeprecationWarning: Creating an ndarray from ragged nested sequences (which is a list-or-tuple of lists-or-tuples-or ndarrays with different lengths or shapes) is deprecated. If you meant to do this, you must specify 'dtype=object' when creating the ndarray.\n",
      "  return asarray(a).ndim\n",
      "C:\\Users\\lzorn\\.conda\\envs\\tm2_network_dev\\lib\\site-packages\\numpy\\core\\fromnumeric.py:3162: VisibleDeprecationWarning: Creating an ndarray from ragged nested sequences (which is a list-or-tuple of lists-or-tuples-or ndarrays with different lengths or shapes) is deprecated. If you meant to do this, you must specify 'dtype=object' when creating the ndarray.\n",
      "  return asarray(a).ndim\n",
      "C:\\Users\\lzorn\\.conda\\envs\\tm2_network_dev\\lib\\site-packages\\numpy\\core\\fromnumeric.py:3162: VisibleDeprecationWarning: Creating an ndarray from ragged nested sequences (which is a list-or-tuple of lists-or-tuples-or ndarrays with different lengths or shapes) is deprecated. If you meant to do this, you must specify 'dtype=object' when creating the ndarray.\n",
      "  return asarray(a).ndim\n",
      "C:\\Users\\lzorn\\.conda\\envs\\tm2_network_dev\\lib\\site-packages\\numpy\\core\\fromnumeric.py:3162: VisibleDeprecationWarning: Creating an ndarray from ragged nested sequences (which is a list-or-tuple of lists-or-tuples-or ndarrays with different lengths or shapes) is deprecated. If you meant to do this, you must specify 'dtype=object' when creating the ndarray.\n",
      "  return asarray(a).ndim\n",
      "C:\\Users\\lzorn\\.conda\\envs\\tm2_network_dev\\lib\\site-packages\\numpy\\core\\fromnumeric.py:3162: VisibleDeprecationWarning: Creating an ndarray from ragged nested sequences (which is a list-or-tuple of lists-or-tuples-or ndarrays with different lengths or shapes) is deprecated. If you meant to do this, you must specify 'dtype=object' when creating the ndarray.\n",
      "  return asarray(a).ndim\n"
     ]
    },
    {
     "name": "stdout",
     "output_type": "stream",
     "text": [
      "2022-01-20 13:20:09, INFO: Creating a new stop in stops.txt for node ID: 2002834\n",
      "2022-01-20 13:20:09, INFO: Creating a new stop in stops.txt for node ID: 2001551\n",
      "2022-01-20 13:20:09, INFO: Creating a new stop in stops.txt for node ID: 2048716\n",
      "2022-01-20 13:20:09, INFO: Creating a new stop in stops.txt for node ID: 2005001\n",
      "2022-01-20 13:20:09, INFO: Creating a new stop in stops.txt for node ID: 2111886\n",
      "2022-01-20 13:20:09, INFO: Creating a new stop in stops.txt for node ID: 2163919\n",
      "2022-01-20 13:20:09, INFO: Creating a new stop in stops.txt for node ID: 2059787\n",
      "2022-01-20 13:20:09, INFO: Creating a new stop in stops.txt for node ID: 2067289\n",
      "2022-01-20 13:20:09, INFO: Creating a new stop in stops.txt for node ID: 2018674\n"
     ]
    },
    {
     "name": "stderr",
     "output_type": "stream",
     "text": [
      "C:\\Users\\lzorn\\.conda\\envs\\tm2_network_dev\\lib\\site-packages\\numpy\\core\\fromnumeric.py:3162: VisibleDeprecationWarning: Creating an ndarray from ragged nested sequences (which is a list-or-tuple of lists-or-tuples-or ndarrays with different lengths or shapes) is deprecated. If you meant to do this, you must specify 'dtype=object' when creating the ndarray.\n",
      "  return asarray(a).ndim\n",
      "C:\\Users\\lzorn\\.conda\\envs\\tm2_network_dev\\lib\\site-packages\\numpy\\core\\fromnumeric.py:3162: VisibleDeprecationWarning: Creating an ndarray from ragged nested sequences (which is a list-or-tuple of lists-or-tuples-or ndarrays with different lengths or shapes) is deprecated. If you meant to do this, you must specify 'dtype=object' when creating the ndarray.\n",
      "  return asarray(a).ndim\n",
      "C:\\Users\\lzorn\\.conda\\envs\\tm2_network_dev\\lib\\site-packages\\numpy\\core\\fromnumeric.py:3162: VisibleDeprecationWarning: Creating an ndarray from ragged nested sequences (which is a list-or-tuple of lists-or-tuples-or ndarrays with different lengths or shapes) is deprecated. If you meant to do this, you must specify 'dtype=object' when creating the ndarray.\n",
      "  return asarray(a).ndim\n",
      "C:\\Users\\lzorn\\.conda\\envs\\tm2_network_dev\\lib\\site-packages\\numpy\\core\\fromnumeric.py:3162: VisibleDeprecationWarning: Creating an ndarray from ragged nested sequences (which is a list-or-tuple of lists-or-tuples-or ndarrays with different lengths or shapes) is deprecated. If you meant to do this, you must specify 'dtype=object' when creating the ndarray.\n",
      "  return asarray(a).ndim\n",
      "C:\\Users\\lzorn\\.conda\\envs\\tm2_network_dev\\lib\\site-packages\\numpy\\core\\fromnumeric.py:3162: VisibleDeprecationWarning: Creating an ndarray from ragged nested sequences (which is a list-or-tuple of lists-or-tuples-or ndarrays with different lengths or shapes) is deprecated. If you meant to do this, you must specify 'dtype=object' when creating the ndarray.\n",
      "  return asarray(a).ndim\n",
      "C:\\Users\\lzorn\\.conda\\envs\\tm2_network_dev\\lib\\site-packages\\numpy\\core\\fromnumeric.py:3162: VisibleDeprecationWarning: Creating an ndarray from ragged nested sequences (which is a list-or-tuple of lists-or-tuples-or ndarrays with different lengths or shapes) is deprecated. If you meant to do this, you must specify 'dtype=object' when creating the ndarray.\n",
      "  return asarray(a).ndim\n",
      "C:\\Users\\lzorn\\.conda\\envs\\tm2_network_dev\\lib\\site-packages\\numpy\\core\\fromnumeric.py:3162: VisibleDeprecationWarning: Creating an ndarray from ragged nested sequences (which is a list-or-tuple of lists-or-tuples-or ndarrays with different lengths or shapes) is deprecated. If you meant to do this, you must specify 'dtype=object' when creating the ndarray.\n",
      "  return asarray(a).ndim\n",
      "C:\\Users\\lzorn\\.conda\\envs\\tm2_network_dev\\lib\\site-packages\\numpy\\core\\fromnumeric.py:3162: VisibleDeprecationWarning: Creating an ndarray from ragged nested sequences (which is a list-or-tuple of lists-or-tuples-or ndarrays with different lengths or shapes) is deprecated. If you meant to do this, you must specify 'dtype=object' when creating the ndarray.\n",
      "  return asarray(a).ndim\n",
      "C:\\Users\\lzorn\\.conda\\envs\\tm2_network_dev\\lib\\site-packages\\numpy\\core\\fromnumeric.py:3162: VisibleDeprecationWarning: Creating an ndarray from ragged nested sequences (which is a list-or-tuple of lists-or-tuples-or ndarrays with different lengths or shapes) is deprecated. If you meant to do this, you must specify 'dtype=object' when creating the ndarray.\n",
      "  return asarray(a).ndim\n"
     ]
    },
    {
     "name": "stdout",
     "output_type": "stream",
     "text": [
      "2022-01-20 13:20:11, INFO: Applying VTA Route 606 Edits\n",
      "2022-01-20 13:20:11, INFO: Applying Project to Transit Network: VTA Route 606 Edits\n",
      "2022-01-20 13:20:11, INFO: Creating a new stop in stops.txt for node ID: 2042744\n",
      "2022-01-20 13:20:12, INFO: Creating a new stop in stops.txt for node ID: 2003420\n",
      "2022-01-20 13:20:12, INFO: Creating a new stop in stops.txt for node ID: 2105789\n",
      "2022-01-20 13:20:12, INFO: Creating a new stop in stops.txt for node ID: 2026728\n",
      "2022-01-20 13:20:12, INFO: Creating a new stop in stops.txt for node ID: 2086077\n",
      "2022-01-20 13:20:12, INFO: Creating a new stop in stops.txt for node ID: 2027827\n",
      "2022-01-20 13:20:12, INFO: Creating a new stop in stops.txt for node ID: 2107046\n",
      "2022-01-20 13:20:12, INFO: Creating a new stop in stops.txt for node ID: 2015391\n",
      "2022-01-20 13:20:12, INFO: Creating a new stop in stops.txt for node ID: 2128853\n",
      "2022-01-20 13:20:12, INFO: Creating a new stop in stops.txt for node ID: 2020738\n",
      "2022-01-20 13:20:12, INFO: Creating a new stop in stops.txt for node ID: 2085374\n",
      "2022-01-20 13:20:12, INFO: Creating a new stop in stops.txt for node ID: 2053131\n"
     ]
    },
    {
     "name": "stderr",
     "output_type": "stream",
     "text": [
      "C:\\Users\\lzorn\\.conda\\envs\\tm2_network_dev\\lib\\site-packages\\numpy\\core\\fromnumeric.py:3162: VisibleDeprecationWarning: Creating an ndarray from ragged nested sequences (which is a list-or-tuple of lists-or-tuples-or ndarrays with different lengths or shapes) is deprecated. If you meant to do this, you must specify 'dtype=object' when creating the ndarray.\n",
      "  return asarray(a).ndim\n",
      "C:\\Users\\lzorn\\.conda\\envs\\tm2_network_dev\\lib\\site-packages\\numpy\\core\\fromnumeric.py:3162: VisibleDeprecationWarning: Creating an ndarray from ragged nested sequences (which is a list-or-tuple of lists-or-tuples-or ndarrays with different lengths or shapes) is deprecated. If you meant to do this, you must specify 'dtype=object' when creating the ndarray.\n",
      "  return asarray(a).ndim\n",
      "C:\\Users\\lzorn\\.conda\\envs\\tm2_network_dev\\lib\\site-packages\\numpy\\core\\fromnumeric.py:3162: VisibleDeprecationWarning: Creating an ndarray from ragged nested sequences (which is a list-or-tuple of lists-or-tuples-or ndarrays with different lengths or shapes) is deprecated. If you meant to do this, you must specify 'dtype=object' when creating the ndarray.\n",
      "  return asarray(a).ndim\n",
      "C:\\Users\\lzorn\\.conda\\envs\\tm2_network_dev\\lib\\site-packages\\numpy\\core\\fromnumeric.py:3162: VisibleDeprecationWarning: Creating an ndarray from ragged nested sequences (which is a list-or-tuple of lists-or-tuples-or ndarrays with different lengths or shapes) is deprecated. If you meant to do this, you must specify 'dtype=object' when creating the ndarray.\n",
      "  return asarray(a).ndim\n",
      "C:\\Users\\lzorn\\.conda\\envs\\tm2_network_dev\\lib\\site-packages\\numpy\\core\\fromnumeric.py:3162: VisibleDeprecationWarning: Creating an ndarray from ragged nested sequences (which is a list-or-tuple of lists-or-tuples-or ndarrays with different lengths or shapes) is deprecated. If you meant to do this, you must specify 'dtype=object' when creating the ndarray.\n",
      "  return asarray(a).ndim\n",
      "C:\\Users\\lzorn\\.conda\\envs\\tm2_network_dev\\lib\\site-packages\\numpy\\core\\fromnumeric.py:3162: VisibleDeprecationWarning: Creating an ndarray from ragged nested sequences (which is a list-or-tuple of lists-or-tuples-or ndarrays with different lengths or shapes) is deprecated. If you meant to do this, you must specify 'dtype=object' when creating the ndarray.\n",
      "  return asarray(a).ndim\n",
      "C:\\Users\\lzorn\\.conda\\envs\\tm2_network_dev\\lib\\site-packages\\numpy\\core\\fromnumeric.py:3162: VisibleDeprecationWarning: Creating an ndarray from ragged nested sequences (which is a list-or-tuple of lists-or-tuples-or ndarrays with different lengths or shapes) is deprecated. If you meant to do this, you must specify 'dtype=object' when creating the ndarray.\n",
      "  return asarray(a).ndim\n",
      "C:\\Users\\lzorn\\.conda\\envs\\tm2_network_dev\\lib\\site-packages\\numpy\\core\\fromnumeric.py:3162: VisibleDeprecationWarning: Creating an ndarray from ragged nested sequences (which is a list-or-tuple of lists-or-tuples-or ndarrays with different lengths or shapes) is deprecated. If you meant to do this, you must specify 'dtype=object' when creating the ndarray.\n",
      "  return asarray(a).ndim\n",
      "C:\\Users\\lzorn\\.conda\\envs\\tm2_network_dev\\lib\\site-packages\\numpy\\core\\fromnumeric.py:3162: VisibleDeprecationWarning: Creating an ndarray from ragged nested sequences (which is a list-or-tuple of lists-or-tuples-or ndarrays with different lengths or shapes) is deprecated. If you meant to do this, you must specify 'dtype=object' when creating the ndarray.\n",
      "  return asarray(a).ndim\n",
      "C:\\Users\\lzorn\\.conda\\envs\\tm2_network_dev\\lib\\site-packages\\numpy\\core\\fromnumeric.py:3162: VisibleDeprecationWarning: Creating an ndarray from ragged nested sequences (which is a list-or-tuple of lists-or-tuples-or ndarrays with different lengths or shapes) is deprecated. If you meant to do this, you must specify 'dtype=object' when creating the ndarray.\n",
      "  return asarray(a).ndim\n",
      "C:\\Users\\lzorn\\.conda\\envs\\tm2_network_dev\\lib\\site-packages\\numpy\\core\\fromnumeric.py:3162: VisibleDeprecationWarning: Creating an ndarray from ragged nested sequences (which is a list-or-tuple of lists-or-tuples-or ndarrays with different lengths or shapes) is deprecated. If you meant to do this, you must specify 'dtype=object' when creating the ndarray.\n",
      "  return asarray(a).ndim\n",
      "C:\\Users\\lzorn\\.conda\\envs\\tm2_network_dev\\lib\\site-packages\\numpy\\core\\fromnumeric.py:3162: VisibleDeprecationWarning: Creating an ndarray from ragged nested sequences (which is a list-or-tuple of lists-or-tuples-or ndarrays with different lengths or shapes) is deprecated. If you meant to do this, you must specify 'dtype=object' when creating the ndarray.\n",
      "  return asarray(a).ndim\n"
     ]
    },
    {
     "name": "stdout",
     "output_type": "stream",
     "text": [
      "2022-01-20 13:20:12, INFO: Creating a new stop in stops.txt for node ID: 2015597\n",
      "2022-01-20 13:20:12, INFO: Creating a new stop in stops.txt for node ID: 2160540\n",
      "2022-01-20 13:20:12, INFO: Creating a new stop in stops.txt for node ID: 2083524\n",
      "2022-01-20 13:20:12, INFO: Creating a new stop in stops.txt for node ID: 2092338\n",
      "2022-01-20 13:20:12, INFO: Creating a new stop in stops.txt for node ID: 2097160\n",
      "2022-01-20 13:20:12, INFO: Creating a new stop in stops.txt for node ID: 2121516\n",
      "2022-01-20 13:20:12, INFO: Creating a new stop in stops.txt for node ID: 2079301\n",
      "2022-01-20 13:20:12, INFO: Creating a new stop in stops.txt for node ID: 2097422\n",
      "2022-01-20 13:20:12, INFO: Creating a new stop in stops.txt for node ID: 2004959\n",
      "2022-01-20 13:20:12, INFO: Creating a new stop in stops.txt for node ID: 2114119\n"
     ]
    },
    {
     "name": "stderr",
     "output_type": "stream",
     "text": [
      "C:\\Users\\lzorn\\.conda\\envs\\tm2_network_dev\\lib\\site-packages\\numpy\\core\\fromnumeric.py:3162: VisibleDeprecationWarning: Creating an ndarray from ragged nested sequences (which is a list-or-tuple of lists-or-tuples-or ndarrays with different lengths or shapes) is deprecated. If you meant to do this, you must specify 'dtype=object' when creating the ndarray.\n",
      "  return asarray(a).ndim\n",
      "C:\\Users\\lzorn\\.conda\\envs\\tm2_network_dev\\lib\\site-packages\\numpy\\core\\fromnumeric.py:3162: VisibleDeprecationWarning: Creating an ndarray from ragged nested sequences (which is a list-or-tuple of lists-or-tuples-or ndarrays with different lengths or shapes) is deprecated. If you meant to do this, you must specify 'dtype=object' when creating the ndarray.\n",
      "  return asarray(a).ndim\n",
      "C:\\Users\\lzorn\\.conda\\envs\\tm2_network_dev\\lib\\site-packages\\numpy\\core\\fromnumeric.py:3162: VisibleDeprecationWarning: Creating an ndarray from ragged nested sequences (which is a list-or-tuple of lists-or-tuples-or ndarrays with different lengths or shapes) is deprecated. If you meant to do this, you must specify 'dtype=object' when creating the ndarray.\n",
      "  return asarray(a).ndim\n",
      "C:\\Users\\lzorn\\.conda\\envs\\tm2_network_dev\\lib\\site-packages\\numpy\\core\\fromnumeric.py:3162: VisibleDeprecationWarning: Creating an ndarray from ragged nested sequences (which is a list-or-tuple of lists-or-tuples-or ndarrays with different lengths or shapes) is deprecated. If you meant to do this, you must specify 'dtype=object' when creating the ndarray.\n",
      "  return asarray(a).ndim\n",
      "C:\\Users\\lzorn\\.conda\\envs\\tm2_network_dev\\lib\\site-packages\\numpy\\core\\fromnumeric.py:3162: VisibleDeprecationWarning: Creating an ndarray from ragged nested sequences (which is a list-or-tuple of lists-or-tuples-or ndarrays with different lengths or shapes) is deprecated. If you meant to do this, you must specify 'dtype=object' when creating the ndarray.\n",
      "  return asarray(a).ndim\n",
      "C:\\Users\\lzorn\\.conda\\envs\\tm2_network_dev\\lib\\site-packages\\numpy\\core\\fromnumeric.py:3162: VisibleDeprecationWarning: Creating an ndarray from ragged nested sequences (which is a list-or-tuple of lists-or-tuples-or ndarrays with different lengths or shapes) is deprecated. If you meant to do this, you must specify 'dtype=object' when creating the ndarray.\n",
      "  return asarray(a).ndim\n",
      "C:\\Users\\lzorn\\.conda\\envs\\tm2_network_dev\\lib\\site-packages\\numpy\\core\\fromnumeric.py:3162: VisibleDeprecationWarning: Creating an ndarray from ragged nested sequences (which is a list-or-tuple of lists-or-tuples-or ndarrays with different lengths or shapes) is deprecated. If you meant to do this, you must specify 'dtype=object' when creating the ndarray.\n",
      "  return asarray(a).ndim\n",
      "C:\\Users\\lzorn\\.conda\\envs\\tm2_network_dev\\lib\\site-packages\\numpy\\core\\fromnumeric.py:3162: VisibleDeprecationWarning: Creating an ndarray from ragged nested sequences (which is a list-or-tuple of lists-or-tuples-or ndarrays with different lengths or shapes) is deprecated. If you meant to do this, you must specify 'dtype=object' when creating the ndarray.\n",
      "  return asarray(a).ndim\n",
      "C:\\Users\\lzorn\\.conda\\envs\\tm2_network_dev\\lib\\site-packages\\numpy\\core\\fromnumeric.py:3162: VisibleDeprecationWarning: Creating an ndarray from ragged nested sequences (which is a list-or-tuple of lists-or-tuples-or ndarrays with different lengths or shapes) is deprecated. If you meant to do this, you must specify 'dtype=object' when creating the ndarray.\n",
      "  return asarray(a).ndim\n",
      "C:\\Users\\lzorn\\.conda\\envs\\tm2_network_dev\\lib\\site-packages\\numpy\\core\\fromnumeric.py:3162: VisibleDeprecationWarning: Creating an ndarray from ragged nested sequences (which is a list-or-tuple of lists-or-tuples-or ndarrays with different lengths or shapes) is deprecated. If you meant to do this, you must specify 'dtype=object' when creating the ndarray.\n",
      "  return asarray(a).ndim\n"
     ]
    },
    {
     "name": "stdout",
     "output_type": "stream",
     "text": [
      "2022-01-20 13:20:12, INFO: Creating a new stop in stops.txt for node ID: 2082502\n",
      "2022-01-20 13:20:12, INFO: Creating a new stop in stops.txt for node ID: 2066901\n",
      "2022-01-20 13:20:12, INFO: Creating a new stop in stops.txt for node ID: 2048269\n",
      "2022-01-20 13:20:12, INFO: Creating a new stop in stops.txt for node ID: 2138321\n",
      "2022-01-20 13:20:12, INFO: Creating a new stop in stops.txt for node ID: 2044548\n"
     ]
    },
    {
     "name": "stderr",
     "output_type": "stream",
     "text": [
      "C:\\Users\\lzorn\\.conda\\envs\\tm2_network_dev\\lib\\site-packages\\numpy\\core\\fromnumeric.py:3162: VisibleDeprecationWarning: Creating an ndarray from ragged nested sequences (which is a list-or-tuple of lists-or-tuples-or ndarrays with different lengths or shapes) is deprecated. If you meant to do this, you must specify 'dtype=object' when creating the ndarray.\n",
      "  return asarray(a).ndim\n",
      "C:\\Users\\lzorn\\.conda\\envs\\tm2_network_dev\\lib\\site-packages\\numpy\\core\\fromnumeric.py:3162: VisibleDeprecationWarning: Creating an ndarray from ragged nested sequences (which is a list-or-tuple of lists-or-tuples-or ndarrays with different lengths or shapes) is deprecated. If you meant to do this, you must specify 'dtype=object' when creating the ndarray.\n",
      "  return asarray(a).ndim\n",
      "C:\\Users\\lzorn\\.conda\\envs\\tm2_network_dev\\lib\\site-packages\\numpy\\core\\fromnumeric.py:3162: VisibleDeprecationWarning: Creating an ndarray from ragged nested sequences (which is a list-or-tuple of lists-or-tuples-or ndarrays with different lengths or shapes) is deprecated. If you meant to do this, you must specify 'dtype=object' when creating the ndarray.\n",
      "  return asarray(a).ndim\n",
      "C:\\Users\\lzorn\\.conda\\envs\\tm2_network_dev\\lib\\site-packages\\numpy\\core\\fromnumeric.py:3162: VisibleDeprecationWarning: Creating an ndarray from ragged nested sequences (which is a list-or-tuple of lists-or-tuples-or ndarrays with different lengths or shapes) is deprecated. If you meant to do this, you must specify 'dtype=object' when creating the ndarray.\n",
      "  return asarray(a).ndim\n",
      "C:\\Users\\lzorn\\.conda\\envs\\tm2_network_dev\\lib\\site-packages\\numpy\\core\\fromnumeric.py:3162: VisibleDeprecationWarning: Creating an ndarray from ragged nested sequences (which is a list-or-tuple of lists-or-tuples-or ndarrays with different lengths or shapes) is deprecated. If you meant to do this, you must specify 'dtype=object' when creating the ndarray.\n",
      "  return asarray(a).ndim\n"
     ]
    },
    {
     "name": "stdout",
     "output_type": "stream",
     "text": [
      "2022-01-20 13:20:14, INFO: Applying VTA Route 605 Edits\n",
      "2022-01-20 13:20:14, INFO: Applying VTA Route 605 Edits\n",
      "2022-01-20 13:20:14, INFO: Applying Project to Transit Network: VTA Route 605 Edits\n",
      "2022-01-20 13:20:14, INFO: Creating a new stop in stops.txt for node ID: 2045388\n",
      "2022-01-20 13:20:14, INFO: Creating a new stop in stops.txt for node ID: 2010415\n",
      "2022-01-20 13:20:14, INFO: Creating a new stop in stops.txt for node ID: 2113837\n",
      "2022-01-20 13:20:15, INFO: Creating a new stop in stops.txt for node ID: 2048077\n",
      "2022-01-20 13:20:15, INFO: Creating a new stop in stops.txt for node ID: 2145042\n",
      "2022-01-20 13:20:15, INFO: Creating a new stop in stops.txt for node ID: 2066299\n",
      "2022-01-20 13:20:15, INFO: Creating a new stop in stops.txt for node ID: 2081434\n",
      "2022-01-20 13:20:15, INFO: Creating a new stop in stops.txt for node ID: 2061661\n",
      "2022-01-20 13:20:15, INFO: Creating a new stop in stops.txt for node ID: 2039089\n",
      "2022-01-20 13:20:15, INFO: Creating a new stop in stops.txt for node ID: 2057190\n"
     ]
    },
    {
     "name": "stderr",
     "output_type": "stream",
     "text": [
      "C:\\Users\\lzorn\\.conda\\envs\\tm2_network_dev\\lib\\site-packages\\numpy\\core\\fromnumeric.py:3162: VisibleDeprecationWarning: Creating an ndarray from ragged nested sequences (which is a list-or-tuple of lists-or-tuples-or ndarrays with different lengths or shapes) is deprecated. If you meant to do this, you must specify 'dtype=object' when creating the ndarray.\n",
      "  return asarray(a).ndim\n",
      "C:\\Users\\lzorn\\.conda\\envs\\tm2_network_dev\\lib\\site-packages\\numpy\\core\\fromnumeric.py:3162: VisibleDeprecationWarning: Creating an ndarray from ragged nested sequences (which is a list-or-tuple of lists-or-tuples-or ndarrays with different lengths or shapes) is deprecated. If you meant to do this, you must specify 'dtype=object' when creating the ndarray.\n",
      "  return asarray(a).ndim\n",
      "C:\\Users\\lzorn\\.conda\\envs\\tm2_network_dev\\lib\\site-packages\\numpy\\core\\fromnumeric.py:3162: VisibleDeprecationWarning: Creating an ndarray from ragged nested sequences (which is a list-or-tuple of lists-or-tuples-or ndarrays with different lengths or shapes) is deprecated. If you meant to do this, you must specify 'dtype=object' when creating the ndarray.\n",
      "  return asarray(a).ndim\n",
      "C:\\Users\\lzorn\\.conda\\envs\\tm2_network_dev\\lib\\site-packages\\numpy\\core\\fromnumeric.py:3162: VisibleDeprecationWarning: Creating an ndarray from ragged nested sequences (which is a list-or-tuple of lists-or-tuples-or ndarrays with different lengths or shapes) is deprecated. If you meant to do this, you must specify 'dtype=object' when creating the ndarray.\n",
      "  return asarray(a).ndim\n",
      "C:\\Users\\lzorn\\.conda\\envs\\tm2_network_dev\\lib\\site-packages\\numpy\\core\\fromnumeric.py:3162: VisibleDeprecationWarning: Creating an ndarray from ragged nested sequences (which is a list-or-tuple of lists-or-tuples-or ndarrays with different lengths or shapes) is deprecated. If you meant to do this, you must specify 'dtype=object' when creating the ndarray.\n",
      "  return asarray(a).ndim\n",
      "C:\\Users\\lzorn\\.conda\\envs\\tm2_network_dev\\lib\\site-packages\\numpy\\core\\fromnumeric.py:3162: VisibleDeprecationWarning: Creating an ndarray from ragged nested sequences (which is a list-or-tuple of lists-or-tuples-or ndarrays with different lengths or shapes) is deprecated. If you meant to do this, you must specify 'dtype=object' when creating the ndarray.\n",
      "  return asarray(a).ndim\n",
      "C:\\Users\\lzorn\\.conda\\envs\\tm2_network_dev\\lib\\site-packages\\numpy\\core\\fromnumeric.py:3162: VisibleDeprecationWarning: Creating an ndarray from ragged nested sequences (which is a list-or-tuple of lists-or-tuples-or ndarrays with different lengths or shapes) is deprecated. If you meant to do this, you must specify 'dtype=object' when creating the ndarray.\n",
      "  return asarray(a).ndim\n",
      "C:\\Users\\lzorn\\.conda\\envs\\tm2_network_dev\\lib\\site-packages\\numpy\\core\\fromnumeric.py:3162: VisibleDeprecationWarning: Creating an ndarray from ragged nested sequences (which is a list-or-tuple of lists-or-tuples-or ndarrays with different lengths or shapes) is deprecated. If you meant to do this, you must specify 'dtype=object' when creating the ndarray.\n",
      "  return asarray(a).ndim\n",
      "C:\\Users\\lzorn\\.conda\\envs\\tm2_network_dev\\lib\\site-packages\\numpy\\core\\fromnumeric.py:3162: VisibleDeprecationWarning: Creating an ndarray from ragged nested sequences (which is a list-or-tuple of lists-or-tuples-or ndarrays with different lengths or shapes) is deprecated. If you meant to do this, you must specify 'dtype=object' when creating the ndarray.\n",
      "  return asarray(a).ndim\n",
      "C:\\Users\\lzorn\\.conda\\envs\\tm2_network_dev\\lib\\site-packages\\numpy\\core\\fromnumeric.py:3162: VisibleDeprecationWarning: Creating an ndarray from ragged nested sequences (which is a list-or-tuple of lists-or-tuples-or ndarrays with different lengths or shapes) is deprecated. If you meant to do this, you must specify 'dtype=object' when creating the ndarray.\n",
      "  return asarray(a).ndim\n"
     ]
    },
    {
     "name": "stdout",
     "output_type": "stream",
     "text": [
      "2022-01-20 13:20:15, INFO: Creating a new stop in stops.txt for node ID: 2093471\n",
      "2022-01-20 13:20:15, INFO: Creating a new stop in stops.txt for node ID: 2156249\n",
      "2022-01-20 13:20:15, INFO: Creating a new stop in stops.txt for node ID: 2031444\n",
      "2022-01-20 13:20:15, INFO: Creating a new stop in stops.txt for node ID: 2134210\n"
     ]
    },
    {
     "name": "stderr",
     "output_type": "stream",
     "text": [
      "C:\\Users\\lzorn\\.conda\\envs\\tm2_network_dev\\lib\\site-packages\\numpy\\core\\fromnumeric.py:3162: VisibleDeprecationWarning: Creating an ndarray from ragged nested sequences (which is a list-or-tuple of lists-or-tuples-or ndarrays with different lengths or shapes) is deprecated. If you meant to do this, you must specify 'dtype=object' when creating the ndarray.\n",
      "  return asarray(a).ndim\n",
      "C:\\Users\\lzorn\\.conda\\envs\\tm2_network_dev\\lib\\site-packages\\numpy\\core\\fromnumeric.py:3162: VisibleDeprecationWarning: Creating an ndarray from ragged nested sequences (which is a list-or-tuple of lists-or-tuples-or ndarrays with different lengths or shapes) is deprecated. If you meant to do this, you must specify 'dtype=object' when creating the ndarray.\n",
      "  return asarray(a).ndim\n",
      "C:\\Users\\lzorn\\.conda\\envs\\tm2_network_dev\\lib\\site-packages\\numpy\\core\\fromnumeric.py:3162: VisibleDeprecationWarning: Creating an ndarray from ragged nested sequences (which is a list-or-tuple of lists-or-tuples-or ndarrays with different lengths or shapes) is deprecated. If you meant to do this, you must specify 'dtype=object' when creating the ndarray.\n",
      "  return asarray(a).ndim\n",
      "C:\\Users\\lzorn\\.conda\\envs\\tm2_network_dev\\lib\\site-packages\\numpy\\core\\fromnumeric.py:3162: VisibleDeprecationWarning: Creating an ndarray from ragged nested sequences (which is a list-or-tuple of lists-or-tuples-or ndarrays with different lengths or shapes) is deprecated. If you meant to do this, you must specify 'dtype=object' when creating the ndarray.\n",
      "  return asarray(a).ndim\n"
     ]
    },
    {
     "name": "stdout",
     "output_type": "stream",
     "text": [
      "2022-01-20 13:20:15, INFO: Applying VTA Route 605 Edits\n",
      "2022-01-20 13:20:15, INFO: Applying Project to Transit Network: VTA Route 605 Edits\n",
      "2022-01-20 13:20:16, INFO: Creating a new stop in stops.txt for node ID: 2008138\n",
      "2022-01-20 13:20:16, INFO: Creating a new stop in stops.txt for node ID: 2026597\n",
      "2022-01-20 13:20:16, INFO: Creating a new stop in stops.txt for node ID: 2059777\n",
      "2022-01-20 13:20:16, INFO: Creating a new stop in stops.txt for node ID: 2099627\n",
      "2022-01-20 13:20:16, INFO: Creating a new stop in stops.txt for node ID: 2084925\n"
     ]
    },
    {
     "name": "stderr",
     "output_type": "stream",
     "text": [
      "C:\\Users\\lzorn\\.conda\\envs\\tm2_network_dev\\lib\\site-packages\\numpy\\core\\fromnumeric.py:3162: VisibleDeprecationWarning: Creating an ndarray from ragged nested sequences (which is a list-or-tuple of lists-or-tuples-or ndarrays with different lengths or shapes) is deprecated. If you meant to do this, you must specify 'dtype=object' when creating the ndarray.\n",
      "  return asarray(a).ndim\n",
      "C:\\Users\\lzorn\\.conda\\envs\\tm2_network_dev\\lib\\site-packages\\numpy\\core\\fromnumeric.py:3162: VisibleDeprecationWarning: Creating an ndarray from ragged nested sequences (which is a list-or-tuple of lists-or-tuples-or ndarrays with different lengths or shapes) is deprecated. If you meant to do this, you must specify 'dtype=object' when creating the ndarray.\n",
      "  return asarray(a).ndim\n",
      "C:\\Users\\lzorn\\.conda\\envs\\tm2_network_dev\\lib\\site-packages\\numpy\\core\\fromnumeric.py:3162: VisibleDeprecationWarning: Creating an ndarray from ragged nested sequences (which is a list-or-tuple of lists-or-tuples-or ndarrays with different lengths or shapes) is deprecated. If you meant to do this, you must specify 'dtype=object' when creating the ndarray.\n",
      "  return asarray(a).ndim\n",
      "C:\\Users\\lzorn\\.conda\\envs\\tm2_network_dev\\lib\\site-packages\\numpy\\core\\fromnumeric.py:3162: VisibleDeprecationWarning: Creating an ndarray from ragged nested sequences (which is a list-or-tuple of lists-or-tuples-or ndarrays with different lengths or shapes) is deprecated. If you meant to do this, you must specify 'dtype=object' when creating the ndarray.\n",
      "  return asarray(a).ndim\n",
      "C:\\Users\\lzorn\\.conda\\envs\\tm2_network_dev\\lib\\site-packages\\numpy\\core\\fromnumeric.py:3162: VisibleDeprecationWarning: Creating an ndarray from ragged nested sequences (which is a list-or-tuple of lists-or-tuples-or ndarrays with different lengths or shapes) is deprecated. If you meant to do this, you must specify 'dtype=object' when creating the ndarray.\n",
      "  return asarray(a).ndim\n"
     ]
    },
    {
     "name": "stdout",
     "output_type": "stream",
     "text": [
      "2022-01-20 13:20:17, INFO: Applying VTA Route 605 Edits\n",
      "2022-01-20 13:20:17, INFO: Applying Project to Transit Network: VTA Route 605 Edits\n",
      "2022-01-20 13:20:18, INFO: Applying VTA Route 605 Edits\n",
      "2022-01-20 13:20:18, INFO: Applying Project to Transit Network: VTA Route 605 Edits\n",
      "2022-01-20 13:20:19, INFO: Creating a new stop in stops.txt for node ID: 2026971\n",
      "2022-01-20 13:20:19, INFO: Creating a new stop in stops.txt for node ID: 2123943\n",
      "2022-01-20 13:20:19, INFO: Creating a new stop in stops.txt for node ID: 2071437\n",
      "2022-01-20 13:20:19, INFO: Creating a new stop in stops.txt for node ID: 2143576\n",
      "2022-01-20 13:20:19, INFO: Creating a new stop in stops.txt for node ID: 2084582\n",
      "2022-01-20 13:20:19, INFO: Creating a new stop in stops.txt for node ID: 2132332\n",
      "2022-01-20 13:20:19, INFO: Creating a new stop in stops.txt for node ID: 2051842\n",
      "2022-01-20 13:20:19, INFO: Creating a new stop in stops.txt for node ID: 2092594\n",
      "2022-01-20 13:20:19, INFO: Creating a new stop in stops.txt for node ID: 2000549\n",
      "2022-01-20 13:20:19, INFO: Creating a new stop in stops.txt for node ID: 2024824\n",
      "2022-01-20 13:20:19, INFO: Creating a new stop in stops.txt for node ID: 2002748\n"
     ]
    },
    {
     "name": "stderr",
     "output_type": "stream",
     "text": [
      "C:\\Users\\lzorn\\.conda\\envs\\tm2_network_dev\\lib\\site-packages\\numpy\\core\\fromnumeric.py:3162: VisibleDeprecationWarning: Creating an ndarray from ragged nested sequences (which is a list-or-tuple of lists-or-tuples-or ndarrays with different lengths or shapes) is deprecated. If you meant to do this, you must specify 'dtype=object' when creating the ndarray.\n",
      "  return asarray(a).ndim\n",
      "C:\\Users\\lzorn\\.conda\\envs\\tm2_network_dev\\lib\\site-packages\\numpy\\core\\fromnumeric.py:3162: VisibleDeprecationWarning: Creating an ndarray from ragged nested sequences (which is a list-or-tuple of lists-or-tuples-or ndarrays with different lengths or shapes) is deprecated. If you meant to do this, you must specify 'dtype=object' when creating the ndarray.\n",
      "  return asarray(a).ndim\n",
      "C:\\Users\\lzorn\\.conda\\envs\\tm2_network_dev\\lib\\site-packages\\numpy\\core\\fromnumeric.py:3162: VisibleDeprecationWarning: Creating an ndarray from ragged nested sequences (which is a list-or-tuple of lists-or-tuples-or ndarrays with different lengths or shapes) is deprecated. If you meant to do this, you must specify 'dtype=object' when creating the ndarray.\n",
      "  return asarray(a).ndim\n",
      "C:\\Users\\lzorn\\.conda\\envs\\tm2_network_dev\\lib\\site-packages\\numpy\\core\\fromnumeric.py:3162: VisibleDeprecationWarning: Creating an ndarray from ragged nested sequences (which is a list-or-tuple of lists-or-tuples-or ndarrays with different lengths or shapes) is deprecated. If you meant to do this, you must specify 'dtype=object' when creating the ndarray.\n",
      "  return asarray(a).ndim\n",
      "C:\\Users\\lzorn\\.conda\\envs\\tm2_network_dev\\lib\\site-packages\\numpy\\core\\fromnumeric.py:3162: VisibleDeprecationWarning: Creating an ndarray from ragged nested sequences (which is a list-or-tuple of lists-or-tuples-or ndarrays with different lengths or shapes) is deprecated. If you meant to do this, you must specify 'dtype=object' when creating the ndarray.\n",
      "  return asarray(a).ndim\n",
      "C:\\Users\\lzorn\\.conda\\envs\\tm2_network_dev\\lib\\site-packages\\numpy\\core\\fromnumeric.py:3162: VisibleDeprecationWarning: Creating an ndarray from ragged nested sequences (which is a list-or-tuple of lists-or-tuples-or ndarrays with different lengths or shapes) is deprecated. If you meant to do this, you must specify 'dtype=object' when creating the ndarray.\n",
      "  return asarray(a).ndim\n",
      "C:\\Users\\lzorn\\.conda\\envs\\tm2_network_dev\\lib\\site-packages\\numpy\\core\\fromnumeric.py:3162: VisibleDeprecationWarning: Creating an ndarray from ragged nested sequences (which is a list-or-tuple of lists-or-tuples-or ndarrays with different lengths or shapes) is deprecated. If you meant to do this, you must specify 'dtype=object' when creating the ndarray.\n",
      "  return asarray(a).ndim\n",
      "C:\\Users\\lzorn\\.conda\\envs\\tm2_network_dev\\lib\\site-packages\\numpy\\core\\fromnumeric.py:3162: VisibleDeprecationWarning: Creating an ndarray from ragged nested sequences (which is a list-or-tuple of lists-or-tuples-or ndarrays with different lengths or shapes) is deprecated. If you meant to do this, you must specify 'dtype=object' when creating the ndarray.\n",
      "  return asarray(a).ndim\n",
      "C:\\Users\\lzorn\\.conda\\envs\\tm2_network_dev\\lib\\site-packages\\numpy\\core\\fromnumeric.py:3162: VisibleDeprecationWarning: Creating an ndarray from ragged nested sequences (which is a list-or-tuple of lists-or-tuples-or ndarrays with different lengths or shapes) is deprecated. If you meant to do this, you must specify 'dtype=object' when creating the ndarray.\n",
      "  return asarray(a).ndim\n",
      "C:\\Users\\lzorn\\.conda\\envs\\tm2_network_dev\\lib\\site-packages\\numpy\\core\\fromnumeric.py:3162: VisibleDeprecationWarning: Creating an ndarray from ragged nested sequences (which is a list-or-tuple of lists-or-tuples-or ndarrays with different lengths or shapes) is deprecated. If you meant to do this, you must specify 'dtype=object' when creating the ndarray.\n",
      "  return asarray(a).ndim\n",
      "C:\\Users\\lzorn\\.conda\\envs\\tm2_network_dev\\lib\\site-packages\\numpy\\core\\fromnumeric.py:3162: VisibleDeprecationWarning: Creating an ndarray from ragged nested sequences (which is a list-or-tuple of lists-or-tuples-or ndarrays with different lengths or shapes) is deprecated. If you meant to do this, you must specify 'dtype=object' when creating the ndarray.\n",
      "  return asarray(a).ndim\n"
     ]
    },
    {
     "name": "stdout",
     "output_type": "stream",
     "text": [
      "2022-01-20 13:20:19, INFO: Creating a new stop in stops.txt for node ID: 2120867\n"
     ]
    },
    {
     "name": "stderr",
     "output_type": "stream",
     "text": [
      "C:\\Users\\lzorn\\.conda\\envs\\tm2_network_dev\\lib\\site-packages\\numpy\\core\\fromnumeric.py:3162: VisibleDeprecationWarning: Creating an ndarray from ragged nested sequences (which is a list-or-tuple of lists-or-tuples-or ndarrays with different lengths or shapes) is deprecated. If you meant to do this, you must specify 'dtype=object' when creating the ndarray.\n",
      "  return asarray(a).ndim\n"
     ]
    },
    {
     "name": "stdout",
     "output_type": "stream",
     "text": [
      "2022-01-20 13:20:21, INFO: Applying VTA Route 593 Edits\n",
      "2022-01-20 13:20:21, INFO: Applying VTA Route 593 Edits\n",
      "2022-01-20 13:20:21, INFO: Applying Project to Transit Network: VTA Route 593 Edits\n",
      "2022-01-20 13:20:22, INFO: Creating a new stop in stops.txt for node ID: 2025322\n",
      "2022-01-20 13:20:22, INFO: Creating a new stop in stops.txt for node ID: 2006618\n",
      "2022-01-20 13:20:22, INFO: Creating a new stop in stops.txt for node ID: 2135878\n",
      "2022-01-20 13:20:22, INFO: Creating a new stop in stops.txt for node ID: 2104077\n",
      "2022-01-20 13:20:22, INFO: Creating a new stop in stops.txt for node ID: 2098720\n",
      "2022-01-20 13:20:22, INFO: Creating a new stop in stops.txt for node ID: 2165079\n",
      "2022-01-20 13:20:22, INFO: Creating a new stop in stops.txt for node ID: 2137789\n",
      "2022-01-20 13:20:22, INFO: Creating a new stop in stops.txt for node ID: 2152784\n"
     ]
    },
    {
     "name": "stderr",
     "output_type": "stream",
     "text": [
      "C:\\Users\\lzorn\\.conda\\envs\\tm2_network_dev\\lib\\site-packages\\numpy\\core\\fromnumeric.py:3162: VisibleDeprecationWarning: Creating an ndarray from ragged nested sequences (which is a list-or-tuple of lists-or-tuples-or ndarrays with different lengths or shapes) is deprecated. If you meant to do this, you must specify 'dtype=object' when creating the ndarray.\n",
      "  return asarray(a).ndim\n",
      "C:\\Users\\lzorn\\.conda\\envs\\tm2_network_dev\\lib\\site-packages\\numpy\\core\\fromnumeric.py:3162: VisibleDeprecationWarning: Creating an ndarray from ragged nested sequences (which is a list-or-tuple of lists-or-tuples-or ndarrays with different lengths or shapes) is deprecated. If you meant to do this, you must specify 'dtype=object' when creating the ndarray.\n",
      "  return asarray(a).ndim\n",
      "C:\\Users\\lzorn\\.conda\\envs\\tm2_network_dev\\lib\\site-packages\\numpy\\core\\fromnumeric.py:3162: VisibleDeprecationWarning: Creating an ndarray from ragged nested sequences (which is a list-or-tuple of lists-or-tuples-or ndarrays with different lengths or shapes) is deprecated. If you meant to do this, you must specify 'dtype=object' when creating the ndarray.\n",
      "  return asarray(a).ndim\n",
      "C:\\Users\\lzorn\\.conda\\envs\\tm2_network_dev\\lib\\site-packages\\numpy\\core\\fromnumeric.py:3162: VisibleDeprecationWarning: Creating an ndarray from ragged nested sequences (which is a list-or-tuple of lists-or-tuples-or ndarrays with different lengths or shapes) is deprecated. If you meant to do this, you must specify 'dtype=object' when creating the ndarray.\n",
      "  return asarray(a).ndim\n",
      "C:\\Users\\lzorn\\.conda\\envs\\tm2_network_dev\\lib\\site-packages\\numpy\\core\\fromnumeric.py:3162: VisibleDeprecationWarning: Creating an ndarray from ragged nested sequences (which is a list-or-tuple of lists-or-tuples-or ndarrays with different lengths or shapes) is deprecated. If you meant to do this, you must specify 'dtype=object' when creating the ndarray.\n",
      "  return asarray(a).ndim\n",
      "C:\\Users\\lzorn\\.conda\\envs\\tm2_network_dev\\lib\\site-packages\\numpy\\core\\fromnumeric.py:3162: VisibleDeprecationWarning: Creating an ndarray from ragged nested sequences (which is a list-or-tuple of lists-or-tuples-or ndarrays with different lengths or shapes) is deprecated. If you meant to do this, you must specify 'dtype=object' when creating the ndarray.\n",
      "  return asarray(a).ndim\n",
      "C:\\Users\\lzorn\\.conda\\envs\\tm2_network_dev\\lib\\site-packages\\numpy\\core\\fromnumeric.py:3162: VisibleDeprecationWarning: Creating an ndarray from ragged nested sequences (which is a list-or-tuple of lists-or-tuples-or ndarrays with different lengths or shapes) is deprecated. If you meant to do this, you must specify 'dtype=object' when creating the ndarray.\n",
      "  return asarray(a).ndim\n",
      "C:\\Users\\lzorn\\.conda\\envs\\tm2_network_dev\\lib\\site-packages\\numpy\\core\\fromnumeric.py:3162: VisibleDeprecationWarning: Creating an ndarray from ragged nested sequences (which is a list-or-tuple of lists-or-tuples-or ndarrays with different lengths or shapes) is deprecated. If you meant to do this, you must specify 'dtype=object' when creating the ndarray.\n",
      "  return asarray(a).ndim\n"
     ]
    },
    {
     "name": "stdout",
     "output_type": "stream",
     "text": [
      "2022-01-20 13:20:24, INFO: Applying VTA Route 593 Edits\n",
      "2022-01-20 13:20:24, INFO: Applying Project to Transit Network: VTA Route 593 Edits\n",
      "2022-01-20 13:20:25, INFO: Creating a new stop in stops.txt for node ID: 2152638\n",
      "2022-01-20 13:20:25, INFO: Creating a new stop in stops.txt for node ID: 2103105\n"
     ]
    },
    {
     "name": "stderr",
     "output_type": "stream",
     "text": [
      "C:\\Users\\lzorn\\.conda\\envs\\tm2_network_dev\\lib\\site-packages\\numpy\\core\\fromnumeric.py:3162: VisibleDeprecationWarning: Creating an ndarray from ragged nested sequences (which is a list-or-tuple of lists-or-tuples-or ndarrays with different lengths or shapes) is deprecated. If you meant to do this, you must specify 'dtype=object' when creating the ndarray.\n",
      "  return asarray(a).ndim\n",
      "C:\\Users\\lzorn\\.conda\\envs\\tm2_network_dev\\lib\\site-packages\\numpy\\core\\fromnumeric.py:3162: VisibleDeprecationWarning: Creating an ndarray from ragged nested sequences (which is a list-or-tuple of lists-or-tuples-or ndarrays with different lengths or shapes) is deprecated. If you meant to do this, you must specify 'dtype=object' when creating the ndarray.\n",
      "  return asarray(a).ndim\n"
     ]
    },
    {
     "name": "stdout",
     "output_type": "stream",
     "text": [
      "2022-01-20 13:20:26, INFO: Applying VTA Route 570 Edits\n",
      "2022-01-20 13:20:26, INFO: Applying VTA Route 570 Edits\n",
      "2022-01-20 13:20:26, INFO: Applying Project to Transit Network: VTA Route 570 Edits\n",
      "2022-01-20 13:20:27, INFO: Creating a new stop in stops.txt for node ID: 2014852\n",
      "2022-01-20 13:20:27, INFO: Creating a new stop in stops.txt for node ID: 2151260\n",
      "2022-01-20 13:20:27, INFO: Creating a new stop in stops.txt for node ID: 2071749\n",
      "2022-01-20 13:20:27, INFO: Creating a new stop in stops.txt for node ID: 2143119\n",
      "2022-01-20 13:20:27, INFO: Creating a new stop in stops.txt for node ID: 2155604\n",
      "2022-01-20 13:20:27, INFO: Creating a new stop in stops.txt for node ID: 2020057\n",
      "2022-01-20 13:20:27, INFO: Creating a new stop in stops.txt for node ID: 2118018\n",
      "2022-01-20 13:20:27, INFO: Creating a new stop in stops.txt for node ID: 2027384\n",
      "2022-01-20 13:20:27, INFO: Creating a new stop in stops.txt for node ID: 2091791\n",
      "2022-01-20 13:20:27, INFO: Creating a new stop in stops.txt for node ID: 2119071\n",
      "2022-01-20 13:20:27, INFO: Creating a new stop in stops.txt for node ID: 2020728\n",
      "2022-01-20 13:20:27, INFO: Creating a new stop in stops.txt for node ID: 2117936\n"
     ]
    },
    {
     "name": "stderr",
     "output_type": "stream",
     "text": [
      "C:\\Users\\lzorn\\.conda\\envs\\tm2_network_dev\\lib\\site-packages\\numpy\\core\\fromnumeric.py:3162: VisibleDeprecationWarning: Creating an ndarray from ragged nested sequences (which is a list-or-tuple of lists-or-tuples-or ndarrays with different lengths or shapes) is deprecated. If you meant to do this, you must specify 'dtype=object' when creating the ndarray.\n",
      "  return asarray(a).ndim\n",
      "C:\\Users\\lzorn\\.conda\\envs\\tm2_network_dev\\lib\\site-packages\\numpy\\core\\fromnumeric.py:3162: VisibleDeprecationWarning: Creating an ndarray from ragged nested sequences (which is a list-or-tuple of lists-or-tuples-or ndarrays with different lengths or shapes) is deprecated. If you meant to do this, you must specify 'dtype=object' when creating the ndarray.\n",
      "  return asarray(a).ndim\n",
      "C:\\Users\\lzorn\\.conda\\envs\\tm2_network_dev\\lib\\site-packages\\numpy\\core\\fromnumeric.py:3162: VisibleDeprecationWarning: Creating an ndarray from ragged nested sequences (which is a list-or-tuple of lists-or-tuples-or ndarrays with different lengths or shapes) is deprecated. If you meant to do this, you must specify 'dtype=object' when creating the ndarray.\n",
      "  return asarray(a).ndim\n",
      "C:\\Users\\lzorn\\.conda\\envs\\tm2_network_dev\\lib\\site-packages\\numpy\\core\\fromnumeric.py:3162: VisibleDeprecationWarning: Creating an ndarray from ragged nested sequences (which is a list-or-tuple of lists-or-tuples-or ndarrays with different lengths or shapes) is deprecated. If you meant to do this, you must specify 'dtype=object' when creating the ndarray.\n",
      "  return asarray(a).ndim\n",
      "C:\\Users\\lzorn\\.conda\\envs\\tm2_network_dev\\lib\\site-packages\\numpy\\core\\fromnumeric.py:3162: VisibleDeprecationWarning: Creating an ndarray from ragged nested sequences (which is a list-or-tuple of lists-or-tuples-or ndarrays with different lengths or shapes) is deprecated. If you meant to do this, you must specify 'dtype=object' when creating the ndarray.\n",
      "  return asarray(a).ndim\n",
      "C:\\Users\\lzorn\\.conda\\envs\\tm2_network_dev\\lib\\site-packages\\numpy\\core\\fromnumeric.py:3162: VisibleDeprecationWarning: Creating an ndarray from ragged nested sequences (which is a list-or-tuple of lists-or-tuples-or ndarrays with different lengths or shapes) is deprecated. If you meant to do this, you must specify 'dtype=object' when creating the ndarray.\n",
      "  return asarray(a).ndim\n",
      "C:\\Users\\lzorn\\.conda\\envs\\tm2_network_dev\\lib\\site-packages\\numpy\\core\\fromnumeric.py:3162: VisibleDeprecationWarning: Creating an ndarray from ragged nested sequences (which is a list-or-tuple of lists-or-tuples-or ndarrays with different lengths or shapes) is deprecated. If you meant to do this, you must specify 'dtype=object' when creating the ndarray.\n",
      "  return asarray(a).ndim\n",
      "C:\\Users\\lzorn\\.conda\\envs\\tm2_network_dev\\lib\\site-packages\\numpy\\core\\fromnumeric.py:3162: VisibleDeprecationWarning: Creating an ndarray from ragged nested sequences (which is a list-or-tuple of lists-or-tuples-or ndarrays with different lengths or shapes) is deprecated. If you meant to do this, you must specify 'dtype=object' when creating the ndarray.\n",
      "  return asarray(a).ndim\n",
      "C:\\Users\\lzorn\\.conda\\envs\\tm2_network_dev\\lib\\site-packages\\numpy\\core\\fromnumeric.py:3162: VisibleDeprecationWarning: Creating an ndarray from ragged nested sequences (which is a list-or-tuple of lists-or-tuples-or ndarrays with different lengths or shapes) is deprecated. If you meant to do this, you must specify 'dtype=object' when creating the ndarray.\n",
      "  return asarray(a).ndim\n",
      "C:\\Users\\lzorn\\.conda\\envs\\tm2_network_dev\\lib\\site-packages\\numpy\\core\\fromnumeric.py:3162: VisibleDeprecationWarning: Creating an ndarray from ragged nested sequences (which is a list-or-tuple of lists-or-tuples-or ndarrays with different lengths or shapes) is deprecated. If you meant to do this, you must specify 'dtype=object' when creating the ndarray.\n",
      "  return asarray(a).ndim\n",
      "C:\\Users\\lzorn\\.conda\\envs\\tm2_network_dev\\lib\\site-packages\\numpy\\core\\fromnumeric.py:3162: VisibleDeprecationWarning: Creating an ndarray from ragged nested sequences (which is a list-or-tuple of lists-or-tuples-or ndarrays with different lengths or shapes) is deprecated. If you meant to do this, you must specify 'dtype=object' when creating the ndarray.\n",
      "  return asarray(a).ndim\n",
      "C:\\Users\\lzorn\\.conda\\envs\\tm2_network_dev\\lib\\site-packages\\numpy\\core\\fromnumeric.py:3162: VisibleDeprecationWarning: Creating an ndarray from ragged nested sequences (which is a list-or-tuple of lists-or-tuples-or ndarrays with different lengths or shapes) is deprecated. If you meant to do this, you must specify 'dtype=object' when creating the ndarray.\n",
      "  return asarray(a).ndim\n"
     ]
    },
    {
     "name": "stdout",
     "output_type": "stream",
     "text": [
      "2022-01-20 13:20:27, INFO: Creating a new stop in stops.txt for node ID: 2038551\n",
      "2022-01-20 13:20:27, INFO: Creating a new stop in stops.txt for node ID: 2027168\n",
      "2022-01-20 13:20:27, INFO: Creating a new stop in stops.txt for node ID: 2044898\n",
      "2022-01-20 13:20:27, INFO: Creating a new stop in stops.txt for node ID: 2150821\n",
      "2022-01-20 13:20:28, INFO: Creating a new stop in stops.txt for node ID: 2145345\n",
      "2022-01-20 13:20:28, INFO: Creating a new stop in stops.txt for node ID: 2162103\n",
      "2022-01-20 13:20:28, INFO: Creating a new stop in stops.txt for node ID: 2062237\n",
      "2022-01-20 13:20:28, INFO: Creating a new stop in stops.txt for node ID: 2120771\n",
      "2022-01-20 13:20:28, INFO: Creating a new stop in stops.txt for node ID: 2053292\n",
      "2022-01-20 13:20:28, INFO: Creating a new stop in stops.txt for node ID: 2066653\n"
     ]
    },
    {
     "name": "stderr",
     "output_type": "stream",
     "text": [
      "C:\\Users\\lzorn\\.conda\\envs\\tm2_network_dev\\lib\\site-packages\\numpy\\core\\fromnumeric.py:3162: VisibleDeprecationWarning: Creating an ndarray from ragged nested sequences (which is a list-or-tuple of lists-or-tuples-or ndarrays with different lengths or shapes) is deprecated. If you meant to do this, you must specify 'dtype=object' when creating the ndarray.\n",
      "  return asarray(a).ndim\n",
      "C:\\Users\\lzorn\\.conda\\envs\\tm2_network_dev\\lib\\site-packages\\numpy\\core\\fromnumeric.py:3162: VisibleDeprecationWarning: Creating an ndarray from ragged nested sequences (which is a list-or-tuple of lists-or-tuples-or ndarrays with different lengths or shapes) is deprecated. If you meant to do this, you must specify 'dtype=object' when creating the ndarray.\n",
      "  return asarray(a).ndim\n",
      "C:\\Users\\lzorn\\.conda\\envs\\tm2_network_dev\\lib\\site-packages\\numpy\\core\\fromnumeric.py:3162: VisibleDeprecationWarning: Creating an ndarray from ragged nested sequences (which is a list-or-tuple of lists-or-tuples-or ndarrays with different lengths or shapes) is deprecated. If you meant to do this, you must specify 'dtype=object' when creating the ndarray.\n",
      "  return asarray(a).ndim\n",
      "C:\\Users\\lzorn\\.conda\\envs\\tm2_network_dev\\lib\\site-packages\\numpy\\core\\fromnumeric.py:3162: VisibleDeprecationWarning: Creating an ndarray from ragged nested sequences (which is a list-or-tuple of lists-or-tuples-or ndarrays with different lengths or shapes) is deprecated. If you meant to do this, you must specify 'dtype=object' when creating the ndarray.\n",
      "  return asarray(a).ndim\n",
      "C:\\Users\\lzorn\\.conda\\envs\\tm2_network_dev\\lib\\site-packages\\numpy\\core\\fromnumeric.py:3162: VisibleDeprecationWarning: Creating an ndarray from ragged nested sequences (which is a list-or-tuple of lists-or-tuples-or ndarrays with different lengths or shapes) is deprecated. If you meant to do this, you must specify 'dtype=object' when creating the ndarray.\n",
      "  return asarray(a).ndim\n",
      "C:\\Users\\lzorn\\.conda\\envs\\tm2_network_dev\\lib\\site-packages\\numpy\\core\\fromnumeric.py:3162: VisibleDeprecationWarning: Creating an ndarray from ragged nested sequences (which is a list-or-tuple of lists-or-tuples-or ndarrays with different lengths or shapes) is deprecated. If you meant to do this, you must specify 'dtype=object' when creating the ndarray.\n",
      "  return asarray(a).ndim\n",
      "C:\\Users\\lzorn\\.conda\\envs\\tm2_network_dev\\lib\\site-packages\\numpy\\core\\fromnumeric.py:3162: VisibleDeprecationWarning: Creating an ndarray from ragged nested sequences (which is a list-or-tuple of lists-or-tuples-or ndarrays with different lengths or shapes) is deprecated. If you meant to do this, you must specify 'dtype=object' when creating the ndarray.\n",
      "  return asarray(a).ndim\n",
      "C:\\Users\\lzorn\\.conda\\envs\\tm2_network_dev\\lib\\site-packages\\numpy\\core\\fromnumeric.py:3162: VisibleDeprecationWarning: Creating an ndarray from ragged nested sequences (which is a list-or-tuple of lists-or-tuples-or ndarrays with different lengths or shapes) is deprecated. If you meant to do this, you must specify 'dtype=object' when creating the ndarray.\n",
      "  return asarray(a).ndim\n",
      "C:\\Users\\lzorn\\.conda\\envs\\tm2_network_dev\\lib\\site-packages\\numpy\\core\\fromnumeric.py:3162: VisibleDeprecationWarning: Creating an ndarray from ragged nested sequences (which is a list-or-tuple of lists-or-tuples-or ndarrays with different lengths or shapes) is deprecated. If you meant to do this, you must specify 'dtype=object' when creating the ndarray.\n",
      "  return asarray(a).ndim\n",
      "C:\\Users\\lzorn\\.conda\\envs\\tm2_network_dev\\lib\\site-packages\\numpy\\core\\fromnumeric.py:3162: VisibleDeprecationWarning: Creating an ndarray from ragged nested sequences (which is a list-or-tuple of lists-or-tuples-or ndarrays with different lengths or shapes) is deprecated. If you meant to do this, you must specify 'dtype=object' when creating the ndarray.\n",
      "  return asarray(a).ndim\n"
     ]
    },
    {
     "name": "stdout",
     "output_type": "stream",
     "text": [
      "2022-01-20 13:20:28, INFO: Applying VTA Route 570 Edits\n",
      "2022-01-20 13:20:28, INFO: Applying Project to Transit Network: VTA Route 570 Edits\n",
      "2022-01-20 13:20:29, INFO: Creating a new stop in stops.txt for node ID: 2049364\n",
      "2022-01-20 13:20:29, INFO: Creating a new stop in stops.txt for node ID: 2081810\n"
     ]
    },
    {
     "name": "stderr",
     "output_type": "stream",
     "text": [
      "C:\\Users\\lzorn\\.conda\\envs\\tm2_network_dev\\lib\\site-packages\\numpy\\core\\fromnumeric.py:3162: VisibleDeprecationWarning: Creating an ndarray from ragged nested sequences (which is a list-or-tuple of lists-or-tuples-or ndarrays with different lengths or shapes) is deprecated. If you meant to do this, you must specify 'dtype=object' when creating the ndarray.\n",
      "  return asarray(a).ndim\n",
      "C:\\Users\\lzorn\\.conda\\envs\\tm2_network_dev\\lib\\site-packages\\numpy\\core\\fromnumeric.py:3162: VisibleDeprecationWarning: Creating an ndarray from ragged nested sequences (which is a list-or-tuple of lists-or-tuples-or ndarrays with different lengths or shapes) is deprecated. If you meant to do this, you must specify 'dtype=object' when creating the ndarray.\n",
      "  return asarray(a).ndim\n"
     ]
    },
    {
     "name": "stdout",
     "output_type": "stream",
     "text": [
      "2022-01-20 13:20:30, INFO: Applying VTA Route 570 Edits\n",
      "2022-01-20 13:20:30, INFO: Applying Project to Transit Network: VTA Route 570 Edits\n",
      "2022-01-20 13:20:31, INFO: Creating a new stop in stops.txt for node ID: 2138263\n",
      "2022-01-20 13:20:31, INFO: Creating a new stop in stops.txt for node ID: 2041376\n",
      "2022-01-20 13:20:31, INFO: Creating a new stop in stops.txt for node ID: 2071586\n",
      "2022-01-20 13:20:31, INFO: Creating a new stop in stops.txt for node ID: 2127941\n",
      "2022-01-20 13:20:31, INFO: Creating a new stop in stops.txt for node ID: 2106994\n",
      "2022-01-20 13:20:31, INFO: Creating a new stop in stops.txt for node ID: 2073927\n",
      "2022-01-20 13:20:31, INFO: Creating a new stop in stops.txt for node ID: 2145905\n",
      "2022-01-20 13:20:31, INFO: Creating a new stop in stops.txt for node ID: 2050683\n",
      "2022-01-20 13:20:31, INFO: Creating a new stop in stops.txt for node ID: 2016696\n",
      "2022-01-20 13:20:31, INFO: Creating a new stop in stops.txt for node ID: 2078400\n"
     ]
    },
    {
     "name": "stderr",
     "output_type": "stream",
     "text": [
      "C:\\Users\\lzorn\\.conda\\envs\\tm2_network_dev\\lib\\site-packages\\numpy\\core\\fromnumeric.py:3162: VisibleDeprecationWarning: Creating an ndarray from ragged nested sequences (which is a list-or-tuple of lists-or-tuples-or ndarrays with different lengths or shapes) is deprecated. If you meant to do this, you must specify 'dtype=object' when creating the ndarray.\n",
      "  return asarray(a).ndim\n",
      "C:\\Users\\lzorn\\.conda\\envs\\tm2_network_dev\\lib\\site-packages\\numpy\\core\\fromnumeric.py:3162: VisibleDeprecationWarning: Creating an ndarray from ragged nested sequences (which is a list-or-tuple of lists-or-tuples-or ndarrays with different lengths or shapes) is deprecated. If you meant to do this, you must specify 'dtype=object' when creating the ndarray.\n",
      "  return asarray(a).ndim\n",
      "C:\\Users\\lzorn\\.conda\\envs\\tm2_network_dev\\lib\\site-packages\\numpy\\core\\fromnumeric.py:3162: VisibleDeprecationWarning: Creating an ndarray from ragged nested sequences (which is a list-or-tuple of lists-or-tuples-or ndarrays with different lengths or shapes) is deprecated. If you meant to do this, you must specify 'dtype=object' when creating the ndarray.\n",
      "  return asarray(a).ndim\n",
      "C:\\Users\\lzorn\\.conda\\envs\\tm2_network_dev\\lib\\site-packages\\numpy\\core\\fromnumeric.py:3162: VisibleDeprecationWarning: Creating an ndarray from ragged nested sequences (which is a list-or-tuple of lists-or-tuples-or ndarrays with different lengths or shapes) is deprecated. If you meant to do this, you must specify 'dtype=object' when creating the ndarray.\n",
      "  return asarray(a).ndim\n",
      "C:\\Users\\lzorn\\.conda\\envs\\tm2_network_dev\\lib\\site-packages\\numpy\\core\\fromnumeric.py:3162: VisibleDeprecationWarning: Creating an ndarray from ragged nested sequences (which is a list-or-tuple of lists-or-tuples-or ndarrays with different lengths or shapes) is deprecated. If you meant to do this, you must specify 'dtype=object' when creating the ndarray.\n",
      "  return asarray(a).ndim\n",
      "C:\\Users\\lzorn\\.conda\\envs\\tm2_network_dev\\lib\\site-packages\\numpy\\core\\fromnumeric.py:3162: VisibleDeprecationWarning: Creating an ndarray from ragged nested sequences (which is a list-or-tuple of lists-or-tuples-or ndarrays with different lengths or shapes) is deprecated. If you meant to do this, you must specify 'dtype=object' when creating the ndarray.\n",
      "  return asarray(a).ndim\n",
      "C:\\Users\\lzorn\\.conda\\envs\\tm2_network_dev\\lib\\site-packages\\numpy\\core\\fromnumeric.py:3162: VisibleDeprecationWarning: Creating an ndarray from ragged nested sequences (which is a list-or-tuple of lists-or-tuples-or ndarrays with different lengths or shapes) is deprecated. If you meant to do this, you must specify 'dtype=object' when creating the ndarray.\n",
      "  return asarray(a).ndim\n",
      "C:\\Users\\lzorn\\.conda\\envs\\tm2_network_dev\\lib\\site-packages\\numpy\\core\\fromnumeric.py:3162: VisibleDeprecationWarning: Creating an ndarray from ragged nested sequences (which is a list-or-tuple of lists-or-tuples-or ndarrays with different lengths or shapes) is deprecated. If you meant to do this, you must specify 'dtype=object' when creating the ndarray.\n",
      "  return asarray(a).ndim\n",
      "C:\\Users\\lzorn\\.conda\\envs\\tm2_network_dev\\lib\\site-packages\\numpy\\core\\fromnumeric.py:3162: VisibleDeprecationWarning: Creating an ndarray from ragged nested sequences (which is a list-or-tuple of lists-or-tuples-or ndarrays with different lengths or shapes) is deprecated. If you meant to do this, you must specify 'dtype=object' when creating the ndarray.\n",
      "  return asarray(a).ndim\n",
      "C:\\Users\\lzorn\\.conda\\envs\\tm2_network_dev\\lib\\site-packages\\numpy\\core\\fromnumeric.py:3162: VisibleDeprecationWarning: Creating an ndarray from ragged nested sequences (which is a list-or-tuple of lists-or-tuples-or ndarrays with different lengths or shapes) is deprecated. If you meant to do this, you must specify 'dtype=object' when creating the ndarray.\n",
      "  return asarray(a).ndim\n"
     ]
    },
    {
     "name": "stdout",
     "output_type": "stream",
     "text": [
      "2022-01-20 13:20:31, INFO: Applying VTA Route 570 Edits\n",
      "2022-01-20 13:20:31, INFO: Applying Project to Transit Network: VTA Route 570 Edits\n",
      "2022-01-20 13:20:32, INFO: Creating a new stop in stops.txt for node ID: 2017967\n",
      "2022-01-20 13:20:32, INFO: Creating a new stop in stops.txt for node ID: 2141662\n",
      "2022-01-20 13:20:32, INFO: Creating a new stop in stops.txt for node ID: 2033584\n",
      "2022-01-20 13:20:32, INFO: Creating a new stop in stops.txt for node ID: 2086778\n",
      "2022-01-20 13:20:32, INFO: Creating a new stop in stops.txt for node ID: 2030725\n",
      "2022-01-20 13:20:32, INFO: Creating a new stop in stops.txt for node ID: 2130749\n",
      "2022-01-20 13:20:32, INFO: Creating a new stop in stops.txt for node ID: 2009690\n",
      "2022-01-20 13:20:33, INFO: Creating a new stop in stops.txt for node ID: 2131992\n",
      "2022-01-20 13:20:33, INFO: Creating a new stop in stops.txt for node ID: 2151920\n",
      "2022-01-20 13:20:33, INFO: Creating a new stop in stops.txt for node ID: 2088911\n",
      "2022-01-20 13:20:33, INFO: Creating a new stop in stops.txt for node ID: 2090136\n",
      "2022-01-20 13:20:33, INFO: Creating a new stop in stops.txt for node ID: 2072348\n",
      "2022-01-20 13:20:33, INFO: Creating a new stop in stops.txt for node ID: 2133722\n"
     ]
    },
    {
     "name": "stderr",
     "output_type": "stream",
     "text": [
      "C:\\Users\\lzorn\\.conda\\envs\\tm2_network_dev\\lib\\site-packages\\numpy\\core\\fromnumeric.py:3162: VisibleDeprecationWarning: Creating an ndarray from ragged nested sequences (which is a list-or-tuple of lists-or-tuples-or ndarrays with different lengths or shapes) is deprecated. If you meant to do this, you must specify 'dtype=object' when creating the ndarray.\n",
      "  return asarray(a).ndim\n",
      "C:\\Users\\lzorn\\.conda\\envs\\tm2_network_dev\\lib\\site-packages\\numpy\\core\\fromnumeric.py:3162: VisibleDeprecationWarning: Creating an ndarray from ragged nested sequences (which is a list-or-tuple of lists-or-tuples-or ndarrays with different lengths or shapes) is deprecated. If you meant to do this, you must specify 'dtype=object' when creating the ndarray.\n",
      "  return asarray(a).ndim\n",
      "C:\\Users\\lzorn\\.conda\\envs\\tm2_network_dev\\lib\\site-packages\\numpy\\core\\fromnumeric.py:3162: VisibleDeprecationWarning: Creating an ndarray from ragged nested sequences (which is a list-or-tuple of lists-or-tuples-or ndarrays with different lengths or shapes) is deprecated. If you meant to do this, you must specify 'dtype=object' when creating the ndarray.\n",
      "  return asarray(a).ndim\n",
      "C:\\Users\\lzorn\\.conda\\envs\\tm2_network_dev\\lib\\site-packages\\numpy\\core\\fromnumeric.py:3162: VisibleDeprecationWarning: Creating an ndarray from ragged nested sequences (which is a list-or-tuple of lists-or-tuples-or ndarrays with different lengths or shapes) is deprecated. If you meant to do this, you must specify 'dtype=object' when creating the ndarray.\n",
      "  return asarray(a).ndim\n",
      "C:\\Users\\lzorn\\.conda\\envs\\tm2_network_dev\\lib\\site-packages\\numpy\\core\\fromnumeric.py:3162: VisibleDeprecationWarning: Creating an ndarray from ragged nested sequences (which is a list-or-tuple of lists-or-tuples-or ndarrays with different lengths or shapes) is deprecated. If you meant to do this, you must specify 'dtype=object' when creating the ndarray.\n",
      "  return asarray(a).ndim\n",
      "C:\\Users\\lzorn\\.conda\\envs\\tm2_network_dev\\lib\\site-packages\\numpy\\core\\fromnumeric.py:3162: VisibleDeprecationWarning: Creating an ndarray from ragged nested sequences (which is a list-or-tuple of lists-or-tuples-or ndarrays with different lengths or shapes) is deprecated. If you meant to do this, you must specify 'dtype=object' when creating the ndarray.\n",
      "  return asarray(a).ndim\n",
      "C:\\Users\\lzorn\\.conda\\envs\\tm2_network_dev\\lib\\site-packages\\numpy\\core\\fromnumeric.py:3162: VisibleDeprecationWarning: Creating an ndarray from ragged nested sequences (which is a list-or-tuple of lists-or-tuples-or ndarrays with different lengths or shapes) is deprecated. If you meant to do this, you must specify 'dtype=object' when creating the ndarray.\n",
      "  return asarray(a).ndim\n",
      "C:\\Users\\lzorn\\.conda\\envs\\tm2_network_dev\\lib\\site-packages\\numpy\\core\\fromnumeric.py:3162: VisibleDeprecationWarning: Creating an ndarray from ragged nested sequences (which is a list-or-tuple of lists-or-tuples-or ndarrays with different lengths or shapes) is deprecated. If you meant to do this, you must specify 'dtype=object' when creating the ndarray.\n",
      "  return asarray(a).ndim\n",
      "C:\\Users\\lzorn\\.conda\\envs\\tm2_network_dev\\lib\\site-packages\\numpy\\core\\fromnumeric.py:3162: VisibleDeprecationWarning: Creating an ndarray from ragged nested sequences (which is a list-or-tuple of lists-or-tuples-or ndarrays with different lengths or shapes) is deprecated. If you meant to do this, you must specify 'dtype=object' when creating the ndarray.\n",
      "  return asarray(a).ndim\n",
      "C:\\Users\\lzorn\\.conda\\envs\\tm2_network_dev\\lib\\site-packages\\numpy\\core\\fromnumeric.py:3162: VisibleDeprecationWarning: Creating an ndarray from ragged nested sequences (which is a list-or-tuple of lists-or-tuples-or ndarrays with different lengths or shapes) is deprecated. If you meant to do this, you must specify 'dtype=object' when creating the ndarray.\n",
      "  return asarray(a).ndim\n",
      "C:\\Users\\lzorn\\.conda\\envs\\tm2_network_dev\\lib\\site-packages\\numpy\\core\\fromnumeric.py:3162: VisibleDeprecationWarning: Creating an ndarray from ragged nested sequences (which is a list-or-tuple of lists-or-tuples-or ndarrays with different lengths or shapes) is deprecated. If you meant to do this, you must specify 'dtype=object' when creating the ndarray.\n",
      "  return asarray(a).ndim\n",
      "C:\\Users\\lzorn\\.conda\\envs\\tm2_network_dev\\lib\\site-packages\\numpy\\core\\fromnumeric.py:3162: VisibleDeprecationWarning: Creating an ndarray from ragged nested sequences (which is a list-or-tuple of lists-or-tuples-or ndarrays with different lengths or shapes) is deprecated. If you meant to do this, you must specify 'dtype=object' when creating the ndarray.\n",
      "  return asarray(a).ndim\n",
      "C:\\Users\\lzorn\\.conda\\envs\\tm2_network_dev\\lib\\site-packages\\numpy\\core\\fromnumeric.py:3162: VisibleDeprecationWarning: Creating an ndarray from ragged nested sequences (which is a list-or-tuple of lists-or-tuples-or ndarrays with different lengths or shapes) is deprecated. If you meant to do this, you must specify 'dtype=object' when creating the ndarray.\n",
      "  return asarray(a).ndim\n"
     ]
    },
    {
     "name": "stdout",
     "output_type": "stream",
     "text": [
      "2022-01-20 13:20:33, INFO: Creating a new stop in stops.txt for node ID: 2064901\n",
      "2022-01-20 13:20:33, INFO: Creating a new stop in stops.txt for node ID: 2072840\n",
      "2022-01-20 13:20:33, INFO: Creating a new stop in stops.txt for node ID: 2162217\n",
      "2022-01-20 13:20:33, INFO: Creating a new stop in stops.txt for node ID: 2060866\n",
      "2022-01-20 13:20:33, INFO: Creating a new stop in stops.txt for node ID: 2114920\n",
      "2022-01-20 13:20:33, INFO: Creating a new stop in stops.txt for node ID: 2091183\n",
      "2022-01-20 13:20:33, INFO: Creating a new stop in stops.txt for node ID: 2110249\n",
      "2022-01-20 13:20:33, INFO: Creating a new stop in stops.txt for node ID: 2152738\n",
      "2022-01-20 13:20:33, INFO: Creating a new stop in stops.txt for node ID: 2004027\n",
      "2022-01-20 13:20:33, INFO: Creating a new stop in stops.txt for node ID: 2033608\n"
     ]
    },
    {
     "name": "stderr",
     "output_type": "stream",
     "text": [
      "C:\\Users\\lzorn\\.conda\\envs\\tm2_network_dev\\lib\\site-packages\\numpy\\core\\fromnumeric.py:3162: VisibleDeprecationWarning: Creating an ndarray from ragged nested sequences (which is a list-or-tuple of lists-or-tuples-or ndarrays with different lengths or shapes) is deprecated. If you meant to do this, you must specify 'dtype=object' when creating the ndarray.\n",
      "  return asarray(a).ndim\n",
      "C:\\Users\\lzorn\\.conda\\envs\\tm2_network_dev\\lib\\site-packages\\numpy\\core\\fromnumeric.py:3162: VisibleDeprecationWarning: Creating an ndarray from ragged nested sequences (which is a list-or-tuple of lists-or-tuples-or ndarrays with different lengths or shapes) is deprecated. If you meant to do this, you must specify 'dtype=object' when creating the ndarray.\n",
      "  return asarray(a).ndim\n",
      "C:\\Users\\lzorn\\.conda\\envs\\tm2_network_dev\\lib\\site-packages\\numpy\\core\\fromnumeric.py:3162: VisibleDeprecationWarning: Creating an ndarray from ragged nested sequences (which is a list-or-tuple of lists-or-tuples-or ndarrays with different lengths or shapes) is deprecated. If you meant to do this, you must specify 'dtype=object' when creating the ndarray.\n",
      "  return asarray(a).ndim\n",
      "C:\\Users\\lzorn\\.conda\\envs\\tm2_network_dev\\lib\\site-packages\\numpy\\core\\fromnumeric.py:3162: VisibleDeprecationWarning: Creating an ndarray from ragged nested sequences (which is a list-or-tuple of lists-or-tuples-or ndarrays with different lengths or shapes) is deprecated. If you meant to do this, you must specify 'dtype=object' when creating the ndarray.\n",
      "  return asarray(a).ndim\n",
      "C:\\Users\\lzorn\\.conda\\envs\\tm2_network_dev\\lib\\site-packages\\numpy\\core\\fromnumeric.py:3162: VisibleDeprecationWarning: Creating an ndarray from ragged nested sequences (which is a list-or-tuple of lists-or-tuples-or ndarrays with different lengths or shapes) is deprecated. If you meant to do this, you must specify 'dtype=object' when creating the ndarray.\n",
      "  return asarray(a).ndim\n",
      "C:\\Users\\lzorn\\.conda\\envs\\tm2_network_dev\\lib\\site-packages\\numpy\\core\\fromnumeric.py:3162: VisibleDeprecationWarning: Creating an ndarray from ragged nested sequences (which is a list-or-tuple of lists-or-tuples-or ndarrays with different lengths or shapes) is deprecated. If you meant to do this, you must specify 'dtype=object' when creating the ndarray.\n",
      "  return asarray(a).ndim\n",
      "C:\\Users\\lzorn\\.conda\\envs\\tm2_network_dev\\lib\\site-packages\\numpy\\core\\fromnumeric.py:3162: VisibleDeprecationWarning: Creating an ndarray from ragged nested sequences (which is a list-or-tuple of lists-or-tuples-or ndarrays with different lengths or shapes) is deprecated. If you meant to do this, you must specify 'dtype=object' when creating the ndarray.\n",
      "  return asarray(a).ndim\n",
      "C:\\Users\\lzorn\\.conda\\envs\\tm2_network_dev\\lib\\site-packages\\numpy\\core\\fromnumeric.py:3162: VisibleDeprecationWarning: Creating an ndarray from ragged nested sequences (which is a list-or-tuple of lists-or-tuples-or ndarrays with different lengths or shapes) is deprecated. If you meant to do this, you must specify 'dtype=object' when creating the ndarray.\n",
      "  return asarray(a).ndim\n",
      "C:\\Users\\lzorn\\.conda\\envs\\tm2_network_dev\\lib\\site-packages\\numpy\\core\\fromnumeric.py:3162: VisibleDeprecationWarning: Creating an ndarray from ragged nested sequences (which is a list-or-tuple of lists-or-tuples-or ndarrays with different lengths or shapes) is deprecated. If you meant to do this, you must specify 'dtype=object' when creating the ndarray.\n",
      "  return asarray(a).ndim\n",
      "C:\\Users\\lzorn\\.conda\\envs\\tm2_network_dev\\lib\\site-packages\\numpy\\core\\fromnumeric.py:3162: VisibleDeprecationWarning: Creating an ndarray from ragged nested sequences (which is a list-or-tuple of lists-or-tuples-or ndarrays with different lengths or shapes) is deprecated. If you meant to do this, you must specify 'dtype=object' when creating the ndarray.\n",
      "  return asarray(a).ndim\n"
     ]
    },
    {
     "name": "stdout",
     "output_type": "stream",
     "text": [
      "2022-01-20 13:20:34, INFO: Applying VTA Route 570 Edits\n",
      "2022-01-20 13:20:34, INFO: Applying Project to Transit Network: VTA Route 570 Edits\n",
      "2022-01-20 13:20:35, INFO: Creating a new stop in stops.txt for node ID: 2040234\n"
     ]
    },
    {
     "name": "stderr",
     "output_type": "stream",
     "text": [
      "C:\\Users\\lzorn\\.conda\\envs\\tm2_network_dev\\lib\\site-packages\\numpy\\core\\fromnumeric.py:3162: VisibleDeprecationWarning: Creating an ndarray from ragged nested sequences (which is a list-or-tuple of lists-or-tuples-or ndarrays with different lengths or shapes) is deprecated. If you meant to do this, you must specify 'dtype=object' when creating the ndarray.\n",
      "  return asarray(a).ndim\n"
     ]
    },
    {
     "name": "stdout",
     "output_type": "stream",
     "text": [
      "2022-01-20 13:20:35, INFO: Applying VTA Route 569 Edits\n",
      "2022-01-20 13:20:35, INFO: Applying VTA Route 569 Edits\n",
      "2022-01-20 13:20:35, INFO: Applying Project to Transit Network: VTA Route 569 Edits\n",
      "2022-01-20 13:20:36, INFO: Creating a new stop in stops.txt for node ID: 2067948\n",
      "2022-01-20 13:20:36, INFO: Creating a new stop in stops.txt for node ID: 2017343\n",
      "2022-01-20 13:20:36, INFO: Creating a new stop in stops.txt for node ID: 2120474\n",
      "2022-01-20 13:20:36, INFO: Creating a new stop in stops.txt for node ID: 2032226\n",
      "2022-01-20 13:20:36, INFO: Creating a new stop in stops.txt for node ID: 2144958\n",
      "2022-01-20 13:20:36, INFO: Creating a new stop in stops.txt for node ID: 2108808\n",
      "2022-01-20 13:20:36, INFO: Creating a new stop in stops.txt for node ID: 2043719\n",
      "2022-01-20 13:20:36, INFO: Creating a new stop in stops.txt for node ID: 2083946\n",
      "2022-01-20 13:20:36, INFO: Creating a new stop in stops.txt for node ID: 2019305\n",
      "2022-01-20 13:20:36, INFO: Creating a new stop in stops.txt for node ID: 2099102\n",
      "2022-01-20 13:20:36, INFO: Creating a new stop in stops.txt for node ID: 2126158\n"
     ]
    },
    {
     "name": "stderr",
     "output_type": "stream",
     "text": [
      "C:\\Users\\lzorn\\.conda\\envs\\tm2_network_dev\\lib\\site-packages\\numpy\\core\\fromnumeric.py:3162: VisibleDeprecationWarning: Creating an ndarray from ragged nested sequences (which is a list-or-tuple of lists-or-tuples-or ndarrays with different lengths or shapes) is deprecated. If you meant to do this, you must specify 'dtype=object' when creating the ndarray.\n",
      "  return asarray(a).ndim\n",
      "C:\\Users\\lzorn\\.conda\\envs\\tm2_network_dev\\lib\\site-packages\\numpy\\core\\fromnumeric.py:3162: VisibleDeprecationWarning: Creating an ndarray from ragged nested sequences (which is a list-or-tuple of lists-or-tuples-or ndarrays with different lengths or shapes) is deprecated. If you meant to do this, you must specify 'dtype=object' when creating the ndarray.\n",
      "  return asarray(a).ndim\n",
      "C:\\Users\\lzorn\\.conda\\envs\\tm2_network_dev\\lib\\site-packages\\numpy\\core\\fromnumeric.py:3162: VisibleDeprecationWarning: Creating an ndarray from ragged nested sequences (which is a list-or-tuple of lists-or-tuples-or ndarrays with different lengths or shapes) is deprecated. If you meant to do this, you must specify 'dtype=object' when creating the ndarray.\n",
      "  return asarray(a).ndim\n",
      "C:\\Users\\lzorn\\.conda\\envs\\tm2_network_dev\\lib\\site-packages\\numpy\\core\\fromnumeric.py:3162: VisibleDeprecationWarning: Creating an ndarray from ragged nested sequences (which is a list-or-tuple of lists-or-tuples-or ndarrays with different lengths or shapes) is deprecated. If you meant to do this, you must specify 'dtype=object' when creating the ndarray.\n",
      "  return asarray(a).ndim\n",
      "C:\\Users\\lzorn\\.conda\\envs\\tm2_network_dev\\lib\\site-packages\\numpy\\core\\fromnumeric.py:3162: VisibleDeprecationWarning: Creating an ndarray from ragged nested sequences (which is a list-or-tuple of lists-or-tuples-or ndarrays with different lengths or shapes) is deprecated. If you meant to do this, you must specify 'dtype=object' when creating the ndarray.\n",
      "  return asarray(a).ndim\n",
      "C:\\Users\\lzorn\\.conda\\envs\\tm2_network_dev\\lib\\site-packages\\numpy\\core\\fromnumeric.py:3162: VisibleDeprecationWarning: Creating an ndarray from ragged nested sequences (which is a list-or-tuple of lists-or-tuples-or ndarrays with different lengths or shapes) is deprecated. If you meant to do this, you must specify 'dtype=object' when creating the ndarray.\n",
      "  return asarray(a).ndim\n",
      "C:\\Users\\lzorn\\.conda\\envs\\tm2_network_dev\\lib\\site-packages\\numpy\\core\\fromnumeric.py:3162: VisibleDeprecationWarning: Creating an ndarray from ragged nested sequences (which is a list-or-tuple of lists-or-tuples-or ndarrays with different lengths or shapes) is deprecated. If you meant to do this, you must specify 'dtype=object' when creating the ndarray.\n",
      "  return asarray(a).ndim\n",
      "C:\\Users\\lzorn\\.conda\\envs\\tm2_network_dev\\lib\\site-packages\\numpy\\core\\fromnumeric.py:3162: VisibleDeprecationWarning: Creating an ndarray from ragged nested sequences (which is a list-or-tuple of lists-or-tuples-or ndarrays with different lengths or shapes) is deprecated. If you meant to do this, you must specify 'dtype=object' when creating the ndarray.\n",
      "  return asarray(a).ndim\n",
      "C:\\Users\\lzorn\\.conda\\envs\\tm2_network_dev\\lib\\site-packages\\numpy\\core\\fromnumeric.py:3162: VisibleDeprecationWarning: Creating an ndarray from ragged nested sequences (which is a list-or-tuple of lists-or-tuples-or ndarrays with different lengths or shapes) is deprecated. If you meant to do this, you must specify 'dtype=object' when creating the ndarray.\n",
      "  return asarray(a).ndim\n",
      "C:\\Users\\lzorn\\.conda\\envs\\tm2_network_dev\\lib\\site-packages\\numpy\\core\\fromnumeric.py:3162: VisibleDeprecationWarning: Creating an ndarray from ragged nested sequences (which is a list-or-tuple of lists-or-tuples-or ndarrays with different lengths or shapes) is deprecated. If you meant to do this, you must specify 'dtype=object' when creating the ndarray.\n",
      "  return asarray(a).ndim\n",
      "C:\\Users\\lzorn\\.conda\\envs\\tm2_network_dev\\lib\\site-packages\\numpy\\core\\fromnumeric.py:3162: VisibleDeprecationWarning: Creating an ndarray from ragged nested sequences (which is a list-or-tuple of lists-or-tuples-or ndarrays with different lengths or shapes) is deprecated. If you meant to do this, you must specify 'dtype=object' when creating the ndarray.\n",
      "  return asarray(a).ndim\n"
     ]
    },
    {
     "name": "stdout",
     "output_type": "stream",
     "text": [
      "2022-01-20 13:20:36, INFO: Creating a new stop in stops.txt for node ID: 2042725\n",
      "2022-01-20 13:20:36, INFO: Creating a new stop in stops.txt for node ID: 2067293\n",
      "2022-01-20 13:20:37, INFO: Creating a new stop in stops.txt for node ID: 2061135\n",
      "2022-01-20 13:20:37, INFO: Creating a new stop in stops.txt for node ID: 2144810\n",
      "2022-01-20 13:20:37, INFO: Creating a new stop in stops.txt for node ID: 2117466\n",
      "2022-01-20 13:20:37, INFO: Creating a new stop in stops.txt for node ID: 2163193\n",
      "2022-01-20 13:20:37, INFO: Creating a new stop in stops.txt for node ID: 2052894\n",
      "2022-01-20 13:20:37, INFO: Creating a new stop in stops.txt for node ID: 2079877\n",
      "2022-01-20 13:20:37, INFO: Creating a new stop in stops.txt for node ID: 2125057\n",
      "2022-01-20 13:20:37, INFO: Creating a new stop in stops.txt for node ID: 2001667\n",
      "2022-01-20 13:20:37, INFO: Creating a new stop in stops.txt for node ID: 2037802\n"
     ]
    },
    {
     "name": "stderr",
     "output_type": "stream",
     "text": [
      "C:\\Users\\lzorn\\.conda\\envs\\tm2_network_dev\\lib\\site-packages\\numpy\\core\\fromnumeric.py:3162: VisibleDeprecationWarning: Creating an ndarray from ragged nested sequences (which is a list-or-tuple of lists-or-tuples-or ndarrays with different lengths or shapes) is deprecated. If you meant to do this, you must specify 'dtype=object' when creating the ndarray.\n",
      "  return asarray(a).ndim\n",
      "C:\\Users\\lzorn\\.conda\\envs\\tm2_network_dev\\lib\\site-packages\\numpy\\core\\fromnumeric.py:3162: VisibleDeprecationWarning: Creating an ndarray from ragged nested sequences (which is a list-or-tuple of lists-or-tuples-or ndarrays with different lengths or shapes) is deprecated. If you meant to do this, you must specify 'dtype=object' when creating the ndarray.\n",
      "  return asarray(a).ndim\n",
      "C:\\Users\\lzorn\\.conda\\envs\\tm2_network_dev\\lib\\site-packages\\numpy\\core\\fromnumeric.py:3162: VisibleDeprecationWarning: Creating an ndarray from ragged nested sequences (which is a list-or-tuple of lists-or-tuples-or ndarrays with different lengths or shapes) is deprecated. If you meant to do this, you must specify 'dtype=object' when creating the ndarray.\n",
      "  return asarray(a).ndim\n",
      "C:\\Users\\lzorn\\.conda\\envs\\tm2_network_dev\\lib\\site-packages\\numpy\\core\\fromnumeric.py:3162: VisibleDeprecationWarning: Creating an ndarray from ragged nested sequences (which is a list-or-tuple of lists-or-tuples-or ndarrays with different lengths or shapes) is deprecated. If you meant to do this, you must specify 'dtype=object' when creating the ndarray.\n",
      "  return asarray(a).ndim\n",
      "C:\\Users\\lzorn\\.conda\\envs\\tm2_network_dev\\lib\\site-packages\\numpy\\core\\fromnumeric.py:3162: VisibleDeprecationWarning: Creating an ndarray from ragged nested sequences (which is a list-or-tuple of lists-or-tuples-or ndarrays with different lengths or shapes) is deprecated. If you meant to do this, you must specify 'dtype=object' when creating the ndarray.\n",
      "  return asarray(a).ndim\n",
      "C:\\Users\\lzorn\\.conda\\envs\\tm2_network_dev\\lib\\site-packages\\numpy\\core\\fromnumeric.py:3162: VisibleDeprecationWarning: Creating an ndarray from ragged nested sequences (which is a list-or-tuple of lists-or-tuples-or ndarrays with different lengths or shapes) is deprecated. If you meant to do this, you must specify 'dtype=object' when creating the ndarray.\n",
      "  return asarray(a).ndim\n",
      "C:\\Users\\lzorn\\.conda\\envs\\tm2_network_dev\\lib\\site-packages\\numpy\\core\\fromnumeric.py:3162: VisibleDeprecationWarning: Creating an ndarray from ragged nested sequences (which is a list-or-tuple of lists-or-tuples-or ndarrays with different lengths or shapes) is deprecated. If you meant to do this, you must specify 'dtype=object' when creating the ndarray.\n",
      "  return asarray(a).ndim\n",
      "C:\\Users\\lzorn\\.conda\\envs\\tm2_network_dev\\lib\\site-packages\\numpy\\core\\fromnumeric.py:3162: VisibleDeprecationWarning: Creating an ndarray from ragged nested sequences (which is a list-or-tuple of lists-or-tuples-or ndarrays with different lengths or shapes) is deprecated. If you meant to do this, you must specify 'dtype=object' when creating the ndarray.\n",
      "  return asarray(a).ndim\n",
      "C:\\Users\\lzorn\\.conda\\envs\\tm2_network_dev\\lib\\site-packages\\numpy\\core\\fromnumeric.py:3162: VisibleDeprecationWarning: Creating an ndarray from ragged nested sequences (which is a list-or-tuple of lists-or-tuples-or ndarrays with different lengths or shapes) is deprecated. If you meant to do this, you must specify 'dtype=object' when creating the ndarray.\n",
      "  return asarray(a).ndim\n",
      "C:\\Users\\lzorn\\.conda\\envs\\tm2_network_dev\\lib\\site-packages\\numpy\\core\\fromnumeric.py:3162: VisibleDeprecationWarning: Creating an ndarray from ragged nested sequences (which is a list-or-tuple of lists-or-tuples-or ndarrays with different lengths or shapes) is deprecated. If you meant to do this, you must specify 'dtype=object' when creating the ndarray.\n",
      "  return asarray(a).ndim\n",
      "C:\\Users\\lzorn\\.conda\\envs\\tm2_network_dev\\lib\\site-packages\\numpy\\core\\fromnumeric.py:3162: VisibleDeprecationWarning: Creating an ndarray from ragged nested sequences (which is a list-or-tuple of lists-or-tuples-or ndarrays with different lengths or shapes) is deprecated. If you meant to do this, you must specify 'dtype=object' when creating the ndarray.\n",
      "  return asarray(a).ndim\n"
     ]
    },
    {
     "name": "stdout",
     "output_type": "stream",
     "text": [
      "2022-01-20 13:20:37, INFO: Creating a new stop in stops.txt for node ID: 2059399\n",
      "2022-01-20 13:20:37, INFO: Creating a new stop in stops.txt for node ID: 2004048\n"
     ]
    },
    {
     "name": "stderr",
     "output_type": "stream",
     "text": [
      "C:\\Users\\lzorn\\.conda\\envs\\tm2_network_dev\\lib\\site-packages\\numpy\\core\\fromnumeric.py:3162: VisibleDeprecationWarning: Creating an ndarray from ragged nested sequences (which is a list-or-tuple of lists-or-tuples-or ndarrays with different lengths or shapes) is deprecated. If you meant to do this, you must specify 'dtype=object' when creating the ndarray.\n",
      "  return asarray(a).ndim\n",
      "C:\\Users\\lzorn\\.conda\\envs\\tm2_network_dev\\lib\\site-packages\\numpy\\core\\fromnumeric.py:3162: VisibleDeprecationWarning: Creating an ndarray from ragged nested sequences (which is a list-or-tuple of lists-or-tuples-or ndarrays with different lengths or shapes) is deprecated. If you meant to do this, you must specify 'dtype=object' when creating the ndarray.\n",
      "  return asarray(a).ndim\n"
     ]
    },
    {
     "name": "stdout",
     "output_type": "stream",
     "text": [
      "2022-01-20 13:20:38, INFO: Applying VTA Route 569 Edits\n",
      "2022-01-20 13:20:38, INFO: Applying Project to Transit Network: VTA Route 569 Edits\n",
      "2022-01-20 13:20:39, INFO: Creating a new stop in stops.txt for node ID: 2012348\n",
      "2022-01-20 13:20:39, INFO: Creating a new stop in stops.txt for node ID: 2021535\n",
      "2022-01-20 13:20:39, INFO: Creating a new stop in stops.txt for node ID: 2099907\n",
      "2022-01-20 13:20:39, INFO: Creating a new stop in stops.txt for node ID: 2070853\n",
      "2022-01-20 13:20:39, INFO: Creating a new stop in stops.txt for node ID: 2066296\n",
      "2022-01-20 13:20:39, INFO: Creating a new stop in stops.txt for node ID: 2138536\n",
      "2022-01-20 13:20:39, INFO: Creating a new stop in stops.txt for node ID: 2136391\n",
      "2022-01-20 13:20:39, INFO: Creating a new stop in stops.txt for node ID: 2049750\n",
      "2022-01-20 13:20:39, INFO: Creating a new stop in stops.txt for node ID: 2138550\n",
      "2022-01-20 13:20:39, INFO: Creating a new stop in stops.txt for node ID: 2119851\n",
      "2022-01-20 13:20:39, INFO: Creating a new stop in stops.txt for node ID: 2082103\n"
     ]
    },
    {
     "name": "stderr",
     "output_type": "stream",
     "text": [
      "C:\\Users\\lzorn\\.conda\\envs\\tm2_network_dev\\lib\\site-packages\\numpy\\core\\fromnumeric.py:3162: VisibleDeprecationWarning: Creating an ndarray from ragged nested sequences (which is a list-or-tuple of lists-or-tuples-or ndarrays with different lengths or shapes) is deprecated. If you meant to do this, you must specify 'dtype=object' when creating the ndarray.\n",
      "  return asarray(a).ndim\n",
      "C:\\Users\\lzorn\\.conda\\envs\\tm2_network_dev\\lib\\site-packages\\numpy\\core\\fromnumeric.py:3162: VisibleDeprecationWarning: Creating an ndarray from ragged nested sequences (which is a list-or-tuple of lists-or-tuples-or ndarrays with different lengths or shapes) is deprecated. If you meant to do this, you must specify 'dtype=object' when creating the ndarray.\n",
      "  return asarray(a).ndim\n",
      "C:\\Users\\lzorn\\.conda\\envs\\tm2_network_dev\\lib\\site-packages\\numpy\\core\\fromnumeric.py:3162: VisibleDeprecationWarning: Creating an ndarray from ragged nested sequences (which is a list-or-tuple of lists-or-tuples-or ndarrays with different lengths or shapes) is deprecated. If you meant to do this, you must specify 'dtype=object' when creating the ndarray.\n",
      "  return asarray(a).ndim\n",
      "C:\\Users\\lzorn\\.conda\\envs\\tm2_network_dev\\lib\\site-packages\\numpy\\core\\fromnumeric.py:3162: VisibleDeprecationWarning: Creating an ndarray from ragged nested sequences (which is a list-or-tuple of lists-or-tuples-or ndarrays with different lengths or shapes) is deprecated. If you meant to do this, you must specify 'dtype=object' when creating the ndarray.\n",
      "  return asarray(a).ndim\n",
      "C:\\Users\\lzorn\\.conda\\envs\\tm2_network_dev\\lib\\site-packages\\numpy\\core\\fromnumeric.py:3162: VisibleDeprecationWarning: Creating an ndarray from ragged nested sequences (which is a list-or-tuple of lists-or-tuples-or ndarrays with different lengths or shapes) is deprecated. If you meant to do this, you must specify 'dtype=object' when creating the ndarray.\n",
      "  return asarray(a).ndim\n",
      "C:\\Users\\lzorn\\.conda\\envs\\tm2_network_dev\\lib\\site-packages\\numpy\\core\\fromnumeric.py:3162: VisibleDeprecationWarning: Creating an ndarray from ragged nested sequences (which is a list-or-tuple of lists-or-tuples-or ndarrays with different lengths or shapes) is deprecated. If you meant to do this, you must specify 'dtype=object' when creating the ndarray.\n",
      "  return asarray(a).ndim\n",
      "C:\\Users\\lzorn\\.conda\\envs\\tm2_network_dev\\lib\\site-packages\\numpy\\core\\fromnumeric.py:3162: VisibleDeprecationWarning: Creating an ndarray from ragged nested sequences (which is a list-or-tuple of lists-or-tuples-or ndarrays with different lengths or shapes) is deprecated. If you meant to do this, you must specify 'dtype=object' when creating the ndarray.\n",
      "  return asarray(a).ndim\n",
      "C:\\Users\\lzorn\\.conda\\envs\\tm2_network_dev\\lib\\site-packages\\numpy\\core\\fromnumeric.py:3162: VisibleDeprecationWarning: Creating an ndarray from ragged nested sequences (which is a list-or-tuple of lists-or-tuples-or ndarrays with different lengths or shapes) is deprecated. If you meant to do this, you must specify 'dtype=object' when creating the ndarray.\n",
      "  return asarray(a).ndim\n",
      "C:\\Users\\lzorn\\.conda\\envs\\tm2_network_dev\\lib\\site-packages\\numpy\\core\\fromnumeric.py:3162: VisibleDeprecationWarning: Creating an ndarray from ragged nested sequences (which is a list-or-tuple of lists-or-tuples-or ndarrays with different lengths or shapes) is deprecated. If you meant to do this, you must specify 'dtype=object' when creating the ndarray.\n",
      "  return asarray(a).ndim\n",
      "C:\\Users\\lzorn\\.conda\\envs\\tm2_network_dev\\lib\\site-packages\\numpy\\core\\fromnumeric.py:3162: VisibleDeprecationWarning: Creating an ndarray from ragged nested sequences (which is a list-or-tuple of lists-or-tuples-or ndarrays with different lengths or shapes) is deprecated. If you meant to do this, you must specify 'dtype=object' when creating the ndarray.\n",
      "  return asarray(a).ndim\n",
      "C:\\Users\\lzorn\\.conda\\envs\\tm2_network_dev\\lib\\site-packages\\numpy\\core\\fromnumeric.py:3162: VisibleDeprecationWarning: Creating an ndarray from ragged nested sequences (which is a list-or-tuple of lists-or-tuples-or ndarrays with different lengths or shapes) is deprecated. If you meant to do this, you must specify 'dtype=object' when creating the ndarray.\n",
      "  return asarray(a).ndim\n"
     ]
    },
    {
     "name": "stdout",
     "output_type": "stream",
     "text": [
      "2022-01-20 13:20:39, INFO: Creating a new stop in stops.txt for node ID: 2142116\n",
      "2022-01-20 13:20:39, INFO: Creating a new stop in stops.txt for node ID: 2135849\n"
     ]
    },
    {
     "name": "stderr",
     "output_type": "stream",
     "text": [
      "C:\\Users\\lzorn\\.conda\\envs\\tm2_network_dev\\lib\\site-packages\\numpy\\core\\fromnumeric.py:3162: VisibleDeprecationWarning: Creating an ndarray from ragged nested sequences (which is a list-or-tuple of lists-or-tuples-or ndarrays with different lengths or shapes) is deprecated. If you meant to do this, you must specify 'dtype=object' when creating the ndarray.\n",
      "  return asarray(a).ndim\n",
      "C:\\Users\\lzorn\\.conda\\envs\\tm2_network_dev\\lib\\site-packages\\numpy\\core\\fromnumeric.py:3162: VisibleDeprecationWarning: Creating an ndarray from ragged nested sequences (which is a list-or-tuple of lists-or-tuples-or ndarrays with different lengths or shapes) is deprecated. If you meant to do this, you must specify 'dtype=object' when creating the ndarray.\n",
      "  return asarray(a).ndim\n"
     ]
    },
    {
     "name": "stdout",
     "output_type": "stream",
     "text": [
      "2022-01-20 13:20:41, INFO: Applying sfmta route n-judah\n",
      "2022-01-20 13:20:41, INFO: Applying sfmta route n-judah\n",
      "2022-01-20 13:20:41, INFO: Applying Project to Transit Network: sfmta route n-judah\n",
      "2022-01-20 13:20:42, WARNING: Missing connections from node 1016386 to node 1006274 for the new routing, find complete path using default graph\n",
      "2022-01-20 13:20:42, INFO: Routing path from node 1016386 to node 1006274 for missing connections: ['1016386', '1021178', '1006274'].\n",
      "2022-01-20 13:20:42, WARNING: Missing connections from node 1006447 to node 1022143 for the new routing, find complete path using default graph\n",
      "2022-01-20 13:20:42, INFO: Routing path from node 1006447 to node 1022143 for missing connections: ['1006447', '1020131', '1004462', '1022143'].\n",
      "2022-01-20 13:20:42, WARNING: Missing connections from node 1022143 to node 1008035 for the new routing, find complete path using default graph\n",
      "2022-01-20 13:20:42, INFO: Routing path from node 1022143 to node 1008035 for missing connections: ['1022143', '1017916', '1012956', '1008035'].\n",
      "2022-01-20 13:20:42, WARNING: Missing connections from node 1017309 to node 1004296 for the new routing, find complete path using default graph\n",
      "2022-01-20 13:20:42, INFO: Routing path from node 1017309 to node 1004296 for missing connections: ['1017309', '1004021', '1020670', '1004296'].\n",
      "2022-01-20 13:20:42, WARNING: Missing connections from node 1004296 to node 1012711 for the new routing, find complete path using default graph\n",
      "2022-01-20 13:20:42, INFO: Routing path from node 1004296 to node 1012711 for missing connections: ['1004296', '1011541', '1012711'].\n",
      "2022-01-20 13:20:42, WARNING: Missing connections from node 1004311 to node 1017370 for the new routing, find complete path using default graph\n",
      "2022-01-20 13:20:42, INFO: Routing path from node 1004311 to node 1017370 for missing connections: ['1004311', '1008328', '1017370'].\n",
      "2022-01-20 13:20:42, WARNING: Missing connections from node 1022175 to node 1013412 for the new routing, find complete path using default graph\n",
      "2022-01-20 13:20:42, INFO: Routing path from node 1022175 to node 1013412 for missing connections: ['1022175', '1014694', '1013082', '1013412'].\n",
      "2022-01-20 13:20:42, WARNING: Missing connections from node 1013412 to node 1014552 for the new routing, find complete path using default graph\n",
      "2022-01-20 13:20:42, INFO: Routing path from node 1013412 to node 1014552 for missing connections: ['1013412', '1004566', '1006697', '1014552'].\n",
      "2022-01-20 13:20:43, INFO: Creating a new stop in stops.txt for node ID: 1005827\n",
      "2022-01-20 13:20:43, INFO: Creating a new stop in stops.txt for node ID: 1004746\n",
      "2022-01-20 13:20:43, INFO: Creating a new stop in stops.txt for node ID: 1018021\n",
      "2022-01-20 13:20:43, INFO: Creating a new stop in stops.txt for node ID: 1004792\n",
      "2022-01-20 13:20:43, INFO: Creating a new stop in stops.txt for node ID: 1020914\n",
      "2022-01-20 13:20:43, INFO: Creating a new stop in stops.txt for node ID: 1013331\n",
      "2022-01-20 13:20:43, INFO: Creating a new stop in stops.txt for node ID: 1000269\n",
      "2022-01-20 13:20:43, INFO: Creating a new stop in stops.txt for node ID: 1015954\n",
      "2022-01-20 13:20:43, INFO: Creating a new stop in stops.txt for node ID: 1003650\n",
      "2022-01-20 13:20:43, INFO: Creating a new stop in stops.txt for node ID: 1000460\n",
      "2022-01-20 13:20:43, INFO: Creating a new stop in stops.txt for node ID: 1023265\n",
      "2022-01-20 13:20:43, INFO: Creating a new stop in stops.txt for node ID: 1002208\n"
     ]
    },
    {
     "name": "stderr",
     "output_type": "stream",
     "text": [
      "C:\\Users\\lzorn\\.conda\\envs\\tm2_network_dev\\lib\\site-packages\\numpy\\core\\fromnumeric.py:3162: VisibleDeprecationWarning: Creating an ndarray from ragged nested sequences (which is a list-or-tuple of lists-or-tuples-or ndarrays with different lengths or shapes) is deprecated. If you meant to do this, you must specify 'dtype=object' when creating the ndarray.\n",
      "  return asarray(a).ndim\n",
      "C:\\Users\\lzorn\\.conda\\envs\\tm2_network_dev\\lib\\site-packages\\numpy\\core\\fromnumeric.py:3162: VisibleDeprecationWarning: Creating an ndarray from ragged nested sequences (which is a list-or-tuple of lists-or-tuples-or ndarrays with different lengths or shapes) is deprecated. If you meant to do this, you must specify 'dtype=object' when creating the ndarray.\n",
      "  return asarray(a).ndim\n",
      "C:\\Users\\lzorn\\.conda\\envs\\tm2_network_dev\\lib\\site-packages\\numpy\\core\\fromnumeric.py:3162: VisibleDeprecationWarning: Creating an ndarray from ragged nested sequences (which is a list-or-tuple of lists-or-tuples-or ndarrays with different lengths or shapes) is deprecated. If you meant to do this, you must specify 'dtype=object' when creating the ndarray.\n",
      "  return asarray(a).ndim\n",
      "C:\\Users\\lzorn\\.conda\\envs\\tm2_network_dev\\lib\\site-packages\\numpy\\core\\fromnumeric.py:3162: VisibleDeprecationWarning: Creating an ndarray from ragged nested sequences (which is a list-or-tuple of lists-or-tuples-or ndarrays with different lengths or shapes) is deprecated. If you meant to do this, you must specify 'dtype=object' when creating the ndarray.\n",
      "  return asarray(a).ndim\n",
      "C:\\Users\\lzorn\\.conda\\envs\\tm2_network_dev\\lib\\site-packages\\numpy\\core\\fromnumeric.py:3162: VisibleDeprecationWarning: Creating an ndarray from ragged nested sequences (which is a list-or-tuple of lists-or-tuples-or ndarrays with different lengths or shapes) is deprecated. If you meant to do this, you must specify 'dtype=object' when creating the ndarray.\n",
      "  return asarray(a).ndim\n",
      "C:\\Users\\lzorn\\.conda\\envs\\tm2_network_dev\\lib\\site-packages\\numpy\\core\\fromnumeric.py:3162: VisibleDeprecationWarning: Creating an ndarray from ragged nested sequences (which is a list-or-tuple of lists-or-tuples-or ndarrays with different lengths or shapes) is deprecated. If you meant to do this, you must specify 'dtype=object' when creating the ndarray.\n",
      "  return asarray(a).ndim\n",
      "C:\\Users\\lzorn\\.conda\\envs\\tm2_network_dev\\lib\\site-packages\\numpy\\core\\fromnumeric.py:3162: VisibleDeprecationWarning: Creating an ndarray from ragged nested sequences (which is a list-or-tuple of lists-or-tuples-or ndarrays with different lengths or shapes) is deprecated. If you meant to do this, you must specify 'dtype=object' when creating the ndarray.\n",
      "  return asarray(a).ndim\n",
      "C:\\Users\\lzorn\\.conda\\envs\\tm2_network_dev\\lib\\site-packages\\numpy\\core\\fromnumeric.py:3162: VisibleDeprecationWarning: Creating an ndarray from ragged nested sequences (which is a list-or-tuple of lists-or-tuples-or ndarrays with different lengths or shapes) is deprecated. If you meant to do this, you must specify 'dtype=object' when creating the ndarray.\n",
      "  return asarray(a).ndim\n",
      "C:\\Users\\lzorn\\.conda\\envs\\tm2_network_dev\\lib\\site-packages\\numpy\\core\\fromnumeric.py:3162: VisibleDeprecationWarning: Creating an ndarray from ragged nested sequences (which is a list-or-tuple of lists-or-tuples-or ndarrays with different lengths or shapes) is deprecated. If you meant to do this, you must specify 'dtype=object' when creating the ndarray.\n",
      "  return asarray(a).ndim\n",
      "C:\\Users\\lzorn\\.conda\\envs\\tm2_network_dev\\lib\\site-packages\\numpy\\core\\fromnumeric.py:3162: VisibleDeprecationWarning: Creating an ndarray from ragged nested sequences (which is a list-or-tuple of lists-or-tuples-or ndarrays with different lengths or shapes) is deprecated. If you meant to do this, you must specify 'dtype=object' when creating the ndarray.\n",
      "  return asarray(a).ndim\n",
      "C:\\Users\\lzorn\\.conda\\envs\\tm2_network_dev\\lib\\site-packages\\numpy\\core\\fromnumeric.py:3162: VisibleDeprecationWarning: Creating an ndarray from ragged nested sequences (which is a list-or-tuple of lists-or-tuples-or ndarrays with different lengths or shapes) is deprecated. If you meant to do this, you must specify 'dtype=object' when creating the ndarray.\n",
      "  return asarray(a).ndim\n",
      "C:\\Users\\lzorn\\.conda\\envs\\tm2_network_dev\\lib\\site-packages\\numpy\\core\\fromnumeric.py:3162: VisibleDeprecationWarning: Creating an ndarray from ragged nested sequences (which is a list-or-tuple of lists-or-tuples-or ndarrays with different lengths or shapes) is deprecated. If you meant to do this, you must specify 'dtype=object' when creating the ndarray.\n",
      "  return asarray(a).ndim\n"
     ]
    },
    {
     "name": "stdout",
     "output_type": "stream",
     "text": [
      "2022-01-20 13:20:43, INFO: Creating a new stop in stops.txt for node ID: 1007030\n",
      "2022-01-20 13:20:43, INFO: Creating a new stop in stops.txt for node ID: 1019938\n",
      "2022-01-20 13:20:43, INFO: Creating a new stop in stops.txt for node ID: 1008035\n",
      "2022-01-20 13:20:43, INFO: Creating a new stop in stops.txt for node ID: 1006862\n",
      "2022-01-20 13:20:43, INFO: Creating a new stop in stops.txt for node ID: 1014552\n"
     ]
    },
    {
     "name": "stderr",
     "output_type": "stream",
     "text": [
      "C:\\Users\\lzorn\\.conda\\envs\\tm2_network_dev\\lib\\site-packages\\numpy\\core\\fromnumeric.py:3162: VisibleDeprecationWarning: Creating an ndarray from ragged nested sequences (which is a list-or-tuple of lists-or-tuples-or ndarrays with different lengths or shapes) is deprecated. If you meant to do this, you must specify 'dtype=object' when creating the ndarray.\n",
      "  return asarray(a).ndim\n",
      "C:\\Users\\lzorn\\.conda\\envs\\tm2_network_dev\\lib\\site-packages\\numpy\\core\\fromnumeric.py:3162: VisibleDeprecationWarning: Creating an ndarray from ragged nested sequences (which is a list-or-tuple of lists-or-tuples-or ndarrays with different lengths or shapes) is deprecated. If you meant to do this, you must specify 'dtype=object' when creating the ndarray.\n",
      "  return asarray(a).ndim\n",
      "C:\\Users\\lzorn\\.conda\\envs\\tm2_network_dev\\lib\\site-packages\\numpy\\core\\fromnumeric.py:3162: VisibleDeprecationWarning: Creating an ndarray from ragged nested sequences (which is a list-or-tuple of lists-or-tuples-or ndarrays with different lengths or shapes) is deprecated. If you meant to do this, you must specify 'dtype=object' when creating the ndarray.\n",
      "  return asarray(a).ndim\n",
      "C:\\Users\\lzorn\\.conda\\envs\\tm2_network_dev\\lib\\site-packages\\numpy\\core\\fromnumeric.py:3162: VisibleDeprecationWarning: Creating an ndarray from ragged nested sequences (which is a list-or-tuple of lists-or-tuples-or ndarrays with different lengths or shapes) is deprecated. If you meant to do this, you must specify 'dtype=object' when creating the ndarray.\n",
      "  return asarray(a).ndim\n",
      "C:\\Users\\lzorn\\.conda\\envs\\tm2_network_dev\\lib\\site-packages\\numpy\\core\\fromnumeric.py:3162: VisibleDeprecationWarning: Creating an ndarray from ragged nested sequences (which is a list-or-tuple of lists-or-tuples-or ndarrays with different lengths or shapes) is deprecated. If you meant to do this, you must specify 'dtype=object' when creating the ndarray.\n",
      "  return asarray(a).ndim\n"
     ]
    },
    {
     "name": "stdout",
     "output_type": "stream",
     "text": [
      "2022-01-20 13:20:44, INFO: Applying sfmta route n-judah\n",
      "2022-01-20 13:20:44, INFO: Applying Project to Transit Network: sfmta route n-judah\n",
      "2022-01-20 13:20:45, WARNING: Missing connections from node 1012711 to node 1004296 for the new routing, find complete path using default graph\n",
      "2022-01-20 13:20:45, INFO: Routing path from node 1012711 to node 1004296 for missing connections: ['1012711', '1011541', '1004296'].\n",
      "2022-01-20 13:20:45, WARNING: Missing connections from node 1006274 to node 1016386 for the new routing, find complete path using default graph\n",
      "2022-01-20 13:20:45, INFO: Routing path from node 1006274 to node 1016386 for missing connections: ['1006274', '1021178', '1016386'].\n",
      "2022-01-20 13:20:46, INFO: Creating a new stop in stops.txt for node ID: 1006697\n",
      "2022-01-20 13:20:46, INFO: Creating a new stop in stops.txt for node ID: 1004296\n",
      "2022-01-20 13:20:46, INFO: Creating a new stop in stops.txt for node ID: 1014715\n",
      "2022-01-20 13:20:46, INFO: Creating a new stop in stops.txt for node ID: 1012546\n",
      "2022-01-20 13:20:46, INFO: Creating a new stop in stops.txt for node ID: 1012987\n",
      "2022-01-20 13:20:46, INFO: Creating a new stop in stops.txt for node ID: 1007098\n",
      "2022-01-20 13:20:46, INFO: Creating a new stop in stops.txt for node ID: 1015828\n"
     ]
    },
    {
     "name": "stderr",
     "output_type": "stream",
     "text": [
      "C:\\Users\\lzorn\\.conda\\envs\\tm2_network_dev\\lib\\site-packages\\numpy\\core\\fromnumeric.py:3162: VisibleDeprecationWarning: Creating an ndarray from ragged nested sequences (which is a list-or-tuple of lists-or-tuples-or ndarrays with different lengths or shapes) is deprecated. If you meant to do this, you must specify 'dtype=object' when creating the ndarray.\n",
      "  return asarray(a).ndim\n",
      "C:\\Users\\lzorn\\.conda\\envs\\tm2_network_dev\\lib\\site-packages\\numpy\\core\\fromnumeric.py:3162: VisibleDeprecationWarning: Creating an ndarray from ragged nested sequences (which is a list-or-tuple of lists-or-tuples-or ndarrays with different lengths or shapes) is deprecated. If you meant to do this, you must specify 'dtype=object' when creating the ndarray.\n",
      "  return asarray(a).ndim\n",
      "C:\\Users\\lzorn\\.conda\\envs\\tm2_network_dev\\lib\\site-packages\\numpy\\core\\fromnumeric.py:3162: VisibleDeprecationWarning: Creating an ndarray from ragged nested sequences (which is a list-or-tuple of lists-or-tuples-or ndarrays with different lengths or shapes) is deprecated. If you meant to do this, you must specify 'dtype=object' when creating the ndarray.\n",
      "  return asarray(a).ndim\n",
      "C:\\Users\\lzorn\\.conda\\envs\\tm2_network_dev\\lib\\site-packages\\numpy\\core\\fromnumeric.py:3162: VisibleDeprecationWarning: Creating an ndarray from ragged nested sequences (which is a list-or-tuple of lists-or-tuples-or ndarrays with different lengths or shapes) is deprecated. If you meant to do this, you must specify 'dtype=object' when creating the ndarray.\n",
      "  return asarray(a).ndim\n",
      "C:\\Users\\lzorn\\.conda\\envs\\tm2_network_dev\\lib\\site-packages\\numpy\\core\\fromnumeric.py:3162: VisibleDeprecationWarning: Creating an ndarray from ragged nested sequences (which is a list-or-tuple of lists-or-tuples-or ndarrays with different lengths or shapes) is deprecated. If you meant to do this, you must specify 'dtype=object' when creating the ndarray.\n",
      "  return asarray(a).ndim\n",
      "C:\\Users\\lzorn\\.conda\\envs\\tm2_network_dev\\lib\\site-packages\\numpy\\core\\fromnumeric.py:3162: VisibleDeprecationWarning: Creating an ndarray from ragged nested sequences (which is a list-or-tuple of lists-or-tuples-or ndarrays with different lengths or shapes) is deprecated. If you meant to do this, you must specify 'dtype=object' when creating the ndarray.\n",
      "  return asarray(a).ndim\n",
      "C:\\Users\\lzorn\\.conda\\envs\\tm2_network_dev\\lib\\site-packages\\numpy\\core\\fromnumeric.py:3162: VisibleDeprecationWarning: Creating an ndarray from ragged nested sequences (which is a list-or-tuple of lists-or-tuples-or ndarrays with different lengths or shapes) is deprecated. If you meant to do this, you must specify 'dtype=object' when creating the ndarray.\n",
      "  return asarray(a).ndim\n"
     ]
    },
    {
     "name": "stdout",
     "output_type": "stream",
     "text": [
      "2022-01-20 13:20:48, INFO: Applying SFMTA Route M-OCEANVIEW\n",
      "2022-01-20 13:20:48, INFO: Applying SFMTA Route M-OCEANVIEW\n",
      "2022-01-20 13:20:48, INFO: Applying Project to Transit Network: SFMTA Route M-OCEANVIEW\n",
      "2022-01-20 13:20:48, WARNING: Missing connections from node 1002555 to node 1008652 for the new routing, find complete path using default graph\n",
      "2022-01-20 13:20:48, INFO: Routing path from node 1002555 to node 1008652 for missing connections: ['1002555', '1010065', '1008652'].\n",
      "2022-01-20 13:20:48, WARNING: Missing connections from node 1005497 to node 1001797 for the new routing, find complete path using default graph\n",
      "2022-01-20 13:20:48, INFO: Routing path from node 1005497 to node 1001797 for missing connections: ['1005497', '1022602', '1001972', '1021367', '1001797'].\n",
      "2022-01-20 13:20:48, WARNING: Missing connections from node 1001634 to node 1010056 for the new routing, find complete path using default graph\n",
      "2022-01-20 13:20:48, INFO: Routing path from node 1001634 to node 1010056 for missing connections: ['1001634', '1001320', '1010056'].\n",
      "2022-01-20 13:20:50, INFO: Creating a new stop in stops.txt for node ID: 1002555\n",
      "2022-01-20 13:20:50, INFO: Creating a new stop in stops.txt for node ID: 1008652\n",
      "2022-01-20 13:20:50, INFO: Creating a new stop in stops.txt for node ID: 1001634\n",
      "2022-01-20 13:20:50, INFO: Creating a new stop in stops.txt for node ID: 1010056\n",
      "2022-01-20 13:20:50, INFO: Creating a new stop in stops.txt for node ID: 1011246\n",
      "2022-01-20 13:20:50, INFO: Creating a new stop in stops.txt for node ID: 1001719\n",
      "2022-01-20 13:20:50, INFO: Creating a new stop in stops.txt for node ID: 1012925\n",
      "2022-01-20 13:20:50, INFO: Creating a new stop in stops.txt for node ID: 1024435\n",
      "2022-01-20 13:20:50, INFO: Creating a new stop in stops.txt for node ID: 1019022\n",
      "2022-01-20 13:20:50, INFO: Creating a new stop in stops.txt for node ID: 1006200\n"
     ]
    },
    {
     "name": "stderr",
     "output_type": "stream",
     "text": [
      "C:\\Users\\lzorn\\.conda\\envs\\tm2_network_dev\\lib\\site-packages\\numpy\\core\\fromnumeric.py:3162: VisibleDeprecationWarning: Creating an ndarray from ragged nested sequences (which is a list-or-tuple of lists-or-tuples-or ndarrays with different lengths or shapes) is deprecated. If you meant to do this, you must specify 'dtype=object' when creating the ndarray.\n",
      "  return asarray(a).ndim\n",
      "C:\\Users\\lzorn\\.conda\\envs\\tm2_network_dev\\lib\\site-packages\\numpy\\core\\fromnumeric.py:3162: VisibleDeprecationWarning: Creating an ndarray from ragged nested sequences (which is a list-or-tuple of lists-or-tuples-or ndarrays with different lengths or shapes) is deprecated. If you meant to do this, you must specify 'dtype=object' when creating the ndarray.\n",
      "  return asarray(a).ndim\n",
      "C:\\Users\\lzorn\\.conda\\envs\\tm2_network_dev\\lib\\site-packages\\numpy\\core\\fromnumeric.py:3162: VisibleDeprecationWarning: Creating an ndarray from ragged nested sequences (which is a list-or-tuple of lists-or-tuples-or ndarrays with different lengths or shapes) is deprecated. If you meant to do this, you must specify 'dtype=object' when creating the ndarray.\n",
      "  return asarray(a).ndim\n",
      "C:\\Users\\lzorn\\.conda\\envs\\tm2_network_dev\\lib\\site-packages\\numpy\\core\\fromnumeric.py:3162: VisibleDeprecationWarning: Creating an ndarray from ragged nested sequences (which is a list-or-tuple of lists-or-tuples-or ndarrays with different lengths or shapes) is deprecated. If you meant to do this, you must specify 'dtype=object' when creating the ndarray.\n",
      "  return asarray(a).ndim\n",
      "C:\\Users\\lzorn\\.conda\\envs\\tm2_network_dev\\lib\\site-packages\\numpy\\core\\fromnumeric.py:3162: VisibleDeprecationWarning: Creating an ndarray from ragged nested sequences (which is a list-or-tuple of lists-or-tuples-or ndarrays with different lengths or shapes) is deprecated. If you meant to do this, you must specify 'dtype=object' when creating the ndarray.\n",
      "  return asarray(a).ndim\n",
      "C:\\Users\\lzorn\\.conda\\envs\\tm2_network_dev\\lib\\site-packages\\numpy\\core\\fromnumeric.py:3162: VisibleDeprecationWarning: Creating an ndarray from ragged nested sequences (which is a list-or-tuple of lists-or-tuples-or ndarrays with different lengths or shapes) is deprecated. If you meant to do this, you must specify 'dtype=object' when creating the ndarray.\n",
      "  return asarray(a).ndim\n",
      "C:\\Users\\lzorn\\.conda\\envs\\tm2_network_dev\\lib\\site-packages\\numpy\\core\\fromnumeric.py:3162: VisibleDeprecationWarning: Creating an ndarray from ragged nested sequences (which is a list-or-tuple of lists-or-tuples-or ndarrays with different lengths or shapes) is deprecated. If you meant to do this, you must specify 'dtype=object' when creating the ndarray.\n",
      "  return asarray(a).ndim\n",
      "C:\\Users\\lzorn\\.conda\\envs\\tm2_network_dev\\lib\\site-packages\\numpy\\core\\fromnumeric.py:3162: VisibleDeprecationWarning: Creating an ndarray from ragged nested sequences (which is a list-or-tuple of lists-or-tuples-or ndarrays with different lengths or shapes) is deprecated. If you meant to do this, you must specify 'dtype=object' when creating the ndarray.\n",
      "  return asarray(a).ndim\n",
      "C:\\Users\\lzorn\\.conda\\envs\\tm2_network_dev\\lib\\site-packages\\numpy\\core\\fromnumeric.py:3162: VisibleDeprecationWarning: Creating an ndarray from ragged nested sequences (which is a list-or-tuple of lists-or-tuples-or ndarrays with different lengths or shapes) is deprecated. If you meant to do this, you must specify 'dtype=object' when creating the ndarray.\n",
      "  return asarray(a).ndim\n",
      "C:\\Users\\lzorn\\.conda\\envs\\tm2_network_dev\\lib\\site-packages\\numpy\\core\\fromnumeric.py:3162: VisibleDeprecationWarning: Creating an ndarray from ragged nested sequences (which is a list-or-tuple of lists-or-tuples-or ndarrays with different lengths or shapes) is deprecated. If you meant to do this, you must specify 'dtype=object' when creating the ndarray.\n",
      "  return asarray(a).ndim\n"
     ]
    },
    {
     "name": "stdout",
     "output_type": "stream",
     "text": [
      "2022-01-20 13:20:51, INFO: Applying SFMTA Route M-OCEANVIEW\n",
      "2022-01-20 13:20:51, INFO: Applying Project to Transit Network: SFMTA Route M-OCEANVIEW\n",
      "2022-01-20 13:20:52, WARNING: Missing connections from node 1010056 to node 1001634 for the new routing, find complete path using default graph\n",
      "2022-01-20 13:20:52, INFO: Routing path from node 1010056 to node 1001634 for missing connections: ['1010056', '1001320', '1001634'].\n",
      "2022-01-20 13:20:52, WARNING: Missing connections from node 1008652 to node 1002555 for the new routing, find complete path using default graph\n",
      "2022-01-20 13:20:52, INFO: Routing path from node 1008652 to node 1002555 for missing connections: ['1008652', '1010065', '1002555'].\n",
      "2022-01-20 13:20:52, WARNING: Missing connections from node 1002555 to node 1012377 for the new routing, find complete path using default graph\n",
      "2022-01-20 13:20:52, INFO: Routing path from node 1002555 to node 1012377 for missing connections: ['1002555', '1013201', '1012377'].\n",
      "2022-01-20 13:20:53, INFO: Creating a new stop in stops.txt for node ID: 1000377\n",
      "2022-01-20 13:20:53, INFO: Creating a new stop in stops.txt for node ID: 1012377\n",
      "2022-01-20 13:20:53, INFO: Creating a new stop in stops.txt for node ID: 1013720\n"
     ]
    },
    {
     "name": "stderr",
     "output_type": "stream",
     "text": [
      "C:\\Users\\lzorn\\.conda\\envs\\tm2_network_dev\\lib\\site-packages\\numpy\\core\\fromnumeric.py:3162: VisibleDeprecationWarning: Creating an ndarray from ragged nested sequences (which is a list-or-tuple of lists-or-tuples-or ndarrays with different lengths or shapes) is deprecated. If you meant to do this, you must specify 'dtype=object' when creating the ndarray.\n",
      "  return asarray(a).ndim\n",
      "C:\\Users\\lzorn\\.conda\\envs\\tm2_network_dev\\lib\\site-packages\\numpy\\core\\fromnumeric.py:3162: VisibleDeprecationWarning: Creating an ndarray from ragged nested sequences (which is a list-or-tuple of lists-or-tuples-or ndarrays with different lengths or shapes) is deprecated. If you meant to do this, you must specify 'dtype=object' when creating the ndarray.\n",
      "  return asarray(a).ndim\n",
      "C:\\Users\\lzorn\\.conda\\envs\\tm2_network_dev\\lib\\site-packages\\numpy\\core\\fromnumeric.py:3162: VisibleDeprecationWarning: Creating an ndarray from ragged nested sequences (which is a list-or-tuple of lists-or-tuples-or ndarrays with different lengths or shapes) is deprecated. If you meant to do this, you must specify 'dtype=object' when creating the ndarray.\n",
      "  return asarray(a).ndim\n"
     ]
    },
    {
     "name": "stdout",
     "output_type": "stream",
     "text": [
      "2022-01-20 13:20:55, INFO: Applying SFMTA Route L-TARAVAL\n",
      "2022-01-20 13:20:55, INFO: Applying SFMTA Route L-TARAVAL\n",
      "2022-01-20 13:20:55, INFO: Applying Project to Transit Network: SFMTA Route L-TARAVAL\n",
      "2022-01-20 13:20:55, WARNING: Missing connections from node 1005568 to node 1013552 for the new routing, find complete path using default graph\n",
      "2022-01-20 13:20:55, INFO: Routing path from node 1005568 to node 1013552 for missing connections: ['1005568', '1019992', '1013552'].\n",
      "2022-01-20 13:20:55, WARNING: Missing connections from node 1017635 to node 1006289 for the new routing, find complete path using default graph\n",
      "2022-01-20 13:20:55, INFO: Routing path from node 1017635 to node 1006289 for missing connections: ['1017635', '1022835', '1019853', '1006289'].\n",
      "2022-01-20 13:20:55, WARNING: Missing connections from node 1005078 to node 1014447 for the new routing, find complete path using default graph\n",
      "2022-01-20 13:20:55, INFO: Routing path from node 1005078 to node 1014447 for missing connections: ['1005078', '1005726', '1014447'].\n",
      "2022-01-20 13:20:55, WARNING: Missing connections from node 1019808 to node 1007548 for the new routing, find complete path using default graph\n",
      "2022-01-20 13:20:55, INFO: Routing path from node 1019808 to node 1007548 for missing connections: ['1019808', '1010715', '1007548'].\n",
      "2022-01-20 13:20:55, WARNING: Missing connections from node 1010006 to node 1020991 for the new routing, find complete path using default graph\n",
      "2022-01-20 13:20:55, INFO: Routing path from node 1010006 to node 1020991 for missing connections: ['1010006', '1009184', '1020991'].\n",
      "2022-01-20 13:20:55, WARNING: Missing connections from node 1003348 to node 1013660 for the new routing, find complete path using default graph\n",
      "2022-01-20 13:20:55, INFO: Routing path from node 1003348 to node 1013660 for missing connections: ['1003348', '1003069', '1013660'].\n",
      "2022-01-20 13:20:55, WARNING: Missing connections from node 1011470 to node 1008991 for the new routing, find complete path using default graph\n",
      "2022-01-20 13:20:55, INFO: Routing path from node 1011470 to node 1008991 for missing connections: ['1011470', '1000852', '1020806', '1008991'].\n",
      "2022-01-20 13:20:55, WARNING: Missing connections from node 1002303 to node 1019673 for the new routing, find complete path using default graph\n",
      "2022-01-20 13:20:55, INFO: Routing path from node 1002303 to node 1019673 for missing connections: ['1002303', '1023770', '1019673'].\n",
      "2022-01-20 13:20:56, INFO: Creating a new stop in stops.txt for node ID: 1006966\n",
      "2022-01-20 13:20:56, INFO: Creating a new stop in stops.txt for node ID: 1003268\n",
      "2022-01-20 13:20:56, INFO: Creating a new stop in stops.txt for node ID: 1013552\n",
      "2022-01-20 13:20:56, INFO: Creating a new stop in stops.txt for node ID: 1006289\n",
      "2022-01-20 13:20:56, INFO: Creating a new stop in stops.txt for node ID: 1006382\n",
      "2022-01-20 13:20:56, INFO: Creating a new stop in stops.txt for node ID: 1014447\n",
      "2022-01-20 13:20:56, INFO: Creating a new stop in stops.txt for node ID: 1012442\n",
      "2022-01-20 13:20:56, INFO: Creating a new stop in stops.txt for node ID: 1007548\n",
      "2022-01-20 13:20:56, INFO: Creating a new stop in stops.txt for node ID: 1020991\n",
      "2022-01-20 13:20:56, INFO: Creating a new stop in stops.txt for node ID: 1015462\n",
      "2022-01-20 13:20:56, INFO: Creating a new stop in stops.txt for node ID: 1020424\n",
      "2022-01-20 13:20:56, INFO: Creating a new stop in stops.txt for node ID: 1013660\n",
      "2022-01-20 13:20:56, INFO: Creating a new stop in stops.txt for node ID: 1008991\n"
     ]
    },
    {
     "name": "stderr",
     "output_type": "stream",
     "text": [
      "C:\\Users\\lzorn\\.conda\\envs\\tm2_network_dev\\lib\\site-packages\\numpy\\core\\fromnumeric.py:3162: VisibleDeprecationWarning: Creating an ndarray from ragged nested sequences (which is a list-or-tuple of lists-or-tuples-or ndarrays with different lengths or shapes) is deprecated. If you meant to do this, you must specify 'dtype=object' when creating the ndarray.\n",
      "  return asarray(a).ndim\n",
      "C:\\Users\\lzorn\\.conda\\envs\\tm2_network_dev\\lib\\site-packages\\numpy\\core\\fromnumeric.py:3162: VisibleDeprecationWarning: Creating an ndarray from ragged nested sequences (which is a list-or-tuple of lists-or-tuples-or ndarrays with different lengths or shapes) is deprecated. If you meant to do this, you must specify 'dtype=object' when creating the ndarray.\n",
      "  return asarray(a).ndim\n",
      "C:\\Users\\lzorn\\.conda\\envs\\tm2_network_dev\\lib\\site-packages\\numpy\\core\\fromnumeric.py:3162: VisibleDeprecationWarning: Creating an ndarray from ragged nested sequences (which is a list-or-tuple of lists-or-tuples-or ndarrays with different lengths or shapes) is deprecated. If you meant to do this, you must specify 'dtype=object' when creating the ndarray.\n",
      "  return asarray(a).ndim\n",
      "C:\\Users\\lzorn\\.conda\\envs\\tm2_network_dev\\lib\\site-packages\\numpy\\core\\fromnumeric.py:3162: VisibleDeprecationWarning: Creating an ndarray from ragged nested sequences (which is a list-or-tuple of lists-or-tuples-or ndarrays with different lengths or shapes) is deprecated. If you meant to do this, you must specify 'dtype=object' when creating the ndarray.\n",
      "  return asarray(a).ndim\n",
      "C:\\Users\\lzorn\\.conda\\envs\\tm2_network_dev\\lib\\site-packages\\numpy\\core\\fromnumeric.py:3162: VisibleDeprecationWarning: Creating an ndarray from ragged nested sequences (which is a list-or-tuple of lists-or-tuples-or ndarrays with different lengths or shapes) is deprecated. If you meant to do this, you must specify 'dtype=object' when creating the ndarray.\n",
      "  return asarray(a).ndim\n",
      "C:\\Users\\lzorn\\.conda\\envs\\tm2_network_dev\\lib\\site-packages\\numpy\\core\\fromnumeric.py:3162: VisibleDeprecationWarning: Creating an ndarray from ragged nested sequences (which is a list-or-tuple of lists-or-tuples-or ndarrays with different lengths or shapes) is deprecated. If you meant to do this, you must specify 'dtype=object' when creating the ndarray.\n",
      "  return asarray(a).ndim\n",
      "C:\\Users\\lzorn\\.conda\\envs\\tm2_network_dev\\lib\\site-packages\\numpy\\core\\fromnumeric.py:3162: VisibleDeprecationWarning: Creating an ndarray from ragged nested sequences (which is a list-or-tuple of lists-or-tuples-or ndarrays with different lengths or shapes) is deprecated. If you meant to do this, you must specify 'dtype=object' when creating the ndarray.\n",
      "  return asarray(a).ndim\n",
      "C:\\Users\\lzorn\\.conda\\envs\\tm2_network_dev\\lib\\site-packages\\numpy\\core\\fromnumeric.py:3162: VisibleDeprecationWarning: Creating an ndarray from ragged nested sequences (which is a list-or-tuple of lists-or-tuples-or ndarrays with different lengths or shapes) is deprecated. If you meant to do this, you must specify 'dtype=object' when creating the ndarray.\n",
      "  return asarray(a).ndim\n",
      "C:\\Users\\lzorn\\.conda\\envs\\tm2_network_dev\\lib\\site-packages\\numpy\\core\\fromnumeric.py:3162: VisibleDeprecationWarning: Creating an ndarray from ragged nested sequences (which is a list-or-tuple of lists-or-tuples-or ndarrays with different lengths or shapes) is deprecated. If you meant to do this, you must specify 'dtype=object' when creating the ndarray.\n",
      "  return asarray(a).ndim\n",
      "C:\\Users\\lzorn\\.conda\\envs\\tm2_network_dev\\lib\\site-packages\\numpy\\core\\fromnumeric.py:3162: VisibleDeprecationWarning: Creating an ndarray from ragged nested sequences (which is a list-or-tuple of lists-or-tuples-or ndarrays with different lengths or shapes) is deprecated. If you meant to do this, you must specify 'dtype=object' when creating the ndarray.\n",
      "  return asarray(a).ndim\n",
      "C:\\Users\\lzorn\\.conda\\envs\\tm2_network_dev\\lib\\site-packages\\numpy\\core\\fromnumeric.py:3162: VisibleDeprecationWarning: Creating an ndarray from ragged nested sequences (which is a list-or-tuple of lists-or-tuples-or ndarrays with different lengths or shapes) is deprecated. If you meant to do this, you must specify 'dtype=object' when creating the ndarray.\n",
      "  return asarray(a).ndim\n",
      "C:\\Users\\lzorn\\.conda\\envs\\tm2_network_dev\\lib\\site-packages\\numpy\\core\\fromnumeric.py:3162: VisibleDeprecationWarning: Creating an ndarray from ragged nested sequences (which is a list-or-tuple of lists-or-tuples-or ndarrays with different lengths or shapes) is deprecated. If you meant to do this, you must specify 'dtype=object' when creating the ndarray.\n",
      "  return asarray(a).ndim\n",
      "C:\\Users\\lzorn\\.conda\\envs\\tm2_network_dev\\lib\\site-packages\\numpy\\core\\fromnumeric.py:3162: VisibleDeprecationWarning: Creating an ndarray from ragged nested sequences (which is a list-or-tuple of lists-or-tuples-or ndarrays with different lengths or shapes) is deprecated. If you meant to do this, you must specify 'dtype=object' when creating the ndarray.\n",
      "  return asarray(a).ndim\n"
     ]
    },
    {
     "name": "stdout",
     "output_type": "stream",
     "text": [
      "2022-01-20 13:20:56, INFO: Creating a new stop in stops.txt for node ID: 1024647\n",
      "2022-01-20 13:20:56, INFO: Creating a new stop in stops.txt for node ID: 1002303\n",
      "2022-01-20 13:20:56, INFO: Creating a new stop in stops.txt for node ID: 1019673\n",
      "2022-01-20 13:20:56, INFO: Creating a new stop in stops.txt for node ID: 1009253\n"
     ]
    },
    {
     "name": "stderr",
     "output_type": "stream",
     "text": [
      "C:\\Users\\lzorn\\.conda\\envs\\tm2_network_dev\\lib\\site-packages\\numpy\\core\\fromnumeric.py:3162: VisibleDeprecationWarning: Creating an ndarray from ragged nested sequences (which is a list-or-tuple of lists-or-tuples-or ndarrays with different lengths or shapes) is deprecated. If you meant to do this, you must specify 'dtype=object' when creating the ndarray.\n",
      "  return asarray(a).ndim\n",
      "C:\\Users\\lzorn\\.conda\\envs\\tm2_network_dev\\lib\\site-packages\\numpy\\core\\fromnumeric.py:3162: VisibleDeprecationWarning: Creating an ndarray from ragged nested sequences (which is a list-or-tuple of lists-or-tuples-or ndarrays with different lengths or shapes) is deprecated. If you meant to do this, you must specify 'dtype=object' when creating the ndarray.\n",
      "  return asarray(a).ndim\n",
      "C:\\Users\\lzorn\\.conda\\envs\\tm2_network_dev\\lib\\site-packages\\numpy\\core\\fromnumeric.py:3162: VisibleDeprecationWarning: Creating an ndarray from ragged nested sequences (which is a list-or-tuple of lists-or-tuples-or ndarrays with different lengths or shapes) is deprecated. If you meant to do this, you must specify 'dtype=object' when creating the ndarray.\n",
      "  return asarray(a).ndim\n",
      "C:\\Users\\lzorn\\.conda\\envs\\tm2_network_dev\\lib\\site-packages\\numpy\\core\\fromnumeric.py:3162: VisibleDeprecationWarning: Creating an ndarray from ragged nested sequences (which is a list-or-tuple of lists-or-tuples-or ndarrays with different lengths or shapes) is deprecated. If you meant to do this, you must specify 'dtype=object' when creating the ndarray.\n",
      "  return asarray(a).ndim\n"
     ]
    },
    {
     "name": "stdout",
     "output_type": "stream",
     "text": [
      "2022-01-20 13:20:57, INFO: Applying SFMTA Route L-TARAVAL\n",
      "2022-01-20 13:20:57, INFO: Applying Project to Transit Network: SFMTA Route L-TARAVAL\n",
      "2022-01-20 13:20:58, WARNING: Missing connections from node 1019673 to node 1002303 for the new routing, find complete path using default graph\n",
      "2022-01-20 13:20:58, INFO: Routing path from node 1019673 to node 1002303 for missing connections: ['1019673', '1023770', '1002303'].\n",
      "2022-01-20 13:20:58, WARNING: Missing connections from node 1002024 to node 1011130 for the new routing, find complete path using default graph\n",
      "2022-01-20 13:20:58, INFO: Routing path from node 1002024 to node 1011130 for missing connections: ['1002024', '1007929', '1011130'].\n",
      "2022-01-20 13:20:58, WARNING: Missing connections from node 1009968 to node 1013660 for the new routing, find complete path using default graph\n",
      "2022-01-20 13:20:58, INFO: Routing path from node 1009968 to node 1013660 for missing connections: ['1009968', '1007821', '1013660'].\n",
      "2022-01-20 13:20:58, WARNING: Missing connections from node 1007093 to node 1007548 for the new routing, find complete path using default graph\n",
      "2022-01-20 13:20:58, INFO: Routing path from node 1007093 to node 1007548 for missing connections: ['1007093', '1005081', '1007548'].\n",
      "2022-01-20 13:20:58, WARNING: Missing connections from node 1011729 to node 1018891 for the new routing, find complete path using default graph\n",
      "2022-01-20 13:20:58, INFO: Routing path from node 1011729 to node 1018891 for missing connections: ['1011729', '1004242', '1018891'].\n",
      "2022-01-20 13:20:58, WARNING: Missing connections from node 1002002 to node 1006382 for the new routing, find complete path using default graph\n",
      "2022-01-20 13:20:58, INFO: Routing path from node 1002002 to node 1006382 for missing connections: ['1002002', '1002135', '1006382'].\n",
      "2022-01-20 13:20:58, WARNING: Missing connections from node 1008318 to node 1006289 for the new routing, find complete path using default graph\n",
      "2022-01-20 13:20:58, INFO: Routing path from node 1008318 to node 1006289 for missing connections: ['1008318', '1003391', '1011199', '1006289'].\n",
      "2022-01-20 13:20:58, WARNING: Missing connections from node 1017635 to node 1013552 for the new routing, find complete path using default graph\n",
      "2022-01-20 13:20:58, INFO: Routing path from node 1017635 to node 1013552 for missing connections: ['1017635', '1023261', '1013552'].\n",
      "2022-01-20 13:20:58, INFO: Creating a new stop in stops.txt for node ID: 1011130\n",
      "2022-01-20 13:20:58, INFO: Creating a new stop in stops.txt for node ID: 1018891\n"
     ]
    },
    {
     "name": "stderr",
     "output_type": "stream",
     "text": [
      "C:\\Users\\lzorn\\.conda\\envs\\tm2_network_dev\\lib\\site-packages\\numpy\\core\\fromnumeric.py:3162: VisibleDeprecationWarning: Creating an ndarray from ragged nested sequences (which is a list-or-tuple of lists-or-tuples-or ndarrays with different lengths or shapes) is deprecated. If you meant to do this, you must specify 'dtype=object' when creating the ndarray.\n",
      "  return asarray(a).ndim\n",
      "C:\\Users\\lzorn\\.conda\\envs\\tm2_network_dev\\lib\\site-packages\\numpy\\core\\fromnumeric.py:3162: VisibleDeprecationWarning: Creating an ndarray from ragged nested sequences (which is a list-or-tuple of lists-or-tuples-or ndarrays with different lengths or shapes) is deprecated. If you meant to do this, you must specify 'dtype=object' when creating the ndarray.\n",
      "  return asarray(a).ndim\n"
     ]
    },
    {
     "name": "stdout",
     "output_type": "stream",
     "text": [
      "2022-01-20 13:21:00, INFO: Applying SFMTA Route KT\n",
      "2022-01-20 13:21:00, INFO: Applying SFMTA Route KT\n",
      "2022-01-20 13:21:00, INFO: Applying Project to Transit Network: SFMTA Route KT\n",
      "2022-01-20 13:21:01, WARNING: Missing connections from node 1015120 to node 1011908 for the new routing, find complete path using default graph\n",
      "2022-01-20 13:21:01, INFO: Routing path from node 1015120 to node 1011908 for missing connections: ['1015120', '1021285', '1011908'].\n",
      "2022-01-20 13:21:01, WARNING: Missing connections from node 1001369 to node 1003249 for the new routing, find complete path using default graph\n",
      "2022-01-20 13:21:01, INFO: Routing path from node 1001369 to node 1003249 for missing connections: ['1001369', '1002276', '1003249'].\n",
      "2022-01-20 13:21:01, WARNING: Missing connections from node 1017120 to node 1024171 for the new routing, find complete path using default graph\n",
      "2022-01-20 13:21:01, INFO: Routing path from node 1017120 to node 1024171 for missing connections: ['1017120', '1024566', '1024171'].\n",
      "2022-01-20 13:21:01, WARNING: Missing connections from node 1020314 to node 1023535 for the new routing, find complete path using default graph\n",
      "2022-01-20 13:21:01, INFO: Routing path from node 1020314 to node 1023535 for missing connections: ['1020314', '1006621', '1023535'].\n",
      "2022-01-20 13:21:01, WARNING: Missing connections from node 1019751 to node 1008736 for the new routing, find complete path using default graph\n",
      "2022-01-20 13:21:01, INFO: Routing path from node 1019751 to node 1008736 for missing connections: ['1019751', '1022088', '1008736'].\n",
      "2022-01-20 13:21:01, INFO: Creating a new stop in stops.txt for node ID: 1002867\n",
      "2022-01-20 13:21:01, INFO: Creating a new stop in stops.txt for node ID: 1018513\n",
      "2022-01-20 13:21:01, INFO: Creating a new stop in stops.txt for node ID: 1011908\n",
      "2022-01-20 13:21:01, INFO: Creating a new stop in stops.txt for node ID: 1016211\n",
      "2022-01-20 13:21:01, INFO: Creating a new stop in stops.txt for node ID: 1020504\n",
      "2022-01-20 13:21:01, INFO: Creating a new stop in stops.txt for node ID: 1003249\n",
      "2022-01-20 13:21:01, INFO: Creating a new stop in stops.txt for node ID: 1024171\n",
      "2022-01-20 13:21:01, INFO: Creating a new stop in stops.txt for node ID: 1023535\n",
      "2022-01-20 13:21:01, INFO: Creating a new stop in stops.txt for node ID: 1008736\n"
     ]
    },
    {
     "name": "stderr",
     "output_type": "stream",
     "text": [
      "C:\\Users\\lzorn\\.conda\\envs\\tm2_network_dev\\lib\\site-packages\\numpy\\core\\fromnumeric.py:3162: VisibleDeprecationWarning: Creating an ndarray from ragged nested sequences (which is a list-or-tuple of lists-or-tuples-or ndarrays with different lengths or shapes) is deprecated. If you meant to do this, you must specify 'dtype=object' when creating the ndarray.\n",
      "  return asarray(a).ndim\n",
      "C:\\Users\\lzorn\\.conda\\envs\\tm2_network_dev\\lib\\site-packages\\numpy\\core\\fromnumeric.py:3162: VisibleDeprecationWarning: Creating an ndarray from ragged nested sequences (which is a list-or-tuple of lists-or-tuples-or ndarrays with different lengths or shapes) is deprecated. If you meant to do this, you must specify 'dtype=object' when creating the ndarray.\n",
      "  return asarray(a).ndim\n",
      "C:\\Users\\lzorn\\.conda\\envs\\tm2_network_dev\\lib\\site-packages\\numpy\\core\\fromnumeric.py:3162: VisibleDeprecationWarning: Creating an ndarray from ragged nested sequences (which is a list-or-tuple of lists-or-tuples-or ndarrays with different lengths or shapes) is deprecated. If you meant to do this, you must specify 'dtype=object' when creating the ndarray.\n",
      "  return asarray(a).ndim\n",
      "C:\\Users\\lzorn\\.conda\\envs\\tm2_network_dev\\lib\\site-packages\\numpy\\core\\fromnumeric.py:3162: VisibleDeprecationWarning: Creating an ndarray from ragged nested sequences (which is a list-or-tuple of lists-or-tuples-or ndarrays with different lengths or shapes) is deprecated. If you meant to do this, you must specify 'dtype=object' when creating the ndarray.\n",
      "  return asarray(a).ndim\n",
      "C:\\Users\\lzorn\\.conda\\envs\\tm2_network_dev\\lib\\site-packages\\numpy\\core\\fromnumeric.py:3162: VisibleDeprecationWarning: Creating an ndarray from ragged nested sequences (which is a list-or-tuple of lists-or-tuples-or ndarrays with different lengths or shapes) is deprecated. If you meant to do this, you must specify 'dtype=object' when creating the ndarray.\n",
      "  return asarray(a).ndim\n",
      "C:\\Users\\lzorn\\.conda\\envs\\tm2_network_dev\\lib\\site-packages\\numpy\\core\\fromnumeric.py:3162: VisibleDeprecationWarning: Creating an ndarray from ragged nested sequences (which is a list-or-tuple of lists-or-tuples-or ndarrays with different lengths or shapes) is deprecated. If you meant to do this, you must specify 'dtype=object' when creating the ndarray.\n",
      "  return asarray(a).ndim\n",
      "C:\\Users\\lzorn\\.conda\\envs\\tm2_network_dev\\lib\\site-packages\\numpy\\core\\fromnumeric.py:3162: VisibleDeprecationWarning: Creating an ndarray from ragged nested sequences (which is a list-or-tuple of lists-or-tuples-or ndarrays with different lengths or shapes) is deprecated. If you meant to do this, you must specify 'dtype=object' when creating the ndarray.\n",
      "  return asarray(a).ndim\n",
      "C:\\Users\\lzorn\\.conda\\envs\\tm2_network_dev\\lib\\site-packages\\numpy\\core\\fromnumeric.py:3162: VisibleDeprecationWarning: Creating an ndarray from ragged nested sequences (which is a list-or-tuple of lists-or-tuples-or ndarrays with different lengths or shapes) is deprecated. If you meant to do this, you must specify 'dtype=object' when creating the ndarray.\n",
      "  return asarray(a).ndim\n",
      "C:\\Users\\lzorn\\.conda\\envs\\tm2_network_dev\\lib\\site-packages\\numpy\\core\\fromnumeric.py:3162: VisibleDeprecationWarning: Creating an ndarray from ragged nested sequences (which is a list-or-tuple of lists-or-tuples-or ndarrays with different lengths or shapes) is deprecated. If you meant to do this, you must specify 'dtype=object' when creating the ndarray.\n",
      "  return asarray(a).ndim\n"
     ]
    },
    {
     "name": "stdout",
     "output_type": "stream",
     "text": [
      "2022-01-20 13:21:02, INFO: Applying SFMTA Route KT\n",
      "2022-01-20 13:21:02, INFO: Applying Project to Transit Network: SFMTA Route KT\n",
      "2022-01-20 13:21:03, WARNING: Missing connections from node 1009392 to node 1008736 for the new routing, find complete path using default graph\n",
      "2022-01-20 13:21:03, INFO: Routing path from node 1009392 to node 1008736 for missing connections: ['1009392', '1007609', '1015177', '1008736'].\n",
      "2022-01-20 13:21:03, WARNING: Missing connections from node 1024144 to node 1023535 for the new routing, find complete path using default graph\n",
      "2022-01-20 13:21:03, INFO: Routing path from node 1024144 to node 1023535 for missing connections: ['1024144', '1013685', '1017832', '1023535'].\n",
      "2022-01-20 13:21:03, WARNING: Missing connections from node 1008901 to node 1024166 for the new routing, find complete path using default graph\n",
      "2022-01-20 13:21:03, INFO: Routing path from node 1008901 to node 1024166 for missing connections: ['1008901', '1002867', '1024166'].\n",
      "2022-01-20 13:21:03, INFO: Creating a new stop in stops.txt for node ID: 1012791\n",
      "2022-01-20 13:21:03, INFO: Creating a new stop in stops.txt for node ID: 1004257\n",
      "2022-01-20 13:21:03, INFO: Creating a new stop in stops.txt for node ID: 1012415\n",
      "2022-01-20 13:21:03, INFO: Creating a new stop in stops.txt for node ID: 1007766\n",
      "2022-01-20 13:21:03, INFO: Creating a new stop in stops.txt for node ID: 1024166\n"
     ]
    },
    {
     "name": "stderr",
     "output_type": "stream",
     "text": [
      "C:\\Users\\lzorn\\.conda\\envs\\tm2_network_dev\\lib\\site-packages\\numpy\\core\\fromnumeric.py:3162: VisibleDeprecationWarning: Creating an ndarray from ragged nested sequences (which is a list-or-tuple of lists-or-tuples-or ndarrays with different lengths or shapes) is deprecated. If you meant to do this, you must specify 'dtype=object' when creating the ndarray.\n",
      "  return asarray(a).ndim\n",
      "C:\\Users\\lzorn\\.conda\\envs\\tm2_network_dev\\lib\\site-packages\\numpy\\core\\fromnumeric.py:3162: VisibleDeprecationWarning: Creating an ndarray from ragged nested sequences (which is a list-or-tuple of lists-or-tuples-or ndarrays with different lengths or shapes) is deprecated. If you meant to do this, you must specify 'dtype=object' when creating the ndarray.\n",
      "  return asarray(a).ndim\n",
      "C:\\Users\\lzorn\\.conda\\envs\\tm2_network_dev\\lib\\site-packages\\numpy\\core\\fromnumeric.py:3162: VisibleDeprecationWarning: Creating an ndarray from ragged nested sequences (which is a list-or-tuple of lists-or-tuples-or ndarrays with different lengths or shapes) is deprecated. If you meant to do this, you must specify 'dtype=object' when creating the ndarray.\n",
      "  return asarray(a).ndim\n",
      "C:\\Users\\lzorn\\.conda\\envs\\tm2_network_dev\\lib\\site-packages\\numpy\\core\\fromnumeric.py:3162: VisibleDeprecationWarning: Creating an ndarray from ragged nested sequences (which is a list-or-tuple of lists-or-tuples-or ndarrays with different lengths or shapes) is deprecated. If you meant to do this, you must specify 'dtype=object' when creating the ndarray.\n",
      "  return asarray(a).ndim\n",
      "C:\\Users\\lzorn\\.conda\\envs\\tm2_network_dev\\lib\\site-packages\\numpy\\core\\fromnumeric.py:3162: VisibleDeprecationWarning: Creating an ndarray from ragged nested sequences (which is a list-or-tuple of lists-or-tuples-or ndarrays with different lengths or shapes) is deprecated. If you meant to do this, you must specify 'dtype=object' when creating the ndarray.\n",
      "  return asarray(a).ndim\n"
     ]
    },
    {
     "name": "stdout",
     "output_type": "stream",
     "text": [
      "2022-01-20 13:21:04, INFO: Applying SFMTA Route J-CHURCH\n",
      "2022-01-20 13:21:04, INFO: Applying SFMTA Route J-CHURCH\n",
      "2022-01-20 13:21:04, INFO: Applying Project to Transit Network: SFMTA Route J-CHURCH\n",
      "2022-01-20 13:21:06, INFO: Creating a new stop in stops.txt for node ID: 1015862\n",
      "2022-01-20 13:21:06, INFO: Creating a new stop in stops.txt for node ID: 1015733\n",
      "2022-01-20 13:21:06, INFO: Creating a new stop in stops.txt for node ID: 1011808\n",
      "2022-01-20 13:21:06, INFO: Creating a new stop in stops.txt for node ID: 1004956\n",
      "2022-01-20 13:21:06, INFO: Creating a new stop in stops.txt for node ID: 1003637\n"
     ]
    },
    {
     "name": "stderr",
     "output_type": "stream",
     "text": [
      "C:\\Users\\lzorn\\.conda\\envs\\tm2_network_dev\\lib\\site-packages\\numpy\\core\\fromnumeric.py:3162: VisibleDeprecationWarning: Creating an ndarray from ragged nested sequences (which is a list-or-tuple of lists-or-tuples-or ndarrays with different lengths or shapes) is deprecated. If you meant to do this, you must specify 'dtype=object' when creating the ndarray.\n",
      "  return asarray(a).ndim\n",
      "C:\\Users\\lzorn\\.conda\\envs\\tm2_network_dev\\lib\\site-packages\\numpy\\core\\fromnumeric.py:3162: VisibleDeprecationWarning: Creating an ndarray from ragged nested sequences (which is a list-or-tuple of lists-or-tuples-or ndarrays with different lengths or shapes) is deprecated. If you meant to do this, you must specify 'dtype=object' when creating the ndarray.\n",
      "  return asarray(a).ndim\n",
      "C:\\Users\\lzorn\\.conda\\envs\\tm2_network_dev\\lib\\site-packages\\numpy\\core\\fromnumeric.py:3162: VisibleDeprecationWarning: Creating an ndarray from ragged nested sequences (which is a list-or-tuple of lists-or-tuples-or ndarrays with different lengths or shapes) is deprecated. If you meant to do this, you must specify 'dtype=object' when creating the ndarray.\n",
      "  return asarray(a).ndim\n",
      "C:\\Users\\lzorn\\.conda\\envs\\tm2_network_dev\\lib\\site-packages\\numpy\\core\\fromnumeric.py:3162: VisibleDeprecationWarning: Creating an ndarray from ragged nested sequences (which is a list-or-tuple of lists-or-tuples-or ndarrays with different lengths or shapes) is deprecated. If you meant to do this, you must specify 'dtype=object' when creating the ndarray.\n",
      "  return asarray(a).ndim\n",
      "C:\\Users\\lzorn\\.conda\\envs\\tm2_network_dev\\lib\\site-packages\\numpy\\core\\fromnumeric.py:3162: VisibleDeprecationWarning: Creating an ndarray from ragged nested sequences (which is a list-or-tuple of lists-or-tuples-or ndarrays with different lengths or shapes) is deprecated. If you meant to do this, you must specify 'dtype=object' when creating the ndarray.\n",
      "  return asarray(a).ndim\n"
     ]
    },
    {
     "name": "stdout",
     "output_type": "stream",
     "text": [
      "2022-01-20 13:21:08, INFO: Applying SFMTA Route J-CHURCH\n",
      "2022-01-20 13:21:08, INFO: Applying Project to Transit Network: SFMTA Route J-CHURCH\n",
      "2022-01-20 13:21:08, WARNING: Missing connections from node 1013142 to node 1028012 for the new routing, find complete path using default graph\n",
      "2022-01-20 13:21:08, INFO: Routing path from node 1013142 to node 1028012 for missing connections: ['1013142', '1008816', '1028012'].\n",
      "2022-01-20 13:21:09, INFO: Creating a new stop in stops.txt for node ID: 1005725\n"
     ]
    },
    {
     "name": "stderr",
     "output_type": "stream",
     "text": [
      "C:\\Users\\lzorn\\.conda\\envs\\tm2_network_dev\\lib\\site-packages\\numpy\\core\\fromnumeric.py:3162: VisibleDeprecationWarning: Creating an ndarray from ragged nested sequences (which is a list-or-tuple of lists-or-tuples-or ndarrays with different lengths or shapes) is deprecated. If you meant to do this, you must specify 'dtype=object' when creating the ndarray.\n",
      "  return asarray(a).ndim\n"
     ]
    },
    {
     "name": "stdout",
     "output_type": "stream",
     "text": [
      "2022-01-20 13:21:11, INFO: Applying SFMTA Route CC-MASON\n",
      "2022-01-20 13:21:11, INFO: Applying SFMTA Route CC-MASON\n",
      "2022-01-20 13:21:11, INFO: Applying Project to Transit Network: SFMTA Route CC-MASON\n",
      "2022-01-20 13:21:12, INFO: Creating a new stop in stops.txt for node ID: 1016082\n",
      "2022-01-20 13:21:12, INFO: Creating a new stop in stops.txt for node ID: 1005453\n",
      "2022-01-20 13:21:12, INFO: Creating a new stop in stops.txt for node ID: 1003986\n",
      "2022-01-20 13:21:12, INFO: Creating a new stop in stops.txt for node ID: 1009050\n",
      "2022-01-20 13:21:12, INFO: Creating a new stop in stops.txt for node ID: 1003767\n",
      "2022-01-20 13:21:12, INFO: Creating a new stop in stops.txt for node ID: 1020931\n",
      "2022-01-20 13:21:12, INFO: Creating a new stop in stops.txt for node ID: 1020889\n",
      "2022-01-20 13:21:12, INFO: Creating a new stop in stops.txt for node ID: 1008363\n",
      "2022-01-20 13:21:12, INFO: Creating a new stop in stops.txt for node ID: 1014376\n"
     ]
    },
    {
     "name": "stderr",
     "output_type": "stream",
     "text": [
      "C:\\Users\\lzorn\\.conda\\envs\\tm2_network_dev\\lib\\site-packages\\numpy\\core\\fromnumeric.py:3162: VisibleDeprecationWarning: Creating an ndarray from ragged nested sequences (which is a list-or-tuple of lists-or-tuples-or ndarrays with different lengths or shapes) is deprecated. If you meant to do this, you must specify 'dtype=object' when creating the ndarray.\n",
      "  return asarray(a).ndim\n",
      "C:\\Users\\lzorn\\.conda\\envs\\tm2_network_dev\\lib\\site-packages\\numpy\\core\\fromnumeric.py:3162: VisibleDeprecationWarning: Creating an ndarray from ragged nested sequences (which is a list-or-tuple of lists-or-tuples-or ndarrays with different lengths or shapes) is deprecated. If you meant to do this, you must specify 'dtype=object' when creating the ndarray.\n",
      "  return asarray(a).ndim\n",
      "C:\\Users\\lzorn\\.conda\\envs\\tm2_network_dev\\lib\\site-packages\\numpy\\core\\fromnumeric.py:3162: VisibleDeprecationWarning: Creating an ndarray from ragged nested sequences (which is a list-or-tuple of lists-or-tuples-or ndarrays with different lengths or shapes) is deprecated. If you meant to do this, you must specify 'dtype=object' when creating the ndarray.\n",
      "  return asarray(a).ndim\n",
      "C:\\Users\\lzorn\\.conda\\envs\\tm2_network_dev\\lib\\site-packages\\numpy\\core\\fromnumeric.py:3162: VisibleDeprecationWarning: Creating an ndarray from ragged nested sequences (which is a list-or-tuple of lists-or-tuples-or ndarrays with different lengths or shapes) is deprecated. If you meant to do this, you must specify 'dtype=object' when creating the ndarray.\n",
      "  return asarray(a).ndim\n",
      "C:\\Users\\lzorn\\.conda\\envs\\tm2_network_dev\\lib\\site-packages\\numpy\\core\\fromnumeric.py:3162: VisibleDeprecationWarning: Creating an ndarray from ragged nested sequences (which is a list-or-tuple of lists-or-tuples-or ndarrays with different lengths or shapes) is deprecated. If you meant to do this, you must specify 'dtype=object' when creating the ndarray.\n",
      "  return asarray(a).ndim\n",
      "C:\\Users\\lzorn\\.conda\\envs\\tm2_network_dev\\lib\\site-packages\\numpy\\core\\fromnumeric.py:3162: VisibleDeprecationWarning: Creating an ndarray from ragged nested sequences (which is a list-or-tuple of lists-or-tuples-or ndarrays with different lengths or shapes) is deprecated. If you meant to do this, you must specify 'dtype=object' when creating the ndarray.\n",
      "  return asarray(a).ndim\n",
      "C:\\Users\\lzorn\\.conda\\envs\\tm2_network_dev\\lib\\site-packages\\numpy\\core\\fromnumeric.py:3162: VisibleDeprecationWarning: Creating an ndarray from ragged nested sequences (which is a list-or-tuple of lists-or-tuples-or ndarrays with different lengths or shapes) is deprecated. If you meant to do this, you must specify 'dtype=object' when creating the ndarray.\n",
      "  return asarray(a).ndim\n",
      "C:\\Users\\lzorn\\.conda\\envs\\tm2_network_dev\\lib\\site-packages\\numpy\\core\\fromnumeric.py:3162: VisibleDeprecationWarning: Creating an ndarray from ragged nested sequences (which is a list-or-tuple of lists-or-tuples-or ndarrays with different lengths or shapes) is deprecated. If you meant to do this, you must specify 'dtype=object' when creating the ndarray.\n",
      "  return asarray(a).ndim\n",
      "C:\\Users\\lzorn\\.conda\\envs\\tm2_network_dev\\lib\\site-packages\\numpy\\core\\fromnumeric.py:3162: VisibleDeprecationWarning: Creating an ndarray from ragged nested sequences (which is a list-or-tuple of lists-or-tuples-or ndarrays with different lengths or shapes) is deprecated. If you meant to do this, you must specify 'dtype=object' when creating the ndarray.\n",
      "  return asarray(a).ndim\n"
     ]
    },
    {
     "name": "stdout",
     "output_type": "stream",
     "text": [
      "2022-01-20 13:21:13, INFO: Applying SFMTA Route CC-MASON\n",
      "2022-01-20 13:21:13, INFO: Applying Project to Transit Network: SFMTA Route CC-MASON\n",
      "2022-01-20 13:21:15, INFO: Applying SFMTA Route CC-HYDE\n",
      "2022-01-20 13:21:15, INFO: Applying SFMTA Route CC-HYDE\n",
      "2022-01-20 13:21:15, INFO: Applying Project to Transit Network: SFMTA Route CC-HYDE\n",
      "2022-01-20 13:21:16, INFO: Creating a new stop in stops.txt for node ID: 1021535\n",
      "2022-01-20 13:21:16, INFO: Creating a new stop in stops.txt for node ID: 1003219\n",
      "2022-01-20 13:21:16, INFO: Creating a new stop in stops.txt for node ID: 1011955\n",
      "2022-01-20 13:21:16, INFO: Creating a new stop in stops.txt for node ID: 1005554\n",
      "2022-01-20 13:21:16, INFO: Creating a new stop in stops.txt for node ID: 1013263\n",
      "2022-01-20 13:21:16, INFO: Creating a new stop in stops.txt for node ID: 1009321\n",
      "2022-01-20 13:21:16, INFO: Creating a new stop in stops.txt for node ID: 1005455\n",
      "2022-01-20 13:21:17, INFO: Creating a new stop in stops.txt for node ID: 1009828\n",
      "2022-01-20 13:21:17, INFO: Creating a new stop in stops.txt for node ID: 1015732\n",
      "2022-01-20 13:21:17, INFO: Creating a new stop in stops.txt for node ID: 1020423\n"
     ]
    },
    {
     "name": "stderr",
     "output_type": "stream",
     "text": [
      "C:\\Users\\lzorn\\.conda\\envs\\tm2_network_dev\\lib\\site-packages\\numpy\\core\\fromnumeric.py:3162: VisibleDeprecationWarning: Creating an ndarray from ragged nested sequences (which is a list-or-tuple of lists-or-tuples-or ndarrays with different lengths or shapes) is deprecated. If you meant to do this, you must specify 'dtype=object' when creating the ndarray.\n",
      "  return asarray(a).ndim\n",
      "C:\\Users\\lzorn\\.conda\\envs\\tm2_network_dev\\lib\\site-packages\\numpy\\core\\fromnumeric.py:3162: VisibleDeprecationWarning: Creating an ndarray from ragged nested sequences (which is a list-or-tuple of lists-or-tuples-or ndarrays with different lengths or shapes) is deprecated. If you meant to do this, you must specify 'dtype=object' when creating the ndarray.\n",
      "  return asarray(a).ndim\n",
      "C:\\Users\\lzorn\\.conda\\envs\\tm2_network_dev\\lib\\site-packages\\numpy\\core\\fromnumeric.py:3162: VisibleDeprecationWarning: Creating an ndarray from ragged nested sequences (which is a list-or-tuple of lists-or-tuples-or ndarrays with different lengths or shapes) is deprecated. If you meant to do this, you must specify 'dtype=object' when creating the ndarray.\n",
      "  return asarray(a).ndim\n",
      "C:\\Users\\lzorn\\.conda\\envs\\tm2_network_dev\\lib\\site-packages\\numpy\\core\\fromnumeric.py:3162: VisibleDeprecationWarning: Creating an ndarray from ragged nested sequences (which is a list-or-tuple of lists-or-tuples-or ndarrays with different lengths or shapes) is deprecated. If you meant to do this, you must specify 'dtype=object' when creating the ndarray.\n",
      "  return asarray(a).ndim\n",
      "C:\\Users\\lzorn\\.conda\\envs\\tm2_network_dev\\lib\\site-packages\\numpy\\core\\fromnumeric.py:3162: VisibleDeprecationWarning: Creating an ndarray from ragged nested sequences (which is a list-or-tuple of lists-or-tuples-or ndarrays with different lengths or shapes) is deprecated. If you meant to do this, you must specify 'dtype=object' when creating the ndarray.\n",
      "  return asarray(a).ndim\n",
      "C:\\Users\\lzorn\\.conda\\envs\\tm2_network_dev\\lib\\site-packages\\numpy\\core\\fromnumeric.py:3162: VisibleDeprecationWarning: Creating an ndarray from ragged nested sequences (which is a list-or-tuple of lists-or-tuples-or ndarrays with different lengths or shapes) is deprecated. If you meant to do this, you must specify 'dtype=object' when creating the ndarray.\n",
      "  return asarray(a).ndim\n",
      "C:\\Users\\lzorn\\.conda\\envs\\tm2_network_dev\\lib\\site-packages\\numpy\\core\\fromnumeric.py:3162: VisibleDeprecationWarning: Creating an ndarray from ragged nested sequences (which is a list-or-tuple of lists-or-tuples-or ndarrays with different lengths or shapes) is deprecated. If you meant to do this, you must specify 'dtype=object' when creating the ndarray.\n",
      "  return asarray(a).ndim\n",
      "C:\\Users\\lzorn\\.conda\\envs\\tm2_network_dev\\lib\\site-packages\\numpy\\core\\fromnumeric.py:3162: VisibleDeprecationWarning: Creating an ndarray from ragged nested sequences (which is a list-or-tuple of lists-or-tuples-or ndarrays with different lengths or shapes) is deprecated. If you meant to do this, you must specify 'dtype=object' when creating the ndarray.\n",
      "  return asarray(a).ndim\n",
      "C:\\Users\\lzorn\\.conda\\envs\\tm2_network_dev\\lib\\site-packages\\numpy\\core\\fromnumeric.py:3162: VisibleDeprecationWarning: Creating an ndarray from ragged nested sequences (which is a list-or-tuple of lists-or-tuples-or ndarrays with different lengths or shapes) is deprecated. If you meant to do this, you must specify 'dtype=object' when creating the ndarray.\n",
      "  return asarray(a).ndim\n",
      "C:\\Users\\lzorn\\.conda\\envs\\tm2_network_dev\\lib\\site-packages\\numpy\\core\\fromnumeric.py:3162: VisibleDeprecationWarning: Creating an ndarray from ragged nested sequences (which is a list-or-tuple of lists-or-tuples-or ndarrays with different lengths or shapes) is deprecated. If you meant to do this, you must specify 'dtype=object' when creating the ndarray.\n",
      "  return asarray(a).ndim\n"
     ]
    },
    {
     "name": "stdout",
     "output_type": "stream",
     "text": [
      "2022-01-20 13:21:18, INFO: Applying SFMTA Route CC-HYDE\n",
      "2022-01-20 13:21:18, INFO: Applying Project to Transit Network: SFMTA Route CC-HYDE\n",
      "2022-01-20 13:21:19, INFO: Creating a new stop in stops.txt for node ID: 1009923\n",
      "2022-01-20 13:21:19, INFO: Creating a new stop in stops.txt for node ID: 1011805\n"
     ]
    },
    {
     "name": "stderr",
     "output_type": "stream",
     "text": [
      "C:\\Users\\lzorn\\.conda\\envs\\tm2_network_dev\\lib\\site-packages\\numpy\\core\\fromnumeric.py:3162: VisibleDeprecationWarning: Creating an ndarray from ragged nested sequences (which is a list-or-tuple of lists-or-tuples-or ndarrays with different lengths or shapes) is deprecated. If you meant to do this, you must specify 'dtype=object' when creating the ndarray.\n",
      "  return asarray(a).ndim\n",
      "C:\\Users\\lzorn\\.conda\\envs\\tm2_network_dev\\lib\\site-packages\\numpy\\core\\fromnumeric.py:3162: VisibleDeprecationWarning: Creating an ndarray from ragged nested sequences (which is a list-or-tuple of lists-or-tuples-or ndarrays with different lengths or shapes) is deprecated. If you meant to do this, you must specify 'dtype=object' when creating the ndarray.\n",
      "  return asarray(a).ndim\n"
     ]
    },
    {
     "name": "stdout",
     "output_type": "stream",
     "text": [
      "2022-01-20 13:21:20, INFO: Applying SFMTA Route CC-CALIF\n",
      "2022-01-20 13:21:20, INFO: Applying SFMTA Route CC-CALIF\n",
      "2022-01-20 13:21:20, INFO: Applying Project to Transit Network: SFMTA Route CC-CALIF\n",
      "2022-01-20 13:21:21, INFO: Creating a new stop in stops.txt for node ID: 1007769\n",
      "2022-01-20 13:21:21, INFO: Creating a new stop in stops.txt for node ID: 1003521\n",
      "2022-01-20 13:21:21, INFO: Creating a new stop in stops.txt for node ID: 1006517\n",
      "2022-01-20 13:21:21, INFO: Creating a new stop in stops.txt for node ID: 1020673\n",
      "2022-01-20 13:21:21, INFO: Creating a new stop in stops.txt for node ID: 1012033\n",
      "2022-01-20 13:21:21, INFO: Creating a new stop in stops.txt for node ID: 1002802\n",
      "2022-01-20 13:21:21, INFO: Creating a new stop in stops.txt for node ID: 1011826\n",
      "2022-01-20 13:21:21, INFO: Creating a new stop in stops.txt for node ID: 1007326\n",
      "2022-01-20 13:21:21, INFO: Creating a new stop in stops.txt for node ID: 1006292\n",
      "2022-01-20 13:21:21, INFO: Creating a new stop in stops.txt for node ID: 1017546\n"
     ]
    },
    {
     "name": "stderr",
     "output_type": "stream",
     "text": [
      "C:\\Users\\lzorn\\.conda\\envs\\tm2_network_dev\\lib\\site-packages\\numpy\\core\\fromnumeric.py:3162: VisibleDeprecationWarning: Creating an ndarray from ragged nested sequences (which is a list-or-tuple of lists-or-tuples-or ndarrays with different lengths or shapes) is deprecated. If you meant to do this, you must specify 'dtype=object' when creating the ndarray.\n",
      "  return asarray(a).ndim\n",
      "C:\\Users\\lzorn\\.conda\\envs\\tm2_network_dev\\lib\\site-packages\\numpy\\core\\fromnumeric.py:3162: VisibleDeprecationWarning: Creating an ndarray from ragged nested sequences (which is a list-or-tuple of lists-or-tuples-or ndarrays with different lengths or shapes) is deprecated. If you meant to do this, you must specify 'dtype=object' when creating the ndarray.\n",
      "  return asarray(a).ndim\n",
      "C:\\Users\\lzorn\\.conda\\envs\\tm2_network_dev\\lib\\site-packages\\numpy\\core\\fromnumeric.py:3162: VisibleDeprecationWarning: Creating an ndarray from ragged nested sequences (which is a list-or-tuple of lists-or-tuples-or ndarrays with different lengths or shapes) is deprecated. If you meant to do this, you must specify 'dtype=object' when creating the ndarray.\n",
      "  return asarray(a).ndim\n",
      "C:\\Users\\lzorn\\.conda\\envs\\tm2_network_dev\\lib\\site-packages\\numpy\\core\\fromnumeric.py:3162: VisibleDeprecationWarning: Creating an ndarray from ragged nested sequences (which is a list-or-tuple of lists-or-tuples-or ndarrays with different lengths or shapes) is deprecated. If you meant to do this, you must specify 'dtype=object' when creating the ndarray.\n",
      "  return asarray(a).ndim\n",
      "C:\\Users\\lzorn\\.conda\\envs\\tm2_network_dev\\lib\\site-packages\\numpy\\core\\fromnumeric.py:3162: VisibleDeprecationWarning: Creating an ndarray from ragged nested sequences (which is a list-or-tuple of lists-or-tuples-or ndarrays with different lengths or shapes) is deprecated. If you meant to do this, you must specify 'dtype=object' when creating the ndarray.\n",
      "  return asarray(a).ndim\n",
      "C:\\Users\\lzorn\\.conda\\envs\\tm2_network_dev\\lib\\site-packages\\numpy\\core\\fromnumeric.py:3162: VisibleDeprecationWarning: Creating an ndarray from ragged nested sequences (which is a list-or-tuple of lists-or-tuples-or ndarrays with different lengths or shapes) is deprecated. If you meant to do this, you must specify 'dtype=object' when creating the ndarray.\n",
      "  return asarray(a).ndim\n",
      "C:\\Users\\lzorn\\.conda\\envs\\tm2_network_dev\\lib\\site-packages\\numpy\\core\\fromnumeric.py:3162: VisibleDeprecationWarning: Creating an ndarray from ragged nested sequences (which is a list-or-tuple of lists-or-tuples-or ndarrays with different lengths or shapes) is deprecated. If you meant to do this, you must specify 'dtype=object' when creating the ndarray.\n",
      "  return asarray(a).ndim\n",
      "C:\\Users\\lzorn\\.conda\\envs\\tm2_network_dev\\lib\\site-packages\\numpy\\core\\fromnumeric.py:3162: VisibleDeprecationWarning: Creating an ndarray from ragged nested sequences (which is a list-or-tuple of lists-or-tuples-or ndarrays with different lengths or shapes) is deprecated. If you meant to do this, you must specify 'dtype=object' when creating the ndarray.\n",
      "  return asarray(a).ndim\n",
      "C:\\Users\\lzorn\\.conda\\envs\\tm2_network_dev\\lib\\site-packages\\numpy\\core\\fromnumeric.py:3162: VisibleDeprecationWarning: Creating an ndarray from ragged nested sequences (which is a list-or-tuple of lists-or-tuples-or ndarrays with different lengths or shapes) is deprecated. If you meant to do this, you must specify 'dtype=object' when creating the ndarray.\n",
      "  return asarray(a).ndim\n",
      "C:\\Users\\lzorn\\.conda\\envs\\tm2_network_dev\\lib\\site-packages\\numpy\\core\\fromnumeric.py:3162: VisibleDeprecationWarning: Creating an ndarray from ragged nested sequences (which is a list-or-tuple of lists-or-tuples-or ndarrays with different lengths or shapes) is deprecated. If you meant to do this, you must specify 'dtype=object' when creating the ndarray.\n",
      "  return asarray(a).ndim\n"
     ]
    },
    {
     "name": "stdout",
     "output_type": "stream",
     "text": [
      "2022-01-20 13:21:23, INFO: Applying SFMTA Route CC-CALIF\n",
      "2022-01-20 13:21:23, INFO: Applying Project to Transit Network: SFMTA Route CC-CALIF\n",
      "2022-01-20 13:21:24, INFO: Creating a new stop in stops.txt for node ID: 1013498\n"
     ]
    },
    {
     "name": "stderr",
     "output_type": "stream",
     "text": [
      "C:\\Users\\lzorn\\.conda\\envs\\tm2_network_dev\\lib\\site-packages\\numpy\\core\\fromnumeric.py:3162: VisibleDeprecationWarning: Creating an ndarray from ragged nested sequences (which is a list-or-tuple of lists-or-tuples-or ndarrays with different lengths or shapes) is deprecated. If you meant to do this, you must specify 'dtype=object' when creating the ndarray.\n",
      "  return asarray(a).ndim\n"
     ]
    },
    {
     "name": "stdout",
     "output_type": "stream",
     "text": [
      "2022-01-20 13:21:25, INFO: Applying SFMTA Route 9R\n",
      "2022-01-20 13:21:25, INFO: Applying SFMTA Route 9R\n",
      "2022-01-20 13:21:25, INFO: Applying Project to Transit Network: SFMTA Route 9R\n",
      "2022-01-20 13:21:26, INFO: Creating a new stop in stops.txt for node ID: 1010376\n"
     ]
    },
    {
     "name": "stderr",
     "output_type": "stream",
     "text": [
      "C:\\Users\\lzorn\\.conda\\envs\\tm2_network_dev\\lib\\site-packages\\numpy\\core\\fromnumeric.py:3162: VisibleDeprecationWarning: Creating an ndarray from ragged nested sequences (which is a list-or-tuple of lists-or-tuples-or ndarrays with different lengths or shapes) is deprecated. If you meant to do this, you must specify 'dtype=object' when creating the ndarray.\n",
      "  return asarray(a).ndim\n"
     ]
    },
    {
     "name": "stdout",
     "output_type": "stream",
     "text": [
      "2022-01-20 13:21:27, INFO: Applying SFMTA Route 5R\n",
      "2022-01-20 13:21:27, INFO: Applying SFMTA Route 5R\n",
      "2022-01-20 13:21:27, INFO: Applying Project to Transit Network: SFMTA Route 5R\n",
      "2022-01-20 13:21:28, INFO: Creating a new stop in stops.txt for node ID: 1003189\n"
     ]
    },
    {
     "name": "stderr",
     "output_type": "stream",
     "text": [
      "C:\\Users\\lzorn\\.conda\\envs\\tm2_network_dev\\lib\\site-packages\\numpy\\core\\fromnumeric.py:3162: VisibleDeprecationWarning: Creating an ndarray from ragged nested sequences (which is a list-or-tuple of lists-or-tuples-or ndarrays with different lengths or shapes) is deprecated. If you meant to do this, you must specify 'dtype=object' when creating the ndarray.\n",
      "  return asarray(a).ndim\n"
     ]
    },
    {
     "name": "stdout",
     "output_type": "stream",
     "text": [
      "2022-01-20 13:21:29, INFO: Applying SFMTA Route 49\n",
      "2022-01-20 13:21:29, INFO: Applying SFMTA Route 49\n",
      "2022-01-20 13:21:29, INFO: Applying Project to Transit Network: SFMTA Route 49\n",
      "2022-01-20 13:21:30, INFO: Creating a new stop in stops.txt for node ID: 1022456\n",
      "2022-01-20 13:21:30, INFO: Creating a new stop in stops.txt for node ID: 1010306\n"
     ]
    },
    {
     "name": "stderr",
     "output_type": "stream",
     "text": [
      "C:\\Users\\lzorn\\.conda\\envs\\tm2_network_dev\\lib\\site-packages\\numpy\\core\\fromnumeric.py:3162: VisibleDeprecationWarning: Creating an ndarray from ragged nested sequences (which is a list-or-tuple of lists-or-tuples-or ndarrays with different lengths or shapes) is deprecated. If you meant to do this, you must specify 'dtype=object' when creating the ndarray.\n",
      "  return asarray(a).ndim\n",
      "C:\\Users\\lzorn\\.conda\\envs\\tm2_network_dev\\lib\\site-packages\\numpy\\core\\fromnumeric.py:3162: VisibleDeprecationWarning: Creating an ndarray from ragged nested sequences (which is a list-or-tuple of lists-or-tuples-or ndarrays with different lengths or shapes) is deprecated. If you meant to do this, you must specify 'dtype=object' when creating the ndarray.\n",
      "  return asarray(a).ndim\n"
     ]
    },
    {
     "name": "stdout",
     "output_type": "stream",
     "text": [
      "2022-01-20 13:21:32, INFO: Applying SFMTA Route 49\n",
      "2022-01-20 13:21:32, INFO: Applying Project to Transit Network: SFMTA Route 49\n",
      "2022-01-20 13:21:32, WARNING: Missing connections from node 1007627 to node 1011039 for the new routing, find complete path using default graph\n",
      "2022-01-20 13:21:32, INFO: Routing path from node 1007627 to node 1011039 for missing connections: ['1007627', '1001749', '1011039'].\n",
      "2022-01-20 13:21:32, INFO: Creating a new stop in stops.txt for node ID: 1020532\n",
      "2022-01-20 13:21:33, INFO: Creating a new stop in stops.txt for node ID: 1018930\n",
      "2022-01-20 13:21:33, INFO: Creating a new stop in stops.txt for node ID: 1000609\n",
      "2022-01-20 13:21:33, INFO: Creating a new stop in stops.txt for node ID: 1014674\n"
     ]
    },
    {
     "name": "stderr",
     "output_type": "stream",
     "text": [
      "C:\\Users\\lzorn\\.conda\\envs\\tm2_network_dev\\lib\\site-packages\\numpy\\core\\fromnumeric.py:3162: VisibleDeprecationWarning: Creating an ndarray from ragged nested sequences (which is a list-or-tuple of lists-or-tuples-or ndarrays with different lengths or shapes) is deprecated. If you meant to do this, you must specify 'dtype=object' when creating the ndarray.\n",
      "  return asarray(a).ndim\n",
      "C:\\Users\\lzorn\\.conda\\envs\\tm2_network_dev\\lib\\site-packages\\numpy\\core\\fromnumeric.py:3162: VisibleDeprecationWarning: Creating an ndarray from ragged nested sequences (which is a list-or-tuple of lists-or-tuples-or ndarrays with different lengths or shapes) is deprecated. If you meant to do this, you must specify 'dtype=object' when creating the ndarray.\n",
      "  return asarray(a).ndim\n",
      "C:\\Users\\lzorn\\.conda\\envs\\tm2_network_dev\\lib\\site-packages\\numpy\\core\\fromnumeric.py:3162: VisibleDeprecationWarning: Creating an ndarray from ragged nested sequences (which is a list-or-tuple of lists-or-tuples-or ndarrays with different lengths or shapes) is deprecated. If you meant to do this, you must specify 'dtype=object' when creating the ndarray.\n",
      "  return asarray(a).ndim\n",
      "C:\\Users\\lzorn\\.conda\\envs\\tm2_network_dev\\lib\\site-packages\\numpy\\core\\fromnumeric.py:3162: VisibleDeprecationWarning: Creating an ndarray from ragged nested sequences (which is a list-or-tuple of lists-or-tuples-or ndarrays with different lengths or shapes) is deprecated. If you meant to do this, you must specify 'dtype=object' when creating the ndarray.\n",
      "  return asarray(a).ndim\n"
     ]
    },
    {
     "name": "stdout",
     "output_type": "stream",
     "text": [
      "2022-01-20 13:21:34, INFO: Applying SFMTA Route 45\n",
      "2022-01-20 13:21:34, INFO: Applying SFMTA Route 45\n",
      "2022-01-20 13:21:34, INFO: Applying Project to Transit Network: SFMTA Route 45\n",
      "2022-01-20 13:21:35, WARNING: Missing connections from node 1011382 to node 1007881 for the new routing, find complete path using default graph\n",
      "2022-01-20 13:21:35, INFO: Routing path from node 1011382 to node 1007881 for missing connections: ['1011382', '1004019', '1007881'].\n",
      "2022-01-20 13:21:35, INFO: Creating a new stop in stops.txt for node ID: 1000584\n",
      "2022-01-20 13:21:35, INFO: Creating a new stop in stops.txt for node ID: 1019862\n"
     ]
    },
    {
     "name": "stderr",
     "output_type": "stream",
     "text": [
      "C:\\Users\\lzorn\\.conda\\envs\\tm2_network_dev\\lib\\site-packages\\numpy\\core\\fromnumeric.py:3162: VisibleDeprecationWarning: Creating an ndarray from ragged nested sequences (which is a list-or-tuple of lists-or-tuples-or ndarrays with different lengths or shapes) is deprecated. If you meant to do this, you must specify 'dtype=object' when creating the ndarray.\n",
      "  return asarray(a).ndim\n",
      "C:\\Users\\lzorn\\.conda\\envs\\tm2_network_dev\\lib\\site-packages\\numpy\\core\\fromnumeric.py:3162: VisibleDeprecationWarning: Creating an ndarray from ragged nested sequences (which is a list-or-tuple of lists-or-tuples-or ndarrays with different lengths or shapes) is deprecated. If you meant to do this, you must specify 'dtype=object' when creating the ndarray.\n",
      "  return asarray(a).ndim\n"
     ]
    },
    {
     "name": "stdout",
     "output_type": "stream",
     "text": [
      "2022-01-20 13:21:36, INFO: Applying SFMTA Route 45\n",
      "2022-01-20 13:21:36, INFO: Applying Project to Transit Network: SFMTA Route 45\n",
      "2022-01-20 13:21:38, INFO: Applying SFMTA Route 44\n",
      "2022-01-20 13:21:38, INFO: Applying SFMTA Route 44\n",
      "2022-01-20 13:21:38, INFO: Applying Project to Transit Network: SFMTA Route 44\n",
      "2022-01-20 13:21:40, INFO: Creating a new stop in stops.txt for node ID: 1024186\n",
      "2022-01-20 13:21:40, INFO: Creating a new stop in stops.txt for node ID: 1005763\n"
     ]
    },
    {
     "name": "stderr",
     "output_type": "stream",
     "text": [
      "C:\\Users\\lzorn\\.conda\\envs\\tm2_network_dev\\lib\\site-packages\\numpy\\core\\fromnumeric.py:3162: VisibleDeprecationWarning: Creating an ndarray from ragged nested sequences (which is a list-or-tuple of lists-or-tuples-or ndarrays with different lengths or shapes) is deprecated. If you meant to do this, you must specify 'dtype=object' when creating the ndarray.\n",
      "  return asarray(a).ndim\n",
      "C:\\Users\\lzorn\\.conda\\envs\\tm2_network_dev\\lib\\site-packages\\numpy\\core\\fromnumeric.py:3162: VisibleDeprecationWarning: Creating an ndarray from ragged nested sequences (which is a list-or-tuple of lists-or-tuples-or ndarrays with different lengths or shapes) is deprecated. If you meant to do this, you must specify 'dtype=object' when creating the ndarray.\n",
      "  return asarray(a).ndim\n"
     ]
    },
    {
     "name": "stdout",
     "output_type": "stream",
     "text": [
      "2022-01-20 13:21:42, INFO: Applying SFMTA Route 44\n",
      "2022-01-20 13:21:42, INFO: Applying Project to Transit Network: SFMTA Route 44\n",
      "2022-01-20 13:21:43, WARNING: Missing connections from node 1009551 to node 1024579 for the new routing, find complete path using default graph\n",
      "2022-01-20 13:21:43, INFO: Routing path from node 1009551 to node 1024579 for missing connections: ['1009551', '1007693', '1024579'].\n",
      "2022-01-20 13:21:44, INFO: Creating a new stop in stops.txt for node ID: 1024579\n",
      "2022-01-20 13:21:44, INFO: Creating a new stop in stops.txt for node ID: 1020386\n"
     ]
    },
    {
     "name": "stderr",
     "output_type": "stream",
     "text": [
      "C:\\Users\\lzorn\\.conda\\envs\\tm2_network_dev\\lib\\site-packages\\numpy\\core\\fromnumeric.py:3162: VisibleDeprecationWarning: Creating an ndarray from ragged nested sequences (which is a list-or-tuple of lists-or-tuples-or ndarrays with different lengths or shapes) is deprecated. If you meant to do this, you must specify 'dtype=object' when creating the ndarray.\n",
      "  return asarray(a).ndim\n",
      "C:\\Users\\lzorn\\.conda\\envs\\tm2_network_dev\\lib\\site-packages\\numpy\\core\\fromnumeric.py:3162: VisibleDeprecationWarning: Creating an ndarray from ragged nested sequences (which is a list-or-tuple of lists-or-tuples-or ndarrays with different lengths or shapes) is deprecated. If you meant to do this, you must specify 'dtype=object' when creating the ndarray.\n",
      "  return asarray(a).ndim\n"
     ]
    },
    {
     "name": "stdout",
     "output_type": "stream",
     "text": [
      "2022-01-20 13:21:45, INFO: Applying SFMTA Route 43\n",
      "2022-01-20 13:21:45, INFO: Applying SFMTA Route 43\n",
      "2022-01-20 13:21:45, INFO: Applying Project to Transit Network: SFMTA Route 43\n",
      "2022-01-20 13:21:48, INFO: Applying SFMTA Route 43\n",
      "2022-01-20 13:21:48, INFO: Applying Project to Transit Network: SFMTA Route 43\n",
      "2022-01-20 13:21:50, INFO: Creating a new stop in stops.txt for node ID: 1018707\n"
     ]
    },
    {
     "name": "stderr",
     "output_type": "stream",
     "text": [
      "C:\\Users\\lzorn\\.conda\\envs\\tm2_network_dev\\lib\\site-packages\\numpy\\core\\fromnumeric.py:3162: VisibleDeprecationWarning: Creating an ndarray from ragged nested sequences (which is a list-or-tuple of lists-or-tuples-or ndarrays with different lengths or shapes) is deprecated. If you meant to do this, you must specify 'dtype=object' when creating the ndarray.\n",
      "  return asarray(a).ndim\n"
     ]
    },
    {
     "name": "stdout",
     "output_type": "stream",
     "text": [
      "2022-01-20 13:21:52, INFO: Applying SFMTA Route 38\n",
      "2022-01-20 13:21:52, INFO: Applying SFMTA Route 38\n",
      "2022-01-20 13:21:52, INFO: Applying Project to Transit Network: SFMTA Route 38\n",
      "2022-01-20 13:21:54, INFO: Creating a new stop in stops.txt for node ID: 1001027\n"
     ]
    },
    {
     "name": "stderr",
     "output_type": "stream",
     "text": [
      "C:\\Users\\lzorn\\.conda\\envs\\tm2_network_dev\\lib\\site-packages\\numpy\\core\\fromnumeric.py:3162: VisibleDeprecationWarning: Creating an ndarray from ragged nested sequences (which is a list-or-tuple of lists-or-tuples-or ndarrays with different lengths or shapes) is deprecated. If you meant to do this, you must specify 'dtype=object' when creating the ndarray.\n",
      "  return asarray(a).ndim\n"
     ]
    },
    {
     "name": "stdout",
     "output_type": "stream",
     "text": [
      "2022-01-20 13:21:55, INFO: Applying SFMTA Route 30\n",
      "2022-01-20 13:21:55, INFO: Applying SFMTA Route 30\n",
      "2022-01-20 13:21:55, INFO: Applying Project to Transit Network: SFMTA Route 30\n",
      "2022-01-20 13:21:56, WARNING: Missing connections from node 1011382 to node 1007881 for the new routing, find complete path using default graph\n",
      "2022-01-20 13:21:56, INFO: Routing path from node 1011382 to node 1007881 for missing connections: ['1011382', '1004019', '1007881'].\n",
      "2022-01-20 13:21:56, INFO: Creating a new stop in stops.txt for node ID: 1015493\n"
     ]
    },
    {
     "name": "stderr",
     "output_type": "stream",
     "text": [
      "C:\\Users\\lzorn\\.conda\\envs\\tm2_network_dev\\lib\\site-packages\\numpy\\core\\fromnumeric.py:3162: VisibleDeprecationWarning: Creating an ndarray from ragged nested sequences (which is a list-or-tuple of lists-or-tuples-or ndarrays with different lengths or shapes) is deprecated. If you meant to do this, you must specify 'dtype=object' when creating the ndarray.\n",
      "  return asarray(a).ndim\n"
     ]
    },
    {
     "name": "stdout",
     "output_type": "stream",
     "text": [
      "2022-01-20 13:21:57, INFO: Applying SFMTA Route 30\n",
      "2022-01-20 13:21:57, INFO: Applying Project to Transit Network: SFMTA Route 30\n",
      "2022-01-20 13:21:59, INFO: Creating a new stop in stops.txt for node ID: 1007878\n"
     ]
    },
    {
     "name": "stderr",
     "output_type": "stream",
     "text": [
      "C:\\Users\\lzorn\\.conda\\envs\\tm2_network_dev\\lib\\site-packages\\numpy\\core\\fromnumeric.py:3162: VisibleDeprecationWarning: Creating an ndarray from ragged nested sequences (which is a list-or-tuple of lists-or-tuples-or ndarrays with different lengths or shapes) is deprecated. If you meant to do this, you must specify 'dtype=object' when creating the ndarray.\n",
      "  return asarray(a).ndim\n"
     ]
    },
    {
     "name": "stdout",
     "output_type": "stream",
     "text": [
      "2022-01-20 13:22:00, INFO: Applying SFMTA Route 29\n",
      "2022-01-20 13:22:00, INFO: Applying SFMTA Route 29\n",
      "2022-01-20 13:22:00, INFO: Applying Project to Transit Network: SFMTA Route 29\n",
      "2022-01-20 13:22:01, WARNING: Missing connections from node 1010559 to node 1011829 for the new routing, find complete path using default graph\n",
      "2022-01-20 13:22:01, INFO: Routing path from node 1010559 to node 1011829 for missing connections: ['1010559', '1008302', '1011829'].\n",
      "2022-01-20 13:22:02, INFO: Creating a new stop in stops.txt for node ID: 1017018\n"
     ]
    },
    {
     "name": "stderr",
     "output_type": "stream",
     "text": [
      "C:\\Users\\lzorn\\.conda\\envs\\tm2_network_dev\\lib\\site-packages\\numpy\\core\\fromnumeric.py:3162: VisibleDeprecationWarning: Creating an ndarray from ragged nested sequences (which is a list-or-tuple of lists-or-tuples-or ndarrays with different lengths or shapes) is deprecated. If you meant to do this, you must specify 'dtype=object' when creating the ndarray.\n",
      "  return asarray(a).ndim\n"
     ]
    },
    {
     "name": "stdout",
     "output_type": "stream",
     "text": [
      "2022-01-20 13:22:04, INFO: Applying SFMTA Route 29\n",
      "2022-01-20 13:22:04, INFO: Applying Project to Transit Network: SFMTA Route 29\n",
      "2022-01-20 13:22:05, INFO: Creating a new stop in stops.txt for node ID: 1019000\n"
     ]
    },
    {
     "name": "stderr",
     "output_type": "stream",
     "text": [
      "C:\\Users\\lzorn\\.conda\\envs\\tm2_network_dev\\lib\\site-packages\\numpy\\core\\fromnumeric.py:3162: VisibleDeprecationWarning: Creating an ndarray from ragged nested sequences (which is a list-or-tuple of lists-or-tuples-or ndarrays with different lengths or shapes) is deprecated. If you meant to do this, you must specify 'dtype=object' when creating the ndarray.\n",
      "  return asarray(a).ndim\n"
     ]
    },
    {
     "name": "stdout",
     "output_type": "stream",
     "text": [
      "2022-01-20 13:22:06, INFO: Applying SFMTA Route 28\n",
      "2022-01-20 13:22:06, INFO: Applying SFMTA Route 28\n",
      "2022-01-20 13:22:06, INFO: Applying Project to Transit Network: SFMTA Route 28\n",
      "2022-01-20 13:22:07, INFO: Creating a new stop in stops.txt for node ID: 1011519\n"
     ]
    },
    {
     "name": "stderr",
     "output_type": "stream",
     "text": [
      "C:\\Users\\lzorn\\.conda\\envs\\tm2_network_dev\\lib\\site-packages\\numpy\\core\\fromnumeric.py:3162: VisibleDeprecationWarning: Creating an ndarray from ragged nested sequences (which is a list-or-tuple of lists-or-tuples-or ndarrays with different lengths or shapes) is deprecated. If you meant to do this, you must specify 'dtype=object' when creating the ndarray.\n",
      "  return asarray(a).ndim\n"
     ]
    },
    {
     "name": "stdout",
     "output_type": "stream",
     "text": [
      "2022-01-20 13:22:09, INFO: Applying SFMTA Route 28\n",
      "2022-01-20 13:22:09, INFO: Applying Project to Transit Network: SFMTA Route 28\n",
      "2022-01-20 13:22:10, WARNING: Missing connections from node 1017471 to node 1017471 for the new routing, find complete path using default graph\n",
      "2022-01-20 13:22:10, INFO: Routing path from node 1017471 to node 1017471 for missing connections: ['1017471'].\n",
      "2022-01-20 13:22:11, INFO: Creating a new stop in stops.txt for node ID: 1004389\n",
      "2022-01-20 13:22:11, INFO: Creating a new stop in stops.txt for node ID: 1015387\n",
      "2022-01-20 13:22:11, INFO: Creating a new stop in stops.txt for node ID: 1017471\n"
     ]
    },
    {
     "name": "stderr",
     "output_type": "stream",
     "text": [
      "C:\\Users\\lzorn\\.conda\\envs\\tm2_network_dev\\lib\\site-packages\\numpy\\core\\fromnumeric.py:3162: VisibleDeprecationWarning: Creating an ndarray from ragged nested sequences (which is a list-or-tuple of lists-or-tuples-or ndarrays with different lengths or shapes) is deprecated. If you meant to do this, you must specify 'dtype=object' when creating the ndarray.\n",
      "  return asarray(a).ndim\n",
      "C:\\Users\\lzorn\\.conda\\envs\\tm2_network_dev\\lib\\site-packages\\numpy\\core\\fromnumeric.py:3162: VisibleDeprecationWarning: Creating an ndarray from ragged nested sequences (which is a list-or-tuple of lists-or-tuples-or ndarrays with different lengths or shapes) is deprecated. If you meant to do this, you must specify 'dtype=object' when creating the ndarray.\n",
      "  return asarray(a).ndim\n",
      "C:\\Users\\lzorn\\.conda\\envs\\tm2_network_dev\\lib\\site-packages\\numpy\\core\\fromnumeric.py:3162: VisibleDeprecationWarning: Creating an ndarray from ragged nested sequences (which is a list-or-tuple of lists-or-tuples-or ndarrays with different lengths or shapes) is deprecated. If you meant to do this, you must specify 'dtype=object' when creating the ndarray.\n",
      "  return asarray(a).ndim\n"
     ]
    },
    {
     "name": "stdout",
     "output_type": "stream",
     "text": [
      "2022-01-20 13:22:12, INFO: Applying SFMTA Route 24\n",
      "2022-01-20 13:22:12, INFO: Applying SFMTA Route 24\n",
      "2022-01-20 13:22:12, INFO: Applying Project to Transit Network: SFMTA Route 24\n",
      "2022-01-20 13:22:13, INFO: Creating a new stop in stops.txt for node ID: 1004132\n"
     ]
    },
    {
     "name": "stderr",
     "output_type": "stream",
     "text": [
      "C:\\Users\\lzorn\\.conda\\envs\\tm2_network_dev\\lib\\site-packages\\numpy\\core\\fromnumeric.py:3162: VisibleDeprecationWarning: Creating an ndarray from ragged nested sequences (which is a list-or-tuple of lists-or-tuples-or ndarrays with different lengths or shapes) is deprecated. If you meant to do this, you must specify 'dtype=object' when creating the ndarray.\n",
      "  return asarray(a).ndim\n"
     ]
    },
    {
     "name": "stdout",
     "output_type": "stream",
     "text": [
      "2022-01-20 13:22:15, INFO: Applying SFMTA Route 24\n",
      "2022-01-20 13:22:15, INFO: Applying Project to Transit Network: SFMTA Route 24\n",
      "2022-01-20 13:22:17, INFO: Applying SFMTA Route 22\n",
      "2022-01-20 13:22:17, INFO: Applying SFMTA Route 22\n",
      "2022-01-20 13:22:17, INFO: Applying Project to Transit Network: SFMTA Route 22\n",
      "2022-01-20 13:22:18, INFO: Creating a new stop in stops.txt for node ID: 1018737\n",
      "2022-01-20 13:22:18, INFO: Creating a new stop in stops.txt for node ID: 1011071\n"
     ]
    },
    {
     "name": "stderr",
     "output_type": "stream",
     "text": [
      "C:\\Users\\lzorn\\.conda\\envs\\tm2_network_dev\\lib\\site-packages\\numpy\\core\\fromnumeric.py:3162: VisibleDeprecationWarning: Creating an ndarray from ragged nested sequences (which is a list-or-tuple of lists-or-tuples-or ndarrays with different lengths or shapes) is deprecated. If you meant to do this, you must specify 'dtype=object' when creating the ndarray.\n",
      "  return asarray(a).ndim\n",
      "C:\\Users\\lzorn\\.conda\\envs\\tm2_network_dev\\lib\\site-packages\\numpy\\core\\fromnumeric.py:3162: VisibleDeprecationWarning: Creating an ndarray from ragged nested sequences (which is a list-or-tuple of lists-or-tuples-or ndarrays with different lengths or shapes) is deprecated. If you meant to do this, you must specify 'dtype=object' when creating the ndarray.\n",
      "  return asarray(a).ndim\n"
     ]
    },
    {
     "name": "stdout",
     "output_type": "stream",
     "text": [
      "2022-01-20 13:22:19, INFO: Applying SFMTA Route 14R\n",
      "2022-01-20 13:22:19, INFO: Applying SFMTA Route 14R\n",
      "2022-01-20 13:22:19, INFO: Applying Project to Transit Network: SFMTA Route 14R\n",
      "2022-01-20 13:22:21, INFO: Creating a new stop in stops.txt for node ID: 1523226\n"
     ]
    },
    {
     "name": "stderr",
     "output_type": "stream",
     "text": [
      "C:\\Users\\lzorn\\.conda\\envs\\tm2_network_dev\\lib\\site-packages\\numpy\\core\\fromnumeric.py:3162: VisibleDeprecationWarning: Creating an ndarray from ragged nested sequences (which is a list-or-tuple of lists-or-tuples-or ndarrays with different lengths or shapes) is deprecated. If you meant to do this, you must specify 'dtype=object' when creating the ndarray.\n",
      "  return asarray(a).ndim\n"
     ]
    },
    {
     "name": "stdout",
     "output_type": "stream",
     "text": [
      "2022-01-20 13:22:22, INFO: Applying SFMTA Route 14R\n",
      "2022-01-20 13:22:22, INFO: Applying Project to Transit Network: SFMTA Route 14R\n",
      "2022-01-20 13:22:24, INFO: Creating a new stop in stops.txt for node ID: 1509377\n"
     ]
    },
    {
     "name": "stderr",
     "output_type": "stream",
     "text": [
      "C:\\Users\\lzorn\\.conda\\envs\\tm2_network_dev\\lib\\site-packages\\numpy\\core\\fromnumeric.py:3162: VisibleDeprecationWarning: Creating an ndarray from ragged nested sequences (which is a list-or-tuple of lists-or-tuples-or ndarrays with different lengths or shapes) is deprecated. If you meant to do this, you must specify 'dtype=object' when creating the ndarray.\n",
      "  return asarray(a).ndim\n"
     ]
    },
    {
     "name": "stdout",
     "output_type": "stream",
     "text": [
      "2022-01-20 13:22:25, INFO: Applying SFMTA Route 14R\n",
      "2022-01-20 13:22:25, INFO: Applying SFMTA Route 14R\n",
      "2022-01-20 13:22:25, INFO: Applying SFMTA route 14\n",
      "2022-01-20 13:22:25, INFO: Applying SFMTA route 14\n",
      "2022-01-20 13:22:25, INFO: Applying Project to Transit Network: SFMTA route 14\n",
      "2022-01-20 13:22:28, INFO: Applying SFMTA route 14\n",
      "2022-01-20 13:22:28, INFO: Applying Project to Transit Network: SFMTA route 14\n",
      "2022-01-20 13:22:29, INFO: Creating a new stop in stops.txt for node ID: 1003011\n"
     ]
    },
    {
     "name": "stderr",
     "output_type": "stream",
     "text": [
      "C:\\Users\\lzorn\\.conda\\envs\\tm2_network_dev\\lib\\site-packages\\numpy\\core\\fromnumeric.py:3162: VisibleDeprecationWarning: Creating an ndarray from ragged nested sequences (which is a list-or-tuple of lists-or-tuples-or ndarrays with different lengths or shapes) is deprecated. If you meant to do this, you must specify 'dtype=object' when creating the ndarray.\n",
      "  return asarray(a).ndim\n"
     ]
    },
    {
     "name": "stdout",
     "output_type": "stream",
     "text": [
      "2022-01-20 13:22:30, INFO: Applying SFMTA Route 381 Edits\n",
      "2022-01-20 13:22:30, INFO: Applying SFMTA Route 381 Edits\n",
      "2022-01-20 13:22:30, INFO: Applying Project to Transit Network: SFMTA Route 381 Edits\n",
      "2022-01-20 13:22:31, INFO: Creating a new stop in stops.txt for node ID: 1002699\n",
      "2022-01-20 13:22:31, INFO: Creating a new stop in stops.txt for node ID: 1015670\n"
     ]
    },
    {
     "name": "stderr",
     "output_type": "stream",
     "text": [
      "C:\\Users\\lzorn\\.conda\\envs\\tm2_network_dev\\lib\\site-packages\\numpy\\core\\fromnumeric.py:3162: VisibleDeprecationWarning: Creating an ndarray from ragged nested sequences (which is a list-or-tuple of lists-or-tuples-or ndarrays with different lengths or shapes) is deprecated. If you meant to do this, you must specify 'dtype=object' when creating the ndarray.\n",
      "  return asarray(a).ndim\n",
      "C:\\Users\\lzorn\\.conda\\envs\\tm2_network_dev\\lib\\site-packages\\numpy\\core\\fromnumeric.py:3162: VisibleDeprecationWarning: Creating an ndarray from ragged nested sequences (which is a list-or-tuple of lists-or-tuples-or ndarrays with different lengths or shapes) is deprecated. If you meant to do this, you must specify 'dtype=object' when creating the ndarray.\n",
      "  return asarray(a).ndim\n"
     ]
    },
    {
     "name": "stdout",
     "output_type": "stream",
     "text": [
      "2022-01-20 13:22:32, INFO: Applying SFMTA Route 381 Edits\n",
      "2022-01-20 13:22:32, INFO: Applying Project to Transit Network: SFMTA Route 381 Edits\n",
      "2022-01-20 13:22:33, INFO: Applying SFMTA Route 381 Edits\n",
      "2022-01-20 13:22:33, INFO: Applying Project to Transit Network: SFMTA Route 381 Edits\n",
      "2022-01-20 13:22:34, INFO: Applying SFMTA Route 381 Edits\n",
      "2022-01-20 13:22:34, INFO: Applying Project to Transit Network: SFMTA Route 381 Edits\n",
      "2022-01-20 13:22:35, INFO: Applying SFMTA Route 381 Edits\n",
      "2022-01-20 13:22:35, INFO: Applying Project to Transit Network: SFMTA Route 381 Edits\n",
      "2022-01-20 13:22:36, INFO: Applying SFMTA Route 381 Edits\n",
      "2022-01-20 13:22:36, INFO: Applying Project to Transit Network: SFMTA Route 381 Edits\n",
      "2022-01-20 13:22:37, INFO: Applying SFMTA Route 376 Edits\n",
      "2022-01-20 13:22:37, INFO: Applying SFMTA Route 376 Edits\n",
      "2022-01-20 13:22:37, INFO: Applying Project to Transit Network: SFMTA Route 376 Edits\n",
      "2022-01-20 13:22:38, INFO: Creating a new stop in stops.txt for node ID: 1018603\n",
      "2022-01-20 13:22:38, INFO: Creating a new stop in stops.txt for node ID: 1005812\n"
     ]
    },
    {
     "name": "stderr",
     "output_type": "stream",
     "text": [
      "C:\\Users\\lzorn\\.conda\\envs\\tm2_network_dev\\lib\\site-packages\\numpy\\core\\fromnumeric.py:3162: VisibleDeprecationWarning: Creating an ndarray from ragged nested sequences (which is a list-or-tuple of lists-or-tuples-or ndarrays with different lengths or shapes) is deprecated. If you meant to do this, you must specify 'dtype=object' when creating the ndarray.\n",
      "  return asarray(a).ndim\n",
      "C:\\Users\\lzorn\\.conda\\envs\\tm2_network_dev\\lib\\site-packages\\numpy\\core\\fromnumeric.py:3162: VisibleDeprecationWarning: Creating an ndarray from ragged nested sequences (which is a list-or-tuple of lists-or-tuples-or ndarrays with different lengths or shapes) is deprecated. If you meant to do this, you must specify 'dtype=object' when creating the ndarray.\n",
      "  return asarray(a).ndim\n"
     ]
    },
    {
     "name": "stdout",
     "output_type": "stream",
     "text": [
      "2022-01-20 13:22:40, INFO: Applying SFMTA Route 376 Edits\n",
      "2022-01-20 13:22:40, INFO: Applying Project to Transit Network: SFMTA Route 376 Edits\n",
      "2022-01-20 13:22:42, INFO: Applying SFMTA Route 349 Edits\n",
      "2022-01-20 13:22:42, INFO: Applying SFMTA Route 349 Edits\n",
      "2022-01-20 13:22:42, INFO: Applying Project to Transit Network: SFMTA Route 349 Edits\n",
      "2022-01-20 13:22:43, INFO: Creating a new stop in stops.txt for node ID: 1013984\n",
      "2022-01-20 13:22:43, INFO: Creating a new stop in stops.txt for node ID: 1016620\n",
      "2022-01-20 13:22:43, INFO: Creating a new stop in stops.txt for node ID: 1013397\n"
     ]
    },
    {
     "name": "stderr",
     "output_type": "stream",
     "text": [
      "C:\\Users\\lzorn\\.conda\\envs\\tm2_network_dev\\lib\\site-packages\\numpy\\core\\fromnumeric.py:3162: VisibleDeprecationWarning: Creating an ndarray from ragged nested sequences (which is a list-or-tuple of lists-or-tuples-or ndarrays with different lengths or shapes) is deprecated. If you meant to do this, you must specify 'dtype=object' when creating the ndarray.\n",
      "  return asarray(a).ndim\n",
      "C:\\Users\\lzorn\\.conda\\envs\\tm2_network_dev\\lib\\site-packages\\numpy\\core\\fromnumeric.py:3162: VisibleDeprecationWarning: Creating an ndarray from ragged nested sequences (which is a list-or-tuple of lists-or-tuples-or ndarrays with different lengths or shapes) is deprecated. If you meant to do this, you must specify 'dtype=object' when creating the ndarray.\n",
      "  return asarray(a).ndim\n",
      "C:\\Users\\lzorn\\.conda\\envs\\tm2_network_dev\\lib\\site-packages\\numpy\\core\\fromnumeric.py:3162: VisibleDeprecationWarning: Creating an ndarray from ragged nested sequences (which is a list-or-tuple of lists-or-tuples-or ndarrays with different lengths or shapes) is deprecated. If you meant to do this, you must specify 'dtype=object' when creating the ndarray.\n",
      "  return asarray(a).ndim\n"
     ]
    },
    {
     "name": "stdout",
     "output_type": "stream",
     "text": [
      "2022-01-20 13:22:45, INFO: Applying SFMTA Route 349 Edits\n",
      "2022-01-20 13:22:45, INFO: Applying Project to Transit Network: SFMTA Route 349 Edits\n",
      "2022-01-20 13:22:46, INFO: Applying SFMTA Route 349 Edits\n",
      "2022-01-20 13:22:46, INFO: Applying Project to Transit Network: SFMTA Route 349 Edits\n",
      "2022-01-20 13:22:48, INFO: Applying SFMTA Route 346 Edits\n",
      "2022-01-20 13:22:48, INFO: Applying SFMTA Route 346 Edits\n",
      "2022-01-20 13:22:48, INFO: Applying Project to Transit Network: SFMTA Route 346 Edits\n",
      "2022-01-20 13:22:50, INFO: Applying SFMTA Route 346 Edits\n",
      "2022-01-20 13:22:50, INFO: Applying Project to Transit Network: SFMTA Route 346 Edits\n",
      "2022-01-20 13:22:51, INFO: Creating a new stop in stops.txt for node ID: 1018498\n",
      "2022-01-20 13:22:51, INFO: Creating a new stop in stops.txt for node ID: 1022481\n"
     ]
    },
    {
     "name": "stderr",
     "output_type": "stream",
     "text": [
      "C:\\Users\\lzorn\\.conda\\envs\\tm2_network_dev\\lib\\site-packages\\numpy\\core\\fromnumeric.py:3162: VisibleDeprecationWarning: Creating an ndarray from ragged nested sequences (which is a list-or-tuple of lists-or-tuples-or ndarrays with different lengths or shapes) is deprecated. If you meant to do this, you must specify 'dtype=object' when creating the ndarray.\n",
      "  return asarray(a).ndim\n",
      "C:\\Users\\lzorn\\.conda\\envs\\tm2_network_dev\\lib\\site-packages\\numpy\\core\\fromnumeric.py:3162: VisibleDeprecationWarning: Creating an ndarray from ragged nested sequences (which is a list-or-tuple of lists-or-tuples-or ndarrays with different lengths or shapes) is deprecated. If you meant to do this, you must specify 'dtype=object' when creating the ndarray.\n",
      "  return asarray(a).ndim\n"
     ]
    },
    {
     "name": "stdout",
     "output_type": "stream",
     "text": [
      "2022-01-20 13:22:52, INFO: Applying SFMTA Route 346 Edits\n",
      "2022-01-20 13:22:52, INFO: Applying Project to Transit Network: SFMTA Route 346 Edits\n",
      "2022-01-20 13:22:53, INFO: Creating a new stop in stops.txt for node ID: 1021719\n",
      "2022-01-20 13:22:53, INFO: Creating a new stop in stops.txt for node ID: 1007696\n"
     ]
    },
    {
     "name": "stderr",
     "output_type": "stream",
     "text": [
      "C:\\Users\\lzorn\\.conda\\envs\\tm2_network_dev\\lib\\site-packages\\numpy\\core\\fromnumeric.py:3162: VisibleDeprecationWarning: Creating an ndarray from ragged nested sequences (which is a list-or-tuple of lists-or-tuples-or ndarrays with different lengths or shapes) is deprecated. If you meant to do this, you must specify 'dtype=object' when creating the ndarray.\n",
      "  return asarray(a).ndim\n",
      "C:\\Users\\lzorn\\.conda\\envs\\tm2_network_dev\\lib\\site-packages\\numpy\\core\\fromnumeric.py:3162: VisibleDeprecationWarning: Creating an ndarray from ragged nested sequences (which is a list-or-tuple of lists-or-tuples-or ndarrays with different lengths or shapes) is deprecated. If you meant to do this, you must specify 'dtype=object' when creating the ndarray.\n",
      "  return asarray(a).ndim\n"
     ]
    },
    {
     "name": "stdout",
     "output_type": "stream",
     "text": [
      "2022-01-20 13:22:54, INFO: Applying SFMTA Route 346 Edits\n",
      "2022-01-20 13:22:54, INFO: Applying Project to Transit Network: SFMTA Route 346 Edits\n",
      "2022-01-20 13:22:55, INFO: Applying SFMTA Route 336 Edits\n",
      "2022-01-20 13:22:55, INFO: Applying SFMTA Route 336 Edits\n",
      "2022-01-20 13:22:55, INFO: Applying Project to Transit Network: SFMTA Route 336 Edits\n",
      "2022-01-20 13:22:58, INFO: Applying SFMTA Route 336 Edits\n",
      "2022-01-20 13:22:58, INFO: Applying Project to Transit Network: SFMTA Route 336 Edits\n",
      "2022-01-20 13:22:59, INFO: Creating a new stop in stops.txt for node ID: 1019291\n"
     ]
    },
    {
     "name": "stderr",
     "output_type": "stream",
     "text": [
      "C:\\Users\\lzorn\\.conda\\envs\\tm2_network_dev\\lib\\site-packages\\numpy\\core\\fromnumeric.py:3162: VisibleDeprecationWarning: Creating an ndarray from ragged nested sequences (which is a list-or-tuple of lists-or-tuples-or ndarrays with different lengths or shapes) is deprecated. If you meant to do this, you must specify 'dtype=object' when creating the ndarray.\n",
      "  return asarray(a).ndim\n"
     ]
    },
    {
     "name": "stdout",
     "output_type": "stream",
     "text": [
      "2022-01-20 13:23:00, INFO: Applying SFMTA Route 336 Edits\n",
      "2022-01-20 13:23:00, INFO: Applying Project to Transit Network: SFMTA Route 336 Edits\n",
      "2022-01-20 13:23:02, INFO: Applying SFMTA Route 335 Edits\n",
      "2022-01-20 13:23:02, INFO: Applying SFMTA Route 335 Edits\n",
      "2022-01-20 13:23:02, INFO: Applying Project to Transit Network: SFMTA Route 335 Edits\n",
      "2022-01-20 13:23:03, INFO: Applying SFMTA Route 335 Edits\n",
      "2022-01-20 13:23:03, INFO: Applying Project to Transit Network: SFMTA Route 335 Edits\n",
      "2022-01-20 13:23:04, INFO: Applying SFMTA Route 329 Edits\n",
      "2022-01-20 13:23:04, INFO: Applying SFMTA Route 329 Edits\n",
      "2022-01-20 13:23:04, INFO: Applying Project to Transit Network: SFMTA Route 329 Edits\n",
      "2022-01-20 13:23:05, INFO: Applying SFMTA Route 329 Edits\n",
      "2022-01-20 13:23:05, INFO: Applying Project to Transit Network: SFMTA Route 329 Edits\n",
      "2022-01-20 13:23:07, INFO: Applying SFMTA Route 328 Edits\n",
      "2022-01-20 13:23:07, INFO: Applying SFMTA Route 328 Edits\n",
      "2022-01-20 13:23:07, INFO: Applying Project to Transit Network: SFMTA Route 328 Edits\n",
      "2022-01-20 13:23:07, INFO: Creating a new stop in stops.txt for node ID: 1008491\n"
     ]
    },
    {
     "name": "stderr",
     "output_type": "stream",
     "text": [
      "C:\\Users\\lzorn\\.conda\\envs\\tm2_network_dev\\lib\\site-packages\\numpy\\core\\fromnumeric.py:3162: VisibleDeprecationWarning: Creating an ndarray from ragged nested sequences (which is a list-or-tuple of lists-or-tuples-or ndarrays with different lengths or shapes) is deprecated. If you meant to do this, you must specify 'dtype=object' when creating the ndarray.\n",
      "  return asarray(a).ndim\n"
     ]
    },
    {
     "name": "stdout",
     "output_type": "stream",
     "text": [
      "2022-01-20 13:23:09, INFO: Applying SFMTA Route 328 Edits\n",
      "2022-01-20 13:23:09, INFO: Applying Project to Transit Network: SFMTA Route 328 Edits\n",
      "2022-01-20 13:23:11, INFO: Applying SFMTA Route 321 Edits\n",
      "2022-01-20 13:23:11, INFO: Applying SFMTA Route 321 Edits\n",
      "2022-01-20 13:23:11, INFO: Applying Project to Transit Network: SFMTA Route 321 Edits\n",
      "2022-01-20 13:23:12, INFO: Creating a new stop in stops.txt for node ID: 1000002\n"
     ]
    },
    {
     "name": "stderr",
     "output_type": "stream",
     "text": [
      "C:\\Users\\lzorn\\.conda\\envs\\tm2_network_dev\\lib\\site-packages\\numpy\\core\\fromnumeric.py:3162: VisibleDeprecationWarning: Creating an ndarray from ragged nested sequences (which is a list-or-tuple of lists-or-tuples-or ndarrays with different lengths or shapes) is deprecated. If you meant to do this, you must specify 'dtype=object' when creating the ndarray.\n",
      "  return asarray(a).ndim\n"
     ]
    },
    {
     "name": "stdout",
     "output_type": "stream",
     "text": [
      "2022-01-20 13:23:14, INFO: Applying SFMTA Route 321 Edits\n",
      "2022-01-20 13:23:14, INFO: Applying Project to Transit Network: SFMTA Route 321 Edits\n",
      "2022-01-20 13:23:15, INFO: Creating a new stop in stops.txt for node ID: 1010281\n",
      "2022-01-20 13:23:15, INFO: Creating a new stop in stops.txt for node ID: 1011778\n",
      "2022-01-20 13:23:15, INFO: Creating a new stop in stops.txt for node ID: 1007658\n"
     ]
    },
    {
     "name": "stderr",
     "output_type": "stream",
     "text": [
      "C:\\Users\\lzorn\\.conda\\envs\\tm2_network_dev\\lib\\site-packages\\numpy\\core\\fromnumeric.py:3162: VisibleDeprecationWarning: Creating an ndarray from ragged nested sequences (which is a list-or-tuple of lists-or-tuples-or ndarrays with different lengths or shapes) is deprecated. If you meant to do this, you must specify 'dtype=object' when creating the ndarray.\n",
      "  return asarray(a).ndim\n",
      "C:\\Users\\lzorn\\.conda\\envs\\tm2_network_dev\\lib\\site-packages\\numpy\\core\\fromnumeric.py:3162: VisibleDeprecationWarning: Creating an ndarray from ragged nested sequences (which is a list-or-tuple of lists-or-tuples-or ndarrays with different lengths or shapes) is deprecated. If you meant to do this, you must specify 'dtype=object' when creating the ndarray.\n",
      "  return asarray(a).ndim\n",
      "C:\\Users\\lzorn\\.conda\\envs\\tm2_network_dev\\lib\\site-packages\\numpy\\core\\fromnumeric.py:3162: VisibleDeprecationWarning: Creating an ndarray from ragged nested sequences (which is a list-or-tuple of lists-or-tuples-or ndarrays with different lengths or shapes) is deprecated. If you meant to do this, you must specify 'dtype=object' when creating the ndarray.\n",
      "  return asarray(a).ndim\n"
     ]
    },
    {
     "name": "stdout",
     "output_type": "stream",
     "text": [
      "2022-01-20 13:23:16, INFO: Applying SFMTA Route 307 Edits\n",
      "2022-01-20 13:23:16, INFO: Applying SFMTA Route 307 Edits\n",
      "2022-01-20 13:23:16, INFO: Applying Project to Transit Network: SFMTA Route 307 Edits\n",
      "2022-01-20 13:23:17, INFO: Creating a new stop in stops.txt for node ID: 1001352\n"
     ]
    },
    {
     "name": "stderr",
     "output_type": "stream",
     "text": [
      "C:\\Users\\lzorn\\.conda\\envs\\tm2_network_dev\\lib\\site-packages\\numpy\\core\\fromnumeric.py:3162: VisibleDeprecationWarning: Creating an ndarray from ragged nested sequences (which is a list-or-tuple of lists-or-tuples-or ndarrays with different lengths or shapes) is deprecated. If you meant to do this, you must specify 'dtype=object' when creating the ndarray.\n",
      "  return asarray(a).ndim\n"
     ]
    },
    {
     "name": "stdout",
     "output_type": "stream",
     "text": [
      "2022-01-20 13:23:18, INFO: Applying SFMTA Route 307 Edits\n",
      "2022-01-20 13:23:18, INFO: Applying Project to Transit Network: SFMTA Route 307 Edits\n",
      "2022-01-20 13:23:19, INFO: Creating a new stop in stops.txt for node ID: 1023629\n",
      "2022-01-20 13:23:19, INFO: Creating a new stop in stops.txt for node ID: 1014162\n"
     ]
    },
    {
     "name": "stderr",
     "output_type": "stream",
     "text": [
      "C:\\Users\\lzorn\\.conda\\envs\\tm2_network_dev\\lib\\site-packages\\numpy\\core\\fromnumeric.py:3162: VisibleDeprecationWarning: Creating an ndarray from ragged nested sequences (which is a list-or-tuple of lists-or-tuples-or ndarrays with different lengths or shapes) is deprecated. If you meant to do this, you must specify 'dtype=object' when creating the ndarray.\n",
      "  return asarray(a).ndim\n",
      "C:\\Users\\lzorn\\.conda\\envs\\tm2_network_dev\\lib\\site-packages\\numpy\\core\\fromnumeric.py:3162: VisibleDeprecationWarning: Creating an ndarray from ragged nested sequences (which is a list-or-tuple of lists-or-tuples-or ndarrays with different lengths or shapes) is deprecated. If you meant to do this, you must specify 'dtype=object' when creating the ndarray.\n",
      "  return asarray(a).ndim\n"
     ]
    },
    {
     "name": "stdout",
     "output_type": "stream",
     "text": [
      "2022-01-20 13:23:21, INFO: Applying SFMTA Route 306 Edits\n",
      "2022-01-20 13:23:21, INFO: Applying SFMTA Route 306 Edits\n",
      "2022-01-20 13:23:21, INFO: Applying Project to Transit Network: SFMTA Route 306 Edits\n",
      "2022-01-20 13:23:22, INFO: Creating a new stop in stops.txt for node ID: 1012353\n",
      "2022-01-20 13:23:22, INFO: Creating a new stop in stops.txt for node ID: 1020811\n"
     ]
    },
    {
     "name": "stderr",
     "output_type": "stream",
     "text": [
      "C:\\Users\\lzorn\\.conda\\envs\\tm2_network_dev\\lib\\site-packages\\numpy\\core\\fromnumeric.py:3162: VisibleDeprecationWarning: Creating an ndarray from ragged nested sequences (which is a list-or-tuple of lists-or-tuples-or ndarrays with different lengths or shapes) is deprecated. If you meant to do this, you must specify 'dtype=object' when creating the ndarray.\n",
      "  return asarray(a).ndim\n",
      "C:\\Users\\lzorn\\.conda\\envs\\tm2_network_dev\\lib\\site-packages\\numpy\\core\\fromnumeric.py:3162: VisibleDeprecationWarning: Creating an ndarray from ragged nested sequences (which is a list-or-tuple of lists-or-tuples-or ndarrays with different lengths or shapes) is deprecated. If you meant to do this, you must specify 'dtype=object' when creating the ndarray.\n",
      "  return asarray(a).ndim\n"
     ]
    },
    {
     "name": "stdout",
     "output_type": "stream",
     "text": [
      "2022-01-20 13:23:23, INFO: Applying SFMTA Route 306 Edits\n",
      "2022-01-20 13:23:23, INFO: Applying Project to Transit Network: SFMTA Route 306 Edits\n",
      "2022-01-20 13:23:24, INFO: Applying SFMTA Route 306 Edits\n",
      "2022-01-20 13:23:24, INFO: Applying Project to Transit Network: SFMTA Route 306 Edits\n",
      "2022-01-20 13:23:27, INFO: Applying SFMTA Route 306 Edits\n",
      "2022-01-20 13:23:27, INFO: Applying Project to Transit Network: SFMTA Route 306 Edits\n",
      "2022-01-20 13:23:28, INFO: Applying SFMTA Route 305 Edits\n",
      "2022-01-20 13:23:28, INFO: Applying SFMTA Route 305 Edits\n",
      "2022-01-20 13:23:28, INFO: Applying Project to Transit Network: SFMTA Route 305 Edits\n",
      "2022-01-20 13:23:30, INFO: Applying SFMTA Route 305 Edits\n",
      "2022-01-20 13:23:30, INFO: Applying Project to Transit Network: SFMTA Route 305 Edits\n",
      "2022-01-20 13:23:32, INFO: Applying SFMTA Route 304 Edits\n",
      "2022-01-20 13:23:32, INFO: Applying SFMTA Route 304 Edits\n",
      "2022-01-20 13:23:32, INFO: Applying Project to Transit Network: SFMTA Route 304 Edits\n",
      "2022-01-20 13:23:33, INFO: Creating a new stop in stops.txt for node ID: 1020320\n"
     ]
    },
    {
     "name": "stderr",
     "output_type": "stream",
     "text": [
      "C:\\Users\\lzorn\\.conda\\envs\\tm2_network_dev\\lib\\site-packages\\numpy\\core\\fromnumeric.py:3162: VisibleDeprecationWarning: Creating an ndarray from ragged nested sequences (which is a list-or-tuple of lists-or-tuples-or ndarrays with different lengths or shapes) is deprecated. If you meant to do this, you must specify 'dtype=object' when creating the ndarray.\n",
      "  return asarray(a).ndim\n"
     ]
    },
    {
     "name": "stdout",
     "output_type": "stream",
     "text": [
      "2022-01-20 13:23:34, INFO: Applying SFMTA Route 304 Edits\n",
      "2022-01-20 13:23:34, INFO: Applying Project to Transit Network: SFMTA Route 304 Edits\n",
      "2022-01-20 13:23:35, INFO: Applying SFMTA Route 304 Edits\n",
      "2022-01-20 13:23:35, INFO: Applying Project to Transit Network: SFMTA Route 304 Edits\n",
      "2022-01-20 13:23:37, INFO: Applying SFMTA Route 304 Edits\n",
      "2022-01-20 13:23:37, INFO: Applying Project to Transit Network: SFMTA Route 304 Edits\n",
      "2022-01-20 13:23:39, INFO: Applying sf bay ferry vallejo\n",
      "2022-01-20 13:23:39, INFO: Applying Project to Transit Network: sf bay ferry vallejo\n",
      "2022-01-20 13:23:39, INFO: Applying sf bay ferry vallejo missing link\n",
      "2022-01-20 13:23:39, INFO: Applying sf bay ferry vallejo missing link\n",
      "2022-01-20 13:23:39, INFO: Applying Project to Roadway Network: sf bay ferry vallejo missing link\n",
      "2022-01-20 13:26:12, INFO: Applying sf bay ferry vallejo missing link\n",
      "2022-01-20 13:26:12, INFO: Applying Project to Roadway Network: sf bay ferry vallejo missing link\n",
      "2022-01-20 13:28:45, INFO: Applying sf bay ferry vallejo missing link\n",
      "2022-01-20 13:28:45, INFO: Applying Project to Roadway Network: sf bay ferry vallejo missing link\n",
      "2022-01-20 13:31:23, INFO: Applying sf bay ferry vallejo missing link\n",
      "2022-01-20 13:31:23, INFO: Applying Project to Roadway Network: sf bay ferry vallejo missing link\n",
      "2022-01-20 13:33:55, INFO: Applying sf bay ferry missing link\n",
      "2022-01-20 13:33:55, INFO: Applying sf bay ferry missing link\n",
      "2022-01-20 13:33:55, INFO: Applying Project to Roadway Network: sf bay ferry missing link\n",
      "2022-01-20 13:36:28, INFO: Applying sf bay ferry missing link\n",
      "2022-01-20 13:36:28, INFO: Applying Project to Roadway Network: sf bay ferry missing link\n",
      "2022-01-20 13:39:06, INFO: Applying sf bay ferry missing link\n",
      "2022-01-20 13:39:06, INFO: Applying Project to Roadway Network: sf bay ferry missing link\n",
      "2022-01-20 13:41:42, INFO: Applying sf bay ferry missing link\n",
      "2022-01-20 13:41:42, INFO: Applying Project to Roadway Network: sf bay ferry missing link\n",
      "2022-01-20 13:44:16, INFO: Applying sf bay ferry al-ok-sf\n",
      "2022-01-20 13:44:16, INFO: Applying Project to Transit Network: sf bay ferry al-ok-sf\n",
      "2022-01-20 13:44:16, INFO: Applying year 2015 samtrans route ecr edits\n",
      "2022-01-20 13:44:16, INFO: Applying year 2015 samtrans route ecr edits\n",
      "2022-01-20 13:44:16, INFO: Applying Project to Transit Network: year 2015 samtrans route ecr edits\n",
      "2022-01-20 13:44:17, INFO: Creating a new stop in stops.txt for node ID: 2036044\n",
      "2022-01-20 13:44:17, INFO: Creating a new stop in stops.txt for node ID: 1511493\n",
      "2022-01-20 13:44:17, INFO: Creating a new stop in stops.txt for node ID: 1516920\n",
      "2022-01-20 13:44:17, INFO: Creating a new stop in stops.txt for node ID: 1525498\n",
      "2022-01-20 13:44:17, INFO: Creating a new stop in stops.txt for node ID: 1516256\n",
      "2022-01-20 13:44:17, INFO: Creating a new stop in stops.txt for node ID: 1513094\n",
      "2022-01-20 13:44:17, INFO: Creating a new stop in stops.txt for node ID: 1513976\n",
      "2022-01-20 13:44:17, INFO: Creating a new stop in stops.txt for node ID: 1528479\n",
      "2022-01-20 13:44:17, INFO: Creating a new stop in stops.txt for node ID: 1529690\n",
      "2022-01-20 13:44:17, INFO: Creating a new stop in stops.txt for node ID: 1529454\n",
      "2022-01-20 13:44:17, INFO: Creating a new stop in stops.txt for node ID: 1519622\n",
      "2022-01-20 13:44:17, INFO: Creating a new stop in stops.txt for node ID: 1513122\n",
      "2022-01-20 13:44:17, INFO: Creating a new stop in stops.txt for node ID: 1514054\n"
     ]
    },
    {
     "name": "stderr",
     "output_type": "stream",
     "text": [
      "C:\\Users\\lzorn\\.conda\\envs\\tm2_network_dev\\lib\\site-packages\\numpy\\core\\fromnumeric.py:3162: VisibleDeprecationWarning: Creating an ndarray from ragged nested sequences (which is a list-or-tuple of lists-or-tuples-or ndarrays with different lengths or shapes) is deprecated. If you meant to do this, you must specify 'dtype=object' when creating the ndarray.\n",
      "  return asarray(a).ndim\n",
      "C:\\Users\\lzorn\\.conda\\envs\\tm2_network_dev\\lib\\site-packages\\numpy\\core\\fromnumeric.py:3162: VisibleDeprecationWarning: Creating an ndarray from ragged nested sequences (which is a list-or-tuple of lists-or-tuples-or ndarrays with different lengths or shapes) is deprecated. If you meant to do this, you must specify 'dtype=object' when creating the ndarray.\n",
      "  return asarray(a).ndim\n",
      "C:\\Users\\lzorn\\.conda\\envs\\tm2_network_dev\\lib\\site-packages\\numpy\\core\\fromnumeric.py:3162: VisibleDeprecationWarning: Creating an ndarray from ragged nested sequences (which is a list-or-tuple of lists-or-tuples-or ndarrays with different lengths or shapes) is deprecated. If you meant to do this, you must specify 'dtype=object' when creating the ndarray.\n",
      "  return asarray(a).ndim\n",
      "C:\\Users\\lzorn\\.conda\\envs\\tm2_network_dev\\lib\\site-packages\\numpy\\core\\fromnumeric.py:3162: VisibleDeprecationWarning: Creating an ndarray from ragged nested sequences (which is a list-or-tuple of lists-or-tuples-or ndarrays with different lengths or shapes) is deprecated. If you meant to do this, you must specify 'dtype=object' when creating the ndarray.\n",
      "  return asarray(a).ndim\n",
      "C:\\Users\\lzorn\\.conda\\envs\\tm2_network_dev\\lib\\site-packages\\numpy\\core\\fromnumeric.py:3162: VisibleDeprecationWarning: Creating an ndarray from ragged nested sequences (which is a list-or-tuple of lists-or-tuples-or ndarrays with different lengths or shapes) is deprecated. If you meant to do this, you must specify 'dtype=object' when creating the ndarray.\n",
      "  return asarray(a).ndim\n",
      "C:\\Users\\lzorn\\.conda\\envs\\tm2_network_dev\\lib\\site-packages\\numpy\\core\\fromnumeric.py:3162: VisibleDeprecationWarning: Creating an ndarray from ragged nested sequences (which is a list-or-tuple of lists-or-tuples-or ndarrays with different lengths or shapes) is deprecated. If you meant to do this, you must specify 'dtype=object' when creating the ndarray.\n",
      "  return asarray(a).ndim\n",
      "C:\\Users\\lzorn\\.conda\\envs\\tm2_network_dev\\lib\\site-packages\\numpy\\core\\fromnumeric.py:3162: VisibleDeprecationWarning: Creating an ndarray from ragged nested sequences (which is a list-or-tuple of lists-or-tuples-or ndarrays with different lengths or shapes) is deprecated. If you meant to do this, you must specify 'dtype=object' when creating the ndarray.\n",
      "  return asarray(a).ndim\n",
      "C:\\Users\\lzorn\\.conda\\envs\\tm2_network_dev\\lib\\site-packages\\numpy\\core\\fromnumeric.py:3162: VisibleDeprecationWarning: Creating an ndarray from ragged nested sequences (which is a list-or-tuple of lists-or-tuples-or ndarrays with different lengths or shapes) is deprecated. If you meant to do this, you must specify 'dtype=object' when creating the ndarray.\n",
      "  return asarray(a).ndim\n",
      "C:\\Users\\lzorn\\.conda\\envs\\tm2_network_dev\\lib\\site-packages\\numpy\\core\\fromnumeric.py:3162: VisibleDeprecationWarning: Creating an ndarray from ragged nested sequences (which is a list-or-tuple of lists-or-tuples-or ndarrays with different lengths or shapes) is deprecated. If you meant to do this, you must specify 'dtype=object' when creating the ndarray.\n",
      "  return asarray(a).ndim\n",
      "C:\\Users\\lzorn\\.conda\\envs\\tm2_network_dev\\lib\\site-packages\\numpy\\core\\fromnumeric.py:3162: VisibleDeprecationWarning: Creating an ndarray from ragged nested sequences (which is a list-or-tuple of lists-or-tuples-or ndarrays with different lengths or shapes) is deprecated. If you meant to do this, you must specify 'dtype=object' when creating the ndarray.\n",
      "  return asarray(a).ndim\n",
      "C:\\Users\\lzorn\\.conda\\envs\\tm2_network_dev\\lib\\site-packages\\numpy\\core\\fromnumeric.py:3162: VisibleDeprecationWarning: Creating an ndarray from ragged nested sequences (which is a list-or-tuple of lists-or-tuples-or ndarrays with different lengths or shapes) is deprecated. If you meant to do this, you must specify 'dtype=object' when creating the ndarray.\n",
      "  return asarray(a).ndim\n",
      "C:\\Users\\lzorn\\.conda\\envs\\tm2_network_dev\\lib\\site-packages\\numpy\\core\\fromnumeric.py:3162: VisibleDeprecationWarning: Creating an ndarray from ragged nested sequences (which is a list-or-tuple of lists-or-tuples-or ndarrays with different lengths or shapes) is deprecated. If you meant to do this, you must specify 'dtype=object' when creating the ndarray.\n",
      "  return asarray(a).ndim\n",
      "C:\\Users\\lzorn\\.conda\\envs\\tm2_network_dev\\lib\\site-packages\\numpy\\core\\fromnumeric.py:3162: VisibleDeprecationWarning: Creating an ndarray from ragged nested sequences (which is a list-or-tuple of lists-or-tuples-or ndarrays with different lengths or shapes) is deprecated. If you meant to do this, you must specify 'dtype=object' when creating the ndarray.\n",
      "  return asarray(a).ndim\n"
     ]
    },
    {
     "name": "stdout",
     "output_type": "stream",
     "text": [
      "2022-01-20 13:44:17, INFO: Creating a new stop in stops.txt for node ID: 1543182\n",
      "2022-01-20 13:44:17, INFO: Creating a new stop in stops.txt for node ID: 1512385\n",
      "2022-01-20 13:44:17, INFO: Creating a new stop in stops.txt for node ID: 1534620\n",
      "2022-01-20 13:44:17, INFO: Creating a new stop in stops.txt for node ID: 1503246\n",
      "2022-01-20 13:44:17, INFO: Creating a new stop in stops.txt for node ID: 1537667\n",
      "2022-01-20 13:44:17, INFO: Creating a new stop in stops.txt for node ID: 1538028\n",
      "2022-01-20 13:44:17, INFO: Creating a new stop in stops.txt for node ID: 1526122\n"
     ]
    },
    {
     "name": "stderr",
     "output_type": "stream",
     "text": [
      "C:\\Users\\lzorn\\.conda\\envs\\tm2_network_dev\\lib\\site-packages\\numpy\\core\\fromnumeric.py:3162: VisibleDeprecationWarning: Creating an ndarray from ragged nested sequences (which is a list-or-tuple of lists-or-tuples-or ndarrays with different lengths or shapes) is deprecated. If you meant to do this, you must specify 'dtype=object' when creating the ndarray.\n",
      "  return asarray(a).ndim\n",
      "C:\\Users\\lzorn\\.conda\\envs\\tm2_network_dev\\lib\\site-packages\\numpy\\core\\fromnumeric.py:3162: VisibleDeprecationWarning: Creating an ndarray from ragged nested sequences (which is a list-or-tuple of lists-or-tuples-or ndarrays with different lengths or shapes) is deprecated. If you meant to do this, you must specify 'dtype=object' when creating the ndarray.\n",
      "  return asarray(a).ndim\n",
      "C:\\Users\\lzorn\\.conda\\envs\\tm2_network_dev\\lib\\site-packages\\numpy\\core\\fromnumeric.py:3162: VisibleDeprecationWarning: Creating an ndarray from ragged nested sequences (which is a list-or-tuple of lists-or-tuples-or ndarrays with different lengths or shapes) is deprecated. If you meant to do this, you must specify 'dtype=object' when creating the ndarray.\n",
      "  return asarray(a).ndim\n",
      "C:\\Users\\lzorn\\.conda\\envs\\tm2_network_dev\\lib\\site-packages\\numpy\\core\\fromnumeric.py:3162: VisibleDeprecationWarning: Creating an ndarray from ragged nested sequences (which is a list-or-tuple of lists-or-tuples-or ndarrays with different lengths or shapes) is deprecated. If you meant to do this, you must specify 'dtype=object' when creating the ndarray.\n",
      "  return asarray(a).ndim\n",
      "C:\\Users\\lzorn\\.conda\\envs\\tm2_network_dev\\lib\\site-packages\\numpy\\core\\fromnumeric.py:3162: VisibleDeprecationWarning: Creating an ndarray from ragged nested sequences (which is a list-or-tuple of lists-or-tuples-or ndarrays with different lengths or shapes) is deprecated. If you meant to do this, you must specify 'dtype=object' when creating the ndarray.\n",
      "  return asarray(a).ndim\n",
      "C:\\Users\\lzorn\\.conda\\envs\\tm2_network_dev\\lib\\site-packages\\numpy\\core\\fromnumeric.py:3162: VisibleDeprecationWarning: Creating an ndarray from ragged nested sequences (which is a list-or-tuple of lists-or-tuples-or ndarrays with different lengths or shapes) is deprecated. If you meant to do this, you must specify 'dtype=object' when creating the ndarray.\n",
      "  return asarray(a).ndim\n",
      "C:\\Users\\lzorn\\.conda\\envs\\tm2_network_dev\\lib\\site-packages\\numpy\\core\\fromnumeric.py:3162: VisibleDeprecationWarning: Creating an ndarray from ragged nested sequences (which is a list-or-tuple of lists-or-tuples-or ndarrays with different lengths or shapes) is deprecated. If you meant to do this, you must specify 'dtype=object' when creating the ndarray.\n",
      "  return asarray(a).ndim\n"
     ]
    },
    {
     "name": "stdout",
     "output_type": "stream",
     "text": [
      "2022-01-20 13:44:19, INFO: Applying year 2015 samtrans route ecr edits\n",
      "2022-01-20 13:44:19, INFO: Applying Project to Transit Network: year 2015 samtrans route ecr edits\n",
      "2022-01-20 13:44:20, INFO: Creating a new stop in stops.txt for node ID: 1519051\n",
      "2022-01-20 13:44:20, INFO: Creating a new stop in stops.txt for node ID: 1503077\n",
      "2022-01-20 13:44:20, INFO: Creating a new stop in stops.txt for node ID: 1508313\n",
      "2022-01-20 13:44:20, INFO: Creating a new stop in stops.txt for node ID: 1508126\n",
      "2022-01-20 13:44:20, INFO: Creating a new stop in stops.txt for node ID: 1537888\n",
      "2022-01-20 13:44:20, INFO: Creating a new stop in stops.txt for node ID: 1519350\n",
      "2022-01-20 13:44:20, INFO: Creating a new stop in stops.txt for node ID: 1516319\n",
      "2022-01-20 13:44:20, INFO: Creating a new stop in stops.txt for node ID: 1509775\n",
      "2022-01-20 13:44:20, INFO: Creating a new stop in stops.txt for node ID: 1536669\n"
     ]
    },
    {
     "name": "stderr",
     "output_type": "stream",
     "text": [
      "C:\\Users\\lzorn\\.conda\\envs\\tm2_network_dev\\lib\\site-packages\\numpy\\core\\fromnumeric.py:3162: VisibleDeprecationWarning: Creating an ndarray from ragged nested sequences (which is a list-or-tuple of lists-or-tuples-or ndarrays with different lengths or shapes) is deprecated. If you meant to do this, you must specify 'dtype=object' when creating the ndarray.\n",
      "  return asarray(a).ndim\n",
      "C:\\Users\\lzorn\\.conda\\envs\\tm2_network_dev\\lib\\site-packages\\numpy\\core\\fromnumeric.py:3162: VisibleDeprecationWarning: Creating an ndarray from ragged nested sequences (which is a list-or-tuple of lists-or-tuples-or ndarrays with different lengths or shapes) is deprecated. If you meant to do this, you must specify 'dtype=object' when creating the ndarray.\n",
      "  return asarray(a).ndim\n",
      "C:\\Users\\lzorn\\.conda\\envs\\tm2_network_dev\\lib\\site-packages\\numpy\\core\\fromnumeric.py:3162: VisibleDeprecationWarning: Creating an ndarray from ragged nested sequences (which is a list-or-tuple of lists-or-tuples-or ndarrays with different lengths or shapes) is deprecated. If you meant to do this, you must specify 'dtype=object' when creating the ndarray.\n",
      "  return asarray(a).ndim\n",
      "C:\\Users\\lzorn\\.conda\\envs\\tm2_network_dev\\lib\\site-packages\\numpy\\core\\fromnumeric.py:3162: VisibleDeprecationWarning: Creating an ndarray from ragged nested sequences (which is a list-or-tuple of lists-or-tuples-or ndarrays with different lengths or shapes) is deprecated. If you meant to do this, you must specify 'dtype=object' when creating the ndarray.\n",
      "  return asarray(a).ndim\n",
      "C:\\Users\\lzorn\\.conda\\envs\\tm2_network_dev\\lib\\site-packages\\numpy\\core\\fromnumeric.py:3162: VisibleDeprecationWarning: Creating an ndarray from ragged nested sequences (which is a list-or-tuple of lists-or-tuples-or ndarrays with different lengths or shapes) is deprecated. If you meant to do this, you must specify 'dtype=object' when creating the ndarray.\n",
      "  return asarray(a).ndim\n",
      "C:\\Users\\lzorn\\.conda\\envs\\tm2_network_dev\\lib\\site-packages\\numpy\\core\\fromnumeric.py:3162: VisibleDeprecationWarning: Creating an ndarray from ragged nested sequences (which is a list-or-tuple of lists-or-tuples-or ndarrays with different lengths or shapes) is deprecated. If you meant to do this, you must specify 'dtype=object' when creating the ndarray.\n",
      "  return asarray(a).ndim\n",
      "C:\\Users\\lzorn\\.conda\\envs\\tm2_network_dev\\lib\\site-packages\\numpy\\core\\fromnumeric.py:3162: VisibleDeprecationWarning: Creating an ndarray from ragged nested sequences (which is a list-or-tuple of lists-or-tuples-or ndarrays with different lengths or shapes) is deprecated. If you meant to do this, you must specify 'dtype=object' when creating the ndarray.\n",
      "  return asarray(a).ndim\n",
      "C:\\Users\\lzorn\\.conda\\envs\\tm2_network_dev\\lib\\site-packages\\numpy\\core\\fromnumeric.py:3162: VisibleDeprecationWarning: Creating an ndarray from ragged nested sequences (which is a list-or-tuple of lists-or-tuples-or ndarrays with different lengths or shapes) is deprecated. If you meant to do this, you must specify 'dtype=object' when creating the ndarray.\n",
      "  return asarray(a).ndim\n",
      "C:\\Users\\lzorn\\.conda\\envs\\tm2_network_dev\\lib\\site-packages\\numpy\\core\\fromnumeric.py:3162: VisibleDeprecationWarning: Creating an ndarray from ragged nested sequences (which is a list-or-tuple of lists-or-tuples-or ndarrays with different lengths or shapes) is deprecated. If you meant to do this, you must specify 'dtype=object' when creating the ndarray.\n",
      "  return asarray(a).ndim\n"
     ]
    },
    {
     "name": "stdout",
     "output_type": "stream",
     "text": [
      "2022-01-20 13:44:22, INFO: Applying samtrans route ecr new stop nodes farezone assignment\n",
      "2022-01-20 13:44:22, INFO: Applying Project to Transit Network: samtrans route ecr new stop nodes farezone assignment\n",
      "2022-01-20 13:44:22, INFO: Applying year 2015 samtrans route 120 edits\n",
      "2022-01-20 13:44:22, INFO: Applying year 2015 samtrans route 120 edits\n",
      "2022-01-20 13:44:22, INFO: Applying Project to Transit Network: year 2015 samtrans route 120 edits\n",
      "2022-01-20 13:44:23, INFO: Creating a new stop in stops.txt for node ID: 1523872\n",
      "2022-01-20 13:44:23, INFO: Creating a new stop in stops.txt for node ID: 1545076\n",
      "2022-01-20 13:44:23, INFO: Creating a new stop in stops.txt for node ID: 1503345\n",
      "2022-01-20 13:44:23, INFO: Creating a new stop in stops.txt for node ID: 1519909\n",
      "2022-01-20 13:44:23, INFO: Creating a new stop in stops.txt for node ID: 1504028\n",
      "2022-01-20 13:44:23, INFO: Creating a new stop in stops.txt for node ID: 1514714\n"
     ]
    },
    {
     "name": "stderr",
     "output_type": "stream",
     "text": [
      "C:\\Users\\lzorn\\.conda\\envs\\tm2_network_dev\\lib\\site-packages\\numpy\\core\\fromnumeric.py:3162: VisibleDeprecationWarning: Creating an ndarray from ragged nested sequences (which is a list-or-tuple of lists-or-tuples-or ndarrays with different lengths or shapes) is deprecated. If you meant to do this, you must specify 'dtype=object' when creating the ndarray.\n",
      "  return asarray(a).ndim\n",
      "C:\\Users\\lzorn\\.conda\\envs\\tm2_network_dev\\lib\\site-packages\\numpy\\core\\fromnumeric.py:3162: VisibleDeprecationWarning: Creating an ndarray from ragged nested sequences (which is a list-or-tuple of lists-or-tuples-or ndarrays with different lengths or shapes) is deprecated. If you meant to do this, you must specify 'dtype=object' when creating the ndarray.\n",
      "  return asarray(a).ndim\n",
      "C:\\Users\\lzorn\\.conda\\envs\\tm2_network_dev\\lib\\site-packages\\numpy\\core\\fromnumeric.py:3162: VisibleDeprecationWarning: Creating an ndarray from ragged nested sequences (which is a list-or-tuple of lists-or-tuples-or ndarrays with different lengths or shapes) is deprecated. If you meant to do this, you must specify 'dtype=object' when creating the ndarray.\n",
      "  return asarray(a).ndim\n",
      "C:\\Users\\lzorn\\.conda\\envs\\tm2_network_dev\\lib\\site-packages\\numpy\\core\\fromnumeric.py:3162: VisibleDeprecationWarning: Creating an ndarray from ragged nested sequences (which is a list-or-tuple of lists-or-tuples-or ndarrays with different lengths or shapes) is deprecated. If you meant to do this, you must specify 'dtype=object' when creating the ndarray.\n",
      "  return asarray(a).ndim\n",
      "C:\\Users\\lzorn\\.conda\\envs\\tm2_network_dev\\lib\\site-packages\\numpy\\core\\fromnumeric.py:3162: VisibleDeprecationWarning: Creating an ndarray from ragged nested sequences (which is a list-or-tuple of lists-or-tuples-or ndarrays with different lengths or shapes) is deprecated. If you meant to do this, you must specify 'dtype=object' when creating the ndarray.\n",
      "  return asarray(a).ndim\n",
      "C:\\Users\\lzorn\\.conda\\envs\\tm2_network_dev\\lib\\site-packages\\numpy\\core\\fromnumeric.py:3162: VisibleDeprecationWarning: Creating an ndarray from ragged nested sequences (which is a list-or-tuple of lists-or-tuples-or ndarrays with different lengths or shapes) is deprecated. If you meant to do this, you must specify 'dtype=object' when creating the ndarray.\n",
      "  return asarray(a).ndim\n"
     ]
    },
    {
     "name": "stdout",
     "output_type": "stream",
     "text": [
      "2022-01-20 13:44:24, INFO: Applying year 2015 samtrans route 120 edits\n",
      "2022-01-20 13:44:24, INFO: Applying Project to Transit Network: year 2015 samtrans route 120 edits\n",
      "2022-01-20 13:44:25, INFO: Creating a new stop in stops.txt for node ID: 1506746\n"
     ]
    },
    {
     "name": "stderr",
     "output_type": "stream",
     "text": [
      "C:\\Users\\lzorn\\.conda\\envs\\tm2_network_dev\\lib\\site-packages\\numpy\\core\\fromnumeric.py:3162: VisibleDeprecationWarning: Creating an ndarray from ragged nested sequences (which is a list-or-tuple of lists-or-tuples-or ndarrays with different lengths or shapes) is deprecated. If you meant to do this, you must specify 'dtype=object' when creating the ndarray.\n",
      "  return asarray(a).ndim\n"
     ]
    },
    {
     "name": "stdout",
     "output_type": "stream",
     "text": [
      "2022-01-20 13:44:27, INFO: Applying samtrans route 120 new stop nodes farezone assignment\n",
      "2022-01-20 13:44:27, INFO: Applying Project to Transit Network: samtrans route 120 new stop nodes farezone assignment\n",
      "2022-01-20 13:44:27, INFO: Applying change gg ferries from zonal to flat fare\n",
      "2022-01-20 13:44:27, INFO: Applying Project to Transit Network: change gg ferries from zonal to flat fare\n",
      "2022-01-20 13:44:27, INFO: Applying change fairfield transit fare from flat to zonal\n",
      "2022-01-20 13:44:27, INFO: Applying Project to Transit Network: change fairfield transit fare from flat to zonal\n",
      "2022-01-20 13:44:27, INFO: Applying BART Fremont Daly City reverse shape\n",
      "2022-01-20 13:44:27, INFO: Applying BART Fremont Daly City reverse shape\n",
      "2022-01-20 13:44:27, INFO: Applying Project to Transit Network: BART Fremont Daly City reverse shape\n",
      "2022-01-20 13:44:28, INFO: Applying BART Fremont Daly City reverse shape\n",
      "2022-01-20 13:44:28, INFO: Applying Project to Transit Network: BART Fremont Daly City reverse shape\n",
      "2022-01-20 13:44:29, INFO: Applying year 2015 ac transit route 1r\n",
      "2022-01-20 13:44:29, INFO: Applying year 2015 ac transit route 1r\n",
      "2022-01-20 13:44:29, INFO: Applying Project to Transit Network: year 2015 ac transit route 1r\n",
      "2022-01-20 13:44:30, INFO: Creating a new stop in stops.txt for node ID: 2502166\n",
      "2022-01-20 13:44:30, INFO: Creating a new stop in stops.txt for node ID: 2503906\n"
     ]
    },
    {
     "name": "stderr",
     "output_type": "stream",
     "text": [
      "C:\\Users\\lzorn\\.conda\\envs\\tm2_network_dev\\lib\\site-packages\\numpy\\core\\fromnumeric.py:3162: VisibleDeprecationWarning: Creating an ndarray from ragged nested sequences (which is a list-or-tuple of lists-or-tuples-or ndarrays with different lengths or shapes) is deprecated. If you meant to do this, you must specify 'dtype=object' when creating the ndarray.\n",
      "  return asarray(a).ndim\n",
      "C:\\Users\\lzorn\\.conda\\envs\\tm2_network_dev\\lib\\site-packages\\numpy\\core\\fromnumeric.py:3162: VisibleDeprecationWarning: Creating an ndarray from ragged nested sequences (which is a list-or-tuple of lists-or-tuples-or ndarrays with different lengths or shapes) is deprecated. If you meant to do this, you must specify 'dtype=object' when creating the ndarray.\n",
      "  return asarray(a).ndim\n"
     ]
    },
    {
     "name": "stdout",
     "output_type": "stream",
     "text": [
      "2022-01-20 13:44:31, INFO: Applying year 2015 ac transit route 1\n",
      "2022-01-20 13:44:31, INFO: Applying year 2015 ac transit route 1\n",
      "2022-01-20 13:44:31, INFO: Applying Project to Transit Network: year 2015 ac transit route 1\n",
      "2022-01-20 13:44:32, WARNING: Missing connections from node 2576452 to node 2569242 for the new routing, find complete path using default graph\n",
      "2022-01-20 13:44:32, INFO: Routing path from node 2576452 to node 2569242 for missing connections: ['2576452', '2543814', '2569242'].\n",
      "2022-01-20 13:44:32, INFO: Creating a new stop in stops.txt for node ID: 2500686\n",
      "2022-01-20 13:44:32, INFO: Creating a new stop in stops.txt for node ID: 2598641\n",
      "2022-01-20 13:44:32, INFO: Creating a new stop in stops.txt for node ID: 2581780\n"
     ]
    },
    {
     "name": "stderr",
     "output_type": "stream",
     "text": [
      "C:\\Users\\lzorn\\.conda\\envs\\tm2_network_dev\\lib\\site-packages\\numpy\\core\\fromnumeric.py:3162: VisibleDeprecationWarning: Creating an ndarray from ragged nested sequences (which is a list-or-tuple of lists-or-tuples-or ndarrays with different lengths or shapes) is deprecated. If you meant to do this, you must specify 'dtype=object' when creating the ndarray.\n",
      "  return asarray(a).ndim\n",
      "C:\\Users\\lzorn\\.conda\\envs\\tm2_network_dev\\lib\\site-packages\\numpy\\core\\fromnumeric.py:3162: VisibleDeprecationWarning: Creating an ndarray from ragged nested sequences (which is a list-or-tuple of lists-or-tuples-or ndarrays with different lengths or shapes) is deprecated. If you meant to do this, you must specify 'dtype=object' when creating the ndarray.\n",
      "  return asarray(a).ndim\n",
      "C:\\Users\\lzorn\\.conda\\envs\\tm2_network_dev\\lib\\site-packages\\numpy\\core\\fromnumeric.py:3162: VisibleDeprecationWarning: Creating an ndarray from ragged nested sequences (which is a list-or-tuple of lists-or-tuples-or ndarrays with different lengths or shapes) is deprecated. If you meant to do this, you must specify 'dtype=object' when creating the ndarray.\n",
      "  return asarray(a).ndim\n"
     ]
    },
    {
     "name": "stdout",
     "output_type": "stream",
     "text": [
      "2022-01-20 13:44:34, INFO: Applying year 2015 ac transit route 1\n",
      "2022-01-20 13:44:34, INFO: Applying Project to Transit Network: year 2015 ac transit route 1\n",
      "2022-01-20 13:44:34, WARNING: Missing connections from node 2592075 to node 2596647 for the new routing, find complete path using default graph\n",
      "2022-01-20 13:44:34, INFO: Routing path from node 2592075 to node 2596647 for missing connections: ['2592075', '2570072', '2500672', '2505644', '2514527', '2576504', '2596647'].\n",
      "2022-01-20 13:44:34, WARNING: Missing connections from node 2600447 to node 2530653 for the new routing, find complete path using default graph\n",
      "2022-01-20 13:44:34, INFO: Routing path from node 2600447 to node 2530653 for missing connections: ['2600447', '2527591', '2530653'].\n",
      "2022-01-20 13:44:35, INFO: Creating a new stop in stops.txt for node ID: 2596647\n",
      "2022-01-20 13:44:35, INFO: Creating a new stop in stops.txt for node ID: 2564008\n",
      "2022-01-20 13:44:35, INFO: Creating a new stop in stops.txt for node ID: 2522518\n",
      "2022-01-20 13:44:35, INFO: Creating a new stop in stops.txt for node ID: 2600447\n"
     ]
    },
    {
     "name": "stderr",
     "output_type": "stream",
     "text": [
      "C:\\Users\\lzorn\\.conda\\envs\\tm2_network_dev\\lib\\site-packages\\numpy\\core\\fromnumeric.py:3162: VisibleDeprecationWarning: Creating an ndarray from ragged nested sequences (which is a list-or-tuple of lists-or-tuples-or ndarrays with different lengths or shapes) is deprecated. If you meant to do this, you must specify 'dtype=object' when creating the ndarray.\n",
      "  return asarray(a).ndim\n",
      "C:\\Users\\lzorn\\.conda\\envs\\tm2_network_dev\\lib\\site-packages\\numpy\\core\\fromnumeric.py:3162: VisibleDeprecationWarning: Creating an ndarray from ragged nested sequences (which is a list-or-tuple of lists-or-tuples-or ndarrays with different lengths or shapes) is deprecated. If you meant to do this, you must specify 'dtype=object' when creating the ndarray.\n",
      "  return asarray(a).ndim\n",
      "C:\\Users\\lzorn\\.conda\\envs\\tm2_network_dev\\lib\\site-packages\\numpy\\core\\fromnumeric.py:3162: VisibleDeprecationWarning: Creating an ndarray from ragged nested sequences (which is a list-or-tuple of lists-or-tuples-or ndarrays with different lengths or shapes) is deprecated. If you meant to do this, you must specify 'dtype=object' when creating the ndarray.\n",
      "  return asarray(a).ndim\n",
      "C:\\Users\\lzorn\\.conda\\envs\\tm2_network_dev\\lib\\site-packages\\numpy\\core\\fromnumeric.py:3162: VisibleDeprecationWarning: Creating an ndarray from ragged nested sequences (which is a list-or-tuple of lists-or-tuples-or ndarrays with different lengths or shapes) is deprecated. If you meant to do this, you must specify 'dtype=object' when creating the ndarray.\n",
      "  return asarray(a).ndim\n"
     ]
    },
    {
     "name": "stdout",
     "output_type": "stream",
     "text": [
      "2022-01-20 13:44:36, INFO: Applying year 2015 ac transit route 99 edits\n",
      "2022-01-20 13:44:36, INFO: Applying year 2015 ac transit route 99 edits\n",
      "2022-01-20 13:44:36, INFO: Applying Project to Transit Network: year 2015 ac transit route 99 edits\n",
      "2022-01-20 13:44:37, INFO: Creating a new stop in stops.txt for node ID: 2583806\n",
      "2022-01-20 13:44:37, INFO: Creating a new stop in stops.txt for node ID: 3064176\n",
      "2022-01-20 13:44:37, INFO: Creating a new stop in stops.txt for node ID: 3024575\n",
      "2022-01-20 13:44:37, INFO: Creating a new stop in stops.txt for node ID: 3069892\n",
      "2022-01-20 13:44:37, INFO: Creating a new stop in stops.txt for node ID: 3018955\n",
      "2022-01-20 13:44:37, INFO: Creating a new stop in stops.txt for node ID: 3029560\n"
     ]
    },
    {
     "name": "stderr",
     "output_type": "stream",
     "text": [
      "C:\\Users\\lzorn\\.conda\\envs\\tm2_network_dev\\lib\\site-packages\\numpy\\core\\fromnumeric.py:3162: VisibleDeprecationWarning: Creating an ndarray from ragged nested sequences (which is a list-or-tuple of lists-or-tuples-or ndarrays with different lengths or shapes) is deprecated. If you meant to do this, you must specify 'dtype=object' when creating the ndarray.\n",
      "  return asarray(a).ndim\n",
      "C:\\Users\\lzorn\\.conda\\envs\\tm2_network_dev\\lib\\site-packages\\numpy\\core\\fromnumeric.py:3162: VisibleDeprecationWarning: Creating an ndarray from ragged nested sequences (which is a list-or-tuple of lists-or-tuples-or ndarrays with different lengths or shapes) is deprecated. If you meant to do this, you must specify 'dtype=object' when creating the ndarray.\n",
      "  return asarray(a).ndim\n",
      "C:\\Users\\lzorn\\.conda\\envs\\tm2_network_dev\\lib\\site-packages\\numpy\\core\\fromnumeric.py:3162: VisibleDeprecationWarning: Creating an ndarray from ragged nested sequences (which is a list-or-tuple of lists-or-tuples-or ndarrays with different lengths or shapes) is deprecated. If you meant to do this, you must specify 'dtype=object' when creating the ndarray.\n",
      "  return asarray(a).ndim\n",
      "C:\\Users\\lzorn\\.conda\\envs\\tm2_network_dev\\lib\\site-packages\\numpy\\core\\fromnumeric.py:3162: VisibleDeprecationWarning: Creating an ndarray from ragged nested sequences (which is a list-or-tuple of lists-or-tuples-or ndarrays with different lengths or shapes) is deprecated. If you meant to do this, you must specify 'dtype=object' when creating the ndarray.\n",
      "  return asarray(a).ndim\n",
      "C:\\Users\\lzorn\\.conda\\envs\\tm2_network_dev\\lib\\site-packages\\numpy\\core\\fromnumeric.py:3162: VisibleDeprecationWarning: Creating an ndarray from ragged nested sequences (which is a list-or-tuple of lists-or-tuples-or ndarrays with different lengths or shapes) is deprecated. If you meant to do this, you must specify 'dtype=object' when creating the ndarray.\n",
      "  return asarray(a).ndim\n",
      "C:\\Users\\lzorn\\.conda\\envs\\tm2_network_dev\\lib\\site-packages\\numpy\\core\\fromnumeric.py:3162: VisibleDeprecationWarning: Creating an ndarray from ragged nested sequences (which is a list-or-tuple of lists-or-tuples-or ndarrays with different lengths or shapes) is deprecated. If you meant to do this, you must specify 'dtype=object' when creating the ndarray.\n",
      "  return asarray(a).ndim\n"
     ]
    },
    {
     "name": "stdout",
     "output_type": "stream",
     "text": [
      "2022-01-20 13:44:39, INFO: Applying year 2015 ac transit route 99 edits\n",
      "2022-01-20 13:44:39, INFO: Applying Project to Transit Network: year 2015 ac transit route 99 edits\n",
      "2022-01-20 13:44:39, INFO: Creating a new stop in stops.txt for node ID: 3032871\n",
      "2022-01-20 13:44:39, INFO: Creating a new stop in stops.txt for node ID: 2517944\n",
      "2022-01-20 13:44:39, INFO: Creating a new stop in stops.txt for node ID: 2528537\n",
      "2022-01-20 13:44:39, INFO: Creating a new stop in stops.txt for node ID: 2570800\n",
      "2022-01-20 13:44:40, INFO: Creating a new stop in stops.txt for node ID: 2600747\n"
     ]
    },
    {
     "name": "stderr",
     "output_type": "stream",
     "text": [
      "C:\\Users\\lzorn\\.conda\\envs\\tm2_network_dev\\lib\\site-packages\\numpy\\core\\fromnumeric.py:3162: VisibleDeprecationWarning: Creating an ndarray from ragged nested sequences (which is a list-or-tuple of lists-or-tuples-or ndarrays with different lengths or shapes) is deprecated. If you meant to do this, you must specify 'dtype=object' when creating the ndarray.\n",
      "  return asarray(a).ndim\n",
      "C:\\Users\\lzorn\\.conda\\envs\\tm2_network_dev\\lib\\site-packages\\numpy\\core\\fromnumeric.py:3162: VisibleDeprecationWarning: Creating an ndarray from ragged nested sequences (which is a list-or-tuple of lists-or-tuples-or ndarrays with different lengths or shapes) is deprecated. If you meant to do this, you must specify 'dtype=object' when creating the ndarray.\n",
      "  return asarray(a).ndim\n",
      "C:\\Users\\lzorn\\.conda\\envs\\tm2_network_dev\\lib\\site-packages\\numpy\\core\\fromnumeric.py:3162: VisibleDeprecationWarning: Creating an ndarray from ragged nested sequences (which is a list-or-tuple of lists-or-tuples-or ndarrays with different lengths or shapes) is deprecated. If you meant to do this, you must specify 'dtype=object' when creating the ndarray.\n",
      "  return asarray(a).ndim\n",
      "C:\\Users\\lzorn\\.conda\\envs\\tm2_network_dev\\lib\\site-packages\\numpy\\core\\fromnumeric.py:3162: VisibleDeprecationWarning: Creating an ndarray from ragged nested sequences (which is a list-or-tuple of lists-or-tuples-or ndarrays with different lengths or shapes) is deprecated. If you meant to do this, you must specify 'dtype=object' when creating the ndarray.\n",
      "  return asarray(a).ndim\n",
      "C:\\Users\\lzorn\\.conda\\envs\\tm2_network_dev\\lib\\site-packages\\numpy\\core\\fromnumeric.py:3162: VisibleDeprecationWarning: Creating an ndarray from ragged nested sequences (which is a list-or-tuple of lists-or-tuples-or ndarrays with different lengths or shapes) is deprecated. If you meant to do this, you must specify 'dtype=object' when creating the ndarray.\n",
      "  return asarray(a).ndim\n"
     ]
    },
    {
     "name": "stdout",
     "output_type": "stream",
     "text": [
      "2022-01-20 13:44:41, INFO: Applying year 2015 ac transit route 40 edits\n",
      "2022-01-20 13:44:41, INFO: Applying year 2015 ac transit route 40 edits\n",
      "2022-01-20 13:44:41, INFO: Applying Project to Transit Network: year 2015 ac transit route 40 edits\n",
      "2022-01-20 13:44:44, INFO: Applying year 2015 ac transit route 38 edits\n",
      "2022-01-20 13:44:44, INFO: Applying year 2015 ac transit route 38 edits\n",
      "2022-01-20 13:44:44, INFO: Applying Project to Transit Network: year 2015 ac transit route 38 edits\n",
      "2022-01-20 13:44:45, INFO: Creating a new stop in stops.txt for node ID: 2503531\n",
      "2022-01-20 13:44:45, INFO: Creating a new stop in stops.txt for node ID: 2539453\n",
      "2022-01-20 13:44:45, INFO: Creating a new stop in stops.txt for node ID: 2564896\n"
     ]
    },
    {
     "name": "stderr",
     "output_type": "stream",
     "text": [
      "C:\\Users\\lzorn\\.conda\\envs\\tm2_network_dev\\lib\\site-packages\\numpy\\core\\fromnumeric.py:3162: VisibleDeprecationWarning: Creating an ndarray from ragged nested sequences (which is a list-or-tuple of lists-or-tuples-or ndarrays with different lengths or shapes) is deprecated. If you meant to do this, you must specify 'dtype=object' when creating the ndarray.\n",
      "  return asarray(a).ndim\n",
      "C:\\Users\\lzorn\\.conda\\envs\\tm2_network_dev\\lib\\site-packages\\numpy\\core\\fromnumeric.py:3162: VisibleDeprecationWarning: Creating an ndarray from ragged nested sequences (which is a list-or-tuple of lists-or-tuples-or ndarrays with different lengths or shapes) is deprecated. If you meant to do this, you must specify 'dtype=object' when creating the ndarray.\n",
      "  return asarray(a).ndim\n",
      "C:\\Users\\lzorn\\.conda\\envs\\tm2_network_dev\\lib\\site-packages\\numpy\\core\\fromnumeric.py:3162: VisibleDeprecationWarning: Creating an ndarray from ragged nested sequences (which is a list-or-tuple of lists-or-tuples-or ndarrays with different lengths or shapes) is deprecated. If you meant to do this, you must specify 'dtype=object' when creating the ndarray.\n",
      "  return asarray(a).ndim\n"
     ]
    },
    {
     "name": "stdout",
     "output_type": "stream",
     "text": [
      "2022-01-20 13:44:47, INFO: Applying year 2015 ac transit route 06 edits\n",
      "2022-01-20 13:44:47, INFO: Applying year 2015 ac transit route 06 edits\n",
      "2022-01-20 13:44:47, INFO: Applying Project to Transit Network: year 2015 ac transit route 06 edits\n",
      "2022-01-20 13:44:48, INFO: Creating a new stop in stops.txt for node ID: 2592196\n",
      "2022-01-20 13:44:48, INFO: Creating a new stop in stops.txt for node ID: 2606436\n",
      "2022-01-20 13:44:48, INFO: Creating a new stop in stops.txt for node ID: 2519741\n",
      "2022-01-20 13:44:48, INFO: Creating a new stop in stops.txt for node ID: 2571302\n",
      "2022-01-20 13:44:48, INFO: Creating a new stop in stops.txt for node ID: 2576003\n",
      "2022-01-20 13:44:48, INFO: Creating a new stop in stops.txt for node ID: 2521855\n"
     ]
    },
    {
     "name": "stderr",
     "output_type": "stream",
     "text": [
      "C:\\Users\\lzorn\\.conda\\envs\\tm2_network_dev\\lib\\site-packages\\numpy\\core\\fromnumeric.py:3162: VisibleDeprecationWarning: Creating an ndarray from ragged nested sequences (which is a list-or-tuple of lists-or-tuples-or ndarrays with different lengths or shapes) is deprecated. If you meant to do this, you must specify 'dtype=object' when creating the ndarray.\n",
      "  return asarray(a).ndim\n",
      "C:\\Users\\lzorn\\.conda\\envs\\tm2_network_dev\\lib\\site-packages\\numpy\\core\\fromnumeric.py:3162: VisibleDeprecationWarning: Creating an ndarray from ragged nested sequences (which is a list-or-tuple of lists-or-tuples-or ndarrays with different lengths or shapes) is deprecated. If you meant to do this, you must specify 'dtype=object' when creating the ndarray.\n",
      "  return asarray(a).ndim\n",
      "C:\\Users\\lzorn\\.conda\\envs\\tm2_network_dev\\lib\\site-packages\\numpy\\core\\fromnumeric.py:3162: VisibleDeprecationWarning: Creating an ndarray from ragged nested sequences (which is a list-or-tuple of lists-or-tuples-or ndarrays with different lengths or shapes) is deprecated. If you meant to do this, you must specify 'dtype=object' when creating the ndarray.\n",
      "  return asarray(a).ndim\n",
      "C:\\Users\\lzorn\\.conda\\envs\\tm2_network_dev\\lib\\site-packages\\numpy\\core\\fromnumeric.py:3162: VisibleDeprecationWarning: Creating an ndarray from ragged nested sequences (which is a list-or-tuple of lists-or-tuples-or ndarrays with different lengths or shapes) is deprecated. If you meant to do this, you must specify 'dtype=object' when creating the ndarray.\n",
      "  return asarray(a).ndim\n",
      "C:\\Users\\lzorn\\.conda\\envs\\tm2_network_dev\\lib\\site-packages\\numpy\\core\\fromnumeric.py:3162: VisibleDeprecationWarning: Creating an ndarray from ragged nested sequences (which is a list-or-tuple of lists-or-tuples-or ndarrays with different lengths or shapes) is deprecated. If you meant to do this, you must specify 'dtype=object' when creating the ndarray.\n",
      "  return asarray(a).ndim\n",
      "C:\\Users\\lzorn\\.conda\\envs\\tm2_network_dev\\lib\\site-packages\\numpy\\core\\fromnumeric.py:3162: VisibleDeprecationWarning: Creating an ndarray from ragged nested sequences (which is a list-or-tuple of lists-or-tuples-or ndarrays with different lengths or shapes) is deprecated. If you meant to do this, you must specify 'dtype=object' when creating the ndarray.\n",
      "  return asarray(a).ndim\n"
     ]
    },
    {
     "name": "stdout",
     "output_type": "stream",
     "text": [
      "2022-01-20 13:44:49, INFO: Applying ac transit fare system change to zonal fare\n",
      "2022-01-20 13:44:49, INFO: Applying Project to Transit Network: ac transit fare system change to zonal fare\n",
      "peak memory: 12969.22 MiB, increment: 1400.92 MiB\n",
      "Wall time: 25min 25s\n"
     ]
    }
   ],
   "source": [
    "%%time\n",
    "%%memit\n",
    "# Wall time: ~27min\n",
    "scenario.apply_all_projects()"
   ]
  },
  {
   "cell_type": "code",
   "execution_count": 32,
   "metadata": {},
   "outputs": [
    {
     "name": "stdout",
     "output_type": "stream",
     "text": [
      "2022-01-20 13:44:50, INFO: Adding centroid and centroid connector to standard network\n",
      "2022-01-20 13:44:50, INFO: Lasso base directory set as: C:/Users/lzorn/Documents/GitHub/Lasso\n",
      "2022-01-20 13:44:50, INFO: Lasso base directory set as: C:/Users/lzorn/Documents/GitHub/Lasso\n",
      "2022-01-20 13:45:28, INFO: Finished adding centroid and centroid connectors\n"
     ]
    }
   ],
   "source": [
    "scenario.road_net = mtc.add_centroid_and_centroid_connector(\n",
    "    roadway_network = scenario.road_net,\n",
    "    parameters = parameters)"
   ]
  },
  {
   "cell_type": "code",
   "execution_count": 33,
   "metadata": {},
   "outputs": [
    {
     "name": "stdout",
     "output_type": "stream",
     "text": [
      "(2199316, 44)\n",
      "2199316\n",
      "(688964, 12)\n",
      "688964\n",
      "(1152265, 6)\n"
     ]
    }
   ],
   "source": [
    "print(scenario.road_net.links_df.shape)\n",
    "print(scenario.road_net.links_df.model_link_id.nunique())\n",
    "print(scenario.road_net.nodes_df.shape)\n",
    "print(scenario.road_net.nodes_df.model_node_id.nunique())\n",
    "print(scenario.road_net.shapes_df.shape)"
   ]
  },
  {
   "cell_type": "code",
   "execution_count": 34,
   "metadata": {},
   "outputs": [
    {
     "data": {
      "text/plain": [
       "[{'sequence': 1,\n",
       "  'point': [-122.50580293859502, 37.94830473568058],\n",
       "  'distanceToNextRef': 51.382886808196375,\n",
       "  'bearing': 0,\n",
       "  'intersectionId': nan},\n",
       " {'sequence': 2,\n",
       "  'point': [-122.50576480000001, 37.9487303],\n",
       "  'intersectionId': '44c53879b5a9797cbb2eff72b5f64699'}]"
      ]
     },
     "execution_count": 34,
     "metadata": {},
     "output_type": "execute_result"
    }
   ],
   "source": [
    "scenario.road_net.links_df.locationReferences.iloc[-1]"
   ]
  },
  {
   "cell_type": "code",
   "execution_count": 35,
   "metadata": {
    "scrolled": true
   },
   "outputs": [
    {
     "name": "stdout",
     "output_type": "stream",
     "text": [
      "peak memory: 12466.98 MiB, increment: 1.75 MiB\n",
      "Wall time: 12.4 s\n"
     ]
    }
   ],
   "source": [
    "%%time\n",
    "%%memit\n",
    "# Wall time: ~6min\n",
    "scenario.remove_all_projects() # reset\n",
    "scenario.add_project_cards_from_tags(\n",
    "    folder=project_card_dir,\n",
    "    tags=['External Stations Review'],\n",
    "    validate=False\n",
    ")"
   ]
  },
  {
   "cell_type": "code",
   "execution_count": 36,
   "metadata": {},
   "outputs": [
    {
     "name": "stdout",
     "output_type": "stream",
     "text": [
      "2022-01-20 13:45:50, ERROR: Projects year 2015 golden gate bridge shape correction has add golden gate bridge toll plaza as prerequisite project which is missing for the scenario\n",
      "2022-01-20 13:45:50, ERROR: Projects year 2015 golden gate reversible lanes has add golden gate bridge toll plaza as prerequisite project which is missing for the scenario\n",
      "2022-01-20 13:45:50, ERROR: Projects year 2015 modify toll links on golden gate bridge toll plaza on us101 sb - bridge pass has add golden gate bridge toll plaza as prerequisite project which is missing for the scenario\n",
      "2022-01-20 13:45:50, ERROR: Projects year 2015 modify hov lanes and use on san mateo bridge toll plaza toll plaza on ca-92 wb - bridge pass has add san mateo bridge toll plaza as prerequisite project which is missing for the scenario\n",
      "2022-01-20 13:45:50, ERROR: Projects ac transit fare system change to zonal fare has year 2015 ac transit route 06 edits as prerequisite project which is missing for the scenario\n",
      "2022-01-20 13:45:50, ERROR: Projects ac transit fare system change to zonal fare has year 2015 ac transit route 38 edits as prerequisite project which is missing for the scenario\n",
      "2022-01-20 13:45:50, ERROR: Projects ac transit fare system change to zonal fare has year 2015 ac transit route 40 edits as prerequisite project which is missing for the scenario\n",
      "2022-01-20 13:45:50, ERROR: Projects ac transit fare system change to zonal fare has year 2015 ac transit route 99 edits as prerequisite project which is missing for the scenario\n",
      "2022-01-20 13:45:50, ERROR: Projects ac transit fare system change to zonal fare has year 2015 ac transit route 1 as prerequisite project which is missing for the scenario\n",
      "2022-01-20 13:45:50, ERROR: Projects ac transit fare system change to zonal fare has year 2015 ac transit route 1r as prerequisite project which is missing for the scenario\n",
      "2022-01-20 13:45:50, ERROR: Projects samtrans route 120 new stop nodes farezone assignment has year 2015 samtrans route 120 edits as prerequisite project which is missing for the scenario\n",
      "2022-01-20 13:45:50, ERROR: Projects samtrans route ecr new stop nodes farezone assignment has year 2015 samtrans route ecr edits as prerequisite project which is missing for the scenario\n",
      "2022-01-20 13:45:50, ERROR: Projects sfmta route n-judah has move street rail to street connector links as prerequisite project which is missing for the scenario\n",
      "2022-01-20 13:45:50, ERROR: Projects update routing for golden gate bridge toll plaza transit has add golden gate bridge toll plaza as prerequisite project which is missing for the scenario\n",
      "2022-01-20 13:45:50, ERROR: Projects update routing for san mateo bridge toll plaza transit has add san mateo bridge toll plaza as prerequisite project which is missing for the scenario\n",
      "2022-01-20 13:45:50, INFO: Applying Year 2015 Add centroid connector at External Station connecting William Elton Brown Freeway I-580 SB\n",
      "2022-01-20 13:45:50, INFO: Applying Year 2015 Add centroid connector at External Station connecting William Elton Brown Freeway I-580 SB\n",
      "2022-01-20 13:45:50, INFO: Applying Project to Roadway Network: Year 2015 Add centroid connector at External Station connecting William Elton Brown Freeway I-580 SB\n",
      "2022-01-20 13:49:12, INFO: Applying Year 2015 Add centroid connector at External Station connecting William Elton Brown Freeway I-580 NB\n",
      "2022-01-20 13:49:12, INFO: Applying Year 2015 Add centroid connector at External Station connecting William Elton Brown Freeway I-580 NB\n",
      "2022-01-20 13:49:12, INFO: Applying Project to Roadway Network: Year 2015 Add centroid connector at External Station connecting William Elton Brown Freeway I-580 NB\n",
      "2022-01-20 13:52:37, INFO: Applying Year 2015 Add centroid connector at External Station connecting Vic Fazio Highway CA-113 NB\n",
      "2022-01-20 13:52:37, INFO: Applying Year 2015 Add centroid connector at External Station connecting Vic Fazio Highway CA-113 NB\n",
      "2022-01-20 13:52:37, INFO: Applying Project to Roadway Network: Year 2015 Add centroid connector at External Station connecting Vic Fazio Highway CA-113 NB\n",
      "2022-01-20 13:56:07, INFO: Applying Year 2015 Add centroid connector at External Station connecting Vic Fazio Freeway CA-113 SB\n",
      "2022-01-20 13:56:07, INFO: Applying Year 2015 Add centroid connector at External Station connecting Vic Fazio Freeway CA-113 SB\n",
      "2022-01-20 13:56:07, INFO: Applying Project to Roadway Network: Year 2015 Add centroid connector at External Station connecting Vic Fazio Freeway CA-113 SB\n",
      "2022-01-20 13:59:39, INFO: Applying Year 2015 Add centroid connector at External Station connecting South Valley Freeway US-101 SB\n",
      "2022-01-20 13:59:39, INFO: Applying Year 2015 Add centroid connector at External Station connecting South Valley Freeway US-101 SB\n",
      "2022-01-20 13:59:39, INFO: Applying Project to Roadway Network: Year 2015 Add centroid connector at External Station connecting South Valley Freeway US-101 SB\n",
      "2022-01-20 14:03:02, INFO: Applying Year 2015 Add centroid connector at External Station connecting South Valley Freeway US-101 NB\n",
      "2022-01-20 14:03:02, INFO: Applying Year 2015 Add centroid connector at External Station connecting South Valley Freeway US-101 NB\n",
      "2022-01-20 14:03:02, INFO: Applying Project to Roadway Network: Year 2015 Add centroid connector at External Station connecting South Valley Freeway US-101 NB\n",
      "2022-01-20 14:06:30, INFO: Applying Year 2015 Add centroid connector at External Station connecting Skyline Boulevard CA-35 SB\n",
      "2022-01-20 14:06:30, INFO: Applying Year 2015 Add centroid connector at External Station connecting Skyline Boulevard CA-35 SB\n",
      "2022-01-20 14:06:30, INFO: Applying Project to Roadway Network: Year 2015 Add centroid connector at External Station connecting Skyline Boulevard CA-35 SB\n",
      "2022-01-20 14:09:58, INFO: Applying Year 2015 Add centroid connector at External Station connecting Skyline Boulevard CA-35 NB\n",
      "2022-01-20 14:09:58, INFO: Applying Year 2015 Add centroid connector at External Station connecting Skyline Boulevard CA-35 NB\n",
      "2022-01-20 14:09:58, INFO: Applying Project to Roadway Network: Year 2015 Add centroid connector at External Station connecting Skyline Boulevard CA-35 NB\n",
      "2022-01-20 14:13:28, INFO: Applying Year 2015 Add centroid connector at External Station connecting Santa Cruz Highway CA-17 SB\n",
      "2022-01-20 14:13:28, INFO: Applying Year 2015 Add centroid connector at External Station connecting Santa Cruz Highway CA-17 SB\n",
      "2022-01-20 14:13:28, INFO: Applying Project to Roadway Network: Year 2015 Add centroid connector at External Station connecting Santa Cruz Highway CA-17 SB\n",
      "2022-01-20 14:16:54, INFO: Applying Year 2015 Add centroid connector at External Station connecting Santa Cruz Highway CA-17 NB\n",
      "2022-01-20 14:16:54, INFO: Applying Year 2015 Add centroid connector at External Station connecting Santa Cruz Highway CA-17 NB\n",
      "2022-01-20 14:16:54, INFO: Applying Project to Roadway Network: Year 2015 Add centroid connector at External Station connecting Santa Cruz Highway CA-17 NB\n",
      "2022-01-20 14:20:13, INFO: Applying Year 2015 Add centroid connector at External Station connecting Redwood Highway US-101 SB\n",
      "2022-01-20 14:20:13, INFO: Applying Year 2015 Add centroid connector at External Station connecting Redwood Highway US-101 SB\n",
      "2022-01-20 14:20:13, INFO: Applying Project to Roadway Network: Year 2015 Add centroid connector at External Station connecting Redwood Highway US-101 SB\n",
      "2022-01-20 14:23:40, INFO: Applying Year 2015 Add centroid connector at External Station connecting Redwood Highway US-101 NB\n",
      "2022-01-20 14:23:40, INFO: Applying Year 2015 Add centroid connector at External Station connecting Redwood Highway US-101 NB\n",
      "2022-01-20 14:23:40, INFO: Applying Project to Roadway Network: Year 2015 Add centroid connector at External Station connecting Redwood Highway US-101 NB\n",
      "2022-01-20 14:27:06, INFO: Applying Year 2015 Add centroid connector at External Station connecting Pacheco Pass Highway CA-156 SB\n",
      "2022-01-20 14:27:06, INFO: Applying Year 2015 Add centroid connector at External Station connecting Pacheco Pass Highway CA-156 SB\n",
      "2022-01-20 14:27:06, INFO: Applying Project to Roadway Network: Year 2015 Add centroid connector at External Station connecting Pacheco Pass Highway CA-156 SB\n"
     ]
    },
    {
     "name": "stdout",
     "output_type": "stream",
     "text": [
      "2022-01-20 14:30:32, INFO: Applying Year 2015 Add centroid connector at External Station connecting Pacheco Pass Highway CA-156 NB\n",
      "2022-01-20 14:30:32, INFO: Applying Year 2015 Add centroid connector at External Station connecting Pacheco Pass Highway CA-156 NB\n",
      "2022-01-20 14:30:32, INFO: Applying Project to Roadway Network: Year 2015 Add centroid connector at External Station connecting Pacheco Pass Highway CA-156 NB\n",
      "2022-01-20 14:33:53, INFO: Applying Year 2015 Add centroid connector at External Station connecting Pacheco Pass Highway CA-152 SB\n",
      "2022-01-20 14:33:53, INFO: Applying Year 2015 Add centroid connector at External Station connecting Pacheco Pass Highway CA-152 SB\n",
      "2022-01-20 14:33:53, INFO: Applying Project to Roadway Network: Year 2015 Add centroid connector at External Station connecting Pacheco Pass Highway CA-152 SB\n",
      "2022-01-20 14:37:20, INFO: Applying Year 2015 Add centroid connector at External Station connecting Pacheco Pass Highway CA-152 NB\n",
      "2022-01-20 14:37:20, INFO: Applying Year 2015 Add centroid connector at External Station connecting Pacheco Pass Highway CA-152 NB\n",
      "2022-01-20 14:37:20, INFO: Applying Project to Roadway Network: Year 2015 Add centroid connector at External Station connecting Pacheco Pass Highway CA-152 NB\n",
      "2022-01-20 14:40:51, INFO: Applying Year 2015 Add centroid connector at External Station connecting I-505 SB\n",
      "2022-01-20 14:40:51, INFO: Applying Year 2015 Add centroid connector at External Station connecting I-505 SB\n",
      "2022-01-20 14:40:51, INFO: Applying Project to Roadway Network: Year 2015 Add centroid connector at External Station connecting I-505 SB\n",
      "2022-01-20 14:44:25, INFO: Applying Year 2015 Add centroid connector at External Station connecting I-505 NB\n",
      "2022-01-20 14:44:25, INFO: Applying Year 2015 Add centroid connector at External Station connecting I-505 NB\n",
      "2022-01-20 14:44:25, INFO: Applying Project to Roadway Network: Year 2015 Add centroid connector at External Station connecting I-505 NB\n",
      "2022-01-20 14:47:51, INFO: Applying Year 2015 Add centroid connector at External Station connecting Geysers Road SB\n",
      "2022-01-20 14:47:51, INFO: Applying Year 2015 Add centroid connector at External Station connecting Geysers Road SB\n",
      "2022-01-20 14:47:51, INFO: Applying Project to Roadway Network: Year 2015 Add centroid connector at External Station connecting Geysers Road SB\n",
      "2022-01-20 14:51:23, INFO: Applying Year 2015 Add centroid connector at External Station connecting Geysers Road NB\n",
      "2022-01-20 14:51:23, INFO: Applying Year 2015 Add centroid connector at External Station connecting Geysers Road NB\n",
      "2022-01-20 14:51:23, INFO: Applying Project to Roadway Network: Year 2015 Add centroid connector at External Station connecting Geysers Road NB\n",
      "2022-01-20 14:54:55, INFO: Applying Year 2015 Add centroid connector at External Station connecting Dwight D Eisenhower Highway I-80 WB\n",
      "2022-01-20 14:54:55, INFO: Applying Year 2015 Add centroid connector at External Station connecting Dwight D Eisenhower Highway I-80 WB\n",
      "2022-01-20 14:54:55, INFO: Applying Project to Roadway Network: Year 2015 Add centroid connector at External Station connecting Dwight D Eisenhower Highway I-80 WB\n",
      "2022-01-20 14:58:24, INFO: Applying Year 2015 Add centroid connector at External Station connecting Dwight D Eisenhower Highway I-80 EB\n",
      "2022-01-20 14:58:24, INFO: Applying Year 2015 Add centroid connector at External Station connecting Dwight D Eisenhower Highway I-80 EB\n",
      "2022-01-20 14:58:24, INFO: Applying Project to Roadway Network: Year 2015 Add centroid connector at External Station connecting Dwight D Eisenhower Highway I-80 EB\n",
      "2022-01-20 15:01:50, INFO: Applying Year 2015 Add centroid connector at External Station connecting Cabrillo Highway CA-1 SB\n",
      "2022-01-20 15:01:50, INFO: Applying Year 2015 Add centroid connector at External Station connecting Cabrillo Highway CA-1 SB\n",
      "2022-01-20 15:01:50, INFO: Applying Project to Roadway Network: Year 2015 Add centroid connector at External Station connecting Cabrillo Highway CA-1 SB\n",
      "2022-01-20 15:05:14, INFO: Applying Year 2015 Add centroid connector at External Station connecting Cabrillo Highway CA-1 NB\n",
      "2022-01-20 15:05:14, INFO: Applying Year 2015 Add centroid connector at External Station connecting Cabrillo Highway CA-1 NB\n",
      "2022-01-20 15:05:14, INFO: Applying Project to Roadway Network: Year 2015 Add centroid connector at External Station connecting Cabrillo Highway CA-1 NB\n",
      "2022-01-20 15:08:45, INFO: Applying Year 2015 Add centroid connector at External Station connecting Antioch Bridge CA-160 SB\n",
      "2022-01-20 15:08:45, INFO: Applying Year 2015 Add centroid connector at External Station connecting Antioch Bridge CA-160 SB\n",
      "2022-01-20 15:08:45, INFO: Applying Project to Roadway Network: Year 2015 Add centroid connector at External Station connecting Antioch Bridge CA-160 SB\n",
      "2022-01-20 15:12:18, INFO: Applying Year 2015 Add centroid connector at External Station connecting Antioch Bridge CA-160 NB\n",
      "2022-01-20 15:12:18, INFO: Applying Year 2015 Add centroid connector at External Station connecting Antioch Bridge CA-160 NB\n",
      "2022-01-20 15:12:18, INFO: Applying Project to Roadway Network: Year 2015 Add centroid connector at External Station connecting Antioch Bridge CA-160 NB\n",
      "peak memory: 14987.99 MiB, increment: 2522.26 MiB\n",
      "Wall time: 1h 30min 7s\n"
     ]
    }
   ],
   "source": [
    "%%time\n",
    "%%memit\n",
    "# Wall time: ~1h 50min\n",
    "scenario.apply_all_projects()"
   ]
  },
  {
   "cell_type": "code",
   "execution_count": 37,
   "metadata": {},
   "outputs": [
    {
     "name": "stdout",
     "output_type": "stream",
     "text": [
      "(2199342, 44)\n",
      "2199342\n",
      "(688964, 12)\n",
      "688964\n"
     ]
    }
   ],
   "source": [
    "print(scenario.road_net.links_df.shape)\n",
    "print(scenario.road_net.links_df.model_link_id.nunique())\n",
    "print(scenario.road_net.nodes_df.shape)\n",
    "print(scenario.road_net.nodes_df.model_node_id.nunique())"
   ]
  },
  {
   "cell_type": "code",
   "execution_count": 38,
   "metadata": {},
   "outputs": [
    {
     "name": "stdout",
     "output_type": "stream",
     "text": [
      "2022-01-20 15:15:51, INFO: Adding tap and tap connector to standard network\n",
      "2022-01-20 15:15:51, INFO: Lasso base directory set as: C:/Users/lzorn/Documents/GitHub/Lasso\n",
      "2022-01-20 15:15:51, INFO: Lasso base directory set as: C:/Users/lzorn/Documents/GitHub/Lasso\n",
      "2022-01-20 15:15:52, INFO: There are 601 stops not connected to taps, connecting them to the closest taps.\n",
      "snapping gtfs stops to roadway node osmid...\n"
     ]
    },
    {
     "name": "stderr",
     "output_type": "stream",
     "text": [
      "c:\\users\\lzorn\\documents\\github\\lasso\\lasso\\mtc.py:2636: FutureWarning: CRS mismatch between CRS of the passed geometries and 'crs'. Use 'GeoDataFrame.set_crs(crs, allow_override=True)' to overwrite CRS or 'GeoDataFrame.to_crs(crs)' to reproject geometries. CRS mismatch will raise an error in the future versions of GeoPandas.\n",
      "  crs = \"EPSG:4326\"\n"
     ]
    },
    {
     "name": "stdout",
     "output_type": "stream",
     "text": [
      "2022-01-20 15:16:04, INFO: Finished adding tap and tap connectors\n"
     ]
    }
   ],
   "source": [
    "# add taps and tap connectors\n",
    "scenario.road_net = mtc.add_tap_and_tap_connector(\n",
    "    roadway_network = scenario.road_net,\n",
    "    transit_network = scenario.transit_net, \n",
    "    parameters = parameters)"
   ]
  },
  {
   "cell_type": "code",
   "execution_count": 39,
   "metadata": {},
   "outputs": [
    {
     "name": "stdout",
     "output_type": "stream",
     "text": [
      "2022-01-20 15:16:04, INFO: County Variable 'county' already in network, calculating for missing ones\n",
      "2022-01-20 15:16:04, INFO: Adding roadway network variable for county using a spatial join with: C:/Users/lzorn/Documents/GitHub/Lasso\\mtc_data\\county\\county.shp\n"
     ]
    },
    {
     "name": "stderr",
     "output_type": "stream",
     "text": [
      "c:\\users\\lzorn\\documents\\github\\lasso\\lasso\\mtc.py:2803: UserWarning: Geometry is in a geographic CRS. Results from 'centroid' are likely incorrect. Use 'GeoSeries.to_crs()' to re-project geometries to a projected CRS before this operation.\n",
      "\n",
      "  link_centroids_gdf[\"geometry\"] = link_centroids_gdf[\"geometry\"].centroid\n"
     ]
    },
    {
     "name": "stdout",
     "output_type": "stream",
     "text": [
      "2022-01-20 15:22:11, INFO: Finished Calculating link county variable: county\n",
      "2022-01-20 15:23:38, INFO: Finished Calculating node county variable: county\n"
     ]
    }
   ],
   "source": [
    "%%time\n",
    "%memit\n",
    "# add county\n",
    "scenario.road_net = mtc.calculate_county(\n",
    "    roadway_network = scenario.road_net,\n",
    "    parameters = parameters,\n",
    "    network_variable = 'county'\n",
    ")"
   ]
  },
  {
   "cell_type": "code",
   "execution_count": 40,
   "metadata": {},
   "outputs": [
    {
     "data": {
      "text/plain": [
       "Santa Clara      660008\n",
       "Alameda          443532\n",
       "Contra Costa     326621\n",
       "San Mateo        203882\n",
       "Sonoma           178792\n",
       "Solano           157454\n",
       "San Francisco    133512\n",
       "Marin             84883\n",
       "Napa              47068\n",
       "External             28\n",
       "Name: county, dtype: int64"
      ]
     },
     "execution_count": 40,
     "metadata": {},
     "output_type": "execute_result"
    }
   ],
   "source": [
    "scenario.road_net.links_df.county.value_counts()"
   ]
  },
  {
   "cell_type": "code",
   "execution_count": 41,
   "metadata": {},
   "outputs": [
    {
     "data": {
      "text/plain": [
       "Santa Clara      203748\n",
       "Alameda          137128\n",
       "Contra Costa     104665\n",
       "San Mateo         61887\n",
       "Sonoma            59970\n",
       "Solano            50710\n",
       "San Francisco     33406\n",
       "Marin             28439\n",
       "Napa              14990\n",
       "External             21\n",
       "Name: county, dtype: int64"
      ]
     },
     "execution_count": 41,
     "metadata": {},
     "output_type": "execute_result"
    }
   ],
   "source": [
    "scenario.road_net.nodes_df.county.value_counts()"
   ]
  },
  {
   "cell_type": "markdown",
   "metadata": {},
   "source": [
    "# sanity check"
   ]
  },
  {
   "cell_type": "code",
   "execution_count": 42,
   "metadata": {},
   "outputs": [
    {
     "data": {
      "text/html": [
       "<div>\n",
       "<style scoped>\n",
       "    .dataframe tbody tr th:only-of-type {\n",
       "        vertical-align: middle;\n",
       "    }\n",
       "\n",
       "    .dataframe tbody tr th {\n",
       "        vertical-align: top;\n",
       "    }\n",
       "\n",
       "    .dataframe thead th {\n",
       "        text-align: right;\n",
       "    }\n",
       "</style>\n",
       "<table border=\"1\" class=\"dataframe\">\n",
       "  <thead>\n",
       "    <tr style=\"text-align: right;\">\n",
       "      <th></th>\n",
       "      <th>access</th>\n",
       "      <th>bike_access</th>\n",
       "      <th>drive_access</th>\n",
       "      <th>fromIntersectionId</th>\n",
       "      <th>lanes</th>\n",
       "      <th>maxspeed</th>\n",
       "      <th>name</th>\n",
       "      <th>oneWay</th>\n",
       "      <th>ref</th>\n",
       "      <th>roadway</th>\n",
       "      <th>...</th>\n",
       "      <th>transit_access</th>\n",
       "      <th>managed</th>\n",
       "      <th>ML_lanes</th>\n",
       "      <th>segment_id</th>\n",
       "      <th>ML_tollbooth</th>\n",
       "      <th>ML_useclass</th>\n",
       "      <th>ML_access</th>\n",
       "      <th>ML_egress</th>\n",
       "      <th>ML_tollseg</th>\n",
       "      <th>tollseg</th>\n",
       "    </tr>\n",
       "  </thead>\n",
       "  <tbody>\n",
       "    <tr>\n",
       "      <th>765902</th>\n",
       "      <td></td>\n",
       "      <td>False</td>\n",
       "      <td>True</td>\n",
       "      <td>d1b76ff92ba7a2915de8efc97c782d73</td>\n",
       "      <td>2</td>\n",
       "      <td></td>\n",
       "      <td></td>\n",
       "      <td>True</td>\n",
       "      <td></td>\n",
       "      <td>motorway_link</td>\n",
       "      <td>...</td>\n",
       "      <td>NaN</td>\n",
       "      <td>0</td>\n",
       "      <td>NaN</td>\n",
       "      <td>NaN</td>\n",
       "      <td>NaN</td>\n",
       "      <td>NaN</td>\n",
       "      <td>NaN</td>\n",
       "      <td>NaN</td>\n",
       "      <td>NaN</td>\n",
       "      <td>NaN</td>\n",
       "    </tr>\n",
       "  </tbody>\n",
       "</table>\n",
       "<p>1 rows × 44 columns</p>\n",
       "</div>"
      ],
      "text/plain": [
       "       access bike_access drive_access                fromIntersectionId  \\\n",
       "765902              False         True  d1b76ff92ba7a2915de8efc97c782d73   \n",
       "\n",
       "       lanes maxspeed name oneWay ref        roadway  ... transit_access  \\\n",
       "765902     2                 True      motorway_link  ...            NaN   \n",
       "\n",
       "       managed ML_lanes segment_id ML_tollbooth ML_useclass ML_access  \\\n",
       "765902       0      NaN        NaN          NaN         NaN       NaN   \n",
       "\n",
       "       ML_egress  ML_tollseg  tollseg  \n",
       "765902       NaN         NaN      NaN  \n",
       "\n",
       "[1 rows x 44 columns]"
      ]
     },
     "execution_count": 42,
     "metadata": {},
     "output_type": "execute_result"
    }
   ],
   "source": [
    "scenario.road_net.links_df[scenario.road_net.links_df.model_link_id == 3150085] # should be ramp lanes 2"
   ]
  },
  {
   "cell_type": "code",
   "execution_count": 43,
   "metadata": {},
   "outputs": [
    {
     "data": {
      "text/html": [
       "<div>\n",
       "<style scoped>\n",
       "    .dataframe tbody tr th:only-of-type {\n",
       "        vertical-align: middle;\n",
       "    }\n",
       "\n",
       "    .dataframe tbody tr th {\n",
       "        vertical-align: top;\n",
       "    }\n",
       "\n",
       "    .dataframe thead th {\n",
       "        text-align: right;\n",
       "    }\n",
       "</style>\n",
       "<table border=\"1\" class=\"dataframe\">\n",
       "  <thead>\n",
       "    <tr style=\"text-align: right;\">\n",
       "      <th></th>\n",
       "      <th>access</th>\n",
       "      <th>bike_access</th>\n",
       "      <th>drive_access</th>\n",
       "      <th>fromIntersectionId</th>\n",
       "      <th>lanes</th>\n",
       "      <th>maxspeed</th>\n",
       "      <th>name</th>\n",
       "      <th>oneWay</th>\n",
       "      <th>ref</th>\n",
       "      <th>roadway</th>\n",
       "      <th>...</th>\n",
       "      <th>transit_access</th>\n",
       "      <th>managed</th>\n",
       "      <th>ML_lanes</th>\n",
       "      <th>segment_id</th>\n",
       "      <th>ML_tollbooth</th>\n",
       "      <th>ML_useclass</th>\n",
       "      <th>ML_access</th>\n",
       "      <th>ML_egress</th>\n",
       "      <th>ML_tollseg</th>\n",
       "      <th>tollseg</th>\n",
       "    </tr>\n",
       "  </thead>\n",
       "  <tbody>\n",
       "    <tr>\n",
       "      <th>548523</th>\n",
       "      <td>['nan', 'nan']</td>\n",
       "      <td>False</td>\n",
       "      <td>True</td>\n",
       "      <td>826a99158fd58e5483d1085c9e0d65b3</td>\n",
       "      <td>{'default': 4, 'timeofday': [{'time': (21600, ...</td>\n",
       "      <td>['nan', 'nan']</td>\n",
       "      <td>['nan', 'nan']</td>\n",
       "      <td>[True, True]</td>\n",
       "      <td>['I 80', 'I 80']</td>\n",
       "      <td>motorway</td>\n",
       "      <td>...</td>\n",
       "      <td>NaN</td>\n",
       "      <td>1</td>\n",
       "      <td>{'default': 0, 'timeofday': [{'time': (21600, ...</td>\n",
       "      <td>5</td>\n",
       "      <td>5</td>\n",
       "      <td>{'default': 0, 'timeofday': [{'time': (21600, ...</td>\n",
       "      <td>all</td>\n",
       "      <td>all</td>\n",
       "      <td>NaN</td>\n",
       "      <td>NaN</td>\n",
       "    </tr>\n",
       "  </tbody>\n",
       "</table>\n",
       "<p>1 rows × 44 columns</p>\n",
       "</div>"
      ],
      "text/plain": [
       "                access bike_access drive_access  \\\n",
       "548523  ['nan', 'nan']       False         True   \n",
       "\n",
       "                      fromIntersectionId  \\\n",
       "548523  826a99158fd58e5483d1085c9e0d65b3   \n",
       "\n",
       "                                                    lanes        maxspeed  \\\n",
       "548523  {'default': 4, 'timeofday': [{'time': (21600, ...  ['nan', 'nan']   \n",
       "\n",
       "                  name        oneWay               ref   roadway  ...  \\\n",
       "548523  ['nan', 'nan']  [True, True]  ['I 80', 'I 80']  motorway  ...   \n",
       "\n",
       "       transit_access managed  \\\n",
       "548523            NaN       1   \n",
       "\n",
       "                                                 ML_lanes segment_id  \\\n",
       "548523  {'default': 0, 'timeofday': [{'time': (21600, ...          5   \n",
       "\n",
       "       ML_tollbooth                                        ML_useclass  \\\n",
       "548523            5  {'default': 0, 'timeofday': [{'time': (21600, ...   \n",
       "\n",
       "       ML_access ML_egress  ML_tollseg  tollseg  \n",
       "548523       all       all         NaN      NaN  \n",
       "\n",
       "[1 rows x 44 columns]"
      ]
     },
     "execution_count": 43,
     "metadata": {},
     "output_type": "execute_result"
    }
   ],
   "source": [
    "scenario.road_net.links_df[scenario.road_net.links_df.model_link_id == 3107408] # bay bridge toll link"
   ]
  },
  {
   "cell_type": "code",
   "execution_count": 44,
   "metadata": {},
   "outputs": [
    {
     "data": {
      "text/plain": [
       "A     900020\n",
       "B    2192724\n",
       "Name: 2199322, dtype: object"
      ]
     },
     "execution_count": 44,
     "metadata": {},
     "output_type": "execute_result"
    }
   ],
   "source": [
    "scenario.road_net.links_df[\n",
    "    scenario.road_net.links_df.model_link_id == 26067343\n",
    "].iloc[0][[\"A\", \"B\"]]"
   ]
  },
  {
   "cell_type": "code",
   "execution_count": 45,
   "metadata": {},
   "outputs": [
    {
     "data": {
      "text/html": [
       "<div>\n",
       "<style scoped>\n",
       "    .dataframe tbody tr th:only-of-type {\n",
       "        vertical-align: middle;\n",
       "    }\n",
       "\n",
       "    .dataframe tbody tr th {\n",
       "        vertical-align: top;\n",
       "    }\n",
       "\n",
       "    .dataframe thead th {\n",
       "        text-align: right;\n",
       "    }\n",
       "</style>\n",
       "<table border=\"1\" class=\"dataframe\">\n",
       "  <thead>\n",
       "    <tr style=\"text-align: right;\">\n",
       "      <th></th>\n",
       "      <th>access</th>\n",
       "      <th>bike_access</th>\n",
       "      <th>drive_access</th>\n",
       "      <th>fromIntersectionId</th>\n",
       "      <th>lanes</th>\n",
       "      <th>maxspeed</th>\n",
       "      <th>name</th>\n",
       "      <th>oneWay</th>\n",
       "      <th>ref</th>\n",
       "      <th>roadway</th>\n",
       "      <th>...</th>\n",
       "      <th>transit_access</th>\n",
       "      <th>managed</th>\n",
       "      <th>ML_lanes</th>\n",
       "      <th>segment_id</th>\n",
       "      <th>ML_tollbooth</th>\n",
       "      <th>ML_useclass</th>\n",
       "      <th>ML_access</th>\n",
       "      <th>ML_egress</th>\n",
       "      <th>ML_tollseg</th>\n",
       "      <th>tollseg</th>\n",
       "    </tr>\n",
       "  </thead>\n",
       "  <tbody>\n",
       "  </tbody>\n",
       "</table>\n",
       "<p>0 rows × 44 columns</p>\n",
       "</div>"
      ],
      "text/plain": [
       "Empty GeoDataFrame\n",
       "Columns: [access, bike_access, drive_access, fromIntersectionId, lanes, maxspeed, name, oneWay, ref, roadway, shstGeometryId, shstReferenceId, toIntersectionId, u, v, walk_access, wayId, county, model_link_id, A, B, rail_traveltime, rail_only, locationReferences, geometry, ft_cal, ft, useclass, assignable_cal, assignable, transit, id, tollbooth, bus_only, transit_access, managed, ML_lanes, segment_id, ML_tollbooth, ML_useclass, ML_access, ML_egress, ML_tollseg, tollseg]\n",
       "Index: []\n",
       "\n",
       "[0 rows x 44 columns]"
      ]
     },
     "execution_count": 45,
     "metadata": {},
     "output_type": "execute_result"
    }
   ],
   "source": [
    "# this link is deleted and splitted into two for toll plaza at GGB\n",
    "scenario.road_net.links_df[\n",
    "    scenario.road_net.links_df.model_link_id == 8016300]"
   ]
  },
  {
   "cell_type": "code",
   "execution_count": 46,
   "metadata": {},
   "outputs": [
    {
     "data": {
      "text/plain": [
       "{'default': 3,\n",
       " 'timeofday': [{'time': (21600, 36000), 'value': 4},\n",
       "  {'time': (54000, 68400), 'value': 2}]}"
      ]
     },
     "execution_count": 46,
     "metadata": {},
     "output_type": "execute_result"
    }
   ],
   "source": [
    "# golden gate bridge\n",
    "scenario.road_net.links_df[\n",
    "    scenario.road_net.links_df.model_link_id == 8063198].lanes.iloc[0]"
   ]
  },
  {
   "cell_type": "code",
   "execution_count": 47,
   "metadata": {},
   "outputs": [
    {
     "data": {
      "text/plain": [
       "{'default': 0,\n",
       " 'timeofday': [{'time': (21600, 36000), 'value': 2},\n",
       "  {'time': (54000, 68400), 'value': 2}]}"
      ]
     },
     "execution_count": 47,
     "metadata": {},
     "output_type": "execute_result"
    }
   ],
   "source": [
    "# golden gate bridge HOV\n",
    "scenario.road_net.links_df[\n",
    "    scenario.road_net.links_df.model_link_id == 8063199].ML_lanes.iloc[0]"
   ]
  },
  {
   "cell_type": "code",
   "execution_count": 48,
   "metadata": {},
   "outputs": [
    {
     "data": {
      "text/html": [
       "<div>\n",
       "<style scoped>\n",
       "    .dataframe tbody tr th:only-of-type {\n",
       "        vertical-align: middle;\n",
       "    }\n",
       "\n",
       "    .dataframe tbody tr th {\n",
       "        vertical-align: top;\n",
       "    }\n",
       "\n",
       "    .dataframe thead th {\n",
       "        text-align: right;\n",
       "    }\n",
       "</style>\n",
       "<table border=\"1\" class=\"dataframe\">\n",
       "  <thead>\n",
       "    <tr style=\"text-align: right;\">\n",
       "      <th></th>\n",
       "      <th>osm_node_id</th>\n",
       "      <th>shst_node_id</th>\n",
       "      <th>county</th>\n",
       "      <th>drive_access</th>\n",
       "      <th>walk_access</th>\n",
       "      <th>bike_access</th>\n",
       "      <th>model_node_id</th>\n",
       "      <th>rail_only</th>\n",
       "      <th>X</th>\n",
       "      <th>Y</th>\n",
       "      <th>geometry</th>\n",
       "      <th>farezone</th>\n",
       "    </tr>\n",
       "  </thead>\n",
       "  <tbody>\n",
       "    <tr>\n",
       "      <th>644481</th>\n",
       "      <td>NaN</td>\n",
       "      <td></td>\n",
       "      <td>Marin</td>\n",
       "      <td>1.0</td>\n",
       "      <td>0.0</td>\n",
       "      <td>0.0</td>\n",
       "      <td>5030001</td>\n",
       "      <td>0.0</td>\n",
       "      <td>-122.47658</td>\n",
       "      <td>37.808073</td>\n",
       "      <td>POINT (-122.47658 37.80807)</td>\n",
       "      <td></td>\n",
       "    </tr>\n",
       "  </tbody>\n",
       "</table>\n",
       "</div>"
      ],
      "text/plain": [
       "        osm_node_id shst_node_id county  drive_access  walk_access  \\\n",
       "644481          NaN               Marin           1.0          0.0   \n",
       "\n",
       "        bike_access  model_node_id  rail_only          X          Y  \\\n",
       "644481          0.0        5030001        0.0 -122.47658  37.808073   \n",
       "\n",
       "                           geometry farezone  \n",
       "644481  POINT (-122.47658 37.80807)           "
      ]
     },
     "execution_count": 48,
     "metadata": {},
     "output_type": "execute_result"
    }
   ],
   "source": [
    "# check if new node is created for toll plaza at GGB\n",
    "scenario.road_net.nodes_df[scenario.road_net.nodes_df.model_node_id == 5030001]"
   ]
  },
  {
   "cell_type": "code",
   "execution_count": 49,
   "metadata": {},
   "outputs": [
    {
     "data": {
      "text/plain": [
       "{'default': 9,\n",
       " 'timeofday': [{'time': (21600, 36000), 'value': 7},\n",
       "  {'time': (54000, 68400), 'value': 7}]}"
      ]
     },
     "execution_count": 49,
     "metadata": {},
     "output_type": "execute_result"
    }
   ],
   "source": [
    "# golden gate bridge toll plaza\n",
    "scenario.road_net.links_df[\n",
    "    scenario.road_net.links_df.model_link_id == 8063199].lanes.iloc[0]"
   ]
  },
  {
   "cell_type": "code",
   "execution_count": 50,
   "metadata": {},
   "outputs": [
    {
     "data": {
      "text/html": [
       "<div>\n",
       "<style scoped>\n",
       "    .dataframe tbody tr th:only-of-type {\n",
       "        vertical-align: middle;\n",
       "    }\n",
       "\n",
       "    .dataframe tbody tr th {\n",
       "        vertical-align: top;\n",
       "    }\n",
       "\n",
       "    .dataframe thead th {\n",
       "        text-align: right;\n",
       "    }\n",
       "</style>\n",
       "<table border=\"1\" class=\"dataframe\">\n",
       "  <thead>\n",
       "    <tr style=\"text-align: right;\">\n",
       "      <th></th>\n",
       "      <th>id</th>\n",
       "      <th>geometry</th>\n",
       "    </tr>\n",
       "  </thead>\n",
       "  <tbody>\n",
       "    <tr>\n",
       "      <th>1634794</th>\n",
       "      <td>d01b27cabff869e0bf4f7187ee77d6de</td>\n",
       "      <td>LINESTRING (-122.48221 37.83307, -122.48175 37...</td>\n",
       "    </tr>\n",
       "    <tr>\n",
       "      <th>1634795</th>\n",
       "      <td>b46d3b9a4683bfe26b97e2a66181d8dd</td>\n",
       "      <td>LINESTRING (-122.47658 37.80807, -122.47536 37...</td>\n",
       "    </tr>\n",
       "    <tr>\n",
       "      <th>1634796</th>\n",
       "      <td>ba0e166e3a9f6c1cc8d7e331415769b2</td>\n",
       "      <td>LINESTRING (-122.42941 37.76947, -122.43026 37...</td>\n",
       "    </tr>\n",
       "  </tbody>\n",
       "</table>\n",
       "</div>"
      ],
      "text/plain": [
       "                                       id  \\\n",
       "1634794  d01b27cabff869e0bf4f7187ee77d6de   \n",
       "1634795  b46d3b9a4683bfe26b97e2a66181d8dd   \n",
       "1634796  ba0e166e3a9f6c1cc8d7e331415769b2   \n",
       "\n",
       "                                                  geometry  \n",
       "1634794  LINESTRING (-122.48221 37.83307, -122.48175 37...  \n",
       "1634795  LINESTRING (-122.47658 37.80807, -122.47536 37...  \n",
       "1634796  LINESTRING (-122.42941 37.76947, -122.43026 37...  "
      ]
     },
     "execution_count": 50,
     "metadata": {},
     "output_type": "execute_result"
    }
   ],
   "source": [
    "# check shapes for new links\n",
    "# example: toll plaza at GGB and a new rail-to-street link\n",
    "scenario.road_net.links_df[\n",
    "    scenario.road_net.links_df.model_link_id.isin([8063198, 8063199, 26067378])][[\"id\", \"geometry\"]]"
   ]
  },
  {
   "cell_type": "code",
   "execution_count": 51,
   "metadata": {},
   "outputs": [
    {
     "data": {
      "text/html": [
       "<div>\n",
       "<style scoped>\n",
       "    .dataframe tbody tr th:only-of-type {\n",
       "        vertical-align: middle;\n",
       "    }\n",
       "\n",
       "    .dataframe tbody tr th {\n",
       "        vertical-align: top;\n",
       "    }\n",
       "\n",
       "    .dataframe thead th {\n",
       "        text-align: right;\n",
       "    }\n",
       "</style>\n",
       "<table border=\"1\" class=\"dataframe\">\n",
       "  <thead>\n",
       "    <tr style=\"text-align: right;\">\n",
       "      <th></th>\n",
       "      <th>id</th>\n",
       "      <th>geometry</th>\n",
       "    </tr>\n",
       "  </thead>\n",
       "  <tbody>\n",
       "    <tr>\n",
       "      <th>869991</th>\n",
       "      <td>b46d3b9a4683bfe26b97e2a66181d8dd</td>\n",
       "      <td>LINESTRING (-122.47658 37.80807, -122.47536 37...</td>\n",
       "    </tr>\n",
       "    <tr>\n",
       "      <th>869992</th>\n",
       "      <td>ba0e166e3a9f6c1cc8d7e331415769b2</td>\n",
       "      <td>LINESTRING (-122.42941 37.76947, -122.43026 37...</td>\n",
       "    </tr>\n",
       "  </tbody>\n",
       "</table>\n",
       "</div>"
      ],
      "text/plain": [
       "                                      id  \\\n",
       "869991  b46d3b9a4683bfe26b97e2a66181d8dd   \n",
       "869992  ba0e166e3a9f6c1cc8d7e331415769b2   \n",
       "\n",
       "                                                 geometry  \n",
       "869991  LINESTRING (-122.47658 37.80807, -122.47536 37...  \n",
       "869992  LINESTRING (-122.42941 37.76947, -122.43026 37...  "
      ]
     },
     "execution_count": 51,
     "metadata": {},
     "output_type": "execute_result"
    }
   ],
   "source": [
    "scenario.road_net.shapes_df[\n",
    "    scenario.road_net.shapes_df.id.isin([\"b46d3b9a4683bfe26b97e2a66181d8dd\", \"ba0e166e3a9f6c1cc8d7e331415769b2\"])][\n",
    "        [\"id\", \"geometry\"]]"
   ]
  },
  {
   "cell_type": "code",
   "execution_count": 52,
   "metadata": {},
   "outputs": [
    {
     "data": {
      "text/plain": [
       "1592"
      ]
     },
     "execution_count": 52,
     "metadata": {},
     "output_type": "execute_result"
    }
   ],
   "source": [
    "scenario.transit_net.feed.shapes.shape_id.nunique()"
   ]
  },
  {
   "cell_type": "code",
   "execution_count": 53,
   "metadata": {},
   "outputs": [
    {
     "data": {
      "text/html": [
       "<div>\n",
       "<style scoped>\n",
       "    .dataframe tbody tr th:only-of-type {\n",
       "        vertical-align: middle;\n",
       "    }\n",
       "\n",
       "    .dataframe tbody tr th {\n",
       "        vertical-align: top;\n",
       "    }\n",
       "\n",
       "    .dataframe thead th {\n",
       "        text-align: right;\n",
       "    }\n",
       "</style>\n",
       "<table border=\"1\" class=\"dataframe\">\n",
       "  <thead>\n",
       "    <tr style=\"text-align: right;\">\n",
       "      <th></th>\n",
       "      <th>shape_pt_sequence</th>\n",
       "      <th>shape_osm_node_id</th>\n",
       "      <th>shape_shst_node_id</th>\n",
       "      <th>shape_model_node_id</th>\n",
       "      <th>shape_pt_lat</th>\n",
       "      <th>shape_pt_lon</th>\n",
       "    </tr>\n",
       "    <tr>\n",
       "      <th>shape_id</th>\n",
       "      <th></th>\n",
       "      <th></th>\n",
       "      <th></th>\n",
       "      <th></th>\n",
       "      <th></th>\n",
       "      <th></th>\n",
       "    </tr>\n",
       "  </thead>\n",
       "  <tbody>\n",
       "    <tr>\n",
       "      <th>1168</th>\n",
       "      <td>177</td>\n",
       "      <td>108</td>\n",
       "      <td>108</td>\n",
       "      <td>177</td>\n",
       "      <td>0</td>\n",
       "      <td>0</td>\n",
       "    </tr>\n",
       "    <tr>\n",
       "      <th>1169</th>\n",
       "      <td>176</td>\n",
       "      <td>65</td>\n",
       "      <td>65</td>\n",
       "      <td>176</td>\n",
       "      <td>0</td>\n",
       "      <td>0</td>\n",
       "    </tr>\n",
       "    <tr>\n",
       "      <th>939</th>\n",
       "      <td>26</td>\n",
       "      <td>22</td>\n",
       "      <td>22</td>\n",
       "      <td>26</td>\n",
       "      <td>0</td>\n",
       "      <td>0</td>\n",
       "    </tr>\n",
       "    <tr>\n",
       "      <th>940</th>\n",
       "      <td>161</td>\n",
       "      <td>157</td>\n",
       "      <td>157</td>\n",
       "      <td>161</td>\n",
       "      <td>0</td>\n",
       "      <td>0</td>\n",
       "    </tr>\n",
       "    <tr>\n",
       "      <th>943</th>\n",
       "      <td>158</td>\n",
       "      <td>154</td>\n",
       "      <td>154</td>\n",
       "      <td>158</td>\n",
       "      <td>0</td>\n",
       "      <td>0</td>\n",
       "    </tr>\n",
       "    <tr>\n",
       "      <th>944</th>\n",
       "      <td>130</td>\n",
       "      <td>128</td>\n",
       "      <td>128</td>\n",
       "      <td>130</td>\n",
       "      <td>0</td>\n",
       "      <td>0</td>\n",
       "    </tr>\n",
       "  </tbody>\n",
       "</table>\n",
       "</div>"
      ],
      "text/plain": [
       "          shape_pt_sequence  shape_osm_node_id  shape_shst_node_id  \\\n",
       "shape_id                                                             \n",
       "1168                    177                108                 108   \n",
       "1169                    176                 65                  65   \n",
       "939                      26                 22                  22   \n",
       "940                     161                157                 157   \n",
       "943                     158                154                 154   \n",
       "944                     130                128                 128   \n",
       "\n",
       "          shape_model_node_id  shape_pt_lat  shape_pt_lon  \n",
       "shape_id                                                   \n",
       "1168                      177             0             0  \n",
       "1169                      176             0             0  \n",
       "939                        26             0             0  \n",
       "940                       161             0             0  \n",
       "943                       158             0             0  \n",
       "944                       130             0             0  "
      ]
     },
     "execution_count": 53,
     "metadata": {},
     "output_type": "execute_result"
    }
   ],
   "source": [
    "scenario.transit_net.feed.shapes[\n",
    "    scenario.transit_net.feed.shapes.shape_id.isin(\n",
    "        [\"1169\", \"1168\", \"939\", \"940\", \"943\", \"944\"]\n",
    "    )\n",
    "].groupby([\"shape_id\"]).count()"
   ]
  },
  {
   "cell_type": "code",
   "execution_count": 54,
   "metadata": {},
   "outputs": [
    {
     "data": {
      "text/html": [
       "<div>\n",
       "<style scoped>\n",
       "    .dataframe tbody tr th:only-of-type {\n",
       "        vertical-align: middle;\n",
       "    }\n",
       "\n",
       "    .dataframe tbody tr th {\n",
       "        vertical-align: top;\n",
       "    }\n",
       "\n",
       "    .dataframe thead th {\n",
       "        text-align: right;\n",
       "    }\n",
       "</style>\n",
       "<table border=\"1\" class=\"dataframe\">\n",
       "  <thead>\n",
       "    <tr style=\"text-align: right;\">\n",
       "      <th></th>\n",
       "      <th>A</th>\n",
       "      <th>B</th>\n",
       "      <th>roadway</th>\n",
       "      <th>assignable</th>\n",
       "    </tr>\n",
       "  </thead>\n",
       "  <tbody>\n",
       "    <tr>\n",
       "      <th>514595</th>\n",
       "      <td>2579949</td>\n",
       "      <td>2535246</td>\n",
       "      <td>residential</td>\n",
       "      <td>0</td>\n",
       "    </tr>\n",
       "    <tr>\n",
       "      <th>842601</th>\n",
       "      <td>2579949</td>\n",
       "      <td>2604856</td>\n",
       "      <td>residential</td>\n",
       "      <td>1</td>\n",
       "    </tr>\n",
       "    <tr>\n",
       "      <th>846406</th>\n",
       "      <td>2607569</td>\n",
       "      <td>2586861</td>\n",
       "      <td>residential</td>\n",
       "      <td>1</td>\n",
       "    </tr>\n",
       "    <tr>\n",
       "      <th>1009927</th>\n",
       "      <td>2607569</td>\n",
       "      <td>2546185</td>\n",
       "      <td>residential</td>\n",
       "      <td>1</td>\n",
       "    </tr>\n",
       "    <tr>\n",
       "      <th>1077889</th>\n",
       "      <td>2607569</td>\n",
       "      <td>2541364</td>\n",
       "      <td>residential</td>\n",
       "      <td>0</td>\n",
       "    </tr>\n",
       "    <tr>\n",
       "      <th>1645033</th>\n",
       "      <td>2579949</td>\n",
       "      <td>300963</td>\n",
       "      <td>taz</td>\n",
       "      <td>1</td>\n",
       "    </tr>\n",
       "    <tr>\n",
       "      <th>1645951</th>\n",
       "      <td>2607569</td>\n",
       "      <td>300963</td>\n",
       "      <td>taz</td>\n",
       "      <td>1</td>\n",
       "    </tr>\n",
       "    <tr>\n",
       "      <th>1820125</th>\n",
       "      <td>2579949</td>\n",
       "      <td>318103</td>\n",
       "      <td>maz</td>\n",
       "      <td>1</td>\n",
       "    </tr>\n",
       "    <tr>\n",
       "      <th>1820126</th>\n",
       "      <td>2579949</td>\n",
       "      <td>327248</td>\n",
       "      <td>maz</td>\n",
       "      <td>1</td>\n",
       "    </tr>\n",
       "    <tr>\n",
       "      <th>1820127</th>\n",
       "      <td>2579949</td>\n",
       "      <td>328044</td>\n",
       "      <td>maz</td>\n",
       "      <td>1</td>\n",
       "    </tr>\n",
       "    <tr>\n",
       "      <th>1820128</th>\n",
       "      <td>2579949</td>\n",
       "      <td>329429</td>\n",
       "      <td>maz</td>\n",
       "      <td>1</td>\n",
       "    </tr>\n",
       "    <tr>\n",
       "      <th>1832370</th>\n",
       "      <td>2607569</td>\n",
       "      <td>311526</td>\n",
       "      <td>maz</td>\n",
       "      <td>1</td>\n",
       "    </tr>\n",
       "    <tr>\n",
       "      <th>1832371</th>\n",
       "      <td>2607569</td>\n",
       "      <td>314420</td>\n",
       "      <td>maz</td>\n",
       "      <td>1</td>\n",
       "    </tr>\n",
       "    <tr>\n",
       "      <th>1832372</th>\n",
       "      <td>2607569</td>\n",
       "      <td>321683</td>\n",
       "      <td>maz</td>\n",
       "      <td>1</td>\n",
       "    </tr>\n",
       "    <tr>\n",
       "      <th>1832373</th>\n",
       "      <td>2607569</td>\n",
       "      <td>329034</td>\n",
       "      <td>maz</td>\n",
       "      <td>1</td>\n",
       "    </tr>\n",
       "    <tr>\n",
       "      <th>2213660</th>\n",
       "      <td>2579949</td>\n",
       "      <td>391308</td>\n",
       "      <td>tap</td>\n",
       "      <td>NaN</td>\n",
       "    </tr>\n",
       "  </tbody>\n",
       "</table>\n",
       "</div>"
      ],
      "text/plain": [
       "               A        B      roadway assignable\n",
       "514595   2579949  2535246  residential          0\n",
       "842601   2579949  2604856  residential          1\n",
       "846406   2607569  2586861  residential          1\n",
       "1009927  2607569  2546185  residential          1\n",
       "1077889  2607569  2541364  residential          0\n",
       "1645033  2579949   300963          taz          1\n",
       "1645951  2607569   300963          taz          1\n",
       "1820125  2579949   318103          maz          1\n",
       "1820126  2579949   327248          maz          1\n",
       "1820127  2579949   328044          maz          1\n",
       "1820128  2579949   329429          maz          1\n",
       "1832370  2607569   311526          maz          1\n",
       "1832371  2607569   314420          maz          1\n",
       "1832372  2607569   321683          maz          1\n",
       "1832373  2607569   329034          maz          1\n",
       "2213660  2579949   391308          tap        NaN"
      ]
     },
     "execution_count": 54,
     "metadata": {},
     "output_type": "execute_result"
    }
   ],
   "source": [
    "scenario.road_net.links_df[\n",
    "    scenario.road_net.links_df.A.isin([2579949, 2607569])][[\"A\", \"B\", \"roadway\",\"assignable\"]]"
   ]
  },
  {
   "cell_type": "code",
   "execution_count": 55,
   "metadata": {},
   "outputs": [
    {
     "data": {
      "text/html": [
       "<div>\n",
       "<style scoped>\n",
       "    .dataframe tbody tr th:only-of-type {\n",
       "        vertical-align: middle;\n",
       "    }\n",
       "\n",
       "    .dataframe tbody tr th {\n",
       "        vertical-align: top;\n",
       "    }\n",
       "\n",
       "    .dataframe thead th {\n",
       "        text-align: right;\n",
       "    }\n",
       "</style>\n",
       "<table border=\"1\" class=\"dataframe\">\n",
       "  <thead>\n",
       "    <tr style=\"text-align: right;\">\n",
       "      <th></th>\n",
       "      <th>A</th>\n",
       "      <th>B</th>\n",
       "      <th>roadway</th>\n",
       "      <th>assignable</th>\n",
       "    </tr>\n",
       "  </thead>\n",
       "  <tbody>\n",
       "    <tr>\n",
       "      <th>778002</th>\n",
       "      <td>2552715</td>\n",
       "      <td>2540313</td>\n",
       "      <td>motorway_link</td>\n",
       "      <td>0</td>\n",
       "    </tr>\n",
       "  </tbody>\n",
       "</table>\n",
       "</div>"
      ],
      "text/plain": [
       "              A        B        roadway assignable\n",
       "778002  2552715  2540313  motorway_link          0"
      ]
     },
     "execution_count": 55,
     "metadata": {},
     "output_type": "execute_result"
    }
   ],
   "source": [
    "# check Service Road Dumbarton Bridge Bypass is not assignable\n",
    "scenario.road_net.links_df[\n",
    "    scenario.road_net.links_df.model_link_id == 3152465][[\"A\", \"B\", \"roadway\",\"assignable\"]]"
   ]
  },
  {
   "cell_type": "code",
   "execution_count": 56,
   "metadata": {},
   "outputs": [
    {
     "data": {
      "text/html": [
       "<div>\n",
       "<style scoped>\n",
       "    .dataframe tbody tr th:only-of-type {\n",
       "        vertical-align: middle;\n",
       "    }\n",
       "\n",
       "    .dataframe tbody tr th {\n",
       "        vertical-align: top;\n",
       "    }\n",
       "\n",
       "    .dataframe thead th {\n",
       "        text-align: right;\n",
       "    }\n",
       "</style>\n",
       "<table border=\"1\" class=\"dataframe\">\n",
       "  <thead>\n",
       "    <tr style=\"text-align: right;\">\n",
       "      <th></th>\n",
       "      <th>A</th>\n",
       "      <th>B</th>\n",
       "      <th>roadway</th>\n",
       "      <th>assignable</th>\n",
       "      <th>lanes</th>\n",
       "    </tr>\n",
       "  </thead>\n",
       "  <tbody>\n",
       "    <tr>\n",
       "      <th>690625</th>\n",
       "      <td>2153360</td>\n",
       "      <td>2071468</td>\n",
       "      <td>motorway</td>\n",
       "      <td>1</td>\n",
       "      <td>{'default': 3, 'timeofday': [{'time': (21600, ...</td>\n",
       "    </tr>\n",
       "  </tbody>\n",
       "</table>\n",
       "</div>"
      ],
      "text/plain": [
       "              A        B   roadway assignable  \\\n",
       "690625  2153360  2071468  motorway          1   \n",
       "\n",
       "                                                    lanes  \n",
       "690625  {'default': 3, 'timeofday': [{'time': (21600, ...  "
      ]
     },
     "execution_count": 56,
     "metadata": {},
     "output_type": "execute_result"
    }
   ],
   "source": [
    "# check should be 3 lanes\n",
    "scenario.road_net.links_df[\n",
    "    scenario.road_net.links_df.model_link_id == 2217343][[\"A\", \"B\", \"roadway\",\"assignable\", \"lanes\"]]"
   ]
  },
  {
   "cell_type": "code",
   "execution_count": 57,
   "metadata": {},
   "outputs": [
    {
     "data": {
      "text/html": [
       "<div>\n",
       "<style scoped>\n",
       "    .dataframe tbody tr th:only-of-type {\n",
       "        vertical-align: middle;\n",
       "    }\n",
       "\n",
       "    .dataframe tbody tr th {\n",
       "        vertical-align: top;\n",
       "    }\n",
       "\n",
       "    .dataframe thead th {\n",
       "        text-align: right;\n",
       "    }\n",
       "</style>\n",
       "<table border=\"1\" class=\"dataframe\">\n",
       "  <thead>\n",
       "    <tr style=\"text-align: right;\">\n",
       "      <th></th>\n",
       "      <th>A</th>\n",
       "      <th>B</th>\n",
       "      <th>roadway</th>\n",
       "      <th>assignable</th>\n",
       "      <th>ft</th>\n",
       "      <th>walk_access</th>\n",
       "    </tr>\n",
       "  </thead>\n",
       "  <tbody>\n",
       "    <tr>\n",
       "      <th>33757</th>\n",
       "      <td>2506600</td>\n",
       "      <td>2542798</td>\n",
       "      <td>motorway_link</td>\n",
       "      <td>1</td>\n",
       "      <td>3</td>\n",
       "      <td>1</td>\n",
       "    </tr>\n",
       "    <tr>\n",
       "      <th>59112</th>\n",
       "      <td>2511462</td>\n",
       "      <td>2523557</td>\n",
       "      <td>motorway_link</td>\n",
       "      <td>1</td>\n",
       "      <td>3</td>\n",
       "      <td>1</td>\n",
       "    </tr>\n",
       "    <tr>\n",
       "      <th>123885</th>\n",
       "      <td>3017507</td>\n",
       "      <td>3058438</td>\n",
       "      <td>motorway_link</td>\n",
       "      <td>1</td>\n",
       "      <td>3</td>\n",
       "      <td>1</td>\n",
       "    </tr>\n",
       "    <tr>\n",
       "      <th>124668</th>\n",
       "      <td>2523557</td>\n",
       "      <td>2549665</td>\n",
       "      <td>motorway_link</td>\n",
       "      <td>1</td>\n",
       "      <td>3</td>\n",
       "      <td>1</td>\n",
       "    </tr>\n",
       "    <tr>\n",
       "      <th>162620</th>\n",
       "      <td>2501507</td>\n",
       "      <td>2506600</td>\n",
       "      <td>motorway_link</td>\n",
       "      <td>1</td>\n",
       "      <td>3</td>\n",
       "      <td>1</td>\n",
       "    </tr>\n",
       "    <tr>\n",
       "      <th>238525</th>\n",
       "      <td>2542798</td>\n",
       "      <td>2518014</td>\n",
       "      <td>motorway_link</td>\n",
       "      <td>1</td>\n",
       "      <td>3</td>\n",
       "      <td>1</td>\n",
       "    </tr>\n",
       "    <tr>\n",
       "      <th>518512</th>\n",
       "      <td>2580420</td>\n",
       "      <td>2511462</td>\n",
       "      <td>motorway_link</td>\n",
       "      <td>1</td>\n",
       "      <td>3</td>\n",
       "      <td>1</td>\n",
       "    </tr>\n",
       "  </tbody>\n",
       "</table>\n",
       "</div>"
      ],
      "text/plain": [
       "              A        B        roadway assignable  ft walk_access\n",
       "33757   2506600  2542798  motorway_link          1   3           1\n",
       "59112   2511462  2523557  motorway_link          1   3           1\n",
       "123885  3017507  3058438  motorway_link          1   3           1\n",
       "124668  2523557  2549665  motorway_link          1   3           1\n",
       "162620  2501507  2506600  motorway_link          1   3           1\n",
       "238525  2542798  2518014  motorway_link          1   3           1\n",
       "518512  2580420  2511462  motorway_link          1   3           1"
      ]
     },
     "execution_count": 57,
     "metadata": {},
     "output_type": "execute_result"
    }
   ],
   "source": [
    "# should be ramps\n",
    "scenario.road_net.links_df[\n",
    "    scenario.road_net.links_df.model_link_id.isin(\n",
    "        [3031886,3006561,3046803,3101610,3011518,3024387,4018032])][[\"A\", \"B\", \"roadway\",\"assignable\", \"ft\", \"walk_access\"]]"
   ]
  },
  {
   "cell_type": "code",
   "execution_count": 58,
   "metadata": {},
   "outputs": [
    {
     "data": {
      "text/html": [
       "<div>\n",
       "<style scoped>\n",
       "    .dataframe tbody tr th:only-of-type {\n",
       "        vertical-align: middle;\n",
       "    }\n",
       "\n",
       "    .dataframe tbody tr th {\n",
       "        vertical-align: top;\n",
       "    }\n",
       "\n",
       "    .dataframe thead th {\n",
       "        text-align: right;\n",
       "    }\n",
       "</style>\n",
       "<table border=\"1\" class=\"dataframe\">\n",
       "  <thead>\n",
       "    <tr style=\"text-align: right;\">\n",
       "      <th></th>\n",
       "      <th>stop_name</th>\n",
       "      <th>stop_lat</th>\n",
       "      <th>stop_lon</th>\n",
       "      <th>zone_id</th>\n",
       "      <th>agency_raw_name</th>\n",
       "      <th>stop_code</th>\n",
       "      <th>location_type</th>\n",
       "      <th>parent_station</th>\n",
       "      <th>stop_desc</th>\n",
       "      <th>stop_url</th>\n",
       "      <th>stop_timezone</th>\n",
       "      <th>wheelchair_boarding</th>\n",
       "      <th>platform_code</th>\n",
       "      <th>position</th>\n",
       "      <th>direction</th>\n",
       "      <th>* used by routes</th>\n",
       "      <th>stop_id</th>\n",
       "      <th>osm_node_id</th>\n",
       "      <th>shst_node_id</th>\n",
       "      <th>model_node_id</th>\n",
       "    </tr>\n",
       "  </thead>\n",
       "  <tbody>\n",
       "    <tr>\n",
       "      <th>4130</th>\n",
       "      <td>Transbay Temp Terminal</td>\n",
       "      <td>37.789707</td>\n",
       "      <td>-122.393626</td>\n",
       "      <td>2</td>\n",
       "      <td>ACTransit_2015_8_14</td>\n",
       "      <td>50751</td>\n",
       "      <td>NaN</td>\n",
       "      <td>place_ETSF</td>\n",
       "      <td>NaN</td>\n",
       "      <td>NaN</td>\n",
       "      <td>NaN</td>\n",
       "      <td>NaN</td>\n",
       "      <td>NaN</td>\n",
       "      <td>NaN</td>\n",
       "      <td>NaN</td>\n",
       "      <td>NaN</td>\n",
       "      <td>4187</td>\n",
       "      <td>3955000020</td>\n",
       "      <td>459ceb872e72e49fd4041a78884935e2</td>\n",
       "      <td>1021597</td>\n",
       "    </tr>\n",
       "    <tr>\n",
       "      <th>4611</th>\n",
       "      <td>Union City BART</td>\n",
       "      <td>37.590360</td>\n",
       "      <td>-122.017465</td>\n",
       "      <td>1</td>\n",
       "      <td>ACTransit_2015_8_14</td>\n",
       "      <td>50781</td>\n",
       "      <td>NaN</td>\n",
       "      <td>NaN</td>\n",
       "      <td>NaN</td>\n",
       "      <td>NaN</td>\n",
       "      <td>NaN</td>\n",
       "      <td>NaN</td>\n",
       "      <td>NaN</td>\n",
       "      <td>NaN</td>\n",
       "      <td>NaN</td>\n",
       "      <td>NaN</td>\n",
       "      <td>4669</td>\n",
       "      <td>1025879893</td>\n",
       "      <td>84c3f377f9f0065bf14be3af92202d0d</td>\n",
       "      <td>2509987</td>\n",
       "    </tr>\n",
       "    <tr>\n",
       "      <th>4636</th>\n",
       "      <td>Stanford Oval</td>\n",
       "      <td>37.429272</td>\n",
       "      <td>-122.168925</td>\n",
       "      <td>2</td>\n",
       "      <td>ACTransit_2015_8_14</td>\n",
       "      <td>55432</td>\n",
       "      <td>NaN</td>\n",
       "      <td>NaN</td>\n",
       "      <td>NaN</td>\n",
       "      <td>NaN</td>\n",
       "      <td>NaN</td>\n",
       "      <td>NaN</td>\n",
       "      <td>NaN</td>\n",
       "      <td>NaN</td>\n",
       "      <td>NaN</td>\n",
       "      <td>NaN</td>\n",
       "      <td>4694</td>\n",
       "      <td>522171022</td>\n",
       "      <td>6d2aeffcbad07f0873a268bea42838f3</td>\n",
       "      <td>2149155</td>\n",
       "    </tr>\n",
       "    <tr>\n",
       "      <th>22309</th>\n",
       "      <td>NaN</td>\n",
       "      <td>37.444794</td>\n",
       "      <td>-122.168849</td>\n",
       "      <td>1</td>\n",
       "      <td>SamTrans_2015_8_20</td>\n",
       "      <td>NaN</td>\n",
       "      <td>NaN</td>\n",
       "      <td>NaN</td>\n",
       "      <td>NaN</td>\n",
       "      <td>NaN</td>\n",
       "      <td>NaN</td>\n",
       "      <td>NaN</td>\n",
       "      <td>NaN</td>\n",
       "      <td>NaN</td>\n",
       "      <td>NaN</td>\n",
       "      <td>NaN</td>\n",
       "      <td>102036044</td>\n",
       "      <td>NaN</td>\n",
       "      <td>NaN</td>\n",
       "      <td>2036044</td>\n",
       "    </tr>\n",
       "    <tr>\n",
       "      <th>22338</th>\n",
       "      <td>NaN</td>\n",
       "      <td>37.673730</td>\n",
       "      <td>-122.467029</td>\n",
       "      <td>1</td>\n",
       "      <td>SamTrans_2015_8_20</td>\n",
       "      <td>NaN</td>\n",
       "      <td>NaN</td>\n",
       "      <td>NaN</td>\n",
       "      <td>NaN</td>\n",
       "      <td>NaN</td>\n",
       "      <td>NaN</td>\n",
       "      <td>NaN</td>\n",
       "      <td>NaN</td>\n",
       "      <td>NaN</td>\n",
       "      <td>NaN</td>\n",
       "      <td>NaN</td>\n",
       "      <td>101523872</td>\n",
       "      <td>NaN</td>\n",
       "      <td>NaN</td>\n",
       "      <td>1523872</td>\n",
       "    </tr>\n",
       "  </tbody>\n",
       "</table>\n",
       "</div>"
      ],
      "text/plain": [
       "                    stop_name   stop_lat    stop_lon zone_id  \\\n",
       "4130   Transbay Temp Terminal  37.789707 -122.393626       2   \n",
       "4611          Union City BART  37.590360 -122.017465       1   \n",
       "4636            Stanford Oval  37.429272 -122.168925       2   \n",
       "22309                     NaN  37.444794 -122.168849       1   \n",
       "22338                     NaN  37.673730 -122.467029       1   \n",
       "\n",
       "           agency_raw_name stop_code  location_type parent_station stop_desc  \\\n",
       "4130   ACTransit_2015_8_14     50751            NaN     place_ETSF       NaN   \n",
       "4611   ACTransit_2015_8_14     50781            NaN            NaN       NaN   \n",
       "4636   ACTransit_2015_8_14     55432            NaN            NaN       NaN   \n",
       "22309   SamTrans_2015_8_20       NaN            NaN            NaN       NaN   \n",
       "22338   SamTrans_2015_8_20       NaN            NaN            NaN       NaN   \n",
       "\n",
       "      stop_url stop_timezone  wheelchair_boarding platform_code position  \\\n",
       "4130       NaN           NaN                  NaN           NaN      NaN   \n",
       "4611       NaN           NaN                  NaN           NaN      NaN   \n",
       "4636       NaN           NaN                  NaN           NaN      NaN   \n",
       "22309      NaN           NaN                  NaN           NaN      NaN   \n",
       "22338      NaN           NaN                  NaN           NaN      NaN   \n",
       "\n",
       "      direction * used by routes    stop_id osm_node_id  \\\n",
       "4130        NaN              NaN       4187  3955000020   \n",
       "4611        NaN              NaN       4669  1025879893   \n",
       "4636        NaN              NaN       4694   522171022   \n",
       "22309       NaN              NaN  102036044         NaN   \n",
       "22338       NaN              NaN  101523872         NaN   \n",
       "\n",
       "                           shst_node_id model_node_id  \n",
       "4130   459ceb872e72e49fd4041a78884935e2       1021597  \n",
       "4611   84c3f377f9f0065bf14be3af92202d0d       2509987  \n",
       "4636   6d2aeffcbad07f0873a268bea42838f3       2149155  \n",
       "22309                               NaN       2036044  \n",
       "22338                               NaN       1523872  "
      ]
     },
     "execution_count": 58,
     "metadata": {},
     "output_type": "execute_result"
    }
   ],
   "source": [
    "# zone id should be \"2\" (ac transit), \"1\" (dumbarton union city), \"2\" (ac transit dumbarton), \"1\" (samtrans) , \"1\" (samtrans)\n",
    "scenario.transit_net.feed.stops[scenario.transit_net.feed.stops.stop_id.isin(\n",
    "    [\"101523872\", \"4694\", \"4669\", \"102036044\", \"4187\"])]"
   ]
  },
  {
   "cell_type": "code",
   "execution_count": 59,
   "metadata": {},
   "outputs": [
    {
     "data": {
      "text/html": [
       "<div>\n",
       "<style scoped>\n",
       "    .dataframe tbody tr th:only-of-type {\n",
       "        vertical-align: middle;\n",
       "    }\n",
       "\n",
       "    .dataframe tbody tr th {\n",
       "        vertical-align: top;\n",
       "    }\n",
       "\n",
       "    .dataframe thead th {\n",
       "        text-align: right;\n",
       "    }\n",
       "</style>\n",
       "<table border=\"1\" class=\"dataframe\">\n",
       "  <thead>\n",
       "    <tr style=\"text-align: right;\">\n",
       "      <th></th>\n",
       "      <th>stop_name</th>\n",
       "      <th>stop_lat</th>\n",
       "      <th>stop_lon</th>\n",
       "      <th>zone_id</th>\n",
       "      <th>agency_raw_name</th>\n",
       "      <th>stop_code</th>\n",
       "      <th>location_type</th>\n",
       "      <th>parent_station</th>\n",
       "      <th>stop_desc</th>\n",
       "      <th>stop_url</th>\n",
       "      <th>stop_timezone</th>\n",
       "      <th>wheelchair_boarding</th>\n",
       "      <th>platform_code</th>\n",
       "      <th>position</th>\n",
       "      <th>direction</th>\n",
       "      <th>* used by routes</th>\n",
       "      <th>stop_id</th>\n",
       "      <th>osm_node_id</th>\n",
       "      <th>shst_node_id</th>\n",
       "      <th>model_node_id</th>\n",
       "    </tr>\n",
       "  </thead>\n",
       "  <tbody>\n",
       "    <tr>\n",
       "      <th>7603</th>\n",
       "      <td>San Franciso Ferry Terminal</td>\n",
       "      <td>37.796169</td>\n",
       "      <td>-122.391617</td>\n",
       "      <td>NaN</td>\n",
       "      <td>GGTransit_2015_9_3</td>\n",
       "      <td>43000</td>\n",
       "      <td>NaN</td>\n",
       "      <td>NaN</td>\n",
       "      <td>NaN</td>\n",
       "      <td>NaN</td>\n",
       "      <td>NaN</td>\n",
       "      <td>NaN</td>\n",
       "      <td>NaN</td>\n",
       "      <td>NaN</td>\n",
       "      <td>NaN</td>\n",
       "      <td>NaN</td>\n",
       "      <td>7706</td>\n",
       "      <td>NaN</td>\n",
       "      <td>NaN</td>\n",
       "      <td>1027623</td>\n",
       "    </tr>\n",
       "    <tr>\n",
       "      <th>7604</th>\n",
       "      <td>Sausalito Ferry Terminal</td>\n",
       "      <td>37.856403</td>\n",
       "      <td>-122.478249</td>\n",
       "      <td>NaN</td>\n",
       "      <td>GGTransit_2015_9_3</td>\n",
       "      <td>43003</td>\n",
       "      <td>NaN</td>\n",
       "      <td>NaN</td>\n",
       "      <td>NaN</td>\n",
       "      <td>NaN</td>\n",
       "      <td>NaN</td>\n",
       "      <td>NaN</td>\n",
       "      <td>NaN</td>\n",
       "      <td>NaN</td>\n",
       "      <td>NaN</td>\n",
       "      <td>NaN</td>\n",
       "      <td>7707</td>\n",
       "      <td>NaN</td>\n",
       "      <td>NaN</td>\n",
       "      <td>5026533</td>\n",
       "    </tr>\n",
       "    <tr>\n",
       "      <th>7605</th>\n",
       "      <td>Larkspur Ferry Terminal</td>\n",
       "      <td>37.945316</td>\n",
       "      <td>-122.508736</td>\n",
       "      <td>NaN</td>\n",
       "      <td>GGTransit_2015_9_3</td>\n",
       "      <td>43004</td>\n",
       "      <td>NaN</td>\n",
       "      <td>NaN</td>\n",
       "      <td>NaN</td>\n",
       "      <td>NaN</td>\n",
       "      <td>NaN</td>\n",
       "      <td>NaN</td>\n",
       "      <td>NaN</td>\n",
       "      <td>NaN</td>\n",
       "      <td>NaN</td>\n",
       "      <td>NaN</td>\n",
       "      <td>7708</td>\n",
       "      <td>NaN</td>\n",
       "      <td>NaN</td>\n",
       "      <td>5026532</td>\n",
       "    </tr>\n",
       "  </tbody>\n",
       "</table>\n",
       "</div>"
      ],
      "text/plain": [
       "                        stop_name   stop_lat    stop_lon zone_id  \\\n",
       "7603  San Franciso Ferry Terminal  37.796169 -122.391617     NaN   \n",
       "7604     Sausalito Ferry Terminal  37.856403 -122.478249     NaN   \n",
       "7605      Larkspur Ferry Terminal  37.945316 -122.508736     NaN   \n",
       "\n",
       "         agency_raw_name stop_code  location_type parent_station stop_desc  \\\n",
       "7603  GGTransit_2015_9_3     43000            NaN            NaN       NaN   \n",
       "7604  GGTransit_2015_9_3     43003            NaN            NaN       NaN   \n",
       "7605  GGTransit_2015_9_3     43004            NaN            NaN       NaN   \n",
       "\n",
       "     stop_url stop_timezone  wheelchair_boarding platform_code position  \\\n",
       "7603      NaN           NaN                  NaN           NaN      NaN   \n",
       "7604      NaN           NaN                  NaN           NaN      NaN   \n",
       "7605      NaN           NaN                  NaN           NaN      NaN   \n",
       "\n",
       "     direction * used by routes stop_id osm_node_id shst_node_id model_node_id  \n",
       "7603       NaN              NaN    7706         NaN          NaN       1027623  \n",
       "7604       NaN              NaN    7707         NaN          NaN       5026533  \n",
       "7605       NaN              NaN    7708         NaN          NaN       5026532  "
      ]
     },
     "execution_count": 59,
     "metadata": {},
     "output_type": "execute_result"
    }
   ],
   "source": [
    "# check zone_id is removed for gg ferry stops\n",
    "scenario.transit_net.feed.stops[scenario.transit_net.feed.stops.stop_id.isin(\n",
    "    [\"7706\", \"7707\", \"7708\"])]"
   ]
  },
  {
   "cell_type": "code",
   "execution_count": 60,
   "metadata": {},
   "outputs": [
    {
     "data": {
      "text/html": [
       "<div>\n",
       "<style scoped>\n",
       "    .dataframe tbody tr th:only-of-type {\n",
       "        vertical-align: middle;\n",
       "    }\n",
       "\n",
       "    .dataframe tbody tr th {\n",
       "        vertical-align: top;\n",
       "    }\n",
       "\n",
       "    .dataframe thead th {\n",
       "        text-align: right;\n",
       "    }\n",
       "</style>\n",
       "<table border=\"1\" class=\"dataframe\">\n",
       "  <thead>\n",
       "    <tr style=\"text-align: right;\">\n",
       "      <th></th>\n",
       "      <th>stop_name</th>\n",
       "      <th>stop_lat</th>\n",
       "      <th>stop_lon</th>\n",
       "      <th>zone_id</th>\n",
       "      <th>agency_raw_name</th>\n",
       "      <th>stop_code</th>\n",
       "      <th>location_type</th>\n",
       "      <th>parent_station</th>\n",
       "      <th>stop_desc</th>\n",
       "      <th>stop_url</th>\n",
       "      <th>stop_timezone</th>\n",
       "      <th>wheelchair_boarding</th>\n",
       "      <th>platform_code</th>\n",
       "      <th>position</th>\n",
       "      <th>direction</th>\n",
       "      <th>* used by routes</th>\n",
       "      <th>stop_id</th>\n",
       "      <th>osm_node_id</th>\n",
       "      <th>shst_node_id</th>\n",
       "      <th>model_node_id</th>\n",
       "    </tr>\n",
       "  </thead>\n",
       "  <tbody>\n",
       "    <tr>\n",
       "      <th>6741</th>\n",
       "      <td>El Cerrito Del Norte BART</td>\n",
       "      <td>37.924894</td>\n",
       "      <td>-122.317048</td>\n",
       "      <td>671</td>\n",
       "      <td>Fairfield_2015_10_14</td>\n",
       "      <td>400</td>\n",
       "      <td>0.0</td>\n",
       "      <td>NaN</td>\n",
       "      <td>NaN</td>\n",
       "      <td>NaN</td>\n",
       "      <td>NaN</td>\n",
       "      <td>NaN</td>\n",
       "      <td>NaN</td>\n",
       "      <td>NaN</td>\n",
       "      <td>NaN</td>\n",
       "      <td>NaN</td>\n",
       "      <td>6972</td>\n",
       "      <td>1781110705</td>\n",
       "      <td>e235e2f09ba74bdbe6b6abb3e44fc47e</td>\n",
       "      <td>3060051</td>\n",
       "    </tr>\n",
       "    <tr>\n",
       "      <th>6779</th>\n",
       "      <td>Main Street and Lotz Way</td>\n",
       "      <td>38.243081</td>\n",
       "      <td>-122.040478</td>\n",
       "      <td>663</td>\n",
       "      <td>Fairfield_2015_10_14</td>\n",
       "      <td>172</td>\n",
       "      <td>0.0</td>\n",
       "      <td>NaN</td>\n",
       "      <td>Far-Side</td>\n",
       "      <td>NaN</td>\n",
       "      <td>NaN</td>\n",
       "      <td>NaN</td>\n",
       "      <td>NaN</td>\n",
       "      <td>NaN</td>\n",
       "      <td>NaN</td>\n",
       "      <td>NaN</td>\n",
       "      <td>6817</td>\n",
       "      <td>62481309</td>\n",
       "      <td>52b70c286cb2792528a436f5736b33f7</td>\n",
       "      <td>3512083</td>\n",
       "    </tr>\n",
       "  </tbody>\n",
       "</table>\n",
       "</div>"
      ],
      "text/plain": [
       "                      stop_name   stop_lat    stop_lon zone_id  \\\n",
       "6741  El Cerrito Del Norte BART  37.924894 -122.317048     671   \n",
       "6779   Main Street and Lotz Way  38.243081 -122.040478     663   \n",
       "\n",
       "           agency_raw_name stop_code  location_type parent_station stop_desc  \\\n",
       "6741  Fairfield_2015_10_14       400            0.0            NaN       NaN   \n",
       "6779  Fairfield_2015_10_14       172            0.0            NaN  Far-Side   \n",
       "\n",
       "     stop_url stop_timezone  wheelchair_boarding platform_code position  \\\n",
       "6741      NaN           NaN                  NaN           NaN      NaN   \n",
       "6779      NaN           NaN                  NaN           NaN      NaN   \n",
       "\n",
       "     direction * used by routes stop_id osm_node_id  \\\n",
       "6741       NaN              NaN    6972  1781110705   \n",
       "6779       NaN              NaN    6817    62481309   \n",
       "\n",
       "                          shst_node_id model_node_id  \n",
       "6741  e235e2f09ba74bdbe6b6abb3e44fc47e       3060051  \n",
       "6779  52b70c286cb2792528a436f5736b33f7       3512083  "
      ]
     },
     "execution_count": 60,
     "metadata": {},
     "output_type": "execute_result"
    }
   ],
   "source": [
    "# check zone_id is updated for fairfield\n",
    "scenario.transit_net.feed.stops[scenario.transit_net.feed.stops.stop_id.isin(\n",
    "    [\"6817\", \"6972\"])]"
   ]
  },
  {
   "cell_type": "code",
   "execution_count": 61,
   "metadata": {},
   "outputs": [
    {
     "data": {
      "text/plain": [
       "314471    {'default': 0, 'timeofday': [{'time': (21600, ...\n",
       "762806    {'default': 0, 'timeofday': [{'time': (21600, ...\n",
       "Name: useclass, dtype: object"
      ]
     },
     "execution_count": 61,
     "metadata": {},
     "output_type": "execute_result"
    }
   ],
   "source": [
    "# check USECLASS on I-80 WB to Bay Bridge Toll Plaza\n",
    "scenario.road_net.links_df[scenario.road_net.links_df['model_link_id'].isin([3061568, 3149471])].useclass"
   ]
  },
  {
   "cell_type": "code",
   "execution_count": 62,
   "metadata": {
    "scrolled": true
   },
   "outputs": [
    {
     "data": {
      "text/html": [
       "<div>\n",
       "<style scoped>\n",
       "    .dataframe tbody tr th:only-of-type {\n",
       "        vertical-align: middle;\n",
       "    }\n",
       "\n",
       "    .dataframe tbody tr th {\n",
       "        vertical-align: top;\n",
       "    }\n",
       "\n",
       "    .dataframe thead th {\n",
       "        text-align: right;\n",
       "    }\n",
       "</style>\n",
       "<table border=\"1\" class=\"dataframe\">\n",
       "  <thead>\n",
       "    <tr style=\"text-align: right;\">\n",
       "      <th></th>\n",
       "      <th>stop_name</th>\n",
       "      <th>stop_lat</th>\n",
       "      <th>stop_lon</th>\n",
       "      <th>zone_id</th>\n",
       "      <th>agency_raw_name</th>\n",
       "      <th>stop_code</th>\n",
       "      <th>location_type</th>\n",
       "      <th>parent_station</th>\n",
       "      <th>stop_desc</th>\n",
       "      <th>stop_url</th>\n",
       "      <th>stop_timezone</th>\n",
       "      <th>wheelchair_boarding</th>\n",
       "      <th>platform_code</th>\n",
       "      <th>position</th>\n",
       "      <th>direction</th>\n",
       "      <th>* used by routes</th>\n",
       "      <th>stop_id</th>\n",
       "      <th>osm_node_id</th>\n",
       "      <th>shst_node_id</th>\n",
       "      <th>model_node_id</th>\n",
       "    </tr>\n",
       "  </thead>\n",
       "  <tbody>\n",
       "    <tr>\n",
       "      <th>22309</th>\n",
       "      <td>NaN</td>\n",
       "      <td>37.444794</td>\n",
       "      <td>-122.168849</td>\n",
       "      <td>1</td>\n",
       "      <td>SamTrans_2015_8_20</td>\n",
       "      <td>NaN</td>\n",
       "      <td>NaN</td>\n",
       "      <td>NaN</td>\n",
       "      <td>NaN</td>\n",
       "      <td>NaN</td>\n",
       "      <td>NaN</td>\n",
       "      <td>NaN</td>\n",
       "      <td>NaN</td>\n",
       "      <td>NaN</td>\n",
       "      <td>NaN</td>\n",
       "      <td>NaN</td>\n",
       "      <td>102036044</td>\n",
       "      <td>NaN</td>\n",
       "      <td>NaN</td>\n",
       "      <td>2036044</td>\n",
       "    </tr>\n",
       "    <tr>\n",
       "      <th>22310</th>\n",
       "      <td>NaN</td>\n",
       "      <td>37.472389</td>\n",
       "      <td>-122.216100</td>\n",
       "      <td>1</td>\n",
       "      <td>SamTrans_2015_8_20</td>\n",
       "      <td>NaN</td>\n",
       "      <td>NaN</td>\n",
       "      <td>NaN</td>\n",
       "      <td>NaN</td>\n",
       "      <td>NaN</td>\n",
       "      <td>NaN</td>\n",
       "      <td>NaN</td>\n",
       "      <td>NaN</td>\n",
       "      <td>NaN</td>\n",
       "      <td>NaN</td>\n",
       "      <td>NaN</td>\n",
       "      <td>101511493</td>\n",
       "      <td>NaN</td>\n",
       "      <td>NaN</td>\n",
       "      <td>1511493</td>\n",
       "    </tr>\n",
       "    <tr>\n",
       "      <th>22311</th>\n",
       "      <td>NaN</td>\n",
       "      <td>37.483308</td>\n",
       "      <td>-122.231206</td>\n",
       "      <td>1</td>\n",
       "      <td>SamTrans_2015_8_20</td>\n",
       "      <td>NaN</td>\n",
       "      <td>NaN</td>\n",
       "      <td>NaN</td>\n",
       "      <td>NaN</td>\n",
       "      <td>NaN</td>\n",
       "      <td>NaN</td>\n",
       "      <td>NaN</td>\n",
       "      <td>NaN</td>\n",
       "      <td>NaN</td>\n",
       "      <td>NaN</td>\n",
       "      <td>NaN</td>\n",
       "      <td>101516920</td>\n",
       "      <td>NaN</td>\n",
       "      <td>NaN</td>\n",
       "      <td>1516920</td>\n",
       "    </tr>\n",
       "    <tr>\n",
       "      <th>22312</th>\n",
       "      <td>NaN</td>\n",
       "      <td>37.485404</td>\n",
       "      <td>-122.233938</td>\n",
       "      <td>1</td>\n",
       "      <td>SamTrans_2015_8_20</td>\n",
       "      <td>NaN</td>\n",
       "      <td>NaN</td>\n",
       "      <td>NaN</td>\n",
       "      <td>NaN</td>\n",
       "      <td>NaN</td>\n",
       "      <td>NaN</td>\n",
       "      <td>NaN</td>\n",
       "      <td>NaN</td>\n",
       "      <td>NaN</td>\n",
       "      <td>NaN</td>\n",
       "      <td>NaN</td>\n",
       "      <td>101525498</td>\n",
       "      <td>NaN</td>\n",
       "      <td>NaN</td>\n",
       "      <td>1525498</td>\n",
       "    </tr>\n",
       "    <tr>\n",
       "      <th>22313</th>\n",
       "      <td>NaN</td>\n",
       "      <td>37.489469</td>\n",
       "      <td>-122.238568</td>\n",
       "      <td>1</td>\n",
       "      <td>SamTrans_2015_8_20</td>\n",
       "      <td>NaN</td>\n",
       "      <td>NaN</td>\n",
       "      <td>NaN</td>\n",
       "      <td>NaN</td>\n",
       "      <td>NaN</td>\n",
       "      <td>NaN</td>\n",
       "      <td>NaN</td>\n",
       "      <td>NaN</td>\n",
       "      <td>NaN</td>\n",
       "      <td>NaN</td>\n",
       "      <td>NaN</td>\n",
       "      <td>101516256</td>\n",
       "      <td>NaN</td>\n",
       "      <td>NaN</td>\n",
       "      <td>1516256</td>\n",
       "    </tr>\n",
       "    <tr>\n",
       "      <th>22314</th>\n",
       "      <td>NaN</td>\n",
       "      <td>37.503227</td>\n",
       "      <td>-122.255333</td>\n",
       "      <td>1</td>\n",
       "      <td>SamTrans_2015_8_20</td>\n",
       "      <td>NaN</td>\n",
       "      <td>NaN</td>\n",
       "      <td>NaN</td>\n",
       "      <td>NaN</td>\n",
       "      <td>NaN</td>\n",
       "      <td>NaN</td>\n",
       "      <td>NaN</td>\n",
       "      <td>NaN</td>\n",
       "      <td>NaN</td>\n",
       "      <td>NaN</td>\n",
       "      <td>NaN</td>\n",
       "      <td>101513094</td>\n",
       "      <td>NaN</td>\n",
       "      <td>NaN</td>\n",
       "      <td>1513094</td>\n",
       "    </tr>\n",
       "    <tr>\n",
       "      <th>22315</th>\n",
       "      <td>NaN</td>\n",
       "      <td>37.507359</td>\n",
       "      <td>-122.260283</td>\n",
       "      <td>1</td>\n",
       "      <td>SamTrans_2015_8_20</td>\n",
       "      <td>NaN</td>\n",
       "      <td>NaN</td>\n",
       "      <td>NaN</td>\n",
       "      <td>NaN</td>\n",
       "      <td>NaN</td>\n",
       "      <td>NaN</td>\n",
       "      <td>NaN</td>\n",
       "      <td>NaN</td>\n",
       "      <td>NaN</td>\n",
       "      <td>NaN</td>\n",
       "      <td>NaN</td>\n",
       "      <td>101513976</td>\n",
       "      <td>NaN</td>\n",
       "      <td>NaN</td>\n",
       "      <td>1513976</td>\n",
       "    </tr>\n",
       "    <tr>\n",
       "      <th>22316</th>\n",
       "      <td>NaN</td>\n",
       "      <td>37.526752</td>\n",
       "      <td>-122.283581</td>\n",
       "      <td>1</td>\n",
       "      <td>SamTrans_2015_8_20</td>\n",
       "      <td>NaN</td>\n",
       "      <td>NaN</td>\n",
       "      <td>NaN</td>\n",
       "      <td>NaN</td>\n",
       "      <td>NaN</td>\n",
       "      <td>NaN</td>\n",
       "      <td>NaN</td>\n",
       "      <td>NaN</td>\n",
       "      <td>NaN</td>\n",
       "      <td>NaN</td>\n",
       "      <td>NaN</td>\n",
       "      <td>101528479</td>\n",
       "      <td>NaN</td>\n",
       "      <td>NaN</td>\n",
       "      <td>1528479</td>\n",
       "    </tr>\n",
       "    <tr>\n",
       "      <th>22317</th>\n",
       "      <td>NaN</td>\n",
       "      <td>37.540371</td>\n",
       "      <td>-122.301416</td>\n",
       "      <td>1</td>\n",
       "      <td>SamTrans_2015_8_20</td>\n",
       "      <td>NaN</td>\n",
       "      <td>NaN</td>\n",
       "      <td>NaN</td>\n",
       "      <td>NaN</td>\n",
       "      <td>NaN</td>\n",
       "      <td>NaN</td>\n",
       "      <td>NaN</td>\n",
       "      <td>NaN</td>\n",
       "      <td>NaN</td>\n",
       "      <td>NaN</td>\n",
       "      <td>NaN</td>\n",
       "      <td>101529690</td>\n",
       "      <td>NaN</td>\n",
       "      <td>NaN</td>\n",
       "      <td>1529690</td>\n",
       "    </tr>\n",
       "    <tr>\n",
       "      <th>22318</th>\n",
       "      <td>NaN</td>\n",
       "      <td>37.559804</td>\n",
       "      <td>-122.322379</td>\n",
       "      <td>1</td>\n",
       "      <td>SamTrans_2015_8_20</td>\n",
       "      <td>NaN</td>\n",
       "      <td>NaN</td>\n",
       "      <td>NaN</td>\n",
       "      <td>NaN</td>\n",
       "      <td>NaN</td>\n",
       "      <td>NaN</td>\n",
       "      <td>NaN</td>\n",
       "      <td>NaN</td>\n",
       "      <td>NaN</td>\n",
       "      <td>NaN</td>\n",
       "      <td>NaN</td>\n",
       "      <td>101529454</td>\n",
       "      <td>NaN</td>\n",
       "      <td>NaN</td>\n",
       "      <td>1529454</td>\n",
       "    </tr>\n",
       "    <tr>\n",
       "      <th>22319</th>\n",
       "      <td>NaN</td>\n",
       "      <td>37.561699</td>\n",
       "      <td>-122.324410</td>\n",
       "      <td>1</td>\n",
       "      <td>SamTrans_2015_8_20</td>\n",
       "      <td>NaN</td>\n",
       "      <td>NaN</td>\n",
       "      <td>NaN</td>\n",
       "      <td>NaN</td>\n",
       "      <td>NaN</td>\n",
       "      <td>NaN</td>\n",
       "      <td>NaN</td>\n",
       "      <td>NaN</td>\n",
       "      <td>NaN</td>\n",
       "      <td>NaN</td>\n",
       "      <td>NaN</td>\n",
       "      <td>101519622</td>\n",
       "      <td>NaN</td>\n",
       "      <td>NaN</td>\n",
       "      <td>1519622</td>\n",
       "    </tr>\n",
       "    <tr>\n",
       "      <th>22320</th>\n",
       "      <td>NaN</td>\n",
       "      <td>37.594602</td>\n",
       "      <td>-122.383151</td>\n",
       "      <td>1</td>\n",
       "      <td>SamTrans_2015_8_20</td>\n",
       "      <td>NaN</td>\n",
       "      <td>NaN</td>\n",
       "      <td>NaN</td>\n",
       "      <td>NaN</td>\n",
       "      <td>NaN</td>\n",
       "      <td>NaN</td>\n",
       "      <td>NaN</td>\n",
       "      <td>NaN</td>\n",
       "      <td>NaN</td>\n",
       "      <td>NaN</td>\n",
       "      <td>NaN</td>\n",
       "      <td>101513122</td>\n",
       "      <td>NaN</td>\n",
       "      <td>NaN</td>\n",
       "      <td>1513122</td>\n",
       "    </tr>\n",
       "    <tr>\n",
       "      <th>22321</th>\n",
       "      <td>NaN</td>\n",
       "      <td>37.596809</td>\n",
       "      <td>-122.385824</td>\n",
       "      <td>1</td>\n",
       "      <td>SamTrans_2015_8_20</td>\n",
       "      <td>NaN</td>\n",
       "      <td>NaN</td>\n",
       "      <td>NaN</td>\n",
       "      <td>NaN</td>\n",
       "      <td>NaN</td>\n",
       "      <td>NaN</td>\n",
       "      <td>NaN</td>\n",
       "      <td>NaN</td>\n",
       "      <td>NaN</td>\n",
       "      <td>NaN</td>\n",
       "      <td>NaN</td>\n",
       "      <td>101514054</td>\n",
       "      <td>NaN</td>\n",
       "      <td>NaN</td>\n",
       "      <td>1514054</td>\n",
       "    </tr>\n",
       "    <tr>\n",
       "      <th>22322</th>\n",
       "      <td>NaN</td>\n",
       "      <td>37.599120</td>\n",
       "      <td>-122.387918</td>\n",
       "      <td>1</td>\n",
       "      <td>SamTrans_2015_8_20</td>\n",
       "      <td>NaN</td>\n",
       "      <td>NaN</td>\n",
       "      <td>NaN</td>\n",
       "      <td>NaN</td>\n",
       "      <td>NaN</td>\n",
       "      <td>NaN</td>\n",
       "      <td>NaN</td>\n",
       "      <td>NaN</td>\n",
       "      <td>NaN</td>\n",
       "      <td>NaN</td>\n",
       "      <td>NaN</td>\n",
       "      <td>101543182</td>\n",
       "      <td>NaN</td>\n",
       "      <td>NaN</td>\n",
       "      <td>1543182</td>\n",
       "    </tr>\n",
       "    <tr>\n",
       "      <th>22323</th>\n",
       "      <td>NaN</td>\n",
       "      <td>37.610467</td>\n",
       "      <td>-122.401464</td>\n",
       "      <td>1</td>\n",
       "      <td>SamTrans_2015_8_20</td>\n",
       "      <td>NaN</td>\n",
       "      <td>NaN</td>\n",
       "      <td>NaN</td>\n",
       "      <td>NaN</td>\n",
       "      <td>NaN</td>\n",
       "      <td>NaN</td>\n",
       "      <td>NaN</td>\n",
       "      <td>NaN</td>\n",
       "      <td>NaN</td>\n",
       "      <td>NaN</td>\n",
       "      <td>NaN</td>\n",
       "      <td>101512385</td>\n",
       "      <td>NaN</td>\n",
       "      <td>NaN</td>\n",
       "      <td>1512385</td>\n",
       "    </tr>\n",
       "    <tr>\n",
       "      <th>22324</th>\n",
       "      <td>NaN</td>\n",
       "      <td>37.625309</td>\n",
       "      <td>-122.414205</td>\n",
       "      <td>1</td>\n",
       "      <td>SamTrans_2015_8_20</td>\n",
       "      <td>NaN</td>\n",
       "      <td>NaN</td>\n",
       "      <td>NaN</td>\n",
       "      <td>NaN</td>\n",
       "      <td>NaN</td>\n",
       "      <td>NaN</td>\n",
       "      <td>NaN</td>\n",
       "      <td>NaN</td>\n",
       "      <td>NaN</td>\n",
       "      <td>NaN</td>\n",
       "      <td>NaN</td>\n",
       "      <td>101534620</td>\n",
       "      <td>NaN</td>\n",
       "      <td>NaN</td>\n",
       "      <td>1534620</td>\n",
       "    </tr>\n",
       "    <tr>\n",
       "      <th>22325</th>\n",
       "      <td>NaN</td>\n",
       "      <td>37.628844</td>\n",
       "      <td>-122.416505</td>\n",
       "      <td>1</td>\n",
       "      <td>SamTrans_2015_8_20</td>\n",
       "      <td>NaN</td>\n",
       "      <td>NaN</td>\n",
       "      <td>NaN</td>\n",
       "      <td>NaN</td>\n",
       "      <td>NaN</td>\n",
       "      <td>NaN</td>\n",
       "      <td>NaN</td>\n",
       "      <td>NaN</td>\n",
       "      <td>NaN</td>\n",
       "      <td>NaN</td>\n",
       "      <td>NaN</td>\n",
       "      <td>101503246</td>\n",
       "      <td>NaN</td>\n",
       "      <td>NaN</td>\n",
       "      <td>1503246</td>\n",
       "    </tr>\n",
       "    <tr>\n",
       "      <th>22326</th>\n",
       "      <td>NaN</td>\n",
       "      <td>37.658391</td>\n",
       "      <td>-122.439236</td>\n",
       "      <td>1</td>\n",
       "      <td>SamTrans_2015_8_20</td>\n",
       "      <td>NaN</td>\n",
       "      <td>NaN</td>\n",
       "      <td>NaN</td>\n",
       "      <td>NaN</td>\n",
       "      <td>NaN</td>\n",
       "      <td>NaN</td>\n",
       "      <td>NaN</td>\n",
       "      <td>NaN</td>\n",
       "      <td>NaN</td>\n",
       "      <td>NaN</td>\n",
       "      <td>NaN</td>\n",
       "      <td>101537667</td>\n",
       "      <td>NaN</td>\n",
       "      <td>NaN</td>\n",
       "      <td>1537667</td>\n",
       "    </tr>\n",
       "    <tr>\n",
       "      <th>22327</th>\n",
       "      <td>NaN</td>\n",
       "      <td>37.664067</td>\n",
       "      <td>-122.448402</td>\n",
       "      <td>1</td>\n",
       "      <td>SamTrans_2015_8_20</td>\n",
       "      <td>NaN</td>\n",
       "      <td>NaN</td>\n",
       "      <td>NaN</td>\n",
       "      <td>NaN</td>\n",
       "      <td>NaN</td>\n",
       "      <td>NaN</td>\n",
       "      <td>NaN</td>\n",
       "      <td>NaN</td>\n",
       "      <td>NaN</td>\n",
       "      <td>NaN</td>\n",
       "      <td>NaN</td>\n",
       "      <td>101538028</td>\n",
       "      <td>NaN</td>\n",
       "      <td>NaN</td>\n",
       "      <td>1538028</td>\n",
       "    </tr>\n",
       "    <tr>\n",
       "      <th>22328</th>\n",
       "      <td>NaN</td>\n",
       "      <td>37.700195</td>\n",
       "      <td>-122.463650</td>\n",
       "      <td>1</td>\n",
       "      <td>SamTrans_2015_8_20</td>\n",
       "      <td>NaN</td>\n",
       "      <td>NaN</td>\n",
       "      <td>NaN</td>\n",
       "      <td>NaN</td>\n",
       "      <td>NaN</td>\n",
       "      <td>NaN</td>\n",
       "      <td>NaN</td>\n",
       "      <td>NaN</td>\n",
       "      <td>NaN</td>\n",
       "      <td>NaN</td>\n",
       "      <td>NaN</td>\n",
       "      <td>101526122</td>\n",
       "      <td>NaN</td>\n",
       "      <td>NaN</td>\n",
       "      <td>1526122</td>\n",
       "    </tr>\n",
       "    <tr>\n",
       "      <th>22329</th>\n",
       "      <td>NaN</td>\n",
       "      <td>37.620522</td>\n",
       "      <td>-122.410982</td>\n",
       "      <td>1</td>\n",
       "      <td>SamTrans_2015_8_20</td>\n",
       "      <td>NaN</td>\n",
       "      <td>NaN</td>\n",
       "      <td>NaN</td>\n",
       "      <td>NaN</td>\n",
       "      <td>NaN</td>\n",
       "      <td>NaN</td>\n",
       "      <td>NaN</td>\n",
       "      <td>NaN</td>\n",
       "      <td>NaN</td>\n",
       "      <td>NaN</td>\n",
       "      <td>NaN</td>\n",
       "      <td>101519051</td>\n",
       "      <td>NaN</td>\n",
       "      <td>NaN</td>\n",
       "      <td>1519051</td>\n",
       "    </tr>\n",
       "    <tr>\n",
       "      <th>22330</th>\n",
       "      <td>NaN</td>\n",
       "      <td>37.613842</td>\n",
       "      <td>-122.405051</td>\n",
       "      <td>1</td>\n",
       "      <td>SamTrans_2015_8_20</td>\n",
       "      <td>NaN</td>\n",
       "      <td>NaN</td>\n",
       "      <td>NaN</td>\n",
       "      <td>NaN</td>\n",
       "      <td>NaN</td>\n",
       "      <td>NaN</td>\n",
       "      <td>NaN</td>\n",
       "      <td>NaN</td>\n",
       "      <td>NaN</td>\n",
       "      <td>NaN</td>\n",
       "      <td>NaN</td>\n",
       "      <td>101503077</td>\n",
       "      <td>NaN</td>\n",
       "      <td>NaN</td>\n",
       "      <td>1503077</td>\n",
       "    </tr>\n",
       "    <tr>\n",
       "      <th>22331</th>\n",
       "      <td>NaN</td>\n",
       "      <td>37.596607</td>\n",
       "      <td>-122.385852</td>\n",
       "      <td>1</td>\n",
       "      <td>SamTrans_2015_8_20</td>\n",
       "      <td>NaN</td>\n",
       "      <td>NaN</td>\n",
       "      <td>NaN</td>\n",
       "      <td>NaN</td>\n",
       "      <td>NaN</td>\n",
       "      <td>NaN</td>\n",
       "      <td>NaN</td>\n",
       "      <td>NaN</td>\n",
       "      <td>NaN</td>\n",
       "      <td>NaN</td>\n",
       "      <td>NaN</td>\n",
       "      <td>101508313</td>\n",
       "      <td>NaN</td>\n",
       "      <td>NaN</td>\n",
       "      <td>1508313</td>\n",
       "    </tr>\n",
       "    <tr>\n",
       "      <th>22332</th>\n",
       "      <td>NaN</td>\n",
       "      <td>37.552161</td>\n",
       "      <td>-122.314161</td>\n",
       "      <td>1</td>\n",
       "      <td>SamTrans_2015_8_20</td>\n",
       "      <td>NaN</td>\n",
       "      <td>NaN</td>\n",
       "      <td>NaN</td>\n",
       "      <td>NaN</td>\n",
       "      <td>NaN</td>\n",
       "      <td>NaN</td>\n",
       "      <td>NaN</td>\n",
       "      <td>NaN</td>\n",
       "      <td>NaN</td>\n",
       "      <td>NaN</td>\n",
       "      <td>NaN</td>\n",
       "      <td>101508126</td>\n",
       "      <td>NaN</td>\n",
       "      <td>NaN</td>\n",
       "      <td>1508126</td>\n",
       "    </tr>\n",
       "    <tr>\n",
       "      <th>22333</th>\n",
       "      <td>NaN</td>\n",
       "      <td>37.511450</td>\n",
       "      <td>-122.265844</td>\n",
       "      <td>1</td>\n",
       "      <td>SamTrans_2015_8_20</td>\n",
       "      <td>NaN</td>\n",
       "      <td>NaN</td>\n",
       "      <td>NaN</td>\n",
       "      <td>NaN</td>\n",
       "      <td>NaN</td>\n",
       "      <td>NaN</td>\n",
       "      <td>NaN</td>\n",
       "      <td>NaN</td>\n",
       "      <td>NaN</td>\n",
       "      <td>NaN</td>\n",
       "      <td>NaN</td>\n",
       "      <td>101537888</td>\n",
       "      <td>NaN</td>\n",
       "      <td>NaN</td>\n",
       "      <td>1537888</td>\n",
       "    </tr>\n",
       "    <tr>\n",
       "      <th>22334</th>\n",
       "      <td>NaN</td>\n",
       "      <td>37.473806</td>\n",
       "      <td>-122.218246</td>\n",
       "      <td>1</td>\n",
       "      <td>SamTrans_2015_8_20</td>\n",
       "      <td>NaN</td>\n",
       "      <td>NaN</td>\n",
       "      <td>NaN</td>\n",
       "      <td>NaN</td>\n",
       "      <td>NaN</td>\n",
       "      <td>NaN</td>\n",
       "      <td>NaN</td>\n",
       "      <td>NaN</td>\n",
       "      <td>NaN</td>\n",
       "      <td>NaN</td>\n",
       "      <td>NaN</td>\n",
       "      <td>101519350</td>\n",
       "      <td>NaN</td>\n",
       "      <td>NaN</td>\n",
       "      <td>1519350</td>\n",
       "    </tr>\n",
       "    <tr>\n",
       "      <th>22335</th>\n",
       "      <td>NaN</td>\n",
       "      <td>37.467113</td>\n",
       "      <td>-122.209112</td>\n",
       "      <td>1</td>\n",
       "      <td>SamTrans_2015_8_20</td>\n",
       "      <td>NaN</td>\n",
       "      <td>NaN</td>\n",
       "      <td>NaN</td>\n",
       "      <td>NaN</td>\n",
       "      <td>NaN</td>\n",
       "      <td>NaN</td>\n",
       "      <td>NaN</td>\n",
       "      <td>NaN</td>\n",
       "      <td>NaN</td>\n",
       "      <td>NaN</td>\n",
       "      <td>NaN</td>\n",
       "      <td>101516319</td>\n",
       "      <td>NaN</td>\n",
       "      <td>NaN</td>\n",
       "      <td>1516319</td>\n",
       "    </tr>\n",
       "    <tr>\n",
       "      <th>22336</th>\n",
       "      <td>NaN</td>\n",
       "      <td>37.457395</td>\n",
       "      <td>-122.190835</td>\n",
       "      <td>1</td>\n",
       "      <td>SamTrans_2015_8_20</td>\n",
       "      <td>NaN</td>\n",
       "      <td>NaN</td>\n",
       "      <td>NaN</td>\n",
       "      <td>NaN</td>\n",
       "      <td>NaN</td>\n",
       "      <td>NaN</td>\n",
       "      <td>NaN</td>\n",
       "      <td>NaN</td>\n",
       "      <td>NaN</td>\n",
       "      <td>NaN</td>\n",
       "      <td>NaN</td>\n",
       "      <td>101509775</td>\n",
       "      <td>NaN</td>\n",
       "      <td>NaN</td>\n",
       "      <td>1509775</td>\n",
       "    </tr>\n",
       "    <tr>\n",
       "      <th>22337</th>\n",
       "      <td>NaN</td>\n",
       "      <td>37.452343</td>\n",
       "      <td>-122.180616</td>\n",
       "      <td>1</td>\n",
       "      <td>SamTrans_2015_8_20</td>\n",
       "      <td>NaN</td>\n",
       "      <td>NaN</td>\n",
       "      <td>NaN</td>\n",
       "      <td>NaN</td>\n",
       "      <td>NaN</td>\n",
       "      <td>NaN</td>\n",
       "      <td>NaN</td>\n",
       "      <td>NaN</td>\n",
       "      <td>NaN</td>\n",
       "      <td>NaN</td>\n",
       "      <td>NaN</td>\n",
       "      <td>101536669</td>\n",
       "      <td>NaN</td>\n",
       "      <td>NaN</td>\n",
       "      <td>1536669</td>\n",
       "    </tr>\n",
       "  </tbody>\n",
       "</table>\n",
       "</div>"
      ],
      "text/plain": [
       "      stop_name   stop_lat    stop_lon zone_id     agency_raw_name stop_code  \\\n",
       "22309       NaN  37.444794 -122.168849       1  SamTrans_2015_8_20       NaN   \n",
       "22310       NaN  37.472389 -122.216100       1  SamTrans_2015_8_20       NaN   \n",
       "22311       NaN  37.483308 -122.231206       1  SamTrans_2015_8_20       NaN   \n",
       "22312       NaN  37.485404 -122.233938       1  SamTrans_2015_8_20       NaN   \n",
       "22313       NaN  37.489469 -122.238568       1  SamTrans_2015_8_20       NaN   \n",
       "22314       NaN  37.503227 -122.255333       1  SamTrans_2015_8_20       NaN   \n",
       "22315       NaN  37.507359 -122.260283       1  SamTrans_2015_8_20       NaN   \n",
       "22316       NaN  37.526752 -122.283581       1  SamTrans_2015_8_20       NaN   \n",
       "22317       NaN  37.540371 -122.301416       1  SamTrans_2015_8_20       NaN   \n",
       "22318       NaN  37.559804 -122.322379       1  SamTrans_2015_8_20       NaN   \n",
       "22319       NaN  37.561699 -122.324410       1  SamTrans_2015_8_20       NaN   \n",
       "22320       NaN  37.594602 -122.383151       1  SamTrans_2015_8_20       NaN   \n",
       "22321       NaN  37.596809 -122.385824       1  SamTrans_2015_8_20       NaN   \n",
       "22322       NaN  37.599120 -122.387918       1  SamTrans_2015_8_20       NaN   \n",
       "22323       NaN  37.610467 -122.401464       1  SamTrans_2015_8_20       NaN   \n",
       "22324       NaN  37.625309 -122.414205       1  SamTrans_2015_8_20       NaN   \n",
       "22325       NaN  37.628844 -122.416505       1  SamTrans_2015_8_20       NaN   \n",
       "22326       NaN  37.658391 -122.439236       1  SamTrans_2015_8_20       NaN   \n",
       "22327       NaN  37.664067 -122.448402       1  SamTrans_2015_8_20       NaN   \n",
       "22328       NaN  37.700195 -122.463650       1  SamTrans_2015_8_20       NaN   \n",
       "22329       NaN  37.620522 -122.410982       1  SamTrans_2015_8_20       NaN   \n",
       "22330       NaN  37.613842 -122.405051       1  SamTrans_2015_8_20       NaN   \n",
       "22331       NaN  37.596607 -122.385852       1  SamTrans_2015_8_20       NaN   \n",
       "22332       NaN  37.552161 -122.314161       1  SamTrans_2015_8_20       NaN   \n",
       "22333       NaN  37.511450 -122.265844       1  SamTrans_2015_8_20       NaN   \n",
       "22334       NaN  37.473806 -122.218246       1  SamTrans_2015_8_20       NaN   \n",
       "22335       NaN  37.467113 -122.209112       1  SamTrans_2015_8_20       NaN   \n",
       "22336       NaN  37.457395 -122.190835       1  SamTrans_2015_8_20       NaN   \n",
       "22337       NaN  37.452343 -122.180616       1  SamTrans_2015_8_20       NaN   \n",
       "\n",
       "       location_type parent_station stop_desc stop_url stop_timezone  \\\n",
       "22309            NaN            NaN       NaN      NaN           NaN   \n",
       "22310            NaN            NaN       NaN      NaN           NaN   \n",
       "22311            NaN            NaN       NaN      NaN           NaN   \n",
       "22312            NaN            NaN       NaN      NaN           NaN   \n",
       "22313            NaN            NaN       NaN      NaN           NaN   \n",
       "22314            NaN            NaN       NaN      NaN           NaN   \n",
       "22315            NaN            NaN       NaN      NaN           NaN   \n",
       "22316            NaN            NaN       NaN      NaN           NaN   \n",
       "22317            NaN            NaN       NaN      NaN           NaN   \n",
       "22318            NaN            NaN       NaN      NaN           NaN   \n",
       "22319            NaN            NaN       NaN      NaN           NaN   \n",
       "22320            NaN            NaN       NaN      NaN           NaN   \n",
       "22321            NaN            NaN       NaN      NaN           NaN   \n",
       "22322            NaN            NaN       NaN      NaN           NaN   \n",
       "22323            NaN            NaN       NaN      NaN           NaN   \n",
       "22324            NaN            NaN       NaN      NaN           NaN   \n",
       "22325            NaN            NaN       NaN      NaN           NaN   \n",
       "22326            NaN            NaN       NaN      NaN           NaN   \n",
       "22327            NaN            NaN       NaN      NaN           NaN   \n",
       "22328            NaN            NaN       NaN      NaN           NaN   \n",
       "22329            NaN            NaN       NaN      NaN           NaN   \n",
       "22330            NaN            NaN       NaN      NaN           NaN   \n",
       "22331            NaN            NaN       NaN      NaN           NaN   \n",
       "22332            NaN            NaN       NaN      NaN           NaN   \n",
       "22333            NaN            NaN       NaN      NaN           NaN   \n",
       "22334            NaN            NaN       NaN      NaN           NaN   \n",
       "22335            NaN            NaN       NaN      NaN           NaN   \n",
       "22336            NaN            NaN       NaN      NaN           NaN   \n",
       "22337            NaN            NaN       NaN      NaN           NaN   \n",
       "\n",
       "       wheelchair_boarding platform_code position direction * used by routes  \\\n",
       "22309                  NaN           NaN      NaN       NaN              NaN   \n",
       "22310                  NaN           NaN      NaN       NaN              NaN   \n",
       "22311                  NaN           NaN      NaN       NaN              NaN   \n",
       "22312                  NaN           NaN      NaN       NaN              NaN   \n",
       "22313                  NaN           NaN      NaN       NaN              NaN   \n",
       "22314                  NaN           NaN      NaN       NaN              NaN   \n",
       "22315                  NaN           NaN      NaN       NaN              NaN   \n",
       "22316                  NaN           NaN      NaN       NaN              NaN   \n",
       "22317                  NaN           NaN      NaN       NaN              NaN   \n",
       "22318                  NaN           NaN      NaN       NaN              NaN   \n",
       "22319                  NaN           NaN      NaN       NaN              NaN   \n",
       "22320                  NaN           NaN      NaN       NaN              NaN   \n",
       "22321                  NaN           NaN      NaN       NaN              NaN   \n",
       "22322                  NaN           NaN      NaN       NaN              NaN   \n",
       "22323                  NaN           NaN      NaN       NaN              NaN   \n",
       "22324                  NaN           NaN      NaN       NaN              NaN   \n",
       "22325                  NaN           NaN      NaN       NaN              NaN   \n",
       "22326                  NaN           NaN      NaN       NaN              NaN   \n",
       "22327                  NaN           NaN      NaN       NaN              NaN   \n",
       "22328                  NaN           NaN      NaN       NaN              NaN   \n",
       "22329                  NaN           NaN      NaN       NaN              NaN   \n",
       "22330                  NaN           NaN      NaN       NaN              NaN   \n",
       "22331                  NaN           NaN      NaN       NaN              NaN   \n",
       "22332                  NaN           NaN      NaN       NaN              NaN   \n",
       "22333                  NaN           NaN      NaN       NaN              NaN   \n",
       "22334                  NaN           NaN      NaN       NaN              NaN   \n",
       "22335                  NaN           NaN      NaN       NaN              NaN   \n",
       "22336                  NaN           NaN      NaN       NaN              NaN   \n",
       "22337                  NaN           NaN      NaN       NaN              NaN   \n",
       "\n",
       "         stop_id osm_node_id shst_node_id model_node_id  \n",
       "22309  102036044         NaN          NaN       2036044  \n",
       "22310  101511493         NaN          NaN       1511493  \n",
       "22311  101516920         NaN          NaN       1516920  \n",
       "22312  101525498         NaN          NaN       1525498  \n",
       "22313  101516256         NaN          NaN       1516256  \n",
       "22314  101513094         NaN          NaN       1513094  \n",
       "22315  101513976         NaN          NaN       1513976  \n",
       "22316  101528479         NaN          NaN       1528479  \n",
       "22317  101529690         NaN          NaN       1529690  \n",
       "22318  101529454         NaN          NaN       1529454  \n",
       "22319  101519622         NaN          NaN       1519622  \n",
       "22320  101513122         NaN          NaN       1513122  \n",
       "22321  101514054         NaN          NaN       1514054  \n",
       "22322  101543182         NaN          NaN       1543182  \n",
       "22323  101512385         NaN          NaN       1512385  \n",
       "22324  101534620         NaN          NaN       1534620  \n",
       "22325  101503246         NaN          NaN       1503246  \n",
       "22326  101537667         NaN          NaN       1537667  \n",
       "22327  101538028         NaN          NaN       1538028  \n",
       "22328  101526122         NaN          NaN       1526122  \n",
       "22329  101519051         NaN          NaN       1519051  \n",
       "22330  101503077         NaN          NaN       1503077  \n",
       "22331  101508313         NaN          NaN       1508313  \n",
       "22332  101508126         NaN          NaN       1508126  \n",
       "22333  101537888         NaN          NaN       1537888  \n",
       "22334  101519350         NaN          NaN       1519350  \n",
       "22335  101516319         NaN          NaN       1516319  \n",
       "22336  101509775         NaN          NaN       1509775  \n",
       "22337  101536669         NaN          NaN       1536669  "
      ]
     },
     "execution_count": 62,
     "metadata": {},
     "output_type": "execute_result"
    }
   ],
   "source": [
    "# check zone-id for new stops on SamTrans\n",
    "scenario.transit_net.feed.stops[\n",
    "    scenario.transit_net.feed.stops.stop_id.astype(int).isin(\n",
    "    [102036044,101511493,101516920,101525498,101516256,101513094,101513976,101528479,101529690,101529454,101519622,101513122,101514054,101543182,101512385,101534620,101503246,101537667,101538028,101526122,101519051,101503077,101508313,101508126,101537888,101519350,101516319,101509775,101536669])\n",
    "]"
   ]
  },
  {
   "cell_type": "code",
   "execution_count": 63,
   "metadata": {},
   "outputs": [
    {
     "data": {
      "text/html": [
       "<div>\n",
       "<style scoped>\n",
       "    .dataframe tbody tr th:only-of-type {\n",
       "        vertical-align: middle;\n",
       "    }\n",
       "\n",
       "    .dataframe tbody tr th {\n",
       "        vertical-align: top;\n",
       "    }\n",
       "\n",
       "    .dataframe thead th {\n",
       "        text-align: right;\n",
       "    }\n",
       "</style>\n",
       "<table border=\"1\" class=\"dataframe\">\n",
       "  <thead>\n",
       "    <tr style=\"text-align: right;\">\n",
       "      <th></th>\n",
       "      <th>stop_name</th>\n",
       "      <th>stop_lat</th>\n",
       "      <th>stop_lon</th>\n",
       "      <th>zone_id</th>\n",
       "      <th>agency_raw_name</th>\n",
       "      <th>stop_code</th>\n",
       "      <th>location_type</th>\n",
       "      <th>parent_station</th>\n",
       "      <th>stop_desc</th>\n",
       "      <th>stop_url</th>\n",
       "      <th>stop_timezone</th>\n",
       "      <th>wheelchair_boarding</th>\n",
       "      <th>platform_code</th>\n",
       "      <th>position</th>\n",
       "      <th>direction</th>\n",
       "      <th>* used by routes</th>\n",
       "      <th>stop_id</th>\n",
       "      <th>osm_node_id</th>\n",
       "      <th>shst_node_id</th>\n",
       "      <th>model_node_id</th>\n",
       "    </tr>\n",
       "  </thead>\n",
       "  <tbody>\n",
       "    <tr>\n",
       "      <th>22338</th>\n",
       "      <td>NaN</td>\n",
       "      <td>37.673730</td>\n",
       "      <td>-122.467029</td>\n",
       "      <td>1</td>\n",
       "      <td>SamTrans_2015_8_20</td>\n",
       "      <td>NaN</td>\n",
       "      <td>NaN</td>\n",
       "      <td>NaN</td>\n",
       "      <td>NaN</td>\n",
       "      <td>NaN</td>\n",
       "      <td>NaN</td>\n",
       "      <td>NaN</td>\n",
       "      <td>NaN</td>\n",
       "      <td>NaN</td>\n",
       "      <td>NaN</td>\n",
       "      <td>NaN</td>\n",
       "      <td>101523872</td>\n",
       "      <td>NaN</td>\n",
       "      <td>NaN</td>\n",
       "      <td>1523872</td>\n",
       "    </tr>\n",
       "    <tr>\n",
       "      <th>22339</th>\n",
       "      <td>NaN</td>\n",
       "      <td>37.682409</td>\n",
       "      <td>-122.487089</td>\n",
       "      <td>1</td>\n",
       "      <td>SamTrans_2015_8_20</td>\n",
       "      <td>NaN</td>\n",
       "      <td>NaN</td>\n",
       "      <td>NaN</td>\n",
       "      <td>NaN</td>\n",
       "      <td>NaN</td>\n",
       "      <td>NaN</td>\n",
       "      <td>NaN</td>\n",
       "      <td>NaN</td>\n",
       "      <td>NaN</td>\n",
       "      <td>NaN</td>\n",
       "      <td>NaN</td>\n",
       "      <td>101545076</td>\n",
       "      <td>NaN</td>\n",
       "      <td>NaN</td>\n",
       "      <td>1545076</td>\n",
       "    </tr>\n",
       "    <tr>\n",
       "      <th>22340</th>\n",
       "      <td>NaN</td>\n",
       "      <td>37.697643</td>\n",
       "      <td>-122.483092</td>\n",
       "      <td>1</td>\n",
       "      <td>SamTrans_2015_8_20</td>\n",
       "      <td>NaN</td>\n",
       "      <td>NaN</td>\n",
       "      <td>NaN</td>\n",
       "      <td>NaN</td>\n",
       "      <td>NaN</td>\n",
       "      <td>NaN</td>\n",
       "      <td>NaN</td>\n",
       "      <td>NaN</td>\n",
       "      <td>NaN</td>\n",
       "      <td>NaN</td>\n",
       "      <td>NaN</td>\n",
       "      <td>101503345</td>\n",
       "      <td>NaN</td>\n",
       "      <td>NaN</td>\n",
       "      <td>1503345</td>\n",
       "    </tr>\n",
       "    <tr>\n",
       "      <th>22341</th>\n",
       "      <td>NaN</td>\n",
       "      <td>37.701361</td>\n",
       "      <td>-122.484757</td>\n",
       "      <td>1</td>\n",
       "      <td>SamTrans_2015_8_20</td>\n",
       "      <td>NaN</td>\n",
       "      <td>NaN</td>\n",
       "      <td>NaN</td>\n",
       "      <td>NaN</td>\n",
       "      <td>NaN</td>\n",
       "      <td>NaN</td>\n",
       "      <td>NaN</td>\n",
       "      <td>NaN</td>\n",
       "      <td>NaN</td>\n",
       "      <td>NaN</td>\n",
       "      <td>NaN</td>\n",
       "      <td>101519909</td>\n",
       "      <td>NaN</td>\n",
       "      <td>NaN</td>\n",
       "      <td>1519909</td>\n",
       "    </tr>\n",
       "    <tr>\n",
       "      <th>22342</th>\n",
       "      <td>NaN</td>\n",
       "      <td>37.702417</td>\n",
       "      <td>-122.481156</td>\n",
       "      <td>1</td>\n",
       "      <td>SamTrans_2015_8_20</td>\n",
       "      <td>NaN</td>\n",
       "      <td>NaN</td>\n",
       "      <td>NaN</td>\n",
       "      <td>NaN</td>\n",
       "      <td>NaN</td>\n",
       "      <td>NaN</td>\n",
       "      <td>NaN</td>\n",
       "      <td>NaN</td>\n",
       "      <td>NaN</td>\n",
       "      <td>NaN</td>\n",
       "      <td>NaN</td>\n",
       "      <td>101504028</td>\n",
       "      <td>NaN</td>\n",
       "      <td>NaN</td>\n",
       "      <td>1504028</td>\n",
       "    </tr>\n",
       "    <tr>\n",
       "      <th>22343</th>\n",
       "      <td>NaN</td>\n",
       "      <td>37.704069</td>\n",
       "      <td>-122.475537</td>\n",
       "      <td>1</td>\n",
       "      <td>SamTrans_2015_8_20</td>\n",
       "      <td>NaN</td>\n",
       "      <td>NaN</td>\n",
       "      <td>NaN</td>\n",
       "      <td>NaN</td>\n",
       "      <td>NaN</td>\n",
       "      <td>NaN</td>\n",
       "      <td>NaN</td>\n",
       "      <td>NaN</td>\n",
       "      <td>NaN</td>\n",
       "      <td>NaN</td>\n",
       "      <td>NaN</td>\n",
       "      <td>101514714</td>\n",
       "      <td>NaN</td>\n",
       "      <td>NaN</td>\n",
       "      <td>1514714</td>\n",
       "    </tr>\n",
       "    <tr>\n",
       "      <th>22344</th>\n",
       "      <td>NaN</td>\n",
       "      <td>37.671171</td>\n",
       "      <td>-122.464817</td>\n",
       "      <td>1</td>\n",
       "      <td>SamTrans_2015_8_20</td>\n",
       "      <td>NaN</td>\n",
       "      <td>NaN</td>\n",
       "      <td>NaN</td>\n",
       "      <td>NaN</td>\n",
       "      <td>NaN</td>\n",
       "      <td>NaN</td>\n",
       "      <td>NaN</td>\n",
       "      <td>NaN</td>\n",
       "      <td>NaN</td>\n",
       "      <td>NaN</td>\n",
       "      <td>NaN</td>\n",
       "      <td>101506746</td>\n",
       "      <td>NaN</td>\n",
       "      <td>NaN</td>\n",
       "      <td>1506746</td>\n",
       "    </tr>\n",
       "  </tbody>\n",
       "</table>\n",
       "</div>"
      ],
      "text/plain": [
       "      stop_name   stop_lat    stop_lon zone_id     agency_raw_name stop_code  \\\n",
       "22338       NaN  37.673730 -122.467029       1  SamTrans_2015_8_20       NaN   \n",
       "22339       NaN  37.682409 -122.487089       1  SamTrans_2015_8_20       NaN   \n",
       "22340       NaN  37.697643 -122.483092       1  SamTrans_2015_8_20       NaN   \n",
       "22341       NaN  37.701361 -122.484757       1  SamTrans_2015_8_20       NaN   \n",
       "22342       NaN  37.702417 -122.481156       1  SamTrans_2015_8_20       NaN   \n",
       "22343       NaN  37.704069 -122.475537       1  SamTrans_2015_8_20       NaN   \n",
       "22344       NaN  37.671171 -122.464817       1  SamTrans_2015_8_20       NaN   \n",
       "\n",
       "       location_type parent_station stop_desc stop_url stop_timezone  \\\n",
       "22338            NaN            NaN       NaN      NaN           NaN   \n",
       "22339            NaN            NaN       NaN      NaN           NaN   \n",
       "22340            NaN            NaN       NaN      NaN           NaN   \n",
       "22341            NaN            NaN       NaN      NaN           NaN   \n",
       "22342            NaN            NaN       NaN      NaN           NaN   \n",
       "22343            NaN            NaN       NaN      NaN           NaN   \n",
       "22344            NaN            NaN       NaN      NaN           NaN   \n",
       "\n",
       "       wheelchair_boarding platform_code position direction * used by routes  \\\n",
       "22338                  NaN           NaN      NaN       NaN              NaN   \n",
       "22339                  NaN           NaN      NaN       NaN              NaN   \n",
       "22340                  NaN           NaN      NaN       NaN              NaN   \n",
       "22341                  NaN           NaN      NaN       NaN              NaN   \n",
       "22342                  NaN           NaN      NaN       NaN              NaN   \n",
       "22343                  NaN           NaN      NaN       NaN              NaN   \n",
       "22344                  NaN           NaN      NaN       NaN              NaN   \n",
       "\n",
       "         stop_id osm_node_id shst_node_id model_node_id  \n",
       "22338  101523872         NaN          NaN       1523872  \n",
       "22339  101545076         NaN          NaN       1545076  \n",
       "22340  101503345         NaN          NaN       1503345  \n",
       "22341  101519909         NaN          NaN       1519909  \n",
       "22342  101504028         NaN          NaN       1504028  \n",
       "22343  101514714         NaN          NaN       1514714  \n",
       "22344  101506746         NaN          NaN       1506746  "
      ]
     },
     "execution_count": 63,
     "metadata": {},
     "output_type": "execute_result"
    }
   ],
   "source": [
    "# check zone-id for new stops on SamTrans\n",
    "scenario.transit_net.feed.stops[\n",
    "    scenario.transit_net.feed.stops.stop_id.astype(int).isin(\n",
    "    [101523872,101545076,101503345,101519909,101504028,101514714,101506746])\n",
    "]"
   ]
  },
  {
   "cell_type": "code",
   "execution_count": 64,
   "metadata": {},
   "outputs": [
    {
     "data": {
      "text/plain": [
       "[{'default': 4,\n",
       "  'timeofday': [{'time': (21600, 36000), 'value': 3},\n",
       "   {'time': (54000, 68400), 'value': 3}]},\n",
       " {'default': 4,\n",
       "  'timeofday': [{'time': (21600, 36000), 'value': 3},\n",
       "   {'time': (54000, 68400), 'value': 3}]},\n",
       " {'default': 7,\n",
       "  'timeofday': [{'time': (21600, 36000), 'value': 5},\n",
       "   {'time': (54000, 68400), 'value': 5}]}]"
      ]
     },
     "execution_count": 64,
     "metadata": {},
     "output_type": "execute_result"
    }
   ],
   "source": [
    "# check San Mateo bridge toll plaza\n",
    "scenario.road_net.links_df[\n",
    "    scenario.road_net.links_df.model_link_id.isin(\n",
    "    [3315463,3315462, 3024600])\n",
    "].lanes.tolist()"
   ]
  },
  {
   "cell_type": "code",
   "execution_count": 65,
   "metadata": {
    "scrolled": true
   },
   "outputs": [
    {
     "data": {
      "text/html": [
       "<div>\n",
       "<style scoped>\n",
       "    .dataframe tbody tr th:only-of-type {\n",
       "        vertical-align: middle;\n",
       "    }\n",
       "\n",
       "    .dataframe tbody tr th {\n",
       "        vertical-align: top;\n",
       "    }\n",
       "\n",
       "    .dataframe thead th {\n",
       "        text-align: right;\n",
       "    }\n",
       "</style>\n",
       "<table border=\"1\" class=\"dataframe\">\n",
       "  <thead>\n",
       "    <tr style=\"text-align: right;\">\n",
       "      <th></th>\n",
       "      <th>access</th>\n",
       "      <th>bike_access</th>\n",
       "      <th>drive_access</th>\n",
       "      <th>fromIntersectionId</th>\n",
       "      <th>lanes</th>\n",
       "      <th>maxspeed</th>\n",
       "      <th>name</th>\n",
       "      <th>oneWay</th>\n",
       "      <th>ref</th>\n",
       "      <th>roadway</th>\n",
       "      <th>...</th>\n",
       "      <th>transit_access</th>\n",
       "      <th>managed</th>\n",
       "      <th>ML_lanes</th>\n",
       "      <th>segment_id</th>\n",
       "      <th>ML_tollbooth</th>\n",
       "      <th>ML_useclass</th>\n",
       "      <th>ML_access</th>\n",
       "      <th>ML_egress</th>\n",
       "      <th>ML_tollseg</th>\n",
       "      <th>tollseg</th>\n",
       "    </tr>\n",
       "  </thead>\n",
       "  <tbody>\n",
       "    <tr>\n",
       "      <th>818708</th>\n",
       "      <td>['nan', '']</td>\n",
       "      <td>False</td>\n",
       "      <td>True</td>\n",
       "      <td>dc196b0fb1ac8053a741cd53df6ff64d</td>\n",
       "      <td>5</td>\n",
       "      <td>['50 mph', '']</td>\n",
       "      <td>['San Francisco – Oakland Bay Bridge', '']</td>\n",
       "      <td>[True, True]</td>\n",
       "      <td>['I 80', '']</td>\n",
       "      <td>motorway</td>\n",
       "      <td>...</td>\n",
       "      <td>NaN</td>\n",
       "      <td>0</td>\n",
       "      <td>NaN</td>\n",
       "      <td>NaN</td>\n",
       "      <td>NaN</td>\n",
       "      <td>NaN</td>\n",
       "      <td>NaN</td>\n",
       "      <td>NaN</td>\n",
       "      <td>NaN</td>\n",
       "      <td>NaN</td>\n",
       "    </tr>\n",
       "  </tbody>\n",
       "</table>\n",
       "<p>1 rows × 44 columns</p>\n",
       "</div>"
      ],
      "text/plain": [
       "             access bike_access drive_access  \\\n",
       "818708  ['nan', '']       False         True   \n",
       "\n",
       "                      fromIntersectionId lanes        maxspeed  \\\n",
       "818708  dc196b0fb1ac8053a741cd53df6ff64d     5  ['50 mph', '']   \n",
       "\n",
       "                                              name        oneWay  \\\n",
       "818708  ['San Francisco – Oakland Bay Bridge', '']  [True, True]   \n",
       "\n",
       "                 ref   roadway  ... transit_access managed ML_lanes  \\\n",
       "818708  ['I 80', '']  motorway  ...            NaN       0      NaN   \n",
       "\n",
       "       segment_id ML_tollbooth ML_useclass ML_access ML_egress  ML_tollseg  \\\n",
       "818708        NaN          NaN         NaN       NaN       NaN         NaN   \n",
       "\n",
       "        tollseg  \n",
       "818708      NaN  \n",
       "\n",
       "[1 rows x 44 columns]"
      ]
     },
     "execution_count": 65,
     "metadata": {},
     "output_type": "execute_result"
    }
   ],
   "source": [
    "# check Bay Bridge west pan\n",
    "scenario.road_net.links_df[\n",
    "    scenario.road_net.links_df.model_link_id.isin(\n",
    "    [38545])\n",
    "]"
   ]
  },
  {
   "cell_type": "markdown",
   "metadata": {},
   "source": [
    "### Write the scenario as a pickle"
   ]
  },
  {
   "cell_type": "code",
   "execution_count": 66,
   "metadata": {},
   "outputs": [
    {
     "name": "stdout",
     "output_type": "stream",
     "text": [
      "peak memory: 18340.12 MiB, increment: 5636.53 MiB\n",
      "Wall time: 3min 5s\n"
     ]
    }
   ],
   "source": [
    "%%time\n",
    "%%memit\n",
    "# Wall time: 3min\n",
    "working_scenario_filename = os.path.join(output_standard_dir, 'working_scenario_v12.pickle')\n",
    "pickle.dump(scenario, open(working_scenario_filename, 'wb'))"
   ]
  },
  {
   "cell_type": "markdown",
   "metadata": {},
   "source": [
    "### Write the standard networks"
   ]
  },
  {
   "cell_type": "code",
   "execution_count": 98,
   "metadata": {},
   "outputs": [
    {
     "name": "stdout",
     "output_type": "stream",
     "text": [
      "2022-01-21 10:04:24, INFO: Writing transit to directory: C:\\Users\\lzorn\\Documents\\scratch\\tm2_network_building\\processed\\version_12\\network_standard\n"
     ]
    },
    {
     "name": "stderr",
     "output_type": "stream",
     "text": [
      "C:\\Users\\lzorn\\.conda\\envs\\tm2_network_dev\\lib\\site-packages\\ipykernel_launcher.py:14: UserWarning: this is an initial implementation of Parquet/Feather file support and associated metadata.  This is tracking version 0.1.0 of the metadata specification at https://github.com/geopandas/geo-arrow-spec\n",
      "\n",
      "This metadata specification does not yet make stability promises.  We do not yet recommend using this in a production setting unless you are able to rewrite your Parquet/Feather files.\n",
      "\n",
      "To further ignore this warning, you can do: \n",
      "import warnings; warnings.filterwarnings('ignore', message='.*initial implementation of Parquet.*')\n",
      "  \n"
     ]
    },
    {
     "name": "stdout",
     "output_type": "stream",
     "text": [
      "peak memory: 20251.02 MiB, increment: 5111.56 MiB\n",
      "Wall time: 11min 16s\n"
     ]
    }
   ],
   "source": [
    "%%time\n",
    "%%memit\n",
    "scenario.road_net.write(path = output_standard_dir, filename = \"v12\")\n",
    "scenario.transit_net.write(path = output_standard_dir, filename = \"v12\")\n",
    "\n",
    "# save out link feather\n",
    "# to_feather() does not like mixed type\n",
    "links_feather = scenario.road_net.links_df.copy()\n",
    "links_feather.drop(\"geometry\", axis = 1, inplace = True)\n",
    "\n",
    "for c in links_feather.columns:\n",
    "    if c in parameters.int_col:\n",
    "        links_feather[c] = links_feather[c].astype(int)\n",
    "    else:\n",
    "        links_feather[c] = links_feather[c].astype(str)\n",
    "links_feather.to_feather(path = os.path.join(output_standard_dir, \"v12_links.feather\"))\n",
    "\n",
    "del links_feather"
   ]
  },
  {
   "cell_type": "markdown",
   "metadata": {},
   "source": [
    "## Make Travel Model Networks\n",
    "\n",
    "The model network code has been removed from this notebook;\n",
    "Please use [convert_scenario_to_modeled_networks.py](https://github.com/BayAreaMetro/travel-model-two-networks/blob/develop/src/scripts/convert_scenario_to_modeled_networks.py)"
   ]
  }
 ],
 "metadata": {
  "kernelspec": {
   "display_name": "Python 3",
   "language": "python",
   "name": "python3"
  },
  "language_info": {
   "codemirror_mode": {
    "name": "ipython",
    "version": 3
   },
   "file_extension": ".py",
   "mimetype": "text/x-python",
   "name": "python",
   "nbconvert_exporter": "python",
   "pygments_lexer": "ipython3",
   "version": "3.7.9"
  }
 },
 "nbformat": 4,
 "nbformat_minor": 4
}
