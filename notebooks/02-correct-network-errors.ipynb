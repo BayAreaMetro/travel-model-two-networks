{
 "cells": [
  {
   "cell_type": "markdown",
   "metadata": {},
   "source": [
    "# 02 Correct Network Errors with Project Cards"
   ]
  },
  {
   "cell_type": "code",
   "execution_count": 1,
   "metadata": {},
   "outputs": [],
   "source": [
    "import os\n",
    "import sys\n",
    "import yaml\n",
    "import pickle\n",
    "import glob\n",
    "\n",
    "import pandas as pd\n",
    "\n",
    "from network_wrangler import RoadwayNetwork\n",
    "from network_wrangler import TransitNetwork\n",
    "from network_wrangler import ProjectCard\n",
    "from network_wrangler import Scenario\n",
    "from network_wrangler import WranglerLogger\n",
    "\n",
    "from lasso import ModelRoadwayNetwork\n",
    "from lasso import StandardTransit\n",
    "from lasso import Parameters\n",
    "from lasso import mtc\n"
   ]
  },
  {
   "cell_type": "code",
   "execution_count": 2,
   "metadata": {},
   "outputs": [],
   "source": [
    "%load_ext autoreload\n",
    "%autoreload 2"
   ]
  },
  {
   "cell_type": "code",
   "execution_count": 3,
   "metadata": {},
   "outputs": [],
   "source": [
    "import logging\n",
    "logger = logging.getLogger(\"WranglerLogger\")\n",
    "logger.handlers[0].stream = sys.stdout\n",
    "logger.setLevel(logging.INFO)"
   ]
  },
  {
   "cell_type": "markdown",
   "metadata": {},
   "source": [
    "## Remote I/O and Parameters"
   ]
  },
  {
   "cell_type": "code",
   "execution_count": 136,
   "metadata": {},
   "outputs": [],
   "source": [
    "# root_dir = os.path.join('/Users', 'wsp', 'Documents', 'GitHub', 'travel-model-two-networks')\n",
    "root_dir = os.path.join('C:\\\\' 'Users', 'david.ory', 'Documents', 'GitHub', 'travel-model-two-networks')\n",
    "input_dir = os.path.join(root_dir, 'data', 'processed', 'version_03')\n",
    "output_dir = input_dir\n",
    "card_dir = os.path.join(root_dir, 'project_cards')\n",
    "# lasso_dir = os.path.join('/Users', 'wsp', 'Documents', 'GitHub', 'mtc-Lasso')\n",
    "lasso_dir = os.path.join('C:\\\\' 'Users', 'david.ory', 'Documents', 'GitHub', 'mtc_Lasso')"
   ]
  },
  {
   "cell_type": "code",
   "execution_count": 4,
   "metadata": {},
   "outputs": [],
   "source": [
    "# root_dir = os.path.join('/Users', 'wsp', 'Documents', 'GitHub', 'travel-model-two-networks')\n",
    "root_dir = \"Z:/Data/Users/Sijia/MTC/github/travel-model-two-networks\"\n",
    "input_dir = os.path.join(root_dir, 'data', 'processed', 'version_03')\n",
    "output_dir = input_dir\n",
    "card_dir = os.path.join(root_dir, 'project_cards')\n",
    "# lasso_dir = os.path.join('/Users', 'wsp', 'Documents', 'GitHub', 'mtc-Lasso')\n",
    "lasso_dir = \"Z:/Data/Users/Sijia/MTC/github/Lasso\""
   ]
  },
  {
   "cell_type": "code",
   "execution_count": 5,
   "metadata": {},
   "outputs": [
    {
     "name": "stdout",
     "output_type": "stream",
     "text": [
      "2020-12-04 09:14:36, INFO: Lasso base directory set as: Z:/Data/Users/Sijia/MTC/github/Lasso\n",
      "2020-12-04 09:14:36, INFO: Lasso base directory set as: Z:/Data/Users/Sijia/MTC/github/Lasso\n"
     ]
    }
   ],
   "source": [
    "parameters = Parameters(lasso_base_dir = lasso_dir)"
   ]
  },
  {
   "cell_type": "markdown",
   "metadata": {},
   "source": [
    "## Read Version 00 Scenario"
   ]
  },
  {
   "cell_type": "code",
   "execution_count": 6,
   "metadata": {},
   "outputs": [],
   "source": [
    "version_00_pickle_file_name = os.path.join(input_dir, 'working_scenario_00.pickle')\n",
    "v_00_scenario = pickle.load(open(version_00_pickle_file_name, 'rb'))"
   ]
  },
  {
   "cell_type": "code",
   "execution_count": 7,
   "metadata": {},
   "outputs": [
    {
     "data": {
      "text/plain": [
       "(1634769, 31)"
      ]
     },
     "execution_count": 7,
     "metadata": {},
     "output_type": "execute_result"
    }
   ],
   "source": [
    "v_00_scenario.road_net.links_df.shape"
   ]
  },
  {
   "cell_type": "code",
   "execution_count": 8,
   "metadata": {},
   "outputs": [
    {
     "name": "stdout",
     "output_type": "stream",
     "text": [
      "<class 'pandas.core.frame.DataFrame'>\n",
      "RangeIndex: 701 entries, 0 to 700\n",
      "Data columns (total 16 columns):\n",
      "route_id_original         701 non-null object\n",
      "agency_id                 526 non-null object\n",
      "route_short_name          665 non-null object\n",
      "route_long_name           679 non-null object\n",
      "route_desc                14 non-null object\n",
      "route_type                701 non-null int64\n",
      "route_url                 217 non-null object\n",
      "route_color               260 non-null object\n",
      "route_text_color          243 non-null object\n",
      "agency_raw_name           701 non-null object\n",
      "route_sort_order          95 non-null object\n",
      "min_headway_minutes       32 non-null object\n",
      "eligibility_restricted    4 non-null object\n",
      "continuous_pickup         4 non-null object\n",
      "continuous_drop_off       4 non-null object\n",
      "route_id                  701 non-null object\n",
      "dtypes: int64(1), object(15)\n",
      "memory usage: 87.8+ KB\n"
     ]
    }
   ],
   "source": [
    "v_00_scenario.transit_net.feed.routes.info()"
   ]
  },
  {
   "cell_type": "markdown",
   "metadata": {},
   "source": [
    "## Create Scenario and Apply Project Cards"
   ]
  },
  {
   "cell_type": "code",
   "execution_count": 9,
   "metadata": {},
   "outputs": [
    {
     "name": "stdout",
     "output_type": "stream",
     "text": [
      "2020-12-04 09:15:43, INFO: Creating Scenario\n",
      "2020-12-04 09:15:43, INFO: Creating Scenario\n"
     ]
    }
   ],
   "source": [
    "v_01_scenario = Scenario.create_scenario(\n",
    "    base_scenario=v_00_scenario,\n",
    "    card_directory = card_dir,\n",
    "    validate_project_cards=False)"
   ]
  },
  {
   "cell_type": "code",
   "execution_count": 10,
   "metadata": {},
   "outputs": [
    {
     "name": "stdout",
     "output_type": "stream",
     "text": [
      "2020-12-04 09:15:45, INFO: Applying Year 2015 Modify HOV Lanes and USE on San Mateo Bridge Toll Plaza Toll Plaza on CA-92 WB - Bridge Pass\n",
      "2020-12-04 09:15:45, INFO: Applying Year 2015 Modify HOV Lanes and USE on San Mateo Bridge Toll Plaza Toll Plaza on CA-92 WB - Bridge Pass\n",
      "2020-12-04 09:15:45, INFO: Applying Year 2015 Modify HOV Lanes and USE on San Mateo Bridge Toll Plaza Toll Plaza on CA-92 WB - Bridge Pass\n",
      "2020-12-04 09:15:45, INFO: Applying Year 2015 Modify HOV Lanes and USE on San Mateo Bridge Toll Plaza Toll Plaza on CA-92 WB - Bridge Pass\n",
      "2020-12-04 09:15:45, INFO: Applying Project to Roadway Network: Year 2015 Modify HOV Lanes and USE on San Mateo Bridge Toll Plaza Toll Plaza on CA-92 WB - Bridge Pass\n",
      "2020-12-04 09:15:45, INFO: Applying Project to Roadway Network: Year 2015 Modify HOV Lanes and USE on San Mateo Bridge Toll Plaza Toll Plaza on CA-92 WB - Bridge Pass\n"
     ]
    },
    {
     "name": "stderr",
     "output_type": "stream",
     "text": [
      "c:\\users\\wangs1\\.conda\\envs\\lasso_mtc\\lib\\site-packages\\geopandas\\geodataframe.py:853: SettingWithCopyWarning: \n",
      "A value is trying to be set on a copy of a slice from a DataFrame.\n",
      "Try using .loc[row_indexer,col_indexer] = value instead\n",
      "\n",
      "See the caveats in the documentation: http://pandas.pydata.org/pandas-docs/stable/user_guide/indexing.html#returning-a-view-versus-a-copy\n",
      "  super(GeoDataFrame, self).__setitem__(key, value)\n"
     ]
    },
    {
     "name": "stdout",
     "output_type": "stream",
     "text": [
      "2020-12-04 09:15:45, INFO: Applying Year 2015 Modify HOV Lanes and USE on Richmond-San Rafael Bridge Toll Plaza - Bridge Pass\n",
      "2020-12-04 09:15:45, INFO: Applying Year 2015 Modify HOV Lanes and USE on Richmond-San Rafael Bridge Toll Plaza - Bridge Pass\n",
      "2020-12-04 09:15:45, INFO: Applying Year 2015 Modify HOV Lanes and USE on Richmond-San Rafael Bridge Toll Plaza - Bridge Pass\n",
      "2020-12-04 09:15:45, INFO: Applying Year 2015 Modify HOV Lanes and USE on Richmond-San Rafael Bridge Toll Plaza - Bridge Pass\n",
      "2020-12-04 09:15:45, INFO: Applying Project to Roadway Network: Year 2015 Modify HOV Lanes and USE on Richmond-San Rafael Bridge Toll Plaza - Bridge Pass\n",
      "2020-12-04 09:15:45, INFO: Applying Project to Roadway Network: Year 2015 Modify HOV Lanes and USE on Richmond-San Rafael Bridge Toll Plaza - Bridge Pass\n",
      "2020-12-04 09:15:46, INFO: Applying Year 2015 Modify HOV Lanes and USE on US-101 SB from South of Healdsburg to North of Petaluma\n",
      "2020-12-04 09:15:46, INFO: Applying Year 2015 Modify HOV Lanes and USE on US-101 SB from South of Healdsburg to North of Petaluma\n",
      "2020-12-04 09:15:46, INFO: Applying Year 2015 Modify HOV Lanes and USE on US-101 SB from South of Healdsburg to North of Petaluma\n",
      "2020-12-04 09:15:46, INFO: Applying Year 2015 Modify HOV Lanes and USE on US-101 SB from South of Healdsburg to North of Petaluma\n",
      "2020-12-04 09:15:46, INFO: Applying Project to Roadway Network: Year 2015 Modify HOV Lanes and USE on US-101 SB from South of Healdsburg to North of Petaluma\n",
      "2020-12-04 09:15:46, INFO: Applying Project to Roadway Network: Year 2015 Modify HOV Lanes and USE on US-101 SB from South of Healdsburg to North of Petaluma\n",
      "2020-12-04 09:15:53, INFO: Applying Year 2015 Modify USE and HOV Lanes on US-101 SB (Segment 02) from South of Healdsburg to North of Petaluma\n",
      "2020-12-04 09:15:53, INFO: Applying Year 2015 Modify USE and HOV Lanes on US-101 SB (Segment 02) from South of Healdsburg to North of Petaluma\n",
      "2020-12-04 09:15:53, INFO: Applying Year 2015 Modify USE and HOV Lanes on US-101 SB (Segment 02) from South of Healdsburg to North of Petaluma\n",
      "2020-12-04 09:15:53, INFO: Applying Year 2015 Modify USE and HOV Lanes on US-101 SB (Segment 02) from South of Healdsburg to North of Petaluma\n",
      "2020-12-04 09:15:53, INFO: Applying Project to Roadway Network: Year 2015 Modify USE and HOV Lanes on US-101 SB (Segment 02) from South of Healdsburg to North of Petaluma\n",
      "2020-12-04 09:15:53, INFO: Applying Project to Roadway Network: Year 2015 Modify USE and HOV Lanes on US-101 SB (Segment 02) from South of Healdsburg to North of Petaluma\n",
      "2020-12-04 09:15:58, INFO: Applying Year 2015 Modify HOV Lanes and USE on US 101 SB CA-85 to Oregon Expressway\n",
      "2020-12-04 09:15:58, INFO: Applying Year 2015 Modify HOV Lanes and USE on US 101 SB CA-85 to Oregon Expressway\n",
      "2020-12-04 09:15:58, INFO: Applying Year 2015 Modify HOV Lanes and USE on US 101 SB CA-85 to Oregon Expressway\n",
      "2020-12-04 09:15:58, INFO: Applying Year 2015 Modify HOV Lanes and USE on US 101 SB CA-85 to Oregon Expressway\n",
      "2020-12-04 09:15:58, INFO: Applying Project to Roadway Network: Year 2015 Modify HOV Lanes and USE on US 101 SB CA-85 to Oregon Expressway\n",
      "2020-12-04 09:15:58, INFO: Applying Project to Roadway Network: Year 2015 Modify HOV Lanes and USE on US 101 SB CA-85 to Oregon Expressway\n",
      "2020-12-04 09:16:00, INFO: Applying Year 2015 Modify HOV Lanes and USE on US 101 SB CA-85 to Cochrane Road\n",
      "2020-12-04 09:16:00, INFO: Applying Year 2015 Modify HOV Lanes and USE on US 101 SB CA-85 to Cochrane Road\n",
      "2020-12-04 09:16:00, INFO: Applying Year 2015 Modify HOV Lanes and USE on US 101 SB CA-85 to Cochrane Road\n",
      "2020-12-04 09:16:00, INFO: Applying Year 2015 Modify HOV Lanes and USE on US 101 SB CA-85 to Cochrane Road\n",
      "2020-12-04 09:16:00, INFO: Applying Project to Roadway Network: Year 2015 Modify HOV Lanes and USE on US 101 SB CA-85 to Cochrane Road\n",
      "2020-12-04 09:16:00, INFO: Applying Project to Roadway Network: Year 2015 Modify HOV Lanes and USE on US 101 SB CA-85 to Cochrane Road\n",
      "2020-12-04 09:16:12, INFO: Applying Year 2015 Modify HOV Lanes and USE on US-101 NB (Segment 02) from North of Petaluma to South of Healdsburg\n",
      "2020-12-04 09:16:12, INFO: Applying Year 2015 Modify HOV Lanes and USE on US-101 NB (Segment 02) from North of Petaluma to South of Healdsburg\n",
      "2020-12-04 09:16:12, INFO: Applying Year 2015 Modify HOV Lanes and USE on US-101 NB (Segment 02) from North of Petaluma to South of Healdsburg\n",
      "2020-12-04 09:16:12, INFO: Applying Year 2015 Modify HOV Lanes and USE on US-101 NB (Segment 02) from North of Petaluma to South of Healdsburg\n",
      "2020-12-04 09:16:12, INFO: Applying Project to Roadway Network: Year 2015 Modify HOV Lanes and USE on US-101 NB (Segment 02) from North of Petaluma to South of Healdsburg\n",
      "2020-12-04 09:16:12, INFO: Applying Project to Roadway Network: Year 2015 Modify HOV Lanes and USE on US-101 NB (Segment 02) from North of Petaluma to South of Healdsburg\n",
      "2020-12-04 09:16:17, INFO: Applying Year 2015 Modify HOV Lanes and USE on US 101 NB Oregon Expressway to Whipple Road\n",
      "2020-12-04 09:16:17, INFO: Applying Year 2015 Modify HOV Lanes and USE on US 101 NB Oregon Expressway to Whipple Road\n",
      "2020-12-04 09:16:17, INFO: Applying Year 2015 Modify HOV Lanes and USE on US 101 NB Oregon Expressway to Whipple Road\n",
      "2020-12-04 09:16:17, INFO: Applying Year 2015 Modify HOV Lanes and USE on US 101 NB Oregon Expressway to Whipple Road\n",
      "2020-12-04 09:16:17, INFO: Applying Project to Roadway Network: Year 2015 Modify HOV Lanes and USE on US 101 NB Oregon Expressway to Whipple Road\n",
      "2020-12-04 09:16:17, INFO: Applying Project to Roadway Network: Year 2015 Modify HOV Lanes and USE on US 101 NB Oregon Expressway to Whipple Road\n",
      "2020-12-04 09:16:18, INFO: Applying Year 2015 Modify HOV Lanes and USE on US-101 NB from North of Petaluma to South of Healdsburg\n",
      "2020-12-04 09:16:18, INFO: Applying Year 2015 Modify HOV Lanes and USE on US-101 NB from North of Petaluma to South of Healdsburg\n",
      "2020-12-04 09:16:18, INFO: Applying Year 2015 Modify HOV Lanes and USE on US-101 NB from North of Petaluma to South of Healdsburg\n",
      "2020-12-04 09:16:18, INFO: Applying Year 2015 Modify HOV Lanes and USE on US-101 NB from North of Petaluma to South of Healdsburg\n",
      "2020-12-04 09:16:18, INFO: Applying Project to Roadway Network: Year 2015 Modify HOV Lanes and USE on US-101 NB from North of Petaluma to South of Healdsburg\n",
      "2020-12-04 09:16:18, INFO: Applying Project to Roadway Network: Year 2015 Modify HOV Lanes and USE on US-101 NB from North of Petaluma to South of Healdsburg\n",
      "2020-12-04 09:16:26, INFO: Applying Year 2015 Modify HOV Lanes and USE on US 101 NB Cochran Road to CA-85\n",
      "2020-12-04 09:16:26, INFO: Applying Year 2015 Modify HOV Lanes and USE on US 101 NB Cochran Road to CA-85\n",
      "2020-12-04 09:16:26, INFO: Applying Year 2015 Modify HOV Lanes and USE on US 101 NB Cochran Road to CA-85\n",
      "2020-12-04 09:16:26, INFO: Applying Year 2015 Modify HOV Lanes and USE on US 101 NB Cochran Road to CA-85\n",
      "2020-12-04 09:16:26, INFO: Applying Project to Roadway Network: Year 2015 Modify HOV Lanes and USE on US 101 NB Cochran Road to CA-85\n",
      "2020-12-04 09:16:26, INFO: Applying Project to Roadway Network: Year 2015 Modify HOV Lanes and USE on US 101 NB Cochran Road to CA-85\n",
      "2020-12-04 09:16:38, INFO: Applying Year 2015 Modify HOV Lanes and USE on San Tomas Expressway SB I-880 to Hwy 17\n",
      "2020-12-04 09:16:38, INFO: Applying Year 2015 Modify HOV Lanes and USE on San Tomas Expressway SB I-880 to Hwy 17\n",
      "2020-12-04 09:16:38, INFO: Applying Year 2015 Modify HOV Lanes and USE on San Tomas Expressway SB I-880 to Hwy 17\n",
      "2020-12-04 09:16:38, INFO: Applying Year 2015 Modify HOV Lanes and USE on San Tomas Expressway SB I-880 to Hwy 17\n",
      "2020-12-04 09:16:38, INFO: Applying Project to Roadway Network: Year 2015 Modify HOV Lanes and USE on San Tomas Expressway SB I-880 to Hwy 17\n",
      "2020-12-04 09:16:38, INFO: Applying Project to Roadway Network: Year 2015 Modify HOV Lanes and USE on San Tomas Expressway SB I-880 to Hwy 17\n",
      "2020-12-04 09:16:57, INFO: Applying Year 2015 Modify HOV Lanes and USE on San Tomas Expressway NB Hwy 17 to I-880\n",
      "2020-12-04 09:16:57, INFO: Applying Year 2015 Modify HOV Lanes and USE on San Tomas Expressway NB Hwy 17 to I-880\n",
      "2020-12-04 09:16:57, INFO: Applying Year 2015 Modify HOV Lanes and USE on San Tomas Expressway NB Hwy 17 to I-880\n"
     ]
    },
    {
     "name": "stdout",
     "output_type": "stream",
     "text": [
      "2020-12-04 09:16:57, INFO: Applying Year 2015 Modify HOV Lanes and USE on San Tomas Expressway NB Hwy 17 to I-880\n",
      "2020-12-04 09:16:57, INFO: Applying Project to Roadway Network: Year 2015 Modify HOV Lanes and USE on San Tomas Expressway NB Hwy 17 to I-880\n",
      "2020-12-04 09:16:57, INFO: Applying Project to Roadway Network: Year 2015 Modify HOV Lanes and USE on San Tomas Expressway NB Hwy 17 to I-880\n",
      "2020-12-04 09:17:16, INFO: Applying Year 2015 Modify HOV Lanes and USE on Lawrence Expressway SB US 101 to I-280\n",
      "2020-12-04 09:17:16, INFO: Applying Year 2015 Modify HOV Lanes and USE on Lawrence Expressway SB US 101 to I-280\n",
      "2020-12-04 09:17:16, INFO: Applying Year 2015 Modify HOV Lanes and USE on Lawrence Expressway SB US 101 to I-280\n",
      "2020-12-04 09:17:16, INFO: Applying Year 2015 Modify HOV Lanes and USE on Lawrence Expressway SB US 101 to I-280\n",
      "2020-12-04 09:17:16, INFO: Applying Project to Roadway Network: Year 2015 Modify HOV Lanes and USE on Lawrence Expressway SB US 101 to I-280\n",
      "2020-12-04 09:17:16, INFO: Applying Project to Roadway Network: Year 2015 Modify HOV Lanes and USE on Lawrence Expressway SB US 101 to I-280\n",
      "2020-12-04 09:17:25, INFO: Applying Year 2015 Modify HOV Lanes and USE on Lawrence Expressway NB I-280 to US 101\n",
      "2020-12-04 09:17:25, INFO: Applying Year 2015 Modify HOV Lanes and USE on Lawrence Expressway NB I-280 to US 101\n",
      "2020-12-04 09:17:25, INFO: Applying Year 2015 Modify HOV Lanes and USE on Lawrence Expressway NB I-280 to US 101\n",
      "2020-12-04 09:17:25, INFO: Applying Year 2015 Modify HOV Lanes and USE on Lawrence Expressway NB I-280 to US 101\n",
      "2020-12-04 09:17:25, INFO: Applying Project to Roadway Network: Year 2015 Modify HOV Lanes and USE on Lawrence Expressway NB I-280 to US 101\n",
      "2020-12-04 09:17:25, INFO: Applying Project to Roadway Network: Year 2015 Modify HOV Lanes and USE on Lawrence Expressway NB I-280 to US 101\n",
      "2020-12-04 09:17:33, INFO: Applying Year 2015 Modify HOV Lanes and USE on I-880 SB from Hegenberger Road to Dixon Road\n",
      "2020-12-04 09:17:33, INFO: Applying Year 2015 Modify HOV Lanes and USE on I-880 SB from Hegenberger Road to Dixon Road\n",
      "2020-12-04 09:17:33, INFO: Applying Year 2015 Modify HOV Lanes and USE on I-880 SB from Hegenberger Road to Dixon Road\n",
      "2020-12-04 09:17:33, INFO: Applying Year 2015 Modify HOV Lanes and USE on I-880 SB from Hegenberger Road to Dixon Road\n",
      "2020-12-04 09:17:33, INFO: Applying Project to Roadway Network: Year 2015 Modify HOV Lanes and USE on I-880 SB from Hegenberger Road to Dixon Road\n",
      "2020-12-04 09:17:33, INFO: Applying Project to Roadway Network: Year 2015 Modify HOV Lanes and USE on I-880 SB from Hegenberger Road to Dixon Road\n",
      "2020-12-04 09:17:43, INFO: Applying Year 2015 Modify Express Lanes and USE on I-880 SB Dixon Road to CA-237\n",
      "2020-12-04 09:17:43, INFO: Applying Year 2015 Modify Express Lanes and USE on I-880 SB Dixon Road to CA-237\n",
      "2020-12-04 09:17:43, INFO: Applying Year 2015 Modify Express Lanes and USE on I-880 SB Dixon Road to CA-237\n",
      "2020-12-04 09:17:43, INFO: Applying Year 2015 Modify Express Lanes and USE on I-880 SB Dixon Road to CA-237\n",
      "2020-12-04 09:17:43, INFO: Applying Project to Roadway Network: Year 2015 Modify Express Lanes and USE on I-880 SB Dixon Road to CA-237\n",
      "2020-12-04 09:17:43, INFO: Applying Project to Roadway Network: Year 2015 Modify Express Lanes and USE on I-880 SB Dixon Road to CA-237\n",
      "2020-12-04 09:17:44, INFO: Applying Year 2015 Modify HOV Lanes and USE on I-880 SB CA-237 to US 101\n",
      "2020-12-04 09:17:44, INFO: Applying Year 2015 Modify HOV Lanes and USE on I-880 SB CA-237 to US 101\n",
      "2020-12-04 09:17:44, INFO: Applying Year 2015 Modify HOV Lanes and USE on I-880 SB CA-237 to US 101\n",
      "2020-12-04 09:17:44, INFO: Applying Year 2015 Modify HOV Lanes and USE on I-880 SB CA-237 to US 101\n",
      "2020-12-04 09:17:44, INFO: Applying Project to Roadway Network: Year 2015 Modify HOV Lanes and USE on I-880 SB CA-237 to US 101\n",
      "2020-12-04 09:17:44, INFO: Applying Project to Roadway Network: Year 2015 Modify HOV Lanes and USE on I-880 SB CA-237 to US 101\n",
      "2020-12-04 09:17:46, INFO: Applying Year 2015 Modify HOV lanes and USE on I-880 NB US 101 to CA-237\n",
      "2020-12-04 09:17:46, INFO: Applying Year 2015 Modify HOV lanes and USE on I-880 NB US 101 to CA-237\n",
      "2020-12-04 09:17:46, INFO: Applying Year 2015 Modify HOV lanes and USE on I-880 NB US 101 to CA-237\n",
      "2020-12-04 09:17:46, INFO: Applying Year 2015 Modify HOV lanes and USE on I-880 NB US 101 to CA-237\n",
      "2020-12-04 09:17:46, INFO: Applying Project to Roadway Network: Year 2015 Modify HOV lanes and USE on I-880 NB US 101 to CA-237\n",
      "2020-12-04 09:17:46, INFO: Applying Project to Roadway Network: Year 2015 Modify HOV lanes and USE on I-880 NB US 101 to CA-237\n",
      "2020-12-04 09:17:48, INFO: Applying Year 2015 Modify HOV Lanes and USE on I-880 NB from Dixon Road to I-238\n",
      "2020-12-04 09:17:48, INFO: Applying Year 2015 Modify HOV Lanes and USE on I-880 NB from Dixon Road to I-238\n",
      "2020-12-04 09:17:48, INFO: Applying Year 2015 Modify HOV Lanes and USE on I-880 NB from Dixon Road to I-238\n",
      "2020-12-04 09:17:48, INFO: Applying Year 2015 Modify HOV Lanes and USE on I-880 NB from Dixon Road to I-238\n",
      "2020-12-04 09:17:48, INFO: Applying Project to Roadway Network: Year 2015 Modify HOV Lanes and USE on I-880 NB from Dixon Road to I-238\n",
      "2020-12-04 09:17:48, INFO: Applying Project to Roadway Network: Year 2015 Modify HOV Lanes and USE on I-880 NB from Dixon Road to I-238\n",
      "2020-12-04 09:17:56, INFO: Applying Year 2015 Modify Express Lanes and USE on I-880 NB CA-237 to Dixon Road\n",
      "2020-12-04 09:17:56, INFO: Applying Year 2015 Modify Express Lanes and USE on I-880 NB CA-237 to Dixon Road\n",
      "2020-12-04 09:17:56, INFO: Applying Year 2015 Modify Express Lanes and USE on I-880 NB CA-237 to Dixon Road\n",
      "2020-12-04 09:17:56, INFO: Applying Year 2015 Modify Express Lanes and USE on I-880 NB CA-237 to Dixon Road\n",
      "2020-12-04 09:17:56, INFO: Applying Project to Roadway Network: Year 2015 Modify Express Lanes and USE on I-880 NB CA-237 to Dixon Road\n",
      "2020-12-04 09:17:56, INFO: Applying Project to Roadway Network: Year 2015 Modify Express Lanes and USE on I-880 NB CA-237 to Dixon Road\n",
      "2020-12-04 09:17:57, INFO: Applying Year 2015 Modify HOV Lanes and USE on Ramp Connecting I880 and Bay Bridge Plaza\n",
      "2020-12-04 09:17:57, INFO: Applying Year 2015 Modify HOV Lanes and USE on Ramp Connecting I880 and Bay Bridge Plaza\n",
      "2020-12-04 09:17:57, INFO: Applying Year 2015 Modify HOV Lanes and USE on Ramp Connecting I880 and Bay Bridge Plaza\n",
      "2020-12-04 09:17:57, INFO: Applying Year 2015 Modify HOV Lanes and USE on Ramp Connecting I880 and Bay Bridge Plaza\n",
      "2020-12-04 09:17:57, INFO: Applying Project to Roadway Network: Year 2015 Modify HOV Lanes and USE on Ramp Connecting I880 and Bay Bridge Plaza\n",
      "2020-12-04 09:17:57, INFO: Applying Project to Roadway Network: Year 2015 Modify HOV Lanes and USE on Ramp Connecting I880 and Bay Bridge Plaza\n",
      "2020-12-04 09:17:57, INFO: Applying Year 2015 Modify HOV Lanes and USE on I-80 WB from Fairfield to I-680\n",
      "2020-12-04 09:17:57, INFO: Applying Year 2015 Modify HOV Lanes and USE on I-80 WB from Fairfield to I-680\n",
      "2020-12-04 09:17:57, INFO: Applying Year 2015 Modify HOV Lanes and USE on I-80 WB from Fairfield to I-680\n",
      "2020-12-04 09:17:57, INFO: Applying Year 2015 Modify HOV Lanes and USE on I-80 WB from Fairfield to I-680\n",
      "2020-12-04 09:17:57, INFO: Applying Project to Roadway Network: Year 2015 Modify HOV Lanes and USE on I-80 WB from Fairfield to I-680\n",
      "2020-12-04 09:17:57, INFO: Applying Project to Roadway Network: Year 2015 Modify HOV Lanes and USE on I-80 WB from Fairfield to I-680\n",
      "2020-12-04 09:18:00, INFO: Applying Year 2015 Modify HOV Lanes and USE on I-80 WB from Carquinez Bridge to Bay Bridge Toll Plaza\n",
      "2020-12-04 09:18:00, INFO: Applying Year 2015 Modify HOV Lanes and USE on I-80 WB from Carquinez Bridge to Bay Bridge Toll Plaza\n",
      "2020-12-04 09:18:00, INFO: Applying Year 2015 Modify HOV Lanes and USE on I-80 WB from Carquinez Bridge to Bay Bridge Toll Plaza\n",
      "2020-12-04 09:18:00, INFO: Applying Year 2015 Modify HOV Lanes and USE on I-80 WB from Carquinez Bridge to Bay Bridge Toll Plaza\n",
      "2020-12-04 09:18:00, INFO: Applying Project to Roadway Network: Year 2015 Modify HOV Lanes and USE on I-80 WB from Carquinez Bridge to Bay Bridge Toll Plaza\n",
      "2020-12-04 09:18:00, INFO: Applying Project to Roadway Network: Year 2015 Modify HOV Lanes and USE on I-80 WB from Carquinez Bridge to Bay Bridge Toll Plaza\n"
     ]
    },
    {
     "name": "stdout",
     "output_type": "stream",
     "text": [
      "2020-12-04 09:18:08, INFO: Applying Year 2015 Modify HOV Lanes and USE on I-80 EB from I-680 to Fairfield\n",
      "2020-12-04 09:18:08, INFO: Applying Year 2015 Modify HOV Lanes and USE on I-80 EB from I-680 to Fairfield\n",
      "2020-12-04 09:18:08, INFO: Applying Year 2015 Modify HOV Lanes and USE on I-80 EB from I-680 to Fairfield\n",
      "2020-12-04 09:18:08, INFO: Applying Year 2015 Modify HOV Lanes and USE on I-80 EB from I-680 to Fairfield\n",
      "2020-12-04 09:18:08, INFO: Applying Project to Roadway Network: Year 2015 Modify HOV Lanes and USE on I-80 EB from I-680 to Fairfield\n",
      "2020-12-04 09:18:08, INFO: Applying Project to Roadway Network: Year 2015 Modify HOV Lanes and USE on I-80 EB from I-680 to Fairfield\n",
      "2020-12-04 09:18:12, INFO: Applying Year 2015 Modify HOV Lanes and USE on I-80 EB from Bay Bridge to Carquinez Bridge Toll Plaza\n",
      "2020-12-04 09:18:12, INFO: Applying Year 2015 Modify HOV Lanes and USE on I-80 EB from Bay Bridge to Carquinez Bridge Toll Plaza\n",
      "2020-12-04 09:18:12, INFO: Applying Year 2015 Modify HOV Lanes and USE on I-80 EB from Bay Bridge to Carquinez Bridge Toll Plaza\n",
      "2020-12-04 09:18:12, INFO: Applying Year 2015 Modify HOV Lanes and USE on I-80 EB from Bay Bridge to Carquinez Bridge Toll Plaza\n",
      "2020-12-04 09:18:12, INFO: Applying Project to Roadway Network: Year 2015 Modify HOV Lanes and USE on I-80 EB from Bay Bridge to Carquinez Bridge Toll Plaza\n",
      "2020-12-04 09:18:12, INFO: Applying Project to Roadway Network: Year 2015 Modify HOV Lanes and USE on I-80 EB from Bay Bridge to Carquinez Bridge Toll Plaza\n",
      "2020-12-04 09:18:20, INFO: Applying Year 2015 Modify HOV Lanes and USE on I-680 SB from Rudgear Road to Acosta Blvd\n",
      "2020-12-04 09:18:20, INFO: Applying Year 2015 Modify HOV Lanes and USE on I-680 SB from Rudgear Road to Acosta Blvd\n",
      "2020-12-04 09:18:20, INFO: Applying Year 2015 Modify HOV Lanes and USE on I-680 SB from Rudgear Road to Acosta Blvd\n",
      "2020-12-04 09:18:20, INFO: Applying Year 2015 Modify HOV Lanes and USE on I-680 SB from Rudgear Road to Acosta Blvd\n",
      "2020-12-04 09:18:20, INFO: Applying Project to Roadway Network: Year 2015 Modify HOV Lanes and USE on I-680 SB from Rudgear Road to Acosta Blvd\n",
      "2020-12-04 09:18:20, INFO: Applying Project to Roadway Network: Year 2015 Modify HOV Lanes and USE on I-680 SB from Rudgear Road to Acosta Blvd\n",
      "2020-12-04 09:18:24, INFO: Applying Year 2015 Modify HOV Lanes and USE on I-680 SB from Benicia Bridge to CA-242\n",
      "2020-12-04 09:18:24, INFO: Applying Year 2015 Modify HOV Lanes and USE on I-680 SB from Benicia Bridge to CA-242\n",
      "2020-12-04 09:18:24, INFO: Applying Year 2015 Modify HOV Lanes and USE on I-680 SB from Benicia Bridge to CA-242\n",
      "2020-12-04 09:18:24, INFO: Applying Year 2015 Modify HOV Lanes and USE on I-680 SB from Benicia Bridge to CA-242\n",
      "2020-12-04 09:18:24, INFO: Applying Project to Roadway Network: Year 2015 Modify HOV Lanes and USE on I-680 SB from Benicia Bridge to CA-242\n",
      "2020-12-04 09:18:24, INFO: Applying Project to Roadway Network: Year 2015 Modify HOV Lanes and USE on I-680 SB from Benicia Bridge to CA-242\n",
      "2020-12-04 09:18:26, INFO: Applying Year 2015 Modify Express Lanes and USE on I-680 SB Alameda/Santa Clara County Line to SR-84\n",
      "2020-12-04 09:18:26, INFO: Applying Year 2015 Modify Express Lanes and USE on I-680 SB Alameda/Santa Clara County Line to SR-84\n",
      "2020-12-04 09:18:26, INFO: Applying Year 2015 Modify Express Lanes and USE on I-680 SB Alameda/Santa Clara County Line to SR-84\n",
      "2020-12-04 09:18:26, INFO: Applying Year 2015 Modify Express Lanes and USE on I-680 SB Alameda/Santa Clara County Line to SR-84\n",
      "2020-12-04 09:18:26, INFO: Applying Project to Roadway Network: Year 2015 Modify Express Lanes and USE on I-680 SB Alameda/Santa Clara County Line to SR-84\n",
      "2020-12-04 09:18:26, INFO: Applying Project to Roadway Network: Year 2015 Modify Express Lanes and USE on I-680 SB Alameda/Santa Clara County Line to SR-84\n",
      "2020-12-04 09:18:29, INFO: Applying Year 2015 Modify HOV Lanes USE on I-680 NB CA-242 to Benicia Bridge\n",
      "2020-12-04 09:18:29, INFO: Applying Year 2015 Modify HOV Lanes USE on I-680 NB CA-242 to Benicia Bridge\n",
      "2020-12-04 09:18:29, INFO: Applying Year 2015 Modify HOV Lanes USE on I-680 NB CA-242 to Benicia Bridge\n",
      "2020-12-04 09:18:29, INFO: Applying Year 2015 Modify HOV Lanes USE on I-680 NB CA-242 to Benicia Bridge\n",
      "2020-12-04 09:18:29, INFO: Applying Project to Roadway Network: Year 2015 Modify HOV Lanes USE on I-680 NB CA-242 to Benicia Bridge\n",
      "2020-12-04 09:18:29, INFO: Applying Project to Roadway Network: Year 2015 Modify HOV Lanes USE on I-680 NB CA-242 to Benicia Bridge\n",
      "2020-12-04 09:18:31, INFO: Applying Year 2015 Modify HOV Lanes and USE on I-680 NB from Acosta Blvd to Rudgear Road\n",
      "2020-12-04 09:18:31, INFO: Applying Year 2015 Modify HOV Lanes and USE on I-680 NB from Acosta Blvd to Rudgear Road\n",
      "2020-12-04 09:18:31, INFO: Applying Year 2015 Modify HOV Lanes and USE on I-680 NB from Acosta Blvd to Rudgear Road\n",
      "2020-12-04 09:18:31, INFO: Applying Year 2015 Modify HOV Lanes and USE on I-680 NB from Acosta Blvd to Rudgear Road\n",
      "2020-12-04 09:18:31, INFO: Applying Project to Roadway Network: Year 2015 Modify HOV Lanes and USE on I-680 NB from Acosta Blvd to Rudgear Road\n",
      "2020-12-04 09:18:31, INFO: Applying Project to Roadway Network: Year 2015 Modify HOV Lanes and USE on I-680 NB from Acosta Blvd to Rudgear Road\n",
      "2020-12-04 09:18:35, INFO: Applying Year 2015 Modify USE on I-580 WB Greenville Road to I-680\n",
      "2020-12-04 09:18:35, INFO: Applying Year 2015 Modify USE on I-580 WB Greenville Road to I-680\n",
      "2020-12-04 09:18:35, INFO: Applying Year 2015 Modify USE on I-580 WB Greenville Road to I-680\n",
      "2020-12-04 09:18:35, INFO: Applying Year 2015 Modify USE on I-580 WB Greenville Road to I-680\n",
      "2020-12-04 09:18:35, INFO: Applying Project to Roadway Network: Year 2015 Modify USE on I-580 WB Greenville Road to I-680\n",
      "2020-12-04 09:18:35, INFO: Applying Project to Roadway Network: Year 2015 Modify USE on I-580 WB Greenville Road to I-680\n",
      "2020-12-04 09:18:40, INFO: Applying Year 2015 Modify Express Lanes and USE on I-580 EB (segment 02) Hacienda Drive to Greenville Road\n",
      "2020-12-04 09:18:40, INFO: Applying Year 2015 Modify Express Lanes and USE on I-580 EB (segment 02) Hacienda Drive to Greenville Road\n",
      "2020-12-04 09:18:40, INFO: Applying Year 2015 Modify Express Lanes and USE on I-580 EB (segment 02) Hacienda Drive to Greenville Road\n",
      "2020-12-04 09:18:40, INFO: Applying Year 2015 Modify Express Lanes and USE on I-580 EB (segment 02) Hacienda Drive to Greenville Road\n",
      "2020-12-04 09:18:40, INFO: Applying Project to Roadway Network: Year 2015 Modify Express Lanes and USE on I-580 EB (segment 02) Hacienda Drive to Greenville Road\n",
      "2020-12-04 09:18:40, INFO: Applying Project to Roadway Network: Year 2015 Modify Express Lanes and USE on I-580 EB (segment 02) Hacienda Drive to Greenville Road\n",
      "2020-12-04 09:18:41, INFO: Applying Year 2015 Modify Express Lanes and USE on I-580 EB Hacienda Drive to Greenville Road\n",
      "2020-12-04 09:18:41, INFO: Applying Year 2015 Modify Express Lanes and USE on I-580 EB Hacienda Drive to Greenville Road\n",
      "2020-12-04 09:18:41, INFO: Applying Year 2015 Modify Express Lanes and USE on I-580 EB Hacienda Drive to Greenville Road\n",
      "2020-12-04 09:18:41, INFO: Applying Year 2015 Modify Express Lanes and USE on I-580 EB Hacienda Drive to Greenville Road\n",
      "2020-12-04 09:18:41, INFO: Applying Project to Roadway Network: Year 2015 Modify Express Lanes and USE on I-580 EB Hacienda Drive to Greenville Road\n",
      "2020-12-04 09:18:41, INFO: Applying Project to Roadway Network: Year 2015 Modify Express Lanes and USE on I-580 EB Hacienda Drive to Greenville Road\n",
      "2020-12-04 09:18:43, INFO: Applying Year 2015 Modify HOV lanes and USE on Hwy 4 WB from Deer Valley Road to Port Chicago Highway\n",
      "2020-12-04 09:18:43, INFO: Applying Year 2015 Modify HOV lanes and USE on Hwy 4 WB from Deer Valley Road to Port Chicago Highway\n",
      "2020-12-04 09:18:43, INFO: Applying Year 2015 Modify HOV lanes and USE on Hwy 4 WB from Deer Valley Road to Port Chicago Highway\n",
      "2020-12-04 09:18:43, INFO: Applying Year 2015 Modify HOV lanes and USE on Hwy 4 WB from Deer Valley Road to Port Chicago Highway\n",
      "2020-12-04 09:18:43, INFO: Applying Project to Roadway Network: Year 2015 Modify HOV lanes and USE on Hwy 4 WB from Deer Valley Road to Port Chicago Highway\n"
     ]
    },
    {
     "name": "stdout",
     "output_type": "stream",
     "text": [
      "2020-12-04 09:18:43, INFO: Applying Project to Roadway Network: Year 2015 Modify HOV lanes and USE on Hwy 4 WB from Deer Valley Road to Port Chicago Highway\n",
      "2020-12-04 09:18:48, INFO: Applying Year 2015 Modify HOV Lanes and USE on Hwy 4 EB from Port Chicago Highway to Deer Valley Road\n",
      "2020-12-04 09:18:48, INFO: Applying Year 2015 Modify HOV Lanes and USE on Hwy 4 EB from Port Chicago Highway to Deer Valley Road\n",
      "2020-12-04 09:18:48, INFO: Applying Year 2015 Modify HOV Lanes and USE on Hwy 4 EB from Port Chicago Highway to Deer Valley Road\n",
      "2020-12-04 09:18:48, INFO: Applying Year 2015 Modify HOV Lanes and USE on Hwy 4 EB from Port Chicago Highway to Deer Valley Road\n",
      "2020-12-04 09:18:48, INFO: Applying Project to Roadway Network: Year 2015 Modify HOV Lanes and USE on Hwy 4 EB from Port Chicago Highway to Deer Valley Road\n",
      "2020-12-04 09:18:48, INFO: Applying Project to Roadway Network: Year 2015 Modify HOV Lanes and USE on Hwy 4 EB from Port Chicago Highway to Deer Valley Road\n",
      "2020-12-04 09:18:51, INFO: Applying Year 2015 Modify HOV Lanes and USE on E Capitol Expressway SB I-680 to US 101\n",
      "2020-12-04 09:18:51, INFO: Applying Year 2015 Modify HOV Lanes and USE on E Capitol Expressway SB I-680 to US 101\n",
      "2020-12-04 09:18:51, INFO: Applying Year 2015 Modify HOV Lanes and USE on E Capitol Expressway SB I-680 to US 101\n",
      "2020-12-04 09:18:51, INFO: Applying Year 2015 Modify HOV Lanes and USE on E Capitol Expressway SB I-680 to US 101\n",
      "2020-12-04 09:18:51, INFO: Applying Project to Roadway Network: Year 2015 Modify HOV Lanes and USE on E Capitol Expressway SB I-680 to US 101\n",
      "2020-12-04 09:18:51, INFO: Applying Project to Roadway Network: Year 2015 Modify HOV Lanes and USE on E Capitol Expressway SB I-680 to US 101\n",
      "2020-12-04 09:19:03, INFO: Applying Year 2015 Modify HOV Lanes and USE on E Capitol Expressway NB US101 to I-680\n",
      "2020-12-04 09:19:03, INFO: Applying Year 2015 Modify HOV Lanes and USE on E Capitol Expressway NB US101 to I-680\n",
      "2020-12-04 09:19:03, INFO: Applying Year 2015 Modify HOV Lanes and USE on E Capitol Expressway NB US101 to I-680\n",
      "2020-12-04 09:19:03, INFO: Applying Year 2015 Modify HOV Lanes and USE on E Capitol Expressway NB US101 to I-680\n",
      "2020-12-04 09:19:03, INFO: Applying Project to Roadway Network: Year 2015 Modify HOV Lanes and USE on E Capitol Expressway NB US101 to I-680\n",
      "2020-12-04 09:19:03, INFO: Applying Project to Roadway Network: Year 2015 Modify HOV Lanes and USE on E Capitol Expressway NB US101 to I-680\n",
      "2020-12-04 09:19:14, INFO: Applying Year 2015 Modify HOV Lanes and USE on CA-92 WB Eden Landing Rd to San Mateo-Hayward Bridge Toll Plaza\n",
      "2020-12-04 09:19:14, INFO: Applying Year 2015 Modify HOV Lanes and USE on CA-92 WB Eden Landing Rd to San Mateo-Hayward Bridge Toll Plaza\n",
      "2020-12-04 09:19:14, INFO: Applying Year 2015 Modify HOV Lanes and USE on CA-92 WB Eden Landing Rd to San Mateo-Hayward Bridge Toll Plaza\n",
      "2020-12-04 09:19:14, INFO: Applying Year 2015 Modify HOV Lanes and USE on CA-92 WB Eden Landing Rd to San Mateo-Hayward Bridge Toll Plaza\n",
      "2020-12-04 09:19:14, INFO: Applying Project to Roadway Network: Year 2015 Modify HOV Lanes and USE on CA-92 WB Eden Landing Rd to San Mateo-Hayward Bridge Toll Plaza\n",
      "2020-12-04 09:19:14, INFO: Applying Project to Roadway Network: Year 2015 Modify HOV Lanes and USE on CA-92 WB Eden Landing Rd to San Mateo-Hayward Bridge Toll Plaza\n",
      "2020-12-04 09:19:15, INFO: Applying Year 2015 Modify HOV Lanes and USE on CA-87 SB US 101 to CA-85\n",
      "2020-12-04 09:19:15, INFO: Applying Year 2015 Modify HOV Lanes and USE on CA-87 SB US 101 to CA-85\n",
      "2020-12-04 09:19:15, INFO: Applying Year 2015 Modify HOV Lanes and USE on CA-87 SB US 101 to CA-85\n",
      "2020-12-04 09:19:15, INFO: Applying Year 2015 Modify HOV Lanes and USE on CA-87 SB US 101 to CA-85\n",
      "2020-12-04 09:19:15, INFO: Applying Project to Roadway Network: Year 2015 Modify HOV Lanes and USE on CA-87 SB US 101 to CA-85\n",
      "2020-12-04 09:19:15, INFO: Applying Project to Roadway Network: Year 2015 Modify HOV Lanes and USE on CA-87 SB US 101 to CA-85\n",
      "2020-12-04 09:19:19, INFO: Applying Year 2015 Modify HOV Lanes and USE on CA 87 NB CA-85 to US 101\n",
      "2020-12-04 09:19:19, INFO: Applying Year 2015 Modify HOV Lanes and USE on CA 87 NB CA-85 to US 101\n",
      "2020-12-04 09:19:19, INFO: Applying Year 2015 Modify HOV Lanes and USE on CA 87 NB CA-85 to US 101\n",
      "2020-12-04 09:19:19, INFO: Applying Year 2015 Modify HOV Lanes and USE on CA 87 NB CA-85 to US 101\n",
      "2020-12-04 09:19:19, INFO: Applying Project to Roadway Network: Year 2015 Modify HOV Lanes and USE on CA 87 NB CA-85 to US 101\n",
      "2020-12-04 09:19:19, INFO: Applying Project to Roadway Network: Year 2015 Modify HOV Lanes and USE on CA 87 NB CA-85 to US 101\n",
      "2020-12-04 09:19:22, INFO: Applying Year 2015 Modify HOV Lanes and USE on CA-85 SB US101 to US101\n",
      "2020-12-04 09:19:22, INFO: Applying Year 2015 Modify HOV Lanes and USE on CA-85 SB US101 to US101\n",
      "2020-12-04 09:19:22, INFO: Applying Year 2015 Modify HOV Lanes and USE on CA-85 SB US101 to US101\n",
      "2020-12-04 09:19:22, INFO: Applying Year 2015 Modify HOV Lanes and USE on CA-85 SB US101 to US101\n",
      "2020-12-04 09:19:22, INFO: Applying Project to Roadway Network: Year 2015 Modify HOV Lanes and USE on CA-85 SB US101 to US101\n",
      "2020-12-04 09:19:22, INFO: Applying Project to Roadway Network: Year 2015 Modify HOV Lanes and USE on CA-85 SB US101 to US101\n",
      "2020-12-04 09:19:30, INFO: Applying Year 2015 Modify HOV Lanes and USE on CA-85 NB US101 to US101\n",
      "2020-12-04 09:19:30, INFO: Applying Year 2015 Modify HOV Lanes and USE on CA-85 NB US101 to US101\n",
      "2020-12-04 09:19:30, INFO: Applying Year 2015 Modify HOV Lanes and USE on CA-85 NB US101 to US101\n",
      "2020-12-04 09:19:30, INFO: Applying Year 2015 Modify HOV Lanes and USE on CA-85 NB US101 to US101\n",
      "2020-12-04 09:19:30, INFO: Applying Project to Roadway Network: Year 2015 Modify HOV Lanes and USE on CA-85 NB US101 to US101\n",
      "2020-12-04 09:19:30, INFO: Applying Project to Roadway Network: Year 2015 Modify HOV Lanes and USE on CA-85 NB US101 to US101\n",
      "2020-12-04 09:19:37, INFO: Applying Year 2015 Modify HOV Lanes and USE on CA-84 WB I-880 to Dumbarton Bridge Toll Plaza\n",
      "2020-12-04 09:19:37, INFO: Applying Year 2015 Modify HOV Lanes and USE on CA-84 WB I-880 to Dumbarton Bridge Toll Plaza\n",
      "2020-12-04 09:19:37, INFO: Applying Year 2015 Modify HOV Lanes and USE on CA-84 WB I-880 to Dumbarton Bridge Toll Plaza\n",
      "2020-12-04 09:19:37, INFO: Applying Year 2015 Modify HOV Lanes and USE on CA-84 WB I-880 to Dumbarton Bridge Toll Plaza\n",
      "2020-12-04 09:19:37, INFO: Applying Project to Roadway Network: Year 2015 Modify HOV Lanes and USE on CA-84 WB I-880 to Dumbarton Bridge Toll Plaza\n",
      "2020-12-04 09:19:37, INFO: Applying Project to Roadway Network: Year 2015 Modify HOV Lanes and USE on CA-84 WB I-880 to Dumbarton Bridge Toll Plaza\n",
      "2020-12-04 09:19:38, INFO: Applying Year 2015 Modify HOV Lanes and USE on CA-280 SB Magdalena Ave to Southwest Expressway\n",
      "2020-12-04 09:19:38, INFO: Applying Year 2015 Modify HOV Lanes and USE on CA-280 SB Magdalena Ave to Southwest Expressway\n",
      "2020-12-04 09:19:38, INFO: Applying Year 2015 Modify HOV Lanes and USE on CA-280 SB Magdalena Ave to Southwest Expressway\n",
      "2020-12-04 09:19:38, INFO: Applying Year 2015 Modify HOV Lanes and USE on CA-280 SB Magdalena Ave to Southwest Expressway\n",
      "2020-12-04 09:19:38, INFO: Applying Project to Roadway Network: Year 2015 Modify HOV Lanes and USE on CA-280 SB Magdalena Ave to Southwest Expressway\n",
      "2020-12-04 09:19:38, INFO: Applying Project to Roadway Network: Year 2015 Modify HOV Lanes and USE on CA-280 SB Magdalena Ave to Southwest Expressway\n",
      "2020-12-04 09:19:42, INFO: Applying Year 2015 Modify HOV Lanes and USE on CA-280 NB Bascom Ave to Magdalena Ave\n",
      "2020-12-04 09:19:42, INFO: Applying Year 2015 Modify HOV Lanes and USE on CA-280 NB Bascom Ave to Magdalena Ave\n",
      "2020-12-04 09:19:42, INFO: Applying Year 2015 Modify HOV Lanes and USE on CA-280 NB Bascom Ave to Magdalena Ave\n",
      "2020-12-04 09:19:42, INFO: Applying Year 2015 Modify HOV Lanes and USE on CA-280 NB Bascom Ave to Magdalena Ave\n",
      "2020-12-04 09:19:42, INFO: Applying Project to Roadway Network: Year 2015 Modify HOV Lanes and USE on CA-280 NB Bascom Ave to Magdalena Ave\n",
      "2020-12-04 09:19:42, INFO: Applying Project to Roadway Network: Year 2015 Modify HOV Lanes and USE on CA-280 NB Bascom Ave to Magdalena Ave\n"
     ]
    },
    {
     "name": "stdout",
     "output_type": "stream",
     "text": [
      "2020-12-04 09:19:45, INFO: Applying Year 2015 Modify HOV Lanes and USE on CA-237 WB North 1st Street to US 101\n",
      "2020-12-04 09:19:45, INFO: Applying Year 2015 Modify HOV Lanes and USE on CA-237 WB North 1st Street to US 101\n",
      "2020-12-04 09:19:45, INFO: Applying Year 2015 Modify HOV Lanes and USE on CA-237 WB North 1st Street to US 101\n",
      "2020-12-04 09:19:45, INFO: Applying Year 2015 Modify HOV Lanes and USE on CA-237 WB North 1st Street to US 101\n",
      "2020-12-04 09:19:45, INFO: Applying Project to Roadway Network: Year 2015 Modify HOV Lanes and USE on CA-237 WB North 1st Street to US 101\n",
      "2020-12-04 09:19:45, INFO: Applying Project to Roadway Network: Year 2015 Modify HOV Lanes and USE on CA-237 WB North 1st Street to US 101\n",
      "2020-12-04 09:19:47, INFO: Applying Year 2015 Modify Express Lanes and USE on CA-237 WB I-880 to CA-262 Mission Blvd\n",
      "2020-12-04 09:19:47, INFO: Applying Year 2015 Modify Express Lanes and USE on CA-237 WB I-880 to CA-262 Mission Blvd\n",
      "2020-12-04 09:19:47, INFO: Applying Year 2015 Modify Express Lanes and USE on CA-237 WB I-880 to CA-262 Mission Blvd\n",
      "2020-12-04 09:19:47, INFO: Applying Year 2015 Modify Express Lanes and USE on CA-237 WB I-880 to CA-262 Mission Blvd\n",
      "2020-12-04 09:19:47, INFO: Applying Project to Roadway Network: Year 2015 Modify Express Lanes and USE on CA-237 WB I-880 to CA-262 Mission Blvd\n",
      "2020-12-04 09:19:47, INFO: Applying Project to Roadway Network: Year 2015 Modify Express Lanes and USE on CA-237 WB I-880 to CA-262 Mission Blvd\n",
      "2020-12-04 09:19:47, INFO: Applying Year 2015 Modify HOV Lanes and USE on CA-237 EB US 101 to North 1st Street\n",
      "2020-12-04 09:19:47, INFO: Applying Year 2015 Modify HOV Lanes and USE on CA-237 EB US 101 to North 1st Street\n",
      "2020-12-04 09:19:47, INFO: Applying Year 2015 Modify HOV Lanes and USE on CA-237 EB US 101 to North 1st Street\n",
      "2020-12-04 09:19:47, INFO: Applying Year 2015 Modify HOV Lanes and USE on CA-237 EB US 101 to North 1st Street\n",
      "2020-12-04 09:19:47, INFO: Applying Project to Roadway Network: Year 2015 Modify HOV Lanes and USE on CA-237 EB US 101 to North 1st Street\n",
      "2020-12-04 09:19:47, INFO: Applying Project to Roadway Network: Year 2015 Modify HOV Lanes and USE on CA-237 EB US 101 to North 1st Street\n",
      "2020-12-04 09:19:49, INFO: Applying Year 2015 Modify Express Lanes and USE on CA-237 EB SR-262 Mission Blvd to I-880\n",
      "2020-12-04 09:19:49, INFO: Applying Year 2015 Modify Express Lanes and USE on CA-237 EB SR-262 Mission Blvd to I-880\n",
      "2020-12-04 09:19:49, INFO: Applying Year 2015 Modify Express Lanes and USE on CA-237 EB SR-262 Mission Blvd to I-880\n",
      "2020-12-04 09:19:49, INFO: Applying Year 2015 Modify Express Lanes and USE on CA-237 EB SR-262 Mission Blvd to I-880\n",
      "2020-12-04 09:19:49, INFO: Applying Project to Roadway Network: Year 2015 Modify Express Lanes and USE on CA-237 EB SR-262 Mission Blvd to I-880\n",
      "2020-12-04 09:19:49, INFO: Applying Project to Roadway Network: Year 2015 Modify Express Lanes and USE on CA-237 EB SR-262 Mission Blvd to I-880\n",
      "2020-12-04 09:19:50, INFO: Applying Year 2015 Modify HOV Lanes and USE on Benicia Bridge Toll Plaza - Bridge Pass\n",
      "2020-12-04 09:19:50, INFO: Applying Year 2015 Modify HOV Lanes and USE on Benicia Bridge Toll Plaza - Bridge Pass\n",
      "2020-12-04 09:19:50, INFO: Applying Year 2015 Modify HOV Lanes and USE on Benicia Bridge Toll Plaza - Bridge Pass\n",
      "2020-12-04 09:19:50, INFO: Applying Year 2015 Modify HOV Lanes and USE on Benicia Bridge Toll Plaza - Bridge Pass\n",
      "2020-12-04 09:19:50, INFO: Applying Project to Roadway Network: Year 2015 Modify HOV Lanes and USE on Benicia Bridge Toll Plaza - Bridge Pass\n",
      "2020-12-04 09:19:50, INFO: Applying Project to Roadway Network: Year 2015 Modify HOV Lanes and USE on Benicia Bridge Toll Plaza - Bridge Pass\n",
      "2020-12-04 09:19:50, INFO: Applying Year 2015 Modify HOV Lanes-Fastrak Lanes and USE on San Francisco-Oakland Bay Bridge WB Toll Plaza - Bridge Pass\n",
      "2020-12-04 09:19:50, INFO: Applying Year 2015 Modify HOV Lanes-Fastrak Lanes and USE on San Francisco-Oakland Bay Bridge WB Toll Plaza - Bridge Pass\n",
      "2020-12-04 09:19:50, INFO: Applying Year 2015 Modify HOV Lanes-Fastrak Lanes and USE on San Francisco-Oakland Bay Bridge WB Toll Plaza - Bridge Pass\n",
      "2020-12-04 09:19:50, INFO: Applying Year 2015 Modify HOV Lanes-Fastrak Lanes and USE on San Francisco-Oakland Bay Bridge WB Toll Plaza - Bridge Pass\n",
      "2020-12-04 09:19:50, INFO: Applying Project to Roadway Network: Year 2015 Modify HOV Lanes-Fastrak Lanes and USE on San Francisco-Oakland Bay Bridge WB Toll Plaza - Bridge Pass\n",
      "2020-12-04 09:19:50, INFO: Applying Project to Roadway Network: Year 2015 Modify HOV Lanes-Fastrak Lanes and USE on San Francisco-Oakland Bay Bridge WB Toll Plaza - Bridge Pass\n",
      "2020-12-04 09:19:52, INFO: Applying Year 2015 Modify HOV Lanes and USE on Golden Gate Bridge Toll Plaza on US101 SB - Bridge Pass\n",
      "2020-12-04 09:19:52, INFO: Applying Year 2015 Modify HOV Lanes and USE on Golden Gate Bridge Toll Plaza on US101 SB - Bridge Pass\n",
      "2020-12-04 09:19:52, INFO: Applying Year 2015 Modify HOV Lanes and USE on Golden Gate Bridge Toll Plaza on US101 SB - Bridge Pass\n",
      "2020-12-04 09:19:52, INFO: Applying Year 2015 Modify HOV Lanes and USE on Golden Gate Bridge Toll Plaza on US101 SB - Bridge Pass\n",
      "2020-12-04 09:19:52, INFO: Applying Project to Roadway Network: Year 2015 Modify HOV Lanes and USE on Golden Gate Bridge Toll Plaza on US101 SB - Bridge Pass\n",
      "2020-12-04 09:19:52, INFO: Applying Project to Roadway Network: Year 2015 Modify HOV Lanes and USE on Golden Gate Bridge Toll Plaza on US101 SB - Bridge Pass\n",
      "2020-12-04 09:19:52, INFO: Applying Year 2015 Modify HOV Lanes and USE on Dumbarton Bridge Toll Plaza Toll Plaza on CA-84 WB - Bridge Pass\n",
      "2020-12-04 09:19:52, INFO: Applying Year 2015 Modify HOV Lanes and USE on Dumbarton Bridge Toll Plaza Toll Plaza on CA-84 WB - Bridge Pass\n",
      "2020-12-04 09:19:52, INFO: Applying Year 2015 Modify HOV Lanes and USE on Dumbarton Bridge Toll Plaza Toll Plaza on CA-84 WB - Bridge Pass\n",
      "2020-12-04 09:19:52, INFO: Applying Year 2015 Modify HOV Lanes and USE on Dumbarton Bridge Toll Plaza Toll Plaza on CA-84 WB - Bridge Pass\n",
      "2020-12-04 09:19:52, INFO: Applying Project to Roadway Network: Year 2015 Modify HOV Lanes and USE on Dumbarton Bridge Toll Plaza Toll Plaza on CA-84 WB - Bridge Pass\n",
      "2020-12-04 09:19:52, INFO: Applying Project to Roadway Network: Year 2015 Modify HOV Lanes and USE on Dumbarton Bridge Toll Plaza Toll Plaza on CA-84 WB - Bridge Pass\n",
      "2020-12-04 09:19:52, INFO: Applying Year 2015 Modify HOV Lanes and USE on Carquinez Bridge Toll Plaza on I-80 NB - Bridge Pass\n",
      "2020-12-04 09:19:52, INFO: Applying Year 2015 Modify HOV Lanes and USE on Carquinez Bridge Toll Plaza on I-80 NB - Bridge Pass\n",
      "2020-12-04 09:19:52, INFO: Applying Year 2015 Modify HOV Lanes and USE on Carquinez Bridge Toll Plaza on I-80 NB - Bridge Pass\n",
      "2020-12-04 09:19:52, INFO: Applying Year 2015 Modify HOV Lanes and USE on Carquinez Bridge Toll Plaza on I-80 NB - Bridge Pass\n",
      "2020-12-04 09:19:52, INFO: Applying Project to Roadway Network: Year 2015 Modify HOV Lanes and USE on Carquinez Bridge Toll Plaza on I-80 NB - Bridge Pass\n",
      "2020-12-04 09:19:52, INFO: Applying Project to Roadway Network: Year 2015 Modify HOV Lanes and USE on Carquinez Bridge Toll Plaza on I-80 NB - Bridge Pass\n",
      "2020-12-04 09:19:53, INFO: Applying Year 2015 Modify HOV Lanes-Fastrak Lanes and USE on Antioch Bridge NB on Route 160 - Bridge Pass\n",
      "2020-12-04 09:19:53, INFO: Applying Year 2015 Modify HOV Lanes-Fastrak Lanes and USE on Antioch Bridge NB on Route 160 - Bridge Pass\n",
      "2020-12-04 09:19:53, INFO: Applying Year 2015 Modify HOV Lanes-Fastrak Lanes and USE on Antioch Bridge NB on Route 160 - Bridge Pass\n",
      "2020-12-04 09:19:53, INFO: Applying Year 2015 Modify HOV Lanes-Fastrak Lanes and USE on Antioch Bridge NB on Route 160 - Bridge Pass\n",
      "2020-12-04 09:19:53, INFO: Applying Project to Roadway Network: Year 2015 Modify HOV Lanes-Fastrak Lanes and USE on Antioch Bridge NB on Route 160 - Bridge Pass\n",
      "2020-12-04 09:19:53, INFO: Applying Project to Roadway Network: Year 2015 Modify HOV Lanes-Fastrak Lanes and USE on Antioch Bridge NB on Route 160 - Bridge Pass\n",
      "2020-12-04 09:19:53, INFO: Applying Year 2015 Modify USE on I-80 WB to Bay Bridge Toll Plaza\n",
      "2020-12-04 09:19:53, INFO: Applying Year 2015 Modify USE on I-80 WB to Bay Bridge Toll Plaza\n"
     ]
    },
    {
     "name": "stdout",
     "output_type": "stream",
     "text": [
      "2020-12-04 09:19:53, INFO: Applying Year 2015 Modify USE on I-80 WB to Bay Bridge Toll Plaza\n",
      "2020-12-04 09:19:53, INFO: Applying Year 2015 Modify USE on I-80 WB to Bay Bridge Toll Plaza\n",
      "2020-12-04 09:19:53, INFO: Applying Project to Roadway Network: Year 2015 Modify USE on I-80 WB to Bay Bridge Toll Plaza\n",
      "2020-12-04 09:19:53, INFO: Applying Project to Roadway Network: Year 2015 Modify USE on I-80 WB to Bay Bridge Toll Plaza\n",
      "2020-12-04 09:19:53, INFO: Applying Year 2015 Bus Only Segments for Transbay Terminal Ramps\n",
      "2020-12-04 09:19:53, INFO: Applying Year 2015 Bus Only Segments for Transbay Terminal Ramps\n",
      "2020-12-04 09:19:53, INFO: Applying Year 2015 Bus Only Segments for Transbay Terminal Ramps\n",
      "2020-12-04 09:19:53, INFO: Applying Year 2015 Bus Only Segments for Transbay Terminal Ramps\n",
      "2020-12-04 09:19:53, INFO: Applying Project to Roadway Network: Year 2015 Bus Only Segments for Transbay Terminal Ramps\n",
      "2020-12-04 09:19:53, INFO: Applying Project to Roadway Network: Year 2015 Bus Only Segments for Transbay Terminal Ramps\n",
      "2020-12-04 09:19:56, INFO: Applying Year 2015 Bus Only Segments for Golden Gate Transit on US 101\n",
      "2020-12-04 09:19:56, INFO: Applying Year 2015 Bus Only Segments for Golden Gate Transit on US 101\n",
      "2020-12-04 09:19:56, INFO: Applying Year 2015 Bus Only Segments for Golden Gate Transit on US 101\n",
      "2020-12-04 09:19:56, INFO: Applying Year 2015 Bus Only Segments for Golden Gate Transit on US 101\n",
      "2020-12-04 09:19:56, INFO: Applying Project to Roadway Network: Year 2015 Bus Only Segments for Golden Gate Transit on US 101\n",
      "2020-12-04 09:19:56, INFO: Applying Project to Roadway Network: Year 2015 Bus Only Segments for Golden Gate Transit on US 101\n",
      "2020-12-04 09:19:57, INFO: Applying Year 2015 Exclude Trucks on SR 85\n",
      "2020-12-04 09:19:57, INFO: Applying Year 2015 Exclude Trucks on SR 85\n",
      "2020-12-04 09:19:57, INFO: Applying Year 2015 Exclude Trucks on SR 85\n",
      "2020-12-04 09:19:57, INFO: Applying Year 2015 Exclude Trucks on SR 85\n",
      "2020-12-04 09:19:57, INFO: Applying Project to Roadway Network: Year 2015 Exclude Trucks on SR 85\n",
      "2020-12-04 09:19:57, INFO: Applying Project to Roadway Network: Year 2015 Exclude Trucks on SR 85\n",
      "2020-12-04 09:19:58, INFO: Applying Year 2015 Exclude Trucks on I580\n",
      "2020-12-04 09:19:58, INFO: Applying Year 2015 Exclude Trucks on I580\n",
      "2020-12-04 09:19:58, INFO: Applying Year 2015 Exclude Trucks on I580\n",
      "2020-12-04 09:19:58, INFO: Applying Year 2015 Exclude Trucks on I580\n",
      "2020-12-04 09:19:58, INFO: Applying Project to Roadway Network: Year 2015 Exclude Trucks on I580\n",
      "2020-12-04 09:19:58, INFO: Applying Project to Roadway Network: Year 2015 Exclude Trucks on I580\n"
     ]
    }
   ],
   "source": [
    "v_01_scenario.apply_all_projects()"
   ]
  },
  {
   "cell_type": "code",
   "execution_count": 11,
   "metadata": {},
   "outputs": [
    {
     "data": {
      "text/plain": [
       "['Year 2015 Modify HOV Lanes and USE on San Mateo Bridge Toll Plaza Toll Plaza on CA-92 WB - Bridge Pass',\n",
       " 'Year 2015 Modify HOV Lanes and USE on Richmond-San Rafael Bridge Toll Plaza - Bridge Pass',\n",
       " 'Year 2015 Modify HOV Lanes and USE on US-101 SB from South of Healdsburg to North of Petaluma',\n",
       " 'Year 2015 Modify USE and HOV Lanes on US-101 SB (Segment 02) from South of Healdsburg to North of Petaluma',\n",
       " 'Year 2015 Modify HOV Lanes and USE on US 101 SB CA-85 to Oregon Expressway',\n",
       " 'Year 2015 Modify HOV Lanes and USE on US 101 SB CA-85 to Cochrane Road',\n",
       " 'Year 2015 Modify HOV Lanes and USE on US-101 NB (Segment 02) from North of Petaluma to South of Healdsburg',\n",
       " 'Year 2015 Modify HOV Lanes and USE on US 101 NB Oregon Expressway to Whipple Road',\n",
       " 'Year 2015 Modify HOV Lanes and USE on US-101 NB from North of Petaluma to South of Healdsburg',\n",
       " 'Year 2015 Modify HOV Lanes and USE on US 101 NB Cochran Road to CA-85',\n",
       " 'Year 2015 Modify HOV Lanes and USE on San Tomas Expressway SB I-880 to Hwy 17',\n",
       " 'Year 2015 Modify HOV Lanes and USE on San Tomas Expressway NB Hwy 17 to I-880',\n",
       " 'Year 2015 Modify HOV Lanes and USE on Lawrence Expressway SB US 101 to I-280',\n",
       " 'Year 2015 Modify HOV Lanes and USE on Lawrence Expressway NB I-280 to US 101',\n",
       " 'Year 2015 Modify HOV Lanes and USE on I-880 SB from Hegenberger Road to Dixon Road',\n",
       " 'Year 2015 Modify Express Lanes and USE on I-880 SB Dixon Road to CA-237',\n",
       " 'Year 2015 Modify HOV Lanes and USE on I-880 SB CA-237 to US 101',\n",
       " 'Year 2015 Modify HOV lanes and USE on I-880 NB US 101 to CA-237',\n",
       " 'Year 2015 Modify HOV Lanes and USE on I-880 NB from Dixon Road to I-238',\n",
       " 'Year 2015 Modify Express Lanes and USE on I-880 NB CA-237 to Dixon Road',\n",
       " 'Year 2015 Modify HOV Lanes and USE on Ramp Connecting I880 and Bay Bridge Plaza',\n",
       " 'Year 2015 Modify HOV Lanes and USE on I-80 WB from Fairfield to I-680',\n",
       " 'Year 2015 Modify HOV Lanes and USE on I-80 WB from Carquinez Bridge to Bay Bridge Toll Plaza',\n",
       " 'Year 2015 Modify HOV Lanes and USE on I-80 EB from I-680 to Fairfield',\n",
       " 'Year 2015 Modify HOV Lanes and USE on I-80 EB from Bay Bridge to Carquinez Bridge Toll Plaza',\n",
       " 'Year 2015 Modify HOV Lanes and USE on I-680 SB from Rudgear Road to Acosta Blvd',\n",
       " 'Year 2015 Modify HOV Lanes and USE on I-680 SB from Benicia Bridge to CA-242',\n",
       " 'Year 2015 Modify Express Lanes and USE on I-680 SB Alameda/Santa Clara County Line to SR-84',\n",
       " 'Year 2015 Modify HOV Lanes USE on I-680 NB CA-242 to Benicia Bridge',\n",
       " 'Year 2015 Modify HOV Lanes and USE on I-680 NB from Acosta Blvd to Rudgear Road',\n",
       " 'Year 2015 Modify USE on I-580 WB Greenville Road to I-680',\n",
       " 'Year 2015 Modify Express Lanes and USE on I-580 EB (segment 02) Hacienda Drive to Greenville Road',\n",
       " 'Year 2015 Modify Express Lanes and USE on I-580 EB Hacienda Drive to Greenville Road',\n",
       " 'Year 2015 Modify HOV lanes and USE on Hwy 4 WB from Deer Valley Road to Port Chicago Highway',\n",
       " 'Year 2015 Modify HOV Lanes and USE on Hwy 4 EB from Port Chicago Highway to Deer Valley Road',\n",
       " 'Year 2015 Modify HOV Lanes and USE on E Capitol Expressway SB I-680 to US 101',\n",
       " 'Year 2015 Modify HOV Lanes and USE on E Capitol Expressway NB US101 to I-680',\n",
       " 'Year 2015 Modify HOV Lanes and USE on CA-92 WB Eden Landing Rd to San Mateo-Hayward Bridge Toll Plaza',\n",
       " 'Year 2015 Modify HOV Lanes and USE on CA-87 SB US 101 to CA-85',\n",
       " 'Year 2015 Modify HOV Lanes and USE on CA 87 NB CA-85 to US 101',\n",
       " 'Year 2015 Modify HOV Lanes and USE on CA-85 SB US101 to US101',\n",
       " 'Year 2015 Modify HOV Lanes and USE on CA-85 NB US101 to US101',\n",
       " 'Year 2015 Modify HOV Lanes and USE on CA-84 WB I-880 to Dumbarton Bridge Toll Plaza',\n",
       " 'Year 2015 Modify HOV Lanes and USE on CA-280 SB Magdalena Ave to Southwest Expressway',\n",
       " 'Year 2015 Modify HOV Lanes and USE on CA-280 NB Bascom Ave to Magdalena Ave',\n",
       " 'Year 2015 Modify HOV Lanes and USE on CA-237 WB North 1st Street to US 101',\n",
       " 'Year 2015 Modify Express Lanes and USE on CA-237 WB I-880 to CA-262 Mission Blvd',\n",
       " 'Year 2015 Modify HOV Lanes and USE on CA-237 EB US 101 to North 1st Street',\n",
       " 'Year 2015 Modify Express Lanes and USE on CA-237 EB SR-262 Mission Blvd to I-880',\n",
       " 'Year 2015 Modify HOV Lanes and USE on Benicia Bridge Toll Plaza - Bridge Pass',\n",
       " 'Year 2015 Modify HOV Lanes-Fastrak Lanes and USE on San Francisco-Oakland Bay Bridge WB Toll Plaza - Bridge Pass',\n",
       " 'Year 2015 Modify HOV Lanes and USE on Golden Gate Bridge Toll Plaza on US101 SB - Bridge Pass',\n",
       " 'Year 2015 Modify HOV Lanes and USE on Dumbarton Bridge Toll Plaza Toll Plaza on CA-84 WB - Bridge Pass',\n",
       " 'Year 2015 Modify HOV Lanes and USE on Carquinez Bridge Toll Plaza on I-80 NB - Bridge Pass',\n",
       " 'Year 2015 Modify HOV Lanes-Fastrak Lanes and USE on Antioch Bridge NB on Route 160 - Bridge Pass',\n",
       " 'Year 2015 Modify USE on I-80 WB to Bay Bridge Toll Plaza',\n",
       " 'Year 2015 Bus Only Segments for Transbay Terminal Ramps',\n",
       " 'Year 2015 Bus Only Segments for Golden Gate Transit on US 101',\n",
       " 'Year 2015 Exclude Trucks on SR 85',\n",
       " 'Year 2015 Exclude Trucks on I580']"
      ]
     },
     "execution_count": 11,
     "metadata": {},
     "output_type": "execute_result"
    }
   ],
   "source": [
    "v_01_scenario.applied_projects"
   ]
  },
  {
   "cell_type": "code",
   "execution_count": 12,
   "metadata": {},
   "outputs": [
    {
     "data": {
      "text/plain": [
       "Index(['access', 'bike_access', 'drive_access', 'fromIntersectionId', 'lanes',\n",
       "       'maxspeed', 'name', 'oneWay', 'ref', 'roadway', 'shstGeometryId',\n",
       "       'shstReferenceId', 'toIntersectionId', 'u', 'v', 'walk_access', 'wayId',\n",
       "       'county', 'model_link_id', 'A', 'B', 'rail_traveltime', 'rail_only',\n",
       "       'locationReferences', 'shape_id', 'geometry', 'ft_cal', 'ft',\n",
       "       'useclass', 'assignable', 'transit', 'managed', 'ML_lanes',\n",
       "       'segment_id', 'tollbooth', 'ML_useclass', 'ML_access', 'ML_egress',\n",
       "       'tollseg', 'tollboth', 'bus_only', 'transit_access'],\n",
       "      dtype='object')"
      ]
     },
     "execution_count": 12,
     "metadata": {},
     "output_type": "execute_result"
    }
   ],
   "source": [
    "v_01_scenario.road_net.links_df.columns"
   ]
  },
  {
   "cell_type": "markdown",
   "metadata": {},
   "source": [
    "## Make Travel Model Networks"
   ]
  },
  {
   "cell_type": "code",
   "execution_count": 28,
   "metadata": {},
   "outputs": [
    {
     "name": "stdout",
     "output_type": "stream",
     "text": [
      "2020-12-04 09:37:57, INFO: Lasso base directory set as: Z:/Data/Users/Sijia/MTC/github/Lasso\n",
      "2020-12-04 09:37:57, INFO: Lasso base directory set as: Z:/Data/Users/Sijia/MTC/github/Lasso\n"
     ]
    }
   ],
   "source": [
    "model_net = ModelRoadwayNetwork.from_RoadwayNetwork(\n",
    "    roadway_network_object = v_01_scenario.road_net, \n",
    "    parameters = parameters)"
   ]
  },
  {
   "cell_type": "code",
   "execution_count": 29,
   "metadata": {},
   "outputs": [
    {
     "name": "stdout",
     "output_type": "stream",
     "text": [
      "(1634769, 42)\n",
      "(644475, 11)\n",
      "(869970, 7)\n"
     ]
    }
   ],
   "source": [
    "print(model_net.links_df.shape)\n",
    "print(model_net.nodes_df.shape)\n",
    "print(model_net.shapes_df.shape)"
   ]
  },
  {
   "cell_type": "code",
   "execution_count": 30,
   "metadata": {},
   "outputs": [
    {
     "name": "stdout",
     "output_type": "stream",
     "text": [
      "2020-12-04 09:38:16, INFO: Adding centroid and centroid connector to standard network\n",
      "2020-12-04 09:38:16, INFO: Adding centroid and centroid connector to standard network\n",
      "2020-12-04 09:38:16, INFO: Lasso base directory set as: Z:/Data/Users/Sijia/MTC/github/Lasso\n",
      "2020-12-04 09:38:16, INFO: Lasso base directory set as: Z:/Data/Users/Sijia/MTC/github/Lasso\n",
      "2020-12-04 09:38:27, INFO: Finished adding centroid and centroid connectors\n",
      "2020-12-04 09:38:27, INFO: Finished adding centroid and centroid connectors\n"
     ]
    }
   ],
   "source": [
    "model_net = mtc.add_centroid_and_centroid_connector(\n",
    "    roadway_network = model_net,\n",
    "    parameters = parameters)"
   ]
  },
  {
   "cell_type": "code",
   "execution_count": 31,
   "metadata": {},
   "outputs": [
    {
     "name": "stdout",
     "output_type": "stream",
     "text": [
      "(2221035, 42)\n",
      "(688952, 11)\n",
      "(1163103, 7)\n"
     ]
    }
   ],
   "source": [
    "print(model_net.links_df.shape)\n",
    "print(model_net.nodes_df.shape)\n",
    "print(model_net.shapes_df.shape)"
   ]
  },
  {
   "cell_type": "code",
   "execution_count": 32,
   "metadata": {},
   "outputs": [
    {
     "data": {
      "text/plain": [
       "2221035"
      ]
     },
     "execution_count": 32,
     "metadata": {},
     "output_type": "execute_result"
    }
   ],
   "source": [
    "model_net.links_df.model_link_id.nunique()"
   ]
  },
  {
   "cell_type": "code",
   "execution_count": 33,
   "metadata": {},
   "outputs": [
    {
     "name": "stdout",
     "output_type": "stream",
     "text": [
      "2020-12-04 09:38:36, INFO: Adding tap and tap connector to standard network\n",
      "2020-12-04 09:38:36, INFO: Adding tap and tap connector to standard network\n",
      "2020-12-04 09:38:36, INFO: Lasso base directory set as: Z:/Data/Users/Sijia/MTC/github/Lasso\n",
      "2020-12-04 09:38:36, INFO: Lasso base directory set as: Z:/Data/Users/Sijia/MTC/github/Lasso\n",
      "2020-12-04 09:38:43, INFO: Finished adding tap and tap connectors\n",
      "2020-12-04 09:38:43, INFO: Finished adding tap and tap connectors\n"
     ]
    }
   ],
   "source": [
    "model_net = mtc.add_tap_and_tap_connector(\n",
    "    roadway_network = model_net,\n",
    "    parameters = parameters)"
   ]
  },
  {
   "cell_type": "code",
   "execution_count": 34,
   "metadata": {},
   "outputs": [
    {
     "name": "stdout",
     "output_type": "stream",
     "text": [
      "(2264549, 42)\n",
      "(694952, 11)\n",
      "(1184860, 7)\n"
     ]
    }
   ],
   "source": [
    "print(model_net.links_df.shape)\n",
    "print(model_net.nodes_df.shape)\n",
    "print(model_net.shapes_df.shape)"
   ]
  },
  {
   "cell_type": "code",
   "execution_count": 35,
   "metadata": {},
   "outputs": [
    {
     "data": {
      "text/plain": [
       "2264549"
      ]
     },
     "execution_count": 35,
     "metadata": {},
     "output_type": "execute_result"
    }
   ],
   "source": [
    "model_net.links_df.model_link_id.nunique()"
   ]
  },
  {
   "cell_type": "code",
   "execution_count": 36,
   "metadata": {},
   "outputs": [
    {
     "data": {
      "text/plain": [
       "694952"
      ]
     },
     "execution_count": 36,
     "metadata": {},
     "output_type": "execute_result"
    }
   ],
   "source": [
    "model_net.nodes_df.model_node_id.nunique()"
   ]
  },
  {
   "cell_type": "code",
   "execution_count": 37,
   "metadata": {},
   "outputs": [
    {
     "data": {
      "text/plain": [
       "1184860"
      ]
     },
     "execution_count": 37,
     "metadata": {},
     "output_type": "execute_result"
    }
   ],
   "source": [
    "model_net.shapes_df.id.nunique()"
   ]
  },
  {
   "cell_type": "code",
   "execution_count": 38,
   "metadata": {
    "scrolled": false
   },
   "outputs": [
    {
     "name": "stdout",
     "output_type": "stream",
     "text": [
      "2020-12-04 09:39:18, INFO: Renaming roadway attributes to be consistent with what mtc's model is expecting\n",
      "2020-12-04 09:39:18, INFO: Renaming roadway attributes to be consistent with what mtc's model is expecting\n",
      "2020-12-04 09:39:18, INFO: Creating managed lane network.\n",
      "2020-12-04 09:39:18, INFO: Creating managed lane network.\n",
      "2020-12-04 09:39:18, INFO: Creating network with duplicated managed lanes\n",
      "2020-12-04 09:39:18, INFO: Creating network with duplicated managed lanes\n"
     ]
    },
    {
     "name": "stderr",
     "output_type": "stream",
     "text": [
      "c:\\users\\wangs1\\.conda\\envs\\lasso_mtc\\lib\\site-packages\\geopandas\\geodataframe.py:853: SettingWithCopyWarning: \n",
      "A value is trying to be set on a copy of a slice from a DataFrame.\n",
      "Try using .loc[row_indexer,col_indexer] = value instead\n",
      "\n",
      "See the caveats in the documentation: http://pandas.pydata.org/pandas-docs/stable/user_guide/indexing.html#returning-a-view-versus-a-copy\n",
      "  super(GeoDataFrame, self).__setitem__(key, value)\n",
      "c:\\users\\wangs1\\.conda\\envs\\lasso_mtc\\lib\\site-packages\\geopandas\\geodataframe.py:852: UserWarning: Geometry column does not contain geometry.\n",
      "  warnings.warn(\"Geometry column does not contain geometry.\")\n",
      "c:\\users\\wangs1\\.conda\\envs\\lasso_mtc\\lib\\site-packages\\pandas\\core\\frame.py:7138: FutureWarning: Sorting because non-concatenation axis is not aligned. A future version\n",
      "of pandas will change to not sort by default.\n",
      "\n",
      "To accept the future behavior, pass 'sort=False'.\n",
      "\n",
      "To retain the current behavior and silence the warning, pass 'sort=True'.\n",
      "\n",
      "  sort=sort,\n",
      "c:\\users\\wangs1\\.conda\\envs\\lasso_mtc\\lib\\site-packages\\pandas\\core\\frame.py:7138: FutureWarning: Sorting because non-concatenation axis is not aligned. A future version\n",
      "of pandas will change to not sort by default.\n",
      "\n",
      "To accept the future behavior, pass 'sort=False'.\n",
      "\n",
      "To retain the current behavior and silence the warning, pass 'sort=True'.\n",
      "\n",
      "  sort=sort,\n"
     ]
    },
    {
     "name": "stdout",
     "output_type": "stream",
     "text": [
      "2020-12-04 09:55:13, INFO: Determining cntype\n",
      "2020-12-04 09:55:13, INFO: Determining cntype\n",
      "2020-12-04 09:55:13, INFO: Lasso base directory set as: Z:/Data/Users/Sijia/MTC/github/Lasso\n",
      "2020-12-04 09:55:13, INFO: Lasso base directory set as: Z:/Data/Users/Sijia/MTC/github/Lasso\n",
      "2020-12-04 09:55:13, INFO: Calculating and adding roadway network variable: cntype\n",
      "2020-12-04 09:55:13, INFO: Calculating and adding roadway network variable: cntype\n",
      "2020-12-04 09:56:36, INFO: Finished determining variable: cntype\n",
      "2020-12-04 09:56:36, INFO: Finished determining variable: cntype\n",
      "2020-12-04 09:56:36, INFO: Determining transit\n",
      "2020-12-04 09:56:36, INFO: Determining transit\n",
      "2020-12-04 09:56:36, INFO: Lasso base directory set as: Z:/Data/Users/Sijia/MTC/github/Lasso\n",
      "2020-12-04 09:56:36, INFO: Lasso base directory set as: Z:/Data/Users/Sijia/MTC/github/Lasso\n",
      "2020-12-04 09:56:36, INFO: Variable 'transit' updated for some links. Returning without overwriting for those links. Calculating for other links\n",
      "2020-12-04 09:56:36, INFO: Variable 'transit' updated for some links. Returning without overwriting for those links. Calculating for other links\n",
      "2020-12-04 09:56:36, INFO: Calculating and adding roadway network variable: transit\n",
      "2020-12-04 09:56:36, INFO: Calculating and adding roadway network variable: transit\n",
      "2020-12-04 09:56:37, INFO: Finished determining transit-only variable: transit\n",
      "2020-12-04 09:56:37, INFO: Finished determining transit-only variable: transit\n",
      "2020-12-04 09:56:37, INFO: Determining useclass\n",
      "2020-12-04 09:56:37, INFO: Determining useclass\n",
      "2020-12-04 09:56:37, INFO: Lasso base directory set as: Z:/Data/Users/Sijia/MTC/github/Lasso\n",
      "2020-12-04 09:56:37, INFO: Lasso base directory set as: Z:/Data/Users/Sijia/MTC/github/Lasso\n",
      "2020-12-04 09:56:37, INFO: Variable 'useclass' updated for some links. Returning without overwriting for those links. Calculating for other links\n",
      "2020-12-04 09:56:37, INFO: Variable 'useclass' updated for some links. Returning without overwriting for those links. Calculating for other links\n",
      "2020-12-04 09:56:37, INFO: Calculating and adding roadway network variable: useclass\n",
      "2020-12-04 09:56:37, INFO: Calculating and adding roadway network variable: useclass\n",
      "2020-12-04 09:56:37, INFO: Finished determining variable: useclass\n",
      "2020-12-04 09:56:37, INFO: Finished determining variable: useclass\n",
      "2020-12-04 09:56:37, INFO: Overwriting existing distance Variable 'distance' already in network\n",
      "2020-12-04 09:56:37, INFO: Overwriting existing distance Variable 'distance' already in network\n",
      "2020-12-04 09:57:43, INFO: Calculating distance for all links\n",
      "2020-12-04 09:57:43, INFO: Calculating distance for all links\n",
      "2020-12-04 09:57:51, INFO: Filling nan for network from network wrangler\n",
      "2020-12-04 09:57:51, INFO: Filling nan for network from network wrangler\n",
      "2020-12-04 09:58:21, INFO: Splitting variables by time period and category\n",
      "2020-12-04 09:58:21, INFO: Splitting variables by time period and category\n",
      "2020-12-04 09:58:29, WARNING: Specified variable to split: ML_lanes not in network variables: Index(['index', 'A', 'B', 'access', 'assignable', 'bike_access', 'bus_only',\n",
      "       'county', 'distance', 'drive_access', 'egress', 'fromIntersectionId',\n",
      "       'ft', 'ft_cal', 'geometry', 'id', 'lanes', 'locationReferences',\n",
      "       'managed', 'maxspeed', 'model_link_id', 'name', 'oneWay', 'rail_only',\n",
      "       'rail_traveltime', 'ref', 'roadway', 'segment_id', 'shape_id',\n",
      "       'shstGeometryId', 'shstReferenceId', 'toIntersectionId', 'tollbooth',\n",
      "       'tollboth', 'tollseg', 'transit', 'transit_access', 'u', 'useclass',\n",
      "       'v', 'walk_access', 'wayId', 'cntype', 'lanes_EA', 'lanes_AM',\n",
      "       'lanes_MD', 'lanes_PM', 'lanes_EV'],\n",
      "      dtype='object'). Returning 0.\n",
      "2020-12-04 09:58:29, WARNING: Specified variable to split: ML_lanes not in network variables: Index(['index', 'A', 'B', 'access', 'assignable', 'bike_access', 'bus_only',\n",
      "       'county', 'distance', 'drive_access', 'egress', 'fromIntersectionId',\n",
      "       'ft', 'ft_cal', 'geometry', 'id', 'lanes', 'locationReferences',\n",
      "       'managed', 'maxspeed', 'model_link_id', 'name', 'oneWay', 'rail_only',\n",
      "       'rail_traveltime', 'ref', 'roadway', 'segment_id', 'shape_id',\n",
      "       'shstGeometryId', 'shstReferenceId', 'toIntersectionId', 'tollbooth',\n",
      "       'tollboth', 'tollseg', 'transit', 'transit_access', 'u', 'useclass',\n",
      "       'v', 'walk_access', 'wayId', 'cntype', 'lanes_EA', 'lanes_AM',\n",
      "       'lanes_MD', 'lanes_PM', 'lanes_EV'],\n",
      "      dtype='object'). Returning 0.\n",
      "2020-12-04 09:58:35, INFO: Converting variable type to mtc standard\n",
      "2020-12-04 09:58:35, INFO: Converting variable type to mtc standard\n",
      "2020-12-04 09:58:42, INFO: Setting Coordinate Reference System to ESRI:102646\n",
      "2020-12-04 09:58:42, INFO: Setting Coordinate Reference System to ESRI:102646\n"
     ]
    }
   ],
   "source": [
    "model_net = mtc.roadway_standard_to_mtc_network(model_net, parameters)"
   ]
  },
  {
   "cell_type": "code",
   "execution_count": 39,
   "metadata": {},
   "outputs": [
    {
     "data": {
      "text/plain": [
       "1    2120565\n",
       "2     104509\n",
       "3      22883\n",
       "4      13601\n",
       "5       6393\n",
       "6        822\n",
       "7        127\n",
       "0         37\n",
       "8         18\n",
       "9          1\n",
       "Name: lanes_AM, dtype: int64"
      ]
     },
     "execution_count": 39,
     "metadata": {},
     "output_type": "execute_result"
    }
   ],
   "source": [
    "model_net.links_mtc_df.lanes_AM.value_counts()"
   ]
  },
  {
   "cell_type": "code",
   "execution_count": 40,
   "metadata": {},
   "outputs": [
    {
     "data": {
      "text/plain": [
       "(696464, 13)"
      ]
     },
     "execution_count": 40,
     "metadata": {},
     "output_type": "execute_result"
    }
   ],
   "source": [
    "model_net.nodes_mtc_df.shape"
   ]
  },
  {
   "cell_type": "code",
   "execution_count": 45,
   "metadata": {},
   "outputs": [
    {
     "data": {
      "text/plain": [
       "696460"
      ]
     },
     "execution_count": 45,
     "metadata": {},
     "output_type": "execute_result"
    }
   ],
   "source": [
    "model_net.nodes_mtc_df.N.nunique()"
   ]
  },
  {
   "cell_type": "code",
   "execution_count": 43,
   "metadata": {},
   "outputs": [
    {
     "data": {
      "text/plain": [
       "(2268956, 58)"
      ]
     },
     "execution_count": 43,
     "metadata": {},
     "output_type": "execute_result"
    }
   ],
   "source": [
    "model_net.links_mtc_df.shape"
   ]
  },
  {
   "cell_type": "code",
   "execution_count": 44,
   "metadata": {},
   "outputs": [
    {
     "data": {
      "text/plain": [
       "2268956"
      ]
     },
     "execution_count": 44,
     "metadata": {},
     "output_type": "execute_result"
    }
   ],
   "source": [
    "model_net.links_mtc_df.model_link_id.nunique()"
   ]
  },
  {
   "cell_type": "code",
   "execution_count": 48,
   "metadata": {},
   "outputs": [
    {
     "data": {
      "text/plain": [
       "(1189267, 8)"
      ]
     },
     "execution_count": 48,
     "metadata": {},
     "output_type": "execute_result"
    }
   ],
   "source": [
    "model_net.shapes_df.shape"
   ]
  },
  {
   "cell_type": "code",
   "execution_count": 49,
   "metadata": {},
   "outputs": [
    {
     "data": {
      "text/plain": [
       "1189267"
      ]
     },
     "execution_count": 49,
     "metadata": {},
     "output_type": "execute_result"
    }
   ],
   "source": [
    "model_net.shapes_df.id.nunique()"
   ]
  },
  {
   "cell_type": "markdown",
   "metadata": {},
   "source": [
    "## Write to Disk"
   ]
  },
  {
   "cell_type": "markdown",
   "metadata": {},
   "source": [
    "## As shapefile"
   ]
  },
  {
   "cell_type": "code",
   "execution_count": 50,
   "metadata": {},
   "outputs": [
    {
     "name": "stdout",
     "output_type": "stream",
     "text": [
      "2020-12-04 10:03:55, INFO: Writing Network as Shapefile\n",
      "2020-12-04 10:03:55, INFO: Writing Network as Shapefile\n",
      "2020-12-04 10:03:55, INFO: Renaming DBF Node Variables\n",
      "2020-12-04 10:03:55, INFO: Renaming DBF Node Variables\n",
      "2020-12-04 10:03:55, INFO: Renaming variables so that they are DBF-safe\n",
      "2020-12-04 10:03:55, INFO: Renaming variables so that they are DBF-safe\n",
      "2020-12-04 10:04:07, INFO: Renaming DBF Link Variables\n",
      "2020-12-04 10:04:07, INFO: Renaming DBF Link Variables\n",
      "2020-12-04 10:04:07, INFO: Renaming variables so that they are DBF-safe\n",
      "2020-12-04 10:04:07, INFO: Renaming variables so that they are DBF-safe\n",
      "2020-12-04 10:04:12, INFO: Writing Node Shapes:\n",
      " - Z:/Data/Users/Sijia/MTC/github/travel-model-two-networks\\data\\processed\\version_03\\nodes.shp\n",
      "2020-12-04 10:04:12, INFO: Writing Node Shapes:\n",
      " - Z:/Data/Users/Sijia/MTC/github/travel-model-two-networks\\data\\processed\\version_03\\nodes.shp\n",
      "2020-12-04 10:05:02, INFO: Writing Link Shapes:\n",
      " - Z:/Data/Users/Sijia/MTC/github/travel-model-two-networks\\data\\processed\\version_03\\links.shp\n",
      "2020-12-04 10:05:02, INFO: Writing Link Shapes:\n",
      " - Z:/Data/Users/Sijia/MTC/github/travel-model-two-networks\\data\\processed\\version_03\\links.shp\n"
     ]
    }
   ],
   "source": [
    "model_net.write_roadway_as_shp(\n",
    "    output_link_shp = os.path.join(output_dir, 'links.shp'),\n",
    "    output_node_shp = os.path.join(output_dir, 'nodes.shp'),\n",
    "    link_output_variables = [\"model_link_id\", \"A\", \"B\", \"geometry\"],\n",
    "    node_output_variables = [\"model_node_id\", \"geometry\"],\n",
    "    data_to_csv = False,\n",
    "    data_to_dbf = True,\n",
    ")"
   ]
  },
  {
   "cell_type": "markdown",
   "metadata": {},
   "source": [
    "## As fixed width (for CUBE)"
   ]
  },
  {
   "cell_type": "code",
   "execution_count": 51,
   "metadata": {},
   "outputs": [
    {
     "name": "stdout",
     "output_type": "stream",
     "text": [
      "2020-12-04 10:08:55, INFO: Starting fixed width convertion\n",
      "2020-12-04 10:08:55, INFO: Starting fixed width convertion\n",
      "2020-12-04 10:32:43, INFO: Writing out link database\n",
      "2020-12-04 10:32:43, INFO: Writing out link database\n",
      "2020-12-04 10:33:23, INFO: Writing out link header and width ----\n",
      "2020-12-04 10:33:23, INFO: Writing out link header and width ----\n",
      "2020-12-04 10:33:23, INFO: Starting fixed width convertion\n",
      "2020-12-04 10:33:23, INFO: Starting fixed width convertion\n",
      "2020-12-04 10:35:10, INFO: Writing out node database\n",
      "2020-12-04 10:35:10, INFO: Writing out node database\n",
      "2020-12-04 10:35:17, INFO: Writing out node header and width\n",
      "2020-12-04 10:35:17, INFO: Writing out node header and width\n"
     ]
    }
   ],
   "source": [
    "model_net.write_roadway_as_fixedwidth(\n",
    "    output_link_txt = os.path.join(output_dir, 'links.txt'),\n",
    "    output_node_txt = os.path.join(output_dir, 'nodes.txt'),\n",
    "    output_link_header_width_txt = os.path.join(output_dir, 'links_header_width.txt'),\n",
    "    output_node_header_width_txt = os.path.join(output_dir, 'nodes_header_width.txt'),\n",
    "    output_cube_network_script = os.path.join(output_dir, 'make_complete_network_from_fixed_width_file.s'),\n",
    "    #drive_only = True\n",
    ")"
   ]
  },
  {
   "cell_type": "code",
   "execution_count": 18,
   "metadata": {},
   "outputs": [],
   "source": [
    "%%capture\n",
    "os.chdir(output_dir)\n",
    "!make_cube.bat"
   ]
  },
  {
   "cell_type": "code",
   "execution_count": 19,
   "metadata": {},
   "outputs": [],
   "source": [
    "%%capture\n",
    "!runtpp make_simple_roadway_network.s\n",
    "!runtpp make_complete_marin_network.s\n",
    "!runtpp make_simple_transit_network.s"
   ]
  },
  {
   "cell_type": "markdown",
   "metadata": {},
   "source": [
    "## As transit line file (for CUBE)"
   ]
  },
  {
   "cell_type": "code",
   "execution_count": 35,
   "metadata": {},
   "outputs": [
    {
     "name": "stdout",
     "output_type": "stream",
     "text": [
      "2020-11-30 18:43:46, INFO: Lasso base directory set as: Z:/Data/Users/Sijia/MTC/github/Lasso\n",
      "2020-11-30 18:43:46, INFO: Lasso base directory set as: Z:/Data/Users/Sijia/MTC/github/Lasso\n",
      "2020-11-30 18:43:46, INFO: Converting GTFS Standard Properties to MTC's Cube Standard\n",
      "2020-11-30 18:43:46, INFO: Converting GTFS Standard Properties to MTC's Cube Standard\n",
      "Empty DataFrame\n",
      "Columns: [service_id, trip_headsign, direction_id, block_id, wheelchair_accessible, bikes_allowed, agency_raw_name, trip_short_name, original_trip_id, trip_bikes_allowed, trip_type, drt_max_travel_time, drt_avg_travel_time, drt_advance_book_min, drt_pickup_message, drt_drop_off_message, continuous_pickup_message, continuous_drop_off_message, route_id, trip_id, shape_id, route_id_original, agency_id, route_short_name, route_long_name, route_desc, route_type, route_url, route_color, route_text_color, route_sort_order, min_headway_minutes, eligibility_restricted, continuous_pickup, continuous_drop_off, headway_secs, start_time, end_time, tod, NAME, LONGNAME, HEADWAY, is_express_bus, agency_name, TM2_operator, TM2_mode, TM2_line_haul_name, TM2_faresystem, ONEWAY, OPERATOR]\n",
      "Index: []\n",
      "\n",
      "[0 rows x 50 columns]\n"
     ]
    }
   ],
   "source": [
    "standard_transit_net = StandardTransit.fromTransitNetwork(v_01_scenario.transit_net, parameters = parameters)\n",
    "mtc.write_as_cube_lin(standard_transit_net, parameters, outpath = os.path.join(output_dir, \"transit.lin\"))"
   ]
  },
  {
   "cell_type": "markdown",
   "metadata": {},
   "source": [
    "## As pickle"
   ]
  },
  {
   "cell_type": "code",
   "execution_count": 21,
   "metadata": {},
   "outputs": [],
   "source": [
    "working_scenario_filename = os.path.join(output_dir, 'working_scenario_01.pickle')\n",
    "pickle.dump(v_01_scenario, open(working_scenario_filename, 'wb'))"
   ]
  },
  {
   "cell_type": "code",
   "execution_count": null,
   "metadata": {},
   "outputs": [],
   "source": []
  }
 ],
 "metadata": {
  "kernelspec": {
   "display_name": "Python 3",
   "language": "python",
   "name": "python3"
  },
  "language_info": {
   "codemirror_mode": {
    "name": "ipython",
    "version": 3
   },
   "file_extension": ".py",
   "mimetype": "text/x-python",
   "name": "python",
   "nbconvert_exporter": "python",
   "pygments_lexer": "ipython3",
   "version": "3.7.9"
  }
 },
 "nbformat": 4,
 "nbformat_minor": 4
}
