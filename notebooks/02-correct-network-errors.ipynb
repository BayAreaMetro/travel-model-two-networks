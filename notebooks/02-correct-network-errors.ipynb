{
 "cells": [
  {
   "cell_type": "markdown",
   "metadata": {},
   "source": [
    "# 02 Correct Network Errors with Project Cards"
   ]
  },
  {
   "cell_type": "code",
   "execution_count": 1,
   "metadata": {},
   "outputs": [],
   "source": [
    "import os\n",
    "import sys\n",
    "import yaml\n",
    "import pickle\n",
    "import glob\n",
    "\n",
    "import pandas as pd\n",
    "\n",
    "from network_wrangler import RoadwayNetwork\n",
    "from network_wrangler import TransitNetwork\n",
    "from network_wrangler import ProjectCard\n",
    "from network_wrangler import Scenario\n",
    "from network_wrangler import WranglerLogger\n",
    "\n",
    "from lasso import ModelRoadwayNetwork\n",
    "from lasso import StandardTransit\n",
    "from lasso import Parameters\n",
    "from lasso import mtc\n"
   ]
  },
  {
   "cell_type": "code",
   "execution_count": 2,
   "metadata": {},
   "outputs": [],
   "source": [
    "%load_ext autoreload\n",
    "%autoreload 2"
   ]
  },
  {
   "cell_type": "code",
   "execution_count": 3,
   "metadata": {},
   "outputs": [],
   "source": [
    "import logging\n",
    "logger = logging.getLogger(\"WranglerLogger\")\n",
    "logger.handlers[0].stream = sys.stdout\n",
    "logger.setLevel(logging.INFO)"
   ]
  },
  {
   "cell_type": "markdown",
   "metadata": {},
   "source": [
    "## Remote I/O and Parameters"
   ]
  },
  {
   "cell_type": "code",
   "execution_count": null,
   "metadata": {},
   "outputs": [],
   "source": [
    "root_dir = os.path.join('/Users', 'wsp', 'Documents', 'GitHub', 'travel-model-two-networks')\n",
    "input_dir = os.path.join(root_dir, 'data', 'processed', 'version_02')\n",
    "output_dir = input_dir\n",
    "card_dir = os.path.join(root_dir, 'project_cards')\n",
    "lasso_dir = os.path.join('/Users', 'wsp', 'Documents', 'GitHub', 'mtc-Lasso')"
   ]
  },
  {
   "cell_type": "code",
   "execution_count": 6,
   "metadata": {},
   "outputs": [
    {
     "name": "stdout",
     "output_type": "stream",
     "text": [
      "2020-10-27 14:37:58, INFO: Lasso base directory set as: Z:/Data/Users/Sijia/MTC/github/Lasso\n",
      "2020-10-27 14:37:58, INFO: Lasso base directory set as: Z:/Data/Users/Sijia/MTC/github/Lasso\n"
     ]
    }
   ],
   "source": [
    "parameters = Parameters(lasso_base_dir = lasso_dir)"
   ]
  },
  {
   "cell_type": "markdown",
   "metadata": {},
   "source": [
    "## Read Version 00 Scenario"
   ]
  },
  {
   "cell_type": "code",
   "execution_count": 61,
   "metadata": {},
   "outputs": [],
   "source": [
    "version_00_pickle_file_name = os.path.join(input_dir, 'working_scenario_00.pickle')\n",
    "v_00_scenario = pickle.load(open(version_00_pickle_file_name, 'rb'))"
   ]
  },
  {
   "cell_type": "code",
   "execution_count": 62,
   "metadata": {},
   "outputs": [
    {
     "data": {
      "text/plain": [
       "(1634769, 30)"
      ]
     },
     "execution_count": 62,
     "metadata": {},
     "output_type": "execute_result"
    }
   ],
   "source": [
    "v_00_scenario.road_net.links_df.shape"
   ]
  },
  {
   "cell_type": "code",
   "execution_count": 63,
   "metadata": {},
   "outputs": [],
   "source": [
    "v_01_scenario = v_00_scenario"
   ]
  },
  {
   "cell_type": "markdown",
   "metadata": {},
   "source": [
    "# Add centroid and centroid connectors\n",
    "before applying project cards"
   ]
  },
  {
   "cell_type": "code",
   "execution_count": 64,
   "metadata": {},
   "outputs": [
    {
     "name": "stdout",
     "output_type": "stream",
     "text": [
      "2020-10-27 16:28:56, INFO: Adding centroid and centroid connector to standard network\n",
      "2020-10-27 16:28:56, INFO: Adding centroid and centroid connector to standard network\n",
      "2020-10-27 16:28:56, INFO: Lasso base directory set as: Z:/Data/Users/Sijia/MTC/github/Lasso\n",
      "2020-10-27 16:28:56, INFO: Lasso base directory set as: Z:/Data/Users/Sijia/MTC/github/Lasso\n",
      "2020-10-27 16:29:10, INFO: Finished adding centroid and centroid connectors\n",
      "2020-10-27 16:29:10, INFO: Finished adding centroid and centroid connectors\n"
     ]
    }
   ],
   "source": [
    "v_01_scenario.road_net = mtc.add_centroid_and_centroid_connector(\n",
    "    roadway_network = v_01_scenario.road_net,\n",
    "    parameters = parameters)"
   ]
  },
  {
   "cell_type": "code",
   "execution_count": 65,
   "metadata": {},
   "outputs": [
    {
     "name": "stdout",
     "output_type": "stream",
     "text": [
      "(2221035, 30)\n",
      "(688952, 11)\n",
      "(1163103, 7)\n"
     ]
    }
   ],
   "source": [
    "print(v_01_scenario.road_net.links_df.shape)\n",
    "print(v_01_scenario.road_net.nodes_df.shape)\n",
    "print(v_01_scenario.road_net.shapes_df.shape)"
   ]
  },
  {
   "cell_type": "code",
   "execution_count": 68,
   "metadata": {},
   "outputs": [
    {
     "name": "stdout",
     "output_type": "stream",
     "text": [
      "2020-10-27 16:30:58, INFO: Determining number of lanes\n",
      "2020-10-27 16:30:58, INFO: Determining number of lanes\n",
      "2020-10-27 16:30:58, INFO: Lasso base directory set as: Z:/Data/Users/Sijia/MTC/github/Lasso\n",
      "2020-10-27 16:30:58, INFO: Lasso base directory set as: Z:/Data/Users/Sijia/MTC/github/Lasso\n",
      "2020-10-27 16:37:34, INFO: Finished determining number of lanes using variable: lanes\n",
      "2020-10-27 16:37:34, INFO: Finished determining number of lanes using variable: lanes\n"
     ]
    },
    {
     "data": {
      "text/plain": [
       "1    2072663\n",
       "2     104207\n",
       "3      22455\n",
       "4      14124\n",
       "5       6504\n",
       "6        929\n",
       "7        134\n",
       "8         18\n",
       "9          1\n",
       "Name: lanes, dtype: int64"
      ]
     },
     "execution_count": 68,
     "metadata": {},
     "output_type": "execute_result"
    }
   ],
   "source": [
    "# lanes for connectors\n",
    "\n",
    "v_01_scenario.road_net = mtc.determine_number_of_lanes(\n",
    "    roadway_network = v_01_scenario.road_net,\n",
    "    parameters = parameters,\n",
    "    network_variable = 'lanes'\n",
    ")\n",
    "\n",
    "v_01_scenario.road_net.links_df.lanes.value_counts()"
   ]
  },
  {
   "cell_type": "markdown",
   "metadata": {},
   "source": [
    "## Create Scenario and Apply Project Cards"
   ]
  },
  {
   "cell_type": "code",
   "execution_count": null,
   "metadata": {},
   "outputs": [],
   "source": [
    "# TODO: replace with tag fetch once debug is done\n",
    "name_list = glob.glob(card_dir + '/*.yml')\n",
    "name_list.remove('/Users/wsp/Documents/GitHub/travel-model-two-networks/project_cards/year_2015_i80_wb_hov_ala.yml')\n",
    "name_list.remove('/Users/wsp/Documents/GitHub/travel-model-two-networks/project_cards/year_2015_bus_only_ggt_on_us101.yml')\n",
    "name_list.remove('/Users/wsp/Documents/GitHub/travel-model-two-networks/project_cards/year_2015_attributes_exclude_trucks_sr85.yml')\n",
    "name_list.remove('/Users/wsp/Documents/GitHub/travel-model-two-networks/project_cards/year_2015_managed_lane_i80_ramp_to_bay_bridge.yml')\n",
    "name_list.remove('/Users/wsp/Documents/GitHub/travel-model-two-networks/project_cards/year_2015_attributes_exclude_trucks_i580.yml')\n",
    "name_list.remove('/Users/wsp/Documents/GitHub/travel-model-two-networks/project_cards/year_2015_bus_only_transbay_terminal_ramps.yml')\n",
    "card_list = [] \n",
    "for name in name_list:\n",
    "    card = ProjectCard.read(os.path.join(card_dir, name), validate = False)\n",
    "    card_list.append(card)"
   ]
  },
  {
   "cell_type": "code",
   "execution_count": 69,
   "metadata": {},
   "outputs": [
    {
     "name": "stdout",
     "output_type": "stream",
     "text": [
      "2020-10-27 16:37:54, INFO: Applying Year 2015 Modify USE and HOV Lanes on US-101 SB (Segment 02) from South of Healdsburg to North of Petaluma\n",
      "2020-10-27 16:37:54, INFO: Applying Year 2015 Modify USE and HOV Lanes on US-101 SB (Segment 02) from South of Healdsburg to North of Petaluma\n",
      "2020-10-27 16:37:54, INFO: Applying Year 2015 Modify USE and HOV Lanes on US-101 SB (Segment 02) from South of Healdsburg to North of Petaluma\n",
      "2020-10-27 16:37:54, INFO: Applying Year 2015 Modify USE and HOV Lanes on US-101 SB (Segment 02) from South of Healdsburg to North of Petaluma\n",
      "2020-10-27 16:37:54, INFO: Applying Project to Roadway Network: Year 2015 Modify USE and HOV Lanes on US-101 SB (Segment 02) from South of Healdsburg to North of Petaluma\n",
      "2020-10-27 16:37:54, INFO: Applying Project to Roadway Network: Year 2015 Modify USE and HOV Lanes on US-101 SB (Segment 02) from South of Healdsburg to North of Petaluma\n"
     ]
    },
    {
     "name": "stderr",
     "output_type": "stream",
     "text": [
      "c:\\users\\wangs1\\.conda\\envs\\lasso_mtc\\lib\\site-packages\\geopandas\\geodataframe.py:853: SettingWithCopyWarning: \n",
      "A value is trying to be set on a copy of a slice from a DataFrame.\n",
      "Try using .loc[row_indexer,col_indexer] = value instead\n",
      "\n",
      "See the caveats in the documentation: http://pandas.pydata.org/pandas-docs/stable/user_guide/indexing.html#returning-a-view-versus-a-copy\n",
      "  super(GeoDataFrame, self).__setitem__(key, value)\n"
     ]
    }
   ],
   "source": [
    "for card in card_list:\n",
    "    v_01_scenario.apply_project(card)"
   ]
  },
  {
   "cell_type": "code",
   "execution_count": 70,
   "metadata": {},
   "outputs": [
    {
     "data": {
      "text/plain": [
       "['Year 2015 Modify USE and HOV Lanes on US-101 SB (Segment 02) from South of Healdsburg to North of Petaluma']"
      ]
     },
     "execution_count": 70,
     "metadata": {},
     "output_type": "execute_result"
    }
   ],
   "source": [
    "v_01_scenario.applied_projects"
   ]
  },
  {
   "cell_type": "code",
   "execution_count": 71,
   "metadata": {},
   "outputs": [
    {
     "data": {
      "text/plain": [
       "(2221035, 36)"
      ]
     },
     "execution_count": 71,
     "metadata": {},
     "output_type": "execute_result"
    }
   ],
   "source": [
    "v_01_scenario.road_net.links_df.shape"
   ]
  },
  {
   "cell_type": "code",
   "execution_count": 72,
   "metadata": {},
   "outputs": [
    {
     "data": {
      "text/plain": [
       "Index(['access', 'bike_access', 'drive_access', 'fromIntersectionId', 'lanes',\n",
       "       'maxspeed', 'name', 'oneWay', 'ref', 'roadway', 'shstGeometryId',\n",
       "       'shstReferenceId', 'toIntersectionId', 'u', 'v', 'walk_access', 'wayId',\n",
       "       'county', 'model_link_id', 'A', 'B', 'rail_traveltime', 'rail_only',\n",
       "       'locationReferences', 'shape_id', 'geometry', 'ft', 'useclass',\n",
       "       'assignable', 'transit', 'managed', 'ML_lanes', 'segment_id',\n",
       "       'ML_useclass', 'ML_access', 'ML_egress'],\n",
       "      dtype='object')"
      ]
     },
     "execution_count": 72,
     "metadata": {},
     "output_type": "execute_result"
    }
   ],
   "source": [
    "v_01_scenario.road_net.links_df.columns"
   ]
  },
  {
   "cell_type": "code",
   "execution_count": 73,
   "metadata": {},
   "outputs": [
    {
     "data": {
      "text/plain": [
       "0    2221005\n",
       "1         30\n",
       "Name: managed, dtype: int64"
      ]
     },
     "execution_count": 73,
     "metadata": {},
     "output_type": "execute_result"
    }
   ],
   "source": [
    "v_01_scenario.road_net.links_df.managed.value_counts()"
   ]
  },
  {
   "cell_type": "markdown",
   "metadata": {},
   "source": [
    "## Make Travel Model Networks"
   ]
  },
  {
   "cell_type": "code",
   "execution_count": 74,
   "metadata": {},
   "outputs": [
    {
     "name": "stdout",
     "output_type": "stream",
     "text": [
      "2020-10-27 16:44:40, INFO: Lasso base directory set as: Z:/Data/Users/Sijia/MTC/github/Lasso\n",
      "2020-10-27 16:44:40, INFO: Lasso base directory set as: Z:/Data/Users/Sijia/MTC/github/Lasso\n"
     ]
    }
   ],
   "source": [
    "model_net = ModelRoadwayNetwork.from_RoadwayNetwork(\n",
    "    roadway_network_object = v_01_scenario.road_net, \n",
    "    parameters = parameters)"
   ]
  },
  {
   "cell_type": "code",
   "execution_count": 75,
   "metadata": {},
   "outputs": [
    {
     "name": "stdout",
     "output_type": "stream",
     "text": [
      "(2221035, 36)\n",
      "(688952, 11)\n",
      "(1163103, 7)\n"
     ]
    }
   ],
   "source": [
    "print(model_net.links_df.shape)\n",
    "print(model_net.nodes_df.shape)\n",
    "print(model_net.shapes_df.shape)"
   ]
  },
  {
   "cell_type": "code",
   "execution_count": 76,
   "metadata": {
    "scrolled": false
   },
   "outputs": [
    {
     "name": "stdout",
     "output_type": "stream",
     "text": [
      "2020-10-27 16:45:32, INFO: Renaming roadway attributes to be consistent with what mtc's model is expecting\n",
      "2020-10-27 16:45:32, INFO: Renaming roadway attributes to be consistent with what mtc's model is expecting\n",
      "(2221035, 36)\n",
      "2020-10-27 16:45:32, INFO: Creating managed lane network.\n",
      "2020-10-27 16:45:32, INFO: Creating managed lane network.\n",
      "2020-10-27 16:45:32, INFO: Creating network with duplicated managed lanes\n",
      "2020-10-27 16:45:32, INFO: Creating network with duplicated managed lanes\n"
     ]
    },
    {
     "name": "stderr",
     "output_type": "stream",
     "text": [
      "c:\\users\\wangs1\\.conda\\envs\\lasso_mtc\\lib\\site-packages\\geopandas\\geodataframe.py:852: UserWarning: Geometry column does not contain geometry.\n",
      "  warnings.warn(\"Geometry column does not contain geometry.\")\n",
      "c:\\users\\wangs1\\.conda\\envs\\lasso_mtc\\lib\\site-packages\\pandas\\core\\frame.py:7138: FutureWarning: Sorting because non-concatenation axis is not aligned. A future version\n",
      "of pandas will change to not sort by default.\n",
      "\n",
      "To accept the future behavior, pass 'sort=False'.\n",
      "\n",
      "To retain the current behavior and silence the warning, pass 'sort=True'.\n",
      "\n",
      "  sort=sort,\n",
      "c:\\users\\wangs1\\.conda\\envs\\lasso_mtc\\lib\\site-packages\\pandas\\core\\frame.py:7138: FutureWarning: Sorting because non-concatenation axis is not aligned. A future version\n",
      "of pandas will change to not sort by default.\n",
      "\n",
      "To accept the future behavior, pass 'sort=False'.\n",
      "\n",
      "To retain the current behavior and silence the warning, pass 'sort=True'.\n",
      "\n",
      "  sort=sort,\n"
     ]
    },
    {
     "name": "stdout",
     "output_type": "stream",
     "text": [
      "(2221125, 36)\n",
      "2020-10-27 16:46:27, INFO: Calculating Facility Type\n",
      "2020-10-27 16:46:27, INFO: Calculating Facility Type\n",
      "2020-10-27 16:46:27, INFO: Lasso base directory set as: Z:/Data/Users/Sijia/MTC/github/Lasso\n",
      "2020-10-27 16:46:27, INFO: Lasso base directory set as: Z:/Data/Users/Sijia/MTC/github/Lasso\n",
      "2020-10-27 16:46:27, INFO: Variable 'ft' updated for some links. Returning without overwriting for those links. Calculating for other links\n",
      "2020-10-27 16:46:27, INFO: Variable 'ft' updated for some links. Returning without overwriting for those links. Calculating for other links\n",
      "2020-10-27 16:49:31, INFO: Finished calculating roadway class variable: ft\n",
      "2020-10-27 16:49:31, INFO: Finished calculating roadway class variable: ft\n",
      "2020-10-27 16:49:32, INFO: Determining assignable\n",
      "2020-10-27 16:49:32, INFO: Determining assignable\n",
      "2020-10-27 16:49:32, INFO: Lasso base directory set as: Z:/Data/Users/Sijia/MTC/github/Lasso\n",
      "2020-10-27 16:49:32, INFO: Lasso base directory set as: Z:/Data/Users/Sijia/MTC/github/Lasso\n",
      "2020-10-27 16:49:32, INFO: Variable 'assignable' already in network. Returning without overwriting.\n",
      "2020-10-27 16:49:32, INFO: Variable 'assignable' already in network. Returning without overwriting.\n",
      "2020-10-27 16:49:32, INFO: Determining cntype\n",
      "2020-10-27 16:49:32, INFO: Determining cntype\n",
      "2020-10-27 16:49:32, INFO: Lasso base directory set as: Z:/Data/Users/Sijia/MTC/github/Lasso\n",
      "2020-10-27 16:49:32, INFO: Lasso base directory set as: Z:/Data/Users/Sijia/MTC/github/Lasso\n",
      "2020-10-27 16:49:32, INFO: Calculating and adding roadway network variable: cntype\n",
      "2020-10-27 16:49:32, INFO: Calculating and adding roadway network variable: cntype\n",
      "2020-10-27 16:50:43, INFO: Finished determining assignable using variable: cntype\n",
      "2020-10-27 16:50:43, INFO: Finished determining assignable using variable: cntype\n",
      "2020-10-27 16:50:43, INFO: Determining assignable\n",
      "2020-10-27 16:50:43, INFO: Determining assignable\n",
      "2020-10-27 16:50:43, INFO: Lasso base directory set as: Z:/Data/Users/Sijia/MTC/github/Lasso\n",
      "2020-10-27 16:50:43, INFO: Lasso base directory set as: Z:/Data/Users/Sijia/MTC/github/Lasso\n",
      "2020-10-27 16:50:43, INFO: Variable 'transit' already in network. Returning without overwriting.\n",
      "2020-10-27 16:50:43, INFO: Variable 'transit' already in network. Returning without overwriting.\n",
      "2020-10-27 16:50:43, INFO: Determining useclass\n",
      "2020-10-27 16:50:43, INFO: Determining useclass\n",
      "2020-10-27 16:50:43, INFO: Lasso base directory set as: Z:/Data/Users/Sijia/MTC/github/Lasso\n",
      "2020-10-27 16:50:43, INFO: Lasso base directory set as: Z:/Data/Users/Sijia/MTC/github/Lasso\n",
      "2020-10-27 16:50:43, INFO: Variable 'useclass' updated for some links. Returning without overwriting for those links. Calculating for other links\n",
      "2020-10-27 16:50:43, INFO: Variable 'useclass' updated for some links. Returning without overwriting for those links. Calculating for other links\n",
      "2020-10-27 16:50:43, INFO: Calculating and adding roadway network variable: useclass\n",
      "2020-10-27 16:50:43, INFO: Calculating and adding roadway network variable: useclass\n",
      "2020-10-27 16:50:43, INFO: Finished determining transit-only variable: useclass\n",
      "2020-10-27 16:50:43, INFO: Finished determining transit-only variable: useclass\n",
      "2020-10-27 16:50:43, INFO: Overwriting existing distance Variable 'distance' already in network\n",
      "2020-10-27 16:50:43, INFO: Overwriting existing distance Variable 'distance' already in network\n",
      "2020-10-27 16:52:00, INFO: Calculating distance for all links\n",
      "2020-10-27 16:52:00, INFO: Calculating distance for all links\n",
      "2020-10-27 16:52:08, INFO: Filling nan for network from network wrangler\n",
      "2020-10-27 16:52:08, INFO: Filling nan for network from network wrangler\n",
      "2020-10-27 16:52:33, INFO: Splitting variables by time period and category\n",
      "2020-10-27 16:52:33, INFO: Splitting variables by time period and category\n",
      "2020-10-27 16:52:41, WARNING: Specified variable to split: ML_lanes not in network variables: Index(['index', 'A', 'B', 'access', 'assignable', 'bike_access', 'county',\n",
      "       'distance', 'drive_access', 'egress', 'fromIntersectionId', 'ft',\n",
      "       'geometry', 'id', 'lanes', 'locationReferences', 'managed', 'maxspeed',\n",
      "       'model_link_id', 'name', 'oneWay', 'rail_only', 'rail_traveltime',\n",
      "       'ref', 'roadway', 'segment_id', 'shape_id', 'shstGeometryId',\n",
      "       'shstReferenceId', 'toIntersectionId', 'transit', 'u', 'useclass', 'v',\n",
      "       'walk_access', 'wayId', 'ft_cal', 'cntype', 'lanes_EA', 'lanes_AM',\n",
      "       'lanes_MD', 'lanes_PM', 'lanes_EV'],\n",
      "      dtype='object'). Returning 0.\n",
      "2020-10-27 16:52:41, WARNING: Specified variable to split: ML_lanes not in network variables: Index(['index', 'A', 'B', 'access', 'assignable', 'bike_access', 'county',\n",
      "       'distance', 'drive_access', 'egress', 'fromIntersectionId', 'ft',\n",
      "       'geometry', 'id', 'lanes', 'locationReferences', 'managed', 'maxspeed',\n",
      "       'model_link_id', 'name', 'oneWay', 'rail_only', 'rail_traveltime',\n",
      "       'ref', 'roadway', 'segment_id', 'shape_id', 'shstGeometryId',\n",
      "       'shstReferenceId', 'toIntersectionId', 'transit', 'u', 'useclass', 'v',\n",
      "       'walk_access', 'wayId', 'ft_cal', 'cntype', 'lanes_EA', 'lanes_AM',\n",
      "       'lanes_MD', 'lanes_PM', 'lanes_EV'],\n",
      "      dtype='object'). Returning 0.\n",
      "2020-10-27 16:52:49, INFO: Converting variable type to mtc standard\n",
      "2020-10-27 16:52:49, INFO: Converting variable type to mtc standard\n",
      "2020-10-27 16:52:54, INFO: Setting Coordinate Reference System to ESRI:102646\n",
      "2020-10-27 16:52:54, INFO: Setting Coordinate Reference System to ESRI:102646\n"
     ]
    }
   ],
   "source": [
    "model_net = mtc.roadway_standard_to_mtc_network(model_net, parameters)"
   ]
  },
  {
   "cell_type": "code",
   "execution_count": 77,
   "metadata": {},
   "outputs": [
    {
     "data": {
      "text/plain": [
       "1     2072753\n",
       "2      104198\n",
       "3       22434\n",
       "4       14124\n",
       "5        6504\n",
       "6         929\n",
       "7         134\n",
       "88         30\n",
       "8          18\n",
       "9           1\n",
       "Name: lanes_AM, dtype: int64"
      ]
     },
     "execution_count": 77,
     "metadata": {},
     "output_type": "execute_result"
    }
   ],
   "source": [
    "model_net.links_df.lanes_AM.value_counts()"
   ]
  },
  {
   "cell_type": "code",
   "execution_count": 78,
   "metadata": {},
   "outputs": [
    {
     "name": "stdout",
     "output_type": "stream",
     "text": [
      "(2221125, 53)\n",
      "(688983, 13)\n",
      "(1163193, 8)\n"
     ]
    }
   ],
   "source": [
    "print(model_net.links_df.shape)\n",
    "print(model_net.nodes_df.shape)\n",
    "print(model_net.shapes_df.shape)"
   ]
  },
  {
   "cell_type": "markdown",
   "metadata": {},
   "source": [
    "## Write to Disk"
   ]
  },
  {
   "cell_type": "markdown",
   "metadata": {},
   "source": [
    "## As shapefile"
   ]
  },
  {
   "cell_type": "code",
   "execution_count": 80,
   "metadata": {},
   "outputs": [
    {
     "name": "stdout",
     "output_type": "stream",
     "text": [
      "2020-10-27 16:56:12, INFO: Writing Network as Shapefile\n",
      "2020-10-27 16:56:12, INFO: Writing Network as Shapefile\n",
      "2020-10-27 16:56:12, INFO: Renaming DBF Node Variables\n",
      "2020-10-27 16:56:12, INFO: Renaming DBF Node Variables\n",
      "2020-10-27 16:56:12, INFO: Renaming variables so that they are DBF-safe\n",
      "2020-10-27 16:56:12, INFO: Renaming variables so that they are DBF-safe\n",
      "2020-10-27 16:56:25, INFO: Renaming DBF Link Variables\n",
      "2020-10-27 16:56:25, INFO: Renaming DBF Link Variables\n",
      "2020-10-27 16:56:25, INFO: Renaming variables so that they are DBF-safe\n",
      "2020-10-27 16:56:25, INFO: Renaming variables so that they are DBF-safe\n",
      "2020-10-27 16:56:33, INFO: Writing Node Shapes:\n",
      " - Z:/Data/Users/Sijia/MTC/github/travel-model-two-networks\\data\\processed\\version_02\\nodes.shp\n",
      "2020-10-27 16:56:33, INFO: Writing Node Shapes:\n",
      " - Z:/Data/Users/Sijia/MTC/github/travel-model-two-networks\\data\\processed\\version_02\\nodes.shp\n",
      "2020-10-27 16:57:25, INFO: Writing Link Shapes:\n",
      " - Z:/Data/Users/Sijia/MTC/github/travel-model-two-networks\\data\\processed\\version_02\\links.shp\n",
      "2020-10-27 16:57:25, INFO: Writing Link Shapes:\n",
      " - Z:/Data/Users/Sijia/MTC/github/travel-model-two-networks\\data\\processed\\version_02\\links.shp\n"
     ]
    }
   ],
   "source": [
    "model_net.write_roadway_as_shp(\n",
    "    output_link_shp = os.path.join(output_dir, 'links.shp'),\n",
    "    output_node_shp = os.path.join(output_dir, 'nodes.shp'),\n",
    "    link_output_variables = [\"model_link_id\", \"A\", \"B\", \"geometry\"],\n",
    "    node_output_variables = [\"model_node_id\", \"geometry\"],\n",
    "    data_to_csv = False,\n",
    "    data_to_dbf = True,\n",
    ")"
   ]
  },
  {
   "cell_type": "markdown",
   "metadata": {},
   "source": [
    "## As fixed width (for CUBE)"
   ]
  },
  {
   "cell_type": "code",
   "execution_count": null,
   "metadata": {},
   "outputs": [],
   "source": [
    "model_net.write_roadway_as_fixedwidth(\n",
    "    output_link_txt = os.path.join(output_dir, 'links.txt'),\n",
    "    output_node_txt = os.path.join(output_dir, 'nodes.txt'),\n",
    "    output_link_header_width_txt = os.path.join(output_dir, 'links_header_width.txt'),\n",
    "    output_node_header_width_txt = os.path.join(output_dir, 'nodes_header_width.txt'),\n",
    "    output_cube_network_script = os.path.join(output_dir, 'make_complete_network_from_fixed_width_file.s'),\n",
    "    #drive_only = True\n",
    ")"
   ]
  },
  {
   "cell_type": "code",
   "execution_count": null,
   "metadata": {},
   "outputs": [],
   "source": [
    "from subprocess import Popen\n",
    "\n",
    "os.chdir(output_dir)\n",
    "p = Popen(\"make_cube.bat\")\n",
    "p.communicate()"
   ]
  },
  {
   "cell_type": "markdown",
   "metadata": {},
   "source": [
    "## As pickle"
   ]
  },
  {
   "cell_type": "code",
   "execution_count": null,
   "metadata": {},
   "outputs": [],
   "source": [
    "working_scenario_filename = os.path.join(output_dir, 'working_scenario_01.pickle')\n",
    "pickle.dump(v_01_scenario, open(working_scenario_filename, 'wb'))"
   ]
  }
 ],
 "metadata": {
  "kernelspec": {
   "display_name": "Python 3",
   "language": "python",
   "name": "python3"
  },
  "language_info": {
   "codemirror_mode": {
    "name": "ipython",
    "version": 3
   },
   "file_extension": ".py",
   "mimetype": "text/x-python",
   "name": "python",
   "nbconvert_exporter": "python",
   "pygments_lexer": "ipython3",
   "version": "3.7.9"
  }
 },
 "nbformat": 4,
 "nbformat_minor": 4
}
