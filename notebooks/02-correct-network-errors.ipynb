{
 "cells": [
  {
   "cell_type": "markdown",
   "metadata": {},
   "source": [
    "# 02 Correct Network Errors with Project Cards"
   ]
  },
  {
   "cell_type": "code",
   "execution_count": 1,
   "metadata": {},
   "outputs": [],
   "source": [
    "import os\n",
    "import sys\n",
    "import yaml\n",
    "import pickle\n",
    "import glob\n",
    "\n",
    "import pandas as pd\n",
    "\n",
    "from network_wrangler import RoadwayNetwork\n",
    "from network_wrangler import TransitNetwork\n",
    "from network_wrangler import ProjectCard\n",
    "from network_wrangler import Scenario\n",
    "from network_wrangler import WranglerLogger\n",
    "\n",
    "from lasso import ModelRoadwayNetwork\n",
    "from lasso import StandardTransit\n",
    "from lasso import Parameters\n",
    "from lasso import mtc\n"
   ]
  },
  {
   "cell_type": "code",
   "execution_count": 2,
   "metadata": {},
   "outputs": [],
   "source": [
    "%load_ext autoreload\n",
    "%autoreload 2"
   ]
  },
  {
   "cell_type": "code",
   "execution_count": 3,
   "metadata": {},
   "outputs": [],
   "source": [
    "import logging\n",
    "logger = logging.getLogger(\"WranglerLogger\")\n",
    "logger.handlers[0].stream = sys.stdout\n",
    "logger.setLevel(logging.INFO)"
   ]
  },
  {
   "cell_type": "markdown",
   "metadata": {},
   "source": [
    "## Remote I/O and Parameters"
   ]
  },
  {
   "cell_type": "code",
   "execution_count": 4,
   "metadata": {},
   "outputs": [],
   "source": [
    "# root_dir = os.path.join('/Users', 'wsp', 'Documents', 'GitHub', 'travel-model-two-networks')\n",
    "root_dir = \"D:/github/lfs-cleaning/travel-model-two-networks\"\n",
    "input_dir = os.path.join(root_dir, 'data', 'processed', 'version_03')\n",
    "output_dir = os.path.join(root_dir, 'data', 'processed', 'version_04')\n",
    "card_dir = os.path.join(root_dir, 'project_cards')\n",
    "# lasso_dir = os.path.join('/Users', 'wsp', 'Documents', 'GitHub', 'mtc-Lasso')\n",
    "lasso_dir = \"Z:/Data/Users/Sijia/MTC/github/Lasso\""
   ]
  },
  {
   "cell_type": "code",
   "execution_count": 5,
   "metadata": {
    "scrolled": true
   },
   "outputs": [
    {
     "name": "stdout",
     "output_type": "stream",
     "text": [
      "2021-02-18 18:07:52, INFO: Lasso base directory set as: Z:/Data/Users/Sijia/MTC/github/Lasso\n",
      "2021-02-18 18:07:52, INFO: Lasso base directory set as: Z:/Data/Users/Sijia/MTC/github/Lasso\n",
      "2021-02-18 18:07:52, INFO: Lasso base directory set as: Z:/Data/Users/Sijia/MTC/github/Lasso\n",
      "2021-02-18 18:07:52, INFO: Lasso base directory set as: Z:/Data/Users/Sijia/MTC/github/Lasso\n"
     ]
    }
   ],
   "source": [
    "parameters = Parameters(lasso_base_dir = lasso_dir)"
   ]
  },
  {
   "cell_type": "markdown",
   "metadata": {},
   "source": [
    "## Read Version 01 Scenario"
   ]
  },
  {
   "cell_type": "code",
   "execution_count": 6,
   "metadata": {},
   "outputs": [],
   "source": [
    "version_01_pickle_file_name = os.path.join(input_dir, 'working_scenario_01.pickle')\n",
    "v_01_scenario = pickle.load(open(version_01_pickle_file_name, 'rb'))"
   ]
  },
  {
   "cell_type": "code",
   "execution_count": 7,
   "metadata": {},
   "outputs": [
    {
     "data": {
      "text/plain": [
       "(1634769, 31)"
      ]
     },
     "execution_count": 7,
     "metadata": {},
     "output_type": "execute_result"
    }
   ],
   "source": [
    "v_01_scenario.road_net.links_df.shape"
   ]
  },
  {
   "cell_type": "code",
   "execution_count": 8,
   "metadata": {},
   "outputs": [
    {
     "name": "stdout",
     "output_type": "stream",
     "text": [
      "<class 'pandas.core.frame.DataFrame'>\n",
      "RangeIndex: 701 entries, 0 to 700\n",
      "Data columns (total 16 columns):\n",
      "route_id_original         701 non-null object\n",
      "agency_id                 604 non-null object\n",
      "route_short_name          665 non-null object\n",
      "route_long_name           679 non-null object\n",
      "route_desc                14 non-null object\n",
      "route_type                701 non-null int64\n",
      "route_url                 217 non-null object\n",
      "route_color               260 non-null object\n",
      "route_text_color          243 non-null object\n",
      "agency_raw_name           701 non-null object\n",
      "route_sort_order          95 non-null object\n",
      "min_headway_minutes       32 non-null object\n",
      "eligibility_restricted    4 non-null object\n",
      "continuous_pickup         4 non-null object\n",
      "continuous_drop_off       4 non-null object\n",
      "route_id                  701 non-null object\n",
      "dtypes: int64(1), object(15)\n",
      "memory usage: 87.8+ KB\n"
     ]
    }
   ],
   "source": [
    "v_01_scenario.transit_net.feed.routes.info()"
   ]
  },
  {
   "cell_type": "markdown",
   "metadata": {},
   "source": [
    "## Create Scenario and Apply Project Cards"
   ]
  },
  {
   "cell_type": "code",
   "execution_count": 9,
   "metadata": {},
   "outputs": [
    {
     "name": "stdout",
     "output_type": "stream",
     "text": [
      "2021-02-18 18:09:07, INFO: Creating Scenario\n",
      "2021-02-18 18:09:07, INFO: Creating Scenario\n"
     ]
    }
   ],
   "source": [
    "v_02_scenario = Scenario.create_scenario(\n",
    "    base_scenario=v_01_scenario,\n",
    "    card_directory = card_dir,\n",
    "    tags = ['highway review'],\n",
    "    validate_project_cards=False)"
   ]
  },
  {
   "cell_type": "code",
   "execution_count": 10,
   "metadata": {
    "scrolled": false
   },
   "outputs": [
    {
     "name": "stdout",
     "output_type": "stream",
     "text": [
      "2021-02-18 18:09:17, INFO: Applying Year 2015 Modify Facility Type to Service\n",
      "2021-02-18 18:09:17, INFO: Applying Year 2015 Modify Facility Type to Service\n",
      "2021-02-18 18:09:17, INFO: Applying Year 2015 Modify Facility Type to Service\n",
      "2021-02-18 18:09:17, INFO: Applying Year 2015 Modify Facility Type to Service\n",
      "2021-02-18 18:09:17, INFO: Applying Project to Roadway Network: Year 2015 Modify Facility Type to Service\n",
      "2021-02-18 18:09:17, INFO: Applying Project to Roadway Network: Year 2015 Modify Facility Type to Service\n"
     ]
    },
    {
     "name": "stderr",
     "output_type": "stream",
     "text": [
      "c:\\users\\wangs1\\.conda\\envs\\lasso_mtc\\lib\\site-packages\\geopandas\\geodataframe.py:853: SettingWithCopyWarning: \n",
      "A value is trying to be set on a copy of a slice from a DataFrame.\n",
      "Try using .loc[row_indexer,col_indexer] = value instead\n",
      "\n",
      "See the caveats in the documentation: http://pandas.pydata.org/pandas-docs/stable/user_guide/indexing.html#returning-a-view-versus-a-copy\n",
      "  super(GeoDataFrame, self).__setitem__(key, value)\n"
     ]
    },
    {
     "name": "stdout",
     "output_type": "stream",
     "text": [
      "2021-02-18 18:09:17, INFO: Applying Year 2015 Modify Facility Type to Ramp shape incorrect\n",
      "2021-02-18 18:09:17, INFO: Applying Year 2015 Modify Facility Type to Ramp shape incorrect\n",
      "2021-02-18 18:09:17, INFO: Applying Year 2015 Modify Facility Type to Ramp shape incorrect\n",
      "2021-02-18 18:09:17, INFO: Applying Year 2015 Modify Facility Type to Ramp shape incorrect\n",
      "2021-02-18 18:09:17, INFO: Applying Project to Roadway Network: Year 2015 Modify Facility Type to Ramp shape incorrect\n",
      "2021-02-18 18:09:17, INFO: Applying Project to Roadway Network: Year 2015 Modify Facility Type to Ramp shape incorrect\n",
      "2021-02-18 18:09:18, INFO: Applying Year 2015 Modify Facility Type to Ramp\n",
      "2021-02-18 18:09:18, INFO: Applying Year 2015 Modify Facility Type to Ramp\n",
      "2021-02-18 18:09:18, INFO: Applying Year 2015 Modify Facility Type to Ramp\n",
      "2021-02-18 18:09:18, INFO: Applying Year 2015 Modify Facility Type to Ramp\n",
      "2021-02-18 18:09:18, INFO: Applying Project to Roadway Network: Year 2015 Modify Facility Type to Ramp\n",
      "2021-02-18 18:09:18, INFO: Applying Project to Roadway Network: Year 2015 Modify Facility Type to Ramp\n",
      "2021-02-18 18:09:20, INFO: Applying Year 2015 Modify Lanes to 2 Lane and Facility Type to Ramp shape incorrect\n",
      "2021-02-18 18:09:20, INFO: Applying Year 2015 Modify Lanes to 2 Lane and Facility Type to Ramp shape incorrect\n",
      "2021-02-18 18:09:20, INFO: Applying Year 2015 Modify Lanes to 2 Lane and Facility Type to Ramp shape incorrect\n",
      "2021-02-18 18:09:20, INFO: Applying Year 2015 Modify Lanes to 2 Lane and Facility Type to Ramp shape incorrect\n",
      "2021-02-18 18:09:20, INFO: Applying Project to Roadway Network: Year 2015 Modify Lanes to 2 Lane and Facility Type to Ramp shape incorrect\n",
      "2021-02-18 18:09:20, INFO: Applying Project to Roadway Network: Year 2015 Modify Lanes to 2 Lane and Facility Type to Ramp shape incorrect\n",
      "2021-02-18 18:09:21, INFO: Applying Year 2015 Modify Lanes to 2 Lane and Facility Type to Ramp\n",
      "2021-02-18 18:09:21, INFO: Applying Year 2015 Modify Lanes to 2 Lane and Facility Type to Ramp\n",
      "2021-02-18 18:09:21, INFO: Applying Year 2015 Modify Lanes to 2 Lane and Facility Type to Ramp\n",
      "2021-02-18 18:09:21, INFO: Applying Year 2015 Modify Lanes to 2 Lane and Facility Type to Ramp\n",
      "2021-02-18 18:09:21, INFO: Applying Project to Roadway Network: Year 2015 Modify Lanes to 2 Lane and Facility Type to Ramp\n",
      "2021-02-18 18:09:21, INFO: Applying Project to Roadway Network: Year 2015 Modify Lanes to 2 Lane and Facility Type to Ramp\n",
      "2021-02-18 18:09:21, INFO: Applying Year 2015 Modify Lanes to 1 Lane and Facility Type to Ramp\n",
      "2021-02-18 18:09:21, INFO: Applying Year 2015 Modify Lanes to 1 Lane and Facility Type to Ramp\n",
      "2021-02-18 18:09:21, INFO: Applying Year 2015 Modify Lanes to 1 Lane and Facility Type to Ramp\n",
      "2021-02-18 18:09:21, INFO: Applying Year 2015 Modify Lanes to 1 Lane and Facility Type to Ramp\n",
      "2021-02-18 18:09:22, INFO: Applying Project to Roadway Network: Year 2015 Modify Lanes to 1 Lane and Facility Type to Ramp\n",
      "2021-02-18 18:09:22, INFO: Applying Project to Roadway Network: Year 2015 Modify Lanes to 1 Lane and Facility Type to Ramp\n",
      "2021-02-18 18:09:22, INFO: Applying Year 2015 Bus Only Segments\n",
      "2021-02-18 18:09:22, INFO: Applying Year 2015 Bus Only Segments\n",
      "2021-02-18 18:09:22, INFO: Applying Year 2015 Bus Only Segments\n",
      "2021-02-18 18:09:22, INFO: Applying Year 2015 Bus Only Segments\n",
      "2021-02-18 18:09:22, INFO: Applying Project to Roadway Network: Year 2015 Bus Only Segments\n",
      "2021-02-18 18:09:22, INFO: Applying Project to Roadway Network: Year 2015 Bus Only Segments\n",
      "2021-02-18 18:09:23, INFO: Applying Year 2015 Modify Lanes to 7 Lanes\n",
      "2021-02-18 18:09:23, INFO: Applying Year 2015 Modify Lanes to 7 Lanes\n",
      "2021-02-18 18:09:23, INFO: Applying Year 2015 Modify Lanes to 7 Lanes\n",
      "2021-02-18 18:09:23, INFO: Applying Year 2015 Modify Lanes to 7 Lanes\n",
      "2021-02-18 18:09:23, INFO: Applying Project to Roadway Network: Year 2015 Modify Lanes to 7 Lanes\n",
      "2021-02-18 18:09:23, INFO: Applying Project to Roadway Network: Year 2015 Modify Lanes to 7 Lanes\n",
      "2021-02-18 18:09:25, INFO: Applying Year 2015 Modify Lanes to 6 Lanes\n",
      "2021-02-18 18:09:25, INFO: Applying Year 2015 Modify Lanes to 6 Lanes\n",
      "2021-02-18 18:09:25, INFO: Applying Year 2015 Modify Lanes to 6 Lanes\n",
      "2021-02-18 18:09:25, INFO: Applying Year 2015 Modify Lanes to 6 Lanes\n",
      "2021-02-18 18:09:25, INFO: Applying Project to Roadway Network: Year 2015 Modify Lanes to 6 Lanes\n",
      "2021-02-18 18:09:25, INFO: Applying Project to Roadway Network: Year 2015 Modify Lanes to 6 Lanes\n",
      "2021-02-18 18:09:26, INFO: Applying Year 2015 Modify Lanes to 5 Lanes\n",
      "2021-02-18 18:09:26, INFO: Applying Year 2015 Modify Lanes to 5 Lanes\n",
      "2021-02-18 18:09:26, INFO: Applying Year 2015 Modify Lanes to 5 Lanes\n",
      "2021-02-18 18:09:26, INFO: Applying Year 2015 Modify Lanes to 5 Lanes\n",
      "2021-02-18 18:09:26, INFO: Applying Project to Roadway Network: Year 2015 Modify Lanes to 5 Lanes\n",
      "2021-02-18 18:09:26, INFO: Applying Project to Roadway Network: Year 2015 Modify Lanes to 5 Lanes\n",
      "2021-02-18 18:09:28, INFO: Applying Year 2015 Modify Lanes to 4 Lanes\n",
      "2021-02-18 18:09:28, INFO: Applying Year 2015 Modify Lanes to 4 Lanes\n",
      "2021-02-18 18:09:28, INFO: Applying Year 2015 Modify Lanes to 4 Lanes\n",
      "2021-02-18 18:09:28, INFO: Applying Year 2015 Modify Lanes to 4 Lanes\n",
      "2021-02-18 18:09:28, INFO: Applying Project to Roadway Network: Year 2015 Modify Lanes to 4 Lanes\n",
      "2021-02-18 18:09:28, INFO: Applying Project to Roadway Network: Year 2015 Modify Lanes to 4 Lanes\n",
      "2021-02-18 18:09:29, INFO: Applying Year 2015 Modify Lanes to 3 Lanes\n",
      "2021-02-18 18:09:29, INFO: Applying Year 2015 Modify Lanes to 3 Lanes\n",
      "2021-02-18 18:09:29, INFO: Applying Year 2015 Modify Lanes to 3 Lanes\n",
      "2021-02-18 18:09:29, INFO: Applying Year 2015 Modify Lanes to 3 Lanes\n",
      "2021-02-18 18:09:29, INFO: Applying Project to Roadway Network: Year 2015 Modify Lanes to 3 Lanes\n",
      "2021-02-18 18:09:29, INFO: Applying Project to Roadway Network: Year 2015 Modify Lanes to 3 Lanes\n",
      "2021-02-18 18:09:30, INFO: Applying Year 2015 Modify Lanes to 2 Lanes\n",
      "2021-02-18 18:09:30, INFO: Applying Year 2015 Modify Lanes to 2 Lanes\n",
      "2021-02-18 18:09:30, INFO: Applying Year 2015 Modify Lanes to 2 Lanes\n",
      "2021-02-18 18:09:30, INFO: Applying Year 2015 Modify Lanes to 2 Lanes\n",
      "2021-02-18 18:09:30, INFO: Applying Project to Roadway Network: Year 2015 Modify Lanes to 2 Lanes\n",
      "2021-02-18 18:09:30, INFO: Applying Project to Roadway Network: Year 2015 Modify Lanes to 2 Lanes\n",
      "2021-02-18 18:09:31, INFO: Applying Year 2015 Modify Lanes to 1 Lane\n",
      "2021-02-18 18:09:31, INFO: Applying Year 2015 Modify Lanes to 1 Lane\n",
      "2021-02-18 18:09:31, INFO: Applying Year 2015 Modify Lanes to 1 Lane\n",
      "2021-02-18 18:09:31, INFO: Applying Year 2015 Modify Lanes to 1 Lane\n",
      "2021-02-18 18:09:31, INFO: Applying Project to Roadway Network: Year 2015 Modify Lanes to 1 Lane\n",
      "2021-02-18 18:09:31, INFO: Applying Project to Roadway Network: Year 2015 Modify Lanes to 1 Lane\n",
      "2021-02-18 18:09:31, INFO: Applying Year 2015 Modify Lanes to 14 Lanes\n",
      "2021-02-18 18:09:31, INFO: Applying Year 2015 Modify Lanes to 14 Lanes\n",
      "2021-02-18 18:09:31, INFO: Applying Year 2015 Modify Lanes to 14 Lanes\n",
      "2021-02-18 18:09:31, INFO: Applying Year 2015 Modify Lanes to 14 Lanes\n",
      "2021-02-18 18:09:31, INFO: Applying Project to Roadway Network: Year 2015 Modify Lanes to 14 Lanes\n",
      "2021-02-18 18:09:31, INFO: Applying Project to Roadway Network: Year 2015 Modify Lanes to 14 Lanes\n"
     ]
    }
   ],
   "source": [
    "v_02_scenario.apply_all_projects()"
   ]
  },
  {
   "cell_type": "code",
   "execution_count": 11,
   "metadata": {},
   "outputs": [
    {
     "data": {
      "text/plain": [
       "['Year 2015 Modify Facility Type to Service',\n",
       " 'Year 2015 Modify Facility Type to Ramp shape incorrect',\n",
       " 'Year 2015 Modify Facility Type to Ramp',\n",
       " 'Year 2015 Modify Lanes to 2 Lane and Facility Type to Ramp shape incorrect',\n",
       " 'Year 2015 Modify Lanes to 2 Lane and Facility Type to Ramp',\n",
       " 'Year 2015 Modify Lanes to 1 Lane and Facility Type to Ramp',\n",
       " 'Year 2015 Bus Only Segments',\n",
       " 'Year 2015 Modify Lanes to 7 Lanes',\n",
       " 'Year 2015 Modify Lanes to 6 Lanes',\n",
       " 'Year 2015 Modify Lanes to 5 Lanes',\n",
       " 'Year 2015 Modify Lanes to 4 Lanes',\n",
       " 'Year 2015 Modify Lanes to 3 Lanes',\n",
       " 'Year 2015 Modify Lanes to 2 Lanes',\n",
       " 'Year 2015 Modify Lanes to 1 Lane',\n",
       " 'Year 2015 Modify Lanes to 14 Lanes']"
      ]
     },
     "execution_count": 11,
     "metadata": {},
     "output_type": "execute_result"
    }
   ],
   "source": [
    "v_02_scenario.applied_projects"
   ]
  },
  {
   "cell_type": "code",
   "execution_count": 12,
   "metadata": {},
   "outputs": [
    {
     "data": {
      "text/plain": [
       "Index(['access', 'bike_access', 'drive_access', 'fromIntersectionId', 'lanes',\n",
       "       'maxspeed', 'name', 'oneWay', 'ref', 'roadway', 'shstGeometryId',\n",
       "       'shstReferenceId', 'toIntersectionId', 'u', 'v', 'walk_access', 'wayId',\n",
       "       'county', 'model_link_id', 'A', 'B', 'rail_traveltime', 'rail_only',\n",
       "       'locationReferences', 'shape_id', 'geometry', 'ft_cal', 'ft',\n",
       "       'useclass', 'assignable', 'transit', 'bus_only'],\n",
       "      dtype='object')"
      ]
     },
     "execution_count": 12,
     "metadata": {},
     "output_type": "execute_result"
    }
   ],
   "source": [
    "v_02_scenario.road_net.links_df.columns"
   ]
  },
  {
   "cell_type": "code",
   "execution_count": 13,
   "metadata": {},
   "outputs": [
    {
     "data": {
      "text/plain": [
       "Index(['osm_node_id', 'shst_node_id', 'county', 'drive_access', 'walk_access',\n",
       "       'bike_access', 'model_node_id', 'rail_only', 'X', 'Y', 'geometry',\n",
       "       'farezone'],\n",
       "      dtype='object')"
      ]
     },
     "execution_count": 13,
     "metadata": {},
     "output_type": "execute_result"
    }
   ],
   "source": [
    "v_02_scenario.road_net.nodes_df.columns"
   ]
  },
  {
   "cell_type": "markdown",
   "metadata": {},
   "source": [
    "## Make Travel Model Networks"
   ]
  },
  {
   "cell_type": "code",
   "execution_count": 14,
   "metadata": {},
   "outputs": [
    {
     "name": "stdout",
     "output_type": "stream",
     "text": [
      "2021-02-18 18:14:24, INFO: Lasso base directory set as: Z:/Data/Users/Sijia/MTC/github/Lasso\n",
      "2021-02-18 18:14:24, INFO: Lasso base directory set as: Z:/Data/Users/Sijia/MTC/github/Lasso\n",
      "2021-02-18 18:14:24, INFO: Lasso base directory set as: Z:/Data/Users/Sijia/MTC/github/Lasso\n",
      "2021-02-18 18:14:24, INFO: Lasso base directory set as: Z:/Data/Users/Sijia/MTC/github/Lasso\n"
     ]
    }
   ],
   "source": [
    "model_net = ModelRoadwayNetwork.from_RoadwayNetwork(\n",
    "    roadway_network_object = v_02_scenario.road_net, \n",
    "    parameters = parameters)"
   ]
  },
  {
   "cell_type": "code",
   "execution_count": 15,
   "metadata": {},
   "outputs": [
    {
     "name": "stdout",
     "output_type": "stream",
     "text": [
      "(1634769, 32)\n",
      "(644475, 12)\n",
      "(869970, 7)\n"
     ]
    }
   ],
   "source": [
    "print(model_net.links_df.shape)\n",
    "print(model_net.nodes_df.shape)\n",
    "print(model_net.shapes_df.shape)"
   ]
  },
  {
   "cell_type": "code",
   "execution_count": 16,
   "metadata": {},
   "outputs": [
    {
     "name": "stdout",
     "output_type": "stream",
     "text": [
      "2021-02-18 18:16:14, INFO: Adding centroid and centroid connector to standard network\n",
      "2021-02-18 18:16:14, INFO: Adding centroid and centroid connector to standard network\n",
      "2021-02-18 18:16:14, INFO: Lasso base directory set as: Z:/Data/Users/Sijia/MTC/github/Lasso\n",
      "2021-02-18 18:16:14, INFO: Lasso base directory set as: Z:/Data/Users/Sijia/MTC/github/Lasso\n",
      "2021-02-18 18:16:14, INFO: Lasso base directory set as: Z:/Data/Users/Sijia/MTC/github/Lasso\n",
      "2021-02-18 18:16:14, INFO: Lasso base directory set as: Z:/Data/Users/Sijia/MTC/github/Lasso\n",
      "2021-02-18 18:16:27, INFO: Finished adding centroid and centroid connectors\n",
      "2021-02-18 18:16:27, INFO: Finished adding centroid and centroid connectors\n"
     ]
    }
   ],
   "source": [
    "model_net = mtc.add_centroid_and_centroid_connector(\n",
    "    roadway_network = model_net,\n",
    "    parameters = parameters)"
   ]
  },
  {
   "cell_type": "code",
   "execution_count": 17,
   "metadata": {},
   "outputs": [
    {
     "name": "stdout",
     "output_type": "stream",
     "text": [
      "(2190409, 32)\n",
      "(688957, 12)\n",
      "(1147790, 7)\n"
     ]
    }
   ],
   "source": [
    "print(model_net.links_df.shape)\n",
    "print(model_net.nodes_df.shape)\n",
    "print(model_net.shapes_df.shape)"
   ]
  },
  {
   "cell_type": "code",
   "execution_count": 18,
   "metadata": {},
   "outputs": [
    {
     "data": {
      "text/plain": [
       "2190409"
      ]
     },
     "execution_count": 18,
     "metadata": {},
     "output_type": "execute_result"
    }
   ],
   "source": [
    "model_net.links_df.model_link_id.nunique()"
   ]
  },
  {
   "cell_type": "code",
   "execution_count": 19,
   "metadata": {},
   "outputs": [
    {
     "name": "stdout",
     "output_type": "stream",
     "text": [
      "2021-02-18 18:16:36, INFO: Adding tap and tap connector to standard network\n",
      "2021-02-18 18:16:36, INFO: Adding tap and tap connector to standard network\n",
      "2021-02-18 18:16:36, INFO: Lasso base directory set as: Z:/Data/Users/Sijia/MTC/github/Lasso\n",
      "2021-02-18 18:16:36, INFO: Lasso base directory set as: Z:/Data/Users/Sijia/MTC/github/Lasso\n",
      "2021-02-18 18:16:36, INFO: Lasso base directory set as: Z:/Data/Users/Sijia/MTC/github/Lasso\n",
      "2021-02-18 18:16:36, INFO: Lasso base directory set as: Z:/Data/Users/Sijia/MTC/github/Lasso\n",
      "2021-02-18 18:16:44, INFO: Finished adding tap and tap connectors\n",
      "2021-02-18 18:16:44, INFO: Finished adding tap and tap connectors\n"
     ]
    }
   ],
   "source": [
    "model_net = mtc.add_tap_and_tap_connector(\n",
    "    roadway_network = model_net,\n",
    "    parameters = parameters)"
   ]
  },
  {
   "cell_type": "code",
   "execution_count": 20,
   "metadata": {},
   "outputs": [
    {
     "name": "stdout",
     "output_type": "stream",
     "text": [
      "(2225651, 32)\n",
      "(694957, 12)\n",
      "(1165411, 7)\n"
     ]
    }
   ],
   "source": [
    "print(model_net.links_df.shape)\n",
    "print(model_net.nodes_df.shape)\n",
    "print(model_net.shapes_df.shape)"
   ]
  },
  {
   "cell_type": "code",
   "execution_count": 21,
   "metadata": {},
   "outputs": [
    {
     "data": {
      "text/plain": [
       "2225651"
      ]
     },
     "execution_count": 21,
     "metadata": {},
     "output_type": "execute_result"
    }
   ],
   "source": [
    "model_net.links_df.model_link_id.nunique()"
   ]
  },
  {
   "cell_type": "code",
   "execution_count": 22,
   "metadata": {},
   "outputs": [
    {
     "data": {
      "text/plain": [
       "694957"
      ]
     },
     "execution_count": 22,
     "metadata": {},
     "output_type": "execute_result"
    }
   ],
   "source": [
    "model_net.nodes_df.model_node_id.nunique()"
   ]
  },
  {
   "cell_type": "code",
   "execution_count": 23,
   "metadata": {},
   "outputs": [
    {
     "data": {
      "text/plain": [
       "1165411"
      ]
     },
     "execution_count": 23,
     "metadata": {},
     "output_type": "execute_result"
    }
   ],
   "source": [
    "model_net.shapes_df.id.nunique()"
   ]
  },
  {
   "cell_type": "code",
   "execution_count": 23,
   "metadata": {
    "scrolled": true
   },
   "outputs": [
    {
     "name": "stdout",
     "output_type": "stream",
     "text": [
      "2021-02-10 17:34:54, INFO: Renaming roadway attributes to be consistent with what mtc's model is expecting\n",
      "2021-02-10 17:34:54, INFO: Renaming roadway attributes to be consistent with what mtc's model is expecting\n",
      "2021-02-10 17:34:54, INFO: Didn't detect managed lanes in network.\n",
      "2021-02-10 17:34:54, INFO: Didn't detect managed lanes in network.\n",
      "2021-02-10 17:34:54, INFO: Determining cntype\n",
      "2021-02-10 17:34:54, INFO: Determining cntype\n",
      "2021-02-10 17:34:54, INFO: Lasso base directory set as: C:/Users/USGS667806/Lasso\n",
      "2021-02-10 17:34:54, INFO: Lasso base directory set as: C:/Users/USGS667806/Lasso\n",
      "2021-02-10 17:34:54, INFO: Lasso base directory set as: C:/Users/USGS667806/Lasso\n",
      "2021-02-10 17:34:54, INFO: Lasso base directory set as: C:/Users/USGS667806/Lasso\n",
      "2021-02-10 17:34:54, INFO: Calculating and adding roadway network variable: cntype\n",
      "2021-02-10 17:34:54, INFO: Calculating and adding roadway network variable: cntype\n",
      "2021-02-10 17:35:59, INFO: Finished determining variable: cntype\n",
      "2021-02-10 17:35:59, INFO: Finished determining variable: cntype\n",
      "2021-02-10 17:35:59, INFO: Determining transit\n",
      "2021-02-10 17:35:59, INFO: Determining transit\n",
      "2021-02-10 17:35:59, INFO: Lasso base directory set as: C:/Users/USGS667806/Lasso\n",
      "2021-02-10 17:35:59, INFO: Lasso base directory set as: C:/Users/USGS667806/Lasso\n",
      "2021-02-10 17:35:59, INFO: Lasso base directory set as: C:/Users/USGS667806/Lasso\n",
      "2021-02-10 17:35:59, INFO: Lasso base directory set as: C:/Users/USGS667806/Lasso\n",
      "2021-02-10 17:35:59, INFO: Variable 'transit' updated for some links. Returning without overwriting for those links. Calculating for other links\n",
      "2021-02-10 17:35:59, INFO: Variable 'transit' updated for some links. Returning without overwriting for those links. Calculating for other links\n",
      "2021-02-10 17:35:59, INFO: Calculating and adding roadway network variable: transit\n",
      "2021-02-10 17:35:59, INFO: Calculating and adding roadway network variable: transit\n",
      "2021-02-10 17:35:59, INFO: Finished determining transit-only variable: transit\n",
      "2021-02-10 17:35:59, INFO: Finished determining transit-only variable: transit\n",
      "2021-02-10 17:35:59, INFO: Determining useclass\n",
      "2021-02-10 17:35:59, INFO: Determining useclass\n",
      "2021-02-10 17:35:59, INFO: Lasso base directory set as: C:/Users/USGS667806/Lasso\n",
      "2021-02-10 17:35:59, INFO: Lasso base directory set as: C:/Users/USGS667806/Lasso\n",
      "2021-02-10 17:35:59, INFO: Lasso base directory set as: C:/Users/USGS667806/Lasso\n",
      "2021-02-10 17:35:59, INFO: Lasso base directory set as: C:/Users/USGS667806/Lasso\n",
      "2021-02-10 17:35:59, INFO: Variable 'useclass' updated for some links. Returning without overwriting for those links. Calculating for other links\n",
      "2021-02-10 17:35:59, INFO: Variable 'useclass' updated for some links. Returning without overwriting for those links. Calculating for other links\n",
      "2021-02-10 17:35:59, INFO: Calculating and adding roadway network variable: useclass\n",
      "2021-02-10 17:35:59, INFO: Calculating and adding roadway network variable: useclass\n",
      "2021-02-10 17:35:59, INFO: Finished determining variable: useclass\n",
      "2021-02-10 17:35:59, INFO: Finished determining variable: useclass\n",
      "2021-02-10 17:35:59, INFO: Calculating Facility Type\n",
      "2021-02-10 17:35:59, INFO: Calculating Facility Type\n",
      "2021-02-10 17:35:59, INFO: Lasso base directory set as: C:/Users/USGS667806/Lasso\n",
      "2021-02-10 17:35:59, INFO: Lasso base directory set as: C:/Users/USGS667806/Lasso\n",
      "2021-02-10 17:35:59, INFO: Lasso base directory set as: C:/Users/USGS667806/Lasso\n",
      "2021-02-10 17:35:59, INFO: Lasso base directory set as: C:/Users/USGS667806/Lasso\n",
      "2021-02-10 17:35:59, INFO: Variable 'ft' updated for some links. Returning without overwriting for those links. Calculating for other links\n",
      "2021-02-10 17:35:59, INFO: Variable 'ft' updated for some links. Returning without overwriting for those links. Calculating for other links\n",
      "2021-02-10 17:38:33, INFO: Finished calculating roadway class variable: ft\n",
      "2021-02-10 17:38:33, INFO: Finished calculating roadway class variable: ft\n",
      "2021-02-10 17:39:38, INFO: Calculating distance for all links\n",
      "2021-02-10 17:39:38, INFO: Calculating distance for all links\n",
      "2021-02-10 17:39:42, INFO: Calculating distance for all links\n",
      "2021-02-10 17:39:42, INFO: Calculating distance for all links\n",
      "2021-02-10 17:39:50, INFO: Filling nan for network from network wrangler\n",
      "2021-02-10 17:39:50, INFO: Filling nan for network from network wrangler\n",
      "2021-02-10 17:40:09, INFO: Splitting variables by time period and category\n",
      "2021-02-10 17:40:09, INFO: Splitting variables by time period and category\n",
      "2021-02-10 17:40:17, WARNING: Specified variable to split: ML_lanes not in network variables: Index(['access', 'bike_access', 'drive_access', 'fromIntersectionId', 'lanes',\n",
      "       'maxspeed', 'name', 'oneWay', 'ref', 'roadway', 'shstGeometryId',\n",
      "       'shstReferenceId', 'toIntersectionId', 'u', 'v', 'walk_access', 'wayId',\n",
      "       'county', 'model_link_id', 'A', 'B', 'rail_traveltime', 'rail_only',\n",
      "       'locationReferences', 'shape_id', 'geometry', 'ft_cal', 'ft',\n",
      "       'useclass', 'assignable', 'transit', 'bus_only', 'cntype', 'distance',\n",
      "       'lanes_EA', 'lanes_AM', 'lanes_MD', 'lanes_PM', 'lanes_EV'],\n",
      "      dtype='object'). Returning 0.\n",
      "2021-02-10 17:40:17, WARNING: Specified variable to split: ML_lanes not in network variables: Index(['access', 'bike_access', 'drive_access', 'fromIntersectionId', 'lanes',\n",
      "       'maxspeed', 'name', 'oneWay', 'ref', 'roadway', 'shstGeometryId',\n",
      "       'shstReferenceId', 'toIntersectionId', 'u', 'v', 'walk_access', 'wayId',\n",
      "       'county', 'model_link_id', 'A', 'B', 'rail_traveltime', 'rail_only',\n",
      "       'locationReferences', 'shape_id', 'geometry', 'ft_cal', 'ft',\n",
      "       'useclass', 'assignable', 'transit', 'bus_only', 'cntype', 'distance',\n",
      "       'lanes_EA', 'lanes_AM', 'lanes_MD', 'lanes_PM', 'lanes_EV'],\n",
      "      dtype='object'). Returning 0.\n",
      "2021-02-10 17:40:25, INFO: Converting variable type to mtc standard\n",
      "2021-02-10 17:40:25, INFO: Converting variable type to mtc standard\n",
      "2021-02-10 17:40:29, INFO: Setting Coordinate Reference System to ESRI:102646\n",
      "2021-02-10 17:40:29, INFO: Setting Coordinate Reference System to ESRI:102646\n"
     ]
    }
   ],
   "source": [
    "model_net = mtc.roadway_standard_to_mtc_network(model_net, parameters)"
   ]
  },
  {
   "cell_type": "code",
   "execution_count": 24,
   "metadata": {},
   "outputs": [
    {
     "data": {
      "text/plain": [
       "(2225651, 49)"
      ]
     },
     "execution_count": 24,
     "metadata": {},
     "output_type": "execute_result"
    }
   ],
   "source": [
    "model_net.links_df.shape"
   ]
  },
  {
   "cell_type": "code",
   "execution_count": 25,
   "metadata": {},
   "outputs": [
    {
     "data": {
      "text/plain": [
       "2225651"
      ]
     },
     "execution_count": 25,
     "metadata": {},
     "output_type": "execute_result"
    }
   ],
   "source": [
    "model_net.links_df.model_link_id.nunique()"
   ]
  },
  {
   "cell_type": "code",
   "execution_count": 26,
   "metadata": {},
   "outputs": [
    {
     "data": {
      "text/plain": [
       "(694957, 11)"
      ]
     },
     "execution_count": 26,
     "metadata": {},
     "output_type": "execute_result"
    }
   ],
   "source": [
    "model_net.nodes_mtc_df.shape"
   ]
  },
  {
   "cell_type": "code",
   "execution_count": 27,
   "metadata": {},
   "outputs": [
    {
     "data": {
      "text/plain": [
       "694957"
      ]
     },
     "execution_count": 27,
     "metadata": {},
     "output_type": "execute_result"
    }
   ],
   "source": [
    "model_net.nodes_df.model_node_id.nunique()"
   ]
  },
  {
   "cell_type": "markdown",
   "metadata": {},
   "source": [
    "## Write to Disk"
   ]
  },
  {
   "cell_type": "markdown",
   "metadata": {},
   "source": [
    "## As shapefile"
   ]
  },
  {
   "cell_type": "code",
   "execution_count": 28,
   "metadata": {},
   "outputs": [
    {
     "name": "stdout",
     "output_type": "stream",
     "text": [
      "2021-02-10 17:42:09, INFO: Writing Network as Shapefile\n",
      "2021-02-10 17:42:09, INFO: Writing Network as Shapefile\n",
      "2021-02-10 17:42:09, INFO: Renaming DBF Node Variables\n",
      "2021-02-10 17:42:09, INFO: Renaming DBF Node Variables\n",
      "2021-02-10 17:42:09, INFO: Renaming variables so that they are DBF-safe\n",
      "2021-02-10 17:42:09, INFO: Renaming variables so that they are DBF-safe\n",
      "2021-02-10 17:42:22, INFO: Renaming DBF Link Variables\n",
      "2021-02-10 17:42:22, INFO: Renaming DBF Link Variables\n",
      "2021-02-10 17:42:22, INFO: Renaming variables so that they are DBF-safe\n",
      "2021-02-10 17:42:22, INFO: Renaming variables so that they are DBF-safe\n",
      "2021-02-10 17:42:24, INFO: Writing Node Shapes:\n",
      " - C:/Users/USGS667806/Documents/GitHub/travel-model-two-networks - Copy\\data\\processed\\version_03\\nodes.shp\n",
      "2021-02-10 17:42:24, INFO: Writing Node Shapes:\n",
      " - C:/Users/USGS667806/Documents/GitHub/travel-model-two-networks - Copy\\data\\processed\\version_03\\nodes.shp\n",
      "2021-02-10 17:43:42, INFO: Writing Link Shapes:\n",
      " - C:/Users/USGS667806/Documents/GitHub/travel-model-two-networks - Copy\\data\\processed\\version_03\\links.shp\n",
      "2021-02-10 17:43:42, INFO: Writing Link Shapes:\n",
      " - C:/Users/USGS667806/Documents/GitHub/travel-model-two-networks - Copy\\data\\processed\\version_03\\links.shp\n"
     ]
    }
   ],
   "source": [
    "model_net.write_roadway_as_shp(\n",
    "    output_link_shp = os.path.join(output_dir, 'links.shp'),\n",
    "    output_node_shp = os.path.join(output_dir, 'nodes.shp'),\n",
    "    link_output_variables = [\"model_link_id\", \"A\", \"B\", \"geometry\"],\n",
    "    node_output_variables = [\"model_node_id\", \"geometry\"],\n",
    "    data_to_csv = False,\n",
    "    data_to_dbf = True,\n",
    ")"
   ]
  },
  {
   "cell_type": "markdown",
   "metadata": {},
   "source": [
    "## As fixed width (for CUBE)"
   ]
  },
  {
   "cell_type": "code",
   "execution_count": 29,
   "metadata": {},
   "outputs": [
    {
     "name": "stdout",
     "output_type": "stream",
     "text": [
      "2021-02-10 17:48:03, INFO: Starting fixed width conversion\n",
      "2021-02-10 17:48:03, INFO: Starting fixed width conversion\n",
      "2021-02-10 18:02:50, INFO: Writing out link database\n",
      "2021-02-10 18:02:50, INFO: Writing out link database\n",
      "2021-02-10 18:03:05, INFO: Writing out link header and width ----\n",
      "2021-02-10 18:03:05, INFO: Writing out link header and width ----\n",
      "2021-02-10 18:03:05, INFO: Starting fixed width conversion\n",
      "2021-02-10 18:03:05, INFO: Starting fixed width conversion\n",
      "2021-02-10 18:04:25, INFO: Writing out node database\n",
      "2021-02-10 18:04:25, INFO: Writing out node database\n",
      "2021-02-10 18:04:27, INFO: Writing out node header and width\n",
      "2021-02-10 18:04:27, INFO: Writing out node header and width\n"
     ]
    }
   ],
   "source": [
    "model_net.write_roadway_as_fixedwidth(\n",
    "    output_link_txt = os.path.join(output_dir, 'links.txt'),\n",
    "    output_node_txt = os.path.join(output_dir, 'nodes.txt'),\n",
    "    output_link_header_width_txt = os.path.join(output_dir, 'links_header_width.txt'),\n",
    "    output_node_header_width_txt = os.path.join(output_dir, 'nodes_header_width.txt'),\n",
    "    output_cube_network_script = os.path.join(output_dir, 'make_complete_network_from_fixed_width_file.s'),\n",
    "    #drive_only = True\n",
    ")"
   ]
  },
  {
   "cell_type": "code",
   "execution_count": 30,
   "metadata": {},
   "outputs": [],
   "source": [
    "%%capture\n",
    "os.chdir(output_dir)\n",
    "!make_cube.bat"
   ]
  },
  {
   "cell_type": "code",
   "execution_count": 31,
   "metadata": {},
   "outputs": [],
   "source": [
    "%%capture\n",
    "!runtpp make_simple_roadway_network.s\n",
    "!runtpp make_complete_marin_network.s\n",
    "!runtpp make_simple_transit_network.s"
   ]
  },
  {
   "cell_type": "markdown",
   "metadata": {},
   "source": [
    "## As transit line file (for CUBE)"
   ]
  },
  {
   "cell_type": "code",
   "execution_count": 32,
   "metadata": {},
   "outputs": [
    {
     "name": "stdout",
     "output_type": "stream",
     "text": [
      "2021-02-10 18:06:25, INFO: Lasso base directory set as: C:/Users/USGS667806/Lasso\n",
      "2021-02-10 18:06:25, INFO: Lasso base directory set as: C:/Users/USGS667806/Lasso\n",
      "2021-02-10 18:06:25, INFO: Lasso base directory set as: C:/Users/USGS667806/Lasso\n",
      "2021-02-10 18:06:25, INFO: Lasso base directory set as: C:/Users/USGS667806/Lasso\n",
      "2021-02-10 18:06:25, INFO: Converting GTFS Standard Properties to MTC's Cube Standard\n",
      "2021-02-10 18:06:25, INFO: Converting GTFS Standard Properties to MTC's Cube Standard\n"
     ]
    }
   ],
   "source": [
    "standard_transit_net = StandardTransit.fromTransitNetwork(v_02_scenario.transit_net, parameters = parameters)\n",
    "mtc.write_as_cube_lin(standard_transit_net, parameters, outpath = os.path.join(output_dir, \"transit.lin\"))"
   ]
  },
  {
   "cell_type": "markdown",
   "metadata": {},
   "source": [
    "## As pickle"
   ]
  },
  {
   "cell_type": "code",
   "execution_count": 24,
   "metadata": {},
   "outputs": [],
   "source": [
    "working_scenario_filename = os.path.join(output_dir, 'working_scenario_02.pickle')\n",
    "pickle.dump(v_02_scenario, open(working_scenario_filename, 'wb'))"
   ]
  },
  {
   "cell_type": "markdown",
   "metadata": {},
   "source": [
    "## As standard network"
   ]
  },
  {
   "cell_type": "code",
   "execution_count": 34,
   "metadata": {},
   "outputs": [],
   "source": [
    "model_net.write(path = output_dir, filename = \"v04\")"
   ]
  }
 ],
 "metadata": {
  "kernelspec": {
   "display_name": "Python 3",
   "language": "python",
   "name": "python3"
  },
  "language_info": {
   "codemirror_mode": {
    "name": "ipython",
    "version": 3
   },
   "file_extension": ".py",
   "mimetype": "text/x-python",
   "name": "python",
   "nbconvert_exporter": "python",
   "pygments_lexer": "ipython3",
   "version": "3.7.9"
  }
 },
 "nbformat": 4,
 "nbformat_minor": 4
}
