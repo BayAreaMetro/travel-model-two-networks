{
 "cells": [
  {
   "cell_type": "markdown",
   "metadata": {},
   "source": [
    "# 02 Correct Network Errors with Project Cards"
   ]
  },
  {
   "cell_type": "code",
   "execution_count": 7,
   "metadata": {},
   "outputs": [],
   "source": [
    "import os\n",
    "import sys\n",
    "import yaml\n",
    "import pickle\n",
    "import glob\n",
    "\n",
    "import pandas as pd\n",
    "\n",
    "from network_wrangler import RoadwayNetwork\n",
    "from network_wrangler import TransitNetwork\n",
    "from network_wrangler import ProjectCard\n",
    "from network_wrangler import Scenario\n",
    "from network_wrangler import WranglerLogger\n",
    "\n",
    "from lasso import ModelRoadwayNetwork\n",
    "from lasso import StandardTransit\n",
    "from lasso import Parameters\n",
    "from lasso import mtc\n"
   ]
  },
  {
   "cell_type": "code",
   "execution_count": 8,
   "metadata": {},
   "outputs": [
    {
     "name": "stdout",
     "output_type": "stream",
     "text": [
      "The autoreload extension is already loaded. To reload it, use:\n",
      "  %reload_ext autoreload\n"
     ]
    }
   ],
   "source": [
    "%load_ext autoreload\n",
    "%autoreload 2"
   ]
  },
  {
   "cell_type": "code",
   "execution_count": 9,
   "metadata": {},
   "outputs": [],
   "source": [
    "import logging\n",
    "logger = logging.getLogger(\"WranglerLogger\")\n",
    "logger.handlers[0].stream = sys.stdout\n",
    "logger.setLevel(logging.INFO)"
   ]
  },
  {
   "cell_type": "markdown",
   "metadata": {},
   "source": [
    "## Remote I/O and Parameters"
   ]
  },
  {
   "cell_type": "code",
   "execution_count": 10,
   "metadata": {},
   "outputs": [],
   "source": [
    "# root_dir = os.path.join('/Users', 'wsp', 'Documents', 'GitHub', 'travel-model-two-networks')\n",
    "root_dir = \"C:/Users/USGS667806/Documents/GitHub/travel-model-two-networks\"\n",
    "input_dir = os.path.join(root_dir, 'data', 'processed', 'version_03')\n",
    "output_dir = input_dir\n",
    "card_dir = os.path.join(root_dir, 'project_cards')\n",
    "# lasso_dir = os.path.join('/Users', 'wsp', 'Documents', 'GitHub', 'mtc-Lasso')\n",
    "lasso_dir = \"C:/Users/USGS667806/Lasso\""
   ]
  },
  {
   "cell_type": "code",
   "execution_count": 11,
   "metadata": {},
   "outputs": [
    {
     "name": "stdout",
     "output_type": "stream",
     "text": [
      "2021-01-20 11:45:12, INFO: Lasso base directory set as: C:/Users/USGS667806/Lasso\n",
      "2021-01-20 11:45:12, INFO: Lasso base directory set as: C:/Users/USGS667806/Lasso\n",
      "2021-01-20 11:45:12, INFO: Lasso base directory set as: C:/Users/USGS667806/Lasso\n",
      "2021-01-20 11:45:12, INFO: Lasso base directory set as: C:/Users/USGS667806/Lasso\n"
     ]
    }
   ],
   "source": [
    "parameters = Parameters(lasso_base_dir = lasso_dir)"
   ]
  },
  {
   "cell_type": "markdown",
   "metadata": {},
   "source": [
    "## Read Version 00 Scenario"
   ]
  },
  {
   "cell_type": "code",
   "execution_count": 12,
   "metadata": {},
   "outputs": [],
   "source": [
    "version_00_pickle_file_name = os.path.join(input_dir, 'working_scenario_00.pickle')\n",
    "v_00_scenario = pickle.load(open(version_00_pickle_file_name, 'rb'))"
   ]
  },
  {
   "cell_type": "code",
   "execution_count": 13,
   "metadata": {},
   "outputs": [
    {
     "data": {
      "text/plain": [
       "(1634769, 31)"
      ]
     },
     "execution_count": 13,
     "metadata": {},
     "output_type": "execute_result"
    }
   ],
   "source": [
    "v_00_scenario.road_net.links_df.shape"
   ]
  },
  {
   "cell_type": "code",
   "execution_count": 14,
   "metadata": {},
   "outputs": [
    {
     "name": "stdout",
     "output_type": "stream",
     "text": [
      "<class 'pandas.core.frame.DataFrame'>\n",
      "RangeIndex: 701 entries, 0 to 700\n",
      "Data columns (total 16 columns):\n",
      " #   Column                  Non-Null Count  Dtype \n",
      "---  ------                  --------------  ----- \n",
      " 0   route_id_original       701 non-null    object\n",
      " 1   agency_id               526 non-null    object\n",
      " 2   route_short_name        665 non-null    object\n",
      " 3   route_long_name         679 non-null    object\n",
      " 4   route_desc              14 non-null     object\n",
      " 5   route_type              701 non-null    int64 \n",
      " 6   route_url               217 non-null    object\n",
      " 7   route_color             260 non-null    object\n",
      " 8   route_text_color        243 non-null    object\n",
      " 9   agency_raw_name         701 non-null    object\n",
      " 10  route_sort_order        95 non-null     object\n",
      " 11  min_headway_minutes     32 non-null     object\n",
      " 12  eligibility_restricted  4 non-null      object\n",
      " 13  continuous_pickup       4 non-null      object\n",
      " 14  continuous_drop_off     4 non-null      object\n",
      " 15  route_id                701 non-null    object\n",
      "dtypes: int64(1), object(15)\n",
      "memory usage: 87.8+ KB\n"
     ]
    }
   ],
   "source": [
    "v_00_scenario.transit_net.feed.routes.info()"
   ]
  },
  {
   "cell_type": "markdown",
   "metadata": {},
   "source": [
    "## Create Scenario and Apply Project Cards"
   ]
  },
  {
   "cell_type": "code",
   "execution_count": 15,
   "metadata": {},
   "outputs": [
    {
     "name": "stdout",
     "output_type": "stream",
     "text": [
      "2021-01-20 11:45:57, INFO: Creating Scenario\n",
      "2021-01-20 11:45:57, INFO: Creating Scenario\n"
     ]
    }
   ],
   "source": [
    "v_01_scenario = Scenario.create_scenario(\n",
    "    base_scenario=v_00_scenario,\n",
    "    card_directory = card_dir,\n",
    "    validate_project_cards=False)"
   ]
  },
  {
   "cell_type": "code",
   "execution_count": 16,
   "metadata": {
    "scrolled": false
   },
   "outputs": [
    {
     "name": "stdout",
     "output_type": "stream",
     "text": [
      "2021-01-20 11:45:58, INFO: Applying Year 2015 Modify Facility Type to Service\n",
      "2021-01-20 11:45:58, INFO: Applying Year 2015 Modify Facility Type to Service\n",
      "2021-01-20 11:45:58, INFO: Applying Year 2015 Modify Facility Type to Service\n",
      "2021-01-20 11:45:58, INFO: Applying Year 2015 Modify Facility Type to Service\n",
      "2021-01-20 11:45:58, INFO: Applying Project to Roadway Network: Year 2015 Modify Facility Type to Service\n",
      "2021-01-20 11:45:58, INFO: Applying Project to Roadway Network: Year 2015 Modify Facility Type to Service\n",
      "2021-01-20 11:45:58, INFO: Applying Year 2015 Modify Facility Type to Ramp shape incorrect\n",
      "2021-01-20 11:45:58, INFO: Applying Year 2015 Modify Facility Type to Ramp shape incorrect\n",
      "2021-01-20 11:45:58, INFO: Applying Year 2015 Modify Facility Type to Ramp shape incorrect\n",
      "2021-01-20 11:45:58, INFO: Applying Year 2015 Modify Facility Type to Ramp shape incorrect\n",
      "2021-01-20 11:45:58, INFO: Applying Project to Roadway Network: Year 2015 Modify Facility Type to Ramp shape incorrect\n",
      "2021-01-20 11:45:58, INFO: Applying Project to Roadway Network: Year 2015 Modify Facility Type to Ramp shape incorrect\n"
     ]
    },
    {
     "name": "stderr",
     "output_type": "stream",
     "text": [
      "C:\\Users\\USGS667806\\Anaconda3\\envs\\lasso_environment\\lib\\site-packages\\geopandas\\geodataframe.py:853: SettingWithCopyWarning: \n",
      "A value is trying to be set on a copy of a slice from a DataFrame.\n",
      "Try using .loc[row_indexer,col_indexer] = value instead\n",
      "\n",
      "See the caveats in the documentation: https://pandas.pydata.org/pandas-docs/stable/user_guide/indexing.html#returning-a-view-versus-a-copy\n",
      "  super(GeoDataFrame, self).__setitem__(key, value)\n",
      "C:\\Users\\USGS667806\\Anaconda3\\envs\\lasso_environment\\lib\\site-packages\\geopandas\\geodataframe.py:853: SettingWithCopyWarning: \n",
      "A value is trying to be set on a copy of a slice from a DataFrame.\n",
      "Try using .loc[row_indexer,col_indexer] = value instead\n",
      "\n",
      "See the caveats in the documentation: https://pandas.pydata.org/pandas-docs/stable/user_guide/indexing.html#returning-a-view-versus-a-copy\n",
      "  super(GeoDataFrame, self).__setitem__(key, value)\n"
     ]
    },
    {
     "name": "stdout",
     "output_type": "stream",
     "text": [
      "2021-01-20 11:45:59, INFO: Applying Year 2015 Modify Facility Type to Ramp\n",
      "2021-01-20 11:45:59, INFO: Applying Year 2015 Modify Facility Type to Ramp\n",
      "2021-01-20 11:45:59, INFO: Applying Year 2015 Modify Facility Type to Ramp\n",
      "2021-01-20 11:45:59, INFO: Applying Year 2015 Modify Facility Type to Ramp\n",
      "2021-01-20 11:45:59, INFO: Applying Project to Roadway Network: Year 2015 Modify Facility Type to Ramp\n",
      "2021-01-20 11:45:59, INFO: Applying Project to Roadway Network: Year 2015 Modify Facility Type to Ramp\n",
      "2021-01-20 11:46:00, INFO: Applying Year 2015 Modify Lanes to 2 Lane and Facility Type to Ramp shape incorrect\n",
      "2021-01-20 11:46:00, INFO: Applying Year 2015 Modify Lanes to 2 Lane and Facility Type to Ramp shape incorrect\n",
      "2021-01-20 11:46:00, INFO: Applying Year 2015 Modify Lanes to 2 Lane and Facility Type to Ramp shape incorrect\n",
      "2021-01-20 11:46:00, INFO: Applying Year 2015 Modify Lanes to 2 Lane and Facility Type to Ramp shape incorrect\n",
      "2021-01-20 11:46:00, INFO: Applying Project to Roadway Network: Year 2015 Modify Lanes to 2 Lane and Facility Type to Ramp shape incorrect\n",
      "2021-01-20 11:46:00, INFO: Applying Project to Roadway Network: Year 2015 Modify Lanes to 2 Lane and Facility Type to Ramp shape incorrect\n"
     ]
    },
    {
     "name": "stderr",
     "output_type": "stream",
     "text": [
      "C:\\Users\\USGS667806\\Anaconda3\\envs\\lasso_environment\\lib\\site-packages\\geopandas\\geodataframe.py:853: SettingWithCopyWarning: \n",
      "A value is trying to be set on a copy of a slice from a DataFrame.\n",
      "Try using .loc[row_indexer,col_indexer] = value instead\n",
      "\n",
      "See the caveats in the documentation: https://pandas.pydata.org/pandas-docs/stable/user_guide/indexing.html#returning-a-view-versus-a-copy\n",
      "  super(GeoDataFrame, self).__setitem__(key, value)\n",
      "C:\\Users\\USGS667806\\Anaconda3\\envs\\lasso_environment\\lib\\site-packages\\geopandas\\geodataframe.py:853: SettingWithCopyWarning: \n",
      "A value is trying to be set on a copy of a slice from a DataFrame.\n",
      "Try using .loc[row_indexer,col_indexer] = value instead\n",
      "\n",
      "See the caveats in the documentation: https://pandas.pydata.org/pandas-docs/stable/user_guide/indexing.html#returning-a-view-versus-a-copy\n",
      "  super(GeoDataFrame, self).__setitem__(key, value)\n"
     ]
    },
    {
     "name": "stdout",
     "output_type": "stream",
     "text": [
      "2021-01-20 11:46:00, INFO: Applying Year 2015 Modify Lanes to 2 Lane and Facility Type to Ramp\n",
      "2021-01-20 11:46:00, INFO: Applying Year 2015 Modify Lanes to 2 Lane and Facility Type to Ramp\n",
      "2021-01-20 11:46:00, INFO: Applying Year 2015 Modify Lanes to 2 Lane and Facility Type to Ramp\n",
      "2021-01-20 11:46:00, INFO: Applying Year 2015 Modify Lanes to 2 Lane and Facility Type to Ramp\n",
      "2021-01-20 11:46:00, INFO: Applying Project to Roadway Network: Year 2015 Modify Lanes to 2 Lane and Facility Type to Ramp\n",
      "2021-01-20 11:46:00, INFO: Applying Project to Roadway Network: Year 2015 Modify Lanes to 2 Lane and Facility Type to Ramp\n",
      "2021-01-20 11:46:00, INFO: Applying Year 2015 Modify Lanes to 1 Lane and Facility Type to Ramp\n",
      "2021-01-20 11:46:00, INFO: Applying Year 2015 Modify Lanes to 1 Lane and Facility Type to Ramp\n",
      "2021-01-20 11:46:00, INFO: Applying Year 2015 Modify Lanes to 1 Lane and Facility Type to Ramp\n",
      "2021-01-20 11:46:00, INFO: Applying Year 2015 Modify Lanes to 1 Lane and Facility Type to Ramp\n",
      "2021-01-20 11:46:00, INFO: Applying Project to Roadway Network: Year 2015 Modify Lanes to 1 Lane and Facility Type to Ramp\n",
      "2021-01-20 11:46:00, INFO: Applying Project to Roadway Network: Year 2015 Modify Lanes to 1 Lane and Facility Type to Ramp\n"
     ]
    },
    {
     "name": "stderr",
     "output_type": "stream",
     "text": [
      "C:\\Users\\USGS667806\\Anaconda3\\envs\\lasso_environment\\lib\\site-packages\\geopandas\\geodataframe.py:853: SettingWithCopyWarning: \n",
      "A value is trying to be set on a copy of a slice from a DataFrame.\n",
      "Try using .loc[row_indexer,col_indexer] = value instead\n",
      "\n",
      "See the caveats in the documentation: https://pandas.pydata.org/pandas-docs/stable/user_guide/indexing.html#returning-a-view-versus-a-copy\n",
      "  super(GeoDataFrame, self).__setitem__(key, value)\n",
      "C:\\Users\\USGS667806\\Anaconda3\\envs\\lasso_environment\\lib\\site-packages\\geopandas\\geodataframe.py:853: SettingWithCopyWarning: \n",
      "A value is trying to be set on a copy of a slice from a DataFrame.\n",
      "Try using .loc[row_indexer,col_indexer] = value instead\n",
      "\n",
      "See the caveats in the documentation: https://pandas.pydata.org/pandas-docs/stable/user_guide/indexing.html#returning-a-view-versus-a-copy\n",
      "  super(GeoDataFrame, self).__setitem__(key, value)\n"
     ]
    },
    {
     "name": "stdout",
     "output_type": "stream",
     "text": [
      "2021-01-20 11:46:00, INFO: Applying Year 2015 Bus Only Segments\n",
      "2021-01-20 11:46:00, INFO: Applying Year 2015 Bus Only Segments\n",
      "2021-01-20 11:46:00, INFO: Applying Year 2015 Bus Only Segments\n",
      "2021-01-20 11:46:00, INFO: Applying Year 2015 Bus Only Segments\n",
      "2021-01-20 11:46:00, INFO: Applying Project to Roadway Network: Year 2015 Bus Only Segments\n",
      "2021-01-20 11:46:00, INFO: Applying Project to Roadway Network: Year 2015 Bus Only Segments\n",
      "2021-01-20 11:46:00, INFO: Applying Year 2015 Modify Lanes to 7 Lanes\n"
     ]
    },
    {
     "name": "stderr",
     "output_type": "stream",
     "text": [
      "C:\\Users\\USGS667806\\Anaconda3\\envs\\lasso_environment\\lib\\site-packages\\geopandas\\geodataframe.py:853: SettingWithCopyWarning: \n",
      "A value is trying to be set on a copy of a slice from a DataFrame.\n",
      "Try using .loc[row_indexer,col_indexer] = value instead\n",
      "\n",
      "See the caveats in the documentation: https://pandas.pydata.org/pandas-docs/stable/user_guide/indexing.html#returning-a-view-versus-a-copy\n",
      "  super(GeoDataFrame, self).__setitem__(key, value)\n"
     ]
    },
    {
     "name": "stdout",
     "output_type": "stream",
     "text": [
      "2021-01-20 11:46:00, INFO: Applying Year 2015 Modify Lanes to 7 Lanes\n",
      "2021-01-20 11:46:00, INFO: Applying Year 2015 Modify Lanes to 7 Lanes\n",
      "2021-01-20 11:46:00, INFO: Applying Year 2015 Modify Lanes to 7 Lanes\n",
      "2021-01-20 11:46:00, INFO: Applying Project to Roadway Network: Year 2015 Modify Lanes to 7 Lanes\n",
      "2021-01-20 11:46:00, INFO: Applying Project to Roadway Network: Year 2015 Modify Lanes to 7 Lanes\n",
      "2021-01-20 11:46:01, INFO: Applying Year 2015 Modify Lanes to 6 Lanes\n",
      "2021-01-20 11:46:01, INFO: Applying Year 2015 Modify Lanes to 6 Lanes\n",
      "2021-01-20 11:46:01, INFO: Applying Year 2015 Modify Lanes to 6 Lanes\n",
      "2021-01-20 11:46:01, INFO: Applying Year 2015 Modify Lanes to 6 Lanes\n",
      "2021-01-20 11:46:01, INFO: Applying Project to Roadway Network: Year 2015 Modify Lanes to 6 Lanes\n",
      "2021-01-20 11:46:01, INFO: Applying Project to Roadway Network: Year 2015 Modify Lanes to 6 Lanes\n",
      "2021-01-20 11:46:01, INFO: Applying Year 2015 Modify Lanes to 5 Lanes\n",
      "2021-01-20 11:46:01, INFO: Applying Year 2015 Modify Lanes to 5 Lanes\n",
      "2021-01-20 11:46:01, INFO: Applying Year 2015 Modify Lanes to 5 Lanes\n",
      "2021-01-20 11:46:01, INFO: Applying Year 2015 Modify Lanes to 5 Lanes\n",
      "2021-01-20 11:46:01, INFO: Applying Project to Roadway Network: Year 2015 Modify Lanes to 5 Lanes\n",
      "2021-01-20 11:46:01, INFO: Applying Project to Roadway Network: Year 2015 Modify Lanes to 5 Lanes\n"
     ]
    },
    {
     "name": "stderr",
     "output_type": "stream",
     "text": [
      "C:\\Users\\USGS667806\\Anaconda3\\envs\\lasso_environment\\lib\\site-packages\\geopandas\\geodataframe.py:853: SettingWithCopyWarning: \n",
      "A value is trying to be set on a copy of a slice from a DataFrame.\n",
      "Try using .loc[row_indexer,col_indexer] = value instead\n",
      "\n",
      "See the caveats in the documentation: https://pandas.pydata.org/pandas-docs/stable/user_guide/indexing.html#returning-a-view-versus-a-copy\n",
      "  super(GeoDataFrame, self).__setitem__(key, value)\n",
      "C:\\Users\\USGS667806\\Anaconda3\\envs\\lasso_environment\\lib\\site-packages\\geopandas\\geodataframe.py:853: SettingWithCopyWarning: \n",
      "A value is trying to be set on a copy of a slice from a DataFrame.\n",
      "Try using .loc[row_indexer,col_indexer] = value instead\n",
      "\n",
      "See the caveats in the documentation: https://pandas.pydata.org/pandas-docs/stable/user_guide/indexing.html#returning-a-view-versus-a-copy\n",
      "  super(GeoDataFrame, self).__setitem__(key, value)\n"
     ]
    },
    {
     "name": "stdout",
     "output_type": "stream",
     "text": [
      "2021-01-20 11:46:01, INFO: Applying Year 2015 Modify Lanes to 4 Lanes\n",
      "2021-01-20 11:46:01, INFO: Applying Year 2015 Modify Lanes to 4 Lanes\n",
      "2021-01-20 11:46:01, INFO: Applying Year 2015 Modify Lanes to 4 Lanes\n",
      "2021-01-20 11:46:01, INFO: Applying Year 2015 Modify Lanes to 4 Lanes\n",
      "2021-01-20 11:46:01, INFO: Applying Project to Roadway Network: Year 2015 Modify Lanes to 4 Lanes\n",
      "2021-01-20 11:46:01, INFO: Applying Project to Roadway Network: Year 2015 Modify Lanes to 4 Lanes\n",
      "2021-01-20 11:46:01, INFO: Applying Year 2015 Modify Lanes to 3 Lanes\n",
      "2021-01-20 11:46:01, INFO: Applying Year 2015 Modify Lanes to 3 Lanes\n",
      "2021-01-20 11:46:01, INFO: Applying Year 2015 Modify Lanes to 3 Lanes\n",
      "2021-01-20 11:46:01, INFO: Applying Year 2015 Modify Lanes to 3 Lanes\n",
      "2021-01-20 11:46:01, INFO: Applying Project to Roadway Network: Year 2015 Modify Lanes to 3 Lanes\n",
      "2021-01-20 11:46:01, INFO: Applying Project to Roadway Network: Year 2015 Modify Lanes to 3 Lanes\n"
     ]
    },
    {
     "name": "stderr",
     "output_type": "stream",
     "text": [
      "C:\\Users\\USGS667806\\Anaconda3\\envs\\lasso_environment\\lib\\site-packages\\geopandas\\geodataframe.py:853: SettingWithCopyWarning: \n",
      "A value is trying to be set on a copy of a slice from a DataFrame.\n",
      "Try using .loc[row_indexer,col_indexer] = value instead\n",
      "\n",
      "See the caveats in the documentation: https://pandas.pydata.org/pandas-docs/stable/user_guide/indexing.html#returning-a-view-versus-a-copy\n",
      "  super(GeoDataFrame, self).__setitem__(key, value)\n",
      "C:\\Users\\USGS667806\\Anaconda3\\envs\\lasso_environment\\lib\\site-packages\\geopandas\\geodataframe.py:853: SettingWithCopyWarning: \n",
      "A value is trying to be set on a copy of a slice from a DataFrame.\n",
      "Try using .loc[row_indexer,col_indexer] = value instead\n",
      "\n",
      "See the caveats in the documentation: https://pandas.pydata.org/pandas-docs/stable/user_guide/indexing.html#returning-a-view-versus-a-copy\n",
      "  super(GeoDataFrame, self).__setitem__(key, value)\n",
      "C:\\Users\\USGS667806\\Anaconda3\\envs\\lasso_environment\\lib\\site-packages\\geopandas\\geodataframe.py:853: SettingWithCopyWarning: \n",
      "A value is trying to be set on a copy of a slice from a DataFrame.\n",
      "Try using .loc[row_indexer,col_indexer] = value instead\n",
      "\n",
      "See the caveats in the documentation: https://pandas.pydata.org/pandas-docs/stable/user_guide/indexing.html#returning-a-view-versus-a-copy\n",
      "  super(GeoDataFrame, self).__setitem__(key, value)\n"
     ]
    },
    {
     "name": "stdout",
     "output_type": "stream",
     "text": [
      "2021-01-20 11:46:01, INFO: Applying Year 2015 Modify Lanes to 2 Lanes\n",
      "2021-01-20 11:46:01, INFO: Applying Year 2015 Modify Lanes to 2 Lanes\n",
      "2021-01-20 11:46:01, INFO: Applying Year 2015 Modify Lanes to 2 Lanes\n",
      "2021-01-20 11:46:01, INFO: Applying Year 2015 Modify Lanes to 2 Lanes\n",
      "2021-01-20 11:46:01, INFO: Applying Project to Roadway Network: Year 2015 Modify Lanes to 2 Lanes\n",
      "2021-01-20 11:46:01, INFO: Applying Project to Roadway Network: Year 2015 Modify Lanes to 2 Lanes\n",
      "2021-01-20 11:46:02, INFO: Applying Year 2015 Modify Lanes to 1 Lane\n",
      "2021-01-20 11:46:02, INFO: Applying Year 2015 Modify Lanes to 1 Lane\n",
      "2021-01-20 11:46:02, INFO: Applying Year 2015 Modify Lanes to 1 Lane\n",
      "2021-01-20 11:46:02, INFO: Applying Year 2015 Modify Lanes to 1 Lane\n",
      "2021-01-20 11:46:02, INFO: Applying Project to Roadway Network: Year 2015 Modify Lanes to 1 Lane\n",
      "2021-01-20 11:46:02, INFO: Applying Project to Roadway Network: Year 2015 Modify Lanes to 1 Lane\n",
      "2021-01-20 11:46:02, INFO: Applying Year 2015 Correct As Is\n",
      "2021-01-20 11:46:02, INFO: Applying Year 2015 Correct As Is\n",
      "2021-01-20 11:46:02, INFO: Applying Year 2015 Correct As Is\n",
      "2021-01-20 11:46:02, INFO: Applying Year 2015 Correct As Is\n",
      "2021-01-20 11:46:02, INFO: Applying Project to Roadway Network: Year 2015 Correct As Is\n",
      "2021-01-20 11:46:02, INFO: Applying Project to Roadway Network: Year 2015 Correct As Is\n"
     ]
    },
    {
     "name": "stderr",
     "output_type": "stream",
     "text": [
      "C:\\Users\\USGS667806\\Anaconda3\\envs\\lasso_environment\\lib\\site-packages\\geopandas\\geodataframe.py:853: SettingWithCopyWarning: \n",
      "A value is trying to be set on a copy of a slice from a DataFrame.\n",
      "Try using .loc[row_indexer,col_indexer] = value instead\n",
      "\n",
      "See the caveats in the documentation: https://pandas.pydata.org/pandas-docs/stable/user_guide/indexing.html#returning-a-view-versus-a-copy\n",
      "  super(GeoDataFrame, self).__setitem__(key, value)\n",
      "C:\\Users\\USGS667806\\Anaconda3\\envs\\lasso_environment\\lib\\site-packages\\geopandas\\geodataframe.py:853: SettingWithCopyWarning: \n",
      "A value is trying to be set on a copy of a slice from a DataFrame.\n",
      "Try using .loc[row_indexer,col_indexer] = value instead\n",
      "\n",
      "See the caveats in the documentation: https://pandas.pydata.org/pandas-docs/stable/user_guide/indexing.html#returning-a-view-versus-a-copy\n",
      "  super(GeoDataFrame, self).__setitem__(key, value)\n"
     ]
    },
    {
     "name": "stdout",
     "output_type": "stream",
     "text": [
      "2021-01-20 11:46:02, INFO: Applying Year 2015 Modify HOV Lanes and USE on US-101 SB from South of Healdsburg to North of Petaluma\n",
      "2021-01-20 11:46:02, INFO: Applying Year 2015 Modify HOV Lanes and USE on US-101 SB from South of Healdsburg to North of Petaluma\n",
      "2021-01-20 11:46:02, INFO: Applying Year 2015 Modify HOV Lanes and USE on US-101 SB from South of Healdsburg to North of Petaluma\n",
      "2021-01-20 11:46:02, INFO: Applying Year 2015 Modify HOV Lanes and USE on US-101 SB from South of Healdsburg to North of Petaluma\n",
      "2021-01-20 11:46:02, INFO: Applying Project to Roadway Network: Year 2015 Modify HOV Lanes and USE on US-101 SB from South of Healdsburg to North of Petaluma\n",
      "2021-01-20 11:46:02, INFO: Applying Project to Roadway Network: Year 2015 Modify HOV Lanes and USE on US-101 SB from South of Healdsburg to North of Petaluma\n"
     ]
    },
    {
     "name": "stderr",
     "output_type": "stream",
     "text": [
      "C:\\Users\\USGS667806\\Anaconda3\\envs\\lasso_environment\\lib\\site-packages\\geopandas\\geodataframe.py:853: SettingWithCopyWarning: \n",
      "A value is trying to be set on a copy of a slice from a DataFrame.\n",
      "Try using .loc[row_indexer,col_indexer] = value instead\n",
      "\n",
      "See the caveats in the documentation: https://pandas.pydata.org/pandas-docs/stable/user_guide/indexing.html#returning-a-view-versus-a-copy\n",
      "  super(GeoDataFrame, self).__setitem__(key, value)\n",
      "C:\\Users\\USGS667806\\Anaconda3\\envs\\lasso_environment\\lib\\site-packages\\geopandas\\geodataframe.py:853: SettingWithCopyWarning: \n",
      "A value is trying to be set on a copy of a slice from a DataFrame.\n",
      "Try using .loc[row_indexer,col_indexer] = value instead\n",
      "\n",
      "See the caveats in the documentation: https://pandas.pydata.org/pandas-docs/stable/user_guide/indexing.html#returning-a-view-versus-a-copy\n",
      "  super(GeoDataFrame, self).__setitem__(key, value)\n"
     ]
    },
    {
     "name": "stdout",
     "output_type": "stream",
     "text": [
      "2021-01-20 11:46:08, INFO: Applying Year 2015 Modify USE and HOV Lanes on US-101 SB (Segment 02) from South of Healdsburg to North of Petaluma\n",
      "2021-01-20 11:46:08, INFO: Applying Year 2015 Modify USE and HOV Lanes on US-101 SB (Segment 02) from South of Healdsburg to North of Petaluma\n",
      "2021-01-20 11:46:08, INFO: Applying Year 2015 Modify USE and HOV Lanes on US-101 SB (Segment 02) from South of Healdsburg to North of Petaluma\n",
      "2021-01-20 11:46:08, INFO: Applying Year 2015 Modify USE and HOV Lanes on US-101 SB (Segment 02) from South of Healdsburg to North of Petaluma\n",
      "2021-01-20 11:46:08, INFO: Applying Project to Roadway Network: Year 2015 Modify USE and HOV Lanes on US-101 SB (Segment 02) from South of Healdsburg to North of Petaluma\n",
      "2021-01-20 11:46:08, INFO: Applying Project to Roadway Network: Year 2015 Modify USE and HOV Lanes on US-101 SB (Segment 02) from South of Healdsburg to North of Petaluma\n"
     ]
    },
    {
     "name": "stderr",
     "output_type": "stream",
     "text": [
      "C:\\Users\\USGS667806\\Anaconda3\\envs\\lasso_environment\\lib\\site-packages\\geopandas\\geodataframe.py:853: SettingWithCopyWarning: \n",
      "A value is trying to be set on a copy of a slice from a DataFrame.\n",
      "Try using .loc[row_indexer,col_indexer] = value instead\n",
      "\n",
      "See the caveats in the documentation: https://pandas.pydata.org/pandas-docs/stable/user_guide/indexing.html#returning-a-view-versus-a-copy\n",
      "  super(GeoDataFrame, self).__setitem__(key, value)\n"
     ]
    },
    {
     "name": "stdout",
     "output_type": "stream",
     "text": [
      "2021-01-20 11:46:13, INFO: Applying Year 2015 Modify HOV Lanes and USE on US 101 SB CA-85 to Oregon Expressway\n",
      "2021-01-20 11:46:13, INFO: Applying Year 2015 Modify HOV Lanes and USE on US 101 SB CA-85 to Oregon Expressway\n",
      "2021-01-20 11:46:13, INFO: Applying Year 2015 Modify HOV Lanes and USE on US 101 SB CA-85 to Oregon Expressway\n",
      "2021-01-20 11:46:13, INFO: Applying Year 2015 Modify HOV Lanes and USE on US 101 SB CA-85 to Oregon Expressway\n",
      "2021-01-20 11:46:13, INFO: Applying Project to Roadway Network: Year 2015 Modify HOV Lanes and USE on US 101 SB CA-85 to Oregon Expressway\n",
      "2021-01-20 11:46:13, INFO: Applying Project to Roadway Network: Year 2015 Modify HOV Lanes and USE on US 101 SB CA-85 to Oregon Expressway\n"
     ]
    },
    {
     "name": "stderr",
     "output_type": "stream",
     "text": [
      "C:\\Users\\USGS667806\\Anaconda3\\envs\\lasso_environment\\lib\\site-packages\\geopandas\\geodataframe.py:853: SettingWithCopyWarning: \n",
      "A value is trying to be set on a copy of a slice from a DataFrame.\n",
      "Try using .loc[row_indexer,col_indexer] = value instead\n",
      "\n",
      "See the caveats in the documentation: https://pandas.pydata.org/pandas-docs/stable/user_guide/indexing.html#returning-a-view-versus-a-copy\n",
      "  super(GeoDataFrame, self).__setitem__(key, value)\n"
     ]
    },
    {
     "name": "stdout",
     "output_type": "stream",
     "text": [
      "2021-01-20 11:46:15, INFO: Applying Year 2015 Modify HOV Lanes and USE on US 101 SB CA-85 to Cochrane Road\n",
      "2021-01-20 11:46:15, INFO: Applying Year 2015 Modify HOV Lanes and USE on US 101 SB CA-85 to Cochrane Road\n",
      "2021-01-20 11:46:15, INFO: Applying Year 2015 Modify HOV Lanes and USE on US 101 SB CA-85 to Cochrane Road\n",
      "2021-01-20 11:46:15, INFO: Applying Year 2015 Modify HOV Lanes and USE on US 101 SB CA-85 to Cochrane Road\n",
      "2021-01-20 11:46:15, INFO: Applying Project to Roadway Network: Year 2015 Modify HOV Lanes and USE on US 101 SB CA-85 to Cochrane Road\n",
      "2021-01-20 11:46:15, INFO: Applying Project to Roadway Network: Year 2015 Modify HOV Lanes and USE on US 101 SB CA-85 to Cochrane Road\n"
     ]
    },
    {
     "name": "stderr",
     "output_type": "stream",
     "text": [
      "C:\\Users\\USGS667806\\Anaconda3\\envs\\lasso_environment\\lib\\site-packages\\geopandas\\geodataframe.py:853: SettingWithCopyWarning: \n",
      "A value is trying to be set on a copy of a slice from a DataFrame.\n",
      "Try using .loc[row_indexer,col_indexer] = value instead\n",
      "\n",
      "See the caveats in the documentation: https://pandas.pydata.org/pandas-docs/stable/user_guide/indexing.html#returning-a-view-versus-a-copy\n",
      "  super(GeoDataFrame, self).__setitem__(key, value)\n"
     ]
    },
    {
     "name": "stdout",
     "output_type": "stream",
     "text": [
      "2021-01-20 11:46:25, INFO: Applying Year 2015 Modify HOV Lanes and USE on US-101 NB (Segment 02) from North of Petaluma to South of Healdsburg\n",
      "2021-01-20 11:46:25, INFO: Applying Year 2015 Modify HOV Lanes and USE on US-101 NB (Segment 02) from North of Petaluma to South of Healdsburg\n",
      "2021-01-20 11:46:25, INFO: Applying Year 2015 Modify HOV Lanes and USE on US-101 NB (Segment 02) from North of Petaluma to South of Healdsburg\n",
      "2021-01-20 11:46:25, INFO: Applying Year 2015 Modify HOV Lanes and USE on US-101 NB (Segment 02) from North of Petaluma to South of Healdsburg\n",
      "2021-01-20 11:46:25, INFO: Applying Project to Roadway Network: Year 2015 Modify HOV Lanes and USE on US-101 NB (Segment 02) from North of Petaluma to South of Healdsburg\n",
      "2021-01-20 11:46:25, INFO: Applying Project to Roadway Network: Year 2015 Modify HOV Lanes and USE on US-101 NB (Segment 02) from North of Petaluma to South of Healdsburg\n"
     ]
    },
    {
     "name": "stderr",
     "output_type": "stream",
     "text": [
      "C:\\Users\\USGS667806\\Anaconda3\\envs\\lasso_environment\\lib\\site-packages\\geopandas\\geodataframe.py:853: SettingWithCopyWarning: \n",
      "A value is trying to be set on a copy of a slice from a DataFrame.\n",
      "Try using .loc[row_indexer,col_indexer] = value instead\n",
      "\n",
      "See the caveats in the documentation: https://pandas.pydata.org/pandas-docs/stable/user_guide/indexing.html#returning-a-view-versus-a-copy\n",
      "  super(GeoDataFrame, self).__setitem__(key, value)\n"
     ]
    },
    {
     "name": "stdout",
     "output_type": "stream",
     "text": [
      "2021-01-20 11:46:29, INFO: Applying Year 2015 Modify HOV Lanes and USE on US 101 NB Oregon Expressway to Whipple Road\n",
      "2021-01-20 11:46:29, INFO: Applying Year 2015 Modify HOV Lanes and USE on US 101 NB Oregon Expressway to Whipple Road\n",
      "2021-01-20 11:46:29, INFO: Applying Year 2015 Modify HOV Lanes and USE on US 101 NB Oregon Expressway to Whipple Road\n",
      "2021-01-20 11:46:29, INFO: Applying Year 2015 Modify HOV Lanes and USE on US 101 NB Oregon Expressway to Whipple Road\n",
      "2021-01-20 11:46:29, INFO: Applying Project to Roadway Network: Year 2015 Modify HOV Lanes and USE on US 101 NB Oregon Expressway to Whipple Road\n",
      "2021-01-20 11:46:29, INFO: Applying Project to Roadway Network: Year 2015 Modify HOV Lanes and USE on US 101 NB Oregon Expressway to Whipple Road\n"
     ]
    },
    {
     "name": "stderr",
     "output_type": "stream",
     "text": [
      "C:\\Users\\USGS667806\\Anaconda3\\envs\\lasso_environment\\lib\\site-packages\\geopandas\\geodataframe.py:853: SettingWithCopyWarning: \n",
      "A value is trying to be set on a copy of a slice from a DataFrame.\n",
      "Try using .loc[row_indexer,col_indexer] = value instead\n",
      "\n",
      "See the caveats in the documentation: https://pandas.pydata.org/pandas-docs/stable/user_guide/indexing.html#returning-a-view-versus-a-copy\n",
      "  super(GeoDataFrame, self).__setitem__(key, value)\n"
     ]
    },
    {
     "name": "stdout",
     "output_type": "stream",
     "text": [
      "2021-01-20 11:46:31, INFO: Applying Year 2015 Modify HOV Lanes and USE on US-101 NB from North of Petaluma to South of Healdsburg\n",
      "2021-01-20 11:46:31, INFO: Applying Year 2015 Modify HOV Lanes and USE on US-101 NB from North of Petaluma to South of Healdsburg\n",
      "2021-01-20 11:46:31, INFO: Applying Year 2015 Modify HOV Lanes and USE on US-101 NB from North of Petaluma to South of Healdsburg\n",
      "2021-01-20 11:46:31, INFO: Applying Year 2015 Modify HOV Lanes and USE on US-101 NB from North of Petaluma to South of Healdsburg\n",
      "2021-01-20 11:46:31, INFO: Applying Project to Roadway Network: Year 2015 Modify HOV Lanes and USE on US-101 NB from North of Petaluma to South of Healdsburg\n",
      "2021-01-20 11:46:31, INFO: Applying Project to Roadway Network: Year 2015 Modify HOV Lanes and USE on US-101 NB from North of Petaluma to South of Healdsburg\n"
     ]
    },
    {
     "name": "stderr",
     "output_type": "stream",
     "text": [
      "C:\\Users\\USGS667806\\Anaconda3\\envs\\lasso_environment\\lib\\site-packages\\geopandas\\geodataframe.py:853: SettingWithCopyWarning: \n",
      "A value is trying to be set on a copy of a slice from a DataFrame.\n",
      "Try using .loc[row_indexer,col_indexer] = value instead\n",
      "\n",
      "See the caveats in the documentation: https://pandas.pydata.org/pandas-docs/stable/user_guide/indexing.html#returning-a-view-versus-a-copy\n",
      "  super(GeoDataFrame, self).__setitem__(key, value)\n"
     ]
    },
    {
     "name": "stdout",
     "output_type": "stream",
     "text": [
      "2021-01-20 11:46:37, INFO: Applying Year 2015 Modify HOV Lanes and USE on US 101 NB Cochran Road to CA-85\n",
      "2021-01-20 11:46:37, INFO: Applying Year 2015 Modify HOV Lanes and USE on US 101 NB Cochran Road to CA-85\n",
      "2021-01-20 11:46:37, INFO: Applying Year 2015 Modify HOV Lanes and USE on US 101 NB Cochran Road to CA-85\n",
      "2021-01-20 11:46:37, INFO: Applying Year 2015 Modify HOV Lanes and USE on US 101 NB Cochran Road to CA-85\n",
      "2021-01-20 11:46:37, INFO: Applying Project to Roadway Network: Year 2015 Modify HOV Lanes and USE on US 101 NB Cochran Road to CA-85\n",
      "2021-01-20 11:46:37, INFO: Applying Project to Roadway Network: Year 2015 Modify HOV Lanes and USE on US 101 NB Cochran Road to CA-85\n"
     ]
    },
    {
     "name": "stderr",
     "output_type": "stream",
     "text": [
      "C:\\Users\\USGS667806\\Anaconda3\\envs\\lasso_environment\\lib\\site-packages\\geopandas\\geodataframe.py:853: SettingWithCopyWarning: \n",
      "A value is trying to be set on a copy of a slice from a DataFrame.\n",
      "Try using .loc[row_indexer,col_indexer] = value instead\n",
      "\n",
      "See the caveats in the documentation: https://pandas.pydata.org/pandas-docs/stable/user_guide/indexing.html#returning-a-view-versus-a-copy\n",
      "  super(GeoDataFrame, self).__setitem__(key, value)\n"
     ]
    },
    {
     "name": "stdout",
     "output_type": "stream",
     "text": [
      "2021-01-20 11:46:47, INFO: Applying Year 2015 Modify HOV Lanes and USE on San Tomas Expressway SB I-880 to Hwy 17\n",
      "2021-01-20 11:46:47, INFO: Applying Year 2015 Modify HOV Lanes and USE on San Tomas Expressway SB I-880 to Hwy 17\n",
      "2021-01-20 11:46:47, INFO: Applying Year 2015 Modify HOV Lanes and USE on San Tomas Expressway SB I-880 to Hwy 17\n",
      "2021-01-20 11:46:47, INFO: Applying Year 2015 Modify HOV Lanes and USE on San Tomas Expressway SB I-880 to Hwy 17\n",
      "2021-01-20 11:46:47, INFO: Applying Project to Roadway Network: Year 2015 Modify HOV Lanes and USE on San Tomas Expressway SB I-880 to Hwy 17\n",
      "2021-01-20 11:46:47, INFO: Applying Project to Roadway Network: Year 2015 Modify HOV Lanes and USE on San Tomas Expressway SB I-880 to Hwy 17\n"
     ]
    },
    {
     "name": "stderr",
     "output_type": "stream",
     "text": [
      "C:\\Users\\USGS667806\\Anaconda3\\envs\\lasso_environment\\lib\\site-packages\\geopandas\\geodataframe.py:853: SettingWithCopyWarning: \n",
      "A value is trying to be set on a copy of a slice from a DataFrame.\n",
      "Try using .loc[row_indexer,col_indexer] = value instead\n",
      "\n",
      "See the caveats in the documentation: https://pandas.pydata.org/pandas-docs/stable/user_guide/indexing.html#returning-a-view-versus-a-copy\n",
      "  super(GeoDataFrame, self).__setitem__(key, value)\n"
     ]
    },
    {
     "name": "stdout",
     "output_type": "stream",
     "text": [
      "2021-01-20 11:47:04, INFO: Applying Year 2015 Modify HOV Lanes and USE on San Tomas Expressway NB Hwy 17 to I-880\n",
      "2021-01-20 11:47:04, INFO: Applying Year 2015 Modify HOV Lanes and USE on San Tomas Expressway NB Hwy 17 to I-880\n",
      "2021-01-20 11:47:04, INFO: Applying Year 2015 Modify HOV Lanes and USE on San Tomas Expressway NB Hwy 17 to I-880\n",
      "2021-01-20 11:47:04, INFO: Applying Year 2015 Modify HOV Lanes and USE on San Tomas Expressway NB Hwy 17 to I-880\n",
      "2021-01-20 11:47:04, INFO: Applying Project to Roadway Network: Year 2015 Modify HOV Lanes and USE on San Tomas Expressway NB Hwy 17 to I-880\n",
      "2021-01-20 11:47:04, INFO: Applying Project to Roadway Network: Year 2015 Modify HOV Lanes and USE on San Tomas Expressway NB Hwy 17 to I-880\n"
     ]
    },
    {
     "name": "stderr",
     "output_type": "stream",
     "text": [
      "C:\\Users\\USGS667806\\Anaconda3\\envs\\lasso_environment\\lib\\site-packages\\geopandas\\geodataframe.py:853: SettingWithCopyWarning: \n",
      "A value is trying to be set on a copy of a slice from a DataFrame.\n",
      "Try using .loc[row_indexer,col_indexer] = value instead\n",
      "\n",
      "See the caveats in the documentation: https://pandas.pydata.org/pandas-docs/stable/user_guide/indexing.html#returning-a-view-versus-a-copy\n",
      "  super(GeoDataFrame, self).__setitem__(key, value)\n"
     ]
    },
    {
     "name": "stdout",
     "output_type": "stream",
     "text": [
      "2021-01-20 11:47:20, INFO: Applying Year 2015 Modify HOV Lanes and USE on Lawrence Expressway SB US 101 to I-280\n",
      "2021-01-20 11:47:20, INFO: Applying Year 2015 Modify HOV Lanes and USE on Lawrence Expressway SB US 101 to I-280\n",
      "2021-01-20 11:47:20, INFO: Applying Year 2015 Modify HOV Lanes and USE on Lawrence Expressway SB US 101 to I-280\n",
      "2021-01-20 11:47:20, INFO: Applying Year 2015 Modify HOV Lanes and USE on Lawrence Expressway SB US 101 to I-280\n",
      "2021-01-20 11:47:20, INFO: Applying Project to Roadway Network: Year 2015 Modify HOV Lanes and USE on Lawrence Expressway SB US 101 to I-280\n",
      "2021-01-20 11:47:20, INFO: Applying Project to Roadway Network: Year 2015 Modify HOV Lanes and USE on Lawrence Expressway SB US 101 to I-280\n"
     ]
    },
    {
     "name": "stderr",
     "output_type": "stream",
     "text": [
      "C:\\Users\\USGS667806\\Anaconda3\\envs\\lasso_environment\\lib\\site-packages\\geopandas\\geodataframe.py:853: SettingWithCopyWarning: \n",
      "A value is trying to be set on a copy of a slice from a DataFrame.\n",
      "Try using .loc[row_indexer,col_indexer] = value instead\n",
      "\n",
      "See the caveats in the documentation: https://pandas.pydata.org/pandas-docs/stable/user_guide/indexing.html#returning-a-view-versus-a-copy\n",
      "  super(GeoDataFrame, self).__setitem__(key, value)\n"
     ]
    },
    {
     "name": "stdout",
     "output_type": "stream",
     "text": [
      "2021-01-20 11:47:27, INFO: Applying Year 2015 Modify HOV Lanes and USE on Lawrence Expressway NB I-280 to US 101\n",
      "2021-01-20 11:47:27, INFO: Applying Year 2015 Modify HOV Lanes and USE on Lawrence Expressway NB I-280 to US 101\n",
      "2021-01-20 11:47:27, INFO: Applying Year 2015 Modify HOV Lanes and USE on Lawrence Expressway NB I-280 to US 101\n",
      "2021-01-20 11:47:27, INFO: Applying Year 2015 Modify HOV Lanes and USE on Lawrence Expressway NB I-280 to US 101\n",
      "2021-01-20 11:47:27, INFO: Applying Project to Roadway Network: Year 2015 Modify HOV Lanes and USE on Lawrence Expressway NB I-280 to US 101\n",
      "2021-01-20 11:47:27, INFO: Applying Project to Roadway Network: Year 2015 Modify HOV Lanes and USE on Lawrence Expressway NB I-280 to US 101\n"
     ]
    },
    {
     "name": "stderr",
     "output_type": "stream",
     "text": [
      "C:\\Users\\USGS667806\\Anaconda3\\envs\\lasso_environment\\lib\\site-packages\\geopandas\\geodataframe.py:853: SettingWithCopyWarning: \n",
      "A value is trying to be set on a copy of a slice from a DataFrame.\n",
      "Try using .loc[row_indexer,col_indexer] = value instead\n",
      "\n",
      "See the caveats in the documentation: https://pandas.pydata.org/pandas-docs/stable/user_guide/indexing.html#returning-a-view-versus-a-copy\n",
      "  super(GeoDataFrame, self).__setitem__(key, value)\n"
     ]
    },
    {
     "name": "stdout",
     "output_type": "stream",
     "text": [
      "2021-01-20 11:47:35, INFO: Applying Year 2015 Modify HOV Lanes and USE on Ramp Connecting I880 and Bay Bridge Plaza\n",
      "2021-01-20 11:47:35, INFO: Applying Year 2015 Modify HOV Lanes and USE on Ramp Connecting I880 and Bay Bridge Plaza\n",
      "2021-01-20 11:47:35, INFO: Applying Year 2015 Modify HOV Lanes and USE on Ramp Connecting I880 and Bay Bridge Plaza\n",
      "2021-01-20 11:47:35, INFO: Applying Year 2015 Modify HOV Lanes and USE on Ramp Connecting I880 and Bay Bridge Plaza\n",
      "2021-01-20 11:47:35, INFO: Applying Project to Roadway Network: Year 2015 Modify HOV Lanes and USE on Ramp Connecting I880 and Bay Bridge Plaza\n",
      "2021-01-20 11:47:35, INFO: Applying Project to Roadway Network: Year 2015 Modify HOV Lanes and USE on Ramp Connecting I880 and Bay Bridge Plaza\n"
     ]
    },
    {
     "name": "stderr",
     "output_type": "stream",
     "text": [
      "C:\\Users\\USGS667806\\Anaconda3\\envs\\lasso_environment\\lib\\site-packages\\geopandas\\geodataframe.py:853: SettingWithCopyWarning: \n",
      "A value is trying to be set on a copy of a slice from a DataFrame.\n",
      "Try using .loc[row_indexer,col_indexer] = value instead\n",
      "\n",
      "See the caveats in the documentation: https://pandas.pydata.org/pandas-docs/stable/user_guide/indexing.html#returning-a-view-versus-a-copy\n",
      "  super(GeoDataFrame, self).__setitem__(key, value)\n"
     ]
    },
    {
     "name": "stdout",
     "output_type": "stream",
     "text": [
      "2021-01-20 11:47:36, INFO: Applying Year 2015 Modify HOV Lanes and USE on I-880 SB from Hegenberger Road to Dixon Road\n",
      "2021-01-20 11:47:36, INFO: Applying Year 2015 Modify HOV Lanes and USE on I-880 SB from Hegenberger Road to Dixon Road\n",
      "2021-01-20 11:47:36, INFO: Applying Year 2015 Modify HOV Lanes and USE on I-880 SB from Hegenberger Road to Dixon Road\n",
      "2021-01-20 11:47:36, INFO: Applying Year 2015 Modify HOV Lanes and USE on I-880 SB from Hegenberger Road to Dixon Road\n",
      "2021-01-20 11:47:36, INFO: Applying Project to Roadway Network: Year 2015 Modify HOV Lanes and USE on I-880 SB from Hegenberger Road to Dixon Road\n",
      "2021-01-20 11:47:36, INFO: Applying Project to Roadway Network: Year 2015 Modify HOV Lanes and USE on I-880 SB from Hegenberger Road to Dixon Road\n"
     ]
    },
    {
     "name": "stderr",
     "output_type": "stream",
     "text": [
      "C:\\Users\\USGS667806\\Anaconda3\\envs\\lasso_environment\\lib\\site-packages\\geopandas\\geodataframe.py:853: SettingWithCopyWarning: \n",
      "A value is trying to be set on a copy of a slice from a DataFrame.\n",
      "Try using .loc[row_indexer,col_indexer] = value instead\n",
      "\n",
      "See the caveats in the documentation: https://pandas.pydata.org/pandas-docs/stable/user_guide/indexing.html#returning-a-view-versus-a-copy\n",
      "  super(GeoDataFrame, self).__setitem__(key, value)\n"
     ]
    },
    {
     "name": "stdout",
     "output_type": "stream",
     "text": [
      "2021-01-20 11:47:44, INFO: Applying Year 2015 Modify Express Lanes and USE on I-880 SB Dixon Road to CA-237\n",
      "2021-01-20 11:47:44, INFO: Applying Year 2015 Modify Express Lanes and USE on I-880 SB Dixon Road to CA-237\n",
      "2021-01-20 11:47:44, INFO: Applying Year 2015 Modify Express Lanes and USE on I-880 SB Dixon Road to CA-237\n",
      "2021-01-20 11:47:44, INFO: Applying Year 2015 Modify Express Lanes and USE on I-880 SB Dixon Road to CA-237\n",
      "2021-01-20 11:47:44, INFO: Applying Project to Roadway Network: Year 2015 Modify Express Lanes and USE on I-880 SB Dixon Road to CA-237\n",
      "2021-01-20 11:47:44, INFO: Applying Project to Roadway Network: Year 2015 Modify Express Lanes and USE on I-880 SB Dixon Road to CA-237\n",
      "2021-01-20 11:47:44, INFO: Applying Year 2015 Modify HOV Lanes and USE on I-880 SB CA-237 to US 101\n",
      "2021-01-20 11:47:44, INFO: Applying Year 2015 Modify HOV Lanes and USE on I-880 SB CA-237 to US 101\n",
      "2021-01-20 11:47:44, INFO: Applying Year 2015 Modify HOV Lanes and USE on I-880 SB CA-237 to US 101\n",
      "2021-01-20 11:47:44, INFO: Applying Year 2015 Modify HOV Lanes and USE on I-880 SB CA-237 to US 101\n",
      "2021-01-20 11:47:44, INFO: Applying Project to Roadway Network: Year 2015 Modify HOV Lanes and USE on I-880 SB CA-237 to US 101\n",
      "2021-01-20 11:47:44, INFO: Applying Project to Roadway Network: Year 2015 Modify HOV Lanes and USE on I-880 SB CA-237 to US 101\n"
     ]
    },
    {
     "name": "stderr",
     "output_type": "stream",
     "text": [
      "C:\\Users\\USGS667806\\Anaconda3\\envs\\lasso_environment\\lib\\site-packages\\geopandas\\geodataframe.py:853: SettingWithCopyWarning: \n",
      "A value is trying to be set on a copy of a slice from a DataFrame.\n",
      "Try using .loc[row_indexer,col_indexer] = value instead\n",
      "\n",
      "See the caveats in the documentation: https://pandas.pydata.org/pandas-docs/stable/user_guide/indexing.html#returning-a-view-versus-a-copy\n",
      "  super(GeoDataFrame, self).__setitem__(key, value)\n",
      "C:\\Users\\USGS667806\\Anaconda3\\envs\\lasso_environment\\lib\\site-packages\\geopandas\\geodataframe.py:853: SettingWithCopyWarning: \n",
      "A value is trying to be set on a copy of a slice from a DataFrame.\n",
      "Try using .loc[row_indexer,col_indexer] = value instead\n",
      "\n",
      "See the caveats in the documentation: https://pandas.pydata.org/pandas-docs/stable/user_guide/indexing.html#returning-a-view-versus-a-copy\n",
      "  super(GeoDataFrame, self).__setitem__(key, value)\n"
     ]
    },
    {
     "name": "stdout",
     "output_type": "stream",
     "text": [
      "2021-01-20 11:47:46, INFO: Applying Year 2015 Modify HOV lanes and USE on I-880 NB US 101 to CA-237\n",
      "2021-01-20 11:47:46, INFO: Applying Year 2015 Modify HOV lanes and USE on I-880 NB US 101 to CA-237\n",
      "2021-01-20 11:47:46, INFO: Applying Year 2015 Modify HOV lanes and USE on I-880 NB US 101 to CA-237\n",
      "2021-01-20 11:47:46, INFO: Applying Year 2015 Modify HOV lanes and USE on I-880 NB US 101 to CA-237\n",
      "2021-01-20 11:47:46, INFO: Applying Project to Roadway Network: Year 2015 Modify HOV lanes and USE on I-880 NB US 101 to CA-237\n",
      "2021-01-20 11:47:46, INFO: Applying Project to Roadway Network: Year 2015 Modify HOV lanes and USE on I-880 NB US 101 to CA-237\n"
     ]
    },
    {
     "name": "stderr",
     "output_type": "stream",
     "text": [
      "C:\\Users\\USGS667806\\Anaconda3\\envs\\lasso_environment\\lib\\site-packages\\geopandas\\geodataframe.py:853: SettingWithCopyWarning: \n",
      "A value is trying to be set on a copy of a slice from a DataFrame.\n",
      "Try using .loc[row_indexer,col_indexer] = value instead\n",
      "\n",
      "See the caveats in the documentation: https://pandas.pydata.org/pandas-docs/stable/user_guide/indexing.html#returning-a-view-versus-a-copy\n",
      "  super(GeoDataFrame, self).__setitem__(key, value)\n"
     ]
    },
    {
     "name": "stdout",
     "output_type": "stream",
     "text": [
      "2021-01-20 11:47:47, INFO: Applying Year 2015 Modify HOV Lanes and USE on I-880 NB from Dixon Road to I-238\n",
      "2021-01-20 11:47:47, INFO: Applying Year 2015 Modify HOV Lanes and USE on I-880 NB from Dixon Road to I-238\n",
      "2021-01-20 11:47:47, INFO: Applying Year 2015 Modify HOV Lanes and USE on I-880 NB from Dixon Road to I-238\n",
      "2021-01-20 11:47:47, INFO: Applying Year 2015 Modify HOV Lanes and USE on I-880 NB from Dixon Road to I-238\n",
      "2021-01-20 11:47:47, INFO: Applying Project to Roadway Network: Year 2015 Modify HOV Lanes and USE on I-880 NB from Dixon Road to I-238\n",
      "2021-01-20 11:47:47, INFO: Applying Project to Roadway Network: Year 2015 Modify HOV Lanes and USE on I-880 NB from Dixon Road to I-238\n"
     ]
    },
    {
     "name": "stderr",
     "output_type": "stream",
     "text": [
      "C:\\Users\\USGS667806\\Anaconda3\\envs\\lasso_environment\\lib\\site-packages\\geopandas\\geodataframe.py:853: SettingWithCopyWarning: \n",
      "A value is trying to be set on a copy of a slice from a DataFrame.\n",
      "Try using .loc[row_indexer,col_indexer] = value instead\n",
      "\n",
      "See the caveats in the documentation: https://pandas.pydata.org/pandas-docs/stable/user_guide/indexing.html#returning-a-view-versus-a-copy\n",
      "  super(GeoDataFrame, self).__setitem__(key, value)\n"
     ]
    },
    {
     "name": "stdout",
     "output_type": "stream",
     "text": [
      "2021-01-20 11:47:54, INFO: Applying Year 2015 Modify Express Lanes and USE on I-880 NB CA-237 to Dixon Road\n",
      "2021-01-20 11:47:54, INFO: Applying Year 2015 Modify Express Lanes and USE on I-880 NB CA-237 to Dixon Road\n",
      "2021-01-20 11:47:54, INFO: Applying Year 2015 Modify Express Lanes and USE on I-880 NB CA-237 to Dixon Road\n",
      "2021-01-20 11:47:54, INFO: Applying Year 2015 Modify Express Lanes and USE on I-880 NB CA-237 to Dixon Road\n",
      "2021-01-20 11:47:54, INFO: Applying Project to Roadway Network: Year 2015 Modify Express Lanes and USE on I-880 NB CA-237 to Dixon Road\n",
      "2021-01-20 11:47:54, INFO: Applying Project to Roadway Network: Year 2015 Modify Express Lanes and USE on I-880 NB CA-237 to Dixon Road\n"
     ]
    },
    {
     "name": "stderr",
     "output_type": "stream",
     "text": [
      "C:\\Users\\USGS667806\\Anaconda3\\envs\\lasso_environment\\lib\\site-packages\\geopandas\\geodataframe.py:853: SettingWithCopyWarning: \n",
      "A value is trying to be set on a copy of a slice from a DataFrame.\n",
      "Try using .loc[row_indexer,col_indexer] = value instead\n",
      "\n",
      "See the caveats in the documentation: https://pandas.pydata.org/pandas-docs/stable/user_guide/indexing.html#returning-a-view-versus-a-copy\n",
      "  super(GeoDataFrame, self).__setitem__(key, value)\n"
     ]
    },
    {
     "name": "stdout",
     "output_type": "stream",
     "text": [
      "2021-01-20 11:47:54, INFO: Applying Year 2015 Modify USE on I-80 WB to Bay Bridge Toll Plaza\n",
      "2021-01-20 11:47:54, INFO: Applying Year 2015 Modify USE on I-80 WB to Bay Bridge Toll Plaza\n",
      "2021-01-20 11:47:54, INFO: Applying Year 2015 Modify USE on I-80 WB to Bay Bridge Toll Plaza\n",
      "2021-01-20 11:47:54, INFO: Applying Year 2015 Modify USE on I-80 WB to Bay Bridge Toll Plaza\n",
      "2021-01-20 11:47:54, INFO: Applying Project to Roadway Network: Year 2015 Modify USE on I-80 WB to Bay Bridge Toll Plaza\n",
      "2021-01-20 11:47:54, INFO: Applying Project to Roadway Network: Year 2015 Modify USE on I-80 WB to Bay Bridge Toll Plaza\n",
      "2021-01-20 11:47:54, INFO: Applying Year 2015 Modify HOV Lanes and USE on I-80 WB from Fairfield to I-680\n",
      "2021-01-20 11:47:54, INFO: Applying Year 2015 Modify HOV Lanes and USE on I-80 WB from Fairfield to I-680\n",
      "2021-01-20 11:47:54, INFO: Applying Year 2015 Modify HOV Lanes and USE on I-80 WB from Fairfield to I-680\n",
      "2021-01-20 11:47:54, INFO: Applying Year 2015 Modify HOV Lanes and USE on I-80 WB from Fairfield to I-680\n",
      "2021-01-20 11:47:54, INFO: Applying Project to Roadway Network: Year 2015 Modify HOV Lanes and USE on I-80 WB from Fairfield to I-680\n",
      "2021-01-20 11:47:54, INFO: Applying Project to Roadway Network: Year 2015 Modify HOV Lanes and USE on I-80 WB from Fairfield to I-680\n"
     ]
    },
    {
     "name": "stderr",
     "output_type": "stream",
     "text": [
      "C:\\Users\\USGS667806\\Anaconda3\\envs\\lasso_environment\\lib\\site-packages\\geopandas\\geodataframe.py:853: SettingWithCopyWarning: \n",
      "A value is trying to be set on a copy of a slice from a DataFrame.\n",
      "Try using .loc[row_indexer,col_indexer] = value instead\n",
      "\n",
      "See the caveats in the documentation: https://pandas.pydata.org/pandas-docs/stable/user_guide/indexing.html#returning-a-view-versus-a-copy\n",
      "  super(GeoDataFrame, self).__setitem__(key, value)\n",
      "C:\\Users\\USGS667806\\Anaconda3\\envs\\lasso_environment\\lib\\site-packages\\geopandas\\geodataframe.py:853: SettingWithCopyWarning: \n",
      "A value is trying to be set on a copy of a slice from a DataFrame.\n",
      "Try using .loc[row_indexer,col_indexer] = value instead\n",
      "\n",
      "See the caveats in the documentation: https://pandas.pydata.org/pandas-docs/stable/user_guide/indexing.html#returning-a-view-versus-a-copy\n",
      "  super(GeoDataFrame, self).__setitem__(key, value)\n"
     ]
    },
    {
     "name": "stdout",
     "output_type": "stream",
     "text": [
      "2021-01-20 11:47:57, INFO: Applying Year 2015 Modify HOV Lanes and USE on I-80 WB from Carquinez Bridge to Bay Bridge Toll Plaza\n",
      "2021-01-20 11:47:57, INFO: Applying Year 2015 Modify HOV Lanes and USE on I-80 WB from Carquinez Bridge to Bay Bridge Toll Plaza\n",
      "2021-01-20 11:47:57, INFO: Applying Year 2015 Modify HOV Lanes and USE on I-80 WB from Carquinez Bridge to Bay Bridge Toll Plaza\n",
      "2021-01-20 11:47:57, INFO: Applying Year 2015 Modify HOV Lanes and USE on I-80 WB from Carquinez Bridge to Bay Bridge Toll Plaza\n",
      "2021-01-20 11:47:57, INFO: Applying Project to Roadway Network: Year 2015 Modify HOV Lanes and USE on I-80 WB from Carquinez Bridge to Bay Bridge Toll Plaza\n",
      "2021-01-20 11:47:57, INFO: Applying Project to Roadway Network: Year 2015 Modify HOV Lanes and USE on I-80 WB from Carquinez Bridge to Bay Bridge Toll Plaza\n"
     ]
    },
    {
     "name": "stderr",
     "output_type": "stream",
     "text": [
      "C:\\Users\\USGS667806\\Anaconda3\\envs\\lasso_environment\\lib\\site-packages\\geopandas\\geodataframe.py:853: SettingWithCopyWarning: \n",
      "A value is trying to be set on a copy of a slice from a DataFrame.\n",
      "Try using .loc[row_indexer,col_indexer] = value instead\n",
      "\n",
      "See the caveats in the documentation: https://pandas.pydata.org/pandas-docs/stable/user_guide/indexing.html#returning-a-view-versus-a-copy\n",
      "  super(GeoDataFrame, self).__setitem__(key, value)\n"
     ]
    },
    {
     "name": "stdout",
     "output_type": "stream",
     "text": [
      "2021-01-20 11:48:03, INFO: Applying Year 2015 Modify HOV Lanes and USE on I-80 EB from I-680 to Fairfield\n",
      "2021-01-20 11:48:03, INFO: Applying Year 2015 Modify HOV Lanes and USE on I-80 EB from I-680 to Fairfield\n",
      "2021-01-20 11:48:03, INFO: Applying Year 2015 Modify HOV Lanes and USE on I-80 EB from I-680 to Fairfield\n",
      "2021-01-20 11:48:03, INFO: Applying Year 2015 Modify HOV Lanes and USE on I-80 EB from I-680 to Fairfield\n",
      "2021-01-20 11:48:03, INFO: Applying Project to Roadway Network: Year 2015 Modify HOV Lanes and USE on I-80 EB from I-680 to Fairfield\n",
      "2021-01-20 11:48:03, INFO: Applying Project to Roadway Network: Year 2015 Modify HOV Lanes and USE on I-80 EB from I-680 to Fairfield\n"
     ]
    },
    {
     "name": "stderr",
     "output_type": "stream",
     "text": [
      "C:\\Users\\USGS667806\\Anaconda3\\envs\\lasso_environment\\lib\\site-packages\\geopandas\\geodataframe.py:853: SettingWithCopyWarning: \n",
      "A value is trying to be set on a copy of a slice from a DataFrame.\n",
      "Try using .loc[row_indexer,col_indexer] = value instead\n",
      "\n",
      "See the caveats in the documentation: https://pandas.pydata.org/pandas-docs/stable/user_guide/indexing.html#returning-a-view-versus-a-copy\n",
      "  super(GeoDataFrame, self).__setitem__(key, value)\n"
     ]
    },
    {
     "name": "stdout",
     "output_type": "stream",
     "text": [
      "2021-01-20 11:48:05, INFO: Applying Year 2015 Modify HOV Lanes and USE on I-80 EB from Bay Bridge to Carquinez Bridge Toll Plaza\n",
      "2021-01-20 11:48:05, INFO: Applying Year 2015 Modify HOV Lanes and USE on I-80 EB from Bay Bridge to Carquinez Bridge Toll Plaza\n",
      "2021-01-20 11:48:05, INFO: Applying Year 2015 Modify HOV Lanes and USE on I-80 EB from Bay Bridge to Carquinez Bridge Toll Plaza\n",
      "2021-01-20 11:48:05, INFO: Applying Year 2015 Modify HOV Lanes and USE on I-80 EB from Bay Bridge to Carquinez Bridge Toll Plaza\n",
      "2021-01-20 11:48:05, INFO: Applying Project to Roadway Network: Year 2015 Modify HOV Lanes and USE on I-80 EB from Bay Bridge to Carquinez Bridge Toll Plaza\n",
      "2021-01-20 11:48:05, INFO: Applying Project to Roadway Network: Year 2015 Modify HOV Lanes and USE on I-80 EB from Bay Bridge to Carquinez Bridge Toll Plaza\n"
     ]
    },
    {
     "name": "stderr",
     "output_type": "stream",
     "text": [
      "C:\\Users\\USGS667806\\Anaconda3\\envs\\lasso_environment\\lib\\site-packages\\geopandas\\geodataframe.py:853: SettingWithCopyWarning: \n",
      "A value is trying to be set on a copy of a slice from a DataFrame.\n",
      "Try using .loc[row_indexer,col_indexer] = value instead\n",
      "\n",
      "See the caveats in the documentation: https://pandas.pydata.org/pandas-docs/stable/user_guide/indexing.html#returning-a-view-versus-a-copy\n",
      "  super(GeoDataFrame, self).__setitem__(key, value)\n"
     ]
    },
    {
     "name": "stdout",
     "output_type": "stream",
     "text": [
      "2021-01-20 11:48:12, INFO: Applying Year 2015 Modify HOV Lanes and USE on I-680 SB from Rudgear Road to Acosta Blvd\n",
      "2021-01-20 11:48:12, INFO: Applying Year 2015 Modify HOV Lanes and USE on I-680 SB from Rudgear Road to Acosta Blvd\n",
      "2021-01-20 11:48:12, INFO: Applying Year 2015 Modify HOV Lanes and USE on I-680 SB from Rudgear Road to Acosta Blvd\n",
      "2021-01-20 11:48:12, INFO: Applying Year 2015 Modify HOV Lanes and USE on I-680 SB from Rudgear Road to Acosta Blvd\n",
      "2021-01-20 11:48:12, INFO: Applying Project to Roadway Network: Year 2015 Modify HOV Lanes and USE on I-680 SB from Rudgear Road to Acosta Blvd\n",
      "2021-01-20 11:48:12, INFO: Applying Project to Roadway Network: Year 2015 Modify HOV Lanes and USE on I-680 SB from Rudgear Road to Acosta Blvd\n"
     ]
    },
    {
     "name": "stderr",
     "output_type": "stream",
     "text": [
      "C:\\Users\\USGS667806\\Anaconda3\\envs\\lasso_environment\\lib\\site-packages\\geopandas\\geodataframe.py:853: SettingWithCopyWarning: \n",
      "A value is trying to be set on a copy of a slice from a DataFrame.\n",
      "Try using .loc[row_indexer,col_indexer] = value instead\n",
      "\n",
      "See the caveats in the documentation: https://pandas.pydata.org/pandas-docs/stable/user_guide/indexing.html#returning-a-view-versus-a-copy\n",
      "  super(GeoDataFrame, self).__setitem__(key, value)\n"
     ]
    },
    {
     "name": "stdout",
     "output_type": "stream",
     "text": [
      "2021-01-20 11:48:16, INFO: Applying Year 2015 Modify HOV Lanes and USE on I-680 SB from Benicia Bridge to CA-242\n",
      "2021-01-20 11:48:16, INFO: Applying Year 2015 Modify HOV Lanes and USE on I-680 SB from Benicia Bridge to CA-242\n",
      "2021-01-20 11:48:16, INFO: Applying Year 2015 Modify HOV Lanes and USE on I-680 SB from Benicia Bridge to CA-242\n",
      "2021-01-20 11:48:16, INFO: Applying Year 2015 Modify HOV Lanes and USE on I-680 SB from Benicia Bridge to CA-242\n",
      "2021-01-20 11:48:16, INFO: Applying Project to Roadway Network: Year 2015 Modify HOV Lanes and USE on I-680 SB from Benicia Bridge to CA-242\n",
      "2021-01-20 11:48:16, INFO: Applying Project to Roadway Network: Year 2015 Modify HOV Lanes and USE on I-680 SB from Benicia Bridge to CA-242\n"
     ]
    },
    {
     "name": "stderr",
     "output_type": "stream",
     "text": [
      "C:\\Users\\USGS667806\\Anaconda3\\envs\\lasso_environment\\lib\\site-packages\\geopandas\\geodataframe.py:853: SettingWithCopyWarning: \n",
      "A value is trying to be set on a copy of a slice from a DataFrame.\n",
      "Try using .loc[row_indexer,col_indexer] = value instead\n",
      "\n",
      "See the caveats in the documentation: https://pandas.pydata.org/pandas-docs/stable/user_guide/indexing.html#returning-a-view-versus-a-copy\n",
      "  super(GeoDataFrame, self).__setitem__(key, value)\n"
     ]
    },
    {
     "name": "stdout",
     "output_type": "stream",
     "text": [
      "2021-01-20 11:48:18, INFO: Applying Year 2015 Modify HOV Lanes USE on I-680 NB CA-242 to Benicia Bridge\n",
      "2021-01-20 11:48:18, INFO: Applying Year 2015 Modify HOV Lanes USE on I-680 NB CA-242 to Benicia Bridge\n",
      "2021-01-20 11:48:18, INFO: Applying Year 2015 Modify HOV Lanes USE on I-680 NB CA-242 to Benicia Bridge\n",
      "2021-01-20 11:48:18, INFO: Applying Year 2015 Modify HOV Lanes USE on I-680 NB CA-242 to Benicia Bridge\n",
      "2021-01-20 11:48:18, INFO: Applying Project to Roadway Network: Year 2015 Modify HOV Lanes USE on I-680 NB CA-242 to Benicia Bridge\n",
      "2021-01-20 11:48:18, INFO: Applying Project to Roadway Network: Year 2015 Modify HOV Lanes USE on I-680 NB CA-242 to Benicia Bridge\n"
     ]
    },
    {
     "name": "stderr",
     "output_type": "stream",
     "text": [
      "C:\\Users\\USGS667806\\Anaconda3\\envs\\lasso_environment\\lib\\site-packages\\geopandas\\geodataframe.py:853: SettingWithCopyWarning: \n",
      "A value is trying to be set on a copy of a slice from a DataFrame.\n",
      "Try using .loc[row_indexer,col_indexer] = value instead\n",
      "\n",
      "See the caveats in the documentation: https://pandas.pydata.org/pandas-docs/stable/user_guide/indexing.html#returning-a-view-versus-a-copy\n",
      "  super(GeoDataFrame, self).__setitem__(key, value)\n"
     ]
    },
    {
     "name": "stdout",
     "output_type": "stream",
     "text": [
      "2021-01-20 11:48:20, INFO: Applying Year 2015 Modify HOV Lanes and USE on I-680 NB from Acosta Blvd to Rudgear Road\n",
      "2021-01-20 11:48:20, INFO: Applying Year 2015 Modify HOV Lanes and USE on I-680 NB from Acosta Blvd to Rudgear Road\n",
      "2021-01-20 11:48:20, INFO: Applying Year 2015 Modify HOV Lanes and USE on I-680 NB from Acosta Blvd to Rudgear Road\n",
      "2021-01-20 11:48:20, INFO: Applying Year 2015 Modify HOV Lanes and USE on I-680 NB from Acosta Blvd to Rudgear Road\n",
      "2021-01-20 11:48:20, INFO: Applying Project to Roadway Network: Year 2015 Modify HOV Lanes and USE on I-680 NB from Acosta Blvd to Rudgear Road\n",
      "2021-01-20 11:48:20, INFO: Applying Project to Roadway Network: Year 2015 Modify HOV Lanes and USE on I-680 NB from Acosta Blvd to Rudgear Road\n"
     ]
    },
    {
     "name": "stderr",
     "output_type": "stream",
     "text": [
      "C:\\Users\\USGS667806\\Anaconda3\\envs\\lasso_environment\\lib\\site-packages\\geopandas\\geodataframe.py:853: SettingWithCopyWarning: \n",
      "A value is trying to be set on a copy of a slice from a DataFrame.\n",
      "Try using .loc[row_indexer,col_indexer] = value instead\n",
      "\n",
      "See the caveats in the documentation: https://pandas.pydata.org/pandas-docs/stable/user_guide/indexing.html#returning-a-view-versus-a-copy\n",
      "  super(GeoDataFrame, self).__setitem__(key, value)\n"
     ]
    },
    {
     "name": "stdout",
     "output_type": "stream",
     "text": [
      "2021-01-20 11:48:23, INFO: Applying Year 2015 Modify HOV lanes and USE on Hwy 4 WB from Deer Valley Road to Port Chicago Highway\n",
      "2021-01-20 11:48:23, INFO: Applying Year 2015 Modify HOV lanes and USE on Hwy 4 WB from Deer Valley Road to Port Chicago Highway\n",
      "2021-01-20 11:48:23, INFO: Applying Year 2015 Modify HOV lanes and USE on Hwy 4 WB from Deer Valley Road to Port Chicago Highway\n",
      "2021-01-20 11:48:23, INFO: Applying Year 2015 Modify HOV lanes and USE on Hwy 4 WB from Deer Valley Road to Port Chicago Highway\n",
      "2021-01-20 11:48:23, INFO: Applying Project to Roadway Network: Year 2015 Modify HOV lanes and USE on Hwy 4 WB from Deer Valley Road to Port Chicago Highway\n",
      "2021-01-20 11:48:23, INFO: Applying Project to Roadway Network: Year 2015 Modify HOV lanes and USE on Hwy 4 WB from Deer Valley Road to Port Chicago Highway\n"
     ]
    },
    {
     "name": "stderr",
     "output_type": "stream",
     "text": [
      "C:\\Users\\USGS667806\\Anaconda3\\envs\\lasso_environment\\lib\\site-packages\\geopandas\\geodataframe.py:853: SettingWithCopyWarning: \n",
      "A value is trying to be set on a copy of a slice from a DataFrame.\n",
      "Try using .loc[row_indexer,col_indexer] = value instead\n",
      "\n",
      "See the caveats in the documentation: https://pandas.pydata.org/pandas-docs/stable/user_guide/indexing.html#returning-a-view-versus-a-copy\n",
      "  super(GeoDataFrame, self).__setitem__(key, value)\n"
     ]
    },
    {
     "name": "stdout",
     "output_type": "stream",
     "text": [
      "2021-01-20 11:48:26, INFO: Applying Year 2015 Modify HOV Lanes and USE on Hwy 4 EB from Port Chicago Highway to Deer Valley Road\n",
      "2021-01-20 11:48:26, INFO: Applying Year 2015 Modify HOV Lanes and USE on Hwy 4 EB from Port Chicago Highway to Deer Valley Road\n",
      "2021-01-20 11:48:26, INFO: Applying Year 2015 Modify HOV Lanes and USE on Hwy 4 EB from Port Chicago Highway to Deer Valley Road\n",
      "2021-01-20 11:48:26, INFO: Applying Year 2015 Modify HOV Lanes and USE on Hwy 4 EB from Port Chicago Highway to Deer Valley Road\n",
      "2021-01-20 11:48:26, INFO: Applying Project to Roadway Network: Year 2015 Modify HOV Lanes and USE on Hwy 4 EB from Port Chicago Highway to Deer Valley Road\n",
      "2021-01-20 11:48:26, INFO: Applying Project to Roadway Network: Year 2015 Modify HOV Lanes and USE on Hwy 4 EB from Port Chicago Highway to Deer Valley Road\n"
     ]
    },
    {
     "name": "stderr",
     "output_type": "stream",
     "text": [
      "C:\\Users\\USGS667806\\Anaconda3\\envs\\lasso_environment\\lib\\site-packages\\geopandas\\geodataframe.py:853: SettingWithCopyWarning: \n",
      "A value is trying to be set on a copy of a slice from a DataFrame.\n",
      "Try using .loc[row_indexer,col_indexer] = value instead\n",
      "\n",
      "See the caveats in the documentation: https://pandas.pydata.org/pandas-docs/stable/user_guide/indexing.html#returning-a-view-versus-a-copy\n",
      "  super(GeoDataFrame, self).__setitem__(key, value)\n"
     ]
    },
    {
     "name": "stdout",
     "output_type": "stream",
     "text": [
      "2021-01-20 11:48:29, INFO: Applying Year 2015 Modify HOV Lanes and USE on E Capitol Expressway SB I-680 to US 101\n",
      "2021-01-20 11:48:29, INFO: Applying Year 2015 Modify HOV Lanes and USE on E Capitol Expressway SB I-680 to US 101\n",
      "2021-01-20 11:48:29, INFO: Applying Year 2015 Modify HOV Lanes and USE on E Capitol Expressway SB I-680 to US 101\n",
      "2021-01-20 11:48:29, INFO: Applying Year 2015 Modify HOV Lanes and USE on E Capitol Expressway SB I-680 to US 101\n",
      "2021-01-20 11:48:29, INFO: Applying Project to Roadway Network: Year 2015 Modify HOV Lanes and USE on E Capitol Expressway SB I-680 to US 101\n",
      "2021-01-20 11:48:29, INFO: Applying Project to Roadway Network: Year 2015 Modify HOV Lanes and USE on E Capitol Expressway SB I-680 to US 101\n"
     ]
    },
    {
     "name": "stderr",
     "output_type": "stream",
     "text": [
      "C:\\Users\\USGS667806\\Anaconda3\\envs\\lasso_environment\\lib\\site-packages\\geopandas\\geodataframe.py:853: SettingWithCopyWarning: \n",
      "A value is trying to be set on a copy of a slice from a DataFrame.\n",
      "Try using .loc[row_indexer,col_indexer] = value instead\n",
      "\n",
      "See the caveats in the documentation: https://pandas.pydata.org/pandas-docs/stable/user_guide/indexing.html#returning-a-view-versus-a-copy\n",
      "  super(GeoDataFrame, self).__setitem__(key, value)\n"
     ]
    },
    {
     "name": "stdout",
     "output_type": "stream",
     "text": [
      "2021-01-20 11:48:40, INFO: Applying Year 2015 Modify HOV Lanes and USE on E Capitol Expressway NB US101 to I-680\n",
      "2021-01-20 11:48:40, INFO: Applying Year 2015 Modify HOV Lanes and USE on E Capitol Expressway NB US101 to I-680\n",
      "2021-01-20 11:48:40, INFO: Applying Year 2015 Modify HOV Lanes and USE on E Capitol Expressway NB US101 to I-680\n",
      "2021-01-20 11:48:40, INFO: Applying Year 2015 Modify HOV Lanes and USE on E Capitol Expressway NB US101 to I-680\n",
      "2021-01-20 11:48:40, INFO: Applying Project to Roadway Network: Year 2015 Modify HOV Lanes and USE on E Capitol Expressway NB US101 to I-680\n",
      "2021-01-20 11:48:40, INFO: Applying Project to Roadway Network: Year 2015 Modify HOV Lanes and USE on E Capitol Expressway NB US101 to I-680\n"
     ]
    },
    {
     "name": "stderr",
     "output_type": "stream",
     "text": [
      "C:\\Users\\USGS667806\\Anaconda3\\envs\\lasso_environment\\lib\\site-packages\\geopandas\\geodataframe.py:853: SettingWithCopyWarning: \n",
      "A value is trying to be set on a copy of a slice from a DataFrame.\n",
      "Try using .loc[row_indexer,col_indexer] = value instead\n",
      "\n",
      "See the caveats in the documentation: https://pandas.pydata.org/pandas-docs/stable/user_guide/indexing.html#returning-a-view-versus-a-copy\n",
      "  super(GeoDataFrame, self).__setitem__(key, value)\n"
     ]
    },
    {
     "name": "stdout",
     "output_type": "stream",
     "text": [
      "2021-01-20 11:48:48, INFO: Applying Year 2015 Modify HOV Lanes and USE on CA-92 WB Eden Landing Rd to San Mateo-Hayward Bridge Toll Plaza\n",
      "2021-01-20 11:48:48, INFO: Applying Year 2015 Modify HOV Lanes and USE on CA-92 WB Eden Landing Rd to San Mateo-Hayward Bridge Toll Plaza\n",
      "2021-01-20 11:48:48, INFO: Applying Year 2015 Modify HOV Lanes and USE on CA-92 WB Eden Landing Rd to San Mateo-Hayward Bridge Toll Plaza\n",
      "2021-01-20 11:48:48, INFO: Applying Year 2015 Modify HOV Lanes and USE on CA-92 WB Eden Landing Rd to San Mateo-Hayward Bridge Toll Plaza\n",
      "2021-01-20 11:48:48, INFO: Applying Project to Roadway Network: Year 2015 Modify HOV Lanes and USE on CA-92 WB Eden Landing Rd to San Mateo-Hayward Bridge Toll Plaza\n",
      "2021-01-20 11:48:48, INFO: Applying Project to Roadway Network: Year 2015 Modify HOV Lanes and USE on CA-92 WB Eden Landing Rd to San Mateo-Hayward Bridge Toll Plaza\n"
     ]
    },
    {
     "name": "stderr",
     "output_type": "stream",
     "text": [
      "C:\\Users\\USGS667806\\Anaconda3\\envs\\lasso_environment\\lib\\site-packages\\geopandas\\geodataframe.py:853: SettingWithCopyWarning: \n",
      "A value is trying to be set on a copy of a slice from a DataFrame.\n",
      "Try using .loc[row_indexer,col_indexer] = value instead\n",
      "\n",
      "See the caveats in the documentation: https://pandas.pydata.org/pandas-docs/stable/user_guide/indexing.html#returning-a-view-versus-a-copy\n",
      "  super(GeoDataFrame, self).__setitem__(key, value)\n"
     ]
    },
    {
     "name": "stdout",
     "output_type": "stream",
     "text": [
      "2021-01-20 11:48:49, INFO: Applying Year 2015 Modify HOV Lanes and USE on CA-87 SB US 101 to CA-85\n",
      "2021-01-20 11:48:49, INFO: Applying Year 2015 Modify HOV Lanes and USE on CA-87 SB US 101 to CA-85\n",
      "2021-01-20 11:48:49, INFO: Applying Year 2015 Modify HOV Lanes and USE on CA-87 SB US 101 to CA-85\n",
      "2021-01-20 11:48:49, INFO: Applying Year 2015 Modify HOV Lanes and USE on CA-87 SB US 101 to CA-85\n",
      "2021-01-20 11:48:49, INFO: Applying Project to Roadway Network: Year 2015 Modify HOV Lanes and USE on CA-87 SB US 101 to CA-85\n",
      "2021-01-20 11:48:49, INFO: Applying Project to Roadway Network: Year 2015 Modify HOV Lanes and USE on CA-87 SB US 101 to CA-85\n"
     ]
    },
    {
     "name": "stderr",
     "output_type": "stream",
     "text": [
      "C:\\Users\\USGS667806\\Anaconda3\\envs\\lasso_environment\\lib\\site-packages\\geopandas\\geodataframe.py:853: SettingWithCopyWarning: \n",
      "A value is trying to be set on a copy of a slice from a DataFrame.\n",
      "Try using .loc[row_indexer,col_indexer] = value instead\n",
      "\n",
      "See the caveats in the documentation: https://pandas.pydata.org/pandas-docs/stable/user_guide/indexing.html#returning-a-view-versus-a-copy\n",
      "  super(GeoDataFrame, self).__setitem__(key, value)\n"
     ]
    },
    {
     "name": "stdout",
     "output_type": "stream",
     "text": [
      "2021-01-20 11:48:52, INFO: Applying Year 2015 Modify HOV Lanes and USE on CA 87 NB CA-85 to US 101\n",
      "2021-01-20 11:48:52, INFO: Applying Year 2015 Modify HOV Lanes and USE on CA 87 NB CA-85 to US 101\n",
      "2021-01-20 11:48:52, INFO: Applying Year 2015 Modify HOV Lanes and USE on CA 87 NB CA-85 to US 101\n",
      "2021-01-20 11:48:52, INFO: Applying Year 2015 Modify HOV Lanes and USE on CA 87 NB CA-85 to US 101\n",
      "2021-01-20 11:48:52, INFO: Applying Project to Roadway Network: Year 2015 Modify HOV Lanes and USE on CA 87 NB CA-85 to US 101\n",
      "2021-01-20 11:48:52, INFO: Applying Project to Roadway Network: Year 2015 Modify HOV Lanes and USE on CA 87 NB CA-85 to US 101\n"
     ]
    },
    {
     "name": "stderr",
     "output_type": "stream",
     "text": [
      "C:\\Users\\USGS667806\\Anaconda3\\envs\\lasso_environment\\lib\\site-packages\\geopandas\\geodataframe.py:853: SettingWithCopyWarning: \n",
      "A value is trying to be set on a copy of a slice from a DataFrame.\n",
      "Try using .loc[row_indexer,col_indexer] = value instead\n",
      "\n",
      "See the caveats in the documentation: https://pandas.pydata.org/pandas-docs/stable/user_guide/indexing.html#returning-a-view-versus-a-copy\n",
      "  super(GeoDataFrame, self).__setitem__(key, value)\n"
     ]
    },
    {
     "name": "stdout",
     "output_type": "stream",
     "text": [
      "2021-01-20 11:48:55, INFO: Applying Year 2015 Modify HOV Lanes and USE on CA-85 SB US101 to US101\n",
      "2021-01-20 11:48:55, INFO: Applying Year 2015 Modify HOV Lanes and USE on CA-85 SB US101 to US101\n",
      "2021-01-20 11:48:55, INFO: Applying Year 2015 Modify HOV Lanes and USE on CA-85 SB US101 to US101\n",
      "2021-01-20 11:48:55, INFO: Applying Year 2015 Modify HOV Lanes and USE on CA-85 SB US101 to US101\n",
      "2021-01-20 11:48:55, INFO: Applying Project to Roadway Network: Year 2015 Modify HOV Lanes and USE on CA-85 SB US101 to US101\n",
      "2021-01-20 11:48:55, INFO: Applying Project to Roadway Network: Year 2015 Modify HOV Lanes and USE on CA-85 SB US101 to US101\n"
     ]
    },
    {
     "name": "stderr",
     "output_type": "stream",
     "text": [
      "C:\\Users\\USGS667806\\Anaconda3\\envs\\lasso_environment\\lib\\site-packages\\geopandas\\geodataframe.py:853: SettingWithCopyWarning: \n",
      "A value is trying to be set on a copy of a slice from a DataFrame.\n",
      "Try using .loc[row_indexer,col_indexer] = value instead\n",
      "\n",
      "See the caveats in the documentation: https://pandas.pydata.org/pandas-docs/stable/user_guide/indexing.html#returning-a-view-versus-a-copy\n",
      "  super(GeoDataFrame, self).__setitem__(key, value)\n"
     ]
    },
    {
     "name": "stdout",
     "output_type": "stream",
     "text": [
      "2021-01-20 11:49:03, INFO: Applying Year 2015 Modify HOV Lanes and USE on CA-85 NB US101 to US101\n",
      "2021-01-20 11:49:03, INFO: Applying Year 2015 Modify HOV Lanes and USE on CA-85 NB US101 to US101\n",
      "2021-01-20 11:49:03, INFO: Applying Year 2015 Modify HOV Lanes and USE on CA-85 NB US101 to US101\n",
      "2021-01-20 11:49:03, INFO: Applying Year 2015 Modify HOV Lanes and USE on CA-85 NB US101 to US101\n",
      "2021-01-20 11:49:03, INFO: Applying Project to Roadway Network: Year 2015 Modify HOV Lanes and USE on CA-85 NB US101 to US101\n",
      "2021-01-20 11:49:03, INFO: Applying Project to Roadway Network: Year 2015 Modify HOV Lanes and USE on CA-85 NB US101 to US101\n"
     ]
    },
    {
     "name": "stderr",
     "output_type": "stream",
     "text": [
      "C:\\Users\\USGS667806\\Anaconda3\\envs\\lasso_environment\\lib\\site-packages\\geopandas\\geodataframe.py:853: SettingWithCopyWarning: \n",
      "A value is trying to be set on a copy of a slice from a DataFrame.\n",
      "Try using .loc[row_indexer,col_indexer] = value instead\n",
      "\n",
      "See the caveats in the documentation: https://pandas.pydata.org/pandas-docs/stable/user_guide/indexing.html#returning-a-view-versus-a-copy\n",
      "  super(GeoDataFrame, self).__setitem__(key, value)\n"
     ]
    },
    {
     "name": "stdout",
     "output_type": "stream",
     "text": [
      "2021-01-20 11:49:10, INFO: Applying Year 2015 Modify HOV Lanes and USE on CA-84 WB I-880 to Dumbarton Bridge Toll Plaza\n",
      "2021-01-20 11:49:10, INFO: Applying Year 2015 Modify HOV Lanes and USE on CA-84 WB I-880 to Dumbarton Bridge Toll Plaza\n",
      "2021-01-20 11:49:10, INFO: Applying Year 2015 Modify HOV Lanes and USE on CA-84 WB I-880 to Dumbarton Bridge Toll Plaza\n",
      "2021-01-20 11:49:10, INFO: Applying Year 2015 Modify HOV Lanes and USE on CA-84 WB I-880 to Dumbarton Bridge Toll Plaza\n",
      "2021-01-20 11:49:10, INFO: Applying Project to Roadway Network: Year 2015 Modify HOV Lanes and USE on CA-84 WB I-880 to Dumbarton Bridge Toll Plaza\n",
      "2021-01-20 11:49:10, INFO: Applying Project to Roadway Network: Year 2015 Modify HOV Lanes and USE on CA-84 WB I-880 to Dumbarton Bridge Toll Plaza\n"
     ]
    },
    {
     "name": "stderr",
     "output_type": "stream",
     "text": [
      "C:\\Users\\USGS667806\\Anaconda3\\envs\\lasso_environment\\lib\\site-packages\\geopandas\\geodataframe.py:853: SettingWithCopyWarning: \n",
      "A value is trying to be set on a copy of a slice from a DataFrame.\n",
      "Try using .loc[row_indexer,col_indexer] = value instead\n",
      "\n",
      "See the caveats in the documentation: https://pandas.pydata.org/pandas-docs/stable/user_guide/indexing.html#returning-a-view-versus-a-copy\n",
      "  super(GeoDataFrame, self).__setitem__(key, value)\n"
     ]
    },
    {
     "name": "stdout",
     "output_type": "stream",
     "text": [
      "2021-01-20 11:49:11, INFO: Applying Year 2015 Modify HOV Lanes and USE on CA-280 SB Magdalena Ave to Southwest Expressway\n",
      "2021-01-20 11:49:11, INFO: Applying Year 2015 Modify HOV Lanes and USE on CA-280 SB Magdalena Ave to Southwest Expressway\n",
      "2021-01-20 11:49:11, INFO: Applying Year 2015 Modify HOV Lanes and USE on CA-280 SB Magdalena Ave to Southwest Expressway\n",
      "2021-01-20 11:49:11, INFO: Applying Year 2015 Modify HOV Lanes and USE on CA-280 SB Magdalena Ave to Southwest Expressway\n",
      "2021-01-20 11:49:11, INFO: Applying Project to Roadway Network: Year 2015 Modify HOV Lanes and USE on CA-280 SB Magdalena Ave to Southwest Expressway\n",
      "2021-01-20 11:49:11, INFO: Applying Project to Roadway Network: Year 2015 Modify HOV Lanes and USE on CA-280 SB Magdalena Ave to Southwest Expressway\n"
     ]
    },
    {
     "name": "stderr",
     "output_type": "stream",
     "text": [
      "C:\\Users\\USGS667806\\Anaconda3\\envs\\lasso_environment\\lib\\site-packages\\geopandas\\geodataframe.py:853: SettingWithCopyWarning: \n",
      "A value is trying to be set on a copy of a slice from a DataFrame.\n",
      "Try using .loc[row_indexer,col_indexer] = value instead\n",
      "\n",
      "See the caveats in the documentation: https://pandas.pydata.org/pandas-docs/stable/user_guide/indexing.html#returning-a-view-versus-a-copy\n",
      "  super(GeoDataFrame, self).__setitem__(key, value)\n"
     ]
    },
    {
     "name": "stdout",
     "output_type": "stream",
     "text": [
      "2021-01-20 11:49:13, INFO: Applying Year 2015 Modify HOV Lanes and USE on CA-280 NB Bascom Ave to Magdalena Ave\n",
      "2021-01-20 11:49:13, INFO: Applying Year 2015 Modify HOV Lanes and USE on CA-280 NB Bascom Ave to Magdalena Ave\n",
      "2021-01-20 11:49:13, INFO: Applying Year 2015 Modify HOV Lanes and USE on CA-280 NB Bascom Ave to Magdalena Ave\n",
      "2021-01-20 11:49:13, INFO: Applying Year 2015 Modify HOV Lanes and USE on CA-280 NB Bascom Ave to Magdalena Ave\n",
      "2021-01-20 11:49:13, INFO: Applying Project to Roadway Network: Year 2015 Modify HOV Lanes and USE on CA-280 NB Bascom Ave to Magdalena Ave\n",
      "2021-01-20 11:49:13, INFO: Applying Project to Roadway Network: Year 2015 Modify HOV Lanes and USE on CA-280 NB Bascom Ave to Magdalena Ave\n"
     ]
    },
    {
     "name": "stderr",
     "output_type": "stream",
     "text": [
      "C:\\Users\\USGS667806\\Anaconda3\\envs\\lasso_environment\\lib\\site-packages\\geopandas\\geodataframe.py:853: SettingWithCopyWarning: \n",
      "A value is trying to be set on a copy of a slice from a DataFrame.\n",
      "Try using .loc[row_indexer,col_indexer] = value instead\n",
      "\n",
      "See the caveats in the documentation: https://pandas.pydata.org/pandas-docs/stable/user_guide/indexing.html#returning-a-view-versus-a-copy\n",
      "  super(GeoDataFrame, self).__setitem__(key, value)\n"
     ]
    },
    {
     "name": "stdout",
     "output_type": "stream",
     "text": [
      "2021-01-20 11:49:16, INFO: Applying Year 2015 Modify HOV Lanes and USE on CA-237 WB North 1st Street to US 101\n",
      "2021-01-20 11:49:16, INFO: Applying Year 2015 Modify HOV Lanes and USE on CA-237 WB North 1st Street to US 101\n",
      "2021-01-20 11:49:16, INFO: Applying Year 2015 Modify HOV Lanes and USE on CA-237 WB North 1st Street to US 101\n",
      "2021-01-20 11:49:16, INFO: Applying Year 2015 Modify HOV Lanes and USE on CA-237 WB North 1st Street to US 101\n",
      "2021-01-20 11:49:16, INFO: Applying Project to Roadway Network: Year 2015 Modify HOV Lanes and USE on CA-237 WB North 1st Street to US 101\n",
      "2021-01-20 11:49:16, INFO: Applying Project to Roadway Network: Year 2015 Modify HOV Lanes and USE on CA-237 WB North 1st Street to US 101\n"
     ]
    },
    {
     "name": "stderr",
     "output_type": "stream",
     "text": [
      "C:\\Users\\USGS667806\\Anaconda3\\envs\\lasso_environment\\lib\\site-packages\\geopandas\\geodataframe.py:853: SettingWithCopyWarning: \n",
      "A value is trying to be set on a copy of a slice from a DataFrame.\n",
      "Try using .loc[row_indexer,col_indexer] = value instead\n",
      "\n",
      "See the caveats in the documentation: https://pandas.pydata.org/pandas-docs/stable/user_guide/indexing.html#returning-a-view-versus-a-copy\n",
      "  super(GeoDataFrame, self).__setitem__(key, value)\n"
     ]
    },
    {
     "name": "stdout",
     "output_type": "stream",
     "text": [
      "2021-01-20 11:49:17, INFO: Applying Year 2015 Modify HOV Lanes and USE on CA-237 EB US 101 to North 1st Street\n",
      "2021-01-20 11:49:17, INFO: Applying Year 2015 Modify HOV Lanes and USE on CA-237 EB US 101 to North 1st Street\n",
      "2021-01-20 11:49:17, INFO: Applying Year 2015 Modify HOV Lanes and USE on CA-237 EB US 101 to North 1st Street\n",
      "2021-01-20 11:49:17, INFO: Applying Year 2015 Modify HOV Lanes and USE on CA-237 EB US 101 to North 1st Street\n",
      "2021-01-20 11:49:17, INFO: Applying Project to Roadway Network: Year 2015 Modify HOV Lanes and USE on CA-237 EB US 101 to North 1st Street\n",
      "2021-01-20 11:49:17, INFO: Applying Project to Roadway Network: Year 2015 Modify HOV Lanes and USE on CA-237 EB US 101 to North 1st Street\n"
     ]
    },
    {
     "name": "stderr",
     "output_type": "stream",
     "text": [
      "C:\\Users\\USGS667806\\Anaconda3\\envs\\lasso_environment\\lib\\site-packages\\geopandas\\geodataframe.py:853: SettingWithCopyWarning: \n",
      "A value is trying to be set on a copy of a slice from a DataFrame.\n",
      "Try using .loc[row_indexer,col_indexer] = value instead\n",
      "\n",
      "See the caveats in the documentation: https://pandas.pydata.org/pandas-docs/stable/user_guide/indexing.html#returning-a-view-versus-a-copy\n",
      "  super(GeoDataFrame, self).__setitem__(key, value)\n"
     ]
    },
    {
     "name": "stdout",
     "output_type": "stream",
     "text": [
      "2021-01-20 11:49:18, INFO: Applying Year 2015 Bus Only Segments for Transbay Terminal Ramps\n",
      "2021-01-20 11:49:18, INFO: Applying Year 2015 Bus Only Segments for Transbay Terminal Ramps\n",
      "2021-01-20 11:49:18, INFO: Applying Year 2015 Bus Only Segments for Transbay Terminal Ramps\n",
      "2021-01-20 11:49:18, INFO: Applying Year 2015 Bus Only Segments for Transbay Terminal Ramps\n",
      "2021-01-20 11:49:18, INFO: Applying Project to Roadway Network: Year 2015 Bus Only Segments for Transbay Terminal Ramps\n",
      "2021-01-20 11:49:18, INFO: Applying Project to Roadway Network: Year 2015 Bus Only Segments for Transbay Terminal Ramps\n"
     ]
    },
    {
     "name": "stderr",
     "output_type": "stream",
     "text": [
      "C:\\Users\\USGS667806\\Anaconda3\\envs\\lasso_environment\\lib\\site-packages\\geopandas\\geodataframe.py:853: SettingWithCopyWarning: \n",
      "A value is trying to be set on a copy of a slice from a DataFrame.\n",
      "Try using .loc[row_indexer,col_indexer] = value instead\n",
      "\n",
      "See the caveats in the documentation: https://pandas.pydata.org/pandas-docs/stable/user_guide/indexing.html#returning-a-view-versus-a-copy\n",
      "  super(GeoDataFrame, self).__setitem__(key, value)\n"
     ]
    },
    {
     "name": "stdout",
     "output_type": "stream",
     "text": [
      "2021-01-20 11:49:19, INFO: Applying Year 2015 Bus Only Segments for Golden Gate Transit on US 101\n",
      "2021-01-20 11:49:19, INFO: Applying Year 2015 Bus Only Segments for Golden Gate Transit on US 101\n",
      "2021-01-20 11:49:19, INFO: Applying Year 2015 Bus Only Segments for Golden Gate Transit on US 101\n",
      "2021-01-20 11:49:19, INFO: Applying Year 2015 Bus Only Segments for Golden Gate Transit on US 101\n",
      "2021-01-20 11:49:19, INFO: Applying Project to Roadway Network: Year 2015 Bus Only Segments for Golden Gate Transit on US 101\n",
      "2021-01-20 11:49:19, INFO: Applying Project to Roadway Network: Year 2015 Bus Only Segments for Golden Gate Transit on US 101\n",
      "2021-01-20 11:49:20, INFO: Applying Year 2015 Exclude Trucks on SR 85\n",
      "2021-01-20 11:49:20, INFO: Applying Year 2015 Exclude Trucks on SR 85\n",
      "2021-01-20 11:49:20, INFO: Applying Year 2015 Exclude Trucks on SR 85\n",
      "2021-01-20 11:49:20, INFO: Applying Year 2015 Exclude Trucks on SR 85\n",
      "2021-01-20 11:49:20, INFO: Applying Project to Roadway Network: Year 2015 Exclude Trucks on SR 85\n",
      "2021-01-20 11:49:20, INFO: Applying Project to Roadway Network: Year 2015 Exclude Trucks on SR 85\n"
     ]
    },
    {
     "name": "stderr",
     "output_type": "stream",
     "text": [
      "C:\\Users\\USGS667806\\Anaconda3\\envs\\lasso_environment\\lib\\site-packages\\geopandas\\geodataframe.py:853: SettingWithCopyWarning: \n",
      "A value is trying to be set on a copy of a slice from a DataFrame.\n",
      "Try using .loc[row_indexer,col_indexer] = value instead\n",
      "\n",
      "See the caveats in the documentation: https://pandas.pydata.org/pandas-docs/stable/user_guide/indexing.html#returning-a-view-versus-a-copy\n",
      "  super(GeoDataFrame, self).__setitem__(key, value)\n"
     ]
    },
    {
     "name": "stdout",
     "output_type": "stream",
     "text": [
      "2021-01-20 11:49:20, INFO: Applying Year 2015 Exclude Trucks on I580\n",
      "2021-01-20 11:49:20, INFO: Applying Year 2015 Exclude Trucks on I580\n",
      "2021-01-20 11:49:20, INFO: Applying Year 2015 Exclude Trucks on I580\n",
      "2021-01-20 11:49:20, INFO: Applying Year 2015 Exclude Trucks on I580\n",
      "2021-01-20 11:49:20, INFO: Applying Project to Roadway Network: Year 2015 Exclude Trucks on I580\n",
      "2021-01-20 11:49:20, INFO: Applying Project to Roadway Network: Year 2015 Exclude Trucks on I580\n"
     ]
    },
    {
     "name": "stderr",
     "output_type": "stream",
     "text": [
      "C:\\Users\\USGS667806\\Anaconda3\\envs\\lasso_environment\\lib\\site-packages\\geopandas\\geodataframe.py:853: SettingWithCopyWarning: \n",
      "A value is trying to be set on a copy of a slice from a DataFrame.\n",
      "Try using .loc[row_indexer,col_indexer] = value instead\n",
      "\n",
      "See the caveats in the documentation: https://pandas.pydata.org/pandas-docs/stable/user_guide/indexing.html#returning-a-view-versus-a-copy\n",
      "  super(GeoDataFrame, self).__setitem__(key, value)\n",
      "C:\\Users\\USGS667806\\Anaconda3\\envs\\lasso_environment\\lib\\site-packages\\geopandas\\geodataframe.py:853: SettingWithCopyWarning: \n",
      "A value is trying to be set on a copy of a slice from a DataFrame.\n",
      "Try using .loc[row_indexer,col_indexer] = value instead\n",
      "\n",
      "See the caveats in the documentation: https://pandas.pydata.org/pandas-docs/stable/user_guide/indexing.html#returning-a-view-versus-a-copy\n",
      "  super(GeoDataFrame, self).__setitem__(key, value)\n"
     ]
    }
   ],
   "source": [
    "v_01_scenario.apply_all_projects()"
   ]
  },
  {
   "cell_type": "code",
   "execution_count": 17,
   "metadata": {},
   "outputs": [
    {
     "data": {
      "text/plain": [
       "['Year 2015 Modify Facility Type to Service',\n",
       " 'Year 2015 Modify Facility Type to Ramp shape incorrect',\n",
       " 'Year 2015 Modify Facility Type to Ramp',\n",
       " 'Year 2015 Modify Lanes to 2 Lane and Facility Type to Ramp shape incorrect',\n",
       " 'Year 2015 Modify Lanes to 2 Lane and Facility Type to Ramp',\n",
       " 'Year 2015 Modify Lanes to 1 Lane and Facility Type to Ramp',\n",
       " 'Year 2015 Bus Only Segments',\n",
       " 'Year 2015 Modify Lanes to 7 Lanes',\n",
       " 'Year 2015 Modify Lanes to 6 Lanes',\n",
       " 'Year 2015 Modify Lanes to 5 Lanes',\n",
       " 'Year 2015 Modify Lanes to 4 Lanes',\n",
       " 'Year 2015 Modify Lanes to 3 Lanes',\n",
       " 'Year 2015 Modify Lanes to 2 Lanes',\n",
       " 'Year 2015 Modify Lanes to 1 Lane',\n",
       " 'Year 2015 Correct As Is',\n",
       " 'Year 2015 Modify HOV Lanes and USE on US-101 SB from South of Healdsburg to North of Petaluma',\n",
       " 'Year 2015 Modify USE and HOV Lanes on US-101 SB (Segment 02) from South of Healdsburg to North of Petaluma',\n",
       " 'Year 2015 Modify HOV Lanes and USE on US 101 SB CA-85 to Oregon Expressway',\n",
       " 'Year 2015 Modify HOV Lanes and USE on US 101 SB CA-85 to Cochrane Road',\n",
       " 'Year 2015 Modify HOV Lanes and USE on US-101 NB (Segment 02) from North of Petaluma to South of Healdsburg',\n",
       " 'Year 2015 Modify HOV Lanes and USE on US 101 NB Oregon Expressway to Whipple Road',\n",
       " 'Year 2015 Modify HOV Lanes and USE on US-101 NB from North of Petaluma to South of Healdsburg',\n",
       " 'Year 2015 Modify HOV Lanes and USE on US 101 NB Cochran Road to CA-85',\n",
       " 'Year 2015 Modify HOV Lanes and USE on San Tomas Expressway SB I-880 to Hwy 17',\n",
       " 'Year 2015 Modify HOV Lanes and USE on San Tomas Expressway NB Hwy 17 to I-880',\n",
       " 'Year 2015 Modify HOV Lanes and USE on Lawrence Expressway SB US 101 to I-280',\n",
       " 'Year 2015 Modify HOV Lanes and USE on Lawrence Expressway NB I-280 to US 101',\n",
       " 'Year 2015 Modify HOV Lanes and USE on Ramp Connecting I880 and Bay Bridge Plaza',\n",
       " 'Year 2015 Modify HOV Lanes and USE on I-880 SB from Hegenberger Road to Dixon Road',\n",
       " 'Year 2015 Modify Express Lanes and USE on I-880 SB Dixon Road to CA-237',\n",
       " 'Year 2015 Modify HOV Lanes and USE on I-880 SB CA-237 to US 101',\n",
       " 'Year 2015 Modify HOV lanes and USE on I-880 NB US 101 to CA-237',\n",
       " 'Year 2015 Modify HOV Lanes and USE on I-880 NB from Dixon Road to I-238',\n",
       " 'Year 2015 Modify Express Lanes and USE on I-880 NB CA-237 to Dixon Road',\n",
       " 'Year 2015 Modify USE on I-80 WB to Bay Bridge Toll Plaza',\n",
       " 'Year 2015 Modify HOV Lanes and USE on I-80 WB from Fairfield to I-680',\n",
       " 'Year 2015 Modify HOV Lanes and USE on I-80 WB from Carquinez Bridge to Bay Bridge Toll Plaza',\n",
       " 'Year 2015 Modify HOV Lanes and USE on I-80 EB from I-680 to Fairfield',\n",
       " 'Year 2015 Modify HOV Lanes and USE on I-80 EB from Bay Bridge to Carquinez Bridge Toll Plaza',\n",
       " 'Year 2015 Modify HOV Lanes and USE on I-680 SB from Rudgear Road to Acosta Blvd',\n",
       " 'Year 2015 Modify HOV Lanes and USE on I-680 SB from Benicia Bridge to CA-242',\n",
       " 'Year 2015 Modify HOV Lanes USE on I-680 NB CA-242 to Benicia Bridge',\n",
       " 'Year 2015 Modify HOV Lanes and USE on I-680 NB from Acosta Blvd to Rudgear Road',\n",
       " 'Year 2015 Modify HOV lanes and USE on Hwy 4 WB from Deer Valley Road to Port Chicago Highway',\n",
       " 'Year 2015 Modify HOV Lanes and USE on Hwy 4 EB from Port Chicago Highway to Deer Valley Road',\n",
       " 'Year 2015 Modify HOV Lanes and USE on E Capitol Expressway SB I-680 to US 101',\n",
       " 'Year 2015 Modify HOV Lanes and USE on E Capitol Expressway NB US101 to I-680',\n",
       " 'Year 2015 Modify HOV Lanes and USE on CA-92 WB Eden Landing Rd to San Mateo-Hayward Bridge Toll Plaza',\n",
       " 'Year 2015 Modify HOV Lanes and USE on CA-87 SB US 101 to CA-85',\n",
       " 'Year 2015 Modify HOV Lanes and USE on CA 87 NB CA-85 to US 101',\n",
       " 'Year 2015 Modify HOV Lanes and USE on CA-85 SB US101 to US101',\n",
       " 'Year 2015 Modify HOV Lanes and USE on CA-85 NB US101 to US101',\n",
       " 'Year 2015 Modify HOV Lanes and USE on CA-84 WB I-880 to Dumbarton Bridge Toll Plaza',\n",
       " 'Year 2015 Modify HOV Lanes and USE on CA-280 SB Magdalena Ave to Southwest Expressway',\n",
       " 'Year 2015 Modify HOV Lanes and USE on CA-280 NB Bascom Ave to Magdalena Ave',\n",
       " 'Year 2015 Modify HOV Lanes and USE on CA-237 WB North 1st Street to US 101',\n",
       " 'Year 2015 Modify HOV Lanes and USE on CA-237 EB US 101 to North 1st Street',\n",
       " 'Year 2015 Bus Only Segments for Transbay Terminal Ramps',\n",
       " 'Year 2015 Bus Only Segments for Golden Gate Transit on US 101',\n",
       " 'Year 2015 Exclude Trucks on SR 85',\n",
       " 'Year 2015 Exclude Trucks on I580']"
      ]
     },
     "execution_count": 17,
     "metadata": {},
     "output_type": "execute_result"
    }
   ],
   "source": [
    "v_01_scenario.applied_projects"
   ]
  },
  {
   "cell_type": "code",
   "execution_count": 18,
   "metadata": {},
   "outputs": [
    {
     "data": {
      "text/plain": [
       "Index(['access', 'bike_access', 'drive_access', 'fromIntersectionId', 'lanes',\n",
       "       'maxspeed', 'name', 'oneWay', 'ref', 'roadway', 'shstGeometryId',\n",
       "       'shstReferenceId', 'toIntersectionId', 'u', 'v', 'walk_access', 'wayId',\n",
       "       'county', 'model_link_id', 'A', 'B', 'rail_traveltime', 'rail_only',\n",
       "       'locationReferences', 'shape_id', 'geometry', 'ft_cal', 'ft',\n",
       "       'useclass', 'assignable', 'transit', 'bus_only', 'managed', 'ML_lanes',\n",
       "       'segment_id', 'ML_useclass', 'ML_access', 'ML_egress', 'tollseg',\n",
       "       'transit_access'],\n",
       "      dtype='object')"
      ]
     },
     "execution_count": 18,
     "metadata": {},
     "output_type": "execute_result"
    }
   ],
   "source": [
    "v_01_scenario.road_net.links_df.columns"
   ]
  },
  {
   "cell_type": "markdown",
   "metadata": {},
   "source": [
    "## Make Travel Model Networks"
   ]
  },
  {
   "cell_type": "code",
   "execution_count": 19,
   "metadata": {},
   "outputs": [
    {
     "name": "stdout",
     "output_type": "stream",
     "text": [
      "2021-01-20 11:53:39, INFO: Lasso base directory set as: C:/Users/USGS667806/Lasso\n",
      "2021-01-20 11:53:39, INFO: Lasso base directory set as: C:/Users/USGS667806/Lasso\n",
      "2021-01-20 11:53:39, INFO: Lasso base directory set as: C:/Users/USGS667806/Lasso\n",
      "2021-01-20 11:53:39, INFO: Lasso base directory set as: C:/Users/USGS667806/Lasso\n"
     ]
    }
   ],
   "source": [
    "model_net = ModelRoadwayNetwork.from_RoadwayNetwork(\n",
    "    roadway_network_object = v_01_scenario.road_net, \n",
    "    parameters = parameters)"
   ]
  },
  {
   "cell_type": "code",
   "execution_count": 20,
   "metadata": {},
   "outputs": [
    {
     "name": "stdout",
     "output_type": "stream",
     "text": [
      "(1634769, 40)\n",
      "(644475, 11)\n",
      "(869970, 7)\n"
     ]
    }
   ],
   "source": [
    "print(model_net.links_df.shape)\n",
    "print(model_net.nodes_df.shape)\n",
    "print(model_net.shapes_df.shape)"
   ]
  },
  {
   "cell_type": "code",
   "execution_count": 21,
   "metadata": {},
   "outputs": [
    {
     "name": "stdout",
     "output_type": "stream",
     "text": [
      "2021-01-20 11:53:39, INFO: Adding centroid and centroid connector to standard network\n",
      "2021-01-20 11:53:39, INFO: Adding centroid and centroid connector to standard network\n",
      "2021-01-20 11:53:39, INFO: Lasso base directory set as: C:/Users/USGS667806/Lasso\n",
      "2021-01-20 11:53:39, INFO: Lasso base directory set as: C:/Users/USGS667806/Lasso\n",
      "2021-01-20 11:53:39, INFO: Lasso base directory set as: C:/Users/USGS667806/Lasso\n",
      "2021-01-20 11:53:39, INFO: Lasso base directory set as: C:/Users/USGS667806/Lasso\n",
      "2021-01-20 11:53:48, INFO: Finished adding centroid and centroid connectors\n",
      "2021-01-20 11:53:48, INFO: Finished adding centroid and centroid connectors\n"
     ]
    }
   ],
   "source": [
    "model_net = mtc.add_centroid_and_centroid_connector(\n",
    "    roadway_network = model_net,\n",
    "    parameters = parameters)"
   ]
  },
  {
   "cell_type": "code",
   "execution_count": 22,
   "metadata": {},
   "outputs": [
    {
     "name": "stdout",
     "output_type": "stream",
     "text": [
      "(2190409, 40)\n",
      "(688957, 11)\n",
      "(1147790, 7)\n"
     ]
    }
   ],
   "source": [
    "print(model_net.links_df.shape)\n",
    "print(model_net.nodes_df.shape)\n",
    "print(model_net.shapes_df.shape)"
   ]
  },
  {
   "cell_type": "code",
   "execution_count": 23,
   "metadata": {},
   "outputs": [
    {
     "data": {
      "text/plain": [
       "2190409"
      ]
     },
     "execution_count": 23,
     "metadata": {},
     "output_type": "execute_result"
    }
   ],
   "source": [
    "model_net.links_df.model_link_id.nunique()"
   ]
  },
  {
   "cell_type": "code",
   "execution_count": 24,
   "metadata": {},
   "outputs": [
    {
     "name": "stdout",
     "output_type": "stream",
     "text": [
      "2021-01-20 11:53:50, INFO: Adding tap and tap connector to standard network\n",
      "2021-01-20 11:53:50, INFO: Adding tap and tap connector to standard network\n",
      "2021-01-20 11:53:50, INFO: Lasso base directory set as: C:/Users/USGS667806/Lasso\n",
      "2021-01-20 11:53:50, INFO: Lasso base directory set as: C:/Users/USGS667806/Lasso\n",
      "2021-01-20 11:53:50, INFO: Lasso base directory set as: C:/Users/USGS667806/Lasso\n",
      "2021-01-20 11:53:50, INFO: Lasso base directory set as: C:/Users/USGS667806/Lasso\n",
      "2021-01-20 11:53:55, INFO: Finished adding tap and tap connectors\n",
      "2021-01-20 11:53:55, INFO: Finished adding tap and tap connectors\n"
     ]
    }
   ],
   "source": [
    "model_net = mtc.add_tap_and_tap_connector(\n",
    "    roadway_network = model_net,\n",
    "    parameters = parameters)"
   ]
  },
  {
   "cell_type": "code",
   "execution_count": 25,
   "metadata": {},
   "outputs": [
    {
     "name": "stdout",
     "output_type": "stream",
     "text": [
      "(2233923, 40)\n",
      "(694957, 11)\n",
      "(1169547, 7)\n"
     ]
    }
   ],
   "source": [
    "print(model_net.links_df.shape)\n",
    "print(model_net.nodes_df.shape)\n",
    "print(model_net.shapes_df.shape)"
   ]
  },
  {
   "cell_type": "code",
   "execution_count": 26,
   "metadata": {},
   "outputs": [
    {
     "data": {
      "text/plain": [
       "2233923"
      ]
     },
     "execution_count": 26,
     "metadata": {},
     "output_type": "execute_result"
    }
   ],
   "source": [
    "model_net.links_df.model_link_id.nunique()"
   ]
  },
  {
   "cell_type": "code",
   "execution_count": 27,
   "metadata": {},
   "outputs": [
    {
     "data": {
      "text/plain": [
       "694957"
      ]
     },
     "execution_count": 27,
     "metadata": {},
     "output_type": "execute_result"
    }
   ],
   "source": [
    "model_net.nodes_df.model_node_id.nunique()"
   ]
  },
  {
   "cell_type": "code",
   "execution_count": 28,
   "metadata": {},
   "outputs": [
    {
     "data": {
      "text/plain": [
       "1169547"
      ]
     },
     "execution_count": 28,
     "metadata": {},
     "output_type": "execute_result"
    }
   ],
   "source": [
    "model_net.shapes_df.id.nunique()"
   ]
  },
  {
   "cell_type": "code",
   "execution_count": 29,
   "metadata": {
    "scrolled": false
   },
   "outputs": [
    {
     "name": "stdout",
     "output_type": "stream",
     "text": [
      "2021-01-20 11:53:58, INFO: Renaming roadway attributes to be consistent with what mtc's model is expecting\n",
      "2021-01-20 11:53:58, INFO: Renaming roadway attributes to be consistent with what mtc's model is expecting\n",
      "2021-01-20 11:53:58, INFO: Creating managed lane network.\n",
      "2021-01-20 11:53:58, INFO: Creating managed lane network.\n",
      "2021-01-20 11:53:58, INFO: Creating network with duplicated managed lanes\n",
      "2021-01-20 11:53:58, INFO: Creating network with duplicated managed lanes\n"
     ]
    },
    {
     "name": "stderr",
     "output_type": "stream",
     "text": [
      "C:\\Users\\USGS667806\\Anaconda3\\envs\\lasso_environment\\lib\\site-packages\\geopandas\\geodataframe.py:853: SettingWithCopyWarning: \n",
      "A value is trying to be set on a copy of a slice from a DataFrame.\n",
      "Try using .loc[row_indexer,col_indexer] = value instead\n",
      "\n",
      "See the caveats in the documentation: https://pandas.pydata.org/pandas-docs/stable/user_guide/indexing.html#returning-a-view-versus-a-copy\n",
      "  super(GeoDataFrame, self).__setitem__(key, value)\n",
      "C:\\Users\\USGS667806\\Anaconda3\\envs\\lasso_environment\\lib\\site-packages\\geopandas\\geodataframe.py:852: UserWarning: Geometry column does not contain geometry.\n",
      "  warnings.warn(\"Geometry column does not contain geometry.\")\n",
      "C:\\Users\\USGS667806\\Anaconda3\\envs\\lasso_environment\\lib\\site-packages\\pandas\\core\\indexing.py:1743: SettingWithCopyWarning: \n",
      "A value is trying to be set on a copy of a slice from a DataFrame.\n",
      "Try using .loc[row_indexer,col_indexer] = value instead\n",
      "\n",
      "See the caveats in the documentation: https://pandas.pydata.org/pandas-docs/stable/user_guide/indexing.html#returning-a-view-versus-a-copy\n",
      "  isetter(ilocs[0], value)\n"
     ]
    },
    {
     "name": "stdout",
     "output_type": "stream",
     "text": [
      "2021-01-20 12:06:34, INFO: Determining cntype\n",
      "2021-01-20 12:06:34, INFO: Determining cntype\n",
      "2021-01-20 12:06:34, INFO: Lasso base directory set as: C:/Users/USGS667806/Lasso\n",
      "2021-01-20 12:06:34, INFO: Lasso base directory set as: C:/Users/USGS667806/Lasso\n",
      "2021-01-20 12:06:34, INFO: Lasso base directory set as: C:/Users/USGS667806/Lasso\n",
      "2021-01-20 12:06:34, INFO: Lasso base directory set as: C:/Users/USGS667806/Lasso\n",
      "2021-01-20 12:06:34, INFO: Calculating and adding roadway network variable: cntype\n",
      "2021-01-20 12:06:34, INFO: Calculating and adding roadway network variable: cntype\n",
      "2021-01-20 12:07:43, INFO: Finished determining variable: cntype\n",
      "2021-01-20 12:07:43, INFO: Finished determining variable: cntype\n",
      "2021-01-20 12:07:43, INFO: Determining transit\n",
      "2021-01-20 12:07:43, INFO: Determining transit\n",
      "2021-01-20 12:07:43, INFO: Lasso base directory set as: C:/Users/USGS667806/Lasso\n",
      "2021-01-20 12:07:43, INFO: Lasso base directory set as: C:/Users/USGS667806/Lasso\n",
      "2021-01-20 12:07:43, INFO: Lasso base directory set as: C:/Users/USGS667806/Lasso\n",
      "2021-01-20 12:07:43, INFO: Lasso base directory set as: C:/Users/USGS667806/Lasso\n",
      "2021-01-20 12:07:43, INFO: Variable 'transit' updated for some links. Returning without overwriting for those links. Calculating for other links\n",
      "2021-01-20 12:07:43, INFO: Variable 'transit' updated for some links. Returning without overwriting for those links. Calculating for other links\n",
      "2021-01-20 12:07:43, INFO: Calculating and adding roadway network variable: transit\n",
      "2021-01-20 12:07:43, INFO: Calculating and adding roadway network variable: transit\n",
      "2021-01-20 12:07:44, INFO: Finished determining transit-only variable: transit\n",
      "2021-01-20 12:07:44, INFO: Finished determining transit-only variable: transit\n",
      "2021-01-20 12:07:44, INFO: Determining useclass\n",
      "2021-01-20 12:07:44, INFO: Determining useclass\n",
      "2021-01-20 12:07:44, INFO: Lasso base directory set as: C:/Users/USGS667806/Lasso\n",
      "2021-01-20 12:07:44, INFO: Lasso base directory set as: C:/Users/USGS667806/Lasso\n",
      "2021-01-20 12:07:44, INFO: Lasso base directory set as: C:/Users/USGS667806/Lasso\n",
      "2021-01-20 12:07:44, INFO: Lasso base directory set as: C:/Users/USGS667806/Lasso\n",
      "2021-01-20 12:07:44, INFO: Variable 'useclass' updated for some links. Returning without overwriting for those links. Calculating for other links\n",
      "2021-01-20 12:07:44, INFO: Variable 'useclass' updated for some links. Returning without overwriting for those links. Calculating for other links\n",
      "2021-01-20 12:07:44, INFO: Calculating and adding roadway network variable: useclass\n",
      "2021-01-20 12:07:44, INFO: Calculating and adding roadway network variable: useclass\n",
      "2021-01-20 12:07:44, INFO: Finished determining variable: useclass\n",
      "2021-01-20 12:07:44, INFO: Finished determining variable: useclass\n",
      "2021-01-20 12:07:44, INFO: Overwriting existing distance Variable 'distance' already in network\n",
      "2021-01-20 12:07:44, INFO: Overwriting existing distance Variable 'distance' already in network\n",
      "2021-01-20 12:08:50, INFO: Calculating distance for all links\n",
      "2021-01-20 12:08:50, INFO: Calculating distance for all links\n",
      "2021-01-20 12:08:54, INFO: Calculating distance for all links\n",
      "2021-01-20 12:08:54, INFO: Calculating distance for all links\n",
      "2021-01-20 12:09:03, INFO: Filling nan for network from network wrangler\n",
      "2021-01-20 12:09:03, INFO: Filling nan for network from network wrangler\n",
      "2021-01-20 12:09:30, INFO: Splitting variables by time period and category\n",
      "2021-01-20 12:09:30, INFO: Splitting variables by time period and category\n",
      "2021-01-20 12:09:39, WARNING: Specified variable to split: ML_lanes not in network variables: Index(['index', 'access', 'bike_access', 'drive_access', 'fromIntersectionId',\n",
      "       'lanes', 'maxspeed', 'name', 'oneWay', 'ref', 'roadway',\n",
      "       'shstGeometryId', 'shstReferenceId', 'toIntersectionId', 'u', 'v',\n",
      "       'walk_access', 'wayId', 'county', 'model_link_id', 'A', 'B',\n",
      "       'rail_traveltime', 'rail_only', 'locationReferences', 'shape_id',\n",
      "       'geometry', 'ft_cal', 'ft', 'useclass', 'assignable', 'transit',\n",
      "       'bus_only', 'managed', 'segment_id', 'tollseg', 'transit_access',\n",
      "       'egress', 'id', 'distance', 'cntype', 'lanes_EA', 'lanes_AM',\n",
      "       'lanes_MD', 'lanes_PM', 'lanes_EV'],\n",
      "      dtype='object'). Returning 0.\n",
      "2021-01-20 12:09:39, WARNING: Specified variable to split: ML_lanes not in network variables: Index(['index', 'access', 'bike_access', 'drive_access', 'fromIntersectionId',\n",
      "       'lanes', 'maxspeed', 'name', 'oneWay', 'ref', 'roadway',\n",
      "       'shstGeometryId', 'shstReferenceId', 'toIntersectionId', 'u', 'v',\n",
      "       'walk_access', 'wayId', 'county', 'model_link_id', 'A', 'B',\n",
      "       'rail_traveltime', 'rail_only', 'locationReferences', 'shape_id',\n",
      "       'geometry', 'ft_cal', 'ft', 'useclass', 'assignable', 'transit',\n",
      "       'bus_only', 'managed', 'segment_id', 'tollseg', 'transit_access',\n",
      "       'egress', 'id', 'distance', 'cntype', 'lanes_EA', 'lanes_AM',\n",
      "       'lanes_MD', 'lanes_PM', 'lanes_EV'],\n",
      "      dtype='object'). Returning 0.\n",
      "2021-01-20 12:09:47, INFO: Converting variable type to mtc standard\n",
      "2021-01-20 12:09:47, INFO: Converting variable type to mtc standard\n",
      "2021-01-20 12:09:52, INFO: Setting Coordinate Reference System to ESRI:102646\n",
      "2021-01-20 12:09:52, INFO: Setting Coordinate Reference System to ESRI:102646\n"
     ]
    }
   ],
   "source": [
    "model_net = mtc.roadway_standard_to_mtc_network(model_net, parameters)"
   ]
  },
  {
   "cell_type": "code",
   "execution_count": 30,
   "metadata": {},
   "outputs": [
    {
     "data": {
      "text/plain": [
       "(2238069, 56)"
      ]
     },
     "execution_count": 30,
     "metadata": {},
     "output_type": "execute_result"
    }
   ],
   "source": [
    "model_net.links_df.shape"
   ]
  },
  {
   "cell_type": "code",
   "execution_count": 31,
   "metadata": {},
   "outputs": [
    {
     "data": {
      "text/plain": [
       "2238069"
      ]
     },
     "execution_count": 31,
     "metadata": {},
     "output_type": "execute_result"
    }
   ],
   "source": [
    "model_net.links_df.model_link_id.nunique()"
   ]
  },
  {
   "cell_type": "code",
   "execution_count": 32,
   "metadata": {},
   "outputs": [
    {
     "data": {
      "text/plain": [
       "(696375, 12)"
      ]
     },
     "execution_count": 32,
     "metadata": {},
     "output_type": "execute_result"
    }
   ],
   "source": [
    "model_net.nodes_mtc_df.shape"
   ]
  },
  {
   "cell_type": "code",
   "execution_count": 33,
   "metadata": {},
   "outputs": [
    {
     "data": {
      "text/plain": [
       "696371"
      ]
     },
     "execution_count": 33,
     "metadata": {},
     "output_type": "execute_result"
    }
   ],
   "source": [
    "model_net.nodes_df.model_node_id.nunique()"
   ]
  },
  {
   "cell_type": "markdown",
   "metadata": {},
   "source": [
    "## Write to Disk"
   ]
  },
  {
   "cell_type": "markdown",
   "metadata": {},
   "source": [
    "## As shapefile"
   ]
  },
  {
   "cell_type": "code",
   "execution_count": 34,
   "metadata": {},
   "outputs": [
    {
     "name": "stdout",
     "output_type": "stream",
     "text": [
      "2021-01-20 12:11:37, INFO: Writing Network as Shapefile\n",
      "2021-01-20 12:11:37, INFO: Writing Network as Shapefile\n",
      "2021-01-20 12:11:37, INFO: Renaming DBF Node Variables\n",
      "2021-01-20 12:11:37, INFO: Renaming DBF Node Variables\n",
      "2021-01-20 12:11:37, INFO: Renaming variables so that they are DBF-safe\n",
      "2021-01-20 12:11:37, INFO: Renaming variables so that they are DBF-safe\n",
      "2021-01-20 12:11:50, INFO: Renaming DBF Link Variables\n",
      "2021-01-20 12:11:50, INFO: Renaming DBF Link Variables\n",
      "2021-01-20 12:11:50, INFO: Renaming variables so that they are DBF-safe\n",
      "2021-01-20 12:11:50, INFO: Renaming variables so that they are DBF-safe\n",
      "2021-01-20 12:11:53, INFO: Writing Node Shapes:\n",
      " - C:/Users/USGS667806/Documents/GitHub/travel-model-two-networks\\data\\processed\\version_03\\nodes.shp\n",
      "2021-01-20 12:11:53, INFO: Writing Node Shapes:\n",
      " - C:/Users/USGS667806/Documents/GitHub/travel-model-two-networks\\data\\processed\\version_03\\nodes.shp\n",
      "2021-01-20 12:13:59, INFO: Writing Link Shapes:\n",
      " - C:/Users/USGS667806/Documents/GitHub/travel-model-two-networks\\data\\processed\\version_03\\links.shp\n",
      "2021-01-20 12:13:59, INFO: Writing Link Shapes:\n",
      " - C:/Users/USGS667806/Documents/GitHub/travel-model-two-networks\\data\\processed\\version_03\\links.shp\n"
     ]
    }
   ],
   "source": [
    "model_net.write_roadway_as_shp(\n",
    "    output_link_shp = os.path.join(output_dir, 'links.shp'),\n",
    "    output_node_shp = os.path.join(output_dir, 'nodes.shp'),\n",
    "    link_output_variables = [\"model_link_id\", \"A\", \"B\", \"geometry\"],\n",
    "    node_output_variables = [\"model_node_id\", \"geometry\"],\n",
    "    data_to_csv = False,\n",
    "    data_to_dbf = True,\n",
    ")"
   ]
  },
  {
   "cell_type": "markdown",
   "metadata": {},
   "source": [
    "## As fixed width (for CUBE)"
   ]
  },
  {
   "cell_type": "code",
   "execution_count": 35,
   "metadata": {},
   "outputs": [
    {
     "name": "stdout",
     "output_type": "stream",
     "text": [
      "2021-01-20 12:21:21, INFO: Starting fixed width conversion\n",
      "2021-01-20 12:21:21, INFO: Starting fixed width conversion\n",
      "2021-01-20 12:38:28, INFO: Writing out link database\n",
      "2021-01-20 12:38:28, INFO: Writing out link database\n",
      "2021-01-20 12:38:50, INFO: Writing out link header and width ----\n",
      "2021-01-20 12:38:50, INFO: Writing out link header and width ----\n",
      "2021-01-20 12:38:50, INFO: Starting fixed width conversion\n",
      "2021-01-20 12:38:50, INFO: Starting fixed width conversion\n",
      "2021-01-20 12:40:11, INFO: Writing out node database\n",
      "2021-01-20 12:40:11, INFO: Writing out node database\n",
      "2021-01-20 12:40:14, INFO: Writing out node header and width\n",
      "2021-01-20 12:40:14, INFO: Writing out node header and width\n"
     ]
    }
   ],
   "source": [
    "model_net.write_roadway_as_fixedwidth(\n",
    "    output_link_txt = os.path.join(output_dir, 'links.txt'),\n",
    "    output_node_txt = os.path.join(output_dir, 'nodes.txt'),\n",
    "    output_link_header_width_txt = os.path.join(output_dir, 'links_header_width.txt'),\n",
    "    output_node_header_width_txt = os.path.join(output_dir, 'nodes_header_width.txt'),\n",
    "    output_cube_network_script = os.path.join(output_dir, 'make_complete_network_from_fixed_width_file.s'),\n",
    "    #drive_only = True\n",
    ")"
   ]
  },
  {
   "cell_type": "code",
   "execution_count": 36,
   "metadata": {},
   "outputs": [],
   "source": [
    "%%capture\n",
    "os.chdir(output_dir)\n",
    "!make_cube.bat"
   ]
  },
  {
   "cell_type": "code",
   "execution_count": 37,
   "metadata": {},
   "outputs": [],
   "source": [
    "%%capture\n",
    "!runtpp make_simple_roadway_network.s\n",
    "!runtpp make_complete_marin_network.s\n",
    "!runtpp make_simple_transit_network.s"
   ]
  },
  {
   "cell_type": "markdown",
   "metadata": {},
   "source": [
    "## As transit line file (for CUBE)"
   ]
  },
  {
   "cell_type": "code",
   "execution_count": 38,
   "metadata": {},
   "outputs": [
    {
     "name": "stdout",
     "output_type": "stream",
     "text": [
      "2021-01-20 12:42:11, INFO: Lasso base directory set as: C:/Users/USGS667806/Lasso\n",
      "2021-01-20 12:42:11, INFO: Lasso base directory set as: C:/Users/USGS667806/Lasso\n",
      "2021-01-20 12:42:11, INFO: Lasso base directory set as: C:/Users/USGS667806/Lasso\n",
      "2021-01-20 12:42:11, INFO: Lasso base directory set as: C:/Users/USGS667806/Lasso\n",
      "2021-01-20 12:42:11, INFO: Converting GTFS Standard Properties to MTC's Cube Standard\n",
      "2021-01-20 12:42:11, INFO: Converting GTFS Standard Properties to MTC's Cube Standard\n"
     ]
    }
   ],
   "source": [
    "standard_transit_net = StandardTransit.fromTransitNetwork(v_01_scenario.transit_net, parameters = parameters)\n",
    "mtc.write_as_cube_lin(standard_transit_net, parameters, outpath = os.path.join(output_dir, \"transit.lin\"))"
   ]
  },
  {
   "cell_type": "markdown",
   "metadata": {},
   "source": [
    "## As pickle"
   ]
  },
  {
   "cell_type": "code",
   "execution_count": 39,
   "metadata": {},
   "outputs": [],
   "source": [
    "working_scenario_filename = os.path.join(output_dir, 'working_scenario_01.pickle')\n",
    "pickle.dump(v_01_scenario, open(working_scenario_filename, 'wb'))"
   ]
  },
  {
   "cell_type": "markdown",
   "metadata": {},
   "source": [
    "## As standard network"
   ]
  },
  {
   "cell_type": "code",
   "execution_count": 40,
   "metadata": {},
   "outputs": [],
   "source": [
    "model_net.write(path = output_dir, filename = \"v03\")"
   ]
  }
 ],
 "metadata": {
  "kernelspec": {
   "display_name": "Python 3",
   "language": "python",
   "name": "python3"
  },
  "language_info": {
   "codemirror_mode": {
    "name": "ipython",
    "version": 3
   },
   "file_extension": ".py",
   "mimetype": "text/x-python",
   "name": "python",
   "nbconvert_exporter": "python",
   "pygments_lexer": "ipython3",
   "version": "3.7.9"
  }
 },
 "nbformat": 4,
 "nbformat_minor": 4
}
