{
 "cells": [
  {
   "cell_type": "markdown",
   "metadata": {},
   "source": [
    "# 04 Correct Toll Link Attribute Errors with Project Cards"
   ]
  },
  {
   "cell_type": "code",
   "execution_count": 2,
   "metadata": {},
   "outputs": [],
   "source": [
    "import os\n",
    "import sys\n",
    "import yaml\n",
    "import pickle\n",
    "import glob\n",
    "\n",
    "import pandas as pd\n",
    "\n",
    "from network_wrangler import RoadwayNetwork\n",
    "from network_wrangler import TransitNetwork\n",
    "from network_wrangler import ProjectCard\n",
    "from network_wrangler import Scenario\n",
    "from network_wrangler import WranglerLogger\n",
    "\n",
    "from lasso import ModelRoadwayNetwork\n",
    "from lasso import StandardTransit\n",
    "from lasso import Parameters\n",
    "from lasso import mtc\n"
   ]
  },
  {
   "cell_type": "code",
   "execution_count": 3,
   "metadata": {},
   "outputs": [],
   "source": [
    "%load_ext autoreload\n",
    "%autoreload 2"
   ]
  },
  {
   "cell_type": "code",
   "execution_count": 4,
   "metadata": {},
   "outputs": [],
   "source": [
    "import logging\n",
    "logger = logging.getLogger(\"WranglerLogger\")\n",
    "logger.handlers[0].stream = sys.stdout\n",
    "logger.setLevel(logging.INFO)"
   ]
  },
  {
   "cell_type": "markdown",
   "metadata": {},
   "source": [
    "## Remote I/O and Parameters"
   ]
  },
  {
   "cell_type": "code",
   "execution_count": 5,
   "metadata": {},
   "outputs": [],
   "source": [
    "# root_dir = os.path.join('/Users', 'wsp', 'Documents', 'GitHub', 'travel-model-two-networks')\n",
    "root_dir = \"D:/github/lfs-cleaning/travel-model-two-networks\"\n",
    "input_dir = os.path.join(root_dir, 'data', 'processed', 'version_05')\n",
    "output_dir = input_dir\n",
    "card_dir = os.path.join(root_dir, 'project_cards')\n",
    "# lasso_dir = os.path.join('/Users', 'wsp', 'Documents', 'GitHub', 'mtc-Lasso')\n",
    "lasso_dir = \"Z:/Data/Users/Sijia/MTC/github/Lasso\""
   ]
  },
  {
   "cell_type": "code",
   "execution_count": 6,
   "metadata": {},
   "outputs": [
    {
     "name": "stdout",
     "output_type": "stream",
     "text": [
      "2021-02-24 14:34:17, INFO: Lasso base directory set as: Z:/Data/Users/Sijia/MTC/github/Lasso\n",
      "2021-02-24 14:34:17, INFO: Lasso base directory set as: Z:/Data/Users/Sijia/MTC/github/Lasso\n",
      "2021-02-24 14:34:17, INFO: Lasso base directory set as: Z:/Data/Users/Sijia/MTC/github/Lasso\n",
      "2021-02-24 14:34:17, INFO: Lasso base directory set as: Z:/Data/Users/Sijia/MTC/github/Lasso\n"
     ]
    }
   ],
   "source": [
    "parameters = Parameters(lasso_base_dir = lasso_dir)"
   ]
  },
  {
   "cell_type": "markdown",
   "metadata": {},
   "source": [
    "## Read Version 03 Scenario"
   ]
  },
  {
   "cell_type": "code",
   "execution_count": 7,
   "metadata": {},
   "outputs": [],
   "source": [
    "version_03_pickle_file_name = os.path.join(input_dir, 'working_scenario_03.pickle')\n",
    "v_03_scenario = pickle.load(open(version_03_pickle_file_name, 'rb'))"
   ]
  },
  {
   "cell_type": "code",
   "execution_count": 8,
   "metadata": {},
   "outputs": [
    {
     "data": {
      "text/plain": [
       "(1634769, 40)"
      ]
     },
     "execution_count": 8,
     "metadata": {},
     "output_type": "execute_result"
    }
   ],
   "source": [
    "v_03_scenario.road_net.links_df.shape"
   ]
  },
  {
   "cell_type": "code",
   "execution_count": 9,
   "metadata": {},
   "outputs": [
    {
     "name": "stdout",
     "output_type": "stream",
     "text": [
      "<class 'pandas.core.frame.DataFrame'>\n",
      "RangeIndex: 701 entries, 0 to 700\n",
      "Data columns (total 16 columns):\n",
      "route_id_original         701 non-null object\n",
      "agency_id                 604 non-null object\n",
      "route_short_name          665 non-null object\n",
      "route_long_name           679 non-null object\n",
      "route_desc                14 non-null object\n",
      "route_type                701 non-null int64\n",
      "route_url                 217 non-null object\n",
      "route_color               260 non-null object\n",
      "route_text_color          243 non-null object\n",
      "agency_raw_name           701 non-null object\n",
      "route_sort_order          95 non-null object\n",
      "min_headway_minutes       32 non-null object\n",
      "eligibility_restricted    4 non-null object\n",
      "continuous_pickup         4 non-null object\n",
      "continuous_drop_off       4 non-null object\n",
      "route_id                  701 non-null object\n",
      "dtypes: int64(1), object(15)\n",
      "memory usage: 87.8+ KB\n"
     ]
    }
   ],
   "source": [
    "v_03_scenario.transit_net.feed.routes.info()"
   ]
  },
  {
   "cell_type": "markdown",
   "metadata": {},
   "source": [
    "## Create Scenario and Apply Project Cards"
   ]
  },
  {
   "cell_type": "code",
   "execution_count": 10,
   "metadata": {},
   "outputs": [
    {
     "name": "stdout",
     "output_type": "stream",
     "text": [
      "2021-02-24 14:36:43, INFO: Creating Scenario\n",
      "2021-02-24 14:36:43, INFO: Creating Scenario\n"
     ]
    },
    {
     "name": "stderr",
     "output_type": "stream",
     "text": [
      "z:\\data\\users\\sijia\\mtc\\github\\network_wrangler\\network_wrangler\\projectcard.py:115: YAMLLoadWarning: calling yaml.load() without Loader=... is deprecated, as the default Loader is unsafe. Please read https://msg.pyyaml.org/load for full details.\n",
      "  attribute_dictionary = yaml.load(_yaml)\n"
     ]
    }
   ],
   "source": [
    "v_04_scenario = Scenario.create_scenario(\n",
    "    base_scenario=v_03_scenario,\n",
    "    card_directory = card_dir,\n",
    "    tags = ['toll review'],\n",
    "    validate_project_cards=False)"
   ]
  },
  {
   "cell_type": "code",
   "execution_count": 11,
   "metadata": {},
   "outputs": [
    {
     "name": "stdout",
     "output_type": "stream",
     "text": [
      "2021-02-24 14:36:56, INFO: Applying Year 2015 Modify HOV Lanes and USE on San Mateo Bridge Toll Plaza Toll Plaza on CA-92 WB - Bridge Pass\n",
      "2021-02-24 14:36:56, INFO: Applying Year 2015 Modify HOV Lanes and USE on San Mateo Bridge Toll Plaza Toll Plaza on CA-92 WB - Bridge Pass\n",
      "2021-02-24 14:36:56, INFO: Applying Year 2015 Modify HOV Lanes and USE on San Mateo Bridge Toll Plaza Toll Plaza on CA-92 WB - Bridge Pass\n",
      "2021-02-24 14:36:56, INFO: Applying Year 2015 Modify HOV Lanes and USE on San Mateo Bridge Toll Plaza Toll Plaza on CA-92 WB - Bridge Pass\n",
      "2021-02-24 14:36:56, INFO: Applying Project to Roadway Network: Year 2015 Modify HOV Lanes and USE on San Mateo Bridge Toll Plaza Toll Plaza on CA-92 WB - Bridge Pass\n",
      "2021-02-24 14:36:56, INFO: Applying Project to Roadway Network: Year 2015 Modify HOV Lanes and USE on San Mateo Bridge Toll Plaza Toll Plaza on CA-92 WB - Bridge Pass\n"
     ]
    },
    {
     "name": "stderr",
     "output_type": "stream",
     "text": [
      "c:\\users\\wangs1\\.conda\\envs\\lasso_mtc\\lib\\site-packages\\geopandas\\geodataframe.py:853: SettingWithCopyWarning: \n",
      "A value is trying to be set on a copy of a slice from a DataFrame.\n",
      "Try using .loc[row_indexer,col_indexer] = value instead\n",
      "\n",
      "See the caveats in the documentation: http://pandas.pydata.org/pandas-docs/stable/user_guide/indexing.html#returning-a-view-versus-a-copy\n",
      "  super(GeoDataFrame, self).__setitem__(key, value)\n"
     ]
    },
    {
     "name": "stdout",
     "output_type": "stream",
     "text": [
      "2021-02-24 14:36:57, INFO: Applying Year 2015 Modify HOV Lanes and USE on Benicia Bridge Toll Plaza - Segment 03 - Bridge Pass\n",
      "2021-02-24 14:36:57, INFO: Applying Year 2015 Modify HOV Lanes and USE on Benicia Bridge Toll Plaza - Segment 03 - Bridge Pass\n",
      "2021-02-24 14:36:57, INFO: Applying Year 2015 Modify HOV Lanes and USE on Benicia Bridge Toll Plaza - Segment 03 - Bridge Pass\n",
      "2021-02-24 14:36:57, INFO: Applying Year 2015 Modify HOV Lanes and USE on Benicia Bridge Toll Plaza - Segment 03 - Bridge Pass\n",
      "2021-02-24 14:36:57, INFO: Applying Project to Roadway Network: Year 2015 Modify HOV Lanes and USE on Benicia Bridge Toll Plaza - Segment 03 - Bridge Pass\n",
      "2021-02-24 14:36:57, INFO: Applying Project to Roadway Network: Year 2015 Modify HOV Lanes and USE on Benicia Bridge Toll Plaza - Segment 03 - Bridge Pass\n",
      "2021-02-24 14:36:59, INFO: Applying Year 2015 Modify HOV Lanes and USE on Richmond-San Rafael Bridge Toll Plaza - Bridge Pass\n",
      "2021-02-24 14:36:59, INFO: Applying Year 2015 Modify HOV Lanes and USE on Richmond-San Rafael Bridge Toll Plaza - Bridge Pass\n",
      "2021-02-24 14:36:59, INFO: Applying Year 2015 Modify HOV Lanes and USE on Richmond-San Rafael Bridge Toll Plaza - Bridge Pass\n",
      "2021-02-24 14:36:59, INFO: Applying Year 2015 Modify HOV Lanes and USE on Richmond-San Rafael Bridge Toll Plaza - Bridge Pass\n",
      "2021-02-24 14:36:59, INFO: Applying Project to Roadway Network: Year 2015 Modify HOV Lanes and USE on Richmond-San Rafael Bridge Toll Plaza - Bridge Pass\n",
      "2021-02-24 14:36:59, INFO: Applying Project to Roadway Network: Year 2015 Modify HOV Lanes and USE on Richmond-San Rafael Bridge Toll Plaza - Bridge Pass\n",
      "2021-02-24 14:37:00, INFO: Applying Year 2015 Modify Express Lanes and USE on I-680 SB Washington Blvd to Mission Blvd\n",
      "2021-02-24 14:37:00, INFO: Applying Year 2015 Modify Express Lanes and USE on I-680 SB Washington Blvd to Mission Blvd\n",
      "2021-02-24 14:37:00, INFO: Applying Year 2015 Modify Express Lanes and USE on I-680 SB Washington Blvd to Mission Blvd\n",
      "2021-02-24 14:37:00, INFO: Applying Year 2015 Modify Express Lanes and USE on I-680 SB Washington Blvd to Mission Blvd\n",
      "2021-02-24 14:37:00, INFO: Applying Project to Roadway Network: Year 2015 Modify Express Lanes and USE on I-680 SB Washington Blvd to Mission Blvd\n",
      "2021-02-24 14:37:00, INFO: Applying Project to Roadway Network: Year 2015 Modify Express Lanes and USE on I-680 SB Washington Blvd to Mission Blvd\n",
      "2021-02-24 14:37:01, INFO: Applying Year 2015 Modify Express Lanes and USE on I-680 SB Mission Blvd to CA-237\n",
      "2021-02-24 14:37:01, INFO: Applying Year 2015 Modify Express Lanes and USE on I-680 SB Mission Blvd to CA-237\n",
      "2021-02-24 14:37:01, INFO: Applying Year 2015 Modify Express Lanes and USE on I-680 SB Mission Blvd to CA-237\n",
      "2021-02-24 14:37:01, INFO: Applying Year 2015 Modify Express Lanes and USE on I-680 SB Mission Blvd to CA-237\n",
      "2021-02-24 14:37:01, INFO: Applying Project to Roadway Network: Year 2015 Modify Express Lanes and USE on I-680 SB Mission Blvd to CA-237\n",
      "2021-02-24 14:37:01, INFO: Applying Project to Roadway Network: Year 2015 Modify Express Lanes and USE on I-680 SB Mission Blvd to CA-237\n",
      "2021-02-24 14:37:05, INFO: Applying Year 2015 Modify Express Lanes and USE on I-680 SB Andrade Road to Washington Blvd\n",
      "2021-02-24 14:37:05, INFO: Applying Year 2015 Modify Express Lanes and USE on I-680 SB Andrade Road to Washington Blvd\n",
      "2021-02-24 14:37:05, INFO: Applying Year 2015 Modify Express Lanes and USE on I-680 SB Andrade Road to Washington Blvd\n",
      "2021-02-24 14:37:05, INFO: Applying Year 2015 Modify Express Lanes and USE on I-680 SB Andrade Road to Washington Blvd\n",
      "2021-02-24 14:37:05, INFO: Applying Project to Roadway Network: Year 2015 Modify Express Lanes and USE on I-680 SB Andrade Road to Washington Blvd\n",
      "2021-02-24 14:37:05, INFO: Applying Project to Roadway Network: Year 2015 Modify Express Lanes and USE on I-680 SB Andrade Road to Washington Blvd\n",
      "2021-02-24 14:37:08, INFO: Applying Year 2015 Modify USE on I-580 WB Springtown Blvd to Isabel Ave\n",
      "2021-02-24 14:37:08, INFO: Applying Year 2015 Modify USE on I-580 WB Springtown Blvd to Isabel Ave\n",
      "2021-02-24 14:37:08, INFO: Applying Year 2015 Modify USE on I-580 WB Springtown Blvd to Isabel Ave\n",
      "2021-02-24 14:37:08, INFO: Applying Year 2015 Modify USE on I-580 WB Springtown Blvd to Isabel Ave\n",
      "2021-02-24 14:37:08, INFO: Applying Project to Roadway Network: Year 2015 Modify USE on I-580 WB Springtown Blvd to Isabel Ave\n",
      "2021-02-24 14:37:08, INFO: Applying Project to Roadway Network: Year 2015 Modify USE on I-580 WB Springtown Blvd to Isabel Ave\n",
      "2021-02-24 14:37:09, INFO: Applying Year 2015 Modify USE on I-580 WB Isabel Ave to Fallon Road\n",
      "2021-02-24 14:37:09, INFO: Applying Year 2015 Modify USE on I-580 WB Isabel Ave to Fallon Road\n",
      "2021-02-24 14:37:09, INFO: Applying Year 2015 Modify USE on I-580 WB Isabel Ave to Fallon Road\n",
      "2021-02-24 14:37:09, INFO: Applying Year 2015 Modify USE on I-580 WB Isabel Ave to Fallon Road\n",
      "2021-02-24 14:37:09, INFO: Applying Project to Roadway Network: Year 2015 Modify USE on I-580 WB Isabel Ave to Fallon Road\n",
      "2021-02-24 14:37:09, INFO: Applying Project to Roadway Network: Year 2015 Modify USE on I-580 WB Isabel Ave to Fallon Road\n",
      "2021-02-24 14:37:12, INFO: Applying Year 2015 Modify USE on I-580 WB Hacienda Drive to San Ramon Road\n",
      "2021-02-24 14:37:12, INFO: Applying Year 2015 Modify USE on I-580 WB Hacienda Drive to San Ramon Road\n",
      "2021-02-24 14:37:12, INFO: Applying Year 2015 Modify USE on I-580 WB Hacienda Drive to San Ramon Road\n",
      "2021-02-24 14:37:12, INFO: Applying Year 2015 Modify USE on I-580 WB Hacienda Drive to San Ramon Road\n",
      "2021-02-24 14:37:12, INFO: Applying Project to Roadway Network: Year 2015 Modify USE on I-580 WB Hacienda Drive to San Ramon Road\n",
      "2021-02-24 14:37:12, INFO: Applying Project to Roadway Network: Year 2015 Modify USE on I-580 WB Hacienda Drive to San Ramon Road\n",
      "2021-02-24 14:37:14, INFO: Applying Year 2015 Modify USE on I-580 WB Greenville Road to Springtown Blvd\n",
      "2021-02-24 14:37:14, INFO: Applying Year 2015 Modify USE on I-580 WB Greenville Road to Springtown Blvd\n",
      "2021-02-24 14:37:14, INFO: Applying Year 2015 Modify USE on I-580 WB Greenville Road to Springtown Blvd\n",
      "2021-02-24 14:37:14, INFO: Applying Year 2015 Modify USE on I-580 WB Greenville Road to Springtown Blvd\n",
      "2021-02-24 14:37:14, INFO: Applying Project to Roadway Network: Year 2015 Modify USE on I-580 WB Greenville Road to Springtown Blvd\n",
      "2021-02-24 14:37:14, INFO: Applying Project to Roadway Network: Year 2015 Modify USE on I-580 WB Greenville Road to Springtown Blvd\n",
      "2021-02-24 14:37:16, INFO: Applying Year 2015 Modify USE on I-580 WB Fallon Road to Hacienda Drive\n",
      "2021-02-24 14:37:16, INFO: Applying Year 2015 Modify USE on I-580 WB Fallon Road to Hacienda Drive\n",
      "2021-02-24 14:37:16, INFO: Applying Year 2015 Modify USE on I-580 WB Fallon Road to Hacienda Drive\n",
      "2021-02-24 14:37:16, INFO: Applying Year 2015 Modify USE on I-580 WB Fallon Road to Hacienda Drive\n",
      "2021-02-24 14:37:16, INFO: Applying Project to Roadway Network: Year 2015 Modify USE on I-580 WB Fallon Road to Hacienda Drive\n",
      "2021-02-24 14:37:16, INFO: Applying Project to Roadway Network: Year 2015 Modify USE on I-580 WB Fallon Road to Hacienda Drive\n",
      "2021-02-24 14:37:18, INFO: Applying Year 2015 Modify Express Lanes and USE on I-580 EB Vasco Road to Greenville Road\n",
      "2021-02-24 14:37:18, INFO: Applying Year 2015 Modify Express Lanes and USE on I-580 EB Vasco Road to Greenville Road\n",
      "2021-02-24 14:37:18, INFO: Applying Year 2015 Modify Express Lanes and USE on I-580 EB Vasco Road to Greenville Road\n",
      "2021-02-24 14:37:18, INFO: Applying Year 2015 Modify Express Lanes and USE on I-580 EB Vasco Road to Greenville Road\n",
      "2021-02-24 14:37:18, INFO: Applying Project to Roadway Network: Year 2015 Modify Express Lanes and USE on I-580 EB Vasco Road to Greenville Road\n",
      "2021-02-24 14:37:18, INFO: Applying Project to Roadway Network: Year 2015 Modify Express Lanes and USE on I-580 EB Vasco Road to Greenville Road\n",
      "2021-02-24 14:37:19, INFO: Applying Year 2015 Modify Express Lanes and USE on I-580 EB (segment 02) Livermore Ave to Vasco Road\n",
      "2021-02-24 14:37:19, INFO: Applying Year 2015 Modify Express Lanes and USE on I-580 EB (segment 02) Livermore Ave to Vasco Road\n",
      "2021-02-24 14:37:19, INFO: Applying Year 2015 Modify Express Lanes and USE on I-580 EB (segment 02) Livermore Ave to Vasco Road\n"
     ]
    },
    {
     "name": "stdout",
     "output_type": "stream",
     "text": [
      "2021-02-24 14:37:19, INFO: Applying Year 2015 Modify Express Lanes and USE on I-580 EB (segment 02) Livermore Ave to Vasco Road\n",
      "2021-02-24 14:37:19, INFO: Applying Project to Roadway Network: Year 2015 Modify Express Lanes and USE on I-580 EB (segment 02) Livermore Ave to Vasco Road\n",
      "2021-02-24 14:37:19, INFO: Applying Project to Roadway Network: Year 2015 Modify Express Lanes and USE on I-580 EB (segment 02) Livermore Ave to Vasco Road\n",
      "2021-02-24 14:37:19, INFO: Applying Year 2015 Modify Express Lanes and USE on I-580 EB (segment 02) Hacienda Drive to Airway Blvd\n",
      "2021-02-24 14:37:19, INFO: Applying Year 2015 Modify Express Lanes and USE on I-580 EB (segment 02) Hacienda Drive to Airway Blvd\n",
      "2021-02-24 14:37:19, INFO: Applying Year 2015 Modify Express Lanes and USE on I-580 EB (segment 02) Hacienda Drive to Airway Blvd\n",
      "2021-02-24 14:37:19, INFO: Applying Year 2015 Modify Express Lanes and USE on I-580 EB (segment 02) Hacienda Drive to Airway Blvd\n",
      "2021-02-24 14:37:19, INFO: Applying Project to Roadway Network: Year 2015 Modify Express Lanes and USE on I-580 EB (segment 02) Hacienda Drive to Airway Blvd\n",
      "2021-02-24 14:37:19, INFO: Applying Project to Roadway Network: Year 2015 Modify Express Lanes and USE on I-580 EB (segment 02) Hacienda Drive to Airway Blvd\n",
      "2021-02-24 14:37:22, INFO: Applying Year 2015 Modify Express Lanes and USE on I-580 EB (segment 01) Livermore Ave to Vasco Road\n",
      "2021-02-24 14:37:22, INFO: Applying Year 2015 Modify Express Lanes and USE on I-580 EB (segment 01) Livermore Ave to Vasco Road\n",
      "2021-02-24 14:37:22, INFO: Applying Year 2015 Modify Express Lanes and USE on I-580 EB (segment 01) Livermore Ave to Vasco Road\n",
      "2021-02-24 14:37:22, INFO: Applying Year 2015 Modify Express Lanes and USE on I-580 EB (segment 01) Livermore Ave to Vasco Road\n",
      "2021-02-24 14:37:22, INFO: Applying Project to Roadway Network: Year 2015 Modify Express Lanes and USE on I-580 EB (segment 01) Livermore Ave to Vasco Road\n",
      "2021-02-24 14:37:22, INFO: Applying Project to Roadway Network: Year 2015 Modify Express Lanes and USE on I-580 EB (segment 01) Livermore Ave to Vasco Road\n",
      "2021-02-24 14:37:23, INFO: Applying Year 2015 Modify Express Lanes and USE on I-580 EB (segment 01) Hacienda Drive to Airway_Blvd\n",
      "2021-02-24 14:37:23, INFO: Applying Year 2015 Modify Express Lanes and USE on I-580 EB (segment 01) Hacienda Drive to Airway_Blvd\n",
      "2021-02-24 14:37:23, INFO: Applying Year 2015 Modify Express Lanes and USE on I-580 EB (segment 01) Hacienda Drive to Airway_Blvd\n",
      "2021-02-24 14:37:23, INFO: Applying Year 2015 Modify Express Lanes and USE on I-580 EB (segment 01) Hacienda Drive to Airway_Blvd\n",
      "2021-02-24 14:37:23, INFO: Applying Project to Roadway Network: Year 2015 Modify Express Lanes and USE on I-580 EB (segment 01) Hacienda Drive to Airway_Blvd\n",
      "2021-02-24 14:37:23, INFO: Applying Project to Roadway Network: Year 2015 Modify Express Lanes and USE on I-580 EB (segment 01) Hacienda Drive to Airway_Blvd\n",
      "2021-02-24 14:37:25, INFO: Applying Year 2015 Modify Express Lanes and USE on I-580 EB Airway Blvd to Livermore Ave\n",
      "2021-02-24 14:37:25, INFO: Applying Year 2015 Modify Express Lanes and USE on I-580 EB Airway Blvd to Livermore Ave\n",
      "2021-02-24 14:37:25, INFO: Applying Year 2015 Modify Express Lanes and USE on I-580 EB Airway Blvd to Livermore Ave\n",
      "2021-02-24 14:37:25, INFO: Applying Year 2015 Modify Express Lanes and USE on I-580 EB Airway Blvd to Livermore Ave\n",
      "2021-02-24 14:37:25, INFO: Applying Project to Roadway Network: Year 2015 Modify Express Lanes and USE on I-580 EB Airway Blvd to Livermore Ave\n",
      "2021-02-24 14:37:25, INFO: Applying Project to Roadway Network: Year 2015 Modify Express Lanes and USE on I-580 EB Airway Blvd to Livermore Ave\n",
      "2021-02-24 14:37:26, INFO: Applying Year 2015 Modify Express Lanes and USE on CA-237 WB I-880 to CA-262 Mission Blvd\n",
      "2021-02-24 14:37:26, INFO: Applying Year 2015 Modify Express Lanes and USE on CA-237 WB I-880 to CA-262 Mission Blvd\n",
      "2021-02-24 14:37:26, INFO: Applying Year 2015 Modify Express Lanes and USE on CA-237 WB I-880 to CA-262 Mission Blvd\n",
      "2021-02-24 14:37:26, INFO: Applying Year 2015 Modify Express Lanes and USE on CA-237 WB I-880 to CA-262 Mission Blvd\n",
      "2021-02-24 14:37:26, INFO: Applying Project to Roadway Network: Year 2015 Modify Express Lanes and USE on CA-237 WB I-880 to CA-262 Mission Blvd\n",
      "2021-02-24 14:37:26, INFO: Applying Project to Roadway Network: Year 2015 Modify Express Lanes and USE on CA-237 WB I-880 to CA-262 Mission Blvd\n",
      "2021-02-24 14:37:28, INFO: Applying Year 2015 Modify Express Lanes and USE on CA-237 EB SR-262 Mission Blvd to I-880\n",
      "2021-02-24 14:37:28, INFO: Applying Year 2015 Modify Express Lanes and USE on CA-237 EB SR-262 Mission Blvd to I-880\n",
      "2021-02-24 14:37:28, INFO: Applying Year 2015 Modify Express Lanes and USE on CA-237 EB SR-262 Mission Blvd to I-880\n",
      "2021-02-24 14:37:28, INFO: Applying Year 2015 Modify Express Lanes and USE on CA-237 EB SR-262 Mission Blvd to I-880\n",
      "2021-02-24 14:37:28, INFO: Applying Project to Roadway Network: Year 2015 Modify Express Lanes and USE on CA-237 EB SR-262 Mission Blvd to I-880\n",
      "2021-02-24 14:37:28, INFO: Applying Project to Roadway Network: Year 2015 Modify Express Lanes and USE on CA-237 EB SR-262 Mission Blvd to I-880\n",
      "2021-02-24 14:37:30, INFO: Applying Year 2015 Modify HOV Lanes and USE on Benicia Bridge Toll Plaza - Segment 02 - Bridge Pass\n",
      "2021-02-24 14:37:30, INFO: Applying Year 2015 Modify HOV Lanes and USE on Benicia Bridge Toll Plaza - Segment 02 - Bridge Pass\n",
      "2021-02-24 14:37:30, INFO: Applying Year 2015 Modify HOV Lanes and USE on Benicia Bridge Toll Plaza - Segment 02 - Bridge Pass\n",
      "2021-02-24 14:37:30, INFO: Applying Year 2015 Modify HOV Lanes and USE on Benicia Bridge Toll Plaza - Segment 02 - Bridge Pass\n",
      "2021-02-24 14:37:30, INFO: Applying Project to Roadway Network: Year 2015 Modify HOV Lanes and USE on Benicia Bridge Toll Plaza - Segment 02 - Bridge Pass\n",
      "2021-02-24 14:37:30, INFO: Applying Project to Roadway Network: Year 2015 Modify HOV Lanes and USE on Benicia Bridge Toll Plaza - Segment 02 - Bridge Pass\n",
      "2021-02-24 14:37:30, INFO: Applying Year 2015 Modify HOV Lanes and USE on Benicia Bridge Toll Plaza - Bridge Pass\n",
      "2021-02-24 14:37:30, INFO: Applying Year 2015 Modify HOV Lanes and USE on Benicia Bridge Toll Plaza - Bridge Pass\n",
      "2021-02-24 14:37:30, INFO: Applying Year 2015 Modify HOV Lanes and USE on Benicia Bridge Toll Plaza - Bridge Pass\n",
      "2021-02-24 14:37:30, INFO: Applying Year 2015 Modify HOV Lanes and USE on Benicia Bridge Toll Plaza - Bridge Pass\n",
      "2021-02-24 14:37:30, INFO: Applying Project to Roadway Network: Year 2015 Modify HOV Lanes and USE on Benicia Bridge Toll Plaza - Bridge Pass\n",
      "2021-02-24 14:37:30, INFO: Applying Project to Roadway Network: Year 2015 Modify HOV Lanes and USE on Benicia Bridge Toll Plaza - Bridge Pass\n",
      "2021-02-24 14:37:31, INFO: Applying Year 2015 Modify HOV Lanes-Fastrak Lanes and USE on San Francisco-Oakland Bay Bridge WB Toll Plaza segment 03 - Bridge Pass\n",
      "2021-02-24 14:37:31, INFO: Applying Year 2015 Modify HOV Lanes-Fastrak Lanes and USE on San Francisco-Oakland Bay Bridge WB Toll Plaza segment 03 - Bridge Pass\n",
      "2021-02-24 14:37:31, INFO: Applying Year 2015 Modify HOV Lanes-Fastrak Lanes and USE on San Francisco-Oakland Bay Bridge WB Toll Plaza segment 03 - Bridge Pass\n",
      "2021-02-24 14:37:31, INFO: Applying Year 2015 Modify HOV Lanes-Fastrak Lanes and USE on San Francisco-Oakland Bay Bridge WB Toll Plaza segment 03 - Bridge Pass\n",
      "2021-02-24 14:37:31, INFO: Applying Project to Roadway Network: Year 2015 Modify HOV Lanes-Fastrak Lanes and USE on San Francisco-Oakland Bay Bridge WB Toll Plaza segment 03 - Bridge Pass\n",
      "2021-02-24 14:37:31, INFO: Applying Project to Roadway Network: Year 2015 Modify HOV Lanes-Fastrak Lanes and USE on San Francisco-Oakland Bay Bridge WB Toll Plaza segment 03 - Bridge Pass\n",
      "2021-02-24 14:37:32, INFO: Applying Year 2015 Modify HOV Lanes-Fastrak Lanes and USE on San Francisco-Oakland Bay Bridge WB Toll Plaza segment 02 - Bridge Pass\n",
      "2021-02-24 14:37:32, INFO: Applying Year 2015 Modify HOV Lanes-Fastrak Lanes and USE on San Francisco-Oakland Bay Bridge WB Toll Plaza segment 02 - Bridge Pass\n",
      "2021-02-24 14:37:32, INFO: Applying Year 2015 Modify HOV Lanes-Fastrak Lanes and USE on San Francisco-Oakland Bay Bridge WB Toll Plaza segment 02 - Bridge Pass\n"
     ]
    },
    {
     "name": "stdout",
     "output_type": "stream",
     "text": [
      "2021-02-24 14:37:32, INFO: Applying Year 2015 Modify HOV Lanes-Fastrak Lanes and USE on San Francisco-Oakland Bay Bridge WB Toll Plaza segment 02 - Bridge Pass\n",
      "2021-02-24 14:37:32, INFO: Applying Project to Roadway Network: Year 2015 Modify HOV Lanes-Fastrak Lanes and USE on San Francisco-Oakland Bay Bridge WB Toll Plaza segment 02 - Bridge Pass\n",
      "2021-02-24 14:37:32, INFO: Applying Project to Roadway Network: Year 2015 Modify HOV Lanes-Fastrak Lanes and USE on San Francisco-Oakland Bay Bridge WB Toll Plaza segment 02 - Bridge Pass\n",
      "2021-02-24 14:37:32, INFO: Applying Year 2015 Modify HOV Lanes-Fastrak Lanes and USE on San Francisco-Oakland Bay Bridge WB Toll Plaza - Bridge Pass\n",
      "2021-02-24 14:37:32, INFO: Applying Year 2015 Modify HOV Lanes-Fastrak Lanes and USE on San Francisco-Oakland Bay Bridge WB Toll Plaza - Bridge Pass\n",
      "2021-02-24 14:37:32, INFO: Applying Year 2015 Modify HOV Lanes-Fastrak Lanes and USE on San Francisco-Oakland Bay Bridge WB Toll Plaza - Bridge Pass\n",
      "2021-02-24 14:37:32, INFO: Applying Year 2015 Modify HOV Lanes-Fastrak Lanes and USE on San Francisco-Oakland Bay Bridge WB Toll Plaza - Bridge Pass\n",
      "2021-02-24 14:37:32, INFO: Applying Project to Roadway Network: Year 2015 Modify HOV Lanes-Fastrak Lanes and USE on San Francisco-Oakland Bay Bridge WB Toll Plaza - Bridge Pass\n",
      "2021-02-24 14:37:32, INFO: Applying Project to Roadway Network: Year 2015 Modify HOV Lanes-Fastrak Lanes and USE on San Francisco-Oakland Bay Bridge WB Toll Plaza - Bridge Pass\n",
      "2021-02-24 14:37:33, INFO: Applying Year 2015 Modify HOV Lanes and USE on Dumbarton Bridge Toll Plaza Toll Plaza on CA-84 WB - Bridge Pass\n",
      "2021-02-24 14:37:33, INFO: Applying Year 2015 Modify HOV Lanes and USE on Dumbarton Bridge Toll Plaza Toll Plaza on CA-84 WB - Bridge Pass\n",
      "2021-02-24 14:37:33, INFO: Applying Year 2015 Modify HOV Lanes and USE on Dumbarton Bridge Toll Plaza Toll Plaza on CA-84 WB - Bridge Pass\n",
      "2021-02-24 14:37:33, INFO: Applying Year 2015 Modify HOV Lanes and USE on Dumbarton Bridge Toll Plaza Toll Plaza on CA-84 WB - Bridge Pass\n",
      "2021-02-24 14:37:33, INFO: Applying Project to Roadway Network: Year 2015 Modify HOV Lanes and USE on Dumbarton Bridge Toll Plaza Toll Plaza on CA-84 WB - Bridge Pass\n",
      "2021-02-24 14:37:33, INFO: Applying Project to Roadway Network: Year 2015 Modify HOV Lanes and USE on Dumbarton Bridge Toll Plaza Toll Plaza on CA-84 WB - Bridge Pass\n",
      "2021-02-24 14:37:33, INFO: Applying Year 2015 Modify HOV Lanes and USE on Carquinez Bridge Toll Plaza on I-80 NB - Bridge Pass\n",
      "2021-02-24 14:37:33, INFO: Applying Year 2015 Modify HOV Lanes and USE on Carquinez Bridge Toll Plaza on I-80 NB - Bridge Pass\n",
      "2021-02-24 14:37:33, INFO: Applying Year 2015 Modify HOV Lanes and USE on Carquinez Bridge Toll Plaza on I-80 NB - Bridge Pass\n",
      "2021-02-24 14:37:33, INFO: Applying Year 2015 Modify HOV Lanes and USE on Carquinez Bridge Toll Plaza on I-80 NB - Bridge Pass\n",
      "2021-02-24 14:37:33, INFO: Applying Project to Roadway Network: Year 2015 Modify HOV Lanes and USE on Carquinez Bridge Toll Plaza on I-80 NB - Bridge Pass\n",
      "2021-02-24 14:37:33, INFO: Applying Project to Roadway Network: Year 2015 Modify HOV Lanes and USE on Carquinez Bridge Toll Plaza on I-80 NB - Bridge Pass\n",
      "2021-02-24 14:37:34, INFO: Applying Year 2015 Modify HOV Lanes-Fastrak Lanes and USE on Antioch Bridge NB on Route 160 - Bridge Pass\n",
      "2021-02-24 14:37:34, INFO: Applying Year 2015 Modify HOV Lanes-Fastrak Lanes and USE on Antioch Bridge NB on Route 160 - Bridge Pass\n",
      "2021-02-24 14:37:34, INFO: Applying Year 2015 Modify HOV Lanes-Fastrak Lanes and USE on Antioch Bridge NB on Route 160 - Bridge Pass\n",
      "2021-02-24 14:37:34, INFO: Applying Year 2015 Modify HOV Lanes-Fastrak Lanes and USE on Antioch Bridge NB on Route 160 - Bridge Pass\n",
      "2021-02-24 14:37:34, INFO: Applying Project to Roadway Network: Year 2015 Modify HOV Lanes-Fastrak Lanes and USE on Antioch Bridge NB on Route 160 - Bridge Pass\n",
      "2021-02-24 14:37:34, INFO: Applying Project to Roadway Network: Year 2015 Modify HOV Lanes-Fastrak Lanes and USE on Antioch Bridge NB on Route 160 - Bridge Pass\n"
     ]
    }
   ],
   "source": [
    "v_04_scenario.apply_all_projects()"
   ]
  },
  {
   "cell_type": "code",
   "execution_count": 12,
   "metadata": {
    "scrolled": false
   },
   "outputs": [
    {
     "data": {
      "text/plain": [
       "['Year 2015 Modify Facility Type to Service',\n",
       " 'Year 2015 Modify Facility Type to Ramp shape incorrect',\n",
       " 'Year 2015 Modify Facility Type to Ramp',\n",
       " 'Year 2015 Modify Lanes to 2 Lane and Facility Type to Ramp shape incorrect',\n",
       " 'Year 2015 Modify Lanes to 2 Lane and Facility Type to Ramp',\n",
       " 'Year 2015 Modify Lanes to 1 Lane and Facility Type to Ramp',\n",
       " 'Year 2015 Bus Only Segments',\n",
       " 'Year 2015 Modify Lanes to 7 Lanes',\n",
       " 'Year 2015 Modify Lanes to 6 Lanes',\n",
       " 'Year 2015 Modify Lanes to 5 Lanes',\n",
       " 'Year 2015 Modify Lanes to 4 Lanes',\n",
       " 'Year 2015 Modify Lanes to 3 Lanes',\n",
       " 'Year 2015 Modify Lanes to 2 Lanes',\n",
       " 'Year 2015 Modify Lanes to 1 Lane',\n",
       " 'Year 2015 Modify Lanes to 14 Lanes',\n",
       " 'Year 2015 Modify HOV Lanes and USE on US-101 SB from South of Healdsburg to North of Petaluma',\n",
       " 'Year 2015 Modify USE and HOV Lanes on US-101 SB (Segment 02) from South of Healdsburg to North of Petaluma',\n",
       " 'Year 2015 Modify HOV Lanes and USE on US 101 SB CA-85 to Oregon Expressway',\n",
       " 'Year 2015 Modify HOV Lanes and USE on US 101 SB CA-85 to Cochrane Road',\n",
       " 'Year 2015 Modify HOV Lanes and USE on US-101 NB (Segment 02) from North of Petaluma to South of Healdsburg',\n",
       " 'Year 2015 Modify HOV Lanes and USE on US 101 NB Oregon Expressway to Whipple Road',\n",
       " 'Year 2015 Modify HOV Lanes and USE on US-101 NB from North of Petaluma to South of Healdsburg',\n",
       " 'Year 2015 Modify HOV Lanes and USE on US 101 NB Cochran Road to CA-85',\n",
       " 'Year 2015 Modify HOV Lanes and USE on San Tomas Expressway SB I-880 to Hwy 17',\n",
       " 'Year 2015 Modify HOV Lanes and USE on San Tomas Expressway NB Hwy 17 to I-880',\n",
       " 'Year 2015 Modify HOV Lanes and USE on Lawrence Expressway SB US 101 to I-280',\n",
       " 'Year 2015 Modify HOV Lanes and USE on Lawrence Expressway NB I-280 to US 101',\n",
       " 'Year 2015 Modify HOV Lanes and USE on Ramp Connecting I880 and Bay Bridge Plaza',\n",
       " 'Year 2015 Modify HOV Lanes and USE on I-880 SB from Hegenberger Road to Dixon Road',\n",
       " 'Year 2015 Modify Express Lanes and USE on I-880 SB Dixon Road to CA-237',\n",
       " 'Year 2015 Modify HOV Lanes and USE on I-880 SB CA-237 to US 101',\n",
       " 'Year 2015 Modify HOV lanes and USE on I-880 NB US 101 to CA-237',\n",
       " 'Year 2015 Modify HOV Lanes and USE on I-880 NB from Dixon Road to I-238',\n",
       " 'Year 2015 Modify Express Lanes and USE on I-880 NB CA-237 to Dixon Road',\n",
       " 'Year 2015 Modify USE on I-80 WB to Bay Bridge Toll Plaza',\n",
       " 'Year 2015 Modify HOV Lanes and USE on I-80 WB from Fairfield to I-680',\n",
       " 'Year 2015 Modify HOV Lanes and USE on I-80 WB from Carquinez Bridge to Bay Bridge Toll Plaza',\n",
       " 'Year 2015 Modify HOV Lanes and USE on I-80 EB from I-680 to Fairfield',\n",
       " 'Year 2015 Modify HOV Lanes and USE on I-80 EB from Bay Bridge to Carquinez Bridge Toll Plaza',\n",
       " 'Year 2015 Modify HOV Lanes and USE on I-680 SB from Rudgear Road to Acosta Blvd',\n",
       " 'Year 2015 Modify HOV Lanes and USE on I-680 SB from Benicia Bridge to CA-242',\n",
       " 'Year 2015 Modify HOV Lanes USE on I-680 NB CA-242 to Benicia Bridge',\n",
       " 'Year 2015 Modify HOV Lanes and USE on I-680 NB from Acosta Blvd to Rudgear Road',\n",
       " 'Year 2015 Modify HOV lanes and USE on Hwy 4 WB from Deer Valley Road to Port Chicago Highway',\n",
       " 'Year 2015 Modify HOV Lanes and USE on Hwy 4 EB from Port Chicago Highway to Deer Valley Road',\n",
       " 'Year 2015 Modify HOV Lanes and USE on E Capitol Expressway SB I-680 to US 101',\n",
       " 'Year 2015 Modify HOV Lanes and USE on E Capitol Expressway NB US101 to I-680',\n",
       " 'Year 2015 Modify HOV Lanes and USE on CA-92 WB Eden Landing Rd to San Mateo-Hayward Bridge Toll Plaza',\n",
       " 'Year 2015 Modify HOV Lanes and USE on CA-87 SB US 101 to CA-85',\n",
       " 'Year 2015 Modify HOV Lanes and USE on CA 87 NB CA-85 to US 101',\n",
       " 'Year 2015 Modify HOV Lanes and USE on CA-85 SB US101 to US101',\n",
       " 'Year 2015 Modify HOV Lanes and USE on CA-85 NB US101 to US101',\n",
       " 'Year 2015 Modify HOV Lanes and USE on CA-84 WB I-880 to Dumbarton Bridge Toll Plaza',\n",
       " 'Year 2015 Modify HOV Lanes and USE on CA-280 SB Magdalena Ave to Southwest Expressway',\n",
       " 'Year 2015 Modify HOV Lanes and USE on CA-280 NB Bascom Ave to Magdalena Ave',\n",
       " 'Year 2015 Modify HOV Lanes and USE on CA-237 WB North 1st Street to US 101',\n",
       " 'Year 2015 Modify HOV Lanes and USE on CA-237 EB US 101 to North 1st Street',\n",
       " 'Year 2015 Bus Only Segments for Transbay Terminal Ramps',\n",
       " 'Year 2015 Bus Only Segments for Golden Gate Transit on US 101',\n",
       " 'Year 2015 Exclude Trucks on SR 85',\n",
       " 'Year 2015 Exclude Trucks on I580',\n",
       " 'Year 2015 Modify HOV Lanes and USE on San Mateo Bridge Toll Plaza Toll Plaza on CA-92 WB - Bridge Pass',\n",
       " 'Year 2015 Modify HOV Lanes and USE on Benicia Bridge Toll Plaza - Segment 03 - Bridge Pass',\n",
       " 'Year 2015 Modify HOV Lanes and USE on Richmond-San Rafael Bridge Toll Plaza - Bridge Pass',\n",
       " 'Year 2015 Modify Express Lanes and USE on I-680 SB Washington Blvd to Mission Blvd',\n",
       " 'Year 2015 Modify Express Lanes and USE on I-680 SB Mission Blvd to CA-237',\n",
       " 'Year 2015 Modify Express Lanes and USE on I-680 SB Andrade Road to Washington Blvd',\n",
       " 'Year 2015 Modify USE on I-580 WB Springtown Blvd to Isabel Ave',\n",
       " 'Year 2015 Modify USE on I-580 WB Isabel Ave to Fallon Road',\n",
       " 'Year 2015 Modify USE on I-580 WB Hacienda Drive to San Ramon Road',\n",
       " 'Year 2015 Modify USE on I-580 WB Greenville Road to Springtown Blvd',\n",
       " 'Year 2015 Modify USE on I-580 WB Fallon Road to Hacienda Drive',\n",
       " 'Year 2015 Modify Express Lanes and USE on I-580 EB Vasco Road to Greenville Road',\n",
       " 'Year 2015 Modify Express Lanes and USE on I-580 EB (segment 02) Livermore Ave to Vasco Road',\n",
       " 'Year 2015 Modify Express Lanes and USE on I-580 EB (segment 02) Hacienda Drive to Airway Blvd',\n",
       " 'Year 2015 Modify Express Lanes and USE on I-580 EB (segment 01) Livermore Ave to Vasco Road',\n",
       " 'Year 2015 Modify Express Lanes and USE on I-580 EB (segment 01) Hacienda Drive to Airway_Blvd',\n",
       " 'Year 2015 Modify Express Lanes and USE on I-580 EB Airway Blvd to Livermore Ave',\n",
       " 'Year 2015 Modify Express Lanes and USE on CA-237 WB I-880 to CA-262 Mission Blvd',\n",
       " 'Year 2015 Modify Express Lanes and USE on CA-237 EB SR-262 Mission Blvd to I-880',\n",
       " 'Year 2015 Modify HOV Lanes and USE on Benicia Bridge Toll Plaza - Segment 02 - Bridge Pass',\n",
       " 'Year 2015 Modify HOV Lanes and USE on Benicia Bridge Toll Plaza - Bridge Pass',\n",
       " 'Year 2015 Modify HOV Lanes-Fastrak Lanes and USE on San Francisco-Oakland Bay Bridge WB Toll Plaza segment 03 - Bridge Pass',\n",
       " 'Year 2015 Modify HOV Lanes-Fastrak Lanes and USE on San Francisco-Oakland Bay Bridge WB Toll Plaza segment 02 - Bridge Pass',\n",
       " 'Year 2015 Modify HOV Lanes-Fastrak Lanes and USE on San Francisco-Oakland Bay Bridge WB Toll Plaza - Bridge Pass',\n",
       " 'Year 2015 Modify HOV Lanes and USE on Dumbarton Bridge Toll Plaza Toll Plaza on CA-84 WB - Bridge Pass',\n",
       " 'Year 2015 Modify HOV Lanes and USE on Carquinez Bridge Toll Plaza on I-80 NB - Bridge Pass',\n",
       " 'Year 2015 Modify HOV Lanes-Fastrak Lanes and USE on Antioch Bridge NB on Route 160 - Bridge Pass']"
      ]
     },
     "execution_count": 12,
     "metadata": {},
     "output_type": "execute_result"
    }
   ],
   "source": [
    "v_04_scenario.applied_projects"
   ]
  },
  {
   "cell_type": "code",
   "execution_count": 13,
   "metadata": {},
   "outputs": [
    {
     "data": {
      "text/plain": [
       "Index(['access', 'bike_access', 'drive_access', 'fromIntersectionId', 'lanes',\n",
       "       'maxspeed', 'name', 'oneWay', 'ref', 'roadway', 'shstGeometryId',\n",
       "       'shstReferenceId', 'toIntersectionId', 'u', 'v', 'walk_access', 'wayId',\n",
       "       'county', 'model_link_id', 'A', 'B', 'rail_traveltime', 'rail_only',\n",
       "       'locationReferences', 'shape_id', 'geometry', 'ft_cal', 'ft',\n",
       "       'useclass', 'assignable', 'transit', 'bus_only', 'managed', 'ML_lanes',\n",
       "       'segment_id', 'ML_useclass', 'ML_access', 'ML_egress', 'tollseg',\n",
       "       'transit_access', 'tollbooth', 'ML_tollbooth', 'ML_tollseg'],\n",
       "      dtype='object')"
      ]
     },
     "execution_count": 13,
     "metadata": {},
     "output_type": "execute_result"
    }
   ],
   "source": [
    "v_04_scenario.road_net.links_df.columns"
   ]
  },
  {
   "cell_type": "code",
   "execution_count": 14,
   "metadata": {},
   "outputs": [
    {
     "data": {
      "text/html": [
       "<div>\n",
       "<style scoped>\n",
       "    .dataframe tbody tr th:only-of-type {\n",
       "        vertical-align: middle;\n",
       "    }\n",
       "\n",
       "    .dataframe tbody tr th {\n",
       "        vertical-align: top;\n",
       "    }\n",
       "\n",
       "    .dataframe thead th {\n",
       "        text-align: right;\n",
       "    }\n",
       "</style>\n",
       "<table border=\"1\" class=\"dataframe\">\n",
       "  <thead>\n",
       "    <tr style=\"text-align: right;\">\n",
       "      <th></th>\n",
       "      <th>access</th>\n",
       "      <th>bike_access</th>\n",
       "      <th>drive_access</th>\n",
       "      <th>fromIntersectionId</th>\n",
       "      <th>lanes</th>\n",
       "      <th>maxspeed</th>\n",
       "      <th>name</th>\n",
       "      <th>oneWay</th>\n",
       "      <th>ref</th>\n",
       "      <th>roadway</th>\n",
       "      <th>...</th>\n",
       "      <th>ML_lanes</th>\n",
       "      <th>segment_id</th>\n",
       "      <th>ML_useclass</th>\n",
       "      <th>ML_access</th>\n",
       "      <th>ML_egress</th>\n",
       "      <th>tollseg</th>\n",
       "      <th>transit_access</th>\n",
       "      <th>tollbooth</th>\n",
       "      <th>ML_tollbooth</th>\n",
       "      <th>ML_tollseg</th>\n",
       "    </tr>\n",
       "  </thead>\n",
       "  <tbody>\n",
       "    <tr>\n",
       "      <th>548525</th>\n",
       "      <td>['nan', 'nan']</td>\n",
       "      <td>False</td>\n",
       "      <td>True</td>\n",
       "      <td>826a99158fd58e5483d1085c9e0d65b3</td>\n",
       "      <td>{'default': 2, 'timeofday': [{'time': (21600, ...</td>\n",
       "      <td>['nan', 'nan']</td>\n",
       "      <td>['nan', 'nan']</td>\n",
       "      <td>[True, True]</td>\n",
       "      <td>['I 80', 'I 80']</td>\n",
       "      <td>motorway</td>\n",
       "      <td>...</td>\n",
       "      <td>{'default': 0, 'timeofday': [{'time': (21600, ...</td>\n",
       "      <td>5</td>\n",
       "      <td>{'default': 0, 'timeofday': [{'time': (21600, ...</td>\n",
       "      <td>all</td>\n",
       "      <td>all</td>\n",
       "      <td>NaN</td>\n",
       "      <td>NaN</td>\n",
       "      <td>5</td>\n",
       "      <td>5</td>\n",
       "      <td>NaN</td>\n",
       "    </tr>\n",
       "  </tbody>\n",
       "</table>\n",
       "<p>1 rows × 43 columns</p>\n",
       "</div>"
      ],
      "text/plain": [
       "                access bike_access drive_access  \\\n",
       "548525  ['nan', 'nan']       False         True   \n",
       "\n",
       "                      fromIntersectionId  \\\n",
       "548525  826a99158fd58e5483d1085c9e0d65b3   \n",
       "\n",
       "                                                    lanes        maxspeed  \\\n",
       "548525  {'default': 2, 'timeofday': [{'time': (21600, ...  ['nan', 'nan']   \n",
       "\n",
       "                  name        oneWay               ref   roadway  ...  \\\n",
       "548525  ['nan', 'nan']  [True, True]  ['I 80', 'I 80']  motorway  ...   \n",
       "\n",
       "                                                 ML_lanes segment_id  \\\n",
       "548525  {'default': 0, 'timeofday': [{'time': (21600, ...          5   \n",
       "\n",
       "                                              ML_useclass  ML_access  \\\n",
       "548525  {'default': 0, 'timeofday': [{'time': (21600, ...        all   \n",
       "\n",
       "        ML_egress tollseg transit_access tollbooth  ML_tollbooth  ML_tollseg  \n",
       "548525        all     NaN            NaN         5             5         NaN  \n",
       "\n",
       "[1 rows x 43 columns]"
      ]
     },
     "execution_count": 14,
     "metadata": {},
     "output_type": "execute_result"
    }
   ],
   "source": [
    "v_04_scenario.road_net.links_df[v_04_scenario.road_net.links_df.model_link_id == 3107408] # bay bridge toll link"
   ]
  },
  {
   "cell_type": "code",
   "execution_count": 15,
   "metadata": {},
   "outputs": [
    {
     "data": {
      "text/html": [
       "<div>\n",
       "<style scoped>\n",
       "    .dataframe tbody tr th:only-of-type {\n",
       "        vertical-align: middle;\n",
       "    }\n",
       "\n",
       "    .dataframe tbody tr th {\n",
       "        vertical-align: top;\n",
       "    }\n",
       "\n",
       "    .dataframe thead th {\n",
       "        text-align: right;\n",
       "    }\n",
       "</style>\n",
       "<table border=\"1\" class=\"dataframe\">\n",
       "  <thead>\n",
       "    <tr style=\"text-align: right;\">\n",
       "      <th></th>\n",
       "      <th>access</th>\n",
       "      <th>bike_access</th>\n",
       "      <th>drive_access</th>\n",
       "      <th>fromIntersectionId</th>\n",
       "      <th>lanes</th>\n",
       "      <th>maxspeed</th>\n",
       "      <th>name</th>\n",
       "      <th>oneWay</th>\n",
       "      <th>ref</th>\n",
       "      <th>roadway</th>\n",
       "      <th>...</th>\n",
       "      <th>ML_lanes</th>\n",
       "      <th>segment_id</th>\n",
       "      <th>ML_useclass</th>\n",
       "      <th>ML_access</th>\n",
       "      <th>ML_egress</th>\n",
       "      <th>tollseg</th>\n",
       "      <th>transit_access</th>\n",
       "      <th>tollbooth</th>\n",
       "      <th>ML_tollbooth</th>\n",
       "      <th>ML_tollseg</th>\n",
       "    </tr>\n",
       "  </thead>\n",
       "  <tbody>\n",
       "    <tr>\n",
       "      <th>419429</th>\n",
       "      <td>['nan', 'nan', 'nan', 'nan', 'nan']</td>\n",
       "      <td>False</td>\n",
       "      <td>True</td>\n",
       "      <td>7603454232b185b52bea1f0077be5164</td>\n",
       "      <td>3</td>\n",
       "      <td>['55 mph', '45 mph', '35 mph', '25 mph', '25 m...</td>\n",
       "      <td>['Redwood Highway', 'Golden Gate Bridge', 'Gol...</td>\n",
       "      <td>[True, True, True, True, True]</td>\n",
       "      <td>['US 101;CA 1', 'US 101;CA 1', 'US 101;CA 1', ...</td>\n",
       "      <td>motorway</td>\n",
       "      <td>...</td>\n",
       "      <td>NaN</td>\n",
       "      <td>NaN</td>\n",
       "      <td>NaN</td>\n",
       "      <td>NaN</td>\n",
       "      <td>NaN</td>\n",
       "      <td>NaN</td>\n",
       "      <td>NaN</td>\n",
       "      <td>NaN</td>\n",
       "      <td>NaN</td>\n",
       "      <td>NaN</td>\n",
       "    </tr>\n",
       "  </tbody>\n",
       "</table>\n",
       "<p>1 rows × 43 columns</p>\n",
       "</div>"
      ],
      "text/plain": [
       "                                     access bike_access drive_access  \\\n",
       "419429  ['nan', 'nan', 'nan', 'nan', 'nan']       False         True   \n",
       "\n",
       "                      fromIntersectionId lanes  \\\n",
       "419429  7603454232b185b52bea1f0077be5164     3   \n",
       "\n",
       "                                                 maxspeed  \\\n",
       "419429  ['55 mph', '45 mph', '35 mph', '25 mph', '25 m...   \n",
       "\n",
       "                                                     name  \\\n",
       "419429  ['Redwood Highway', 'Golden Gate Bridge', 'Gol...   \n",
       "\n",
       "                                oneWay  \\\n",
       "419429  [True, True, True, True, True]   \n",
       "\n",
       "                                                      ref   roadway  ...  \\\n",
       "419429  ['US 101;CA 1', 'US 101;CA 1', 'US 101;CA 1', ...  motorway  ...   \n",
       "\n",
       "       ML_lanes segment_id ML_useclass  ML_access  ML_egress tollseg  \\\n",
       "419429      NaN        NaN         NaN        NaN        NaN     NaN   \n",
       "\n",
       "       transit_access tollbooth  ML_tollbooth  ML_tollseg  \n",
       "419429            NaN       NaN           NaN         NaN  \n",
       "\n",
       "[1 rows x 43 columns]"
      ]
     },
     "execution_count": 15,
     "metadata": {},
     "output_type": "execute_result"
    }
   ],
   "source": [
    "v_04_scenario.road_net.links_df[v_04_scenario.road_net.links_df.model_link_id == 8016300] # golden gate bridge hov toll lane"
   ]
  },
  {
   "cell_type": "markdown",
   "metadata": {},
   "source": [
    "## Make Travel Model Networks"
   ]
  },
  {
   "cell_type": "code",
   "execution_count": 16,
   "metadata": {},
   "outputs": [
    {
     "name": "stdout",
     "output_type": "stream",
     "text": [
      "2021-02-10 19:45:05, INFO: Lasso base directory set as: C:/Users/USGS667806/Lasso\n",
      "2021-02-10 19:45:05, INFO: Lasso base directory set as: C:/Users/USGS667806/Lasso\n",
      "2021-02-10 19:45:05, INFO: Lasso base directory set as: C:/Users/USGS667806/Lasso\n",
      "2021-02-10 19:45:05, INFO: Lasso base directory set as: C:/Users/USGS667806/Lasso\n"
     ]
    }
   ],
   "source": [
    "model_net = ModelRoadwayNetwork.from_RoadwayNetwork(\n",
    "    roadway_network_object = v_04_scenario.road_net, \n",
    "    parameters = parameters)"
   ]
  },
  {
   "cell_type": "code",
   "execution_count": 17,
   "metadata": {},
   "outputs": [
    {
     "name": "stdout",
     "output_type": "stream",
     "text": [
      "(1634769, 43)\n",
      "(644475, 11)\n",
      "(869970, 7)\n"
     ]
    }
   ],
   "source": [
    "print(model_net.links_df.shape)\n",
    "print(model_net.nodes_df.shape)\n",
    "print(model_net.shapes_df.shape)"
   ]
  },
  {
   "cell_type": "code",
   "execution_count": 18,
   "metadata": {},
   "outputs": [
    {
     "name": "stdout",
     "output_type": "stream",
     "text": [
      "2021-02-10 19:45:06, INFO: Adding centroid and centroid connector to standard network\n",
      "2021-02-10 19:45:06, INFO: Adding centroid and centroid connector to standard network\n",
      "2021-02-10 19:45:06, INFO: Lasso base directory set as: C:/Users/USGS667806/Lasso\n",
      "2021-02-10 19:45:06, INFO: Lasso base directory set as: C:/Users/USGS667806/Lasso\n",
      "2021-02-10 19:45:06, INFO: Lasso base directory set as: C:/Users/USGS667806/Lasso\n",
      "2021-02-10 19:45:06, INFO: Lasso base directory set as: C:/Users/USGS667806/Lasso\n",
      "2021-02-10 19:45:16, INFO: Finished adding centroid and centroid connectors\n",
      "2021-02-10 19:45:16, INFO: Finished adding centroid and centroid connectors\n"
     ]
    }
   ],
   "source": [
    "model_net = mtc.add_centroid_and_centroid_connector(\n",
    "    roadway_network = model_net,\n",
    "    parameters = parameters)"
   ]
  },
  {
   "cell_type": "code",
   "execution_count": 19,
   "metadata": {},
   "outputs": [
    {
     "name": "stdout",
     "output_type": "stream",
     "text": [
      "(2190409, 43)\n",
      "(688957, 11)\n",
      "(1147790, 7)\n"
     ]
    }
   ],
   "source": [
    "print(model_net.links_df.shape)\n",
    "print(model_net.nodes_df.shape)\n",
    "print(model_net.shapes_df.shape)"
   ]
  },
  {
   "cell_type": "code",
   "execution_count": 20,
   "metadata": {},
   "outputs": [
    {
     "data": {
      "text/plain": [
       "2190409"
      ]
     },
     "execution_count": 20,
     "metadata": {},
     "output_type": "execute_result"
    }
   ],
   "source": [
    "model_net.links_df.model_link_id.nunique()"
   ]
  },
  {
   "cell_type": "code",
   "execution_count": 21,
   "metadata": {},
   "outputs": [
    {
     "name": "stdout",
     "output_type": "stream",
     "text": [
      "2021-02-10 19:45:18, INFO: Adding tap and tap connector to standard network\n",
      "2021-02-10 19:45:18, INFO: Adding tap and tap connector to standard network\n",
      "2021-02-10 19:45:18, INFO: Lasso base directory set as: C:/Users/USGS667806/Lasso\n",
      "2021-02-10 19:45:18, INFO: Lasso base directory set as: C:/Users/USGS667806/Lasso\n",
      "2021-02-10 19:45:18, INFO: Lasso base directory set as: C:/Users/USGS667806/Lasso\n",
      "2021-02-10 19:45:18, INFO: Lasso base directory set as: C:/Users/USGS667806/Lasso\n",
      "2021-02-10 19:45:23, INFO: Finished adding tap and tap connectors\n",
      "2021-02-10 19:45:23, INFO: Finished adding tap and tap connectors\n"
     ]
    }
   ],
   "source": [
    "model_net = mtc.add_tap_and_tap_connector(\n",
    "    roadway_network = model_net,\n",
    "    parameters = parameters)"
   ]
  },
  {
   "cell_type": "code",
   "execution_count": 22,
   "metadata": {},
   "outputs": [
    {
     "name": "stdout",
     "output_type": "stream",
     "text": [
      "(2225651, 43)\n",
      "(694957, 11)\n",
      "(1165411, 7)\n"
     ]
    }
   ],
   "source": [
    "print(model_net.links_df.shape)\n",
    "print(model_net.nodes_df.shape)\n",
    "print(model_net.shapes_df.shape)"
   ]
  },
  {
   "cell_type": "code",
   "execution_count": 23,
   "metadata": {},
   "outputs": [
    {
     "data": {
      "text/plain": [
       "2225651"
      ]
     },
     "execution_count": 23,
     "metadata": {},
     "output_type": "execute_result"
    }
   ],
   "source": [
    "model_net.links_df.model_link_id.nunique()"
   ]
  },
  {
   "cell_type": "code",
   "execution_count": 24,
   "metadata": {},
   "outputs": [
    {
     "data": {
      "text/plain": [
       "694957"
      ]
     },
     "execution_count": 24,
     "metadata": {},
     "output_type": "execute_result"
    }
   ],
   "source": [
    "model_net.nodes_df.model_node_id.nunique()"
   ]
  },
  {
   "cell_type": "code",
   "execution_count": 25,
   "metadata": {},
   "outputs": [
    {
     "data": {
      "text/plain": [
       "1165411"
      ]
     },
     "execution_count": 25,
     "metadata": {},
     "output_type": "execute_result"
    }
   ],
   "source": [
    "model_net.shapes_df.id.nunique()"
   ]
  },
  {
   "cell_type": "code",
   "execution_count": 26,
   "metadata": {
    "scrolled": false
   },
   "outputs": [
    {
     "name": "stdout",
     "output_type": "stream",
     "text": [
      "2021-02-10 19:45:25, INFO: Renaming roadway attributes to be consistent with what mtc's model is expecting\n",
      "2021-02-10 19:45:25, INFO: Renaming roadway attributes to be consistent with what mtc's model is expecting\n",
      "2021-02-10 19:45:25, INFO: Creating managed lane network.\n",
      "2021-02-10 19:45:25, INFO: Creating managed lane network.\n",
      "2021-02-10 19:45:25, INFO: Creating network with duplicated managed lanes\n",
      "2021-02-10 19:45:25, INFO: Creating network with duplicated managed lanes\n"
     ]
    },
    {
     "name": "stderr",
     "output_type": "stream",
     "text": [
      "C:\\Users\\USGS667806\\Anaconda3\\envs\\lasso_environment\\lib\\site-packages\\geopandas\\geodataframe.py:853: SettingWithCopyWarning: \n",
      "A value is trying to be set on a copy of a slice from a DataFrame.\n",
      "Try using .loc[row_indexer,col_indexer] = value instead\n",
      "\n",
      "See the caveats in the documentation: https://pandas.pydata.org/pandas-docs/stable/user_guide/indexing.html#returning-a-view-versus-a-copy\n",
      "  super(GeoDataFrame, self).__setitem__(key, value)\n",
      "C:\\Users\\USGS667806\\Anaconda3\\envs\\lasso_environment\\lib\\site-packages\\geopandas\\geodataframe.py:852: UserWarning: Geometry column does not contain geometry.\n",
      "  warnings.warn(\"Geometry column does not contain geometry.\")\n",
      "C:\\Users\\USGS667806\\Anaconda3\\envs\\lasso_environment\\lib\\site-packages\\pandas\\core\\indexing.py:1743: SettingWithCopyWarning: \n",
      "A value is trying to be set on a copy of a slice from a DataFrame.\n",
      "Try using .loc[row_indexer,col_indexer] = value instead\n",
      "\n",
      "See the caveats in the documentation: https://pandas.pydata.org/pandas-docs/stable/user_guide/indexing.html#returning-a-view-versus-a-copy\n",
      "  isetter(ilocs[0], value)\n"
     ]
    },
    {
     "name": "stdout",
     "output_type": "stream",
     "text": [
      "2021-02-10 19:59:15, INFO: Determining cntype\n",
      "2021-02-10 19:59:15, INFO: Determining cntype\n",
      "2021-02-10 19:59:15, INFO: Lasso base directory set as: C:/Users/USGS667806/Lasso\n",
      "2021-02-10 19:59:15, INFO: Lasso base directory set as: C:/Users/USGS667806/Lasso\n",
      "2021-02-10 19:59:15, INFO: Lasso base directory set as: C:/Users/USGS667806/Lasso\n",
      "2021-02-10 19:59:15, INFO: Lasso base directory set as: C:/Users/USGS667806/Lasso\n",
      "2021-02-10 19:59:16, INFO: Calculating and adding roadway network variable: cntype\n",
      "2021-02-10 19:59:16, INFO: Calculating and adding roadway network variable: cntype\n",
      "2021-02-10 20:00:19, INFO: Finished determining variable: cntype\n",
      "2021-02-10 20:00:19, INFO: Finished determining variable: cntype\n",
      "2021-02-10 20:00:19, INFO: Determining transit\n",
      "2021-02-10 20:00:19, INFO: Determining transit\n",
      "2021-02-10 20:00:19, INFO: Lasso base directory set as: C:/Users/USGS667806/Lasso\n",
      "2021-02-10 20:00:19, INFO: Lasso base directory set as: C:/Users/USGS667806/Lasso\n",
      "2021-02-10 20:00:19, INFO: Lasso base directory set as: C:/Users/USGS667806/Lasso\n",
      "2021-02-10 20:00:19, INFO: Lasso base directory set as: C:/Users/USGS667806/Lasso\n",
      "2021-02-10 20:00:19, INFO: Variable 'transit' updated for some links. Returning without overwriting for those links. Calculating for other links\n",
      "2021-02-10 20:00:19, INFO: Variable 'transit' updated for some links. Returning without overwriting for those links. Calculating for other links\n",
      "2021-02-10 20:00:19, INFO: Calculating and adding roadway network variable: transit\n",
      "2021-02-10 20:00:19, INFO: Calculating and adding roadway network variable: transit\n",
      "2021-02-10 20:00:20, INFO: Finished determining transit-only variable: transit\n",
      "2021-02-10 20:00:20, INFO: Finished determining transit-only variable: transit\n",
      "2021-02-10 20:00:20, INFO: Determining useclass\n",
      "2021-02-10 20:00:20, INFO: Determining useclass\n",
      "2021-02-10 20:00:20, INFO: Lasso base directory set as: C:/Users/USGS667806/Lasso\n",
      "2021-02-10 20:00:20, INFO: Lasso base directory set as: C:/Users/USGS667806/Lasso\n",
      "2021-02-10 20:00:20, INFO: Lasso base directory set as: C:/Users/USGS667806/Lasso\n",
      "2021-02-10 20:00:20, INFO: Lasso base directory set as: C:/Users/USGS667806/Lasso\n",
      "2021-02-10 20:00:20, INFO: Variable 'useclass' updated for some links. Returning without overwriting for those links. Calculating for other links\n",
      "2021-02-10 20:00:20, INFO: Variable 'useclass' updated for some links. Returning without overwriting for those links. Calculating for other links\n",
      "2021-02-10 20:00:20, INFO: Calculating and adding roadway network variable: useclass\n",
      "2021-02-10 20:00:20, INFO: Calculating and adding roadway network variable: useclass\n",
      "2021-02-10 20:00:20, INFO: Finished determining variable: useclass\n",
      "2021-02-10 20:00:20, INFO: Finished determining variable: useclass\n",
      "2021-02-10 20:00:20, INFO: Calculating Facility Type\n",
      "2021-02-10 20:00:20, INFO: Calculating Facility Type\n",
      "2021-02-10 20:00:20, INFO: Lasso base directory set as: C:/Users/USGS667806/Lasso\n",
      "2021-02-10 20:00:20, INFO: Lasso base directory set as: C:/Users/USGS667806/Lasso\n",
      "2021-02-10 20:00:20, INFO: Lasso base directory set as: C:/Users/USGS667806/Lasso\n",
      "2021-02-10 20:00:20, INFO: Lasso base directory set as: C:/Users/USGS667806/Lasso\n",
      "2021-02-10 20:00:20, INFO: Variable 'ft' updated for some links. Returning without overwriting for those links. Calculating for other links\n",
      "2021-02-10 20:00:20, INFO: Variable 'ft' updated for some links. Returning without overwriting for those links. Calculating for other links\n",
      "2021-02-10 20:02:54, INFO: Finished calculating roadway class variable: ft\n",
      "2021-02-10 20:02:54, INFO: Finished calculating roadway class variable: ft\n",
      "2021-02-10 20:02:54, INFO: Overwriting existing distance Variable 'distance' already in network\n",
      "2021-02-10 20:02:54, INFO: Overwriting existing distance Variable 'distance' already in network\n",
      "2021-02-10 20:04:01, INFO: Calculating distance for all links\n",
      "2021-02-10 20:04:01, INFO: Calculating distance for all links\n",
      "2021-02-10 20:04:06, INFO: Calculating distance for all links\n",
      "2021-02-10 20:04:06, INFO: Calculating distance for all links\n",
      "2021-02-10 20:04:14, INFO: Filling nan for network from network wrangler\n",
      "2021-02-10 20:04:14, INFO: Filling nan for network from network wrangler\n",
      "2021-02-10 20:04:42, INFO: Splitting variables by time period and category\n",
      "2021-02-10 20:04:42, INFO: Splitting variables by time period and category\n",
      "2021-02-10 20:04:51, WARNING: Specified variable to split: ML_lanes not in network variables: Index(['index', 'access', 'bike_access', 'drive_access', 'fromIntersectionId',\n",
      "       'lanes', 'maxspeed', 'name', 'oneWay', 'ref', 'roadway',\n",
      "       'shstGeometryId', 'shstReferenceId', 'toIntersectionId', 'u', 'v',\n",
      "       'walk_access', 'wayId', 'county', 'model_link_id', 'A', 'B',\n",
      "       'rail_traveltime', 'rail_only', 'locationReferences', 'shape_id',\n",
      "       'geometry', 'ft_cal', 'ft', 'useclass', 'assignable', 'transit',\n",
      "       'bus_only', 'managed', 'segment_id', 'tollseg', 'transit_access',\n",
      "       'tollbooth', 'egress', 'id', 'distance', 'cntype', 'lanes_EA',\n",
      "       'lanes_AM', 'lanes_MD', 'lanes_PM', 'lanes_EV'],\n",
      "      dtype='object'). Returning 0.\n",
      "2021-02-10 20:04:51, WARNING: Specified variable to split: ML_lanes not in network variables: Index(['index', 'access', 'bike_access', 'drive_access', 'fromIntersectionId',\n",
      "       'lanes', 'maxspeed', 'name', 'oneWay', 'ref', 'roadway',\n",
      "       'shstGeometryId', 'shstReferenceId', 'toIntersectionId', 'u', 'v',\n",
      "       'walk_access', 'wayId', 'county', 'model_link_id', 'A', 'B',\n",
      "       'rail_traveltime', 'rail_only', 'locationReferences', 'shape_id',\n",
      "       'geometry', 'ft_cal', 'ft', 'useclass', 'assignable', 'transit',\n",
      "       'bus_only', 'managed', 'segment_id', 'tollseg', 'transit_access',\n",
      "       'tollbooth', 'egress', 'id', 'distance', 'cntype', 'lanes_EA',\n",
      "       'lanes_AM', 'lanes_MD', 'lanes_PM', 'lanes_EV'],\n",
      "      dtype='object'). Returning 0.\n",
      "2021-02-10 20:04:59, INFO: Converting variable type to mtc standard\n",
      "2021-02-10 20:04:59, INFO: Converting variable type to mtc standard\n",
      "2021-02-10 20:05:04, INFO: Setting Coordinate Reference System to ESRI:102646\n",
      "2021-02-10 20:05:04, INFO: Setting Coordinate Reference System to ESRI:102646\n"
     ]
    }
   ],
   "source": [
    "model_net = mtc.roadway_standard_to_mtc_network(model_net, parameters)"
   ]
  },
  {
   "cell_type": "code",
   "execution_count": 27,
   "metadata": {},
   "outputs": [
    {
     "data": {
      "text/plain": [
       "(2230053, 57)"
      ]
     },
     "execution_count": 27,
     "metadata": {},
     "output_type": "execute_result"
    }
   ],
   "source": [
    "model_net.links_df.shape"
   ]
  },
  {
   "cell_type": "code",
   "execution_count": 28,
   "metadata": {},
   "outputs": [
    {
     "data": {
      "text/plain": [
       "2230053"
      ]
     },
     "execution_count": 28,
     "metadata": {},
     "output_type": "execute_result"
    }
   ],
   "source": [
    "model_net.links_df.model_link_id.nunique()"
   ]
  },
  {
   "cell_type": "code",
   "execution_count": 29,
   "metadata": {},
   "outputs": [
    {
     "data": {
      "text/plain": [
       "(696464, 12)"
      ]
     },
     "execution_count": 29,
     "metadata": {},
     "output_type": "execute_result"
    }
   ],
   "source": [
    "model_net.nodes_mtc_df.shape"
   ]
  },
  {
   "cell_type": "code",
   "execution_count": 30,
   "metadata": {},
   "outputs": [
    {
     "data": {
      "text/plain": [
       "696464"
      ]
     },
     "execution_count": 30,
     "metadata": {},
     "output_type": "execute_result"
    }
   ],
   "source": [
    "model_net.nodes_df.model_node_id.nunique()"
   ]
  },
  {
   "cell_type": "markdown",
   "metadata": {},
   "source": [
    "## Write to Disk"
   ]
  },
  {
   "cell_type": "markdown",
   "metadata": {},
   "source": [
    "## As shapefile"
   ]
  },
  {
   "cell_type": "code",
   "execution_count": 31,
   "metadata": {},
   "outputs": [
    {
     "name": "stdout",
     "output_type": "stream",
     "text": [
      "2021-02-10 20:06:44, INFO: Writing Network as Shapefile\n",
      "2021-02-10 20:06:44, INFO: Writing Network as Shapefile\n",
      "2021-02-10 20:06:44, INFO: Renaming DBF Node Variables\n",
      "2021-02-10 20:06:44, INFO: Renaming DBF Node Variables\n",
      "2021-02-10 20:06:44, INFO: Renaming variables so that they are DBF-safe\n",
      "2021-02-10 20:06:44, INFO: Renaming variables so that they are DBF-safe\n",
      "2021-02-10 20:06:57, INFO: Renaming DBF Link Variables\n",
      "2021-02-10 20:06:57, INFO: Renaming DBF Link Variables\n",
      "2021-02-10 20:06:57, INFO: Renaming variables so that they are DBF-safe\n",
      "2021-02-10 20:06:57, INFO: Renaming variables so that they are DBF-safe\n",
      "2021-02-10 20:07:00, INFO: Writing Node Shapes:\n",
      " - C:/Users/USGS667806/Documents/GitHub/travel-model-two-networks - Copy\\data\\processed\\version_05\\nodes.shp\n",
      "2021-02-10 20:07:00, INFO: Writing Node Shapes:\n",
      " - C:/Users/USGS667806/Documents/GitHub/travel-model-two-networks - Copy\\data\\processed\\version_05\\nodes.shp\n",
      "2021-02-10 20:08:13, INFO: Writing Link Shapes:\n",
      " - C:/Users/USGS667806/Documents/GitHub/travel-model-two-networks - Copy\\data\\processed\\version_05\\links.shp\n",
      "2021-02-10 20:08:13, INFO: Writing Link Shapes:\n",
      " - C:/Users/USGS667806/Documents/GitHub/travel-model-two-networks - Copy\\data\\processed\\version_05\\links.shp\n"
     ]
    }
   ],
   "source": [
    "model_net.write_roadway_as_shp(\n",
    "    output_link_shp = os.path.join(output_dir, 'links.shp'),\n",
    "    output_node_shp = os.path.join(output_dir, 'nodes.shp'),\n",
    "    link_output_variables = [\"model_link_id\", \"A\", \"B\", \"geometry\"],\n",
    "    node_output_variables = [\"model_node_id\", \"geometry\"],\n",
    "    data_to_csv = False,\n",
    "    data_to_dbf = True,\n",
    ")"
   ]
  },
  {
   "cell_type": "markdown",
   "metadata": {},
   "source": [
    "## As fixed width (for CUBE)"
   ]
  },
  {
   "cell_type": "code",
   "execution_count": 32,
   "metadata": {},
   "outputs": [
    {
     "name": "stdout",
     "output_type": "stream",
     "text": [
      "2021-02-10 20:12:32, INFO: Starting fixed width conversion\n",
      "2021-02-10 20:12:32, INFO: Starting fixed width conversion\n",
      "2021-02-10 20:29:47, INFO: Writing out link database\n",
      "2021-02-10 20:29:47, INFO: Writing out link database\n",
      "2021-02-10 20:30:03, INFO: Writing out link header and width ----\n",
      "2021-02-10 20:30:03, INFO: Writing out link header and width ----\n",
      "2021-02-10 20:30:03, INFO: Starting fixed width conversion\n",
      "2021-02-10 20:30:03, INFO: Starting fixed width conversion\n",
      "2021-02-10 20:31:25, INFO: Writing out node database\n",
      "2021-02-10 20:31:25, INFO: Writing out node database\n",
      "2021-02-10 20:31:28, INFO: Writing out node header and width\n",
      "2021-02-10 20:31:28, INFO: Writing out node header and width\n"
     ]
    }
   ],
   "source": [
    "model_net.write_roadway_as_fixedwidth(\n",
    "    output_link_txt = os.path.join(output_dir, 'links.txt'),\n",
    "    output_node_txt = os.path.join(output_dir, 'nodes.txt'),\n",
    "    output_link_header_width_txt = os.path.join(output_dir, 'links_header_width.txt'),\n",
    "    output_node_header_width_txt = os.path.join(output_dir, 'nodes_header_width.txt'),\n",
    "    output_cube_network_script = os.path.join(output_dir, 'make_complete_network_from_fixed_width_file.s'),\n",
    "    #drive_only = True\n",
    ")"
   ]
  },
  {
   "cell_type": "code",
   "execution_count": 33,
   "metadata": {},
   "outputs": [],
   "source": [
    "%%capture\n",
    "os.chdir(output_dir)\n",
    "!make_cube.bat"
   ]
  },
  {
   "cell_type": "code",
   "execution_count": 34,
   "metadata": {},
   "outputs": [],
   "source": [
    "%%capture\n",
    "!runtpp make_simple_roadway_network.s\n",
    "!runtpp make_complete_marin_network.s\n",
    "!runtpp make_simple_transit_network.s\n",
    "!runtpp make_highway_hov_express_toll_links_network.s"
   ]
  },
  {
   "cell_type": "markdown",
   "metadata": {},
   "source": [
    "## As transit line file (for CUBE)"
   ]
  },
  {
   "cell_type": "code",
   "execution_count": 35,
   "metadata": {},
   "outputs": [
    {
     "name": "stdout",
     "output_type": "stream",
     "text": [
      "2021-02-10 20:33:48, INFO: Lasso base directory set as: C:/Users/USGS667806/Lasso\n",
      "2021-02-10 20:33:48, INFO: Lasso base directory set as: C:/Users/USGS667806/Lasso\n",
      "2021-02-10 20:33:48, INFO: Lasso base directory set as: C:/Users/USGS667806/Lasso\n",
      "2021-02-10 20:33:48, INFO: Lasso base directory set as: C:/Users/USGS667806/Lasso\n",
      "2021-02-10 20:33:48, INFO: Converting GTFS Standard Properties to MTC's Cube Standard\n",
      "2021-02-10 20:33:48, INFO: Converting GTFS Standard Properties to MTC's Cube Standard\n"
     ]
    }
   ],
   "source": [
    "standard_transit_net = StandardTransit.fromTransitNetwork(v_04_scenario.transit_net, parameters = parameters)\n",
    "mtc.write_as_cube_lin(standard_transit_net, parameters, outpath = os.path.join(output_dir, \"transit.lin\"))"
   ]
  },
  {
   "cell_type": "markdown",
   "metadata": {},
   "source": [
    "## As pickle"
   ]
  },
  {
   "cell_type": "code",
   "execution_count": 16,
   "metadata": {},
   "outputs": [],
   "source": [
    "working_scenario_filename = os.path.join(output_dir, 'working_scenario_04.pickle')\n",
    "pickle.dump(v_04_scenario, open(working_scenario_filename, 'wb'))"
   ]
  },
  {
   "cell_type": "markdown",
   "metadata": {},
   "source": [
    "## As standard network"
   ]
  },
  {
   "cell_type": "code",
   "execution_count": 37,
   "metadata": {},
   "outputs": [],
   "source": [
    "model_net.write(path = output_dir, filename = \"v04\")"
   ]
  }
 ],
 "metadata": {
  "kernelspec": {
   "display_name": "Python 3",
   "language": "python",
   "name": "python3"
  },
  "language_info": {
   "codemirror_mode": {
    "name": "ipython",
    "version": 3
   },
   "file_extension": ".py",
   "mimetype": "text/x-python",
   "name": "python",
   "nbconvert_exporter": "python",
   "pygments_lexer": "ipython3",
   "version": "3.7.9"
  }
 },
 "nbformat": 4,
 "nbformat_minor": 4
}
