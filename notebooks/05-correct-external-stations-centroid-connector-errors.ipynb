{
 "cells": [
  {
   "cell_type": "markdown",
   "metadata": {},
   "source": [
    "# 05 Correct External Stations Centroid Connector Errors with Project Cards"
   ]
  },
  {
   "cell_type": "code",
   "execution_count": 1,
   "metadata": {},
   "outputs": [],
   "source": [
    "import os\n",
    "import sys\n",
    "import yaml\n",
    "import pickle\n",
    "import glob\n",
    "\n",
    "import pandas as pd\n",
    "\n",
    "from network_wrangler import RoadwayNetwork\n",
    "from network_wrangler import TransitNetwork\n",
    "from network_wrangler import ProjectCard\n",
    "from network_wrangler import Scenario\n",
    "from network_wrangler import WranglerLogger\n",
    "\n",
    "from lasso import ModelRoadwayNetwork\n",
    "from lasso import StandardTransit\n",
    "from lasso import Parameters\n",
    "from lasso import mtc\n"
   ]
  },
  {
   "cell_type": "code",
   "execution_count": 2,
   "metadata": {},
   "outputs": [],
   "source": [
    "%load_ext autoreload\n",
    "%autoreload 2"
   ]
  },
  {
   "cell_type": "code",
   "execution_count": 3,
   "metadata": {},
   "outputs": [],
   "source": [
    "import logging\n",
    "logger = logging.getLogger(\"WranglerLogger\")\n",
    "logger.handlers[0].stream = sys.stdout\n",
    "logger.setLevel(logging.INFO)"
   ]
  },
  {
   "cell_type": "markdown",
   "metadata": {},
   "source": [
    "## Remote I/O and Parameters"
   ]
  },
  {
   "cell_type": "code",
   "execution_count": 4,
   "metadata": {},
   "outputs": [],
   "source": [
    "# root_dir = os.path.join('/Users', 'wsp', 'Documents', 'GitHub', 'travel-model-two-networks - Copy')\n",
    "root_dir = \"C:/Users/USGS667806/Documents/GitHub/travel-model-two-networks - Copy\"\n",
    "input_dir = os.path.join(root_dir, 'data', 'processed', 'version_05')\n",
    "output_dir = os.path.join(root_dir, 'data', 'processed', 'version_06')\n",
    "card_dir = os.path.join(root_dir, 'project_cards')\n",
    "# lasso_dir = os.path.join('/Users', 'wsp', 'Documents', 'GitHub', 'mtc-Lasso')\n",
    "lasso_dir = \"C:/Users/USGS667806/Lasso\""
   ]
  },
  {
   "cell_type": "code",
   "execution_count": 5,
   "metadata": {},
   "outputs": [
    {
     "name": "stdout",
     "output_type": "stream",
     "text": [
      "2021-02-11 16:40:38, INFO: Lasso base directory set as: C:/Users/USGS667806/Lasso\n",
      "2021-02-11 16:40:38, INFO: Lasso base directory set as: C:/Users/USGS667806/Lasso\n",
      "2021-02-11 16:40:38, INFO: Lasso base directory set as: C:/Users/USGS667806/Lasso\n",
      "2021-02-11 16:40:38, INFO: Lasso base directory set as: C:/Users/USGS667806/Lasso\n"
     ]
    }
   ],
   "source": [
    "parameters = Parameters(lasso_base_dir = lasso_dir)"
   ]
  },
  {
   "cell_type": "markdown",
   "metadata": {},
   "source": [
    "## Read Version 04 Scenario"
   ]
  },
  {
   "cell_type": "code",
   "execution_count": 6,
   "metadata": {},
   "outputs": [],
   "source": [
    "version_04_pickle_file_name = os.path.join(input_dir, 'working_scenario_04.pickle')\n",
    "v_04_scenario = pickle.load(open(version_04_pickle_file_name, 'rb'))"
   ]
  },
  {
   "cell_type": "code",
   "execution_count": 7,
   "metadata": {},
   "outputs": [
    {
     "data": {
      "text/plain": [
       "(1634769, 43)"
      ]
     },
     "execution_count": 7,
     "metadata": {},
     "output_type": "execute_result"
    }
   ],
   "source": [
    "v_04_scenario.road_net.links_df.shape"
   ]
  },
  {
   "cell_type": "code",
   "execution_count": 8,
   "metadata": {},
   "outputs": [
    {
     "name": "stdout",
     "output_type": "stream",
     "text": [
      "<class 'pandas.core.frame.DataFrame'>\n",
      "RangeIndex: 701 entries, 0 to 700\n",
      "Data columns (total 16 columns):\n",
      " #   Column                  Non-Null Count  Dtype \n",
      "---  ------                  --------------  ----- \n",
      " 0   route_id_original       701 non-null    object\n",
      " 1   agency_id               526 non-null    object\n",
      " 2   route_short_name        665 non-null    object\n",
      " 3   route_long_name         679 non-null    object\n",
      " 4   route_desc              14 non-null     object\n",
      " 5   route_type              701 non-null    int64 \n",
      " 6   route_url               217 non-null    object\n",
      " 7   route_color             260 non-null    object\n",
      " 8   route_text_color        243 non-null    object\n",
      " 9   agency_raw_name         701 non-null    object\n",
      " 10  route_sort_order        95 non-null     object\n",
      " 11  min_headway_minutes     32 non-null     object\n",
      " 12  eligibility_restricted  4 non-null      object\n",
      " 13  continuous_pickup       4 non-null      object\n",
      " 14  continuous_drop_off     4 non-null      object\n",
      " 15  route_id                701 non-null    object\n",
      "dtypes: int64(1), object(15)\n",
      "memory usage: 87.8+ KB\n"
     ]
    }
   ],
   "source": [
    "v_04_scenario.transit_net.feed.routes.info()"
   ]
  },
  {
   "cell_type": "code",
   "execution_count": 9,
   "metadata": {},
   "outputs": [
    {
     "name": "stdout",
     "output_type": "stream",
     "text": [
      "2021-02-11 16:41:39, INFO: Adding centroid and centroid connector to standard network\n",
      "2021-02-11 16:41:39, INFO: Adding centroid and centroid connector to standard network\n",
      "2021-02-11 16:41:39, INFO: Lasso base directory set as: C:/Users/USGS667806/Lasso\n",
      "2021-02-11 16:41:39, INFO: Lasso base directory set as: C:/Users/USGS667806/Lasso\n",
      "2021-02-11 16:41:39, INFO: Lasso base directory set as: C:/Users/USGS667806/Lasso\n",
      "2021-02-11 16:41:39, INFO: Lasso base directory set as: C:/Users/USGS667806/Lasso\n",
      "2021-02-11 16:41:50, INFO: Finished adding centroid and centroid connectors\n",
      "2021-02-11 16:41:50, INFO: Finished adding centroid and centroid connectors\n"
     ]
    }
   ],
   "source": [
    "v_04_scenario.road_net = mtc.add_centroid_and_centroid_connector(\n",
    "    roadway_network = v_04_scenario.road_net,\n",
    "    parameters = parameters)"
   ]
  },
  {
   "cell_type": "markdown",
   "metadata": {},
   "source": [
    "## Create Scenario and Apply Project Cards"
   ]
  },
  {
   "cell_type": "code",
   "execution_count": 10,
   "metadata": {},
   "outputs": [],
   "source": [
    "v_04_scenario.road_net.links_df[\"id\"]=v_04_scenario.road_net.links_df[\"shstGeometryId\"]"
   ]
  },
  {
   "cell_type": "code",
   "execution_count": 11,
   "metadata": {
    "scrolled": true
   },
   "outputs": [
    {
     "name": "stdout",
     "output_type": "stream",
     "text": [
      "2021-02-11 16:41:51, INFO: Creating Scenario\n",
      "2021-02-11 16:41:51, INFO: Creating Scenario\n"
     ]
    }
   ],
   "source": [
    "v_05_scenario = Scenario.create_scenario(\n",
    "    base_scenario= v_04_scenario,\n",
    "    card_directory = card_dir,\n",
    "    tags = ['External Stations Review'],\n",
    "    validate_project_cards=False)"
   ]
  },
  {
   "cell_type": "code",
   "execution_count": 12,
   "metadata": {
    "scrolled": true
   },
   "outputs": [
    {
     "name": "stdout",
     "output_type": "stream",
     "text": [
      "<class 'geopandas.geodataframe.GeoDataFrame'>\n",
      "RangeIndex: 2190409 entries, 0 to 2190408\n",
      "Data columns (total 44 columns):\n",
      " #   Column              Dtype   \n",
      "---  ------              -----   \n",
      " 0   access              object  \n",
      " 1   bike_access         object  \n",
      " 2   drive_access        object  \n",
      " 3   fromIntersectionId  object  \n",
      " 4   lanes               object  \n",
      " 5   maxspeed            object  \n",
      " 6   name                object  \n",
      " 7   oneWay              object  \n",
      " 8   ref                 object  \n",
      " 9   roadway             object  \n",
      " 10  shstGeometryId      object  \n",
      " 11  shstReferenceId     object  \n",
      " 12  toIntersectionId    object  \n",
      " 13  u                   float64 \n",
      " 14  v                   float64 \n",
      " 15  walk_access         object  \n",
      " 16  wayId               object  \n",
      " 17  county              object  \n",
      " 18  model_link_id       int64   \n",
      " 19  A                   int64   \n",
      " 20  B                   int64   \n",
      " 21  rail_traveltime     float64 \n",
      " 22  rail_only           int64   \n",
      " 23  locationReferences  object  \n",
      " 24  shape_id            float64 \n",
      " 25  geometry            geometry\n",
      " 26  ft_cal              float64 \n",
      " 27  ft                  int64   \n",
      " 28  useclass            float64 \n",
      " 29  assignable          float64 \n",
      " 30  transit             float64 \n",
      " 31  bus_only            float64 \n",
      " 32  managed             int64   \n",
      " 33  ML_lanes            object  \n",
      " 34  segment_id          object  \n",
      " 35  ML_useclass         object  \n",
      " 36  ML_access           object  \n",
      " 37  ML_egress           object  \n",
      " 38  tollseg             object  \n",
      " 39  transit_access      float64 \n",
      " 40  tollbooth           object  \n",
      " 41  ML_tollbooth        object  \n",
      " 42  ML_tollseg          object  \n",
      " 43  id                  object  \n",
      "dtypes: float64(10), geometry(1), int64(6), object(27)\n",
      "memory usage: 735.3+ MB\n"
     ]
    }
   ],
   "source": [
    "v_05_scenario.road_net.links_df.info()"
   ]
  },
  {
   "cell_type": "code",
   "execution_count": 13,
   "metadata": {},
   "outputs": [
    {
     "name": "stdout",
     "output_type": "stream",
     "text": [
      "2021-02-11 16:41:53, INFO: Applying Year 2015 Add centroid connector at External Station connecting William Elton Brown Freeway I-580 SB\n",
      "2021-02-11 16:41:53, INFO: Applying Year 2015 Add centroid connector at External Station connecting William Elton Brown Freeway I-580 SB\n",
      "2021-02-11 16:41:53, INFO: Applying Year 2015 Add centroid connector at External Station connecting William Elton Brown Freeway I-580 SB\n",
      "2021-02-11 16:41:53, INFO: Applying Year 2015 Add centroid connector at External Station connecting William Elton Brown Freeway I-580 SB\n",
      "2021-02-11 16:41:53, INFO: Applying Project to Roadway Network: Year 2015 Add centroid connector at External Station connecting William Elton Brown Freeway I-580 SB\n",
      "2021-02-11 16:41:53, INFO: Applying Project to Roadway Network: Year 2015 Add centroid connector at External Station connecting William Elton Brown Freeway I-580 SB\n",
      "2021-02-11 16:43:31, INFO: Applying Year 2015 Add centroid connector at External Station connecting William Elton Brown Freeway I-580 NB\n",
      "2021-02-11 16:43:31, INFO: Applying Year 2015 Add centroid connector at External Station connecting William Elton Brown Freeway I-580 NB\n",
      "2021-02-11 16:43:31, INFO: Applying Year 2015 Add centroid connector at External Station connecting William Elton Brown Freeway I-580 NB\n",
      "2021-02-11 16:43:31, INFO: Applying Year 2015 Add centroid connector at External Station connecting William Elton Brown Freeway I-580 NB\n",
      "2021-02-11 16:43:31, INFO: Applying Project to Roadway Network: Year 2015 Add centroid connector at External Station connecting William Elton Brown Freeway I-580 NB\n",
      "2021-02-11 16:43:31, INFO: Applying Project to Roadway Network: Year 2015 Add centroid connector at External Station connecting William Elton Brown Freeway I-580 NB\n",
      "2021-02-11 16:45:05, INFO: Applying Year 2015 Add centroid connector at External Station connecting Vic Fazio Highway CA-113 NB\n",
      "2021-02-11 16:45:05, INFO: Applying Year 2015 Add centroid connector at External Station connecting Vic Fazio Highway CA-113 NB\n",
      "2021-02-11 16:45:05, INFO: Applying Year 2015 Add centroid connector at External Station connecting Vic Fazio Highway CA-113 NB\n",
      "2021-02-11 16:45:05, INFO: Applying Year 2015 Add centroid connector at External Station connecting Vic Fazio Highway CA-113 NB\n",
      "2021-02-11 16:45:05, INFO: Applying Project to Roadway Network: Year 2015 Add centroid connector at External Station connecting Vic Fazio Highway CA-113 NB\n",
      "2021-02-11 16:45:05, INFO: Applying Project to Roadway Network: Year 2015 Add centroid connector at External Station connecting Vic Fazio Highway CA-113 NB\n",
      "2021-02-11 16:46:38, INFO: Applying Year 2015 Add centroid connector at External Station connecting Vic Fazio Freeway CA-113 SB\n",
      "2021-02-11 16:46:38, INFO: Applying Year 2015 Add centroid connector at External Station connecting Vic Fazio Freeway CA-113 SB\n",
      "2021-02-11 16:46:38, INFO: Applying Year 2015 Add centroid connector at External Station connecting Vic Fazio Freeway CA-113 SB\n",
      "2021-02-11 16:46:38, INFO: Applying Year 2015 Add centroid connector at External Station connecting Vic Fazio Freeway CA-113 SB\n",
      "2021-02-11 16:46:38, INFO: Applying Project to Roadway Network: Year 2015 Add centroid connector at External Station connecting Vic Fazio Freeway CA-113 SB\n",
      "2021-02-11 16:46:38, INFO: Applying Project to Roadway Network: Year 2015 Add centroid connector at External Station connecting Vic Fazio Freeway CA-113 SB\n",
      "2021-02-11 16:48:14, INFO: Applying Year 2015 Add centroid connector at External Station connecting South Valley Freeway US-101 SB\n",
      "2021-02-11 16:48:14, INFO: Applying Year 2015 Add centroid connector at External Station connecting South Valley Freeway US-101 SB\n",
      "2021-02-11 16:48:14, INFO: Applying Year 2015 Add centroid connector at External Station connecting South Valley Freeway US-101 SB\n",
      "2021-02-11 16:48:14, INFO: Applying Year 2015 Add centroid connector at External Station connecting South Valley Freeway US-101 SB\n",
      "2021-02-11 16:48:14, INFO: Applying Project to Roadway Network: Year 2015 Add centroid connector at External Station connecting South Valley Freeway US-101 SB\n",
      "2021-02-11 16:48:14, INFO: Applying Project to Roadway Network: Year 2015 Add centroid connector at External Station connecting South Valley Freeway US-101 SB\n",
      "2021-02-11 16:49:49, INFO: Applying Year 2015 Add centroid connector at External Station connecting South Valley Freeway US-101 NB\n",
      "2021-02-11 16:49:49, INFO: Applying Year 2015 Add centroid connector at External Station connecting South Valley Freeway US-101 NB\n",
      "2021-02-11 16:49:49, INFO: Applying Year 2015 Add centroid connector at External Station connecting South Valley Freeway US-101 NB\n",
      "2021-02-11 16:49:49, INFO: Applying Year 2015 Add centroid connector at External Station connecting South Valley Freeway US-101 NB\n",
      "2021-02-11 16:49:49, INFO: Applying Project to Roadway Network: Year 2015 Add centroid connector at External Station connecting South Valley Freeway US-101 NB\n",
      "2021-02-11 16:49:49, INFO: Applying Project to Roadway Network: Year 2015 Add centroid connector at External Station connecting South Valley Freeway US-101 NB\n",
      "2021-02-11 16:51:22, INFO: Applying Year 2015 Add centroid connector at External Station connecting Skyline Boulevard CA-35 SB\n",
      "2021-02-11 16:51:22, INFO: Applying Year 2015 Add centroid connector at External Station connecting Skyline Boulevard CA-35 SB\n",
      "2021-02-11 16:51:22, INFO: Applying Year 2015 Add centroid connector at External Station connecting Skyline Boulevard CA-35 SB\n",
      "2021-02-11 16:51:22, INFO: Applying Year 2015 Add centroid connector at External Station connecting Skyline Boulevard CA-35 SB\n",
      "2021-02-11 16:51:22, INFO: Applying Project to Roadway Network: Year 2015 Add centroid connector at External Station connecting Skyline Boulevard CA-35 SB\n",
      "2021-02-11 16:51:22, INFO: Applying Project to Roadway Network: Year 2015 Add centroid connector at External Station connecting Skyline Boulevard CA-35 SB\n",
      "2021-02-11 16:52:56, INFO: Applying Year 2015 Add centroid connector at External Station connecting Skyline Boulevard CA-35 NB\n",
      "2021-02-11 16:52:56, INFO: Applying Year 2015 Add centroid connector at External Station connecting Skyline Boulevard CA-35 NB\n",
      "2021-02-11 16:52:56, INFO: Applying Year 2015 Add centroid connector at External Station connecting Skyline Boulevard CA-35 NB\n",
      "2021-02-11 16:52:56, INFO: Applying Year 2015 Add centroid connector at External Station connecting Skyline Boulevard CA-35 NB\n",
      "2021-02-11 16:52:56, INFO: Applying Project to Roadway Network: Year 2015 Add centroid connector at External Station connecting Skyline Boulevard CA-35 NB\n",
      "2021-02-11 16:52:56, INFO: Applying Project to Roadway Network: Year 2015 Add centroid connector at External Station connecting Skyline Boulevard CA-35 NB\n",
      "2021-02-11 16:54:26, INFO: Applying Year 2015 Add centroid connector at External Station connecting Santa Cruz Highway CA-17 SB\n",
      "2021-02-11 16:54:26, INFO: Applying Year 2015 Add centroid connector at External Station connecting Santa Cruz Highway CA-17 SB\n",
      "2021-02-11 16:54:26, INFO: Applying Year 2015 Add centroid connector at External Station connecting Santa Cruz Highway CA-17 SB\n",
      "2021-02-11 16:54:26, INFO: Applying Year 2015 Add centroid connector at External Station connecting Santa Cruz Highway CA-17 SB\n",
      "2021-02-11 16:54:26, INFO: Applying Project to Roadway Network: Year 2015 Add centroid connector at External Station connecting Santa Cruz Highway CA-17 SB\n",
      "2021-02-11 16:54:26, INFO: Applying Project to Roadway Network: Year 2015 Add centroid connector at External Station connecting Santa Cruz Highway CA-17 SB\n",
      "2021-02-11 16:56:02, INFO: Applying Year 2015 Add centroid connector at External Station connecting Santa Cruz Highway CA-17 NB\n",
      "2021-02-11 16:56:02, INFO: Applying Year 2015 Add centroid connector at External Station connecting Santa Cruz Highway CA-17 NB\n",
      "2021-02-11 16:56:02, INFO: Applying Year 2015 Add centroid connector at External Station connecting Santa Cruz Highway CA-17 NB\n",
      "2021-02-11 16:56:02, INFO: Applying Year 2015 Add centroid connector at External Station connecting Santa Cruz Highway CA-17 NB\n",
      "2021-02-11 16:56:02, INFO: Applying Project to Roadway Network: Year 2015 Add centroid connector at External Station connecting Santa Cruz Highway CA-17 NB\n"
     ]
    },
    {
     "name": "stdout",
     "output_type": "stream",
     "text": [
      "2021-02-11 16:56:02, INFO: Applying Project to Roadway Network: Year 2015 Add centroid connector at External Station connecting Santa Cruz Highway CA-17 NB\n",
      "2021-02-11 16:57:34, INFO: Applying Year 2015 Add centroid connector at External Station connecting Redwood Highway US-101 SB\n",
      "2021-02-11 16:57:34, INFO: Applying Year 2015 Add centroid connector at External Station connecting Redwood Highway US-101 SB\n",
      "2021-02-11 16:57:34, INFO: Applying Year 2015 Add centroid connector at External Station connecting Redwood Highway US-101 SB\n",
      "2021-02-11 16:57:34, INFO: Applying Year 2015 Add centroid connector at External Station connecting Redwood Highway US-101 SB\n",
      "2021-02-11 16:57:34, INFO: Applying Project to Roadway Network: Year 2015 Add centroid connector at External Station connecting Redwood Highway US-101 SB\n",
      "2021-02-11 16:57:34, INFO: Applying Project to Roadway Network: Year 2015 Add centroid connector at External Station connecting Redwood Highway US-101 SB\n",
      "2021-02-11 16:59:09, INFO: Applying Year 2015 Add centroid connector at External Station connecting Redwood Highway US-101 NB\n",
      "2021-02-11 16:59:09, INFO: Applying Year 2015 Add centroid connector at External Station connecting Redwood Highway US-101 NB\n",
      "2021-02-11 16:59:09, INFO: Applying Year 2015 Add centroid connector at External Station connecting Redwood Highway US-101 NB\n",
      "2021-02-11 16:59:09, INFO: Applying Year 2015 Add centroid connector at External Station connecting Redwood Highway US-101 NB\n",
      "2021-02-11 16:59:09, INFO: Applying Project to Roadway Network: Year 2015 Add centroid connector at External Station connecting Redwood Highway US-101 NB\n",
      "2021-02-11 16:59:09, INFO: Applying Project to Roadway Network: Year 2015 Add centroid connector at External Station connecting Redwood Highway US-101 NB\n",
      "2021-02-11 17:00:43, INFO: Applying Year 2015 Add centroid connector at External Station connecting Pacheco Pass Highway CA-156 SB\n",
      "2021-02-11 17:00:43, INFO: Applying Year 2015 Add centroid connector at External Station connecting Pacheco Pass Highway CA-156 SB\n",
      "2021-02-11 17:00:43, INFO: Applying Year 2015 Add centroid connector at External Station connecting Pacheco Pass Highway CA-156 SB\n",
      "2021-02-11 17:00:43, INFO: Applying Year 2015 Add centroid connector at External Station connecting Pacheco Pass Highway CA-156 SB\n",
      "2021-02-11 17:00:43, INFO: Applying Project to Roadway Network: Year 2015 Add centroid connector at External Station connecting Pacheco Pass Highway CA-156 SB\n",
      "2021-02-11 17:00:43, INFO: Applying Project to Roadway Network: Year 2015 Add centroid connector at External Station connecting Pacheco Pass Highway CA-156 SB\n",
      "2021-02-11 17:02:16, INFO: Applying Year 2015 Add centroid connector at External Station connecting Pacheco Pass Highway CA-156 NB\n",
      "2021-02-11 17:02:16, INFO: Applying Year 2015 Add centroid connector at External Station connecting Pacheco Pass Highway CA-156 NB\n",
      "2021-02-11 17:02:16, INFO: Applying Year 2015 Add centroid connector at External Station connecting Pacheco Pass Highway CA-156 NB\n",
      "2021-02-11 17:02:16, INFO: Applying Year 2015 Add centroid connector at External Station connecting Pacheco Pass Highway CA-156 NB\n",
      "2021-02-11 17:02:16, INFO: Applying Project to Roadway Network: Year 2015 Add centroid connector at External Station connecting Pacheco Pass Highway CA-156 NB\n",
      "2021-02-11 17:02:16, INFO: Applying Project to Roadway Network: Year 2015 Add centroid connector at External Station connecting Pacheco Pass Highway CA-156 NB\n",
      "2021-02-11 17:03:53, INFO: Applying Year 2015 Add centroid connector at External Station connecting Pacheco Pass Highway CA-152 SB\n",
      "2021-02-11 17:03:53, INFO: Applying Year 2015 Add centroid connector at External Station connecting Pacheco Pass Highway CA-152 SB\n",
      "2021-02-11 17:03:53, INFO: Applying Year 2015 Add centroid connector at External Station connecting Pacheco Pass Highway CA-152 SB\n",
      "2021-02-11 17:03:53, INFO: Applying Year 2015 Add centroid connector at External Station connecting Pacheco Pass Highway CA-152 SB\n",
      "2021-02-11 17:03:53, INFO: Applying Project to Roadway Network: Year 2015 Add centroid connector at External Station connecting Pacheco Pass Highway CA-152 SB\n",
      "2021-02-11 17:03:53, INFO: Applying Project to Roadway Network: Year 2015 Add centroid connector at External Station connecting Pacheco Pass Highway CA-152 SB\n",
      "2021-02-11 17:05:25, INFO: Applying Year 2015 Add centroid connector at External Station connecting Pacheco Pass Highway CA-152 NB\n",
      "2021-02-11 17:05:25, INFO: Applying Year 2015 Add centroid connector at External Station connecting Pacheco Pass Highway CA-152 NB\n",
      "2021-02-11 17:05:25, INFO: Applying Year 2015 Add centroid connector at External Station connecting Pacheco Pass Highway CA-152 NB\n",
      "2021-02-11 17:05:25, INFO: Applying Year 2015 Add centroid connector at External Station connecting Pacheco Pass Highway CA-152 NB\n",
      "2021-02-11 17:05:25, INFO: Applying Project to Roadway Network: Year 2015 Add centroid connector at External Station connecting Pacheco Pass Highway CA-152 NB\n",
      "2021-02-11 17:05:25, INFO: Applying Project to Roadway Network: Year 2015 Add centroid connector at External Station connecting Pacheco Pass Highway CA-152 NB\n",
      "2021-02-11 17:06:54, INFO: Applying Year 2015 Add centroid connector at External Station connecting I-505 SB\n",
      "2021-02-11 17:06:54, INFO: Applying Year 2015 Add centroid connector at External Station connecting I-505 SB\n",
      "2021-02-11 17:06:54, INFO: Applying Year 2015 Add centroid connector at External Station connecting I-505 SB\n",
      "2021-02-11 17:06:54, INFO: Applying Year 2015 Add centroid connector at External Station connecting I-505 SB\n",
      "2021-02-11 17:06:54, INFO: Applying Project to Roadway Network: Year 2015 Add centroid connector at External Station connecting I-505 SB\n",
      "2021-02-11 17:06:54, INFO: Applying Project to Roadway Network: Year 2015 Add centroid connector at External Station connecting I-505 SB\n",
      "2021-02-11 17:08:25, INFO: Applying Year 2015 Add centroid connector at External Station connecting I-505 NB\n",
      "2021-02-11 17:08:25, INFO: Applying Year 2015 Add centroid connector at External Station connecting I-505 NB\n",
      "2021-02-11 17:08:25, INFO: Applying Year 2015 Add centroid connector at External Station connecting I-505 NB\n",
      "2021-02-11 17:08:25, INFO: Applying Year 2015 Add centroid connector at External Station connecting I-505 NB\n",
      "2021-02-11 17:08:25, INFO: Applying Project to Roadway Network: Year 2015 Add centroid connector at External Station connecting I-505 NB\n",
      "2021-02-11 17:08:25, INFO: Applying Project to Roadway Network: Year 2015 Add centroid connector at External Station connecting I-505 NB\n",
      "2021-02-11 17:09:56, INFO: Applying Year 2015 Add centroid connector at External Station connecting Geysers Road SB\n",
      "2021-02-11 17:09:56, INFO: Applying Year 2015 Add centroid connector at External Station connecting Geysers Road SB\n",
      "2021-02-11 17:09:56, INFO: Applying Year 2015 Add centroid connector at External Station connecting Geysers Road SB\n",
      "2021-02-11 17:09:56, INFO: Applying Year 2015 Add centroid connector at External Station connecting Geysers Road SB\n",
      "2021-02-11 17:09:56, INFO: Applying Project to Roadway Network: Year 2015 Add centroid connector at External Station connecting Geysers Road SB\n",
      "2021-02-11 17:09:56, INFO: Applying Project to Roadway Network: Year 2015 Add centroid connector at External Station connecting Geysers Road SB\n",
      "2021-02-11 17:11:30, INFO: Applying Year 2015 Add centroid connector at External Station connecting Geysers Road NB\n",
      "2021-02-11 17:11:30, INFO: Applying Year 2015 Add centroid connector at External Station connecting Geysers Road NB\n",
      "2021-02-11 17:11:30, INFO: Applying Year 2015 Add centroid connector at External Station connecting Geysers Road NB\n",
      "2021-02-11 17:11:30, INFO: Applying Year 2015 Add centroid connector at External Station connecting Geysers Road NB\n",
      "2021-02-11 17:11:30, INFO: Applying Project to Roadway Network: Year 2015 Add centroid connector at External Station connecting Geysers Road NB\n",
      "2021-02-11 17:11:30, INFO: Applying Project to Roadway Network: Year 2015 Add centroid connector at External Station connecting Geysers Road NB\n",
      "2021-02-11 17:13:01, INFO: Applying Year 2015 Add centroid connector at External Station connecting Dwight D Eisenhower Highway I-80 WB\n"
     ]
    },
    {
     "name": "stdout",
     "output_type": "stream",
     "text": [
      "2021-02-11 17:13:01, INFO: Applying Year 2015 Add centroid connector at External Station connecting Dwight D Eisenhower Highway I-80 WB\n",
      "2021-02-11 17:13:01, INFO: Applying Year 2015 Add centroid connector at External Station connecting Dwight D Eisenhower Highway I-80 WB\n",
      "2021-02-11 17:13:01, INFO: Applying Year 2015 Add centroid connector at External Station connecting Dwight D Eisenhower Highway I-80 WB\n",
      "2021-02-11 17:13:01, INFO: Applying Project to Roadway Network: Year 2015 Add centroid connector at External Station connecting Dwight D Eisenhower Highway I-80 WB\n",
      "2021-02-11 17:13:01, INFO: Applying Project to Roadway Network: Year 2015 Add centroid connector at External Station connecting Dwight D Eisenhower Highway I-80 WB\n",
      "2021-02-11 17:14:35, INFO: Applying Year 2015 Add centroid connector at External Station connecting Dwight D Eisenhower Highway I-80 EB\n",
      "2021-02-11 17:14:35, INFO: Applying Year 2015 Add centroid connector at External Station connecting Dwight D Eisenhower Highway I-80 EB\n",
      "2021-02-11 17:14:35, INFO: Applying Year 2015 Add centroid connector at External Station connecting Dwight D Eisenhower Highway I-80 EB\n",
      "2021-02-11 17:14:35, INFO: Applying Year 2015 Add centroid connector at External Station connecting Dwight D Eisenhower Highway I-80 EB\n",
      "2021-02-11 17:14:35, INFO: Applying Project to Roadway Network: Year 2015 Add centroid connector at External Station connecting Dwight D Eisenhower Highway I-80 EB\n",
      "2021-02-11 17:14:35, INFO: Applying Project to Roadway Network: Year 2015 Add centroid connector at External Station connecting Dwight D Eisenhower Highway I-80 EB\n",
      "2021-02-11 17:16:05, INFO: Applying Year 2015 Add centroid connector at External Station connecting Cabrillo Highway CA-1 SB\n",
      "2021-02-11 17:16:05, INFO: Applying Year 2015 Add centroid connector at External Station connecting Cabrillo Highway CA-1 SB\n",
      "2021-02-11 17:16:05, INFO: Applying Year 2015 Add centroid connector at External Station connecting Cabrillo Highway CA-1 SB\n",
      "2021-02-11 17:16:05, INFO: Applying Year 2015 Add centroid connector at External Station connecting Cabrillo Highway CA-1 SB\n",
      "2021-02-11 17:16:05, INFO: Applying Project to Roadway Network: Year 2015 Add centroid connector at External Station connecting Cabrillo Highway CA-1 SB\n",
      "2021-02-11 17:16:05, INFO: Applying Project to Roadway Network: Year 2015 Add centroid connector at External Station connecting Cabrillo Highway CA-1 SB\n",
      "2021-02-11 17:17:40, INFO: Applying Year 2015 Add centroid connector at External Station connecting Cabrillo Highway CA-1 NB\n",
      "2021-02-11 17:17:40, INFO: Applying Year 2015 Add centroid connector at External Station connecting Cabrillo Highway CA-1 NB\n",
      "2021-02-11 17:17:40, INFO: Applying Year 2015 Add centroid connector at External Station connecting Cabrillo Highway CA-1 NB\n",
      "2021-02-11 17:17:40, INFO: Applying Year 2015 Add centroid connector at External Station connecting Cabrillo Highway CA-1 NB\n",
      "2021-02-11 17:17:40, INFO: Applying Project to Roadway Network: Year 2015 Add centroid connector at External Station connecting Cabrillo Highway CA-1 NB\n",
      "2021-02-11 17:17:40, INFO: Applying Project to Roadway Network: Year 2015 Add centroid connector at External Station connecting Cabrillo Highway CA-1 NB\n",
      "2021-02-11 17:19:08, INFO: Applying Year 2015 Add centroid connector at External Station connecting Antioch Bridge CA-160 SB\n",
      "2021-02-11 17:19:08, INFO: Applying Year 2015 Add centroid connector at External Station connecting Antioch Bridge CA-160 SB\n",
      "2021-02-11 17:19:08, INFO: Applying Year 2015 Add centroid connector at External Station connecting Antioch Bridge CA-160 SB\n",
      "2021-02-11 17:19:08, INFO: Applying Year 2015 Add centroid connector at External Station connecting Antioch Bridge CA-160 SB\n",
      "2021-02-11 17:19:08, INFO: Applying Project to Roadway Network: Year 2015 Add centroid connector at External Station connecting Antioch Bridge CA-160 SB\n",
      "2021-02-11 17:19:08, INFO: Applying Project to Roadway Network: Year 2015 Add centroid connector at External Station connecting Antioch Bridge CA-160 SB\n",
      "2021-02-11 17:20:42, INFO: Applying Year 2015 Add centroid connector at External Station connecting Antioch Bridge CA-160 NB\n",
      "2021-02-11 17:20:42, INFO: Applying Year 2015 Add centroid connector at External Station connecting Antioch Bridge CA-160 NB\n",
      "2021-02-11 17:20:42, INFO: Applying Year 2015 Add centroid connector at External Station connecting Antioch Bridge CA-160 NB\n",
      "2021-02-11 17:20:42, INFO: Applying Year 2015 Add centroid connector at External Station connecting Antioch Bridge CA-160 NB\n",
      "2021-02-11 17:20:42, INFO: Applying Project to Roadway Network: Year 2015 Add centroid connector at External Station connecting Antioch Bridge CA-160 NB\n",
      "2021-02-11 17:20:42, INFO: Applying Project to Roadway Network: Year 2015 Add centroid connector at External Station connecting Antioch Bridge CA-160 NB\n"
     ]
    }
   ],
   "source": [
    "v_05_scenario.apply_all_projects()"
   ]
  },
  {
   "cell_type": "code",
   "execution_count": 14,
   "metadata": {},
   "outputs": [
    {
     "data": {
      "text/plain": [
       "['Year 2015 Modify Facility Type to Service',\n",
       " 'Year 2015 Modify Facility Type to Ramp shape incorrect',\n",
       " 'Year 2015 Modify Facility Type to Ramp',\n",
       " 'Year 2015 Modify Lanes to 2 Lane and Facility Type to Ramp shape incorrect',\n",
       " 'Year 2015 Modify Lanes to 2 Lane and Facility Type to Ramp',\n",
       " 'Year 2015 Modify Lanes to 1 Lane and Facility Type to Ramp',\n",
       " 'Year 2015 Bus Only Segments',\n",
       " 'Year 2015 Modify Lanes to 7 Lanes',\n",
       " 'Year 2015 Modify Lanes to 6 Lanes',\n",
       " 'Year 2015 Modify Lanes to 5 Lanes',\n",
       " 'Year 2015 Modify Lanes to 4 Lanes',\n",
       " 'Year 2015 Modify Lanes to 3 Lanes',\n",
       " 'Year 2015 Modify Lanes to 2 Lanes',\n",
       " 'Year 2015 Modify Lanes to 1 Lane',\n",
       " 'Year 2015 Modify Lanes to 14 Lanes',\n",
       " 'Year 2015 Modify HOV Lanes and USE on US-101 SB from South of Healdsburg to North of Petaluma',\n",
       " 'Year 2015 Modify USE and HOV Lanes on US-101 SB (Segment 02) from South of Healdsburg to North of Petaluma',\n",
       " 'Year 2015 Modify HOV Lanes and USE on US 101 SB CA-85 to Oregon Expressway',\n",
       " 'Year 2015 Modify HOV Lanes and USE on US 101 SB CA-85 to Cochrane Road',\n",
       " 'Year 2015 Modify HOV Lanes and USE on US-101 NB (Segment 02) from North of Petaluma to South of Healdsburg',\n",
       " 'Year 2015 Modify HOV Lanes and USE on US 101 NB Oregon Expressway to Whipple Road',\n",
       " 'Year 2015 Modify HOV Lanes and USE on US-101 NB from North of Petaluma to South of Healdsburg',\n",
       " 'Year 2015 Modify HOV Lanes and USE on US 101 NB Cochran Road to CA-85',\n",
       " 'Year 2015 Modify HOV Lanes and USE on San Tomas Expressway SB I-880 to Hwy 17',\n",
       " 'Year 2015 Modify HOV Lanes and USE on San Tomas Expressway NB Hwy 17 to I-880',\n",
       " 'Year 2015 Modify HOV Lanes and USE on Lawrence Expressway SB US 101 to I-280',\n",
       " 'Year 2015 Modify HOV Lanes and USE on Lawrence Expressway NB I-280 to US 101',\n",
       " 'Year 2015 Modify HOV Lanes and USE on Ramp Connecting I880 and Bay Bridge Plaza',\n",
       " 'Year 2015 Modify HOV Lanes and USE on I-880 SB from Hegenberger Road to Dixon Road',\n",
       " 'Year 2015 Modify Express Lanes and USE on I-880 SB Dixon Road to CA-237',\n",
       " 'Year 2015 Modify HOV Lanes and USE on I-880 SB CA-237 to US 101',\n",
       " 'Year 2015 Modify HOV lanes and USE on I-880 NB US 101 to CA-237',\n",
       " 'Year 2015 Modify HOV Lanes and USE on I-880 NB from Dixon Road to I-238',\n",
       " 'Year 2015 Modify Express Lanes and USE on I-880 NB CA-237 to Dixon Road',\n",
       " 'Year 2015 Modify USE on I-80 WB to Bay Bridge Toll Plaza',\n",
       " 'Year 2015 Modify HOV Lanes and USE on I-80 WB from Fairfield to I-680',\n",
       " 'Year 2015 Modify HOV Lanes and USE on I-80 WB from Carquinez Bridge to Bay Bridge Toll Plaza',\n",
       " 'Year 2015 Modify HOV Lanes and USE on I-80 EB from I-680 to Fairfield',\n",
       " 'Year 2015 Modify HOV Lanes and USE on I-80 EB from Bay Bridge to Carquinez Bridge Toll Plaza',\n",
       " 'Year 2015 Modify HOV Lanes and USE on I-680 SB from Rudgear Road to Acosta Blvd',\n",
       " 'Year 2015 Modify HOV Lanes and USE on I-680 SB from Benicia Bridge to CA-242',\n",
       " 'Year 2015 Modify HOV Lanes USE on I-680 NB CA-242 to Benicia Bridge',\n",
       " 'Year 2015 Modify HOV Lanes and USE on I-680 NB from Acosta Blvd to Rudgear Road',\n",
       " 'Year 2015 Modify HOV lanes and USE on Hwy 4 WB from Deer Valley Road to Port Chicago Highway',\n",
       " 'Year 2015 Modify HOV Lanes and USE on Hwy 4 EB from Port Chicago Highway to Deer Valley Road',\n",
       " 'Year 2015 Modify HOV Lanes and USE on E Capitol Expressway SB I-680 to US 101',\n",
       " 'Year 2015 Modify HOV Lanes and USE on E Capitol Expressway NB US101 to I-680',\n",
       " 'Year 2015 Modify HOV Lanes and USE on CA-92 WB Eden Landing Rd to San Mateo-Hayward Bridge Toll Plaza',\n",
       " 'Year 2015 Modify HOV Lanes and USE on CA-87 SB US 101 to CA-85',\n",
       " 'Year 2015 Modify HOV Lanes and USE on CA 87 NB CA-85 to US 101',\n",
       " 'Year 2015 Modify HOV Lanes and USE on CA-85 SB US101 to US101',\n",
       " 'Year 2015 Modify HOV Lanes and USE on CA-85 NB US101 to US101',\n",
       " 'Year 2015 Modify HOV Lanes and USE on CA-84 WB I-880 to Dumbarton Bridge Toll Plaza',\n",
       " 'Year 2015 Modify HOV Lanes and USE on CA-280 SB Magdalena Ave to Southwest Expressway',\n",
       " 'Year 2015 Modify HOV Lanes and USE on CA-280 NB Bascom Ave to Magdalena Ave',\n",
       " 'Year 2015 Modify HOV Lanes and USE on CA-237 WB North 1st Street to US 101',\n",
       " 'Year 2015 Modify HOV Lanes and USE on CA-237 EB US 101 to North 1st Street',\n",
       " 'Year 2015 Bus Only Segments for Transbay Terminal Ramps',\n",
       " 'Year 2015 Bus Only Segments for Golden Gate Transit on US 101',\n",
       " 'Year 2015 Exclude Trucks on SR 85',\n",
       " 'Year 2015 Exclude Trucks on I580',\n",
       " 'Year 2015 Modify HOV Lanes and USE on San Mateo Bridge Toll Plaza Toll Plaza on CA-92 WB - Bridge Pass',\n",
       " 'Year 2015 Modify HOV Lanes and USE on Benicia Bridge Toll Plaza - Segment 03 - Bridge Pass',\n",
       " 'Year 2015 Modify HOV Lanes and USE on Richmond-San Rafael Bridge Toll Plaza - Bridge Pass',\n",
       " 'Year 2015 Modify Express Lanes and USE on I-680 SB Washington Blvd to Mission Blvd',\n",
       " 'Year 2015 Modify Express Lanes and USE on I-680 SB Mission Blvd to CA-237',\n",
       " 'Year 2015 Modify Express Lanes and USE on I-680 SB Andrade Road to Washington Blvd',\n",
       " 'Year 2015 Modify USE on I-580 WB Springtown Blvd to Isabel Ave',\n",
       " 'Year 2015 Modify USE on I-580 WB Isabel Ave to Fallon Road',\n",
       " 'Year 2015 Modify USE on I-580 WB Hacienda Drive to San Ramon Road',\n",
       " 'Year 2015 Modify USE on I-580 WB Greenville Road to Springtown Blvd',\n",
       " 'Year 2015 Modify USE on I-580 WB Fallon Road to Hacienda Drive',\n",
       " 'Year 2015 Modify Express Lanes and USE on I-580 EB Vasco Road to Greenville Road',\n",
       " 'Year 2015 Modify Express Lanes and USE on I-580 EB (segment 02) Livermore Ave to Vasco Road',\n",
       " 'Year 2015 Modify Express Lanes and USE on I-580 EB (segment 02) Hacienda Drive to Airway Blvd',\n",
       " 'Year 2015 Modify Express Lanes and USE on I-580 EB (segment 01) Livermore Ave to Vasco Road',\n",
       " 'Year 2015 Modify Express Lanes and USE on I-580 EB (segment 01) Hacienda Drive to Airway_Blvd',\n",
       " 'Year 2015 Modify Express Lanes and USE on I-580 EB Airway Blvd to Livermore Ave',\n",
       " 'Year 2015 Modify Express Lanes and USE on CA-237 WB I-880 to CA-262 Mission Blvd',\n",
       " 'Year 2015 Modify Express Lanes and USE on CA-237 EB SR-262 Mission Blvd to I-880',\n",
       " 'Year 2015 Modify HOV Lanes and USE on Benicia Bridge Toll Plaza - Segment 02 - Bridge Pass',\n",
       " 'Year 2015 Modify HOV Lanes and USE on Benicia Bridge Toll Plaza - Bridge Pass',\n",
       " 'Year 2015 Modify HOV Lanes-Fastrak Lanes and USE on San Francisco-Oakland Bay Bridge WB Toll Plaza segment 03 - Bridge Pass',\n",
       " 'Year 2015 Modify HOV Lanes-Fastrak Lanes and USE on San Francisco-Oakland Bay Bridge WB Toll Plaza segment 02 - Bridge Pass',\n",
       " 'Year 2015 Modify HOV Lanes-Fastrak Lanes and USE on San Francisco-Oakland Bay Bridge WB Toll Plaza - Bridge Pass',\n",
       " 'Year 2015 Modify HOV Lanes and USE on Golden Gate Bridge Toll Plaza on US101 SB - Bridge Pass',\n",
       " 'Year 2015 Modify HOV Lanes and USE on Dumbarton Bridge Toll Plaza Toll Plaza on CA-84 WB - Bridge Pass',\n",
       " 'Year 2015 Modify HOV Lanes and USE on Carquinez Bridge Toll Plaza on I-80 NB - Bridge Pass',\n",
       " 'Year 2015 Modify HOV Lanes-Fastrak Lanes and USE on Antioch Bridge NB on Route 160 - Bridge Pass',\n",
       " 'Year 2015 Add centroid connector at External Station connecting William Elton Brown Freeway I-580 SB',\n",
       " 'Year 2015 Add centroid connector at External Station connecting William Elton Brown Freeway I-580 NB',\n",
       " 'Year 2015 Add centroid connector at External Station connecting Vic Fazio Highway CA-113 NB',\n",
       " 'Year 2015 Add centroid connector at External Station connecting Vic Fazio Freeway CA-113 SB',\n",
       " 'Year 2015 Add centroid connector at External Station connecting South Valley Freeway US-101 SB',\n",
       " 'Year 2015 Add centroid connector at External Station connecting South Valley Freeway US-101 NB',\n",
       " 'Year 2015 Add centroid connector at External Station connecting Skyline Boulevard CA-35 SB',\n",
       " 'Year 2015 Add centroid connector at External Station connecting Skyline Boulevard CA-35 NB',\n",
       " 'Year 2015 Add centroid connector at External Station connecting Santa Cruz Highway CA-17 SB',\n",
       " 'Year 2015 Add centroid connector at External Station connecting Santa Cruz Highway CA-17 NB',\n",
       " 'Year 2015 Add centroid connector at External Station connecting Redwood Highway US-101 SB',\n",
       " 'Year 2015 Add centroid connector at External Station connecting Redwood Highway US-101 NB',\n",
       " 'Year 2015 Add centroid connector at External Station connecting Pacheco Pass Highway CA-156 SB',\n",
       " 'Year 2015 Add centroid connector at External Station connecting Pacheco Pass Highway CA-156 NB',\n",
       " 'Year 2015 Add centroid connector at External Station connecting Pacheco Pass Highway CA-152 SB',\n",
       " 'Year 2015 Add centroid connector at External Station connecting Pacheco Pass Highway CA-152 NB',\n",
       " 'Year 2015 Add centroid connector at External Station connecting I-505 SB',\n",
       " 'Year 2015 Add centroid connector at External Station connecting I-505 NB',\n",
       " 'Year 2015 Add centroid connector at External Station connecting Geysers Road SB',\n",
       " 'Year 2015 Add centroid connector at External Station connecting Geysers Road NB',\n",
       " 'Year 2015 Add centroid connector at External Station connecting Dwight D Eisenhower Highway I-80 WB',\n",
       " 'Year 2015 Add centroid connector at External Station connecting Dwight D Eisenhower Highway I-80 EB',\n",
       " 'Year 2015 Add centroid connector at External Station connecting Cabrillo Highway CA-1 SB',\n",
       " 'Year 2015 Add centroid connector at External Station connecting Cabrillo Highway CA-1 NB',\n",
       " 'Year 2015 Add centroid connector at External Station connecting Antioch Bridge CA-160 SB',\n",
       " 'Year 2015 Add centroid connector at External Station connecting Antioch Bridge CA-160 NB']"
      ]
     },
     "execution_count": 14,
     "metadata": {},
     "output_type": "execute_result"
    }
   ],
   "source": [
    "v_05_scenario.applied_projects"
   ]
  },
  {
   "cell_type": "markdown",
   "metadata": {},
   "source": [
    "## Make Travel Model Networks"
   ]
  },
  {
   "cell_type": "code",
   "execution_count": 15,
   "metadata": {
    "scrolled": true
   },
   "outputs": [
    {
     "name": "stdout",
     "output_type": "stream",
     "text": [
      "2021-02-11 17:28:05, INFO: Lasso base directory set as: C:/Users/USGS667806/Lasso\n",
      "2021-02-11 17:28:05, INFO: Lasso base directory set as: C:/Users/USGS667806/Lasso\n",
      "2021-02-11 17:28:05, INFO: Lasso base directory set as: C:/Users/USGS667806/Lasso\n",
      "2021-02-11 17:28:05, INFO: Lasso base directory set as: C:/Users/USGS667806/Lasso\n"
     ]
    }
   ],
   "source": [
    "model_net = ModelRoadwayNetwork.from_RoadwayNetwork(\n",
    "    roadway_network_object = v_05_scenario.road_net, \n",
    "    parameters = parameters)"
   ]
  },
  {
   "cell_type": "code",
   "execution_count": 16,
   "metadata": {},
   "outputs": [
    {
     "name": "stdout",
     "output_type": "stream",
     "text": [
      "(2190435, 45)\n",
      "(688957, 11)\n",
      "(1147816, 7)\n"
     ]
    }
   ],
   "source": [
    "print(model_net.links_df.shape)\n",
    "print(model_net.nodes_df.shape)\n",
    "print(model_net.shapes_df.shape)"
   ]
  },
  {
   "cell_type": "code",
   "execution_count": 17,
   "metadata": {},
   "outputs": [
    {
     "name": "stdout",
     "output_type": "stream",
     "text": [
      "(2190435, 45)\n",
      "(688957, 11)\n",
      "(1147816, 7)\n"
     ]
    }
   ],
   "source": [
    "print(model_net.links_df.shape)\n",
    "print(model_net.nodes_df.shape)\n",
    "print(model_net.shapes_df.shape)"
   ]
  },
  {
   "cell_type": "code",
   "execution_count": 18,
   "metadata": {},
   "outputs": [
    {
     "data": {
      "text/plain": [
       "2190435"
      ]
     },
     "execution_count": 18,
     "metadata": {},
     "output_type": "execute_result"
    }
   ],
   "source": [
    "model_net.links_df.model_link_id.nunique()"
   ]
  },
  {
   "cell_type": "code",
   "execution_count": 19,
   "metadata": {},
   "outputs": [
    {
     "name": "stdout",
     "output_type": "stream",
     "text": [
      "2021-02-11 17:28:06, INFO: Adding tap and tap connector to standard network\n",
      "2021-02-11 17:28:06, INFO: Adding tap and tap connector to standard network\n",
      "2021-02-11 17:28:06, INFO: Lasso base directory set as: C:/Users/USGS667806/Lasso\n",
      "2021-02-11 17:28:06, INFO: Lasso base directory set as: C:/Users/USGS667806/Lasso\n",
      "2021-02-11 17:28:06, INFO: Lasso base directory set as: C:/Users/USGS667806/Lasso\n",
      "2021-02-11 17:28:06, INFO: Lasso base directory set as: C:/Users/USGS667806/Lasso\n",
      "2021-02-11 17:28:12, INFO: Finished adding tap and tap connectors\n",
      "2021-02-11 17:28:12, INFO: Finished adding tap and tap connectors\n"
     ]
    }
   ],
   "source": [
    "model_net = mtc.add_tap_and_tap_connector(\n",
    "    roadway_network = model_net,\n",
    "    parameters = parameters)"
   ]
  },
  {
   "cell_type": "code",
   "execution_count": 20,
   "metadata": {},
   "outputs": [
    {
     "name": "stdout",
     "output_type": "stream",
     "text": [
      "(2225677, 45)\n",
      "(694957, 11)\n",
      "(1165437, 7)\n"
     ]
    }
   ],
   "source": [
    "print(model_net.links_df.shape)\n",
    "print(model_net.nodes_df.shape)\n",
    "print(model_net.shapes_df.shape)"
   ]
  },
  {
   "cell_type": "code",
   "execution_count": 21,
   "metadata": {},
   "outputs": [
    {
     "data": {
      "text/plain": [
       "2225677"
      ]
     },
     "execution_count": 21,
     "metadata": {},
     "output_type": "execute_result"
    }
   ],
   "source": [
    "model_net.links_df.model_link_id.nunique()"
   ]
  },
  {
   "cell_type": "code",
   "execution_count": 22,
   "metadata": {},
   "outputs": [
    {
     "data": {
      "text/plain": [
       "694957"
      ]
     },
     "execution_count": 22,
     "metadata": {},
     "output_type": "execute_result"
    }
   ],
   "source": [
    "model_net.nodes_df.model_node_id.nunique()"
   ]
  },
  {
   "cell_type": "code",
   "execution_count": 23,
   "metadata": {},
   "outputs": [
    {
     "data": {
      "text/plain": [
       "1165437"
      ]
     },
     "execution_count": 23,
     "metadata": {},
     "output_type": "execute_result"
    }
   ],
   "source": [
    "model_net.shapes_df.id.nunique()"
   ]
  },
  {
   "cell_type": "code",
   "execution_count": 24,
   "metadata": {
    "scrolled": false
   },
   "outputs": [
    {
     "name": "stdout",
     "output_type": "stream",
     "text": [
      "2021-02-11 17:28:14, INFO: Renaming roadway attributes to be consistent with what mtc's model is expecting\n",
      "2021-02-11 17:28:14, INFO: Renaming roadway attributes to be consistent with what mtc's model is expecting\n",
      "2021-02-11 17:28:14, INFO: Creating managed lane network.\n",
      "2021-02-11 17:28:14, INFO: Creating managed lane network.\n",
      "2021-02-11 17:28:14, INFO: Creating network with duplicated managed lanes\n",
      "2021-02-11 17:28:14, INFO: Creating network with duplicated managed lanes\n"
     ]
    },
    {
     "name": "stderr",
     "output_type": "stream",
     "text": [
      "C:\\Users\\USGS667806\\Anaconda3\\envs\\lasso_environment\\lib\\site-packages\\geopandas\\geodataframe.py:853: SettingWithCopyWarning: \n",
      "A value is trying to be set on a copy of a slice from a DataFrame.\n",
      "Try using .loc[row_indexer,col_indexer] = value instead\n",
      "\n",
      "See the caveats in the documentation: https://pandas.pydata.org/pandas-docs/stable/user_guide/indexing.html#returning-a-view-versus-a-copy\n",
      "  super(GeoDataFrame, self).__setitem__(key, value)\n",
      "C:\\Users\\USGS667806\\Anaconda3\\envs\\lasso_environment\\lib\\site-packages\\geopandas\\geodataframe.py:852: UserWarning: Geometry column does not contain geometry.\n",
      "  warnings.warn(\"Geometry column does not contain geometry.\")\n",
      "C:\\Users\\USGS667806\\Anaconda3\\envs\\lasso_environment\\lib\\site-packages\\pandas\\core\\indexing.py:1743: SettingWithCopyWarning: \n",
      "A value is trying to be set on a copy of a slice from a DataFrame.\n",
      "Try using .loc[row_indexer,col_indexer] = value instead\n",
      "\n",
      "See the caveats in the documentation: https://pandas.pydata.org/pandas-docs/stable/user_guide/indexing.html#returning-a-view-versus-a-copy\n",
      "  isetter(ilocs[0], value)\n"
     ]
    },
    {
     "name": "stdout",
     "output_type": "stream",
     "text": [
      "2021-02-11 17:43:08, INFO: Determining cntype\n",
      "2021-02-11 17:43:08, INFO: Determining cntype\n",
      "2021-02-11 17:43:08, INFO: Lasso base directory set as: C:/Users/USGS667806/Lasso\n",
      "2021-02-11 17:43:08, INFO: Lasso base directory set as: C:/Users/USGS667806/Lasso\n",
      "2021-02-11 17:43:08, INFO: Lasso base directory set as: C:/Users/USGS667806/Lasso\n",
      "2021-02-11 17:43:08, INFO: Lasso base directory set as: C:/Users/USGS667806/Lasso\n",
      "2021-02-11 17:43:08, INFO: Variable 'cntype' already in network. Returning without overwriting.\n",
      "2021-02-11 17:43:08, INFO: Variable 'cntype' already in network. Returning without overwriting.\n",
      "2021-02-11 17:43:08, INFO: Determining transit\n",
      "2021-02-11 17:43:08, INFO: Determining transit\n",
      "2021-02-11 17:43:08, INFO: Lasso base directory set as: C:/Users/USGS667806/Lasso\n",
      "2021-02-11 17:43:08, INFO: Lasso base directory set as: C:/Users/USGS667806/Lasso\n",
      "2021-02-11 17:43:08, INFO: Lasso base directory set as: C:/Users/USGS667806/Lasso\n",
      "2021-02-11 17:43:08, INFO: Lasso base directory set as: C:/Users/USGS667806/Lasso\n",
      "2021-02-11 17:43:08, INFO: Variable 'transit' updated for some links. Returning without overwriting for those links. Calculating for other links\n",
      "2021-02-11 17:43:08, INFO: Variable 'transit' updated for some links. Returning without overwriting for those links. Calculating for other links\n",
      "2021-02-11 17:43:08, INFO: Calculating and adding roadway network variable: transit\n",
      "2021-02-11 17:43:08, INFO: Calculating and adding roadway network variable: transit\n",
      "2021-02-11 17:43:09, INFO: Finished determining transit-only variable: transit\n",
      "2021-02-11 17:43:09, INFO: Finished determining transit-only variable: transit\n",
      "2021-02-11 17:43:09, INFO: Determining useclass\n",
      "2021-02-11 17:43:09, INFO: Determining useclass\n",
      "2021-02-11 17:43:09, INFO: Lasso base directory set as: C:/Users/USGS667806/Lasso\n",
      "2021-02-11 17:43:09, INFO: Lasso base directory set as: C:/Users/USGS667806/Lasso\n",
      "2021-02-11 17:43:09, INFO: Lasso base directory set as: C:/Users/USGS667806/Lasso\n",
      "2021-02-11 17:43:09, INFO: Lasso base directory set as: C:/Users/USGS667806/Lasso\n",
      "2021-02-11 17:43:09, INFO: Variable 'useclass' updated for some links. Returning without overwriting for those links. Calculating for other links\n",
      "2021-02-11 17:43:09, INFO: Variable 'useclass' updated for some links. Returning without overwriting for those links. Calculating for other links\n",
      "2021-02-11 17:43:09, INFO: Calculating and adding roadway network variable: useclass\n",
      "2021-02-11 17:43:09, INFO: Calculating and adding roadway network variable: useclass\n",
      "2021-02-11 17:43:09, INFO: Finished determining variable: useclass\n",
      "2021-02-11 17:43:09, INFO: Finished determining variable: useclass\n",
      "2021-02-11 17:43:09, INFO: Calculating Facility Type\n",
      "2021-02-11 17:43:09, INFO: Calculating Facility Type\n",
      "2021-02-11 17:43:09, INFO: Lasso base directory set as: C:/Users/USGS667806/Lasso\n",
      "2021-02-11 17:43:09, INFO: Lasso base directory set as: C:/Users/USGS667806/Lasso\n",
      "2021-02-11 17:43:09, INFO: Lasso base directory set as: C:/Users/USGS667806/Lasso\n",
      "2021-02-11 17:43:09, INFO: Lasso base directory set as: C:/Users/USGS667806/Lasso\n",
      "2021-02-11 17:43:09, INFO: Variable 'ft' updated for some links. Returning without overwriting for those links. Calculating for other links\n",
      "2021-02-11 17:43:09, INFO: Variable 'ft' updated for some links. Returning without overwriting for those links. Calculating for other links\n",
      "2021-02-11 17:45:51, INFO: Finished calculating roadway class variable: ft\n",
      "2021-02-11 17:45:51, INFO: Finished calculating roadway class variable: ft\n",
      "2021-02-11 17:45:52, INFO: Overwriting existing distance Variable 'distance' already in network\n",
      "2021-02-11 17:45:52, INFO: Overwriting existing distance Variable 'distance' already in network\n",
      "2021-02-11 17:47:02, INFO: Calculating distance for all links\n",
      "2021-02-11 17:47:02, INFO: Calculating distance for all links\n",
      "2021-02-11 17:47:07, INFO: Calculating distance for all links\n",
      "2021-02-11 17:47:07, INFO: Calculating distance for all links\n",
      "2021-02-11 17:47:16, INFO: Filling nan for network from network wrangler\n",
      "2021-02-11 17:47:16, INFO: Filling nan for network from network wrangler\n",
      "2021-02-11 17:47:49, INFO: Splitting variables by time period and category\n",
      "2021-02-11 17:47:49, INFO: Splitting variables by time period and category\n",
      "2021-02-11 17:47:58, WARNING: Specified variable to split: ML_lanes not in network variables: Index(['index', 'access', 'bike_access', 'drive_access', 'fromIntersectionId',\n",
      "       'lanes', 'maxspeed', 'name', 'oneWay', 'ref', 'roadway',\n",
      "       'shstGeometryId', 'shstReferenceId', 'toIntersectionId', 'u', 'v',\n",
      "       'walk_access', 'wayId', 'county', 'model_link_id', 'A', 'B',\n",
      "       'rail_traveltime', 'rail_only', 'locationReferences', 'shape_id',\n",
      "       'geometry', 'ft_cal', 'ft', 'useclass', 'assignable', 'transit',\n",
      "       'bus_only', 'managed', 'segment_id', 'tollseg', 'transit_access',\n",
      "       'tollbooth', 'id', 'cntype', 'egress', 'distance', 'lanes_EA',\n",
      "       'lanes_AM', 'lanes_MD', 'lanes_PM', 'lanes_EV'],\n",
      "      dtype='object'). Returning 0.\n",
      "2021-02-11 17:47:58, WARNING: Specified variable to split: ML_lanes not in network variables: Index(['index', 'access', 'bike_access', 'drive_access', 'fromIntersectionId',\n",
      "       'lanes', 'maxspeed', 'name', 'oneWay', 'ref', 'roadway',\n",
      "       'shstGeometryId', 'shstReferenceId', 'toIntersectionId', 'u', 'v',\n",
      "       'walk_access', 'wayId', 'county', 'model_link_id', 'A', 'B',\n",
      "       'rail_traveltime', 'rail_only', 'locationReferences', 'shape_id',\n",
      "       'geometry', 'ft_cal', 'ft', 'useclass', 'assignable', 'transit',\n",
      "       'bus_only', 'managed', 'segment_id', 'tollseg', 'transit_access',\n",
      "       'tollbooth', 'id', 'cntype', 'egress', 'distance', 'lanes_EA',\n",
      "       'lanes_AM', 'lanes_MD', 'lanes_PM', 'lanes_EV'],\n",
      "      dtype='object'). Returning 0.\n",
      "2021-02-11 17:48:06, INFO: Converting variable type to mtc standard\n",
      "2021-02-11 17:48:06, INFO: Converting variable type to mtc standard\n",
      "2021-02-11 17:48:12, INFO: Setting Coordinate Reference System to ESRI:102646\n",
      "2021-02-11 17:48:12, INFO: Setting Coordinate Reference System to ESRI:102646\n"
     ]
    }
   ],
   "source": [
    "model_net = mtc.roadway_standard_to_mtc_network(model_net, parameters)"
   ]
  },
  {
   "cell_type": "code",
   "execution_count": 25,
   "metadata": {},
   "outputs": [
    {
     "data": {
      "text/plain": [
       "(2230053, 57)"
      ]
     },
     "execution_count": 25,
     "metadata": {},
     "output_type": "execute_result"
    }
   ],
   "source": [
    "model_net.links_df.shape"
   ]
  },
  {
   "cell_type": "code",
   "execution_count": 26,
   "metadata": {},
   "outputs": [
    {
     "data": {
      "text/plain": [
       "2230053"
      ]
     },
     "execution_count": 26,
     "metadata": {},
     "output_type": "execute_result"
    }
   ],
   "source": [
    "model_net.links_df.model_link_id.nunique()"
   ]
  },
  {
   "cell_type": "code",
   "execution_count": 27,
   "metadata": {},
   "outputs": [
    {
     "data": {
      "text/plain": [
       "(696464, 12)"
      ]
     },
     "execution_count": 27,
     "metadata": {},
     "output_type": "execute_result"
    }
   ],
   "source": [
    "model_net.nodes_mtc_df.shape"
   ]
  },
  {
   "cell_type": "code",
   "execution_count": 28,
   "metadata": {},
   "outputs": [
    {
     "data": {
      "text/plain": [
       "696464"
      ]
     },
     "execution_count": 28,
     "metadata": {},
     "output_type": "execute_result"
    }
   ],
   "source": [
    "model_net.nodes_df.model_node_id.nunique()"
   ]
  },
  {
   "cell_type": "markdown",
   "metadata": {},
   "source": [
    "## Write to Disk"
   ]
  },
  {
   "cell_type": "markdown",
   "metadata": {},
   "source": [
    "## As shapefile"
   ]
  },
  {
   "cell_type": "code",
   "execution_count": 29,
   "metadata": {},
   "outputs": [
    {
     "name": "stdout",
     "output_type": "stream",
     "text": [
      "2021-02-11 17:49:56, INFO: Writing Network as Shapefile\n",
      "2021-02-11 17:49:56, INFO: Writing Network as Shapefile\n",
      "2021-02-11 17:49:56, INFO: Renaming DBF Node Variables\n",
      "2021-02-11 17:49:56, INFO: Renaming DBF Node Variables\n",
      "2021-02-11 17:49:56, INFO: Renaming variables so that they are DBF-safe\n",
      "2021-02-11 17:49:56, INFO: Renaming variables so that they are DBF-safe\n",
      "2021-02-11 17:50:09, INFO: Renaming DBF Link Variables\n",
      "2021-02-11 17:50:09, INFO: Renaming DBF Link Variables\n",
      "2021-02-11 17:50:09, INFO: Renaming variables so that they are DBF-safe\n",
      "2021-02-11 17:50:09, INFO: Renaming variables so that they are DBF-safe\n",
      "2021-02-11 17:50:11, INFO: Writing Node Shapes:\n",
      " - C:/Users/USGS667806/Documents/GitHub/travel-model-two-networks - Copy\\data\\processed\\version_06\\nodes.shp\n",
      "2021-02-11 17:50:11, INFO: Writing Node Shapes:\n",
      " - C:/Users/USGS667806/Documents/GitHub/travel-model-two-networks - Copy\\data\\processed\\version_06\\nodes.shp\n",
      "2021-02-11 17:54:47, INFO: Writing Link Shapes:\n",
      " - C:/Users/USGS667806/Documents/GitHub/travel-model-two-networks - Copy\\data\\processed\\version_06\\links.shp\n",
      "2021-02-11 17:54:47, INFO: Writing Link Shapes:\n",
      " - C:/Users/USGS667806/Documents/GitHub/travel-model-two-networks - Copy\\data\\processed\\version_06\\links.shp\n"
     ]
    }
   ],
   "source": [
    "model_net.write_roadway_as_shp(\n",
    "    output_link_shp = os.path.join(output_dir, 'links.shp'),\n",
    "    output_node_shp = os.path.join(output_dir, 'nodes.shp'),\n",
    "    link_output_variables = [\"model_link_id\", \"A\", \"B\", \"geometry\"],\n",
    "    node_output_variables = [\"model_node_id\", \"geometry\"],\n",
    "    data_to_csv = False,\n",
    "    data_to_dbf = True,\n",
    ")"
   ]
  },
  {
   "cell_type": "markdown",
   "metadata": {},
   "source": [
    "## As fixed width (for CUBE)"
   ]
  },
  {
   "cell_type": "code",
   "execution_count": 30,
   "metadata": {},
   "outputs": [
    {
     "name": "stdout",
     "output_type": "stream",
     "text": [
      "2021-02-11 18:08:51, INFO: Starting fixed width conversion\n",
      "2021-02-11 18:08:51, INFO: Starting fixed width conversion\n",
      "2021-02-11 18:25:51, INFO: Writing out link database\n",
      "2021-02-11 18:25:51, INFO: Writing out link database\n",
      "2021-02-11 18:26:16, INFO: Writing out link header and width ----\n",
      "2021-02-11 18:26:16, INFO: Writing out link header and width ----\n",
      "2021-02-11 18:26:16, INFO: Starting fixed width conversion\n",
      "2021-02-11 18:26:16, INFO: Starting fixed width conversion\n",
      "2021-02-11 18:27:35, INFO: Writing out node database\n",
      "2021-02-11 18:27:35, INFO: Writing out node database\n",
      "2021-02-11 18:27:39, INFO: Writing out node header and width\n",
      "2021-02-11 18:27:39, INFO: Writing out node header and width\n"
     ]
    }
   ],
   "source": [
    "model_net.write_roadway_as_fixedwidth(\n",
    "    output_link_txt = os.path.join(output_dir, 'links.txt'),\n",
    "    output_node_txt = os.path.join(output_dir, 'nodes.txt'),\n",
    "    output_link_header_width_txt = os.path.join(output_dir, 'links_header_width.txt'),\n",
    "    output_node_header_width_txt = os.path.join(output_dir, 'nodes_header_width.txt'),\n",
    "    output_cube_network_script = os.path.join(output_dir, 'make_complete_network_from_fixed_width_file.s'),\n",
    "    #drive_only = True\n",
    ")"
   ]
  },
  {
   "cell_type": "code",
   "execution_count": 38,
   "metadata": {},
   "outputs": [],
   "source": [
    "%%capture\n",
    "os.chdir(output_dir)\n",
    "!make_cube.bat"
   ]
  },
  {
   "cell_type": "code",
   "execution_count": 39,
   "metadata": {},
   "outputs": [],
   "source": [
    "%%capture\n",
    "!runtpp make_simple_roadway_network.s\n",
    "!runtpp make_complete_marin_network.s\n",
    "!runtpp make_simple_transit_network.s\n",
    "!runtpp make_highway_ext_stn_connector_network.s"
   ]
  },
  {
   "cell_type": "markdown",
   "metadata": {},
   "source": [
    "## As transit line file (for CUBE)"
   ]
  },
  {
   "cell_type": "code",
   "execution_count": 33,
   "metadata": {},
   "outputs": [
    {
     "name": "stdout",
     "output_type": "stream",
     "text": [
      "2021-02-11 18:28:53, INFO: Lasso base directory set as: C:/Users/USGS667806/Lasso\n",
      "2021-02-11 18:28:53, INFO: Lasso base directory set as: C:/Users/USGS667806/Lasso\n",
      "2021-02-11 18:28:53, INFO: Lasso base directory set as: C:/Users/USGS667806/Lasso\n",
      "2021-02-11 18:28:53, INFO: Lasso base directory set as: C:/Users/USGS667806/Lasso\n",
      "2021-02-11 18:28:53, INFO: Converting GTFS Standard Properties to MTC's Cube Standard\n",
      "2021-02-11 18:28:53, INFO: Converting GTFS Standard Properties to MTC's Cube Standard\n"
     ]
    }
   ],
   "source": [
    "standard_transit_net = StandardTransit.fromTransitNetwork(v_05_scenario.transit_net, parameters = parameters)\n",
    "mtc.write_as_cube_lin(standard_transit_net, parameters, outpath = os.path.join(output_dir, \"transit.lin\"))"
   ]
  },
  {
   "cell_type": "markdown",
   "metadata": {},
   "source": [
    "## As pickle"
   ]
  },
  {
   "cell_type": "code",
   "execution_count": 34,
   "metadata": {},
   "outputs": [],
   "source": [
    "working_scenario_filename = os.path.join(output_dir, 'working_scenario_05.pickle')\n",
    "pickle.dump(v_05_scenario, open(working_scenario_filename, 'wb'))"
   ]
  },
  {
   "cell_type": "markdown",
   "metadata": {},
   "source": [
    "## As standard network"
   ]
  },
  {
   "cell_type": "code",
   "execution_count": 35,
   "metadata": {},
   "outputs": [],
   "source": [
    "model_net.write(path = output_dir, filename = \"v05\")"
   ]
  },
  {
   "cell_type": "code",
   "execution_count": null,
   "metadata": {},
   "outputs": [],
   "source": []
  }
 ],
 "metadata": {
  "kernelspec": {
   "display_name": "Python 3",
   "language": "python",
   "name": "python3"
  },
  "language_info": {
   "codemirror_mode": {
    "name": "ipython",
    "version": 3
   },
   "file_extension": ".py",
   "mimetype": "text/x-python",
   "name": "python",
   "nbconvert_exporter": "python",
   "pygments_lexer": "ipython3",
   "version": "3.7.9"
  }
 },
 "nbformat": 4,
 "nbformat_minor": 4
}
