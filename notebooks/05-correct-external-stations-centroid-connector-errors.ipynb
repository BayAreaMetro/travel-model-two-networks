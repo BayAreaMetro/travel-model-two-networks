{
 "cells": [
  {
   "cell_type": "markdown",
   "metadata": {},
   "source": [
    "# 05 Correct External Stations Centroid Connector Errors with Project Cards"
   ]
  },
  {
   "cell_type": "code",
   "execution_count": 1,
   "metadata": {},
   "outputs": [],
   "source": [
    "import os\n",
    "import sys\n",
    "import yaml\n",
    "import pickle\n",
    "import glob\n",
    "\n",
    "import pandas as pd\n",
    "\n",
    "from network_wrangler import RoadwayNetwork\n",
    "from network_wrangler import TransitNetwork\n",
    "from network_wrangler import ProjectCard\n",
    "from network_wrangler import Scenario\n",
    "from network_wrangler import WranglerLogger\n",
    "\n",
    "from lasso import ModelRoadwayNetwork\n",
    "from lasso import StandardTransit\n",
    "from lasso import Parameters\n",
    "from lasso import mtc\n"
   ]
  },
  {
   "cell_type": "code",
   "execution_count": 2,
   "metadata": {},
   "outputs": [],
   "source": [
    "%load_ext autoreload\n",
    "%autoreload 2"
   ]
  },
  {
   "cell_type": "code",
   "execution_count": 3,
   "metadata": {},
   "outputs": [],
   "source": [
    "import logging\n",
    "logger = logging.getLogger(\"WranglerLogger\")\n",
    "logger.handlers[0].stream = sys.stdout\n",
    "logger.setLevel(logging.INFO)"
   ]
  },
  {
   "cell_type": "markdown",
   "metadata": {},
   "source": [
    "## Remote I/O and Parameters"
   ]
  },
  {
   "cell_type": "code",
   "execution_count": 4,
   "metadata": {},
   "outputs": [],
   "source": [
    "# root_dir = os.path.join('/Users', 'wsp', 'Documents', 'GitHub', 'travel-model-two-networks - Copy')\n",
    "root_dir = \"C:/Users/USGS667806/Documents/GitHub/travel-model-two-networks - Copy\"\n",
    "input_dir = os.path.join(root_dir, 'data', 'processed', 'version_04')\n",
    "output_dir = os.path.join(root_dir, 'data', 'processed', 'version_06')\n",
    "card_dir = os.path.join(root_dir, 'project_cards')\n",
    "# lasso_dir = os.path.join('/Users', 'wsp', 'Documents', 'GitHub', 'mtc-Lasso')\n",
    "lasso_dir = \"C:/Users/USGS667806/Lasso\""
   ]
  },
  {
   "cell_type": "code",
   "execution_count": 5,
   "metadata": {},
   "outputs": [
    {
     "name": "stdout",
     "output_type": "stream",
     "text": [
      "2021-02-09 07:43:04, INFO: Lasso base directory set as: C:/Users/USGS667806/Lasso\n",
      "2021-02-09 07:43:04, INFO: Lasso base directory set as: C:/Users/USGS667806/Lasso\n",
      "2021-02-09 07:43:04, INFO: Lasso base directory set as: C:/Users/USGS667806/Lasso\n",
      "2021-02-09 07:43:04, INFO: Lasso base directory set as: C:/Users/USGS667806/Lasso\n"
     ]
    }
   ],
   "source": [
    "parameters = Parameters(lasso_base_dir = lasso_dir)"
   ]
  },
  {
   "cell_type": "markdown",
   "metadata": {},
   "source": [
    "## Read Version 03 Scenario"
   ]
  },
  {
   "cell_type": "code",
   "execution_count": 6,
   "metadata": {},
   "outputs": [
    {
     "name": "stdout",
     "output_type": "stream",
     "text": [
      "2021-02-09 07:43:05, INFO: Reading RoadwayNetwork\n",
      "2021-02-09 07:43:05, INFO: Reading RoadwayNetwork\n",
      "2021-02-09 07:47:38, INFO: Read 2229982 links from C:/Users/USGS667806/Documents/GitHub/travel-model-two-networks - Copy\\data\\processed\\version_04\\v02_link.json\n",
      "2021-02-09 07:47:38, INFO: Read 2229982 links from C:/Users/USGS667806/Documents/GitHub/travel-model-two-networks - Copy\\data\\processed\\version_04\\v02_link.json\n",
      "2021-02-09 07:47:38, INFO: Read 696439 nodes from C:/Users/USGS667806/Documents/GitHub/travel-model-two-networks - Copy\\data\\processed\\version_04\\v02_node.geojson\n",
      "2021-02-09 07:47:38, INFO: Read 696439 nodes from C:/Users/USGS667806/Documents/GitHub/travel-model-two-networks - Copy\\data\\processed\\version_04\\v02_node.geojson\n",
      "2021-02-09 07:47:38, INFO: Read 1169752 shapes from C:/Users/USGS667806/Documents/GitHub/travel-model-two-networks - Copy\\data\\processed\\version_04\\v02_shape.geojson\n",
      "2021-02-09 07:47:38, INFO: Read 1169752 shapes from C:/Users/USGS667806/Documents/GitHub/travel-model-two-networks - Copy\\data\\processed\\version_04\\v02_shape.geojson\n"
     ]
    }
   ],
   "source": [
    "link_file = os.path.join(input_dir, 'v02_link.json')\n",
    "node_file = os.path.join(input_dir, 'v02_node.geojson')\n",
    "shape_file = os.path.join(input_dir, 'v02_shape.geojson')\n",
    "\n",
    "roadway_net = RoadwayNetwork.read(\n",
    "    link_filename = link_file, \n",
    "    node_filename = node_file, \n",
    "    shape_filename = shape_file\n",
    ")"
   ]
  },
  {
   "cell_type": "code",
   "execution_count": 7,
   "metadata": {},
   "outputs": [
    {
     "name": "stdout",
     "output_type": "stream",
     "text": [
      "2021-02-09 07:53:35, INFO: Read in transit feed from: C:/Users/USGS667806/Documents/GitHub/travel-model-two-networks - Copy\\data\\processed\\version_04\n",
      "2021-02-09 07:53:35, INFO: Read in transit feed from: C:/Users/USGS667806/Documents/GitHub/travel-model-two-networks - Copy\\data\\processed\\version_04\n",
      "2021-02-09 07:53:35, INFO: Removing calendar.txt from transit network config because file not found\n",
      "2021-02-09 07:53:35, INFO: Removing calendar.txt from transit network config because file not found\n",
      "2021-02-09 07:53:35, INFO: Removing calendar_dates.txt from transit network config because file not found\n",
      "2021-02-09 07:53:35, INFO: Removing calendar_dates.txt from transit network config because file not found\n",
      "2021-02-09 07:53:37, INFO: Removing fare_attributes.txt from transit network config because file not found\n",
      "2021-02-09 07:53:37, INFO: Removing fare_attributes.txt from transit network config because file not found\n",
      "2021-02-09 07:53:37, INFO: Removing fare_rules.txt from transit network config because file not found\n",
      "2021-02-09 07:53:37, INFO: Removing fare_rules.txt from transit network config because file not found\n",
      "2021-02-09 07:53:38, INFO: Removing transfers.txt from transit network config because file not found\n",
      "2021-02-09 07:53:38, INFO: Removing transfers.txt from transit network config because file not found\n",
      "2021-02-09 07:53:38, INFO: Removing feed_info.txt from transit network config because file not found\n",
      "2021-02-09 07:53:38, INFO: Removing feed_info.txt from transit network config because file not found\n",
      "2021-02-09 07:53:38, WARNING: The following stop_ids from are referenced but missing from stops.txt: ['ctsa', 'place_HIWY', 'ctmp', 'ctbe', 'place_FVMA', 'place_MOME', 'place_CHCO', 'ctcap', 'place_HPNR', 'place_BYBA', 'place_SHDF', 'ctsc', 'ctsmar', 'ctsj', 'place_TAPI', 'ctssf', 'ctha', 'ctca', 'place_SNCO', 'ct22', 'ctsf', 'place_12BD', 'ctpa', 'ctta', 'place_WOBA', 'place_CBBA', 'place_4SSP', 'place_HBBA', 'place_SHBA', 'ctbl', 'cthi', 'place_11JE', 'place_MBLS', 'ctmi', 'ctmh', 'place_BNTE', 'place_FRBA', 'place_CSSH', 'place_FBBA', 'ctco', 'place_NEPA', 'place_EBBA', 'place_PAHE', 'ctsu', 'ctbu', 'ctgi', 'place_ROBA', 'place_14BD', 'place_HRSH', 'place_ETSF', 'ctba', 'place_CVBA', 'place_11BD', 'ctmv', 'place_DBBA', 'place_PSOT', 'ctla', 'ctscl', 'place_CCCO', 'ctrwc', 'place_SMSE', 'ctsb', 'ctsmat', 'place_NAMO', 'place_90MA', 'place_BDBL']\n",
      "2021-02-09 07:53:38, WARNING: The following stop_ids from are referenced but missing from stops.txt: ['ctsa', 'place_HIWY', 'ctmp', 'ctbe', 'place_FVMA', 'place_MOME', 'place_CHCO', 'ctcap', 'place_HPNR', 'place_BYBA', 'place_SHDF', 'ctsc', 'ctsmar', 'ctsj', 'place_TAPI', 'ctssf', 'ctha', 'ctca', 'place_SNCO', 'ct22', 'ctsf', 'place_12BD', 'ctpa', 'ctta', 'place_WOBA', 'place_CBBA', 'place_4SSP', 'place_HBBA', 'place_SHBA', 'ctbl', 'cthi', 'place_11JE', 'place_MBLS', 'ctmi', 'ctmh', 'place_BNTE', 'place_FRBA', 'place_CSSH', 'place_FBBA', 'ctco', 'place_NEPA', 'place_EBBA', 'place_PAHE', 'ctsu', 'ctbu', 'ctgi', 'place_ROBA', 'place_14BD', 'place_HRSH', 'place_ETSF', 'ctba', 'place_CVBA', 'place_11BD', 'ctmv', 'place_DBBA', 'place_PSOT', 'ctla', 'ctscl', 'place_CCCO', 'ctrwc', 'place_SMSE', 'ctsb', 'ctsmat', 'place_NAMO', 'place_90MA', 'place_BDBL']\n"
     ]
    }
   ],
   "source": [
    "transit_net = TransitNetwork.read(feed_path = input_dir)"
   ]
  },
  {
   "cell_type": "code",
   "execution_count": 11,
   "metadata": {},
   "outputs": [
    {
     "name": "stdout",
     "output_type": "stream",
     "text": [
      "2021-02-09 07:56:20, INFO: Creating Scenario\n",
      "2021-02-09 07:56:20, INFO: Creating Scenario\n"
     ]
    }
   ],
   "source": [
    "base_scenario = {\"road_net\": roadway_net, \"transit_net\": transit_net}\n",
    "working_scenario = Scenario.create_scenario(base_scenario = base_scenario)"
   ]
  },
  {
   "cell_type": "code",
   "execution_count": 12,
   "metadata": {},
   "outputs": [],
   "source": [
    "working_scenario_filename = os.path.join(output_dir, 'working_scenario_04.pickle')\n",
    "pickle.dump(working_scenario, open(working_scenario_filename, 'wb'))"
   ]
  },
  {
   "cell_type": "code",
   "execution_count": 13,
   "metadata": {},
   "outputs": [],
   "source": [
    "version_04_pickle_file_name = os.path.join(output_dir, 'working_scenario_04.pickle')\n",
    "v_04_scenario = pickle.load(open(version_04_pickle_file_name, 'rb'))"
   ]
  },
  {
   "cell_type": "code",
   "execution_count": 14,
   "metadata": {},
   "outputs": [
    {
     "data": {
      "text/plain": [
       "(2229982, 56)"
      ]
     },
     "execution_count": 14,
     "metadata": {},
     "output_type": "execute_result"
    }
   ],
   "source": [
    "v_04_scenario.road_net.links_df.shape"
   ]
  },
  {
   "cell_type": "code",
   "execution_count": 15,
   "metadata": {},
   "outputs": [
    {
     "name": "stdout",
     "output_type": "stream",
     "text": [
      "<class 'pandas.core.frame.DataFrame'>\n",
      "RangeIndex: 701 entries, 0 to 700\n",
      "Data columns (total 16 columns):\n",
      " #   Column                  Non-Null Count  Dtype \n",
      "---  ------                  --------------  ----- \n",
      " 0   route_id_original       701 non-null    object\n",
      " 1   agency_id               526 non-null    object\n",
      " 2   route_short_name        665 non-null    object\n",
      " 3   route_long_name         679 non-null    object\n",
      " 4   route_desc              14 non-null     object\n",
      " 5   route_type              701 non-null    int64 \n",
      " 6   route_url               217 non-null    object\n",
      " 7   route_color             260 non-null    object\n",
      " 8   route_text_color        243 non-null    object\n",
      " 9   agency_raw_name         701 non-null    object\n",
      " 10  route_sort_order        95 non-null     object\n",
      " 11  min_headway_minutes     32 non-null     object\n",
      " 12  eligibility_restricted  4 non-null      object\n",
      " 13  continuous_pickup       4 non-null      object\n",
      " 14  continuous_drop_off     4 non-null      object\n",
      " 15  route_id                701 non-null    object\n",
      "dtypes: int64(1), object(15)\n",
      "memory usage: 87.8+ KB\n"
     ]
    }
   ],
   "source": [
    "v_04_scenario.transit_net.feed.routes.info()"
   ]
  },
  {
   "cell_type": "markdown",
   "metadata": {},
   "source": [
    "## Create Scenario and Apply Project Cards"
   ]
  },
  {
   "cell_type": "code",
   "execution_count": 16,
   "metadata": {},
   "outputs": [
    {
     "name": "stdout",
     "output_type": "stream",
     "text": [
      "2021-02-09 08:00:31, INFO: Creating Scenario\n",
      "2021-02-09 08:00:31, INFO: Creating Scenario\n"
     ]
    }
   ],
   "source": [
    "v_05_scenario = Scenario.create_scenario(\n",
    "    base_scenario=v_04_scenario,\n",
    "    card_directory = card_dir,\n",
    "    tags = ['External Stations Review'],\n",
    "    validate_project_cards=False)"
   ]
  },
  {
   "cell_type": "code",
   "execution_count": 17,
   "metadata": {},
   "outputs": [
    {
     "name": "stdout",
     "output_type": "stream",
     "text": [
      "2021-02-09 08:00:47, INFO: Applying Year 2015 Add centroid connector at External Station connecting William Elton Brown Freeway I-580 SB\n",
      "2021-02-09 08:00:47, INFO: Applying Year 2015 Add centroid connector at External Station connecting William Elton Brown Freeway I-580 SB\n",
      "2021-02-09 08:00:47, INFO: Applying Year 2015 Add centroid connector at External Station connecting William Elton Brown Freeway I-580 SB\n",
      "2021-02-09 08:00:47, INFO: Applying Year 2015 Add centroid connector at External Station connecting William Elton Brown Freeway I-580 SB\n",
      "2021-02-09 08:00:47, INFO: Applying Project to Roadway Network: Year 2015 Add centroid connector at External Station connecting William Elton Brown Freeway I-580 SB\n",
      "2021-02-09 08:00:47, INFO: Applying Project to Roadway Network: Year 2015 Add centroid connector at External Station connecting William Elton Brown Freeway I-580 SB\n",
      "2021-02-09 08:02:18, INFO: Applying Year 2015 Add centroid connector at External Station connecting William Elton Brown Freeway I-580 NB\n",
      "2021-02-09 08:02:18, INFO: Applying Year 2015 Add centroid connector at External Station connecting William Elton Brown Freeway I-580 NB\n",
      "2021-02-09 08:02:18, INFO: Applying Year 2015 Add centroid connector at External Station connecting William Elton Brown Freeway I-580 NB\n",
      "2021-02-09 08:02:18, INFO: Applying Year 2015 Add centroid connector at External Station connecting William Elton Brown Freeway I-580 NB\n",
      "2021-02-09 08:02:18, INFO: Applying Project to Roadway Network: Year 2015 Add centroid connector at External Station connecting William Elton Brown Freeway I-580 NB\n",
      "2021-02-09 08:02:18, INFO: Applying Project to Roadway Network: Year 2015 Add centroid connector at External Station connecting William Elton Brown Freeway I-580 NB\n",
      "2021-02-09 08:03:56, INFO: Applying Year 2015 Add centroid connector at External Station connecting Vic Fazio Highway CA-113 NB\n",
      "2021-02-09 08:03:56, INFO: Applying Year 2015 Add centroid connector at External Station connecting Vic Fazio Highway CA-113 NB\n",
      "2021-02-09 08:03:56, INFO: Applying Year 2015 Add centroid connector at External Station connecting Vic Fazio Highway CA-113 NB\n",
      "2021-02-09 08:03:56, INFO: Applying Year 2015 Add centroid connector at External Station connecting Vic Fazio Highway CA-113 NB\n",
      "2021-02-09 08:03:56, INFO: Applying Project to Roadway Network: Year 2015 Add centroid connector at External Station connecting Vic Fazio Highway CA-113 NB\n",
      "2021-02-09 08:03:56, INFO: Applying Project to Roadway Network: Year 2015 Add centroid connector at External Station connecting Vic Fazio Highway CA-113 NB\n",
      "2021-02-09 08:05:39, INFO: Applying Year 2015 Add centroid connector at External Station connecting Vic Fazio Freeway CA-113 SB\n",
      "2021-02-09 08:05:39, INFO: Applying Year 2015 Add centroid connector at External Station connecting Vic Fazio Freeway CA-113 SB\n",
      "2021-02-09 08:05:39, INFO: Applying Year 2015 Add centroid connector at External Station connecting Vic Fazio Freeway CA-113 SB\n",
      "2021-02-09 08:05:39, INFO: Applying Year 2015 Add centroid connector at External Station connecting Vic Fazio Freeway CA-113 SB\n",
      "2021-02-09 08:05:39, INFO: Applying Project to Roadway Network: Year 2015 Add centroid connector at External Station connecting Vic Fazio Freeway CA-113 SB\n",
      "2021-02-09 08:05:39, INFO: Applying Project to Roadway Network: Year 2015 Add centroid connector at External Station connecting Vic Fazio Freeway CA-113 SB\n",
      "2021-02-09 08:07:14, INFO: Applying Year 2015 Add centroid connector at External Station connecting South Valley Freeway US-101 SB\n",
      "2021-02-09 08:07:14, INFO: Applying Year 2015 Add centroid connector at External Station connecting South Valley Freeway US-101 SB\n",
      "2021-02-09 08:07:14, INFO: Applying Year 2015 Add centroid connector at External Station connecting South Valley Freeway US-101 SB\n",
      "2021-02-09 08:07:14, INFO: Applying Year 2015 Add centroid connector at External Station connecting South Valley Freeway US-101 SB\n",
      "2021-02-09 08:07:14, INFO: Applying Project to Roadway Network: Year 2015 Add centroid connector at External Station connecting South Valley Freeway US-101 SB\n",
      "2021-02-09 08:07:14, INFO: Applying Project to Roadway Network: Year 2015 Add centroid connector at External Station connecting South Valley Freeway US-101 SB\n",
      "2021-02-09 08:08:50, INFO: Applying Year 2015 Add centroid connector at External Station connecting South Valley Freeway US-101 NB\n",
      "2021-02-09 08:08:50, INFO: Applying Year 2015 Add centroid connector at External Station connecting South Valley Freeway US-101 NB\n",
      "2021-02-09 08:08:50, INFO: Applying Year 2015 Add centroid connector at External Station connecting South Valley Freeway US-101 NB\n",
      "2021-02-09 08:08:50, INFO: Applying Year 2015 Add centroid connector at External Station connecting South Valley Freeway US-101 NB\n",
      "2021-02-09 08:08:50, INFO: Applying Project to Roadway Network: Year 2015 Add centroid connector at External Station connecting South Valley Freeway US-101 NB\n",
      "2021-02-09 08:08:50, INFO: Applying Project to Roadway Network: Year 2015 Add centroid connector at External Station connecting South Valley Freeway US-101 NB\n",
      "2021-02-09 08:10:35, INFO: Applying Year 2015 Add centroid connector at External Station connecting Skyline Boulevard CA-35 SB\n",
      "2021-02-09 08:10:35, INFO: Applying Year 2015 Add centroid connector at External Station connecting Skyline Boulevard CA-35 SB\n",
      "2021-02-09 08:10:35, INFO: Applying Year 2015 Add centroid connector at External Station connecting Skyline Boulevard CA-35 SB\n",
      "2021-02-09 08:10:35, INFO: Applying Year 2015 Add centroid connector at External Station connecting Skyline Boulevard CA-35 SB\n",
      "2021-02-09 08:10:35, INFO: Applying Project to Roadway Network: Year 2015 Add centroid connector at External Station connecting Skyline Boulevard CA-35 SB\n",
      "2021-02-09 08:10:35, INFO: Applying Project to Roadway Network: Year 2015 Add centroid connector at External Station connecting Skyline Boulevard CA-35 SB\n",
      "2021-02-09 08:12:11, INFO: Applying Year 2015 Add centroid connector at External Station connecting Skyline Boulevard CA-35 NB\n",
      "2021-02-09 08:12:11, INFO: Applying Year 2015 Add centroid connector at External Station connecting Skyline Boulevard CA-35 NB\n",
      "2021-02-09 08:12:11, INFO: Applying Year 2015 Add centroid connector at External Station connecting Skyline Boulevard CA-35 NB\n",
      "2021-02-09 08:12:11, INFO: Applying Year 2015 Add centroid connector at External Station connecting Skyline Boulevard CA-35 NB\n",
      "2021-02-09 08:12:11, INFO: Applying Project to Roadway Network: Year 2015 Add centroid connector at External Station connecting Skyline Boulevard CA-35 NB\n",
      "2021-02-09 08:12:11, INFO: Applying Project to Roadway Network: Year 2015 Add centroid connector at External Station connecting Skyline Boulevard CA-35 NB\n",
      "2021-02-09 08:13:44, INFO: Applying Year 2015 Add centroid connector at External Station connecting Santa Cruz Highway CA-17 SB\n",
      "2021-02-09 08:13:44, INFO: Applying Year 2015 Add centroid connector at External Station connecting Santa Cruz Highway CA-17 SB\n",
      "2021-02-09 08:13:44, INFO: Applying Year 2015 Add centroid connector at External Station connecting Santa Cruz Highway CA-17 SB\n",
      "2021-02-09 08:13:44, INFO: Applying Year 2015 Add centroid connector at External Station connecting Santa Cruz Highway CA-17 SB\n",
      "2021-02-09 08:13:44, INFO: Applying Project to Roadway Network: Year 2015 Add centroid connector at External Station connecting Santa Cruz Highway CA-17 SB\n",
      "2021-02-09 08:13:44, INFO: Applying Project to Roadway Network: Year 2015 Add centroid connector at External Station connecting Santa Cruz Highway CA-17 SB\n",
      "2021-02-09 08:15:23, INFO: Applying Year 2015 Add centroid connector at External Station connecting Santa Cruz Highway CA-17 NB\n",
      "2021-02-09 08:15:23, INFO: Applying Year 2015 Add centroid connector at External Station connecting Santa Cruz Highway CA-17 NB\n",
      "2021-02-09 08:15:23, INFO: Applying Year 2015 Add centroid connector at External Station connecting Santa Cruz Highway CA-17 NB\n",
      "2021-02-09 08:15:23, INFO: Applying Year 2015 Add centroid connector at External Station connecting Santa Cruz Highway CA-17 NB\n",
      "2021-02-09 08:15:23, INFO: Applying Project to Roadway Network: Year 2015 Add centroid connector at External Station connecting Santa Cruz Highway CA-17 NB\n"
     ]
    },
    {
     "name": "stdout",
     "output_type": "stream",
     "text": [
      "2021-02-09 08:15:23, INFO: Applying Project to Roadway Network: Year 2015 Add centroid connector at External Station connecting Santa Cruz Highway CA-17 NB\n",
      "2021-02-09 08:16:56, INFO: Applying Year 2015 Add centroid connector at External Station connecting Redwood Highway US-101 SB\n",
      "2021-02-09 08:16:56, INFO: Applying Year 2015 Add centroid connector at External Station connecting Redwood Highway US-101 SB\n",
      "2021-02-09 08:16:56, INFO: Applying Year 2015 Add centroid connector at External Station connecting Redwood Highway US-101 SB\n",
      "2021-02-09 08:16:56, INFO: Applying Year 2015 Add centroid connector at External Station connecting Redwood Highway US-101 SB\n",
      "2021-02-09 08:16:56, INFO: Applying Project to Roadway Network: Year 2015 Add centroid connector at External Station connecting Redwood Highway US-101 SB\n",
      "2021-02-09 08:16:56, INFO: Applying Project to Roadway Network: Year 2015 Add centroid connector at External Station connecting Redwood Highway US-101 SB\n",
      "2021-02-09 08:18:31, INFO: Applying Year 2015 Add centroid connector at External Station connecting Redwood Highway US-101 NB\n",
      "2021-02-09 08:18:31, INFO: Applying Year 2015 Add centroid connector at External Station connecting Redwood Highway US-101 NB\n",
      "2021-02-09 08:18:31, INFO: Applying Year 2015 Add centroid connector at External Station connecting Redwood Highway US-101 NB\n",
      "2021-02-09 08:18:31, INFO: Applying Year 2015 Add centroid connector at External Station connecting Redwood Highway US-101 NB\n",
      "2021-02-09 08:18:31, INFO: Applying Project to Roadway Network: Year 2015 Add centroid connector at External Station connecting Redwood Highway US-101 NB\n",
      "2021-02-09 08:18:31, INFO: Applying Project to Roadway Network: Year 2015 Add centroid connector at External Station connecting Redwood Highway US-101 NB\n",
      "2021-02-09 08:20:07, INFO: Applying Year 2015 Add centroid connector at External Station connecting Pacheco Pass Highway CA-156 SB\n",
      "2021-02-09 08:20:07, INFO: Applying Year 2015 Add centroid connector at External Station connecting Pacheco Pass Highway CA-156 SB\n",
      "2021-02-09 08:20:07, INFO: Applying Year 2015 Add centroid connector at External Station connecting Pacheco Pass Highway CA-156 SB\n",
      "2021-02-09 08:20:07, INFO: Applying Year 2015 Add centroid connector at External Station connecting Pacheco Pass Highway CA-156 SB\n",
      "2021-02-09 08:20:07, INFO: Applying Project to Roadway Network: Year 2015 Add centroid connector at External Station connecting Pacheco Pass Highway CA-156 SB\n",
      "2021-02-09 08:20:07, INFO: Applying Project to Roadway Network: Year 2015 Add centroid connector at External Station connecting Pacheco Pass Highway CA-156 SB\n",
      "2021-02-09 08:21:44, INFO: Applying Year 2015 Add centroid connector at External Station connecting Pacheco Pass Highway CA-156 NB\n",
      "2021-02-09 08:21:44, INFO: Applying Year 2015 Add centroid connector at External Station connecting Pacheco Pass Highway CA-156 NB\n",
      "2021-02-09 08:21:44, INFO: Applying Year 2015 Add centroid connector at External Station connecting Pacheco Pass Highway CA-156 NB\n",
      "2021-02-09 08:21:44, INFO: Applying Year 2015 Add centroid connector at External Station connecting Pacheco Pass Highway CA-156 NB\n",
      "2021-02-09 08:21:44, INFO: Applying Project to Roadway Network: Year 2015 Add centroid connector at External Station connecting Pacheco Pass Highway CA-156 NB\n",
      "2021-02-09 08:21:44, INFO: Applying Project to Roadway Network: Year 2015 Add centroid connector at External Station connecting Pacheco Pass Highway CA-156 NB\n",
      "2021-02-09 08:23:17, INFO: Applying Year 2015 Add centroid connector at External Station connecting Pacheco Pass Highway CA-152 SB\n",
      "2021-02-09 08:23:17, INFO: Applying Year 2015 Add centroid connector at External Station connecting Pacheco Pass Highway CA-152 SB\n",
      "2021-02-09 08:23:17, INFO: Applying Year 2015 Add centroid connector at External Station connecting Pacheco Pass Highway CA-152 SB\n",
      "2021-02-09 08:23:17, INFO: Applying Year 2015 Add centroid connector at External Station connecting Pacheco Pass Highway CA-152 SB\n",
      "2021-02-09 08:23:17, INFO: Applying Project to Roadway Network: Year 2015 Add centroid connector at External Station connecting Pacheco Pass Highway CA-152 SB\n",
      "2021-02-09 08:23:17, INFO: Applying Project to Roadway Network: Year 2015 Add centroid connector at External Station connecting Pacheco Pass Highway CA-152 SB\n",
      "2021-02-09 08:25:01, INFO: Applying Year 2015 Add centroid connector at External Station connecting Pacheco Pass Highway CA-152 NB\n",
      "2021-02-09 08:25:01, INFO: Applying Year 2015 Add centroid connector at External Station connecting Pacheco Pass Highway CA-152 NB\n",
      "2021-02-09 08:25:01, INFO: Applying Year 2015 Add centroid connector at External Station connecting Pacheco Pass Highway CA-152 NB\n",
      "2021-02-09 08:25:01, INFO: Applying Year 2015 Add centroid connector at External Station connecting Pacheco Pass Highway CA-152 NB\n",
      "2021-02-09 08:25:01, INFO: Applying Project to Roadway Network: Year 2015 Add centroid connector at External Station connecting Pacheco Pass Highway CA-152 NB\n",
      "2021-02-09 08:25:01, INFO: Applying Project to Roadway Network: Year 2015 Add centroid connector at External Station connecting Pacheco Pass Highway CA-152 NB\n",
      "2021-02-09 08:26:41, INFO: Applying Year 2015 Add centroid connector at External Station connecting I-505 SB\n",
      "2021-02-09 08:26:41, INFO: Applying Year 2015 Add centroid connector at External Station connecting I-505 SB\n",
      "2021-02-09 08:26:41, INFO: Applying Year 2015 Add centroid connector at External Station connecting I-505 SB\n",
      "2021-02-09 08:26:41, INFO: Applying Year 2015 Add centroid connector at External Station connecting I-505 SB\n",
      "2021-02-09 08:26:41, INFO: Applying Project to Roadway Network: Year 2015 Add centroid connector at External Station connecting I-505 SB\n",
      "2021-02-09 08:26:41, INFO: Applying Project to Roadway Network: Year 2015 Add centroid connector at External Station connecting I-505 SB\n",
      "2021-02-09 08:28:27, INFO: Applying Year 2015 Add centroid connector at External Station connecting I-505 NB\n",
      "2021-02-09 08:28:27, INFO: Applying Year 2015 Add centroid connector at External Station connecting I-505 NB\n",
      "2021-02-09 08:28:27, INFO: Applying Year 2015 Add centroid connector at External Station connecting I-505 NB\n",
      "2021-02-09 08:28:27, INFO: Applying Year 2015 Add centroid connector at External Station connecting I-505 NB\n",
      "2021-02-09 08:28:27, INFO: Applying Project to Roadway Network: Year 2015 Add centroid connector at External Station connecting I-505 NB\n",
      "2021-02-09 08:28:27, INFO: Applying Project to Roadway Network: Year 2015 Add centroid connector at External Station connecting I-505 NB\n",
      "2021-02-09 08:30:03, INFO: Applying Year 2015 Add centroid connector at External Station connecting Geysers Road SB\n",
      "2021-02-09 08:30:03, INFO: Applying Year 2015 Add centroid connector at External Station connecting Geysers Road SB\n",
      "2021-02-09 08:30:03, INFO: Applying Year 2015 Add centroid connector at External Station connecting Geysers Road SB\n",
      "2021-02-09 08:30:03, INFO: Applying Year 2015 Add centroid connector at External Station connecting Geysers Road SB\n",
      "2021-02-09 08:30:03, INFO: Applying Project to Roadway Network: Year 2015 Add centroid connector at External Station connecting Geysers Road SB\n",
      "2021-02-09 08:30:03, INFO: Applying Project to Roadway Network: Year 2015 Add centroid connector at External Station connecting Geysers Road SB\n",
      "2021-02-09 08:31:42, INFO: Applying Year 2015 Add centroid connector at External Station connecting Geysers Road NB\n",
      "2021-02-09 08:31:42, INFO: Applying Year 2015 Add centroid connector at External Station connecting Geysers Road NB\n",
      "2021-02-09 08:31:42, INFO: Applying Year 2015 Add centroid connector at External Station connecting Geysers Road NB\n",
      "2021-02-09 08:31:42, INFO: Applying Year 2015 Add centroid connector at External Station connecting Geysers Road NB\n",
      "2021-02-09 08:31:42, INFO: Applying Project to Roadway Network: Year 2015 Add centroid connector at External Station connecting Geysers Road NB\n",
      "2021-02-09 08:31:42, INFO: Applying Project to Roadway Network: Year 2015 Add centroid connector at External Station connecting Geysers Road NB\n",
      "2021-02-09 08:33:23, INFO: Applying Year 2015 Add centroid connector at External Station connecting Dwight D Eisenhower Highway I-80 WB\n"
     ]
    },
    {
     "name": "stdout",
     "output_type": "stream",
     "text": [
      "2021-02-09 08:33:23, INFO: Applying Year 2015 Add centroid connector at External Station connecting Dwight D Eisenhower Highway I-80 WB\n",
      "2021-02-09 08:33:23, INFO: Applying Year 2015 Add centroid connector at External Station connecting Dwight D Eisenhower Highway I-80 WB\n",
      "2021-02-09 08:33:23, INFO: Applying Year 2015 Add centroid connector at External Station connecting Dwight D Eisenhower Highway I-80 WB\n",
      "2021-02-09 08:33:23, INFO: Applying Project to Roadway Network: Year 2015 Add centroid connector at External Station connecting Dwight D Eisenhower Highway I-80 WB\n",
      "2021-02-09 08:33:23, INFO: Applying Project to Roadway Network: Year 2015 Add centroid connector at External Station connecting Dwight D Eisenhower Highway I-80 WB\n",
      "2021-02-09 08:35:02, INFO: Applying Year 2015 Add centroid connector at External Station connecting Dwight D Eisenhower Highway I-80 EB\n",
      "2021-02-09 08:35:02, INFO: Applying Year 2015 Add centroid connector at External Station connecting Dwight D Eisenhower Highway I-80 EB\n",
      "2021-02-09 08:35:02, INFO: Applying Year 2015 Add centroid connector at External Station connecting Dwight D Eisenhower Highway I-80 EB\n",
      "2021-02-09 08:35:02, INFO: Applying Year 2015 Add centroid connector at External Station connecting Dwight D Eisenhower Highway I-80 EB\n",
      "2021-02-09 08:35:02, INFO: Applying Project to Roadway Network: Year 2015 Add centroid connector at External Station connecting Dwight D Eisenhower Highway I-80 EB\n",
      "2021-02-09 08:35:02, INFO: Applying Project to Roadway Network: Year 2015 Add centroid connector at External Station connecting Dwight D Eisenhower Highway I-80 EB\n",
      "2021-02-09 08:36:36, INFO: Applying Year 2015 Add centroid connector at External Station connecting Cabrillo Highway CA-1 SB\n",
      "2021-02-09 08:36:36, INFO: Applying Year 2015 Add centroid connector at External Station connecting Cabrillo Highway CA-1 SB\n",
      "2021-02-09 08:36:36, INFO: Applying Year 2015 Add centroid connector at External Station connecting Cabrillo Highway CA-1 SB\n",
      "2021-02-09 08:36:36, INFO: Applying Year 2015 Add centroid connector at External Station connecting Cabrillo Highway CA-1 SB\n",
      "2021-02-09 08:36:36, INFO: Applying Project to Roadway Network: Year 2015 Add centroid connector at External Station connecting Cabrillo Highway CA-1 SB\n",
      "2021-02-09 08:36:36, INFO: Applying Project to Roadway Network: Year 2015 Add centroid connector at External Station connecting Cabrillo Highway CA-1 SB\n",
      "2021-02-09 08:38:15, INFO: Applying Year 2015 Add centroid connector at External Station connecting Cabrillo Highway CA-1 NB\n",
      "2021-02-09 08:38:15, INFO: Applying Year 2015 Add centroid connector at External Station connecting Cabrillo Highway CA-1 NB\n",
      "2021-02-09 08:38:15, INFO: Applying Year 2015 Add centroid connector at External Station connecting Cabrillo Highway CA-1 NB\n",
      "2021-02-09 08:38:15, INFO: Applying Year 2015 Add centroid connector at External Station connecting Cabrillo Highway CA-1 NB\n",
      "2021-02-09 08:38:15, INFO: Applying Project to Roadway Network: Year 2015 Add centroid connector at External Station connecting Cabrillo Highway CA-1 NB\n",
      "2021-02-09 08:38:15, INFO: Applying Project to Roadway Network: Year 2015 Add centroid connector at External Station connecting Cabrillo Highway CA-1 NB\n",
      "2021-02-09 08:39:49, INFO: Applying Year 2015 Add centroid connector at External Station connecting Antioch Bridge CA-160 SB\n",
      "2021-02-09 08:39:49, INFO: Applying Year 2015 Add centroid connector at External Station connecting Antioch Bridge CA-160 SB\n",
      "2021-02-09 08:39:49, INFO: Applying Year 2015 Add centroid connector at External Station connecting Antioch Bridge CA-160 SB\n",
      "2021-02-09 08:39:49, INFO: Applying Year 2015 Add centroid connector at External Station connecting Antioch Bridge CA-160 SB\n",
      "2021-02-09 08:39:49, INFO: Applying Project to Roadway Network: Year 2015 Add centroid connector at External Station connecting Antioch Bridge CA-160 SB\n",
      "2021-02-09 08:39:49, INFO: Applying Project to Roadway Network: Year 2015 Add centroid connector at External Station connecting Antioch Bridge CA-160 SB\n",
      "2021-02-09 08:41:31, INFO: Applying Year 2015 Add centroid connector at External Station connecting Antioch Bridge CA-160 NB\n",
      "2021-02-09 08:41:31, INFO: Applying Year 2015 Add centroid connector at External Station connecting Antioch Bridge CA-160 NB\n",
      "2021-02-09 08:41:31, INFO: Applying Year 2015 Add centroid connector at External Station connecting Antioch Bridge CA-160 NB\n",
      "2021-02-09 08:41:31, INFO: Applying Year 2015 Add centroid connector at External Station connecting Antioch Bridge CA-160 NB\n",
      "2021-02-09 08:41:31, INFO: Applying Project to Roadway Network: Year 2015 Add centroid connector at External Station connecting Antioch Bridge CA-160 NB\n",
      "2021-02-09 08:41:31, INFO: Applying Project to Roadway Network: Year 2015 Add centroid connector at External Station connecting Antioch Bridge CA-160 NB\n"
     ]
    }
   ],
   "source": [
    "v_05_scenario.apply_all_projects()"
   ]
  },
  {
   "cell_type": "code",
   "execution_count": 18,
   "metadata": {},
   "outputs": [
    {
     "data": {
      "text/plain": [
       "['Year 2015 Add centroid connector at External Station connecting William Elton Brown Freeway I-580 SB',\n",
       " 'Year 2015 Add centroid connector at External Station connecting William Elton Brown Freeway I-580 NB',\n",
       " 'Year 2015 Add centroid connector at External Station connecting Vic Fazio Highway CA-113 NB',\n",
       " 'Year 2015 Add centroid connector at External Station connecting Vic Fazio Freeway CA-113 SB',\n",
       " 'Year 2015 Add centroid connector at External Station connecting South Valley Freeway US-101 SB',\n",
       " 'Year 2015 Add centroid connector at External Station connecting South Valley Freeway US-101 NB',\n",
       " 'Year 2015 Add centroid connector at External Station connecting Skyline Boulevard CA-35 SB',\n",
       " 'Year 2015 Add centroid connector at External Station connecting Skyline Boulevard CA-35 NB',\n",
       " 'Year 2015 Add centroid connector at External Station connecting Santa Cruz Highway CA-17 SB',\n",
       " 'Year 2015 Add centroid connector at External Station connecting Santa Cruz Highway CA-17 NB',\n",
       " 'Year 2015 Add centroid connector at External Station connecting Redwood Highway US-101 SB',\n",
       " 'Year 2015 Add centroid connector at External Station connecting Redwood Highway US-101 NB',\n",
       " 'Year 2015 Add centroid connector at External Station connecting Pacheco Pass Highway CA-156 SB',\n",
       " 'Year 2015 Add centroid connector at External Station connecting Pacheco Pass Highway CA-156 NB',\n",
       " 'Year 2015 Add centroid connector at External Station connecting Pacheco Pass Highway CA-152 SB',\n",
       " 'Year 2015 Add centroid connector at External Station connecting Pacheco Pass Highway CA-152 NB',\n",
       " 'Year 2015 Add centroid connector at External Station connecting I-505 SB',\n",
       " 'Year 2015 Add centroid connector at External Station connecting I-505 NB',\n",
       " 'Year 2015 Add centroid connector at External Station connecting Geysers Road SB',\n",
       " 'Year 2015 Add centroid connector at External Station connecting Geysers Road NB',\n",
       " 'Year 2015 Add centroid connector at External Station connecting Dwight D Eisenhower Highway I-80 WB',\n",
       " 'Year 2015 Add centroid connector at External Station connecting Dwight D Eisenhower Highway I-80 EB',\n",
       " 'Year 2015 Add centroid connector at External Station connecting Cabrillo Highway CA-1 SB',\n",
       " 'Year 2015 Add centroid connector at External Station connecting Cabrillo Highway CA-1 NB',\n",
       " 'Year 2015 Add centroid connector at External Station connecting Antioch Bridge CA-160 SB',\n",
       " 'Year 2015 Add centroid connector at External Station connecting Antioch Bridge CA-160 NB']"
      ]
     },
     "execution_count": 18,
     "metadata": {},
     "output_type": "execute_result"
    }
   ],
   "source": [
    "v_05_scenario.applied_projects"
   ]
  },
  {
   "cell_type": "code",
   "execution_count": 19,
   "metadata": {},
   "outputs": [
    {
     "data": {
      "text/plain": [
       "Index(['index', 'access', 'bike_access', 'drive_access', 'fromIntersectionId',\n",
       "       'lanes', 'maxspeed', 'name', 'oneWay', 'ref', 'roadway',\n",
       "       'shstGeometryId', 'shstReferenceId', 'toIntersectionId', 'u', 'v',\n",
       "       'walk_access', 'wayId', 'county', 'model_link_id', 'A', 'B',\n",
       "       'rail_traveltime', 'rail_only', 'locationReferences', 'shape_id',\n",
       "       'ft_cal', 'ft', 'useclass', 'assignable', 'transit', 'managed',\n",
       "       'segment_id', 'tollseg', 'bus_only', 'transit_access', 'egress', 'id',\n",
       "       'distance', 'cntype', 'lanes_EA', 'lanes_AM', 'lanes_MD', 'lanes_PM',\n",
       "       'lanes_EV', 'ML_lanes_EA', 'ML_lanes_AM', 'ML_lanes_MD', 'ML_lanes_PM',\n",
       "       'ML_lanes_EV', 'useclass_EA', 'useclass_AM', 'useclass_MD',\n",
       "       'useclass_PM', 'useclass_EV', 'geometry'],\n",
       "      dtype='object')"
      ]
     },
     "execution_count": 19,
     "metadata": {},
     "output_type": "execute_result"
    }
   ],
   "source": [
    "v_05_scenario.road_net.links_df.columns"
   ]
  },
  {
   "cell_type": "markdown",
   "metadata": {},
   "source": [
    "## Make Travel Model Networks"
   ]
  },
  {
   "cell_type": "code",
   "execution_count": 20,
   "metadata": {},
   "outputs": [
    {
     "name": "stdout",
     "output_type": "stream",
     "text": [
      "2021-02-09 08:53:18, INFO: Lasso base directory set as: C:/Users/USGS667806/Lasso\n",
      "2021-02-09 08:53:18, INFO: Lasso base directory set as: C:/Users/USGS667806/Lasso\n",
      "2021-02-09 08:53:18, INFO: Lasso base directory set as: C:/Users/USGS667806/Lasso\n",
      "2021-02-09 08:53:18, INFO: Lasso base directory set as: C:/Users/USGS667806/Lasso\n"
     ]
    }
   ],
   "source": [
    "model_net = ModelRoadwayNetwork.from_RoadwayNetwork(\n",
    "    roadway_network_object = v_05_scenario.road_net, \n",
    "    parameters = parameters)"
   ]
  },
  {
   "cell_type": "code",
   "execution_count": 21,
   "metadata": {},
   "outputs": [
    {
     "name": "stdout",
     "output_type": "stream",
     "text": [
      "(2230008, 56)\n",
      "(696439, 12)\n",
      "(1169778, 8)\n"
     ]
    }
   ],
   "source": [
    "print(model_net.links_df.shape)\n",
    "print(model_net.nodes_df.shape)\n",
    "print(model_net.shapes_df.shape)"
   ]
  },
  {
   "cell_type": "code",
   "execution_count": 22,
   "metadata": {},
   "outputs": [
    {
     "name": "stdout",
     "output_type": "stream",
     "text": [
      "(2230008, 56)\n",
      "(696439, 12)\n",
      "(1169778, 8)\n"
     ]
    }
   ],
   "source": [
    "print(model_net.links_df.shape)\n",
    "print(model_net.nodes_df.shape)\n",
    "print(model_net.shapes_df.shape)"
   ]
  },
  {
   "cell_type": "code",
   "execution_count": 23,
   "metadata": {},
   "outputs": [
    {
     "data": {
      "text/plain": [
       "2230008"
      ]
     },
     "execution_count": 23,
     "metadata": {},
     "output_type": "execute_result"
    }
   ],
   "source": [
    "model_net.links_df.model_link_id.nunique()"
   ]
  },
  {
   "cell_type": "code",
   "execution_count": 25,
   "metadata": {},
   "outputs": [
    {
     "name": "stdout",
     "output_type": "stream",
     "text": [
      "2021-02-09 08:59:07, INFO: Adding tap and tap connector to standard network\n",
      "2021-02-09 08:59:07, INFO: Adding tap and tap connector to standard network\n",
      "2021-02-09 08:59:07, INFO: Lasso base directory set as: C:/Users/USGS667806/Lasso\n",
      "2021-02-09 08:59:07, INFO: Lasso base directory set as: C:/Users/USGS667806/Lasso\n",
      "2021-02-09 08:59:07, INFO: Lasso base directory set as: C:/Users/USGS667806/Lasso\n",
      "2021-02-09 08:59:07, INFO: Lasso base directory set as: C:/Users/USGS667806/Lasso\n",
      "2021-02-09 08:59:15, INFO: Finished adding tap and tap connectors\n",
      "2021-02-09 08:59:15, INFO: Finished adding tap and tap connectors\n"
     ]
    }
   ],
   "source": [
    "model_net = mtc.add_tap_and_tap_connector(\n",
    "    roadway_network = model_net,\n",
    "    parameters = parameters)"
   ]
  },
  {
   "cell_type": "code",
   "execution_count": 26,
   "metadata": {},
   "outputs": [
    {
     "name": "stdout",
     "output_type": "stream",
     "text": [
      "(2300492, 56)\n",
      "(708439, 12)\n",
      "(1205020, 8)\n"
     ]
    }
   ],
   "source": [
    "print(model_net.links_df.shape)\n",
    "print(model_net.nodes_df.shape)\n",
    "print(model_net.shapes_df.shape)"
   ]
  },
  {
   "cell_type": "code",
   "execution_count": 27,
   "metadata": {},
   "outputs": [
    {
     "data": {
      "text/plain": [
       "2230008"
      ]
     },
     "execution_count": 27,
     "metadata": {},
     "output_type": "execute_result"
    }
   ],
   "source": [
    "model_net.links_df.model_link_id.nunique()"
   ]
  },
  {
   "cell_type": "code",
   "execution_count": 28,
   "metadata": {},
   "outputs": [
    {
     "data": {
      "text/plain": [
       "696439"
      ]
     },
     "execution_count": 28,
     "metadata": {},
     "output_type": "execute_result"
    }
   ],
   "source": [
    "model_net.nodes_df.model_node_id.nunique()"
   ]
  },
  {
   "cell_type": "code",
   "execution_count": 29,
   "metadata": {},
   "outputs": [
    {
     "data": {
      "text/plain": [
       "1169778"
      ]
     },
     "execution_count": 29,
     "metadata": {},
     "output_type": "execute_result"
    }
   ],
   "source": [
    "model_net.shapes_df.id.nunique()"
   ]
  },
  {
   "cell_type": "code",
   "execution_count": 30,
   "metadata": {
    "scrolled": false
   },
   "outputs": [
    {
     "name": "stdout",
     "output_type": "stream",
     "text": [
      "2021-02-09 09:00:11, INFO: Renaming roadway attributes to be consistent with what mtc's model is expecting\n",
      "2021-02-09 09:00:11, INFO: Renaming roadway attributes to be consistent with what mtc's model is expecting\n",
      "2021-02-09 09:00:11, INFO: Creating managed lane network.\n",
      "2021-02-09 09:00:11, INFO: Creating managed lane network.\n",
      "2021-02-09 09:00:11, INFO: Creating network with duplicated managed lanes\n",
      "2021-02-09 09:00:11, INFO: Creating network with duplicated managed lanes\n",
      "2021-02-09 09:00:11, ERROR: managed lane access links already exist in network; shouldn't be running create managed lane network. Returning network as-is.\n",
      "2021-02-09 09:00:11, ERROR: managed lane access links already exist in network; shouldn't be running create managed lane network. Returning network as-is.\n",
      "2021-02-09 09:00:11, INFO: Determining cntype\n",
      "2021-02-09 09:00:11, INFO: Determining cntype\n",
      "2021-02-09 09:00:11, INFO: Lasso base directory set as: C:/Users/USGS667806/Lasso\n",
      "2021-02-09 09:00:11, INFO: Lasso base directory set as: C:/Users/USGS667806/Lasso\n",
      "2021-02-09 09:00:11, INFO: Lasso base directory set as: C:/Users/USGS667806/Lasso\n",
      "2021-02-09 09:00:11, INFO: Lasso base directory set as: C:/Users/USGS667806/Lasso\n",
      "2021-02-09 09:00:11, INFO: Variable 'cntype' already in network. Returning without overwriting.\n",
      "2021-02-09 09:00:11, INFO: Variable 'cntype' already in network. Returning without overwriting.\n",
      "2021-02-09 09:00:11, INFO: Determining transit\n",
      "2021-02-09 09:00:11, INFO: Determining transit\n",
      "2021-02-09 09:00:11, INFO: Lasso base directory set as: C:/Users/USGS667806/Lasso\n",
      "2021-02-09 09:00:11, INFO: Lasso base directory set as: C:/Users/USGS667806/Lasso\n",
      "2021-02-09 09:00:11, INFO: Lasso base directory set as: C:/Users/USGS667806/Lasso\n",
      "2021-02-09 09:00:11, INFO: Lasso base directory set as: C:/Users/USGS667806/Lasso\n",
      "2021-02-09 09:00:11, INFO: Variable 'transit' updated for some links. Returning without overwriting for those links. Calculating for other links\n",
      "2021-02-09 09:00:11, INFO: Variable 'transit' updated for some links. Returning without overwriting for those links. Calculating for other links\n",
      "2021-02-09 09:00:11, INFO: Calculating and adding roadway network variable: transit\n",
      "2021-02-09 09:00:11, INFO: Calculating and adding roadway network variable: transit\n",
      "2021-02-09 09:00:12, INFO: Finished determining transit-only variable: transit\n",
      "2021-02-09 09:00:12, INFO: Finished determining transit-only variable: transit\n",
      "2021-02-09 09:00:12, INFO: Determining useclass\n",
      "2021-02-09 09:00:12, INFO: Determining useclass\n",
      "2021-02-09 09:00:12, INFO: Lasso base directory set as: C:/Users/USGS667806/Lasso\n",
      "2021-02-09 09:00:12, INFO: Lasso base directory set as: C:/Users/USGS667806/Lasso\n",
      "2021-02-09 09:00:12, INFO: Lasso base directory set as: C:/Users/USGS667806/Lasso\n",
      "2021-02-09 09:00:12, INFO: Lasso base directory set as: C:/Users/USGS667806/Lasso\n",
      "2021-02-09 09:00:12, INFO: Variable 'useclass' updated for some links. Returning without overwriting for those links. Calculating for other links\n",
      "2021-02-09 09:00:12, INFO: Variable 'useclass' updated for some links. Returning without overwriting for those links. Calculating for other links\n",
      "2021-02-09 09:00:12, INFO: Calculating and adding roadway network variable: useclass\n",
      "2021-02-09 09:00:12, INFO: Calculating and adding roadway network variable: useclass\n",
      "2021-02-09 09:00:12, INFO: Finished determining variable: useclass\n",
      "2021-02-09 09:00:12, INFO: Finished determining variable: useclass\n",
      "2021-02-09 09:00:12, INFO: Calculating Facility Type\n",
      "2021-02-09 09:00:12, INFO: Calculating Facility Type\n",
      "2021-02-09 09:00:12, INFO: Lasso base directory set as: C:/Users/USGS667806/Lasso\n",
      "2021-02-09 09:00:12, INFO: Lasso base directory set as: C:/Users/USGS667806/Lasso\n",
      "2021-02-09 09:00:12, INFO: Lasso base directory set as: C:/Users/USGS667806/Lasso\n",
      "2021-02-09 09:00:12, INFO: Lasso base directory set as: C:/Users/USGS667806/Lasso\n",
      "2021-02-09 09:00:12, INFO: Variable 'ft' updated for some links. Returning without overwriting for those links. Calculating for other links\n",
      "2021-02-09 09:00:12, INFO: Variable 'ft' updated for some links. Returning without overwriting for those links. Calculating for other links\n",
      "2021-02-09 09:02:50, INFO: Finished calculating roadway class variable: ft\n",
      "2021-02-09 09:02:50, INFO: Finished calculating roadway class variable: ft\n",
      "2021-02-09 09:02:50, INFO: Overwriting existing distance Variable 'distance' already in network\n",
      "2021-02-09 09:02:50, INFO: Overwriting existing distance Variable 'distance' already in network\n",
      "2021-02-09 09:04:04, INFO: Calculating distance for all links\n",
      "2021-02-09 09:04:04, INFO: Calculating distance for all links\n",
      "2021-02-09 09:04:09, INFO: Calculating distance for all links\n",
      "2021-02-09 09:04:09, INFO: Calculating distance for all links\n",
      "2021-02-09 09:04:18, INFO: Filling nan for network from network wrangler\n",
      "2021-02-09 09:04:18, INFO: Filling nan for network from network wrangler\n",
      "2021-02-09 09:05:26, INFO: Splitting variables by time period and category\n",
      "2021-02-09 09:05:26, INFO: Splitting variables by time period and category\n",
      "2021-02-09 09:05:35, WARNING: Specified variable to split: ML_lanes not in network variables: Index(['index', 'access', 'bike_access', 'drive_access', 'fromIntersectionId',\n",
      "       'lanes', 'maxspeed', 'name', 'oneWay', 'ref', 'roadway',\n",
      "       'shstGeometryId', 'shstReferenceId', 'toIntersectionId', 'u', 'v',\n",
      "       'walk_access', 'wayId', 'county', 'model_link_id', 'A', 'B',\n",
      "       'rail_traveltime', 'rail_only', 'locationReferences', 'shape_id',\n",
      "       'ft_cal', 'ft', 'useclass', 'assignable', 'transit', 'managed',\n",
      "       'segment_id', 'tollseg', 'bus_only', 'transit_access', 'egress', 'id',\n",
      "       'distance', 'cntype', 'lanes_EA', 'lanes_AM', 'lanes_MD', 'lanes_PM',\n",
      "       'lanes_EV', 'ML_lanes_EA', 'ML_lanes_AM', 'ML_lanes_MD', 'ML_lanes_PM',\n",
      "       'ML_lanes_EV', 'useclass_EA', 'useclass_AM', 'useclass_MD',\n",
      "       'useclass_PM', 'useclass_EV', 'geometry'],\n",
      "      dtype='object'). Returning 0.\n",
      "2021-02-09 09:05:35, WARNING: Specified variable to split: ML_lanes not in network variables: Index(['index', 'access', 'bike_access', 'drive_access', 'fromIntersectionId',\n",
      "       'lanes', 'maxspeed', 'name', 'oneWay', 'ref', 'roadway',\n",
      "       'shstGeometryId', 'shstReferenceId', 'toIntersectionId', 'u', 'v',\n",
      "       'walk_access', 'wayId', 'county', 'model_link_id', 'A', 'B',\n",
      "       'rail_traveltime', 'rail_only', 'locationReferences', 'shape_id',\n",
      "       'ft_cal', 'ft', 'useclass', 'assignable', 'transit', 'managed',\n",
      "       'segment_id', 'tollseg', 'bus_only', 'transit_access', 'egress', 'id',\n",
      "       'distance', 'cntype', 'lanes_EA', 'lanes_AM', 'lanes_MD', 'lanes_PM',\n",
      "       'lanes_EV', 'ML_lanes_EA', 'ML_lanes_AM', 'ML_lanes_MD', 'ML_lanes_PM',\n",
      "       'ML_lanes_EV', 'useclass_EA', 'useclass_AM', 'useclass_MD',\n",
      "       'useclass_PM', 'useclass_EV', 'geometry'],\n",
      "      dtype='object'). Returning 0.\n",
      "2021-02-09 09:05:43, INFO: Converting variable type to mtc standard\n",
      "2021-02-09 09:05:43, INFO: Converting variable type to mtc standard\n"
     ]
    },
    {
     "ename": "ValueError",
     "evalue": "could not convert string to float: ",
     "output_type": "error",
     "traceback": [
      "\u001b[1;31m---------------------------------------------------------------------------\u001b[0m",
      "\u001b[1;31mValueError\u001b[0m                                Traceback (most recent call last)",
      "\u001b[1;32mc:\\users\\usgs667806\\lasso\\lasso\\roadway.py\u001b[0m in \u001b[0;36mconvert_int\u001b[1;34m(self, int_col_names)\u001b[0m\n\u001b[0;32m   1266\u001b[0m                 \u001b[0mself\u001b[0m\u001b[1;33m.\u001b[0m\u001b[0mlinks_df\u001b[0m\u001b[1;33m[\u001b[0m\u001b[0mc\u001b[0m\u001b[1;33m]\u001b[0m \u001b[1;33m=\u001b[0m \u001b[0mself\u001b[0m\u001b[1;33m.\u001b[0m\u001b[0mlinks_df\u001b[0m\u001b[1;33m[\u001b[0m\u001b[0mc\u001b[0m\u001b[1;33m]\u001b[0m\u001b[1;33m.\u001b[0m\u001b[0mreplace\u001b[0m\u001b[1;33m(\u001b[0m\u001b[0mnp\u001b[0m\u001b[1;33m.\u001b[0m\u001b[0mnan\u001b[0m\u001b[1;33m,\u001b[0m \u001b[1;36m0\u001b[0m\u001b[1;33m)\u001b[0m\u001b[1;33m\u001b[0m\u001b[1;33m\u001b[0m\u001b[0m\n\u001b[1;32m-> 1267\u001b[1;33m                 \u001b[0mself\u001b[0m\u001b[1;33m.\u001b[0m\u001b[0mlinks_df\u001b[0m\u001b[1;33m[\u001b[0m\u001b[0mc\u001b[0m\u001b[1;33m]\u001b[0m \u001b[1;33m=\u001b[0m \u001b[0mself\u001b[0m\u001b[1;33m.\u001b[0m\u001b[0mlinks_df\u001b[0m\u001b[1;33m[\u001b[0m\u001b[0mc\u001b[0m\u001b[1;33m]\u001b[0m\u001b[1;33m.\u001b[0m\u001b[0mastype\u001b[0m\u001b[1;33m(\u001b[0m\u001b[0mint\u001b[0m\u001b[1;33m)\u001b[0m\u001b[1;33m\u001b[0m\u001b[1;33m\u001b[0m\u001b[0m\n\u001b[0m\u001b[0;32m   1268\u001b[0m             \u001b[1;32mexcept\u001b[0m\u001b[1;33m:\u001b[0m\u001b[1;33m\u001b[0m\u001b[1;33m\u001b[0m\u001b[0m\n",
      "\u001b[1;32m~\\Anaconda3\\envs\\lasso_environment\\lib\\site-packages\\pandas\\core\\generic.py\u001b[0m in \u001b[0;36mastype\u001b[1;34m(self, dtype, copy, errors)\u001b[0m\n\u001b[0;32m   5547\u001b[0m             \u001b[1;31m# else, only a single dtype is given\u001b[0m\u001b[1;33m\u001b[0m\u001b[1;33m\u001b[0m\u001b[1;33m\u001b[0m\u001b[0m\n\u001b[1;32m-> 5548\u001b[1;33m             \u001b[0mnew_data\u001b[0m \u001b[1;33m=\u001b[0m \u001b[0mself\u001b[0m\u001b[1;33m.\u001b[0m\u001b[0m_mgr\u001b[0m\u001b[1;33m.\u001b[0m\u001b[0mastype\u001b[0m\u001b[1;33m(\u001b[0m\u001b[0mdtype\u001b[0m\u001b[1;33m=\u001b[0m\u001b[0mdtype\u001b[0m\u001b[1;33m,\u001b[0m \u001b[0mcopy\u001b[0m\u001b[1;33m=\u001b[0m\u001b[0mcopy\u001b[0m\u001b[1;33m,\u001b[0m \u001b[0merrors\u001b[0m\u001b[1;33m=\u001b[0m\u001b[0merrors\u001b[0m\u001b[1;33m,\u001b[0m\u001b[1;33m)\u001b[0m\u001b[1;33m\u001b[0m\u001b[1;33m\u001b[0m\u001b[0m\n\u001b[0m\u001b[0;32m   5549\u001b[0m             \u001b[1;32mreturn\u001b[0m \u001b[0mself\u001b[0m\u001b[1;33m.\u001b[0m\u001b[0m_constructor\u001b[0m\u001b[1;33m(\u001b[0m\u001b[0mnew_data\u001b[0m\u001b[1;33m)\u001b[0m\u001b[1;33m.\u001b[0m\u001b[0m__finalize__\u001b[0m\u001b[1;33m(\u001b[0m\u001b[0mself\u001b[0m\u001b[1;33m,\u001b[0m \u001b[0mmethod\u001b[0m\u001b[1;33m=\u001b[0m\u001b[1;34m\"astype\"\u001b[0m\u001b[1;33m)\u001b[0m\u001b[1;33m\u001b[0m\u001b[1;33m\u001b[0m\u001b[0m\n",
      "\u001b[1;32m~\\Anaconda3\\envs\\lasso_environment\\lib\\site-packages\\pandas\\core\\internals\\managers.py\u001b[0m in \u001b[0;36mastype\u001b[1;34m(self, dtype, copy, errors)\u001b[0m\n\u001b[0;32m    603\u001b[0m     ) -> \"BlockManager\":\n\u001b[1;32m--> 604\u001b[1;33m         \u001b[1;32mreturn\u001b[0m \u001b[0mself\u001b[0m\u001b[1;33m.\u001b[0m\u001b[0mapply\u001b[0m\u001b[1;33m(\u001b[0m\u001b[1;34m\"astype\"\u001b[0m\u001b[1;33m,\u001b[0m \u001b[0mdtype\u001b[0m\u001b[1;33m=\u001b[0m\u001b[0mdtype\u001b[0m\u001b[1;33m,\u001b[0m \u001b[0mcopy\u001b[0m\u001b[1;33m=\u001b[0m\u001b[0mcopy\u001b[0m\u001b[1;33m,\u001b[0m \u001b[0merrors\u001b[0m\u001b[1;33m=\u001b[0m\u001b[0merrors\u001b[0m\u001b[1;33m)\u001b[0m\u001b[1;33m\u001b[0m\u001b[1;33m\u001b[0m\u001b[0m\n\u001b[0m\u001b[0;32m    605\u001b[0m \u001b[1;33m\u001b[0m\u001b[0m\n",
      "\u001b[1;32m~\\Anaconda3\\envs\\lasso_environment\\lib\\site-packages\\pandas\\core\\internals\\managers.py\u001b[0m in \u001b[0;36mapply\u001b[1;34m(self, f, align_keys, **kwargs)\u001b[0m\n\u001b[0;32m    408\u001b[0m             \u001b[1;32melse\u001b[0m\u001b[1;33m:\u001b[0m\u001b[1;33m\u001b[0m\u001b[1;33m\u001b[0m\u001b[0m\n\u001b[1;32m--> 409\u001b[1;33m                 \u001b[0mapplied\u001b[0m \u001b[1;33m=\u001b[0m \u001b[0mgetattr\u001b[0m\u001b[1;33m(\u001b[0m\u001b[0mb\u001b[0m\u001b[1;33m,\u001b[0m \u001b[0mf\u001b[0m\u001b[1;33m)\u001b[0m\u001b[1;33m(\u001b[0m\u001b[1;33m**\u001b[0m\u001b[0mkwargs\u001b[0m\u001b[1;33m)\u001b[0m\u001b[1;33m\u001b[0m\u001b[1;33m\u001b[0m\u001b[0m\n\u001b[0m\u001b[0;32m    410\u001b[0m             \u001b[0mresult_blocks\u001b[0m \u001b[1;33m=\u001b[0m \u001b[0m_extend_blocks\u001b[0m\u001b[1;33m(\u001b[0m\u001b[0mapplied\u001b[0m\u001b[1;33m,\u001b[0m \u001b[0mresult_blocks\u001b[0m\u001b[1;33m)\u001b[0m\u001b[1;33m\u001b[0m\u001b[1;33m\u001b[0m\u001b[0m\n",
      "\u001b[1;32m~\\Anaconda3\\envs\\lasso_environment\\lib\\site-packages\\pandas\\core\\internals\\blocks.py\u001b[0m in \u001b[0;36mastype\u001b[1;34m(self, dtype, copy, errors)\u001b[0m\n\u001b[0;32m    594\u001b[0m             \u001b[1;32mtry\u001b[0m\u001b[1;33m:\u001b[0m\u001b[1;33m\u001b[0m\u001b[1;33m\u001b[0m\u001b[0m\n\u001b[1;32m--> 595\u001b[1;33m                 \u001b[0mvalues\u001b[0m \u001b[1;33m=\u001b[0m \u001b[0mastype_nansafe\u001b[0m\u001b[1;33m(\u001b[0m\u001b[0mvals1d\u001b[0m\u001b[1;33m,\u001b[0m \u001b[0mdtype\u001b[0m\u001b[1;33m,\u001b[0m \u001b[0mcopy\u001b[0m\u001b[1;33m=\u001b[0m\u001b[1;32mTrue\u001b[0m\u001b[1;33m)\u001b[0m\u001b[1;33m\u001b[0m\u001b[1;33m\u001b[0m\u001b[0m\n\u001b[0m\u001b[0;32m    596\u001b[0m             \u001b[1;32mexcept\u001b[0m \u001b[1;33m(\u001b[0m\u001b[0mValueError\u001b[0m\u001b[1;33m,\u001b[0m \u001b[0mTypeError\u001b[0m\u001b[1;33m)\u001b[0m\u001b[1;33m:\u001b[0m\u001b[1;33m\u001b[0m\u001b[1;33m\u001b[0m\u001b[0m\n",
      "\u001b[1;32m~\\Anaconda3\\envs\\lasso_environment\\lib\\site-packages\\pandas\\core\\dtypes\\cast.py\u001b[0m in \u001b[0;36mastype_nansafe\u001b[1;34m(arr, dtype, copy, skipna)\u001b[0m\n\u001b[0;32m    973\u001b[0m         \u001b[1;32mif\u001b[0m \u001b[0mnp\u001b[0m\u001b[1;33m.\u001b[0m\u001b[0missubdtype\u001b[0m\u001b[1;33m(\u001b[0m\u001b[0mdtype\u001b[0m\u001b[1;33m.\u001b[0m\u001b[0mtype\u001b[0m\u001b[1;33m,\u001b[0m \u001b[0mnp\u001b[0m\u001b[1;33m.\u001b[0m\u001b[0minteger\u001b[0m\u001b[1;33m)\u001b[0m\u001b[1;33m:\u001b[0m\u001b[1;33m\u001b[0m\u001b[1;33m\u001b[0m\u001b[0m\n\u001b[1;32m--> 974\u001b[1;33m             \u001b[1;32mreturn\u001b[0m \u001b[0mlib\u001b[0m\u001b[1;33m.\u001b[0m\u001b[0mastype_intsafe\u001b[0m\u001b[1;33m(\u001b[0m\u001b[0marr\u001b[0m\u001b[1;33m.\u001b[0m\u001b[0mravel\u001b[0m\u001b[1;33m(\u001b[0m\u001b[1;33m)\u001b[0m\u001b[1;33m,\u001b[0m \u001b[0mdtype\u001b[0m\u001b[1;33m)\u001b[0m\u001b[1;33m.\u001b[0m\u001b[0mreshape\u001b[0m\u001b[1;33m(\u001b[0m\u001b[0marr\u001b[0m\u001b[1;33m.\u001b[0m\u001b[0mshape\u001b[0m\u001b[1;33m)\u001b[0m\u001b[1;33m\u001b[0m\u001b[1;33m\u001b[0m\u001b[0m\n\u001b[0m\u001b[0;32m    975\u001b[0m \u001b[1;33m\u001b[0m\u001b[0m\n",
      "\u001b[1;32mpandas\\_libs\\lib.pyx\u001b[0m in \u001b[0;36mpandas._libs.lib.astype_intsafe\u001b[1;34m()\u001b[0m\n",
      "\u001b[1;31mValueError\u001b[0m: invalid literal for int() with base 10: ''",
      "\nDuring handling of the above exception, another exception occurred:\n",
      "\u001b[1;31mValueError\u001b[0m                                Traceback (most recent call last)",
      "\u001b[1;32m<ipython-input-30-bfc068c4e75d>\u001b[0m in \u001b[0;36m<module>\u001b[1;34m\u001b[0m\n\u001b[1;32m----> 1\u001b[1;33m \u001b[0mmodel_net\u001b[0m \u001b[1;33m=\u001b[0m \u001b[0mmtc\u001b[0m\u001b[1;33m.\u001b[0m\u001b[0mroadway_standard_to_mtc_network\u001b[0m\u001b[1;33m(\u001b[0m\u001b[0mmodel_net\u001b[0m\u001b[1;33m,\u001b[0m \u001b[0mparameters\u001b[0m\u001b[1;33m)\u001b[0m\u001b[1;33m\u001b[0m\u001b[1;33m\u001b[0m\u001b[0m\n\u001b[0m",
      "\u001b[1;32mc:\\users\\usgs667806\\lasso\\lasso\\mtc.py\u001b[0m in \u001b[0;36mroadway_standard_to_mtc_network\u001b[1;34m(roadway_network, parameters, output_proj)\u001b[0m\n\u001b[0;32m   1050\u001b[0m     \u001b[0mWranglerLogger\u001b[0m\u001b[1;33m.\u001b[0m\u001b[0minfo\u001b[0m\u001b[1;33m(\u001b[0m\u001b[1;34m\"Splitting variables by time period and category\"\u001b[0m\u001b[1;33m)\u001b[0m\u001b[1;33m\u001b[0m\u001b[1;33m\u001b[0m\u001b[0m\n\u001b[0;32m   1051\u001b[0m     \u001b[0mroadway_network\u001b[0m\u001b[1;33m.\u001b[0m\u001b[0msplit_properties_by_time_period_and_category\u001b[0m\u001b[1;33m(\u001b[0m\u001b[1;33m)\u001b[0m\u001b[1;33m\u001b[0m\u001b[1;33m\u001b[0m\u001b[0m\n\u001b[1;32m-> 1052\u001b[1;33m     \u001b[0mroadway_network\u001b[0m\u001b[1;33m.\u001b[0m\u001b[0mconvert_int\u001b[0m\u001b[1;33m(\u001b[0m\u001b[1;33m)\u001b[0m\u001b[1;33m\u001b[0m\u001b[1;33m\u001b[0m\u001b[0m\n\u001b[0m\u001b[0;32m   1053\u001b[0m \u001b[1;33m\u001b[0m\u001b[0m\n\u001b[0;32m   1054\u001b[0m     \u001b[0mroadway_network\u001b[0m\u001b[1;33m.\u001b[0m\u001b[0mlinks_mtc_df\u001b[0m \u001b[1;33m=\u001b[0m \u001b[0mroadway_network\u001b[0m\u001b[1;33m.\u001b[0m\u001b[0mlinks_df\u001b[0m\u001b[1;33m.\u001b[0m\u001b[0mcopy\u001b[0m\u001b[1;33m(\u001b[0m\u001b[1;33m)\u001b[0m\u001b[1;33m\u001b[0m\u001b[1;33m\u001b[0m\u001b[0m\n",
      "\u001b[1;32mc:\\users\\usgs667806\\lasso\\lasso\\roadway.py\u001b[0m in \u001b[0;36mconvert_int\u001b[1;34m(self, int_col_names)\u001b[0m\n\u001b[0;32m   1267\u001b[0m                 \u001b[0mself\u001b[0m\u001b[1;33m.\u001b[0m\u001b[0mlinks_df\u001b[0m\u001b[1;33m[\u001b[0m\u001b[0mc\u001b[0m\u001b[1;33m]\u001b[0m \u001b[1;33m=\u001b[0m \u001b[0mself\u001b[0m\u001b[1;33m.\u001b[0m\u001b[0mlinks_df\u001b[0m\u001b[1;33m[\u001b[0m\u001b[0mc\u001b[0m\u001b[1;33m]\u001b[0m\u001b[1;33m.\u001b[0m\u001b[0mastype\u001b[0m\u001b[1;33m(\u001b[0m\u001b[0mint\u001b[0m\u001b[1;33m)\u001b[0m\u001b[1;33m\u001b[0m\u001b[1;33m\u001b[0m\u001b[0m\n\u001b[0;32m   1268\u001b[0m             \u001b[1;32mexcept\u001b[0m\u001b[1;33m:\u001b[0m\u001b[1;33m\u001b[0m\u001b[1;33m\u001b[0m\u001b[0m\n\u001b[1;32m-> 1269\u001b[1;33m                 \u001b[0mself\u001b[0m\u001b[1;33m.\u001b[0m\u001b[0mlinks_df\u001b[0m\u001b[1;33m[\u001b[0m\u001b[0mc\u001b[0m\u001b[1;33m]\u001b[0m \u001b[1;33m=\u001b[0m \u001b[0mself\u001b[0m\u001b[1;33m.\u001b[0m\u001b[0mlinks_df\u001b[0m\u001b[1;33m[\u001b[0m\u001b[0mc\u001b[0m\u001b[1;33m]\u001b[0m\u001b[1;33m.\u001b[0m\u001b[0mastype\u001b[0m\u001b[1;33m(\u001b[0m\u001b[0mfloat\u001b[0m\u001b[1;33m)\u001b[0m\u001b[1;33m\u001b[0m\u001b[1;33m\u001b[0m\u001b[0m\n\u001b[0m\u001b[0;32m   1270\u001b[0m                 \u001b[0mself\u001b[0m\u001b[1;33m.\u001b[0m\u001b[0mlinks_df\u001b[0m\u001b[1;33m[\u001b[0m\u001b[0mc\u001b[0m\u001b[1;33m]\u001b[0m \u001b[1;33m=\u001b[0m \u001b[0mself\u001b[0m\u001b[1;33m.\u001b[0m\u001b[0mlinks_df\u001b[0m\u001b[1;33m[\u001b[0m\u001b[0mc\u001b[0m\u001b[1;33m]\u001b[0m\u001b[1;33m.\u001b[0m\u001b[0mastype\u001b[0m\u001b[1;33m(\u001b[0m\u001b[0mint\u001b[0m\u001b[1;33m)\u001b[0m\u001b[1;33m\u001b[0m\u001b[1;33m\u001b[0m\u001b[0m\n\u001b[0;32m   1271\u001b[0m \u001b[1;33m\u001b[0m\u001b[0m\n",
      "\u001b[1;32m~\\Anaconda3\\envs\\lasso_environment\\lib\\site-packages\\pandas\\core\\generic.py\u001b[0m in \u001b[0;36mastype\u001b[1;34m(self, dtype, copy, errors)\u001b[0m\n\u001b[0;32m   5546\u001b[0m         \u001b[1;32melse\u001b[0m\u001b[1;33m:\u001b[0m\u001b[1;33m\u001b[0m\u001b[1;33m\u001b[0m\u001b[0m\n\u001b[0;32m   5547\u001b[0m             \u001b[1;31m# else, only a single dtype is given\u001b[0m\u001b[1;33m\u001b[0m\u001b[1;33m\u001b[0m\u001b[1;33m\u001b[0m\u001b[0m\n\u001b[1;32m-> 5548\u001b[1;33m             \u001b[0mnew_data\u001b[0m \u001b[1;33m=\u001b[0m \u001b[0mself\u001b[0m\u001b[1;33m.\u001b[0m\u001b[0m_mgr\u001b[0m\u001b[1;33m.\u001b[0m\u001b[0mastype\u001b[0m\u001b[1;33m(\u001b[0m\u001b[0mdtype\u001b[0m\u001b[1;33m=\u001b[0m\u001b[0mdtype\u001b[0m\u001b[1;33m,\u001b[0m \u001b[0mcopy\u001b[0m\u001b[1;33m=\u001b[0m\u001b[0mcopy\u001b[0m\u001b[1;33m,\u001b[0m \u001b[0merrors\u001b[0m\u001b[1;33m=\u001b[0m\u001b[0merrors\u001b[0m\u001b[1;33m,\u001b[0m\u001b[1;33m)\u001b[0m\u001b[1;33m\u001b[0m\u001b[1;33m\u001b[0m\u001b[0m\n\u001b[0m\u001b[0;32m   5549\u001b[0m             \u001b[1;32mreturn\u001b[0m \u001b[0mself\u001b[0m\u001b[1;33m.\u001b[0m\u001b[0m_constructor\u001b[0m\u001b[1;33m(\u001b[0m\u001b[0mnew_data\u001b[0m\u001b[1;33m)\u001b[0m\u001b[1;33m.\u001b[0m\u001b[0m__finalize__\u001b[0m\u001b[1;33m(\u001b[0m\u001b[0mself\u001b[0m\u001b[1;33m,\u001b[0m \u001b[0mmethod\u001b[0m\u001b[1;33m=\u001b[0m\u001b[1;34m\"astype\"\u001b[0m\u001b[1;33m)\u001b[0m\u001b[1;33m\u001b[0m\u001b[1;33m\u001b[0m\u001b[0m\n\u001b[0;32m   5550\u001b[0m \u001b[1;33m\u001b[0m\u001b[0m\n",
      "\u001b[1;32m~\\Anaconda3\\envs\\lasso_environment\\lib\\site-packages\\pandas\\core\\internals\\managers.py\u001b[0m in \u001b[0;36mastype\u001b[1;34m(self, dtype, copy, errors)\u001b[0m\n\u001b[0;32m    602\u001b[0m         \u001b[0mself\u001b[0m\u001b[1;33m,\u001b[0m \u001b[0mdtype\u001b[0m\u001b[1;33m,\u001b[0m \u001b[0mcopy\u001b[0m\u001b[1;33m:\u001b[0m \u001b[0mbool\u001b[0m \u001b[1;33m=\u001b[0m \u001b[1;32mFalse\u001b[0m\u001b[1;33m,\u001b[0m \u001b[0merrors\u001b[0m\u001b[1;33m:\u001b[0m \u001b[0mstr\u001b[0m \u001b[1;33m=\u001b[0m \u001b[1;34m\"raise\"\u001b[0m\u001b[1;33m\u001b[0m\u001b[1;33m\u001b[0m\u001b[0m\n\u001b[0;32m    603\u001b[0m     ) -> \"BlockManager\":\n\u001b[1;32m--> 604\u001b[1;33m         \u001b[1;32mreturn\u001b[0m \u001b[0mself\u001b[0m\u001b[1;33m.\u001b[0m\u001b[0mapply\u001b[0m\u001b[1;33m(\u001b[0m\u001b[1;34m\"astype\"\u001b[0m\u001b[1;33m,\u001b[0m \u001b[0mdtype\u001b[0m\u001b[1;33m=\u001b[0m\u001b[0mdtype\u001b[0m\u001b[1;33m,\u001b[0m \u001b[0mcopy\u001b[0m\u001b[1;33m=\u001b[0m\u001b[0mcopy\u001b[0m\u001b[1;33m,\u001b[0m \u001b[0merrors\u001b[0m\u001b[1;33m=\u001b[0m\u001b[0merrors\u001b[0m\u001b[1;33m)\u001b[0m\u001b[1;33m\u001b[0m\u001b[1;33m\u001b[0m\u001b[0m\n\u001b[0m\u001b[0;32m    605\u001b[0m \u001b[1;33m\u001b[0m\u001b[0m\n\u001b[0;32m    606\u001b[0m     def convert(\n",
      "\u001b[1;32m~\\Anaconda3\\envs\\lasso_environment\\lib\\site-packages\\pandas\\core\\internals\\managers.py\u001b[0m in \u001b[0;36mapply\u001b[1;34m(self, f, align_keys, **kwargs)\u001b[0m\n\u001b[0;32m    407\u001b[0m                 \u001b[0mapplied\u001b[0m \u001b[1;33m=\u001b[0m \u001b[0mb\u001b[0m\u001b[1;33m.\u001b[0m\u001b[0mapply\u001b[0m\u001b[1;33m(\u001b[0m\u001b[0mf\u001b[0m\u001b[1;33m,\u001b[0m \u001b[1;33m**\u001b[0m\u001b[0mkwargs\u001b[0m\u001b[1;33m)\u001b[0m\u001b[1;33m\u001b[0m\u001b[1;33m\u001b[0m\u001b[0m\n\u001b[0;32m    408\u001b[0m             \u001b[1;32melse\u001b[0m\u001b[1;33m:\u001b[0m\u001b[1;33m\u001b[0m\u001b[1;33m\u001b[0m\u001b[0m\n\u001b[1;32m--> 409\u001b[1;33m                 \u001b[0mapplied\u001b[0m \u001b[1;33m=\u001b[0m \u001b[0mgetattr\u001b[0m\u001b[1;33m(\u001b[0m\u001b[0mb\u001b[0m\u001b[1;33m,\u001b[0m \u001b[0mf\u001b[0m\u001b[1;33m)\u001b[0m\u001b[1;33m(\u001b[0m\u001b[1;33m**\u001b[0m\u001b[0mkwargs\u001b[0m\u001b[1;33m)\u001b[0m\u001b[1;33m\u001b[0m\u001b[1;33m\u001b[0m\u001b[0m\n\u001b[0m\u001b[0;32m    410\u001b[0m             \u001b[0mresult_blocks\u001b[0m \u001b[1;33m=\u001b[0m \u001b[0m_extend_blocks\u001b[0m\u001b[1;33m(\u001b[0m\u001b[0mapplied\u001b[0m\u001b[1;33m,\u001b[0m \u001b[0mresult_blocks\u001b[0m\u001b[1;33m)\u001b[0m\u001b[1;33m\u001b[0m\u001b[1;33m\u001b[0m\u001b[0m\n\u001b[0;32m    411\u001b[0m \u001b[1;33m\u001b[0m\u001b[0m\n",
      "\u001b[1;32m~\\Anaconda3\\envs\\lasso_environment\\lib\\site-packages\\pandas\\core\\internals\\blocks.py\u001b[0m in \u001b[0;36mastype\u001b[1;34m(self, dtype, copy, errors)\u001b[0m\n\u001b[0;32m    593\u001b[0m             \u001b[0mvals1d\u001b[0m \u001b[1;33m=\u001b[0m \u001b[0mvalues\u001b[0m\u001b[1;33m.\u001b[0m\u001b[0mravel\u001b[0m\u001b[1;33m(\u001b[0m\u001b[1;33m)\u001b[0m\u001b[1;33m\u001b[0m\u001b[1;33m\u001b[0m\u001b[0m\n\u001b[0;32m    594\u001b[0m             \u001b[1;32mtry\u001b[0m\u001b[1;33m:\u001b[0m\u001b[1;33m\u001b[0m\u001b[1;33m\u001b[0m\u001b[0m\n\u001b[1;32m--> 595\u001b[1;33m                 \u001b[0mvalues\u001b[0m \u001b[1;33m=\u001b[0m \u001b[0mastype_nansafe\u001b[0m\u001b[1;33m(\u001b[0m\u001b[0mvals1d\u001b[0m\u001b[1;33m,\u001b[0m \u001b[0mdtype\u001b[0m\u001b[1;33m,\u001b[0m \u001b[0mcopy\u001b[0m\u001b[1;33m=\u001b[0m\u001b[1;32mTrue\u001b[0m\u001b[1;33m)\u001b[0m\u001b[1;33m\u001b[0m\u001b[1;33m\u001b[0m\u001b[0m\n\u001b[0m\u001b[0;32m    596\u001b[0m             \u001b[1;32mexcept\u001b[0m \u001b[1;33m(\u001b[0m\u001b[0mValueError\u001b[0m\u001b[1;33m,\u001b[0m \u001b[0mTypeError\u001b[0m\u001b[1;33m)\u001b[0m\u001b[1;33m:\u001b[0m\u001b[1;33m\u001b[0m\u001b[1;33m\u001b[0m\u001b[0m\n\u001b[0;32m    597\u001b[0m                 \u001b[1;31m# e.g. astype_nansafe can fail on object-dtype of strings\u001b[0m\u001b[1;33m\u001b[0m\u001b[1;33m\u001b[0m\u001b[1;33m\u001b[0m\u001b[0m\n",
      "\u001b[1;32m~\\Anaconda3\\envs\\lasso_environment\\lib\\site-packages\\pandas\\core\\dtypes\\cast.py\u001b[0m in \u001b[0;36mastype_nansafe\u001b[1;34m(arr, dtype, copy, skipna)\u001b[0m\n\u001b[0;32m    995\u001b[0m     \u001b[1;32mif\u001b[0m \u001b[0mcopy\u001b[0m \u001b[1;32mor\u001b[0m \u001b[0mis_object_dtype\u001b[0m\u001b[1;33m(\u001b[0m\u001b[0marr\u001b[0m\u001b[1;33m)\u001b[0m \u001b[1;32mor\u001b[0m \u001b[0mis_object_dtype\u001b[0m\u001b[1;33m(\u001b[0m\u001b[0mdtype\u001b[0m\u001b[1;33m)\u001b[0m\u001b[1;33m:\u001b[0m\u001b[1;33m\u001b[0m\u001b[1;33m\u001b[0m\u001b[0m\n\u001b[0;32m    996\u001b[0m         \u001b[1;31m# Explicit copy, or required since NumPy can't view from / to object.\u001b[0m\u001b[1;33m\u001b[0m\u001b[1;33m\u001b[0m\u001b[1;33m\u001b[0m\u001b[0m\n\u001b[1;32m--> 997\u001b[1;33m         \u001b[1;32mreturn\u001b[0m \u001b[0marr\u001b[0m\u001b[1;33m.\u001b[0m\u001b[0mastype\u001b[0m\u001b[1;33m(\u001b[0m\u001b[0mdtype\u001b[0m\u001b[1;33m,\u001b[0m \u001b[0mcopy\u001b[0m\u001b[1;33m=\u001b[0m\u001b[1;32mTrue\u001b[0m\u001b[1;33m)\u001b[0m\u001b[1;33m\u001b[0m\u001b[1;33m\u001b[0m\u001b[0m\n\u001b[0m\u001b[0;32m    998\u001b[0m \u001b[1;33m\u001b[0m\u001b[0m\n\u001b[0;32m    999\u001b[0m     \u001b[1;32mreturn\u001b[0m \u001b[0marr\u001b[0m\u001b[1;33m.\u001b[0m\u001b[0mview\u001b[0m\u001b[1;33m(\u001b[0m\u001b[0mdtype\u001b[0m\u001b[1;33m)\u001b[0m\u001b[1;33m\u001b[0m\u001b[1;33m\u001b[0m\u001b[0m\n",
      "\u001b[1;31mValueError\u001b[0m: could not convert string to float: "
     ]
    }
   ],
   "source": [
    "model_net = mtc.roadway_standard_to_mtc_network(model_net, parameters)"
   ]
  },
  {
   "cell_type": "code",
   "execution_count": null,
   "metadata": {},
   "outputs": [],
   "source": [
    "model_net.links_df.shape"
   ]
  },
  {
   "cell_type": "code",
   "execution_count": null,
   "metadata": {},
   "outputs": [],
   "source": [
    "model_net.links_df.model_link_id.nunique()"
   ]
  },
  {
   "cell_type": "code",
   "execution_count": null,
   "metadata": {},
   "outputs": [],
   "source": [
    "model_net.nodes_mtc_df.shape"
   ]
  },
  {
   "cell_type": "code",
   "execution_count": null,
   "metadata": {},
   "outputs": [],
   "source": [
    "model_net.nodes_df.model_node_id.nunique()"
   ]
  },
  {
   "cell_type": "markdown",
   "metadata": {},
   "source": [
    "## Write to Disk"
   ]
  },
  {
   "cell_type": "markdown",
   "metadata": {},
   "source": [
    "## As shapefile"
   ]
  },
  {
   "cell_type": "code",
   "execution_count": null,
   "metadata": {},
   "outputs": [],
   "source": [
    "model_net.write_roadway_as_shp(\n",
    "    output_link_shp = os.path.join(output_dir, 'links.shp'),\n",
    "    output_node_shp = os.path.join(output_dir, 'nodes.shp'),\n",
    "    link_output_variables = [\"model_link_id\", \"A\", \"B\", \"geometry\"],\n",
    "    node_output_variables = [\"model_node_id\", \"geometry\"],\n",
    "    data_to_csv = False,\n",
    "    data_to_dbf = True,\n",
    ")"
   ]
  },
  {
   "cell_type": "markdown",
   "metadata": {},
   "source": [
    "## As fixed width (for CUBE)"
   ]
  },
  {
   "cell_type": "code",
   "execution_count": null,
   "metadata": {},
   "outputs": [],
   "source": [
    "model_net.write_roadway_as_fixedwidth(\n",
    "    output_link_txt = os.path.join(output_dir, 'links.txt'),\n",
    "    output_node_txt = os.path.join(output_dir, 'nodes.txt'),\n",
    "    output_link_header_width_txt = os.path.join(output_dir, 'links_header_width.txt'),\n",
    "    output_node_header_width_txt = os.path.join(output_dir, 'nodes_header_width.txt'),\n",
    "    output_cube_network_script = os.path.join(output_dir, 'make_complete_network_from_fixed_width_file.s'),\n",
    "    #drive_only = True\n",
    ")"
   ]
  },
  {
   "cell_type": "code",
   "execution_count": null,
   "metadata": {},
   "outputs": [],
   "source": [
    "%%capture\n",
    "os.chdir(output_dir)\n",
    "!make_cube.bat"
   ]
  },
  {
   "cell_type": "code",
   "execution_count": null,
   "metadata": {},
   "outputs": [],
   "source": [
    "%%capture\n",
    "!runtpp make_simple_roadway_network.s\n",
    "!runtpp make_complete_marin_network.s\n",
    "!runtpp make_simple_transit_network.s\n",
    "!runtpp make_highway_ext_stn_connector_network.s"
   ]
  },
  {
   "cell_type": "markdown",
   "metadata": {},
   "source": [
    "## As transit line file (for CUBE)"
   ]
  },
  {
   "cell_type": "code",
   "execution_count": null,
   "metadata": {},
   "outputs": [],
   "source": [
    "standard_transit_net = StandardTransit.fromTransitNetwork(v_05_scenario.transit_net, parameters = parameters)\n",
    "mtc.write_as_cube_lin(standard_transit_net, parameters, outpath = os.path.join(output_dir, \"transit.lin\"))"
   ]
  },
  {
   "cell_type": "markdown",
   "metadata": {},
   "source": [
    "## As pickle"
   ]
  },
  {
   "cell_type": "code",
   "execution_count": null,
   "metadata": {},
   "outputs": [],
   "source": [
    "working_scenario_filename = os.path.join(output_dir, 'working_scenario_04.pickle')\n",
    "pickle.dump(v_04_scenario, open(working_scenario_filename, 'wb'))"
   ]
  },
  {
   "cell_type": "markdown",
   "metadata": {},
   "source": [
    "## As standard network"
   ]
  },
  {
   "cell_type": "code",
   "execution_count": null,
   "metadata": {},
   "outputs": [],
   "source": [
    "model_net.write(path = output_dir, filename = \"v04\")"
   ]
  },
  {
   "cell_type": "code",
   "execution_count": null,
   "metadata": {},
   "outputs": [],
   "source": []
  }
 ],
 "metadata": {
  "kernelspec": {
   "display_name": "Python 3",
   "language": "python",
   "name": "python3"
  },
  "language_info": {
   "codemirror_mode": {
    "name": "ipython",
    "version": 3
   },
   "file_extension": ".py",
   "mimetype": "text/x-python",
   "name": "python",
   "nbconvert_exporter": "python",
   "pygments_lexer": "ipython3",
   "version": "3.7.9"
  }
 },
 "nbformat": 4,
 "nbformat_minor": 4
}
