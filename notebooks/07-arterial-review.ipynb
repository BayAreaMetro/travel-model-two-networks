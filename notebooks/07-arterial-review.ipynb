{
 "cells": [
  {
   "cell_type": "markdown",
   "metadata": {},
   "source": [
    "# 07 arterial QA/QC"
   ]
  },
  {
   "cell_type": "code",
   "execution_count": 1,
   "metadata": {},
   "outputs": [],
   "source": [
    "import os\n",
    "import sys\n",
    "import yaml\n",
    "import pickle\n",
    "import glob\n",
    "import copy\n",
    "\n",
    "import pandas as pd\n",
    "\n",
    "from network_wrangler import RoadwayNetwork\n",
    "from network_wrangler import TransitNetwork\n",
    "from network_wrangler import ProjectCard\n",
    "from network_wrangler import Scenario\n",
    "from network_wrangler import WranglerLogger\n",
    "\n",
    "from lasso import ModelRoadwayNetwork\n",
    "from lasso import StandardTransit\n",
    "from lasso import Parameters\n",
    "from lasso import mtc"
   ]
  },
  {
   "cell_type": "code",
   "execution_count": 2,
   "metadata": {},
   "outputs": [],
   "source": [
    "%load_ext autoreload\n",
    "%autoreload 2"
   ]
  },
  {
   "cell_type": "code",
   "execution_count": 3,
   "metadata": {},
   "outputs": [],
   "source": [
    "import logging\n",
    "logger = logging.getLogger(\"WranglerLogger\")\n",
    "logger.handlers[0].stream = sys.stdout\n",
    "logger.setLevel(logging.INFO)"
   ]
  },
  {
   "cell_type": "markdown",
   "metadata": {},
   "source": [
    "## Remote I/O and Parameters"
   ]
  },
  {
   "cell_type": "code",
   "execution_count": 4,
   "metadata": {},
   "outputs": [],
   "source": [
    "# root_dir = os.path.join('/Users', 'wsp', 'Documents', 'GitHub', 'travel-model-two-networks')\n",
    "root_dir = \"D:/github/lfs-cleaning/travel-model-two-networks\"\n",
    "input_dir = os.path.join(root_dir, 'data', 'processed', 'version_05')\n",
    "output_dir = os.path.join(root_dir, 'data', 'processed', 'version_06')\n",
    "card_dir = os.path.join(root_dir, 'project_cards')\n",
    "# lasso_dir = os.path.join('/Users', 'wsp', 'Documents', 'GitHub', 'mtc-Lasso')\n",
    "lasso_dir = \"Z:/Data/Users/Sijia/MTC/github/Lasso\""
   ]
  },
  {
   "cell_type": "code",
   "execution_count": 5,
   "metadata": {},
   "outputs": [
    {
     "name": "stdout",
     "output_type": "stream",
     "text": [
      "2021-03-11 16:04:16, INFO: Lasso base directory set as: Z:/Data/Users/Sijia/MTC/github/Lasso\n",
      "2021-03-11 16:04:16, INFO: Lasso base directory set as: Z:/Data/Users/Sijia/MTC/github/Lasso\n",
      "2021-03-11 16:04:16, INFO: Lasso base directory set as: Z:/Data/Users/Sijia/MTC/github/Lasso\n",
      "2021-03-11 16:04:16, INFO: Lasso base directory set as: Z:/Data/Users/Sijia/MTC/github/Lasso\n"
     ]
    }
   ],
   "source": [
    "parameters = Parameters(lasso_base_dir = lasso_dir)"
   ]
  },
  {
   "cell_type": "markdown",
   "metadata": {},
   "source": [
    "## Read Version 06 Scenario"
   ]
  },
  {
   "cell_type": "code",
   "execution_count": 6,
   "metadata": {},
   "outputs": [],
   "source": [
    "version_06_pickle_file_name = os.path.join(input_dir, 'working_scenario_06.pickle')\n",
    "v_06_scenario = pickle.load(open(version_06_pickle_file_name, 'rb'))"
   ]
  },
  {
   "cell_type": "code",
   "execution_count": 7,
   "metadata": {},
   "outputs": [
    {
     "data": {
      "text/plain": [
       "(2190435, 44)"
      ]
     },
     "execution_count": 7,
     "metadata": {},
     "output_type": "execute_result"
    }
   ],
   "source": [
    "v_06_scenario.road_net.links_df.shape"
   ]
  },
  {
   "cell_type": "code",
   "execution_count": 8,
   "metadata": {},
   "outputs": [
    {
     "data": {
      "text/plain": [
       "{'default': 3,\n",
       " 'timeofday': [{'time': (21600, 36000), 'value': 4},\n",
       "  {'time': (54000, 68400), 'value': 2}]}"
      ]
     },
     "execution_count": 8,
     "metadata": {},
     "output_type": "execute_result"
    }
   ],
   "source": [
    "v_06_scenario.road_net.links_df[\n",
    "    v_06_scenario.road_net.links_df.model_link_id == 8016300].iloc[0].lanes"
   ]
  },
  {
   "cell_type": "code",
   "execution_count": 9,
   "metadata": {},
   "outputs": [
    {
     "data": {
      "text/plain": [
       "109.0    3453\n",
       "88.0     1527\n",
       "81.0      226\n",
       "71.0      207\n",
       "102.0     179\n",
       "         ... \n",
       "63.0        1\n",
       "62.0        1\n",
       "61.0        1\n",
       "1.0         1\n",
       "128.0       1\n",
       "Name: farezone, Length: 203, dtype: int64"
      ]
     },
     "execution_count": 9,
     "metadata": {},
     "output_type": "execute_result"
    }
   ],
   "source": [
    "v_06_scenario.road_net.nodes_df.farezone.value_counts()"
   ]
  },
  {
   "cell_type": "markdown",
   "metadata": {},
   "source": [
    "## Create Scenario and Apply Project Cards"
   ]
  },
  {
   "cell_type": "code",
   "execution_count": 10,
   "metadata": {
    "scrolled": false
   },
   "outputs": [
    {
     "name": "stdout",
     "output_type": "stream",
     "text": [
      "2021-03-11 16:05:45, INFO: Creating Scenario\n",
      "2021-03-11 16:05:45, INFO: Creating Scenario\n"
     ]
    },
    {
     "name": "stderr",
     "output_type": "stream",
     "text": [
      "z:\\data\\users\\sijia\\mtc\\github\\network_wrangler\\network_wrangler\\projectcard.py:115: YAMLLoadWarning: calling yaml.load() without Loader=... is deprecated, as the default Loader is unsafe. Please read https://msg.pyyaml.org/load for full details.\n",
      "  attribute_dictionary = yaml.load(_yaml)\n"
     ]
    }
   ],
   "source": [
    "v_07_scenario = Scenario.create_scenario(\n",
    "    base_scenario= v_06_scenario,\n",
    "    card_directory = card_dir,\n",
    "    tags = [\"Major Arterial Review\"],\n",
    "    validate_project_cards=False)"
   ]
  },
  {
   "cell_type": "code",
   "execution_count": 11,
   "metadata": {
    "scrolled": true
   },
   "outputs": [
    {
     "name": "stdout",
     "output_type": "stream",
     "text": [
      "2021-03-11 16:05:54, INFO: Applying Year 2015 Correct As Is\n",
      "2021-03-11 16:05:54, INFO: Applying Year 2015 Correct As Is\n",
      "2021-03-11 16:05:54, INFO: Applying Year 2015 Correct As Is\n",
      "2021-03-11 16:05:54, INFO: Applying Year 2015 Correct As Is\n",
      "2021-03-11 16:05:54, INFO: Applying Project to Roadway Network: Year 2015 Correct As Is\n",
      "2021-03-11 16:05:54, INFO: Applying Project to Roadway Network: Year 2015 Correct As Is\n",
      "2021-03-11 16:06:22, INFO: Applying Year 2015 Should be 7 Lane should be Expressway\n",
      "2021-03-11 16:06:22, INFO: Applying Year 2015 Should be 7 Lane should be Expressway\n",
      "2021-03-11 16:06:22, INFO: Applying Year 2015 Should be 7 Lane should be Expressway\n",
      "2021-03-11 16:06:22, INFO: Applying Year 2015 Should be 7 Lane should be Expressway\n",
      "2021-03-11 16:06:22, INFO: Applying Project to Roadway Network: Year 2015 Should be 7 Lane should be Expressway\n",
      "2021-03-11 16:06:22, INFO: Applying Project to Roadway Network: Year 2015 Should be 7 Lane should be Expressway\n"
     ]
    },
    {
     "name": "stderr",
     "output_type": "stream",
     "text": [
      "c:\\users\\wangs1\\.conda\\envs\\lasso_mtc\\lib\\site-packages\\geopandas\\geodataframe.py:853: SettingWithCopyWarning: \n",
      "A value is trying to be set on a copy of a slice from a DataFrame.\n",
      "Try using .loc[row_indexer,col_indexer] = value instead\n",
      "\n",
      "See the caveats in the documentation: http://pandas.pydata.org/pandas-docs/stable/user_guide/indexing.html#returning-a-view-versus-a-copy\n",
      "  super(GeoDataFrame, self).__setitem__(key, value)\n"
     ]
    },
    {
     "name": "stdout",
     "output_type": "stream",
     "text": [
      "2021-03-11 16:06:22, INFO: Applying Year 2015 Should be 6 Lane should be Expressway\n",
      "2021-03-11 16:06:22, INFO: Applying Year 2015 Should be 6 Lane should be Expressway\n",
      "2021-03-11 16:06:22, INFO: Applying Year 2015 Should be 6 Lane should be Expressway\n",
      "2021-03-11 16:06:22, INFO: Applying Year 2015 Should be 6 Lane should be Expressway\n",
      "2021-03-11 16:06:22, INFO: Applying Project to Roadway Network: Year 2015 Should be 6 Lane should be Expressway\n",
      "2021-03-11 16:06:22, INFO: Applying Project to Roadway Network: Year 2015 Should be 6 Lane should be Expressway\n",
      "2021-03-11 16:06:22, INFO: Applying Year 2015 Should be 6 Lane should be Divided Arterial\n",
      "2021-03-11 16:06:22, INFO: Applying Year 2015 Should be 6 Lane should be Divided Arterial\n",
      "2021-03-11 16:06:22, INFO: Applying Year 2015 Should be 6 Lane should be Divided Arterial\n",
      "2021-03-11 16:06:22, INFO: Applying Year 2015 Should be 6 Lane should be Divided Arterial\n",
      "2021-03-11 16:06:22, INFO: Applying Project to Roadway Network: Year 2015 Should be 6 Lane should be Divided Arterial\n",
      "2021-03-11 16:06:22, INFO: Applying Project to Roadway Network: Year 2015 Should be 6 Lane should be Divided Arterial\n",
      "2021-03-11 16:06:22, INFO: Applying Year 2015 Should be 5 Lane should be Expressway\n",
      "2021-03-11 16:06:22, INFO: Applying Year 2015 Should be 5 Lane should be Expressway\n",
      "2021-03-11 16:06:22, INFO: Applying Year 2015 Should be 5 Lane should be Expressway\n",
      "2021-03-11 16:06:22, INFO: Applying Year 2015 Should be 5 Lane should be Expressway\n",
      "2021-03-11 16:06:22, INFO: Applying Project to Roadway Network: Year 2015 Should be 5 Lane should be Expressway\n",
      "2021-03-11 16:06:22, INFO: Applying Project to Roadway Network: Year 2015 Should be 5 Lane should be Expressway\n",
      "2021-03-11 16:06:23, INFO: Applying Year 2015 Should be 5 Lane should be Divided Arterial\n",
      "2021-03-11 16:06:23, INFO: Applying Year 2015 Should be 5 Lane should be Divided Arterial\n",
      "2021-03-11 16:06:23, INFO: Applying Year 2015 Should be 5 Lane should be Divided Arterial\n",
      "2021-03-11 16:06:23, INFO: Applying Year 2015 Should be 5 Lane should be Divided Arterial\n",
      "2021-03-11 16:06:23, INFO: Applying Project to Roadway Network: Year 2015 Should be 5 Lane should be Divided Arterial\n",
      "2021-03-11 16:06:23, INFO: Applying Project to Roadway Network: Year 2015 Should be 5 Lane should be Divided Arterial\n",
      "2021-03-11 16:06:23, INFO: Applying Year 2015 Should be 5 Lane correct facility type\n",
      "2021-03-11 16:06:23, INFO: Applying Year 2015 Should be 5 Lane correct facility type\n",
      "2021-03-11 16:06:23, INFO: Applying Year 2015 Should be 5 Lane correct facility type\n",
      "2021-03-11 16:06:23, INFO: Applying Year 2015 Should be 5 Lane correct facility type\n",
      "2021-03-11 16:06:23, INFO: Applying Project to Roadway Network: Year 2015 Should be 5 Lane correct facility type\n",
      "2021-03-11 16:06:23, INFO: Applying Project to Roadway Network: Year 2015 Should be 5 Lane correct facility type\n",
      "2021-03-11 16:06:23, INFO: Applying Year 2015 Should be 4 Lane should be Expressway\n",
      "2021-03-11 16:06:23, INFO: Applying Year 2015 Should be 4 Lane should be Expressway\n",
      "2021-03-11 16:06:23, INFO: Applying Year 2015 Should be 4 Lane should be Expressway\n",
      "2021-03-11 16:06:23, INFO: Applying Year 2015 Should be 4 Lane should be Expressway\n",
      "2021-03-11 16:06:23, INFO: Applying Project to Roadway Network: Year 2015 Should be 4 Lane should be Expressway\n",
      "2021-03-11 16:06:23, INFO: Applying Project to Roadway Network: Year 2015 Should be 4 Lane should be Expressway\n",
      "2021-03-11 16:06:24, INFO: Applying Year 2015 Should be 4 Lane should be Divided Arterial\n",
      "2021-03-11 16:06:24, INFO: Applying Year 2015 Should be 4 Lane should be Divided Arterial\n",
      "2021-03-11 16:06:24, INFO: Applying Year 2015 Should be 4 Lane should be Divided Arterial\n",
      "2021-03-11 16:06:24, INFO: Applying Year 2015 Should be 4 Lane should be Divided Arterial\n",
      "2021-03-11 16:06:24, INFO: Applying Project to Roadway Network: Year 2015 Should be 4 Lane should be Divided Arterial\n",
      "2021-03-11 16:06:24, INFO: Applying Project to Roadway Network: Year 2015 Should be 4 Lane should be Divided Arterial\n",
      "2021-03-11 16:06:25, INFO: Applying Year 2015 Should be 4 Lane correct facility type\n",
      "2021-03-11 16:06:25, INFO: Applying Year 2015 Should be 4 Lane correct facility type\n",
      "2021-03-11 16:06:25, INFO: Applying Year 2015 Should be 4 Lane correct facility type\n",
      "2021-03-11 16:06:25, INFO: Applying Year 2015 Should be 4 Lane correct facility type\n",
      "2021-03-11 16:06:25, INFO: Applying Project to Roadway Network: Year 2015 Should be 4 Lane correct facility type\n",
      "2021-03-11 16:06:25, INFO: Applying Project to Roadway Network: Year 2015 Should be 4 Lane correct facility type\n",
      "2021-03-11 16:06:25, INFO: Applying Year 2015 Should be 3 Lane should be Expressway\n",
      "2021-03-11 16:06:25, INFO: Applying Year 2015 Should be 3 Lane should be Expressway\n",
      "2021-03-11 16:06:25, INFO: Applying Year 2015 Should be 3 Lane should be Expressway\n",
      "2021-03-11 16:06:25, INFO: Applying Year 2015 Should be 3 Lane should be Expressway\n",
      "2021-03-11 16:06:25, INFO: Applying Project to Roadway Network: Year 2015 Should be 3 Lane should be Expressway\n",
      "2021-03-11 16:06:25, INFO: Applying Project to Roadway Network: Year 2015 Should be 3 Lane should be Expressway\n",
      "2021-03-11 16:06:26, INFO: Applying Year 2015 Should be 3 Lane should be Divided Arterial\n",
      "2021-03-11 16:06:26, INFO: Applying Year 2015 Should be 3 Lane should be Divided Arterial\n",
      "2021-03-11 16:06:26, INFO: Applying Year 2015 Should be 3 Lane should be Divided Arterial\n",
      "2021-03-11 16:06:26, INFO: Applying Year 2015 Should be 3 Lane should be Divided Arterial\n",
      "2021-03-11 16:06:26, INFO: Applying Project to Roadway Network: Year 2015 Should be 3 Lane should be Divided Arterial\n",
      "2021-03-11 16:06:26, INFO: Applying Project to Roadway Network: Year 2015 Should be 3 Lane should be Divided Arterial\n",
      "2021-03-11 16:06:29, INFO: Applying Year 2015 Should be 3 Lane correct facility type\n",
      "2021-03-11 16:06:29, INFO: Applying Year 2015 Should be 3 Lane correct facility type\n",
      "2021-03-11 16:06:29, INFO: Applying Year 2015 Should be 3 Lane correct facility type\n",
      "2021-03-11 16:06:29, INFO: Applying Year 2015 Should be 3 Lane correct facility type\n",
      "2021-03-11 16:06:29, INFO: Applying Project to Roadway Network: Year 2015 Should be 3 Lane correct facility type\n",
      "2021-03-11 16:06:29, INFO: Applying Project to Roadway Network: Year 2015 Should be 3 Lane correct facility type\n",
      "2021-03-11 16:06:30, INFO: Applying Year 2015 Should be 2 Lane should be Divided Arterial\n",
      "2021-03-11 16:06:30, INFO: Applying Year 2015 Should be 2 Lane should be Divided Arterial\n",
      "2021-03-11 16:06:30, INFO: Applying Year 2015 Should be 2 Lane should be Divided Arterial\n",
      "2021-03-11 16:06:30, INFO: Applying Year 2015 Should be 2 Lane should be Divided Arterial\n",
      "2021-03-11 16:06:30, INFO: Applying Project to Roadway Network: Year 2015 Should be 2 Lane should be Divided Arterial\n",
      "2021-03-11 16:06:30, INFO: Applying Project to Roadway Network: Year 2015 Should be 2 Lane should be Divided Arterial\n",
      "2021-03-11 16:06:35, INFO: Applying Year 2015 Should be 2 Lane correct facility type\n",
      "2021-03-11 16:06:35, INFO: Applying Year 2015 Should be 2 Lane correct facility type\n",
      "2021-03-11 16:06:35, INFO: Applying Year 2015 Should be 2 Lane correct facility type\n",
      "2021-03-11 16:06:35, INFO: Applying Year 2015 Should be 2 Lane correct facility type\n",
      "2021-03-11 16:06:35, INFO: Applying Project to Roadway Network: Year 2015 Should be 2 Lane correct facility type\n",
      "2021-03-11 16:06:35, INFO: Applying Project to Roadway Network: Year 2015 Should be 2 Lane correct facility type\n",
      "2021-03-11 16:06:35, INFO: Applying Year 2015 Should be 1 Lane should be Divided Arterial\n",
      "2021-03-11 16:06:35, INFO: Applying Year 2015 Should be 1 Lane should be Divided Arterial\n",
      "2021-03-11 16:06:35, INFO: Applying Year 2015 Should be 1 Lane should be Divided Arterial\n",
      "2021-03-11 16:06:35, INFO: Applying Year 2015 Should be 1 Lane should be Divided Arterial\n",
      "2021-03-11 16:06:35, INFO: Applying Project to Roadway Network: Year 2015 Should be 1 Lane should be Divided Arterial\n",
      "2021-03-11 16:06:35, INFO: Applying Project to Roadway Network: Year 2015 Should be 1 Lane should be Divided Arterial\n",
      "2021-03-11 16:06:36, INFO: Applying Year 2015 Should be 1 Lane correct facility type\n",
      "2021-03-11 16:06:36, INFO: Applying Year 2015 Should be 1 Lane correct facility type\n"
     ]
    },
    {
     "name": "stdout",
     "output_type": "stream",
     "text": [
      "2021-03-11 16:06:36, INFO: Applying Year 2015 Should be 1 Lane correct facility type\n",
      "2021-03-11 16:06:36, INFO: Applying Year 2015 Should be 1 Lane correct facility type\n",
      "2021-03-11 16:06:36, INFO: Applying Project to Roadway Network: Year 2015 Should be 1 Lane correct facility type\n",
      "2021-03-11 16:06:36, INFO: Applying Project to Roadway Network: Year 2015 Should be 1 Lane correct facility type\n",
      "2021-03-11 16:06:42, INFO: Applying Year 2015 Should be 3 Lane should be Undivided Arterial\n",
      "2021-03-11 16:06:42, INFO: Applying Year 2015 Should be 3 Lane should be Undivided Arterial\n",
      "2021-03-11 16:06:42, INFO: Applying Year 2015 Should be 3 Lane should be Undivided Arterial\n",
      "2021-03-11 16:06:42, INFO: Applying Year 2015 Should be 3 Lane should be Undivided Arterial\n",
      "2021-03-11 16:06:42, INFO: Applying Project to Roadway Network: Year 2015 Should be 3 Lane should be Undivided Arterial\n",
      "2021-03-11 16:06:42, INFO: Applying Project to Roadway Network: Year 2015 Should be 3 Lane should be Undivided Arterial\n",
      "2021-03-11 16:06:42, INFO: Applying Year 2015 Should be 2 Lane should be Undivided Arterial\n",
      "2021-03-11 16:06:42, INFO: Applying Year 2015 Should be 2 Lane should be Undivided Arterial\n",
      "2021-03-11 16:06:42, INFO: Applying Year 2015 Should be 2 Lane should be Undivided Arterial\n",
      "2021-03-11 16:06:42, INFO: Applying Year 2015 Should be 2 Lane should be Undivided Arterial\n",
      "2021-03-11 16:06:42, INFO: Applying Project to Roadway Network: Year 2015 Should be 2 Lane should be Undivided Arterial\n",
      "2021-03-11 16:06:42, INFO: Applying Project to Roadway Network: Year 2015 Should be 2 Lane should be Undivided Arterial\n",
      "2021-03-11 16:06:44, INFO: Applying Year 2015 Lane correct should be Undivided Arterial\n",
      "2021-03-11 16:06:44, INFO: Applying Year 2015 Lane correct should be Undivided Arterial\n",
      "2021-03-11 16:06:44, INFO: Applying Year 2015 Lane correct should be Undivided Arterial\n",
      "2021-03-11 16:06:44, INFO: Applying Year 2015 Lane correct should be Undivided Arterial\n",
      "2021-03-11 16:06:44, INFO: Applying Project to Roadway Network: Year 2015 Lane correct should be Undivided Arterial\n",
      "2021-03-11 16:06:44, INFO: Applying Project to Roadway Network: Year 2015 Lane correct should be Undivided Arterial\n",
      "2021-03-11 16:06:47, INFO: Applying Year 2015 Lanes Correct should be Expressway\n",
      "2021-03-11 16:06:47, INFO: Applying Year 2015 Lanes Correct should be Expressway\n",
      "2021-03-11 16:06:47, INFO: Applying Year 2015 Lanes Correct should be Expressway\n",
      "2021-03-11 16:06:47, INFO: Applying Year 2015 Lanes Correct should be Expressway\n",
      "2021-03-11 16:06:47, INFO: Applying Project to Roadway Network: Year 2015 Lanes Correct should be Expressway\n",
      "2021-03-11 16:06:47, INFO: Applying Project to Roadway Network: Year 2015 Lanes Correct should be Expressway\n",
      "2021-03-11 16:06:51, INFO: Applying Year 2015 Correct As Is should be Divided Arterial part 4\n",
      "2021-03-11 16:06:51, INFO: Applying Year 2015 Correct As Is should be Divided Arterial part 4\n",
      "2021-03-11 16:06:51, INFO: Applying Year 2015 Correct As Is should be Divided Arterial part 4\n",
      "2021-03-11 16:06:51, INFO: Applying Year 2015 Correct As Is should be Divided Arterial part 4\n",
      "2021-03-11 16:06:51, INFO: Applying Project to Roadway Network: Year 2015 Correct As Is should be Divided Arterial part 4\n",
      "2021-03-11 16:06:51, INFO: Applying Project to Roadway Network: Year 2015 Correct As Is should be Divided Arterial part 4\n",
      "2021-03-11 16:07:02, INFO: Applying Year 2015 Correct As Is should be Divided Arterial part 3\n",
      "2021-03-11 16:07:02, INFO: Applying Year 2015 Correct As Is should be Divided Arterial part 3\n",
      "2021-03-11 16:07:02, INFO: Applying Year 2015 Correct As Is should be Divided Arterial part 3\n",
      "2021-03-11 16:07:02, INFO: Applying Year 2015 Correct As Is should be Divided Arterial part 3\n",
      "2021-03-11 16:07:02, INFO: Applying Project to Roadway Network: Year 2015 Correct As Is should be Divided Arterial part 3\n",
      "2021-03-11 16:07:02, INFO: Applying Project to Roadway Network: Year 2015 Correct As Is should be Divided Arterial part 3\n",
      "2021-03-11 16:07:12, INFO: Applying Year 2015 Correct As Is should be Divided Arterial part 2\n",
      "2021-03-11 16:07:12, INFO: Applying Year 2015 Correct As Is should be Divided Arterial part 2\n",
      "2021-03-11 16:07:12, INFO: Applying Year 2015 Correct As Is should be Divided Arterial part 2\n",
      "2021-03-11 16:07:12, INFO: Applying Year 2015 Correct As Is should be Divided Arterial part 2\n",
      "2021-03-11 16:07:12, INFO: Applying Project to Roadway Network: Year 2015 Correct As Is should be Divided Arterial part 2\n",
      "2021-03-11 16:07:12, INFO: Applying Project to Roadway Network: Year 2015 Correct As Is should be Divided Arterial part 2\n",
      "2021-03-11 16:07:35, INFO: Applying Year 2015 Correct As Is should be Divided Arterial part 1\n",
      "2021-03-11 16:07:35, INFO: Applying Year 2015 Correct As Is should be Divided Arterial part 1\n",
      "2021-03-11 16:07:35, INFO: Applying Year 2015 Correct As Is should be Divided Arterial part 1\n",
      "2021-03-11 16:07:35, INFO: Applying Year 2015 Correct As Is should be Divided Arterial part 1\n",
      "2021-03-11 16:07:35, INFO: Applying Project to Roadway Network: Year 2015 Correct As Is should be Divided Arterial part 1\n",
      "2021-03-11 16:07:35, INFO: Applying Project to Roadway Network: Year 2015 Correct As Is should be Divided Arterial part 1\n"
     ]
    }
   ],
   "source": [
    "v_07_scenario.apply_all_projects()"
   ]
  },
  {
   "cell_type": "code",
   "execution_count": 12,
   "metadata": {
    "scrolled": false
   },
   "outputs": [
    {
     "data": {
      "text/plain": [
       "['Year 2015 Modify Facility Type to Service',\n",
       " 'Year 2015 Modify Facility Type to Ramp shape incorrect',\n",
       " 'Year 2015 Modify Facility Type to Ramp',\n",
       " 'Year 2015 Modify Lanes to 2 Lane and Facility Type to Ramp shape incorrect',\n",
       " 'Year 2015 Modify Lanes to 2 Lane and Facility Type to Ramp',\n",
       " 'Year 2015 Modify Lanes to 1 Lane and Facility Type to Ramp',\n",
       " 'Year 2015 Bus Only Segments',\n",
       " 'Year 2015 Modify Lanes to 7 Lanes',\n",
       " 'Year 2015 Modify Lanes to 6 Lanes',\n",
       " 'Year 2015 Modify Lanes to 5 Lanes',\n",
       " 'Year 2015 Modify Lanes to 4 Lanes',\n",
       " 'Year 2015 Modify Lanes to 3 Lanes',\n",
       " 'Year 2015 Modify Lanes to 2 Lanes',\n",
       " 'Year 2015 Modify Lanes to 1 Lane',\n",
       " 'Year 2015 Modify Lanes to 14 Lanes',\n",
       " 'Year 2015 Modify HOV Lanes and USE on US-101 SB from South of Healdsburg to North of Petaluma',\n",
       " 'Year 2015 Modify USE and HOV Lanes on US-101 SB (Segment 02) from South of Healdsburg to North of Petaluma',\n",
       " 'Year 2015 Modify HOV Lanes and USE on US 101 SB CA-85 to Oregon Expressway',\n",
       " 'Year 2015 Modify HOV Lanes and USE on US 101 SB CA-85 to Cochrane Road',\n",
       " 'Year 2015 Modify HOV Lanes and USE on US-101 NB (Segment 02) from North of Petaluma to South of Healdsburg',\n",
       " 'Year 2015 Modify HOV Lanes and USE on US 101 NB Oregon Expressway to Whipple Road',\n",
       " 'Year 2015 Modify HOV Lanes and USE on US-101 NB from North of Petaluma to South of Healdsburg',\n",
       " 'Year 2015 Modify HOV Lanes and USE on US 101 NB Cochran Road to CA-85',\n",
       " 'Year 2015 Modify HOV Lanes and USE on San Tomas Expressway SB I-880 to Hwy 17',\n",
       " 'Year 2015 Modify HOV Lanes and USE on San Tomas Expressway NB Hwy 17 to I-880',\n",
       " 'Year 2015 Modify HOV Lanes and USE on Lawrence Expressway SB US 101 to I-280',\n",
       " 'Year 2015 Modify HOV Lanes and USE on Lawrence Expressway NB I-280 to US 101',\n",
       " 'Year 2015 Modify HOV Lanes and USE on Ramp Connecting I880 and Bay Bridge Plaza',\n",
       " 'Year 2015 Modify HOV Lanes and USE on I-880 SB from Hegenberger Road to Dixon Road',\n",
       " 'Year 2015 Modify Express Lanes and USE on I-880 SB Dixon Road to CA-237',\n",
       " 'Year 2015 Modify HOV Lanes and USE on I-880 SB CA-237 to US 101',\n",
       " 'Year 2015 Modify HOV lanes and USE on I-880 NB US 101 to CA-237',\n",
       " 'Year 2015 Modify HOV Lanes and USE on I-880 NB from Dixon Road to I-238',\n",
       " 'Year 2015 Modify Express Lanes and USE on I-880 NB CA-237 to Dixon Road',\n",
       " 'Year 2015 Modify USE on I-80 WB to Bay Bridge Toll Plaza',\n",
       " 'Year 2015 Modify HOV Lanes and USE on I-80 WB from Fairfield to I-680',\n",
       " 'Year 2015 Modify HOV Lanes and USE on I-80 WB from Carquinez Bridge to Bay Bridge Toll Plaza',\n",
       " 'Year 2015 Modify HOV Lanes and USE on I-80 EB from I-680 to Fairfield',\n",
       " 'Year 2015 Modify HOV Lanes and USE on I-80 EB from Bay Bridge to Carquinez Bridge Toll Plaza',\n",
       " 'Year 2015 Modify HOV Lanes and USE on I-680 SB from Rudgear Road to Acosta Blvd',\n",
       " 'Year 2015 Modify HOV Lanes and USE on I-680 SB from Benicia Bridge to CA-242',\n",
       " 'Year 2015 Modify HOV Lanes USE on I-680 NB CA-242 to Benicia Bridge',\n",
       " 'Year 2015 Modify HOV Lanes and USE on I-680 NB from Acosta Blvd to Rudgear Road',\n",
       " 'Year 2015 Modify HOV lanes and USE on Hwy 4 WB from Deer Valley Road to Port Chicago Highway',\n",
       " 'Year 2015 Modify HOV Lanes and USE on Hwy 4 EB from Port Chicago Highway to Deer Valley Road',\n",
       " 'Year 2015 Modify HOV Lanes and USE on E Capitol Expressway SB I-680 to US 101',\n",
       " 'Year 2015 Modify HOV Lanes and USE on E Capitol Expressway NB US101 to I-680',\n",
       " 'Year 2015 Modify HOV Lanes and USE on CA-92 WB Eden Landing Rd to San Mateo-Hayward Bridge Toll Plaza',\n",
       " 'Year 2015 Modify HOV Lanes and USE on CA-87 SB US 101 to CA-85',\n",
       " 'Year 2015 Modify HOV Lanes and USE on CA 87 NB CA-85 to US 101',\n",
       " 'Year 2015 Modify HOV Lanes and USE on CA-85 SB US101 to US101',\n",
       " 'Year 2015 Modify HOV Lanes and USE on CA-85 NB US101 to US101',\n",
       " 'Year 2015 Modify HOV Lanes and USE on CA-84 WB I-880 to Dumbarton Bridge Toll Plaza',\n",
       " 'Year 2015 Modify HOV Lanes and USE on CA-280 SB Magdalena Ave to Southwest Expressway',\n",
       " 'Year 2015 Modify HOV Lanes and USE on CA-280 NB Bascom Ave to Magdalena Ave',\n",
       " 'Year 2015 Modify HOV Lanes and USE on CA-237 WB North 1st Street to US 101',\n",
       " 'Year 2015 Modify HOV Lanes and USE on CA-237 EB US 101 to North 1st Street',\n",
       " 'Year 2015 Bus Only Segments for Transbay Terminal Ramps',\n",
       " 'Year 2015 Bus Only Segments for Golden Gate Transit on US 101',\n",
       " 'Year 2015 Exclude Trucks on SR 85',\n",
       " 'Year 2015 Exclude Trucks on I580',\n",
       " 'Year 2015 Modify HOV Lanes and USE on San Mateo Bridge Toll Plaza Toll Plaza on CA-92 WB - Bridge Pass',\n",
       " 'Year 2015 Modify HOV Lanes and USE on Benicia Bridge Toll Plaza - Segment 03 - Bridge Pass',\n",
       " 'Year 2015 Modify HOV Lanes and USE on Richmond-San Rafael Bridge Toll Plaza - Bridge Pass',\n",
       " 'Year 2015 Modify Express Lanes and USE on I-680 SB Washington Blvd to Mission Blvd',\n",
       " 'Year 2015 Modify Express Lanes and USE on I-680 SB Mission Blvd to CA-237',\n",
       " 'Year 2015 Modify Express Lanes and USE on I-680 SB Andrade Road to Washington Blvd',\n",
       " 'Year 2015 Modify USE on I-580 WB Springtown Blvd to Isabel Ave',\n",
       " 'Year 2015 Modify USE on I-580 WB Isabel Ave to Fallon Road',\n",
       " 'Year 2015 Modify USE on I-580 WB Hacienda Drive to San Ramon Road',\n",
       " 'Year 2015 Modify USE on I-580 WB Greenville Road to Springtown Blvd',\n",
       " 'Year 2015 Modify USE on I-580 WB Fallon Road to Hacienda Drive',\n",
       " 'Year 2015 Modify Express Lanes and USE on I-580 EB Vasco Road to Greenville Road',\n",
       " 'Year 2015 Modify Express Lanes and USE on I-580 EB (segment 02) Livermore Ave to Vasco Road',\n",
       " 'Year 2015 Modify Express Lanes and USE on I-580 EB (segment 02) Hacienda Drive to Airway Blvd',\n",
       " 'Year 2015 Modify Express Lanes and USE on I-580 EB (segment 01) Livermore Ave to Vasco Road',\n",
       " 'Year 2015 Modify Express Lanes and USE on I-580 EB (segment 01) Hacienda Drive to Airway_Blvd',\n",
       " 'Year 2015 Modify Express Lanes and USE on I-580 EB Airway Blvd to Livermore Ave',\n",
       " 'Year 2015 Modify Express Lanes and USE on CA-237 WB I-880 to CA-262 Mission Blvd',\n",
       " 'Year 2015 Modify Express Lanes and USE on CA-237 EB SR-262 Mission Blvd to I-880',\n",
       " 'Year 2015 Modify HOV Lanes and USE on Benicia Bridge Toll Plaza - Segment 02 - Bridge Pass',\n",
       " 'Year 2015 Modify HOV Lanes and USE on Benicia Bridge Toll Plaza - Bridge Pass',\n",
       " 'Year 2015 Modify HOV Lanes-Fastrak Lanes and USE on San Francisco-Oakland Bay Bridge WB Toll Plaza segment 03 - Bridge Pass',\n",
       " 'Year 2015 Modify HOV Lanes-Fastrak Lanes and USE on San Francisco-Oakland Bay Bridge WB Toll Plaza segment 02 - Bridge Pass',\n",
       " 'Year 2015 Modify HOV Lanes-Fastrak Lanes and USE on San Francisco-Oakland Bay Bridge WB Toll Plaza - Bridge Pass',\n",
       " 'Year 2015 Modify HOV Lanes and USE on Dumbarton Bridge Toll Plaza Toll Plaza on CA-84 WB - Bridge Pass',\n",
       " 'Year 2015 Modify HOV Lanes and USE on Carquinez Bridge Toll Plaza on I-80 NB - Bridge Pass',\n",
       " 'Year 2015 Modify HOV Lanes-Fastrak Lanes and USE on Antioch Bridge NB on Route 160 - Bridge Pass',\n",
       " 'Year 2015 Add centroid connector at External Station connecting William Elton Brown Freeway I-580 SB',\n",
       " 'Year 2015 Add centroid connector at External Station connecting William Elton Brown Freeway I-580 NB',\n",
       " 'Year 2015 Add centroid connector at External Station connecting Vic Fazio Highway CA-113 NB',\n",
       " 'Year 2015 Add centroid connector at External Station connecting Vic Fazio Freeway CA-113 SB',\n",
       " 'Year 2015 Add centroid connector at External Station connecting South Valley Freeway US-101 SB',\n",
       " 'Year 2015 Add centroid connector at External Station connecting South Valley Freeway US-101 NB',\n",
       " 'Year 2015 Add centroid connector at External Station connecting Skyline Boulevard CA-35 SB',\n",
       " 'Year 2015 Add centroid connector at External Station connecting Skyline Boulevard CA-35 NB',\n",
       " 'Year 2015 Add centroid connector at External Station connecting Santa Cruz Highway CA-17 SB',\n",
       " 'Year 2015 Add centroid connector at External Station connecting Santa Cruz Highway CA-17 NB',\n",
       " 'Year 2015 Add centroid connector at External Station connecting Redwood Highway US-101 SB',\n",
       " 'Year 2015 Add centroid connector at External Station connecting Redwood Highway US-101 NB',\n",
       " 'Year 2015 Add centroid connector at External Station connecting Pacheco Pass Highway CA-156 SB',\n",
       " 'Year 2015 Add centroid connector at External Station connecting Pacheco Pass Highway CA-156 NB',\n",
       " 'Year 2015 Add centroid connector at External Station connecting Pacheco Pass Highway CA-152 SB',\n",
       " 'Year 2015 Add centroid connector at External Station connecting Pacheco Pass Highway CA-152 NB',\n",
       " 'Year 2015 Add centroid connector at External Station connecting I-505 SB',\n",
       " 'Year 2015 Add centroid connector at External Station connecting I-505 NB',\n",
       " 'Year 2015 Add centroid connector at External Station connecting Geysers Road SB',\n",
       " 'Year 2015 Add centroid connector at External Station connecting Geysers Road NB',\n",
       " 'Year 2015 Add centroid connector at External Station connecting Dwight D Eisenhower Highway I-80 WB',\n",
       " 'Year 2015 Add centroid connector at External Station connecting Dwight D Eisenhower Highway I-80 EB',\n",
       " 'Year 2015 Add centroid connector at External Station connecting Cabrillo Highway CA-1 SB',\n",
       " 'Year 2015 Add centroid connector at External Station connecting Cabrillo Highway CA-1 NB',\n",
       " 'Year 2015 Add centroid connector at External Station connecting Antioch Bridge CA-160 SB',\n",
       " 'Year 2015 Add centroid connector at External Station connecting Antioch Bridge CA-160 NB',\n",
       " 'year 2015 sterling on ramp HOV only in PM',\n",
       " 'year 2015 golden gate reversible lanes',\n",
       " 'Year 2015 Correct As Is',\n",
       " 'Year 2015 Should be 7 Lane should be Expressway',\n",
       " 'Year 2015 Should be 6 Lane should be Expressway',\n",
       " 'Year 2015 Should be 6 Lane should be Divided Arterial',\n",
       " 'Year 2015 Should be 5 Lane should be Expressway',\n",
       " 'Year 2015 Should be 5 Lane should be Divided Arterial',\n",
       " 'Year 2015 Should be 5 Lane correct facility type',\n",
       " 'Year 2015 Should be 4 Lane should be Expressway',\n",
       " 'Year 2015 Should be 4 Lane should be Divided Arterial',\n",
       " 'Year 2015 Should be 4 Lane correct facility type',\n",
       " 'Year 2015 Should be 3 Lane should be Expressway',\n",
       " 'Year 2015 Should be 3 Lane should be Divided Arterial',\n",
       " 'Year 2015 Should be 3 Lane correct facility type',\n",
       " 'Year 2015 Should be 2 Lane should be Divided Arterial',\n",
       " 'Year 2015 Should be 2 Lane correct facility type',\n",
       " 'Year 2015 Should be 1 Lane should be Divided Arterial',\n",
       " 'Year 2015 Should be 1 Lane correct facility type',\n",
       " 'Year 2015 Should be 3 Lane should be Undivided Arterial',\n",
       " 'Year 2015 Should be 2 Lane should be Undivided Arterial',\n",
       " 'Year 2015 Lane correct should be Undivided Arterial',\n",
       " 'Year 2015 Lanes Correct should be Expressway',\n",
       " 'Year 2015 Correct As Is should be Divided Arterial part 4',\n",
       " 'Year 2015 Correct As Is should be Divided Arterial part 3',\n",
       " 'Year 2015 Correct As Is should be Divided Arterial part 2',\n",
       " 'Year 2015 Correct As Is should be Divided Arterial part 1']"
      ]
     },
     "execution_count": 12,
     "metadata": {},
     "output_type": "execute_result"
    }
   ],
   "source": [
    "v_07_scenario.applied_projects"
   ]
  },
  {
   "cell_type": "code",
   "execution_count": 13,
   "metadata": {
    "scrolled": true
   },
   "outputs": [
    {
     "name": "stdout",
     "output_type": "stream",
     "text": [
      "<class 'geopandas.geodataframe.GeoDataFrame'>\n",
      "RangeIndex: 2190435 entries, 0 to 2190434\n",
      "Data columns (total 44 columns):\n",
      "access                object\n",
      "bike_access           object\n",
      "drive_access          object\n",
      "fromIntersectionId    object\n",
      "lanes                 object\n",
      "maxspeed              object\n",
      "name                  object\n",
      "oneWay                object\n",
      "ref                   object\n",
      "roadway               object\n",
      "shstGeometryId        object\n",
      "shstReferenceId       object\n",
      "toIntersectionId      object\n",
      "u                     object\n",
      "v                     object\n",
      "walk_access           object\n",
      "wayId                 object\n",
      "county                object\n",
      "model_link_id         int64\n",
      "A                     int64\n",
      "B                     int64\n",
      "rail_traveltime       object\n",
      "rail_only             object\n",
      "locationReferences    object\n",
      "shape_id              object\n",
      "geometry              geometry\n",
      "ft_cal                object\n",
      "ft                    int64\n",
      "useclass              object\n",
      "assignable            object\n",
      "transit               object\n",
      "bus_only              object\n",
      "managed               object\n",
      "ML_lanes              object\n",
      "segment_id            object\n",
      "ML_useclass           object\n",
      "ML_access             object\n",
      "ML_egress             object\n",
      "tollseg               object\n",
      "transit_access        object\n",
      "tollbooth             object\n",
      "ML_tollbooth          object\n",
      "ML_tollseg            object\n",
      "id                    object\n",
      "dtypes: geometry(1), int64(4), object(39)\n",
      "memory usage: 735.3+ MB\n"
     ]
    }
   ],
   "source": [
    "v_07_scenario.road_net.links_df.info()"
   ]
  },
  {
   "cell_type": "markdown",
   "metadata": {},
   "source": [
    "## Make Travel Model Networks"
   ]
  },
  {
   "cell_type": "code",
   "execution_count": 14,
   "metadata": {
    "scrolled": true
   },
   "outputs": [
    {
     "name": "stdout",
     "output_type": "stream",
     "text": [
      "2021-03-11 16:13:56, INFO: Lasso base directory set as: Z:/Data/Users/Sijia/MTC/github/Lasso\n",
      "2021-03-11 16:13:56, INFO: Lasso base directory set as: Z:/Data/Users/Sijia/MTC/github/Lasso\n",
      "2021-03-11 16:13:56, INFO: Lasso base directory set as: Z:/Data/Users/Sijia/MTC/github/Lasso\n",
      "2021-03-11 16:13:56, INFO: Lasso base directory set as: Z:/Data/Users/Sijia/MTC/github/Lasso\n"
     ]
    }
   ],
   "source": [
    "model_net = ModelRoadwayNetwork.from_RoadwayNetwork(\n",
    "    roadway_network_object = v_07_scenario.road_net, \n",
    "    parameters = parameters)"
   ]
  },
  {
   "cell_type": "code",
   "execution_count": 15,
   "metadata": {},
   "outputs": [
    {
     "name": "stdout",
     "output_type": "stream",
     "text": [
      "(2190435, 44)\n",
      "(688957, 12)\n",
      "(1147816, 7)\n"
     ]
    }
   ],
   "source": [
    "print(model_net.links_df.shape)\n",
    "print(model_net.nodes_df.shape)\n",
    "print(model_net.shapes_df.shape)"
   ]
  },
  {
   "cell_type": "code",
   "execution_count": 16,
   "metadata": {},
   "outputs": [
    {
     "data": {
      "text/plain": [
       "2190435"
      ]
     },
     "execution_count": 16,
     "metadata": {},
     "output_type": "execute_result"
    }
   ],
   "source": [
    "model_net.links_df.model_link_id.nunique()"
   ]
  },
  {
   "cell_type": "code",
   "execution_count": 17,
   "metadata": {},
   "outputs": [
    {
     "name": "stdout",
     "output_type": "stream",
     "text": [
      "2021-03-11 16:13:56, INFO: Adding tap and tap connector to standard network\n",
      "2021-03-11 16:13:56, INFO: Adding tap and tap connector to standard network\n",
      "2021-03-11 16:13:56, INFO: Lasso base directory set as: Z:/Data/Users/Sijia/MTC/github/Lasso\n",
      "2021-03-11 16:13:56, INFO: Lasso base directory set as: Z:/Data/Users/Sijia/MTC/github/Lasso\n",
      "2021-03-11 16:13:56, INFO: Lasso base directory set as: Z:/Data/Users/Sijia/MTC/github/Lasso\n",
      "2021-03-11 16:13:56, INFO: Lasso base directory set as: Z:/Data/Users/Sijia/MTC/github/Lasso\n",
      "2021-03-11 16:14:01, INFO: Finished adding tap and tap connectors\n",
      "2021-03-11 16:14:01, INFO: Finished adding tap and tap connectors\n"
     ]
    }
   ],
   "source": [
    "model_net = mtc.add_tap_and_tap_connector(\n",
    "    roadway_network = model_net,\n",
    "    parameters = parameters)"
   ]
  },
  {
   "cell_type": "code",
   "execution_count": 18,
   "metadata": {},
   "outputs": [
    {
     "name": "stdout",
     "output_type": "stream",
     "text": [
      "(2225677, 44)\n",
      "(694957, 12)\n",
      "(1165437, 7)\n"
     ]
    }
   ],
   "source": [
    "print(model_net.links_df.shape)\n",
    "print(model_net.nodes_df.shape)\n",
    "print(model_net.shapes_df.shape)"
   ]
  },
  {
   "cell_type": "code",
   "execution_count": 19,
   "metadata": {},
   "outputs": [
    {
     "data": {
      "text/plain": [
       "2225677"
      ]
     },
     "execution_count": 19,
     "metadata": {},
     "output_type": "execute_result"
    }
   ],
   "source": [
    "model_net.links_df.model_link_id.nunique()"
   ]
  },
  {
   "cell_type": "code",
   "execution_count": 20,
   "metadata": {},
   "outputs": [
    {
     "data": {
      "text/plain": [
       "694957"
      ]
     },
     "execution_count": 20,
     "metadata": {},
     "output_type": "execute_result"
    }
   ],
   "source": [
    "model_net.nodes_df.model_node_id.nunique()"
   ]
  },
  {
   "cell_type": "code",
   "execution_count": 21,
   "metadata": {},
   "outputs": [
    {
     "data": {
      "text/plain": [
       "1165437"
      ]
     },
     "execution_count": 21,
     "metadata": {},
     "output_type": "execute_result"
    }
   ],
   "source": [
    "model_net.shapes_df.id.nunique()"
   ]
  },
  {
   "cell_type": "code",
   "execution_count": 22,
   "metadata": {
    "scrolled": false
   },
   "outputs": [
    {
     "name": "stdout",
     "output_type": "stream",
     "text": [
      "2021-03-11 16:14:03, INFO: Renaming roadway attributes to be consistent with what mtc's model is expecting\n",
      "2021-03-11 16:14:03, INFO: Renaming roadway attributes to be consistent with what mtc's model is expecting\n",
      "2021-03-11 16:14:03, INFO: Creating managed lane network.\n",
      "2021-03-11 16:14:03, INFO: Creating managed lane network.\n",
      "2021-03-11 16:14:03, INFO: Creating network with duplicated managed lanes\n",
      "2021-03-11 16:14:03, INFO: Creating network with duplicated managed lanes\n"
     ]
    },
    {
     "name": "stderr",
     "output_type": "stream",
     "text": [
      "c:\\users\\wangs1\\.conda\\envs\\lasso_mtc\\lib\\site-packages\\geopandas\\geodataframe.py:853: SettingWithCopyWarning: \n",
      "A value is trying to be set on a copy of a slice from a DataFrame.\n",
      "Try using .loc[row_indexer,col_indexer] = value instead\n",
      "\n",
      "See the caveats in the documentation: http://pandas.pydata.org/pandas-docs/stable/user_guide/indexing.html#returning-a-view-versus-a-copy\n",
      "  super(GeoDataFrame, self).__setitem__(key, value)\n",
      "c:\\users\\wangs1\\.conda\\envs\\lasso_mtc\\lib\\site-packages\\geopandas\\geodataframe.py:852: UserWarning: Geometry column does not contain geometry.\n",
      "  warnings.warn(\"Geometry column does not contain geometry.\")\n",
      "c:\\users\\wangs1\\.conda\\envs\\lasso_mtc\\lib\\site-packages\\pandas\\core\\frame.py:7138: FutureWarning: Sorting because non-concatenation axis is not aligned. A future version\n",
      "of pandas will change to not sort by default.\n",
      "\n",
      "To accept the future behavior, pass 'sort=False'.\n",
      "\n",
      "To retain the current behavior and silence the warning, pass 'sort=True'.\n",
      "\n",
      "  sort=sort,\n",
      "c:\\users\\wangs1\\.conda\\envs\\lasso_mtc\\lib\\site-packages\\pandas\\core\\frame.py:7138: FutureWarning: Sorting because non-concatenation axis is not aligned. A future version\n",
      "of pandas will change to not sort by default.\n",
      "\n",
      "To accept the future behavior, pass 'sort=False'.\n",
      "\n",
      "To retain the current behavior and silence the warning, pass 'sort=True'.\n",
      "\n",
      "  sort=sort,\n"
     ]
    },
    {
     "name": "stdout",
     "output_type": "stream",
     "text": [
      "2021-03-11 16:30:05, INFO: Determining cntype\n",
      "2021-03-11 16:30:05, INFO: Determining cntype\n",
      "2021-03-11 16:30:05, INFO: Lasso base directory set as: Z:/Data/Users/Sijia/MTC/github/Lasso\n",
      "2021-03-11 16:30:05, INFO: Lasso base directory set as: Z:/Data/Users/Sijia/MTC/github/Lasso\n",
      "2021-03-11 16:30:05, INFO: Lasso base directory set as: Z:/Data/Users/Sijia/MTC/github/Lasso\n",
      "2021-03-11 16:30:05, INFO: Lasso base directory set as: Z:/Data/Users/Sijia/MTC/github/Lasso\n",
      "2021-03-11 16:30:05, INFO: Calculating and adding roadway network variable: cntype\n",
      "2021-03-11 16:30:05, INFO: Calculating and adding roadway network variable: cntype\n",
      "2021-03-11 16:31:30, INFO: Finished determining variable: cntype\n",
      "2021-03-11 16:31:30, INFO: Finished determining variable: cntype\n",
      "2021-03-11 16:31:30, INFO: Determining transit\n",
      "2021-03-11 16:31:30, INFO: Determining transit\n",
      "2021-03-11 16:31:30, INFO: Lasso base directory set as: Z:/Data/Users/Sijia/MTC/github/Lasso\n",
      "2021-03-11 16:31:30, INFO: Lasso base directory set as: Z:/Data/Users/Sijia/MTC/github/Lasso\n",
      "2021-03-11 16:31:30, INFO: Lasso base directory set as: Z:/Data/Users/Sijia/MTC/github/Lasso\n",
      "2021-03-11 16:31:30, INFO: Lasso base directory set as: Z:/Data/Users/Sijia/MTC/github/Lasso\n",
      "2021-03-11 16:31:30, INFO: Variable 'transit' updated for some links. Returning without overwriting for those links. Calculating for other links\n",
      "2021-03-11 16:31:30, INFO: Variable 'transit' updated for some links. Returning without overwriting for those links. Calculating for other links\n",
      "2021-03-11 16:31:30, INFO: Calculating and adding roadway network variable: transit\n",
      "2021-03-11 16:31:30, INFO: Calculating and adding roadway network variable: transit\n",
      "2021-03-11 16:31:31, INFO: Finished determining transit-only variable: transit\n",
      "2021-03-11 16:31:31, INFO: Finished determining transit-only variable: transit\n",
      "2021-03-11 16:31:31, INFO: Determining useclass\n",
      "2021-03-11 16:31:31, INFO: Determining useclass\n",
      "2021-03-11 16:31:31, INFO: Lasso base directory set as: Z:/Data/Users/Sijia/MTC/github/Lasso\n",
      "2021-03-11 16:31:31, INFO: Lasso base directory set as: Z:/Data/Users/Sijia/MTC/github/Lasso\n",
      "2021-03-11 16:31:31, INFO: Lasso base directory set as: Z:/Data/Users/Sijia/MTC/github/Lasso\n",
      "2021-03-11 16:31:31, INFO: Lasso base directory set as: Z:/Data/Users/Sijia/MTC/github/Lasso\n",
      "2021-03-11 16:31:31, INFO: Variable 'useclass' updated for some links. Returning without overwriting for those links. Calculating for other links\n",
      "2021-03-11 16:31:31, INFO: Variable 'useclass' updated for some links. Returning without overwriting for those links. Calculating for other links\n",
      "2021-03-11 16:31:31, INFO: Calculating and adding roadway network variable: useclass\n",
      "2021-03-11 16:31:31, INFO: Calculating and adding roadway network variable: useclass\n",
      "2021-03-11 16:31:31, INFO: Finished determining variable: useclass\n",
      "2021-03-11 16:31:31, INFO: Finished determining variable: useclass\n",
      "2021-03-11 16:31:31, INFO: Calculating Facility Type\n",
      "2021-03-11 16:31:31, INFO: Calculating Facility Type\n",
      "2021-03-11 16:31:31, INFO: Lasso base directory set as: Z:/Data/Users/Sijia/MTC/github/Lasso\n",
      "2021-03-11 16:31:31, INFO: Lasso base directory set as: Z:/Data/Users/Sijia/MTC/github/Lasso\n",
      "2021-03-11 16:31:32, INFO: Lasso base directory set as: Z:/Data/Users/Sijia/MTC/github/Lasso\n",
      "2021-03-11 16:31:32, INFO: Lasso base directory set as: Z:/Data/Users/Sijia/MTC/github/Lasso\n",
      "2021-03-11 16:31:32, INFO: Variable 'ft' updated for some links. Returning without overwriting for those links. Calculating for other links\n",
      "2021-03-11 16:31:32, INFO: Variable 'ft' updated for some links. Returning without overwriting for those links. Calculating for other links\n",
      "2021-03-11 16:34:56, INFO: Finished calculating roadway class variable: ft\n",
      "2021-03-11 16:34:56, INFO: Finished calculating roadway class variable: ft\n",
      "2021-03-11 16:34:57, INFO: Overwriting existing distance Variable 'distance' already in network\n",
      "2021-03-11 16:34:57, INFO: Overwriting existing distance Variable 'distance' already in network\n",
      "2021-03-11 16:35:56, INFO: Calculating distance for all links\n",
      "2021-03-11 16:35:56, INFO: Calculating distance for all links\n",
      "2021-03-11 16:36:00, INFO: Calculating distance for all links\n",
      "2021-03-11 16:36:00, INFO: Calculating distance for all links\n",
      "2021-03-11 16:36:08, INFO: Filling nan for network from network wrangler\n",
      "2021-03-11 16:36:08, INFO: Filling nan for network from network wrangler\n",
      "2021-03-11 16:36:43, INFO: Splitting variables by time period and category\n",
      "2021-03-11 16:36:43, INFO: Splitting variables by time period and category\n",
      "2021-03-11 16:36:51, WARNING: Specified variable to split: ML_lanes not in network variables: Index(['index', 'A', 'B', 'access', 'assignable', 'bike_access', 'bus_only',\n",
      "       'county', 'distance', 'drive_access', 'egress', 'fromIntersectionId',\n",
      "       'ft', 'ft_cal', 'geometry', 'id', 'lanes', 'locationReferences',\n",
      "       'managed', 'maxspeed', 'model_link_id', 'name', 'oneWay', 'rail_only',\n",
      "       'rail_traveltime', 'ref', 'roadway', 'segment_id', 'shape_id',\n",
      "       'shstGeometryId', 'shstReferenceId', 'toIntersectionId', 'tollbooth',\n",
      "       'tollseg', 'transit', 'transit_access', 'u', 'useclass', 'v',\n",
      "       'walk_access', 'wayId', 'cntype', 'lanes_EA', 'lanes_AM', 'lanes_MD',\n",
      "       'lanes_PM', 'lanes_EV'],\n",
      "      dtype='object'). Returning 0.\n",
      "2021-03-11 16:36:51, WARNING: Specified variable to split: ML_lanes not in network variables: Index(['index', 'A', 'B', 'access', 'assignable', 'bike_access', 'bus_only',\n",
      "       'county', 'distance', 'drive_access', 'egress', 'fromIntersectionId',\n",
      "       'ft', 'ft_cal', 'geometry', 'id', 'lanes', 'locationReferences',\n",
      "       'managed', 'maxspeed', 'model_link_id', 'name', 'oneWay', 'rail_only',\n",
      "       'rail_traveltime', 'ref', 'roadway', 'segment_id', 'shape_id',\n",
      "       'shstGeometryId', 'shstReferenceId', 'toIntersectionId', 'tollbooth',\n",
      "       'tollseg', 'transit', 'transit_access', 'u', 'useclass', 'v',\n",
      "       'walk_access', 'wayId', 'cntype', 'lanes_EA', 'lanes_AM', 'lanes_MD',\n",
      "       'lanes_PM', 'lanes_EV'],\n",
      "      dtype='object'). Returning 0.\n",
      "2021-03-11 16:36:59, INFO: Converting variable type to mtc standard\n",
      "2021-03-11 16:36:59, INFO: Converting variable type to mtc standard\n",
      "2021-03-11 16:37:46, INFO: Setting Coordinate Reference System to ESRI:102646\n",
      "2021-03-11 16:37:46, INFO: Setting Coordinate Reference System to ESRI:102646\n"
     ]
    }
   ],
   "source": [
    "model_net = mtc.roadway_standard_to_mtc_network(model_net, parameters)"
   ]
  },
  {
   "cell_type": "code",
   "execution_count": 23,
   "metadata": {},
   "outputs": [
    {
     "data": {
      "text/plain": [
       "(2230076, 57)"
      ]
     },
     "execution_count": 23,
     "metadata": {},
     "output_type": "execute_result"
    }
   ],
   "source": [
    "model_net.links_df.shape"
   ]
  },
  {
   "cell_type": "code",
   "execution_count": 24,
   "metadata": {},
   "outputs": [
    {
     "data": {
      "text/plain": [
       "2230076"
      ]
     },
     "execution_count": 24,
     "metadata": {},
     "output_type": "execute_result"
    }
   ],
   "source": [
    "model_net.links_df.model_link_id.nunique()"
   ]
  },
  {
   "cell_type": "code",
   "execution_count": 25,
   "metadata": {},
   "outputs": [
    {
     "data": {
      "text/plain": [
       "(696462, 13)"
      ]
     },
     "execution_count": 25,
     "metadata": {},
     "output_type": "execute_result"
    }
   ],
   "source": [
    "model_net.nodes_mtc_df.shape"
   ]
  },
  {
   "cell_type": "code",
   "execution_count": 26,
   "metadata": {},
   "outputs": [
    {
     "data": {
      "text/plain": [
       "696462"
      ]
     },
     "execution_count": 26,
     "metadata": {},
     "output_type": "execute_result"
    }
   ],
   "source": [
    "model_net.nodes_df.model_node_id.nunique()"
   ]
  },
  {
   "cell_type": "markdown",
   "metadata": {},
   "source": [
    "## Write to Disk"
   ]
  },
  {
   "cell_type": "markdown",
   "metadata": {},
   "source": [
    "## As shapefile"
   ]
  },
  {
   "cell_type": "code",
   "execution_count": 27,
   "metadata": {},
   "outputs": [
    {
     "name": "stdout",
     "output_type": "stream",
     "text": [
      "2021-03-11 16:39:23, INFO: Writing Network as Shapefile\n",
      "2021-03-11 16:39:23, INFO: Writing Network as Shapefile\n",
      "2021-03-11 16:39:23, INFO: Renaming DBF Node Variables\n",
      "2021-03-11 16:39:23, INFO: Renaming DBF Node Variables\n",
      "2021-03-11 16:39:23, INFO: Renaming variables so that they are DBF-safe\n",
      "2021-03-11 16:39:23, INFO: Renaming variables so that they are DBF-safe\n",
      "2021-03-11 16:39:35, INFO: Renaming DBF Link Variables\n",
      "2021-03-11 16:39:35, INFO: Renaming DBF Link Variables\n",
      "2021-03-11 16:39:35, INFO: Renaming variables so that they are DBF-safe\n",
      "2021-03-11 16:39:35, INFO: Renaming variables so that they are DBF-safe\n",
      "2021-03-11 16:39:39, INFO: Writing Node Shapes:\n",
      " - D:/github/lfs-cleaning/travel-model-two-networks\\data\\processed\\version_06\\nodes.shp\n",
      "2021-03-11 16:39:39, INFO: Writing Node Shapes:\n",
      " - D:/github/lfs-cleaning/travel-model-two-networks\\data\\processed\\version_06\\nodes.shp\n",
      "2021-03-11 16:40:24, INFO: Writing Link Shapes:\n",
      " - D:/github/lfs-cleaning/travel-model-two-networks\\data\\processed\\version_06\\links.shp\n",
      "2021-03-11 16:40:24, INFO: Writing Link Shapes:\n",
      " - D:/github/lfs-cleaning/travel-model-two-networks\\data\\processed\\version_06\\links.shp\n"
     ]
    }
   ],
   "source": [
    "model_net.write_roadway_as_shp(\n",
    "    output_link_shp = os.path.join(output_dir, 'links.shp'),\n",
    "    output_node_shp = os.path.join(output_dir, 'nodes.shp'),\n",
    "    link_output_variables = [\"model_link_id\", \"A\", \"B\", \"geometry\", \n",
    "                             \"drive_access\",\n",
    "                            'lanes_EA', 'lanes_AM',\n",
    "       'lanes_MD', 'lanes_PM', 'lanes_EV', \"useclass_AM\", \"useclass_MD\", \n",
    "                            \"useclass_PM\", \"useclass_EV\", \"useclass_EA\",\n",
    "                            \"cntype\", \"tollbooth\", \"tollseg\", \"ft\"],\n",
    "    node_output_variables = [\"model_node_id\", \"geometry\"],\n",
    "    data_to_csv = False,\n",
    "    data_to_dbf = True,\n",
    ")"
   ]
  },
  {
   "cell_type": "markdown",
   "metadata": {},
   "source": [
    "## As fixed width (for CUBE)"
   ]
  },
  {
   "cell_type": "code",
   "execution_count": 28,
   "metadata": {},
   "outputs": [
    {
     "name": "stdout",
     "output_type": "stream",
     "text": [
      "2021-03-11 16:48:07, INFO: Starting fixed width conversion\n",
      "2021-03-11 16:48:07, INFO: Starting fixed width conversion\n",
      "2021-03-11 17:11:58, INFO: Writing out link database\n",
      "2021-03-11 17:11:58, INFO: Writing out link database\n",
      "2021-03-11 17:12:15, INFO: Writing out link header and width ----\n",
      "2021-03-11 17:12:15, INFO: Writing out link header and width ----\n",
      "2021-03-11 17:12:15, INFO: Starting fixed width conversion\n",
      "2021-03-11 17:12:15, INFO: Starting fixed width conversion\n",
      "2021-03-11 17:14:16, INFO: Writing out node database\n",
      "2021-03-11 17:14:16, INFO: Writing out node database\n",
      "2021-03-11 17:14:18, INFO: Writing out node header and width\n",
      "2021-03-11 17:14:18, INFO: Writing out node header and width\n"
     ]
    }
   ],
   "source": [
    "model_net.write_roadway_as_fixedwidth(\n",
    "    output_link_txt = os.path.join(output_dir, 'links.txt'),\n",
    "    output_node_txt = os.path.join(output_dir, 'nodes.txt'),\n",
    "    output_link_header_width_txt = os.path.join(output_dir, 'links_header_width.txt'),\n",
    "    output_node_header_width_txt = os.path.join(output_dir, 'nodes_header_width.txt'),\n",
    "    output_cube_network_script = os.path.join(output_dir, 'make_complete_network_from_fixed_width_file.s'),\n",
    "    #drive_only = True\n",
    ")"
   ]
  },
  {
   "cell_type": "code",
   "execution_count": 29,
   "metadata": {},
   "outputs": [],
   "source": [
    "%%capture\n",
    "os.chdir(output_dir)\n",
    "!make_cube.bat"
   ]
  },
  {
   "cell_type": "code",
   "execution_count": 30,
   "metadata": {},
   "outputs": [],
   "source": [
    "%%capture\n",
    "!runtpp make_simple_roadway_network.s\n",
    "!runtpp make_complete_marin_network.s\n",
    "!runtpp make_simple_transit_network.s\n",
    "!runtpp make_highway_ext_stn_connector_network.s"
   ]
  },
  {
   "cell_type": "markdown",
   "metadata": {},
   "source": [
    "## As transit line file (for CUBE)"
   ]
  },
  {
   "cell_type": "code",
   "execution_count": 31,
   "metadata": {
    "scrolled": true
   },
   "outputs": [],
   "source": [
    "transfer_fare_df = mtc.write_cube_fare_files(\n",
    "    roadway_network=v_07_scenario.road_net,\n",
    "    transit_network=v_07_scenario.transit_net,\n",
    "    parameters=parameters,\n",
    "    outpath = os.path.join(output_dir)\n",
    ")"
   ]
  },
  {
   "cell_type": "code",
   "execution_count": 32,
   "metadata": {},
   "outputs": [
    {
     "name": "stdout",
     "output_type": "stream",
     "text": [
      "2021-03-11 17:14:23, INFO: Lasso base directory set as: Z:/Data/Users/Sijia/MTC/github/Lasso\n",
      "2021-03-11 17:14:23, INFO: Lasso base directory set as: Z:/Data/Users/Sijia/MTC/github/Lasso\n",
      "2021-03-11 17:14:23, INFO: Lasso base directory set as: Z:/Data/Users/Sijia/MTC/github/Lasso\n",
      "2021-03-11 17:14:23, INFO: Lasso base directory set as: Z:/Data/Users/Sijia/MTC/github/Lasso\n",
      "2021-03-11 17:14:23, INFO: Converting GTFS Standard Properties to MTC's Cube Standard\n",
      "2021-03-11 17:14:23, INFO: Converting GTFS Standard Properties to MTC's Cube Standard\n"
     ]
    }
   ],
   "source": [
    "standard_transit_net = StandardTransit.fromTransitNetwork(v_07_scenario.transit_net, parameters = parameters)\n",
    "mtc.write_as_cube_lin(standard_transit_net, parameters, outpath = os.path.join(output_dir, \"transit.lin\"))"
   ]
  },
  {
   "cell_type": "markdown",
   "metadata": {},
   "source": [
    "#### make agency-specific line files for editing"
   ]
  },
  {
   "cell_type": "code",
   "execution_count": 33,
   "metadata": {
    "scrolled": true
   },
   "outputs": [
    {
     "name": "stdout",
     "output_type": "stream",
     "text": [
      "2021-03-11 17:22:00, INFO: Converting GTFS Standard Properties to MTC's Cube Standard\n",
      "2021-03-11 17:22:00, INFO: Converting GTFS Standard Properties to MTC's Cube Standard\n",
      "2021-03-11 17:22:07, INFO: Converting GTFS Standard Properties to MTC's Cube Standard\n",
      "2021-03-11 17:22:07, INFO: Converting GTFS Standard Properties to MTC's Cube Standard\n",
      "2021-03-11 17:22:08, INFO: Converting GTFS Standard Properties to MTC's Cube Standard\n",
      "2021-03-11 17:22:08, INFO: Converting GTFS Standard Properties to MTC's Cube Standard\n",
      "2021-03-11 17:22:34, INFO: Converting GTFS Standard Properties to MTC's Cube Standard\n",
      "2021-03-11 17:22:34, INFO: Converting GTFS Standard Properties to MTC's Cube Standard\n",
      "2021-03-11 17:22:37, INFO: Converting GTFS Standard Properties to MTC's Cube Standard\n",
      "2021-03-11 17:22:37, INFO: Converting GTFS Standard Properties to MTC's Cube Standard\n",
      "2021-03-11 17:22:40, INFO: Converting GTFS Standard Properties to MTC's Cube Standard\n",
      "2021-03-11 17:22:40, INFO: Converting GTFS Standard Properties to MTC's Cube Standard\n",
      "2021-03-11 17:22:51, INFO: Converting GTFS Standard Properties to MTC's Cube Standard\n",
      "2021-03-11 17:22:51, INFO: Converting GTFS Standard Properties to MTC's Cube Standard\n",
      "2021-03-11 17:23:15, INFO: Converting GTFS Standard Properties to MTC's Cube Standard\n",
      "2021-03-11 17:23:15, INFO: Converting GTFS Standard Properties to MTC's Cube Standard\n",
      "2021-03-11 17:23:17, INFO: Converting GTFS Standard Properties to MTC's Cube Standard\n",
      "2021-03-11 17:23:17, INFO: Converting GTFS Standard Properties to MTC's Cube Standard\n",
      "2021-03-11 17:23:27, INFO: Converting GTFS Standard Properties to MTC's Cube Standard\n",
      "2021-03-11 17:23:27, INFO: Converting GTFS Standard Properties to MTC's Cube Standard\n",
      "2021-03-11 17:23:34, INFO: Converting GTFS Standard Properties to MTC's Cube Standard\n",
      "2021-03-11 17:23:34, INFO: Converting GTFS Standard Properties to MTC's Cube Standard\n",
      "2021-03-11 17:23:36, INFO: Converting GTFS Standard Properties to MTC's Cube Standard\n",
      "2021-03-11 17:23:36, INFO: Converting GTFS Standard Properties to MTC's Cube Standard\n",
      "2021-03-11 17:24:46, INFO: Converting GTFS Standard Properties to MTC's Cube Standard\n",
      "2021-03-11 17:24:46, INFO: Converting GTFS Standard Properties to MTC's Cube Standard\n",
      "2021-03-11 17:25:27, INFO: Converting GTFS Standard Properties to MTC's Cube Standard\n",
      "2021-03-11 17:25:27, INFO: Converting GTFS Standard Properties to MTC's Cube Standard\n",
      "2021-03-11 17:25:37, INFO: Converting GTFS Standard Properties to MTC's Cube Standard\n",
      "2021-03-11 17:25:37, INFO: Converting GTFS Standard Properties to MTC's Cube Standard\n",
      "2021-03-11 17:25:54, INFO: Converting GTFS Standard Properties to MTC's Cube Standard\n",
      "2021-03-11 17:25:54, INFO: Converting GTFS Standard Properties to MTC's Cube Standard\n",
      "2021-03-11 17:26:57, INFO: Converting GTFS Standard Properties to MTC's Cube Standard\n",
      "2021-03-11 17:26:57, INFO: Converting GTFS Standard Properties to MTC's Cube Standard\n",
      "2021-03-11 17:27:09, INFO: Converting GTFS Standard Properties to MTC's Cube Standard\n",
      "2021-03-11 17:27:09, INFO: Converting GTFS Standard Properties to MTC's Cube Standard\n",
      "2021-03-11 17:27:15, INFO: Converting GTFS Standard Properties to MTC's Cube Standard\n",
      "2021-03-11 17:27:15, INFO: Converting GTFS Standard Properties to MTC's Cube Standard\n",
      "2021-03-11 17:27:23, INFO: Converting GTFS Standard Properties to MTC's Cube Standard\n",
      "2021-03-11 17:27:23, INFO: Converting GTFS Standard Properties to MTC's Cube Standard\n",
      "2021-03-11 17:27:28, INFO: Converting GTFS Standard Properties to MTC's Cube Standard\n",
      "2021-03-11 17:27:28, INFO: Converting GTFS Standard Properties to MTC's Cube Standard\n",
      "2021-03-11 17:27:31, INFO: Converting GTFS Standard Properties to MTC's Cube Standard\n",
      "2021-03-11 17:27:31, INFO: Converting GTFS Standard Properties to MTC's Cube Standard\n",
      "2021-03-11 17:27:45, INFO: Converting GTFS Standard Properties to MTC's Cube Standard\n",
      "2021-03-11 17:27:45, INFO: Converting GTFS Standard Properties to MTC's Cube Standard\n",
      "2021-03-11 17:27:47, INFO: Converting GTFS Standard Properties to MTC's Cube Standard\n",
      "2021-03-11 17:27:47, INFO: Converting GTFS Standard Properties to MTC's Cube Standard\n",
      "2021-03-11 17:29:29, INFO: Converting GTFS Standard Properties to MTC's Cube Standard\n",
      "2021-03-11 17:29:29, INFO: Converting GTFS Standard Properties to MTC's Cube Standard\n",
      "2021-03-11 17:29:32, INFO: Converting GTFS Standard Properties to MTC's Cube Standard\n",
      "2021-03-11 17:29:32, INFO: Converting GTFS Standard Properties to MTC's Cube Standard\n",
      "2021-03-11 17:29:33, INFO: Converting GTFS Standard Properties to MTC's Cube Standard\n",
      "2021-03-11 17:29:33, INFO: Converting GTFS Standard Properties to MTC's Cube Standard\n",
      "2021-03-11 17:29:41, INFO: Converting GTFS Standard Properties to MTC's Cube Standard\n",
      "2021-03-11 17:29:41, INFO: Converting GTFS Standard Properties to MTC's Cube Standard\n"
     ]
    }
   ],
   "source": [
    "for agency in standard_transit_net.feed.routes.agency_raw_name.unique():\n",
    "    sub_transit_net = copy.deepcopy(standard_transit_net)\n",
    "    sub_transit_net.feed.trips = sub_transit_net.feed.trips[sub_transit_net.feed.trips.agency_raw_name == agency]\n",
    "    mtc.write_as_cube_lin(sub_transit_net, parameters, outpath = os.path.join(output_dir, agency + \"_transit.lin\"))"
   ]
  },
  {
   "cell_type": "markdown",
   "metadata": {},
   "source": [
    "## As pickle"
   ]
  },
  {
   "cell_type": "code",
   "execution_count": 34,
   "metadata": {},
   "outputs": [],
   "source": [
    "working_scenario_filename = os.path.join(output_dir, 'working_scenario_07.pickle')\n",
    "pickle.dump(v_07_scenario, open(working_scenario_filename, 'wb'))"
   ]
  },
  {
   "cell_type": "markdown",
   "metadata": {},
   "source": [
    "## As standard network"
   ]
  },
  {
   "cell_type": "code",
   "execution_count": 35,
   "metadata": {},
   "outputs": [],
   "source": [
    "model_net.write(path = output_dir, filename = \"v06\")"
   ]
  }
 ],
 "metadata": {
  "kernelspec": {
   "display_name": "Python 3",
   "language": "python",
   "name": "python3"
  },
  "language_info": {
   "codemirror_mode": {
    "name": "ipython",
    "version": 3
   },
   "file_extension": ".py",
   "mimetype": "text/x-python",
   "name": "python",
   "nbconvert_exporter": "python",
   "pygments_lexer": "ipython3",
   "version": "3.7.9"
  }
 },
 "nbformat": 4,
 "nbformat_minor": 4
}
