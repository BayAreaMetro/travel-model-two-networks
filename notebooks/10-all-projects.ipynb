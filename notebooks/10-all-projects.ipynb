{
 "cells": [
  {
   "cell_type": "markdown",
   "metadata": {},
   "source": [
    "# 10 notebook that applies all project cards (replacing notebooks 02-09)"
   ]
  },
  {
   "cell_type": "code",
   "execution_count": 1,
   "metadata": {},
   "outputs": [],
   "source": [
    "import os\n",
    "import sys\n",
    "import yaml\n",
    "import pickle\n",
    "import glob\n",
    "import copy\n",
    "import re\n",
    "\n",
    "import pandas as pd\n",
    "\n",
    "from network_wrangler import RoadwayNetwork\n",
    "from network_wrangler import TransitNetwork\n",
    "from network_wrangler import ProjectCard\n",
    "from network_wrangler import Scenario\n",
    "from network_wrangler import WranglerLogger\n",
    "\n",
    "from lasso import ModelRoadwayNetwork\n",
    "from lasso import StandardTransit\n",
    "from lasso import Parameters\n",
    "from lasso import mtc\n",
    "from lasso import util"
   ]
  },
  {
   "cell_type": "code",
   "execution_count": 2,
   "metadata": {},
   "outputs": [],
   "source": [
    "%load_ext autoreload\n",
    "%autoreload 2"
   ]
  },
  {
   "cell_type": "code",
   "execution_count": 3,
   "metadata": {},
   "outputs": [],
   "source": [
    "import logging\n",
    "logger = logging.getLogger(\"WranglerLogger\")\n",
    "console_handler = logging.StreamHandler(sys.stdout)\n",
    "logger.addHandler(console_handler)\n",
    "logger.setLevel(logging.INFO)"
   ]
  },
  {
   "cell_type": "markdown",
   "metadata": {},
   "source": [
    "# Remote I/O and parameters"
   ]
  },
  {
   "cell_type": "code",
   "execution_count": 4,
   "metadata": {},
   "outputs": [],
   "source": [
    "# root_dir = os.path.join('/Users', 'wsp', 'Documents', 'GitHub', 'travel-model-two-networks')\n",
    "root_dir = \"D:/github/lfs-cleaning/travel-model-two-networks\"\n",
    "input_dir = os.path.join(root_dir, 'data', 'processed', 'version_12')\n",
    "output_dir = os.path.join(root_dir, 'data', 'processed', 'version_12_with_link21_fixes')\n",
    "card_dir = os.path.join(root_dir, 'project_cards')\n",
    "# lasso_dir = os.path.join('/Users', 'wsp', 'Documents', 'GitHub', 'mtc-Lasso')\n",
    "lasso_dir = \"Z:/Data/Users/Sijia/MTC/github/Lasso\""
   ]
  },
  {
   "cell_type": "code",
   "execution_count": 5,
   "metadata": {},
   "outputs": [
    {
     "name": "stdout",
     "output_type": "stream",
     "text": [
      "Lasso base directory set as: Z:/Data/Users/Sijia/MTC/github/Lasso\n",
      "Lasso base directory set as: Z:/Data/Users/Sijia/MTC/github/Lasso\n"
     ]
    }
   ],
   "source": [
    "parameters = Parameters(lasso_base_dir = lasso_dir)"
   ]
  },
  {
   "cell_type": "code",
   "execution_count": 6,
   "metadata": {},
   "outputs": [
    {
     "data": {
      "text/plain": [
       "4756"
      ]
     },
     "execution_count": 6,
     "metadata": {},
     "output_type": "execute_result"
    }
   ],
   "source": [
    "parameters.zones"
   ]
  },
  {
   "cell_type": "code",
   "execution_count": 7,
   "metadata": {},
   "outputs": [
    {
     "data": {
      "text/plain": [
       "<Projected CRS: EPSG:2875>\n",
       "Name: NAD83(HARN) / California zone 6 (ftUS)\n",
       "Axis Info [cartesian]:\n",
       "- X[east]: Easting (US survey foot)\n",
       "- Y[north]: Northing (US survey foot)\n",
       "Area of Use:\n",
       "- name: United States (USA) - California - counties Imperial; Orange; Riverside; San Diego.\n",
       "- bounds: (-118.15, 32.53, -114.42, 34.08)\n",
       "Coordinate Operation:\n",
       "- name: SPCS83 California zone 6 (US Survey feet)\n",
       "- method: Lambert Conic Conformal (2SP)\n",
       "Datum: NAD83 (High Accuracy Reference Network)\n",
       "- Ellipsoid: GRS 1980\n",
       "- Prime Meridian: Greenwich"
      ]
     },
     "execution_count": 7,
     "metadata": {},
     "output_type": "execute_result"
    }
   ],
   "source": [
    "parameters.output_proj"
   ]
  },
  {
   "cell_type": "markdown",
   "metadata": {},
   "source": [
    "# Section 1: Read Standard Network and Apply Project Cards"
   ]
  },
  {
   "cell_type": "markdown",
   "metadata": {},
   "source": [
    "## read standard network from pickle"
   ]
  },
  {
   "cell_type": "code",
   "execution_count": 8,
   "metadata": {},
   "outputs": [],
   "source": [
    "version_01_pickle_file_name = os.path.join(input_dir, 'working_scenario_01.pickle')\n",
    "v_01_scenario = pickle.load(open(version_01_pickle_file_name, 'rb'))"
   ]
  },
  {
   "cell_type": "code",
   "execution_count": 9,
   "metadata": {},
   "outputs": [
    {
     "name": "stdout",
     "output_type": "stream",
     "text": [
      "<class 'pandas.core.frame.DataFrame'>\n",
      "RangeIndex: 21881 entries, 0 to 21880\n",
      "Data columns (total 20 columns):\n",
      " #   Column               Non-Null Count  Dtype  \n",
      "---  ------               --------------  -----  \n",
      " 0   stop_name            21881 non-null  object \n",
      " 1   stop_lat             21881 non-null  float64\n",
      " 2   stop_lon             21881 non-null  float64\n",
      " 3   zone_id              8233 non-null   object \n",
      " 4   agency_raw_name      21881 non-null  object \n",
      " 5   stop_code            15289 non-null  object \n",
      " 6   location_type        5475 non-null   float64\n",
      " 7   parent_station       249 non-null    object \n",
      " 8   stop_desc            409 non-null    object \n",
      " 9   stop_url             261 non-null    object \n",
      " 10  stop_timezone        126 non-null    object \n",
      " 11  wheelchair_boarding  377 non-null    float64\n",
      " 12  platform_code        52 non-null     object \n",
      " 13  position             0 non-null      object \n",
      " 14  direction            0 non-null      object \n",
      " 15  * used by routes     124 non-null    object \n",
      " 16  stop_id              21881 non-null  object \n",
      " 17  osm_node_id          21212 non-null  object \n",
      " 18  shst_node_id         21212 non-null  object \n",
      " 19  model_node_id        21881 non-null  object \n",
      "dtypes: float64(4), object(16)\n",
      "memory usage: 3.3+ MB\n"
     ]
    }
   ],
   "source": [
    "v_01_scenario.transit_net.feed.stops.info()"
   ]
  },
  {
   "cell_type": "code",
   "execution_count": 10,
   "metadata": {},
   "outputs": [
    {
     "data": {
      "text/html": [
       "<div>\n",
       "<style scoped>\n",
       "    .dataframe tbody tr th:only-of-type {\n",
       "        vertical-align: middle;\n",
       "    }\n",
       "\n",
       "    .dataframe tbody tr th {\n",
       "        vertical-align: top;\n",
       "    }\n",
       "\n",
       "    .dataframe thead th {\n",
       "        text-align: right;\n",
       "    }\n",
       "</style>\n",
       "<table border=\"1\" class=\"dataframe\">\n",
       "  <thead>\n",
       "    <tr style=\"text-align: right;\">\n",
       "      <th></th>\n",
       "      <th>stop_name</th>\n",
       "      <th>stop_lat</th>\n",
       "      <th>stop_lon</th>\n",
       "      <th>zone_id</th>\n",
       "      <th>agency_raw_name</th>\n",
       "      <th>stop_code</th>\n",
       "      <th>location_type</th>\n",
       "      <th>parent_station</th>\n",
       "      <th>stop_desc</th>\n",
       "      <th>stop_url</th>\n",
       "      <th>stop_timezone</th>\n",
       "      <th>wheelchair_boarding</th>\n",
       "      <th>platform_code</th>\n",
       "      <th>position</th>\n",
       "      <th>direction</th>\n",
       "      <th>* used by routes</th>\n",
       "      <th>stop_id</th>\n",
       "      <th>osm_node_id</th>\n",
       "      <th>shst_node_id</th>\n",
       "      <th>model_node_id</th>\n",
       "    </tr>\n",
       "  </thead>\n",
       "  <tbody>\n",
       "    <tr>\n",
       "      <th>5466</th>\n",
       "      <td>San Jose</td>\n",
       "      <td>37.329935</td>\n",
       "      <td>-121.902496</td>\n",
       "      <td>56146</td>\n",
       "      <td>Capitol_2017_3_20</td>\n",
       "      <td>NaN</td>\n",
       "      <td>NaN</td>\n",
       "      <td>NaN</td>\n",
       "      <td>NaN</td>\n",
       "      <td>NaN</td>\n",
       "      <td>NaN</td>\n",
       "      <td>NaN</td>\n",
       "      <td>NaN</td>\n",
       "      <td>NaN</td>\n",
       "      <td>NaN</td>\n",
       "      <td>NaN</td>\n",
       "      <td>6680</td>\n",
       "      <td>NaN</td>\n",
       "      <td>NaN</td>\n",
       "      <td>2192825</td>\n",
       "    </tr>\n",
       "  </tbody>\n",
       "</table>\n",
       "</div>"
      ],
      "text/plain": [
       "     stop_name   stop_lat    stop_lon zone_id    agency_raw_name stop_code  \\\n",
       "5466  San Jose  37.329935 -121.902496   56146  Capitol_2017_3_20       NaN   \n",
       "\n",
       "      location_type parent_station stop_desc stop_url stop_timezone  \\\n",
       "5466            NaN            NaN       NaN      NaN           NaN   \n",
       "\n",
       "      wheelchair_boarding platform_code position direction * used by routes  \\\n",
       "5466                  NaN           NaN      NaN       NaN              NaN   \n",
       "\n",
       "     stop_id osm_node_id shst_node_id model_node_id  \n",
       "5466    6680         NaN          NaN       2192825  "
      ]
     },
     "execution_count": 10,
     "metadata": {},
     "output_type": "execute_result"
    }
   ],
   "source": [
    "v_01_scenario.transit_net.feed.stops[\n",
    "    v_01_scenario.transit_net.feed.stops.stop_name == \"San Jose\"]"
   ]
  },
  {
   "cell_type": "markdown",
   "metadata": {},
   "source": [
    "## create scenario and apply projects"
   ]
  },
  {
   "cell_type": "markdown",
   "metadata": {},
   "source": [
    "waiting on dependencies to work"
   ]
  },
  {
   "cell_type": "code",
   "execution_count": 11,
   "metadata": {},
   "outputs": [],
   "source": [
    "v_01_scenario.road_net.links_df[\"id\"] = v_01_scenario.road_net.links_df[\"shstGeometryId\"]"
   ]
  },
  {
   "cell_type": "code",
   "execution_count": 12,
   "metadata": {},
   "outputs": [
    {
     "name": "stdout",
     "output_type": "stream",
     "text": [
      "Creating Scenario\n"
     ]
    },
    {
     "name": "stderr",
     "output_type": "stream",
     "text": [
      "z:\\data\\users\\sijia\\mtc\\github\\network_wrangler\\network_wrangler\\projectcard.py:115: YAMLLoadWarning: calling yaml.load() without Loader=... is deprecated, as the default Loader is unsafe. Please read https://msg.pyyaml.org/load for full details.\n",
      "  attribute_dictionary = yaml.load(_yaml)\n"
     ]
    }
   ],
   "source": [
    "step1_scenario = Scenario.create_scenario(\n",
    "    base_scenario=v_01_scenario,\n",
    "    card_directory = card_dir,\n",
    "    tags = ['highway review', \"Major Arterial Review\", \"Reversible Lanes\", 'Bus Only', 'Toll Plaza'],\n",
    "    validate_project_cards=False)"
   ]
  },
  {
   "cell_type": "code",
   "execution_count": 13,
   "metadata": {
    "scrolled": true
   },
   "outputs": [
    {
     "name": "stdout",
     "output_type": "stream",
     "text": [
      "Applying [D:/github/lfs-cleaning/travel-model-two-networks\\project_cards\\year_2015_service_road_dumbarton_bridge_bypass.yml]:Year 2015 Modify Service Road Dumbarton Bridge Bypass\n",
      "Applying [D:/github/lfs-cleaning/travel-model-two-networks\\project_cards\\year_2015_service_road_dumbarton_bridge_bypass.yml]:Year 2015 Modify Service Road Dumbarton Bridge Bypass\n",
      "Applying Project to Roadway Network: Year 2015 Modify Service Road Dumbarton Bridge Bypass\n",
      "Applying [D:/github/lfs-cleaning/travel-model-two-networks\\project_cards\\year_2015_service_road_carquinez_bridge_bypass.yml]:Year 2015 Modify Service Road Carquinez Bridge Bypass\n",
      "Applying [D:/github/lfs-cleaning/travel-model-two-networks\\project_cards\\year_2015_service_road_carquinez_bridge_bypass.yml]:Year 2015 Modify Service Road Carquinez Bridge Bypass\n",
      "Applying Project to Roadway Network: Year 2015 Modify Service Road Carquinez Bridge Bypass\n",
      "Applying [D:/github/lfs-cleaning/travel-model-two-networks\\project_cards\\year_2015_san_mateo_bridge_add_plaza_link.yml]:add san mateo bridge toll plaza\n",
      "Applying [D:/github/lfs-cleaning/travel-model-two-networks\\project_cards\\year_2015_san_mateo_bridge_add_plaza_link.yml]:add san mateo bridge toll plaza\n",
      "Applying Project to Roadway Network: add san mateo bridge toll plaza\n"
     ]
    },
    {
     "name": "stderr",
     "output_type": "stream",
     "text": [
      "c:\\Users\\wangs1\\AppData\\Local\\Continuum\\anaconda3\\envs\\lasso_bayarea\\lib\\site-packages\\geopandas\\geodataframe.py:1351: SettingWithCopyWarning: \n",
      "A value is trying to be set on a copy of a slice from a DataFrame.\n",
      "Try using .loc[row_indexer,col_indexer] = value instead\n",
      "\n",
      "See the caveats in the documentation: https://pandas.pydata.org/pandas-docs/stable/user_guide/indexing.html#returning-a-view-versus-a-copy\n",
      "  super().__setitem__(key, value)\n",
      "c:\\Users\\wangs1\\AppData\\Local\\Continuum\\anaconda3\\envs\\lasso_bayarea\\lib\\site-packages\\geopandas\\geodataframe.py:1351: SettingWithCopyWarning: \n",
      "A value is trying to be set on a copy of a slice from a DataFrame.\n",
      "Try using .loc[row_indexer,col_indexer] = value instead\n",
      "\n",
      "See the caveats in the documentation: https://pandas.pydata.org/pandas-docs/stable/user_guide/indexing.html#returning-a-view-versus-a-copy\n",
      "  super().__setitem__(key, value)\n"
     ]
    },
    {
     "name": "stdout",
     "output_type": "stream",
     "text": [
      "Applying Project to Transit Network: add san mateo bridge toll plaza\n",
      "Roadway Deletion not yet implemented in Transit; ignoring\n",
      "Applying [D:/github/lfs-cleaning/travel-model-two-networks\\project_cards\\year_2015_san_mateo_bridge_add_plaza_link.yml]:add san mateo bridge toll plaza\n",
      "Applying Project to Roadway Network: add san mateo bridge toll plaza\n",
      "Applying [D:/github/lfs-cleaning/travel-model-two-networks\\project_cards\\year_2015_roadway_property_lanes_ft_correct_as_is.yml]:Year 2015 Correct As Is\n",
      "Applying [D:/github/lfs-cleaning/travel-model-two-networks\\project_cards\\year_2015_roadway_property_lanes_ft_correct_as_is.yml]:Year 2015 Correct As Is\n",
      "Applying Project to Roadway Network: Year 2015 Correct As Is\n",
      "Applying [D:/github/lfs-cleaning/travel-model-two-networks\\project_cards\\year_2015_roadway_property_change_should_be_service_lanes_correct.yml]:Year 2015 Modify Facility Type to Service\n",
      "Applying [D:/github/lfs-cleaning/travel-model-two-networks\\project_cards\\year_2015_roadway_property_change_should_be_service_lanes_correct.yml]:Year 2015 Modify Facility Type to Service\n",
      "Applying Project to Roadway Network: Year 2015 Modify Facility Type to Service\n",
      "Applying [D:/github/lfs-cleaning/travel-model-two-networks\\project_cards\\year_2015_roadway_property_change_should_be_ramp_shape_incorrect.yml]:Year 2015 Modify Facility Type to Ramp shape incorrect\n",
      "Applying [D:/github/lfs-cleaning/travel-model-two-networks\\project_cards\\year_2015_roadway_property_change_should_be_ramp_shape_incorrect.yml]:Year 2015 Modify Facility Type to Ramp shape incorrect\n",
      "Applying Project to Roadway Network: Year 2015 Modify Facility Type to Ramp shape incorrect\n"
     ]
    },
    {
     "name": "stderr",
     "output_type": "stream",
     "text": [
      "c:\\Users\\wangs1\\AppData\\Local\\Continuum\\anaconda3\\envs\\lasso_bayarea\\lib\\site-packages\\geopandas\\geodataframe.py:1351: SettingWithCopyWarning: \n",
      "A value is trying to be set on a copy of a slice from a DataFrame.\n",
      "Try using .loc[row_indexer,col_indexer] = value instead\n",
      "\n",
      "See the caveats in the documentation: https://pandas.pydata.org/pandas-docs/stable/user_guide/indexing.html#returning-a-view-versus-a-copy\n",
      "  super().__setitem__(key, value)\n",
      "c:\\Users\\wangs1\\AppData\\Local\\Continuum\\anaconda3\\envs\\lasso_bayarea\\lib\\site-packages\\geopandas\\geodataframe.py:1351: SettingWithCopyWarning: \n",
      "A value is trying to be set on a copy of a slice from a DataFrame.\n",
      "Try using .loc[row_indexer,col_indexer] = value instead\n",
      "\n",
      "See the caveats in the documentation: https://pandas.pydata.org/pandas-docs/stable/user_guide/indexing.html#returning-a-view-versus-a-copy\n",
      "  super().__setitem__(key, value)\n",
      "c:\\Users\\wangs1\\AppData\\Local\\Continuum\\anaconda3\\envs\\lasso_bayarea\\lib\\site-packages\\geopandas\\geodataframe.py:1351: SettingWithCopyWarning: \n",
      "A value is trying to be set on a copy of a slice from a DataFrame.\n",
      "Try using .loc[row_indexer,col_indexer] = value instead\n",
      "\n",
      "See the caveats in the documentation: https://pandas.pydata.org/pandas-docs/stable/user_guide/indexing.html#returning-a-view-versus-a-copy\n",
      "  super().__setitem__(key, value)\n"
     ]
    },
    {
     "name": "stdout",
     "output_type": "stream",
     "text": [
      "Applying [D:/github/lfs-cleaning/travel-model-two-networks\\project_cards\\year_2015_roadway_property_change_should_be_ramp_lanes_correct.yml]:Year 2015 Modify Facility Type to Ramp\n",
      "Applying [D:/github/lfs-cleaning/travel-model-two-networks\\project_cards\\year_2015_roadway_property_change_should_be_ramp_lanes_correct.yml]:Year 2015 Modify Facility Type to Ramp\n",
      "Applying Project to Roadway Network: Year 2015 Modify Facility Type to Ramp\n",
      "Applying [D:/github/lfs-cleaning/travel-model-two-networks\\project_cards\\year_2015_roadway_property_change_should_be_ramp_2_lanes_shape_incorrect.yml]:Year 2015 Modify Lanes to 2 Lane and Facility Type to Ramp shape incorrect\n",
      "Applying [D:/github/lfs-cleaning/travel-model-two-networks\\project_cards\\year_2015_roadway_property_change_should_be_ramp_2_lanes_shape_incorrect.yml]:Year 2015 Modify Lanes to 2 Lane and Facility Type to Ramp shape incorrect\n",
      "Applying Project to Roadway Network: Year 2015 Modify Lanes to 2 Lane and Facility Type to Ramp shape incorrect\n"
     ]
    },
    {
     "name": "stderr",
     "output_type": "stream",
     "text": [
      "c:\\Users\\wangs1\\AppData\\Local\\Continuum\\anaconda3\\envs\\lasso_bayarea\\lib\\site-packages\\geopandas\\geodataframe.py:1351: SettingWithCopyWarning: \n",
      "A value is trying to be set on a copy of a slice from a DataFrame.\n",
      "Try using .loc[row_indexer,col_indexer] = value instead\n",
      "\n",
      "See the caveats in the documentation: https://pandas.pydata.org/pandas-docs/stable/user_guide/indexing.html#returning-a-view-versus-a-copy\n",
      "  super().__setitem__(key, value)\n",
      "c:\\Users\\wangs1\\AppData\\Local\\Continuum\\anaconda3\\envs\\lasso_bayarea\\lib\\site-packages\\geopandas\\geodataframe.py:1351: SettingWithCopyWarning: \n",
      "A value is trying to be set on a copy of a slice from a DataFrame.\n",
      "Try using .loc[row_indexer,col_indexer] = value instead\n",
      "\n",
      "See the caveats in the documentation: https://pandas.pydata.org/pandas-docs/stable/user_guide/indexing.html#returning-a-view-versus-a-copy\n",
      "  super().__setitem__(key, value)\n"
     ]
    },
    {
     "name": "stdout",
     "output_type": "stream",
     "text": [
      "Applying [D:/github/lfs-cleaning/travel-model-two-networks\\project_cards\\year_2015_roadway_property_change_should_be_ramp_2_lanes.yml]:Year 2015 Modify Lanes to 2 Lane and Facility Type to Ramp\n",
      "Applying [D:/github/lfs-cleaning/travel-model-two-networks\\project_cards\\year_2015_roadway_property_change_should_be_ramp_2_lanes.yml]:Year 2015 Modify Lanes to 2 Lane and Facility Type to Ramp\n",
      "Applying Project to Roadway Network: Year 2015 Modify Lanes to 2 Lane and Facility Type to Ramp\n",
      "Applying [D:/github/lfs-cleaning/travel-model-two-networks\\project_cards\\year_2015_roadway_property_change_should_be_ramp_1_lane.yml]:Year 2015 Modify Lanes to 1 Lane and Facility Type to Ramp\n",
      "Applying [D:/github/lfs-cleaning/travel-model-two-networks\\project_cards\\year_2015_roadway_property_change_should_be_ramp_1_lane.yml]:Year 2015 Modify Lanes to 1 Lane and Facility Type to Ramp\n",
      "Applying Project to Roadway Network: Year 2015 Modify Lanes to 1 Lane and Facility Type to Ramp\n"
     ]
    },
    {
     "name": "stderr",
     "output_type": "stream",
     "text": [
      "c:\\Users\\wangs1\\AppData\\Local\\Continuum\\anaconda3\\envs\\lasso_bayarea\\lib\\site-packages\\geopandas\\geodataframe.py:1351: SettingWithCopyWarning: \n",
      "A value is trying to be set on a copy of a slice from a DataFrame.\n",
      "Try using .loc[row_indexer,col_indexer] = value instead\n",
      "\n",
      "See the caveats in the documentation: https://pandas.pydata.org/pandas-docs/stable/user_guide/indexing.html#returning-a-view-versus-a-copy\n",
      "  super().__setitem__(key, value)\n",
      "c:\\Users\\wangs1\\AppData\\Local\\Continuum\\anaconda3\\envs\\lasso_bayarea\\lib\\site-packages\\geopandas\\geodataframe.py:1351: SettingWithCopyWarning: \n",
      "A value is trying to be set on a copy of a slice from a DataFrame.\n",
      "Try using .loc[row_indexer,col_indexer] = value instead\n",
      "\n",
      "See the caveats in the documentation: https://pandas.pydata.org/pandas-docs/stable/user_guide/indexing.html#returning-a-view-versus-a-copy\n",
      "  super().__setitem__(key, value)\n"
     ]
    },
    {
     "name": "stdout",
     "output_type": "stream",
     "text": [
      "Applying [D:/github/lfs-cleaning/travel-model-two-networks\\project_cards\\year_2015_roadway_property_change_should_be_bus_only.yml]:Year 2015 Bus Only Segments\n",
      "Applying [D:/github/lfs-cleaning/travel-model-two-networks\\project_cards\\year_2015_roadway_property_change_should_be_bus_only.yml]:Year 2015 Bus Only Segments\n",
      "Applying Project to Roadway Network: Year 2015 Bus Only Segments\n",
      "Applying [D:/github/lfs-cleaning/travel-model-two-networks\\project_cards\\year_2015_roadway_property_change_should_be_7_lane_should_be_expressway.yml]:Year 2015 Should be 7 Lane should be Expressway\n",
      "Applying [D:/github/lfs-cleaning/travel-model-two-networks\\project_cards\\year_2015_roadway_property_change_should_be_7_lane_should_be_expressway.yml]:Year 2015 Should be 7 Lane should be Expressway\n",
      "Applying Project to Roadway Network: Year 2015 Should be 7 Lane should be Expressway\n",
      "Applying [D:/github/lfs-cleaning/travel-model-two-networks\\project_cards\\year_2015_roadway_property_change_should_be_7_lanes.yml]:Year 2015 Modify Lanes to 7 Lanes\n",
      "Applying [D:/github/lfs-cleaning/travel-model-two-networks\\project_cards\\year_2015_roadway_property_change_should_be_7_lanes.yml]:Year 2015 Modify Lanes to 7 Lanes\n",
      "Applying Project to Roadway Network: Year 2015 Modify Lanes to 7 Lanes\n",
      "Applying [D:/github/lfs-cleaning/travel-model-two-networks\\project_cards\\year_2015_roadway_property_change_should_be_6_lane_should_be_expressway.yml]:Year 2015 Should be 6 Lane should be Expressway\n"
     ]
    },
    {
     "name": "stderr",
     "output_type": "stream",
     "text": [
      "c:\\Users\\wangs1\\AppData\\Local\\Continuum\\anaconda3\\envs\\lasso_bayarea\\lib\\site-packages\\geopandas\\geodataframe.py:1351: SettingWithCopyWarning: \n",
      "A value is trying to be set on a copy of a slice from a DataFrame.\n",
      "Try using .loc[row_indexer,col_indexer] = value instead\n",
      "\n",
      "See the caveats in the documentation: https://pandas.pydata.org/pandas-docs/stable/user_guide/indexing.html#returning-a-view-versus-a-copy\n",
      "  super().__setitem__(key, value)\n",
      "c:\\Users\\wangs1\\AppData\\Local\\Continuum\\anaconda3\\envs\\lasso_bayarea\\lib\\site-packages\\geopandas\\geodataframe.py:1351: SettingWithCopyWarning: \n",
      "A value is trying to be set on a copy of a slice from a DataFrame.\n",
      "Try using .loc[row_indexer,col_indexer] = value instead\n",
      "\n",
      "See the caveats in the documentation: https://pandas.pydata.org/pandas-docs/stable/user_guide/indexing.html#returning-a-view-versus-a-copy\n",
      "  super().__setitem__(key, value)\n",
      "c:\\Users\\wangs1\\AppData\\Local\\Continuum\\anaconda3\\envs\\lasso_bayarea\\lib\\site-packages\\geopandas\\geodataframe.py:1351: SettingWithCopyWarning: \n",
      "A value is trying to be set on a copy of a slice from a DataFrame.\n",
      "Try using .loc[row_indexer,col_indexer] = value instead\n",
      "\n",
      "See the caveats in the documentation: https://pandas.pydata.org/pandas-docs/stable/user_guide/indexing.html#returning-a-view-versus-a-copy\n",
      "  super().__setitem__(key, value)\n"
     ]
    },
    {
     "name": "stdout",
     "output_type": "stream",
     "text": [
      "Applying [D:/github/lfs-cleaning/travel-model-two-networks\\project_cards\\year_2015_roadway_property_change_should_be_6_lane_should_be_expressway.yml]:Year 2015 Should be 6 Lane should be Expressway\n",
      "Applying Project to Roadway Network: Year 2015 Should be 6 Lane should be Expressway\n",
      "Applying [D:/github/lfs-cleaning/travel-model-two-networks\\project_cards\\year_2015_roadway_property_change_should_be_6_lane_should_be_divided_arterial.yml]:Year 2015 Should be 6 Lane should be Divided Arterial\n",
      "Applying [D:/github/lfs-cleaning/travel-model-two-networks\\project_cards\\year_2015_roadway_property_change_should_be_6_lane_should_be_divided_arterial.yml]:Year 2015 Should be 6 Lane should be Divided Arterial\n",
      "Applying Project to Roadway Network: Year 2015 Should be 6 Lane should be Divided Arterial\n",
      "Applying [D:/github/lfs-cleaning/travel-model-two-networks\\project_cards\\year_2015_roadway_property_change_should_be_6_lanes.yml]:Year 2015 Modify Lanes to 6 Lanes\n",
      "Applying [D:/github/lfs-cleaning/travel-model-two-networks\\project_cards\\year_2015_roadway_property_change_should_be_6_lanes.yml]:Year 2015 Modify Lanes to 6 Lanes\n",
      "Applying Project to Roadway Network: Year 2015 Modify Lanes to 6 Lanes\n",
      "Applying [D:/github/lfs-cleaning/travel-model-two-networks\\project_cards\\year_2015_roadway_property_change_should_be_5_lane_should_be_expressway.yml]:Year 2015 Should be 5 Lane should be Expressway\n"
     ]
    },
    {
     "name": "stderr",
     "output_type": "stream",
     "text": [
      "c:\\Users\\wangs1\\AppData\\Local\\Continuum\\anaconda3\\envs\\lasso_bayarea\\lib\\site-packages\\geopandas\\geodataframe.py:1351: SettingWithCopyWarning: \n",
      "A value is trying to be set on a copy of a slice from a DataFrame.\n",
      "Try using .loc[row_indexer,col_indexer] = value instead\n",
      "\n",
      "See the caveats in the documentation: https://pandas.pydata.org/pandas-docs/stable/user_guide/indexing.html#returning-a-view-versus-a-copy\n",
      "  super().__setitem__(key, value)\n",
      "c:\\Users\\wangs1\\AppData\\Local\\Continuum\\anaconda3\\envs\\lasso_bayarea\\lib\\site-packages\\geopandas\\geodataframe.py:1351: SettingWithCopyWarning: \n",
      "A value is trying to be set on a copy of a slice from a DataFrame.\n",
      "Try using .loc[row_indexer,col_indexer] = value instead\n",
      "\n",
      "See the caveats in the documentation: https://pandas.pydata.org/pandas-docs/stable/user_guide/indexing.html#returning-a-view-versus-a-copy\n",
      "  super().__setitem__(key, value)\n",
      "c:\\Users\\wangs1\\AppData\\Local\\Continuum\\anaconda3\\envs\\lasso_bayarea\\lib\\site-packages\\geopandas\\geodataframe.py:1351: SettingWithCopyWarning: \n",
      "A value is trying to be set on a copy of a slice from a DataFrame.\n",
      "Try using .loc[row_indexer,col_indexer] = value instead\n",
      "\n",
      "See the caveats in the documentation: https://pandas.pydata.org/pandas-docs/stable/user_guide/indexing.html#returning-a-view-versus-a-copy\n",
      "  super().__setitem__(key, value)\n"
     ]
    },
    {
     "name": "stdout",
     "output_type": "stream",
     "text": [
      "Applying [D:/github/lfs-cleaning/travel-model-two-networks\\project_cards\\year_2015_roadway_property_change_should_be_5_lane_should_be_expressway.yml]:Year 2015 Should be 5 Lane should be Expressway\n",
      "Applying Project to Roadway Network: Year 2015 Should be 5 Lane should be Expressway\n",
      "Applying [D:/github/lfs-cleaning/travel-model-two-networks\\project_cards\\year_2015_roadway_property_change_should_be_5_lane_should_be_divided_arterial.yml]:Year 2015 Should be 5 Lane should be Divided Arterial\n",
      "Applying [D:/github/lfs-cleaning/travel-model-two-networks\\project_cards\\year_2015_roadway_property_change_should_be_5_lane_should_be_divided_arterial.yml]:Year 2015 Should be 5 Lane should be Divided Arterial\n",
      "Applying Project to Roadway Network: Year 2015 Should be 5 Lane should be Divided Arterial\n",
      "Applying [D:/github/lfs-cleaning/travel-model-two-networks\\project_cards\\year_2015_roadway_property_change_should_be_5_lane_correct_facility_type.yml]:Year 2015 Should be 5 Lane correct facility type\n",
      "Applying [D:/github/lfs-cleaning/travel-model-two-networks\\project_cards\\year_2015_roadway_property_change_should_be_5_lane_correct_facility_type.yml]:Year 2015 Should be 5 Lane correct facility type\n",
      "Applying Project to Roadway Network: Year 2015 Should be 5 Lane correct facility type\n",
      "Applying [D:/github/lfs-cleaning/travel-model-two-networks\\project_cards\\year_2015_roadway_property_change_should_be_5_lanes.yml]:Year 2015 Modify Lanes to 5 Lanes\n",
      "Applying [D:/github/lfs-cleaning/travel-model-two-networks\\project_cards\\year_2015_roadway_property_change_should_be_5_lanes.yml]:Year 2015 Modify Lanes to 5 Lanes\n",
      "Applying Project to Roadway Network: Year 2015 Modify Lanes to 5 Lanes\n"
     ]
    },
    {
     "name": "stderr",
     "output_type": "stream",
     "text": [
      "c:\\Users\\wangs1\\AppData\\Local\\Continuum\\anaconda3\\envs\\lasso_bayarea\\lib\\site-packages\\geopandas\\geodataframe.py:1351: SettingWithCopyWarning: \n",
      "A value is trying to be set on a copy of a slice from a DataFrame.\n",
      "Try using .loc[row_indexer,col_indexer] = value instead\n",
      "\n",
      "See the caveats in the documentation: https://pandas.pydata.org/pandas-docs/stable/user_guide/indexing.html#returning-a-view-versus-a-copy\n",
      "  super().__setitem__(key, value)\n",
      "c:\\Users\\wangs1\\AppData\\Local\\Continuum\\anaconda3\\envs\\lasso_bayarea\\lib\\site-packages\\geopandas\\geodataframe.py:1351: SettingWithCopyWarning: \n",
      "A value is trying to be set on a copy of a slice from a DataFrame.\n",
      "Try using .loc[row_indexer,col_indexer] = value instead\n",
      "\n",
      "See the caveats in the documentation: https://pandas.pydata.org/pandas-docs/stable/user_guide/indexing.html#returning-a-view-versus-a-copy\n",
      "  super().__setitem__(key, value)\n",
      "c:\\Users\\wangs1\\AppData\\Local\\Continuum\\anaconda3\\envs\\lasso_bayarea\\lib\\site-packages\\geopandas\\geodataframe.py:1351: SettingWithCopyWarning: \n",
      "A value is trying to be set on a copy of a slice from a DataFrame.\n",
      "Try using .loc[row_indexer,col_indexer] = value instead\n",
      "\n",
      "See the caveats in the documentation: https://pandas.pydata.org/pandas-docs/stable/user_guide/indexing.html#returning-a-view-versus-a-copy\n",
      "  super().__setitem__(key, value)\n"
     ]
    },
    {
     "name": "stdout",
     "output_type": "stream",
     "text": [
      "Applying [D:/github/lfs-cleaning/travel-model-two-networks\\project_cards\\year_2015_roadway_property_change_should_be_4_lane_should_be_expressway.yml]:Year 2015 Should be 4 Lane should be Expressway\n",
      "Applying [D:/github/lfs-cleaning/travel-model-two-networks\\project_cards\\year_2015_roadway_property_change_should_be_4_lane_should_be_expressway.yml]:Year 2015 Should be 4 Lane should be Expressway\n",
      "Applying Project to Roadway Network: Year 2015 Should be 4 Lane should be Expressway\n",
      "Applying [D:/github/lfs-cleaning/travel-model-two-networks\\project_cards\\year_2015_roadway_property_change_should_be_4_lane_should_be_divided_arterial.yml]:Year 2015 Should be 4 Lane should be Divided Arterial\n",
      "Applying [D:/github/lfs-cleaning/travel-model-two-networks\\project_cards\\year_2015_roadway_property_change_should_be_4_lane_should_be_divided_arterial.yml]:Year 2015 Should be 4 Lane should be Divided Arterial\n",
      "Applying Project to Roadway Network: Year 2015 Should be 4 Lane should be Divided Arterial\n",
      "Applying [D:/github/lfs-cleaning/travel-model-two-networks\\project_cards\\year_2015_roadway_property_change_should_be_4_lane_correct_facility_type.yml]:Year 2015 Should be 4 Lane correct facility type\n"
     ]
    },
    {
     "name": "stderr",
     "output_type": "stream",
     "text": [
      "c:\\Users\\wangs1\\AppData\\Local\\Continuum\\anaconda3\\envs\\lasso_bayarea\\lib\\site-packages\\geopandas\\geodataframe.py:1351: SettingWithCopyWarning: \n",
      "A value is trying to be set on a copy of a slice from a DataFrame.\n",
      "Try using .loc[row_indexer,col_indexer] = value instead\n",
      "\n",
      "See the caveats in the documentation: https://pandas.pydata.org/pandas-docs/stable/user_guide/indexing.html#returning-a-view-versus-a-copy\n",
      "  super().__setitem__(key, value)\n",
      "c:\\Users\\wangs1\\AppData\\Local\\Continuum\\anaconda3\\envs\\lasso_bayarea\\lib\\site-packages\\geopandas\\geodataframe.py:1351: SettingWithCopyWarning: \n",
      "A value is trying to be set on a copy of a slice from a DataFrame.\n",
      "Try using .loc[row_indexer,col_indexer] = value instead\n",
      "\n",
      "See the caveats in the documentation: https://pandas.pydata.org/pandas-docs/stable/user_guide/indexing.html#returning-a-view-versus-a-copy\n",
      "  super().__setitem__(key, value)\n",
      "c:\\Users\\wangs1\\AppData\\Local\\Continuum\\anaconda3\\envs\\lasso_bayarea\\lib\\site-packages\\geopandas\\geodataframe.py:1351: SettingWithCopyWarning: \n",
      "A value is trying to be set on a copy of a slice from a DataFrame.\n",
      "Try using .loc[row_indexer,col_indexer] = value instead\n",
      "\n",
      "See the caveats in the documentation: https://pandas.pydata.org/pandas-docs/stable/user_guide/indexing.html#returning-a-view-versus-a-copy\n",
      "  super().__setitem__(key, value)\n"
     ]
    },
    {
     "name": "stdout",
     "output_type": "stream",
     "text": [
      "Applying [D:/github/lfs-cleaning/travel-model-two-networks\\project_cards\\year_2015_roadway_property_change_should_be_4_lane_correct_facility_type.yml]:Year 2015 Should be 4 Lane correct facility type\n",
      "Applying Project to Roadway Network: Year 2015 Should be 4 Lane correct facility type\n",
      "Applying [D:/github/lfs-cleaning/travel-model-two-networks\\project_cards\\year_2015_roadway_property_change_should_be_4_lanes.yml]:Year 2015 Modify Lanes to 4 Lanes\n",
      "Applying [D:/github/lfs-cleaning/travel-model-two-networks\\project_cards\\year_2015_roadway_property_change_should_be_4_lanes.yml]:Year 2015 Modify Lanes to 4 Lanes\n",
      "Applying Project to Roadway Network: Year 2015 Modify Lanes to 4 Lanes\n",
      "Applying [D:/github/lfs-cleaning/travel-model-two-networks\\project_cards\\year_2015_roadway_property_change_should_be_3_lane_should_be_expressway.yml]:Year 2015 Should be 3 Lane should be Expressway\n",
      "Applying [D:/github/lfs-cleaning/travel-model-two-networks\\project_cards\\year_2015_roadway_property_change_should_be_3_lane_should_be_expressway.yml]:Year 2015 Should be 3 Lane should be Expressway\n",
      "Applying Project to Roadway Network: Year 2015 Should be 3 Lane should be Expressway\n",
      "Applying [D:/github/lfs-cleaning/travel-model-two-networks\\project_cards\\year_2015_roadway_property_change_should_be_3_lane_should_be_divided_arterial.yml]:Year 2015 Should be 3 Lane should be Divided Arterial\n",
      "Applying [D:/github/lfs-cleaning/travel-model-two-networks\\project_cards\\year_2015_roadway_property_change_should_be_3_lane_should_be_divided_arterial.yml]:Year 2015 Should be 3 Lane should be Divided Arterial\n",
      "Applying Project to Roadway Network: Year 2015 Should be 3 Lane should be Divided Arterial\n"
     ]
    },
    {
     "name": "stderr",
     "output_type": "stream",
     "text": [
      "c:\\Users\\wangs1\\AppData\\Local\\Continuum\\anaconda3\\envs\\lasso_bayarea\\lib\\site-packages\\geopandas\\geodataframe.py:1351: SettingWithCopyWarning: \n",
      "A value is trying to be set on a copy of a slice from a DataFrame.\n",
      "Try using .loc[row_indexer,col_indexer] = value instead\n",
      "\n",
      "See the caveats in the documentation: https://pandas.pydata.org/pandas-docs/stable/user_guide/indexing.html#returning-a-view-versus-a-copy\n",
      "  super().__setitem__(key, value)\n",
      "c:\\Users\\wangs1\\AppData\\Local\\Continuum\\anaconda3\\envs\\lasso_bayarea\\lib\\site-packages\\geopandas\\geodataframe.py:1351: SettingWithCopyWarning: \n",
      "A value is trying to be set on a copy of a slice from a DataFrame.\n",
      "Try using .loc[row_indexer,col_indexer] = value instead\n",
      "\n",
      "See the caveats in the documentation: https://pandas.pydata.org/pandas-docs/stable/user_guide/indexing.html#returning-a-view-versus-a-copy\n",
      "  super().__setitem__(key, value)\n",
      "c:\\Users\\wangs1\\AppData\\Local\\Continuum\\anaconda3\\envs\\lasso_bayarea\\lib\\site-packages\\geopandas\\geodataframe.py:1351: SettingWithCopyWarning: \n",
      "A value is trying to be set on a copy of a slice from a DataFrame.\n",
      "Try using .loc[row_indexer,col_indexer] = value instead\n",
      "\n",
      "See the caveats in the documentation: https://pandas.pydata.org/pandas-docs/stable/user_guide/indexing.html#returning-a-view-versus-a-copy\n",
      "  super().__setitem__(key, value)\n"
     ]
    },
    {
     "name": "stdout",
     "output_type": "stream",
     "text": [
      "Applying [D:/github/lfs-cleaning/travel-model-two-networks\\project_cards\\year_2015_roadway_property_change_should_be_3_lane_correct_facility_type.yml]:Year 2015 Should be 3 Lane correct facility type\n",
      "Applying [D:/github/lfs-cleaning/travel-model-two-networks\\project_cards\\year_2015_roadway_property_change_should_be_3_lane_correct_facility_type.yml]:Year 2015 Should be 3 Lane correct facility type\n",
      "Applying Project to Roadway Network: Year 2015 Should be 3 Lane correct facility type\n",
      "Applying [D:/github/lfs-cleaning/travel-model-two-networks\\project_cards\\year_2015_roadway_property_change_should_be_3_lanes.yml]:Year 2015 Modify Lanes to 3 Lanes\n",
      "Applying [D:/github/lfs-cleaning/travel-model-two-networks\\project_cards\\year_2015_roadway_property_change_should_be_3_lanes.yml]:Year 2015 Modify Lanes to 3 Lanes\n",
      "Applying Project to Roadway Network: Year 2015 Modify Lanes to 3 Lanes\n",
      "Applying [D:/github/lfs-cleaning/travel-model-two-networks\\project_cards\\year_2015_roadway_property_change_should_be_2_lane_should_be_divided_arterial.yml]:Year 2015 Should be 2 Lane should be Divided Arterial\n",
      "Applying [D:/github/lfs-cleaning/travel-model-two-networks\\project_cards\\year_2015_roadway_property_change_should_be_2_lane_should_be_divided_arterial.yml]:Year 2015 Should be 2 Lane should be Divided Arterial\n",
      "Applying Project to Roadway Network: Year 2015 Should be 2 Lane should be Divided Arterial\n"
     ]
    },
    {
     "name": "stderr",
     "output_type": "stream",
     "text": [
      "c:\\Users\\wangs1\\AppData\\Local\\Continuum\\anaconda3\\envs\\lasso_bayarea\\lib\\site-packages\\geopandas\\geodataframe.py:1351: SettingWithCopyWarning: \n",
      "A value is trying to be set on a copy of a slice from a DataFrame.\n",
      "Try using .loc[row_indexer,col_indexer] = value instead\n",
      "\n",
      "See the caveats in the documentation: https://pandas.pydata.org/pandas-docs/stable/user_guide/indexing.html#returning-a-view-versus-a-copy\n",
      "  super().__setitem__(key, value)\n",
      "c:\\Users\\wangs1\\AppData\\Local\\Continuum\\anaconda3\\envs\\lasso_bayarea\\lib\\site-packages\\geopandas\\geodataframe.py:1351: SettingWithCopyWarning: \n",
      "A value is trying to be set on a copy of a slice from a DataFrame.\n",
      "Try using .loc[row_indexer,col_indexer] = value instead\n",
      "\n",
      "See the caveats in the documentation: https://pandas.pydata.org/pandas-docs/stable/user_guide/indexing.html#returning-a-view-versus-a-copy\n",
      "  super().__setitem__(key, value)\n",
      "c:\\Users\\wangs1\\AppData\\Local\\Continuum\\anaconda3\\envs\\lasso_bayarea\\lib\\site-packages\\geopandas\\geodataframe.py:1351: SettingWithCopyWarning: \n",
      "A value is trying to be set on a copy of a slice from a DataFrame.\n",
      "Try using .loc[row_indexer,col_indexer] = value instead\n",
      "\n",
      "See the caveats in the documentation: https://pandas.pydata.org/pandas-docs/stable/user_guide/indexing.html#returning-a-view-versus-a-copy\n",
      "  super().__setitem__(key, value)\n"
     ]
    },
    {
     "name": "stdout",
     "output_type": "stream",
     "text": [
      "Applying [D:/github/lfs-cleaning/travel-model-two-networks\\project_cards\\year_2015_roadway_property_change_should_be_2_lane_correct_facility_type.yml]:Year 2015 Should be 2 Lane correct facility type\n",
      "Applying [D:/github/lfs-cleaning/travel-model-two-networks\\project_cards\\year_2015_roadway_property_change_should_be_2_lane_correct_facility_type.yml]:Year 2015 Should be 2 Lane correct facility type\n",
      "Applying Project to Roadway Network: Year 2015 Should be 2 Lane correct facility type\n",
      "Applying [D:/github/lfs-cleaning/travel-model-two-networks\\project_cards\\year_2015_roadway_property_change_should_be_2_lanes.yml]:Year 2015 Modify Lanes to 2 Lanes\n",
      "Applying [D:/github/lfs-cleaning/travel-model-two-networks\\project_cards\\year_2015_roadway_property_change_should_be_2_lanes.yml]:Year 2015 Modify Lanes to 2 Lanes\n",
      "Applying Project to Roadway Network: Year 2015 Modify Lanes to 2 Lanes\n",
      "Applying [D:/github/lfs-cleaning/travel-model-two-networks\\project_cards\\year_2015_roadway_property_change_should_be_1_lane_should_be_divided_arterial.yml]:Year 2015 Should be 1 Lane should be Divided Arterial\n",
      "Applying [D:/github/lfs-cleaning/travel-model-two-networks\\project_cards\\year_2015_roadway_property_change_should_be_1_lane_should_be_divided_arterial.yml]:Year 2015 Should be 1 Lane should be Divided Arterial\n",
      "Applying Project to Roadway Network: Year 2015 Should be 1 Lane should be Divided Arterial\n"
     ]
    },
    {
     "name": "stderr",
     "output_type": "stream",
     "text": [
      "c:\\Users\\wangs1\\AppData\\Local\\Continuum\\anaconda3\\envs\\lasso_bayarea\\lib\\site-packages\\geopandas\\geodataframe.py:1351: SettingWithCopyWarning: \n",
      "A value is trying to be set on a copy of a slice from a DataFrame.\n",
      "Try using .loc[row_indexer,col_indexer] = value instead\n",
      "\n",
      "See the caveats in the documentation: https://pandas.pydata.org/pandas-docs/stable/user_guide/indexing.html#returning-a-view-versus-a-copy\n",
      "  super().__setitem__(key, value)\n",
      "c:\\Users\\wangs1\\AppData\\Local\\Continuum\\anaconda3\\envs\\lasso_bayarea\\lib\\site-packages\\geopandas\\geodataframe.py:1351: SettingWithCopyWarning: \n",
      "A value is trying to be set on a copy of a slice from a DataFrame.\n",
      "Try using .loc[row_indexer,col_indexer] = value instead\n",
      "\n",
      "See the caveats in the documentation: https://pandas.pydata.org/pandas-docs/stable/user_guide/indexing.html#returning-a-view-versus-a-copy\n",
      "  super().__setitem__(key, value)\n"
     ]
    },
    {
     "name": "stdout",
     "output_type": "stream",
     "text": [
      "Applying [D:/github/lfs-cleaning/travel-model-two-networks\\project_cards\\year_2015_roadway_property_change_should_be_1_lane_correct_facility_type.yml]:Year 2015 Should be 1 Lane correct facility type\n",
      "Applying [D:/github/lfs-cleaning/travel-model-two-networks\\project_cards\\year_2015_roadway_property_change_should_be_1_lane_correct_facility_type.yml]:Year 2015 Should be 1 Lane correct facility type\n",
      "Applying Project to Roadway Network: Year 2015 Should be 1 Lane correct facility type\n",
      "Applying [D:/github/lfs-cleaning/travel-model-two-networks\\project_cards\\year_2015_roadway_property_change_should_be_1_lane.yml]:Year 2015 Modify Lanes to 1 Lane\n",
      "Applying [D:/github/lfs-cleaning/travel-model-two-networks\\project_cards\\year_2015_roadway_property_change_should_be_1_lane.yml]:Year 2015 Modify Lanes to 1 Lane\n",
      "Applying Project to Roadway Network: Year 2015 Modify Lanes to 1 Lane\n",
      "Applying [D:/github/lfs-cleaning/travel-model-two-networks\\project_cards\\year_2015_roadway_property_change_should_be_14_lanes.yml]:Year 2015 Modify Lanes to 14 Lanes\n",
      "Applying [D:/github/lfs-cleaning/travel-model-two-networks\\project_cards\\year_2015_roadway_property_change_should_be_14_lanes.yml]:Year 2015 Modify Lanes to 14 Lanes\n",
      "Applying Project to Roadway Network: Year 2015 Modify Lanes to 14 Lanes\n"
     ]
    },
    {
     "name": "stderr",
     "output_type": "stream",
     "text": [
      "c:\\Users\\wangs1\\AppData\\Local\\Continuum\\anaconda3\\envs\\lasso_bayarea\\lib\\site-packages\\geopandas\\geodataframe.py:1351: SettingWithCopyWarning: \n",
      "A value is trying to be set on a copy of a slice from a DataFrame.\n",
      "Try using .loc[row_indexer,col_indexer] = value instead\n",
      "\n",
      "See the caveats in the documentation: https://pandas.pydata.org/pandas-docs/stable/user_guide/indexing.html#returning-a-view-versus-a-copy\n",
      "  super().__setitem__(key, value)\n",
      "c:\\Users\\wangs1\\AppData\\Local\\Continuum\\anaconda3\\envs\\lasso_bayarea\\lib\\site-packages\\geopandas\\geodataframe.py:1351: SettingWithCopyWarning: \n",
      "A value is trying to be set on a copy of a slice from a DataFrame.\n",
      "Try using .loc[row_indexer,col_indexer] = value instead\n",
      "\n",
      "See the caveats in the documentation: https://pandas.pydata.org/pandas-docs/stable/user_guide/indexing.html#returning-a-view-versus-a-copy\n",
      "  super().__setitem__(key, value)\n",
      "c:\\Users\\wangs1\\AppData\\Local\\Continuum\\anaconda3\\envs\\lasso_bayarea\\lib\\site-packages\\geopandas\\geodataframe.py:1351: SettingWithCopyWarning: \n",
      "A value is trying to be set on a copy of a slice from a DataFrame.\n",
      "Try using .loc[row_indexer,col_indexer] = value instead\n",
      "\n",
      "See the caveats in the documentation: https://pandas.pydata.org/pandas-docs/stable/user_guide/indexing.html#returning-a-view-versus-a-copy\n",
      "  super().__setitem__(key, value)\n",
      "c:\\Users\\wangs1\\AppData\\Local\\Continuum\\anaconda3\\envs\\lasso_bayarea\\lib\\site-packages\\geopandas\\geodataframe.py:1351: SettingWithCopyWarning: \n",
      "A value is trying to be set on a copy of a slice from a DataFrame.\n",
      "Try using .loc[row_indexer,col_indexer] = value instead\n",
      "\n",
      "See the caveats in the documentation: https://pandas.pydata.org/pandas-docs/stable/user_guide/indexing.html#returning-a-view-versus-a-copy\n",
      "  super().__setitem__(key, value)\n"
     ]
    },
    {
     "name": "stdout",
     "output_type": "stream",
     "text": [
      "Applying [D:/github/lfs-cleaning/travel-model-two-networks\\project_cards\\year_2015_roadway_property_change_should be 3_lane_should_be_undivided_arterial.yml]:Year 2015 Should be 3 Lane should be Undivided Arterial\n",
      "Applying [D:/github/lfs-cleaning/travel-model-two-networks\\project_cards\\year_2015_roadway_property_change_should be 3_lane_should_be_undivided_arterial.yml]:Year 2015 Should be 3 Lane should be Undivided Arterial\n",
      "Applying Project to Roadway Network: Year 2015 Should be 3 Lane should be Undivided Arterial\n",
      "Applying [D:/github/lfs-cleaning/travel-model-two-networks\\project_cards\\year_2015_roadway_property_change_should be 2_lane_should_be_undivided_arterial.yml]:Year 2015 Should be 2 Lane should be Undivided Arterial\n",
      "Applying [D:/github/lfs-cleaning/travel-model-two-networks\\project_cards\\year_2015_roadway_property_change_should be 2_lane_should_be_undivided_arterial.yml]:Year 2015 Should be 2 Lane should be Undivided Arterial\n",
      "Applying Project to Roadway Network: Year 2015 Should be 2 Lane should be Undivided Arterial\n",
      "Applying [D:/github/lfs-cleaning/travel-model-two-networks\\project_cards\\year_2015_roadway_property_change_lanes_correct_should_be_undivided_arterial.yml]:Year 2015 Lane correct should be Undivided Arterial\n",
      "Applying [D:/github/lfs-cleaning/travel-model-two-networks\\project_cards\\year_2015_roadway_property_change_lanes_correct_should_be_undivided_arterial.yml]:Year 2015 Lane correct should be Undivided Arterial\n",
      "Applying Project to Roadway Network: Year 2015 Lane correct should be Undivided Arterial\n",
      "Applying [D:/github/lfs-cleaning/travel-model-two-networks\\project_cards\\year_2015_roadway_property_change_lanes_correct_should_be_expressway.yml]:Year 2015 Lanes Correct should be Expressway\n",
      "Applying [D:/github/lfs-cleaning/travel-model-two-networks\\project_cards\\year_2015_roadway_property_change_lanes_correct_should_be_expressway.yml]:Year 2015 Lanes Correct should be Expressway\n"
     ]
    },
    {
     "name": "stderr",
     "output_type": "stream",
     "text": [
      "c:\\Users\\wangs1\\AppData\\Local\\Continuum\\anaconda3\\envs\\lasso_bayarea\\lib\\site-packages\\geopandas\\geodataframe.py:1351: SettingWithCopyWarning: \n",
      "A value is trying to be set on a copy of a slice from a DataFrame.\n",
      "Try using .loc[row_indexer,col_indexer] = value instead\n",
      "\n",
      "See the caveats in the documentation: https://pandas.pydata.org/pandas-docs/stable/user_guide/indexing.html#returning-a-view-versus-a-copy\n",
      "  super().__setitem__(key, value)\n",
      "c:\\Users\\wangs1\\AppData\\Local\\Continuum\\anaconda3\\envs\\lasso_bayarea\\lib\\site-packages\\geopandas\\geodataframe.py:1351: SettingWithCopyWarning: \n",
      "A value is trying to be set on a copy of a slice from a DataFrame.\n",
      "Try using .loc[row_indexer,col_indexer] = value instead\n",
      "\n",
      "See the caveats in the documentation: https://pandas.pydata.org/pandas-docs/stable/user_guide/indexing.html#returning-a-view-versus-a-copy\n",
      "  super().__setitem__(key, value)\n",
      "c:\\Users\\wangs1\\AppData\\Local\\Continuum\\anaconda3\\envs\\lasso_bayarea\\lib\\site-packages\\geopandas\\geodataframe.py:1351: SettingWithCopyWarning: \n",
      "A value is trying to be set on a copy of a slice from a DataFrame.\n",
      "Try using .loc[row_indexer,col_indexer] = value instead\n",
      "\n",
      "See the caveats in the documentation: https://pandas.pydata.org/pandas-docs/stable/user_guide/indexing.html#returning-a-view-versus-a-copy\n",
      "  super().__setitem__(key, value)\n"
     ]
    },
    {
     "name": "stdout",
     "output_type": "stream",
     "text": [
      "Applying Project to Roadway Network: Year 2015 Lanes Correct should be Expressway\n",
      "Applying [D:/github/lfs-cleaning/travel-model-two-networks\\project_cards\\year_2015_roadway_property_change_lanes_correct_should_be_divided_arterials_part4.yml]:Year 2015 Correct As Is should be Divided Arterial part 4\n",
      "Applying [D:/github/lfs-cleaning/travel-model-two-networks\\project_cards\\year_2015_roadway_property_change_lanes_correct_should_be_divided_arterials_part4.yml]:Year 2015 Correct As Is should be Divided Arterial part 4\n",
      "Applying Project to Roadway Network: Year 2015 Correct As Is should be Divided Arterial part 4\n",
      "Applying [D:/github/lfs-cleaning/travel-model-two-networks\\project_cards\\year_2015_roadway_property_change_lanes_correct_should_be_divided_arterials_part3.yml]:Year 2015 Correct As Is should be Divided Arterial part 3\n",
      "Applying [D:/github/lfs-cleaning/travel-model-two-networks\\project_cards\\year_2015_roadway_property_change_lanes_correct_should_be_divided_arterials_part3.yml]:Year 2015 Correct As Is should be Divided Arterial part 3\n",
      "Applying Project to Roadway Network: Year 2015 Correct As Is should be Divided Arterial part 3\n",
      "Applying [D:/github/lfs-cleaning/travel-model-two-networks\\project_cards\\year_2015_roadway_property_change_lanes_correct_should_be_divided_arterials_part2.yml]:Year 2015 Correct As Is should be Divided Arterial part 2\n",
      "Applying [D:/github/lfs-cleaning/travel-model-two-networks\\project_cards\\year_2015_roadway_property_change_lanes_correct_should_be_divided_arterials_part2.yml]:Year 2015 Correct As Is should be Divided Arterial part 2\n",
      "Applying Project to Roadway Network: Year 2015 Correct As Is should be Divided Arterial part 2\n"
     ]
    },
    {
     "name": "stderr",
     "output_type": "stream",
     "text": [
      "c:\\Users\\wangs1\\AppData\\Local\\Continuum\\anaconda3\\envs\\lasso_bayarea\\lib\\site-packages\\geopandas\\geodataframe.py:1351: SettingWithCopyWarning: \n",
      "A value is trying to be set on a copy of a slice from a DataFrame.\n",
      "Try using .loc[row_indexer,col_indexer] = value instead\n",
      "\n",
      "See the caveats in the documentation: https://pandas.pydata.org/pandas-docs/stable/user_guide/indexing.html#returning-a-view-versus-a-copy\n",
      "  super().__setitem__(key, value)\n",
      "c:\\Users\\wangs1\\AppData\\Local\\Continuum\\anaconda3\\envs\\lasso_bayarea\\lib\\site-packages\\geopandas\\geodataframe.py:1351: SettingWithCopyWarning: \n",
      "A value is trying to be set on a copy of a slice from a DataFrame.\n",
      "Try using .loc[row_indexer,col_indexer] = value instead\n",
      "\n",
      "See the caveats in the documentation: https://pandas.pydata.org/pandas-docs/stable/user_guide/indexing.html#returning-a-view-versus-a-copy\n",
      "  super().__setitem__(key, value)\n",
      "c:\\Users\\wangs1\\AppData\\Local\\Continuum\\anaconda3\\envs\\lasso_bayarea\\lib\\site-packages\\geopandas\\geodataframe.py:1351: SettingWithCopyWarning: \n",
      "A value is trying to be set on a copy of a slice from a DataFrame.\n",
      "Try using .loc[row_indexer,col_indexer] = value instead\n",
      "\n",
      "See the caveats in the documentation: https://pandas.pydata.org/pandas-docs/stable/user_guide/indexing.html#returning-a-view-versus-a-copy\n",
      "  super().__setitem__(key, value)\n"
     ]
    },
    {
     "name": "stdout",
     "output_type": "stream",
     "text": [
      "Applying [D:/github/lfs-cleaning/travel-model-two-networks\\project_cards\\year_2015_roadway_property_change_lanes_correct_should_be_divided_arterials_part1.yml]:Year 2015 Correct As Is should be Divided Arterial part 1\n",
      "Applying [D:/github/lfs-cleaning/travel-model-two-networks\\project_cards\\year_2015_roadway_property_change_lanes_correct_should_be_divided_arterials_part1.yml]:Year 2015 Correct As Is should be Divided Arterial part 1\n",
      "Applying Project to Roadway Network: Year 2015 Correct As Is should be Divided Arterial part 1\n",
      "Applying [D:/github/lfs-cleaning/travel-model-two-networks\\project_cards\\year_2015_pacheco_pass_highway_missing_segments.yml]:year 2015 pacheco pass highway missing segments\n",
      "Applying [D:/github/lfs-cleaning/travel-model-two-networks\\project_cards\\year_2015_pacheco_pass_highway_missing_segments.yml]:year 2015 pacheco pass highway missing segments\n",
      "Applying Project to Roadway Network: year 2015 pacheco pass highway missing segments\n"
     ]
    },
    {
     "name": "stderr",
     "output_type": "stream",
     "text": [
      "c:\\Users\\wangs1\\AppData\\Local\\Continuum\\anaconda3\\envs\\lasso_bayarea\\lib\\site-packages\\geopandas\\geodataframe.py:1351: SettingWithCopyWarning: \n",
      "A value is trying to be set on a copy of a slice from a DataFrame.\n",
      "Try using .loc[row_indexer,col_indexer] = value instead\n",
      "\n",
      "See the caveats in the documentation: https://pandas.pydata.org/pandas-docs/stable/user_guide/indexing.html#returning-a-view-versus-a-copy\n",
      "  super().__setitem__(key, value)\n",
      "c:\\Users\\wangs1\\AppData\\Local\\Continuum\\anaconda3\\envs\\lasso_bayarea\\lib\\site-packages\\geopandas\\geodataframe.py:1351: SettingWithCopyWarning: \n",
      "A value is trying to be set on a copy of a slice from a DataFrame.\n",
      "Try using .loc[row_indexer,col_indexer] = value instead\n",
      "\n",
      "See the caveats in the documentation: https://pandas.pydata.org/pandas-docs/stable/user_guide/indexing.html#returning-a-view-versus-a-copy\n",
      "  super().__setitem__(key, value)\n"
     ]
    },
    {
     "name": "stdout",
     "output_type": "stream",
     "text": [
      "Applying [D:/github/lfs-cleaning/travel-model-two-networks\\project_cards\\year_2015_golden_gate_bridge_plaza_add.yml]:add golden gate bridge toll plaza\n",
      "Applying [D:/github/lfs-cleaning/travel-model-two-networks\\project_cards\\year_2015_golden_gate_bridge_plaza_add.yml]:add golden gate bridge toll plaza\n",
      "Applying Project to Roadway Network: add golden gate bridge toll plaza\n",
      "Applying Project to Transit Network: add golden gate bridge toll plaza\n",
      "Roadway Deletion not yet implemented in Transit; ignoring\n",
      "Applying [D:/github/lfs-cleaning/travel-model-two-networks\\project_cards\\year_2015_golden_gate_bridge_plaza_add.yml]:add golden gate bridge toll plaza\n",
      "Applying Project to Roadway Network: add golden gate bridge toll plaza\n",
      "Applying [D:/github/lfs-cleaning/travel-model-two-networks\\project_cards\\year_2015_bus_only_transbay_terminal_ramps.yml]:Year 2015 Bus Only Segments for Transbay Terminal Ramps\n",
      "Applying [D:/github/lfs-cleaning/travel-model-two-networks\\project_cards\\year_2015_bus_only_transbay_terminal_ramps.yml]:Year 2015 Bus Only Segments for Transbay Terminal Ramps\n",
      "Applying Project to Roadway Network: Year 2015 Bus Only Segments for Transbay Terminal Ramps\n",
      "Applying [D:/github/lfs-cleaning/travel-model-two-networks\\project_cards\\year_2015_bus_only_ggt_on_us101.yml]:Year 2015 Bus Only Segments for Golden Gate Transit on US 101\n",
      "Applying [D:/github/lfs-cleaning/travel-model-two-networks\\project_cards\\year_2015_bus_only_ggt_on_us101.yml]:Year 2015 Bus Only Segments for Golden Gate Transit on US 101\n",
      "Applying Project to Roadway Network: Year 2015 Bus Only Segments for Golden Gate Transit on US 101\n"
     ]
    },
    {
     "name": "stderr",
     "output_type": "stream",
     "text": [
      "c:\\Users\\wangs1\\AppData\\Local\\Continuum\\anaconda3\\envs\\lasso_bayarea\\lib\\site-packages\\geopandas\\geodataframe.py:1351: SettingWithCopyWarning: \n",
      "A value is trying to be set on a copy of a slice from a DataFrame.\n",
      "Try using .loc[row_indexer,col_indexer] = value instead\n",
      "\n",
      "See the caveats in the documentation: https://pandas.pydata.org/pandas-docs/stable/user_guide/indexing.html#returning-a-view-versus-a-copy\n",
      "  super().__setitem__(key, value)\n"
     ]
    },
    {
     "name": "stdout",
     "output_type": "stream",
     "text": [
      "Applying [D:/github/lfs-cleaning/travel-model-two-networks\\project_cards\\sterling_on_ramp_hov_only.wrangler]:year 2015 sterling on ramp HOV only in PM\n",
      "Applying Project to Roadway Network: year 2015 sterling on ramp HOV only in PM\n",
      "Applying [D:/github/lfs-cleaning/travel-model-two-networks\\project_cards\\reversible_lanes_golden_gate_bridge.wrangler]:year 2015 golden gate reversible lanes\n",
      "Applying Project to Roadway Network: year 2015 golden gate reversible lanes\n"
     ]
    },
    {
     "name": "stderr",
     "output_type": "stream",
     "text": [
      "c:\\Users\\wangs1\\AppData\\Local\\Continuum\\anaconda3\\envs\\lasso_bayarea\\lib\\site-packages\\geopandas\\geodataframe.py:1351: SettingWithCopyWarning: \n",
      "A value is trying to be set on a copy of a slice from a DataFrame.\n",
      "Try using .loc[row_indexer,col_indexer] = value instead\n",
      "\n",
      "See the caveats in the documentation: https://pandas.pydata.org/pandas-docs/stable/user_guide/indexing.html#returning-a-view-versus-a-copy\n",
      "  super().__setitem__(key, value)\n"
     ]
    },
    {
     "name": "stdout",
     "output_type": "stream",
     "text": [
      "Applying [D:/github/lfs-cleaning/travel-model-two-networks\\project_cards\\golden_gate_bridge_shape.wrangler]:year 2015 golden gate bridge shape correction\n",
      "Applying Project to Roadway Network: year 2015 golden gate bridge shape correction\n"
     ]
    }
   ],
   "source": [
    "step1_scenario.apply_all_projects()"
   ]
  },
  {
   "cell_type": "code",
   "execution_count": 14,
   "metadata": {},
   "outputs": [
    {
     "data": {
      "text/html": [
       "<div>\n",
       "<style scoped>\n",
       "    .dataframe tbody tr th:only-of-type {\n",
       "        vertical-align: middle;\n",
       "    }\n",
       "\n",
       "    .dataframe tbody tr th {\n",
       "        vertical-align: top;\n",
       "    }\n",
       "\n",
       "    .dataframe thead th {\n",
       "        text-align: right;\n",
       "    }\n",
       "</style>\n",
       "<table border=\"1\" class=\"dataframe\">\n",
       "  <thead>\n",
       "    <tr style=\"text-align: right;\">\n",
       "      <th></th>\n",
       "      <th>A</th>\n",
       "      <th>B</th>\n",
       "      <th>geometry</th>\n",
       "      <th>id</th>\n",
       "    </tr>\n",
       "  </thead>\n",
       "  <tbody>\n",
       "    <tr>\n",
       "      <th>1634794</th>\n",
       "      <td>5013515</td>\n",
       "      <td>5030001</td>\n",
       "      <td>LINESTRING (-122.48221 37.83307, -122.48175 37...</td>\n",
       "      <td>d01b27cabff869e0bf4f7187ee77d6de</td>\n",
       "    </tr>\n",
       "  </tbody>\n",
       "</table>\n",
       "</div>"
      ],
      "text/plain": [
       "               A        B                                           geometry  \\\n",
       "1634794  5013515  5030001  LINESTRING (-122.48221 37.83307, -122.48175 37...   \n",
       "\n",
       "                                       id  \n",
       "1634794  d01b27cabff869e0bf4f7187ee77d6de  "
      ]
     },
     "execution_count": 14,
     "metadata": {},
     "output_type": "execute_result"
    }
   ],
   "source": [
    "step1_scenario.road_net.links_df[step1_scenario.road_net.links_df.model_link_id == 8063198][[\"A\", \"B\", \"geometry\", \"id\"]]"
   ]
  },
  {
   "cell_type": "code",
   "execution_count": 15,
   "metadata": {},
   "outputs": [
    {
     "data": {
      "text/html": [
       "<div>\n",
       "<style scoped>\n",
       "    .dataframe tbody tr th:only-of-type {\n",
       "        vertical-align: middle;\n",
       "    }\n",
       "\n",
       "    .dataframe tbody tr th {\n",
       "        vertical-align: top;\n",
       "    }\n",
       "\n",
       "    .dataframe thead th {\n",
       "        text-align: right;\n",
       "    }\n",
       "</style>\n",
       "<table border=\"1\" class=\"dataframe\">\n",
       "  <thead>\n",
       "    <tr style=\"text-align: right;\">\n",
       "      <th></th>\n",
       "      <th>osm_node_id</th>\n",
       "      <th>shst_node_id</th>\n",
       "      <th>county</th>\n",
       "      <th>drive_access</th>\n",
       "      <th>walk_access</th>\n",
       "      <th>bike_access</th>\n",
       "      <th>model_node_id</th>\n",
       "      <th>rail_only</th>\n",
       "      <th>X</th>\n",
       "      <th>Y</th>\n",
       "      <th>geometry</th>\n",
       "      <th>farezone</th>\n",
       "    </tr>\n",
       "  </thead>\n",
       "  <tbody>\n",
       "    <tr>\n",
       "      <th>644481</th>\n",
       "      <td>NaN</td>\n",
       "      <td></td>\n",
       "      <td>Marin</td>\n",
       "      <td>1</td>\n",
       "      <td>0</td>\n",
       "      <td>0</td>\n",
       "      <td>5030001</td>\n",
       "      <td>0</td>\n",
       "      <td>-122.47658</td>\n",
       "      <td>37.808073</td>\n",
       "      <td>POINT (-122.47658 37.80807)</td>\n",
       "      <td></td>\n",
       "    </tr>\n",
       "  </tbody>\n",
       "</table>\n",
       "</div>"
      ],
      "text/plain": [
       "        osm_node_id shst_node_id county  drive_access  walk_access  \\\n",
       "644481          NaN               Marin             1            0   \n",
       "\n",
       "        bike_access  model_node_id  rail_only          X          Y  \\\n",
       "644481            0        5030001          0 -122.47658  37.808073   \n",
       "\n",
       "                           geometry farezone  \n",
       "644481  POINT (-122.47658 37.80807)           "
      ]
     },
     "execution_count": 15,
     "metadata": {},
     "output_type": "execute_result"
    }
   ],
   "source": [
    "step1_scenario.road_net.nodes_df[step1_scenario.road_net.nodes_df.model_node_id == 5030001]"
   ]
  },
  {
   "cell_type": "code",
   "execution_count": 16,
   "metadata": {},
   "outputs": [
    {
     "data": {
      "text/plain": [
       "[(-122.4822082, 37.8330742),\n",
       " (-122.48175233602524, 37.832883609672905),\n",
       " (-122.48116359114647, 37.83254572138074),\n",
       " (-122.4807545542717, 37.8322078315411),\n",
       " (-122.48029455542564, 37.83168881278591),\n",
       " (-122.48009875416754, 37.83132443825398),\n",
       " (-122.47998476028442, 37.83103844535508),\n",
       " (-122.47989490628242, 37.83066029748685),\n",
       " (-122.47976046055554, 37.829561062531596),\n",
       " (-122.47972592711449, 37.82925917389109),\n",
       " (-122.47969474643469, 37.82899541754155),\n",
       " (-122.47965652495623, 37.82866942822046),\n",
       " (-122.47961830347776, 37.828343967096075),\n",
       " (-122.4795787408948, 37.82800393945721),\n",
       " (-122.47953817248343, 37.82765676008782),\n",
       " (-122.47949860990049, 37.827314081061175),\n",
       " (-122.47865572571753, 37.820096795765785),\n",
       " (-122.4780549108982, 37.81498611149333),\n",
       " (-122.47746214270592, 37.80990050232683),\n",
       " (-122.47741788625717, 37.80948516210632),\n",
       " (-122.47734010219573, 37.80920968005912),\n",
       " (-122.47717916965483, 37.80883671811151),\n",
       " (-122.47690826654433, 37.808453158689176),\n",
       " (-122.47657969594002, 37.808072775968476)]"
      ]
     },
     "execution_count": 16,
     "metadata": {},
     "output_type": "execute_result"
    }
   ],
   "source": [
    "list(step1_scenario.road_net.links_df[step1_scenario.road_net.links_df.model_link_id == 8063198].geometry.iloc[0].coords)"
   ]
  },
  {
   "cell_type": "code",
   "execution_count": 17,
   "metadata": {},
   "outputs": [
    {
     "data": {
      "text/plain": [
       "[(-122.4822082, 37.8330742),\n",
       " (-122.48175233602524, 37.832883609672905),\n",
       " (-122.48116359114647, 37.83254572138074),\n",
       " (-122.4807545542717, 37.8322078315411),\n",
       " (-122.48029455542564, 37.83168881278591),\n",
       " (-122.48009875416754, 37.83132443825398),\n",
       " (-122.47998476028442, 37.83103844535508),\n",
       " (-122.47989490628242, 37.83066029748685),\n",
       " (-122.47976046055554, 37.829561062531596),\n",
       " (-122.47972592711449, 37.82925917389109),\n",
       " (-122.47969474643469, 37.82899541754155),\n",
       " (-122.47965652495623, 37.82866942822046),\n",
       " (-122.47961830347776, 37.828343967096075),\n",
       " (-122.4795787408948, 37.82800393945721),\n",
       " (-122.47953817248343, 37.82765676008782),\n",
       " (-122.47949860990049, 37.827314081061175),\n",
       " (-122.47865572571753, 37.820096795765785),\n",
       " (-122.4780549108982, 37.81498611149333),\n",
       " (-122.47746214270592, 37.80990050232683),\n",
       " (-122.47741788625717, 37.80948516210632),\n",
       " (-122.47734010219573, 37.80920968005912),\n",
       " (-122.47717916965483, 37.80883671811151),\n",
       " (-122.47690826654433, 37.808453158689176),\n",
       " (-122.47657969594002, 37.808072775968476)]"
      ]
     },
     "execution_count": 17,
     "metadata": {},
     "output_type": "execute_result"
    }
   ],
   "source": [
    "list(step1_scenario.road_net.shapes_df[step1_scenario.road_net.shapes_df.id == \"d01b27cabff869e0bf4f7187ee77d6de\"].geometry.iloc[0].coords)"
   ]
  },
  {
   "cell_type": "code",
   "execution_count": 18,
   "metadata": {
    "scrolled": true
   },
   "outputs": [
    {
     "name": "stdout",
     "output_type": "stream",
     "text": [
      "Creating Scenario\n"
     ]
    },
    {
     "name": "stderr",
     "output_type": "stream",
     "text": [
      "z:\\data\\users\\sijia\\mtc\\github\\network_wrangler\\network_wrangler\\projectcard.py:115: YAMLLoadWarning: calling yaml.load() without Loader=... is deprecated, as the default Loader is unsafe. Please read https://msg.pyyaml.org/load for full details.\n",
      "  attribute_dictionary = yaml.load(_yaml)\n"
     ]
    }
   ],
   "source": [
    "step2_scenario = Scenario.create_scenario(\n",
    "    base_scenario = step1_scenario,\n",
    "    card_directory = card_dir,\n",
    "    project_cards_list = [],\n",
    "    tags = ['Managed Lanes', 'toll review', 'Exclude Trucks'],\n",
    "    validate_project_cards=False)"
   ]
  },
  {
   "cell_type": "code",
   "execution_count": 19,
   "metadata": {
    "scrolled": true
   },
   "outputs": [
    {
     "name": "stdout",
     "output_type": "stream",
     "text": [
      "Projects year 2015 modify toll links on golden gate bridge toll plaza on us101 sb - bridge pass has add golden gate bridge toll plaza as prerequisite project which is missing for the scenario\n",
      "Projects year 2015 modify hov lanes and use on san mateo bridge toll plaza toll plaza on ca-92 wb - bridge pass has add san mateo bridge toll plaza as prerequisite project which is missing for the scenario\n",
      "Applying [D:/github/lfs-cleaning/travel-model-two-networks\\project_cards\\year_2015_san_mateo_bridge_toll_plaza.yml]:year 2015 modify hov lanes and use on san mateo bridge toll plaza toll plaza on ca-92 wb - bridge pass\n",
      "Applying [D:/github/lfs-cleaning/travel-model-two-networks\\project_cards\\year_2015_san_mateo_bridge_toll_plaza.yml]:year 2015 modify hov lanes and use on san mateo bridge toll plaza toll plaza on ca-92 wb - bridge pass\n",
      "Applying Project to Roadway Network: year 2015 modify hov lanes and use on san mateo bridge toll plaza toll plaza on ca-92 wb - bridge pass\n",
      "Applying [D:/github/lfs-cleaning/travel-model-two-networks\\project_cards\\year_2015_roadway_property_change_benicia_bridge_segment_03.yml]:Year 2015 Modify HOV Lanes and USE on Benicia Bridge Toll Plaza - Segment 03 - Bridge Pass\n",
      "Applying [D:/github/lfs-cleaning/travel-model-two-networks\\project_cards\\year_2015_roadway_property_change_benicia_bridge_segment_03.yml]:Year 2015 Modify HOV Lanes and USE on Benicia Bridge Toll Plaza - Segment 03 - Bridge Pass\n",
      "Applying Project to Roadway Network: Year 2015 Modify HOV Lanes and USE on Benicia Bridge Toll Plaza - Segment 03 - Bridge Pass\n"
     ]
    },
    {
     "name": "stderr",
     "output_type": "stream",
     "text": [
      "c:\\Users\\wangs1\\AppData\\Local\\Continuum\\anaconda3\\envs\\lasso_bayarea\\lib\\site-packages\\geopandas\\geodataframe.py:1351: SettingWithCopyWarning: \n",
      "A value is trying to be set on a copy of a slice from a DataFrame.\n",
      "Try using .loc[row_indexer,col_indexer] = value instead\n",
      "\n",
      "See the caveats in the documentation: https://pandas.pydata.org/pandas-docs/stable/user_guide/indexing.html#returning-a-view-versus-a-copy\n",
      "  super().__setitem__(key, value)\n"
     ]
    },
    {
     "name": "stdout",
     "output_type": "stream",
     "text": [
      "Applying [D:/github/lfs-cleaning/travel-model-two-networks\\project_cards\\year_2015_richmond_bridge_toll_plaza.yml]:Year 2015 Modify HOV Lanes and USE on Richmond-San Rafael Bridge Toll Plaza - Bridge Pass\n",
      "Applying [D:/github/lfs-cleaning/travel-model-two-networks\\project_cards\\year_2015_richmond_bridge_toll_plaza.yml]:Year 2015 Modify HOV Lanes and USE on Richmond-San Rafael Bridge Toll Plaza - Bridge Pass\n",
      "Applying Project to Roadway Network: Year 2015 Modify HOV Lanes and USE on Richmond-San Rafael Bridge Toll Plaza - Bridge Pass\n",
      "Applying [D:/github/lfs-cleaning/travel-model-two-networks\\project_cards\\year_2015_managed_lane_us101s_segment02_south_healdsburg_to_north_petaluma.yml]:Year 2015 Modify USE and HOV Lanes on US-101 SB (Segment 02) from South of Healdsburg to North of Petaluma\n",
      "Applying [D:/github/lfs-cleaning/travel-model-two-networks\\project_cards\\year_2015_managed_lane_us101s_segment02_south_healdsburg_to_north_petaluma.yml]:Year 2015 Modify USE and HOV Lanes on US-101 SB (Segment 02) from South of Healdsburg to North of Petaluma\n",
      "Applying Project to Roadway Network: Year 2015 Modify USE and HOV Lanes on US-101 SB (Segment 02) from South of Healdsburg to North of Petaluma\n"
     ]
    },
    {
     "name": "stderr",
     "output_type": "stream",
     "text": [
      "c:\\Users\\wangs1\\AppData\\Local\\Continuum\\anaconda3\\envs\\lasso_bayarea\\lib\\site-packages\\geopandas\\geodataframe.py:1351: SettingWithCopyWarning: \n",
      "A value is trying to be set on a copy of a slice from a DataFrame.\n",
      "Try using .loc[row_indexer,col_indexer] = value instead\n",
      "\n",
      "See the caveats in the documentation: https://pandas.pydata.org/pandas-docs/stable/user_guide/indexing.html#returning-a-view-versus-a-copy\n",
      "  super().__setitem__(key, value)\n",
      "c:\\Users\\wangs1\\AppData\\Local\\Continuum\\anaconda3\\envs\\lasso_bayarea\\lib\\site-packages\\geopandas\\geodataframe.py:1351: SettingWithCopyWarning: \n",
      "A value is trying to be set on a copy of a slice from a DataFrame.\n",
      "Try using .loc[row_indexer,col_indexer] = value instead\n",
      "\n",
      "See the caveats in the documentation: https://pandas.pydata.org/pandas-docs/stable/user_guide/indexing.html#returning-a-view-versus-a-copy\n",
      "  super().__setitem__(key, value)\n",
      "c:\\Users\\wangs1\\AppData\\Local\\Continuum\\anaconda3\\envs\\lasso_bayarea\\lib\\site-packages\\geopandas\\geodataframe.py:1351: SettingWithCopyWarning: \n",
      "A value is trying to be set on a copy of a slice from a DataFrame.\n",
      "Try using .loc[row_indexer,col_indexer] = value instead\n",
      "\n",
      "See the caveats in the documentation: https://pandas.pydata.org/pandas-docs/stable/user_guide/indexing.html#returning-a-view-versus-a-copy\n",
      "  super().__setitem__(key, value)\n"
     ]
    },
    {
     "name": "stdout",
     "output_type": "stream",
     "text": [
      "Applying [D:/github/lfs-cleaning/travel-model-two-networks\\project_cards\\year_2015_managed_lane_us101s_novata_to_north_marin_city.yml]:Year 2015 Modify HOV Lanes and USE on US-101 SB from Novato to North of Marin City\n",
      "Applying [D:/github/lfs-cleaning/travel-model-two-networks\\project_cards\\year_2015_managed_lane_us101s_novata_to_north_marin_city.yml]:Year 2015 Modify HOV Lanes and USE on US-101 SB from Novato to North of Marin City\n",
      "Applying Project to Roadway Network: Year 2015 Modify HOV Lanes and USE on US-101 SB from Novato to North of Marin City\n"
     ]
    },
    {
     "name": "stderr",
     "output_type": "stream",
     "text": [
      "c:\\Users\\wangs1\\AppData\\Local\\Continuum\\anaconda3\\envs\\lasso_bayarea\\lib\\site-packages\\geopandas\\geodataframe.py:1351: SettingWithCopyWarning: \n",
      "A value is trying to be set on a copy of a slice from a DataFrame.\n",
      "Try using .loc[row_indexer,col_indexer] = value instead\n",
      "\n",
      "See the caveats in the documentation: https://pandas.pydata.org/pandas-docs/stable/user_guide/indexing.html#returning-a-view-versus-a-copy\n",
      "  super().__setitem__(key, value)\n"
     ]
    },
    {
     "name": "stdout",
     "output_type": "stream",
     "text": [
      "Applying [D:/github/lfs-cleaning/travel-model-two-networks\\project_cards\\year_2015_managed_lane_us101s_ca85_to_oregon_expressway.yml]:Year 2015 Modify HOV Lanes and USE on US 101 SB CA-85 to Oregon Expressway\n",
      "Applying [D:/github/lfs-cleaning/travel-model-two-networks\\project_cards\\year_2015_managed_lane_us101s_ca85_to_oregon_expressway.yml]:Year 2015 Modify HOV Lanes and USE on US 101 SB CA-85 to Oregon Expressway\n",
      "Applying Project to Roadway Network: Year 2015 Modify HOV Lanes and USE on US 101 SB CA-85 to Oregon Expressway\n"
     ]
    },
    {
     "name": "stderr",
     "output_type": "stream",
     "text": [
      "c:\\Users\\wangs1\\AppData\\Local\\Continuum\\anaconda3\\envs\\lasso_bayarea\\lib\\site-packages\\geopandas\\geodataframe.py:1351: SettingWithCopyWarning: \n",
      "A value is trying to be set on a copy of a slice from a DataFrame.\n",
      "Try using .loc[row_indexer,col_indexer] = value instead\n",
      "\n",
      "See the caveats in the documentation: https://pandas.pydata.org/pandas-docs/stable/user_guide/indexing.html#returning-a-view-versus-a-copy\n",
      "  super().__setitem__(key, value)\n"
     ]
    },
    {
     "name": "stdout",
     "output_type": "stream",
     "text": [
      "Applying [D:/github/lfs-cleaning/travel-model-two-networks\\project_cards\\year_2015_managed_lane_us101s_ca85_to_cochran_road.yml]:Year 2015 Modify HOV Lanes and USE on US 101 SB CA-85 to Cochrane Road\n",
      "Applying [D:/github/lfs-cleaning/travel-model-two-networks\\project_cards\\year_2015_managed_lane_us101s_ca85_to_cochran_road.yml]:Year 2015 Modify HOV Lanes and USE on US 101 SB CA-85 to Cochrane Road\n",
      "Applying Project to Roadway Network: Year 2015 Modify HOV Lanes and USE on US 101 SB CA-85 to Cochrane Road\n"
     ]
    },
    {
     "name": "stderr",
     "output_type": "stream",
     "text": [
      "c:\\Users\\wangs1\\AppData\\Local\\Continuum\\anaconda3\\envs\\lasso_bayarea\\lib\\site-packages\\geopandas\\geodataframe.py:1351: SettingWithCopyWarning: \n",
      "A value is trying to be set on a copy of a slice from a DataFrame.\n",
      "Try using .loc[row_indexer,col_indexer] = value instead\n",
      "\n",
      "See the caveats in the documentation: https://pandas.pydata.org/pandas-docs/stable/user_guide/indexing.html#returning-a-view-versus-a-copy\n",
      "  super().__setitem__(key, value)\n"
     ]
    },
    {
     "name": "stdout",
     "output_type": "stream",
     "text": [
      "Applying [D:/github/lfs-cleaning/travel-model-two-networks\\project_cards\\year_2015_managed_lane_us101n_segment_02_north_petaluma_to_south_healdsburg.yml]:Year 2015 Modify HOV Lanes and USE on US-101 NB (Segment 02) from North of Petaluma to South of Healdsburg\n",
      "Applying [D:/github/lfs-cleaning/travel-model-two-networks\\project_cards\\year_2015_managed_lane_us101n_segment_02_north_petaluma_to_south_healdsburg.yml]:Year 2015 Modify HOV Lanes and USE on US-101 NB (Segment 02) from North of Petaluma to South of Healdsburg\n",
      "Applying Project to Roadway Network: Year 2015 Modify HOV Lanes and USE on US-101 NB (Segment 02) from North of Petaluma to South of Healdsburg\n"
     ]
    },
    {
     "name": "stderr",
     "output_type": "stream",
     "text": [
      "c:\\Users\\wangs1\\AppData\\Local\\Continuum\\anaconda3\\envs\\lasso_bayarea\\lib\\site-packages\\geopandas\\geodataframe.py:1351: SettingWithCopyWarning: \n",
      "A value is trying to be set on a copy of a slice from a DataFrame.\n",
      "Try using .loc[row_indexer,col_indexer] = value instead\n",
      "\n",
      "See the caveats in the documentation: https://pandas.pydata.org/pandas-docs/stable/user_guide/indexing.html#returning-a-view-versus-a-copy\n",
      "  super().__setitem__(key, value)\n"
     ]
    },
    {
     "name": "stdout",
     "output_type": "stream",
     "text": [
      "Applying [D:/github/lfs-cleaning/travel-model-two-networks\\project_cards\\year_2015_managed_lane_us101n_oregon_expressway_to_whipple_road.yml]:Year 2015 Modify HOV Lanes and USE on US 101 NB Oregon Expressway to Whipple Road\n",
      "Applying [D:/github/lfs-cleaning/travel-model-two-networks\\project_cards\\year_2015_managed_lane_us101n_oregon_expressway_to_whipple_road.yml]:Year 2015 Modify HOV Lanes and USE on US 101 NB Oregon Expressway to Whipple Road\n",
      "Applying Project to Roadway Network: Year 2015 Modify HOV Lanes and USE on US 101 NB Oregon Expressway to Whipple Road\n"
     ]
    },
    {
     "name": "stderr",
     "output_type": "stream",
     "text": [
      "c:\\Users\\wangs1\\AppData\\Local\\Continuum\\anaconda3\\envs\\lasso_bayarea\\lib\\site-packages\\geopandas\\geodataframe.py:1351: SettingWithCopyWarning: \n",
      "A value is trying to be set on a copy of a slice from a DataFrame.\n",
      "Try using .loc[row_indexer,col_indexer] = value instead\n",
      "\n",
      "See the caveats in the documentation: https://pandas.pydata.org/pandas-docs/stable/user_guide/indexing.html#returning-a-view-versus-a-copy\n",
      "  super().__setitem__(key, value)\n"
     ]
    },
    {
     "name": "stdout",
     "output_type": "stream",
     "text": [
      "Applying [D:/github/lfs-cleaning/travel-model-two-networks\\project_cards\\year_2015_managed_lane_us101n_north_marin_city_to_novato.yml]:Year 2015 Modify HOV Lanes and USE on US-101 NB from North of Marin City to Novato\n",
      "Applying [D:/github/lfs-cleaning/travel-model-two-networks\\project_cards\\year_2015_managed_lane_us101n_north_marin_city_to_novato.yml]:Year 2015 Modify HOV Lanes and USE on US-101 NB from North of Marin City to Novato\n",
      "Applying Project to Roadway Network: Year 2015 Modify HOV Lanes and USE on US-101 NB from North of Marin City to Novato\n"
     ]
    },
    {
     "name": "stderr",
     "output_type": "stream",
     "text": [
      "c:\\Users\\wangs1\\AppData\\Local\\Continuum\\anaconda3\\envs\\lasso_bayarea\\lib\\site-packages\\geopandas\\geodataframe.py:1351: SettingWithCopyWarning: \n",
      "A value is trying to be set on a copy of a slice from a DataFrame.\n",
      "Try using .loc[row_indexer,col_indexer] = value instead\n",
      "\n",
      "See the caveats in the documentation: https://pandas.pydata.org/pandas-docs/stable/user_guide/indexing.html#returning-a-view-versus-a-copy\n",
      "  super().__setitem__(key, value)\n"
     ]
    },
    {
     "name": "stdout",
     "output_type": "stream",
     "text": [
      "Applying [D:/github/lfs-cleaning/travel-model-two-networks\\project_cards\\year_2015_managed_lane_us101n_cochran_road_to_ca85.yml]:Year 2015 Modify HOV Lanes and USE on US 101 NB Cochran Road to CA-85\n",
      "Applying [D:/github/lfs-cleaning/travel-model-two-networks\\project_cards\\year_2015_managed_lane_us101n_cochran_road_to_ca85.yml]:Year 2015 Modify HOV Lanes and USE on US 101 NB Cochran Road to CA-85\n",
      "Applying Project to Roadway Network: Year 2015 Modify HOV Lanes and USE on US 101 NB Cochran Road to CA-85\n"
     ]
    },
    {
     "name": "stderr",
     "output_type": "stream",
     "text": [
      "c:\\Users\\wangs1\\AppData\\Local\\Continuum\\anaconda3\\envs\\lasso_bayarea\\lib\\site-packages\\geopandas\\geodataframe.py:1351: SettingWithCopyWarning: \n",
      "A value is trying to be set on a copy of a slice from a DataFrame.\n",
      "Try using .loc[row_indexer,col_indexer] = value instead\n",
      "\n",
      "See the caveats in the documentation: https://pandas.pydata.org/pandas-docs/stable/user_guide/indexing.html#returning-a-view-versus-a-copy\n",
      "  super().__setitem__(key, value)\n"
     ]
    },
    {
     "name": "stdout",
     "output_type": "stream",
     "text": [
      "Applying [D:/github/lfs-cleaning/travel-model-two-networks\\project_cards\\year_2015_managed_lane_san_tomas_expressways_i880_to_hwy_17.yml]:Year 2015 Modify HOV Lanes and USE on San Tomas Expressway SB I-880 to Hwy 17\n",
      "Applying [D:/github/lfs-cleaning/travel-model-two-networks\\project_cards\\year_2015_managed_lane_san_tomas_expressways_i880_to_hwy_17.yml]:Year 2015 Modify HOV Lanes and USE on San Tomas Expressway SB I-880 to Hwy 17\n",
      "Applying Project to Roadway Network: Year 2015 Modify HOV Lanes and USE on San Tomas Expressway SB I-880 to Hwy 17\n"
     ]
    },
    {
     "name": "stderr",
     "output_type": "stream",
     "text": [
      "c:\\Users\\wangs1\\AppData\\Local\\Continuum\\anaconda3\\envs\\lasso_bayarea\\lib\\site-packages\\geopandas\\geodataframe.py:1351: SettingWithCopyWarning: \n",
      "A value is trying to be set on a copy of a slice from a DataFrame.\n",
      "Try using .loc[row_indexer,col_indexer] = value instead\n",
      "\n",
      "See the caveats in the documentation: https://pandas.pydata.org/pandas-docs/stable/user_guide/indexing.html#returning-a-view-versus-a-copy\n",
      "  super().__setitem__(key, value)\n"
     ]
    },
    {
     "name": "stdout",
     "output_type": "stream",
     "text": [
      "Applying [D:/github/lfs-cleaning/travel-model-two-networks\\project_cards\\year_2015_managed_lane_san_tomas_expresswayn_hwy_17_to_i880.yml]:Year 2015 Modify HOV Lanes and USE on San Tomas Expressway NB Hwy 17 to I-880\n",
      "Applying [D:/github/lfs-cleaning/travel-model-two-networks\\project_cards\\year_2015_managed_lane_san_tomas_expresswayn_hwy_17_to_i880.yml]:Year 2015 Modify HOV Lanes and USE on San Tomas Expressway NB Hwy 17 to I-880\n",
      "Applying Project to Roadway Network: Year 2015 Modify HOV Lanes and USE on San Tomas Expressway NB Hwy 17 to I-880\n"
     ]
    },
    {
     "name": "stderr",
     "output_type": "stream",
     "text": [
      "c:\\Users\\wangs1\\AppData\\Local\\Continuum\\anaconda3\\envs\\lasso_bayarea\\lib\\site-packages\\geopandas\\geodataframe.py:1351: SettingWithCopyWarning: \n",
      "A value is trying to be set on a copy of a slice from a DataFrame.\n",
      "Try using .loc[row_indexer,col_indexer] = value instead\n",
      "\n",
      "See the caveats in the documentation: https://pandas.pydata.org/pandas-docs/stable/user_guide/indexing.html#returning-a-view-versus-a-copy\n",
      "  super().__setitem__(key, value)\n"
     ]
    },
    {
     "name": "stdout",
     "output_type": "stream",
     "text": [
      "Applying [D:/github/lfs-cleaning/travel-model-two-networks\\project_cards\\year_2015_managed_lane_montague_expresswayw_i880_to_us101.yml]:Year 2015 Modify HOV Lanes and USE on Montague Expressway WB I-880 to US 101\n",
      "Applying [D:/github/lfs-cleaning/travel-model-two-networks\\project_cards\\year_2015_managed_lane_montague_expresswayw_i880_to_us101.yml]:Year 2015 Modify HOV Lanes and USE on Montague Expressway WB I-880 to US 101\n",
      "Applying Project to Roadway Network: Year 2015 Modify HOV Lanes and USE on Montague Expressway WB I-880 to US 101\n"
     ]
    },
    {
     "name": "stderr",
     "output_type": "stream",
     "text": [
      "c:\\Users\\wangs1\\AppData\\Local\\Continuum\\anaconda3\\envs\\lasso_bayarea\\lib\\site-packages\\geopandas\\geodataframe.py:1351: SettingWithCopyWarning: \n",
      "A value is trying to be set on a copy of a slice from a DataFrame.\n",
      "Try using .loc[row_indexer,col_indexer] = value instead\n",
      "\n",
      "See the caveats in the documentation: https://pandas.pydata.org/pandas-docs/stable/user_guide/indexing.html#returning-a-view-versus-a-copy\n",
      "  super().__setitem__(key, value)\n"
     ]
    },
    {
     "name": "stdout",
     "output_type": "stream",
     "text": [
      "Applying [D:/github/lfs-cleaning/travel-model-two-networks\\project_cards\\year_2015_managed_lane_montague_expresswaye_us101_to_i880.yml]:Year 2015 Modify HOV Lanes and USE on Montague Expressway EB US 101 to I-880\n",
      "Applying [D:/github/lfs-cleaning/travel-model-two-networks\\project_cards\\year_2015_managed_lane_montague_expresswaye_us101_to_i880.yml]:Year 2015 Modify HOV Lanes and USE on Montague Expressway EB US 101 to I-880\n",
      "Applying Project to Roadway Network: Year 2015 Modify HOV Lanes and USE on Montague Expressway EB US 101 to I-880\n"
     ]
    },
    {
     "name": "stderr",
     "output_type": "stream",
     "text": [
      "c:\\Users\\wangs1\\AppData\\Local\\Continuum\\anaconda3\\envs\\lasso_bayarea\\lib\\site-packages\\geopandas\\geodataframe.py:1351: SettingWithCopyWarning: \n",
      "A value is trying to be set on a copy of a slice from a DataFrame.\n",
      "Try using .loc[row_indexer,col_indexer] = value instead\n",
      "\n",
      "See the caveats in the documentation: https://pandas.pydata.org/pandas-docs/stable/user_guide/indexing.html#returning-a-view-versus-a-copy\n",
      "  super().__setitem__(key, value)\n"
     ]
    },
    {
     "name": "stdout",
     "output_type": "stream",
     "text": [
      "Applying [D:/github/lfs-cleaning/travel-model-two-networks\\project_cards\\year_2015_managed_lane_lawrence_expressways_sr237_to_i280.yml]:Year 2015 Modify HOV Lanes and USE on Lawrence Expressway SB SR 237 to I-280\n",
      "Applying [D:/github/lfs-cleaning/travel-model-two-networks\\project_cards\\year_2015_managed_lane_lawrence_expressways_sr237_to_i280.yml]:Year 2015 Modify HOV Lanes and USE on Lawrence Expressway SB SR 237 to I-280\n",
      "Applying Project to Roadway Network: Year 2015 Modify HOV Lanes and USE on Lawrence Expressway SB SR 237 to I-280\n"
     ]
    },
    {
     "name": "stderr",
     "output_type": "stream",
     "text": [
      "c:\\Users\\wangs1\\AppData\\Local\\Continuum\\anaconda3\\envs\\lasso_bayarea\\lib\\site-packages\\geopandas\\geodataframe.py:1351: SettingWithCopyWarning: \n",
      "A value is trying to be set on a copy of a slice from a DataFrame.\n",
      "Try using .loc[row_indexer,col_indexer] = value instead\n",
      "\n",
      "See the caveats in the documentation: https://pandas.pydata.org/pandas-docs/stable/user_guide/indexing.html#returning-a-view-versus-a-copy\n",
      "  super().__setitem__(key, value)\n"
     ]
    },
    {
     "name": "stdout",
     "output_type": "stream",
     "text": [
      "Applying [D:/github/lfs-cleaning/travel-model-two-networks\\project_cards\\year_2015_managed_lane_lawrence_expresswayn_i280_to_sr237.yml]:Year 2015 Modify HOV Lanes and USE on Lawrence Expressway NB I-280 to SR 237\n",
      "Applying [D:/github/lfs-cleaning/travel-model-two-networks\\project_cards\\year_2015_managed_lane_lawrence_expresswayn_i280_to_sr237.yml]:Year 2015 Modify HOV Lanes and USE on Lawrence Expressway NB I-280 to SR 237\n",
      "Applying Project to Roadway Network: Year 2015 Modify HOV Lanes and USE on Lawrence Expressway NB I-280 to SR 237\n"
     ]
    },
    {
     "name": "stderr",
     "output_type": "stream",
     "text": [
      "c:\\Users\\wangs1\\AppData\\Local\\Continuum\\anaconda3\\envs\\lasso_bayarea\\lib\\site-packages\\geopandas\\geodataframe.py:1351: SettingWithCopyWarning: \n",
      "A value is trying to be set on a copy of a slice from a DataFrame.\n",
      "Try using .loc[row_indexer,col_indexer] = value instead\n",
      "\n",
      "See the caveats in the documentation: https://pandas.pydata.org/pandas-docs/stable/user_guide/indexing.html#returning-a-view-versus-a-copy\n",
      "  super().__setitem__(key, value)\n"
     ]
    },
    {
     "name": "stdout",
     "output_type": "stream",
     "text": [
      "Applying [D:/github/lfs-cleaning/travel-model-two-networks\\project_cards\\year_2015_managed_lane_i880_ramp_to_bay_bridge_toll_plaza.yml]:Year 2015 Modify HOV Lanes and USE on Ramp Connecting I880 and Bay Bridge Plaza\n",
      "Applying [D:/github/lfs-cleaning/travel-model-two-networks\\project_cards\\year_2015_managed_lane_i880_ramp_to_bay_bridge_toll_plaza.yml]:Year 2015 Modify HOV Lanes and USE on Ramp Connecting I880 and Bay Bridge Plaza\n",
      "Applying Project to Roadway Network: Year 2015 Modify HOV Lanes and USE on Ramp Connecting I880 and Bay Bridge Plaza\n"
     ]
    },
    {
     "name": "stderr",
     "output_type": "stream",
     "text": [
      "c:\\Users\\wangs1\\AppData\\Local\\Continuum\\anaconda3\\envs\\lasso_bayarea\\lib\\site-packages\\geopandas\\geodataframe.py:1351: SettingWithCopyWarning: \n",
      "A value is trying to be set on a copy of a slice from a DataFrame.\n",
      "Try using .loc[row_indexer,col_indexer] = value instead\n",
      "\n",
      "See the caveats in the documentation: https://pandas.pydata.org/pandas-docs/stable/user_guide/indexing.html#returning-a-view-versus-a-copy\n",
      "  super().__setitem__(key, value)\n"
     ]
    },
    {
     "name": "stdout",
     "output_type": "stream",
     "text": [
      "Applying [D:/github/lfs-cleaning/travel-model-two-networks\\project_cards\\year_2015_managed_lane_i880s_hegenberger_road_to_dixon_road.yml]:Year 2015 Modify HOV Lanes and USE on I-880 SB from Hegenberger Road to Dixon Road\n",
      "Applying [D:/github/lfs-cleaning/travel-model-two-networks\\project_cards\\year_2015_managed_lane_i880s_hegenberger_road_to_dixon_road.yml]:Year 2015 Modify HOV Lanes and USE on I-880 SB from Hegenberger Road to Dixon Road\n",
      "Applying Project to Roadway Network: Year 2015 Modify HOV Lanes and USE on I-880 SB from Hegenberger Road to Dixon Road\n"
     ]
    },
    {
     "name": "stderr",
     "output_type": "stream",
     "text": [
      "c:\\Users\\wangs1\\AppData\\Local\\Continuum\\anaconda3\\envs\\lasso_bayarea\\lib\\site-packages\\geopandas\\geodataframe.py:1351: SettingWithCopyWarning: \n",
      "A value is trying to be set on a copy of a slice from a DataFrame.\n",
      "Try using .loc[row_indexer,col_indexer] = value instead\n",
      "\n",
      "See the caveats in the documentation: https://pandas.pydata.org/pandas-docs/stable/user_guide/indexing.html#returning-a-view-versus-a-copy\n",
      "  super().__setitem__(key, value)\n"
     ]
    },
    {
     "name": "stdout",
     "output_type": "stream",
     "text": [
      "Applying [D:/github/lfs-cleaning/travel-model-two-networks\\project_cards\\year_2015_managed_lane_i880s_dixon_road_to_ca237.yml]:Year 2015 Modify Express Lanes and USE on I-880 SB Dixon Road to CA-237\n",
      "Applying [D:/github/lfs-cleaning/travel-model-two-networks\\project_cards\\year_2015_managed_lane_i880s_dixon_road_to_ca237.yml]:Year 2015 Modify Express Lanes and USE on I-880 SB Dixon Road to CA-237\n",
      "Applying Project to Roadway Network: Year 2015 Modify Express Lanes and USE on I-880 SB Dixon Road to CA-237\n",
      "Applying [D:/github/lfs-cleaning/travel-model-two-networks\\project_cards\\year_2015_managed_lane_i880s_ca237_to_us101.yml]:Year 2015 Modify HOV Lanes and USE on I-880 SB CA-237 to US 101\n",
      "Applying [D:/github/lfs-cleaning/travel-model-two-networks\\project_cards\\year_2015_managed_lane_i880s_ca237_to_us101.yml]:Year 2015 Modify HOV Lanes and USE on I-880 SB CA-237 to US 101\n",
      "Applying Project to Roadway Network: Year 2015 Modify HOV Lanes and USE on I-880 SB CA-237 to US 101\n"
     ]
    },
    {
     "name": "stderr",
     "output_type": "stream",
     "text": [
      "c:\\Users\\wangs1\\AppData\\Local\\Continuum\\anaconda3\\envs\\lasso_bayarea\\lib\\site-packages\\geopandas\\geodataframe.py:1351: SettingWithCopyWarning: \n",
      "A value is trying to be set on a copy of a slice from a DataFrame.\n",
      "Try using .loc[row_indexer,col_indexer] = value instead\n",
      "\n",
      "See the caveats in the documentation: https://pandas.pydata.org/pandas-docs/stable/user_guide/indexing.html#returning-a-view-versus-a-copy\n",
      "  super().__setitem__(key, value)\n",
      "c:\\Users\\wangs1\\AppData\\Local\\Continuum\\anaconda3\\envs\\lasso_bayarea\\lib\\site-packages\\geopandas\\geodataframe.py:1351: SettingWithCopyWarning: \n",
      "A value is trying to be set on a copy of a slice from a DataFrame.\n",
      "Try using .loc[row_indexer,col_indexer] = value instead\n",
      "\n",
      "See the caveats in the documentation: https://pandas.pydata.org/pandas-docs/stable/user_guide/indexing.html#returning-a-view-versus-a-copy\n",
      "  super().__setitem__(key, value)\n"
     ]
    },
    {
     "name": "stdout",
     "output_type": "stream",
     "text": [
      "Applying [D:/github/lfs-cleaning/travel-model-two-networks\\project_cards\\year_2015_managed_lane_i880n_us101_to_ca237.yml]:Year 2015 Modify HOV lanes and USE on I-880 NB US 101 to CA-237\n",
      "Applying [D:/github/lfs-cleaning/travel-model-two-networks\\project_cards\\year_2015_managed_lane_i880n_us101_to_ca237.yml]:Year 2015 Modify HOV lanes and USE on I-880 NB US 101 to CA-237\n",
      "Applying Project to Roadway Network: Year 2015 Modify HOV lanes and USE on I-880 NB US 101 to CA-237\n"
     ]
    },
    {
     "name": "stderr",
     "output_type": "stream",
     "text": [
      "c:\\Users\\wangs1\\AppData\\Local\\Continuum\\anaconda3\\envs\\lasso_bayarea\\lib\\site-packages\\geopandas\\geodataframe.py:1351: SettingWithCopyWarning: \n",
      "A value is trying to be set on a copy of a slice from a DataFrame.\n",
      "Try using .loc[row_indexer,col_indexer] = value instead\n",
      "\n",
      "See the caveats in the documentation: https://pandas.pydata.org/pandas-docs/stable/user_guide/indexing.html#returning-a-view-versus-a-copy\n",
      "  super().__setitem__(key, value)\n"
     ]
    },
    {
     "name": "stdout",
     "output_type": "stream",
     "text": [
      "Applying [D:/github/lfs-cleaning/travel-model-two-networks\\project_cards\\year_2015_managed_lane_i880n_dixon_road_to_i238.yml]:Year 2015 Modify HOV Lanes and USE on I-880 NB from Dixon Road to I-238\n",
      "Applying [D:/github/lfs-cleaning/travel-model-two-networks\\project_cards\\year_2015_managed_lane_i880n_dixon_road_to_i238.yml]:Year 2015 Modify HOV Lanes and USE on I-880 NB from Dixon Road to I-238\n",
      "Applying Project to Roadway Network: Year 2015 Modify HOV Lanes and USE on I-880 NB from Dixon Road to I-238\n"
     ]
    },
    {
     "name": "stderr",
     "output_type": "stream",
     "text": [
      "c:\\Users\\wangs1\\AppData\\Local\\Continuum\\anaconda3\\envs\\lasso_bayarea\\lib\\site-packages\\geopandas\\geodataframe.py:1351: SettingWithCopyWarning: \n",
      "A value is trying to be set on a copy of a slice from a DataFrame.\n",
      "Try using .loc[row_indexer,col_indexer] = value instead\n",
      "\n",
      "See the caveats in the documentation: https://pandas.pydata.org/pandas-docs/stable/user_guide/indexing.html#returning-a-view-versus-a-copy\n",
      "  super().__setitem__(key, value)\n"
     ]
    },
    {
     "name": "stdout",
     "output_type": "stream",
     "text": [
      "Applying [D:/github/lfs-cleaning/travel-model-two-networks\\project_cards\\year_2015_managed_lane_i880n_ca237_to_dixon_road.yml]:Year 2015 Modify Express Lanes and USE on I-880 NB CA-237 to Dixon Road\n",
      "Applying [D:/github/lfs-cleaning/travel-model-two-networks\\project_cards\\year_2015_managed_lane_i880n_ca237_to_dixon_road.yml]:Year 2015 Modify Express Lanes and USE on I-880 NB CA-237 to Dixon Road\n",
      "Applying Project to Roadway Network: Year 2015 Modify Express Lanes and USE on I-880 NB CA-237 to Dixon Road\n"
     ]
    },
    {
     "name": "stderr",
     "output_type": "stream",
     "text": [
      "c:\\Users\\wangs1\\AppData\\Local\\Continuum\\anaconda3\\envs\\lasso_bayarea\\lib\\site-packages\\geopandas\\geodataframe.py:1351: SettingWithCopyWarning: \n",
      "A value is trying to be set on a copy of a slice from a DataFrame.\n",
      "Try using .loc[row_indexer,col_indexer] = value instead\n",
      "\n",
      "See the caveats in the documentation: https://pandas.pydata.org/pandas-docs/stable/user_guide/indexing.html#returning-a-view-versus-a-copy\n",
      "  super().__setitem__(key, value)\n"
     ]
    },
    {
     "name": "stdout",
     "output_type": "stream",
     "text": [
      "Applying [D:/github/lfs-cleaning/travel-model-two-networks\\project_cards\\year_2015_managed_lane_i80_ramp_to_bay_bridge.wrangler]:Year 2015 Modify USE on I-80 WB to Bay Bridge Toll Plaza\n",
      "Applying Project to Roadway Network: Year 2015 Modify USE on I-80 WB to Bay Bridge Toll Plaza\n",
      "Applying [D:/github/lfs-cleaning/travel-model-two-networks\\project_cards\\year_2015_managed_lane_i80w_fairfield_to_i680.yml]:Year 2015 Modify HOV Lanes and USE on I-80 WB from Fairfield to I-680\n",
      "Applying [D:/github/lfs-cleaning/travel-model-two-networks\\project_cards\\year_2015_managed_lane_i80w_fairfield_to_i680.yml]:Year 2015 Modify HOV Lanes and USE on I-80 WB from Fairfield to I-680\n",
      "Applying Project to Roadway Network: Year 2015 Modify HOV Lanes and USE on I-80 WB from Fairfield to I-680\n"
     ]
    },
    {
     "name": "stderr",
     "output_type": "stream",
     "text": [
      "c:\\Users\\wangs1\\AppData\\Local\\Continuum\\anaconda3\\envs\\lasso_bayarea\\lib\\site-packages\\geopandas\\geodataframe.py:1351: SettingWithCopyWarning: \n",
      "A value is trying to be set on a copy of a slice from a DataFrame.\n",
      "Try using .loc[row_indexer,col_indexer] = value instead\n",
      "\n",
      "See the caveats in the documentation: https://pandas.pydata.org/pandas-docs/stable/user_guide/indexing.html#returning-a-view-versus-a-copy\n",
      "  super().__setitem__(key, value)\n"
     ]
    },
    {
     "name": "stdout",
     "output_type": "stream",
     "text": [
      "Applying [D:/github/lfs-cleaning/travel-model-two-networks\\project_cards\\year_2015_managed_lane_i80w_carquinez_bridge_to_bay_bridge.yml]:Year 2015 Modify HOV Lanes and USE on I-80 WB from Carquinez Bridge to Bay Bridge Toll Plaza\n",
      "Applying [D:/github/lfs-cleaning/travel-model-two-networks\\project_cards\\year_2015_managed_lane_i80w_carquinez_bridge_to_bay_bridge.yml]:Year 2015 Modify HOV Lanes and USE on I-80 WB from Carquinez Bridge to Bay Bridge Toll Plaza\n",
      "Applying Project to Roadway Network: Year 2015 Modify HOV Lanes and USE on I-80 WB from Carquinez Bridge to Bay Bridge Toll Plaza\n"
     ]
    },
    {
     "name": "stderr",
     "output_type": "stream",
     "text": [
      "c:\\Users\\wangs1\\AppData\\Local\\Continuum\\anaconda3\\envs\\lasso_bayarea\\lib\\site-packages\\geopandas\\geodataframe.py:1351: SettingWithCopyWarning: \n",
      "A value is trying to be set on a copy of a slice from a DataFrame.\n",
      "Try using .loc[row_indexer,col_indexer] = value instead\n",
      "\n",
      "See the caveats in the documentation: https://pandas.pydata.org/pandas-docs/stable/user_guide/indexing.html#returning-a-view-versus-a-copy\n",
      "  super().__setitem__(key, value)\n"
     ]
    },
    {
     "name": "stdout",
     "output_type": "stream",
     "text": [
      "Applying [D:/github/lfs-cleaning/travel-model-two-networks\\project_cards\\year_2015_managed_lane_i80e_i-680_to_fairfield.yml]:Year 2015 Modify HOV Lanes and USE on I-80 EB from I-680 to Fairfield\n",
      "Applying [D:/github/lfs-cleaning/travel-model-two-networks\\project_cards\\year_2015_managed_lane_i80e_i-680_to_fairfield.yml]:Year 2015 Modify HOV Lanes and USE on I-80 EB from I-680 to Fairfield\n",
      "Applying Project to Roadway Network: Year 2015 Modify HOV Lanes and USE on I-80 EB from I-680 to Fairfield\n"
     ]
    },
    {
     "name": "stderr",
     "output_type": "stream",
     "text": [
      "c:\\Users\\wangs1\\AppData\\Local\\Continuum\\anaconda3\\envs\\lasso_bayarea\\lib\\site-packages\\geopandas\\geodataframe.py:1351: SettingWithCopyWarning: \n",
      "A value is trying to be set on a copy of a slice from a DataFrame.\n",
      "Try using .loc[row_indexer,col_indexer] = value instead\n",
      "\n",
      "See the caveats in the documentation: https://pandas.pydata.org/pandas-docs/stable/user_guide/indexing.html#returning-a-view-versus-a-copy\n",
      "  super().__setitem__(key, value)\n"
     ]
    },
    {
     "name": "stdout",
     "output_type": "stream",
     "text": [
      "Applying [D:/github/lfs-cleaning/travel-model-two-networks\\project_cards\\year_2015_managed_lane_i80e_bay_bridge_to_carquinez_bridge.yml]:Year 2015 Modify HOV Lanes and USE on I-80 EB from Bay Bridge to Carquinez Bridge Toll Plaza\n",
      "Applying [D:/github/lfs-cleaning/travel-model-two-networks\\project_cards\\year_2015_managed_lane_i80e_bay_bridge_to_carquinez_bridge.yml]:Year 2015 Modify HOV Lanes and USE on I-80 EB from Bay Bridge to Carquinez Bridge Toll Plaza\n",
      "Applying Project to Roadway Network: Year 2015 Modify HOV Lanes and USE on I-80 EB from Bay Bridge to Carquinez Bridge Toll Plaza\n"
     ]
    },
    {
     "name": "stderr",
     "output_type": "stream",
     "text": [
      "c:\\Users\\wangs1\\AppData\\Local\\Continuum\\anaconda3\\envs\\lasso_bayarea\\lib\\site-packages\\geopandas\\geodataframe.py:1351: SettingWithCopyWarning: \n",
      "A value is trying to be set on a copy of a slice from a DataFrame.\n",
      "Try using .loc[row_indexer,col_indexer] = value instead\n",
      "\n",
      "See the caveats in the documentation: https://pandas.pydata.org/pandas-docs/stable/user_guide/indexing.html#returning-a-view-versus-a-copy\n",
      "  super().__setitem__(key, value)\n"
     ]
    },
    {
     "name": "stdout",
     "output_type": "stream",
     "text": [
      "Applying [D:/github/lfs-cleaning/travel-model-two-networks\\project_cards\\year_2015_managed_lane_i680s_washington_blvd_to_mission_blvd.yml]:Year 2015 Modify Express Lanes and USE on I-680 SB Washington Blvd to Mission Blvd\n",
      "Applying [D:/github/lfs-cleaning/travel-model-two-networks\\project_cards\\year_2015_managed_lane_i680s_washington_blvd_to_mission_blvd.yml]:Year 2015 Modify Express Lanes and USE on I-680 SB Washington Blvd to Mission Blvd\n",
      "Applying Project to Roadway Network: Year 2015 Modify Express Lanes and USE on I-680 SB Washington Blvd to Mission Blvd\n"
     ]
    },
    {
     "name": "stderr",
     "output_type": "stream",
     "text": [
      "c:\\Users\\wangs1\\AppData\\Local\\Continuum\\anaconda3\\envs\\lasso_bayarea\\lib\\site-packages\\geopandas\\geodataframe.py:1351: SettingWithCopyWarning: \n",
      "A value is trying to be set on a copy of a slice from a DataFrame.\n",
      "Try using .loc[row_indexer,col_indexer] = value instead\n",
      "\n",
      "See the caveats in the documentation: https://pandas.pydata.org/pandas-docs/stable/user_guide/indexing.html#returning-a-view-versus-a-copy\n",
      "  super().__setitem__(key, value)\n"
     ]
    },
    {
     "name": "stdout",
     "output_type": "stream",
     "text": [
      "Applying [D:/github/lfs-cleaning/travel-model-two-networks\\project_cards\\year_2015_managed_lane_i680s_mission_blvd_to_ca_237.yml]:Year 2015 Modify Express Lanes and USE on I-680 SB Mission Blvd to CA-237\n",
      "Applying [D:/github/lfs-cleaning/travel-model-two-networks\\project_cards\\year_2015_managed_lane_i680s_mission_blvd_to_ca_237.yml]:Year 2015 Modify Express Lanes and USE on I-680 SB Mission Blvd to CA-237\n",
      "Applying Project to Roadway Network: Year 2015 Modify Express Lanes and USE on I-680 SB Mission Blvd to CA-237\n"
     ]
    },
    {
     "name": "stderr",
     "output_type": "stream",
     "text": [
      "c:\\Users\\wangs1\\AppData\\Local\\Continuum\\anaconda3\\envs\\lasso_bayarea\\lib\\site-packages\\geopandas\\geodataframe.py:1351: SettingWithCopyWarning: \n",
      "A value is trying to be set on a copy of a slice from a DataFrame.\n",
      "Try using .loc[row_indexer,col_indexer] = value instead\n",
      "\n",
      "See the caveats in the documentation: https://pandas.pydata.org/pandas-docs/stable/user_guide/indexing.html#returning-a-view-versus-a-copy\n",
      "  super().__setitem__(key, value)\n"
     ]
    },
    {
     "name": "stdout",
     "output_type": "stream",
     "text": [
      "Applying [D:/github/lfs-cleaning/travel-model-two-networks\\project_cards\\year_2015_managed_lane_i680s_benicia_bridge_to_acosta_blvd.yml]:Year 2015 Modify HOV Lanes and USE on I-680 SB from Benicia Bridge to Alcosta Blvd\n",
      "Applying [D:/github/lfs-cleaning/travel-model-two-networks\\project_cards\\year_2015_managed_lane_i680s_benicia_bridge_to_acosta_blvd.yml]:Year 2015 Modify HOV Lanes and USE on I-680 SB from Benicia Bridge to Alcosta Blvd\n",
      "Applying Project to Roadway Network: Year 2015 Modify HOV Lanes and USE on I-680 SB from Benicia Bridge to Alcosta Blvd\n"
     ]
    },
    {
     "name": "stderr",
     "output_type": "stream",
     "text": [
      "c:\\Users\\wangs1\\AppData\\Local\\Continuum\\anaconda3\\envs\\lasso_bayarea\\lib\\site-packages\\geopandas\\geodataframe.py:1351: SettingWithCopyWarning: \n",
      "A value is trying to be set on a copy of a slice from a DataFrame.\n",
      "Try using .loc[row_indexer,col_indexer] = value instead\n",
      "\n",
      "See the caveats in the documentation: https://pandas.pydata.org/pandas-docs/stable/user_guide/indexing.html#returning-a-view-versus-a-copy\n",
      "  super().__setitem__(key, value)\n"
     ]
    },
    {
     "name": "stdout",
     "output_type": "stream",
     "text": [
      "Applying [D:/github/lfs-cleaning/travel-model-two-networks\\project_cards\\year_2015_managed_lane_i680s_andrade_road_to_washington_blvd.yml]:Year 2015 Modify Express Lanes and USE on I-680 SB Andrade Road to Washington Blvd\n",
      "Applying [D:/github/lfs-cleaning/travel-model-two-networks\\project_cards\\year_2015_managed_lane_i680s_andrade_road_to_washington_blvd.yml]:Year 2015 Modify Express Lanes and USE on I-680 SB Andrade Road to Washington Blvd\n",
      "Applying Project to Roadway Network: Year 2015 Modify Express Lanes and USE on I-680 SB Andrade Road to Washington Blvd\n"
     ]
    },
    {
     "name": "stderr",
     "output_type": "stream",
     "text": [
      "c:\\Users\\wangs1\\AppData\\Local\\Continuum\\anaconda3\\envs\\lasso_bayarea\\lib\\site-packages\\geopandas\\geodataframe.py:1351: SettingWithCopyWarning: \n",
      "A value is trying to be set on a copy of a slice from a DataFrame.\n",
      "Try using .loc[row_indexer,col_indexer] = value instead\n",
      "\n",
      "See the caveats in the documentation: https://pandas.pydata.org/pandas-docs/stable/user_guide/indexing.html#returning-a-view-versus-a-copy\n",
      "  super().__setitem__(key, value)\n"
     ]
    },
    {
     "name": "stdout",
     "output_type": "stream",
     "text": [
      "Applying [D:/github/lfs-cleaning/travel-model-two-networks\\project_cards\\year_2015_managed_lane_i680n_acosta_blvd_to_livorna_road.yml]:Year 2015 Modify HOV Lanes and USE on I-680 NB from Alcosta Blvd to Livorna Road\n",
      "Applying [D:/github/lfs-cleaning/travel-model-two-networks\\project_cards\\year_2015_managed_lane_i680n_acosta_blvd_to_livorna_road.yml]:Year 2015 Modify HOV Lanes and USE on I-680 NB from Alcosta Blvd to Livorna Road\n",
      "Applying Project to Roadway Network: Year 2015 Modify HOV Lanes and USE on I-680 NB from Alcosta Blvd to Livorna Road\n"
     ]
    },
    {
     "name": "stderr",
     "output_type": "stream",
     "text": [
      "c:\\Users\\wangs1\\AppData\\Local\\Continuum\\anaconda3\\envs\\lasso_bayarea\\lib\\site-packages\\geopandas\\geodataframe.py:1351: SettingWithCopyWarning: \n",
      "A value is trying to be set on a copy of a slice from a DataFrame.\n",
      "Try using .loc[row_indexer,col_indexer] = value instead\n",
      "\n",
      "See the caveats in the documentation: https://pandas.pydata.org/pandas-docs/stable/user_guide/indexing.html#returning-a-view-versus-a-copy\n",
      "  super().__setitem__(key, value)\n"
     ]
    },
    {
     "name": "stdout",
     "output_type": "stream",
     "text": [
      "Applying [D:/github/lfs-cleaning/travel-model-two-networks\\project_cards\\year_2015_managed_lane_i580w_springtown_blvd_to_isabel_ave.yml]:Year 2015 Modify USE on I-580 WB Springtown Blvd to Isabel Ave\n",
      "Applying [D:/github/lfs-cleaning/travel-model-two-networks\\project_cards\\year_2015_managed_lane_i580w_springtown_blvd_to_isabel_ave.yml]:Year 2015 Modify USE on I-580 WB Springtown Blvd to Isabel Ave\n",
      "Applying Project to Roadway Network: Year 2015 Modify USE on I-580 WB Springtown Blvd to Isabel Ave\n"
     ]
    },
    {
     "name": "stderr",
     "output_type": "stream",
     "text": [
      "c:\\Users\\wangs1\\AppData\\Local\\Continuum\\anaconda3\\envs\\lasso_bayarea\\lib\\site-packages\\geopandas\\geodataframe.py:1351: SettingWithCopyWarning: \n",
      "A value is trying to be set on a copy of a slice from a DataFrame.\n",
      "Try using .loc[row_indexer,col_indexer] = value instead\n",
      "\n",
      "See the caveats in the documentation: https://pandas.pydata.org/pandas-docs/stable/user_guide/indexing.html#returning-a-view-versus-a-copy\n",
      "  super().__setitem__(key, value)\n"
     ]
    },
    {
     "name": "stdout",
     "output_type": "stream",
     "text": [
      "Applying [D:/github/lfs-cleaning/travel-model-two-networks\\project_cards\\year_2015_managed_lane_i580w_isabel_ave_to_fallon_road.yml]:Year 2015 Modify USE on I-580 WB Isabel Ave to Fallon Road\n",
      "Applying [D:/github/lfs-cleaning/travel-model-two-networks\\project_cards\\year_2015_managed_lane_i580w_isabel_ave_to_fallon_road.yml]:Year 2015 Modify USE on I-580 WB Isabel Ave to Fallon Road\n",
      "Applying Project to Roadway Network: Year 2015 Modify USE on I-580 WB Isabel Ave to Fallon Road\n"
     ]
    },
    {
     "name": "stderr",
     "output_type": "stream",
     "text": [
      "c:\\Users\\wangs1\\AppData\\Local\\Continuum\\anaconda3\\envs\\lasso_bayarea\\lib\\site-packages\\geopandas\\geodataframe.py:1351: SettingWithCopyWarning: \n",
      "A value is trying to be set on a copy of a slice from a DataFrame.\n",
      "Try using .loc[row_indexer,col_indexer] = value instead\n",
      "\n",
      "See the caveats in the documentation: https://pandas.pydata.org/pandas-docs/stable/user_guide/indexing.html#returning-a-view-versus-a-copy\n",
      "  super().__setitem__(key, value)\n"
     ]
    },
    {
     "name": "stdout",
     "output_type": "stream",
     "text": [
      "Applying [D:/github/lfs-cleaning/travel-model-two-networks\\project_cards\\year_2015_managed_lane_i580w_hacienda_drive_to_san_ramon_road.yml]:Year 2015 Modify USE on I-580 WB Hacienda Drive to San Ramon Road\n",
      "Applying [D:/github/lfs-cleaning/travel-model-two-networks\\project_cards\\year_2015_managed_lane_i580w_hacienda_drive_to_san_ramon_road.yml]:Year 2015 Modify USE on I-580 WB Hacienda Drive to San Ramon Road\n",
      "Applying Project to Roadway Network: Year 2015 Modify USE on I-580 WB Hacienda Drive to San Ramon Road\n"
     ]
    },
    {
     "name": "stderr",
     "output_type": "stream",
     "text": [
      "c:\\Users\\wangs1\\AppData\\Local\\Continuum\\anaconda3\\envs\\lasso_bayarea\\lib\\site-packages\\geopandas\\geodataframe.py:1351: SettingWithCopyWarning: \n",
      "A value is trying to be set on a copy of a slice from a DataFrame.\n",
      "Try using .loc[row_indexer,col_indexer] = value instead\n",
      "\n",
      "See the caveats in the documentation: https://pandas.pydata.org/pandas-docs/stable/user_guide/indexing.html#returning-a-view-versus-a-copy\n",
      "  super().__setitem__(key, value)\n"
     ]
    },
    {
     "name": "stdout",
     "output_type": "stream",
     "text": [
      "Applying [D:/github/lfs-cleaning/travel-model-two-networks\\project_cards\\year_2015_managed_lane_i580w_greenville_road_to_springtown_blvd.yml]:Year 2015 Modify USE on I-580 WB Greenville Road to Springtown Blvd\n",
      "Applying [D:/github/lfs-cleaning/travel-model-two-networks\\project_cards\\year_2015_managed_lane_i580w_greenville_road_to_springtown_blvd.yml]:Year 2015 Modify USE on I-580 WB Greenville Road to Springtown Blvd\n",
      "Applying Project to Roadway Network: Year 2015 Modify USE on I-580 WB Greenville Road to Springtown Blvd\n"
     ]
    },
    {
     "name": "stderr",
     "output_type": "stream",
     "text": [
      "c:\\Users\\wangs1\\AppData\\Local\\Continuum\\anaconda3\\envs\\lasso_bayarea\\lib\\site-packages\\geopandas\\geodataframe.py:1351: SettingWithCopyWarning: \n",
      "A value is trying to be set on a copy of a slice from a DataFrame.\n",
      "Try using .loc[row_indexer,col_indexer] = value instead\n",
      "\n",
      "See the caveats in the documentation: https://pandas.pydata.org/pandas-docs/stable/user_guide/indexing.html#returning-a-view-versus-a-copy\n",
      "  super().__setitem__(key, value)\n"
     ]
    },
    {
     "name": "stdout",
     "output_type": "stream",
     "text": [
      "Applying [D:/github/lfs-cleaning/travel-model-two-networks\\project_cards\\year_2015_managed_lane_i580w_fallon_road_to_hacienda_drive.yml]:Year 2015 Modify USE on I-580 WB Fallon Road to Hacienda Drive\n",
      "Applying [D:/github/lfs-cleaning/travel-model-two-networks\\project_cards\\year_2015_managed_lane_i580w_fallon_road_to_hacienda_drive.yml]:Year 2015 Modify USE on I-580 WB Fallon Road to Hacienda Drive\n",
      "Applying Project to Roadway Network: Year 2015 Modify USE on I-580 WB Fallon Road to Hacienda Drive\n"
     ]
    },
    {
     "name": "stderr",
     "output_type": "stream",
     "text": [
      "c:\\Users\\wangs1\\AppData\\Local\\Continuum\\anaconda3\\envs\\lasso_bayarea\\lib\\site-packages\\geopandas\\geodataframe.py:1351: SettingWithCopyWarning: \n",
      "A value is trying to be set on a copy of a slice from a DataFrame.\n",
      "Try using .loc[row_indexer,col_indexer] = value instead\n",
      "\n",
      "See the caveats in the documentation: https://pandas.pydata.org/pandas-docs/stable/user_guide/indexing.html#returning-a-view-versus-a-copy\n",
      "  super().__setitem__(key, value)\n"
     ]
    },
    {
     "name": "stdout",
     "output_type": "stream",
     "text": [
      "Applying [D:/github/lfs-cleaning/travel-model-two-networks\\project_cards\\year_2015_managed_lane_i580e_vasco_road_to_greenville_road.yml]:Year 2015 Modify Express Lanes and USE on I-580 EB Vasco Road to Greenville Road\n",
      "Applying [D:/github/lfs-cleaning/travel-model-two-networks\\project_cards\\year_2015_managed_lane_i580e_vasco_road_to_greenville_road.yml]:Year 2015 Modify Express Lanes and USE on I-580 EB Vasco Road to Greenville Road\n",
      "Applying Project to Roadway Network: Year 2015 Modify Express Lanes and USE on I-580 EB Vasco Road to Greenville Road\n"
     ]
    },
    {
     "name": "stderr",
     "output_type": "stream",
     "text": [
      "c:\\Users\\wangs1\\AppData\\Local\\Continuum\\anaconda3\\envs\\lasso_bayarea\\lib\\site-packages\\geopandas\\geodataframe.py:1351: SettingWithCopyWarning: \n",
      "A value is trying to be set on a copy of a slice from a DataFrame.\n",
      "Try using .loc[row_indexer,col_indexer] = value instead\n",
      "\n",
      "See the caveats in the documentation: https://pandas.pydata.org/pandas-docs/stable/user_guide/indexing.html#returning-a-view-versus-a-copy\n",
      "  super().__setitem__(key, value)\n"
     ]
    },
    {
     "name": "stdout",
     "output_type": "stream",
     "text": [
      "Applying [D:/github/lfs-cleaning/travel-model-two-networks\\project_cards\\year_2015_managed_lane_i580e_segment_02_livermore_ave_to_vasco_road.yml]:Year 2015 Modify Express Lanes and USE on I-580 EB (segment 02) Livermore Ave to Vasco Road\n",
      "Applying [D:/github/lfs-cleaning/travel-model-two-networks\\project_cards\\year_2015_managed_lane_i580e_segment_02_livermore_ave_to_vasco_road.yml]:Year 2015 Modify Express Lanes and USE on I-580 EB (segment 02) Livermore Ave to Vasco Road\n",
      "Applying Project to Roadway Network: Year 2015 Modify Express Lanes and USE on I-580 EB (segment 02) Livermore Ave to Vasco Road\n"
     ]
    },
    {
     "name": "stderr",
     "output_type": "stream",
     "text": [
      "c:\\Users\\wangs1\\AppData\\Local\\Continuum\\anaconda3\\envs\\lasso_bayarea\\lib\\site-packages\\geopandas\\geodataframe.py:1351: SettingWithCopyWarning: \n",
      "A value is trying to be set on a copy of a slice from a DataFrame.\n",
      "Try using .loc[row_indexer,col_indexer] = value instead\n",
      "\n",
      "See the caveats in the documentation: https://pandas.pydata.org/pandas-docs/stable/user_guide/indexing.html#returning-a-view-versus-a-copy\n",
      "  super().__setitem__(key, value)\n"
     ]
    },
    {
     "name": "stdout",
     "output_type": "stream",
     "text": [
      "Applying [D:/github/lfs-cleaning/travel-model-two-networks\\project_cards\\year_2015_managed_lane_i580e_segment_02_hacienda_drive_to_airway_blvd.yml]:Year 2015 Modify Express Lanes and USE on I-580 EB (segment 02) Hacienda Drive to Airway Blvd\n",
      "Applying [D:/github/lfs-cleaning/travel-model-two-networks\\project_cards\\year_2015_managed_lane_i580e_segment_02_hacienda_drive_to_airway_blvd.yml]:Year 2015 Modify Express Lanes and USE on I-580 EB (segment 02) Hacienda Drive to Airway Blvd\n",
      "Applying Project to Roadway Network: Year 2015 Modify Express Lanes and USE on I-580 EB (segment 02) Hacienda Drive to Airway Blvd\n"
     ]
    },
    {
     "name": "stderr",
     "output_type": "stream",
     "text": [
      "c:\\Users\\wangs1\\AppData\\Local\\Continuum\\anaconda3\\envs\\lasso_bayarea\\lib\\site-packages\\geopandas\\geodataframe.py:1351: SettingWithCopyWarning: \n",
      "A value is trying to be set on a copy of a slice from a DataFrame.\n",
      "Try using .loc[row_indexer,col_indexer] = value instead\n",
      "\n",
      "See the caveats in the documentation: https://pandas.pydata.org/pandas-docs/stable/user_guide/indexing.html#returning-a-view-versus-a-copy\n",
      "  super().__setitem__(key, value)\n"
     ]
    },
    {
     "name": "stdout",
     "output_type": "stream",
     "text": [
      "Applying [D:/github/lfs-cleaning/travel-model-two-networks\\project_cards\\year_2015_managed_lane_i580e_segment_01_livermore_ave_to_vasco_road.yml]:Year 2015 Modify Express Lanes and USE on I-580 EB (segment 01) Livermore Ave to Vasco Road\n",
      "Applying [D:/github/lfs-cleaning/travel-model-two-networks\\project_cards\\year_2015_managed_lane_i580e_segment_01_livermore_ave_to_vasco_road.yml]:Year 2015 Modify Express Lanes and USE on I-580 EB (segment 01) Livermore Ave to Vasco Road\n",
      "Applying Project to Roadway Network: Year 2015 Modify Express Lanes and USE on I-580 EB (segment 01) Livermore Ave to Vasco Road\n",
      "Applying [D:/github/lfs-cleaning/travel-model-two-networks\\project_cards\\year_2015_managed_lane_i580e_segment_01_hacienda_drive_to_airway_blvd.yml]:Year 2015 Modify Express Lanes and USE on I-580 EB (segment 01) Hacienda Drive to Airway_Blvd\n",
      "Applying [D:/github/lfs-cleaning/travel-model-two-networks\\project_cards\\year_2015_managed_lane_i580e_segment_01_hacienda_drive_to_airway_blvd.yml]:Year 2015 Modify Express Lanes and USE on I-580 EB (segment 01) Hacienda Drive to Airway_Blvd\n",
      "Applying Project to Roadway Network: Year 2015 Modify Express Lanes and USE on I-580 EB (segment 01) Hacienda Drive to Airway_Blvd\n"
     ]
    },
    {
     "name": "stderr",
     "output_type": "stream",
     "text": [
      "c:\\Users\\wangs1\\AppData\\Local\\Continuum\\anaconda3\\envs\\lasso_bayarea\\lib\\site-packages\\geopandas\\geodataframe.py:1351: SettingWithCopyWarning: \n",
      "A value is trying to be set on a copy of a slice from a DataFrame.\n",
      "Try using .loc[row_indexer,col_indexer] = value instead\n",
      "\n",
      "See the caveats in the documentation: https://pandas.pydata.org/pandas-docs/stable/user_guide/indexing.html#returning-a-view-versus-a-copy\n",
      "  super().__setitem__(key, value)\n",
      "c:\\Users\\wangs1\\AppData\\Local\\Continuum\\anaconda3\\envs\\lasso_bayarea\\lib\\site-packages\\geopandas\\geodataframe.py:1351: SettingWithCopyWarning: \n",
      "A value is trying to be set on a copy of a slice from a DataFrame.\n",
      "Try using .loc[row_indexer,col_indexer] = value instead\n",
      "\n",
      "See the caveats in the documentation: https://pandas.pydata.org/pandas-docs/stable/user_guide/indexing.html#returning-a-view-versus-a-copy\n",
      "  super().__setitem__(key, value)\n"
     ]
    },
    {
     "name": "stdout",
     "output_type": "stream",
     "text": [
      "Applying [D:/github/lfs-cleaning/travel-model-two-networks\\project_cards\\year_2015_managed_lane_i580e_airway_blvd_to_livermore_ave.yml]:Year 2015 Modify Express Lanes and USE on I-580 EB Airway Blvd to Livermore Ave\n",
      "Applying [D:/github/lfs-cleaning/travel-model-two-networks\\project_cards\\year_2015_managed_lane_i580e_airway_blvd_to_livermore_ave.yml]:Year 2015 Modify Express Lanes and USE on I-580 EB Airway Blvd to Livermore Ave\n",
      "Applying Project to Roadway Network: Year 2015 Modify Express Lanes and USE on I-580 EB Airway Blvd to Livermore Ave\n"
     ]
    },
    {
     "name": "stderr",
     "output_type": "stream",
     "text": [
      "c:\\Users\\wangs1\\AppData\\Local\\Continuum\\anaconda3\\envs\\lasso_bayarea\\lib\\site-packages\\geopandas\\geodataframe.py:1351: SettingWithCopyWarning: \n",
      "A value is trying to be set on a copy of a slice from a DataFrame.\n",
      "Try using .loc[row_indexer,col_indexer] = value instead\n",
      "\n",
      "See the caveats in the documentation: https://pandas.pydata.org/pandas-docs/stable/user_guide/indexing.html#returning-a-view-versus-a-copy\n",
      "  super().__setitem__(key, value)\n"
     ]
    },
    {
     "name": "stdout",
     "output_type": "stream",
     "text": [
      "Applying [D:/github/lfs-cleaning/travel-model-two-networks\\project_cards\\year_2015_managed_lane_hwy4w_deer_valley_road_to_port_chicago_highway.yml]:Year 2015 Modify HOV lanes and USE on Hwy 4 WB from Deer Valley Road to Port Chicago Highway\n",
      "Applying [D:/github/lfs-cleaning/travel-model-two-networks\\project_cards\\year_2015_managed_lane_hwy4w_deer_valley_road_to_port_chicago_highway.yml]:Year 2015 Modify HOV lanes and USE on Hwy 4 WB from Deer Valley Road to Port Chicago Highway\n",
      "Applying Project to Roadway Network: Year 2015 Modify HOV lanes and USE on Hwy 4 WB from Deer Valley Road to Port Chicago Highway\n"
     ]
    },
    {
     "name": "stderr",
     "output_type": "stream",
     "text": [
      "c:\\Users\\wangs1\\AppData\\Local\\Continuum\\anaconda3\\envs\\lasso_bayarea\\lib\\site-packages\\geopandas\\geodataframe.py:1351: SettingWithCopyWarning: \n",
      "A value is trying to be set on a copy of a slice from a DataFrame.\n",
      "Try using .loc[row_indexer,col_indexer] = value instead\n",
      "\n",
      "See the caveats in the documentation: https://pandas.pydata.org/pandas-docs/stable/user_guide/indexing.html#returning-a-view-versus-a-copy\n",
      "  super().__setitem__(key, value)\n"
     ]
    },
    {
     "name": "stdout",
     "output_type": "stream",
     "text": [
      "Applying [D:/github/lfs-cleaning/travel-model-two-networks\\project_cards\\year_2015_managed_lane_hwy4e_port_chicago_highway_to_deer_valley_road.yml]:Year 2015 Modify HOV Lanes and USE on Hwy 4 EB from Port Chicago Highway to Deer Valley Road\n",
      "Applying [D:/github/lfs-cleaning/travel-model-two-networks\\project_cards\\year_2015_managed_lane_hwy4e_port_chicago_highway_to_deer_valley_road.yml]:Year 2015 Modify HOV Lanes and USE on Hwy 4 EB from Port Chicago Highway to Deer Valley Road\n",
      "Applying Project to Roadway Network: Year 2015 Modify HOV Lanes and USE on Hwy 4 EB from Port Chicago Highway to Deer Valley Road\n"
     ]
    },
    {
     "name": "stderr",
     "output_type": "stream",
     "text": [
      "c:\\Users\\wangs1\\AppData\\Local\\Continuum\\anaconda3\\envs\\lasso_bayarea\\lib\\site-packages\\geopandas\\geodataframe.py:1351: SettingWithCopyWarning: \n",
      "A value is trying to be set on a copy of a slice from a DataFrame.\n",
      "Try using .loc[row_indexer,col_indexer] = value instead\n",
      "\n",
      "See the caveats in the documentation: https://pandas.pydata.org/pandas-docs/stable/user_guide/indexing.html#returning-a-view-versus-a-copy\n",
      "  super().__setitem__(key, value)\n"
     ]
    },
    {
     "name": "stdout",
     "output_type": "stream",
     "text": [
      "Applying [D:/github/lfs-cleaning/travel-model-two-networks\\project_cards\\year_2015_managed_lane_e_capitol_expressways_i680_to_us101.yml]:Year 2015 Modify HOV Lanes and USE on E Capitol Expressway SB I-680 to US 101\n",
      "Applying [D:/github/lfs-cleaning/travel-model-two-networks\\project_cards\\year_2015_managed_lane_e_capitol_expressways_i680_to_us101.yml]:Year 2015 Modify HOV Lanes and USE on E Capitol Expressway SB I-680 to US 101\n",
      "Applying Project to Roadway Network: Year 2015 Modify HOV Lanes and USE on E Capitol Expressway SB I-680 to US 101\n"
     ]
    },
    {
     "name": "stderr",
     "output_type": "stream",
     "text": [
      "c:\\Users\\wangs1\\AppData\\Local\\Continuum\\anaconda3\\envs\\lasso_bayarea\\lib\\site-packages\\geopandas\\geodataframe.py:1351: SettingWithCopyWarning: \n",
      "A value is trying to be set on a copy of a slice from a DataFrame.\n",
      "Try using .loc[row_indexer,col_indexer] = value instead\n",
      "\n",
      "See the caveats in the documentation: https://pandas.pydata.org/pandas-docs/stable/user_guide/indexing.html#returning-a-view-versus-a-copy\n",
      "  super().__setitem__(key, value)\n"
     ]
    },
    {
     "name": "stdout",
     "output_type": "stream",
     "text": [
      "Applying [D:/github/lfs-cleaning/travel-model-two-networks\\project_cards\\year_2015_managed_lane_e_capitol_expresswayn_us101_to_i680.yml]:Year 2015 Modify HOV Lanes and USE on E Capitol Expressway NB US101 to I-680\n",
      "Applying [D:/github/lfs-cleaning/travel-model-two-networks\\project_cards\\year_2015_managed_lane_e_capitol_expresswayn_us101_to_i680.yml]:Year 2015 Modify HOV Lanes and USE on E Capitol Expressway NB US101 to I-680\n",
      "Applying Project to Roadway Network: Year 2015 Modify HOV Lanes and USE on E Capitol Expressway NB US101 to I-680\n"
     ]
    },
    {
     "name": "stderr",
     "output_type": "stream",
     "text": [
      "c:\\Users\\wangs1\\AppData\\Local\\Continuum\\anaconda3\\envs\\lasso_bayarea\\lib\\site-packages\\geopandas\\geodataframe.py:1351: SettingWithCopyWarning: \n",
      "A value is trying to be set on a copy of a slice from a DataFrame.\n",
      "Try using .loc[row_indexer,col_indexer] = value instead\n",
      "\n",
      "See the caveats in the documentation: https://pandas.pydata.org/pandas-docs/stable/user_guide/indexing.html#returning-a-view-versus-a-copy\n",
      "  super().__setitem__(key, value)\n"
     ]
    },
    {
     "name": "stdout",
     "output_type": "stream",
     "text": [
      "Applying [D:/github/lfs-cleaning/travel-model-two-networks\\project_cards\\year_2015_managed_lane_ca92w_eden_landing_rd_to_san_mateo_hayward_bridge_toll_plaza.yml]:Year 2015 Modify HOV Lanes and USE on CA-92 WB Eden Landing Rd to San Mateo-Hayward Bridge Toll Plaza\n",
      "Applying [D:/github/lfs-cleaning/travel-model-two-networks\\project_cards\\year_2015_managed_lane_ca92w_eden_landing_rd_to_san_mateo_hayward_bridge_toll_plaza.yml]:Year 2015 Modify HOV Lanes and USE on CA-92 WB Eden Landing Rd to San Mateo-Hayward Bridge Toll Plaza\n",
      "Applying Project to Roadway Network: Year 2015 Modify HOV Lanes and USE on CA-92 WB Eden Landing Rd to San Mateo-Hayward Bridge Toll Plaza\n"
     ]
    },
    {
     "name": "stderr",
     "output_type": "stream",
     "text": [
      "c:\\Users\\wangs1\\AppData\\Local\\Continuum\\anaconda3\\envs\\lasso_bayarea\\lib\\site-packages\\geopandas\\geodataframe.py:1351: SettingWithCopyWarning: \n",
      "A value is trying to be set on a copy of a slice from a DataFrame.\n",
      "Try using .loc[row_indexer,col_indexer] = value instead\n",
      "\n",
      "See the caveats in the documentation: https://pandas.pydata.org/pandas-docs/stable/user_guide/indexing.html#returning-a-view-versus-a-copy\n",
      "  super().__setitem__(key, value)\n"
     ]
    },
    {
     "name": "stdout",
     "output_type": "stream",
     "text": [
      "Applying [D:/github/lfs-cleaning/travel-model-two-networks\\project_cards\\year_2015_managed_lane_ca87s_us101_to_ca85.yml]:Year 2015 Modify HOV Lanes and USE on CA-87 SB US 101 to CA-85\n",
      "Applying [D:/github/lfs-cleaning/travel-model-two-networks\\project_cards\\year_2015_managed_lane_ca87s_us101_to_ca85.yml]:Year 2015 Modify HOV Lanes and USE on CA-87 SB US 101 to CA-85\n",
      "Applying Project to Roadway Network: Year 2015 Modify HOV Lanes and USE on CA-87 SB US 101 to CA-85\n"
     ]
    },
    {
     "name": "stderr",
     "output_type": "stream",
     "text": [
      "c:\\Users\\wangs1\\AppData\\Local\\Continuum\\anaconda3\\envs\\lasso_bayarea\\lib\\site-packages\\geopandas\\geodataframe.py:1351: SettingWithCopyWarning: \n",
      "A value is trying to be set on a copy of a slice from a DataFrame.\n",
      "Try using .loc[row_indexer,col_indexer] = value instead\n",
      "\n",
      "See the caveats in the documentation: https://pandas.pydata.org/pandas-docs/stable/user_guide/indexing.html#returning-a-view-versus-a-copy\n",
      "  super().__setitem__(key, value)\n"
     ]
    },
    {
     "name": "stdout",
     "output_type": "stream",
     "text": [
      "Applying [D:/github/lfs-cleaning/travel-model-two-networks\\project_cards\\year_2015_managed_lane_ca87n_ca85_to_us101.yml]:Year 2015 Modify HOV Lanes and USE on CA 87 NB CA-85 to US 101\n",
      "Applying [D:/github/lfs-cleaning/travel-model-two-networks\\project_cards\\year_2015_managed_lane_ca87n_ca85_to_us101.yml]:Year 2015 Modify HOV Lanes and USE on CA 87 NB CA-85 to US 101\n",
      "Applying Project to Roadway Network: Year 2015 Modify HOV Lanes and USE on CA 87 NB CA-85 to US 101\n"
     ]
    },
    {
     "name": "stderr",
     "output_type": "stream",
     "text": [
      "c:\\Users\\wangs1\\AppData\\Local\\Continuum\\anaconda3\\envs\\lasso_bayarea\\lib\\site-packages\\geopandas\\geodataframe.py:1351: SettingWithCopyWarning: \n",
      "A value is trying to be set on a copy of a slice from a DataFrame.\n",
      "Try using .loc[row_indexer,col_indexer] = value instead\n",
      "\n",
      "See the caveats in the documentation: https://pandas.pydata.org/pandas-docs/stable/user_guide/indexing.html#returning-a-view-versus-a-copy\n",
      "  super().__setitem__(key, value)\n"
     ]
    },
    {
     "name": "stdout",
     "output_type": "stream",
     "text": [
      "Applying [D:/github/lfs-cleaning/travel-model-two-networks\\project_cards\\year_2015_managed_lane_ca85s_us101_to_us101.yml]:Year 2015 Modify HOV Lanes and USE on CA-85 SB US101 to US101\n",
      "Applying [D:/github/lfs-cleaning/travel-model-two-networks\\project_cards\\year_2015_managed_lane_ca85s_us101_to_us101.yml]:Year 2015 Modify HOV Lanes and USE on CA-85 SB US101 to US101\n",
      "Applying Project to Roadway Network: Year 2015 Modify HOV Lanes and USE on CA-85 SB US101 to US101\n"
     ]
    },
    {
     "name": "stderr",
     "output_type": "stream",
     "text": [
      "c:\\Users\\wangs1\\AppData\\Local\\Continuum\\anaconda3\\envs\\lasso_bayarea\\lib\\site-packages\\geopandas\\geodataframe.py:1351: SettingWithCopyWarning: \n",
      "A value is trying to be set on a copy of a slice from a DataFrame.\n",
      "Try using .loc[row_indexer,col_indexer] = value instead\n",
      "\n",
      "See the caveats in the documentation: https://pandas.pydata.org/pandas-docs/stable/user_guide/indexing.html#returning-a-view-versus-a-copy\n",
      "  super().__setitem__(key, value)\n"
     ]
    },
    {
     "name": "stdout",
     "output_type": "stream",
     "text": [
      "Applying [D:/github/lfs-cleaning/travel-model-two-networks\\project_cards\\year_2015_managed_lane_ca85n_us101_to_us101.yml]:Year 2015 Modify HOV Lanes and USE on CA-85 NB US101 to US101\n",
      "Applying [D:/github/lfs-cleaning/travel-model-two-networks\\project_cards\\year_2015_managed_lane_ca85n_us101_to_us101.yml]:Year 2015 Modify HOV Lanes and USE on CA-85 NB US101 to US101\n",
      "Applying Project to Roadway Network: Year 2015 Modify HOV Lanes and USE on CA-85 NB US101 to US101\n"
     ]
    },
    {
     "name": "stderr",
     "output_type": "stream",
     "text": [
      "c:\\Users\\wangs1\\AppData\\Local\\Continuum\\anaconda3\\envs\\lasso_bayarea\\lib\\site-packages\\geopandas\\geodataframe.py:1351: SettingWithCopyWarning: \n",
      "A value is trying to be set on a copy of a slice from a DataFrame.\n",
      "Try using .loc[row_indexer,col_indexer] = value instead\n",
      "\n",
      "See the caveats in the documentation: https://pandas.pydata.org/pandas-docs/stable/user_guide/indexing.html#returning-a-view-versus-a-copy\n",
      "  super().__setitem__(key, value)\n"
     ]
    },
    {
     "name": "stdout",
     "output_type": "stream",
     "text": [
      "Applying [D:/github/lfs-cleaning/travel-model-two-networks\\project_cards\\year_2015_managed_lane_ca84w_i880_to_dumbarton_bridge_toll_plaza.yml]:Year 2015 Modify HOV Lanes and USE on CA-84 WB I-880 to Dumbarton Bridge Toll Plaza\n",
      "Applying [D:/github/lfs-cleaning/travel-model-two-networks\\project_cards\\year_2015_managed_lane_ca84w_i880_to_dumbarton_bridge_toll_plaza.yml]:Year 2015 Modify HOV Lanes and USE on CA-84 WB I-880 to Dumbarton Bridge Toll Plaza\n",
      "Applying Project to Roadway Network: Year 2015 Modify HOV Lanes and USE on CA-84 WB I-880 to Dumbarton Bridge Toll Plaza\n"
     ]
    },
    {
     "name": "stderr",
     "output_type": "stream",
     "text": [
      "c:\\Users\\wangs1\\AppData\\Local\\Continuum\\anaconda3\\envs\\lasso_bayarea\\lib\\site-packages\\geopandas\\geodataframe.py:1351: SettingWithCopyWarning: \n",
      "A value is trying to be set on a copy of a slice from a DataFrame.\n",
      "Try using .loc[row_indexer,col_indexer] = value instead\n",
      "\n",
      "See the caveats in the documentation: https://pandas.pydata.org/pandas-docs/stable/user_guide/indexing.html#returning-a-view-versus-a-copy\n",
      "  super().__setitem__(key, value)\n"
     ]
    },
    {
     "name": "stdout",
     "output_type": "stream",
     "text": [
      "Applying [D:/github/lfs-cleaning/travel-model-two-networks\\project_cards\\year_2015_managed_lane_ca280s_magdalena_ave_to_southwest_expressway.yml]:Year 2015 Modify HOV Lanes and USE on CA-280 SB Magdalena Ave to Southwest Expressway\n",
      "Applying [D:/github/lfs-cleaning/travel-model-two-networks\\project_cards\\year_2015_managed_lane_ca280s_magdalena_ave_to_southwest_expressway.yml]:Year 2015 Modify HOV Lanes and USE on CA-280 SB Magdalena Ave to Southwest Expressway\n",
      "Applying Project to Roadway Network: Year 2015 Modify HOV Lanes and USE on CA-280 SB Magdalena Ave to Southwest Expressway\n"
     ]
    },
    {
     "name": "stderr",
     "output_type": "stream",
     "text": [
      "c:\\Users\\wangs1\\AppData\\Local\\Continuum\\anaconda3\\envs\\lasso_bayarea\\lib\\site-packages\\geopandas\\geodataframe.py:1351: SettingWithCopyWarning: \n",
      "A value is trying to be set on a copy of a slice from a DataFrame.\n",
      "Try using .loc[row_indexer,col_indexer] = value instead\n",
      "\n",
      "See the caveats in the documentation: https://pandas.pydata.org/pandas-docs/stable/user_guide/indexing.html#returning-a-view-versus-a-copy\n",
      "  super().__setitem__(key, value)\n"
     ]
    },
    {
     "name": "stdout",
     "output_type": "stream",
     "text": [
      "Applying [D:/github/lfs-cleaning/travel-model-two-networks\\project_cards\\year_2015_managed_lane_ca280n_bascom_ave_to_magdalena_ave.yml]:Year 2015 Modify HOV Lanes and USE on CA-280 NB Bascom Ave to Magdalena Ave\n",
      "Applying [D:/github/lfs-cleaning/travel-model-two-networks\\project_cards\\year_2015_managed_lane_ca280n_bascom_ave_to_magdalena_ave.yml]:Year 2015 Modify HOV Lanes and USE on CA-280 NB Bascom Ave to Magdalena Ave\n",
      "Applying Project to Roadway Network: Year 2015 Modify HOV Lanes and USE on CA-280 NB Bascom Ave to Magdalena Ave\n"
     ]
    },
    {
     "name": "stderr",
     "output_type": "stream",
     "text": [
      "c:\\Users\\wangs1\\AppData\\Local\\Continuum\\anaconda3\\envs\\lasso_bayarea\\lib\\site-packages\\geopandas\\geodataframe.py:1351: SettingWithCopyWarning: \n",
      "A value is trying to be set on a copy of a slice from a DataFrame.\n",
      "Try using .loc[row_indexer,col_indexer] = value instead\n",
      "\n",
      "See the caveats in the documentation: https://pandas.pydata.org/pandas-docs/stable/user_guide/indexing.html#returning-a-view-versus-a-copy\n",
      "  super().__setitem__(key, value)\n"
     ]
    },
    {
     "name": "stdout",
     "output_type": "stream",
     "text": [
      "Applying [D:/github/lfs-cleaning/travel-model-two-networks\\project_cards\\year_2015_managed_lane_ca237w_north_1st_street_to_us101.yml]:Year 2015 Modify HOV Lanes and USE on CA-237 WB North 1st Street to US 101\n",
      "Applying [D:/github/lfs-cleaning/travel-model-two-networks\\project_cards\\year_2015_managed_lane_ca237w_north_1st_street_to_us101.yml]:Year 2015 Modify HOV Lanes and USE on CA-237 WB North 1st Street to US 101\n",
      "Applying Project to Roadway Network: Year 2015 Modify HOV Lanes and USE on CA-237 WB North 1st Street to US 101\n"
     ]
    },
    {
     "name": "stderr",
     "output_type": "stream",
     "text": [
      "c:\\Users\\wangs1\\AppData\\Local\\Continuum\\anaconda3\\envs\\lasso_bayarea\\lib\\site-packages\\geopandas\\geodataframe.py:1351: SettingWithCopyWarning: \n",
      "A value is trying to be set on a copy of a slice from a DataFrame.\n",
      "Try using .loc[row_indexer,col_indexer] = value instead\n",
      "\n",
      "See the caveats in the documentation: https://pandas.pydata.org/pandas-docs/stable/user_guide/indexing.html#returning-a-view-versus-a-copy\n",
      "  super().__setitem__(key, value)\n"
     ]
    },
    {
     "name": "stdout",
     "output_type": "stream",
     "text": [
      "Applying [D:/github/lfs-cleaning/travel-model-two-networks\\project_cards\\year_2015_managed_lane_ca237w_i880_to_ca262_mission_blvd.yml]:Year 2015 Modify Express Lanes and USE on CA-237 WB I-880 to CA-262 Mission Blvd\n",
      "Applying [D:/github/lfs-cleaning/travel-model-two-networks\\project_cards\\year_2015_managed_lane_ca237w_i880_to_ca262_mission_blvd.yml]:Year 2015 Modify Express Lanes and USE on CA-237 WB I-880 to CA-262 Mission Blvd\n",
      "Applying Project to Roadway Network: Year 2015 Modify Express Lanes and USE on CA-237 WB I-880 to CA-262 Mission Blvd\n"
     ]
    },
    {
     "name": "stderr",
     "output_type": "stream",
     "text": [
      "c:\\Users\\wangs1\\AppData\\Local\\Continuum\\anaconda3\\envs\\lasso_bayarea\\lib\\site-packages\\geopandas\\geodataframe.py:1351: SettingWithCopyWarning: \n",
      "A value is trying to be set on a copy of a slice from a DataFrame.\n",
      "Try using .loc[row_indexer,col_indexer] = value instead\n",
      "\n",
      "See the caveats in the documentation: https://pandas.pydata.org/pandas-docs/stable/user_guide/indexing.html#returning-a-view-versus-a-copy\n",
      "  super().__setitem__(key, value)\n"
     ]
    },
    {
     "name": "stdout",
     "output_type": "stream",
     "text": [
      "Applying [D:/github/lfs-cleaning/travel-model-two-networks\\project_cards\\year_2015_managed_lane_ca237e_us101_to_north_1st_street.yml]:Year 2015 Modify HOV Lanes and USE on CA-237 EB US 101 to North 1st Street\n",
      "Applying [D:/github/lfs-cleaning/travel-model-two-networks\\project_cards\\year_2015_managed_lane_ca237e_us101_to_north_1st_street.yml]:Year 2015 Modify HOV Lanes and USE on CA-237 EB US 101 to North 1st Street\n",
      "Applying Project to Roadway Network: Year 2015 Modify HOV Lanes and USE on CA-237 EB US 101 to North 1st Street\n"
     ]
    },
    {
     "name": "stderr",
     "output_type": "stream",
     "text": [
      "c:\\Users\\wangs1\\AppData\\Local\\Continuum\\anaconda3\\envs\\lasso_bayarea\\lib\\site-packages\\geopandas\\geodataframe.py:1351: SettingWithCopyWarning: \n",
      "A value is trying to be set on a copy of a slice from a DataFrame.\n",
      "Try using .loc[row_indexer,col_indexer] = value instead\n",
      "\n",
      "See the caveats in the documentation: https://pandas.pydata.org/pandas-docs/stable/user_guide/indexing.html#returning-a-view-versus-a-copy\n",
      "  super().__setitem__(key, value)\n"
     ]
    },
    {
     "name": "stdout",
     "output_type": "stream",
     "text": [
      "Applying [D:/github/lfs-cleaning/travel-model-two-networks\\project_cards\\year_2015_managed_lane_ca237e_sr262_mission_blvd_to_i880.yml]:Year 2015 Modify Express Lanes and USE on CA-237 EB SR-262 Mission Blvd to I-880\n",
      "Applying [D:/github/lfs-cleaning/travel-model-two-networks\\project_cards\\year_2015_managed_lane_ca237e_sr262_mission_blvd_to_i880.yml]:Year 2015 Modify Express Lanes and USE on CA-237 EB SR-262 Mission Blvd to I-880\n",
      "Applying Project to Roadway Network: Year 2015 Modify Express Lanes and USE on CA-237 EB SR-262 Mission Blvd to I-880\n"
     ]
    },
    {
     "name": "stderr",
     "output_type": "stream",
     "text": [
      "c:\\Users\\wangs1\\AppData\\Local\\Continuum\\anaconda3\\envs\\lasso_bayarea\\lib\\site-packages\\geopandas\\geodataframe.py:1351: SettingWithCopyWarning: \n",
      "A value is trying to be set on a copy of a slice from a DataFrame.\n",
      "Try using .loc[row_indexer,col_indexer] = value instead\n",
      "\n",
      "See the caveats in the documentation: https://pandas.pydata.org/pandas-docs/stable/user_guide/indexing.html#returning-a-view-versus-a-copy\n",
      "  super().__setitem__(key, value)\n"
     ]
    },
    {
     "name": "stdout",
     "output_type": "stream",
     "text": [
      "Applying [D:/github/lfs-cleaning/travel-model-two-networks\\project_cards\\year_2015_hov_lane_benicia_bridge_toll_plaza.yml]:Year 2015 Modify HOV Lanes and USE on Benicia Bridge Toll Plaza - Bridge Pass\n",
      "Applying [D:/github/lfs-cleaning/travel-model-two-networks\\project_cards\\year_2015_hov_lane_benicia_bridge_toll_plaza.yml]:Year 2015 Modify HOV Lanes and USE on Benicia Bridge Toll Plaza - Bridge Pass\n",
      "Applying Project to Roadway Network: Year 2015 Modify HOV Lanes and USE on Benicia Bridge Toll Plaza - Bridge Pass\n",
      "Applying [D:/github/lfs-cleaning/travel-model-two-networks\\project_cards\\year_2015_hov_lane_bay_bridge_toll_plaza_segment_03.yml]:Year 2015 Modify HOV Lanes-Fastrak Lanes and USE on San Francisco-Oakland Bay Bridge WB Toll Plaza segment 03 - Bridge Pass\n",
      "Applying [D:/github/lfs-cleaning/travel-model-two-networks\\project_cards\\year_2015_hov_lane_bay_bridge_toll_plaza_segment_03.yml]:Year 2015 Modify HOV Lanes-Fastrak Lanes and USE on San Francisco-Oakland Bay Bridge WB Toll Plaza segment 03 - Bridge Pass\n",
      "Applying Project to Roadway Network: Year 2015 Modify HOV Lanes-Fastrak Lanes and USE on San Francisco-Oakland Bay Bridge WB Toll Plaza segment 03 - Bridge Pass\n"
     ]
    },
    {
     "name": "stderr",
     "output_type": "stream",
     "text": [
      "c:\\Users\\wangs1\\AppData\\Local\\Continuum\\anaconda3\\envs\\lasso_bayarea\\lib\\site-packages\\geopandas\\geodataframe.py:1351: SettingWithCopyWarning: \n",
      "A value is trying to be set on a copy of a slice from a DataFrame.\n",
      "Try using .loc[row_indexer,col_indexer] = value instead\n",
      "\n",
      "See the caveats in the documentation: https://pandas.pydata.org/pandas-docs/stable/user_guide/indexing.html#returning-a-view-versus-a-copy\n",
      "  super().__setitem__(key, value)\n"
     ]
    },
    {
     "name": "stdout",
     "output_type": "stream",
     "text": [
      "Applying [D:/github/lfs-cleaning/travel-model-two-networks\\project_cards\\year_2015_hov_lane_bay_bridge_toll_plaza_segment_02.yml]:Year 2015 Modify HOV Lanes-Fastrak Lanes and USE on San Francisco-Oakland Bay Bridge WB Toll Plaza segment 02 - Bridge Pass\n",
      "Applying [D:/github/lfs-cleaning/travel-model-two-networks\\project_cards\\year_2015_hov_lane_bay_bridge_toll_plaza_segment_02.yml]:Year 2015 Modify HOV Lanes-Fastrak Lanes and USE on San Francisco-Oakland Bay Bridge WB Toll Plaza segment 02 - Bridge Pass\n",
      "Applying Project to Roadway Network: Year 2015 Modify HOV Lanes-Fastrak Lanes and USE on San Francisco-Oakland Bay Bridge WB Toll Plaza segment 02 - Bridge Pass\n",
      "Applying [D:/github/lfs-cleaning/travel-model-two-networks\\project_cards\\year_2015_hov_lane_bay_bridge_toll_plaza.yml]:Year 2015 Modify HOV Lanes-Fastrak Lanes and USE on San Francisco-Oakland Bay Bridge WB Toll Plaza - Bridge Pass\n",
      "Applying [D:/github/lfs-cleaning/travel-model-two-networks\\project_cards\\year_2015_hov_lane_bay_bridge_toll_plaza.yml]:Year 2015 Modify HOV Lanes-Fastrak Lanes and USE on San Francisco-Oakland Bay Bridge WB Toll Plaza - Bridge Pass\n",
      "Applying Project to Roadway Network: Year 2015 Modify HOV Lanes-Fastrak Lanes and USE on San Francisco-Oakland Bay Bridge WB Toll Plaza - Bridge Pass\n"
     ]
    },
    {
     "name": "stderr",
     "output_type": "stream",
     "text": [
      "c:\\Users\\wangs1\\AppData\\Local\\Continuum\\anaconda3\\envs\\lasso_bayarea\\lib\\site-packages\\geopandas\\geodataframe.py:1351: SettingWithCopyWarning: \n",
      "A value is trying to be set on a copy of a slice from a DataFrame.\n",
      "Try using .loc[row_indexer,col_indexer] = value instead\n",
      "\n",
      "See the caveats in the documentation: https://pandas.pydata.org/pandas-docs/stable/user_guide/indexing.html#returning-a-view-versus-a-copy\n",
      "  super().__setitem__(key, value)\n",
      "c:\\Users\\wangs1\\AppData\\Local\\Continuum\\anaconda3\\envs\\lasso_bayarea\\lib\\site-packages\\geopandas\\geodataframe.py:1351: SettingWithCopyWarning: \n",
      "A value is trying to be set on a copy of a slice from a DataFrame.\n",
      "Try using .loc[row_indexer,col_indexer] = value instead\n",
      "\n",
      "See the caveats in the documentation: https://pandas.pydata.org/pandas-docs/stable/user_guide/indexing.html#returning-a-view-versus-a-copy\n",
      "  super().__setitem__(key, value)\n"
     ]
    },
    {
     "name": "stdout",
     "output_type": "stream",
     "text": [
      "Applying [D:/github/lfs-cleaning/travel-model-two-networks\\project_cards\\year_2015_golden_gate_bridge_toll_plaza.yml]:year 2015 modify toll links on golden gate bridge toll plaza on us101 sb - bridge pass\n",
      "Applying [D:/github/lfs-cleaning/travel-model-two-networks\\project_cards\\year_2015_golden_gate_bridge_toll_plaza.yml]:year 2015 modify toll links on golden gate bridge toll plaza on us101 sb - bridge pass\n",
      "Applying Project to Roadway Network: year 2015 modify toll links on golden gate bridge toll plaza on us101 sb - bridge pass\n",
      "Applying [D:/github/lfs-cleaning/travel-model-two-networks\\project_cards\\year_2015_dumbarton_bridge_toll_plaza.yml]:Year 2015 Modify HOV Lanes and USE on Dumbarton Bridge Toll Plaza Toll Plaza on CA-84 WB - Bridge Pass\n",
      "Applying [D:/github/lfs-cleaning/travel-model-two-networks\\project_cards\\year_2015_dumbarton_bridge_toll_plaza.yml]:Year 2015 Modify HOV Lanes and USE on Dumbarton Bridge Toll Plaza Toll Plaza on CA-84 WB - Bridge Pass\n",
      "Applying Project to Roadway Network: Year 2015 Modify HOV Lanes and USE on Dumbarton Bridge Toll Plaza Toll Plaza on CA-84 WB - Bridge Pass\n"
     ]
    },
    {
     "name": "stderr",
     "output_type": "stream",
     "text": [
      "c:\\Users\\wangs1\\AppData\\Local\\Continuum\\anaconda3\\envs\\lasso_bayarea\\lib\\site-packages\\geopandas\\geodataframe.py:1351: SettingWithCopyWarning: \n",
      "A value is trying to be set on a copy of a slice from a DataFrame.\n",
      "Try using .loc[row_indexer,col_indexer] = value instead\n",
      "\n",
      "See the caveats in the documentation: https://pandas.pydata.org/pandas-docs/stable/user_guide/indexing.html#returning-a-view-versus-a-copy\n",
      "  super().__setitem__(key, value)\n",
      "c:\\Users\\wangs1\\AppData\\Local\\Continuum\\anaconda3\\envs\\lasso_bayarea\\lib\\site-packages\\geopandas\\geodataframe.py:1351: SettingWithCopyWarning: \n",
      "A value is trying to be set on a copy of a slice from a DataFrame.\n",
      "Try using .loc[row_indexer,col_indexer] = value instead\n",
      "\n",
      "See the caveats in the documentation: https://pandas.pydata.org/pandas-docs/stable/user_guide/indexing.html#returning-a-view-versus-a-copy\n",
      "  super().__setitem__(key, value)\n"
     ]
    },
    {
     "name": "stdout",
     "output_type": "stream",
     "text": [
      "Applying [D:/github/lfs-cleaning/travel-model-two-networks\\project_cards\\year_2015_carniquez_bridge_toll_plaza.yml]:Year 2015 Modify HOV Lanes and USE on Carquinez Bridge Toll Plaza on I-80 NB - Bridge Pass\n",
      "Applying [D:/github/lfs-cleaning/travel-model-two-networks\\project_cards\\year_2015_carniquez_bridge_toll_plaza.yml]:Year 2015 Modify HOV Lanes and USE on Carquinez Bridge Toll Plaza on I-80 NB - Bridge Pass\n",
      "Applying Project to Roadway Network: Year 2015 Modify HOV Lanes and USE on Carquinez Bridge Toll Plaza on I-80 NB - Bridge Pass\n",
      "Applying [D:/github/lfs-cleaning/travel-model-two-networks\\project_cards\\year_2015_attributes_exclude_trucks_sr85.yml]:Year 2015 Exclude Trucks on SR 85\n",
      "Applying [D:/github/lfs-cleaning/travel-model-two-networks\\project_cards\\year_2015_attributes_exclude_trucks_sr85.yml]:Year 2015 Exclude Trucks on SR 85\n",
      "Applying Project to Roadway Network: Year 2015 Exclude Trucks on SR 85\n"
     ]
    },
    {
     "name": "stderr",
     "output_type": "stream",
     "text": [
      "c:\\Users\\wangs1\\AppData\\Local\\Continuum\\anaconda3\\envs\\lasso_bayarea\\lib\\site-packages\\geopandas\\geodataframe.py:1351: SettingWithCopyWarning: \n",
      "A value is trying to be set on a copy of a slice from a DataFrame.\n",
      "Try using .loc[row_indexer,col_indexer] = value instead\n",
      "\n",
      "See the caveats in the documentation: https://pandas.pydata.org/pandas-docs/stable/user_guide/indexing.html#returning-a-view-versus-a-copy\n",
      "  super().__setitem__(key, value)\n",
      "c:\\Users\\wangs1\\AppData\\Local\\Continuum\\anaconda3\\envs\\lasso_bayarea\\lib\\site-packages\\geopandas\\geodataframe.py:1351: SettingWithCopyWarning: \n",
      "A value is trying to be set on a copy of a slice from a DataFrame.\n",
      "Try using .loc[row_indexer,col_indexer] = value instead\n",
      "\n",
      "See the caveats in the documentation: https://pandas.pydata.org/pandas-docs/stable/user_guide/indexing.html#returning-a-view-versus-a-copy\n",
      "  super().__setitem__(key, value)\n"
     ]
    },
    {
     "name": "stdout",
     "output_type": "stream",
     "text": [
      "Applying [D:/github/lfs-cleaning/travel-model-two-networks\\project_cards\\year_2015_attributes_exclude_trucks_i580.yml]:Year 2015 Exclude Trucks on I580\n",
      "Applying [D:/github/lfs-cleaning/travel-model-two-networks\\project_cards\\year_2015_attributes_exclude_trucks_i580.yml]:Year 2015 Exclude Trucks on I580\n",
      "Applying Project to Roadway Network: Year 2015 Exclude Trucks on I580\n",
      "Applying [D:/github/lfs-cleaning/travel-model-two-networks\\project_cards\\year_2015_antioch_bridge.yml]:Year 2015 Modify HOV Lanes-Fastrak Lanes and USE on Antioch Bridge NB on Route 160 - Bridge Pass\n",
      "Applying [D:/github/lfs-cleaning/travel-model-two-networks\\project_cards\\year_2015_antioch_bridge.yml]:Year 2015 Modify HOV Lanes-Fastrak Lanes and USE on Antioch Bridge NB on Route 160 - Bridge Pass\n",
      "Applying Project to Roadway Network: Year 2015 Modify HOV Lanes-Fastrak Lanes and USE on Antioch Bridge NB on Route 160 - Bridge Pass\n"
     ]
    },
    {
     "name": "stderr",
     "output_type": "stream",
     "text": [
      "c:\\Users\\wangs1\\AppData\\Local\\Continuum\\anaconda3\\envs\\lasso_bayarea\\lib\\site-packages\\geopandas\\geodataframe.py:1351: SettingWithCopyWarning: \n",
      "A value is trying to be set on a copy of a slice from a DataFrame.\n",
      "Try using .loc[row_indexer,col_indexer] = value instead\n",
      "\n",
      "See the caveats in the documentation: https://pandas.pydata.org/pandas-docs/stable/user_guide/indexing.html#returning-a-view-versus-a-copy\n",
      "  super().__setitem__(key, value)\n",
      "c:\\Users\\wangs1\\AppData\\Local\\Continuum\\anaconda3\\envs\\lasso_bayarea\\lib\\site-packages\\geopandas\\geodataframe.py:1351: SettingWithCopyWarning: \n",
      "A value is trying to be set on a copy of a slice from a DataFrame.\n",
      "Try using .loc[row_indexer,col_indexer] = value instead\n",
      "\n",
      "See the caveats in the documentation: https://pandas.pydata.org/pandas-docs/stable/user_guide/indexing.html#returning-a-view-versus-a-copy\n",
      "  super().__setitem__(key, value)\n"
     ]
    }
   ],
   "source": [
    "step2_scenario.apply_all_projects()"
   ]
  },
  {
   "cell_type": "code",
   "execution_count": 20,
   "metadata": {},
   "outputs": [
    {
     "data": {
      "text/plain": [
       "(1634796, 44)"
      ]
     },
     "execution_count": 20,
     "metadata": {},
     "output_type": "execute_result"
    }
   ],
   "source": [
    "step2_scenario.road_net.links_df.shape"
   ]
  },
  {
   "cell_type": "code",
   "execution_count": 21,
   "metadata": {},
   "outputs": [
    {
     "data": {
      "text/plain": [
       "1634796"
      ]
     },
     "execution_count": 21,
     "metadata": {},
     "output_type": "execute_result"
    }
   ],
   "source": [
    "step2_scenario.road_net.links_df.model_link_id.nunique()"
   ]
  },
  {
   "cell_type": "code",
   "execution_count": 22,
   "metadata": {},
   "outputs": [
    {
     "data": {
      "text/plain": [
       "762806    {'default': 0, 'timeofday': [{'time': (21600, ...\n",
       "Name: useclass, dtype: object"
      ]
     },
     "execution_count": 22,
     "metadata": {},
     "output_type": "execute_result"
    }
   ],
   "source": [
    "step2_scenario.road_net.links_df[step2_scenario.road_net.links_df.model_link_id == 3149471].useclass"
   ]
  },
  {
   "cell_type": "code",
   "execution_count": 23,
   "metadata": {},
   "outputs": [
    {
     "data": {
      "text/plain": [
       "0"
      ]
     },
     "execution_count": 23,
     "metadata": {},
     "output_type": "execute_result"
    }
   ],
   "source": [
    "step2_scenario.road_net.links_df.county.isnull().sum()"
   ]
  },
  {
   "cell_type": "code",
   "execution_count": 24,
   "metadata": {},
   "outputs": [
    {
     "data": {
      "text/plain": [
       "8063199"
      ]
     },
     "execution_count": 24,
     "metadata": {},
     "output_type": "execute_result"
    }
   ],
   "source": [
    "step2_scenario.road_net.links_df.model_link_id.max()"
   ]
  },
  {
   "cell_type": "code",
   "execution_count": 25,
   "metadata": {
    "scrolled": false
   },
   "outputs": [
    {
     "name": "stdout",
     "output_type": "stream",
     "text": [
      "Creating Scenario\n"
     ]
    },
    {
     "name": "stderr",
     "output_type": "stream",
     "text": [
      "z:\\data\\users\\sijia\\mtc\\github\\network_wrangler\\network_wrangler\\projectcard.py:115: YAMLLoadWarning: calling yaml.load() without Loader=... is deprecated, as the default Loader is unsafe. Please read https://msg.pyyaml.org/load for full details.\n",
      "  attribute_dictionary = yaml.load(_yaml)\n"
     ]
    },
    {
     "name": "stdout",
     "output_type": "stream",
     "text": [
      "Applying [D:/github/lfs-cleaning/travel-model-two-networks\\project_cards\\rail-to-street-connector-links.yml]:move street rail to street connector links\n",
      "Applying [D:/github/lfs-cleaning/travel-model-two-networks\\project_cards\\rail-to-street-connector-links.yml]:move street rail to street connector links\n",
      "Applying Project to Roadway Network: move street rail to street connector links\n",
      "Applying [D:/github/lfs-cleaning/travel-model-two-networks\\project_cards\\rail-to-street-connector-links.yml]:move street rail to street connector links\n",
      "Applying Project to Roadway Network: move street rail to street connector links\n"
     ]
    },
    {
     "name": "stderr",
     "output_type": "stream",
     "text": [
      "c:\\Users\\wangs1\\AppData\\Local\\Continuum\\anaconda3\\envs\\lasso_bayarea\\lib\\site-packages\\geopandas\\geodataframe.py:1351: SettingWithCopyWarning: \n",
      "A value is trying to be set on a copy of a slice from a DataFrame.\n",
      "Try using .loc[row_indexer,col_indexer] = value instead\n",
      "\n",
      "See the caveats in the documentation: https://pandas.pydata.org/pandas-docs/stable/user_guide/indexing.html#returning-a-view-versus-a-copy\n",
      "  super().__setitem__(key, value)\n"
     ]
    },
    {
     "name": "stdout",
     "output_type": "stream",
     "text": [
      "Applying [D:/github/lfs-cleaning/travel-model-two-networks\\project_cards\\rail-to-street-connector-links.yml]:move street rail to street connector links\n",
      "Applying Project to Roadway Network: move street rail to street connector links\n",
      "Applying [D:/github/lfs-cleaning/travel-model-two-networks\\project_cards\\rail-to-street-connector-links.yml]:move street rail to street connector links\n",
      "Applying Project to Roadway Network: move street rail to street connector links\n",
      "Applying [D:/github/lfs-cleaning/travel-model-two-networks\\project_cards\\rail-to-street-connector-links.yml]:move street rail to street connector links\n",
      "Applying Project to Roadway Network: move street rail to street connector links\n",
      "Applying [D:/github/lfs-cleaning/travel-model-two-networks\\project_cards\\rail-to-street-connector-links.yml]:move street rail to street connector links\n",
      "Applying Project to Roadway Network: move street rail to street connector links\n",
      "Applying [D:/github/lfs-cleaning/travel-model-two-networks\\project_cards\\rail-to-street-connector-links.yml]:move street rail to street connector links\n",
      "Applying Project to Roadway Network: move street rail to street connector links\n",
      "Applying [D:/github/lfs-cleaning/travel-model-two-networks\\project_cards\\rail-to-street-connector-links.yml]:move street rail to street connector links\n",
      "Applying Project to Roadway Network: move street rail to street connector links\n",
      "Applying [D:/github/lfs-cleaning/travel-model-two-networks\\project_cards\\rail-to-street-connector-links.yml]:move street rail to street connector links\n",
      "Applying Project to Roadway Network: move street rail to street connector links\n",
      "Applying [D:/github/lfs-cleaning/travel-model-two-networks\\project_cards\\rail-to-street-connector-links.yml]:move street rail to street connector links\n",
      "Applying Project to Roadway Network: move street rail to street connector links\n",
      "Applying [D:/github/lfs-cleaning/travel-model-two-networks\\project_cards\\rail-to-street-connector-links.yml]:move street rail to street connector links\n",
      "Applying Project to Roadway Network: move street rail to street connector links\n",
      "Applying [D:/github/lfs-cleaning/travel-model-two-networks\\project_cards\\rail-to-street-connector-links.yml]:move street rail to street connector links\n",
      "Applying Project to Roadway Network: move street rail to street connector links\n",
      "Applying [D:/github/lfs-cleaning/travel-model-two-networks\\project_cards\\rail-to-street-connector-links.yml]:move street rail to street connector links\n",
      "Applying Project to Roadway Network: move street rail to street connector links\n",
      "Applying [D:/github/lfs-cleaning/travel-model-two-networks\\project_cards\\rail-to-street-connector-links.yml]:move street rail to street connector links\n",
      "Applying Project to Roadway Network: move street rail to street connector links\n",
      "Applying [D:/github/lfs-cleaning/travel-model-two-networks\\project_cards\\rail-to-street-connector-links.yml]:move street rail to street connector links\n",
      "Applying Project to Roadway Network: move street rail to street connector links\n",
      "Applying [D:/github/lfs-cleaning/travel-model-two-networks\\project_cards\\rail-to-street-connector-links.yml]:move street rail to street connector links\n",
      "Applying Project to Roadway Network: move street rail to street connector links\n",
      "Applying [D:/github/lfs-cleaning/travel-model-two-networks\\project_cards\\rail-to-street-connector-links.yml]:move street rail to street connector links\n",
      "Applying Project to Roadway Network: move street rail to street connector links\n",
      "Applying [D:/github/lfs-cleaning/travel-model-two-networks\\project_cards\\rail-to-street-connector-links.yml]:move street rail to street connector links\n",
      "Applying Project to Roadway Network: move street rail to street connector links\n",
      "Applying [D:/github/lfs-cleaning/travel-model-two-networks\\project_cards\\rail-to-street-connector-links.yml]:move street rail to street connector links\n",
      "Applying Project to Roadway Network: move street rail to street connector links\n"
     ]
    }
   ],
   "source": [
    "step3_scenario = Scenario.create_scenario(\n",
    "    base_scenario= step2_scenario,\n",
    "    card_directory = card_dir,\n",
    "    project_cards_list = [],\n",
    "    tags = [\"Major Transit links\"],\n",
    "    validate_project_cards=False)\n",
    "\n",
    "step3_scenario.apply_all_projects()"
   ]
  },
  {
   "cell_type": "code",
   "execution_count": 26,
   "metadata": {},
   "outputs": [
    {
     "data": {
      "text/plain": [
       "Index(['access', 'bike_access', 'drive_access', 'fromIntersectionId', 'lanes',\n",
       "       'maxspeed', 'name', 'oneWay', 'ref', 'roadway', 'shstGeometryId',\n",
       "       'shstReferenceId', 'toIntersectionId', 'u', 'v', 'walk_access', 'wayId',\n",
       "       'county', 'model_link_id', 'A', 'B', 'rail_traveltime', 'rail_only',\n",
       "       'locationReferences', 'geometry', 'ft_cal', 'ft', 'useclass',\n",
       "       'assignable_cal', 'assignable', 'transit', 'id', 'tollbooth',\n",
       "       'bus_only', 'transit_access', 'managed', 'ML_lanes', 'segment_id',\n",
       "       'ML_tollbooth', 'ML_useclass', 'ML_access', 'ML_egress', 'ML_tollseg',\n",
       "       'tollseg'],\n",
       "      dtype='object')"
      ]
     },
     "execution_count": 26,
     "metadata": {},
     "output_type": "execute_result"
    }
   ],
   "source": [
    "step3_scenario.road_net.links_df.columns"
   ]
  },
  {
   "cell_type": "code",
   "execution_count": 27,
   "metadata": {},
   "outputs": [
    {
     "data": {
      "text/plain": [
       "(1634814, 44)"
      ]
     },
     "execution_count": 27,
     "metadata": {},
     "output_type": "execute_result"
    }
   ],
   "source": [
    "step3_scenario.road_net.links_df.shape"
   ]
  },
  {
   "cell_type": "code",
   "execution_count": 28,
   "metadata": {},
   "outputs": [
    {
     "data": {
      "text/plain": [
       "Index(['access', 'bike_access', 'drive_access', 'fromIntersectionId', 'lanes',\n",
       "       'maxspeed', 'name', 'oneWay', 'ref', 'roadway', 'shstGeometryId',\n",
       "       'shstReferenceId', 'toIntersectionId', 'u', 'v', 'walk_access', 'wayId',\n",
       "       'county', 'model_link_id', 'A', 'B', 'rail_traveltime', 'rail_only',\n",
       "       'locationReferences', 'geometry', 'ft_cal', 'ft', 'useclass',\n",
       "       'assignable_cal', 'assignable', 'transit', 'id', 'tollbooth',\n",
       "       'bus_only', 'transit_access', 'managed', 'ML_lanes', 'segment_id',\n",
       "       'ML_tollbooth', 'ML_useclass', 'ML_access', 'ML_egress', 'ML_tollseg',\n",
       "       'tollseg'],\n",
       "      dtype='object')"
      ]
     },
     "execution_count": 28,
     "metadata": {},
     "output_type": "execute_result"
    }
   ],
   "source": [
    "step3_scenario.road_net.links_df.columns"
   ]
  },
  {
   "cell_type": "code",
   "execution_count": 29,
   "metadata": {
    "scrolled": true
   },
   "outputs": [
    {
     "name": "stdout",
     "output_type": "stream",
     "text": [
      "Creating Scenario\n"
     ]
    },
    {
     "name": "stderr",
     "output_type": "stream",
     "text": [
      "z:\\data\\users\\sijia\\mtc\\github\\network_wrangler\\network_wrangler\\projectcard.py:115: YAMLLoadWarning: calling yaml.load() without Loader=... is deprecated, as the default Loader is unsafe. Please read https://msg.pyyaml.org/load for full details.\n",
      "  attribute_dictionary = yaml.load(_yaml)\n"
     ]
    },
    {
     "name": "stdout",
     "output_type": "stream",
     "text": [
      "Projects sfmta route n-judah has move street rail to street connector links as prerequisite project which is missing for the scenario\n",
      "Projects update routing for golden gate bridge toll plaza transit has add golden gate bridge toll plaza as prerequisite project which is missing for the scenario\n",
      "Projects update routing for san mateo bridge toll plaza transit has add san mateo bridge toll plaza as prerequisite project which is missing for the scenario\n",
      "Applying [D:/github/lfs-cleaning/travel-model-two-networks\\project_cards\\year_2015_san_mateo_bridge_toll_plaza_transit.yml]:update routing for san mateo bridge toll plaza transit\n",
      "Applying [D:/github/lfs-cleaning/travel-model-two-networks\\project_cards\\year_2015_san_mateo_bridge_toll_plaza_transit.yml]:update routing for san mateo bridge toll plaza transit\n",
      "Applying Project to Transit Network: update routing for san mateo bridge toll plaza transit\n",
      "Applying [D:/github/lfs-cleaning/travel-model-two-networks\\project_cards\\year_2015_golden_gate_bridge_toll_plaza_transit.yml]:update routing for golden gate bridge toll plaza transit\n",
      "Applying [D:/github/lfs-cleaning/travel-model-two-networks\\project_cards\\year_2015_golden_gate_bridge_toll_plaza_transit.yml]:update routing for golden gate bridge toll plaza transit\n",
      "Applying Project to Transit Network: update routing for golden gate bridge toll plaza transit\n",
      "Applying [D:/github/lfs-cleaning/travel-model-two-networks\\project_cards\\VTA_22.yml]:VTA Route 22\n",
      "Applying [D:/github/lfs-cleaning/travel-model-two-networks\\project_cards\\VTA_22.yml]:VTA Route 22\n",
      "Applying Project to Transit Network: VTA Route 22\n",
      "Missing connections from node 2129493 to node 2118093 for the new routing, find complete path using default graph\n",
      "Routing path from node 2129493 to node 2118093 for missing connections: ['2129493', '2008039', '2118093'].\n",
      "Missing connections from node 2082223 to node 2078170 for the new routing, find complete path using default graph\n",
      "Routing path from node 2082223 to node 2078170 for missing connections: ['2082223', '2065491', '2078170'].\n",
      "Missing connections from node 2012977 to node 2012977 for the new routing, find complete path using default graph\n",
      "Routing path from node 2012977 to node 2012977 for missing connections: ['2012977'].\n",
      "Creating a new stop in stops.txt for node ID: 2009862\n",
      "Creating a new stop in stops.txt for node ID: 2086038\n",
      "Creating a new stop in stops.txt for node ID: 2026481\n",
      "Creating a new stop in stops.txt for node ID: 2035856\n",
      "Creating a new stop in stops.txt for node ID: 2129493\n",
      "Creating a new stop in stops.txt for node ID: 2130826\n",
      "Creating a new stop in stops.txt for node ID: 2034826\n",
      "Creating a new stop in stops.txt for node ID: 2117639\n",
      "Creating a new stop in stops.txt for node ID: 2056269\n",
      "Creating a new stop in stops.txt for node ID: 2161338\n",
      "Creating a new stop in stops.txt for node ID: 2146003\n",
      "Creating a new stop in stops.txt for node ID: 2064421\n",
      "Creating a new stop in stops.txt for node ID: 2078170\n"
     ]
    },
    {
     "name": "stderr",
     "output_type": "stream",
     "text": [
      "c:\\Users\\wangs1\\AppData\\Local\\Continuum\\anaconda3\\envs\\lasso_bayarea\\lib\\site-packages\\numpy\\core\\fromnumeric.py:3162: VisibleDeprecationWarning: Creating an ndarray from ragged nested sequences (which is a list-or-tuple of lists-or-tuples-or ndarrays with different lengths or shapes) is deprecated. If you meant to do this, you must specify 'dtype=object' when creating the ndarray.\n",
      "  return asarray(a).ndim\n"
     ]
    },
    {
     "name": "stdout",
     "output_type": "stream",
     "text": [
      "Creating a new stop in stops.txt for node ID: 2104183\n",
      "Creating a new stop in stops.txt for node ID: 2015328\n",
      "Applying [D:/github/lfs-cleaning/travel-model-two-networks\\project_cards\\VTA_22.yml]:VTA Route 22\n",
      "Applying Project to Transit Network: VTA Route 22\n",
      "Missing connections from node 2033565 to node 2103889 for the new routing, find complete path using default graph\n",
      "Routing path from node 2033565 to node 2103889 for missing connections: ['2033565', '2155466', '2103889'].\n",
      "Missing connections from node 2035353 to node 2158621 for the new routing, find complete path using default graph\n",
      "Routing path from node 2035353 to node 2158621 for missing connections: ['2035353', '2061243', '2158621'].\n",
      "Missing connections from node 2026323 to node 2102903 for the new routing, find complete path using default graph\n",
      "Routing path from node 2026323 to node 2102903 for missing connections: ['2026323', '2045820', '2102903'].\n",
      "Creating a new stop in stops.txt for node ID: 2103889\n",
      "Creating a new stop in stops.txt for node ID: 2102412\n",
      "Creating a new stop in stops.txt for node ID: 2119404\n",
      "Creating a new stop in stops.txt for node ID: 2089567\n",
      "Creating a new stop in stops.txt for node ID: 2144963\n",
      "Creating a new stop in stops.txt for node ID: 2118760\n",
      "Creating a new stop in stops.txt for node ID: 2056579\n",
      "Creating a new stop in stops.txt for node ID: 2073153\n",
      "Creating a new stop in stops.txt for node ID: 2086763\n",
      "Creating a new stop in stops.txt for node ID: 2057050\n",
      "Creating a new stop in stops.txt for node ID: 2069128\n",
      "Creating a new stop in stops.txt for node ID: 2043135\n",
      "Creating a new stop in stops.txt for node ID: 2054854\n",
      "Creating a new stop in stops.txt for node ID: 2012179\n",
      "Creating a new stop in stops.txt for node ID: 2133611\n",
      "Creating a new stop in stops.txt for node ID: 2146984\n"
     ]
    },
    {
     "name": "stderr",
     "output_type": "stream",
     "text": [
      "c:\\Users\\wangs1\\AppData\\Local\\Continuum\\anaconda3\\envs\\lasso_bayarea\\lib\\site-packages\\numpy\\core\\fromnumeric.py:3162: VisibleDeprecationWarning: Creating an ndarray from ragged nested sequences (which is a list-or-tuple of lists-or-tuples-or ndarrays with different lengths or shapes) is deprecated. If you meant to do this, you must specify 'dtype=object' when creating the ndarray.\n",
      "  return asarray(a).ndim\n"
     ]
    },
    {
     "name": "stdout",
     "output_type": "stream",
     "text": [
      "Creating a new stop in stops.txt for node ID: 2063919\n",
      "Creating a new stop in stops.txt for node ID: 2119618\n",
      "Creating a new stop in stops.txt for node ID: 2097752\n",
      "Creating a new stop in stops.txt for node ID: 2026323\n",
      "Creating a new stop in stops.txt for node ID: 2097794\n",
      "Creating a new stop in stops.txt for node ID: 2093764\n",
      "Creating a new stop in stops.txt for node ID: 2137837\n",
      "Creating a new stop in stops.txt for node ID: 2136770\n",
      "Creating a new stop in stops.txt for node ID: 2123755\n",
      "Creating a new stop in stops.txt for node ID: 2156698\n",
      "Creating a new stop in stops.txt for node ID: 2140430\n",
      "Creating a new stop in stops.txt for node ID: 2097974\n",
      "Applying [D:/github/lfs-cleaning/travel-model-two-networks\\project_cards\\VTA-route-607-edits.yml]:VTA Route 607 Edits\n",
      "Applying [D:/github/lfs-cleaning/travel-model-two-networks\\project_cards\\VTA-route-607-edits.yml]:VTA Route 607 Edits\n",
      "Applying Project to Transit Network: VTA Route 607 Edits\n",
      "Creating a new stop in stops.txt for node ID: 2031200\n",
      "Creating a new stop in stops.txt for node ID: 2165214\n",
      "Creating a new stop in stops.txt for node ID: 2131220\n",
      "Creating a new stop in stops.txt for node ID: 2043788\n",
      "Creating a new stop in stops.txt for node ID: 2108685\n",
      "Creating a new stop in stops.txt for node ID: 2046425\n",
      "Creating a new stop in stops.txt for node ID: 2098451\n",
      "Creating a new stop in stops.txt for node ID: 2020562\n",
      "Creating a new stop in stops.txt for node ID: 2090983\n",
      "Creating a new stop in stops.txt for node ID: 2054217\n",
      "Creating a new stop in stops.txt for node ID: 2038694\n",
      "Creating a new stop in stops.txt for node ID: 2003121\n",
      "Creating a new stop in stops.txt for node ID: 2146572\n",
      "Creating a new stop in stops.txt for node ID: 2129877\n"
     ]
    },
    {
     "name": "stderr",
     "output_type": "stream",
     "text": [
      "c:\\Users\\wangs1\\AppData\\Local\\Continuum\\anaconda3\\envs\\lasso_bayarea\\lib\\site-packages\\numpy\\core\\fromnumeric.py:3162: VisibleDeprecationWarning: Creating an ndarray from ragged nested sequences (which is a list-or-tuple of lists-or-tuples-or ndarrays with different lengths or shapes) is deprecated. If you meant to do this, you must specify 'dtype=object' when creating the ndarray.\n",
      "  return asarray(a).ndim\n"
     ]
    },
    {
     "name": "stdout",
     "output_type": "stream",
     "text": [
      "Applying [D:/github/lfs-cleaning/travel-model-two-networks\\project_cards\\VTA-route-607-edits.yml]:VTA Route 607 Edits\n",
      "Applying Project to Transit Network: VTA Route 607 Edits\n",
      "Creating a new stop in stops.txt for node ID: 2009535\n",
      "Creating a new stop in stops.txt for node ID: 2150339\n"
     ]
    },
    {
     "name": "stderr",
     "output_type": "stream",
     "text": [
      "c:\\Users\\wangs1\\AppData\\Local\\Continuum\\anaconda3\\envs\\lasso_bayarea\\lib\\site-packages\\numpy\\core\\fromnumeric.py:3162: VisibleDeprecationWarning: Creating an ndarray from ragged nested sequences (which is a list-or-tuple of lists-or-tuples-or ndarrays with different lengths or shapes) is deprecated. If you meant to do this, you must specify 'dtype=object' when creating the ndarray.\n",
      "  return asarray(a).ndim\n"
     ]
    },
    {
     "name": "stdout",
     "output_type": "stream",
     "text": [
      "Applying [D:/github/lfs-cleaning/travel-model-two-networks\\project_cards\\VTA-route-607-edits.yml]:VTA Route 607 Edits\n",
      "Applying Project to Transit Network: VTA Route 607 Edits\n",
      "Creating a new stop in stops.txt for node ID: 2074289\n",
      "Creating a new stop in stops.txt for node ID: 2157897\n",
      "Creating a new stop in stops.txt for node ID: 2143337\n",
      "Creating a new stop in stops.txt for node ID: 2153964\n",
      "Creating a new stop in stops.txt for node ID: 2086438\n",
      "Creating a new stop in stops.txt for node ID: 2006386\n",
      "Creating a new stop in stops.txt for node ID: 2047978\n",
      "Creating a new stop in stops.txt for node ID: 2167291\n",
      "Creating a new stop in stops.txt for node ID: 2096624\n",
      "Creating a new stop in stops.txt for node ID: 2074186\n",
      "Creating a new stop in stops.txt for node ID: 2033438\n",
      "Creating a new stop in stops.txt for node ID: 2138375\n",
      "Creating a new stop in stops.txt for node ID: 2068611\n",
      "Creating a new stop in stops.txt for node ID: 2050660\n",
      "Creating a new stop in stops.txt for node ID: 2021999\n"
     ]
    },
    {
     "name": "stderr",
     "output_type": "stream",
     "text": [
      "c:\\Users\\wangs1\\AppData\\Local\\Continuum\\anaconda3\\envs\\lasso_bayarea\\lib\\site-packages\\numpy\\core\\fromnumeric.py:3162: VisibleDeprecationWarning: Creating an ndarray from ragged nested sequences (which is a list-or-tuple of lists-or-tuples-or ndarrays with different lengths or shapes) is deprecated. If you meant to do this, you must specify 'dtype=object' when creating the ndarray.\n",
      "  return asarray(a).ndim\n"
     ]
    },
    {
     "name": "stdout",
     "output_type": "stream",
     "text": [
      "Creating a new stop in stops.txt for node ID: 2122156\n",
      "Creating a new stop in stops.txt for node ID: 2162422\n",
      "Creating a new stop in stops.txt for node ID: 2074967\n",
      "Creating a new stop in stops.txt for node ID: 2041497\n",
      "Creating a new stop in stops.txt for node ID: 2017937\n",
      "Creating a new stop in stops.txt for node ID: 2098690\n",
      "Creating a new stop in stops.txt for node ID: 2027591\n",
      "Applying [D:/github/lfs-cleaning/travel-model-two-networks\\project_cards\\VTA-route-606-edits.yml]:VTA Route 606 Edits\n",
      "Applying [D:/github/lfs-cleaning/travel-model-two-networks\\project_cards\\VTA-route-606-edits.yml]:VTA Route 606 Edits\n",
      "Applying Project to Transit Network: VTA Route 606 Edits\n",
      "Creating a new stop in stops.txt for node ID: 2051252\n",
      "Creating a new stop in stops.txt for node ID: 2044375\n",
      "Creating a new stop in stops.txt for node ID: 2104838\n",
      "Creating a new stop in stops.txt for node ID: 2024885\n",
      "Creating a new stop in stops.txt for node ID: 2019319\n",
      "Creating a new stop in stops.txt for node ID: 2002706\n",
      "Creating a new stop in stops.txt for node ID: 2157717\n",
      "Creating a new stop in stops.txt for node ID: 2121794\n",
      "Creating a new stop in stops.txt for node ID: 2123406\n",
      "Creating a new stop in stops.txt for node ID: 2120028\n",
      "Creating a new stop in stops.txt for node ID: 2030540\n",
      "Creating a new stop in stops.txt for node ID: 2075183\n",
      "Creating a new stop in stops.txt for node ID: 2002834\n",
      "Creating a new stop in stops.txt for node ID: 2001551\n",
      "Creating a new stop in stops.txt for node ID: 2048716\n"
     ]
    },
    {
     "name": "stderr",
     "output_type": "stream",
     "text": [
      "c:\\Users\\wangs1\\AppData\\Local\\Continuum\\anaconda3\\envs\\lasso_bayarea\\lib\\site-packages\\numpy\\core\\fromnumeric.py:3162: VisibleDeprecationWarning: Creating an ndarray from ragged nested sequences (which is a list-or-tuple of lists-or-tuples-or ndarrays with different lengths or shapes) is deprecated. If you meant to do this, you must specify 'dtype=object' when creating the ndarray.\n",
      "  return asarray(a).ndim\n"
     ]
    },
    {
     "name": "stdout",
     "output_type": "stream",
     "text": [
      "Creating a new stop in stops.txt for node ID: 2005001\n",
      "Creating a new stop in stops.txt for node ID: 2111886\n",
      "Creating a new stop in stops.txt for node ID: 2163919\n",
      "Creating a new stop in stops.txt for node ID: 2059787\n",
      "Creating a new stop in stops.txt for node ID: 2067289\n",
      "Creating a new stop in stops.txt for node ID: 2018674\n",
      "Applying [D:/github/lfs-cleaning/travel-model-two-networks\\project_cards\\VTA-route-606-edits.yml]:VTA Route 606 Edits\n",
      "Applying Project to Transit Network: VTA Route 606 Edits\n",
      "Creating a new stop in stops.txt for node ID: 2042744\n",
      "Creating a new stop in stops.txt for node ID: 2003420\n",
      "Creating a new stop in stops.txt for node ID: 2105789\n",
      "Creating a new stop in stops.txt for node ID: 2026728\n",
      "Creating a new stop in stops.txt for node ID: 2086077\n",
      "Creating a new stop in stops.txt for node ID: 2027827\n",
      "Creating a new stop in stops.txt for node ID: 2107046\n",
      "Creating a new stop in stops.txt for node ID: 2015391\n",
      "Creating a new stop in stops.txt for node ID: 2128853\n",
      "Creating a new stop in stops.txt for node ID: 2020738\n",
      "Creating a new stop in stops.txt for node ID: 2085374\n",
      "Creating a new stop in stops.txt for node ID: 2053131\n",
      "Creating a new stop in stops.txt for node ID: 2015597\n",
      "Creating a new stop in stops.txt for node ID: 2160540\n",
      "Creating a new stop in stops.txt for node ID: 2083524\n",
      "Creating a new stop in stops.txt for node ID: 2092338\n"
     ]
    },
    {
     "name": "stderr",
     "output_type": "stream",
     "text": [
      "c:\\Users\\wangs1\\AppData\\Local\\Continuum\\anaconda3\\envs\\lasso_bayarea\\lib\\site-packages\\numpy\\core\\fromnumeric.py:3162: VisibleDeprecationWarning: Creating an ndarray from ragged nested sequences (which is a list-or-tuple of lists-or-tuples-or ndarrays with different lengths or shapes) is deprecated. If you meant to do this, you must specify 'dtype=object' when creating the ndarray.\n",
      "  return asarray(a).ndim\n"
     ]
    },
    {
     "name": "stdout",
     "output_type": "stream",
     "text": [
      "Creating a new stop in stops.txt for node ID: 2097160\n",
      "Creating a new stop in stops.txt for node ID: 2121516\n",
      "Creating a new stop in stops.txt for node ID: 2079301\n",
      "Creating a new stop in stops.txt for node ID: 2097422\n",
      "Creating a new stop in stops.txt for node ID: 2004959\n",
      "Creating a new stop in stops.txt for node ID: 2114119\n",
      "Creating a new stop in stops.txt for node ID: 2082502\n",
      "Creating a new stop in stops.txt for node ID: 2066901\n",
      "Creating a new stop in stops.txt for node ID: 2048269\n",
      "Creating a new stop in stops.txt for node ID: 2138321\n",
      "Creating a new stop in stops.txt for node ID: 2044548\n",
      "Applying [D:/github/lfs-cleaning/travel-model-two-networks\\project_cards\\VTA-route-605-edits.yml]:VTA Route 605 Edits\n",
      "Applying [D:/github/lfs-cleaning/travel-model-two-networks\\project_cards\\VTA-route-605-edits.yml]:VTA Route 605 Edits\n",
      "Applying Project to Transit Network: VTA Route 605 Edits\n",
      "Creating a new stop in stops.txt for node ID: 2045388\n",
      "Creating a new stop in stops.txt for node ID: 2010415\n",
      "Creating a new stop in stops.txt for node ID: 2113837\n",
      "Creating a new stop in stops.txt for node ID: 2048077\n",
      "Creating a new stop in stops.txt for node ID: 2145042\n",
      "Creating a new stop in stops.txt for node ID: 2066299\n",
      "Creating a new stop in stops.txt for node ID: 2081434\n",
      "Creating a new stop in stops.txt for node ID: 2061661\n",
      "Creating a new stop in stops.txt for node ID: 2039089\n",
      "Creating a new stop in stops.txt for node ID: 2057190\n",
      "Creating a new stop in stops.txt for node ID: 2093471\n",
      "Creating a new stop in stops.txt for node ID: 2156249\n"
     ]
    },
    {
     "name": "stderr",
     "output_type": "stream",
     "text": [
      "c:\\Users\\wangs1\\AppData\\Local\\Continuum\\anaconda3\\envs\\lasso_bayarea\\lib\\site-packages\\numpy\\core\\fromnumeric.py:3162: VisibleDeprecationWarning: Creating an ndarray from ragged nested sequences (which is a list-or-tuple of lists-or-tuples-or ndarrays with different lengths or shapes) is deprecated. If you meant to do this, you must specify 'dtype=object' when creating the ndarray.\n",
      "  return asarray(a).ndim\n"
     ]
    },
    {
     "name": "stdout",
     "output_type": "stream",
     "text": [
      "Creating a new stop in stops.txt for node ID: 2031444\n",
      "Creating a new stop in stops.txt for node ID: 2134210\n",
      "Applying [D:/github/lfs-cleaning/travel-model-two-networks\\project_cards\\VTA-route-605-edits.yml]:VTA Route 605 Edits\n",
      "Applying Project to Transit Network: VTA Route 605 Edits\n",
      "Creating a new stop in stops.txt for node ID: 2008138\n",
      "Creating a new stop in stops.txt for node ID: 2026597\n",
      "Creating a new stop in stops.txt for node ID: 2059777\n",
      "Creating a new stop in stops.txt for node ID: 2099627\n",
      "Creating a new stop in stops.txt for node ID: 2084925\n"
     ]
    },
    {
     "name": "stderr",
     "output_type": "stream",
     "text": [
      "c:\\Users\\wangs1\\AppData\\Local\\Continuum\\anaconda3\\envs\\lasso_bayarea\\lib\\site-packages\\numpy\\core\\fromnumeric.py:3162: VisibleDeprecationWarning: Creating an ndarray from ragged nested sequences (which is a list-or-tuple of lists-or-tuples-or ndarrays with different lengths or shapes) is deprecated. If you meant to do this, you must specify 'dtype=object' when creating the ndarray.\n",
      "  return asarray(a).ndim\n"
     ]
    },
    {
     "name": "stdout",
     "output_type": "stream",
     "text": [
      "Applying [D:/github/lfs-cleaning/travel-model-two-networks\\project_cards\\VTA-route-605-edits.yml]:VTA Route 605 Edits\n",
      "Applying Project to Transit Network: VTA Route 605 Edits\n",
      "Applying [D:/github/lfs-cleaning/travel-model-two-networks\\project_cards\\VTA-route-605-edits.yml]:VTA Route 605 Edits\n",
      "Applying Project to Transit Network: VTA Route 605 Edits\n",
      "Creating a new stop in stops.txt for node ID: 2026971\n",
      "Creating a new stop in stops.txt for node ID: 2123943\n",
      "Creating a new stop in stops.txt for node ID: 2071437\n",
      "Creating a new stop in stops.txt for node ID: 2143576\n",
      "Creating a new stop in stops.txt for node ID: 2084582\n",
      "Creating a new stop in stops.txt for node ID: 2132332\n",
      "Creating a new stop in stops.txt for node ID: 2051842\n",
      "Creating a new stop in stops.txt for node ID: 2092594\n",
      "Creating a new stop in stops.txt for node ID: 2000549\n",
      "Creating a new stop in stops.txt for node ID: 2024824\n",
      "Creating a new stop in stops.txt for node ID: 2002748\n",
      "Creating a new stop in stops.txt for node ID: 2120867\n"
     ]
    },
    {
     "name": "stderr",
     "output_type": "stream",
     "text": [
      "c:\\Users\\wangs1\\AppData\\Local\\Continuum\\anaconda3\\envs\\lasso_bayarea\\lib\\site-packages\\numpy\\core\\fromnumeric.py:3162: VisibleDeprecationWarning: Creating an ndarray from ragged nested sequences (which is a list-or-tuple of lists-or-tuples-or ndarrays with different lengths or shapes) is deprecated. If you meant to do this, you must specify 'dtype=object' when creating the ndarray.\n",
      "  return asarray(a).ndim\n"
     ]
    },
    {
     "name": "stdout",
     "output_type": "stream",
     "text": [
      "Applying [D:/github/lfs-cleaning/travel-model-two-networks\\project_cards\\VTA-route-593-edits.yml]:VTA Route 593 Edits\n",
      "Applying [D:/github/lfs-cleaning/travel-model-two-networks\\project_cards\\VTA-route-593-edits.yml]:VTA Route 593 Edits\n",
      "Applying Project to Transit Network: VTA Route 593 Edits\n",
      "Creating a new stop in stops.txt for node ID: 2025322\n",
      "Creating a new stop in stops.txt for node ID: 2006618\n",
      "Creating a new stop in stops.txt for node ID: 2135878\n",
      "Creating a new stop in stops.txt for node ID: 2104077\n",
      "Creating a new stop in stops.txt for node ID: 2098720\n",
      "Creating a new stop in stops.txt for node ID: 2165079\n",
      "Creating a new stop in stops.txt for node ID: 2137789\n",
      "Creating a new stop in stops.txt for node ID: 2152784\n"
     ]
    },
    {
     "name": "stderr",
     "output_type": "stream",
     "text": [
      "c:\\Users\\wangs1\\AppData\\Local\\Continuum\\anaconda3\\envs\\lasso_bayarea\\lib\\site-packages\\numpy\\core\\fromnumeric.py:3162: VisibleDeprecationWarning: Creating an ndarray from ragged nested sequences (which is a list-or-tuple of lists-or-tuples-or ndarrays with different lengths or shapes) is deprecated. If you meant to do this, you must specify 'dtype=object' when creating the ndarray.\n",
      "  return asarray(a).ndim\n"
     ]
    },
    {
     "name": "stdout",
     "output_type": "stream",
     "text": [
      "Applying [D:/github/lfs-cleaning/travel-model-two-networks\\project_cards\\VTA-route-593-edits.yml]:VTA Route 593 Edits\n",
      "Applying Project to Transit Network: VTA Route 593 Edits\n",
      "Creating a new stop in stops.txt for node ID: 2152638\n",
      "Creating a new stop in stops.txt for node ID: 2103105\n"
     ]
    },
    {
     "name": "stderr",
     "output_type": "stream",
     "text": [
      "c:\\Users\\wangs1\\AppData\\Local\\Continuum\\anaconda3\\envs\\lasso_bayarea\\lib\\site-packages\\numpy\\core\\fromnumeric.py:3162: VisibleDeprecationWarning: Creating an ndarray from ragged nested sequences (which is a list-or-tuple of lists-or-tuples-or ndarrays with different lengths or shapes) is deprecated. If you meant to do this, you must specify 'dtype=object' when creating the ndarray.\n",
      "  return asarray(a).ndim\n"
     ]
    },
    {
     "name": "stdout",
     "output_type": "stream",
     "text": [
      "Applying [D:/github/lfs-cleaning/travel-model-two-networks\\project_cards\\VTA-route-570-edits.yml]:VTA Route 570 Edits\n",
      "Applying [D:/github/lfs-cleaning/travel-model-two-networks\\project_cards\\VTA-route-570-edits.yml]:VTA Route 570 Edits\n",
      "Applying Project to Transit Network: VTA Route 570 Edits\n",
      "Creating a new stop in stops.txt for node ID: 2014852\n",
      "Creating a new stop in stops.txt for node ID: 2151260\n",
      "Creating a new stop in stops.txt for node ID: 2071749\n",
      "Creating a new stop in stops.txt for node ID: 2143119\n",
      "Creating a new stop in stops.txt for node ID: 2155604\n",
      "Creating a new stop in stops.txt for node ID: 2020057\n",
      "Creating a new stop in stops.txt for node ID: 2118018\n",
      "Creating a new stop in stops.txt for node ID: 2027384\n",
      "Creating a new stop in stops.txt for node ID: 2091791\n",
      "Creating a new stop in stops.txt for node ID: 2119071\n",
      "Creating a new stop in stops.txt for node ID: 2020728\n",
      "Creating a new stop in stops.txt for node ID: 2117936\n",
      "Creating a new stop in stops.txt for node ID: 2038551\n",
      "Creating a new stop in stops.txt for node ID: 2027168\n"
     ]
    },
    {
     "name": "stderr",
     "output_type": "stream",
     "text": [
      "c:\\Users\\wangs1\\AppData\\Local\\Continuum\\anaconda3\\envs\\lasso_bayarea\\lib\\site-packages\\numpy\\core\\fromnumeric.py:3162: VisibleDeprecationWarning: Creating an ndarray from ragged nested sequences (which is a list-or-tuple of lists-or-tuples-or ndarrays with different lengths or shapes) is deprecated. If you meant to do this, you must specify 'dtype=object' when creating the ndarray.\n",
      "  return asarray(a).ndim\n"
     ]
    },
    {
     "name": "stdout",
     "output_type": "stream",
     "text": [
      "Creating a new stop in stops.txt for node ID: 2044898\n",
      "Creating a new stop in stops.txt for node ID: 2150821\n",
      "Creating a new stop in stops.txt for node ID: 2145345\n",
      "Creating a new stop in stops.txt for node ID: 2162103\n",
      "Creating a new stop in stops.txt for node ID: 2062237\n",
      "Creating a new stop in stops.txt for node ID: 2120771\n",
      "Creating a new stop in stops.txt for node ID: 2053292\n",
      "Creating a new stop in stops.txt for node ID: 2066653\n",
      "Applying [D:/github/lfs-cleaning/travel-model-two-networks\\project_cards\\VTA-route-570-edits.yml]:VTA Route 570 Edits\n",
      "Applying Project to Transit Network: VTA Route 570 Edits\n",
      "Creating a new stop in stops.txt for node ID: 2049364\n",
      "Creating a new stop in stops.txt for node ID: 2081810\n"
     ]
    },
    {
     "name": "stderr",
     "output_type": "stream",
     "text": [
      "c:\\Users\\wangs1\\AppData\\Local\\Continuum\\anaconda3\\envs\\lasso_bayarea\\lib\\site-packages\\numpy\\core\\fromnumeric.py:3162: VisibleDeprecationWarning: Creating an ndarray from ragged nested sequences (which is a list-or-tuple of lists-or-tuples-or ndarrays with different lengths or shapes) is deprecated. If you meant to do this, you must specify 'dtype=object' when creating the ndarray.\n",
      "  return asarray(a).ndim\n"
     ]
    },
    {
     "name": "stdout",
     "output_type": "stream",
     "text": [
      "Applying [D:/github/lfs-cleaning/travel-model-two-networks\\project_cards\\VTA-route-570-edits.yml]:VTA Route 570 Edits\n",
      "Applying Project to Transit Network: VTA Route 570 Edits\n",
      "Creating a new stop in stops.txt for node ID: 2138263\n",
      "Creating a new stop in stops.txt for node ID: 2041376\n",
      "Creating a new stop in stops.txt for node ID: 2071586\n",
      "Creating a new stop in stops.txt for node ID: 2127941\n",
      "Creating a new stop in stops.txt for node ID: 2106994\n",
      "Creating a new stop in stops.txt for node ID: 2073927\n",
      "Creating a new stop in stops.txt for node ID: 2145905\n",
      "Creating a new stop in stops.txt for node ID: 2050683\n",
      "Creating a new stop in stops.txt for node ID: 2016696\n",
      "Creating a new stop in stops.txt for node ID: 2078400\n"
     ]
    },
    {
     "name": "stderr",
     "output_type": "stream",
     "text": [
      "c:\\Users\\wangs1\\AppData\\Local\\Continuum\\anaconda3\\envs\\lasso_bayarea\\lib\\site-packages\\numpy\\core\\fromnumeric.py:3162: VisibleDeprecationWarning: Creating an ndarray from ragged nested sequences (which is a list-or-tuple of lists-or-tuples-or ndarrays with different lengths or shapes) is deprecated. If you meant to do this, you must specify 'dtype=object' when creating the ndarray.\n",
      "  return asarray(a).ndim\n"
     ]
    },
    {
     "name": "stdout",
     "output_type": "stream",
     "text": [
      "Applying [D:/github/lfs-cleaning/travel-model-two-networks\\project_cards\\VTA-route-570-edits.yml]:VTA Route 570 Edits\n",
      "Applying Project to Transit Network: VTA Route 570 Edits\n",
      "Creating a new stop in stops.txt for node ID: 2017967\n",
      "Creating a new stop in stops.txt for node ID: 2141662\n",
      "Creating a new stop in stops.txt for node ID: 2033584\n",
      "Creating a new stop in stops.txt for node ID: 2086778\n",
      "Creating a new stop in stops.txt for node ID: 2030725\n",
      "Creating a new stop in stops.txt for node ID: 2130749\n",
      "Creating a new stop in stops.txt for node ID: 2009690\n",
      "Creating a new stop in stops.txt for node ID: 2131992\n",
      "Creating a new stop in stops.txt for node ID: 2151920\n",
      "Creating a new stop in stops.txt for node ID: 2088911\n",
      "Creating a new stop in stops.txt for node ID: 2090136\n",
      "Creating a new stop in stops.txt for node ID: 2072348\n",
      "Creating a new stop in stops.txt for node ID: 2133722\n"
     ]
    },
    {
     "name": "stderr",
     "output_type": "stream",
     "text": [
      "c:\\Users\\wangs1\\AppData\\Local\\Continuum\\anaconda3\\envs\\lasso_bayarea\\lib\\site-packages\\numpy\\core\\fromnumeric.py:3162: VisibleDeprecationWarning: Creating an ndarray from ragged nested sequences (which is a list-or-tuple of lists-or-tuples-or ndarrays with different lengths or shapes) is deprecated. If you meant to do this, you must specify 'dtype=object' when creating the ndarray.\n",
      "  return asarray(a).ndim\n"
     ]
    },
    {
     "name": "stdout",
     "output_type": "stream",
     "text": [
      "Creating a new stop in stops.txt for node ID: 2064901\n",
      "Creating a new stop in stops.txt for node ID: 2072840\n",
      "Creating a new stop in stops.txt for node ID: 2162217\n",
      "Creating a new stop in stops.txt for node ID: 2060866\n",
      "Creating a new stop in stops.txt for node ID: 2114920\n",
      "Creating a new stop in stops.txt for node ID: 2091183\n",
      "Creating a new stop in stops.txt for node ID: 2110249\n",
      "Creating a new stop in stops.txt for node ID: 2152738\n",
      "Creating a new stop in stops.txt for node ID: 2004027\n",
      "Creating a new stop in stops.txt for node ID: 2033608\n",
      "Applying [D:/github/lfs-cleaning/travel-model-two-networks\\project_cards\\VTA-route-570-edits.yml]:VTA Route 570 Edits\n",
      "Applying Project to Transit Network: VTA Route 570 Edits\n",
      "Creating a new stop in stops.txt for node ID: 2040234\n"
     ]
    },
    {
     "name": "stderr",
     "output_type": "stream",
     "text": [
      "c:\\Users\\wangs1\\AppData\\Local\\Continuum\\anaconda3\\envs\\lasso_bayarea\\lib\\site-packages\\numpy\\core\\fromnumeric.py:3162: VisibleDeprecationWarning: Creating an ndarray from ragged nested sequences (which is a list-or-tuple of lists-or-tuples-or ndarrays with different lengths or shapes) is deprecated. If you meant to do this, you must specify 'dtype=object' when creating the ndarray.\n",
      "  return asarray(a).ndim\n"
     ]
    },
    {
     "name": "stdout",
     "output_type": "stream",
     "text": [
      "Applying [D:/github/lfs-cleaning/travel-model-two-networks\\project_cards\\VTA-route-569-edits.yml]:VTA Route 569 Edits\n",
      "Applying [D:/github/lfs-cleaning/travel-model-two-networks\\project_cards\\VTA-route-569-edits.yml]:VTA Route 569 Edits\n",
      "Applying Project to Transit Network: VTA Route 569 Edits\n",
      "Creating a new stop in stops.txt for node ID: 2067948\n",
      "Creating a new stop in stops.txt for node ID: 2017343\n",
      "Creating a new stop in stops.txt for node ID: 2120474\n",
      "Creating a new stop in stops.txt for node ID: 2032226\n",
      "Creating a new stop in stops.txt for node ID: 2144958\n",
      "Creating a new stop in stops.txt for node ID: 2108808\n",
      "Creating a new stop in stops.txt for node ID: 2043719\n",
      "Creating a new stop in stops.txt for node ID: 2083946\n",
      "Creating a new stop in stops.txt for node ID: 2019305\n",
      "Creating a new stop in stops.txt for node ID: 2099102\n",
      "Creating a new stop in stops.txt for node ID: 2126158\n",
      "Creating a new stop in stops.txt for node ID: 2042725\n"
     ]
    },
    {
     "name": "stderr",
     "output_type": "stream",
     "text": [
      "c:\\Users\\wangs1\\AppData\\Local\\Continuum\\anaconda3\\envs\\lasso_bayarea\\lib\\site-packages\\numpy\\core\\fromnumeric.py:3162: VisibleDeprecationWarning: Creating an ndarray from ragged nested sequences (which is a list-or-tuple of lists-or-tuples-or ndarrays with different lengths or shapes) is deprecated. If you meant to do this, you must specify 'dtype=object' when creating the ndarray.\n",
      "  return asarray(a).ndim\n"
     ]
    },
    {
     "name": "stdout",
     "output_type": "stream",
     "text": [
      "Creating a new stop in stops.txt for node ID: 2067293\n",
      "Creating a new stop in stops.txt for node ID: 2061135\n",
      "Creating a new stop in stops.txt for node ID: 2144810\n",
      "Creating a new stop in stops.txt for node ID: 2117466\n",
      "Creating a new stop in stops.txt for node ID: 2163193\n",
      "Creating a new stop in stops.txt for node ID: 2052894\n",
      "Creating a new stop in stops.txt for node ID: 2079877\n",
      "Creating a new stop in stops.txt for node ID: 2125057\n",
      "Creating a new stop in stops.txt for node ID: 2001667\n",
      "Creating a new stop in stops.txt for node ID: 2037802\n",
      "Creating a new stop in stops.txt for node ID: 2059399\n",
      "Creating a new stop in stops.txt for node ID: 2004048\n",
      "Applying [D:/github/lfs-cleaning/travel-model-two-networks\\project_cards\\VTA-route-569-edits.yml]:VTA Route 569 Edits\n",
      "Applying Project to Transit Network: VTA Route 569 Edits\n",
      "Creating a new stop in stops.txt for node ID: 2012348\n",
      "Creating a new stop in stops.txt for node ID: 2021535\n",
      "Creating a new stop in stops.txt for node ID: 2099907\n",
      "Creating a new stop in stops.txt for node ID: 2070853\n",
      "Creating a new stop in stops.txt for node ID: 2066296\n",
      "Creating a new stop in stops.txt for node ID: 2138536\n",
      "Creating a new stop in stops.txt for node ID: 2136391\n",
      "Creating a new stop in stops.txt for node ID: 2049750\n",
      "Creating a new stop in stops.txt for node ID: 2138550\n",
      "Creating a new stop in stops.txt for node ID: 2119851\n",
      "Creating a new stop in stops.txt for node ID: 2082103\n",
      "Creating a new stop in stops.txt for node ID: 2142116\n",
      "Creating a new stop in stops.txt for node ID: 2135849\n"
     ]
    },
    {
     "name": "stderr",
     "output_type": "stream",
     "text": [
      "c:\\Users\\wangs1\\AppData\\Local\\Continuum\\anaconda3\\envs\\lasso_bayarea\\lib\\site-packages\\numpy\\core\\fromnumeric.py:3162: VisibleDeprecationWarning: Creating an ndarray from ragged nested sequences (which is a list-or-tuple of lists-or-tuples-or ndarrays with different lengths or shapes) is deprecated. If you meant to do this, you must specify 'dtype=object' when creating the ndarray.\n",
      "  return asarray(a).ndim\n"
     ]
    },
    {
     "name": "stdout",
     "output_type": "stream",
     "text": [
      "Applying [D:/github/lfs-cleaning/travel-model-two-networks\\project_cards\\SFMTA_N-JUDAH.yml]:sfmta route n-judah\n",
      "Applying [D:/github/lfs-cleaning/travel-model-two-networks\\project_cards\\SFMTA_N-JUDAH.yml]:sfmta route n-judah\n",
      "Applying Project to Transit Network: sfmta route n-judah\n",
      "Missing connections from node 1016386 to node 1006274 for the new routing, find complete path using default graph\n",
      "Routing path from node 1016386 to node 1006274 for missing connections: ['1016386', '1021178', '1006274'].\n",
      "Missing connections from node 1006447 to node 1022143 for the new routing, find complete path using default graph\n",
      "Routing path from node 1006447 to node 1022143 for missing connections: ['1006447', '1020131', '1004462', '1022143'].\n",
      "Missing connections from node 1022143 to node 1008035 for the new routing, find complete path using default graph\n",
      "Routing path from node 1022143 to node 1008035 for missing connections: ['1022143', '1017916', '1012956', '1008035'].\n",
      "Missing connections from node 1017309 to node 1004296 for the new routing, find complete path using default graph\n",
      "Routing path from node 1017309 to node 1004296 for missing connections: ['1017309', '1004021', '1020670', '1004296'].\n",
      "Missing connections from node 1004296 to node 1012711 for the new routing, find complete path using default graph\n",
      "Routing path from node 1004296 to node 1012711 for missing connections: ['1004296', '1011541', '1012711'].\n",
      "Missing connections from node 1004311 to node 1017370 for the new routing, find complete path using default graph\n",
      "Routing path from node 1004311 to node 1017370 for missing connections: ['1004311', '1008328', '1017370'].\n",
      "Missing connections from node 1022175 to node 1013412 for the new routing, find complete path using default graph\n",
      "Routing path from node 1022175 to node 1013412 for missing connections: ['1022175', '1014694', '1013082', '1013412'].\n",
      "Missing connections from node 1013412 to node 1014552 for the new routing, find complete path using default graph\n",
      "Routing path from node 1013412 to node 1014552 for missing connections: ['1013412', '1004566', '1006697', '1014552'].\n",
      "Creating a new stop in stops.txt for node ID: 1005827\n",
      "Creating a new stop in stops.txt for node ID: 1004746\n",
      "Creating a new stop in stops.txt for node ID: 1018021\n",
      "Creating a new stop in stops.txt for node ID: 1004792\n",
      "Creating a new stop in stops.txt for node ID: 1020914\n",
      "Creating a new stop in stops.txt for node ID: 1013331\n",
      "Creating a new stop in stops.txt for node ID: 1000269\n",
      "Creating a new stop in stops.txt for node ID: 1015954\n",
      "Creating a new stop in stops.txt for node ID: 1003650\n",
      "Creating a new stop in stops.txt for node ID: 1000460\n",
      "Creating a new stop in stops.txt for node ID: 1023265\n",
      "Creating a new stop in stops.txt for node ID: 1002208\n",
      "Creating a new stop in stops.txt for node ID: 1007030\n"
     ]
    },
    {
     "name": "stderr",
     "output_type": "stream",
     "text": [
      "c:\\Users\\wangs1\\AppData\\Local\\Continuum\\anaconda3\\envs\\lasso_bayarea\\lib\\site-packages\\numpy\\core\\fromnumeric.py:3162: VisibleDeprecationWarning: Creating an ndarray from ragged nested sequences (which is a list-or-tuple of lists-or-tuples-or ndarrays with different lengths or shapes) is deprecated. If you meant to do this, you must specify 'dtype=object' when creating the ndarray.\n",
      "  return asarray(a).ndim\n"
     ]
    },
    {
     "name": "stdout",
     "output_type": "stream",
     "text": [
      "Creating a new stop in stops.txt for node ID: 1019938\n",
      "Creating a new stop in stops.txt for node ID: 1008035\n",
      "Creating a new stop in stops.txt for node ID: 1006862\n",
      "Creating a new stop in stops.txt for node ID: 1014552\n",
      "Applying [D:/github/lfs-cleaning/travel-model-two-networks\\project_cards\\SFMTA_N-JUDAH.yml]:sfmta route n-judah\n",
      "Applying Project to Transit Network: sfmta route n-judah\n",
      "Missing connections from node 1012711 to node 1004296 for the new routing, find complete path using default graph\n",
      "Routing path from node 1012711 to node 1004296 for missing connections: ['1012711', '1011541', '1004296'].\n",
      "Missing connections from node 1006274 to node 1016386 for the new routing, find complete path using default graph\n",
      "Routing path from node 1006274 to node 1016386 for missing connections: ['1006274', '1021178', '1016386'].\n",
      "Creating a new stop in stops.txt for node ID: 1006697\n",
      "Creating a new stop in stops.txt for node ID: 1004296\n",
      "Creating a new stop in stops.txt for node ID: 1014715\n",
      "Creating a new stop in stops.txt for node ID: 1012546\n",
      "Creating a new stop in stops.txt for node ID: 1012987\n",
      "Creating a new stop in stops.txt for node ID: 1007098\n",
      "Creating a new stop in stops.txt for node ID: 1015828\n"
     ]
    },
    {
     "name": "stderr",
     "output_type": "stream",
     "text": [
      "c:\\Users\\wangs1\\AppData\\Local\\Continuum\\anaconda3\\envs\\lasso_bayarea\\lib\\site-packages\\numpy\\core\\fromnumeric.py:3162: VisibleDeprecationWarning: Creating an ndarray from ragged nested sequences (which is a list-or-tuple of lists-or-tuples-or ndarrays with different lengths or shapes) is deprecated. If you meant to do this, you must specify 'dtype=object' when creating the ndarray.\n",
      "  return asarray(a).ndim\n"
     ]
    },
    {
     "name": "stdout",
     "output_type": "stream",
     "text": [
      "Applying [D:/github/lfs-cleaning/travel-model-two-networks\\project_cards\\SFMTA_M-OCEANVIEW.yml]:SFMTA Route M-OCEANVIEW\n",
      "Applying [D:/github/lfs-cleaning/travel-model-two-networks\\project_cards\\SFMTA_M-OCEANVIEW.yml]:SFMTA Route M-OCEANVIEW\n",
      "Applying Project to Transit Network: SFMTA Route M-OCEANVIEW\n",
      "Missing connections from node 1002555 to node 1008652 for the new routing, find complete path using default graph\n",
      "Routing path from node 1002555 to node 1008652 for missing connections: ['1002555', '1010065', '1008652'].\n",
      "Missing connections from node 1005497 to node 1001797 for the new routing, find complete path using default graph\n",
      "Routing path from node 1005497 to node 1001797 for missing connections: ['1005497', '1022602', '1001972', '1021367', '1001797'].\n",
      "Missing connections from node 1001634 to node 1010056 for the new routing, find complete path using default graph\n",
      "Routing path from node 1001634 to node 1010056 for missing connections: ['1001634', '1001320', '1010056'].\n",
      "Creating a new stop in stops.txt for node ID: 1002555\n",
      "Creating a new stop in stops.txt for node ID: 1008652\n",
      "Creating a new stop in stops.txt for node ID: 1001634\n",
      "Creating a new stop in stops.txt for node ID: 1010056\n",
      "Creating a new stop in stops.txt for node ID: 1011246\n",
      "Creating a new stop in stops.txt for node ID: 1001719\n",
      "Creating a new stop in stops.txt for node ID: 1012925\n",
      "Creating a new stop in stops.txt for node ID: 1024435\n",
      "Creating a new stop in stops.txt for node ID: 1019022\n",
      "Creating a new stop in stops.txt for node ID: 1006200\n"
     ]
    },
    {
     "name": "stderr",
     "output_type": "stream",
     "text": [
      "c:\\Users\\wangs1\\AppData\\Local\\Continuum\\anaconda3\\envs\\lasso_bayarea\\lib\\site-packages\\numpy\\core\\fromnumeric.py:3162: VisibleDeprecationWarning: Creating an ndarray from ragged nested sequences (which is a list-or-tuple of lists-or-tuples-or ndarrays with different lengths or shapes) is deprecated. If you meant to do this, you must specify 'dtype=object' when creating the ndarray.\n",
      "  return asarray(a).ndim\n"
     ]
    },
    {
     "name": "stdout",
     "output_type": "stream",
     "text": [
      "Applying [D:/github/lfs-cleaning/travel-model-two-networks\\project_cards\\SFMTA_M-OCEANVIEW.yml]:SFMTA Route M-OCEANVIEW\n",
      "Applying Project to Transit Network: SFMTA Route M-OCEANVIEW\n",
      "Missing connections from node 1010056 to node 1001634 for the new routing, find complete path using default graph\n",
      "Routing path from node 1010056 to node 1001634 for missing connections: ['1010056', '1001320', '1001634'].\n",
      "Missing connections from node 1008652 to node 1002555 for the new routing, find complete path using default graph\n",
      "Routing path from node 1008652 to node 1002555 for missing connections: ['1008652', '1010065', '1002555'].\n",
      "Missing connections from node 1002555 to node 1012377 for the new routing, find complete path using default graph\n",
      "Routing path from node 1002555 to node 1012377 for missing connections: ['1002555', '1013201', '1012377'].\n",
      "Creating a new stop in stops.txt for node ID: 1000377\n",
      "Creating a new stop in stops.txt for node ID: 1012377\n",
      "Creating a new stop in stops.txt for node ID: 1013720\n"
     ]
    },
    {
     "name": "stderr",
     "output_type": "stream",
     "text": [
      "c:\\Users\\wangs1\\AppData\\Local\\Continuum\\anaconda3\\envs\\lasso_bayarea\\lib\\site-packages\\numpy\\core\\fromnumeric.py:3162: VisibleDeprecationWarning: Creating an ndarray from ragged nested sequences (which is a list-or-tuple of lists-or-tuples-or ndarrays with different lengths or shapes) is deprecated. If you meant to do this, you must specify 'dtype=object' when creating the ndarray.\n",
      "  return asarray(a).ndim\n"
     ]
    },
    {
     "name": "stdout",
     "output_type": "stream",
     "text": [
      "Applying [D:/github/lfs-cleaning/travel-model-two-networks\\project_cards\\SFMTA_L-TARAVAL.yml]:SFMTA Route L-TARAVAL\n",
      "Applying [D:/github/lfs-cleaning/travel-model-two-networks\\project_cards\\SFMTA_L-TARAVAL.yml]:SFMTA Route L-TARAVAL\n",
      "Applying Project to Transit Network: SFMTA Route L-TARAVAL\n",
      "Missing connections from node 1005568 to node 1013552 for the new routing, find complete path using default graph\n",
      "Routing path from node 1005568 to node 1013552 for missing connections: ['1005568', '1019992', '1013552'].\n",
      "Missing connections from node 1017635 to node 1006289 for the new routing, find complete path using default graph\n",
      "Routing path from node 1017635 to node 1006289 for missing connections: ['1017635', '1022835', '1019853', '1006289'].\n",
      "Missing connections from node 1005078 to node 1014447 for the new routing, find complete path using default graph\n",
      "Routing path from node 1005078 to node 1014447 for missing connections: ['1005078', '1005726', '1014447'].\n",
      "Missing connections from node 1019808 to node 1007548 for the new routing, find complete path using default graph\n",
      "Routing path from node 1019808 to node 1007548 for missing connections: ['1019808', '1010715', '1007548'].\n",
      "Missing connections from node 1010006 to node 1020991 for the new routing, find complete path using default graph\n",
      "Routing path from node 1010006 to node 1020991 for missing connections: ['1010006', '1009184', '1020991'].\n",
      "Missing connections from node 1003348 to node 1013660 for the new routing, find complete path using default graph\n",
      "Routing path from node 1003348 to node 1013660 for missing connections: ['1003348', '1003069', '1013660'].\n",
      "Missing connections from node 1011470 to node 1008991 for the new routing, find complete path using default graph\n",
      "Routing path from node 1011470 to node 1008991 for missing connections: ['1011470', '1000852', '1020806', '1008991'].\n",
      "Missing connections from node 1002303 to node 1019673 for the new routing, find complete path using default graph\n",
      "Routing path from node 1002303 to node 1019673 for missing connections: ['1002303', '1023770', '1019673'].\n",
      "Creating a new stop in stops.txt for node ID: 1006966\n",
      "Creating a new stop in stops.txt for node ID: 1003268\n",
      "Creating a new stop in stops.txt for node ID: 1013552\n",
      "Creating a new stop in stops.txt for node ID: 1006289\n",
      "Creating a new stop in stops.txt for node ID: 1006382\n",
      "Creating a new stop in stops.txt for node ID: 1014447\n",
      "Creating a new stop in stops.txt for node ID: 1012442\n",
      "Creating a new stop in stops.txt for node ID: 1007548\n",
      "Creating a new stop in stops.txt for node ID: 1020991\n",
      "Creating a new stop in stops.txt for node ID: 1015462\n",
      "Creating a new stop in stops.txt for node ID: 1020424\n",
      "Creating a new stop in stops.txt for node ID: 1013660\n",
      "Creating a new stop in stops.txt for node ID: 1008991\n",
      "Creating a new stop in stops.txt for node ID: 1024647\n",
      "Creating a new stop in stops.txt for node ID: 1002303\n",
      "Creating a new stop in stops.txt for node ID: 1019673\n"
     ]
    },
    {
     "name": "stderr",
     "output_type": "stream",
     "text": [
      "c:\\Users\\wangs1\\AppData\\Local\\Continuum\\anaconda3\\envs\\lasso_bayarea\\lib\\site-packages\\numpy\\core\\fromnumeric.py:3162: VisibleDeprecationWarning: Creating an ndarray from ragged nested sequences (which is a list-or-tuple of lists-or-tuples-or ndarrays with different lengths or shapes) is deprecated. If you meant to do this, you must specify 'dtype=object' when creating the ndarray.\n",
      "  return asarray(a).ndim\n"
     ]
    },
    {
     "name": "stdout",
     "output_type": "stream",
     "text": [
      "Creating a new stop in stops.txt for node ID: 1009253\n",
      "Applying [D:/github/lfs-cleaning/travel-model-two-networks\\project_cards\\SFMTA_L-TARAVAL.yml]:SFMTA Route L-TARAVAL\n",
      "Applying Project to Transit Network: SFMTA Route L-TARAVAL\n",
      "Missing connections from node 1019673 to node 1002303 for the new routing, find complete path using default graph\n",
      "Routing path from node 1019673 to node 1002303 for missing connections: ['1019673', '1023770', '1002303'].\n",
      "Missing connections from node 1002024 to node 1011130 for the new routing, find complete path using default graph\n",
      "Routing path from node 1002024 to node 1011130 for missing connections: ['1002024', '1007929', '1011130'].\n",
      "Missing connections from node 1009968 to node 1013660 for the new routing, find complete path using default graph\n",
      "Routing path from node 1009968 to node 1013660 for missing connections: ['1009968', '1007821', '1013660'].\n",
      "Missing connections from node 1007093 to node 1007548 for the new routing, find complete path using default graph\n",
      "Routing path from node 1007093 to node 1007548 for missing connections: ['1007093', '1005081', '1007548'].\n",
      "Missing connections from node 1011729 to node 1018891 for the new routing, find complete path using default graph\n",
      "Routing path from node 1011729 to node 1018891 for missing connections: ['1011729', '1004242', '1018891'].\n",
      "Missing connections from node 1002002 to node 1006382 for the new routing, find complete path using default graph\n",
      "Routing path from node 1002002 to node 1006382 for missing connections: ['1002002', '1002135', '1006382'].\n",
      "Missing connections from node 1008318 to node 1006289 for the new routing, find complete path using default graph\n",
      "Routing path from node 1008318 to node 1006289 for missing connections: ['1008318', '1003391', '1011199', '1006289'].\n",
      "Missing connections from node 1017635 to node 1013552 for the new routing, find complete path using default graph\n",
      "Routing path from node 1017635 to node 1013552 for missing connections: ['1017635', '1023261', '1013552'].\n",
      "Creating a new stop in stops.txt for node ID: 1011130\n",
      "Creating a new stop in stops.txt for node ID: 1018891\n"
     ]
    },
    {
     "name": "stderr",
     "output_type": "stream",
     "text": [
      "c:\\Users\\wangs1\\AppData\\Local\\Continuum\\anaconda3\\envs\\lasso_bayarea\\lib\\site-packages\\numpy\\core\\fromnumeric.py:3162: VisibleDeprecationWarning: Creating an ndarray from ragged nested sequences (which is a list-or-tuple of lists-or-tuples-or ndarrays with different lengths or shapes) is deprecated. If you meant to do this, you must specify 'dtype=object' when creating the ndarray.\n",
      "  return asarray(a).ndim\n"
     ]
    },
    {
     "name": "stdout",
     "output_type": "stream",
     "text": [
      "Applying [D:/github/lfs-cleaning/travel-model-two-networks\\project_cards\\SFMTA_KT.yml]:SFMTA Route KT\n",
      "Applying [D:/github/lfs-cleaning/travel-model-two-networks\\project_cards\\SFMTA_KT.yml]:SFMTA Route KT\n",
      "Applying Project to Transit Network: SFMTA Route KT\n",
      "Missing connections from node 1015120 to node 1011908 for the new routing, find complete path using default graph\n",
      "Routing path from node 1015120 to node 1011908 for missing connections: ['1015120', '1021285', '1011908'].\n",
      "Missing connections from node 1001369 to node 1003249 for the new routing, find complete path using default graph\n",
      "Routing path from node 1001369 to node 1003249 for missing connections: ['1001369', '1002276', '1003249'].\n",
      "Missing connections from node 1017120 to node 1024171 for the new routing, find complete path using default graph\n",
      "Routing path from node 1017120 to node 1024171 for missing connections: ['1017120', '1024566', '1024171'].\n",
      "Missing connections from node 1020314 to node 1023535 for the new routing, find complete path using default graph\n",
      "Routing path from node 1020314 to node 1023535 for missing connections: ['1020314', '1006621', '1023535'].\n",
      "Missing connections from node 1019751 to node 1008736 for the new routing, find complete path using default graph\n",
      "Routing path from node 1019751 to node 1008736 for missing connections: ['1019751', '1022088', '1008736'].\n",
      "Creating a new stop in stops.txt for node ID: 1002867\n",
      "Creating a new stop in stops.txt for node ID: 1018513\n",
      "Creating a new stop in stops.txt for node ID: 1011908\n",
      "Creating a new stop in stops.txt for node ID: 1016211\n",
      "Creating a new stop in stops.txt for node ID: 1020504\n",
      "Creating a new stop in stops.txt for node ID: 1003249\n",
      "Creating a new stop in stops.txt for node ID: 1024171\n",
      "Creating a new stop in stops.txt for node ID: 1023535\n",
      "Creating a new stop in stops.txt for node ID: 1008736\n"
     ]
    },
    {
     "name": "stderr",
     "output_type": "stream",
     "text": [
      "c:\\Users\\wangs1\\AppData\\Local\\Continuum\\anaconda3\\envs\\lasso_bayarea\\lib\\site-packages\\numpy\\core\\fromnumeric.py:3162: VisibleDeprecationWarning: Creating an ndarray from ragged nested sequences (which is a list-or-tuple of lists-or-tuples-or ndarrays with different lengths or shapes) is deprecated. If you meant to do this, you must specify 'dtype=object' when creating the ndarray.\n",
      "  return asarray(a).ndim\n"
     ]
    },
    {
     "name": "stdout",
     "output_type": "stream",
     "text": [
      "Applying [D:/github/lfs-cleaning/travel-model-two-networks\\project_cards\\SFMTA_KT.yml]:SFMTA Route KT\n",
      "Applying Project to Transit Network: SFMTA Route KT\n",
      "Missing connections from node 1009392 to node 1008736 for the new routing, find complete path using default graph\n",
      "Routing path from node 1009392 to node 1008736 for missing connections: ['1009392', '1007609', '1015177', '1008736'].\n",
      "Missing connections from node 1024144 to node 1023535 for the new routing, find complete path using default graph\n",
      "Routing path from node 1024144 to node 1023535 for missing connections: ['1024144', '1013685', '1017832', '1023535'].\n",
      "Missing connections from node 1008901 to node 1024166 for the new routing, find complete path using default graph\n",
      "Routing path from node 1008901 to node 1024166 for missing connections: ['1008901', '1002867', '1024166'].\n",
      "Creating a new stop in stops.txt for node ID: 1012791\n",
      "Creating a new stop in stops.txt for node ID: 1004257\n",
      "Creating a new stop in stops.txt for node ID: 1012415\n",
      "Creating a new stop in stops.txt for node ID: 1007766\n",
      "Creating a new stop in stops.txt for node ID: 1024166\n"
     ]
    },
    {
     "name": "stderr",
     "output_type": "stream",
     "text": [
      "c:\\Users\\wangs1\\AppData\\Local\\Continuum\\anaconda3\\envs\\lasso_bayarea\\lib\\site-packages\\numpy\\core\\fromnumeric.py:3162: VisibleDeprecationWarning: Creating an ndarray from ragged nested sequences (which is a list-or-tuple of lists-or-tuples-or ndarrays with different lengths or shapes) is deprecated. If you meant to do this, you must specify 'dtype=object' when creating the ndarray.\n",
      "  return asarray(a).ndim\n"
     ]
    },
    {
     "name": "stdout",
     "output_type": "stream",
     "text": [
      "Applying [D:/github/lfs-cleaning/travel-model-two-networks\\project_cards\\SFMTA_J-CHURCH.yml]:SFMTA Route J-CHURCH\n",
      "Applying [D:/github/lfs-cleaning/travel-model-two-networks\\project_cards\\SFMTA_J-CHURCH.yml]:SFMTA Route J-CHURCH\n",
      "Applying Project to Transit Network: SFMTA Route J-CHURCH\n",
      "Creating a new stop in stops.txt for node ID: 1015862\n",
      "Creating a new stop in stops.txt for node ID: 1015733\n",
      "Creating a new stop in stops.txt for node ID: 1011808\n",
      "Creating a new stop in stops.txt for node ID: 1004956\n",
      "Creating a new stop in stops.txt for node ID: 1003637\n"
     ]
    },
    {
     "name": "stderr",
     "output_type": "stream",
     "text": [
      "c:\\Users\\wangs1\\AppData\\Local\\Continuum\\anaconda3\\envs\\lasso_bayarea\\lib\\site-packages\\numpy\\core\\fromnumeric.py:3162: VisibleDeprecationWarning: Creating an ndarray from ragged nested sequences (which is a list-or-tuple of lists-or-tuples-or ndarrays with different lengths or shapes) is deprecated. If you meant to do this, you must specify 'dtype=object' when creating the ndarray.\n",
      "  return asarray(a).ndim\n"
     ]
    },
    {
     "name": "stdout",
     "output_type": "stream",
     "text": [
      "Applying [D:/github/lfs-cleaning/travel-model-two-networks\\project_cards\\SFMTA_J-CHURCH.yml]:SFMTA Route J-CHURCH\n",
      "Applying Project to Transit Network: SFMTA Route J-CHURCH\n",
      "Missing connections from node 1013142 to node 1028012 for the new routing, find complete path using default graph\n",
      "Routing path from node 1013142 to node 1028012 for missing connections: ['1013142', '1008816', '1028012'].\n",
      "Creating a new stop in stops.txt for node ID: 1005725\n"
     ]
    },
    {
     "name": "stderr",
     "output_type": "stream",
     "text": [
      "c:\\Users\\wangs1\\AppData\\Local\\Continuum\\anaconda3\\envs\\lasso_bayarea\\lib\\site-packages\\numpy\\core\\fromnumeric.py:3162: VisibleDeprecationWarning: Creating an ndarray from ragged nested sequences (which is a list-or-tuple of lists-or-tuples-or ndarrays with different lengths or shapes) is deprecated. If you meant to do this, you must specify 'dtype=object' when creating the ndarray.\n",
      "  return asarray(a).ndim\n"
     ]
    },
    {
     "name": "stdout",
     "output_type": "stream",
     "text": [
      "Applying [D:/github/lfs-cleaning/travel-model-two-networks\\project_cards\\SFMTA_CC-MASON.yml]:SFMTA Route CC-MASON\n",
      "Applying [D:/github/lfs-cleaning/travel-model-two-networks\\project_cards\\SFMTA_CC-MASON.yml]:SFMTA Route CC-MASON\n",
      "Applying Project to Transit Network: SFMTA Route CC-MASON\n",
      "Creating a new stop in stops.txt for node ID: 1016082\n",
      "Creating a new stop in stops.txt for node ID: 1005453\n",
      "Creating a new stop in stops.txt for node ID: 1003986\n",
      "Creating a new stop in stops.txt for node ID: 1009050\n",
      "Creating a new stop in stops.txt for node ID: 1003767\n",
      "Creating a new stop in stops.txt for node ID: 1020931\n",
      "Creating a new stop in stops.txt for node ID: 1020889\n",
      "Creating a new stop in stops.txt for node ID: 1008363\n",
      "Creating a new stop in stops.txt for node ID: 1014376\n"
     ]
    },
    {
     "name": "stderr",
     "output_type": "stream",
     "text": [
      "c:\\Users\\wangs1\\AppData\\Local\\Continuum\\anaconda3\\envs\\lasso_bayarea\\lib\\site-packages\\numpy\\core\\fromnumeric.py:3162: VisibleDeprecationWarning: Creating an ndarray from ragged nested sequences (which is a list-or-tuple of lists-or-tuples-or ndarrays with different lengths or shapes) is deprecated. If you meant to do this, you must specify 'dtype=object' when creating the ndarray.\n",
      "  return asarray(a).ndim\n"
     ]
    },
    {
     "name": "stdout",
     "output_type": "stream",
     "text": [
      "Applying [D:/github/lfs-cleaning/travel-model-two-networks\\project_cards\\SFMTA_CC-MASON.yml]:SFMTA Route CC-MASON\n",
      "Applying Project to Transit Network: SFMTA Route CC-MASON\n",
      "Applying [D:/github/lfs-cleaning/travel-model-two-networks\\project_cards\\SFMTA_CC-HYDE.yml]:SFMTA Route CC-HYDE\n",
      "Applying [D:/github/lfs-cleaning/travel-model-two-networks\\project_cards\\SFMTA_CC-HYDE.yml]:SFMTA Route CC-HYDE\n",
      "Applying Project to Transit Network: SFMTA Route CC-HYDE\n",
      "Creating a new stop in stops.txt for node ID: 1021535\n",
      "Creating a new stop in stops.txt for node ID: 1003219\n",
      "Creating a new stop in stops.txt for node ID: 1011955\n",
      "Creating a new stop in stops.txt for node ID: 1005554\n",
      "Creating a new stop in stops.txt for node ID: 1013263\n",
      "Creating a new stop in stops.txt for node ID: 1009321\n",
      "Creating a new stop in stops.txt for node ID: 1005455\n",
      "Creating a new stop in stops.txt for node ID: 1009828\n",
      "Creating a new stop in stops.txt for node ID: 1015732\n",
      "Creating a new stop in stops.txt for node ID: 1020423\n"
     ]
    },
    {
     "name": "stderr",
     "output_type": "stream",
     "text": [
      "c:\\Users\\wangs1\\AppData\\Local\\Continuum\\anaconda3\\envs\\lasso_bayarea\\lib\\site-packages\\numpy\\core\\fromnumeric.py:3162: VisibleDeprecationWarning: Creating an ndarray from ragged nested sequences (which is a list-or-tuple of lists-or-tuples-or ndarrays with different lengths or shapes) is deprecated. If you meant to do this, you must specify 'dtype=object' when creating the ndarray.\n",
      "  return asarray(a).ndim\n"
     ]
    },
    {
     "name": "stdout",
     "output_type": "stream",
     "text": [
      "Applying [D:/github/lfs-cleaning/travel-model-two-networks\\project_cards\\SFMTA_CC-HYDE.yml]:SFMTA Route CC-HYDE\n",
      "Applying Project to Transit Network: SFMTA Route CC-HYDE\n",
      "Creating a new stop in stops.txt for node ID: 1009923\n",
      "Creating a new stop in stops.txt for node ID: 1011805\n"
     ]
    },
    {
     "name": "stderr",
     "output_type": "stream",
     "text": [
      "c:\\Users\\wangs1\\AppData\\Local\\Continuum\\anaconda3\\envs\\lasso_bayarea\\lib\\site-packages\\numpy\\core\\fromnumeric.py:3162: VisibleDeprecationWarning: Creating an ndarray from ragged nested sequences (which is a list-or-tuple of lists-or-tuples-or ndarrays with different lengths or shapes) is deprecated. If you meant to do this, you must specify 'dtype=object' when creating the ndarray.\n",
      "  return asarray(a).ndim\n"
     ]
    },
    {
     "name": "stdout",
     "output_type": "stream",
     "text": [
      "Applying [D:/github/lfs-cleaning/travel-model-two-networks\\project_cards\\SFMTA_CC-CALIF.yml]:SFMTA Route CC-CALIF\n",
      "Applying [D:/github/lfs-cleaning/travel-model-two-networks\\project_cards\\SFMTA_CC-CALIF.yml]:SFMTA Route CC-CALIF\n",
      "Applying Project to Transit Network: SFMTA Route CC-CALIF\n",
      "Creating a new stop in stops.txt for node ID: 1007769\n",
      "Creating a new stop in stops.txt for node ID: 1003521\n",
      "Creating a new stop in stops.txt for node ID: 1006517\n",
      "Creating a new stop in stops.txt for node ID: 1020673\n",
      "Creating a new stop in stops.txt for node ID: 1012033\n",
      "Creating a new stop in stops.txt for node ID: 1002802\n",
      "Creating a new stop in stops.txt for node ID: 1011826\n",
      "Creating a new stop in stops.txt for node ID: 1007326\n",
      "Creating a new stop in stops.txt for node ID: 1006292\n",
      "Creating a new stop in stops.txt for node ID: 1017546\n"
     ]
    },
    {
     "name": "stderr",
     "output_type": "stream",
     "text": [
      "c:\\Users\\wangs1\\AppData\\Local\\Continuum\\anaconda3\\envs\\lasso_bayarea\\lib\\site-packages\\numpy\\core\\fromnumeric.py:3162: VisibleDeprecationWarning: Creating an ndarray from ragged nested sequences (which is a list-or-tuple of lists-or-tuples-or ndarrays with different lengths or shapes) is deprecated. If you meant to do this, you must specify 'dtype=object' when creating the ndarray.\n",
      "  return asarray(a).ndim\n"
     ]
    },
    {
     "name": "stdout",
     "output_type": "stream",
     "text": [
      "Applying [D:/github/lfs-cleaning/travel-model-two-networks\\project_cards\\SFMTA_CC-CALIF.yml]:SFMTA Route CC-CALIF\n",
      "Applying Project to Transit Network: SFMTA Route CC-CALIF\n",
      "Creating a new stop in stops.txt for node ID: 1013498\n"
     ]
    },
    {
     "name": "stderr",
     "output_type": "stream",
     "text": [
      "c:\\Users\\wangs1\\AppData\\Local\\Continuum\\anaconda3\\envs\\lasso_bayarea\\lib\\site-packages\\numpy\\core\\fromnumeric.py:3162: VisibleDeprecationWarning: Creating an ndarray from ragged nested sequences (which is a list-or-tuple of lists-or-tuples-or ndarrays with different lengths or shapes) is deprecated. If you meant to do this, you must specify 'dtype=object' when creating the ndarray.\n",
      "  return asarray(a).ndim\n"
     ]
    },
    {
     "name": "stdout",
     "output_type": "stream",
     "text": [
      "Applying [D:/github/lfs-cleaning/travel-model-two-networks\\project_cards\\SFMTA_9R.yml]:SFMTA Route 9R\n",
      "Applying [D:/github/lfs-cleaning/travel-model-two-networks\\project_cards\\SFMTA_9R.yml]:SFMTA Route 9R\n",
      "Applying Project to Transit Network: SFMTA Route 9R\n",
      "Creating a new stop in stops.txt for node ID: 1010376\n"
     ]
    },
    {
     "name": "stderr",
     "output_type": "stream",
     "text": [
      "c:\\Users\\wangs1\\AppData\\Local\\Continuum\\anaconda3\\envs\\lasso_bayarea\\lib\\site-packages\\numpy\\core\\fromnumeric.py:3162: VisibleDeprecationWarning: Creating an ndarray from ragged nested sequences (which is a list-or-tuple of lists-or-tuples-or ndarrays with different lengths or shapes) is deprecated. If you meant to do this, you must specify 'dtype=object' when creating the ndarray.\n",
      "  return asarray(a).ndim\n"
     ]
    },
    {
     "name": "stdout",
     "output_type": "stream",
     "text": [
      "Applying [D:/github/lfs-cleaning/travel-model-two-networks\\project_cards\\SFMTA_5R.yml]:SFMTA Route 5R\n",
      "Applying [D:/github/lfs-cleaning/travel-model-two-networks\\project_cards\\SFMTA_5R.yml]:SFMTA Route 5R\n",
      "Applying Project to Transit Network: SFMTA Route 5R\n",
      "Creating a new stop in stops.txt for node ID: 1003189\n"
     ]
    },
    {
     "name": "stderr",
     "output_type": "stream",
     "text": [
      "c:\\Users\\wangs1\\AppData\\Local\\Continuum\\anaconda3\\envs\\lasso_bayarea\\lib\\site-packages\\numpy\\core\\fromnumeric.py:3162: VisibleDeprecationWarning: Creating an ndarray from ragged nested sequences (which is a list-or-tuple of lists-or-tuples-or ndarrays with different lengths or shapes) is deprecated. If you meant to do this, you must specify 'dtype=object' when creating the ndarray.\n",
      "  return asarray(a).ndim\n"
     ]
    },
    {
     "name": "stdout",
     "output_type": "stream",
     "text": [
      "Applying [D:/github/lfs-cleaning/travel-model-two-networks\\project_cards\\SFMTA_49.yml]:SFMTA Route 49\n",
      "Applying [D:/github/lfs-cleaning/travel-model-two-networks\\project_cards\\SFMTA_49.yml]:SFMTA Route 49\n",
      "Applying Project to Transit Network: SFMTA Route 49\n",
      "Creating a new stop in stops.txt for node ID: 1022456\n",
      "Creating a new stop in stops.txt for node ID: 1010306\n"
     ]
    },
    {
     "name": "stderr",
     "output_type": "stream",
     "text": [
      "c:\\Users\\wangs1\\AppData\\Local\\Continuum\\anaconda3\\envs\\lasso_bayarea\\lib\\site-packages\\numpy\\core\\fromnumeric.py:3162: VisibleDeprecationWarning: Creating an ndarray from ragged nested sequences (which is a list-or-tuple of lists-or-tuples-or ndarrays with different lengths or shapes) is deprecated. If you meant to do this, you must specify 'dtype=object' when creating the ndarray.\n",
      "  return asarray(a).ndim\n"
     ]
    },
    {
     "name": "stdout",
     "output_type": "stream",
     "text": [
      "Applying [D:/github/lfs-cleaning/travel-model-two-networks\\project_cards\\SFMTA_49.yml]:SFMTA Route 49\n",
      "Applying Project to Transit Network: SFMTA Route 49\n",
      "Missing connections from node 1007627 to node 1011039 for the new routing, find complete path using default graph\n",
      "Routing path from node 1007627 to node 1011039 for missing connections: ['1007627', '1001749', '1011039'].\n",
      "Creating a new stop in stops.txt for node ID: 1020532\n",
      "Creating a new stop in stops.txt for node ID: 1018930\n",
      "Creating a new stop in stops.txt for node ID: 1000609\n",
      "Creating a new stop in stops.txt for node ID: 1014674\n"
     ]
    },
    {
     "name": "stderr",
     "output_type": "stream",
     "text": [
      "c:\\Users\\wangs1\\AppData\\Local\\Continuum\\anaconda3\\envs\\lasso_bayarea\\lib\\site-packages\\numpy\\core\\fromnumeric.py:3162: VisibleDeprecationWarning: Creating an ndarray from ragged nested sequences (which is a list-or-tuple of lists-or-tuples-or ndarrays with different lengths or shapes) is deprecated. If you meant to do this, you must specify 'dtype=object' when creating the ndarray.\n",
      "  return asarray(a).ndim\n"
     ]
    },
    {
     "name": "stdout",
     "output_type": "stream",
     "text": [
      "Applying [D:/github/lfs-cleaning/travel-model-two-networks\\project_cards\\SFMTA_45.yml]:SFMTA Route 45\n",
      "Applying [D:/github/lfs-cleaning/travel-model-two-networks\\project_cards\\SFMTA_45.yml]:SFMTA Route 45\n",
      "Applying Project to Transit Network: SFMTA Route 45\n",
      "Missing connections from node 1011382 to node 1007881 for the new routing, find complete path using default graph\n",
      "Routing path from node 1011382 to node 1007881 for missing connections: ['1011382', '1004019', '1007881'].\n",
      "Creating a new stop in stops.txt for node ID: 1000584\n",
      "Creating a new stop in stops.txt for node ID: 1019862\n"
     ]
    },
    {
     "name": "stderr",
     "output_type": "stream",
     "text": [
      "c:\\Users\\wangs1\\AppData\\Local\\Continuum\\anaconda3\\envs\\lasso_bayarea\\lib\\site-packages\\numpy\\core\\fromnumeric.py:3162: VisibleDeprecationWarning: Creating an ndarray from ragged nested sequences (which is a list-or-tuple of lists-or-tuples-or ndarrays with different lengths or shapes) is deprecated. If you meant to do this, you must specify 'dtype=object' when creating the ndarray.\n",
      "  return asarray(a).ndim\n"
     ]
    },
    {
     "name": "stdout",
     "output_type": "stream",
     "text": [
      "Applying [D:/github/lfs-cleaning/travel-model-two-networks\\project_cards\\SFMTA_45.yml]:SFMTA Route 45\n",
      "Applying Project to Transit Network: SFMTA Route 45\n",
      "Applying [D:/github/lfs-cleaning/travel-model-two-networks\\project_cards\\SFMTA_44.yml]:SFMTA Route 44\n",
      "Applying [D:/github/lfs-cleaning/travel-model-two-networks\\project_cards\\SFMTA_44.yml]:SFMTA Route 44\n",
      "Applying Project to Transit Network: SFMTA Route 44\n",
      "Creating a new stop in stops.txt for node ID: 1024186\n",
      "Creating a new stop in stops.txt for node ID: 1005763\n"
     ]
    },
    {
     "name": "stderr",
     "output_type": "stream",
     "text": [
      "c:\\Users\\wangs1\\AppData\\Local\\Continuum\\anaconda3\\envs\\lasso_bayarea\\lib\\site-packages\\numpy\\core\\fromnumeric.py:3162: VisibleDeprecationWarning: Creating an ndarray from ragged nested sequences (which is a list-or-tuple of lists-or-tuples-or ndarrays with different lengths or shapes) is deprecated. If you meant to do this, you must specify 'dtype=object' when creating the ndarray.\n",
      "  return asarray(a).ndim\n"
     ]
    },
    {
     "name": "stdout",
     "output_type": "stream",
     "text": [
      "Applying [D:/github/lfs-cleaning/travel-model-two-networks\\project_cards\\SFMTA_44.yml]:SFMTA Route 44\n",
      "Applying Project to Transit Network: SFMTA Route 44\n",
      "Missing connections from node 1009551 to node 1024579 for the new routing, find complete path using default graph\n",
      "Routing path from node 1009551 to node 1024579 for missing connections: ['1009551', '1007693', '1024579'].\n",
      "Creating a new stop in stops.txt for node ID: 1024579\n",
      "Creating a new stop in stops.txt for node ID: 1020386\n"
     ]
    },
    {
     "name": "stderr",
     "output_type": "stream",
     "text": [
      "c:\\Users\\wangs1\\AppData\\Local\\Continuum\\anaconda3\\envs\\lasso_bayarea\\lib\\site-packages\\numpy\\core\\fromnumeric.py:3162: VisibleDeprecationWarning: Creating an ndarray from ragged nested sequences (which is a list-or-tuple of lists-or-tuples-or ndarrays with different lengths or shapes) is deprecated. If you meant to do this, you must specify 'dtype=object' when creating the ndarray.\n",
      "  return asarray(a).ndim\n"
     ]
    },
    {
     "name": "stdout",
     "output_type": "stream",
     "text": [
      "Applying [D:/github/lfs-cleaning/travel-model-two-networks\\project_cards\\SFMTA_43.yml]:SFMTA Route 43\n",
      "Applying [D:/github/lfs-cleaning/travel-model-two-networks\\project_cards\\SFMTA_43.yml]:SFMTA Route 43\n",
      "Applying Project to Transit Network: SFMTA Route 43\n",
      "Applying [D:/github/lfs-cleaning/travel-model-two-networks\\project_cards\\SFMTA_43.yml]:SFMTA Route 43\n",
      "Applying Project to Transit Network: SFMTA Route 43\n",
      "Creating a new stop in stops.txt for node ID: 1018707\n"
     ]
    },
    {
     "name": "stderr",
     "output_type": "stream",
     "text": [
      "c:\\Users\\wangs1\\AppData\\Local\\Continuum\\anaconda3\\envs\\lasso_bayarea\\lib\\site-packages\\numpy\\core\\fromnumeric.py:3162: VisibleDeprecationWarning: Creating an ndarray from ragged nested sequences (which is a list-or-tuple of lists-or-tuples-or ndarrays with different lengths or shapes) is deprecated. If you meant to do this, you must specify 'dtype=object' when creating the ndarray.\n",
      "  return asarray(a).ndim\n"
     ]
    },
    {
     "name": "stdout",
     "output_type": "stream",
     "text": [
      "Applying [D:/github/lfs-cleaning/travel-model-two-networks\\project_cards\\SFMTA_38.yml]:SFMTA Route 38\n",
      "Applying [D:/github/lfs-cleaning/travel-model-two-networks\\project_cards\\SFMTA_38.yml]:SFMTA Route 38\n",
      "Applying Project to Transit Network: SFMTA Route 38\n",
      "Creating a new stop in stops.txt for node ID: 1001027\n"
     ]
    },
    {
     "name": "stderr",
     "output_type": "stream",
     "text": [
      "c:\\Users\\wangs1\\AppData\\Local\\Continuum\\anaconda3\\envs\\lasso_bayarea\\lib\\site-packages\\numpy\\core\\fromnumeric.py:3162: VisibleDeprecationWarning: Creating an ndarray from ragged nested sequences (which is a list-or-tuple of lists-or-tuples-or ndarrays with different lengths or shapes) is deprecated. If you meant to do this, you must specify 'dtype=object' when creating the ndarray.\n",
      "  return asarray(a).ndim\n"
     ]
    },
    {
     "name": "stdout",
     "output_type": "stream",
     "text": [
      "Applying [D:/github/lfs-cleaning/travel-model-two-networks\\project_cards\\SFMTA_30.yml]:SFMTA Route 30\n",
      "Applying [D:/github/lfs-cleaning/travel-model-two-networks\\project_cards\\SFMTA_30.yml]:SFMTA Route 30\n",
      "Applying Project to Transit Network: SFMTA Route 30\n",
      "Missing connections from node 1011382 to node 1007881 for the new routing, find complete path using default graph\n",
      "Routing path from node 1011382 to node 1007881 for missing connections: ['1011382', '1004019', '1007881'].\n",
      "Creating a new stop in stops.txt for node ID: 1015493\n"
     ]
    },
    {
     "name": "stderr",
     "output_type": "stream",
     "text": [
      "c:\\Users\\wangs1\\AppData\\Local\\Continuum\\anaconda3\\envs\\lasso_bayarea\\lib\\site-packages\\numpy\\core\\fromnumeric.py:3162: VisibleDeprecationWarning: Creating an ndarray from ragged nested sequences (which is a list-or-tuple of lists-or-tuples-or ndarrays with different lengths or shapes) is deprecated. If you meant to do this, you must specify 'dtype=object' when creating the ndarray.\n",
      "  return asarray(a).ndim\n"
     ]
    },
    {
     "name": "stdout",
     "output_type": "stream",
     "text": [
      "Applying [D:/github/lfs-cleaning/travel-model-two-networks\\project_cards\\SFMTA_30.yml]:SFMTA Route 30\n",
      "Applying Project to Transit Network: SFMTA Route 30\n",
      "Creating a new stop in stops.txt for node ID: 1007878\n"
     ]
    },
    {
     "name": "stderr",
     "output_type": "stream",
     "text": [
      "c:\\Users\\wangs1\\AppData\\Local\\Continuum\\anaconda3\\envs\\lasso_bayarea\\lib\\site-packages\\numpy\\core\\fromnumeric.py:3162: VisibleDeprecationWarning: Creating an ndarray from ragged nested sequences (which is a list-or-tuple of lists-or-tuples-or ndarrays with different lengths or shapes) is deprecated. If you meant to do this, you must specify 'dtype=object' when creating the ndarray.\n",
      "  return asarray(a).ndim\n"
     ]
    },
    {
     "name": "stdout",
     "output_type": "stream",
     "text": [
      "Applying [D:/github/lfs-cleaning/travel-model-two-networks\\project_cards\\SFMTA_29.yml]:SFMTA Route 29\n",
      "Applying [D:/github/lfs-cleaning/travel-model-two-networks\\project_cards\\SFMTA_29.yml]:SFMTA Route 29\n",
      "Applying Project to Transit Network: SFMTA Route 29\n",
      "Missing connections from node 1010559 to node 1011829 for the new routing, find complete path using default graph\n",
      "Routing path from node 1010559 to node 1011829 for missing connections: ['1010559', '1008302', '1011829'].\n",
      "Creating a new stop in stops.txt for node ID: 1017018\n"
     ]
    },
    {
     "name": "stderr",
     "output_type": "stream",
     "text": [
      "c:\\Users\\wangs1\\AppData\\Local\\Continuum\\anaconda3\\envs\\lasso_bayarea\\lib\\site-packages\\numpy\\core\\fromnumeric.py:3162: VisibleDeprecationWarning: Creating an ndarray from ragged nested sequences (which is a list-or-tuple of lists-or-tuples-or ndarrays with different lengths or shapes) is deprecated. If you meant to do this, you must specify 'dtype=object' when creating the ndarray.\n",
      "  return asarray(a).ndim\n"
     ]
    },
    {
     "name": "stdout",
     "output_type": "stream",
     "text": [
      "Applying [D:/github/lfs-cleaning/travel-model-two-networks\\project_cards\\SFMTA_29.yml]:SFMTA Route 29\n",
      "Applying Project to Transit Network: SFMTA Route 29\n",
      "Creating a new stop in stops.txt for node ID: 1019000\n"
     ]
    },
    {
     "name": "stderr",
     "output_type": "stream",
     "text": [
      "c:\\Users\\wangs1\\AppData\\Local\\Continuum\\anaconda3\\envs\\lasso_bayarea\\lib\\site-packages\\numpy\\core\\fromnumeric.py:3162: VisibleDeprecationWarning: Creating an ndarray from ragged nested sequences (which is a list-or-tuple of lists-or-tuples-or ndarrays with different lengths or shapes) is deprecated. If you meant to do this, you must specify 'dtype=object' when creating the ndarray.\n",
      "  return asarray(a).ndim\n"
     ]
    },
    {
     "name": "stdout",
     "output_type": "stream",
     "text": [
      "Applying [D:/github/lfs-cleaning/travel-model-two-networks\\project_cards\\SFMTA_28.yml]:SFMTA Route 28\n",
      "Applying [D:/github/lfs-cleaning/travel-model-two-networks\\project_cards\\SFMTA_28.yml]:SFMTA Route 28\n",
      "Applying Project to Transit Network: SFMTA Route 28\n",
      "Creating a new stop in stops.txt for node ID: 1011519\n"
     ]
    },
    {
     "name": "stderr",
     "output_type": "stream",
     "text": [
      "c:\\Users\\wangs1\\AppData\\Local\\Continuum\\anaconda3\\envs\\lasso_bayarea\\lib\\site-packages\\numpy\\core\\fromnumeric.py:3162: VisibleDeprecationWarning: Creating an ndarray from ragged nested sequences (which is a list-or-tuple of lists-or-tuples-or ndarrays with different lengths or shapes) is deprecated. If you meant to do this, you must specify 'dtype=object' when creating the ndarray.\n",
      "  return asarray(a).ndim\n"
     ]
    },
    {
     "name": "stdout",
     "output_type": "stream",
     "text": [
      "Applying [D:/github/lfs-cleaning/travel-model-two-networks\\project_cards\\SFMTA_28.yml]:SFMTA Route 28\n",
      "Applying Project to Transit Network: SFMTA Route 28\n",
      "Missing connections from node 1017471 to node 1017471 for the new routing, find complete path using default graph\n",
      "Routing path from node 1017471 to node 1017471 for missing connections: ['1017471'].\n",
      "Creating a new stop in stops.txt for node ID: 1004389\n",
      "Creating a new stop in stops.txt for node ID: 1015387\n",
      "Creating a new stop in stops.txt for node ID: 1017471\n"
     ]
    },
    {
     "name": "stderr",
     "output_type": "stream",
     "text": [
      "c:\\Users\\wangs1\\AppData\\Local\\Continuum\\anaconda3\\envs\\lasso_bayarea\\lib\\site-packages\\numpy\\core\\fromnumeric.py:3162: VisibleDeprecationWarning: Creating an ndarray from ragged nested sequences (which is a list-or-tuple of lists-or-tuples-or ndarrays with different lengths or shapes) is deprecated. If you meant to do this, you must specify 'dtype=object' when creating the ndarray.\n",
      "  return asarray(a).ndim\n"
     ]
    },
    {
     "name": "stdout",
     "output_type": "stream",
     "text": [
      "Applying [D:/github/lfs-cleaning/travel-model-two-networks\\project_cards\\SFMTA_24.yml]:SFMTA Route 24\n",
      "Applying [D:/github/lfs-cleaning/travel-model-two-networks\\project_cards\\SFMTA_24.yml]:SFMTA Route 24\n",
      "Applying Project to Transit Network: SFMTA Route 24\n",
      "Creating a new stop in stops.txt for node ID: 1004132\n"
     ]
    },
    {
     "name": "stderr",
     "output_type": "stream",
     "text": [
      "c:\\Users\\wangs1\\AppData\\Local\\Continuum\\anaconda3\\envs\\lasso_bayarea\\lib\\site-packages\\numpy\\core\\fromnumeric.py:3162: VisibleDeprecationWarning: Creating an ndarray from ragged nested sequences (which is a list-or-tuple of lists-or-tuples-or ndarrays with different lengths or shapes) is deprecated. If you meant to do this, you must specify 'dtype=object' when creating the ndarray.\n",
      "  return asarray(a).ndim\n"
     ]
    },
    {
     "name": "stdout",
     "output_type": "stream",
     "text": [
      "Applying [D:/github/lfs-cleaning/travel-model-two-networks\\project_cards\\SFMTA_24.yml]:SFMTA Route 24\n",
      "Applying Project to Transit Network: SFMTA Route 24\n",
      "Applying [D:/github/lfs-cleaning/travel-model-two-networks\\project_cards\\SFMTA_22.yml]:SFMTA Route 22\n",
      "Applying [D:/github/lfs-cleaning/travel-model-two-networks\\project_cards\\SFMTA_22.yml]:SFMTA Route 22\n",
      "Applying Project to Transit Network: SFMTA Route 22\n",
      "Creating a new stop in stops.txt for node ID: 1018737\n",
      "Creating a new stop in stops.txt for node ID: 1011071\n"
     ]
    },
    {
     "name": "stderr",
     "output_type": "stream",
     "text": [
      "c:\\Users\\wangs1\\AppData\\Local\\Continuum\\anaconda3\\envs\\lasso_bayarea\\lib\\site-packages\\numpy\\core\\fromnumeric.py:3162: VisibleDeprecationWarning: Creating an ndarray from ragged nested sequences (which is a list-or-tuple of lists-or-tuples-or ndarrays with different lengths or shapes) is deprecated. If you meant to do this, you must specify 'dtype=object' when creating the ndarray.\n",
      "  return asarray(a).ndim\n"
     ]
    },
    {
     "name": "stdout",
     "output_type": "stream",
     "text": [
      "Applying [D:/github/lfs-cleaning/travel-model-two-networks\\project_cards\\SFMTA_14R.yml]:SFMTA Route 14R\n",
      "Applying [D:/github/lfs-cleaning/travel-model-two-networks\\project_cards\\SFMTA_14R.yml]:SFMTA Route 14R\n",
      "Applying Project to Transit Network: SFMTA Route 14R\n",
      "Creating a new stop in stops.txt for node ID: 1523226\n"
     ]
    },
    {
     "name": "stderr",
     "output_type": "stream",
     "text": [
      "c:\\Users\\wangs1\\AppData\\Local\\Continuum\\anaconda3\\envs\\lasso_bayarea\\lib\\site-packages\\numpy\\core\\fromnumeric.py:3162: VisibleDeprecationWarning: Creating an ndarray from ragged nested sequences (which is a list-or-tuple of lists-or-tuples-or ndarrays with different lengths or shapes) is deprecated. If you meant to do this, you must specify 'dtype=object' when creating the ndarray.\n",
      "  return asarray(a).ndim\n"
     ]
    },
    {
     "name": "stdout",
     "output_type": "stream",
     "text": [
      "Applying [D:/github/lfs-cleaning/travel-model-two-networks\\project_cards\\SFMTA_14R.yml]:SFMTA Route 14R\n",
      "Applying Project to Transit Network: SFMTA Route 14R\n",
      "Creating a new stop in stops.txt for node ID: 1509377\n"
     ]
    },
    {
     "name": "stderr",
     "output_type": "stream",
     "text": [
      "c:\\Users\\wangs1\\AppData\\Local\\Continuum\\anaconda3\\envs\\lasso_bayarea\\lib\\site-packages\\numpy\\core\\fromnumeric.py:3162: VisibleDeprecationWarning: Creating an ndarray from ragged nested sequences (which is a list-or-tuple of lists-or-tuples-or ndarrays with different lengths or shapes) is deprecated. If you meant to do this, you must specify 'dtype=object' when creating the ndarray.\n",
      "  return asarray(a).ndim\n"
     ]
    },
    {
     "name": "stdout",
     "output_type": "stream",
     "text": [
      "Applying [D:/github/lfs-cleaning/travel-model-two-networks\\project_cards\\SFMTA_14R.yml]:SFMTA Route 14R\n",
      "Applying [D:/github/lfs-cleaning/travel-model-two-networks\\project_cards\\SFMTA_14R.yml]:SFMTA Route 14R\n",
      "Applying [D:/github/lfs-cleaning/travel-model-two-networks\\project_cards\\SFMTA_14.yml]:SFMTA route 14\n",
      "Applying [D:/github/lfs-cleaning/travel-model-two-networks\\project_cards\\SFMTA_14.yml]:SFMTA route 14\n",
      "Applying Project to Transit Network: SFMTA route 14\n",
      "Applying [D:/github/lfs-cleaning/travel-model-two-networks\\project_cards\\SFMTA_14.yml]:SFMTA route 14\n",
      "Applying Project to Transit Network: SFMTA route 14\n",
      "Creating a new stop in stops.txt for node ID: 1003011\n"
     ]
    },
    {
     "name": "stderr",
     "output_type": "stream",
     "text": [
      "c:\\Users\\wangs1\\AppData\\Local\\Continuum\\anaconda3\\envs\\lasso_bayarea\\lib\\site-packages\\numpy\\core\\fromnumeric.py:3162: VisibleDeprecationWarning: Creating an ndarray from ragged nested sequences (which is a list-or-tuple of lists-or-tuples-or ndarrays with different lengths or shapes) is deprecated. If you meant to do this, you must specify 'dtype=object' when creating the ndarray.\n",
      "  return asarray(a).ndim\n"
     ]
    },
    {
     "name": "stdout",
     "output_type": "stream",
     "text": [
      "Applying [D:/github/lfs-cleaning/travel-model-two-networks\\project_cards\\sfmta-route-381-edits.yml]:SFMTA Route 381 Edits\n",
      "Applying [D:/github/lfs-cleaning/travel-model-two-networks\\project_cards\\sfmta-route-381-edits.yml]:SFMTA Route 381 Edits\n",
      "Applying Project to Transit Network: SFMTA Route 381 Edits\n",
      "Creating a new stop in stops.txt for node ID: 1002699\n",
      "Creating a new stop in stops.txt for node ID: 1015670\n"
     ]
    },
    {
     "name": "stderr",
     "output_type": "stream",
     "text": [
      "c:\\Users\\wangs1\\AppData\\Local\\Continuum\\anaconda3\\envs\\lasso_bayarea\\lib\\site-packages\\numpy\\core\\fromnumeric.py:3162: VisibleDeprecationWarning: Creating an ndarray from ragged nested sequences (which is a list-or-tuple of lists-or-tuples-or ndarrays with different lengths or shapes) is deprecated. If you meant to do this, you must specify 'dtype=object' when creating the ndarray.\n",
      "  return asarray(a).ndim\n"
     ]
    },
    {
     "name": "stdout",
     "output_type": "stream",
     "text": [
      "Applying [D:/github/lfs-cleaning/travel-model-two-networks\\project_cards\\sfmta-route-381-edits.yml]:SFMTA Route 381 Edits\n",
      "Applying Project to Transit Network: SFMTA Route 381 Edits\n",
      "Applying [D:/github/lfs-cleaning/travel-model-two-networks\\project_cards\\sfmta-route-381-edits.yml]:SFMTA Route 381 Edits\n",
      "Applying Project to Transit Network: SFMTA Route 381 Edits\n",
      "Applying [D:/github/lfs-cleaning/travel-model-two-networks\\project_cards\\sfmta-route-381-edits.yml]:SFMTA Route 381 Edits\n",
      "Applying Project to Transit Network: SFMTA Route 381 Edits\n",
      "Applying [D:/github/lfs-cleaning/travel-model-two-networks\\project_cards\\sfmta-route-381-edits.yml]:SFMTA Route 381 Edits\n",
      "Applying Project to Transit Network: SFMTA Route 381 Edits\n",
      "Applying [D:/github/lfs-cleaning/travel-model-two-networks\\project_cards\\sfmta-route-381-edits.yml]:SFMTA Route 381 Edits\n",
      "Applying Project to Transit Network: SFMTA Route 381 Edits\n",
      "Applying [D:/github/lfs-cleaning/travel-model-two-networks\\project_cards\\sfmta-route-376-edits.yml]:SFMTA Route 376 Edits\n",
      "Applying [D:/github/lfs-cleaning/travel-model-two-networks\\project_cards\\sfmta-route-376-edits.yml]:SFMTA Route 376 Edits\n",
      "Applying Project to Transit Network: SFMTA Route 376 Edits\n",
      "Creating a new stop in stops.txt for node ID: 1018603\n",
      "Creating a new stop in stops.txt for node ID: 1005812\n"
     ]
    },
    {
     "name": "stderr",
     "output_type": "stream",
     "text": [
      "c:\\Users\\wangs1\\AppData\\Local\\Continuum\\anaconda3\\envs\\lasso_bayarea\\lib\\site-packages\\numpy\\core\\fromnumeric.py:3162: VisibleDeprecationWarning: Creating an ndarray from ragged nested sequences (which is a list-or-tuple of lists-or-tuples-or ndarrays with different lengths or shapes) is deprecated. If you meant to do this, you must specify 'dtype=object' when creating the ndarray.\n",
      "  return asarray(a).ndim\n"
     ]
    },
    {
     "name": "stdout",
     "output_type": "stream",
     "text": [
      "Applying [D:/github/lfs-cleaning/travel-model-two-networks\\project_cards\\sfmta-route-376-edits.yml]:SFMTA Route 376 Edits\n",
      "Applying Project to Transit Network: SFMTA Route 376 Edits\n",
      "Applying [D:/github/lfs-cleaning/travel-model-two-networks\\project_cards\\sfmta-route-349-edits.yml]:SFMTA Route 349 Edits\n",
      "Applying [D:/github/lfs-cleaning/travel-model-two-networks\\project_cards\\sfmta-route-349-edits.yml]:SFMTA Route 349 Edits\n",
      "Applying Project to Transit Network: SFMTA Route 349 Edits\n",
      "Creating a new stop in stops.txt for node ID: 1013984\n",
      "Creating a new stop in stops.txt for node ID: 1016620\n",
      "Creating a new stop in stops.txt for node ID: 1013397\n"
     ]
    },
    {
     "name": "stderr",
     "output_type": "stream",
     "text": [
      "c:\\Users\\wangs1\\AppData\\Local\\Continuum\\anaconda3\\envs\\lasso_bayarea\\lib\\site-packages\\numpy\\core\\fromnumeric.py:3162: VisibleDeprecationWarning: Creating an ndarray from ragged nested sequences (which is a list-or-tuple of lists-or-tuples-or ndarrays with different lengths or shapes) is deprecated. If you meant to do this, you must specify 'dtype=object' when creating the ndarray.\n",
      "  return asarray(a).ndim\n"
     ]
    },
    {
     "name": "stdout",
     "output_type": "stream",
     "text": [
      "Applying [D:/github/lfs-cleaning/travel-model-two-networks\\project_cards\\sfmta-route-349-edits.yml]:SFMTA Route 349 Edits\n",
      "Applying Project to Transit Network: SFMTA Route 349 Edits\n",
      "Applying [D:/github/lfs-cleaning/travel-model-two-networks\\project_cards\\sfmta-route-349-edits.yml]:SFMTA Route 349 Edits\n",
      "Applying Project to Transit Network: SFMTA Route 349 Edits\n",
      "Applying [D:/github/lfs-cleaning/travel-model-two-networks\\project_cards\\sfmta-route-346-edits.yml]:SFMTA Route 346 Edits\n",
      "Applying [D:/github/lfs-cleaning/travel-model-two-networks\\project_cards\\sfmta-route-346-edits.yml]:SFMTA Route 346 Edits\n",
      "Applying Project to Transit Network: SFMTA Route 346 Edits\n",
      "Applying [D:/github/lfs-cleaning/travel-model-two-networks\\project_cards\\sfmta-route-346-edits.yml]:SFMTA Route 346 Edits\n",
      "Applying Project to Transit Network: SFMTA Route 346 Edits\n",
      "Creating a new stop in stops.txt for node ID: 1018498\n",
      "Creating a new stop in stops.txt for node ID: 1022481\n"
     ]
    },
    {
     "name": "stderr",
     "output_type": "stream",
     "text": [
      "c:\\Users\\wangs1\\AppData\\Local\\Continuum\\anaconda3\\envs\\lasso_bayarea\\lib\\site-packages\\numpy\\core\\fromnumeric.py:3162: VisibleDeprecationWarning: Creating an ndarray from ragged nested sequences (which is a list-or-tuple of lists-or-tuples-or ndarrays with different lengths or shapes) is deprecated. If you meant to do this, you must specify 'dtype=object' when creating the ndarray.\n",
      "  return asarray(a).ndim\n"
     ]
    },
    {
     "name": "stdout",
     "output_type": "stream",
     "text": [
      "Applying [D:/github/lfs-cleaning/travel-model-two-networks\\project_cards\\sfmta-route-346-edits.yml]:SFMTA Route 346 Edits\n",
      "Applying Project to Transit Network: SFMTA Route 346 Edits\n",
      "Creating a new stop in stops.txt for node ID: 1021719\n",
      "Creating a new stop in stops.txt for node ID: 1007696\n"
     ]
    },
    {
     "name": "stderr",
     "output_type": "stream",
     "text": [
      "c:\\Users\\wangs1\\AppData\\Local\\Continuum\\anaconda3\\envs\\lasso_bayarea\\lib\\site-packages\\numpy\\core\\fromnumeric.py:3162: VisibleDeprecationWarning: Creating an ndarray from ragged nested sequences (which is a list-or-tuple of lists-or-tuples-or ndarrays with different lengths or shapes) is deprecated. If you meant to do this, you must specify 'dtype=object' when creating the ndarray.\n",
      "  return asarray(a).ndim\n"
     ]
    },
    {
     "name": "stdout",
     "output_type": "stream",
     "text": [
      "Applying [D:/github/lfs-cleaning/travel-model-two-networks\\project_cards\\sfmta-route-346-edits.yml]:SFMTA Route 346 Edits\n",
      "Applying Project to Transit Network: SFMTA Route 346 Edits\n",
      "Applying [D:/github/lfs-cleaning/travel-model-two-networks\\project_cards\\sfmta-route-336-edits.yml]:SFMTA Route 336 Edits\n",
      "Applying [D:/github/lfs-cleaning/travel-model-two-networks\\project_cards\\sfmta-route-336-edits.yml]:SFMTA Route 336 Edits\n",
      "Applying Project to Transit Network: SFMTA Route 336 Edits\n",
      "Applying [D:/github/lfs-cleaning/travel-model-two-networks\\project_cards\\sfmta-route-336-edits.yml]:SFMTA Route 336 Edits\n",
      "Applying Project to Transit Network: SFMTA Route 336 Edits\n",
      "Creating a new stop in stops.txt for node ID: 1019291\n",
      "Applying [D:/github/lfs-cleaning/travel-model-two-networks\\project_cards\\sfmta-route-336-edits.yml]:SFMTA Route 336 Edits\n"
     ]
    },
    {
     "name": "stderr",
     "output_type": "stream",
     "text": [
      "c:\\Users\\wangs1\\AppData\\Local\\Continuum\\anaconda3\\envs\\lasso_bayarea\\lib\\site-packages\\numpy\\core\\fromnumeric.py:3162: VisibleDeprecationWarning: Creating an ndarray from ragged nested sequences (which is a list-or-tuple of lists-or-tuples-or ndarrays with different lengths or shapes) is deprecated. If you meant to do this, you must specify 'dtype=object' when creating the ndarray.\n",
      "  return asarray(a).ndim\n"
     ]
    },
    {
     "name": "stdout",
     "output_type": "stream",
     "text": [
      "Applying Project to Transit Network: SFMTA Route 336 Edits\n",
      "Applying [D:/github/lfs-cleaning/travel-model-two-networks\\project_cards\\sfmta-route-335-edits.yml]:SFMTA Route 335 Edits\n",
      "Applying [D:/github/lfs-cleaning/travel-model-two-networks\\project_cards\\sfmta-route-335-edits.yml]:SFMTA Route 335 Edits\n",
      "Applying Project to Transit Network: SFMTA Route 335 Edits\n",
      "Applying [D:/github/lfs-cleaning/travel-model-two-networks\\project_cards\\sfmta-route-335-edits.yml]:SFMTA Route 335 Edits\n",
      "Applying Project to Transit Network: SFMTA Route 335 Edits\n",
      "Applying [D:/github/lfs-cleaning/travel-model-two-networks\\project_cards\\sfmta-route-329-edits.yml]:SFMTA Route 329 Edits\n",
      "Applying [D:/github/lfs-cleaning/travel-model-two-networks\\project_cards\\sfmta-route-329-edits.yml]:SFMTA Route 329 Edits\n",
      "Applying Project to Transit Network: SFMTA Route 329 Edits\n",
      "Applying [D:/github/lfs-cleaning/travel-model-two-networks\\project_cards\\sfmta-route-329-edits.yml]:SFMTA Route 329 Edits\n",
      "Applying Project to Transit Network: SFMTA Route 329 Edits\n",
      "Applying [D:/github/lfs-cleaning/travel-model-two-networks\\project_cards\\sfmta-route-328-edits.yml]:SFMTA Route 328 Edits\n",
      "Applying [D:/github/lfs-cleaning/travel-model-two-networks\\project_cards\\sfmta-route-328-edits.yml]:SFMTA Route 328 Edits\n",
      "Applying Project to Transit Network: SFMTA Route 328 Edits\n",
      "Creating a new stop in stops.txt for node ID: 1008491\n"
     ]
    },
    {
     "name": "stderr",
     "output_type": "stream",
     "text": [
      "c:\\Users\\wangs1\\AppData\\Local\\Continuum\\anaconda3\\envs\\lasso_bayarea\\lib\\site-packages\\numpy\\core\\fromnumeric.py:3162: VisibleDeprecationWarning: Creating an ndarray from ragged nested sequences (which is a list-or-tuple of lists-or-tuples-or ndarrays with different lengths or shapes) is deprecated. If you meant to do this, you must specify 'dtype=object' when creating the ndarray.\n",
      "  return asarray(a).ndim\n"
     ]
    },
    {
     "name": "stdout",
     "output_type": "stream",
     "text": [
      "Applying [D:/github/lfs-cleaning/travel-model-two-networks\\project_cards\\sfmta-route-328-edits.yml]:SFMTA Route 328 Edits\n",
      "Applying Project to Transit Network: SFMTA Route 328 Edits\n",
      "Applying [D:/github/lfs-cleaning/travel-model-two-networks\\project_cards\\sfmta-route-321-edits.yml]:SFMTA Route 321 Edits\n",
      "Applying [D:/github/lfs-cleaning/travel-model-two-networks\\project_cards\\sfmta-route-321-edits.yml]:SFMTA Route 321 Edits\n",
      "Applying Project to Transit Network: SFMTA Route 321 Edits\n",
      "Creating a new stop in stops.txt for node ID: 1000002\n"
     ]
    },
    {
     "name": "stderr",
     "output_type": "stream",
     "text": [
      "c:\\Users\\wangs1\\AppData\\Local\\Continuum\\anaconda3\\envs\\lasso_bayarea\\lib\\site-packages\\numpy\\core\\fromnumeric.py:3162: VisibleDeprecationWarning: Creating an ndarray from ragged nested sequences (which is a list-or-tuple of lists-or-tuples-or ndarrays with different lengths or shapes) is deprecated. If you meant to do this, you must specify 'dtype=object' when creating the ndarray.\n",
      "  return asarray(a).ndim\n"
     ]
    },
    {
     "name": "stdout",
     "output_type": "stream",
     "text": [
      "Applying [D:/github/lfs-cleaning/travel-model-two-networks\\project_cards\\sfmta-route-321-edits.yml]:SFMTA Route 321 Edits\n",
      "Applying Project to Transit Network: SFMTA Route 321 Edits\n",
      "Creating a new stop in stops.txt for node ID: 1010281\n",
      "Creating a new stop in stops.txt for node ID: 1011778\n",
      "Creating a new stop in stops.txt for node ID: 1007658\n"
     ]
    },
    {
     "name": "stderr",
     "output_type": "stream",
     "text": [
      "c:\\Users\\wangs1\\AppData\\Local\\Continuum\\anaconda3\\envs\\lasso_bayarea\\lib\\site-packages\\numpy\\core\\fromnumeric.py:3162: VisibleDeprecationWarning: Creating an ndarray from ragged nested sequences (which is a list-or-tuple of lists-or-tuples-or ndarrays with different lengths or shapes) is deprecated. If you meant to do this, you must specify 'dtype=object' when creating the ndarray.\n",
      "  return asarray(a).ndim\n"
     ]
    },
    {
     "name": "stdout",
     "output_type": "stream",
     "text": [
      "Applying [D:/github/lfs-cleaning/travel-model-two-networks\\project_cards\\sfmta-route-307-edits.yml]:SFMTA Route 307 Edits\n",
      "Applying [D:/github/lfs-cleaning/travel-model-two-networks\\project_cards\\sfmta-route-307-edits.yml]:SFMTA Route 307 Edits\n",
      "Applying Project to Transit Network: SFMTA Route 307 Edits\n",
      "Creating a new stop in stops.txt for node ID: 1001352\n"
     ]
    },
    {
     "name": "stderr",
     "output_type": "stream",
     "text": [
      "c:\\Users\\wangs1\\AppData\\Local\\Continuum\\anaconda3\\envs\\lasso_bayarea\\lib\\site-packages\\numpy\\core\\fromnumeric.py:3162: VisibleDeprecationWarning: Creating an ndarray from ragged nested sequences (which is a list-or-tuple of lists-or-tuples-or ndarrays with different lengths or shapes) is deprecated. If you meant to do this, you must specify 'dtype=object' when creating the ndarray.\n",
      "  return asarray(a).ndim\n"
     ]
    },
    {
     "name": "stdout",
     "output_type": "stream",
     "text": [
      "Applying [D:/github/lfs-cleaning/travel-model-two-networks\\project_cards\\sfmta-route-307-edits.yml]:SFMTA Route 307 Edits\n",
      "Applying Project to Transit Network: SFMTA Route 307 Edits\n",
      "Creating a new stop in stops.txt for node ID: 1023629\n",
      "Creating a new stop in stops.txt for node ID: 1014162\n"
     ]
    },
    {
     "name": "stderr",
     "output_type": "stream",
     "text": [
      "c:\\Users\\wangs1\\AppData\\Local\\Continuum\\anaconda3\\envs\\lasso_bayarea\\lib\\site-packages\\numpy\\core\\fromnumeric.py:3162: VisibleDeprecationWarning: Creating an ndarray from ragged nested sequences (which is a list-or-tuple of lists-or-tuples-or ndarrays with different lengths or shapes) is deprecated. If you meant to do this, you must specify 'dtype=object' when creating the ndarray.\n",
      "  return asarray(a).ndim\n"
     ]
    },
    {
     "name": "stdout",
     "output_type": "stream",
     "text": [
      "Applying [D:/github/lfs-cleaning/travel-model-two-networks\\project_cards\\sfmta-route-306-edits.yml]:SFMTA Route 306 Edits\n",
      "Applying [D:/github/lfs-cleaning/travel-model-two-networks\\project_cards\\sfmta-route-306-edits.yml]:SFMTA Route 306 Edits\n",
      "Applying Project to Transit Network: SFMTA Route 306 Edits\n",
      "Creating a new stop in stops.txt for node ID: 1012353\n",
      "Creating a new stop in stops.txt for node ID: 1020811\n"
     ]
    },
    {
     "name": "stderr",
     "output_type": "stream",
     "text": [
      "c:\\Users\\wangs1\\AppData\\Local\\Continuum\\anaconda3\\envs\\lasso_bayarea\\lib\\site-packages\\numpy\\core\\fromnumeric.py:3162: VisibleDeprecationWarning: Creating an ndarray from ragged nested sequences (which is a list-or-tuple of lists-or-tuples-or ndarrays with different lengths or shapes) is deprecated. If you meant to do this, you must specify 'dtype=object' when creating the ndarray.\n",
      "  return asarray(a).ndim\n"
     ]
    },
    {
     "name": "stdout",
     "output_type": "stream",
     "text": [
      "Applying [D:/github/lfs-cleaning/travel-model-two-networks\\project_cards\\sfmta-route-306-edits.yml]:SFMTA Route 306 Edits\n",
      "Applying Project to Transit Network: SFMTA Route 306 Edits\n",
      "Applying [D:/github/lfs-cleaning/travel-model-two-networks\\project_cards\\sfmta-route-306-edits.yml]:SFMTA Route 306 Edits\n",
      "Applying Project to Transit Network: SFMTA Route 306 Edits\n",
      "Applying [D:/github/lfs-cleaning/travel-model-two-networks\\project_cards\\sfmta-route-306-edits.yml]:SFMTA Route 306 Edits\n",
      "Applying Project to Transit Network: SFMTA Route 306 Edits\n",
      "Applying [D:/github/lfs-cleaning/travel-model-two-networks\\project_cards\\sfmta-route-305-edits.yml]:SFMTA Route 305 Edits\n",
      "Applying [D:/github/lfs-cleaning/travel-model-two-networks\\project_cards\\sfmta-route-305-edits.yml]:SFMTA Route 305 Edits\n",
      "Applying Project to Transit Network: SFMTA Route 305 Edits\n",
      "Applying [D:/github/lfs-cleaning/travel-model-two-networks\\project_cards\\sfmta-route-305-edits.yml]:SFMTA Route 305 Edits\n",
      "Applying Project to Transit Network: SFMTA Route 305 Edits\n",
      "Applying [D:/github/lfs-cleaning/travel-model-two-networks\\project_cards\\sfmta-route-304-edits.yml]:SFMTA Route 304 Edits\n",
      "Applying [D:/github/lfs-cleaning/travel-model-two-networks\\project_cards\\sfmta-route-304-edits.yml]:SFMTA Route 304 Edits\n",
      "Applying Project to Transit Network: SFMTA Route 304 Edits\n",
      "Creating a new stop in stops.txt for node ID: 1020320\n"
     ]
    },
    {
     "name": "stderr",
     "output_type": "stream",
     "text": [
      "c:\\Users\\wangs1\\AppData\\Local\\Continuum\\anaconda3\\envs\\lasso_bayarea\\lib\\site-packages\\numpy\\core\\fromnumeric.py:3162: VisibleDeprecationWarning: Creating an ndarray from ragged nested sequences (which is a list-or-tuple of lists-or-tuples-or ndarrays with different lengths or shapes) is deprecated. If you meant to do this, you must specify 'dtype=object' when creating the ndarray.\n",
      "  return asarray(a).ndim\n"
     ]
    },
    {
     "name": "stdout",
     "output_type": "stream",
     "text": [
      "Applying [D:/github/lfs-cleaning/travel-model-two-networks\\project_cards\\sfmta-route-304-edits.yml]:SFMTA Route 304 Edits\n",
      "Applying Project to Transit Network: SFMTA Route 304 Edits\n",
      "Applying [D:/github/lfs-cleaning/travel-model-two-networks\\project_cards\\sfmta-route-304-edits.yml]:SFMTA Route 304 Edits\n",
      "Applying Project to Transit Network: SFMTA Route 304 Edits\n",
      "Applying [D:/github/lfs-cleaning/travel-model-two-networks\\project_cards\\sfmta-route-304-edits.yml]:SFMTA Route 304 Edits\n",
      "Applying Project to Transit Network: SFMTA Route 304 Edits\n",
      "Applying [D:/github/lfs-cleaning/travel-model-two-networks\\project_cards\\sf-bay-ferry-vallejo.wrangler]:sf bay ferry vallejo\n",
      "Applying Project to Transit Network: sf bay ferry vallejo\n",
      "Applying [D:/github/lfs-cleaning/travel-model-two-networks\\project_cards\\sf-bay-ferry-links-vallejo.yml]:sf bay ferry vallejo missing link\n",
      "Applying [D:/github/lfs-cleaning/travel-model-two-networks\\project_cards\\sf-bay-ferry-links-vallejo.yml]:sf bay ferry vallejo missing link\n",
      "Applying Project to Roadway Network: sf bay ferry vallejo missing link\n",
      "Applying [D:/github/lfs-cleaning/travel-model-two-networks\\project_cards\\sf-bay-ferry-links-vallejo.yml]:sf bay ferry vallejo missing link\n",
      "Applying Project to Roadway Network: sf bay ferry vallejo missing link\n",
      "Applying [D:/github/lfs-cleaning/travel-model-two-networks\\project_cards\\sf-bay-ferry-links-vallejo.yml]:sf bay ferry vallejo missing link\n",
      "Applying Project to Roadway Network: sf bay ferry vallejo missing link\n",
      "Applying [D:/github/lfs-cleaning/travel-model-two-networks\\project_cards\\sf-bay-ferry-links-vallejo.yml]:sf bay ferry vallejo missing link\n",
      "Applying Project to Roadway Network: sf bay ferry vallejo missing link\n",
      "Applying [D:/github/lfs-cleaning/travel-model-two-networks\\project_cards\\sf-bay-ferry-links-alameda.yml]:sf bay ferry missing link\n",
      "Applying [D:/github/lfs-cleaning/travel-model-two-networks\\project_cards\\sf-bay-ferry-links-alameda.yml]:sf bay ferry missing link\n",
      "Applying Project to Roadway Network: sf bay ferry missing link\n",
      "Applying [D:/github/lfs-cleaning/travel-model-two-networks\\project_cards\\sf-bay-ferry-links-alameda.yml]:sf bay ferry missing link\n",
      "Applying Project to Roadway Network: sf bay ferry missing link\n",
      "Applying [D:/github/lfs-cleaning/travel-model-two-networks\\project_cards\\sf-bay-ferry-links-alameda.yml]:sf bay ferry missing link\n",
      "Applying Project to Roadway Network: sf bay ferry missing link\n",
      "Applying [D:/github/lfs-cleaning/travel-model-two-networks\\project_cards\\sf-bay-ferry-links-alameda.yml]:sf bay ferry missing link\n",
      "Applying Project to Roadway Network: sf bay ferry missing link\n",
      "Applying [D:/github/lfs-cleaning/travel-model-two-networks\\project_cards\\sf-bay-ferry-alameda.wrangler]:sf bay ferry al-ok-sf\n",
      "Applying Project to Transit Network: sf bay ferry al-ok-sf\n",
      "Applying [D:/github/lfs-cleaning/travel-model-two-networks\\project_cards\\SamTrans-route-459-edits.yml]:year 2015 samtrans route ecr edits\n",
      "Applying [D:/github/lfs-cleaning/travel-model-two-networks\\project_cards\\SamTrans-route-459-edits.yml]:year 2015 samtrans route ecr edits\n",
      "Applying Project to Transit Network: year 2015 samtrans route ecr edits\n",
      "Creating a new stop in stops.txt for node ID: 2036044\n",
      "Creating a new stop in stops.txt for node ID: 1511493\n",
      "Creating a new stop in stops.txt for node ID: 1516920\n",
      "Creating a new stop in stops.txt for node ID: 1525498\n",
      "Creating a new stop in stops.txt for node ID: 1516256\n",
      "Creating a new stop in stops.txt for node ID: 1513094\n",
      "Creating a new stop in stops.txt for node ID: 1513976\n",
      "Creating a new stop in stops.txt for node ID: 1528479\n",
      "Creating a new stop in stops.txt for node ID: 1529690\n",
      "Creating a new stop in stops.txt for node ID: 1529454\n",
      "Creating a new stop in stops.txt for node ID: 1519622\n",
      "Creating a new stop in stops.txt for node ID: 1513122\n",
      "Creating a new stop in stops.txt for node ID: 1514054\n",
      "Creating a new stop in stops.txt for node ID: 1543182\n",
      "Creating a new stop in stops.txt for node ID: 1512385\n"
     ]
    },
    {
     "name": "stderr",
     "output_type": "stream",
     "text": [
      "c:\\Users\\wangs1\\AppData\\Local\\Continuum\\anaconda3\\envs\\lasso_bayarea\\lib\\site-packages\\numpy\\core\\fromnumeric.py:3162: VisibleDeprecationWarning: Creating an ndarray from ragged nested sequences (which is a list-or-tuple of lists-or-tuples-or ndarrays with different lengths or shapes) is deprecated. If you meant to do this, you must specify 'dtype=object' when creating the ndarray.\n",
      "  return asarray(a).ndim\n"
     ]
    },
    {
     "name": "stdout",
     "output_type": "stream",
     "text": [
      "Creating a new stop in stops.txt for node ID: 1534620\n",
      "Creating a new stop in stops.txt for node ID: 1503246\n",
      "Creating a new stop in stops.txt for node ID: 1537667\n",
      "Creating a new stop in stops.txt for node ID: 1538028\n",
      "Creating a new stop in stops.txt for node ID: 1526122\n",
      "Applying [D:/github/lfs-cleaning/travel-model-two-networks\\project_cards\\SamTrans-route-459-edits.yml]:year 2015 samtrans route ecr edits\n",
      "Applying Project to Transit Network: year 2015 samtrans route ecr edits\n",
      "Creating a new stop in stops.txt for node ID: 1519051\n",
      "Creating a new stop in stops.txt for node ID: 1503077\n",
      "Creating a new stop in stops.txt for node ID: 1508313\n",
      "Creating a new stop in stops.txt for node ID: 1508126\n",
      "Creating a new stop in stops.txt for node ID: 1537888\n",
      "Creating a new stop in stops.txt for node ID: 1519350\n",
      "Creating a new stop in stops.txt for node ID: 1516319\n",
      "Creating a new stop in stops.txt for node ID: 1509775\n",
      "Creating a new stop in stops.txt for node ID: 1536669\n"
     ]
    },
    {
     "name": "stderr",
     "output_type": "stream",
     "text": [
      "c:\\Users\\wangs1\\AppData\\Local\\Continuum\\anaconda3\\envs\\lasso_bayarea\\lib\\site-packages\\numpy\\core\\fromnumeric.py:3162: VisibleDeprecationWarning: Creating an ndarray from ragged nested sequences (which is a list-or-tuple of lists-or-tuples-or ndarrays with different lengths or shapes) is deprecated. If you meant to do this, you must specify 'dtype=object' when creating the ndarray.\n",
      "  return asarray(a).ndim\n"
     ]
    },
    {
     "name": "stdout",
     "output_type": "stream",
     "text": [
      "Applying [D:/github/lfs-cleaning/travel-model-two-networks\\project_cards\\SamTrans-route-459-new-stop-node-farezones.wrangler]:samtrans route ecr new stop nodes farezone assignment\n",
      "Applying Project to Transit Network: samtrans route ecr new stop nodes farezone assignment\n",
      "Applying [D:/github/lfs-cleaning/travel-model-two-networks\\project_cards\\SamTrans-route-393-edits.yml]:year 2015 samtrans route 120 edits\n",
      "Applying [D:/github/lfs-cleaning/travel-model-two-networks\\project_cards\\SamTrans-route-393-edits.yml]:year 2015 samtrans route 120 edits\n",
      "Applying Project to Transit Network: year 2015 samtrans route 120 edits\n",
      "Creating a new stop in stops.txt for node ID: 1523872\n",
      "Creating a new stop in stops.txt for node ID: 1545076\n",
      "Creating a new stop in stops.txt for node ID: 1503345\n",
      "Creating a new stop in stops.txt for node ID: 1519909\n",
      "Creating a new stop in stops.txt for node ID: 1504028\n",
      "Creating a new stop in stops.txt for node ID: 1514714\n"
     ]
    },
    {
     "name": "stderr",
     "output_type": "stream",
     "text": [
      "c:\\Users\\wangs1\\AppData\\Local\\Continuum\\anaconda3\\envs\\lasso_bayarea\\lib\\site-packages\\numpy\\core\\fromnumeric.py:3162: VisibleDeprecationWarning: Creating an ndarray from ragged nested sequences (which is a list-or-tuple of lists-or-tuples-or ndarrays with different lengths or shapes) is deprecated. If you meant to do this, you must specify 'dtype=object' when creating the ndarray.\n",
      "  return asarray(a).ndim\n"
     ]
    },
    {
     "name": "stdout",
     "output_type": "stream",
     "text": [
      "Applying [D:/github/lfs-cleaning/travel-model-two-networks\\project_cards\\SamTrans-route-393-edits.yml]:year 2015 samtrans route 120 edits\n",
      "Applying Project to Transit Network: year 2015 samtrans route 120 edits\n",
      "Creating a new stop in stops.txt for node ID: 1506746\n"
     ]
    },
    {
     "name": "stderr",
     "output_type": "stream",
     "text": [
      "c:\\Users\\wangs1\\AppData\\Local\\Continuum\\anaconda3\\envs\\lasso_bayarea\\lib\\site-packages\\numpy\\core\\fromnumeric.py:3162: VisibleDeprecationWarning: Creating an ndarray from ragged nested sequences (which is a list-or-tuple of lists-or-tuples-or ndarrays with different lengths or shapes) is deprecated. If you meant to do this, you must specify 'dtype=object' when creating the ndarray.\n",
      "  return asarray(a).ndim\n"
     ]
    },
    {
     "name": "stdout",
     "output_type": "stream",
     "text": [
      "Applying [D:/github/lfs-cleaning/travel-model-two-networks\\project_cards\\SamTrans-route-393-new-stop-node-farezones.wrangler]:samtrans route 120 new stop nodes farezone assignment\n",
      "Applying Project to Transit Network: samtrans route 120 new stop nodes farezone assignment\n",
      "Applying [D:/github/lfs-cleaning/travel-model-two-networks\\project_cards\\ggferries-change-fare-from-zonal-to-flat-remove-fare-zone.wrangler]:change gg ferries from zonal to flat fare\n",
      "Applying Project to Transit Network: change gg ferries from zonal to flat fare\n",
      "Applying [D:/github/lfs-cleaning/travel-model-two-networks\\project_cards\\fairfield-transit-add-fare-zone-id.wrangler]:change fairfield transit fare from flat to zonal\n",
      "Applying Project to Transit Network: change fairfield transit fare from flat to zonal\n",
      "Applying [D:/github/lfs-cleaning/travel-model-two-networks\\project_cards\\ea-ev-frequencies-correction.wrangler]:correct ea and ev frequencies\n",
      "Applying Project to Transit Network: correct ea and ev frequencies\n",
      "Applying [D:/github/lfs-cleaning/travel-model-two-networks\\project_cards\\bart_yellow_line_southbound_am_stops.wrangler]:change am southbound BART yellow line stopping pattern\n",
      "Applying Project to Transit Network: change am southbound BART yellow line stopping pattern\n",
      "Applying [D:/github/lfs-cleaning/travel-model-two-networks\\project_cards\\bart-fremont-daly-city-reverse-shape.yml]:BART Fremont Daly City reverse shape\n",
      "Applying [D:/github/lfs-cleaning/travel-model-two-networks\\project_cards\\bart-fremont-daly-city-reverse-shape.yml]:BART Fremont Daly City reverse shape\n",
      "Applying Project to Transit Network: BART Fremont Daly City reverse shape\n",
      "Applying [D:/github/lfs-cleaning/travel-model-two-networks\\project_cards\\bart-fremont-daly-city-reverse-shape.yml]:BART Fremont Daly City reverse shape\n",
      "Applying Project to Transit Network: BART Fremont Daly City reverse shape\n",
      "Applying [D:/github/lfs-cleaning/travel-model-two-networks\\project_cards\\bart-19th-and-macarthur.wrangler]:change southbound BART 19th and marcarthur station node id\n",
      "Applying Project to Transit Network: change southbound BART 19th and marcarthur station node id\n",
      "Applying [D:/github/lfs-cleaning/travel-model-two-networks\\project_cards\\ACTransit_1R.yml]:year 2015 ac transit route 1r\n",
      "Applying [D:/github/lfs-cleaning/travel-model-two-networks\\project_cards\\ACTransit_1R.yml]:year 2015 ac transit route 1r\n",
      "Applying Project to Transit Network: year 2015 ac transit route 1r\n",
      "Creating a new stop in stops.txt for node ID: 2502166\n",
      "Creating a new stop in stops.txt for node ID: 2503906\n"
     ]
    },
    {
     "name": "stderr",
     "output_type": "stream",
     "text": [
      "c:\\Users\\wangs1\\AppData\\Local\\Continuum\\anaconda3\\envs\\lasso_bayarea\\lib\\site-packages\\numpy\\core\\fromnumeric.py:3162: VisibleDeprecationWarning: Creating an ndarray from ragged nested sequences (which is a list-or-tuple of lists-or-tuples-or ndarrays with different lengths or shapes) is deprecated. If you meant to do this, you must specify 'dtype=object' when creating the ndarray.\n",
      "  return asarray(a).ndim\n"
     ]
    },
    {
     "name": "stdout",
     "output_type": "stream",
     "text": [
      "Applying [D:/github/lfs-cleaning/travel-model-two-networks\\project_cards\\ACTransit_1.yml]:year 2015 ac transit route 1\n",
      "Applying [D:/github/lfs-cleaning/travel-model-two-networks\\project_cards\\ACTransit_1.yml]:year 2015 ac transit route 1\n",
      "Applying Project to Transit Network: year 2015 ac transit route 1\n",
      "Missing connections from node 2576452 to node 2569242 for the new routing, find complete path using default graph\n",
      "Routing path from node 2576452 to node 2569242 for missing connections: ['2576452', '2543814', '2569242'].\n",
      "Creating a new stop in stops.txt for node ID: 2500686\n",
      "Creating a new stop in stops.txt for node ID: 2598641\n",
      "Creating a new stop in stops.txt for node ID: 2581780\n"
     ]
    },
    {
     "name": "stderr",
     "output_type": "stream",
     "text": [
      "c:\\Users\\wangs1\\AppData\\Local\\Continuum\\anaconda3\\envs\\lasso_bayarea\\lib\\site-packages\\numpy\\core\\fromnumeric.py:3162: VisibleDeprecationWarning: Creating an ndarray from ragged nested sequences (which is a list-or-tuple of lists-or-tuples-or ndarrays with different lengths or shapes) is deprecated. If you meant to do this, you must specify 'dtype=object' when creating the ndarray.\n",
      "  return asarray(a).ndim\n"
     ]
    },
    {
     "name": "stdout",
     "output_type": "stream",
     "text": [
      "Applying [D:/github/lfs-cleaning/travel-model-two-networks\\project_cards\\ACTransit_1.yml]:year 2015 ac transit route 1\n",
      "Applying Project to Transit Network: year 2015 ac transit route 1\n",
      "Missing connections from node 2592075 to node 2596647 for the new routing, find complete path using default graph\n",
      "Routing path from node 2592075 to node 2596647 for missing connections: ['2592075', '2570072', '2500672', '2505644', '2514527', '2576504', '2596647'].\n",
      "Missing connections from node 2600447 to node 2530653 for the new routing, find complete path using default graph\n",
      "Routing path from node 2600447 to node 2530653 for missing connections: ['2600447', '2527591', '2530653'].\n",
      "Creating a new stop in stops.txt for node ID: 2596647\n",
      "Creating a new stop in stops.txt for node ID: 2564008\n",
      "Creating a new stop in stops.txt for node ID: 2522518\n",
      "Creating a new stop in stops.txt for node ID: 2600447\n"
     ]
    },
    {
     "name": "stderr",
     "output_type": "stream",
     "text": [
      "c:\\Users\\wangs1\\AppData\\Local\\Continuum\\anaconda3\\envs\\lasso_bayarea\\lib\\site-packages\\numpy\\core\\fromnumeric.py:3162: VisibleDeprecationWarning: Creating an ndarray from ragged nested sequences (which is a list-or-tuple of lists-or-tuples-or ndarrays with different lengths or shapes) is deprecated. If you meant to do this, you must specify 'dtype=object' when creating the ndarray.\n",
      "  return asarray(a).ndim\n"
     ]
    },
    {
     "name": "stdout",
     "output_type": "stream",
     "text": [
      "Applying [D:/github/lfs-cleaning/travel-model-two-networks\\project_cards\\ac-transit-route-99-edits.yml]:year 2015 ac transit route 99 edits\n",
      "Applying [D:/github/lfs-cleaning/travel-model-two-networks\\project_cards\\ac-transit-route-99-edits.yml]:year 2015 ac transit route 99 edits\n",
      "Applying Project to Transit Network: year 2015 ac transit route 99 edits\n",
      "Creating a new stop in stops.txt for node ID: 2583806\n",
      "Creating a new stop in stops.txt for node ID: 3064176\n",
      "Creating a new stop in stops.txt for node ID: 3024575\n",
      "Creating a new stop in stops.txt for node ID: 3069892\n",
      "Creating a new stop in stops.txt for node ID: 3018955\n",
      "Creating a new stop in stops.txt for node ID: 3029560\n"
     ]
    },
    {
     "name": "stderr",
     "output_type": "stream",
     "text": [
      "c:\\Users\\wangs1\\AppData\\Local\\Continuum\\anaconda3\\envs\\lasso_bayarea\\lib\\site-packages\\numpy\\core\\fromnumeric.py:3162: VisibleDeprecationWarning: Creating an ndarray from ragged nested sequences (which is a list-or-tuple of lists-or-tuples-or ndarrays with different lengths or shapes) is deprecated. If you meant to do this, you must specify 'dtype=object' when creating the ndarray.\n",
      "  return asarray(a).ndim\n"
     ]
    },
    {
     "name": "stdout",
     "output_type": "stream",
     "text": [
      "Applying [D:/github/lfs-cleaning/travel-model-two-networks\\project_cards\\ac-transit-route-99-edits.yml]:year 2015 ac transit route 99 edits\n",
      "Applying Project to Transit Network: year 2015 ac transit route 99 edits\n",
      "Creating a new stop in stops.txt for node ID: 3032871\n",
      "Creating a new stop in stops.txt for node ID: 2517944\n",
      "Creating a new stop in stops.txt for node ID: 2528537\n",
      "Creating a new stop in stops.txt for node ID: 2570800\n",
      "Creating a new stop in stops.txt for node ID: 2600747\n"
     ]
    },
    {
     "name": "stderr",
     "output_type": "stream",
     "text": [
      "c:\\Users\\wangs1\\AppData\\Local\\Continuum\\anaconda3\\envs\\lasso_bayarea\\lib\\site-packages\\numpy\\core\\fromnumeric.py:3162: VisibleDeprecationWarning: Creating an ndarray from ragged nested sequences (which is a list-or-tuple of lists-or-tuples-or ndarrays with different lengths or shapes) is deprecated. If you meant to do this, you must specify 'dtype=object' when creating the ndarray.\n",
      "  return asarray(a).ndim\n"
     ]
    },
    {
     "name": "stdout",
     "output_type": "stream",
     "text": [
      "Applying [D:/github/lfs-cleaning/travel-model-two-networks\\project_cards\\ac-transit-route-40-edits.yml]:year 2015 ac transit route 40 edits\n",
      "Applying [D:/github/lfs-cleaning/travel-model-two-networks\\project_cards\\ac-transit-route-40-edits.yml]:year 2015 ac transit route 40 edits\n",
      "Applying Project to Transit Network: year 2015 ac transit route 40 edits\n",
      "Applying [D:/github/lfs-cleaning/travel-model-two-networks\\project_cards\\ac-transit-route-38-edits.yml]:year 2015 ac transit route 38 edits\n",
      "Applying [D:/github/lfs-cleaning/travel-model-two-networks\\project_cards\\ac-transit-route-38-edits.yml]:year 2015 ac transit route 38 edits\n",
      "Applying Project to Transit Network: year 2015 ac transit route 38 edits\n",
      "Creating a new stop in stops.txt for node ID: 2503531\n",
      "Creating a new stop in stops.txt for node ID: 2539453\n",
      "Creating a new stop in stops.txt for node ID: 2564896\n"
     ]
    },
    {
     "name": "stderr",
     "output_type": "stream",
     "text": [
      "c:\\Users\\wangs1\\AppData\\Local\\Continuum\\anaconda3\\envs\\lasso_bayarea\\lib\\site-packages\\numpy\\core\\fromnumeric.py:3162: VisibleDeprecationWarning: Creating an ndarray from ragged nested sequences (which is a list-or-tuple of lists-or-tuples-or ndarrays with different lengths or shapes) is deprecated. If you meant to do this, you must specify 'dtype=object' when creating the ndarray.\n",
      "  return asarray(a).ndim\n"
     ]
    },
    {
     "name": "stdout",
     "output_type": "stream",
     "text": [
      "Applying [D:/github/lfs-cleaning/travel-model-two-networks\\project_cards\\ac-transit-route-06-edits.yml]:year 2015 ac transit route 06 edits\n",
      "Applying [D:/github/lfs-cleaning/travel-model-two-networks\\project_cards\\ac-transit-route-06-edits.yml]:year 2015 ac transit route 06 edits\n",
      "Applying Project to Transit Network: year 2015 ac transit route 06 edits\n",
      "Creating a new stop in stops.txt for node ID: 2592196\n",
      "Creating a new stop in stops.txt for node ID: 2606436\n",
      "Creating a new stop in stops.txt for node ID: 2519741\n",
      "Creating a new stop in stops.txt for node ID: 2571302\n",
      "Creating a new stop in stops.txt for node ID: 2576003\n",
      "Creating a new stop in stops.txt for node ID: 2521855\n"
     ]
    },
    {
     "name": "stderr",
     "output_type": "stream",
     "text": [
      "c:\\Users\\wangs1\\AppData\\Local\\Continuum\\anaconda3\\envs\\lasso_bayarea\\lib\\site-packages\\numpy\\core\\fromnumeric.py:3162: VisibleDeprecationWarning: Creating an ndarray from ragged nested sequences (which is a list-or-tuple of lists-or-tuples-or ndarrays with different lengths or shapes) is deprecated. If you meant to do this, you must specify 'dtype=object' when creating the ndarray.\n",
      "  return asarray(a).ndim\n"
     ]
    },
    {
     "name": "stdout",
     "output_type": "stream",
     "text": [
      "Applying [D:/github/lfs-cleaning/travel-model-two-networks\\project_cards\\ac-transit-fare-system-change.wrangler]:ac transit fare system change to zonal fare\n",
      "Applying Project to Transit Network: ac transit fare system change to zonal fare\n"
     ]
    }
   ],
   "source": [
    "step3_scenario.transit_net.set_roadnet(step3_scenario.road_net, \n",
    "                                      validate_consistency = False)\n",
    "\n",
    "step4_scenario = Scenario.create_scenario(\n",
    "    base_scenario= step3_scenario,\n",
    "    card_directory = card_dir,\n",
    "    project_cards_list = [],\n",
    "    tags = [\"Minor Transit\", \"Add Transit\", \"Major Transit\", \"Toll Plaza Transit\"],\n",
    "    validate_project_cards=False)\n",
    "\n",
    "step4_scenario.apply_all_projects()"
   ]
  },
  {
   "cell_type": "code",
   "execution_count": 32,
   "metadata": {},
   "outputs": [
    {
     "data": {
      "text/plain": [
       "5354    2625944\n",
       "5355    2625944\n",
       "Name: model_node_id, dtype: object"
      ]
     },
     "execution_count": 32,
     "metadata": {},
     "output_type": "execute_result"
    }
   ],
   "source": [
    "step4_scenario.transit_net.feed.stop_times[step4_scenario.transit_net.feed.stop_times.trip_id == \"5877\"]\n",
    "step4_scenario.transit_net.feed.frequencies.loc[step4_scenario.transit_net.feed.frequencies.trip_id == \"116\", \"headway_secs\"]\n",
    "step4_scenario.transit_net.feed.stops.loc[(step4_scenario.transit_net.feed.stops.stop_name == \"19th St. Oakland\") & (step4_scenario.transit_net.feed.stops.agency_raw_name == \"BART_2015_8_3\"), \"model_node_id\"]"
   ]
  },
  {
   "cell_type": "code",
   "execution_count": 33,
   "metadata": {},
   "outputs": [
    {
     "name": "stdout",
     "output_type": "stream",
     "text": [
      "Adding centroid and centroid connector to standard network\n",
      "Lasso base directory set as: Z:/Data/Users/Sijia/MTC/github/Lasso\n",
      "Lasso base directory set as: Z:/Data/Users/Sijia/MTC/github/Lasso\n",
      "Finished adding centroid and centroid connectors\n"
     ]
    }
   ],
   "source": [
    "step4_scenario.road_net = mtc.add_centroid_and_centroid_connector(\n",
    "    roadway_network = step4_scenario.road_net,\n",
    "    parameters = parameters)"
   ]
  },
  {
   "cell_type": "code",
   "execution_count": 34,
   "metadata": {},
   "outputs": [
    {
     "name": "stdout",
     "output_type": "stream",
     "text": [
      "(2199316, 44)\n",
      "2199316\n",
      "(688964, 12)\n",
      "688964\n",
      "(1152265, 6)\n"
     ]
    }
   ],
   "source": [
    "print(step4_scenario.road_net.links_df.shape)\n",
    "print(step4_scenario.road_net.links_df.model_link_id.nunique())\n",
    "print(step4_scenario.road_net.nodes_df.shape)\n",
    "print(step4_scenario.road_net.nodes_df.model_node_id.nunique())\n",
    "print(step4_scenario.road_net.shapes_df.shape)"
   ]
  },
  {
   "cell_type": "code",
   "execution_count": 35,
   "metadata": {},
   "outputs": [
    {
     "data": {
      "text/plain": [
       "[{'sequence': 1,\n",
       "  'point': [-122.50580293859502, 37.94830473568058],\n",
       "  'distanceToNextRef': 51.382886808196375,\n",
       "  'bearing': 0,\n",
       "  'intersectionId': nan},\n",
       " {'sequence': 2,\n",
       "  'point': [-122.50576480000001, 37.9487303],\n",
       "  'intersectionId': '44c53879b5a9797cbb2eff72b5f64699'}]"
      ]
     },
     "execution_count": 35,
     "metadata": {},
     "output_type": "execute_result"
    }
   ],
   "source": [
    "step4_scenario.road_net.links_df.locationReferences.iloc[-1]"
   ]
  },
  {
   "cell_type": "code",
   "execution_count": 36,
   "metadata": {
    "scrolled": true
   },
   "outputs": [
    {
     "name": "stdout",
     "output_type": "stream",
     "text": [
      "Creating Scenario\n"
     ]
    },
    {
     "name": "stderr",
     "output_type": "stream",
     "text": [
      "z:\\data\\users\\sijia\\mtc\\github\\network_wrangler\\network_wrangler\\projectcard.py:115: YAMLLoadWarning: calling yaml.load() without Loader=... is deprecated, as the default Loader is unsafe. Please read https://msg.pyyaml.org/load for full details.\n",
      "  attribute_dictionary = yaml.load(_yaml)\n"
     ]
    },
    {
     "name": "stdout",
     "output_type": "stream",
     "text": [
      "Applying [D:/github/lfs-cleaning/travel-model-two-networks\\project_cards\\year_2015_new_roadway_william_elton_brown_freeway_I-580_centroid_connector SB.yaml]:Year 2015 Add centroid connector at External Station connecting William Elton Brown Freeway I-580 SB\n",
      "Applying [D:/github/lfs-cleaning/travel-model-two-networks\\project_cards\\year_2015_new_roadway_william_elton_brown_freeway_I-580_centroid_connector SB.yaml]:Year 2015 Add centroid connector at External Station connecting William Elton Brown Freeway I-580 SB\n",
      "Applying Project to Roadway Network: Year 2015 Add centroid connector at External Station connecting William Elton Brown Freeway I-580 SB\n",
      "Applying [D:/github/lfs-cleaning/travel-model-two-networks\\project_cards\\year_2015_new_roadway_william_elton_brown_freeway_I-580_centroid_connector NB.yaml]:Year 2015 Add centroid connector at External Station connecting William Elton Brown Freeway I-580 NB\n",
      "Applying [D:/github/lfs-cleaning/travel-model-two-networks\\project_cards\\year_2015_new_roadway_william_elton_brown_freeway_I-580_centroid_connector NB.yaml]:Year 2015 Add centroid connector at External Station connecting William Elton Brown Freeway I-580 NB\n",
      "Applying Project to Roadway Network: Year 2015 Add centroid connector at External Station connecting William Elton Brown Freeway I-580 NB\n",
      "Applying [D:/github/lfs-cleaning/travel-model-two-networks\\project_cards\\year_2015_new_roadway_viz_fazio_highway_CA-113_centroid_connector NB.yaml]:Year 2015 Add centroid connector at External Station connecting Vic Fazio Highway CA-113 NB\n",
      "Applying [D:/github/lfs-cleaning/travel-model-two-networks\\project_cards\\year_2015_new_roadway_viz_fazio_highway_CA-113_centroid_connector NB.yaml]:Year 2015 Add centroid connector at External Station connecting Vic Fazio Highway CA-113 NB\n",
      "Applying Project to Roadway Network: Year 2015 Add centroid connector at External Station connecting Vic Fazio Highway CA-113 NB\n",
      "Applying [D:/github/lfs-cleaning/travel-model-two-networks\\project_cards\\year_2015_new_roadway_vic_fazio_highway_CA-113_centroid_connector SB.yaml]:Year 2015 Add centroid connector at External Station connecting Vic Fazio Freeway CA-113 SB\n",
      "Applying [D:/github/lfs-cleaning/travel-model-two-networks\\project_cards\\year_2015_new_roadway_vic_fazio_highway_CA-113_centroid_connector SB.yaml]:Year 2015 Add centroid connector at External Station connecting Vic Fazio Freeway CA-113 SB\n",
      "Applying Project to Roadway Network: Year 2015 Add centroid connector at External Station connecting Vic Fazio Freeway CA-113 SB\n",
      "Applying [D:/github/lfs-cleaning/travel-model-two-networks\\project_cards\\year_2015_new_roadway_south_valley_freeway_US-101_centroid_connector SB.yaml]:Year 2015 Add centroid connector at External Station connecting South Valley Freeway US-101 SB\n",
      "Applying [D:/github/lfs-cleaning/travel-model-two-networks\\project_cards\\year_2015_new_roadway_south_valley_freeway_US-101_centroid_connector SB.yaml]:Year 2015 Add centroid connector at External Station connecting South Valley Freeway US-101 SB\n",
      "Applying Project to Roadway Network: Year 2015 Add centroid connector at External Station connecting South Valley Freeway US-101 SB\n",
      "Applying [D:/github/lfs-cleaning/travel-model-two-networks\\project_cards\\year_2015_new_roadway_south_valley_freeway_US-101_centroid_connector NB.yaml]:Year 2015 Add centroid connector at External Station connecting South Valley Freeway US-101 NB\n",
      "Applying [D:/github/lfs-cleaning/travel-model-two-networks\\project_cards\\year_2015_new_roadway_south_valley_freeway_US-101_centroid_connector NB.yaml]:Year 2015 Add centroid connector at External Station connecting South Valley Freeway US-101 NB\n",
      "Applying Project to Roadway Network: Year 2015 Add centroid connector at External Station connecting South Valley Freeway US-101 NB\n",
      "Applying [D:/github/lfs-cleaning/travel-model-two-networks\\project_cards\\year_2015_new_roadway_skyline_boulevard_CA-35_centroid_connector SB.yaml]:Year 2015 Add centroid connector at External Station connecting Skyline Boulevard CA-35 SB\n",
      "Applying [D:/github/lfs-cleaning/travel-model-two-networks\\project_cards\\year_2015_new_roadway_skyline_boulevard_CA-35_centroid_connector SB.yaml]:Year 2015 Add centroid connector at External Station connecting Skyline Boulevard CA-35 SB\n",
      "Applying Project to Roadway Network: Year 2015 Add centroid connector at External Station connecting Skyline Boulevard CA-35 SB\n",
      "Applying [D:/github/lfs-cleaning/travel-model-two-networks\\project_cards\\year_2015_new_roadway_skyline_boulevard_CA-35_centroid_connector NB.yaml]:Year 2015 Add centroid connector at External Station connecting Skyline Boulevard CA-35 NB\n",
      "Applying [D:/github/lfs-cleaning/travel-model-two-networks\\project_cards\\year_2015_new_roadway_skyline_boulevard_CA-35_centroid_connector NB.yaml]:Year 2015 Add centroid connector at External Station connecting Skyline Boulevard CA-35 NB\n",
      "Applying Project to Roadway Network: Year 2015 Add centroid connector at External Station connecting Skyline Boulevard CA-35 NB\n",
      "Applying [D:/github/lfs-cleaning/travel-model-two-networks\\project_cards\\year_2015_new_roadway_santa_cruz_highway_CA-17_centroid_connector SB.yaml]:Year 2015 Add centroid connector at External Station connecting Santa Cruz Highway CA-17 SB\n",
      "Applying [D:/github/lfs-cleaning/travel-model-two-networks\\project_cards\\year_2015_new_roadway_santa_cruz_highway_CA-17_centroid_connector SB.yaml]:Year 2015 Add centroid connector at External Station connecting Santa Cruz Highway CA-17 SB\n",
      "Applying Project to Roadway Network: Year 2015 Add centroid connector at External Station connecting Santa Cruz Highway CA-17 SB\n",
      "Applying [D:/github/lfs-cleaning/travel-model-two-networks\\project_cards\\year_2015_new_roadway_santa_cruz_highway_CA-17_centroid_connector NB.yaml]:Year 2015 Add centroid connector at External Station connecting Santa Cruz Highway CA-17 NB\n",
      "Applying [D:/github/lfs-cleaning/travel-model-two-networks\\project_cards\\year_2015_new_roadway_santa_cruz_highway_CA-17_centroid_connector NB.yaml]:Year 2015 Add centroid connector at External Station connecting Santa Cruz Highway CA-17 NB\n",
      "Applying Project to Roadway Network: Year 2015 Add centroid connector at External Station connecting Santa Cruz Highway CA-17 NB\n",
      "Applying [D:/github/lfs-cleaning/travel-model-two-networks\\project_cards\\year_2015_new_roadway_redwood_highway_US-101_centroid_connector SB.yaml]:Year 2015 Add centroid connector at External Station connecting Redwood Highway US-101 SB\n",
      "Applying [D:/github/lfs-cleaning/travel-model-two-networks\\project_cards\\year_2015_new_roadway_redwood_highway_US-101_centroid_connector SB.yaml]:Year 2015 Add centroid connector at External Station connecting Redwood Highway US-101 SB\n",
      "Applying Project to Roadway Network: Year 2015 Add centroid connector at External Station connecting Redwood Highway US-101 SB\n",
      "Applying [D:/github/lfs-cleaning/travel-model-two-networks\\project_cards\\year_2015_new_roadway_redwood_highway_US-101_centroid_connector NB.yaml]:Year 2015 Add centroid connector at External Station connecting Redwood Highway US-101 NB\n",
      "Applying [D:/github/lfs-cleaning/travel-model-two-networks\\project_cards\\year_2015_new_roadway_redwood_highway_US-101_centroid_connector NB.yaml]:Year 2015 Add centroid connector at External Station connecting Redwood Highway US-101 NB\n",
      "Applying Project to Roadway Network: Year 2015 Add centroid connector at External Station connecting Redwood Highway US-101 NB\n",
      "Applying [D:/github/lfs-cleaning/travel-model-two-networks\\project_cards\\year_2015_new_roadway_pacheco_pass_highway_CA-156_centroid_connector SB.yaml]:Year 2015 Add centroid connector at External Station connecting Pacheco Pass Highway CA-156 SB\n",
      "Applying [D:/github/lfs-cleaning/travel-model-two-networks\\project_cards\\year_2015_new_roadway_pacheco_pass_highway_CA-156_centroid_connector SB.yaml]:Year 2015 Add centroid connector at External Station connecting Pacheco Pass Highway CA-156 SB\n",
      "Applying Project to Roadway Network: Year 2015 Add centroid connector at External Station connecting Pacheco Pass Highway CA-156 SB\n",
      "Applying [D:/github/lfs-cleaning/travel-model-two-networks\\project_cards\\year_2015_new_roadway_pacheco_pass_highway_CA-156_centroid_connector NB.yaml]:Year 2015 Add centroid connector at External Station connecting Pacheco Pass Highway CA-156 NB\n",
      "Applying [D:/github/lfs-cleaning/travel-model-two-networks\\project_cards\\year_2015_new_roadway_pacheco_pass_highway_CA-156_centroid_connector NB.yaml]:Year 2015 Add centroid connector at External Station connecting Pacheco Pass Highway CA-156 NB\n",
      "Applying Project to Roadway Network: Year 2015 Add centroid connector at External Station connecting Pacheco Pass Highway CA-156 NB\n",
      "Applying [D:/github/lfs-cleaning/travel-model-two-networks\\project_cards\\year_2015_new_roadway_pacheco_pass_highway_CA-152_SB_centroid_connector.yaml]:Year 2015 Add centroid connector at External Station connecting Pacheco Pass Highway CA-152 SB\n",
      "Applying [D:/github/lfs-cleaning/travel-model-two-networks\\project_cards\\year_2015_new_roadway_pacheco_pass_highway_CA-152_SB_centroid_connector.yaml]:Year 2015 Add centroid connector at External Station connecting Pacheco Pass Highway CA-152 SB\n",
      "Applying Project to Roadway Network: Year 2015 Add centroid connector at External Station connecting Pacheco Pass Highway CA-152 SB\n",
      "Applying [D:/github/lfs-cleaning/travel-model-two-networks\\project_cards\\year_2015_new_roadway_pacheco_pass_highway_CA-152_NB_centroid_connector.yaml]:Year 2015 Add centroid connector at External Station connecting Pacheco Pass Highway CA-152 NB\n",
      "Applying [D:/github/lfs-cleaning/travel-model-two-networks\\project_cards\\year_2015_new_roadway_pacheco_pass_highway_CA-152_NB_centroid_connector.yaml]:Year 2015 Add centroid connector at External Station connecting Pacheco Pass Highway CA-152 NB\n",
      "Applying Project to Roadway Network: Year 2015 Add centroid connector at External Station connecting Pacheco Pass Highway CA-152 NB\n",
      "Applying [D:/github/lfs-cleaning/travel-model-two-networks\\project_cards\\year_2015_new_roadway_I-505_centroid_connector SB.yaml]:Year 2015 Add centroid connector at External Station connecting I-505 SB\n",
      "Applying [D:/github/lfs-cleaning/travel-model-two-networks\\project_cards\\year_2015_new_roadway_I-505_centroid_connector SB.yaml]:Year 2015 Add centroid connector at External Station connecting I-505 SB\n",
      "Applying Project to Roadway Network: Year 2015 Add centroid connector at External Station connecting I-505 SB\n",
      "Applying [D:/github/lfs-cleaning/travel-model-two-networks\\project_cards\\year_2015_new_roadway_I-505_centroid_connector NB.yaml]:Year 2015 Add centroid connector at External Station connecting I-505 NB\n",
      "Applying [D:/github/lfs-cleaning/travel-model-two-networks\\project_cards\\year_2015_new_roadway_I-505_centroid_connector NB.yaml]:Year 2015 Add centroid connector at External Station connecting I-505 NB\n",
      "Applying Project to Roadway Network: Year 2015 Add centroid connector at External Station connecting I-505 NB\n",
      "Applying [D:/github/lfs-cleaning/travel-model-two-networks\\project_cards\\year_2015_new_roadway_geysers_road_centroid_connector SB.yaml]:Year 2015 Add centroid connector at External Station connecting Geysers Road SB\n",
      "Applying [D:/github/lfs-cleaning/travel-model-two-networks\\project_cards\\year_2015_new_roadway_geysers_road_centroid_connector SB.yaml]:Year 2015 Add centroid connector at External Station connecting Geysers Road SB\n",
      "Applying Project to Roadway Network: Year 2015 Add centroid connector at External Station connecting Geysers Road SB\n",
      "Applying [D:/github/lfs-cleaning/travel-model-two-networks\\project_cards\\year_2015_new_roadway_geysers_road_centroid_connector NB.yaml]:Year 2015 Add centroid connector at External Station connecting Geysers Road NB\n",
      "Applying [D:/github/lfs-cleaning/travel-model-two-networks\\project_cards\\year_2015_new_roadway_geysers_road_centroid_connector NB.yaml]:Year 2015 Add centroid connector at External Station connecting Geysers Road NB\n",
      "Applying Project to Roadway Network: Year 2015 Add centroid connector at External Station connecting Geysers Road NB\n",
      "Applying [D:/github/lfs-cleaning/travel-model-two-networks\\project_cards\\year_2015_new_roadway_dwight_d_eisenhower_highway_I-80_centroid_connector WB.yaml]:Year 2015 Add centroid connector at External Station connecting Dwight D Eisenhower Highway I-80 WB\n",
      "Applying [D:/github/lfs-cleaning/travel-model-two-networks\\project_cards\\year_2015_new_roadway_dwight_d_eisenhower_highway_I-80_centroid_connector WB.yaml]:Year 2015 Add centroid connector at External Station connecting Dwight D Eisenhower Highway I-80 WB\n",
      "Applying Project to Roadway Network: Year 2015 Add centroid connector at External Station connecting Dwight D Eisenhower Highway I-80 WB\n",
      "Applying [D:/github/lfs-cleaning/travel-model-two-networks\\project_cards\\year_2015_new_roadway_dwight_d_eisenhower_highway_I-80_centroid_connector EB.yaml]:Year 2015 Add centroid connector at External Station connecting Dwight D Eisenhower Highway I-80 EB\n",
      "Applying [D:/github/lfs-cleaning/travel-model-two-networks\\project_cards\\year_2015_new_roadway_dwight_d_eisenhower_highway_I-80_centroid_connector EB.yaml]:Year 2015 Add centroid connector at External Station connecting Dwight D Eisenhower Highway I-80 EB\n",
      "Applying Project to Roadway Network: Year 2015 Add centroid connector at External Station connecting Dwight D Eisenhower Highway I-80 EB\n",
      "Applying [D:/github/lfs-cleaning/travel-model-two-networks\\project_cards\\year_2015_new_roadway_cabrillo_highway_CA-1_centroid_connector SB.yaml]:Year 2015 Add centroid connector at External Station connecting Cabrillo Highway CA-1 SB\n",
      "Applying [D:/github/lfs-cleaning/travel-model-two-networks\\project_cards\\year_2015_new_roadway_cabrillo_highway_CA-1_centroid_connector SB.yaml]:Year 2015 Add centroid connector at External Station connecting Cabrillo Highway CA-1 SB\n",
      "Applying Project to Roadway Network: Year 2015 Add centroid connector at External Station connecting Cabrillo Highway CA-1 SB\n",
      "Applying [D:/github/lfs-cleaning/travel-model-two-networks\\project_cards\\year_2015_new_roadway_cabrillo_highway_CA-1_centroid_connector NB.yaml]:Year 2015 Add centroid connector at External Station connecting Cabrillo Highway CA-1 NB\n",
      "Applying [D:/github/lfs-cleaning/travel-model-two-networks\\project_cards\\year_2015_new_roadway_cabrillo_highway_CA-1_centroid_connector NB.yaml]:Year 2015 Add centroid connector at External Station connecting Cabrillo Highway CA-1 NB\n",
      "Applying Project to Roadway Network: Year 2015 Add centroid connector at External Station connecting Cabrillo Highway CA-1 NB\n",
      "Applying [D:/github/lfs-cleaning/travel-model-two-networks\\project_cards\\year_2015_new_roadway_antioch_bridge_CA-160_centroid_connector SB.yaml]:Year 2015 Add centroid connector at External Station connecting Antioch Bridge CA-160 SB\n",
      "Applying [D:/github/lfs-cleaning/travel-model-two-networks\\project_cards\\year_2015_new_roadway_antioch_bridge_CA-160_centroid_connector SB.yaml]:Year 2015 Add centroid connector at External Station connecting Antioch Bridge CA-160 SB\n",
      "Applying Project to Roadway Network: Year 2015 Add centroid connector at External Station connecting Antioch Bridge CA-160 SB\n",
      "Applying [D:/github/lfs-cleaning/travel-model-two-networks\\project_cards\\year_2015_new_roadway_antioch_bridge_CA-160_centroid_connector NB.yaml]:Year 2015 Add centroid connector at External Station connecting Antioch Bridge CA-160 NB\n",
      "Applying [D:/github/lfs-cleaning/travel-model-two-networks\\project_cards\\year_2015_new_roadway_antioch_bridge_CA-160_centroid_connector NB.yaml]:Year 2015 Add centroid connector at External Station connecting Antioch Bridge CA-160 NB\n",
      "Applying Project to Roadway Network: Year 2015 Add centroid connector at External Station connecting Antioch Bridge CA-160 NB\n"
     ]
    }
   ],
   "source": [
    "step5_scenario = Scenario.create_scenario(\n",
    "    base_scenario= step4_scenario,\n",
    "    card_directory = card_dir,\n",
    "    project_cards_list = [],\n",
    "    tags = ['External Stations Review'],\n",
    "    validate_project_cards=False)\n",
    "\n",
    "step5_scenario.apply_all_projects()"
   ]
  },
  {
   "cell_type": "code",
   "execution_count": 37,
   "metadata": {},
   "outputs": [
    {
     "name": "stdout",
     "output_type": "stream",
     "text": [
      "(2199342, 44)\n",
      "2199342\n",
      "(688964, 12)\n",
      "688964\n"
     ]
    }
   ],
   "source": [
    "print(step5_scenario.road_net.links_df.shape)\n",
    "print(step5_scenario.road_net.links_df.model_link_id.nunique())\n",
    "print(step5_scenario.road_net.nodes_df.shape)\n",
    "print(step5_scenario.road_net.nodes_df.model_node_id.nunique())"
   ]
  },
  {
   "cell_type": "code",
   "execution_count": 39,
   "metadata": {},
   "outputs": [
    {
     "name": "stdout",
     "output_type": "stream",
     "text": [
      "Adding tap and tap connector to standard network\n",
      "Lasso base directory set as: Z:/Data/Users/Sijia/MTC/github/Lasso\n",
      "Lasso base directory set as: Z:/Data/Users/Sijia/MTC/github/Lasso\n",
      "There are 601 stops not connected to taps, connecting them to the closest taps.\n",
      "snapping gtfs stops to roadway node osmid...\n"
     ]
    },
    {
     "name": "stderr",
     "output_type": "stream",
     "text": [
      "z:\\data\\users\\sijia\\mtc\\github\\lasso\\lasso\\mtc.py:2812: FutureWarning: CRS mismatch between CRS of the passed geometries and 'crs'. Use 'GeoDataFrame.set_crs(crs, allow_override=True)' to overwrite CRS or 'GeoDataFrame.to_crs(crs)' to reproject geometries. CRS mismatch will raise an error in the future versions of GeoPandas.\n",
      "  )\n"
     ]
    },
    {
     "name": "stdout",
     "output_type": "stream",
     "text": [
      "Finished adding tap and tap connectors\n"
     ]
    }
   ],
   "source": [
    "# add taps and tap connectors\n",
    "step5_scenario.road_net = mtc.add_tap_and_tap_connector(\n",
    "    roadway_network = step5_scenario.road_net,\n",
    "    transit_network = step5_scenario.transit_net, \n",
    "    parameters = parameters)"
   ]
  },
  {
   "cell_type": "code",
   "execution_count": 40,
   "metadata": {},
   "outputs": [
    {
     "data": {
      "text/html": [
       "<div>\n",
       "<style scoped>\n",
       "    .dataframe tbody tr th:only-of-type {\n",
       "        vertical-align: middle;\n",
       "    }\n",
       "\n",
       "    .dataframe tbody tr th {\n",
       "        vertical-align: top;\n",
       "    }\n",
       "\n",
       "    .dataframe thead th {\n",
       "        text-align: right;\n",
       "    }\n",
       "</style>\n",
       "<table border=\"1\" class=\"dataframe\">\n",
       "  <thead>\n",
       "    <tr style=\"text-align: right;\">\n",
       "      <th></th>\n",
       "      <th>A</th>\n",
       "      <th>B</th>\n",
       "    </tr>\n",
       "  </thead>\n",
       "  <tbody>\n",
       "    <tr>\n",
       "      <th>1632933</th>\n",
       "      <td>1027675</td>\n",
       "      <td>1027676</td>\n",
       "    </tr>\n",
       "    <tr>\n",
       "      <th>1633620</th>\n",
       "      <td>1007182</td>\n",
       "      <td>1027676</td>\n",
       "    </tr>\n",
       "    <tr>\n",
       "      <th>2221259</th>\n",
       "      <td>90035</td>\n",
       "      <td>1027676</td>\n",
       "    </tr>\n",
       "  </tbody>\n",
       "</table>\n",
       "</div>"
      ],
      "text/plain": [
       "               A        B\n",
       "1632933  1027675  1027676\n",
       "1633620  1007182  1027676\n",
       "2221259    90035  1027676"
      ]
     },
     "execution_count": 40,
     "metadata": {},
     "output_type": "execute_result"
    }
   ],
   "source": [
    "step5_scenario.road_net.links_df[step5_scenario.road_net.links_df.B == 1027676][['A', 'B']]"
   ]
  },
  {
   "cell_type": "code",
   "execution_count": 41,
   "metadata": {},
   "outputs": [
    {
     "data": {
      "text/html": [
       "<div>\n",
       "<style scoped>\n",
       "    .dataframe tbody tr th:only-of-type {\n",
       "        vertical-align: middle;\n",
       "    }\n",
       "\n",
       "    .dataframe tbody tr th {\n",
       "        vertical-align: top;\n",
       "    }\n",
       "\n",
       "    .dataframe thead th {\n",
       "        text-align: right;\n",
       "    }\n",
       "</style>\n",
       "<table border=\"1\" class=\"dataframe\">\n",
       "  <thead>\n",
       "    <tr style=\"text-align: right;\">\n",
       "      <th></th>\n",
       "      <th>osm_node_id</th>\n",
       "      <th>shst_node_id</th>\n",
       "      <th>county</th>\n",
       "      <th>drive_access</th>\n",
       "      <th>walk_access</th>\n",
       "      <th>bike_access</th>\n",
       "      <th>model_node_id</th>\n",
       "      <th>rail_only</th>\n",
       "      <th>X</th>\n",
       "      <th>Y</th>\n",
       "      <th>geometry</th>\n",
       "      <th>farezone</th>\n",
       "    </tr>\n",
       "  </thead>\n",
       "  <tbody>\n",
       "    <tr>\n",
       "      <th>643982</th>\n",
       "      <td>NaN</td>\n",
       "      <td>nan</td>\n",
       "      <td>San Francisco</td>\n",
       "      <td>0.0</td>\n",
       "      <td>1.0</td>\n",
       "      <td>0.0</td>\n",
       "      <td>1027677</td>\n",
       "      <td>1.0</td>\n",
       "      <td>-122.415307</td>\n",
       "      <td>37.805257</td>\n",
       "      <td>POINT (-122.41531 37.80526)</td>\n",
       "      <td>NaN</td>\n",
       "    </tr>\n",
       "  </tbody>\n",
       "</table>\n",
       "</div>"
      ],
      "text/plain": [
       "        osm_node_id shst_node_id         county  drive_access  walk_access  \\\n",
       "643982          NaN          nan  San Francisco           0.0          1.0   \n",
       "\n",
       "        bike_access  model_node_id  rail_only           X          Y  \\\n",
       "643982          0.0        1027677        1.0 -122.415307  37.805257   \n",
       "\n",
       "                           geometry farezone  \n",
       "643982  POINT (-122.41531 37.80526)      NaN  "
      ]
     },
     "execution_count": 41,
     "metadata": {},
     "output_type": "execute_result"
    }
   ],
   "source": [
    "step5_scenario.road_net.nodes_df[step5_scenario.road_net.nodes_df.model_node_id == 1027677]"
   ]
  },
  {
   "cell_type": "code",
   "execution_count": 42,
   "metadata": {},
   "outputs": [
    {
     "name": "stdout",
     "output_type": "stream",
     "text": [
      "County Variable 'county' already in network, calculating for missing ones\n",
      "Adding roadway network variable for county using a spatial join with: Z:/Data/Users/Sijia/MTC/github/Lasso\\mtc_data\\county\\county.shp\n"
     ]
    },
    {
     "name": "stderr",
     "output_type": "stream",
     "text": [
      "z:\\data\\users\\sijia\\mtc\\github\\lasso\\lasso\\mtc.py:2979: UserWarning: Geometry is in a geographic CRS. Results from 'centroid' are likely incorrect. Use 'GeoSeries.to_crs()' to re-project geometries to a projected CRS before this operation.\n",
      "\n",
      "  link_centroids_gdf[\"geometry\"] = link_centroids_gdf[\"geometry\"].centroid\n",
      "c:\\Users\\wangs1\\AppData\\Local\\Continuum\\anaconda3\\envs\\lasso_bayarea\\lib\\site-packages\\IPython\\core\\interactiveshell.py:3444: FutureWarning: The `op` parameter is deprecated and will be removed in a future release. Please use the `predicate` parameter instead.\n",
      "  exec(code_obj, self.user_global_ns, self.user_ns)\n"
     ]
    },
    {
     "name": "stdout",
     "output_type": "stream",
     "text": [
      "Finished Calculating link county variable: county\n"
     ]
    },
    {
     "name": "stderr",
     "output_type": "stream",
     "text": [
      "c:\\Users\\wangs1\\AppData\\Local\\Continuum\\anaconda3\\envs\\lasso_bayarea\\lib\\site-packages\\IPython\\core\\interactiveshell.py:3444: FutureWarning: The `op` parameter is deprecated and will be removed in a future release. Please use the `predicate` parameter instead.\n",
      "  exec(code_obj, self.user_global_ns, self.user_ns)\n"
     ]
    },
    {
     "name": "stdout",
     "output_type": "stream",
     "text": [
      "Finished Calculating node county variable: county\n"
     ]
    }
   ],
   "source": [
    "# add county\n",
    "\n",
    "step5_scenario.road_net = mtc.calculate_county(\n",
    "    roadway_network = step5_scenario.road_net,\n",
    "    parameters = parameters,\n",
    "    network_variable = 'county'\n",
    ")"
   ]
  },
  {
   "cell_type": "code",
   "execution_count": 43,
   "metadata": {},
   "outputs": [
    {
     "data": {
      "text/plain": [
       "Santa Clara      660008\n",
       "Alameda          443532\n",
       "Contra Costa     326621\n",
       "San Mateo        203882\n",
       "Sonoma           178792\n",
       "Solano           157454\n",
       "San Francisco    133492\n",
       "Marin             84883\n",
       "Napa              47068\n",
       "External             48\n",
       "Name: county, dtype: int64"
      ]
     },
     "execution_count": 43,
     "metadata": {},
     "output_type": "execute_result"
    }
   ],
   "source": [
    "step5_scenario.road_net.links_df.county.value_counts()"
   ]
  },
  {
   "cell_type": "code",
   "execution_count": 45,
   "metadata": {},
   "outputs": [
    {
     "data": {
      "text/plain": [
       "Santa Clara      203748\n",
       "Alameda          137128\n",
       "Contra Costa     104665\n",
       "San Mateo         61887\n",
       "Sonoma            59970\n",
       "Solano            50710\n",
       "San Francisco     33406\n",
       "Marin             28439\n",
       "Napa              14990\n",
       "External             21\n",
       "Name: county, dtype: int64"
      ]
     },
     "execution_count": 45,
     "metadata": {},
     "output_type": "execute_result"
    }
   ],
   "source": [
    "step5_scenario.road_net.nodes_df.county.value_counts()"
   ]
  },
  {
   "cell_type": "markdown",
   "metadata": {},
   "source": [
    "## sanity check"
   ]
  },
  {
   "cell_type": "code",
   "execution_count": 47,
   "metadata": {},
   "outputs": [
    {
     "data": {
      "text/html": [
       "<div>\n",
       "<style scoped>\n",
       "    .dataframe tbody tr th:only-of-type {\n",
       "        vertical-align: middle;\n",
       "    }\n",
       "\n",
       "    .dataframe tbody tr th {\n",
       "        vertical-align: top;\n",
       "    }\n",
       "\n",
       "    .dataframe thead th {\n",
       "        text-align: right;\n",
       "    }\n",
       "</style>\n",
       "<table border=\"1\" class=\"dataframe\">\n",
       "  <thead>\n",
       "    <tr style=\"text-align: right;\">\n",
       "      <th></th>\n",
       "      <th>access</th>\n",
       "      <th>bike_access</th>\n",
       "      <th>drive_access</th>\n",
       "      <th>fromIntersectionId</th>\n",
       "      <th>lanes</th>\n",
       "      <th>maxspeed</th>\n",
       "      <th>name</th>\n",
       "      <th>oneWay</th>\n",
       "      <th>ref</th>\n",
       "      <th>roadway</th>\n",
       "      <th>...</th>\n",
       "      <th>transit_access</th>\n",
       "      <th>managed</th>\n",
       "      <th>ML_lanes</th>\n",
       "      <th>segment_id</th>\n",
       "      <th>ML_tollbooth</th>\n",
       "      <th>ML_useclass</th>\n",
       "      <th>ML_access</th>\n",
       "      <th>ML_egress</th>\n",
       "      <th>ML_tollseg</th>\n",
       "      <th>tollseg</th>\n",
       "    </tr>\n",
       "  </thead>\n",
       "  <tbody>\n",
       "    <tr>\n",
       "      <th>765902</th>\n",
       "      <td></td>\n",
       "      <td>False</td>\n",
       "      <td>True</td>\n",
       "      <td>d1b76ff92ba7a2915de8efc97c782d73</td>\n",
       "      <td>2</td>\n",
       "      <td></td>\n",
       "      <td></td>\n",
       "      <td>True</td>\n",
       "      <td></td>\n",
       "      <td>motorway_link</td>\n",
       "      <td>...</td>\n",
       "      <td>NaN</td>\n",
       "      <td>0</td>\n",
       "      <td>NaN</td>\n",
       "      <td>NaN</td>\n",
       "      <td>NaN</td>\n",
       "      <td>NaN</td>\n",
       "      <td>NaN</td>\n",
       "      <td>NaN</td>\n",
       "      <td>NaN</td>\n",
       "      <td>NaN</td>\n",
       "    </tr>\n",
       "  </tbody>\n",
       "</table>\n",
       "<p>1 rows × 44 columns</p>\n",
       "</div>"
      ],
      "text/plain": [
       "       access bike_access drive_access                fromIntersectionId  \\\n",
       "765902              False         True  d1b76ff92ba7a2915de8efc97c782d73   \n",
       "\n",
       "       lanes maxspeed name oneWay ref        roadway  ... transit_access  \\\n",
       "765902     2                 True      motorway_link  ...            NaN   \n",
       "\n",
       "       managed ML_lanes segment_id ML_tollbooth ML_useclass ML_access  \\\n",
       "765902       0      NaN        NaN          NaN         NaN       NaN   \n",
       "\n",
       "       ML_egress  ML_tollseg  tollseg  \n",
       "765902       NaN         NaN      NaN  \n",
       "\n",
       "[1 rows x 44 columns]"
      ]
     },
     "execution_count": 47,
     "metadata": {},
     "output_type": "execute_result"
    }
   ],
   "source": [
    "step5_scenario.road_net.links_df[step5_scenario.road_net.links_df.model_link_id == 3150085] # should be ramp lanes 2"
   ]
  },
  {
   "cell_type": "code",
   "execution_count": 48,
   "metadata": {},
   "outputs": [
    {
     "data": {
      "text/html": [
       "<div>\n",
       "<style scoped>\n",
       "    .dataframe tbody tr th:only-of-type {\n",
       "        vertical-align: middle;\n",
       "    }\n",
       "\n",
       "    .dataframe tbody tr th {\n",
       "        vertical-align: top;\n",
       "    }\n",
       "\n",
       "    .dataframe thead th {\n",
       "        text-align: right;\n",
       "    }\n",
       "</style>\n",
       "<table border=\"1\" class=\"dataframe\">\n",
       "  <thead>\n",
       "    <tr style=\"text-align: right;\">\n",
       "      <th></th>\n",
       "      <th>access</th>\n",
       "      <th>bike_access</th>\n",
       "      <th>drive_access</th>\n",
       "      <th>fromIntersectionId</th>\n",
       "      <th>lanes</th>\n",
       "      <th>maxspeed</th>\n",
       "      <th>name</th>\n",
       "      <th>oneWay</th>\n",
       "      <th>ref</th>\n",
       "      <th>roadway</th>\n",
       "      <th>...</th>\n",
       "      <th>transit_access</th>\n",
       "      <th>managed</th>\n",
       "      <th>ML_lanes</th>\n",
       "      <th>segment_id</th>\n",
       "      <th>ML_tollbooth</th>\n",
       "      <th>ML_useclass</th>\n",
       "      <th>ML_access</th>\n",
       "      <th>ML_egress</th>\n",
       "      <th>ML_tollseg</th>\n",
       "      <th>tollseg</th>\n",
       "    </tr>\n",
       "  </thead>\n",
       "  <tbody>\n",
       "    <tr>\n",
       "      <th>548523</th>\n",
       "      <td>['nan', 'nan']</td>\n",
       "      <td>False</td>\n",
       "      <td>True</td>\n",
       "      <td>826a99158fd58e5483d1085c9e0d65b3</td>\n",
       "      <td>{'default': 4, 'timeofday': [{'time': (21600, ...</td>\n",
       "      <td>['nan', 'nan']</td>\n",
       "      <td>['nan', 'nan']</td>\n",
       "      <td>[True, True]</td>\n",
       "      <td>['I 80', 'I 80']</td>\n",
       "      <td>motorway</td>\n",
       "      <td>...</td>\n",
       "      <td>NaN</td>\n",
       "      <td>1</td>\n",
       "      <td>{'default': 0, 'timeofday': [{'time': (21600, ...</td>\n",
       "      <td>5</td>\n",
       "      <td>5</td>\n",
       "      <td>{'default': 0, 'timeofday': [{'time': (21600, ...</td>\n",
       "      <td>all</td>\n",
       "      <td>all</td>\n",
       "      <td>NaN</td>\n",
       "      <td>NaN</td>\n",
       "    </tr>\n",
       "  </tbody>\n",
       "</table>\n",
       "<p>1 rows × 44 columns</p>\n",
       "</div>"
      ],
      "text/plain": [
       "                access bike_access drive_access  \\\n",
       "548523  ['nan', 'nan']       False         True   \n",
       "\n",
       "                      fromIntersectionId  \\\n",
       "548523  826a99158fd58e5483d1085c9e0d65b3   \n",
       "\n",
       "                                                    lanes        maxspeed  \\\n",
       "548523  {'default': 4, 'timeofday': [{'time': (21600, ...  ['nan', 'nan']   \n",
       "\n",
       "                  name        oneWay               ref   roadway  ...  \\\n",
       "548523  ['nan', 'nan']  [True, True]  ['I 80', 'I 80']  motorway  ...   \n",
       "\n",
       "       transit_access managed  \\\n",
       "548523            NaN       1   \n",
       "\n",
       "                                                 ML_lanes segment_id  \\\n",
       "548523  {'default': 0, 'timeofday': [{'time': (21600, ...          5   \n",
       "\n",
       "       ML_tollbooth                                        ML_useclass  \\\n",
       "548523            5  {'default': 0, 'timeofday': [{'time': (21600, ...   \n",
       "\n",
       "       ML_access ML_egress  ML_tollseg  tollseg  \n",
       "548523       all       all         NaN      NaN  \n",
       "\n",
       "[1 rows x 44 columns]"
      ]
     },
     "execution_count": 48,
     "metadata": {},
     "output_type": "execute_result"
    }
   ],
   "source": [
    "step5_scenario.road_net.links_df[step5_scenario.road_net.links_df.model_link_id == 3107408] # bay bridge toll link"
   ]
  },
  {
   "cell_type": "code",
   "execution_count": 49,
   "metadata": {},
   "outputs": [
    {
     "data": {
      "text/plain": [
       "A     900020\n",
       "B    2192724\n",
       "Name: 2199322, dtype: object"
      ]
     },
     "execution_count": 49,
     "metadata": {},
     "output_type": "execute_result"
    }
   ],
   "source": [
    "step5_scenario.road_net.links_df[\n",
    "    step5_scenario.road_net.links_df.model_link_id == 26067343\n",
    "].iloc[0][[\"A\", \"B\"]]"
   ]
  },
  {
   "cell_type": "code",
   "execution_count": 50,
   "metadata": {},
   "outputs": [
    {
     "data": {
      "text/html": [
       "<div>\n",
       "<style scoped>\n",
       "    .dataframe tbody tr th:only-of-type {\n",
       "        vertical-align: middle;\n",
       "    }\n",
       "\n",
       "    .dataframe tbody tr th {\n",
       "        vertical-align: top;\n",
       "    }\n",
       "\n",
       "    .dataframe thead th {\n",
       "        text-align: right;\n",
       "    }\n",
       "</style>\n",
       "<table border=\"1\" class=\"dataframe\">\n",
       "  <thead>\n",
       "    <tr style=\"text-align: right;\">\n",
       "      <th></th>\n",
       "      <th>access</th>\n",
       "      <th>bike_access</th>\n",
       "      <th>drive_access</th>\n",
       "      <th>fromIntersectionId</th>\n",
       "      <th>lanes</th>\n",
       "      <th>maxspeed</th>\n",
       "      <th>name</th>\n",
       "      <th>oneWay</th>\n",
       "      <th>ref</th>\n",
       "      <th>roadway</th>\n",
       "      <th>...</th>\n",
       "      <th>transit_access</th>\n",
       "      <th>managed</th>\n",
       "      <th>ML_lanes</th>\n",
       "      <th>segment_id</th>\n",
       "      <th>ML_tollbooth</th>\n",
       "      <th>ML_useclass</th>\n",
       "      <th>ML_access</th>\n",
       "      <th>ML_egress</th>\n",
       "      <th>ML_tollseg</th>\n",
       "      <th>tollseg</th>\n",
       "    </tr>\n",
       "  </thead>\n",
       "  <tbody>\n",
       "  </tbody>\n",
       "</table>\n",
       "<p>0 rows × 44 columns</p>\n",
       "</div>"
      ],
      "text/plain": [
       "Empty GeoDataFrame\n",
       "Columns: [access, bike_access, drive_access, fromIntersectionId, lanes, maxspeed, name, oneWay, ref, roadway, shstGeometryId, shstReferenceId, toIntersectionId, u, v, walk_access, wayId, county, model_link_id, A, B, rail_traveltime, rail_only, locationReferences, geometry, ft_cal, ft, useclass, assignable_cal, assignable, transit, id, tollbooth, bus_only, transit_access, managed, ML_lanes, segment_id, ML_tollbooth, ML_useclass, ML_access, ML_egress, ML_tollseg, tollseg]\n",
       "Index: []\n",
       "\n",
       "[0 rows x 44 columns]"
      ]
     },
     "execution_count": 50,
     "metadata": {},
     "output_type": "execute_result"
    }
   ],
   "source": [
    "# this link is deleted and splitted into two for toll plaza at GGB\n",
    "\n",
    "step5_scenario.road_net.links_df[\n",
    "    step5_scenario.road_net.links_df.model_link_id == 8016300]"
   ]
  },
  {
   "cell_type": "code",
   "execution_count": 51,
   "metadata": {},
   "outputs": [
    {
     "data": {
      "text/plain": [
       "{'default': 3,\n",
       " 'timeofday': [{'time': (21600, 36000), 'value': 4},\n",
       "  {'time': (54000, 68400), 'value': 2}]}"
      ]
     },
     "execution_count": 51,
     "metadata": {},
     "output_type": "execute_result"
    }
   ],
   "source": [
    "# golden gate bridge\n",
    "\n",
    "step5_scenario.road_net.links_df[\n",
    "    step5_scenario.road_net.links_df.model_link_id == 8063198].lanes.iloc[0]"
   ]
  },
  {
   "cell_type": "code",
   "execution_count": 52,
   "metadata": {},
   "outputs": [
    {
     "data": {
      "text/plain": [
       "{'default': 0,\n",
       " 'timeofday': [{'time': (21600, 36000), 'value': 2},\n",
       "  {'time': (54000, 68400), 'value': 2}]}"
      ]
     },
     "execution_count": 52,
     "metadata": {},
     "output_type": "execute_result"
    }
   ],
   "source": [
    "# golden gate bridge HOV\n",
    "\n",
    "step5_scenario.road_net.links_df[\n",
    "    step5_scenario.road_net.links_df.model_link_id == 8063199].ML_lanes.iloc[0]"
   ]
  },
  {
   "cell_type": "code",
   "execution_count": 53,
   "metadata": {},
   "outputs": [
    {
     "data": {
      "text/html": [
       "<div>\n",
       "<style scoped>\n",
       "    .dataframe tbody tr th:only-of-type {\n",
       "        vertical-align: middle;\n",
       "    }\n",
       "\n",
       "    .dataframe tbody tr th {\n",
       "        vertical-align: top;\n",
       "    }\n",
       "\n",
       "    .dataframe thead th {\n",
       "        text-align: right;\n",
       "    }\n",
       "</style>\n",
       "<table border=\"1\" class=\"dataframe\">\n",
       "  <thead>\n",
       "    <tr style=\"text-align: right;\">\n",
       "      <th></th>\n",
       "      <th>osm_node_id</th>\n",
       "      <th>shst_node_id</th>\n",
       "      <th>county</th>\n",
       "      <th>drive_access</th>\n",
       "      <th>walk_access</th>\n",
       "      <th>bike_access</th>\n",
       "      <th>model_node_id</th>\n",
       "      <th>rail_only</th>\n",
       "      <th>X</th>\n",
       "      <th>Y</th>\n",
       "      <th>geometry</th>\n",
       "      <th>farezone</th>\n",
       "    </tr>\n",
       "  </thead>\n",
       "  <tbody>\n",
       "    <tr>\n",
       "      <th>644481</th>\n",
       "      <td>NaN</td>\n",
       "      <td></td>\n",
       "      <td>Marin</td>\n",
       "      <td>1.0</td>\n",
       "      <td>0.0</td>\n",
       "      <td>0.0</td>\n",
       "      <td>5030001</td>\n",
       "      <td>0.0</td>\n",
       "      <td>-122.47658</td>\n",
       "      <td>37.808073</td>\n",
       "      <td>POINT (-122.47658 37.80807)</td>\n",
       "      <td></td>\n",
       "    </tr>\n",
       "  </tbody>\n",
       "</table>\n",
       "</div>"
      ],
      "text/plain": [
       "        osm_node_id shst_node_id county  drive_access  walk_access  \\\n",
       "644481          NaN               Marin           1.0          0.0   \n",
       "\n",
       "        bike_access  model_node_id  rail_only          X          Y  \\\n",
       "644481          0.0        5030001        0.0 -122.47658  37.808073   \n",
       "\n",
       "                           geometry farezone  \n",
       "644481  POINT (-122.47658 37.80807)           "
      ]
     },
     "execution_count": 53,
     "metadata": {},
     "output_type": "execute_result"
    }
   ],
   "source": [
    "# check if new node is created for toll plaza at GGB\n",
    "\n",
    "step5_scenario.road_net.nodes_df[step5_scenario.road_net.nodes_df.model_node_id == 5030001]"
   ]
  },
  {
   "cell_type": "code",
   "execution_count": 54,
   "metadata": {},
   "outputs": [
    {
     "data": {
      "text/plain": [
       "{'default': 9,\n",
       " 'timeofday': [{'time': (21600, 36000), 'value': 7},\n",
       "  {'time': (54000, 68400), 'value': 7}]}"
      ]
     },
     "execution_count": 54,
     "metadata": {},
     "output_type": "execute_result"
    }
   ],
   "source": [
    "# golden gate bridge toll plaza\n",
    "\n",
    "step5_scenario.road_net.links_df[\n",
    "    step5_scenario.road_net.links_df.model_link_id == 8063199].lanes.iloc[0]"
   ]
  },
  {
   "cell_type": "code",
   "execution_count": 55,
   "metadata": {},
   "outputs": [
    {
     "data": {
      "text/html": [
       "<div>\n",
       "<style scoped>\n",
       "    .dataframe tbody tr th:only-of-type {\n",
       "        vertical-align: middle;\n",
       "    }\n",
       "\n",
       "    .dataframe tbody tr th {\n",
       "        vertical-align: top;\n",
       "    }\n",
       "\n",
       "    .dataframe thead th {\n",
       "        text-align: right;\n",
       "    }\n",
       "</style>\n",
       "<table border=\"1\" class=\"dataframe\">\n",
       "  <thead>\n",
       "    <tr style=\"text-align: right;\">\n",
       "      <th></th>\n",
       "      <th>id</th>\n",
       "      <th>geometry</th>\n",
       "    </tr>\n",
       "  </thead>\n",
       "  <tbody>\n",
       "    <tr>\n",
       "      <th>1634794</th>\n",
       "      <td>d01b27cabff869e0bf4f7187ee77d6de</td>\n",
       "      <td>LINESTRING (-122.48221 37.83307, -122.48175 37...</td>\n",
       "    </tr>\n",
       "    <tr>\n",
       "      <th>1634795</th>\n",
       "      <td>b46d3b9a4683bfe26b97e2a66181d8dd</td>\n",
       "      <td>LINESTRING (-122.47658 37.80807, -122.47536 37...</td>\n",
       "    </tr>\n",
       "    <tr>\n",
       "      <th>1634796</th>\n",
       "      <td>ba0e166e3a9f6c1cc8d7e331415769b2</td>\n",
       "      <td>LINESTRING (-122.42941 37.76947, -122.43026 37...</td>\n",
       "    </tr>\n",
       "  </tbody>\n",
       "</table>\n",
       "</div>"
      ],
      "text/plain": [
       "                                       id  \\\n",
       "1634794  d01b27cabff869e0bf4f7187ee77d6de   \n",
       "1634795  b46d3b9a4683bfe26b97e2a66181d8dd   \n",
       "1634796  ba0e166e3a9f6c1cc8d7e331415769b2   \n",
       "\n",
       "                                                  geometry  \n",
       "1634794  LINESTRING (-122.48221 37.83307, -122.48175 37...  \n",
       "1634795  LINESTRING (-122.47658 37.80807, -122.47536 37...  \n",
       "1634796  LINESTRING (-122.42941 37.76947, -122.43026 37...  "
      ]
     },
     "execution_count": 55,
     "metadata": {},
     "output_type": "execute_result"
    }
   ],
   "source": [
    "# check shapes for new links\n",
    "# example: toll plaza at GGB and a new rail-to-street link\n",
    "\n",
    "step5_scenario.road_net.links_df[\n",
    "    step5_scenario.road_net.links_df.model_link_id.isin([8063198, 8063199, 26067378])][[\"id\", \"geometry\"]]"
   ]
  },
  {
   "cell_type": "code",
   "execution_count": 56,
   "metadata": {},
   "outputs": [
    {
     "data": {
      "text/html": [
       "<div>\n",
       "<style scoped>\n",
       "    .dataframe tbody tr th:only-of-type {\n",
       "        vertical-align: middle;\n",
       "    }\n",
       "\n",
       "    .dataframe tbody tr th {\n",
       "        vertical-align: top;\n",
       "    }\n",
       "\n",
       "    .dataframe thead th {\n",
       "        text-align: right;\n",
       "    }\n",
       "</style>\n",
       "<table border=\"1\" class=\"dataframe\">\n",
       "  <thead>\n",
       "    <tr style=\"text-align: right;\">\n",
       "      <th></th>\n",
       "      <th>id</th>\n",
       "      <th>geometry</th>\n",
       "    </tr>\n",
       "  </thead>\n",
       "  <tbody>\n",
       "    <tr>\n",
       "      <th>869991</th>\n",
       "      <td>b46d3b9a4683bfe26b97e2a66181d8dd</td>\n",
       "      <td>LINESTRING (-122.47658 37.80807, -122.47536 37...</td>\n",
       "    </tr>\n",
       "    <tr>\n",
       "      <th>869992</th>\n",
       "      <td>ba0e166e3a9f6c1cc8d7e331415769b2</td>\n",
       "      <td>LINESTRING (-122.42941 37.76947, -122.43026 37...</td>\n",
       "    </tr>\n",
       "  </tbody>\n",
       "</table>\n",
       "</div>"
      ],
      "text/plain": [
       "                                      id  \\\n",
       "869991  b46d3b9a4683bfe26b97e2a66181d8dd   \n",
       "869992  ba0e166e3a9f6c1cc8d7e331415769b2   \n",
       "\n",
       "                                                 geometry  \n",
       "869991  LINESTRING (-122.47658 37.80807, -122.47536 37...  \n",
       "869992  LINESTRING (-122.42941 37.76947, -122.43026 37...  "
      ]
     },
     "execution_count": 56,
     "metadata": {},
     "output_type": "execute_result"
    }
   ],
   "source": [
    "step5_scenario.road_net.shapes_df[\n",
    "    step5_scenario.road_net.shapes_df.id.isin([\"b46d3b9a4683bfe26b97e2a66181d8dd\", \"ba0e166e3a9f6c1cc8d7e331415769b2\"])][\n",
    "        [\"id\", \"geometry\"]]"
   ]
  },
  {
   "cell_type": "code",
   "execution_count": 57,
   "metadata": {},
   "outputs": [
    {
     "data": {
      "text/plain": [
       "1592"
      ]
     },
     "execution_count": 57,
     "metadata": {},
     "output_type": "execute_result"
    }
   ],
   "source": [
    "step5_scenario.transit_net.feed.shapes.shape_id.nunique()"
   ]
  },
  {
   "cell_type": "code",
   "execution_count": 58,
   "metadata": {},
   "outputs": [
    {
     "data": {
      "text/html": [
       "<div>\n",
       "<style scoped>\n",
       "    .dataframe tbody tr th:only-of-type {\n",
       "        vertical-align: middle;\n",
       "    }\n",
       "\n",
       "    .dataframe tbody tr th {\n",
       "        vertical-align: top;\n",
       "    }\n",
       "\n",
       "    .dataframe thead th {\n",
       "        text-align: right;\n",
       "    }\n",
       "</style>\n",
       "<table border=\"1\" class=\"dataframe\">\n",
       "  <thead>\n",
       "    <tr style=\"text-align: right;\">\n",
       "      <th></th>\n",
       "      <th>shape_pt_sequence</th>\n",
       "      <th>shape_osm_node_id</th>\n",
       "      <th>shape_shst_node_id</th>\n",
       "      <th>shape_model_node_id</th>\n",
       "      <th>shape_pt_lat</th>\n",
       "      <th>shape_pt_lon</th>\n",
       "    </tr>\n",
       "    <tr>\n",
       "      <th>shape_id</th>\n",
       "      <th></th>\n",
       "      <th></th>\n",
       "      <th></th>\n",
       "      <th></th>\n",
       "      <th></th>\n",
       "      <th></th>\n",
       "    </tr>\n",
       "  </thead>\n",
       "  <tbody>\n",
       "    <tr>\n",
       "      <th>1168</th>\n",
       "      <td>177</td>\n",
       "      <td>108</td>\n",
       "      <td>108</td>\n",
       "      <td>177</td>\n",
       "      <td>0</td>\n",
       "      <td>0</td>\n",
       "    </tr>\n",
       "    <tr>\n",
       "      <th>1169</th>\n",
       "      <td>176</td>\n",
       "      <td>65</td>\n",
       "      <td>65</td>\n",
       "      <td>176</td>\n",
       "      <td>0</td>\n",
       "      <td>0</td>\n",
       "    </tr>\n",
       "    <tr>\n",
       "      <th>939</th>\n",
       "      <td>26</td>\n",
       "      <td>22</td>\n",
       "      <td>22</td>\n",
       "      <td>26</td>\n",
       "      <td>0</td>\n",
       "      <td>0</td>\n",
       "    </tr>\n",
       "    <tr>\n",
       "      <th>940</th>\n",
       "      <td>161</td>\n",
       "      <td>157</td>\n",
       "      <td>157</td>\n",
       "      <td>161</td>\n",
       "      <td>0</td>\n",
       "      <td>0</td>\n",
       "    </tr>\n",
       "    <tr>\n",
       "      <th>943</th>\n",
       "      <td>158</td>\n",
       "      <td>154</td>\n",
       "      <td>154</td>\n",
       "      <td>158</td>\n",
       "      <td>0</td>\n",
       "      <td>0</td>\n",
       "    </tr>\n",
       "    <tr>\n",
       "      <th>944</th>\n",
       "      <td>130</td>\n",
       "      <td>128</td>\n",
       "      <td>128</td>\n",
       "      <td>130</td>\n",
       "      <td>0</td>\n",
       "      <td>0</td>\n",
       "    </tr>\n",
       "  </tbody>\n",
       "</table>\n",
       "</div>"
      ],
      "text/plain": [
       "          shape_pt_sequence  shape_osm_node_id  shape_shst_node_id  \\\n",
       "shape_id                                                             \n",
       "1168                    177                108                 108   \n",
       "1169                    176                 65                  65   \n",
       "939                      26                 22                  22   \n",
       "940                     161                157                 157   \n",
       "943                     158                154                 154   \n",
       "944                     130                128                 128   \n",
       "\n",
       "          shape_model_node_id  shape_pt_lat  shape_pt_lon  \n",
       "shape_id                                                   \n",
       "1168                      177             0             0  \n",
       "1169                      176             0             0  \n",
       "939                        26             0             0  \n",
       "940                       161             0             0  \n",
       "943                       158             0             0  \n",
       "944                       130             0             0  "
      ]
     },
     "execution_count": 58,
     "metadata": {},
     "output_type": "execute_result"
    }
   ],
   "source": [
    "step5_scenario.transit_net.feed.shapes[\n",
    "    step5_scenario.transit_net.feed.shapes.shape_id.isin(\n",
    "        [\"1169\", \"1168\", \"939\", \"940\", \"943\", \"944\"]\n",
    "    )\n",
    "].groupby([\"shape_id\"]).count()"
   ]
  },
  {
   "cell_type": "code",
   "execution_count": 59,
   "metadata": {},
   "outputs": [
    {
     "data": {
      "text/html": [
       "<div>\n",
       "<style scoped>\n",
       "    .dataframe tbody tr th:only-of-type {\n",
       "        vertical-align: middle;\n",
       "    }\n",
       "\n",
       "    .dataframe tbody tr th {\n",
       "        vertical-align: top;\n",
       "    }\n",
       "\n",
       "    .dataframe thead th {\n",
       "        text-align: right;\n",
       "    }\n",
       "</style>\n",
       "<table border=\"1\" class=\"dataframe\">\n",
       "  <thead>\n",
       "    <tr style=\"text-align: right;\">\n",
       "      <th></th>\n",
       "      <th>A</th>\n",
       "      <th>B</th>\n",
       "      <th>roadway</th>\n",
       "      <th>assignable</th>\n",
       "    </tr>\n",
       "  </thead>\n",
       "  <tbody>\n",
       "    <tr>\n",
       "      <th>514595</th>\n",
       "      <td>2579949</td>\n",
       "      <td>2535246</td>\n",
       "      <td>residential</td>\n",
       "      <td>0.0</td>\n",
       "    </tr>\n",
       "    <tr>\n",
       "      <th>842601</th>\n",
       "      <td>2579949</td>\n",
       "      <td>2604856</td>\n",
       "      <td>residential</td>\n",
       "      <td>1.0</td>\n",
       "    </tr>\n",
       "    <tr>\n",
       "      <th>846406</th>\n",
       "      <td>2607569</td>\n",
       "      <td>2586861</td>\n",
       "      <td>residential</td>\n",
       "      <td>1.0</td>\n",
       "    </tr>\n",
       "    <tr>\n",
       "      <th>1009927</th>\n",
       "      <td>2607569</td>\n",
       "      <td>2546185</td>\n",
       "      <td>residential</td>\n",
       "      <td>1.0</td>\n",
       "    </tr>\n",
       "    <tr>\n",
       "      <th>1077889</th>\n",
       "      <td>2607569</td>\n",
       "      <td>2541364</td>\n",
       "      <td>residential</td>\n",
       "      <td>0.0</td>\n",
       "    </tr>\n",
       "    <tr>\n",
       "      <th>1645033</th>\n",
       "      <td>2579949</td>\n",
       "      <td>300963</td>\n",
       "      <td>taz</td>\n",
       "      <td>1</td>\n",
       "    </tr>\n",
       "    <tr>\n",
       "      <th>1645951</th>\n",
       "      <td>2607569</td>\n",
       "      <td>300963</td>\n",
       "      <td>taz</td>\n",
       "      <td>1</td>\n",
       "    </tr>\n",
       "    <tr>\n",
       "      <th>1820125</th>\n",
       "      <td>2579949</td>\n",
       "      <td>318103</td>\n",
       "      <td>maz</td>\n",
       "      <td>1</td>\n",
       "    </tr>\n",
       "    <tr>\n",
       "      <th>1820126</th>\n",
       "      <td>2579949</td>\n",
       "      <td>327248</td>\n",
       "      <td>maz</td>\n",
       "      <td>1</td>\n",
       "    </tr>\n",
       "    <tr>\n",
       "      <th>1820127</th>\n",
       "      <td>2579949</td>\n",
       "      <td>328044</td>\n",
       "      <td>maz</td>\n",
       "      <td>1</td>\n",
       "    </tr>\n",
       "    <tr>\n",
       "      <th>1820128</th>\n",
       "      <td>2579949</td>\n",
       "      <td>329429</td>\n",
       "      <td>maz</td>\n",
       "      <td>1</td>\n",
       "    </tr>\n",
       "    <tr>\n",
       "      <th>1832370</th>\n",
       "      <td>2607569</td>\n",
       "      <td>311526</td>\n",
       "      <td>maz</td>\n",
       "      <td>1</td>\n",
       "    </tr>\n",
       "    <tr>\n",
       "      <th>1832371</th>\n",
       "      <td>2607569</td>\n",
       "      <td>314420</td>\n",
       "      <td>maz</td>\n",
       "      <td>1</td>\n",
       "    </tr>\n",
       "    <tr>\n",
       "      <th>1832372</th>\n",
       "      <td>2607569</td>\n",
       "      <td>321683</td>\n",
       "      <td>maz</td>\n",
       "      <td>1</td>\n",
       "    </tr>\n",
       "    <tr>\n",
       "      <th>1832373</th>\n",
       "      <td>2607569</td>\n",
       "      <td>329034</td>\n",
       "      <td>maz</td>\n",
       "      <td>1</td>\n",
       "    </tr>\n",
       "    <tr>\n",
       "      <th>2213660</th>\n",
       "      <td>2579949</td>\n",
       "      <td>391308</td>\n",
       "      <td>tap</td>\n",
       "      <td>NaN</td>\n",
       "    </tr>\n",
       "  </tbody>\n",
       "</table>\n",
       "</div>"
      ],
      "text/plain": [
       "               A        B      roadway assignable\n",
       "514595   2579949  2535246  residential        0.0\n",
       "842601   2579949  2604856  residential        1.0\n",
       "846406   2607569  2586861  residential        1.0\n",
       "1009927  2607569  2546185  residential        1.0\n",
       "1077889  2607569  2541364  residential        0.0\n",
       "1645033  2579949   300963          taz          1\n",
       "1645951  2607569   300963          taz          1\n",
       "1820125  2579949   318103          maz          1\n",
       "1820126  2579949   327248          maz          1\n",
       "1820127  2579949   328044          maz          1\n",
       "1820128  2579949   329429          maz          1\n",
       "1832370  2607569   311526          maz          1\n",
       "1832371  2607569   314420          maz          1\n",
       "1832372  2607569   321683          maz          1\n",
       "1832373  2607569   329034          maz          1\n",
       "2213660  2579949   391308          tap        NaN"
      ]
     },
     "execution_count": 59,
     "metadata": {},
     "output_type": "execute_result"
    }
   ],
   "source": [
    "step5_scenario.road_net.links_df[\n",
    "    step5_scenario.road_net.links_df.A.isin([2579949, 2607569])][[\"A\", \"B\", \"roadway\",\"assignable\"]]"
   ]
  },
  {
   "cell_type": "code",
   "execution_count": 60,
   "metadata": {},
   "outputs": [
    {
     "data": {
      "text/html": [
       "<div>\n",
       "<style scoped>\n",
       "    .dataframe tbody tr th:only-of-type {\n",
       "        vertical-align: middle;\n",
       "    }\n",
       "\n",
       "    .dataframe tbody tr th {\n",
       "        vertical-align: top;\n",
       "    }\n",
       "\n",
       "    .dataframe thead th {\n",
       "        text-align: right;\n",
       "    }\n",
       "</style>\n",
       "<table border=\"1\" class=\"dataframe\">\n",
       "  <thead>\n",
       "    <tr style=\"text-align: right;\">\n",
       "      <th></th>\n",
       "      <th>A</th>\n",
       "      <th>B</th>\n",
       "      <th>roadway</th>\n",
       "      <th>assignable</th>\n",
       "    </tr>\n",
       "  </thead>\n",
       "  <tbody>\n",
       "    <tr>\n",
       "      <th>778002</th>\n",
       "      <td>2552715</td>\n",
       "      <td>2540313</td>\n",
       "      <td>motorway_link</td>\n",
       "      <td>0.0</td>\n",
       "    </tr>\n",
       "  </tbody>\n",
       "</table>\n",
       "</div>"
      ],
      "text/plain": [
       "              A        B        roadway assignable\n",
       "778002  2552715  2540313  motorway_link        0.0"
      ]
     },
     "execution_count": 60,
     "metadata": {},
     "output_type": "execute_result"
    }
   ],
   "source": [
    "# check Service Road Dumbarton Bridge Bypass is not assignable\n",
    "step5_scenario.road_net.links_df[\n",
    "    step5_scenario.road_net.links_df.model_link_id == 3152465][[\"A\", \"B\", \"roadway\",\"assignable\"]]"
   ]
  },
  {
   "cell_type": "code",
   "execution_count": 61,
   "metadata": {},
   "outputs": [
    {
     "data": {
      "text/html": [
       "<div>\n",
       "<style scoped>\n",
       "    .dataframe tbody tr th:only-of-type {\n",
       "        vertical-align: middle;\n",
       "    }\n",
       "\n",
       "    .dataframe tbody tr th {\n",
       "        vertical-align: top;\n",
       "    }\n",
       "\n",
       "    .dataframe thead th {\n",
       "        text-align: right;\n",
       "    }\n",
       "</style>\n",
       "<table border=\"1\" class=\"dataframe\">\n",
       "  <thead>\n",
       "    <tr style=\"text-align: right;\">\n",
       "      <th></th>\n",
       "      <th>A</th>\n",
       "      <th>B</th>\n",
       "      <th>roadway</th>\n",
       "      <th>assignable</th>\n",
       "      <th>lanes</th>\n",
       "    </tr>\n",
       "  </thead>\n",
       "  <tbody>\n",
       "    <tr>\n",
       "      <th>690625</th>\n",
       "      <td>2153360</td>\n",
       "      <td>2071468</td>\n",
       "      <td>motorway</td>\n",
       "      <td>1.0</td>\n",
       "      <td>{'default': 3, 'timeofday': [{'time': (21600, ...</td>\n",
       "    </tr>\n",
       "  </tbody>\n",
       "</table>\n",
       "</div>"
      ],
      "text/plain": [
       "              A        B   roadway assignable  \\\n",
       "690625  2153360  2071468  motorway        1.0   \n",
       "\n",
       "                                                    lanes  \n",
       "690625  {'default': 3, 'timeofday': [{'time': (21600, ...  "
      ]
     },
     "execution_count": 61,
     "metadata": {},
     "output_type": "execute_result"
    }
   ],
   "source": [
    "# check should be 3 lanes\n",
    "\n",
    "step5_scenario.road_net.links_df[\n",
    "    step5_scenario.road_net.links_df.model_link_id == 2217343][[\"A\", \"B\", \"roadway\",\"assignable\", \"lanes\"]]"
   ]
  },
  {
   "cell_type": "code",
   "execution_count": 62,
   "metadata": {},
   "outputs": [
    {
     "data": {
      "text/html": [
       "<div>\n",
       "<style scoped>\n",
       "    .dataframe tbody tr th:only-of-type {\n",
       "        vertical-align: middle;\n",
       "    }\n",
       "\n",
       "    .dataframe tbody tr th {\n",
       "        vertical-align: top;\n",
       "    }\n",
       "\n",
       "    .dataframe thead th {\n",
       "        text-align: right;\n",
       "    }\n",
       "</style>\n",
       "<table border=\"1\" class=\"dataframe\">\n",
       "  <thead>\n",
       "    <tr style=\"text-align: right;\">\n",
       "      <th></th>\n",
       "      <th>A</th>\n",
       "      <th>B</th>\n",
       "      <th>roadway</th>\n",
       "      <th>assignable</th>\n",
       "      <th>ft</th>\n",
       "      <th>walk_access</th>\n",
       "    </tr>\n",
       "  </thead>\n",
       "  <tbody>\n",
       "    <tr>\n",
       "      <th>33757</th>\n",
       "      <td>2506600</td>\n",
       "      <td>2542798</td>\n",
       "      <td>motorway_link</td>\n",
       "      <td>1.0</td>\n",
       "      <td>3</td>\n",
       "      <td>1</td>\n",
       "    </tr>\n",
       "    <tr>\n",
       "      <th>59112</th>\n",
       "      <td>2511462</td>\n",
       "      <td>2523557</td>\n",
       "      <td>motorway_link</td>\n",
       "      <td>1.0</td>\n",
       "      <td>3</td>\n",
       "      <td>1</td>\n",
       "    </tr>\n",
       "    <tr>\n",
       "      <th>123885</th>\n",
       "      <td>3017507</td>\n",
       "      <td>3058438</td>\n",
       "      <td>motorway_link</td>\n",
       "      <td>1.0</td>\n",
       "      <td>3</td>\n",
       "      <td>1</td>\n",
       "    </tr>\n",
       "    <tr>\n",
       "      <th>124668</th>\n",
       "      <td>2523557</td>\n",
       "      <td>2549665</td>\n",
       "      <td>motorway_link</td>\n",
       "      <td>1.0</td>\n",
       "      <td>3</td>\n",
       "      <td>1</td>\n",
       "    </tr>\n",
       "    <tr>\n",
       "      <th>162620</th>\n",
       "      <td>2501507</td>\n",
       "      <td>2506600</td>\n",
       "      <td>motorway_link</td>\n",
       "      <td>1.0</td>\n",
       "      <td>3</td>\n",
       "      <td>1</td>\n",
       "    </tr>\n",
       "    <tr>\n",
       "      <th>238525</th>\n",
       "      <td>2542798</td>\n",
       "      <td>2518014</td>\n",
       "      <td>motorway_link</td>\n",
       "      <td>1.0</td>\n",
       "      <td>3</td>\n",
       "      <td>1</td>\n",
       "    </tr>\n",
       "    <tr>\n",
       "      <th>518512</th>\n",
       "      <td>2580420</td>\n",
       "      <td>2511462</td>\n",
       "      <td>motorway_link</td>\n",
       "      <td>1.0</td>\n",
       "      <td>3</td>\n",
       "      <td>1</td>\n",
       "    </tr>\n",
       "  </tbody>\n",
       "</table>\n",
       "</div>"
      ],
      "text/plain": [
       "              A        B        roadway assignable  ft walk_access\n",
       "33757   2506600  2542798  motorway_link        1.0   3           1\n",
       "59112   2511462  2523557  motorway_link        1.0   3           1\n",
       "123885  3017507  3058438  motorway_link        1.0   3           1\n",
       "124668  2523557  2549665  motorway_link        1.0   3           1\n",
       "162620  2501507  2506600  motorway_link        1.0   3           1\n",
       "238525  2542798  2518014  motorway_link        1.0   3           1\n",
       "518512  2580420  2511462  motorway_link        1.0   3           1"
      ]
     },
     "execution_count": 62,
     "metadata": {},
     "output_type": "execute_result"
    }
   ],
   "source": [
    "# should be ramps\n",
    "step5_scenario.road_net.links_df[\n",
    "    step5_scenario.road_net.links_df.model_link_id.isin(\n",
    "        [3031886,3006561,3046803,3101610,3011518,3024387,4018032])][[\"A\", \"B\", \"roadway\",\"assignable\", \"ft\", \"walk_access\"]]"
   ]
  },
  {
   "cell_type": "code",
   "execution_count": 63,
   "metadata": {},
   "outputs": [
    {
     "data": {
      "text/html": [
       "<div>\n",
       "<style scoped>\n",
       "    .dataframe tbody tr th:only-of-type {\n",
       "        vertical-align: middle;\n",
       "    }\n",
       "\n",
       "    .dataframe tbody tr th {\n",
       "        vertical-align: top;\n",
       "    }\n",
       "\n",
       "    .dataframe thead th {\n",
       "        text-align: right;\n",
       "    }\n",
       "</style>\n",
       "<table border=\"1\" class=\"dataframe\">\n",
       "  <thead>\n",
       "    <tr style=\"text-align: right;\">\n",
       "      <th></th>\n",
       "      <th>stop_name</th>\n",
       "      <th>stop_lat</th>\n",
       "      <th>stop_lon</th>\n",
       "      <th>zone_id</th>\n",
       "      <th>agency_raw_name</th>\n",
       "      <th>stop_code</th>\n",
       "      <th>location_type</th>\n",
       "      <th>parent_station</th>\n",
       "      <th>stop_desc</th>\n",
       "      <th>stop_url</th>\n",
       "      <th>stop_timezone</th>\n",
       "      <th>wheelchair_boarding</th>\n",
       "      <th>platform_code</th>\n",
       "      <th>position</th>\n",
       "      <th>direction</th>\n",
       "      <th>* used by routes</th>\n",
       "      <th>stop_id</th>\n",
       "      <th>osm_node_id</th>\n",
       "      <th>shst_node_id</th>\n",
       "      <th>model_node_id</th>\n",
       "    </tr>\n",
       "  </thead>\n",
       "  <tbody>\n",
       "    <tr>\n",
       "      <th>4130</th>\n",
       "      <td>Transbay Temp Terminal</td>\n",
       "      <td>37.789707</td>\n",
       "      <td>-122.393626</td>\n",
       "      <td>2</td>\n",
       "      <td>ACTransit_2015_8_14</td>\n",
       "      <td>50751</td>\n",
       "      <td>NaN</td>\n",
       "      <td>place_ETSF</td>\n",
       "      <td>NaN</td>\n",
       "      <td>NaN</td>\n",
       "      <td>NaN</td>\n",
       "      <td>NaN</td>\n",
       "      <td>NaN</td>\n",
       "      <td>NaN</td>\n",
       "      <td>NaN</td>\n",
       "      <td>NaN</td>\n",
       "      <td>4187</td>\n",
       "      <td>3955000020</td>\n",
       "      <td>459ceb872e72e49fd4041a78884935e2</td>\n",
       "      <td>1021597</td>\n",
       "    </tr>\n",
       "    <tr>\n",
       "      <th>4611</th>\n",
       "      <td>Union City BART</td>\n",
       "      <td>37.590360</td>\n",
       "      <td>-122.017465</td>\n",
       "      <td>1</td>\n",
       "      <td>ACTransit_2015_8_14</td>\n",
       "      <td>50781</td>\n",
       "      <td>NaN</td>\n",
       "      <td>NaN</td>\n",
       "      <td>NaN</td>\n",
       "      <td>NaN</td>\n",
       "      <td>NaN</td>\n",
       "      <td>NaN</td>\n",
       "      <td>NaN</td>\n",
       "      <td>NaN</td>\n",
       "      <td>NaN</td>\n",
       "      <td>NaN</td>\n",
       "      <td>4669</td>\n",
       "      <td>1025879893</td>\n",
       "      <td>84c3f377f9f0065bf14be3af92202d0d</td>\n",
       "      <td>2509987</td>\n",
       "    </tr>\n",
       "    <tr>\n",
       "      <th>4636</th>\n",
       "      <td>Stanford Oval</td>\n",
       "      <td>37.429272</td>\n",
       "      <td>-122.168925</td>\n",
       "      <td>2</td>\n",
       "      <td>ACTransit_2015_8_14</td>\n",
       "      <td>55432</td>\n",
       "      <td>NaN</td>\n",
       "      <td>NaN</td>\n",
       "      <td>NaN</td>\n",
       "      <td>NaN</td>\n",
       "      <td>NaN</td>\n",
       "      <td>NaN</td>\n",
       "      <td>NaN</td>\n",
       "      <td>NaN</td>\n",
       "      <td>NaN</td>\n",
       "      <td>NaN</td>\n",
       "      <td>4694</td>\n",
       "      <td>522171022</td>\n",
       "      <td>6d2aeffcbad07f0873a268bea42838f3</td>\n",
       "      <td>2149155</td>\n",
       "    </tr>\n",
       "    <tr>\n",
       "      <th>22309</th>\n",
       "      <td>NaN</td>\n",
       "      <td>37.444794</td>\n",
       "      <td>-122.168849</td>\n",
       "      <td>1</td>\n",
       "      <td>SamTrans_2015_8_20</td>\n",
       "      <td>NaN</td>\n",
       "      <td>NaN</td>\n",
       "      <td>NaN</td>\n",
       "      <td>NaN</td>\n",
       "      <td>NaN</td>\n",
       "      <td>NaN</td>\n",
       "      <td>NaN</td>\n",
       "      <td>NaN</td>\n",
       "      <td>NaN</td>\n",
       "      <td>NaN</td>\n",
       "      <td>NaN</td>\n",
       "      <td>102036044</td>\n",
       "      <td>NaN</td>\n",
       "      <td>NaN</td>\n",
       "      <td>2036044</td>\n",
       "    </tr>\n",
       "    <tr>\n",
       "      <th>22338</th>\n",
       "      <td>NaN</td>\n",
       "      <td>37.673730</td>\n",
       "      <td>-122.467029</td>\n",
       "      <td>1</td>\n",
       "      <td>SamTrans_2015_8_20</td>\n",
       "      <td>NaN</td>\n",
       "      <td>NaN</td>\n",
       "      <td>NaN</td>\n",
       "      <td>NaN</td>\n",
       "      <td>NaN</td>\n",
       "      <td>NaN</td>\n",
       "      <td>NaN</td>\n",
       "      <td>NaN</td>\n",
       "      <td>NaN</td>\n",
       "      <td>NaN</td>\n",
       "      <td>NaN</td>\n",
       "      <td>101523872</td>\n",
       "      <td>NaN</td>\n",
       "      <td>NaN</td>\n",
       "      <td>1523872</td>\n",
       "    </tr>\n",
       "  </tbody>\n",
       "</table>\n",
       "</div>"
      ],
      "text/plain": [
       "                    stop_name   stop_lat    stop_lon zone_id  \\\n",
       "4130   Transbay Temp Terminal  37.789707 -122.393626       2   \n",
       "4611          Union City BART  37.590360 -122.017465       1   \n",
       "4636            Stanford Oval  37.429272 -122.168925       2   \n",
       "22309                     NaN  37.444794 -122.168849       1   \n",
       "22338                     NaN  37.673730 -122.467029       1   \n",
       "\n",
       "           agency_raw_name stop_code  location_type parent_station stop_desc  \\\n",
       "4130   ACTransit_2015_8_14     50751            NaN     place_ETSF       NaN   \n",
       "4611   ACTransit_2015_8_14     50781            NaN            NaN       NaN   \n",
       "4636   ACTransit_2015_8_14     55432            NaN            NaN       NaN   \n",
       "22309   SamTrans_2015_8_20       NaN            NaN            NaN       NaN   \n",
       "22338   SamTrans_2015_8_20       NaN            NaN            NaN       NaN   \n",
       "\n",
       "      stop_url stop_timezone  wheelchair_boarding platform_code position  \\\n",
       "4130       NaN           NaN                  NaN           NaN      NaN   \n",
       "4611       NaN           NaN                  NaN           NaN      NaN   \n",
       "4636       NaN           NaN                  NaN           NaN      NaN   \n",
       "22309      NaN           NaN                  NaN           NaN      NaN   \n",
       "22338      NaN           NaN                  NaN           NaN      NaN   \n",
       "\n",
       "      direction * used by routes    stop_id osm_node_id  \\\n",
       "4130        NaN              NaN       4187  3955000020   \n",
       "4611        NaN              NaN       4669  1025879893   \n",
       "4636        NaN              NaN       4694   522171022   \n",
       "22309       NaN              NaN  102036044         NaN   \n",
       "22338       NaN              NaN  101523872         NaN   \n",
       "\n",
       "                           shst_node_id model_node_id  \n",
       "4130   459ceb872e72e49fd4041a78884935e2       1021597  \n",
       "4611   84c3f377f9f0065bf14be3af92202d0d       2509987  \n",
       "4636   6d2aeffcbad07f0873a268bea42838f3       2149155  \n",
       "22309                               NaN       2036044  \n",
       "22338                               NaN       1523872  "
      ]
     },
     "execution_count": 63,
     "metadata": {},
     "output_type": "execute_result"
    }
   ],
   "source": [
    "# zone id should be \"2\" (ac transit), \"1\" (dumbarton union city), \"2\" (ac transit dumbarton), \"1\" (samtrans) , \"1\" (samtrans)\n",
    "\n",
    "step5_scenario.transit_net.feed.stops[step5_scenario.transit_net.feed.stops.stop_id.isin(\n",
    "    [\"101523872\", \"4694\", \"4669\", \"102036044\", \"4187\"])]"
   ]
  },
  {
   "cell_type": "code",
   "execution_count": 64,
   "metadata": {},
   "outputs": [
    {
     "data": {
      "text/html": [
       "<div>\n",
       "<style scoped>\n",
       "    .dataframe tbody tr th:only-of-type {\n",
       "        vertical-align: middle;\n",
       "    }\n",
       "\n",
       "    .dataframe tbody tr th {\n",
       "        vertical-align: top;\n",
       "    }\n",
       "\n",
       "    .dataframe thead th {\n",
       "        text-align: right;\n",
       "    }\n",
       "</style>\n",
       "<table border=\"1\" class=\"dataframe\">\n",
       "  <thead>\n",
       "    <tr style=\"text-align: right;\">\n",
       "      <th></th>\n",
       "      <th>stop_name</th>\n",
       "      <th>stop_lat</th>\n",
       "      <th>stop_lon</th>\n",
       "      <th>zone_id</th>\n",
       "      <th>agency_raw_name</th>\n",
       "      <th>stop_code</th>\n",
       "      <th>location_type</th>\n",
       "      <th>parent_station</th>\n",
       "      <th>stop_desc</th>\n",
       "      <th>stop_url</th>\n",
       "      <th>stop_timezone</th>\n",
       "      <th>wheelchair_boarding</th>\n",
       "      <th>platform_code</th>\n",
       "      <th>position</th>\n",
       "      <th>direction</th>\n",
       "      <th>* used by routes</th>\n",
       "      <th>stop_id</th>\n",
       "      <th>osm_node_id</th>\n",
       "      <th>shst_node_id</th>\n",
       "      <th>model_node_id</th>\n",
       "    </tr>\n",
       "  </thead>\n",
       "  <tbody>\n",
       "    <tr>\n",
       "      <th>7603</th>\n",
       "      <td>San Franciso Ferry Terminal</td>\n",
       "      <td>37.796169</td>\n",
       "      <td>-122.391617</td>\n",
       "      <td>NaN</td>\n",
       "      <td>GGTransit_2015_9_3</td>\n",
       "      <td>43000</td>\n",
       "      <td>NaN</td>\n",
       "      <td>NaN</td>\n",
       "      <td>NaN</td>\n",
       "      <td>NaN</td>\n",
       "      <td>NaN</td>\n",
       "      <td>NaN</td>\n",
       "      <td>NaN</td>\n",
       "      <td>NaN</td>\n",
       "      <td>NaN</td>\n",
       "      <td>NaN</td>\n",
       "      <td>7706</td>\n",
       "      <td>NaN</td>\n",
       "      <td>NaN</td>\n",
       "      <td>1027623</td>\n",
       "    </tr>\n",
       "    <tr>\n",
       "      <th>7604</th>\n",
       "      <td>Sausalito Ferry Terminal</td>\n",
       "      <td>37.856403</td>\n",
       "      <td>-122.478249</td>\n",
       "      <td>NaN</td>\n",
       "      <td>GGTransit_2015_9_3</td>\n",
       "      <td>43003</td>\n",
       "      <td>NaN</td>\n",
       "      <td>NaN</td>\n",
       "      <td>NaN</td>\n",
       "      <td>NaN</td>\n",
       "      <td>NaN</td>\n",
       "      <td>NaN</td>\n",
       "      <td>NaN</td>\n",
       "      <td>NaN</td>\n",
       "      <td>NaN</td>\n",
       "      <td>NaN</td>\n",
       "      <td>7707</td>\n",
       "      <td>NaN</td>\n",
       "      <td>NaN</td>\n",
       "      <td>5026533</td>\n",
       "    </tr>\n",
       "    <tr>\n",
       "      <th>7605</th>\n",
       "      <td>Larkspur Ferry Terminal</td>\n",
       "      <td>37.945316</td>\n",
       "      <td>-122.508736</td>\n",
       "      <td>NaN</td>\n",
       "      <td>GGTransit_2015_9_3</td>\n",
       "      <td>43004</td>\n",
       "      <td>NaN</td>\n",
       "      <td>NaN</td>\n",
       "      <td>NaN</td>\n",
       "      <td>NaN</td>\n",
       "      <td>NaN</td>\n",
       "      <td>NaN</td>\n",
       "      <td>NaN</td>\n",
       "      <td>NaN</td>\n",
       "      <td>NaN</td>\n",
       "      <td>NaN</td>\n",
       "      <td>7708</td>\n",
       "      <td>NaN</td>\n",
       "      <td>NaN</td>\n",
       "      <td>5026532</td>\n",
       "    </tr>\n",
       "  </tbody>\n",
       "</table>\n",
       "</div>"
      ],
      "text/plain": [
       "                        stop_name   stop_lat    stop_lon zone_id  \\\n",
       "7603  San Franciso Ferry Terminal  37.796169 -122.391617     NaN   \n",
       "7604     Sausalito Ferry Terminal  37.856403 -122.478249     NaN   \n",
       "7605      Larkspur Ferry Terminal  37.945316 -122.508736     NaN   \n",
       "\n",
       "         agency_raw_name stop_code  location_type parent_station stop_desc  \\\n",
       "7603  GGTransit_2015_9_3     43000            NaN            NaN       NaN   \n",
       "7604  GGTransit_2015_9_3     43003            NaN            NaN       NaN   \n",
       "7605  GGTransit_2015_9_3     43004            NaN            NaN       NaN   \n",
       "\n",
       "     stop_url stop_timezone  wheelchair_boarding platform_code position  \\\n",
       "7603      NaN           NaN                  NaN           NaN      NaN   \n",
       "7604      NaN           NaN                  NaN           NaN      NaN   \n",
       "7605      NaN           NaN                  NaN           NaN      NaN   \n",
       "\n",
       "     direction * used by routes stop_id osm_node_id shst_node_id model_node_id  \n",
       "7603       NaN              NaN    7706         NaN          NaN       1027623  \n",
       "7604       NaN              NaN    7707         NaN          NaN       5026533  \n",
       "7605       NaN              NaN    7708         NaN          NaN       5026532  "
      ]
     },
     "execution_count": 64,
     "metadata": {},
     "output_type": "execute_result"
    }
   ],
   "source": [
    "# check zone_id is removed for gg ferry stops\n",
    "\n",
    "step5_scenario.transit_net.feed.stops[step5_scenario.transit_net.feed.stops.stop_id.isin(\n",
    "    [\"7706\", \"7707\", \"7708\"])]"
   ]
  },
  {
   "cell_type": "code",
   "execution_count": 65,
   "metadata": {},
   "outputs": [
    {
     "data": {
      "text/html": [
       "<div>\n",
       "<style scoped>\n",
       "    .dataframe tbody tr th:only-of-type {\n",
       "        vertical-align: middle;\n",
       "    }\n",
       "\n",
       "    .dataframe tbody tr th {\n",
       "        vertical-align: top;\n",
       "    }\n",
       "\n",
       "    .dataframe thead th {\n",
       "        text-align: right;\n",
       "    }\n",
       "</style>\n",
       "<table border=\"1\" class=\"dataframe\">\n",
       "  <thead>\n",
       "    <tr style=\"text-align: right;\">\n",
       "      <th></th>\n",
       "      <th>stop_name</th>\n",
       "      <th>stop_lat</th>\n",
       "      <th>stop_lon</th>\n",
       "      <th>zone_id</th>\n",
       "      <th>agency_raw_name</th>\n",
       "      <th>stop_code</th>\n",
       "      <th>location_type</th>\n",
       "      <th>parent_station</th>\n",
       "      <th>stop_desc</th>\n",
       "      <th>stop_url</th>\n",
       "      <th>stop_timezone</th>\n",
       "      <th>wheelchair_boarding</th>\n",
       "      <th>platform_code</th>\n",
       "      <th>position</th>\n",
       "      <th>direction</th>\n",
       "      <th>* used by routes</th>\n",
       "      <th>stop_id</th>\n",
       "      <th>osm_node_id</th>\n",
       "      <th>shst_node_id</th>\n",
       "      <th>model_node_id</th>\n",
       "    </tr>\n",
       "  </thead>\n",
       "  <tbody>\n",
       "    <tr>\n",
       "      <th>6741</th>\n",
       "      <td>El Cerrito Del Norte BART</td>\n",
       "      <td>37.924894</td>\n",
       "      <td>-122.317048</td>\n",
       "      <td>671</td>\n",
       "      <td>Fairfield_2015_10_14</td>\n",
       "      <td>400</td>\n",
       "      <td>0.0</td>\n",
       "      <td>NaN</td>\n",
       "      <td>NaN</td>\n",
       "      <td>NaN</td>\n",
       "      <td>NaN</td>\n",
       "      <td>NaN</td>\n",
       "      <td>NaN</td>\n",
       "      <td>NaN</td>\n",
       "      <td>NaN</td>\n",
       "      <td>NaN</td>\n",
       "      <td>6972</td>\n",
       "      <td>1781110705</td>\n",
       "      <td>e235e2f09ba74bdbe6b6abb3e44fc47e</td>\n",
       "      <td>3060051</td>\n",
       "    </tr>\n",
       "    <tr>\n",
       "      <th>6779</th>\n",
       "      <td>Main Street and Lotz Way</td>\n",
       "      <td>38.243081</td>\n",
       "      <td>-122.040478</td>\n",
       "      <td>663</td>\n",
       "      <td>Fairfield_2015_10_14</td>\n",
       "      <td>172</td>\n",
       "      <td>0.0</td>\n",
       "      <td>NaN</td>\n",
       "      <td>Far-Side</td>\n",
       "      <td>NaN</td>\n",
       "      <td>NaN</td>\n",
       "      <td>NaN</td>\n",
       "      <td>NaN</td>\n",
       "      <td>NaN</td>\n",
       "      <td>NaN</td>\n",
       "      <td>NaN</td>\n",
       "      <td>6817</td>\n",
       "      <td>62481309</td>\n",
       "      <td>52b70c286cb2792528a436f5736b33f7</td>\n",
       "      <td>3512083</td>\n",
       "    </tr>\n",
       "  </tbody>\n",
       "</table>\n",
       "</div>"
      ],
      "text/plain": [
       "                      stop_name   stop_lat    stop_lon zone_id  \\\n",
       "6741  El Cerrito Del Norte BART  37.924894 -122.317048     671   \n",
       "6779   Main Street and Lotz Way  38.243081 -122.040478     663   \n",
       "\n",
       "           agency_raw_name stop_code  location_type parent_station stop_desc  \\\n",
       "6741  Fairfield_2015_10_14       400            0.0            NaN       NaN   \n",
       "6779  Fairfield_2015_10_14       172            0.0            NaN  Far-Side   \n",
       "\n",
       "     stop_url stop_timezone  wheelchair_boarding platform_code position  \\\n",
       "6741      NaN           NaN                  NaN           NaN      NaN   \n",
       "6779      NaN           NaN                  NaN           NaN      NaN   \n",
       "\n",
       "     direction * used by routes stop_id osm_node_id  \\\n",
       "6741       NaN              NaN    6972  1781110705   \n",
       "6779       NaN              NaN    6817    62481309   \n",
       "\n",
       "                          shst_node_id model_node_id  \n",
       "6741  e235e2f09ba74bdbe6b6abb3e44fc47e       3060051  \n",
       "6779  52b70c286cb2792528a436f5736b33f7       3512083  "
      ]
     },
     "execution_count": 65,
     "metadata": {},
     "output_type": "execute_result"
    }
   ],
   "source": [
    "# check zone_id is updated for fairfield\n",
    "\n",
    "step5_scenario.transit_net.feed.stops[step5_scenario.transit_net.feed.stops.stop_id.isin(\n",
    "    [\"6817\", \"6972\"])]"
   ]
  },
  {
   "cell_type": "code",
   "execution_count": 66,
   "metadata": {},
   "outputs": [
    {
     "data": {
      "text/plain": [
       "314471    {'default': 0, 'timeofday': [{'time': (21600, ...\n",
       "762806    {'default': 0, 'timeofday': [{'time': (21600, ...\n",
       "Name: useclass, dtype: object"
      ]
     },
     "execution_count": 66,
     "metadata": {},
     "output_type": "execute_result"
    }
   ],
   "source": [
    "# check USECLASS on I-80 WB to Bay Bridge Toll Plaza\n",
    "\n",
    "step5_scenario.road_net.links_df[step5_scenario.road_net.links_df['model_link_id'].isin([3061568, 3149471])].useclass"
   ]
  },
  {
   "cell_type": "code",
   "execution_count": 67,
   "metadata": {
    "scrolled": true
   },
   "outputs": [
    {
     "data": {
      "text/html": [
       "<div>\n",
       "<style scoped>\n",
       "    .dataframe tbody tr th:only-of-type {\n",
       "        vertical-align: middle;\n",
       "    }\n",
       "\n",
       "    .dataframe tbody tr th {\n",
       "        vertical-align: top;\n",
       "    }\n",
       "\n",
       "    .dataframe thead th {\n",
       "        text-align: right;\n",
       "    }\n",
       "</style>\n",
       "<table border=\"1\" class=\"dataframe\">\n",
       "  <thead>\n",
       "    <tr style=\"text-align: right;\">\n",
       "      <th></th>\n",
       "      <th>stop_name</th>\n",
       "      <th>stop_lat</th>\n",
       "      <th>stop_lon</th>\n",
       "      <th>zone_id</th>\n",
       "      <th>agency_raw_name</th>\n",
       "      <th>stop_code</th>\n",
       "      <th>location_type</th>\n",
       "      <th>parent_station</th>\n",
       "      <th>stop_desc</th>\n",
       "      <th>stop_url</th>\n",
       "      <th>stop_timezone</th>\n",
       "      <th>wheelchair_boarding</th>\n",
       "      <th>platform_code</th>\n",
       "      <th>position</th>\n",
       "      <th>direction</th>\n",
       "      <th>* used by routes</th>\n",
       "      <th>stop_id</th>\n",
       "      <th>osm_node_id</th>\n",
       "      <th>shst_node_id</th>\n",
       "      <th>model_node_id</th>\n",
       "    </tr>\n",
       "  </thead>\n",
       "  <tbody>\n",
       "    <tr>\n",
       "      <th>22309</th>\n",
       "      <td>NaN</td>\n",
       "      <td>37.444794</td>\n",
       "      <td>-122.168849</td>\n",
       "      <td>1</td>\n",
       "      <td>SamTrans_2015_8_20</td>\n",
       "      <td>NaN</td>\n",
       "      <td>NaN</td>\n",
       "      <td>NaN</td>\n",
       "      <td>NaN</td>\n",
       "      <td>NaN</td>\n",
       "      <td>NaN</td>\n",
       "      <td>NaN</td>\n",
       "      <td>NaN</td>\n",
       "      <td>NaN</td>\n",
       "      <td>NaN</td>\n",
       "      <td>NaN</td>\n",
       "      <td>102036044</td>\n",
       "      <td>NaN</td>\n",
       "      <td>NaN</td>\n",
       "      <td>2036044</td>\n",
       "    </tr>\n",
       "    <tr>\n",
       "      <th>22310</th>\n",
       "      <td>NaN</td>\n",
       "      <td>37.472389</td>\n",
       "      <td>-122.216100</td>\n",
       "      <td>1</td>\n",
       "      <td>SamTrans_2015_8_20</td>\n",
       "      <td>NaN</td>\n",
       "      <td>NaN</td>\n",
       "      <td>NaN</td>\n",
       "      <td>NaN</td>\n",
       "      <td>NaN</td>\n",
       "      <td>NaN</td>\n",
       "      <td>NaN</td>\n",
       "      <td>NaN</td>\n",
       "      <td>NaN</td>\n",
       "      <td>NaN</td>\n",
       "      <td>NaN</td>\n",
       "      <td>101511493</td>\n",
       "      <td>NaN</td>\n",
       "      <td>NaN</td>\n",
       "      <td>1511493</td>\n",
       "    </tr>\n",
       "    <tr>\n",
       "      <th>22311</th>\n",
       "      <td>NaN</td>\n",
       "      <td>37.483308</td>\n",
       "      <td>-122.231206</td>\n",
       "      <td>1</td>\n",
       "      <td>SamTrans_2015_8_20</td>\n",
       "      <td>NaN</td>\n",
       "      <td>NaN</td>\n",
       "      <td>NaN</td>\n",
       "      <td>NaN</td>\n",
       "      <td>NaN</td>\n",
       "      <td>NaN</td>\n",
       "      <td>NaN</td>\n",
       "      <td>NaN</td>\n",
       "      <td>NaN</td>\n",
       "      <td>NaN</td>\n",
       "      <td>NaN</td>\n",
       "      <td>101516920</td>\n",
       "      <td>NaN</td>\n",
       "      <td>NaN</td>\n",
       "      <td>1516920</td>\n",
       "    </tr>\n",
       "    <tr>\n",
       "      <th>22312</th>\n",
       "      <td>NaN</td>\n",
       "      <td>37.485404</td>\n",
       "      <td>-122.233938</td>\n",
       "      <td>1</td>\n",
       "      <td>SamTrans_2015_8_20</td>\n",
       "      <td>NaN</td>\n",
       "      <td>NaN</td>\n",
       "      <td>NaN</td>\n",
       "      <td>NaN</td>\n",
       "      <td>NaN</td>\n",
       "      <td>NaN</td>\n",
       "      <td>NaN</td>\n",
       "      <td>NaN</td>\n",
       "      <td>NaN</td>\n",
       "      <td>NaN</td>\n",
       "      <td>NaN</td>\n",
       "      <td>101525498</td>\n",
       "      <td>NaN</td>\n",
       "      <td>NaN</td>\n",
       "      <td>1525498</td>\n",
       "    </tr>\n",
       "    <tr>\n",
       "      <th>22313</th>\n",
       "      <td>NaN</td>\n",
       "      <td>37.489469</td>\n",
       "      <td>-122.238568</td>\n",
       "      <td>1</td>\n",
       "      <td>SamTrans_2015_8_20</td>\n",
       "      <td>NaN</td>\n",
       "      <td>NaN</td>\n",
       "      <td>NaN</td>\n",
       "      <td>NaN</td>\n",
       "      <td>NaN</td>\n",
       "      <td>NaN</td>\n",
       "      <td>NaN</td>\n",
       "      <td>NaN</td>\n",
       "      <td>NaN</td>\n",
       "      <td>NaN</td>\n",
       "      <td>NaN</td>\n",
       "      <td>101516256</td>\n",
       "      <td>NaN</td>\n",
       "      <td>NaN</td>\n",
       "      <td>1516256</td>\n",
       "    </tr>\n",
       "    <tr>\n",
       "      <th>22314</th>\n",
       "      <td>NaN</td>\n",
       "      <td>37.503227</td>\n",
       "      <td>-122.255333</td>\n",
       "      <td>1</td>\n",
       "      <td>SamTrans_2015_8_20</td>\n",
       "      <td>NaN</td>\n",
       "      <td>NaN</td>\n",
       "      <td>NaN</td>\n",
       "      <td>NaN</td>\n",
       "      <td>NaN</td>\n",
       "      <td>NaN</td>\n",
       "      <td>NaN</td>\n",
       "      <td>NaN</td>\n",
       "      <td>NaN</td>\n",
       "      <td>NaN</td>\n",
       "      <td>NaN</td>\n",
       "      <td>101513094</td>\n",
       "      <td>NaN</td>\n",
       "      <td>NaN</td>\n",
       "      <td>1513094</td>\n",
       "    </tr>\n",
       "    <tr>\n",
       "      <th>22315</th>\n",
       "      <td>NaN</td>\n",
       "      <td>37.507359</td>\n",
       "      <td>-122.260283</td>\n",
       "      <td>1</td>\n",
       "      <td>SamTrans_2015_8_20</td>\n",
       "      <td>NaN</td>\n",
       "      <td>NaN</td>\n",
       "      <td>NaN</td>\n",
       "      <td>NaN</td>\n",
       "      <td>NaN</td>\n",
       "      <td>NaN</td>\n",
       "      <td>NaN</td>\n",
       "      <td>NaN</td>\n",
       "      <td>NaN</td>\n",
       "      <td>NaN</td>\n",
       "      <td>NaN</td>\n",
       "      <td>101513976</td>\n",
       "      <td>NaN</td>\n",
       "      <td>NaN</td>\n",
       "      <td>1513976</td>\n",
       "    </tr>\n",
       "    <tr>\n",
       "      <th>22316</th>\n",
       "      <td>NaN</td>\n",
       "      <td>37.526752</td>\n",
       "      <td>-122.283581</td>\n",
       "      <td>1</td>\n",
       "      <td>SamTrans_2015_8_20</td>\n",
       "      <td>NaN</td>\n",
       "      <td>NaN</td>\n",
       "      <td>NaN</td>\n",
       "      <td>NaN</td>\n",
       "      <td>NaN</td>\n",
       "      <td>NaN</td>\n",
       "      <td>NaN</td>\n",
       "      <td>NaN</td>\n",
       "      <td>NaN</td>\n",
       "      <td>NaN</td>\n",
       "      <td>NaN</td>\n",
       "      <td>101528479</td>\n",
       "      <td>NaN</td>\n",
       "      <td>NaN</td>\n",
       "      <td>1528479</td>\n",
       "    </tr>\n",
       "    <tr>\n",
       "      <th>22317</th>\n",
       "      <td>NaN</td>\n",
       "      <td>37.540371</td>\n",
       "      <td>-122.301416</td>\n",
       "      <td>1</td>\n",
       "      <td>SamTrans_2015_8_20</td>\n",
       "      <td>NaN</td>\n",
       "      <td>NaN</td>\n",
       "      <td>NaN</td>\n",
       "      <td>NaN</td>\n",
       "      <td>NaN</td>\n",
       "      <td>NaN</td>\n",
       "      <td>NaN</td>\n",
       "      <td>NaN</td>\n",
       "      <td>NaN</td>\n",
       "      <td>NaN</td>\n",
       "      <td>NaN</td>\n",
       "      <td>101529690</td>\n",
       "      <td>NaN</td>\n",
       "      <td>NaN</td>\n",
       "      <td>1529690</td>\n",
       "    </tr>\n",
       "    <tr>\n",
       "      <th>22318</th>\n",
       "      <td>NaN</td>\n",
       "      <td>37.559804</td>\n",
       "      <td>-122.322379</td>\n",
       "      <td>1</td>\n",
       "      <td>SamTrans_2015_8_20</td>\n",
       "      <td>NaN</td>\n",
       "      <td>NaN</td>\n",
       "      <td>NaN</td>\n",
       "      <td>NaN</td>\n",
       "      <td>NaN</td>\n",
       "      <td>NaN</td>\n",
       "      <td>NaN</td>\n",
       "      <td>NaN</td>\n",
       "      <td>NaN</td>\n",
       "      <td>NaN</td>\n",
       "      <td>NaN</td>\n",
       "      <td>101529454</td>\n",
       "      <td>NaN</td>\n",
       "      <td>NaN</td>\n",
       "      <td>1529454</td>\n",
       "    </tr>\n",
       "    <tr>\n",
       "      <th>22319</th>\n",
       "      <td>NaN</td>\n",
       "      <td>37.561699</td>\n",
       "      <td>-122.324410</td>\n",
       "      <td>1</td>\n",
       "      <td>SamTrans_2015_8_20</td>\n",
       "      <td>NaN</td>\n",
       "      <td>NaN</td>\n",
       "      <td>NaN</td>\n",
       "      <td>NaN</td>\n",
       "      <td>NaN</td>\n",
       "      <td>NaN</td>\n",
       "      <td>NaN</td>\n",
       "      <td>NaN</td>\n",
       "      <td>NaN</td>\n",
       "      <td>NaN</td>\n",
       "      <td>NaN</td>\n",
       "      <td>101519622</td>\n",
       "      <td>NaN</td>\n",
       "      <td>NaN</td>\n",
       "      <td>1519622</td>\n",
       "    </tr>\n",
       "    <tr>\n",
       "      <th>22320</th>\n",
       "      <td>NaN</td>\n",
       "      <td>37.594602</td>\n",
       "      <td>-122.383151</td>\n",
       "      <td>1</td>\n",
       "      <td>SamTrans_2015_8_20</td>\n",
       "      <td>NaN</td>\n",
       "      <td>NaN</td>\n",
       "      <td>NaN</td>\n",
       "      <td>NaN</td>\n",
       "      <td>NaN</td>\n",
       "      <td>NaN</td>\n",
       "      <td>NaN</td>\n",
       "      <td>NaN</td>\n",
       "      <td>NaN</td>\n",
       "      <td>NaN</td>\n",
       "      <td>NaN</td>\n",
       "      <td>101513122</td>\n",
       "      <td>NaN</td>\n",
       "      <td>NaN</td>\n",
       "      <td>1513122</td>\n",
       "    </tr>\n",
       "    <tr>\n",
       "      <th>22321</th>\n",
       "      <td>NaN</td>\n",
       "      <td>37.596809</td>\n",
       "      <td>-122.385824</td>\n",
       "      <td>1</td>\n",
       "      <td>SamTrans_2015_8_20</td>\n",
       "      <td>NaN</td>\n",
       "      <td>NaN</td>\n",
       "      <td>NaN</td>\n",
       "      <td>NaN</td>\n",
       "      <td>NaN</td>\n",
       "      <td>NaN</td>\n",
       "      <td>NaN</td>\n",
       "      <td>NaN</td>\n",
       "      <td>NaN</td>\n",
       "      <td>NaN</td>\n",
       "      <td>NaN</td>\n",
       "      <td>101514054</td>\n",
       "      <td>NaN</td>\n",
       "      <td>NaN</td>\n",
       "      <td>1514054</td>\n",
       "    </tr>\n",
       "    <tr>\n",
       "      <th>22322</th>\n",
       "      <td>NaN</td>\n",
       "      <td>37.599120</td>\n",
       "      <td>-122.387918</td>\n",
       "      <td>1</td>\n",
       "      <td>SamTrans_2015_8_20</td>\n",
       "      <td>NaN</td>\n",
       "      <td>NaN</td>\n",
       "      <td>NaN</td>\n",
       "      <td>NaN</td>\n",
       "      <td>NaN</td>\n",
       "      <td>NaN</td>\n",
       "      <td>NaN</td>\n",
       "      <td>NaN</td>\n",
       "      <td>NaN</td>\n",
       "      <td>NaN</td>\n",
       "      <td>NaN</td>\n",
       "      <td>101543182</td>\n",
       "      <td>NaN</td>\n",
       "      <td>NaN</td>\n",
       "      <td>1543182</td>\n",
       "    </tr>\n",
       "    <tr>\n",
       "      <th>22323</th>\n",
       "      <td>NaN</td>\n",
       "      <td>37.610467</td>\n",
       "      <td>-122.401464</td>\n",
       "      <td>1</td>\n",
       "      <td>SamTrans_2015_8_20</td>\n",
       "      <td>NaN</td>\n",
       "      <td>NaN</td>\n",
       "      <td>NaN</td>\n",
       "      <td>NaN</td>\n",
       "      <td>NaN</td>\n",
       "      <td>NaN</td>\n",
       "      <td>NaN</td>\n",
       "      <td>NaN</td>\n",
       "      <td>NaN</td>\n",
       "      <td>NaN</td>\n",
       "      <td>NaN</td>\n",
       "      <td>101512385</td>\n",
       "      <td>NaN</td>\n",
       "      <td>NaN</td>\n",
       "      <td>1512385</td>\n",
       "    </tr>\n",
       "    <tr>\n",
       "      <th>22324</th>\n",
       "      <td>NaN</td>\n",
       "      <td>37.625309</td>\n",
       "      <td>-122.414205</td>\n",
       "      <td>1</td>\n",
       "      <td>SamTrans_2015_8_20</td>\n",
       "      <td>NaN</td>\n",
       "      <td>NaN</td>\n",
       "      <td>NaN</td>\n",
       "      <td>NaN</td>\n",
       "      <td>NaN</td>\n",
       "      <td>NaN</td>\n",
       "      <td>NaN</td>\n",
       "      <td>NaN</td>\n",
       "      <td>NaN</td>\n",
       "      <td>NaN</td>\n",
       "      <td>NaN</td>\n",
       "      <td>101534620</td>\n",
       "      <td>NaN</td>\n",
       "      <td>NaN</td>\n",
       "      <td>1534620</td>\n",
       "    </tr>\n",
       "    <tr>\n",
       "      <th>22325</th>\n",
       "      <td>NaN</td>\n",
       "      <td>37.628844</td>\n",
       "      <td>-122.416505</td>\n",
       "      <td>1</td>\n",
       "      <td>SamTrans_2015_8_20</td>\n",
       "      <td>NaN</td>\n",
       "      <td>NaN</td>\n",
       "      <td>NaN</td>\n",
       "      <td>NaN</td>\n",
       "      <td>NaN</td>\n",
       "      <td>NaN</td>\n",
       "      <td>NaN</td>\n",
       "      <td>NaN</td>\n",
       "      <td>NaN</td>\n",
       "      <td>NaN</td>\n",
       "      <td>NaN</td>\n",
       "      <td>101503246</td>\n",
       "      <td>NaN</td>\n",
       "      <td>NaN</td>\n",
       "      <td>1503246</td>\n",
       "    </tr>\n",
       "    <tr>\n",
       "      <th>22326</th>\n",
       "      <td>NaN</td>\n",
       "      <td>37.658391</td>\n",
       "      <td>-122.439236</td>\n",
       "      <td>1</td>\n",
       "      <td>SamTrans_2015_8_20</td>\n",
       "      <td>NaN</td>\n",
       "      <td>NaN</td>\n",
       "      <td>NaN</td>\n",
       "      <td>NaN</td>\n",
       "      <td>NaN</td>\n",
       "      <td>NaN</td>\n",
       "      <td>NaN</td>\n",
       "      <td>NaN</td>\n",
       "      <td>NaN</td>\n",
       "      <td>NaN</td>\n",
       "      <td>NaN</td>\n",
       "      <td>101537667</td>\n",
       "      <td>NaN</td>\n",
       "      <td>NaN</td>\n",
       "      <td>1537667</td>\n",
       "    </tr>\n",
       "    <tr>\n",
       "      <th>22327</th>\n",
       "      <td>NaN</td>\n",
       "      <td>37.664067</td>\n",
       "      <td>-122.448402</td>\n",
       "      <td>1</td>\n",
       "      <td>SamTrans_2015_8_20</td>\n",
       "      <td>NaN</td>\n",
       "      <td>NaN</td>\n",
       "      <td>NaN</td>\n",
       "      <td>NaN</td>\n",
       "      <td>NaN</td>\n",
       "      <td>NaN</td>\n",
       "      <td>NaN</td>\n",
       "      <td>NaN</td>\n",
       "      <td>NaN</td>\n",
       "      <td>NaN</td>\n",
       "      <td>NaN</td>\n",
       "      <td>101538028</td>\n",
       "      <td>NaN</td>\n",
       "      <td>NaN</td>\n",
       "      <td>1538028</td>\n",
       "    </tr>\n",
       "    <tr>\n",
       "      <th>22328</th>\n",
       "      <td>NaN</td>\n",
       "      <td>37.700195</td>\n",
       "      <td>-122.463650</td>\n",
       "      <td>1</td>\n",
       "      <td>SamTrans_2015_8_20</td>\n",
       "      <td>NaN</td>\n",
       "      <td>NaN</td>\n",
       "      <td>NaN</td>\n",
       "      <td>NaN</td>\n",
       "      <td>NaN</td>\n",
       "      <td>NaN</td>\n",
       "      <td>NaN</td>\n",
       "      <td>NaN</td>\n",
       "      <td>NaN</td>\n",
       "      <td>NaN</td>\n",
       "      <td>NaN</td>\n",
       "      <td>101526122</td>\n",
       "      <td>NaN</td>\n",
       "      <td>NaN</td>\n",
       "      <td>1526122</td>\n",
       "    </tr>\n",
       "    <tr>\n",
       "      <th>22329</th>\n",
       "      <td>NaN</td>\n",
       "      <td>37.620522</td>\n",
       "      <td>-122.410982</td>\n",
       "      <td>1</td>\n",
       "      <td>SamTrans_2015_8_20</td>\n",
       "      <td>NaN</td>\n",
       "      <td>NaN</td>\n",
       "      <td>NaN</td>\n",
       "      <td>NaN</td>\n",
       "      <td>NaN</td>\n",
       "      <td>NaN</td>\n",
       "      <td>NaN</td>\n",
       "      <td>NaN</td>\n",
       "      <td>NaN</td>\n",
       "      <td>NaN</td>\n",
       "      <td>NaN</td>\n",
       "      <td>101519051</td>\n",
       "      <td>NaN</td>\n",
       "      <td>NaN</td>\n",
       "      <td>1519051</td>\n",
       "    </tr>\n",
       "    <tr>\n",
       "      <th>22330</th>\n",
       "      <td>NaN</td>\n",
       "      <td>37.613842</td>\n",
       "      <td>-122.405051</td>\n",
       "      <td>1</td>\n",
       "      <td>SamTrans_2015_8_20</td>\n",
       "      <td>NaN</td>\n",
       "      <td>NaN</td>\n",
       "      <td>NaN</td>\n",
       "      <td>NaN</td>\n",
       "      <td>NaN</td>\n",
       "      <td>NaN</td>\n",
       "      <td>NaN</td>\n",
       "      <td>NaN</td>\n",
       "      <td>NaN</td>\n",
       "      <td>NaN</td>\n",
       "      <td>NaN</td>\n",
       "      <td>101503077</td>\n",
       "      <td>NaN</td>\n",
       "      <td>NaN</td>\n",
       "      <td>1503077</td>\n",
       "    </tr>\n",
       "    <tr>\n",
       "      <th>22331</th>\n",
       "      <td>NaN</td>\n",
       "      <td>37.596607</td>\n",
       "      <td>-122.385852</td>\n",
       "      <td>1</td>\n",
       "      <td>SamTrans_2015_8_20</td>\n",
       "      <td>NaN</td>\n",
       "      <td>NaN</td>\n",
       "      <td>NaN</td>\n",
       "      <td>NaN</td>\n",
       "      <td>NaN</td>\n",
       "      <td>NaN</td>\n",
       "      <td>NaN</td>\n",
       "      <td>NaN</td>\n",
       "      <td>NaN</td>\n",
       "      <td>NaN</td>\n",
       "      <td>NaN</td>\n",
       "      <td>101508313</td>\n",
       "      <td>NaN</td>\n",
       "      <td>NaN</td>\n",
       "      <td>1508313</td>\n",
       "    </tr>\n",
       "    <tr>\n",
       "      <th>22332</th>\n",
       "      <td>NaN</td>\n",
       "      <td>37.552161</td>\n",
       "      <td>-122.314161</td>\n",
       "      <td>1</td>\n",
       "      <td>SamTrans_2015_8_20</td>\n",
       "      <td>NaN</td>\n",
       "      <td>NaN</td>\n",
       "      <td>NaN</td>\n",
       "      <td>NaN</td>\n",
       "      <td>NaN</td>\n",
       "      <td>NaN</td>\n",
       "      <td>NaN</td>\n",
       "      <td>NaN</td>\n",
       "      <td>NaN</td>\n",
       "      <td>NaN</td>\n",
       "      <td>NaN</td>\n",
       "      <td>101508126</td>\n",
       "      <td>NaN</td>\n",
       "      <td>NaN</td>\n",
       "      <td>1508126</td>\n",
       "    </tr>\n",
       "    <tr>\n",
       "      <th>22333</th>\n",
       "      <td>NaN</td>\n",
       "      <td>37.511450</td>\n",
       "      <td>-122.265844</td>\n",
       "      <td>1</td>\n",
       "      <td>SamTrans_2015_8_20</td>\n",
       "      <td>NaN</td>\n",
       "      <td>NaN</td>\n",
       "      <td>NaN</td>\n",
       "      <td>NaN</td>\n",
       "      <td>NaN</td>\n",
       "      <td>NaN</td>\n",
       "      <td>NaN</td>\n",
       "      <td>NaN</td>\n",
       "      <td>NaN</td>\n",
       "      <td>NaN</td>\n",
       "      <td>NaN</td>\n",
       "      <td>101537888</td>\n",
       "      <td>NaN</td>\n",
       "      <td>NaN</td>\n",
       "      <td>1537888</td>\n",
       "    </tr>\n",
       "    <tr>\n",
       "      <th>22334</th>\n",
       "      <td>NaN</td>\n",
       "      <td>37.473806</td>\n",
       "      <td>-122.218246</td>\n",
       "      <td>1</td>\n",
       "      <td>SamTrans_2015_8_20</td>\n",
       "      <td>NaN</td>\n",
       "      <td>NaN</td>\n",
       "      <td>NaN</td>\n",
       "      <td>NaN</td>\n",
       "      <td>NaN</td>\n",
       "      <td>NaN</td>\n",
       "      <td>NaN</td>\n",
       "      <td>NaN</td>\n",
       "      <td>NaN</td>\n",
       "      <td>NaN</td>\n",
       "      <td>NaN</td>\n",
       "      <td>101519350</td>\n",
       "      <td>NaN</td>\n",
       "      <td>NaN</td>\n",
       "      <td>1519350</td>\n",
       "    </tr>\n",
       "    <tr>\n",
       "      <th>22335</th>\n",
       "      <td>NaN</td>\n",
       "      <td>37.467113</td>\n",
       "      <td>-122.209112</td>\n",
       "      <td>1</td>\n",
       "      <td>SamTrans_2015_8_20</td>\n",
       "      <td>NaN</td>\n",
       "      <td>NaN</td>\n",
       "      <td>NaN</td>\n",
       "      <td>NaN</td>\n",
       "      <td>NaN</td>\n",
       "      <td>NaN</td>\n",
       "      <td>NaN</td>\n",
       "      <td>NaN</td>\n",
       "      <td>NaN</td>\n",
       "      <td>NaN</td>\n",
       "      <td>NaN</td>\n",
       "      <td>101516319</td>\n",
       "      <td>NaN</td>\n",
       "      <td>NaN</td>\n",
       "      <td>1516319</td>\n",
       "    </tr>\n",
       "    <tr>\n",
       "      <th>22336</th>\n",
       "      <td>NaN</td>\n",
       "      <td>37.457395</td>\n",
       "      <td>-122.190835</td>\n",
       "      <td>1</td>\n",
       "      <td>SamTrans_2015_8_20</td>\n",
       "      <td>NaN</td>\n",
       "      <td>NaN</td>\n",
       "      <td>NaN</td>\n",
       "      <td>NaN</td>\n",
       "      <td>NaN</td>\n",
       "      <td>NaN</td>\n",
       "      <td>NaN</td>\n",
       "      <td>NaN</td>\n",
       "      <td>NaN</td>\n",
       "      <td>NaN</td>\n",
       "      <td>NaN</td>\n",
       "      <td>101509775</td>\n",
       "      <td>NaN</td>\n",
       "      <td>NaN</td>\n",
       "      <td>1509775</td>\n",
       "    </tr>\n",
       "    <tr>\n",
       "      <th>22337</th>\n",
       "      <td>NaN</td>\n",
       "      <td>37.452343</td>\n",
       "      <td>-122.180616</td>\n",
       "      <td>1</td>\n",
       "      <td>SamTrans_2015_8_20</td>\n",
       "      <td>NaN</td>\n",
       "      <td>NaN</td>\n",
       "      <td>NaN</td>\n",
       "      <td>NaN</td>\n",
       "      <td>NaN</td>\n",
       "      <td>NaN</td>\n",
       "      <td>NaN</td>\n",
       "      <td>NaN</td>\n",
       "      <td>NaN</td>\n",
       "      <td>NaN</td>\n",
       "      <td>NaN</td>\n",
       "      <td>101536669</td>\n",
       "      <td>NaN</td>\n",
       "      <td>NaN</td>\n",
       "      <td>1536669</td>\n",
       "    </tr>\n",
       "  </tbody>\n",
       "</table>\n",
       "</div>"
      ],
      "text/plain": [
       "      stop_name   stop_lat    stop_lon zone_id     agency_raw_name stop_code  \\\n",
       "22309       NaN  37.444794 -122.168849       1  SamTrans_2015_8_20       NaN   \n",
       "22310       NaN  37.472389 -122.216100       1  SamTrans_2015_8_20       NaN   \n",
       "22311       NaN  37.483308 -122.231206       1  SamTrans_2015_8_20       NaN   \n",
       "22312       NaN  37.485404 -122.233938       1  SamTrans_2015_8_20       NaN   \n",
       "22313       NaN  37.489469 -122.238568       1  SamTrans_2015_8_20       NaN   \n",
       "22314       NaN  37.503227 -122.255333       1  SamTrans_2015_8_20       NaN   \n",
       "22315       NaN  37.507359 -122.260283       1  SamTrans_2015_8_20       NaN   \n",
       "22316       NaN  37.526752 -122.283581       1  SamTrans_2015_8_20       NaN   \n",
       "22317       NaN  37.540371 -122.301416       1  SamTrans_2015_8_20       NaN   \n",
       "22318       NaN  37.559804 -122.322379       1  SamTrans_2015_8_20       NaN   \n",
       "22319       NaN  37.561699 -122.324410       1  SamTrans_2015_8_20       NaN   \n",
       "22320       NaN  37.594602 -122.383151       1  SamTrans_2015_8_20       NaN   \n",
       "22321       NaN  37.596809 -122.385824       1  SamTrans_2015_8_20       NaN   \n",
       "22322       NaN  37.599120 -122.387918       1  SamTrans_2015_8_20       NaN   \n",
       "22323       NaN  37.610467 -122.401464       1  SamTrans_2015_8_20       NaN   \n",
       "22324       NaN  37.625309 -122.414205       1  SamTrans_2015_8_20       NaN   \n",
       "22325       NaN  37.628844 -122.416505       1  SamTrans_2015_8_20       NaN   \n",
       "22326       NaN  37.658391 -122.439236       1  SamTrans_2015_8_20       NaN   \n",
       "22327       NaN  37.664067 -122.448402       1  SamTrans_2015_8_20       NaN   \n",
       "22328       NaN  37.700195 -122.463650       1  SamTrans_2015_8_20       NaN   \n",
       "22329       NaN  37.620522 -122.410982       1  SamTrans_2015_8_20       NaN   \n",
       "22330       NaN  37.613842 -122.405051       1  SamTrans_2015_8_20       NaN   \n",
       "22331       NaN  37.596607 -122.385852       1  SamTrans_2015_8_20       NaN   \n",
       "22332       NaN  37.552161 -122.314161       1  SamTrans_2015_8_20       NaN   \n",
       "22333       NaN  37.511450 -122.265844       1  SamTrans_2015_8_20       NaN   \n",
       "22334       NaN  37.473806 -122.218246       1  SamTrans_2015_8_20       NaN   \n",
       "22335       NaN  37.467113 -122.209112       1  SamTrans_2015_8_20       NaN   \n",
       "22336       NaN  37.457395 -122.190835       1  SamTrans_2015_8_20       NaN   \n",
       "22337       NaN  37.452343 -122.180616       1  SamTrans_2015_8_20       NaN   \n",
       "\n",
       "       location_type parent_station stop_desc stop_url stop_timezone  \\\n",
       "22309            NaN            NaN       NaN      NaN           NaN   \n",
       "22310            NaN            NaN       NaN      NaN           NaN   \n",
       "22311            NaN            NaN       NaN      NaN           NaN   \n",
       "22312            NaN            NaN       NaN      NaN           NaN   \n",
       "22313            NaN            NaN       NaN      NaN           NaN   \n",
       "22314            NaN            NaN       NaN      NaN           NaN   \n",
       "22315            NaN            NaN       NaN      NaN           NaN   \n",
       "22316            NaN            NaN       NaN      NaN           NaN   \n",
       "22317            NaN            NaN       NaN      NaN           NaN   \n",
       "22318            NaN            NaN       NaN      NaN           NaN   \n",
       "22319            NaN            NaN       NaN      NaN           NaN   \n",
       "22320            NaN            NaN       NaN      NaN           NaN   \n",
       "22321            NaN            NaN       NaN      NaN           NaN   \n",
       "22322            NaN            NaN       NaN      NaN           NaN   \n",
       "22323            NaN            NaN       NaN      NaN           NaN   \n",
       "22324            NaN            NaN       NaN      NaN           NaN   \n",
       "22325            NaN            NaN       NaN      NaN           NaN   \n",
       "22326            NaN            NaN       NaN      NaN           NaN   \n",
       "22327            NaN            NaN       NaN      NaN           NaN   \n",
       "22328            NaN            NaN       NaN      NaN           NaN   \n",
       "22329            NaN            NaN       NaN      NaN           NaN   \n",
       "22330            NaN            NaN       NaN      NaN           NaN   \n",
       "22331            NaN            NaN       NaN      NaN           NaN   \n",
       "22332            NaN            NaN       NaN      NaN           NaN   \n",
       "22333            NaN            NaN       NaN      NaN           NaN   \n",
       "22334            NaN            NaN       NaN      NaN           NaN   \n",
       "22335            NaN            NaN       NaN      NaN           NaN   \n",
       "22336            NaN            NaN       NaN      NaN           NaN   \n",
       "22337            NaN            NaN       NaN      NaN           NaN   \n",
       "\n",
       "       wheelchair_boarding platform_code position direction * used by routes  \\\n",
       "22309                  NaN           NaN      NaN       NaN              NaN   \n",
       "22310                  NaN           NaN      NaN       NaN              NaN   \n",
       "22311                  NaN           NaN      NaN       NaN              NaN   \n",
       "22312                  NaN           NaN      NaN       NaN              NaN   \n",
       "22313                  NaN           NaN      NaN       NaN              NaN   \n",
       "22314                  NaN           NaN      NaN       NaN              NaN   \n",
       "22315                  NaN           NaN      NaN       NaN              NaN   \n",
       "22316                  NaN           NaN      NaN       NaN              NaN   \n",
       "22317                  NaN           NaN      NaN       NaN              NaN   \n",
       "22318                  NaN           NaN      NaN       NaN              NaN   \n",
       "22319                  NaN           NaN      NaN       NaN              NaN   \n",
       "22320                  NaN           NaN      NaN       NaN              NaN   \n",
       "22321                  NaN           NaN      NaN       NaN              NaN   \n",
       "22322                  NaN           NaN      NaN       NaN              NaN   \n",
       "22323                  NaN           NaN      NaN       NaN              NaN   \n",
       "22324                  NaN           NaN      NaN       NaN              NaN   \n",
       "22325                  NaN           NaN      NaN       NaN              NaN   \n",
       "22326                  NaN           NaN      NaN       NaN              NaN   \n",
       "22327                  NaN           NaN      NaN       NaN              NaN   \n",
       "22328                  NaN           NaN      NaN       NaN              NaN   \n",
       "22329                  NaN           NaN      NaN       NaN              NaN   \n",
       "22330                  NaN           NaN      NaN       NaN              NaN   \n",
       "22331                  NaN           NaN      NaN       NaN              NaN   \n",
       "22332                  NaN           NaN      NaN       NaN              NaN   \n",
       "22333                  NaN           NaN      NaN       NaN              NaN   \n",
       "22334                  NaN           NaN      NaN       NaN              NaN   \n",
       "22335                  NaN           NaN      NaN       NaN              NaN   \n",
       "22336                  NaN           NaN      NaN       NaN              NaN   \n",
       "22337                  NaN           NaN      NaN       NaN              NaN   \n",
       "\n",
       "         stop_id osm_node_id shst_node_id model_node_id  \n",
       "22309  102036044         NaN          NaN       2036044  \n",
       "22310  101511493         NaN          NaN       1511493  \n",
       "22311  101516920         NaN          NaN       1516920  \n",
       "22312  101525498         NaN          NaN       1525498  \n",
       "22313  101516256         NaN          NaN       1516256  \n",
       "22314  101513094         NaN          NaN       1513094  \n",
       "22315  101513976         NaN          NaN       1513976  \n",
       "22316  101528479         NaN          NaN       1528479  \n",
       "22317  101529690         NaN          NaN       1529690  \n",
       "22318  101529454         NaN          NaN       1529454  \n",
       "22319  101519622         NaN          NaN       1519622  \n",
       "22320  101513122         NaN          NaN       1513122  \n",
       "22321  101514054         NaN          NaN       1514054  \n",
       "22322  101543182         NaN          NaN       1543182  \n",
       "22323  101512385         NaN          NaN       1512385  \n",
       "22324  101534620         NaN          NaN       1534620  \n",
       "22325  101503246         NaN          NaN       1503246  \n",
       "22326  101537667         NaN          NaN       1537667  \n",
       "22327  101538028         NaN          NaN       1538028  \n",
       "22328  101526122         NaN          NaN       1526122  \n",
       "22329  101519051         NaN          NaN       1519051  \n",
       "22330  101503077         NaN          NaN       1503077  \n",
       "22331  101508313         NaN          NaN       1508313  \n",
       "22332  101508126         NaN          NaN       1508126  \n",
       "22333  101537888         NaN          NaN       1537888  \n",
       "22334  101519350         NaN          NaN       1519350  \n",
       "22335  101516319         NaN          NaN       1516319  \n",
       "22336  101509775         NaN          NaN       1509775  \n",
       "22337  101536669         NaN          NaN       1536669  "
      ]
     },
     "execution_count": 67,
     "metadata": {},
     "output_type": "execute_result"
    }
   ],
   "source": [
    "# check zone-id for new stops on SamTrans\n",
    "step5_scenario.transit_net.feed.stops[\n",
    "    step5_scenario.transit_net.feed.stops.stop_id.astype(int).isin(\n",
    "    [102036044,101511493,101516920,101525498,101516256,101513094,101513976,101528479,101529690,101529454,101519622,101513122,101514054,101543182,101512385,101534620,101503246,101537667,101538028,101526122,101519051,101503077,101508313,101508126,101537888,101519350,101516319,101509775,101536669])\n",
    "]"
   ]
  },
  {
   "cell_type": "code",
   "execution_count": 68,
   "metadata": {},
   "outputs": [
    {
     "data": {
      "text/html": [
       "<div>\n",
       "<style scoped>\n",
       "    .dataframe tbody tr th:only-of-type {\n",
       "        vertical-align: middle;\n",
       "    }\n",
       "\n",
       "    .dataframe tbody tr th {\n",
       "        vertical-align: top;\n",
       "    }\n",
       "\n",
       "    .dataframe thead th {\n",
       "        text-align: right;\n",
       "    }\n",
       "</style>\n",
       "<table border=\"1\" class=\"dataframe\">\n",
       "  <thead>\n",
       "    <tr style=\"text-align: right;\">\n",
       "      <th></th>\n",
       "      <th>stop_name</th>\n",
       "      <th>stop_lat</th>\n",
       "      <th>stop_lon</th>\n",
       "      <th>zone_id</th>\n",
       "      <th>agency_raw_name</th>\n",
       "      <th>stop_code</th>\n",
       "      <th>location_type</th>\n",
       "      <th>parent_station</th>\n",
       "      <th>stop_desc</th>\n",
       "      <th>stop_url</th>\n",
       "      <th>stop_timezone</th>\n",
       "      <th>wheelchair_boarding</th>\n",
       "      <th>platform_code</th>\n",
       "      <th>position</th>\n",
       "      <th>direction</th>\n",
       "      <th>* used by routes</th>\n",
       "      <th>stop_id</th>\n",
       "      <th>osm_node_id</th>\n",
       "      <th>shst_node_id</th>\n",
       "      <th>model_node_id</th>\n",
       "    </tr>\n",
       "  </thead>\n",
       "  <tbody>\n",
       "    <tr>\n",
       "      <th>22338</th>\n",
       "      <td>NaN</td>\n",
       "      <td>37.673730</td>\n",
       "      <td>-122.467029</td>\n",
       "      <td>1</td>\n",
       "      <td>SamTrans_2015_8_20</td>\n",
       "      <td>NaN</td>\n",
       "      <td>NaN</td>\n",
       "      <td>NaN</td>\n",
       "      <td>NaN</td>\n",
       "      <td>NaN</td>\n",
       "      <td>NaN</td>\n",
       "      <td>NaN</td>\n",
       "      <td>NaN</td>\n",
       "      <td>NaN</td>\n",
       "      <td>NaN</td>\n",
       "      <td>NaN</td>\n",
       "      <td>101523872</td>\n",
       "      <td>NaN</td>\n",
       "      <td>NaN</td>\n",
       "      <td>1523872</td>\n",
       "    </tr>\n",
       "    <tr>\n",
       "      <th>22339</th>\n",
       "      <td>NaN</td>\n",
       "      <td>37.682409</td>\n",
       "      <td>-122.487089</td>\n",
       "      <td>1</td>\n",
       "      <td>SamTrans_2015_8_20</td>\n",
       "      <td>NaN</td>\n",
       "      <td>NaN</td>\n",
       "      <td>NaN</td>\n",
       "      <td>NaN</td>\n",
       "      <td>NaN</td>\n",
       "      <td>NaN</td>\n",
       "      <td>NaN</td>\n",
       "      <td>NaN</td>\n",
       "      <td>NaN</td>\n",
       "      <td>NaN</td>\n",
       "      <td>NaN</td>\n",
       "      <td>101545076</td>\n",
       "      <td>NaN</td>\n",
       "      <td>NaN</td>\n",
       "      <td>1545076</td>\n",
       "    </tr>\n",
       "    <tr>\n",
       "      <th>22340</th>\n",
       "      <td>NaN</td>\n",
       "      <td>37.697643</td>\n",
       "      <td>-122.483092</td>\n",
       "      <td>1</td>\n",
       "      <td>SamTrans_2015_8_20</td>\n",
       "      <td>NaN</td>\n",
       "      <td>NaN</td>\n",
       "      <td>NaN</td>\n",
       "      <td>NaN</td>\n",
       "      <td>NaN</td>\n",
       "      <td>NaN</td>\n",
       "      <td>NaN</td>\n",
       "      <td>NaN</td>\n",
       "      <td>NaN</td>\n",
       "      <td>NaN</td>\n",
       "      <td>NaN</td>\n",
       "      <td>101503345</td>\n",
       "      <td>NaN</td>\n",
       "      <td>NaN</td>\n",
       "      <td>1503345</td>\n",
       "    </tr>\n",
       "    <tr>\n",
       "      <th>22341</th>\n",
       "      <td>NaN</td>\n",
       "      <td>37.701361</td>\n",
       "      <td>-122.484757</td>\n",
       "      <td>1</td>\n",
       "      <td>SamTrans_2015_8_20</td>\n",
       "      <td>NaN</td>\n",
       "      <td>NaN</td>\n",
       "      <td>NaN</td>\n",
       "      <td>NaN</td>\n",
       "      <td>NaN</td>\n",
       "      <td>NaN</td>\n",
       "      <td>NaN</td>\n",
       "      <td>NaN</td>\n",
       "      <td>NaN</td>\n",
       "      <td>NaN</td>\n",
       "      <td>NaN</td>\n",
       "      <td>101519909</td>\n",
       "      <td>NaN</td>\n",
       "      <td>NaN</td>\n",
       "      <td>1519909</td>\n",
       "    </tr>\n",
       "    <tr>\n",
       "      <th>22342</th>\n",
       "      <td>NaN</td>\n",
       "      <td>37.702417</td>\n",
       "      <td>-122.481156</td>\n",
       "      <td>1</td>\n",
       "      <td>SamTrans_2015_8_20</td>\n",
       "      <td>NaN</td>\n",
       "      <td>NaN</td>\n",
       "      <td>NaN</td>\n",
       "      <td>NaN</td>\n",
       "      <td>NaN</td>\n",
       "      <td>NaN</td>\n",
       "      <td>NaN</td>\n",
       "      <td>NaN</td>\n",
       "      <td>NaN</td>\n",
       "      <td>NaN</td>\n",
       "      <td>NaN</td>\n",
       "      <td>101504028</td>\n",
       "      <td>NaN</td>\n",
       "      <td>NaN</td>\n",
       "      <td>1504028</td>\n",
       "    </tr>\n",
       "    <tr>\n",
       "      <th>22343</th>\n",
       "      <td>NaN</td>\n",
       "      <td>37.704069</td>\n",
       "      <td>-122.475537</td>\n",
       "      <td>1</td>\n",
       "      <td>SamTrans_2015_8_20</td>\n",
       "      <td>NaN</td>\n",
       "      <td>NaN</td>\n",
       "      <td>NaN</td>\n",
       "      <td>NaN</td>\n",
       "      <td>NaN</td>\n",
       "      <td>NaN</td>\n",
       "      <td>NaN</td>\n",
       "      <td>NaN</td>\n",
       "      <td>NaN</td>\n",
       "      <td>NaN</td>\n",
       "      <td>NaN</td>\n",
       "      <td>101514714</td>\n",
       "      <td>NaN</td>\n",
       "      <td>NaN</td>\n",
       "      <td>1514714</td>\n",
       "    </tr>\n",
       "    <tr>\n",
       "      <th>22344</th>\n",
       "      <td>NaN</td>\n",
       "      <td>37.671171</td>\n",
       "      <td>-122.464817</td>\n",
       "      <td>1</td>\n",
       "      <td>SamTrans_2015_8_20</td>\n",
       "      <td>NaN</td>\n",
       "      <td>NaN</td>\n",
       "      <td>NaN</td>\n",
       "      <td>NaN</td>\n",
       "      <td>NaN</td>\n",
       "      <td>NaN</td>\n",
       "      <td>NaN</td>\n",
       "      <td>NaN</td>\n",
       "      <td>NaN</td>\n",
       "      <td>NaN</td>\n",
       "      <td>NaN</td>\n",
       "      <td>101506746</td>\n",
       "      <td>NaN</td>\n",
       "      <td>NaN</td>\n",
       "      <td>1506746</td>\n",
       "    </tr>\n",
       "  </tbody>\n",
       "</table>\n",
       "</div>"
      ],
      "text/plain": [
       "      stop_name   stop_lat    stop_lon zone_id     agency_raw_name stop_code  \\\n",
       "22338       NaN  37.673730 -122.467029       1  SamTrans_2015_8_20       NaN   \n",
       "22339       NaN  37.682409 -122.487089       1  SamTrans_2015_8_20       NaN   \n",
       "22340       NaN  37.697643 -122.483092       1  SamTrans_2015_8_20       NaN   \n",
       "22341       NaN  37.701361 -122.484757       1  SamTrans_2015_8_20       NaN   \n",
       "22342       NaN  37.702417 -122.481156       1  SamTrans_2015_8_20       NaN   \n",
       "22343       NaN  37.704069 -122.475537       1  SamTrans_2015_8_20       NaN   \n",
       "22344       NaN  37.671171 -122.464817       1  SamTrans_2015_8_20       NaN   \n",
       "\n",
       "       location_type parent_station stop_desc stop_url stop_timezone  \\\n",
       "22338            NaN            NaN       NaN      NaN           NaN   \n",
       "22339            NaN            NaN       NaN      NaN           NaN   \n",
       "22340            NaN            NaN       NaN      NaN           NaN   \n",
       "22341            NaN            NaN       NaN      NaN           NaN   \n",
       "22342            NaN            NaN       NaN      NaN           NaN   \n",
       "22343            NaN            NaN       NaN      NaN           NaN   \n",
       "22344            NaN            NaN       NaN      NaN           NaN   \n",
       "\n",
       "       wheelchair_boarding platform_code position direction * used by routes  \\\n",
       "22338                  NaN           NaN      NaN       NaN              NaN   \n",
       "22339                  NaN           NaN      NaN       NaN              NaN   \n",
       "22340                  NaN           NaN      NaN       NaN              NaN   \n",
       "22341                  NaN           NaN      NaN       NaN              NaN   \n",
       "22342                  NaN           NaN      NaN       NaN              NaN   \n",
       "22343                  NaN           NaN      NaN       NaN              NaN   \n",
       "22344                  NaN           NaN      NaN       NaN              NaN   \n",
       "\n",
       "         stop_id osm_node_id shst_node_id model_node_id  \n",
       "22338  101523872         NaN          NaN       1523872  \n",
       "22339  101545076         NaN          NaN       1545076  \n",
       "22340  101503345         NaN          NaN       1503345  \n",
       "22341  101519909         NaN          NaN       1519909  \n",
       "22342  101504028         NaN          NaN       1504028  \n",
       "22343  101514714         NaN          NaN       1514714  \n",
       "22344  101506746         NaN          NaN       1506746  "
      ]
     },
     "execution_count": 68,
     "metadata": {},
     "output_type": "execute_result"
    }
   ],
   "source": [
    "# check zone-id for new stops on SamTrans\n",
    "step5_scenario.transit_net.feed.stops[\n",
    "    step5_scenario.transit_net.feed.stops.stop_id.astype(int).isin(\n",
    "    [101523872,101545076,101503345,101519909,101504028,101514714,101506746])\n",
    "]"
   ]
  },
  {
   "cell_type": "code",
   "execution_count": 69,
   "metadata": {},
   "outputs": [
    {
     "data": {
      "text/plain": [
       "[{'default': 4,\n",
       "  'timeofday': [{'time': (21600, 36000), 'value': 3},\n",
       "   {'time': (54000, 68400), 'value': 3}]},\n",
       " {'default': 4,\n",
       "  'timeofday': [{'time': (21600, 36000), 'value': 3},\n",
       "   {'time': (54000, 68400), 'value': 3}]},\n",
       " {'default': 7,\n",
       "  'timeofday': [{'time': (21600, 36000), 'value': 5},\n",
       "   {'time': (54000, 68400), 'value': 5}]}]"
      ]
     },
     "execution_count": 69,
     "metadata": {},
     "output_type": "execute_result"
    }
   ],
   "source": [
    "# check San Mateo bridge toll plaza\n",
    "step5_scenario.road_net.links_df[\n",
    "    step5_scenario.road_net.links_df.model_link_id.isin(\n",
    "    [3315463,3315462, 3024600])\n",
    "].lanes.tolist()"
   ]
  },
  {
   "cell_type": "code",
   "execution_count": 70,
   "metadata": {},
   "outputs": [
    {
     "data": {
      "text/html": [
       "<div>\n",
       "<style scoped>\n",
       "    .dataframe tbody tr th:only-of-type {\n",
       "        vertical-align: middle;\n",
       "    }\n",
       "\n",
       "    .dataframe tbody tr th {\n",
       "        vertical-align: top;\n",
       "    }\n",
       "\n",
       "    .dataframe thead th {\n",
       "        text-align: right;\n",
       "    }\n",
       "</style>\n",
       "<table border=\"1\" class=\"dataframe\">\n",
       "  <thead>\n",
       "    <tr style=\"text-align: right;\">\n",
       "      <th></th>\n",
       "      <th>access</th>\n",
       "      <th>bike_access</th>\n",
       "      <th>drive_access</th>\n",
       "      <th>fromIntersectionId</th>\n",
       "      <th>lanes</th>\n",
       "      <th>maxspeed</th>\n",
       "      <th>name</th>\n",
       "      <th>oneWay</th>\n",
       "      <th>ref</th>\n",
       "      <th>roadway</th>\n",
       "      <th>...</th>\n",
       "      <th>transit_access</th>\n",
       "      <th>managed</th>\n",
       "      <th>ML_lanes</th>\n",
       "      <th>segment_id</th>\n",
       "      <th>ML_tollbooth</th>\n",
       "      <th>ML_useclass</th>\n",
       "      <th>ML_access</th>\n",
       "      <th>ML_egress</th>\n",
       "      <th>ML_tollseg</th>\n",
       "      <th>tollseg</th>\n",
       "    </tr>\n",
       "  </thead>\n",
       "  <tbody>\n",
       "    <tr>\n",
       "      <th>818708</th>\n",
       "      <td>['nan', '']</td>\n",
       "      <td>False</td>\n",
       "      <td>True</td>\n",
       "      <td>dc196b0fb1ac8053a741cd53df6ff64d</td>\n",
       "      <td>5</td>\n",
       "      <td>['50 mph', '']</td>\n",
       "      <td>['San Francisco – Oakland Bay Bridge', '']</td>\n",
       "      <td>[True, True]</td>\n",
       "      <td>['I 80', '']</td>\n",
       "      <td>motorway</td>\n",
       "      <td>...</td>\n",
       "      <td>NaN</td>\n",
       "      <td>0</td>\n",
       "      <td>NaN</td>\n",
       "      <td>NaN</td>\n",
       "      <td>NaN</td>\n",
       "      <td>NaN</td>\n",
       "      <td>NaN</td>\n",
       "      <td>NaN</td>\n",
       "      <td>NaN</td>\n",
       "      <td>NaN</td>\n",
       "    </tr>\n",
       "  </tbody>\n",
       "</table>\n",
       "<p>1 rows × 44 columns</p>\n",
       "</div>"
      ],
      "text/plain": [
       "             access bike_access drive_access  \\\n",
       "818708  ['nan', '']       False         True   \n",
       "\n",
       "                      fromIntersectionId lanes        maxspeed  \\\n",
       "818708  dc196b0fb1ac8053a741cd53df6ff64d     5  ['50 mph', '']   \n",
       "\n",
       "                                              name        oneWay  \\\n",
       "818708  ['San Francisco – Oakland Bay Bridge', '']  [True, True]   \n",
       "\n",
       "                 ref   roadway  ... transit_access managed ML_lanes  \\\n",
       "818708  ['I 80', '']  motorway  ...            NaN       0      NaN   \n",
       "\n",
       "       segment_id ML_tollbooth ML_useclass ML_access ML_egress  ML_tollseg  \\\n",
       "818708        NaN          NaN         NaN       NaN       NaN         NaN   \n",
       "\n",
       "        tollseg  \n",
       "818708      NaN  \n",
       "\n",
       "[1 rows x 44 columns]"
      ]
     },
     "execution_count": 70,
     "metadata": {},
     "output_type": "execute_result"
    }
   ],
   "source": [
    "# check Bay Bridge west pan\n",
    "step5_scenario.road_net.links_df[\n",
    "    step5_scenario.road_net.links_df.model_link_id.isin(\n",
    "    [38545])\n",
    "]"
   ]
  },
  {
   "cell_type": "code",
   "execution_count": 71,
   "metadata": {},
   "outputs": [
    {
     "data": {
      "text/plain": [
       "0    1634035\n",
       "1        753\n",
       "          60\n",
       "Name: transit, dtype: int64"
      ]
     },
     "execution_count": 71,
     "metadata": {},
     "output_type": "execute_result"
    }
   ],
   "source": [
    "step5_scenario.road_net.links_df.transit.value_counts()"
   ]
  },
  {
   "cell_type": "code",
   "execution_count": 72,
   "metadata": {},
   "outputs": [
    {
     "data": {
      "text/plain": [
       "0    1634035\n",
       "1        753\n",
       "          60\n",
       "Name: transit, dtype: int64"
      ]
     },
     "execution_count": 72,
     "metadata": {},
     "output_type": "execute_result"
    }
   ],
   "source": [
    "step5_scenario.road_net.links_df.transit.value_counts()"
   ]
  },
  {
   "cell_type": "code",
   "execution_count": 74,
   "metadata": {},
   "outputs": [],
   "source": [
    "working_scenario_filename = os.path.join(output_dir, 'working_scenario_12.pickle')\n",
    "pickle.dump(step5_scenario, open(working_scenario_filename, 'wb'))"
   ]
  },
  {
   "cell_type": "code",
   "execution_count": 75,
   "metadata": {},
   "outputs": [
    {
     "data": {
      "text/html": [
       "<div>\n",
       "<style scoped>\n",
       "    .dataframe tbody tr th:only-of-type {\n",
       "        vertical-align: middle;\n",
       "    }\n",
       "\n",
       "    .dataframe tbody tr th {\n",
       "        vertical-align: top;\n",
       "    }\n",
       "\n",
       "    .dataframe thead th {\n",
       "        text-align: right;\n",
       "    }\n",
       "</style>\n",
       "<table border=\"1\" class=\"dataframe\">\n",
       "  <thead>\n",
       "    <tr style=\"text-align: right;\">\n",
       "      <th></th>\n",
       "      <th>access</th>\n",
       "      <th>bike_access</th>\n",
       "      <th>drive_access</th>\n",
       "      <th>fromIntersectionId</th>\n",
       "      <th>lanes</th>\n",
       "      <th>maxspeed</th>\n",
       "      <th>name</th>\n",
       "      <th>oneWay</th>\n",
       "      <th>ref</th>\n",
       "      <th>roadway</th>\n",
       "      <th>...</th>\n",
       "      <th>transit_access</th>\n",
       "      <th>managed</th>\n",
       "      <th>ML_lanes</th>\n",
       "      <th>segment_id</th>\n",
       "      <th>ML_tollbooth</th>\n",
       "      <th>ML_useclass</th>\n",
       "      <th>ML_access</th>\n",
       "      <th>ML_egress</th>\n",
       "      <th>ML_tollseg</th>\n",
       "      <th>tollseg</th>\n",
       "    </tr>\n",
       "  </thead>\n",
       "  <tbody>\n",
       "    <tr>\n",
       "      <th>6341</th>\n",
       "      <td>['nan', 'nan', 'nan']</td>\n",
       "      <td>False</td>\n",
       "      <td>True</td>\n",
       "      <td>afe9e007f73e3bf8740d67c62257c222</td>\n",
       "      <td>{'default': 4, 'timeofday': [{'time': (21600, ...</td>\n",
       "      <td>['65 mph', '65 mph', '65 mph']</td>\n",
       "      <td>['nan', 'nan', 'nan']</td>\n",
       "      <td>[True, True, True]</td>\n",
       "      <td>['nan', 'I 680', 'I 680']</td>\n",
       "      <td>motorway</td>\n",
       "      <td>...</td>\n",
       "      <td>NaN</td>\n",
       "      <td>1</td>\n",
       "      <td>{'default': 0, 'timeofday': [{'time': (21600, ...</td>\n",
       "      <td>25</td>\n",
       "      <td>25</td>\n",
       "      <td>{'default': 0, 'timeofday': [{'time': (21600, ...</td>\n",
       "      <td>[2501277, 2585590]</td>\n",
       "      <td>[2585590]</td>\n",
       "      <td>1</td>\n",
       "      <td>NaN</td>\n",
       "    </tr>\n",
       "  </tbody>\n",
       "</table>\n",
       "<p>1 rows × 44 columns</p>\n",
       "</div>"
      ],
      "text/plain": [
       "                     access bike_access drive_access  \\\n",
       "6341  ['nan', 'nan', 'nan']       False         True   \n",
       "\n",
       "                    fromIntersectionId  \\\n",
       "6341  afe9e007f73e3bf8740d67c62257c222   \n",
       "\n",
       "                                                  lanes  \\\n",
       "6341  {'default': 4, 'timeofday': [{'time': (21600, ...   \n",
       "\n",
       "                            maxspeed                   name  \\\n",
       "6341  ['65 mph', '65 mph', '65 mph']  ['nan', 'nan', 'nan']   \n",
       "\n",
       "                  oneWay                        ref   roadway  ...  \\\n",
       "6341  [True, True, True]  ['nan', 'I 680', 'I 680']  motorway  ...   \n",
       "\n",
       "     transit_access managed  \\\n",
       "6341            NaN       1   \n",
       "\n",
       "                                               ML_lanes segment_id  \\\n",
       "6341  {'default': 0, 'timeofday': [{'time': (21600, ...         25   \n",
       "\n",
       "     ML_tollbooth                                        ML_useclass  \\\n",
       "6341           25  {'default': 0, 'timeofday': [{'time': (21600, ...   \n",
       "\n",
       "               ML_access  ML_egress  ML_tollseg  tollseg  \n",
       "6341  [2501277, 2585590]  [2585590]           1      NaN  \n",
       "\n",
       "[1 rows x 44 columns]"
      ]
     },
     "execution_count": 75,
     "metadata": {},
     "output_type": "execute_result"
    }
   ],
   "source": [
    "step5_scenario.road_net.links_df[step5_scenario.road_net.links_df.model_link_id == 3001245]"
   ]
  },
  {
   "cell_type": "markdown",
   "metadata": {},
   "source": [
    "# Section 2 Make Travel Model Networks"
   ]
  },
  {
   "cell_type": "code",
   "execution_count": 8,
   "metadata": {},
   "outputs": [],
   "source": [
    "working_scenario_filename = os.path.join(output_dir, 'working_scenario_12.pickle')\n",
    "step5_scenario = pickle.load(open(working_scenario_filename, 'rb'))"
   ]
  },
  {
   "cell_type": "code",
   "execution_count": 9,
   "metadata": {},
   "outputs": [
    {
     "name": "stdout",
     "output_type": "stream",
     "text": [
      "Lasso base directory set as: Z:/Data/Users/Sijia/MTC/github/Lasso\n",
      "Lasso base directory set as: Z:/Data/Users/Sijia/MTC/github/Lasso\n",
      "Filling nan for network from network wrangler\n",
      "Converting variable type to mtc standard\n"
     ]
    }
   ],
   "source": [
    "model_net = ModelRoadwayNetwork.from_RoadwayNetwork(\n",
    "    roadway_network_object = step5_scenario.road_net, \n",
    "    parameters = parameters)"
   ]
  },
  {
   "cell_type": "code",
   "execution_count": 11,
   "metadata": {},
   "outputs": [
    {
     "data": {
      "text/html": [
       "<div>\n",
       "<style scoped>\n",
       "    .dataframe tbody tr th:only-of-type {\n",
       "        vertical-align: middle;\n",
       "    }\n",
       "\n",
       "    .dataframe tbody tr th {\n",
       "        vertical-align: top;\n",
       "    }\n",
       "\n",
       "    .dataframe thead th {\n",
       "        text-align: right;\n",
       "    }\n",
       "</style>\n",
       "<table border=\"1\" class=\"dataframe\">\n",
       "  <thead>\n",
       "    <tr style=\"text-align: right;\">\n",
       "      <th></th>\n",
       "      <th>A</th>\n",
       "      <th>roadway</th>\n",
       "      <th>county</th>\n",
       "      <th>rail_only</th>\n",
       "      <th>model_link_id</th>\n",
       "    </tr>\n",
       "  </thead>\n",
       "  <tbody>\n",
       "    <tr>\n",
       "      <th>191843</th>\n",
       "      <td>3512789</td>\n",
       "      <td>footway</td>\n",
       "      <td>Solano</td>\n",
       "      <td>0</td>\n",
       "      <td>5013621</td>\n",
       "    </tr>\n",
       "    <tr>\n",
       "      <th>1634815</th>\n",
       "      <td>1028039</td>\n",
       "      <td></td>\n",
       "      <td>Contra Costa</td>\n",
       "      <td>1</td>\n",
       "      <td>26067374</td>\n",
       "    </tr>\n",
       "    <tr>\n",
       "      <th>1634817</th>\n",
       "      <td>1028040</td>\n",
       "      <td></td>\n",
       "      <td>Contra Costa</td>\n",
       "      <td>1</td>\n",
       "      <td>26067376</td>\n",
       "    </tr>\n",
       "    <tr>\n",
       "      <th>2235714</th>\n",
       "      <td>590188</td>\n",
       "      <td>tap</td>\n",
       "      <td>Solano</td>\n",
       "      <td>0</td>\n",
       "      <td>5157453</td>\n",
       "    </tr>\n",
       "  </tbody>\n",
       "</table>\n",
       "</div>"
      ],
      "text/plain": [
       "               A  roadway        county  rail_only  model_link_id\n",
       "191843   3512789  footway        Solano          0        5013621\n",
       "1634815  1028039           Contra Costa          1       26067374\n",
       "1634817  1028040           Contra Costa          1       26067376\n",
       "2235714   590188      tap        Solano          0        5157453"
      ]
     },
     "execution_count": 11,
     "metadata": {},
     "output_type": "execute_result"
    }
   ],
   "source": [
    "# Vallejo Ferry to TAP\n",
    "\n",
    "model_net.links_df[model_net.links_df.B == 3541176][[\"A\", \"roadway\", \"county\", \"rail_only\", \"model_link_id\"]]"
   ]
  },
  {
   "cell_type": "code",
   "execution_count": 12,
   "metadata": {},
   "outputs": [
    {
     "name": "stdout",
     "output_type": "stream",
     "text": [
      "(2235780, 44)\n",
      "2235780\n",
      "(694964, 12)\n",
      "694964\n",
      "(1170510, 6)\n",
      "1170510\n"
     ]
    }
   ],
   "source": [
    "print(model_net.links_df.shape)\n",
    "print(model_net.links_df.model_link_id.nunique())\n",
    "print(model_net.nodes_df.shape)\n",
    "print(model_net.nodes_df.model_node_id.nunique())\n",
    "print(model_net.shapes_df.shape)\n",
    "print(model_net.shapes_df.id.nunique())"
   ]
  },
  {
   "cell_type": "code",
   "execution_count": 13,
   "metadata": {},
   "outputs": [
    {
     "name": "stdout",
     "output_type": "stream",
     "text": [
      "Determining farezone\n",
      "Lasso base directory set as: Z:/Data/Users/Sijia/MTC/github/Lasso\n",
      "Lasso base directory set as: Z:/Data/Users/Sijia/MTC/github/Lasso\n",
      "Overwriting existing Variable 'farezone' already in network\n",
      "Calculating and adding roadway network variable: farezone\n",
      "Finished determining variable: farezone\n"
     ]
    },
    {
     "data": {
      "text/plain": [
       "7.0      4211\n",
       "92.0     1551\n",
       "85.0      225\n",
       "74.0      208\n",
       "105.0     179\n",
       "         ... \n",
       "10.0        1\n",
       "17.0        1\n",
       "42.0        1\n",
       "34.0        1\n",
       "11.0        1\n",
       "Name: farezone, Length: 124, dtype: int64"
      ]
     },
     "execution_count": 13,
     "metadata": {},
     "output_type": "execute_result"
    }
   ],
   "source": [
    "# update farezone due to AC Transit, Fairfield, gg ferries Fare change\n",
    "\n",
    "model_net = mtc.calculate_farezone(\n",
    "    roadway_network = model_net,\n",
    "    transit_network = step5_scenario.transit_net,\n",
    "    parameters = parameters,\n",
    "    network_variable = 'farezone',\n",
    "    overwrite = True,\n",
    ")\n",
    "\n",
    "model_net.nodes_df.farezone.value_counts()"
   ]
  },
  {
   "cell_type": "code",
   "execution_count": 14,
   "metadata": {},
   "outputs": [
    {
     "data": {
      "text/plain": [
       "38492     92.0\n",
       "46931     92.0\n",
       "77849     92.0\n",
       "169823    92.0\n",
       "229436    92.0\n",
       "275080    92.0\n",
       "512571    92.0\n",
       "Name: farezone, dtype: float64"
      ]
     },
     "execution_count": 14,
     "metadata": {},
     "output_type": "execute_result"
    }
   ],
   "source": [
    "model_net.nodes_df[model_net.nodes_df.model_node_id.isin([1523872,1545076,1503345,1519909,1504028,1514714,1506746])].farezone"
   ]
  },
  {
   "cell_type": "code",
   "execution_count": 15,
   "metadata": {
    "scrolled": true
   },
   "outputs": [
    {
     "name": "stdout",
     "output_type": "stream",
     "text": [
      "Renaming roadway attributes to be consistent with what mtc's model is expecting\n",
      "Creating managed lane network.\n",
      "Creating network with duplicated managed lanes\n"
     ]
    },
    {
     "name": "stderr",
     "output_type": "stream",
     "text": [
      "C:\\Users\\wangs1\\AppData\\Local\\Continuum\\anaconda3\\envs\\lasso_bayarea\\lib\\site-packages\\geopandas\\geodataframe.py:1350: UserWarning: Geometry column does not contain geometry.\n",
      "  warnings.warn(\"Geometry column does not contain geometry.\")\n"
     ]
    },
    {
     "name": "stdout",
     "output_type": "stream",
     "text": [
      "Determining cntype\n",
      "Lasso base directory set as: Z:/Data/Users/Sijia/MTC/github/Lasso\n",
      "Lasso base directory set as: Z:/Data/Users/Sijia/MTC/github/Lasso\n",
      "Calculating and adding roadway network variable: cntype\n",
      "Finished determining variable: cntype\n",
      "Determining transit\n",
      "Lasso base directory set as: Z:/Data/Users/Sijia/MTC/github/Lasso\n",
      "Lasso base directory set as: Z:/Data/Users/Sijia/MTC/github/Lasso\n",
      "Variable 'transit' updated for some links. Returning without overwriting for those links. Calculating for other links\n",
      "Calculating and adding roadway network variable: transit\n",
      "Finished determining transit-only variable: transit\n",
      "Determining useclass\n",
      "Lasso base directory set as: Z:/Data/Users/Sijia/MTC/github/Lasso\n",
      "Lasso base directory set as: Z:/Data/Users/Sijia/MTC/github/Lasso\n",
      "Variable 'useclass' updated for some links. Returning without overwriting for those links. Calculating for other links\n",
      "Calculating and adding roadway network variable: useclass\n",
      "Finished determining variable: useclass\n",
      "Calculating Facility Type\n",
      "Lasso base directory set as: Z:/Data/Users/Sijia/MTC/github/Lasso\n",
      "Lasso base directory set as: Z:/Data/Users/Sijia/MTC/github/Lasso\n",
      "Variable 'ft' updated for some links. Returning without overwriting for those links. Calculating for other links\n",
      "Finished calculating roadway class variable: ft\n",
      "Determining assignable\n",
      "Lasso base directory set as: Z:/Data/Users/Sijia/MTC/github/Lasso\n",
      "Lasso base directory set as: Z:/Data/Users/Sijia/MTC/github/Lasso\n",
      "Variable 'assignable' already in network. Returning without overwriting.\n",
      "Adding tap_id to node layer\n",
      "Lasso base directory set as: Z:/Data/Users/Sijia/MTC/github/Lasso\n",
      "Lasso base directory set as: Z:/Data/Users/Sijia/MTC/github/Lasso\n",
      "Adding roadway network variable: tap_id\n",
      "County Variable 'county' already in network, calculating for missing ones\n",
      "Adding roadway network variable for county using a spatial join with: Z:/Data/Users/Sijia/MTC/github/Lasso\\mtc_data\\county\\county.shp\n"
     ]
    },
    {
     "name": "stderr",
     "output_type": "stream",
     "text": [
      "z:\\data\\users\\sijia\\mtc\\github\\lasso\\lasso\\mtc.py:2979: UserWarning: Geometry is in a geographic CRS. Results from 'centroid' are likely incorrect. Use 'GeoSeries.to_crs()' to re-project geometries to a projected CRS before this operation.\n",
      "\n",
      "  link_centroids_gdf[\"geometry\"] = link_centroids_gdf[\"geometry\"].centroid\n",
      "C:\\Users\\wangs1\\AppData\\Local\\Continuum\\anaconda3\\envs\\lasso_bayarea\\lib\\site-packages\\ipykernel_launcher.py:1: FutureWarning: The `op` parameter is deprecated and will be removed in a future release. Please use the `predicate` parameter instead.\n",
      "  \"\"\"Entry point for launching an IPython kernel.\n"
     ]
    },
    {
     "name": "stdout",
     "output_type": "stream",
     "text": [
      "Finished Calculating link county variable: county\n"
     ]
    },
    {
     "name": "stderr",
     "output_type": "stream",
     "text": [
      "C:\\Users\\wangs1\\AppData\\Local\\Continuum\\anaconda3\\envs\\lasso_bayarea\\lib\\site-packages\\ipykernel_launcher.py:1: FutureWarning: The `op` parameter is deprecated and will be removed in a future release. Please use the `predicate` parameter instead.\n",
      "  \"\"\"Entry point for launching an IPython kernel.\n"
     ]
    },
    {
     "name": "stdout",
     "output_type": "stream",
     "text": [
      "Finished Calculating node county variable: county\n",
      "Overwriting existing distance Variable 'distance' already in network\n",
      "Calculating distance for all links\n",
      "Calculating distance for all links\n",
      "Filling nan for network from network wrangler\n",
      "Splitting variables by time period and category\n",
      "Specified variable to split: ML_lanes not in network variables: Index(['index', 'bike_access', 'drive_access', 'fromIntersectionId', 'lanes',\n",
      "       'maxspeed', 'name', 'oneWay', 'ref', 'roadway', 'shstGeometryId',\n",
      "       'shstReferenceId', 'toIntersectionId', 'u', 'v', 'walk_access', 'wayId',\n",
      "       'county', 'model_link_id', 'A', 'B', 'rail_traveltime', 'rail_only',\n",
      "       'locationReferences', 'geometry', 'ft_cal', 'ft', 'useclass',\n",
      "       'assignable_cal', 'assignable', 'transit', 'id', 'tollbooth',\n",
      "       'bus_only', 'transit_access', 'managed', 'segment_id', 'tollseg',\n",
      "       'distance', 'cntype', 'lanes_EA', 'lanes_AM', 'lanes_MD', 'lanes_PM',\n",
      "       'lanes_EV'],\n",
      "      dtype='object'). Returning 0.\n",
      "Converting variable type to mtc standard\n",
      "Setting Coordinate Reference System to epsg:2875\n"
     ]
    }
   ],
   "source": [
    "model_net = mtc.roadway_standard_to_mtc_network(model_net, parameters)"
   ]
  },
  {
   "cell_type": "code",
   "execution_count": 16,
   "metadata": {},
   "outputs": [
    {
     "name": "stdout",
     "output_type": "stream",
     "text": [
      "(2240283, 55)\n",
      "2240283\n",
      "(696500, 14)\n",
      "696500\n",
      "(1175025, 7)\n",
      "1175025\n"
     ]
    }
   ],
   "source": [
    "print(model_net.links_df.shape)\n",
    "print(model_net.links_df.model_link_id.nunique())\n",
    "print(model_net.nodes_df.shape)\n",
    "print(model_net.nodes_df.model_node_id.nunique())\n",
    "print(model_net.shapes_df.shape)\n",
    "print(model_net.shapes_df.id.nunique())"
   ]
  },
  {
   "cell_type": "code",
   "execution_count": 17,
   "metadata": {},
   "outputs": [
    {
     "data": {
      "text/plain": [
       "0    2239507\n",
       "1        776\n",
       "Name: rail_only, dtype: int64"
      ]
     },
     "execution_count": 17,
     "metadata": {},
     "output_type": "execute_result"
    }
   ],
   "source": [
    "model_net.links_df.rail_only.value_counts()"
   ]
  },
  {
   "cell_type": "code",
   "execution_count": 18,
   "metadata": {},
   "outputs": [
    {
     "data": {
      "text/plain": [
       "array(['TANA'], dtype=object)"
      ]
     },
     "execution_count": 18,
     "metadata": {},
     "output_type": "execute_result"
    }
   ],
   "source": [
    "model_net.links_df[(model_net.links_df.bus_only == 1)].cntype.unique()"
   ]
  },
  {
   "cell_type": "code",
   "execution_count": 19,
   "metadata": {},
   "outputs": [
    {
     "data": {
      "text/plain": [
       "0    1282943\n",
       "1     957340\n",
       "Name: assignable, dtype: int64"
      ]
     },
     "execution_count": 19,
     "metadata": {},
     "output_type": "execute_result"
    }
   ],
   "source": [
    "model_net.links_df.assignable.value_counts()"
   ]
  },
  {
   "cell_type": "code",
   "execution_count": 20,
   "metadata": {},
   "outputs": [
    {
     "data": {
      "text/plain": [
       "1    32986\n",
       "Name: assignable, dtype: int64"
      ]
     },
     "execution_count": 20,
     "metadata": {},
     "output_type": "execute_result"
    }
   ],
   "source": [
    "model_net.links_df[model_net.links_df.cntype == \"TAZ\"].assignable.value_counts()"
   ]
  },
  {
   "cell_type": "code",
   "execution_count": 21,
   "metadata": {},
   "outputs": [
    {
     "data": {
      "text/plain": [
       "1    531534\n",
       "Name: assignable, dtype: int64"
      ]
     },
     "execution_count": 21,
     "metadata": {},
     "output_type": "execute_result"
    }
   ],
   "source": [
    "model_net.links_df[model_net.links_df.cntype == \"MAZ\"].assignable.value_counts()"
   ]
  },
  {
   "cell_type": "code",
   "execution_count": 22,
   "metadata": {},
   "outputs": [
    {
     "data": {
      "text/plain": [
       "1313           motorway\n",
       "4318          ml_access\n",
       "803801    motorway_link\n",
       "Name: roadway, dtype: object"
      ]
     },
     "execution_count": 22,
     "metadata": {},
     "output_type": "execute_result"
    }
   ],
   "source": [
    "model_net.links_df[model_net.links_df.A == 2601773].roadway"
   ]
  },
  {
   "cell_type": "code",
   "execution_count": 23,
   "metadata": {},
   "outputs": [
    {
     "data": {
      "text/plain": [
       "782651    e5742b085ba3dcb41da0c499cecc33bc\n",
       "Name: shstReferenceId, dtype: object"
      ]
     },
     "execution_count": 23,
     "metadata": {},
     "output_type": "execute_result"
    }
   ],
   "source": [
    "model_net.links_df[model_net.links_df.model_link_id == 3152465].shstReferenceId"
   ]
  },
  {
   "cell_type": "code",
   "execution_count": 24,
   "metadata": {},
   "outputs": [
    {
     "data": {
      "text/plain": [
       "124"
      ]
     },
     "execution_count": 24,
     "metadata": {},
     "output_type": "execute_result"
    }
   ],
   "source": [
    "# AC Transit node farezone\n",
    "model_net.nodes_df[model_net.nodes_df.model_node_id == 1011480].farezone\n",
    "model_net.nodes_df.farezone.max()"
   ]
  },
  {
   "cell_type": "code",
   "execution_count": 25,
   "metadata": {},
   "outputs": [
    {
     "data": {
      "text/plain": [
       "TANA     1006677\n",
       "PED       631872\n",
       "MAZ       531534\n",
       "TAP        36438\n",
       "TAZ        32986\n",
       "CRAIL        776\n",
       "Name: cntype, dtype: int64"
      ]
     },
     "execution_count": 25,
     "metadata": {},
     "output_type": "execute_result"
    }
   ],
   "source": [
    "model_net.links_df.cntype.value_counts()"
   ]
  },
  {
   "cell_type": "code",
   "execution_count": 26,
   "metadata": {
    "scrolled": true
   },
   "outputs": [
    {
     "data": {
      "text/plain": [
       "Index(['osm_node_id', 'county', 'drive_access', 'walk_access', 'bike_access',\n",
       "       'N', 'rail_only', 'X', 'Y', 'geometry', 'farezone', 'tap_id'],\n",
       "      dtype='object')"
      ]
     },
     "execution_count": 26,
     "metadata": {},
     "output_type": "execute_result"
    }
   ],
   "source": [
    "model_net.nodes_mtc_df[[c for c in model_net.nodes_mtc_df.columns if c in parameters.output_variables]].columns"
   ]
  },
  {
   "cell_type": "code",
   "execution_count": 27,
   "metadata": {},
   "outputs": [
    {
     "data": {
      "text/plain": [
       "Index(['bike_access', 'drive_access', 'name', 'shstGeometryId', 'walk_access',\n",
       "       'county', 'model_link_id', 'A', 'B', 'rail_only', 'ft', 'assignable',\n",
       "       'transit', 'tollbooth', 'bus_only', 'managed', 'segment_id', 'tollseg',\n",
       "       'distance', 'cntype', 'lanes_EA', 'lanes_AM', 'lanes_MD', 'lanes_PM',\n",
       "       'lanes_EV', 'useclass_EA', 'useclass_AM', 'useclass_MD', 'useclass_PM',\n",
       "       'useclass_EV', 'geometry'],\n",
       "      dtype='object')"
      ]
     },
     "execution_count": 27,
     "metadata": {},
     "output_type": "execute_result"
    }
   ],
   "source": [
    "model_net.links_mtc_df[[c for c in model_net.links_mtc_df.columns if c in parameters.output_variables]].columns"
   ]
  },
  {
   "cell_type": "code",
   "execution_count": 28,
   "metadata": {},
   "outputs": [
    {
     "data": {
      "text/plain": [
       "Santa Clara      662698\n",
       "Alameda          444167\n",
       "Contra Costa     327165\n",
       "San Mateo        203945\n",
       "Sonoma           178969\n",
       "Solano           157577\n",
       "San Francisco    133492\n",
       "Marin             85148\n",
       "Napa              47068\n",
       "External             54\n",
       "Name: county, dtype: int64"
      ]
     },
     "execution_count": 28,
     "metadata": {},
     "output_type": "execute_result"
    }
   ],
   "source": [
    "model_net.links_mtc_df.county.value_counts()"
   ]
  },
  {
   "cell_type": "code",
   "execution_count": 29,
   "metadata": {},
   "outputs": [
    {
     "data": {
      "text/plain": [
       "Santa Clara      204654\n",
       "Alameda          137350\n",
       "Contra Costa     104856\n",
       "San Mateo         61910\n",
       "Sonoma            60031\n",
       "Solano            50751\n",
       "San Francisco     33407\n",
       "Marin             28530\n",
       "Napa              14990\n",
       "External             21\n",
       "Name: county, dtype: int64"
      ]
     },
     "execution_count": 29,
     "metadata": {},
     "output_type": "execute_result"
    }
   ],
   "source": [
    "model_net.nodes_mtc_df.county.value_counts()"
   ]
  },
  {
   "cell_type": "code",
   "execution_count": 30,
   "metadata": {},
   "outputs": [
    {
     "data": {
      "text/plain": [
       "(2240283, 55)"
      ]
     },
     "execution_count": 30,
     "metadata": {},
     "output_type": "execute_result"
    }
   ],
   "source": [
    "model_net.links_mtc_df.shape"
   ]
  },
  {
   "cell_type": "code",
   "execution_count": 31,
   "metadata": {},
   "outputs": [
    {
     "data": {
      "text/plain": [
       "service    29198\n",
       "Name: roadway, dtype: int64"
      ]
     },
     "execution_count": 31,
     "metadata": {},
     "output_type": "execute_result"
    }
   ],
   "source": [
    "model_net.links_mtc_df[(model_net.links_mtc_df.assignable == 1) & (model_net.links_mtc_df.ft==99)].roadway.value_counts()"
   ]
  },
  {
   "cell_type": "code",
   "execution_count": 32,
   "metadata": {},
   "outputs": [
    {
     "data": {
      "text/plain": [
       "696500"
      ]
     },
     "execution_count": 32,
     "metadata": {},
     "output_type": "execute_result"
    }
   ],
   "source": [
    "model_net.nodes_mtc_df.N.nunique()"
   ]
  },
  {
   "cell_type": "code",
   "execution_count": 33,
   "metadata": {},
   "outputs": [
    {
     "data": {
      "text/plain": [
       "Index(['index', 'osm_node_id', 'shst_node_id', 'county', 'drive_access',\n",
       "       'walk_access', 'bike_access', 'N', 'rail_only', 'X', 'Y', 'geometry',\n",
       "       'farezone', 'tap_id'],\n",
       "      dtype='object')"
      ]
     },
     "execution_count": 33,
     "metadata": {},
     "output_type": "execute_result"
    }
   ],
   "source": [
    "model_net.nodes_mtc_df.columns"
   ]
  },
  {
   "cell_type": "code",
   "execution_count": 34,
   "metadata": {},
   "outputs": [
    {
     "data": {
      "text/html": [
       "<div>\n",
       "<style scoped>\n",
       "    .dataframe tbody tr th:only-of-type {\n",
       "        vertical-align: middle;\n",
       "    }\n",
       "\n",
       "    .dataframe tbody tr th {\n",
       "        vertical-align: top;\n",
       "    }\n",
       "\n",
       "    .dataframe thead th {\n",
       "        text-align: right;\n",
       "    }\n",
       "</style>\n",
       "<table border=\"1\" class=\"dataframe\">\n",
       "  <thead>\n",
       "    <tr style=\"text-align: right;\">\n",
       "      <th>managed</th>\n",
       "      <th>0</th>\n",
       "      <th>1</th>\n",
       "    </tr>\n",
       "    <tr>\n",
       "      <th>tollbooth</th>\n",
       "      <th></th>\n",
       "      <th></th>\n",
       "    </tr>\n",
       "  </thead>\n",
       "  <tbody>\n",
       "    <tr>\n",
       "      <th>0</th>\n",
       "      <td>2238768</td>\n",
       "      <td>1351</td>\n",
       "    </tr>\n",
       "    <tr>\n",
       "      <th>1</th>\n",
       "      <td>2</td>\n",
       "      <td>1</td>\n",
       "    </tr>\n",
       "    <tr>\n",
       "      <th>2</th>\n",
       "      <td>1</td>\n",
       "      <td>1</td>\n",
       "    </tr>\n",
       "    <tr>\n",
       "      <th>3</th>\n",
       "      <td>1</td>\n",
       "      <td>1</td>\n",
       "    </tr>\n",
       "    <tr>\n",
       "      <th>4</th>\n",
       "      <td>1</td>\n",
       "      <td>1</td>\n",
       "    </tr>\n",
       "    <tr>\n",
       "      <th>5</th>\n",
       "      <td>2</td>\n",
       "      <td>2</td>\n",
       "    </tr>\n",
       "    <tr>\n",
       "      <th>6</th>\n",
       "      <td>1</td>\n",
       "      <td>1</td>\n",
       "    </tr>\n",
       "    <tr>\n",
       "      <th>7</th>\n",
       "      <td>1</td>\n",
       "      <td>1</td>\n",
       "    </tr>\n",
       "    <tr>\n",
       "      <th>8</th>\n",
       "      <td>1</td>\n",
       "      <td>1</td>\n",
       "    </tr>\n",
       "    <tr>\n",
       "      <th>25</th>\n",
       "      <td>0</td>\n",
       "      <td>17</td>\n",
       "    </tr>\n",
       "    <tr>\n",
       "      <th>28</th>\n",
       "      <td>0</td>\n",
       "      <td>20</td>\n",
       "    </tr>\n",
       "    <tr>\n",
       "      <th>29</th>\n",
       "      <td>0</td>\n",
       "      <td>28</td>\n",
       "    </tr>\n",
       "    <tr>\n",
       "      <th>31</th>\n",
       "      <td>0</td>\n",
       "      <td>6</td>\n",
       "    </tr>\n",
       "    <tr>\n",
       "      <th>32</th>\n",
       "      <td>0</td>\n",
       "      <td>6</td>\n",
       "    </tr>\n",
       "    <tr>\n",
       "      <th>33</th>\n",
       "      <td>0</td>\n",
       "      <td>19</td>\n",
       "    </tr>\n",
       "    <tr>\n",
       "      <th>34</th>\n",
       "      <td>0</td>\n",
       "      <td>49</td>\n",
       "    </tr>\n",
       "  </tbody>\n",
       "</table>\n",
       "</div>"
      ],
      "text/plain": [
       "managed          0     1\n",
       "tollbooth               \n",
       "0          2238768  1351\n",
       "1                2     1\n",
       "2                1     1\n",
       "3                1     1\n",
       "4                1     1\n",
       "5                2     2\n",
       "6                1     1\n",
       "7                1     1\n",
       "8                1     1\n",
       "25               0    17\n",
       "28               0    20\n",
       "29               0    28\n",
       "31               0     6\n",
       "32               0     6\n",
       "33               0    19\n",
       "34               0    49"
      ]
     },
     "execution_count": 34,
     "metadata": {},
     "output_type": "execute_result"
    }
   ],
   "source": [
    "# tollbooth\n",
    "pd.crosstab(model_net.links_mtc_df.tollbooth, model_net.links_mtc_df.managed)"
   ]
  },
  {
   "cell_type": "code",
   "execution_count": 35,
   "metadata": {},
   "outputs": [
    {
     "data": {
      "text/html": [
       "<div>\n",
       "<style scoped>\n",
       "    .dataframe tbody tr th:only-of-type {\n",
       "        vertical-align: middle;\n",
       "    }\n",
       "\n",
       "    .dataframe tbody tr th {\n",
       "        vertical-align: top;\n",
       "    }\n",
       "\n",
       "    .dataframe thead th {\n",
       "        text-align: right;\n",
       "    }\n",
       "</style>\n",
       "<table border=\"1\" class=\"dataframe\">\n",
       "  <thead>\n",
       "    <tr style=\"text-align: right;\">\n",
       "      <th>managed</th>\n",
       "      <th>0</th>\n",
       "      <th>1</th>\n",
       "    </tr>\n",
       "    <tr>\n",
       "      <th>tollseg</th>\n",
       "      <th></th>\n",
       "      <th></th>\n",
       "    </tr>\n",
       "  </thead>\n",
       "  <tbody>\n",
       "    <tr>\n",
       "      <th>0</th>\n",
       "      <td>2238776</td>\n",
       "      <td>1360</td>\n",
       "    </tr>\n",
       "    <tr>\n",
       "      <th>1</th>\n",
       "      <td>0</td>\n",
       "      <td>106</td>\n",
       "    </tr>\n",
       "    <tr>\n",
       "      <th>2</th>\n",
       "      <td>0</td>\n",
       "      <td>10</td>\n",
       "    </tr>\n",
       "    <tr>\n",
       "      <th>3</th>\n",
       "      <td>0</td>\n",
       "      <td>13</td>\n",
       "    </tr>\n",
       "    <tr>\n",
       "      <th>4</th>\n",
       "      <td>0</td>\n",
       "      <td>8</td>\n",
       "    </tr>\n",
       "    <tr>\n",
       "      <th>5</th>\n",
       "      <td>0</td>\n",
       "      <td>8</td>\n",
       "    </tr>\n",
       "    <tr>\n",
       "      <th>36</th>\n",
       "      <td>2</td>\n",
       "      <td>0</td>\n",
       "    </tr>\n",
       "  </tbody>\n",
       "</table>\n",
       "</div>"
      ],
      "text/plain": [
       "managed        0     1\n",
       "tollseg               \n",
       "0        2238776  1360\n",
       "1              0   106\n",
       "2              0    10\n",
       "3              0    13\n",
       "4              0     8\n",
       "5              0     8\n",
       "36             2     0"
      ]
     },
     "execution_count": 35,
     "metadata": {},
     "output_type": "execute_result"
    }
   ],
   "source": [
    "# tollseg\n",
    "pd.crosstab(model_net.links_mtc_df.tollseg, model_net.links_mtc_df.managed)"
   ]
  },
  {
   "cell_type": "markdown",
   "metadata": {},
   "source": [
    "# Section 3 Write to Disk"
   ]
  },
  {
   "cell_type": "markdown",
   "metadata": {},
   "source": [
    "## create roadway pickle"
   ]
  },
  {
   "cell_type": "code",
   "execution_count": 36,
   "metadata": {},
   "outputs": [],
   "source": [
    "model_net.links_mtc_df['name'] = model_net.links_mtc_df['name'].apply(lambda x: util.shorten_name(x))"
   ]
  },
  {
   "cell_type": "code",
   "execution_count": 37,
   "metadata": {},
   "outputs": [
    {
     "data": {
      "text/plain": [
       "85"
      ]
     },
     "execution_count": 37,
     "metadata": {},
     "output_type": "execute_result"
    }
   ],
   "source": [
    "model_net.links_mtc_df['name'].str.len().max()"
   ]
  },
  {
   "cell_type": "code",
   "execution_count": 38,
   "metadata": {},
   "outputs": [],
   "source": [
    "model_net_filename = os.path.join(output_dir, 'model_net.pickle')\n",
    "pickle.dump(model_net, open(model_net_filename, 'wb'))"
   ]
  },
  {
   "cell_type": "code",
   "execution_count": 115,
   "metadata": {},
   "outputs": [
    {
     "name": "stdout",
     "output_type": "stream",
     "text": [
      "2022-01-19 15:11:05, INFO: Writing Network as Shapefile\n",
      "2022-01-19 15:11:05, INFO: Writing Network as Shapefile\n",
      "2022-01-19 15:11:05, INFO: Renaming DBF Node Variables\n",
      "2022-01-19 15:11:05, INFO: Renaming DBF Node Variables\n",
      "2022-01-19 15:11:05, INFO: Renaming variables so that they are DBF-safe\n",
      "2022-01-19 15:11:05, INFO: Renaming variables so that they are DBF-safe\n",
      "2022-01-19 15:11:20, INFO: Renaming DBF Link Variables\n",
      "2022-01-19 15:11:20, INFO: Renaming DBF Link Variables\n",
      "2022-01-19 15:11:20, INFO: Renaming variables so that they are DBF-safe\n",
      "2022-01-19 15:11:20, INFO: Renaming variables so that they are DBF-safe\n",
      "2022-01-19 15:11:21, INFO: Writing Node Shapes:\n",
      " - D:/github/lfs-cleaning/travel-model-two-networks\\data\\processed\\version_13\\nodes.shp\n",
      "2022-01-19 15:11:21, INFO: Writing Node Shapes:\n",
      " - D:/github/lfs-cleaning/travel-model-two-networks\\data\\processed\\version_13\\nodes.shp\n",
      "2022-01-19 15:12:23, INFO: Writing Link Shapes:\n",
      " - D:/github/lfs-cleaning/travel-model-two-networks\\data\\processed\\version_13\\links.shp\n",
      "2022-01-19 15:12:23, INFO: Writing Link Shapes:\n",
      " - D:/github/lfs-cleaning/travel-model-two-networks\\data\\processed\\version_13\\links.shp\n"
     ]
    },
    {
     "name": "stderr",
     "output_type": "stream",
     "text": [
      "z:\\data\\users\\sijia\\mtc\\github\\lasso\\lasso\\roadway.py:1565: UserWarning: Column names longer than 10 characters will be truncated when saved to ESRI Shapefile.\n",
      "  links_dbf_df.to_file(output_link_shp)\n"
     ]
    }
   ],
   "source": [
    "model_net.write_roadway_as_shp(\n",
    "    output_link_shp = os.path.join(output_dir, 'links.shp'),\n",
    "    output_node_shp = os.path.join(output_dir, 'nodes.shp'),\n",
    "    link_output_variables = [\"model_link_id\", \"A\", \"B\", \"geometry\", \"cntype\", \"lanes_AM\", \"assignable\", \"useclass_AM\", 'name', 'tollbooth', 'drive_access', 'bike_access', 'walk_access'],\n",
    "    node_output_variables = [\"model_node_id\", \"N\", \"geometry\", \"farezone\", \"tap_id\"],\n",
    "    data_to_csv = False,\n",
    "    data_to_dbf = True,\n",
    ")"
   ]
  },
  {
   "cell_type": "markdown",
   "metadata": {},
   "source": [
    "## create transit pickle"
   ]
  },
  {
   "cell_type": "code",
   "execution_count": 41,
   "metadata": {},
   "outputs": [],
   "source": [
    "transfer_fare_df = pd.read_csv(os.path.join(output_dir, \"transfer.csv\"))"
   ]
  },
  {
   "cell_type": "code",
   "execution_count": 43,
   "metadata": {},
   "outputs": [],
   "source": [
    "mtc.write_cube_fare_files(\n",
    "    roadway_network=model_net,\n",
    "    transit_network=step5_scenario.transit_net,\n",
    "    parameters=parameters,\n",
    "    outpath = os.path.join(output_dir),\n",
    "    transfer_fare_df = transfer_fare_df\n",
    ")"
   ]
  },
  {
   "cell_type": "code",
   "execution_count": 44,
   "metadata": {},
   "outputs": [
    {
     "name": "stdout",
     "output_type": "stream",
     "text": [
      "Lasso base directory set as: Z:/Data/Users/Sijia/MTC/github/Lasso\n",
      "Lasso base directory set as: Z:/Data/Users/Sijia/MTC/github/Lasso\n"
     ]
    }
   ],
   "source": [
    "standard_transit_net = StandardTransit.fromTransitNetwork(step5_scenario.transit_net, parameters = parameters)"
   ]
  },
  {
   "cell_type": "code",
   "execution_count": 45,
   "metadata": {},
   "outputs": [],
   "source": [
    "standard_transit_net_filename = os.path.join(output_dir, 'model_transit_net.pickle')\n",
    "pickle.dump(standard_transit_net, open(standard_transit_net_filename, 'wb'))"
   ]
  },
  {
   "cell_type": "markdown",
   "metadata": {},
   "source": [
    "## write EMME\n",
    "### this part writes out EMME networks, which requires EMME license"
   ]
  },
  {
   "cell_type": "code",
   "execution_count": 46,
   "metadata": {},
   "outputs": [],
   "source": [
    "from lasso import emme"
   ]
  },
  {
   "cell_type": "code",
   "execution_count": 9,
   "metadata": {},
   "outputs": [],
   "source": [
    "# read pickle\n",
    "model_net_pickle_file_name = os.path.join(output_dir, 'model_net.pickle')\n",
    "model_net = pickle.load(open(model_net_pickle_file_name, 'rb'))\n",
    "\n",
    "tranit_net_pickle_file_name = os.path.join(output_dir, 'model_transit_net.pickle')\n",
    "standard_transit_net = pickle.load(open(tranit_net_pickle_file_name, 'rb'))"
   ]
  },
  {
   "cell_type": "code",
   "execution_count": 53,
   "metadata": {
    "scrolled": true
   },
   "outputs": [
    {
     "name": "stdout",
     "output_type": "stream",
     "text": [
      "Creating shapes for backward directions on two-way links\n",
      "Make sure the CRS of input network is correct\n",
      "Converting geometry into wkt geometry\n",
      "Converting GTFS Standard Properties to MTC's Emme Standard\n",
      "Reading faresystem from Z:/Data/Users/Sijia/MTC/github/Lasso\\mtc_data\\lookups\\faresystem_crosswalk.txt\n",
      "Reading mode crosswalk from Z:/Data/Users/Sijia/MTC/github/Lasso\\mtc_data\\lookups\\gtfs_to_tm2_mode_crosswalk.csv\n",
      "Reading vehicle capacity table from Z:/Data/Users/Sijia/MTC/github/Lasso\\mtc_data\\lookups\\transitSeatCap.csv\n",
      "Creating itinerary table for each transit trip\n",
      "Finished creating itinerary table for each transit trip\n",
      "max centroid node id: 4756\n",
      "381052\n",
      "1221786\n"
     ]
    }
   ],
   "source": [
    "emme.create_emme_network(\n",
    "    roadway_network=model_net,\n",
    "    transit_network=standard_transit_net,\n",
    "    path=os.path.join(output_dir, 'emme_test071223'),\n",
    "    write_drive_network = False,\n",
    "    write_maz_active_modes_network = False,\n",
    "    write_tap_transit_network = False,\n",
    "    write_taz_transit_network = True,\n",
    "    parameters=parameters,\n",
    "    polygon_file_to_split_active_modes_network=os.path.join(lasso_dir, 'mtc_data', 'emme', 'subregion_boundary_for_active_modes.shp'),\n",
    "    polygon_variable_to_split_active_modes_network = 'subregion'\n",
    ")"
   ]
  },
  {
   "cell_type": "code",
   "execution_count": 52,
   "metadata": {},
   "outputs": [
    {
     "data": {
      "text/plain": [
       "Index(['index', 'osm_node_id', 'shst_node_id', 'county', 'drive_access',\n",
       "       'walk_access', 'bike_access', 'N', 'rail_only', 'X', 'Y', 'geometry',\n",
       "       'farezone', 'tap_id'],\n",
       "      dtype='object')"
      ]
     },
     "execution_count": 52,
     "metadata": {},
     "output_type": "execute_result"
    }
   ],
   "source": [
    "model_net.nodes_mtc_df.columns"
   ]
  },
  {
   "cell_type": "code",
   "execution_count": 126,
   "metadata": {},
   "outputs": [
    {
     "data": {
      "text/plain": [
       "0    1636980\n",
       "      602471\n",
       "1        832\n",
       "Name: transit, dtype: int64"
      ]
     },
     "execution_count": 126,
     "metadata": {},
     "output_type": "execute_result"
    }
   ],
   "source": [
    "model_net.links_mtc_df.transit.value_counts()"
   ]
  },
  {
   "cell_type": "code",
   "execution_count": 141,
   "metadata": {},
   "outputs": [
    {
     "data": {
      "text/html": [
       "<div>\n",
       "<style scoped>\n",
       "    .dataframe tbody tr th:only-of-type {\n",
       "        vertical-align: middle;\n",
       "    }\n",
       "\n",
       "    .dataframe tbody tr th {\n",
       "        vertical-align: top;\n",
       "    }\n",
       "\n",
       "    .dataframe thead th {\n",
       "        text-align: right;\n",
       "    }\n",
       "</style>\n",
       "<table border=\"1\" class=\"dataframe\">\n",
       "  <thead>\n",
       "    <tr style=\"text-align: right;\">\n",
       "      <th></th>\n",
       "      <th>index</th>\n",
       "      <th>bike_access</th>\n",
       "      <th>drive_access</th>\n",
       "      <th>fromIntersectionId</th>\n",
       "      <th>lanes</th>\n",
       "      <th>maxspeed</th>\n",
       "      <th>name</th>\n",
       "      <th>oneWay</th>\n",
       "      <th>ref</th>\n",
       "      <th>roadway</th>\n",
       "      <th>...</th>\n",
       "      <th>ML_lanes_AM</th>\n",
       "      <th>ML_lanes_MD</th>\n",
       "      <th>ML_lanes_PM</th>\n",
       "      <th>ML_lanes_EV</th>\n",
       "      <th>useclass_EA</th>\n",
       "      <th>useclass_AM</th>\n",
       "      <th>useclass_MD</th>\n",
       "      <th>useclass_PM</th>\n",
       "      <th>useclass_EV</th>\n",
       "      <th>geometry</th>\n",
       "    </tr>\n",
       "  </thead>\n",
       "  <tbody>\n",
       "    <tr>\n",
       "      <th>2077812</th>\n",
       "      <td>2073309</td>\n",
       "      <td>0</td>\n",
       "      <td>1</td>\n",
       "      <td></td>\n",
       "      <td>1</td>\n",
       "      <td></td>\n",
       "      <td></td>\n",
       "      <td></td>\n",
       "      <td></td>\n",
       "      <td>maz</td>\n",
       "      <td>...</td>\n",
       "      <td>0</td>\n",
       "      <td>0</td>\n",
       "      <td>0</td>\n",
       "      <td>0</td>\n",
       "      <td>0</td>\n",
       "      <td>0</td>\n",
       "      <td>0</td>\n",
       "      <td>0</td>\n",
       "      <td>0</td>\n",
       "      <td>LINESTRING (4877132.307 3668469.261, 4877178.0...</td>\n",
       "    </tr>\n",
       "  </tbody>\n",
       "</table>\n",
       "<p>1 rows × 58 columns</p>\n",
       "</div>"
      ],
      "text/plain": [
       "           index  bike_access  drive_access fromIntersectionId lanes maxspeed  \\\n",
       "2077812  2073309            0             1                        1            \n",
       "\n",
       "        name oneWay ref roadway  ... ML_lanes_AM ML_lanes_MD ML_lanes_PM  \\\n",
       "2077812                     maz  ...           0           0           0   \n",
       "\n",
       "        ML_lanes_EV useclass_EA  useclass_AM useclass_MD useclass_PM  \\\n",
       "2077812           0           0            0           0           0   \n",
       "\n",
       "         useclass_EV                                           geometry  \n",
       "2077812            0  LINESTRING (4877132.307 3668469.261, 4877178.0...  \n",
       "\n",
       "[1 rows x 58 columns]"
      ]
     },
     "execution_count": 141,
     "metadata": {},
     "output_type": "execute_result"
    }
   ],
   "source": [
    "model_net.links_mtc_df[(model_net.links_mtc_df.A == 318969) & (model_net.links_mtc_df.B == 2551228)]"
   ]
  },
  {
   "cell_type": "code",
   "execution_count": 129,
   "metadata": {},
   "outputs": [
    {
     "data": {
      "text/html": [
       "<div>\n",
       "<style scoped>\n",
       "    .dataframe tbody tr th:only-of-type {\n",
       "        vertical-align: middle;\n",
       "    }\n",
       "\n",
       "    .dataframe tbody tr th {\n",
       "        vertical-align: top;\n",
       "    }\n",
       "\n",
       "    .dataframe thead th {\n",
       "        text-align: right;\n",
       "    }\n",
       "</style>\n",
       "<table border=\"1\" class=\"dataframe\">\n",
       "  <thead>\n",
       "    <tr style=\"text-align: right;\">\n",
       "      <th></th>\n",
       "      <th>A</th>\n",
       "      <th>B</th>\n",
       "      <th>A_consecutive</th>\n",
       "      <th>B_consecutive</th>\n",
       "    </tr>\n",
       "  </thead>\n",
       "  <tbody>\n",
       "    <tr>\n",
       "      <th>1661625</th>\n",
       "      <td>200533</td>\n",
       "      <td>2094466</td>\n",
       "      <td>11371</td>\n",
       "      <td>229382</td>\n",
       "    </tr>\n",
       "  </tbody>\n",
       "</table>\n",
       "</div>"
      ],
      "text/plain": [
       "              A        B  A_consecutive  B_consecutive\n",
       "1661625  200533  2094466          11371         229382"
      ]
     },
     "execution_count": 129,
     "metadata": {},
     "output_type": "execute_result"
    }
   ],
   "source": [
    "model_net.links_mtc_df[model_net.links_mtc_df.model_link_id == 2522827][['A', 'B', 'A_consecutive', 'B_consecutive']]"
   ]
  },
  {
   "cell_type": "markdown",
   "metadata": {},
   "source": [
    "## write whole scenario pickle"
   ]
  },
  {
   "cell_type": "code",
   "execution_count": 98,
   "metadata": {},
   "outputs": [],
   "source": [
    "working_scenario_filename = os.path.join(output_dir, 'working_scenario_12.pickle')\n",
    "pickle.dump(step5_scenario, open(working_scenario_filename, 'wb'))"
   ]
  },
  {
   "cell_type": "markdown",
   "metadata": {},
   "source": [
    "## write build standard network"
   ]
  },
  {
   "cell_type": "code",
   "execution_count": 99,
   "metadata": {},
   "outputs": [
    {
     "name": "stdout",
     "output_type": "stream",
     "text": [
      "2021-09-30 16:30:55, INFO: Writing transit to directory: D:/github/lfs-cleaning/travel-model-two-networks\\data\\processed\\version_12\n",
      "2021-09-30 16:30:55, INFO: Writing transit to directory: D:/github/lfs-cleaning/travel-model-two-networks\\data\\processed\\version_12\n"
     ]
    }
   ],
   "source": [
    "step5_scenario.road_net.write(path = output_dir, filename = \"v12\")\n",
    "step5_scenario.transit_net.write(path = output_dir, filename = \"v12\")"
   ]
  },
  {
   "cell_type": "code",
   "execution_count": 100,
   "metadata": {},
   "outputs": [
    {
     "name": "stderr",
     "output_type": "stream",
     "text": [
      "c:\\users\\wangs1\\.conda\\envs\\lasso_mtc\\lib\\site-packages\\ipykernel_launcher.py:13: UserWarning: this is an initial implementation of Parquet/Feather file support and associated metadata.  This is tracking version 0.1.0 of the metadata specification at https://github.com/geopandas/geo-arrow-spec\n",
      "\n",
      "This metadata specification does not yet make stability promises.  We do not yet recommend using this in a production setting unless you are able to rewrite your Parquet/Feather files.\n",
      "\n",
      "To further ignore this warning, you can do: \n",
      "import warnings; warnings.filterwarnings('ignore', message='.*initial implementation of Parquet.*')\n",
      "  del sys.path[0]\n"
     ]
    }
   ],
   "source": [
    "# save out link feather\n",
    "# to_feather() does not like mixed type\n",
    "\n",
    "links_feather = step5_scenario.road_net.links_df.copy()\n",
    "links_feather.drop(\"geometry\", axis = 1, inplace = True)\n",
    "\n",
    "for c in links_feather.columns:\n",
    "    if c in parameters.int_col:\n",
    "        links_feather[c] = links_feather[c].astype(int)\n",
    "    else:\n",
    "        links_feather[c] = links_feather[c].astype(str)\n",
    "        \n",
    "links_feather.to_feather(path = os.path.join(output_dir, \"v12_links.feather\"))"
   ]
  },
  {
   "cell_type": "code",
   "execution_count": 101,
   "metadata": {},
   "outputs": [],
   "source": [
    "stop_node_id = step5_scenario.transit_net.feed.stops.model_node_id.tolist()"
   ]
  },
  {
   "cell_type": "code",
   "execution_count": 102,
   "metadata": {},
   "outputs": [
    {
     "data": {
      "text/plain": [
       "1    18215\n",
       "Name: walk_access, dtype: int64"
      ]
     },
     "execution_count": 102,
     "metadata": {},
     "output_type": "execute_result"
    }
   ],
   "source": [
    "step5_scenario.road_net.nodes_df[step5_scenario.road_net.nodes_df.model_node_id.isin(stop_node_id)].walk_access.value_counts()"
   ]
  },
  {
   "cell_type": "code",
   "execution_count": 103,
   "metadata": {},
   "outputs": [
    {
     "data": {
      "text/plain": [
       "175454    1\n",
       "Name: assignable, dtype: int32"
      ]
     },
     "execution_count": 103,
     "metadata": {},
     "output_type": "execute_result"
    }
   ],
   "source": [
    "model_net.links_df[model_net.links_df.model_link_id == 3033292].assignable"
   ]
  },
  {
   "cell_type": "code",
   "execution_count": 104,
   "metadata": {},
   "outputs": [
    {
     "data": {
      "text/plain": [
       "Index(['index', 'osm_node_id', 'shst_node_id', 'county', 'drive_access',\n",
       "       'walk_access', 'bike_access', 'model_node_id', 'rail_only', 'X', 'Y',\n",
       "       'geometry', 'farezone', 'tap_id'],\n",
       "      dtype='object')"
      ]
     },
     "execution_count": 104,
     "metadata": {},
     "output_type": "execute_result"
    }
   ],
   "source": [
    "model_net.nodes_df.columns"
   ]
  },
  {
   "cell_type": "code",
   "execution_count": 105,
   "metadata": {},
   "outputs": [
    {
     "data": {
      "text/plain": [
       "18215"
      ]
     },
     "execution_count": 105,
     "metadata": {},
     "output_type": "execute_result"
    }
   ],
   "source": [
    "step5_scenario.transit_net.feed.stops.model_node_id.nunique()"
   ]
  }
 ],
 "metadata": {
  "kernelspec": {
   "display_name": "Python 3 (ipykernel)",
   "language": "python",
   "name": "python3"
  },
  "language_info": {
   "codemirror_mode": {
    "name": "ipython",
    "version": 3
   },
   "file_extension": ".py",
   "mimetype": "text/x-python",
   "name": "python",
   "nbconvert_exporter": "python",
   "pygments_lexer": "ipython3",
   "version": "3.7.10"
  },
  "vscode": {
   "interpreter": {
    "hash": "fa7905f783afaa4b65cb5cc7eef209b8ded34f5f6ee2797459f4e6a257501213"
   }
  }
 },
 "nbformat": 4,
 "nbformat_minor": 4
}
