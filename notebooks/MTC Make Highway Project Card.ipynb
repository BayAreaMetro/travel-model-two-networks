{
 "cells": [
  {
   "cell_type": "markdown",
   "metadata": {},
   "source": [
    "# Make Project Cards"
   ]
  },
  {
   "cell_type": "code",
   "execution_count": 1,
   "metadata": {},
   "outputs": [],
   "source": [
    "import os\n",
    "import sys\n",
    "import yaml\n",
    "import pickle\n",
    "import glob\n",
    "import copy\n",
    "\n",
    "import pandas as pd\n",
    "\n",
    "from network_wrangler import RoadwayNetwork\n",
    "from network_wrangler import TransitNetwork\n",
    "from network_wrangler import ProjectCard\n",
    "from network_wrangler import Scenario\n",
    "from network_wrangler import WranglerLogger\n",
    "\n",
    "from lasso import ModelRoadwayNetwork\n",
    "from lasso import StandardTransit\n",
    "from lasso import Parameters\n",
    "from lasso import Project\n",
    "from lasso import mtc"
   ]
  },
  {
   "cell_type": "code",
   "execution_count": 2,
   "metadata": {},
   "outputs": [],
   "source": [
    "%load_ext autoreload\n",
    "%autoreload 2"
   ]
  },
  {
   "cell_type": "code",
   "execution_count": 3,
   "metadata": {},
   "outputs": [],
   "source": [
    "import logging\n",
    "logger = logging.getLogger(\"WranglerLogger\")\n",
    "logger.handlers[0].stream = sys.stdout\n",
    "logger.setLevel(logging.INFO)"
   ]
  },
  {
   "cell_type": "markdown",
   "metadata": {},
   "source": [
    "# Remote I/O and parameters"
   ]
  },
  {
   "cell_type": "code",
   "execution_count": 4,
   "metadata": {},
   "outputs": [],
   "source": [
    "# root_dir = os.path.join('/Users', 'wsp', 'Documents', 'GitHub', 'travel-model-two-networks')\n",
    "# root_dir = \"D:/github/lfs-cleaning/travel-model-two-networks\"\n",
    "#root_dir = \"D:/david_ory_github/travel-model-two-networks-data\"\n",
    "#input_dir = os.path.join(root_dir, 'data', 'processed', 'version_08')\n",
    "output_dir = \"C:/Wrangler Test\"\n",
    "card_dir = \"M:/Application/Model Two/RTP2021/Project Cards/COM_ALA130006_Dublin_Blvd_widening\"\n",
    "lasso_dir = \"C:/Users/bespin/Documents/GitHub/Lasso\"\n",
    "# lasso_dir = os.path.join('/Users', 'wsp', 'Documents', 'GitHub', 'mtc-Lasso')\n",
    "# lasso_dir = \"Z:/Data/Users/Sijia/MTC/github/Lasso\""
   ]
  },
  {
   "cell_type": "code",
   "execution_count": 5,
   "metadata": {},
   "outputs": [
    {
     "name": "stdout",
     "output_type": "stream",
     "text": [
      "2021-06-24 12:13:35, INFO: Lasso base directory set as: C:/Users/bespin/Documents/GitHub/Lasso\n",
      "2021-06-24 12:13:35, INFO: Lasso base directory set as: C:/Users/bespin/Documents/GitHub/Lasso\n",
      "2021-06-24 12:13:35, INFO: Lasso base directory set as: C:/Users/bespin/Documents/GitHub/Lasso\n",
      "2021-06-24 12:13:35, INFO: Lasso base directory set as: C:/Users/bespin/Documents/GitHub/Lasso\n"
     ]
    }
   ],
   "source": [
    "parameters = Parameters(lasso_base_dir = lasso_dir)"
   ]
  },
  {
   "cell_type": "markdown",
   "metadata": {},
   "source": [
    "# Read pickle"
   ]
  },
  {
   "cell_type": "code",
   "execution_count": 6,
   "metadata": {},
   "outputs": [],
   "source": [
    "pickle_file_name = \"C:/Wrangler Test/working_scenario_01/working_scenario_01.pickle\"\n",
    "scenario = pickle.load(open(pickle_file_name, 'rb'))"
   ]
  },
  {
   "cell_type": "code",
   "execution_count": 7,
   "metadata": {},
   "outputs": [
    {
     "name": "stdout",
     "output_type": "stream",
     "text": [
      "2021-06-24 12:24:28, INFO: Lasso base directory set as: C:/Users/bespin/Documents/GitHub/Lasso\n",
      "2021-06-24 12:24:28, INFO: Lasso base directory set as: C:/Users/bespin/Documents/GitHub/Lasso\n",
      "2021-06-24 12:24:28, INFO: Lasso base directory set as: C:/Users/bespin/Documents/GitHub/Lasso\n",
      "2021-06-24 12:24:28, INFO: Lasso base directory set as: C:/Users/bespin/Documents/GitHub/Lasso\n",
      "2021-06-24 12:24:28, INFO: Filling nan for network from network wrangler\n",
      "2021-06-24 12:24:28, INFO: Filling nan for network from network wrangler\n",
      "2021-06-24 12:24:48, INFO: Converting variable type to mtc standard\n",
      "2021-06-24 12:24:48, INFO: Converting variable type to mtc standard\n"
     ]
    }
   ],
   "source": [
    "model_net = ModelRoadwayNetwork.from_RoadwayNetwork(\n",
    "    roadway_network_object = scenario.road_net, \n",
    "    parameters = parameters)"
   ]
  },
  {
   "cell_type": "markdown",
   "metadata": {},
   "source": [
    "# **Create project card for Dublin Blvd widening project**"
   ]
  },
  {
   "cell_type": "code",
   "execution_count": 8,
   "metadata": {},
   "outputs": [
    {
     "name": "stdout",
     "output_type": "stream",
     "text": [
      "2021-06-24 12:57:30, INFO: No base transit network.\n",
      "2021-06-24 12:57:30, INFO: No base transit network.\n",
      "2021-06-24 12:57:30, INFO: No transit changes given or processed.\n",
      "2021-06-24 12:57:30, INFO: No transit changes given or processed.\n",
      "2021-06-24 12:57:30, INFO: Reading logfile: M:/Application/Model Two/RTP2021/Project Cards/COM_ALA130006_Dublin_Blvd_widening\\Dublin_Blvd_Wide.LOG\n",
      "2021-06-24 12:57:30, INFO: Reading logfile: M:/Application/Model Two/RTP2021/Project Cards/COM_ALA130006_Dublin_Blvd_widening\\Dublin_Blvd_Wide.LOG\n",
      "2021-06-24 12:57:30, INFO: Processed 0 Node lines and 14 Link lines\n",
      "2021-06-24 12:57:30, INFO: Processed 0 Node lines and 14 Link lines\n",
      "2021-06-24 12:57:30, INFO: Lasso base directory set as: C:/Users/bespin/Documents/GitHub/Lasso\n",
      "2021-06-24 12:57:30, INFO: Lasso base directory set as: C:/Users/bespin/Documents/GitHub/Lasso\n",
      "2021-06-24 12:57:30, INFO: Lasso base directory set as: C:/Users/bespin/Documents/GitHub/Lasso\n",
      "2021-06-24 12:57:30, INFO: Lasso base directory set as: C:/Users/bespin/Documents/GitHub/Lasso\n",
      "2021-06-24 12:57:30, INFO: Evaluating compatibility between roadway network changes and base network. Not evaluating deletions.\n",
      "2021-06-24 12:57:30, INFO: Evaluating compatibility between roadway network changes and base network. Not evaluating deletions.\n",
      "2021-06-24 12:57:39, INFO: Evaluating project changes.\n",
      "2021-06-24 12:57:39, INFO: Evaluating project changes.\n",
      "2021-06-24 12:57:39, WARNING: The following attributes are specified in the changes but do not exist in the base network: ['OPERATION_final']\n",
      "2021-06-24 12:57:39, WARNING: The following attributes are specified in the changes but do not exist in the base network: ['OPERATION_final']\n",
      "2021-06-24 12:57:39, INFO: No link changes processed\n",
      "2021-06-24 12:57:39, INFO: No link changes processed\n"
     ]
    }
   ],
   "source": [
    "project = Project.create_project(\n",
    "        base_roadway_network = model_net,\n",
    "        roadway_log_file = os.path.join(card_dir, \"Dublin_Blvd_Wide.LOG\"),\n",
    "        project_name = \"Dublin Blvd\",\n",
    "        parameters = parameters,\n",
    ")"
   ]
  },
  {
   "cell_type": "code",
   "execution_count": 9,
   "metadata": {},
   "outputs": [
    {
     "name": "stdout",
     "output_type": "stream",
     "text": [
      "2021-06-24 12:57:49, INFO: Wrote project card to: C:/Wrangler Test\\Dublin Blvd Wide.yml\n",
      "2021-06-24 12:57:49, INFO: Wrote project card to: C:/Wrangler Test\\Dublin Blvd Wide.yml\n"
     ]
    }
   ],
   "source": [
    "project.write_project_card(os.path.join(output_dir, \"Dublin Blvd Wide.yml\"))"
   ]
  }
 ],
 "metadata": {
  "kernelspec": {
   "display_name": "Python 3",
   "language": "python",
   "name": "python3"
  },
  "language_info": {
   "codemirror_mode": {
    "name": "ipython",
    "version": 3
   },
   "file_extension": ".py",
   "mimetype": "text/x-python",
   "name": "python",
   "nbconvert_exporter": "python",
   "pygments_lexer": "ipython3",
   "version": "3.7.10"
  }
 },
 "nbformat": 4,
 "nbformat_minor": 4
}
