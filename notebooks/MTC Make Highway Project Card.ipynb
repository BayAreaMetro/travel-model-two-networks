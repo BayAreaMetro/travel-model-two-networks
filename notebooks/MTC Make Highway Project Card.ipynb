{
 "cells": [
  {
   "cell_type": "markdown",
   "metadata": {},
   "source": [
    "# Make Project Cards"
   ]
  },
  {
   "cell_type": "code",
   "execution_count": 1,
   "metadata": {},
   "outputs": [],
   "source": [
    "import os\n",
    "import sys\n",
    "import yaml\n",
    "import pickle\n",
    "import glob\n",
    "import copy\n",
    "\n",
    "import pandas as pd\n",
    "\n",
    "from network_wrangler import RoadwayNetwork\n",
    "from network_wrangler import TransitNetwork\n",
    "from network_wrangler import ProjectCard\n",
    "from network_wrangler import Scenario\n",
    "from network_wrangler import WranglerLogger\n",
    "\n",
    "from lasso import ModelRoadwayNetwork\n",
    "from lasso import StandardTransit\n",
    "from lasso import Parameters\n",
    "from lasso import Project\n",
    "from lasso import mtc"
   ]
  },
  {
   "cell_type": "code",
   "execution_count": 2,
   "metadata": {},
   "outputs": [],
   "source": [
    "%load_ext autoreload\n",
    "%autoreload 2"
   ]
  },
  {
   "cell_type": "code",
   "execution_count": 3,
   "metadata": {},
   "outputs": [],
   "source": [
    "import logging\n",
    "logger = logging.getLogger(\"WranglerLogger\")\n",
    "logger.handlers[0].stream = sys.stdout\n",
    "logger.setLevel(logging.INFO)"
   ]
  },
  {
   "cell_type": "markdown",
   "metadata": {},
   "source": [
    "# Remote I/O and parameters"
   ]
  },
  {
   "cell_type": "code",
   "execution_count": 4,
   "metadata": {},
   "outputs": [],
   "source": [
    "root_dir = 'C:\\\\Users\\\\{}\\\\Box\\\\Modeling and Surveys\\\\Development\\\\Travel Model Two Development\\\\Travel Model Two Network Rebuild\\\\travel-model-two-networks'.format(os.getenv('USERNAME'))\n",
    "input_dir = os.path.join(root_dir, 'data', 'processed', 'version_12')\n",
    "\n",
    "output_dir = 'M:\\\\Application\\\\Model Two\\\\NetworkProjects\\\\Project Cards\\\\ALA130005_Dougherty_road_widening'\n",
    "card_dir = 'M:\\\\Application\\\\Model Two\\\\NetworkProjects\\\\Project Cards\\\\ALA130005_Dougherty_road_widening'\n",
    "\n",
    "lasso_dir = 'C:\\\\Users\\\\{}\\\\Documents\\\\GitHub\\\\Lasso'.format(os.getenv('USERNAME'))"
   ]
  },
  {
   "cell_type": "code",
   "execution_count": 5,
   "metadata": {},
   "outputs": [
    {
     "name": "stdout",
     "output_type": "stream",
     "text": [
      "2022-03-10 16:26:58, INFO: Lasso base directory set as: C:\\Users\\MTCPB\\Documents\\GitHub\\Lasso\n",
      "2022-03-10 16:26:58, INFO: Lasso base directory set as: C:\\Users\\MTCPB\\Documents\\GitHub\\Lasso\n",
      "2022-03-10 16:26:58, INFO: Lasso base directory set as: C:\\Users\\MTCPB\\Documents\\GitHub\\Lasso\n",
      "2022-03-10 16:26:58, INFO: Lasso base directory set as: C:\\Users\\MTCPB\\Documents\\GitHub\\Lasso\n"
     ]
    }
   ],
   "source": [
    "parameters = Parameters(lasso_base_dir = lasso_dir)"
   ]
  },
  {
   "cell_type": "markdown",
   "metadata": {},
   "source": [
    "# Read pickle"
   ]
  },
  {
   "cell_type": "code",
   "execution_count": 6,
   "metadata": {},
   "outputs": [
    {
     "name": "stdout",
     "output_type": "stream",
     "text": [
      "Wall time: 2min 8s\n"
     ]
    }
   ],
   "source": [
    "%%time\n",
    "pickle_file_name = os.path.join(input_dir, 'working_scenario_01.pickle')\n",
    "scenario = pickle.load(open(pickle_file_name, 'rb'))"
   ]
  },
  {
   "cell_type": "code",
   "execution_count": 7,
   "metadata": {},
   "outputs": [
    {
     "name": "stdout",
     "output_type": "stream",
     "text": [
      "2022-03-10 16:36:50, INFO: Lasso base directory set as: C:\\Users\\MTCPB\\Documents\\GitHub\\Lasso\n",
      "2022-03-10 16:36:50, INFO: Lasso base directory set as: C:\\Users\\MTCPB\\Documents\\GitHub\\Lasso\n",
      "2022-03-10 16:36:50, INFO: Lasso base directory set as: C:\\Users\\MTCPB\\Documents\\GitHub\\Lasso\n",
      "2022-03-10 16:36:50, INFO: Lasso base directory set as: C:\\Users\\MTCPB\\Documents\\GitHub\\Lasso\n",
      "2022-03-10 16:36:50, INFO: Filling nan for network from network wrangler\n",
      "2022-03-10 16:36:50, INFO: Filling nan for network from network wrangler\n",
      "2022-03-10 16:37:09, INFO: Converting variable type to mtc standard\n",
      "2022-03-10 16:37:09, INFO: Converting variable type to mtc standard\n",
      "Wall time: 7min 58s\n"
     ]
    }
   ],
   "source": [
    "%%time\n",
    "model_net = ModelRoadwayNetwork.from_RoadwayNetwork(\n",
    "    roadway_network_object = scenario.road_net, \n",
    "    parameters = parameters)"
   ]
  },
  {
   "cell_type": "markdown",
   "metadata": {},
   "source": [
    "### Create project card for Dougherty_road_widening project"
   ]
  },
  {
   "cell_type": "code",
   "execution_count": 17,
   "metadata": {
    "scrolled": false
   },
   "outputs": [
    {
     "name": "stdout",
     "output_type": "stream",
     "text": [
      "2022-03-11 14:26:21, INFO: No base cube transit network.\n",
      "2022-03-11 14:26:21, INFO: No base cube transit network.\n",
      "2022-03-11 14:26:21, INFO: No cube transit changes given or processed.\n",
      "2022-03-11 14:26:21, INFO: No cube transit changes given or processed.\n",
      "2022-03-11 14:26:31, WARNING: Specified variable to split: ML_lanes not in network variables: Index(['access', 'bike_access', 'drive_access', 'fromIntersectionId', 'lanes',\n",
      "       'maxspeed', 'name', 'oneWay', 'ref', 'roadway', 'shstGeometryId',\n",
      "       'shstReferenceId', 'toIntersectionId', 'u', 'v', 'walk_access', 'wayId',\n",
      "       'county', 'model_link_id', 'A', 'B', 'rail_traveltime', 'rail_only',\n",
      "       'locationReferences', 'geometry', 'ft_cal', 'ft', 'useclass',\n",
      "       'assignable_cal', 'assignable', 'transit', 'lanes_EA', 'lanes_AM',\n",
      "       'lanes_MD', 'lanes_PM', 'lanes_EV', 'ML_lanes_EA', 'ML_lanes_AM',\n",
      "       'ML_lanes_MD', 'ML_lanes_PM', 'ML_lanes_EV', 'useclass_EA',\n",
      "       'useclass_AM', 'useclass_MD', 'useclass_PM', 'useclass_EV'],\n",
      "      dtype='object'). Returning 0.\n",
      "2022-03-11 14:26:31, WARNING: Specified variable to split: ML_lanes not in network variables: Index(['access', 'bike_access', 'drive_access', 'fromIntersectionId', 'lanes',\n",
      "       'maxspeed', 'name', 'oneWay', 'ref', 'roadway', 'shstGeometryId',\n",
      "       'shstReferenceId', 'toIntersectionId', 'u', 'v', 'walk_access', 'wayId',\n",
      "       'county', 'model_link_id', 'A', 'B', 'rail_traveltime', 'rail_only',\n",
      "       'locationReferences', 'geometry', 'ft_cal', 'ft', 'useclass',\n",
      "       'assignable_cal', 'assignable', 'transit', 'lanes_EA', 'lanes_AM',\n",
      "       'lanes_MD', 'lanes_PM', 'lanes_EV', 'ML_lanes_EA', 'ML_lanes_AM',\n",
      "       'ML_lanes_MD', 'ML_lanes_PM', 'ML_lanes_EV', 'useclass_EA',\n",
      "       'useclass_AM', 'useclass_MD', 'useclass_PM', 'useclass_EV'],\n",
      "      dtype='object'). Returning 0.\n",
      "2022-03-11 14:26:40, INFO: No base transit network.\n",
      "2022-03-11 14:26:40, INFO: No base transit network.\n",
      "2022-03-11 14:26:40, INFO: Lasso base directory set as: C:\\Users\\MTCPB\\Documents\\GitHub\\Lasso\n",
      "2022-03-11 14:26:40, INFO: Lasso base directory set as: C:\\Users\\MTCPB\\Documents\\GitHub\\Lasso\n",
      "2022-03-11 14:26:40, INFO: Lasso base directory set as: C:\\Users\\MTCPB\\Documents\\GitHub\\Lasso\n",
      "2022-03-11 14:26:40, INFO: Lasso base directory set as: C:\\Users\\MTCPB\\Documents\\GitHub\\Lasso\n",
      "2022-03-11 14:26:40, INFO: Evaluating compatibility between roadway network changes and base network. Not evaluating deletions.\n",
      "2022-03-11 14:26:40, INFO: Evaluating compatibility between roadway network changes and base network. Not evaluating deletions.\n",
      "2022-03-11 14:26:44, INFO: Evaluating project changes.\n",
      "2022-03-11 14:26:44, INFO: Evaluating project changes.\n",
      "2022-03-11 14:26:45, WARNING: The following attributes are specified in the changes but do not exist in the base network: ['operation_final']\n",
      "2022-03-11 14:26:45, WARNING: The following attributes are specified in the changes but do not exist in the base network: ['operation_final']\n"
     ]
    },
    {
     "name": "stderr",
     "output_type": "stream",
     "text": [
      "C:\\Users\\MTCPB\\Anaconda3\\envs\\tm2_network_dev\\lib\\site-packages\\pandas\\core\\frame.py:1490: FutureWarning: Using short name for 'orient' is deprecated. Only the options: ('dict', list, 'series', 'split', 'records', 'index') will be used in a future version. Use one of the above to silence this warning.\n",
      "  FutureWarning,\n"
     ]
    },
    {
     "ename": "AttributeError",
     "evalue": "'NoneType' object has no attribute 'empty'",
     "output_type": "error",
     "traceback": [
      "\u001b[1;31m---------------------------------------------------------------------------\u001b[0m",
      "\u001b[1;31mAttributeError\u001b[0m                            Traceback (most recent call last)",
      "\u001b[1;32m<timed exec>\u001b[0m in \u001b[0;36m<module>\u001b[1;34m\u001b[0m\n",
      "\u001b[1;32mc:\\users\\mtcpb\\documents\\github\\lasso\\lasso\\project.py\u001b[0m in \u001b[0;36mcreate_project\u001b[1;34m(roadway_log_file, roadway_shp_file, roadway_csv_file, network_build_file, emme_node_id_crosswalk_file, emme_name_crosswalk_file, base_roadway_dir, base_transit_dir, base_cube_transit_source, build_cube_transit_source, roadway_link_changes, roadway_node_changes, transit_changes, base_roadway_network, base_cube_transit_network, build_cube_transit_network, project_name, recalculate_calculated_variables, recalculate_distance, parameters, **kwargs)\u001b[0m\n\u001b[0;32m    419\u001b[0m             \u001b[0mevaluate\u001b[0m\u001b[1;33m=\u001b[0m\u001b[1;32mTrue\u001b[0m\u001b[1;33m,\u001b[0m\u001b[1;33m\u001b[0m\u001b[1;33m\u001b[0m\u001b[0m\n\u001b[0;32m    420\u001b[0m             \u001b[0mproject_name\u001b[0m\u001b[1;33m=\u001b[0m\u001b[0mproject_name\u001b[0m\u001b[1;33m,\u001b[0m\u001b[1;33m\u001b[0m\u001b[1;33m\u001b[0m\u001b[0m\n\u001b[1;32m--> 421\u001b[1;33m             \u001b[0mparameters\u001b[0m\u001b[1;33m=\u001b[0m\u001b[0mparameters\u001b[0m\u001b[1;33m,\u001b[0m\u001b[1;33m\u001b[0m\u001b[1;33m\u001b[0m\u001b[0m\n\u001b[0m\u001b[0;32m    422\u001b[0m         )\n\u001b[0;32m    423\u001b[0m \u001b[1;33m\u001b[0m\u001b[0m\n",
      "\u001b[1;32mc:\\users\\mtcpb\\documents\\github\\lasso\\lasso\\project.py\u001b[0m in \u001b[0;36m__init__\u001b[1;34m(self, roadway_link_changes, roadway_node_changes, transit_changes, base_roadway_network, base_transit_network, base_cube_transit_network, build_cube_transit_network, project_name, evaluate, parameters)\u001b[0m\n\u001b[0;32m    136\u001b[0m \u001b[1;33m\u001b[0m\u001b[0m\n\u001b[0;32m    137\u001b[0m         \u001b[1;32mif\u001b[0m \u001b[0mevaluate\u001b[0m\u001b[1;33m:\u001b[0m\u001b[1;33m\u001b[0m\u001b[1;33m\u001b[0m\u001b[0m\n\u001b[1;32m--> 138\u001b[1;33m             \u001b[0mself\u001b[0m\u001b[1;33m.\u001b[0m\u001b[0mevaluate_changes\u001b[0m\u001b[1;33m(\u001b[0m\u001b[1;33m)\u001b[0m\u001b[1;33m\u001b[0m\u001b[1;33m\u001b[0m\u001b[0m\n\u001b[0m\u001b[0;32m    139\u001b[0m \u001b[1;33m\u001b[0m\u001b[0m\n\u001b[0;32m    140\u001b[0m     \u001b[1;32mdef\u001b[0m \u001b[0mwrite_project_card\u001b[0m\u001b[1;33m(\u001b[0m\u001b[0mself\u001b[0m\u001b[1;33m,\u001b[0m \u001b[0mfilename\u001b[0m\u001b[1;33m:\u001b[0m \u001b[0mstr\u001b[0m \u001b[1;33m=\u001b[0m \u001b[1;32mNone\u001b[0m\u001b[1;33m)\u001b[0m\u001b[1;33m:\u001b[0m\u001b[1;33m\u001b[0m\u001b[1;33m\u001b[0m\u001b[0m\n",
      "\u001b[1;32mc:\\users\\mtcpb\\documents\\github\\lasso\\lasso\\project.py\u001b[0m in \u001b[0;36mevaluate_changes\u001b[1;34m(self)\u001b[0m\n\u001b[0;32m    932\u001b[0m             \u001b[0mhighway_change_list\u001b[0m \u001b[1;33m=\u001b[0m \u001b[0mself\u001b[0m\u001b[1;33m.\u001b[0m\u001b[0madd_highway_changes\u001b[0m\u001b[1;33m(\u001b[0m\u001b[1;33m)\u001b[0m\u001b[1;33m\u001b[0m\u001b[1;33m\u001b[0m\u001b[0m\n\u001b[0;32m    933\u001b[0m \u001b[1;33m\u001b[0m\u001b[0m\n\u001b[1;32m--> 934\u001b[1;33m         if (not self.transit_changes.empty)  or (\n\u001b[0m\u001b[0;32m    935\u001b[0m             \u001b[0mself\u001b[0m\u001b[1;33m.\u001b[0m\u001b[0mbase_cube_transit_network\u001b[0m \u001b[1;32mis\u001b[0m \u001b[1;32mnot\u001b[0m \u001b[1;32mNone\u001b[0m\u001b[1;33m\u001b[0m\u001b[1;33m\u001b[0m\u001b[0m\n\u001b[0;32m    936\u001b[0m             \u001b[1;32mand\u001b[0m \u001b[0mself\u001b[0m\u001b[1;33m.\u001b[0m\u001b[0mbuild_cube_transit_network\u001b[0m \u001b[1;32mis\u001b[0m \u001b[1;32mnot\u001b[0m \u001b[1;32mNone\u001b[0m\u001b[1;33m\u001b[0m\u001b[1;33m\u001b[0m\u001b[0m\n",
      "\u001b[1;31mAttributeError\u001b[0m: 'NoneType' object has no attribute 'empty'"
     ]
    }
   ],
   "source": [
    "%%time\n",
    "project = Project.create_project(\n",
    "    base_roadway_network = model_net,\n",
    "    roadway_csv_file = os.path.join(card_dir, 'links_modified.csv'),\n",
    "    project_name = \"2018_ALA130005_Dougherty_road_widening\",\n",
    "    parameters = parameters,\n",
    ")"
   ]
  },
  {
   "cell_type": "code",
   "execution_count": 18,
   "metadata": {},
   "outputs": [
    {
     "name": "stdout",
     "output_type": "stream",
     "text": [
      "2022-03-11 14:26:50, INFO: Wrote project card to: M:\\Application\\Model Two\\NetworkProjects\\Project Cards\\ALA130005_Dougherty_road_widening\\2018_ALA130005_Dougherty_road_widening.yml\n",
      "2022-03-11 14:26:50, INFO: Wrote project card to: M:\\Application\\Model Two\\NetworkProjects\\Project Cards\\ALA130005_Dougherty_road_widening\\2018_ALA130005_Dougherty_road_widening.yml\n"
     ]
    }
   ],
   "source": [
    "project.write_project_card(os.path.join(output_dir, '2018_ALA130005_Dougherty_road_widening.yml'))"
   ]
  },
  {
   "cell_type": "code",
   "execution_count": null,
   "metadata": {},
   "outputs": [],
   "source": [
    "# %%time\n",
    "# project = Project.create_project(\n",
    "#     base_roadway_network = model_net,\n",
    "#     roadway_log_file = os.path.join(card_dir, 'ALA130005_Dougherty_road_widening.LOG'),\n",
    "#     project_name = \"Dublin Blvd\",\n",
    "#     parameters = parameters,\n",
    "# )"
   ]
  },
  {
   "cell_type": "code",
   "execution_count": null,
   "metadata": {},
   "outputs": [],
   "source": [
    "# project.write_project_card(os.path.join(output_dir, 'ALA130005_Dougherty_road_widening_from_CubeLog.yml'))"
   ]
  },
  {
   "cell_type": "code",
   "execution_count": null,
   "metadata": {},
   "outputs": [],
   "source": []
  },
  {
   "cell_type": "markdown",
   "metadata": {},
   "source": [
    "# **Create project card for Dublin Blvd widening project**"
   ]
  },
  {
   "cell_type": "code",
   "execution_count": 14,
   "metadata": {},
   "outputs": [],
   "source": [
    "# project = Project.create_project(\n",
    "#         base_roadway_network = model_net,\n",
    "#         roadway_log_file = os.path.join(card_dir, \"Dublin_Blvd_Wide.LOG\"),\n",
    "#         project_name = \"Dublin Blvd\",\n",
    "#         parameters = parameters,\n",
    "# )"
   ]
  },
  {
   "cell_type": "code",
   "execution_count": 15,
   "metadata": {},
   "outputs": [],
   "source": [
    "# project.write_project_card(os.path.join(output_dir, \"Dublin Blvd Wide.yml\"))"
   ]
  }
 ],
 "metadata": {
  "kernelspec": {
   "display_name": "Python 3",
   "language": "python",
   "name": "python3"
  },
  "language_info": {
   "codemirror_mode": {
    "name": "ipython",
    "version": 3
   },
   "file_extension": ".py",
   "mimetype": "text/x-python",
   "name": "python",
   "nbconvert_exporter": "python",
   "pygments_lexer": "ipython3",
   "version": "3.7.9"
  }
 },
 "nbformat": 4,
 "nbformat_minor": 4
}
