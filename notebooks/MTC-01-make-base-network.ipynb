{
 "cells": [
  {
   "cell_type": "markdown",
   "metadata": {},
   "source": [
    "# 01 Make Base Standard Network\n",
    "\n",
    "In this notebook we will run through:\n",
    "\n",
    "1. Read in wrangler standard network  \n",
    "2. Append centroid and centroid connectors\n",
    "3. Calculate lanes\n",
    "4. Export the network pickle"
   ]
  },
  {
   "cell_type": "code",
   "execution_count": 1,
   "metadata": {},
   "outputs": [],
   "source": [
    "import os\n",
    "import sys\n",
    "import yaml\n",
    "\n",
    "import pandas as pd\n",
    "\n",
    "from network_wrangler import RoadwayNetwork\n",
    "from network_wrangler import TransitNetwork\n",
    "from network_wrangler import ProjectCard\n",
    "from network_wrangler import Scenario\n",
    "from network_wrangler import WranglerLogger\n",
    "\n",
    "from lasso import ModelRoadwayNetwork\n",
    "from lasso import StandardTransit\n",
    "from lasso import Parameters\n",
    "from lasso import MTC\n",
    "\n",
    "import pickle"
   ]
  },
  {
   "cell_type": "code",
   "execution_count": 2,
   "metadata": {},
   "outputs": [],
   "source": [
    "%load_ext autoreload\n",
    "%autoreload 2"
   ]
  },
  {
   "cell_type": "code",
   "execution_count": 3,
   "metadata": {},
   "outputs": [],
   "source": [
    "import logging\n",
    "logger = logging.getLogger(\"WranglerLogger\")\n",
    "logger.handlers[0].stream = sys.stdout\n",
    "# if you don't want to see so much detail, set to logging.INFO or DEBUG\n",
    "logger.setLevel(logging.DEBUG)"
   ]
  },
  {
   "cell_type": "markdown",
   "metadata": {},
   "source": [
    "# Remote I/O"
   ]
  },
  {
   "cell_type": "code",
   "execution_count": 10,
   "metadata": {},
   "outputs": [],
   "source": [
    "input_dir = \"../data/interim/step8_standard_format\"\n",
    "output_dir = \"../data/processed/version_01\"\n",
    "lasso_dir = \"../../Lasso\""
   ]
  },
  {
   "cell_type": "code",
   "execution_count": 6,
   "metadata": {},
   "outputs": [
    {
     "name": "stdout",
     "output_type": "stream",
     "text": [
      "2020-10-21 13:41:10, INFO: Lasso base directory set as: ../../Lasso\n",
      "2020-10-21 13:41:10, INFO: Lasso base directory set as: ../../Lasso\n"
     ]
    }
   ],
   "source": [
    "parameters = Parameters(lasso_base_dir = lasso_dir)"
   ]
  },
  {
   "cell_type": "code",
   "execution_count": 7,
   "metadata": {},
   "outputs": [
    {
     "data": {
      "text/plain": [
       "['model_link_id',\n",
       " 'model_node_id',\n",
       " 'A',\n",
       " 'B',\n",
       " 'drive_access',\n",
       " 'walk_access',\n",
       " 'bike_access',\n",
       " 'truck_access',\n",
       " 'ML_lanes_AM',\n",
       " 'ML_lanes_MD',\n",
       " 'ML_lanes_PM',\n",
       " 'ML_lanes_EV',\n",
       " 'ML_lanes_EA',\n",
       " 'segment_id',\n",
       " 'managed',\n",
       " 'bus_only',\n",
       " 'rail_only',\n",
       " 'ft',\n",
       " 'lanes_AM',\n",
       " 'lanes_MD',\n",
       " 'lanes_PM',\n",
       " 'lanes_EA',\n",
       " 'lanes_EV',\n",
       " 'useclass_AM',\n",
       " 'useclass_EA',\n",
       " 'useclass_MD',\n",
       " 'useclass_PM',\n",
       " 'useclass_EV',\n",
       " 'tollseg',\n",
       " 'tollbooth']"
      ]
     },
     "execution_count": 7,
     "metadata": {},
     "output_type": "execute_result"
    }
   ],
   "source": [
    "parameters.int_col"
   ]
  },
  {
   "cell_type": "code",
   "execution_count": 8,
   "metadata": {},
   "outputs": [
    {
     "data": {
      "text/plain": [
       "{'lanes': {'v': 'lanes',\n",
       "  'time_periods': {'EA': ('3:00', '6:00'),\n",
       "   'AM': ('6:00', '10:00'),\n",
       "   'MD': ('10:00', '15:00'),\n",
       "   'PM': ('15:00', '19:00'),\n",
       "   'EV': ('19:00', '3:00')}},\n",
       " 'ML_lanes': {'v': 'ML_lanes',\n",
       "  'time_periods': {'EA': ('3:00', '6:00'),\n",
       "   'AM': ('6:00', '10:00'),\n",
       "   'MD': ('10:00', '15:00'),\n",
       "   'PM': ('15:00', '19:00'),\n",
       "   'EV': ('19:00', '3:00')}},\n",
       " 'useclass': {'v': 'useclass',\n",
       "  'time_periods': {'EA': ('3:00', '6:00'),\n",
       "   'AM': ('6:00', '10:00'),\n",
       "   'MD': ('10:00', '15:00'),\n",
       "   'PM': ('15:00', '19:00'),\n",
       "   'EV': ('19:00', '3:00')}}}"
      ]
     },
     "execution_count": 8,
     "metadata": {},
     "output_type": "execute_result"
    }
   ],
   "source": [
    "parameters.properties_to_split"
   ]
  },
  {
   "cell_type": "markdown",
   "metadata": {},
   "source": [
    "# Read Roadway and Transit Networks"
   ]
  },
  {
   "cell_type": "code",
   "execution_count": 11,
   "metadata": {},
   "outputs": [
    {
     "name": "stdout",
     "output_type": "stream",
     "text": [
      "2020-10-21 13:42:31, INFO: Reading from following files:\n",
      "-../data/interim/step8_standard_format\\link.json\n",
      "-../data/interim/step8_standard_format\\node.geojson\n",
      "-../data/interim/step8_standard_format\\shape.geojson.\n",
      "2020-10-21 13:42:31, INFO: Reading from following files:\n",
      "-../data/interim/step8_standard_format\\link.json\n",
      "-../data/interim/step8_standard_format\\node.geojson\n",
      "-../data/interim/step8_standard_format\\shape.geojson.\n",
      "2020-10-21 13:45:34, INFO: Read 1634769 links from ../data/interim/step8_standard_format\\link.json\n",
      "2020-10-21 13:45:34, INFO: Read 1634769 links from ../data/interim/step8_standard_format\\link.json\n",
      "2020-10-21 13:45:34, INFO: Read 644475 nodes from ../data/interim/step8_standard_format\\node.geojson\n",
      "2020-10-21 13:45:34, INFO: Read 644475 nodes from ../data/interim/step8_standard_format\\node.geojson\n",
      "2020-10-21 13:45:34, INFO: Read 869970 shapes from ../data/interim/step8_standard_format\\shape.geojson\n",
      "2020-10-21 13:45:34, INFO: Read 869970 shapes from ../data/interim/step8_standard_format\\shape.geojson\n"
     ]
    }
   ],
   "source": [
    "link_file = os.path.join(input_dir, 'link.json')\n",
    "node_file = os.path.join(input_dir, 'node.geojson')\n",
    "shape_file = os.path.join(input_dir, 'shape.geojson')\n",
    "\n",
    "roadway_net = RoadwayNetwork.read(\n",
    "    link_file = link_file, \n",
    "    node_file = node_file, \n",
    "    shape_file = shape_file\n",
    ")"
   ]
  },
  {
   "cell_type": "code",
   "execution_count": 12,
   "metadata": {},
   "outputs": [
    {
     "data": {
      "text/plain": [
       "Index(['access', 'bike_access', 'drive_access', 'fromIntersectionId', 'lanes',\n",
       "       'maxspeed', 'name', 'oneWay', 'ref', 'roadway', 'shstGeometryId',\n",
       "       'shstReferenceId', 'toIntersectionId', 'u', 'v', 'walk_access', 'wayId',\n",
       "       'county', 'model_link_id', 'A', 'B', 'rail_traveltime', 'rail_only',\n",
       "       'locationReferences', 'shape_id', 'geometry'],\n",
       "      dtype='object')"
      ]
     },
     "execution_count": 12,
     "metadata": {},
     "output_type": "execute_result"
    }
   ],
   "source": [
    "roadway_net.links_df.columns"
   ]
  },
  {
   "cell_type": "markdown",
   "metadata": {},
   "source": [
    "transit_net = TransitNetwork.read(feed_path = input_dir)"
   ]
  },
  {
   "cell_type": "markdown",
   "metadata": {},
   "source": [
    "# Make Travel Model Network"
   ]
  },
  {
   "cell_type": "code",
   "execution_count": 13,
   "metadata": {},
   "outputs": [
    {
     "name": "stdout",
     "output_type": "stream",
     "text": [
      "2020-10-21 13:54:27, INFO: Lasso base directory set as: ../../Lasso\n",
      "2020-10-21 13:54:27, INFO: Lasso base directory set as: ../../Lasso\n"
     ]
    }
   ],
   "source": [
    "base_roadway_net = ModelRoadwayNetwork.from_RoadwayNetwork(\n",
    "    roadway_network_object = roadway_net, \n",
    "    parameters = parameters)"
   ]
  },
  {
   "cell_type": "code",
   "execution_count": 14,
   "metadata": {},
   "outputs": [
    {
     "name": "stdout",
     "output_type": "stream",
     "text": [
      "(1634769, 26)\n",
      "(869970, 7)\n",
      "(644475, 11)\n"
     ]
    }
   ],
   "source": [
    "print(base_roadway_net.links_df.shape)\n",
    "print(base_roadway_net.shapes_df.shape)\n",
    "print(base_roadway_net.nodes_df.shape)"
   ]
  },
  {
   "cell_type": "code",
   "execution_count": 15,
   "metadata": {},
   "outputs": [
    {
     "data": {
      "text/plain": [
       "Index(['access', 'bike_access', 'drive_access', 'fromIntersectionId', 'lanes',\n",
       "       'maxspeed', 'name', 'oneWay', 'ref', 'roadway', 'shstGeometryId',\n",
       "       'shstReferenceId', 'toIntersectionId', 'u', 'v', 'walk_access', 'wayId',\n",
       "       'county', 'model_link_id', 'A', 'B', 'rail_traveltime', 'rail_only',\n",
       "       'locationReferences', 'shape_id', 'geometry'],\n",
       "      dtype='object')"
      ]
     },
     "execution_count": 15,
     "metadata": {},
     "output_type": "execute_result"
    }
   ],
   "source": [
    "base_roadway_net.links_df.columns"
   ]
  },
  {
   "cell_type": "code",
   "execution_count": 16,
   "metadata": {},
   "outputs": [
    {
     "data": {
      "text/html": [
       "<div>\n",
       "<style scoped>\n",
       "    .dataframe tbody tr th:only-of-type {\n",
       "        vertical-align: middle;\n",
       "    }\n",
       "\n",
       "    .dataframe tbody tr th {\n",
       "        vertical-align: top;\n",
       "    }\n",
       "\n",
       "    .dataframe thead th {\n",
       "        text-align: right;\n",
       "    }\n",
       "</style>\n",
       "<table border=\"1\" class=\"dataframe\">\n",
       "  <thead>\n",
       "    <tr style=\"text-align: right;\">\n",
       "      <th></th>\n",
       "      <th>osm_node_id</th>\n",
       "      <th>shst_node_id</th>\n",
       "      <th>county</th>\n",
       "      <th>drive_access</th>\n",
       "      <th>walk_access</th>\n",
       "      <th>bike_access</th>\n",
       "      <th>model_node_id</th>\n",
       "      <th>rail_only</th>\n",
       "      <th>X</th>\n",
       "      <th>Y</th>\n",
       "      <th>geometry</th>\n",
       "    </tr>\n",
       "    <tr>\n",
       "      <th>model_node_id_idx</th>\n",
       "      <th></th>\n",
       "      <th></th>\n",
       "      <th></th>\n",
       "      <th></th>\n",
       "      <th></th>\n",
       "      <th></th>\n",
       "      <th></th>\n",
       "      <th></th>\n",
       "      <th></th>\n",
       "      <th></th>\n",
       "      <th></th>\n",
       "    </tr>\n",
       "  </thead>\n",
       "  <tbody>\n",
       "    <tr>\n",
       "      <th>3000000</th>\n",
       "      <td>2.401245e+09</td>\n",
       "      <td>505d64eb98f1da8d812a3b3801034308</td>\n",
       "      <td>Contra Costa</td>\n",
       "      <td>1</td>\n",
       "      <td>1</td>\n",
       "      <td>1</td>\n",
       "      <td>3000000</td>\n",
       "      <td>0</td>\n",
       "      <td>-122.331554</td>\n",
       "      <td>37.981204</td>\n",
       "      <td>POINT (-122.33155 37.98120)</td>\n",
       "    </tr>\n",
       "    <tr>\n",
       "      <th>3000001</th>\n",
       "      <td>5.783907e+07</td>\n",
       "      <td>473979c78435732f01ca5a168afb62e0</td>\n",
       "      <td>Contra Costa</td>\n",
       "      <td>1</td>\n",
       "      <td>1</td>\n",
       "      <td>1</td>\n",
       "      <td>3000001</td>\n",
       "      <td>0</td>\n",
       "      <td>-121.944770</td>\n",
       "      <td>37.953322</td>\n",
       "      <td>POINT (-121.94477 37.95332)</td>\n",
       "    </tr>\n",
       "    <tr>\n",
       "      <th>5000000</th>\n",
       "      <td>1.024389e+09</td>\n",
       "      <td>fc7b575d5d8c961d4a70fca846ae7f80</td>\n",
       "      <td>Marin</td>\n",
       "      <td>1</td>\n",
       "      <td>1</td>\n",
       "      <td>1</td>\n",
       "      <td>5000000</td>\n",
       "      <td>0</td>\n",
       "      <td>-122.539828</td>\n",
       "      <td>37.897999</td>\n",
       "      <td>POINT (-122.53983 37.89800)</td>\n",
       "    </tr>\n",
       "  </tbody>\n",
       "</table>\n",
       "</div>"
      ],
      "text/plain": [
       "                    osm_node_id                      shst_node_id  \\\n",
       "model_node_id_idx                                                   \n",
       "3000000            2.401245e+09  505d64eb98f1da8d812a3b3801034308   \n",
       "3000001            5.783907e+07  473979c78435732f01ca5a168afb62e0   \n",
       "5000000            1.024389e+09  fc7b575d5d8c961d4a70fca846ae7f80   \n",
       "\n",
       "                         county  drive_access  walk_access  bike_access  \\\n",
       "model_node_id_idx                                                         \n",
       "3000000            Contra Costa             1            1            1   \n",
       "3000001            Contra Costa             1            1            1   \n",
       "5000000                   Marin             1            1            1   \n",
       "\n",
       "                   model_node_id  rail_only           X          Y  \\\n",
       "model_node_id_idx                                                    \n",
       "3000000                  3000000          0 -122.331554  37.981204   \n",
       "3000001                  3000001          0 -121.944770  37.953322   \n",
       "5000000                  5000000          0 -122.539828  37.897999   \n",
       "\n",
       "                                      geometry  \n",
       "model_node_id_idx                               \n",
       "3000000            POINT (-122.33155 37.98120)  \n",
       "3000001            POINT (-121.94477 37.95332)  \n",
       "5000000            POINT (-122.53983 37.89800)  "
      ]
     },
     "execution_count": 16,
     "metadata": {},
     "output_type": "execute_result"
    }
   ],
   "source": [
    "roadway_net.nodes_df.head(3)"
   ]
  },
  {
   "cell_type": "markdown",
   "metadata": {},
   "source": [
    "## Add centroid and centroid connector database"
   ]
  },
  {
   "cell_type": "code",
   "execution_count": 17,
   "metadata": {},
   "outputs": [
    {
     "name": "stdout",
     "output_type": "stream",
     "text": [
      "2020-10-21 13:54:28, INFO: Adding centroid and centroid connector to standard network\n",
      "2020-10-21 13:54:28, INFO: Adding centroid and centroid connector to standard network\n",
      "2020-10-21 13:54:42, INFO: Finished adding centroid and centroid connectors\n",
      "2020-10-21 13:54:42, INFO: Finished adding centroid and centroid connectors\n"
     ]
    }
   ],
   "source": [
    "base_roadway_net = MTC.add_centroid_and_centroid_connector(\n",
    "    roadway_network_object = base_roadway_net\n",
    ")"
   ]
  },
  {
   "cell_type": "code",
   "execution_count": 18,
   "metadata": {},
   "outputs": [
    {
     "data": {
      "text/plain": [
       "lasso.parameters.Parameters"
      ]
     },
     "execution_count": 18,
     "metadata": {},
     "output_type": "execute_result"
    }
   ],
   "source": [
    "type(base_roadway_net.parameters)"
   ]
  },
  {
   "cell_type": "code",
   "execution_count": 19,
   "metadata": {},
   "outputs": [
    {
     "name": "stdout",
     "output_type": "stream",
     "text": [
      "(2221035, 26)\n",
      "(1163103, 7)\n",
      "(688952, 11)\n"
     ]
    }
   ],
   "source": [
    "print(base_roadway_net.links_df.shape)\n",
    "print(base_roadway_net.shapes_df.shape)\n",
    "print(base_roadway_net.nodes_df.shape)"
   ]
  },
  {
   "cell_type": "code",
   "execution_count": 20,
   "metadata": {},
   "outputs": [
    {
     "data": {
      "text/plain": [
       "Index(['access', 'bike_access', 'drive_access', 'fromIntersectionId', 'lanes',\n",
       "       'maxspeed', 'name', 'oneWay', 'ref', 'roadway', 'shstGeometryId',\n",
       "       'shstReferenceId', 'toIntersectionId', 'u', 'v', 'walk_access', 'wayId',\n",
       "       'county', 'model_link_id', 'A', 'B', 'rail_traveltime', 'rail_only',\n",
       "       'locationReferences', 'shape_id', 'geometry'],\n",
       "      dtype='object')"
      ]
     },
     "execution_count": 20,
     "metadata": {},
     "output_type": "execute_result"
    }
   ],
   "source": [
    "base_roadway_net.links_df.columns"
   ]
  },
  {
   "cell_type": "code",
   "execution_count": 21,
   "metadata": {},
   "outputs": [
    {
     "data": {
      "text/plain": [
       "Index(['osm_node_id', 'shst_node_id', 'county', 'drive_access', 'walk_access',\n",
       "       'bike_access', 'model_node_id', 'rail_only', 'X', 'Y', 'geometry'],\n",
       "      dtype='object')"
      ]
     },
     "execution_count": 21,
     "metadata": {},
     "output_type": "execute_result"
    }
   ],
   "source": [
    "base_roadway_net.nodes_df.columns"
   ]
  },
  {
   "cell_type": "markdown",
   "metadata": {},
   "source": [
    "## Calculate number of lanes"
   ]
  },
  {
   "cell_type": "code",
   "execution_count": 22,
   "metadata": {
    "scrolled": false
   },
   "outputs": [
    {
     "name": "stdout",
     "output_type": "stream",
     "text": [
      "2020-10-21 13:54:43, INFO: Determining number of lanes\n",
      "2020-10-21 13:54:43, INFO: Determining number of lanes\n",
      "2020-10-21 14:01:15, INFO: Finished determining number of lanes using variable: lanes\n",
      "2020-10-21 14:01:15, INFO: Finished determining number of lanes using variable: lanes\n"
     ]
    },
    {
     "data": {
      "text/plain": [
       "1    2072663\n",
       "2     104207\n",
       "3      22455\n",
       "4      14124\n",
       "5       6504\n",
       "6        929\n",
       "7        134\n",
       "8         18\n",
       "9          1\n",
       "Name: lanes, dtype: int64"
      ]
     },
     "execution_count": 22,
     "metadata": {},
     "output_type": "execute_result"
    }
   ],
   "source": [
    "base_roadway_net = MTC.determine_number_of_lanes(\n",
    "    roadway_network_object = base_roadway_net,\n",
    "    network_variable = 'lanes'\n",
    ")\n",
    "\n",
    "base_roadway_net.links_df.lanes.value_counts()"
   ]
  },
  {
   "cell_type": "code",
   "execution_count": 23,
   "metadata": {},
   "outputs": [
    {
     "data": {
      "text/html": [
       "<div>\n",
       "<style scoped>\n",
       "    .dataframe tbody tr th:only-of-type {\n",
       "        vertical-align: middle;\n",
       "    }\n",
       "\n",
       "    .dataframe tbody tr th {\n",
       "        vertical-align: top;\n",
       "    }\n",
       "\n",
       "    .dataframe thead th {\n",
       "        text-align: right;\n",
       "    }\n",
       "</style>\n",
       "<table border=\"1\" class=\"dataframe\">\n",
       "  <thead>\n",
       "    <tr style=\"text-align: right;\">\n",
       "      <th>lanes</th>\n",
       "      <th>1</th>\n",
       "      <th>2</th>\n",
       "      <th>3</th>\n",
       "      <th>4</th>\n",
       "      <th>5</th>\n",
       "      <th>6</th>\n",
       "      <th>7</th>\n",
       "      <th>8</th>\n",
       "      <th>9</th>\n",
       "    </tr>\n",
       "    <tr>\n",
       "      <th>roadway</th>\n",
       "      <th></th>\n",
       "      <th></th>\n",
       "      <th></th>\n",
       "      <th></th>\n",
       "      <th></th>\n",
       "      <th></th>\n",
       "      <th></th>\n",
       "      <th></th>\n",
       "      <th></th>\n",
       "    </tr>\n",
       "  </thead>\n",
       "  <tbody>\n",
       "    <tr>\n",
       "      <th>cycleway</th>\n",
       "      <td>99067</td>\n",
       "      <td>36</td>\n",
       "      <td>4</td>\n",
       "      <td>0</td>\n",
       "      <td>0</td>\n",
       "      <td>0</td>\n",
       "      <td>0</td>\n",
       "      <td>0</td>\n",
       "      <td>0</td>\n",
       "    </tr>\n",
       "    <tr>\n",
       "      <th>footway</th>\n",
       "      <td>247365</td>\n",
       "      <td>87</td>\n",
       "      <td>27</td>\n",
       "      <td>8</td>\n",
       "      <td>2</td>\n",
       "      <td>0</td>\n",
       "      <td>0</td>\n",
       "      <td>0</td>\n",
       "      <td>0</td>\n",
       "    </tr>\n",
       "    <tr>\n",
       "      <th>maz</th>\n",
       "      <td>531308</td>\n",
       "      <td>0</td>\n",
       "      <td>0</td>\n",
       "      <td>0</td>\n",
       "      <td>0</td>\n",
       "      <td>0</td>\n",
       "      <td>0</td>\n",
       "      <td>0</td>\n",
       "      <td>0</td>\n",
       "    </tr>\n",
       "    <tr>\n",
       "      <th>motorway</th>\n",
       "      <td>115</td>\n",
       "      <td>576</td>\n",
       "      <td>640</td>\n",
       "      <td>1026</td>\n",
       "      <td>314</td>\n",
       "      <td>96</td>\n",
       "      <td>6</td>\n",
       "      <td>1</td>\n",
       "      <td>0</td>\n",
       "    </tr>\n",
       "    <tr>\n",
       "      <th>motorway_link</th>\n",
       "      <td>3561</td>\n",
       "      <td>1184</td>\n",
       "      <td>187</td>\n",
       "      <td>44</td>\n",
       "      <td>7</td>\n",
       "      <td>0</td>\n",
       "      <td>0</td>\n",
       "      <td>0</td>\n",
       "      <td>0</td>\n",
       "    </tr>\n",
       "    <tr>\n",
       "      <th>primary</th>\n",
       "      <td>2555</td>\n",
       "      <td>11633</td>\n",
       "      <td>7466</td>\n",
       "      <td>3151</td>\n",
       "      <td>1367</td>\n",
       "      <td>235</td>\n",
       "      <td>71</td>\n",
       "      <td>14</td>\n",
       "      <td>0</td>\n",
       "    </tr>\n",
       "    <tr>\n",
       "      <th>primary_link</th>\n",
       "      <td>1356</td>\n",
       "      <td>110</td>\n",
       "      <td>35</td>\n",
       "      <td>3</td>\n",
       "      <td>2</td>\n",
       "      <td>0</td>\n",
       "      <td>0</td>\n",
       "      <td>0</td>\n",
       "      <td>0</td>\n",
       "    </tr>\n",
       "    <tr>\n",
       "      <th>residential</th>\n",
       "      <td>503743</td>\n",
       "      <td>33033</td>\n",
       "      <td>1424</td>\n",
       "      <td>369</td>\n",
       "      <td>90</td>\n",
       "      <td>7</td>\n",
       "      <td>0</td>\n",
       "      <td>0</td>\n",
       "      <td>0</td>\n",
       "    </tr>\n",
       "    <tr>\n",
       "      <th>secondary</th>\n",
       "      <td>25600</td>\n",
       "      <td>25120</td>\n",
       "      <td>7300</td>\n",
       "      <td>6494</td>\n",
       "      <td>3534</td>\n",
       "      <td>435</td>\n",
       "      <td>44</td>\n",
       "      <td>2</td>\n",
       "      <td>0</td>\n",
       "    </tr>\n",
       "    <tr>\n",
       "      <th>secondary_link</th>\n",
       "      <td>1357</td>\n",
       "      <td>188</td>\n",
       "      <td>18</td>\n",
       "      <td>2</td>\n",
       "      <td>1</td>\n",
       "      <td>0</td>\n",
       "      <td>0</td>\n",
       "      <td>0</td>\n",
       "      <td>0</td>\n",
       "    </tr>\n",
       "    <tr>\n",
       "      <th>service</th>\n",
       "      <td>532611</td>\n",
       "      <td>8047</td>\n",
       "      <td>534</td>\n",
       "      <td>261</td>\n",
       "      <td>31</td>\n",
       "      <td>3</td>\n",
       "      <td>1</td>\n",
       "      <td>1</td>\n",
       "      <td>1</td>\n",
       "    </tr>\n",
       "    <tr>\n",
       "      <th>taz</th>\n",
       "      <td>54958</td>\n",
       "      <td>0</td>\n",
       "      <td>0</td>\n",
       "      <td>0</td>\n",
       "      <td>0</td>\n",
       "      <td>0</td>\n",
       "      <td>0</td>\n",
       "      <td>0</td>\n",
       "      <td>0</td>\n",
       "    </tr>\n",
       "    <tr>\n",
       "      <th>tertiary</th>\n",
       "      <td>65019</td>\n",
       "      <td>22022</td>\n",
       "      <td>3807</td>\n",
       "      <td>2100</td>\n",
       "      <td>950</td>\n",
       "      <td>47</td>\n",
       "      <td>2</td>\n",
       "      <td>0</td>\n",
       "      <td>0</td>\n",
       "    </tr>\n",
       "    <tr>\n",
       "      <th>tertiary_link</th>\n",
       "      <td>566</td>\n",
       "      <td>42</td>\n",
       "      <td>1</td>\n",
       "      <td>2</td>\n",
       "      <td>0</td>\n",
       "      <td>0</td>\n",
       "      <td>0</td>\n",
       "      <td>0</td>\n",
       "      <td>0</td>\n",
       "    </tr>\n",
       "    <tr>\n",
       "      <th>trunk</th>\n",
       "      <td>217</td>\n",
       "      <td>1989</td>\n",
       "      <td>984</td>\n",
       "      <td>652</td>\n",
       "      <td>204</td>\n",
       "      <td>104</td>\n",
       "      <td>10</td>\n",
       "      <td>0</td>\n",
       "      <td>0</td>\n",
       "    </tr>\n",
       "    <tr>\n",
       "      <th>trunk_link</th>\n",
       "      <td>1198</td>\n",
       "      <td>140</td>\n",
       "      <td>28</td>\n",
       "      <td>12</td>\n",
       "      <td>2</td>\n",
       "      <td>2</td>\n",
       "      <td>0</td>\n",
       "      <td>0</td>\n",
       "      <td>0</td>\n",
       "    </tr>\n",
       "  </tbody>\n",
       "</table>\n",
       "</div>"
      ],
      "text/plain": [
       "lanes                1      2     3     4     5    6   7   8  9\n",
       "roadway                                                        \n",
       "cycleway         99067     36     4     0     0    0   0   0  0\n",
       "footway         247365     87    27     8     2    0   0   0  0\n",
       "maz             531308      0     0     0     0    0   0   0  0\n",
       "motorway           115    576   640  1026   314   96   6   1  0\n",
       "motorway_link     3561   1184   187    44     7    0   0   0  0\n",
       "primary           2555  11633  7466  3151  1367  235  71  14  0\n",
       "primary_link      1356    110    35     3     2    0   0   0  0\n",
       "residential     503743  33033  1424   369    90    7   0   0  0\n",
       "secondary        25600  25120  7300  6494  3534  435  44   2  0\n",
       "secondary_link    1357    188    18     2     1    0   0   0  0\n",
       "service         532611   8047   534   261    31    3   1   1  1\n",
       "taz              54958      0     0     0     0    0   0   0  0\n",
       "tertiary         65019  22022  3807  2100   950   47   2   0  0\n",
       "tertiary_link      566     42     1     2     0    0   0   0  0\n",
       "trunk              217   1989   984   652   204  104  10   0  0\n",
       "trunk_link        1198    140    28    12     2    2   0   0  0"
      ]
     },
     "execution_count": 23,
     "metadata": {},
     "output_type": "execute_result"
    }
   ],
   "source": [
    "pd.crosstab(base_roadway_net.links_df.roadway, base_roadway_net.links_df.lanes)"
   ]
  },
  {
   "cell_type": "markdown",
   "metadata": {},
   "source": [
    "# Write Out"
   ]
  },
  {
   "cell_type": "markdown",
   "metadata": {},
   "source": [
    "## As pickle"
   ]
  },
  {
   "cell_type": "code",
   "execution_count": 24,
   "metadata": {},
   "outputs": [],
   "source": [
    "roadway_filename = os.path.join(output_dir, 'base_roadway_network.pickle')\n",
    "pickle.dump(base_roadway_net, open(roadway_filename, 'wb'))"
   ]
  },
  {
   "cell_type": "code",
   "execution_count": null,
   "metadata": {},
   "outputs": [],
   "source": []
  }
 ],
 "metadata": {
  "kernelspec": {
   "display_name": "Python 3",
   "language": "python",
   "name": "python3"
  },
  "language_info": {
   "codemirror_mode": {
    "name": "ipython",
    "version": 3
   },
   "file_extension": ".py",
   "mimetype": "text/x-python",
   "name": "python",
   "nbconvert_exporter": "python",
   "pygments_lexer": "ipython3",
   "version": "3.7.9"
  }
 },
 "nbformat": 4,
 "nbformat_minor": 4
}
