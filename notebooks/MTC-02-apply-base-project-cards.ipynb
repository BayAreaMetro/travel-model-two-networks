{
 "cells": [
  {
   "cell_type": "markdown",
   "metadata": {},
   "source": [
    "# 02 Apply Base Scenario Project Cards\n",
    "Step 2 applies project cards, create MTC network, and writes out to shapefiles, CUBE, pickle"
   ]
  },
  {
   "cell_type": "code",
   "execution_count": 1,
   "metadata": {},
   "outputs": [],
   "source": [
    "import os\n",
    "import sys\n",
    "import yaml\n",
    "\n",
    "import pandas as pd\n",
    "\n",
    "from network_wrangler import RoadwayNetwork\n",
    "from network_wrangler import TransitNetwork\n",
    "from network_wrangler import ProjectCard\n",
    "from network_wrangler import Scenario\n",
    "from network_wrangler import WranglerLogger\n",
    "\n",
    "from lasso import ModelRoadwayNetwork\n",
    "from lasso import StandardTransit\n",
    "from lasso import Parameters\n",
    "from lasso import MTC\n",
    "\n",
    "import pickle"
   ]
  },
  {
   "cell_type": "code",
   "execution_count": 2,
   "metadata": {},
   "outputs": [],
   "source": [
    "%load_ext autoreload\n",
    "%autoreload 2"
   ]
  },
  {
   "cell_type": "code",
   "execution_count": 3,
   "metadata": {},
   "outputs": [],
   "source": [
    "import logging\n",
    "logger = logging.getLogger(\"WranglerLogger\")\n",
    "logger.handlers[0].stream = sys.stdout\n",
    "logger.setLevel(logging.INFO)"
   ]
  },
  {
   "cell_type": "markdown",
   "metadata": {},
   "source": [
    "# Remote I/O and Parameters"
   ]
  },
  {
   "cell_type": "code",
   "execution_count": 4,
   "metadata": {},
   "outputs": [],
   "source": [
    "pickle_dir = \"C:/Users/USGS667806/Documents/GitHub/travel-model-two-networks/data/processed/version_01\"\n",
    "output_dir = \"C:/Users/USGS667806/Documents/GitHub/travel-model-two-networks/data/processed/version_01\"\n",
    "card_dir = \"C:/Users/USGS667806/Documents/GitHub/travel-model-two-networks/project_cards/\"\n",
    "lasso_dir = \"C:/Users/USGS667806/Lasso\""
   ]
  },
  {
   "cell_type": "code",
   "execution_count": 5,
   "metadata": {},
   "outputs": [
    {
     "name": "stdout",
     "output_type": "stream",
     "text": [
      "2020-10-22 22:26:44, INFO: Lasso base directory set as: C:/Users/USGS667806/Lasso\n",
      "2020-10-22 22:26:44, INFO: Lasso base directory set as: C:/Users/USGS667806/Lasso\n"
     ]
    }
   ],
   "source": [
    "parameters = Parameters(lasso_base_dir = lasso_dir)"
   ]
  },
  {
   "cell_type": "code",
   "execution_count": 6,
   "metadata": {},
   "outputs": [
    {
     "data": {
      "text/plain": [
       "['model_link_id',\n",
       " 'link_id',\n",
       " 'A',\n",
       " 'B',\n",
       " 'shstGeometryId',\n",
       " 'bike_access',\n",
       " 'walk_access',\n",
       " 'drive_access',\n",
       " 'truck_access',\n",
       " 'lanes_EA',\n",
       " 'lanes_AM',\n",
       " 'lanes_MD',\n",
       " 'lanes_PM',\n",
       " 'lanes_EV',\n",
       " 'county',\n",
       " 'model_node_id',\n",
       " 'N',\n",
       " 'osm_node_id',\n",
       " 'geometry',\n",
       " 'X',\n",
       " 'Y',\n",
       " 'ML_lanes_EA',\n",
       " 'ML_lanes_AM',\n",
       " 'ML_lanes_MD',\n",
       " 'ML_lanes_PM',\n",
       " 'ML_lanes_EV',\n",
       " 'segment_id',\n",
       " 'managed',\n",
       " 'bus_only',\n",
       " 'rail_only',\n",
       " 'assignable',\n",
       " 'cntype',\n",
       " 'useclass_AM',\n",
       " 'useclass_MD',\n",
       " 'useclass_PM',\n",
       " 'useclass_EV',\n",
       " 'useclass_EA',\n",
       " 'transit',\n",
       " 'tollbooth',\n",
       " 'tollseg',\n",
       " 'ft',\n",
       " 'tap_drive',\n",
       " 'tollbooth',\n",
       " 'tollseg']"
      ]
     },
     "execution_count": 6,
     "metadata": {},
     "output_type": "execute_result"
    }
   ],
   "source": [
    "parameters.output_variables"
   ]
  },
  {
   "cell_type": "markdown",
   "metadata": {},
   "source": [
    "# Read Version 01 Network"
   ]
  },
  {
   "cell_type": "code",
   "execution_count": 7,
   "metadata": {},
   "outputs": [],
   "source": [
    "version_00_pickle_file_name = os.path.join(pickle_dir, 'base_roadway_network.pickle')\n",
    "v_01_roadway_net = pickle.load(open(version_00_pickle_file_name, 'rb'))"
   ]
  },
  {
   "cell_type": "code",
   "execution_count": 8,
   "metadata": {},
   "outputs": [
    {
     "data": {
      "text/plain": [
       "(2221035, 26)"
      ]
     },
     "execution_count": 8,
     "metadata": {},
     "output_type": "execute_result"
    }
   ],
   "source": [
    "v_01_roadway_net.links_df.shape"
   ]
  },
  {
   "cell_type": "code",
   "execution_count": 9,
   "metadata": {},
   "outputs": [
    {
     "data": {
      "text/plain": [
       "(1163103, 7)"
      ]
     },
     "execution_count": 9,
     "metadata": {},
     "output_type": "execute_result"
    }
   ],
   "source": [
    "v_01_roadway_net.shapes_df.shape"
   ]
  },
  {
   "cell_type": "markdown",
   "metadata": {},
   "source": [
    "# Create Base Scenario"
   ]
  },
  {
   "cell_type": "code",
   "execution_count": 10,
   "metadata": {},
   "outputs": [],
   "source": [
    "base_scenario = {\"road_net\": v_01_roadway_net}"
   ]
  },
  {
   "cell_type": "code",
   "execution_count": 11,
   "metadata": {},
   "outputs": [
    {
     "name": "stdout",
     "output_type": "stream",
     "text": [
      "2020-10-22 22:27:28, INFO: Creating Scenario\n",
      "2020-10-22 22:27:28, INFO: Creating Scenario\n"
     ]
    }
   ],
   "source": [
    "v01_scenario = Scenario.create_scenario(base_scenario = base_scenario,\n",
    "                                        card_directory = card_dir,\n",
    "                                        validate_project_cards = False,\n",
    "                                        tags = ['Express Lanes', 'HOV Lanes', 'Bridge Pass', 'Exclude Trucks', 'Bus Only'],\n",
    "                                       )"
   ]
  },
  {
   "cell_type": "markdown",
   "metadata": {},
   "source": [
    "# Apply Project Cards"
   ]
  },
  {
   "cell_type": "code",
   "execution_count": 12,
   "metadata": {},
   "outputs": [
    {
     "data": {
      "text/plain": [
       "['Year 2015 Modify HOV Lanes-Fastrak Lanes and USE on Antioch Bridge NB on Route 160 - Bridge Pass',\n",
       " 'Year 2015 Modify HOV Lanes and USE on Dumbarton Bridge Toll Plaza Toll Plaza on CA-84 WB - Bridge Pass',\n",
       " 'Year 2015 Modify HOV Lanes and USE on Carquinez Bridge Toll Plaza on I-80 NB - Bridge Pass',\n",
       " 'Year 2015 Modify HOV Lanes and USE on Golden Gate Bridge Toll Plaza on US101 SB - Bridge Pass',\n",
       " 'Year 2015 Modify HOV Lanes-Fastrak Lanes and USE on San Francisco-Oakland Bay Bridge WB Toll Plaza - Bridge Pass',\n",
       " 'Year 2015 Modify HOV Lanes and USE on Benicia Bridge Toll Plaza - Bridge Pass',\n",
       " 'Year 2015 Modify Express Lanes and USE on CA-237 EB SR-262 Mission Blvd to I-880',\n",
       " 'Year 2015 Modify HOV Lanes and USE on CA-237 EB US 101 to North 1st Street',\n",
       " 'Year 2015 Modify Express Lanes and USE on CA-237 WB I-880 to CA-262 Mission Blvd',\n",
       " 'Year 2015 Modify HOV Lanes and USE on CA-237 WB North 1st Street to US 101',\n",
       " 'Year 2015 Modify HOV Lanes and USE on CA-280 NB Bascom Ave to Magdalena Ave',\n",
       " 'Year 2015 Modify HOV Lanes and USE on CA-280 SB Magdalena Ave to Southwest Expressway',\n",
       " 'Year 2015 Modify HOV Lanes and USE on CA-84 WB I-880 to Dumbarton Bridge Toll Plaza',\n",
       " 'Year 2015 Modify HOV Lanes and USE on CA-85 NB US101 to US101',\n",
       " 'Year 2015 Modify HOV Lanes and USE on CA-85 SB US101 to US101',\n",
       " 'Year 2015 Modify HOV Lanes and USE on CA 87 NB CA-85 to US 101',\n",
       " 'Year 2015 Modify HOV Lanes and USE on CA-87 SB US 101 to CA-85',\n",
       " 'Year 2015 Modify HOV Lanes and USE on CA-92 WB Eden Landing Rd to San Mateo-Hayward Bridge Toll Plaza',\n",
       " 'Year 2015 Modify HOV Lanes and USE on E Capitol Expressway NB US101 to I-680',\n",
       " 'Year 2015 Modify HOV Lanes and USE on E Capitol Expressway SB I-680 to US 101',\n",
       " 'Year 2015 Modify HOV Lanes and USE on Hwy 4 EB from Port Chicago Highway to Deer Valley Road',\n",
       " 'Year 2015 Modify HOV lanes and USE on Hwy 4 WB from Deer Valley Road to Port Chicago Highway',\n",
       " 'Year 2015 Modify Express Lanes and USE on I-580 EB Hacienda Drive to Greenville Road',\n",
       " 'Year 2015 Modify Express Lanes and USE on I-580 EB (segment 02) Hacienda Drive to Greenville Road',\n",
       " 'Year 2015 Modify USE on I-580 WB Greenville Road to I-680',\n",
       " 'Year 2015 Modify HOV Lanes and USE on I-680 NB from Acosta Blvd to Rudgear Road',\n",
       " 'Year 2015 Modify HOV Lanes USE on I-680 NB CA-242 to Benicia Bridge',\n",
       " 'Year 2015 Modify Express Lanes and USE on I-680 SB Alameda/Santa Clara County Line to SR-84',\n",
       " 'Year 2015 Modify HOV Lanes and USE on I-680 SB from Benicia Bridge to CA-242',\n",
       " 'Year 2015 Modify HOV Lanes and USE on I-680 SB from Rudgear Road to Acosta Blvd',\n",
       " 'Year 2015 Modify HOV Lanes and USE on I-80 EB from Bay Bridge to Carquinez Bridge Toll Plaza',\n",
       " 'Year 2015 Modify HOV Lanes and USE on I-80 EB from I-680 to Fairfield',\n",
       " 'Year 2015 Modify HOV Lanes and USE on I-80 WB from Carquinez Bridge to Bay Bridge Toll Plaza',\n",
       " 'Year 2015 Modify HOV Lanes and USE on I-80 WB from Fairfield to I-680',\n",
       " 'Year 2015 Modify HOV Lanes and USE on I-80 WB I-80 to Bay Bridge Toll Plaza',\n",
       " 'Year 2015 Modify Express Lanes and USE on I-880 NB CA-237 to Dixon Road',\n",
       " 'Year 2015 Modify HOV Lanes and USE on I-880 NB from Dixon Road to I-238',\n",
       " 'Year 2015 Modify HOV lanes and USE on I-880 NB US 101 to CA-237',\n",
       " 'Year 2015 Modify HOV Lanes and USE on I-880 SB CA-237 to US 101',\n",
       " 'Year 2015 Modify Express Lanes and USE on I-880 SB Dixon Road to CA-237',\n",
       " 'Year 2015 Modify HOV Lanes and USE on I-880 SB from Hegenberger Road to Dixon Road',\n",
       " 'Year 2015 Modify HOV Lanes and USE on Lawrence Expressway NB I-280 to US 101',\n",
       " 'Year 2015 Modify HOV Lanes and USE on Lawrence Expressway SB US 101 to I-280',\n",
       " 'Year 2015 Modify HOV Lanes and USE on San Tomas Expressway NB Hwy 17 to I-880',\n",
       " 'Year 2015 Modify HOV Lanes and USE on San Tomas Expressway SB I-880 to Hwy 17',\n",
       " 'Year 2015 Modify HOV Lanes and USE on US 101 NB Cochran Road to CA-85',\n",
       " 'Year 2015 Modify HOV Lanes and USE on US-101 NB from North of Petaluma to South of Healdsburg',\n",
       " 'Year 2015 Modify HOV Lanes and USE on US 101 NB Oregon Expressway to Whipple Road',\n",
       " 'Year 2015 Modify HOV Lanes and USE on US-101 NB (Segment 02) from North of Petaluma to South of Healdsburg',\n",
       " 'Year 2015 Modify HOV Lanes and USE on US 101 SB CA-85 to Cochrane Road',\n",
       " 'Year 2015 Modify HOV Lanes and USE on US 101 SB CA-85 to Oregon Expressway',\n",
       " 'Year 2015 Modify USE and HOV Lanes on US-101 SB (Segment 02) from South of Healdsburg to North of Petaluma',\n",
       " 'Year 2015 Modify HOV Lanes and USE on US-101 SB from South of Healdsburg to North of Petaluma',\n",
       " 'Year 2015 Modify HOV Lanes and USE on Richmond-San Rafael Bridge Toll Plaza - Bridge Pass',\n",
       " 'Year 2015 Modify HOV Lanes and USE on San Mateo Bridge Toll Plaza Toll Plaza on CA-92 WB - Bridge Pass']"
      ]
     },
     "execution_count": 12,
     "metadata": {},
     "output_type": "execute_result"
    }
   ],
   "source": [
    "v01_scenario.get_project_names()"
   ]
  },
  {
   "cell_type": "code",
   "execution_count": 13,
   "metadata": {},
   "outputs": [
    {
     "name": "stdout",
     "output_type": "stream",
     "text": [
      "2020-10-22 22:27:32, INFO: Applying Year 2015 Modify HOV Lanes and USE on San Mateo Bridge Toll Plaza Toll Plaza on CA-92 WB - Bridge Pass\n",
      "2020-10-22 22:27:32, INFO: Applying Year 2015 Modify HOV Lanes and USE on San Mateo Bridge Toll Plaza Toll Plaza on CA-92 WB - Bridge Pass\n",
      "2020-10-22 22:27:32, INFO: Applying Year 2015 Modify HOV Lanes and USE on San Mateo Bridge Toll Plaza Toll Plaza on CA-92 WB - Bridge Pass\n",
      "2020-10-22 22:27:32, INFO: Applying Year 2015 Modify HOV Lanes and USE on San Mateo Bridge Toll Plaza Toll Plaza on CA-92 WB - Bridge Pass\n",
      "2020-10-22 22:27:32, INFO: Applying Project to Roadway Network: Year 2015 Modify HOV Lanes and USE on San Mateo Bridge Toll Plaza Toll Plaza on CA-92 WB - Bridge Pass\n",
      "2020-10-22 22:27:32, INFO: Applying Project to Roadway Network: Year 2015 Modify HOV Lanes and USE on San Mateo Bridge Toll Plaza Toll Plaza on CA-92 WB - Bridge Pass\n"
     ]
    },
    {
     "name": "stderr",
     "output_type": "stream",
     "text": [
      "c:\\users\\usgs667806\\anaconda3\\envs\\mtc_env\\lib\\site-packages\\geopandas\\geodataframe.py:853: SettingWithCopyWarning: \n",
      "A value is trying to be set on a copy of a slice from a DataFrame.\n",
      "Try using .loc[row_indexer,col_indexer] = value instead\n",
      "\n",
      "See the caveats in the documentation: http://pandas.pydata.org/pandas-docs/stable/user_guide/indexing.html#returning-a-view-versus-a-copy\n",
      "  super(GeoDataFrame, self).__setitem__(key, value)\n"
     ]
    },
    {
     "name": "stdout",
     "output_type": "stream",
     "text": [
      "2020-10-22 22:27:33, INFO: Applying Year 2015 Modify HOV Lanes and USE on Richmond-San Rafael Bridge Toll Plaza - Bridge Pass\n",
      "2020-10-22 22:27:33, INFO: Applying Year 2015 Modify HOV Lanes and USE on Richmond-San Rafael Bridge Toll Plaza - Bridge Pass\n",
      "2020-10-22 22:27:33, INFO: Applying Year 2015 Modify HOV Lanes and USE on Richmond-San Rafael Bridge Toll Plaza - Bridge Pass\n",
      "2020-10-22 22:27:33, INFO: Applying Year 2015 Modify HOV Lanes and USE on Richmond-San Rafael Bridge Toll Plaza - Bridge Pass\n",
      "2020-10-22 22:27:33, INFO: Applying Project to Roadway Network: Year 2015 Modify HOV Lanes and USE on Richmond-San Rafael Bridge Toll Plaza - Bridge Pass\n",
      "2020-10-22 22:27:33, INFO: Applying Project to Roadway Network: Year 2015 Modify HOV Lanes and USE on Richmond-San Rafael Bridge Toll Plaza - Bridge Pass\n",
      "2020-10-22 22:27:34, INFO: Applying Year 2015 Modify HOV Lanes and USE on US-101 SB from South of Healdsburg to North of Petaluma\n",
      "2020-10-22 22:27:34, INFO: Applying Year 2015 Modify HOV Lanes and USE on US-101 SB from South of Healdsburg to North of Petaluma\n",
      "2020-10-22 22:27:34, INFO: Applying Year 2015 Modify HOV Lanes and USE on US-101 SB from South of Healdsburg to North of Petaluma\n",
      "2020-10-22 22:27:34, INFO: Applying Year 2015 Modify HOV Lanes and USE on US-101 SB from South of Healdsburg to North of Petaluma\n",
      "2020-10-22 22:27:34, INFO: Applying Project to Roadway Network: Year 2015 Modify HOV Lanes and USE on US-101 SB from South of Healdsburg to North of Petaluma\n",
      "2020-10-22 22:27:34, INFO: Applying Project to Roadway Network: Year 2015 Modify HOV Lanes and USE on US-101 SB from South of Healdsburg to North of Petaluma\n",
      "2020-10-22 22:27:35, INFO: Applying Year 2015 Modify USE and HOV Lanes on US-101 SB (Segment 02) from South of Healdsburg to North of Petaluma\n",
      "2020-10-22 22:27:35, INFO: Applying Year 2015 Modify USE and HOV Lanes on US-101 SB (Segment 02) from South of Healdsburg to North of Petaluma\n",
      "2020-10-22 22:27:35, INFO: Applying Year 2015 Modify USE and HOV Lanes on US-101 SB (Segment 02) from South of Healdsburg to North of Petaluma\n",
      "2020-10-22 22:27:35, INFO: Applying Year 2015 Modify USE and HOV Lanes on US-101 SB (Segment 02) from South of Healdsburg to North of Petaluma\n",
      "2020-10-22 22:27:35, INFO: Applying Project to Roadway Network: Year 2015 Modify USE and HOV Lanes on US-101 SB (Segment 02) from South of Healdsburg to North of Petaluma\n",
      "2020-10-22 22:27:35, INFO: Applying Project to Roadway Network: Year 2015 Modify USE and HOV Lanes on US-101 SB (Segment 02) from South of Healdsburg to North of Petaluma\n",
      "2020-10-22 22:27:36, INFO: Applying Year 2015 Modify HOV Lanes and USE on US 101 SB CA-85 to Oregon Expressway\n",
      "2020-10-22 22:27:36, INFO: Applying Year 2015 Modify HOV Lanes and USE on US 101 SB CA-85 to Oregon Expressway\n",
      "2020-10-22 22:27:36, INFO: Applying Year 2015 Modify HOV Lanes and USE on US 101 SB CA-85 to Oregon Expressway\n",
      "2020-10-22 22:27:36, INFO: Applying Year 2015 Modify HOV Lanes and USE on US 101 SB CA-85 to Oregon Expressway\n",
      "2020-10-22 22:27:36, INFO: Applying Project to Roadway Network: Year 2015 Modify HOV Lanes and USE on US 101 SB CA-85 to Oregon Expressway\n",
      "2020-10-22 22:27:36, INFO: Applying Project to Roadway Network: Year 2015 Modify HOV Lanes and USE on US 101 SB CA-85 to Oregon Expressway\n",
      "2020-10-22 22:27:36, INFO: Applying Year 2015 Modify HOV Lanes and USE on US 101 SB CA-85 to Cochrane Road\n",
      "2020-10-22 22:27:36, INFO: Applying Year 2015 Modify HOV Lanes and USE on US 101 SB CA-85 to Cochrane Road\n",
      "2020-10-22 22:27:36, INFO: Applying Year 2015 Modify HOV Lanes and USE on US 101 SB CA-85 to Cochrane Road\n",
      "2020-10-22 22:27:36, INFO: Applying Year 2015 Modify HOV Lanes and USE on US 101 SB CA-85 to Cochrane Road\n",
      "2020-10-22 22:27:36, INFO: Applying Project to Roadway Network: Year 2015 Modify HOV Lanes and USE on US 101 SB CA-85 to Cochrane Road\n",
      "2020-10-22 22:27:36, INFO: Applying Project to Roadway Network: Year 2015 Modify HOV Lanes and USE on US 101 SB CA-85 to Cochrane Road\n",
      "2020-10-22 22:27:37, INFO: Applying Year 2015 Modify HOV Lanes and USE on US-101 NB (Segment 02) from North of Petaluma to South of Healdsburg\n",
      "2020-10-22 22:27:37, INFO: Applying Year 2015 Modify HOV Lanes and USE on US-101 NB (Segment 02) from North of Petaluma to South of Healdsburg\n",
      "2020-10-22 22:27:37, INFO: Applying Year 2015 Modify HOV Lanes and USE on US-101 NB (Segment 02) from North of Petaluma to South of Healdsburg\n",
      "2020-10-22 22:27:37, INFO: Applying Year 2015 Modify HOV Lanes and USE on US-101 NB (Segment 02) from North of Petaluma to South of Healdsburg\n",
      "2020-10-22 22:27:37, INFO: Applying Project to Roadway Network: Year 2015 Modify HOV Lanes and USE on US-101 NB (Segment 02) from North of Petaluma to South of Healdsburg\n",
      "2020-10-22 22:27:37, INFO: Applying Project to Roadway Network: Year 2015 Modify HOV Lanes and USE on US-101 NB (Segment 02) from North of Petaluma to South of Healdsburg\n",
      "2020-10-22 22:27:38, INFO: Applying Year 2015 Modify HOV Lanes and USE on US 101 NB Oregon Expressway to Whipple Road\n",
      "2020-10-22 22:27:38, INFO: Applying Year 2015 Modify HOV Lanes and USE on US 101 NB Oregon Expressway to Whipple Road\n",
      "2020-10-22 22:27:38, INFO: Applying Year 2015 Modify HOV Lanes and USE on US 101 NB Oregon Expressway to Whipple Road\n",
      "2020-10-22 22:27:38, INFO: Applying Year 2015 Modify HOV Lanes and USE on US 101 NB Oregon Expressway to Whipple Road\n",
      "2020-10-22 22:27:38, INFO: Applying Project to Roadway Network: Year 2015 Modify HOV Lanes and USE on US 101 NB Oregon Expressway to Whipple Road\n",
      "2020-10-22 22:27:38, INFO: Applying Project to Roadway Network: Year 2015 Modify HOV Lanes and USE on US 101 NB Oregon Expressway to Whipple Road\n",
      "2020-10-22 22:27:39, INFO: Applying Year 2015 Modify HOV Lanes and USE on US-101 NB from North of Petaluma to South of Healdsburg\n",
      "2020-10-22 22:27:39, INFO: Applying Year 2015 Modify HOV Lanes and USE on US-101 NB from North of Petaluma to South of Healdsburg\n",
      "2020-10-22 22:27:39, INFO: Applying Year 2015 Modify HOV Lanes and USE on US-101 NB from North of Petaluma to South of Healdsburg\n",
      "2020-10-22 22:27:39, INFO: Applying Year 2015 Modify HOV Lanes and USE on US-101 NB from North of Petaluma to South of Healdsburg\n",
      "2020-10-22 22:27:39, INFO: Applying Project to Roadway Network: Year 2015 Modify HOV Lanes and USE on US-101 NB from North of Petaluma to South of Healdsburg\n",
      "2020-10-22 22:27:39, INFO: Applying Project to Roadway Network: Year 2015 Modify HOV Lanes and USE on US-101 NB from North of Petaluma to South of Healdsburg\n",
      "2020-10-22 22:27:40, INFO: Applying Year 2015 Modify HOV Lanes and USE on US 101 NB Cochran Road to CA-85\n",
      "2020-10-22 22:27:40, INFO: Applying Year 2015 Modify HOV Lanes and USE on US 101 NB Cochran Road to CA-85\n",
      "2020-10-22 22:27:40, INFO: Applying Year 2015 Modify HOV Lanes and USE on US 101 NB Cochran Road to CA-85\n",
      "2020-10-22 22:27:40, INFO: Applying Year 2015 Modify HOV Lanes and USE on US 101 NB Cochran Road to CA-85\n",
      "2020-10-22 22:27:40, INFO: Applying Project to Roadway Network: Year 2015 Modify HOV Lanes and USE on US 101 NB Cochran Road to CA-85\n",
      "2020-10-22 22:27:40, INFO: Applying Project to Roadway Network: Year 2015 Modify HOV Lanes and USE on US 101 NB Cochran Road to CA-85\n",
      "2020-10-22 22:27:41, INFO: Applying Year 2015 Modify HOV Lanes and USE on San Tomas Expressway SB I-880 to Hwy 17\n",
      "2020-10-22 22:27:41, INFO: Applying Year 2015 Modify HOV Lanes and USE on San Tomas Expressway SB I-880 to Hwy 17\n",
      "2020-10-22 22:27:41, INFO: Applying Year 2015 Modify HOV Lanes and USE on San Tomas Expressway SB I-880 to Hwy 17\n",
      "2020-10-22 22:27:41, INFO: Applying Year 2015 Modify HOV Lanes and USE on San Tomas Expressway SB I-880 to Hwy 17\n",
      "2020-10-22 22:27:41, INFO: Applying Project to Roadway Network: Year 2015 Modify HOV Lanes and USE on San Tomas Expressway SB I-880 to Hwy 17\n",
      "2020-10-22 22:27:41, INFO: Applying Project to Roadway Network: Year 2015 Modify HOV Lanes and USE on San Tomas Expressway SB I-880 to Hwy 17\n",
      "2020-10-22 22:27:43, INFO: Applying Year 2015 Modify HOV Lanes and USE on San Tomas Expressway NB Hwy 17 to I-880\n",
      "2020-10-22 22:27:43, INFO: Applying Year 2015 Modify HOV Lanes and USE on San Tomas Expressway NB Hwy 17 to I-880\n",
      "2020-10-22 22:27:43, INFO: Applying Year 2015 Modify HOV Lanes and USE on San Tomas Expressway NB Hwy 17 to I-880\n"
     ]
    },
    {
     "name": "stdout",
     "output_type": "stream",
     "text": [
      "2020-10-22 22:27:43, INFO: Applying Year 2015 Modify HOV Lanes and USE on San Tomas Expressway NB Hwy 17 to I-880\n",
      "2020-10-22 22:27:43, INFO: Applying Project to Roadway Network: Year 2015 Modify HOV Lanes and USE on San Tomas Expressway NB Hwy 17 to I-880\n",
      "2020-10-22 22:27:43, INFO: Applying Project to Roadway Network: Year 2015 Modify HOV Lanes and USE on San Tomas Expressway NB Hwy 17 to I-880\n",
      "2020-10-22 22:27:45, INFO: Applying Year 2015 Modify HOV Lanes and USE on Lawrence Expressway SB US 101 to I-280\n",
      "2020-10-22 22:27:45, INFO: Applying Year 2015 Modify HOV Lanes and USE on Lawrence Expressway SB US 101 to I-280\n",
      "2020-10-22 22:27:45, INFO: Applying Year 2015 Modify HOV Lanes and USE on Lawrence Expressway SB US 101 to I-280\n",
      "2020-10-22 22:27:45, INFO: Applying Year 2015 Modify HOV Lanes and USE on Lawrence Expressway SB US 101 to I-280\n",
      "2020-10-22 22:27:45, INFO: Applying Project to Roadway Network: Year 2015 Modify HOV Lanes and USE on Lawrence Expressway SB US 101 to I-280\n",
      "2020-10-22 22:27:45, INFO: Applying Project to Roadway Network: Year 2015 Modify HOV Lanes and USE on Lawrence Expressway SB US 101 to I-280\n",
      "2020-10-22 22:27:46, INFO: Applying Year 2015 Modify HOV Lanes and USE on Lawrence Expressway NB I-280 to US 101\n",
      "2020-10-22 22:27:46, INFO: Applying Year 2015 Modify HOV Lanes and USE on Lawrence Expressway NB I-280 to US 101\n",
      "2020-10-22 22:27:46, INFO: Applying Year 2015 Modify HOV Lanes and USE on Lawrence Expressway NB I-280 to US 101\n",
      "2020-10-22 22:27:46, INFO: Applying Year 2015 Modify HOV Lanes and USE on Lawrence Expressway NB I-280 to US 101\n",
      "2020-10-22 22:27:46, INFO: Applying Project to Roadway Network: Year 2015 Modify HOV Lanes and USE on Lawrence Expressway NB I-280 to US 101\n",
      "2020-10-22 22:27:46, INFO: Applying Project to Roadway Network: Year 2015 Modify HOV Lanes and USE on Lawrence Expressway NB I-280 to US 101\n",
      "2020-10-22 22:27:47, INFO: Applying Year 2015 Modify HOV Lanes and USE on I-880 SB from Hegenberger Road to Dixon Road\n",
      "2020-10-22 22:27:47, INFO: Applying Year 2015 Modify HOV Lanes and USE on I-880 SB from Hegenberger Road to Dixon Road\n",
      "2020-10-22 22:27:47, INFO: Applying Year 2015 Modify HOV Lanes and USE on I-880 SB from Hegenberger Road to Dixon Road\n",
      "2020-10-22 22:27:47, INFO: Applying Year 2015 Modify HOV Lanes and USE on I-880 SB from Hegenberger Road to Dixon Road\n",
      "2020-10-22 22:27:47, INFO: Applying Project to Roadway Network: Year 2015 Modify HOV Lanes and USE on I-880 SB from Hegenberger Road to Dixon Road\n",
      "2020-10-22 22:27:47, INFO: Applying Project to Roadway Network: Year 2015 Modify HOV Lanes and USE on I-880 SB from Hegenberger Road to Dixon Road\n",
      "2020-10-22 22:27:48, INFO: Applying Year 2015 Modify Express Lanes and USE on I-880 SB Dixon Road to CA-237\n",
      "2020-10-22 22:27:48, INFO: Applying Year 2015 Modify Express Lanes and USE on I-880 SB Dixon Road to CA-237\n",
      "2020-10-22 22:27:48, INFO: Applying Year 2015 Modify Express Lanes and USE on I-880 SB Dixon Road to CA-237\n",
      "2020-10-22 22:27:48, INFO: Applying Year 2015 Modify Express Lanes and USE on I-880 SB Dixon Road to CA-237\n",
      "2020-10-22 22:27:48, INFO: Applying Project to Roadway Network: Year 2015 Modify Express Lanes and USE on I-880 SB Dixon Road to CA-237\n",
      "2020-10-22 22:27:48, INFO: Applying Project to Roadway Network: Year 2015 Modify Express Lanes and USE on I-880 SB Dixon Road to CA-237\n",
      "2020-10-22 22:27:49, INFO: Applying Year 2015 Modify HOV Lanes and USE on I-880 SB CA-237 to US 101\n",
      "2020-10-22 22:27:49, INFO: Applying Year 2015 Modify HOV Lanes and USE on I-880 SB CA-237 to US 101\n",
      "2020-10-22 22:27:49, INFO: Applying Year 2015 Modify HOV Lanes and USE on I-880 SB CA-237 to US 101\n",
      "2020-10-22 22:27:49, INFO: Applying Year 2015 Modify HOV Lanes and USE on I-880 SB CA-237 to US 101\n",
      "2020-10-22 22:27:49, INFO: Applying Project to Roadway Network: Year 2015 Modify HOV Lanes and USE on I-880 SB CA-237 to US 101\n",
      "2020-10-22 22:27:49, INFO: Applying Project to Roadway Network: Year 2015 Modify HOV Lanes and USE on I-880 SB CA-237 to US 101\n",
      "2020-10-22 22:27:49, INFO: Applying Year 2015 Modify HOV lanes and USE on I-880 NB US 101 to CA-237\n",
      "2020-10-22 22:27:49, INFO: Applying Year 2015 Modify HOV lanes and USE on I-880 NB US 101 to CA-237\n",
      "2020-10-22 22:27:49, INFO: Applying Year 2015 Modify HOV lanes and USE on I-880 NB US 101 to CA-237\n",
      "2020-10-22 22:27:49, INFO: Applying Year 2015 Modify HOV lanes and USE on I-880 NB US 101 to CA-237\n",
      "2020-10-22 22:27:49, INFO: Applying Project to Roadway Network: Year 2015 Modify HOV lanes and USE on I-880 NB US 101 to CA-237\n",
      "2020-10-22 22:27:49, INFO: Applying Project to Roadway Network: Year 2015 Modify HOV lanes and USE on I-880 NB US 101 to CA-237\n",
      "2020-10-22 22:27:49, INFO: Applying Year 2015 Modify HOV Lanes and USE on I-880 NB from Dixon Road to I-238\n",
      "2020-10-22 22:27:49, INFO: Applying Year 2015 Modify HOV Lanes and USE on I-880 NB from Dixon Road to I-238\n",
      "2020-10-22 22:27:49, INFO: Applying Year 2015 Modify HOV Lanes and USE on I-880 NB from Dixon Road to I-238\n",
      "2020-10-22 22:27:49, INFO: Applying Year 2015 Modify HOV Lanes and USE on I-880 NB from Dixon Road to I-238\n",
      "2020-10-22 22:27:49, INFO: Applying Project to Roadway Network: Year 2015 Modify HOV Lanes and USE on I-880 NB from Dixon Road to I-238\n",
      "2020-10-22 22:27:49, INFO: Applying Project to Roadway Network: Year 2015 Modify HOV Lanes and USE on I-880 NB from Dixon Road to I-238\n",
      "2020-10-22 22:27:50, INFO: Applying Year 2015 Modify Express Lanes and USE on I-880 NB CA-237 to Dixon Road\n",
      "2020-10-22 22:27:50, INFO: Applying Year 2015 Modify Express Lanes and USE on I-880 NB CA-237 to Dixon Road\n",
      "2020-10-22 22:27:50, INFO: Applying Year 2015 Modify Express Lanes and USE on I-880 NB CA-237 to Dixon Road\n",
      "2020-10-22 22:27:50, INFO: Applying Year 2015 Modify Express Lanes and USE on I-880 NB CA-237 to Dixon Road\n",
      "2020-10-22 22:27:50, INFO: Applying Project to Roadway Network: Year 2015 Modify Express Lanes and USE on I-880 NB CA-237 to Dixon Road\n",
      "2020-10-22 22:27:50, INFO: Applying Project to Roadway Network: Year 2015 Modify Express Lanes and USE on I-880 NB CA-237 to Dixon Road\n",
      "2020-10-22 22:27:51, INFO: Applying Year 2015 Modify HOV Lanes and USE on I-80 WB I-80 to Bay Bridge Toll Plaza\n",
      "2020-10-22 22:27:51, INFO: Applying Year 2015 Modify HOV Lanes and USE on I-80 WB I-80 to Bay Bridge Toll Plaza\n",
      "2020-10-22 22:27:51, INFO: Applying Year 2015 Modify HOV Lanes and USE on I-80 WB I-80 to Bay Bridge Toll Plaza\n",
      "2020-10-22 22:27:51, INFO: Applying Year 2015 Modify HOV Lanes and USE on I-80 WB I-80 to Bay Bridge Toll Plaza\n",
      "2020-10-22 22:27:51, INFO: Applying Project to Roadway Network: Year 2015 Modify HOV Lanes and USE on I-80 WB I-80 to Bay Bridge Toll Plaza\n",
      "2020-10-22 22:27:51, INFO: Applying Project to Roadway Network: Year 2015 Modify HOV Lanes and USE on I-80 WB I-80 to Bay Bridge Toll Plaza\n",
      "2020-10-22 22:27:51, INFO: Applying Year 2015 Modify HOV Lanes and USE on I-80 WB from Fairfield to I-680\n",
      "2020-10-22 22:27:51, INFO: Applying Year 2015 Modify HOV Lanes and USE on I-80 WB from Fairfield to I-680\n",
      "2020-10-22 22:27:51, INFO: Applying Year 2015 Modify HOV Lanes and USE on I-80 WB from Fairfield to I-680\n",
      "2020-10-22 22:27:51, INFO: Applying Year 2015 Modify HOV Lanes and USE on I-80 WB from Fairfield to I-680\n",
      "2020-10-22 22:27:51, INFO: Applying Project to Roadway Network: Year 2015 Modify HOV Lanes and USE on I-80 WB from Fairfield to I-680\n",
      "2020-10-22 22:27:51, INFO: Applying Project to Roadway Network: Year 2015 Modify HOV Lanes and USE on I-80 WB from Fairfield to I-680\n",
      "2020-10-22 22:27:52, INFO: Applying Year 2015 Modify HOV Lanes and USE on I-80 WB from Carquinez Bridge to Bay Bridge Toll Plaza\n",
      "2020-10-22 22:27:52, INFO: Applying Year 2015 Modify HOV Lanes and USE on I-80 WB from Carquinez Bridge to Bay Bridge Toll Plaza\n",
      "2020-10-22 22:27:52, INFO: Applying Year 2015 Modify HOV Lanes and USE on I-80 WB from Carquinez Bridge to Bay Bridge Toll Plaza\n",
      "2020-10-22 22:27:52, INFO: Applying Year 2015 Modify HOV Lanes and USE on I-80 WB from Carquinez Bridge to Bay Bridge Toll Plaza\n",
      "2020-10-22 22:27:52, INFO: Applying Project to Roadway Network: Year 2015 Modify HOV Lanes and USE on I-80 WB from Carquinez Bridge to Bay Bridge Toll Plaza\n",
      "2020-10-22 22:27:52, INFO: Applying Project to Roadway Network: Year 2015 Modify HOV Lanes and USE on I-80 WB from Carquinez Bridge to Bay Bridge Toll Plaza\n"
     ]
    },
    {
     "name": "stdout",
     "output_type": "stream",
     "text": [
      "2020-10-22 22:27:53, INFO: Applying Year 2015 Modify HOV Lanes and USE on I-80 EB from I-680 to Fairfield\n",
      "2020-10-22 22:27:53, INFO: Applying Year 2015 Modify HOV Lanes and USE on I-80 EB from I-680 to Fairfield\n",
      "2020-10-22 22:27:53, INFO: Applying Year 2015 Modify HOV Lanes and USE on I-80 EB from I-680 to Fairfield\n",
      "2020-10-22 22:27:53, INFO: Applying Year 2015 Modify HOV Lanes and USE on I-80 EB from I-680 to Fairfield\n",
      "2020-10-22 22:27:53, INFO: Applying Project to Roadway Network: Year 2015 Modify HOV Lanes and USE on I-80 EB from I-680 to Fairfield\n",
      "2020-10-22 22:27:53, INFO: Applying Project to Roadway Network: Year 2015 Modify HOV Lanes and USE on I-80 EB from I-680 to Fairfield\n",
      "2020-10-22 22:27:53, INFO: Applying Year 2015 Modify HOV Lanes and USE on I-80 EB from Bay Bridge to Carquinez Bridge Toll Plaza\n",
      "2020-10-22 22:27:53, INFO: Applying Year 2015 Modify HOV Lanes and USE on I-80 EB from Bay Bridge to Carquinez Bridge Toll Plaza\n",
      "2020-10-22 22:27:53, INFO: Applying Year 2015 Modify HOV Lanes and USE on I-80 EB from Bay Bridge to Carquinez Bridge Toll Plaza\n",
      "2020-10-22 22:27:53, INFO: Applying Year 2015 Modify HOV Lanes and USE on I-80 EB from Bay Bridge to Carquinez Bridge Toll Plaza\n",
      "2020-10-22 22:27:53, INFO: Applying Project to Roadway Network: Year 2015 Modify HOV Lanes and USE on I-80 EB from Bay Bridge to Carquinez Bridge Toll Plaza\n",
      "2020-10-22 22:27:53, INFO: Applying Project to Roadway Network: Year 2015 Modify HOV Lanes and USE on I-80 EB from Bay Bridge to Carquinez Bridge Toll Plaza\n",
      "2020-10-22 22:27:54, INFO: Applying Year 2015 Modify HOV Lanes and USE on I-680 SB from Rudgear Road to Acosta Blvd\n",
      "2020-10-22 22:27:54, INFO: Applying Year 2015 Modify HOV Lanes and USE on I-680 SB from Rudgear Road to Acosta Blvd\n",
      "2020-10-22 22:27:54, INFO: Applying Year 2015 Modify HOV Lanes and USE on I-680 SB from Rudgear Road to Acosta Blvd\n",
      "2020-10-22 22:27:54, INFO: Applying Year 2015 Modify HOV Lanes and USE on I-680 SB from Rudgear Road to Acosta Blvd\n",
      "2020-10-22 22:27:54, INFO: Applying Project to Roadway Network: Year 2015 Modify HOV Lanes and USE on I-680 SB from Rudgear Road to Acosta Blvd\n",
      "2020-10-22 22:27:54, INFO: Applying Project to Roadway Network: Year 2015 Modify HOV Lanes and USE on I-680 SB from Rudgear Road to Acosta Blvd\n",
      "2020-10-22 22:27:55, INFO: Applying Year 2015 Modify HOV Lanes and USE on I-680 SB from Benicia Bridge to CA-242\n",
      "2020-10-22 22:27:55, INFO: Applying Year 2015 Modify HOV Lanes and USE on I-680 SB from Benicia Bridge to CA-242\n",
      "2020-10-22 22:27:55, INFO: Applying Year 2015 Modify HOV Lanes and USE on I-680 SB from Benicia Bridge to CA-242\n",
      "2020-10-22 22:27:55, INFO: Applying Year 2015 Modify HOV Lanes and USE on I-680 SB from Benicia Bridge to CA-242\n",
      "2020-10-22 22:27:55, INFO: Applying Project to Roadway Network: Year 2015 Modify HOV Lanes and USE on I-680 SB from Benicia Bridge to CA-242\n",
      "2020-10-22 22:27:55, INFO: Applying Project to Roadway Network: Year 2015 Modify HOV Lanes and USE on I-680 SB from Benicia Bridge to CA-242\n",
      "2020-10-22 22:27:55, INFO: Applying Year 2015 Modify Express Lanes and USE on I-680 SB Alameda/Santa Clara County Line to SR-84\n",
      "2020-10-22 22:27:55, INFO: Applying Year 2015 Modify Express Lanes and USE on I-680 SB Alameda/Santa Clara County Line to SR-84\n",
      "2020-10-22 22:27:55, INFO: Applying Year 2015 Modify Express Lanes and USE on I-680 SB Alameda/Santa Clara County Line to SR-84\n",
      "2020-10-22 22:27:55, INFO: Applying Year 2015 Modify Express Lanes and USE on I-680 SB Alameda/Santa Clara County Line to SR-84\n",
      "2020-10-22 22:27:55, INFO: Applying Project to Roadway Network: Year 2015 Modify Express Lanes and USE on I-680 SB Alameda/Santa Clara County Line to SR-84\n",
      "2020-10-22 22:27:55, INFO: Applying Project to Roadway Network: Year 2015 Modify Express Lanes and USE on I-680 SB Alameda/Santa Clara County Line to SR-84\n",
      "2020-10-22 22:27:56, INFO: Applying Year 2015 Modify HOV Lanes USE on I-680 NB CA-242 to Benicia Bridge\n",
      "2020-10-22 22:27:56, INFO: Applying Year 2015 Modify HOV Lanes USE on I-680 NB CA-242 to Benicia Bridge\n",
      "2020-10-22 22:27:56, INFO: Applying Year 2015 Modify HOV Lanes USE on I-680 NB CA-242 to Benicia Bridge\n",
      "2020-10-22 22:27:56, INFO: Applying Year 2015 Modify HOV Lanes USE on I-680 NB CA-242 to Benicia Bridge\n",
      "2020-10-22 22:27:56, INFO: Applying Project to Roadway Network: Year 2015 Modify HOV Lanes USE on I-680 NB CA-242 to Benicia Bridge\n",
      "2020-10-22 22:27:56, INFO: Applying Project to Roadway Network: Year 2015 Modify HOV Lanes USE on I-680 NB CA-242 to Benicia Bridge\n",
      "2020-10-22 22:27:56, INFO: Applying Year 2015 Modify HOV Lanes and USE on I-680 NB from Acosta Blvd to Rudgear Road\n",
      "2020-10-22 22:27:56, INFO: Applying Year 2015 Modify HOV Lanes and USE on I-680 NB from Acosta Blvd to Rudgear Road\n",
      "2020-10-22 22:27:56, INFO: Applying Year 2015 Modify HOV Lanes and USE on I-680 NB from Acosta Blvd to Rudgear Road\n",
      "2020-10-22 22:27:56, INFO: Applying Year 2015 Modify HOV Lanes and USE on I-680 NB from Acosta Blvd to Rudgear Road\n",
      "2020-10-22 22:27:56, INFO: Applying Project to Roadway Network: Year 2015 Modify HOV Lanes and USE on I-680 NB from Acosta Blvd to Rudgear Road\n",
      "2020-10-22 22:27:56, INFO: Applying Project to Roadway Network: Year 2015 Modify HOV Lanes and USE on I-680 NB from Acosta Blvd to Rudgear Road\n",
      "2020-10-22 22:27:57, INFO: Applying Year 2015 Modify USE on I-580 WB Greenville Road to I-680\n",
      "2020-10-22 22:27:57, INFO: Applying Year 2015 Modify USE on I-580 WB Greenville Road to I-680\n",
      "2020-10-22 22:27:57, INFO: Applying Year 2015 Modify USE on I-580 WB Greenville Road to I-680\n",
      "2020-10-22 22:27:57, INFO: Applying Year 2015 Modify USE on I-580 WB Greenville Road to I-680\n",
      "2020-10-22 22:27:57, INFO: Applying Project to Roadway Network: Year 2015 Modify USE on I-580 WB Greenville Road to I-680\n",
      "2020-10-22 22:27:57, INFO: Applying Project to Roadway Network: Year 2015 Modify USE on I-580 WB Greenville Road to I-680\n",
      "2020-10-22 22:27:57, INFO: Applying Year 2015 Modify Express Lanes and USE on I-580 EB (segment 02) Hacienda Drive to Greenville Road\n",
      "2020-10-22 22:27:57, INFO: Applying Year 2015 Modify Express Lanes and USE on I-580 EB (segment 02) Hacienda Drive to Greenville Road\n",
      "2020-10-22 22:27:57, INFO: Applying Year 2015 Modify Express Lanes and USE on I-580 EB (segment 02) Hacienda Drive to Greenville Road\n",
      "2020-10-22 22:27:57, INFO: Applying Year 2015 Modify Express Lanes and USE on I-580 EB (segment 02) Hacienda Drive to Greenville Road\n",
      "2020-10-22 22:27:57, INFO: Applying Project to Roadway Network: Year 2015 Modify Express Lanes and USE on I-580 EB (segment 02) Hacienda Drive to Greenville Road\n",
      "2020-10-22 22:27:57, INFO: Applying Project to Roadway Network: Year 2015 Modify Express Lanes and USE on I-580 EB (segment 02) Hacienda Drive to Greenville Road\n",
      "2020-10-22 22:27:58, INFO: Applying Year 2015 Modify Express Lanes and USE on I-580 EB Hacienda Drive to Greenville Road\n",
      "2020-10-22 22:27:58, INFO: Applying Year 2015 Modify Express Lanes and USE on I-580 EB Hacienda Drive to Greenville Road\n",
      "2020-10-22 22:27:58, INFO: Applying Year 2015 Modify Express Lanes and USE on I-580 EB Hacienda Drive to Greenville Road\n",
      "2020-10-22 22:27:58, INFO: Applying Year 2015 Modify Express Lanes and USE on I-580 EB Hacienda Drive to Greenville Road\n",
      "2020-10-22 22:27:58, INFO: Applying Project to Roadway Network: Year 2015 Modify Express Lanes and USE on I-580 EB Hacienda Drive to Greenville Road\n",
      "2020-10-22 22:27:58, INFO: Applying Project to Roadway Network: Year 2015 Modify Express Lanes and USE on I-580 EB Hacienda Drive to Greenville Road\n",
      "2020-10-22 22:27:58, INFO: Applying Year 2015 Modify HOV lanes and USE on Hwy 4 WB from Deer Valley Road to Port Chicago Highway\n",
      "2020-10-22 22:27:58, INFO: Applying Year 2015 Modify HOV lanes and USE on Hwy 4 WB from Deer Valley Road to Port Chicago Highway\n",
      "2020-10-22 22:27:58, INFO: Applying Year 2015 Modify HOV lanes and USE on Hwy 4 WB from Deer Valley Road to Port Chicago Highway\n",
      "2020-10-22 22:27:58, INFO: Applying Year 2015 Modify HOV lanes and USE on Hwy 4 WB from Deer Valley Road to Port Chicago Highway\n",
      "2020-10-22 22:27:58, INFO: Applying Project to Roadway Network: Year 2015 Modify HOV lanes and USE on Hwy 4 WB from Deer Valley Road to Port Chicago Highway\n"
     ]
    },
    {
     "name": "stdout",
     "output_type": "stream",
     "text": [
      "2020-10-22 22:27:58, INFO: Applying Project to Roadway Network: Year 2015 Modify HOV lanes and USE on Hwy 4 WB from Deer Valley Road to Port Chicago Highway\n",
      "2020-10-22 22:27:59, INFO: Applying Year 2015 Modify HOV Lanes and USE on Hwy 4 EB from Port Chicago Highway to Deer Valley Road\n",
      "2020-10-22 22:27:59, INFO: Applying Year 2015 Modify HOV Lanes and USE on Hwy 4 EB from Port Chicago Highway to Deer Valley Road\n",
      "2020-10-22 22:27:59, INFO: Applying Year 2015 Modify HOV Lanes and USE on Hwy 4 EB from Port Chicago Highway to Deer Valley Road\n",
      "2020-10-22 22:27:59, INFO: Applying Year 2015 Modify HOV Lanes and USE on Hwy 4 EB from Port Chicago Highway to Deer Valley Road\n",
      "2020-10-22 22:27:59, INFO: Applying Project to Roadway Network: Year 2015 Modify HOV Lanes and USE on Hwy 4 EB from Port Chicago Highway to Deer Valley Road\n",
      "2020-10-22 22:27:59, INFO: Applying Project to Roadway Network: Year 2015 Modify HOV Lanes and USE on Hwy 4 EB from Port Chicago Highway to Deer Valley Road\n",
      "2020-10-22 22:27:59, INFO: Applying Year 2015 Modify HOV Lanes and USE on E Capitol Expressway SB I-680 to US 101\n",
      "2020-10-22 22:27:59, INFO: Applying Year 2015 Modify HOV Lanes and USE on E Capitol Expressway SB I-680 to US 101\n",
      "2020-10-22 22:27:59, INFO: Applying Year 2015 Modify HOV Lanes and USE on E Capitol Expressway SB I-680 to US 101\n",
      "2020-10-22 22:27:59, INFO: Applying Year 2015 Modify HOV Lanes and USE on E Capitol Expressway SB I-680 to US 101\n",
      "2020-10-22 22:27:59, INFO: Applying Project to Roadway Network: Year 2015 Modify HOV Lanes and USE on E Capitol Expressway SB I-680 to US 101\n",
      "2020-10-22 22:27:59, INFO: Applying Project to Roadway Network: Year 2015 Modify HOV Lanes and USE on E Capitol Expressway SB I-680 to US 101\n",
      "2020-10-22 22:28:01, INFO: Applying Year 2015 Modify HOV Lanes and USE on E Capitol Expressway NB US101 to I-680\n",
      "2020-10-22 22:28:01, INFO: Applying Year 2015 Modify HOV Lanes and USE on E Capitol Expressway NB US101 to I-680\n",
      "2020-10-22 22:28:01, INFO: Applying Year 2015 Modify HOV Lanes and USE on E Capitol Expressway NB US101 to I-680\n",
      "2020-10-22 22:28:01, INFO: Applying Year 2015 Modify HOV Lanes and USE on E Capitol Expressway NB US101 to I-680\n",
      "2020-10-22 22:28:01, INFO: Applying Project to Roadway Network: Year 2015 Modify HOV Lanes and USE on E Capitol Expressway NB US101 to I-680\n",
      "2020-10-22 22:28:01, INFO: Applying Project to Roadway Network: Year 2015 Modify HOV Lanes and USE on E Capitol Expressway NB US101 to I-680\n",
      "2020-10-22 22:28:02, INFO: Applying Year 2015 Modify HOV Lanes and USE on CA-92 WB Eden Landing Rd to San Mateo-Hayward Bridge Toll Plaza\n",
      "2020-10-22 22:28:02, INFO: Applying Year 2015 Modify HOV Lanes and USE on CA-92 WB Eden Landing Rd to San Mateo-Hayward Bridge Toll Plaza\n",
      "2020-10-22 22:28:02, INFO: Applying Year 2015 Modify HOV Lanes and USE on CA-92 WB Eden Landing Rd to San Mateo-Hayward Bridge Toll Plaza\n",
      "2020-10-22 22:28:02, INFO: Applying Year 2015 Modify HOV Lanes and USE on CA-92 WB Eden Landing Rd to San Mateo-Hayward Bridge Toll Plaza\n",
      "2020-10-22 22:28:02, INFO: Applying Project to Roadway Network: Year 2015 Modify HOV Lanes and USE on CA-92 WB Eden Landing Rd to San Mateo-Hayward Bridge Toll Plaza\n",
      "2020-10-22 22:28:02, INFO: Applying Project to Roadway Network: Year 2015 Modify HOV Lanes and USE on CA-92 WB Eden Landing Rd to San Mateo-Hayward Bridge Toll Plaza\n",
      "2020-10-22 22:28:02, INFO: Applying Year 2015 Modify HOV Lanes and USE on CA-87 SB US 101 to CA-85\n",
      "2020-10-22 22:28:02, INFO: Applying Year 2015 Modify HOV Lanes and USE on CA-87 SB US 101 to CA-85\n",
      "2020-10-22 22:28:02, INFO: Applying Year 2015 Modify HOV Lanes and USE on CA-87 SB US 101 to CA-85\n",
      "2020-10-22 22:28:02, INFO: Applying Year 2015 Modify HOV Lanes and USE on CA-87 SB US 101 to CA-85\n",
      "2020-10-22 22:28:02, INFO: Applying Project to Roadway Network: Year 2015 Modify HOV Lanes and USE on CA-87 SB US 101 to CA-85\n",
      "2020-10-22 22:28:02, INFO: Applying Project to Roadway Network: Year 2015 Modify HOV Lanes and USE on CA-87 SB US 101 to CA-85\n",
      "2020-10-22 22:28:03, INFO: Applying Year 2015 Modify HOV Lanes and USE on CA 87 NB CA-85 to US 101\n",
      "2020-10-22 22:28:03, INFO: Applying Year 2015 Modify HOV Lanes and USE on CA 87 NB CA-85 to US 101\n",
      "2020-10-22 22:28:03, INFO: Applying Year 2015 Modify HOV Lanes and USE on CA 87 NB CA-85 to US 101\n",
      "2020-10-22 22:28:03, INFO: Applying Year 2015 Modify HOV Lanes and USE on CA 87 NB CA-85 to US 101\n",
      "2020-10-22 22:28:03, INFO: Applying Project to Roadway Network: Year 2015 Modify HOV Lanes and USE on CA 87 NB CA-85 to US 101\n",
      "2020-10-22 22:28:03, INFO: Applying Project to Roadway Network: Year 2015 Modify HOV Lanes and USE on CA 87 NB CA-85 to US 101\n",
      "2020-10-22 22:28:03, INFO: Applying Year 2015 Modify HOV Lanes and USE on CA-85 SB US101 to US101\n",
      "2020-10-22 22:28:03, INFO: Applying Year 2015 Modify HOV Lanes and USE on CA-85 SB US101 to US101\n",
      "2020-10-22 22:28:03, INFO: Applying Year 2015 Modify HOV Lanes and USE on CA-85 SB US101 to US101\n",
      "2020-10-22 22:28:03, INFO: Applying Year 2015 Modify HOV Lanes and USE on CA-85 SB US101 to US101\n",
      "2020-10-22 22:28:03, INFO: Applying Project to Roadway Network: Year 2015 Modify HOV Lanes and USE on CA-85 SB US101 to US101\n",
      "2020-10-22 22:28:03, INFO: Applying Project to Roadway Network: Year 2015 Modify HOV Lanes and USE on CA-85 SB US101 to US101\n",
      "2020-10-22 22:28:04, INFO: Applying Year 2015 Modify HOV Lanes and USE on CA-85 NB US101 to US101\n",
      "2020-10-22 22:28:04, INFO: Applying Year 2015 Modify HOV Lanes and USE on CA-85 NB US101 to US101\n",
      "2020-10-22 22:28:04, INFO: Applying Year 2015 Modify HOV Lanes and USE on CA-85 NB US101 to US101\n",
      "2020-10-22 22:28:04, INFO: Applying Year 2015 Modify HOV Lanes and USE on CA-85 NB US101 to US101\n",
      "2020-10-22 22:28:04, INFO: Applying Project to Roadway Network: Year 2015 Modify HOV Lanes and USE on CA-85 NB US101 to US101\n",
      "2020-10-22 22:28:04, INFO: Applying Project to Roadway Network: Year 2015 Modify HOV Lanes and USE on CA-85 NB US101 to US101\n",
      "2020-10-22 22:28:05, INFO: Applying Year 2015 Modify HOV Lanes and USE on CA-84 WB I-880 to Dumbarton Bridge Toll Plaza\n",
      "2020-10-22 22:28:05, INFO: Applying Year 2015 Modify HOV Lanes and USE on CA-84 WB I-880 to Dumbarton Bridge Toll Plaza\n",
      "2020-10-22 22:28:05, INFO: Applying Year 2015 Modify HOV Lanes and USE on CA-84 WB I-880 to Dumbarton Bridge Toll Plaza\n",
      "2020-10-22 22:28:05, INFO: Applying Year 2015 Modify HOV Lanes and USE on CA-84 WB I-880 to Dumbarton Bridge Toll Plaza\n",
      "2020-10-22 22:28:05, INFO: Applying Project to Roadway Network: Year 2015 Modify HOV Lanes and USE on CA-84 WB I-880 to Dumbarton Bridge Toll Plaza\n",
      "2020-10-22 22:28:05, INFO: Applying Project to Roadway Network: Year 2015 Modify HOV Lanes and USE on CA-84 WB I-880 to Dumbarton Bridge Toll Plaza\n",
      "2020-10-22 22:28:06, INFO: Applying Year 2015 Modify HOV Lanes and USE on CA-280 SB Magdalena Ave to Southwest Expressway\n",
      "2020-10-22 22:28:06, INFO: Applying Year 2015 Modify HOV Lanes and USE on CA-280 SB Magdalena Ave to Southwest Expressway\n",
      "2020-10-22 22:28:06, INFO: Applying Year 2015 Modify HOV Lanes and USE on CA-280 SB Magdalena Ave to Southwest Expressway\n",
      "2020-10-22 22:28:06, INFO: Applying Year 2015 Modify HOV Lanes and USE on CA-280 SB Magdalena Ave to Southwest Expressway\n",
      "2020-10-22 22:28:06, INFO: Applying Project to Roadway Network: Year 2015 Modify HOV Lanes and USE on CA-280 SB Magdalena Ave to Southwest Expressway\n",
      "2020-10-22 22:28:06, INFO: Applying Project to Roadway Network: Year 2015 Modify HOV Lanes and USE on CA-280 SB Magdalena Ave to Southwest Expressway\n",
      "2020-10-22 22:28:06, INFO: Applying Year 2015 Modify HOV Lanes and USE on CA-280 NB Bascom Ave to Magdalena Ave\n",
      "2020-10-22 22:28:06, INFO: Applying Year 2015 Modify HOV Lanes and USE on CA-280 NB Bascom Ave to Magdalena Ave\n",
      "2020-10-22 22:28:06, INFO: Applying Year 2015 Modify HOV Lanes and USE on CA-280 NB Bascom Ave to Magdalena Ave\n",
      "2020-10-22 22:28:06, INFO: Applying Year 2015 Modify HOV Lanes and USE on CA-280 NB Bascom Ave to Magdalena Ave\n",
      "2020-10-22 22:28:06, INFO: Applying Project to Roadway Network: Year 2015 Modify HOV Lanes and USE on CA-280 NB Bascom Ave to Magdalena Ave\n",
      "2020-10-22 22:28:06, INFO: Applying Project to Roadway Network: Year 2015 Modify HOV Lanes and USE on CA-280 NB Bascom Ave to Magdalena Ave\n"
     ]
    },
    {
     "name": "stdout",
     "output_type": "stream",
     "text": [
      "2020-10-22 22:28:07, INFO: Applying Year 2015 Modify HOV Lanes and USE on CA-237 WB North 1st Street to US 101\n",
      "2020-10-22 22:28:07, INFO: Applying Year 2015 Modify HOV Lanes and USE on CA-237 WB North 1st Street to US 101\n",
      "2020-10-22 22:28:07, INFO: Applying Year 2015 Modify HOV Lanes and USE on CA-237 WB North 1st Street to US 101\n",
      "2020-10-22 22:28:07, INFO: Applying Year 2015 Modify HOV Lanes and USE on CA-237 WB North 1st Street to US 101\n",
      "2020-10-22 22:28:07, INFO: Applying Project to Roadway Network: Year 2015 Modify HOV Lanes and USE on CA-237 WB North 1st Street to US 101\n",
      "2020-10-22 22:28:07, INFO: Applying Project to Roadway Network: Year 2015 Modify HOV Lanes and USE on CA-237 WB North 1st Street to US 101\n",
      "2020-10-22 22:28:07, INFO: Applying Year 2015 Modify Express Lanes and USE on CA-237 WB I-880 to CA-262 Mission Blvd\n",
      "2020-10-22 22:28:07, INFO: Applying Year 2015 Modify Express Lanes and USE on CA-237 WB I-880 to CA-262 Mission Blvd\n",
      "2020-10-22 22:28:07, INFO: Applying Year 2015 Modify Express Lanes and USE on CA-237 WB I-880 to CA-262 Mission Blvd\n",
      "2020-10-22 22:28:07, INFO: Applying Year 2015 Modify Express Lanes and USE on CA-237 WB I-880 to CA-262 Mission Blvd\n",
      "2020-10-22 22:28:07, INFO: Applying Project to Roadway Network: Year 2015 Modify Express Lanes and USE on CA-237 WB I-880 to CA-262 Mission Blvd\n",
      "2020-10-22 22:28:07, INFO: Applying Project to Roadway Network: Year 2015 Modify Express Lanes and USE on CA-237 WB I-880 to CA-262 Mission Blvd\n",
      "2020-10-22 22:28:08, INFO: Applying Year 2015 Modify HOV Lanes and USE on CA-237 EB US 101 to North 1st Street\n",
      "2020-10-22 22:28:08, INFO: Applying Year 2015 Modify HOV Lanes and USE on CA-237 EB US 101 to North 1st Street\n",
      "2020-10-22 22:28:08, INFO: Applying Year 2015 Modify HOV Lanes and USE on CA-237 EB US 101 to North 1st Street\n",
      "2020-10-22 22:28:08, INFO: Applying Year 2015 Modify HOV Lanes and USE on CA-237 EB US 101 to North 1st Street\n",
      "2020-10-22 22:28:08, INFO: Applying Project to Roadway Network: Year 2015 Modify HOV Lanes and USE on CA-237 EB US 101 to North 1st Street\n",
      "2020-10-22 22:28:08, INFO: Applying Project to Roadway Network: Year 2015 Modify HOV Lanes and USE on CA-237 EB US 101 to North 1st Street\n",
      "2020-10-22 22:28:08, INFO: Applying Year 2015 Modify Express Lanes and USE on CA-237 EB SR-262 Mission Blvd to I-880\n",
      "2020-10-22 22:28:08, INFO: Applying Year 2015 Modify Express Lanes and USE on CA-237 EB SR-262 Mission Blvd to I-880\n",
      "2020-10-22 22:28:08, INFO: Applying Year 2015 Modify Express Lanes and USE on CA-237 EB SR-262 Mission Blvd to I-880\n",
      "2020-10-22 22:28:08, INFO: Applying Year 2015 Modify Express Lanes and USE on CA-237 EB SR-262 Mission Blvd to I-880\n",
      "2020-10-22 22:28:08, INFO: Applying Project to Roadway Network: Year 2015 Modify Express Lanes and USE on CA-237 EB SR-262 Mission Blvd to I-880\n",
      "2020-10-22 22:28:08, INFO: Applying Project to Roadway Network: Year 2015 Modify Express Lanes and USE on CA-237 EB SR-262 Mission Blvd to I-880\n",
      "2020-10-22 22:28:08, INFO: Applying Year 2015 Modify HOV Lanes and USE on Benicia Bridge Toll Plaza - Bridge Pass\n",
      "2020-10-22 22:28:08, INFO: Applying Year 2015 Modify HOV Lanes and USE on Benicia Bridge Toll Plaza - Bridge Pass\n",
      "2020-10-22 22:28:08, INFO: Applying Year 2015 Modify HOV Lanes and USE on Benicia Bridge Toll Plaza - Bridge Pass\n",
      "2020-10-22 22:28:08, INFO: Applying Year 2015 Modify HOV Lanes and USE on Benicia Bridge Toll Plaza - Bridge Pass\n",
      "2020-10-22 22:28:08, INFO: Applying Project to Roadway Network: Year 2015 Modify HOV Lanes and USE on Benicia Bridge Toll Plaza - Bridge Pass\n",
      "2020-10-22 22:28:08, INFO: Applying Project to Roadway Network: Year 2015 Modify HOV Lanes and USE on Benicia Bridge Toll Plaza - Bridge Pass\n",
      "2020-10-22 22:28:09, INFO: Applying Year 2015 Modify HOV Lanes-Fastrak Lanes and USE on San Francisco-Oakland Bay Bridge WB Toll Plaza - Bridge Pass\n",
      "2020-10-22 22:28:09, INFO: Applying Year 2015 Modify HOV Lanes-Fastrak Lanes and USE on San Francisco-Oakland Bay Bridge WB Toll Plaza - Bridge Pass\n",
      "2020-10-22 22:28:09, INFO: Applying Year 2015 Modify HOV Lanes-Fastrak Lanes and USE on San Francisco-Oakland Bay Bridge WB Toll Plaza - Bridge Pass\n",
      "2020-10-22 22:28:09, INFO: Applying Year 2015 Modify HOV Lanes-Fastrak Lanes and USE on San Francisco-Oakland Bay Bridge WB Toll Plaza - Bridge Pass\n",
      "2020-10-22 22:28:09, INFO: Applying Project to Roadway Network: Year 2015 Modify HOV Lanes-Fastrak Lanes and USE on San Francisco-Oakland Bay Bridge WB Toll Plaza - Bridge Pass\n",
      "2020-10-22 22:28:09, INFO: Applying Project to Roadway Network: Year 2015 Modify HOV Lanes-Fastrak Lanes and USE on San Francisco-Oakland Bay Bridge WB Toll Plaza - Bridge Pass\n",
      "2020-10-22 22:28:09, INFO: Applying Year 2015 Modify HOV Lanes and USE on Golden Gate Bridge Toll Plaza on US101 SB - Bridge Pass\n",
      "2020-10-22 22:28:09, INFO: Applying Year 2015 Modify HOV Lanes and USE on Golden Gate Bridge Toll Plaza on US101 SB - Bridge Pass\n",
      "2020-10-22 22:28:09, INFO: Applying Year 2015 Modify HOV Lanes and USE on Golden Gate Bridge Toll Plaza on US101 SB - Bridge Pass\n",
      "2020-10-22 22:28:09, INFO: Applying Year 2015 Modify HOV Lanes and USE on Golden Gate Bridge Toll Plaza on US101 SB - Bridge Pass\n",
      "2020-10-22 22:28:09, INFO: Applying Project to Roadway Network: Year 2015 Modify HOV Lanes and USE on Golden Gate Bridge Toll Plaza on US101 SB - Bridge Pass\n",
      "2020-10-22 22:28:09, INFO: Applying Project to Roadway Network: Year 2015 Modify HOV Lanes and USE on Golden Gate Bridge Toll Plaza on US101 SB - Bridge Pass\n",
      "2020-10-22 22:28:09, INFO: Applying Year 2015 Modify HOV Lanes and USE on Carquinez Bridge Toll Plaza on I-80 NB - Bridge Pass\n",
      "2020-10-22 22:28:09, INFO: Applying Year 2015 Modify HOV Lanes and USE on Carquinez Bridge Toll Plaza on I-80 NB - Bridge Pass\n",
      "2020-10-22 22:28:09, INFO: Applying Year 2015 Modify HOV Lanes and USE on Carquinez Bridge Toll Plaza on I-80 NB - Bridge Pass\n",
      "2020-10-22 22:28:09, INFO: Applying Year 2015 Modify HOV Lanes and USE on Carquinez Bridge Toll Plaza on I-80 NB - Bridge Pass\n",
      "2020-10-22 22:28:09, INFO: Applying Project to Roadway Network: Year 2015 Modify HOV Lanes and USE on Carquinez Bridge Toll Plaza on I-80 NB - Bridge Pass\n",
      "2020-10-22 22:28:09, INFO: Applying Project to Roadway Network: Year 2015 Modify HOV Lanes and USE on Carquinez Bridge Toll Plaza on I-80 NB - Bridge Pass\n",
      "2020-10-22 22:28:10, INFO: Applying Year 2015 Modify HOV Lanes and USE on Dumbarton Bridge Toll Plaza Toll Plaza on CA-84 WB - Bridge Pass\n",
      "2020-10-22 22:28:10, INFO: Applying Year 2015 Modify HOV Lanes and USE on Dumbarton Bridge Toll Plaza Toll Plaza on CA-84 WB - Bridge Pass\n",
      "2020-10-22 22:28:10, INFO: Applying Year 2015 Modify HOV Lanes and USE on Dumbarton Bridge Toll Plaza Toll Plaza on CA-84 WB - Bridge Pass\n",
      "2020-10-22 22:28:10, INFO: Applying Year 2015 Modify HOV Lanes and USE on Dumbarton Bridge Toll Plaza Toll Plaza on CA-84 WB - Bridge Pass\n",
      "2020-10-22 22:28:10, INFO: Applying Project to Roadway Network: Year 2015 Modify HOV Lanes and USE on Dumbarton Bridge Toll Plaza Toll Plaza on CA-84 WB - Bridge Pass\n",
      "2020-10-22 22:28:10, INFO: Applying Project to Roadway Network: Year 2015 Modify HOV Lanes and USE on Dumbarton Bridge Toll Plaza Toll Plaza on CA-84 WB - Bridge Pass\n",
      "2020-10-22 22:28:10, INFO: Applying Year 2015 Modify HOV Lanes-Fastrak Lanes and USE on Antioch Bridge NB on Route 160 - Bridge Pass\n",
      "2020-10-22 22:28:10, INFO: Applying Year 2015 Modify HOV Lanes-Fastrak Lanes and USE on Antioch Bridge NB on Route 160 - Bridge Pass\n",
      "2020-10-22 22:28:10, INFO: Applying Year 2015 Modify HOV Lanes-Fastrak Lanes and USE on Antioch Bridge NB on Route 160 - Bridge Pass\n",
      "2020-10-22 22:28:10, INFO: Applying Year 2015 Modify HOV Lanes-Fastrak Lanes and USE on Antioch Bridge NB on Route 160 - Bridge Pass\n"
     ]
    }
   ],
   "source": [
    "v01_scenario.apply_all_projects()"
   ]
  },
  {
   "cell_type": "code",
   "execution_count": 14,
   "metadata": {},
   "outputs": [
    {
     "data": {
      "text/plain": [
       "['Year 2015 Modify HOV Lanes and USE on San Mateo Bridge Toll Plaza Toll Plaza on CA-92 WB - Bridge Pass',\n",
       " 'Year 2015 Modify HOV Lanes and USE on Richmond-San Rafael Bridge Toll Plaza - Bridge Pass',\n",
       " 'Year 2015 Modify HOV Lanes and USE on US-101 SB from South of Healdsburg to North of Petaluma',\n",
       " 'Year 2015 Modify USE and HOV Lanes on US-101 SB (Segment 02) from South of Healdsburg to North of Petaluma',\n",
       " 'Year 2015 Modify HOV Lanes and USE on US 101 SB CA-85 to Oregon Expressway',\n",
       " 'Year 2015 Modify HOV Lanes and USE on US 101 SB CA-85 to Cochrane Road',\n",
       " 'Year 2015 Modify HOV Lanes and USE on US-101 NB (Segment 02) from North of Petaluma to South of Healdsburg',\n",
       " 'Year 2015 Modify HOV Lanes and USE on US 101 NB Oregon Expressway to Whipple Road',\n",
       " 'Year 2015 Modify HOV Lanes and USE on US-101 NB from North of Petaluma to South of Healdsburg',\n",
       " 'Year 2015 Modify HOV Lanes and USE on US 101 NB Cochran Road to CA-85',\n",
       " 'Year 2015 Modify HOV Lanes and USE on San Tomas Expressway SB I-880 to Hwy 17',\n",
       " 'Year 2015 Modify HOV Lanes and USE on San Tomas Expressway NB Hwy 17 to I-880',\n",
       " 'Year 2015 Modify HOV Lanes and USE on Lawrence Expressway SB US 101 to I-280',\n",
       " 'Year 2015 Modify HOV Lanes and USE on Lawrence Expressway NB I-280 to US 101',\n",
       " 'Year 2015 Modify HOV Lanes and USE on I-880 SB from Hegenberger Road to Dixon Road',\n",
       " 'Year 2015 Modify Express Lanes and USE on I-880 SB Dixon Road to CA-237',\n",
       " 'Year 2015 Modify HOV Lanes and USE on I-880 SB CA-237 to US 101',\n",
       " 'Year 2015 Modify HOV lanes and USE on I-880 NB US 101 to CA-237',\n",
       " 'Year 2015 Modify HOV Lanes and USE on I-880 NB from Dixon Road to I-238',\n",
       " 'Year 2015 Modify Express Lanes and USE on I-880 NB CA-237 to Dixon Road',\n",
       " 'Year 2015 Modify HOV Lanes and USE on I-80 WB I-80 to Bay Bridge Toll Plaza',\n",
       " 'Year 2015 Modify HOV Lanes and USE on I-80 WB from Fairfield to I-680',\n",
       " 'Year 2015 Modify HOV Lanes and USE on I-80 WB from Carquinez Bridge to Bay Bridge Toll Plaza',\n",
       " 'Year 2015 Modify HOV Lanes and USE on I-80 EB from I-680 to Fairfield',\n",
       " 'Year 2015 Modify HOV Lanes and USE on I-80 EB from Bay Bridge to Carquinez Bridge Toll Plaza',\n",
       " 'Year 2015 Modify HOV Lanes and USE on I-680 SB from Rudgear Road to Acosta Blvd',\n",
       " 'Year 2015 Modify HOV Lanes and USE on I-680 SB from Benicia Bridge to CA-242',\n",
       " 'Year 2015 Modify Express Lanes and USE on I-680 SB Alameda/Santa Clara County Line to SR-84',\n",
       " 'Year 2015 Modify HOV Lanes USE on I-680 NB CA-242 to Benicia Bridge',\n",
       " 'Year 2015 Modify HOV Lanes and USE on I-680 NB from Acosta Blvd to Rudgear Road',\n",
       " 'Year 2015 Modify USE on I-580 WB Greenville Road to I-680',\n",
       " 'Year 2015 Modify Express Lanes and USE on I-580 EB (segment 02) Hacienda Drive to Greenville Road',\n",
       " 'Year 2015 Modify Express Lanes and USE on I-580 EB Hacienda Drive to Greenville Road',\n",
       " 'Year 2015 Modify HOV lanes and USE on Hwy 4 WB from Deer Valley Road to Port Chicago Highway',\n",
       " 'Year 2015 Modify HOV Lanes and USE on Hwy 4 EB from Port Chicago Highway to Deer Valley Road',\n",
       " 'Year 2015 Modify HOV Lanes and USE on E Capitol Expressway SB I-680 to US 101',\n",
       " 'Year 2015 Modify HOV Lanes and USE on E Capitol Expressway NB US101 to I-680',\n",
       " 'Year 2015 Modify HOV Lanes and USE on CA-92 WB Eden Landing Rd to San Mateo-Hayward Bridge Toll Plaza',\n",
       " 'Year 2015 Modify HOV Lanes and USE on CA-87 SB US 101 to CA-85',\n",
       " 'Year 2015 Modify HOV Lanes and USE on CA 87 NB CA-85 to US 101',\n",
       " 'Year 2015 Modify HOV Lanes and USE on CA-85 SB US101 to US101',\n",
       " 'Year 2015 Modify HOV Lanes and USE on CA-85 NB US101 to US101',\n",
       " 'Year 2015 Modify HOV Lanes and USE on CA-84 WB I-880 to Dumbarton Bridge Toll Plaza',\n",
       " 'Year 2015 Modify HOV Lanes and USE on CA-280 SB Magdalena Ave to Southwest Expressway',\n",
       " 'Year 2015 Modify HOV Lanes and USE on CA-280 NB Bascom Ave to Magdalena Ave',\n",
       " 'Year 2015 Modify HOV Lanes and USE on CA-237 WB North 1st Street to US 101',\n",
       " 'Year 2015 Modify Express Lanes and USE on CA-237 WB I-880 to CA-262 Mission Blvd',\n",
       " 'Year 2015 Modify HOV Lanes and USE on CA-237 EB US 101 to North 1st Street',\n",
       " 'Year 2015 Modify Express Lanes and USE on CA-237 EB SR-262 Mission Blvd to I-880',\n",
       " 'Year 2015 Modify HOV Lanes and USE on Benicia Bridge Toll Plaza - Bridge Pass',\n",
       " 'Year 2015 Modify HOV Lanes-Fastrak Lanes and USE on San Francisco-Oakland Bay Bridge WB Toll Plaza - Bridge Pass',\n",
       " 'Year 2015 Modify HOV Lanes and USE on Golden Gate Bridge Toll Plaza on US101 SB - Bridge Pass',\n",
       " 'Year 2015 Modify HOV Lanes and USE on Carquinez Bridge Toll Plaza on I-80 NB - Bridge Pass',\n",
       " 'Year 2015 Modify HOV Lanes and USE on Dumbarton Bridge Toll Plaza Toll Plaza on CA-84 WB - Bridge Pass',\n",
       " 'Year 2015 Modify HOV Lanes-Fastrak Lanes and USE on Antioch Bridge NB on Route 160 - Bridge Pass']"
      ]
     },
     "execution_count": 14,
     "metadata": {},
     "output_type": "execute_result"
    }
   ],
   "source": [
    "v01_scenario.applied_projects"
   ]
  },
  {
   "cell_type": "code",
   "execution_count": 15,
   "metadata": {},
   "outputs": [
    {
     "data": {
      "text/plain": [
       "(2221035, 32)"
      ]
     },
     "execution_count": 15,
     "metadata": {},
     "output_type": "execute_result"
    }
   ],
   "source": [
    "v01_scenario.road_net.links_df.shape"
   ]
  },
  {
   "cell_type": "markdown",
   "metadata": {},
   "source": [
    "# Update Travel Model Networks"
   ]
  },
  {
   "cell_type": "code",
   "execution_count": 16,
   "metadata": {
    "scrolled": false
   },
   "outputs": [
    {
     "name": "stdout",
     "output_type": "stream",
     "text": [
      "2020-10-22 22:28:11, INFO: Renaming roadway attributes to be consistent with what mtc's model is expecting\n",
      "2020-10-22 22:28:11, INFO: Renaming roadway attributes to be consistent with what mtc's model is expecting\n",
      "2020-10-22 22:28:11, INFO: Creating managed lane network.\n",
      "2020-10-22 22:28:11, INFO: Creating managed lane network.\n",
      "2020-10-22 22:28:11, INFO: Creating network with duplicated managed lanes\n",
      "2020-10-22 22:28:11, INFO: Creating network with duplicated managed lanes\n"
     ]
    },
    {
     "name": "stderr",
     "output_type": "stream",
     "text": [
      "c:\\users\\usgs667806\\anaconda3\\envs\\mtc_env\\lib\\site-packages\\geopandas\\geodataframe.py:852: UserWarning: Geometry column does not contain geometry.\n",
      "  warnings.warn(\"Geometry column does not contain geometry.\")\n",
      "c:\\users\\usgs667806\\anaconda3\\envs\\mtc_env\\lib\\site-packages\\pandas\\core\\frame.py:7138: FutureWarning: Sorting because non-concatenation axis is not aligned. A future version\n",
      "of pandas will change to not sort by default.\n",
      "\n",
      "To accept the future behavior, pass 'sort=False'.\n",
      "\n",
      "To retain the current behavior and silence the warning, pass 'sort=True'.\n",
      "\n",
      "  sort=sort,\n",
      "c:\\users\\usgs667806\\anaconda3\\envs\\mtc_env\\lib\\site-packages\\pandas\\core\\frame.py:7138: FutureWarning: Sorting because non-concatenation axis is not aligned. A future version\n",
      "of pandas will change to not sort by default.\n",
      "\n",
      "To accept the future behavior, pass 'sort=False'.\n",
      "\n",
      "To retain the current behavior and silence the warning, pass 'sort=True'.\n",
      "\n",
      "  sort=sort,\n"
     ]
    },
    {
     "name": "stdout",
     "output_type": "stream",
     "text": [
      "2020-10-22 22:42:14, INFO: Creating calculated roadway variables.\n",
      "2020-10-22 22:42:14, INFO: Creating calculated roadway variables.\n",
      "2020-10-22 22:42:14, INFO: Calculating Facility Type\n",
      "2020-10-22 22:42:14, INFO: Calculating Facility Type\n",
      "2020-10-22 22:45:51, INFO: Finished calculating roadway class variable: ft\n",
      "2020-10-22 22:45:51, INFO: Finished calculating roadway class variable: ft\n",
      "2020-10-22 22:45:52, INFO: Determining assignable\n",
      "2020-10-22 22:45:52, INFO: Determining assignable\n",
      "2020-10-22 22:45:52, INFO: Calculating and adding roadway network variable: assignable\n",
      "2020-10-22 22:45:52, INFO: Calculating and adding roadway network variable: assignable\n",
      "2020-10-22 22:46:01, INFO: Finished determining assignable using variable: assignable\n",
      "2020-10-22 22:46:01, INFO: Finished determining assignable using variable: assignable\n",
      "2020-10-22 22:46:01, INFO: Determining cntype\n",
      "2020-10-22 22:46:01, INFO: Determining cntype\n",
      "2020-10-22 22:46:01, INFO: Calculating and adding roadway network variable: cntype\n",
      "2020-10-22 22:46:01, INFO: Calculating and adding roadway network variable: cntype\n",
      "2020-10-22 22:47:22, INFO: Finished determining assignable using variable: cntype\n",
      "2020-10-22 22:47:22, INFO: Finished determining assignable using variable: cntype\n",
      "2020-10-22 22:47:22, INFO: Determining assignable\n",
      "2020-10-22 22:47:22, INFO: Determining assignable\n",
      "2020-10-22 22:47:22, INFO: Calculating and adding roadway network variable: transit\n",
      "2020-10-22 22:47:22, INFO: Calculating and adding roadway network variable: transit\n",
      "2020-10-22 22:47:22, INFO: Finished determining transit-only variable: transit\n",
      "2020-10-22 22:47:22, INFO: Finished determining transit-only variable: transit\n",
      "2020-10-22 22:47:22, INFO: Determining useclass\n",
      "2020-10-22 22:47:22, INFO: Determining useclass\n",
      "2020-10-22 22:47:22, INFO: Variable 'useclass' updated for some links. Returning without overwriting for those links. Calculating for other links\n",
      "2020-10-22 22:47:22, INFO: Variable 'useclass' updated for some links. Returning without overwriting for those links. Calculating for other links\n",
      "2020-10-22 22:47:22, INFO: Calculating and adding roadway network variable: useclass\n",
      "2020-10-22 22:47:22, INFO: Calculating and adding roadway network variable: useclass\n",
      "2020-10-22 22:47:22, INFO: Finished determining transit-only variable: useclass\n",
      "2020-10-22 22:47:22, INFO: Finished determining transit-only variable: useclass\n",
      "2020-10-22 22:47:22, INFO: Finished creating ML lanes variable: ML_lanes\n",
      "2020-10-22 22:47:22, INFO: Finished creating ML lanes variable: ML_lanes\n",
      "2020-10-22 22:47:22, INFO: Overwriting existing distance Variable 'distance' already in network\n",
      "2020-10-22 22:47:22, INFO: Overwriting existing distance Variable 'distance' already in network\n",
      "2020-10-22 22:48:31, INFO: Calculating distance for all links\n",
      "2020-10-22 22:48:31, INFO: Calculating distance for all links\n",
      "2020-10-22 22:48:40, INFO: Filling nan for network from network wrangler\n",
      "2020-10-22 22:48:40, INFO: Filling nan for network from network wrangler\n",
      "2020-10-22 22:49:00, INFO: Splitting variables by time period and category\n",
      "2020-10-22 22:49:00, INFO: Splitting variables by time period and category\n",
      "2020-10-22 22:49:25, INFO: Converting variable type to mtc standard\n",
      "2020-10-22 22:49:25, INFO: Converting variable type to mtc standard\n",
      "2020-10-22 22:49:28, INFO: Setting Coordinate Reference System to ESRI:102646\n",
      "2020-10-22 22:49:28, INFO: Setting Coordinate Reference System to ESRI:102646\n"
     ]
    }
   ],
   "source": [
    "v01_scenario.road_net.roadway_standard_to_mtc_network()"
   ]
  },
  {
   "cell_type": "markdown",
   "metadata": {},
   "source": [
    "# Write Out"
   ]
  },
  {
   "cell_type": "markdown",
   "metadata": {},
   "source": [
    "## As shapefile"
   ]
  },
  {
   "cell_type": "code",
   "execution_count": 17,
   "metadata": {},
   "outputs": [
    {
     "name": "stdout",
     "output_type": "stream",
     "text": [
      "2020-10-22 22:51:08, INFO: Writing Network as Shapefile\n",
      "2020-10-22 22:51:08, INFO: Writing Network as Shapefile\n",
      "2020-10-22 22:51:08, INFO: Renaming DBF Node Variables\n",
      "2020-10-22 22:51:08, INFO: Renaming DBF Node Variables\n",
      "2020-10-22 22:51:08, INFO: Renaming variables so that they are DBF-safe\n",
      "2020-10-22 22:51:08, INFO: Renaming variables so that they are DBF-safe\n",
      "2020-10-22 22:51:22, INFO: Renaming DBF Link Variables\n",
      "2020-10-22 22:51:22, INFO: Renaming DBF Link Variables\n",
      "2020-10-22 22:51:22, INFO: Renaming variables so that they are DBF-safe\n",
      "2020-10-22 22:51:22, INFO: Renaming variables so that they are DBF-safe\n",
      "2020-10-22 22:51:27, INFO: Writing Node Shapes:\n",
      " - C:/Users/USGS667806/Documents/GitHub/travel-model-two-networks/data/processed/version_01\\nodes.shp\n",
      "2020-10-22 22:51:27, INFO: Writing Node Shapes:\n",
      " - C:/Users/USGS667806/Documents/GitHub/travel-model-two-networks/data/processed/version_01\\nodes.shp\n",
      "2020-10-22 22:53:42, INFO: Writing Link Shapes:\n",
      " - C:/Users/USGS667806/Documents/GitHub/travel-model-two-networks/data/processed/version_01\\links.shp\n",
      "2020-10-22 22:53:42, INFO: Writing Link Shapes:\n",
      " - C:/Users/USGS667806/Documents/GitHub/travel-model-two-networks/data/processed/version_01\\links.shp\n"
     ]
    }
   ],
   "source": [
    "v01_scenario.road_net.write_roadway_as_shp(\n",
    "    output_link_shp = os.path.join(output_dir, 'links.shp'),\n",
    "    output_node_shp = os.path.join(output_dir, 'nodes.shp'),\n",
    "    link_output_variables = [\"model_link_id\", \"A\", \"B\", \"geometry\"],\n",
    "    node_output_variables = [\"model_node_id\", \"geometry\"],\n",
    "    data_to_csv = False,\n",
    "    data_to_dbf = True,\n",
    ")"
   ]
  },
  {
   "cell_type": "code",
   "execution_count": 18,
   "metadata": {},
   "outputs": [
    {
     "data": {
      "text/plain": [
       "Index(['index', 'A', 'B', 'access', 'bike_access', 'county', 'distance',\n",
       "       'drive_access', 'egress', 'fromIntersectionId', 'geometry', 'id',\n",
       "       'lanes', 'locationReferences', 'managed', 'maxspeed', 'model_link_id',\n",
       "       'name', 'oneWay', 'rail_only', 'rail_traveltime', 'ref', 'roadway',\n",
       "       'segment_id', 'shape_id', 'shstGeometryId', 'shstReferenceId',\n",
       "       'toIntersectionId', 'u', 'useclass', 'v', 'walk_access', 'wayId', 'ft',\n",
       "       'assignable', 'cntype', 'transit', 'ML_lanes', 'lanes_EA', 'lanes_AM',\n",
       "       'lanes_MD', 'lanes_PM', 'lanes_EV', 'ML_lanes_EA', 'ML_lanes_AM',\n",
       "       'ML_lanes_MD', 'ML_lanes_PM', 'ML_lanes_EV', 'useclass_EA',\n",
       "       'useclass_AM', 'useclass_MD', 'useclass_PM', 'useclass_EV'],\n",
       "      dtype='object')"
      ]
     },
     "execution_count": 18,
     "metadata": {},
     "output_type": "execute_result"
    }
   ],
   "source": [
    "v01_scenario.road_net.links_df.columns"
   ]
  },
  {
   "cell_type": "code",
   "execution_count": 19,
   "metadata": {},
   "outputs": [
    {
     "data": {
      "text/plain": [
       "Index(['index', 'A', 'B', 'access', 'bike_access', 'county', 'distance',\n",
       "       'drive_access', 'egress', 'fromIntersectionId', 'geometry', 'id',\n",
       "       'lanes', 'locationReferences', 'managed', 'maxspeed', 'model_link_id',\n",
       "       'name', 'oneWay', 'rail_only', 'rail_traveltime', 'ref', 'roadway',\n",
       "       'segment_id', 'shape_id', 'shstGeometryId', 'shstReferenceId',\n",
       "       'toIntersectionId', 'u', 'useclass', 'v', 'walk_access', 'wayId', 'ft',\n",
       "       'assignable', 'cntype', 'transit', 'ML_lanes', 'lanes_EA', 'lanes_AM',\n",
       "       'lanes_MD', 'lanes_PM', 'lanes_EV', 'ML_lanes_EA', 'ML_lanes_AM',\n",
       "       'ML_lanes_MD', 'ML_lanes_PM', 'ML_lanes_EV', 'useclass_EA',\n",
       "       'useclass_AM', 'useclass_MD', 'useclass_PM', 'useclass_EV'],\n",
       "      dtype='object')"
      ]
     },
     "execution_count": 19,
     "metadata": {},
     "output_type": "execute_result"
    }
   ],
   "source": [
    "v01_scenario.road_net.links_mtc_df.columns"
   ]
  },
  {
   "cell_type": "markdown",
   "metadata": {},
   "source": [
    "## As fixed width (for CUBE)"
   ]
  },
  {
   "cell_type": "code",
   "execution_count": 20,
   "metadata": {},
   "outputs": [
    {
     "name": "stdout",
     "output_type": "stream",
     "text": [
      "2020-10-22 23:02:15, INFO: Starting fixed width convertion\n",
      "2020-10-22 23:02:15, INFO: Starting fixed width convertion\n",
      "2020-10-22 23:29:27, INFO: Writing out link database\n",
      "2020-10-22 23:29:27, INFO: Writing out link database\n",
      "2020-10-22 23:29:43, INFO: Writing out link header and width ----\n",
      "2020-10-22 23:29:43, INFO: Writing out link header and width ----\n",
      "2020-10-22 23:29:43, INFO: Starting fixed width convertion\n",
      "2020-10-22 23:29:43, INFO: Starting fixed width convertion\n",
      "2020-10-22 23:32:10, INFO: Writing out node database\n",
      "2020-10-22 23:32:10, INFO: Writing out node database\n",
      "2020-10-22 23:32:13, INFO: Writing out node header and width\n",
      "2020-10-22 23:32:13, INFO: Writing out node header and width\n"
     ]
    }
   ],
   "source": [
    "v01_scenario.road_net.write_roadway_as_fixedwidth(\n",
    "    output_link_txt = os.path.join(output_dir, 'links.txt'),\n",
    "    output_node_txt = os.path.join(output_dir, 'nodes.txt'),\n",
    "    output_link_header_width_txt = os.path.join(output_dir, 'links_header_width.txt'),\n",
    "    output_node_header_width_txt = os.path.join(output_dir, 'nodes_header_width.txt'),\n",
    "    output_cube_network_script = os.path.join(output_dir, 'make_complete_network_from_fixed_width_file.s'),\n",
    "    #drive_only = True\n",
    ")"
   ]
  },
  {
   "cell_type": "code",
   "execution_count": null,
   "metadata": {},
   "outputs": [],
   "source": [
    "from subprocess import Popen\n",
    "\n",
    "os.chdir(output_dir)\n",
    "p = Popen(\"make_cube.bat\")\n",
    "p.communicate()"
   ]
  },
  {
   "cell_type": "markdown",
   "metadata": {},
   "source": [
    "## As pickle"
   ]
  },
  {
   "cell_type": "code",
   "execution_count": 22,
   "metadata": {},
   "outputs": [],
   "source": [
    "roadway_filename = os.path.join(output_dir, 'base_roadway_network_v01.pickle')\n",
    "pickle.dump(v01_scenario.road_net, open(roadway_filename, 'wb'))"
   ]
  },
  {
   "cell_type": "markdown",
   "metadata": {},
   "source": [
    "## As network standard"
   ]
  },
  {
   "cell_type": "markdown",
   "metadata": {},
   "source": [
    "v01_scenario.road_net.write(path = output_dir, filename = 'v01')"
   ]
  },
  {
   "cell_type": "code",
   "execution_count": null,
   "metadata": {},
   "outputs": [],
   "source": []
  }
 ],
 "metadata": {
  "kernelspec": {
   "display_name": "Python 3",
   "language": "python",
   "name": "python3"
  },
  "language_info": {
   "codemirror_mode": {
    "name": "ipython",
    "version": 3
   },
   "file_extension": ".py",
   "mimetype": "text/x-python",
   "name": "python",
   "nbconvert_exporter": "python",
   "pygments_lexer": "ipython3",
   "version": "3.7.8"
  }
 },
 "nbformat": 4,
 "nbformat_minor": 4
}
