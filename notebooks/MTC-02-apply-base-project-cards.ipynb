{
 "cells": [
  {
   "cell_type": "markdown",
   "metadata": {},
   "source": [
    "# 02 Apply Base Scenario Project Cards\n",
    "Step 2 applies project cards, create MTC network, and writes out to shapefiles, CUBE, pickle"
   ]
  },
  {
   "cell_type": "code",
   "execution_count": 2,
   "metadata": {},
   "outputs": [],
   "source": [
    "import os\n",
    "import sys\n",
    "import yaml\n",
    "\n",
    "import pandas as pd\n",
    "\n",
    "from network_wrangler import RoadwayNetwork\n",
    "from network_wrangler import TransitNetwork\n",
    "from network_wrangler import ProjectCard\n",
    "from network_wrangler import Scenario\n",
    "from network_wrangler import WranglerLogger\n",
    "\n",
    "from lasso import ModelRoadwayNetwork\n",
    "from lasso import StandardTransit\n",
    "from lasso import Parameters\n",
    "from lasso import MTC\n",
    "\n",
    "import pickle"
   ]
  },
  {
   "cell_type": "code",
   "execution_count": 3,
   "metadata": {},
   "outputs": [],
   "source": [
    "%load_ext autoreload\n",
    "%autoreload 2"
   ]
  },
  {
   "cell_type": "code",
   "execution_count": 4,
   "metadata": {},
   "outputs": [],
   "source": [
    "import logging\n",
    "logger = logging.getLogger(\"WranglerLogger\")\n",
    "logger.handlers[0].stream = sys.stdout\n",
    "logger.setLevel(logging.INFO)"
   ]
  },
  {
   "cell_type": "markdown",
   "metadata": {},
   "source": [
    "# Remote I/O and Parameters"
   ]
  },
  {
   "cell_type": "code",
   "execution_count": 9,
   "metadata": {},
   "outputs": [],
   "source": [
    "pickle_dir = \"../data/processed/version_01\"\n",
    "output_dir = \"../data/processed/version_01\"\n",
    "card_dir = \"../project_cards/\"\n",
    "lasso_dir = \"../../Lasso\""
   ]
  },
  {
   "cell_type": "code",
   "execution_count": 7,
   "metadata": {},
   "outputs": [
    {
     "name": "stdout",
     "output_type": "stream",
     "text": [
      "2020-10-21 14:12:28, INFO: Lasso base directory set as: ../../Lasso\n",
      "2020-10-21 14:12:28, INFO: Lasso base directory set as: ../../Lasso\n"
     ]
    }
   ],
   "source": [
    "parameters = Parameters(lasso_base_dir = lasso_dir)"
   ]
  },
  {
   "cell_type": "markdown",
   "metadata": {},
   "source": [
    "# Read Version 01 Network"
   ]
  },
  {
   "cell_type": "code",
   "execution_count": 10,
   "metadata": {},
   "outputs": [],
   "source": [
    "version_00_pickle_file_name = os.path.join(pickle_dir, 'base_roadway_network.pickle')\n",
    "v_01_roadway_net = pickle.load(open(version_00_pickle_file_name, 'rb'))"
   ]
  },
  {
   "cell_type": "code",
   "execution_count": 11,
   "metadata": {},
   "outputs": [
    {
     "data": {
      "text/plain": [
       "(2221035, 26)"
      ]
     },
     "execution_count": 11,
     "metadata": {},
     "output_type": "execute_result"
    }
   ],
   "source": [
    "v_01_roadway_net.links_df.shape"
   ]
  },
  {
   "cell_type": "code",
   "execution_count": 12,
   "metadata": {},
   "outputs": [
    {
     "data": {
      "text/plain": [
       "(1163103, 7)"
      ]
     },
     "execution_count": 12,
     "metadata": {},
     "output_type": "execute_result"
    }
   ],
   "source": [
    "v_01_roadway_net.shapes_df.shape"
   ]
  },
  {
   "cell_type": "markdown",
   "metadata": {},
   "source": [
    "# Create Base Scenario"
   ]
  },
  {
   "cell_type": "code",
   "execution_count": 13,
   "metadata": {},
   "outputs": [],
   "source": [
    "base_scenario = {\"road_net\": v_01_roadway_net}"
   ]
  },
  {
   "cell_type": "code",
   "execution_count": 14,
   "metadata": {},
   "outputs": [
    {
     "name": "stdout",
     "output_type": "stream",
     "text": [
      "2020-10-21 14:14:59, INFO: Creating Scenario\n",
      "2020-10-21 14:14:59, INFO: Creating Scenario\n"
     ]
    }
   ],
   "source": [
    "v01_scenario = Scenario.create_scenario(base_scenario = base_scenario)"
   ]
  },
  {
   "cell_type": "markdown",
   "metadata": {},
   "source": [
    "# Apply Project Cards"
   ]
  },
  {
   "cell_type": "code",
   "execution_count": 15,
   "metadata": {},
   "outputs": [],
   "source": [
    "project_card_list = []\n",
    "card_01_file_name = os.path.join(card_dir, 'year_2015_managed_lane_us101s_south_healdsburg_to_north_petaluma.yml')\n",
    "\n",
    "card = ProjectCard.read(card_01_file_name, validate = False)\n",
    "project_card_list.append(card)"
   ]
  },
  {
   "cell_type": "code",
   "execution_count": 16,
   "metadata": {},
   "outputs": [
    {
     "name": "stdout",
     "output_type": "stream",
     "text": [
      "2020-10-21 14:15:05, INFO: Applying Year 2015 Modify HOV Lanes and USE on US-101 SB from South of Healdsburg to North of Petaluma\n",
      "2020-10-21 14:15:05, INFO: Applying Year 2015 Modify HOV Lanes and USE on US-101 SB from South of Healdsburg to North of Petaluma\n",
      "2020-10-21 14:15:05, INFO: Applying Year 2015 Modify HOV Lanes and USE on US-101 SB from South of Healdsburg to North of Petaluma\n",
      "2020-10-21 14:15:05, INFO: Applying Year 2015 Modify HOV Lanes and USE on US-101 SB from South of Healdsburg to North of Petaluma\n",
      "2020-10-21 14:15:05, INFO: Applying Project to Roadway Network: Year 2015 Modify HOV Lanes and USE on US-101 SB from South of Healdsburg to North of Petaluma\n",
      "2020-10-21 14:15:05, INFO: Applying Project to Roadway Network: Year 2015 Modify HOV Lanes and USE on US-101 SB from South of Healdsburg to North of Petaluma\n"
     ]
    },
    {
     "name": "stderr",
     "output_type": "stream",
     "text": [
      "c:\\users\\wangs1\\.conda\\envs\\lasso_mtc\\lib\\site-packages\\geopandas\\geodataframe.py:853: SettingWithCopyWarning: \n",
      "A value is trying to be set on a copy of a slice from a DataFrame.\n",
      "Try using .loc[row_indexer,col_indexer] = value instead\n",
      "\n",
      "See the caveats in the documentation: http://pandas.pydata.org/pandas-docs/stable/user_guide/indexing.html#returning-a-view-versus-a-copy\n",
      "  super(GeoDataFrame, self).__setitem__(key, value)\n"
     ]
    }
   ],
   "source": [
    "for project_card in project_card_list:\n",
    "    v01_scenario.apply_project(project_card)"
   ]
  },
  {
   "cell_type": "code",
   "execution_count": 17,
   "metadata": {},
   "outputs": [
    {
     "data": {
      "text/plain": [
       "['Year 2015 Modify HOV Lanes and USE on US-101 SB from South of Healdsburg to North of Petaluma']"
      ]
     },
     "execution_count": 17,
     "metadata": {},
     "output_type": "execute_result"
    }
   ],
   "source": [
    "v01_scenario.applied_projects"
   ]
  },
  {
   "cell_type": "code",
   "execution_count": 18,
   "metadata": {},
   "outputs": [
    {
     "data": {
      "text/plain": [
       "(2221035, 32)"
      ]
     },
     "execution_count": 18,
     "metadata": {},
     "output_type": "execute_result"
    }
   ],
   "source": [
    "v01_scenario.road_net.links_df.shape"
   ]
  },
  {
   "cell_type": "markdown",
   "metadata": {},
   "source": [
    "# Update Travel Model Networks"
   ]
  },
  {
   "cell_type": "code",
   "execution_count": 19,
   "metadata": {
    "scrolled": false
   },
   "outputs": [
    {
     "name": "stdout",
     "output_type": "stream",
     "text": [
      "2020-10-21 14:15:13, INFO: Renaming roadway attributes to be consistent with what mtc's model is expecting\n",
      "2020-10-21 14:15:13, INFO: Renaming roadway attributes to be consistent with what mtc's model is expecting\n",
      "2020-10-21 14:15:13, INFO: Creating managed lane network.\n",
      "2020-10-21 14:15:13, INFO: Creating managed lane network.\n",
      "2020-10-21 14:15:13, INFO: Creating network with duplicated managed lanes\n",
      "2020-10-21 14:15:13, INFO: Creating network with duplicated managed lanes\n"
     ]
    },
    {
     "name": "stderr",
     "output_type": "stream",
     "text": [
      "c:\\users\\wangs1\\.conda\\envs\\lasso_mtc\\lib\\site-packages\\geopandas\\geodataframe.py:852: UserWarning: Geometry column does not contain geometry.\n",
      "  warnings.warn(\"Geometry column does not contain geometry.\")\n",
      "c:\\users\\wangs1\\.conda\\envs\\lasso_mtc\\lib\\site-packages\\pandas\\core\\frame.py:7138: FutureWarning: Sorting because non-concatenation axis is not aligned. A future version\n",
      "of pandas will change to not sort by default.\n",
      "\n",
      "To accept the future behavior, pass 'sort=False'.\n",
      "\n",
      "To retain the current behavior and silence the warning, pass 'sort=True'.\n",
      "\n",
      "  sort=sort,\n",
      "c:\\users\\wangs1\\.conda\\envs\\lasso_mtc\\lib\\site-packages\\pandas\\core\\frame.py:7138: FutureWarning: Sorting because non-concatenation axis is not aligned. A future version\n",
      "of pandas will change to not sort by default.\n",
      "\n",
      "To accept the future behavior, pass 'sort=False'.\n",
      "\n",
      "To retain the current behavior and silence the warning, pass 'sort=True'.\n",
      "\n",
      "  sort=sort,\n"
     ]
    },
    {
     "name": "stdout",
     "output_type": "stream",
     "text": [
      "2020-10-21 14:16:00, INFO: Creating calculated roadway variables.\n",
      "2020-10-21 14:16:00, INFO: Creating calculated roadway variables.\n",
      "2020-10-21 14:16:00, INFO: Calculating Facility Type\n",
      "2020-10-21 14:16:00, INFO: Calculating Facility Type\n",
      "2020-10-21 14:18:59, INFO: Finished calculating roadway class variable: ft\n",
      "2020-10-21 14:18:59, INFO: Finished calculating roadway class variable: ft\n",
      "2020-10-21 14:18:59, INFO: Determining assignable\n",
      "2020-10-21 14:18:59, INFO: Determining assignable\n",
      "2020-10-21 14:18:59, INFO: Calculating and adding roadway network variable: assignable\n",
      "2020-10-21 14:18:59, INFO: Calculating and adding roadway network variable: assignable\n",
      "2020-10-21 14:19:11, INFO: Finished determining assignable using variable: assignable\n",
      "2020-10-21 14:19:11, INFO: Finished determining assignable using variable: assignable\n",
      "2020-10-21 14:19:12, INFO: Determining cntype\n",
      "2020-10-21 14:19:12, INFO: Determining cntype\n",
      "2020-10-21 14:19:12, INFO: Calculating and adding roadway network variable: cntype\n",
      "2020-10-21 14:19:12, INFO: Calculating and adding roadway network variable: cntype\n",
      "2020-10-21 14:20:19, INFO: Finished determining assignable using variable: cntype\n",
      "2020-10-21 14:20:19, INFO: Finished determining assignable using variable: cntype\n",
      "2020-10-21 14:20:19, INFO: Determining assignable\n",
      "2020-10-21 14:20:19, INFO: Determining assignable\n",
      "2020-10-21 14:20:19, INFO: Calculating and adding roadway network variable: transit\n",
      "2020-10-21 14:20:19, INFO: Calculating and adding roadway network variable: transit\n",
      "2020-10-21 14:20:19, INFO: Finished determining transit-only variable: transit\n",
      "2020-10-21 14:20:19, INFO: Finished determining transit-only variable: transit\n",
      "2020-10-21 14:20:19, INFO: Determining useclass\n",
      "2020-10-21 14:20:19, INFO: Determining useclass\n",
      "2020-10-21 14:20:19, INFO: Variable 'useclass' updated for some links. Returning without overwriting for those links. Calculating for other links\n",
      "2020-10-21 14:20:19, INFO: Variable 'useclass' updated for some links. Returning without overwriting for those links. Calculating for other links\n",
      "2020-10-21 14:20:19, INFO: Calculating and adding roadway network variable: useclass\n",
      "2020-10-21 14:20:19, INFO: Calculating and adding roadway network variable: useclass\n",
      "2020-10-21 14:20:19, INFO: Finished determining transit-only variable: useclass\n",
      "2020-10-21 14:20:19, INFO: Finished determining transit-only variable: useclass\n",
      "2020-10-21 14:20:19, INFO: Finished creating ML lanes variable: ML_lanes\n",
      "2020-10-21 14:20:19, INFO: Finished creating ML lanes variable: ML_lanes\n",
      "2020-10-21 14:20:19, INFO: Overwriting existing distance Variable 'distance' already in network\n",
      "2020-10-21 14:20:19, INFO: Overwriting existing distance Variable 'distance' already in network\n",
      "2020-10-21 14:21:21, INFO: Calculating distance for all links\n",
      "2020-10-21 14:21:21, INFO: Calculating distance for all links\n",
      "2020-10-21 14:21:29, INFO: Filling nan for network from network wrangler\n",
      "2020-10-21 14:21:29, INFO: Filling nan for network from network wrangler\n",
      "2020-10-21 14:21:49, INFO: Splitting variables by time period and category\n",
      "2020-10-21 14:21:49, INFO: Splitting variables by time period and category\n",
      "2020-10-21 14:22:13, INFO: Converting variable type to mtc standard\n",
      "2020-10-21 14:22:13, INFO: Converting variable type to mtc standard\n",
      "2020-10-21 14:22:16, INFO: Setting Coordinate Reference System to ESRI:102646\n",
      "2020-10-21 14:22:16, INFO: Setting Coordinate Reference System to ESRI:102646\n"
     ]
    }
   ],
   "source": [
    "v01_scenario.road_net.roadway_standard_to_mtc_network()"
   ]
  },
  {
   "cell_type": "markdown",
   "metadata": {},
   "source": [
    "# Write Out"
   ]
  },
  {
   "cell_type": "markdown",
   "metadata": {},
   "source": [
    "## As shapefile"
   ]
  },
  {
   "cell_type": "code",
   "execution_count": 20,
   "metadata": {},
   "outputs": [
    {
     "name": "stdout",
     "output_type": "stream",
     "text": [
      "2020-10-21 14:27:36, INFO: Writing Network as Shapefile\n",
      "2020-10-21 14:27:36, INFO: Writing Network as Shapefile\n",
      "2020-10-21 14:27:36, INFO: Renaming DBF Node Variables\n",
      "2020-10-21 14:27:36, INFO: Renaming DBF Node Variables\n",
      "2020-10-21 14:27:36, INFO: Renaming variables so that they are DBF-safe\n",
      "2020-10-21 14:27:36, INFO: Renaming variables so that they are DBF-safe\n",
      "2020-10-21 14:27:48, INFO: Renaming DBF Link Variables\n",
      "2020-10-21 14:27:48, INFO: Renaming DBF Link Variables\n",
      "2020-10-21 14:27:48, INFO: Renaming variables so that they are DBF-safe\n",
      "2020-10-21 14:27:48, INFO: Renaming variables so that they are DBF-safe\n",
      "2020-10-21 14:27:53, INFO: Writing Node Shapes:\n",
      " - ../data/processed/version_01\\nodes.shp\n",
      "2020-10-21 14:27:53, INFO: Writing Node Shapes:\n",
      " - ../data/processed/version_01\\nodes.shp\n",
      "2020-10-21 14:28:44, INFO: Writing Link Shapes:\n",
      " - ../data/processed/version_01\\links.shp\n",
      "2020-10-21 14:28:44, INFO: Writing Link Shapes:\n",
      " - ../data/processed/version_01\\links.shp\n"
     ]
    }
   ],
   "source": [
    "v01_scenario.road_net.write_roadway_as_shp(\n",
    "    output_link_shp = os.path.join(output_dir, 'links.shp'),\n",
    "    output_node_shp = os.path.join(output_dir, 'nodes.shp'),\n",
    "    link_output_variables = [\"model_link_id\", \"A\", \"B\", \"geometry\"],\n",
    "    node_output_variables = [\"model_node_id\", \"geometry\"],\n",
    "    data_to_csv = False,\n",
    "    data_to_dbf = True,\n",
    ")"
   ]
  },
  {
   "cell_type": "markdown",
   "metadata": {},
   "source": [
    "## As fixed width (for CUBE)"
   ]
  },
  {
   "cell_type": "code",
   "execution_count": 22,
   "metadata": {},
   "outputs": [
    {
     "name": "stdout",
     "output_type": "stream",
     "text": [
      "2020-10-21 14:34:17, INFO: Starting fixed width convertion\n",
      "2020-10-21 14:34:17, INFO: Starting fixed width convertion\n",
      "2020-10-21 14:56:37, INFO: Writing out link database\n",
      "2020-10-21 14:56:37, INFO: Writing out link database\n",
      "2020-10-21 14:59:27, INFO: Writing out link header and width ----\n",
      "2020-10-21 14:59:27, INFO: Writing out link header and width ----\n",
      "2020-10-21 14:59:27, INFO: Starting fixed width convertion\n",
      "2020-10-21 14:59:27, INFO: Starting fixed width convertion\n",
      "2020-10-21 15:01:26, INFO: Writing out node database\n",
      "2020-10-21 15:01:26, INFO: Writing out node database\n",
      "2020-10-21 15:01:33, INFO: Writing out node header and width\n",
      "2020-10-21 15:01:33, INFO: Writing out node header and width\n"
     ]
    }
   ],
   "source": [
    "v01_scenario.road_net.write_roadway_as_fixedwidth(\n",
    "    output_link_txt = os.path.join(output_dir, 'links.txt'),\n",
    "    output_node_txt = os.path.join(output_dir, 'nodes.txt'),\n",
    "    output_link_header_width_txt = os.path.join(output_dir, 'links_header_width.txt'),\n",
    "    output_node_header_width_txt = os.path.join(output_dir, 'nodes_header_width.txt'),\n",
    "    output_cube_network_script = os.path.join(output_dir, 'make_complete_network_from_fixed_width_file.s'),\n",
    ")"
   ]
  },
  {
   "cell_type": "markdown",
   "metadata": {},
   "source": [
    "## As pickle"
   ]
  },
  {
   "cell_type": "code",
   "execution_count": 21,
   "metadata": {},
   "outputs": [],
   "source": [
    "roadway_filename = os.path.join(output_dir, 'base_roadway_network_v01.pickle')\n",
    "pickle.dump(v01_scenario.road_net, open(roadway_filename, 'wb'))"
   ]
  },
  {
   "cell_type": "markdown",
   "metadata": {},
   "source": [
    "## As network standard"
   ]
  },
  {
   "cell_type": "markdown",
   "metadata": {},
   "source": [
    "v01_scenario.road_net.write(path = output_dir, filename = 'v01')"
   ]
  }
 ],
 "metadata": {
  "kernelspec": {
   "display_name": "Python 3",
   "language": "python",
   "name": "python3"
  },
  "language_info": {
   "codemirror_mode": {
    "name": "ipython",
    "version": 3
   },
   "file_extension": ".py",
   "mimetype": "text/x-python",
   "name": "python",
   "nbconvert_exporter": "python",
   "pygments_lexer": "ipython3",
   "version": "3.7.9"
  }
 },
 "nbformat": 4,
 "nbformat_minor": 4
}
