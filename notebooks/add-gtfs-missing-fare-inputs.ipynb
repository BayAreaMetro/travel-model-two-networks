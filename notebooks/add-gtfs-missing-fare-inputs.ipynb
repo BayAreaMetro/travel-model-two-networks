{
 "cells": [
  {
   "cell_type": "markdown",
   "metadata": {},
   "source": [
    "# This notebook adds the manually created missing fare inputs in GTFS format"
   ]
  },
  {
   "cell_type": "markdown",
   "metadata": {},
   "source": [
    "The missing fare include:\n",
    "1. GG Transit\n",
    "2. AC Transit\n",
    "3. CCTA 3 routes\n",
    "4. Marguerite\n",
    "5. SF Bay Ferry\n",
    "6. Muni 1 route\n",
    "7. TriDelta\n",
    "8. Napa VINE\n",
    "9. Wheels\n",
    "\n",
    "and correction to VTA fare."
   ]
  },
  {
   "cell_type": "code",
   "execution_count": 1,
   "metadata": {},
   "outputs": [],
   "source": [
    "import os\n",
    "import sys\n",
    "import yaml\n",
    "import pickle\n",
    "import glob\n",
    "\n",
    "import pandas as pd\n",
    "\n",
    "from network_wrangler import RoadwayNetwork\n",
    "from network_wrangler import TransitNetwork\n",
    "from network_wrangler import ProjectCard\n",
    "from network_wrangler import Scenario\n",
    "from network_wrangler import WranglerLogger\n",
    "\n",
    "from lasso import ModelRoadwayNetwork\n",
    "from lasso import StandardTransit\n",
    "from lasso import Parameters\n",
    "from lasso import mtc"
   ]
  },
  {
   "cell_type": "code",
   "execution_count": 2,
   "metadata": {},
   "outputs": [],
   "source": [
    "%load_ext autoreload\n",
    "%autoreload 2"
   ]
  },
  {
   "cell_type": "code",
   "execution_count": 3,
   "metadata": {},
   "outputs": [],
   "source": [
    "import logging\n",
    "logger = logging.getLogger(\"WranglerLogger\")\n",
    "logger.handlers[0].stream = sys.stdout\n",
    "logger.setLevel(logging.INFO)"
   ]
  },
  {
   "cell_type": "code",
   "execution_count": 4,
   "metadata": {},
   "outputs": [],
   "source": [
    "# where user has Lasso installed\n",
    "lasso_dir = \"Z:/Data/Users/Sijia/MTC/github/Lasso\" \n",
    "\n",
    "input_dir = \"../data\"\n",
    "input_dir = \"D:/github/travel-model-two-networks/data\"\n",
    "output_dir = os.path.join(input_dir, \"interim\", \"step6_gtfs\")"
   ]
  },
  {
   "cell_type": "code",
   "execution_count": 5,
   "metadata": {},
   "outputs": [
    {
     "name": "stdout",
     "output_type": "stream",
     "text": [
      "2021-02-26 12:33:30, INFO: Lasso base directory set as: Z:/Data/Users/Sijia/MTC/github/Lasso\n",
      "2021-02-26 12:33:30, INFO: Lasso base directory set as: Z:/Data/Users/Sijia/MTC/github/Lasso\n",
      "2021-02-26 12:33:30, INFO: Lasso base directory set as: Z:/Data/Users/Sijia/MTC/github/Lasso\n",
      "2021-02-26 12:33:30, INFO: Lasso base directory set as: Z:/Data/Users/Sijia/MTC/github/Lasso\n"
     ]
    }
   ],
   "source": [
    "parameters = Parameters(lasso_base_dir = lasso_dir)"
   ]
  },
  {
   "cell_type": "markdown",
   "metadata": {},
   "source": [
    "# read transit net"
   ]
  },
  {
   "cell_type": "code",
   "execution_count": 6,
   "metadata": {},
   "outputs": [
    {
     "name": "stdout",
     "output_type": "stream",
     "text": [
      "2021-02-26 12:33:31, INFO: Read in transit feed from: D:/github/travel-model-two-networks/data\\processed\\version_03\n",
      "2021-02-26 12:33:31, INFO: Read in transit feed from: D:/github/travel-model-two-networks/data\\processed\\version_03\n",
      "2021-02-26 12:33:31, INFO: Removing calendar.txt from transit network config because file not found\n",
      "2021-02-26 12:33:31, INFO: Removing calendar.txt from transit network config because file not found\n",
      "2021-02-26 12:33:31, INFO: Removing calendar_dates.txt from transit network config because file not found\n",
      "2021-02-26 12:33:31, INFO: Removing calendar_dates.txt from transit network config because file not found\n",
      "2021-02-26 12:33:34, INFO: Removing transfers.txt from transit network config because file not found\n",
      "2021-02-26 12:33:34, INFO: Removing transfers.txt from transit network config because file not found\n",
      "2021-02-26 12:33:34, INFO: Removing feed_info.txt from transit network config because file not found\n",
      "2021-02-26 12:33:34, INFO: Removing feed_info.txt from transit network config because file not found\n",
      "2021-02-26 12:33:34, WARNING: The following stop_ids from are referenced but missing from stops.txt: ['ctsc', 'place_PSOT', 'place_HRSH', 'place_12BD', 'place_14BD', 'ctssf', 'ctmh', 'ctba', 'ctmv', 'ctsmar', 'ctsmat', 'place_HIWY', 'ctcap', 'ctsj', 'place_CCCO', 'place_SNCO', 'place_4SSP', 'place_BNTE', 'ctrwc', 'place_NAMO', 'ctbe', 'ctsb', 'place_SMSE', 'ctsa', 'place_CSSH', 'place_MBLS', 'place_BYBA', 'place_SHBA', 'ctgi', 'ctbl', 'ct22', 'place_90MA', 'place_ROBA', 'ctta', 'cthi', 'place_HBBA', 'place_HPNR', 'place_CHCO', 'place_NEPA', 'ctca', 'place_CBBA', 'place_DBBA', 'place_CVBA', 'place_EBBA', 'ctpa', 'place_FVMA', 'ctco', 'place_PAHE', 'place_SHDF', 'place_WOBA', 'place_FBBA', 'ctscl', 'place_TAPI', 'place_MOME', 'ctbu', 'place_BDBL', 'ctla', 'ctha', 'ctsf', 'place_FRBA', 'place_ETSF', 'ctmp', 'ctmi', 'ctsu', 'place_11BD', 'place_11JE']\n",
      "2021-02-26 12:33:34, WARNING: The following stop_ids from are referenced but missing from stops.txt: ['ctsc', 'place_PSOT', 'place_HRSH', 'place_12BD', 'place_14BD', 'ctssf', 'ctmh', 'ctba', 'ctmv', 'ctsmar', 'ctsmat', 'place_HIWY', 'ctcap', 'ctsj', 'place_CCCO', 'place_SNCO', 'place_4SSP', 'place_BNTE', 'ctrwc', 'place_NAMO', 'ctbe', 'ctsb', 'place_SMSE', 'ctsa', 'place_CSSH', 'place_MBLS', 'place_BYBA', 'place_SHBA', 'ctgi', 'ctbl', 'ct22', 'place_90MA', 'place_ROBA', 'ctta', 'cthi', 'place_HBBA', 'place_HPNR', 'place_CHCO', 'place_NEPA', 'ctca', 'place_CBBA', 'place_DBBA', 'place_CVBA', 'place_EBBA', 'ctpa', 'place_FVMA', 'ctco', 'place_PAHE', 'place_SHDF', 'place_WOBA', 'place_FBBA', 'ctscl', 'place_TAPI', 'place_MOME', 'ctbu', 'place_BDBL', 'ctla', 'ctha', 'ctsf', 'place_FRBA', 'place_ETSF', 'ctmp', 'ctmi', 'ctsu', 'place_11BD', 'place_11JE']\n"
     ]
    }
   ],
   "source": [
    "transit_net = TransitNetwork.read(\n",
    "    feed_path = os.path.join(input_dir, \"processed\", \"version_03\")\n",
    ")"
   ]
  },
  {
   "cell_type": "markdown",
   "metadata": {},
   "source": [
    "# read 2015 existing GTFS fare files"
   ]
  },
  {
   "cell_type": "code",
   "execution_count": 7,
   "metadata": {},
   "outputs": [],
   "source": [
    "fare_attributes_df = pd.read_csv(\n",
    "    os.path.join(input_dir,\"interim\",\"step6_gtfs\",\"consolidated_gtfs_input\",\"fare_attributes.txt\"))\n",
    "fare_rules_df = pd.read_csv(\n",
    "    os.path.join(input_dir,\"interim\",\"step6_gtfs\",\"consolidated_gtfs_input\",\"fare_rules.txt\"))"
   ]
  },
  {
   "cell_type": "code",
   "execution_count": 8,
   "metadata": {},
   "outputs": [
    {
     "name": "stdout",
     "output_type": "stream",
     "text": [
      "<class 'pandas.core.frame.DataFrame'>\n",
      "RangeIndex: 742 entries, 0 to 741\n",
      "Data columns (total 8 columns):\n",
      "fare_id              742 non-null object\n",
      "price                742 non-null float64\n",
      "currency_type        742 non-null object\n",
      "payment_method       742 non-null int64\n",
      "transfers            44 non-null object\n",
      "transfer_duration    264 non-null float64\n",
      "agency_raw_name      742 non-null object\n",
      "agency_id            250 non-null float64\n",
      "dtypes: float64(3), int64(1), object(4)\n",
      "memory usage: 46.5+ KB\n"
     ]
    }
   ],
   "source": [
    "fare_attributes_df.info()"
   ]
  },
  {
   "cell_type": "code",
   "execution_count": 9,
   "metadata": {},
   "outputs": [
    {
     "name": "stdout",
     "output_type": "stream",
     "text": [
      "<class 'pandas.core.frame.DataFrame'>\n",
      "RangeIndex: 3250 entries, 0 to 3249\n",
      "Data columns (total 7 columns):\n",
      "fare_id              3250 non-null object\n",
      "route_id_original    646 non-null object\n",
      "agency_raw_name      3250 non-null object\n",
      "origin_id            2818 non-null object\n",
      "destination_id       2818 non-null object\n",
      "contains_id          19 non-null object\n",
      "route_id             538 non-null float64\n",
      "dtypes: float64(1), object(6)\n",
      "memory usage: 177.9+ KB\n"
     ]
    }
   ],
   "source": [
    "fare_rules_df.info()"
   ]
  },
  {
   "cell_type": "code",
   "execution_count": 10,
   "metadata": {},
   "outputs": [
    {
     "data": {
      "text/plain": [
       "ACE_2017_3_20                                     17\n",
       "BART_2015_8_3                                    152\n",
       "Blue&Gold_gtfs_10_4_2017                           3\n",
       "CCTA_2015_8_11                                     3\n",
       "Caltrain_2015_5_13                                 7\n",
       "Capitol_2017_3_20                                290\n",
       "Emeryville_2016_10_26                              1\n",
       "Fairfield_2015_10_14                               3\n",
       "MVGo_2016_10_26                                    1\n",
       "MarinTransit_2015_8_31                             2\n",
       "RioVista_2015_8_20                                 2\n",
       "SFMTA_2015_8_11                                    2\n",
       "SamTrans_2015_8_20                                 4\n",
       "SantaRosa_google_transit_08_28_15                  1\n",
       "Soltrans_2016_5_20                                 2\n",
       "SonomaCounty_2015_8_18                           237\n",
       "Union_City_Transit_Aug-01-2015 to Jun-30-2017      1\n",
       "VTA_2015_8_27                                     10\n",
       "petalumatransit-petaluma-ca-us__11_12_15           1\n",
       "vacavillecitycoach-2020-ca-us                      1\n",
       "westcat-ca-us_9_17_2015                            2\n",
       "Name: agency_raw_name, dtype: int64"
      ]
     },
     "execution_count": 10,
     "metadata": {},
     "output_type": "execute_result"
    }
   ],
   "source": [
    "fare_attributes_df.agency_raw_name.value_counts().sort_index()"
   ]
  },
  {
   "cell_type": "code",
   "execution_count": 11,
   "metadata": {},
   "outputs": [
    {
     "data": {
      "text/plain": [
       "ACE_2017_3_20                                 17\n",
       "BART_2015_8_3                               2025\n",
       "Blue&Gold_gtfs_10_4_2017                       3\n",
       "CCTA_2015_8_11                               102\n",
       "Caltrain_2015_5_13                           109\n",
       "Capitol_2017_3_20                            290\n",
       "Fairfield_2015_10_14                          33\n",
       "MarinTransit_2015_8_31                        19\n",
       "RioVista_2015_8_20                             4\n",
       "SFMTA_2015_8_11                               83\n",
       "SamTrans_2015_8_20                            86\n",
       "Soltrans_2016_5_20                            14\n",
       "SonomaCounty_2015_8_18                       237\n",
       "VTA_2015_8_27                                212\n",
       "petalumatransit-petaluma-ca-us__11_12_15       1\n",
       "westcat-ca-us_9_17_2015                       15\n",
       "Name: agency_raw_name, dtype: int64"
      ]
     },
     "execution_count": 11,
     "metadata": {},
     "output_type": "execute_result"
    }
   ],
   "source": [
    "fare_rules_df.agency_raw_name.value_counts().sort_index()"
   ]
  },
  {
   "cell_type": "markdown",
   "metadata": {},
   "source": [
    "# drop special fare in VTA"
   ]
  },
  {
   "cell_type": "code",
   "execution_count": 12,
   "metadata": {},
   "outputs": [],
   "source": [
    "vta_fare_rules_df = pd.read_csv(\n",
    "    os.path.join(input_dir,\"external\",\"gtfs\",\"add_fare\",\"VTA_fare\",\"fare_rules.txt\")\n",
    ")\n",
    "\n",
    "vta_fare_attributes_df = pd.read_csv(\n",
    "    os.path.join(input_dir,\"external\",\"gtfs\",\"add_fare\",\"VTA_fare\",\"fare_attributes.txt\")\n",
    ")\n",
    "\n",
    "vta_fare_rules_df[\"agency_raw_name\"] = \"VTA_2015_8_27\"\n",
    "vta_fare_attributes_df[\"agency_raw_name\"] = \"VTA_2015_8_27\""
   ]
  },
  {
   "cell_type": "code",
   "execution_count": 13,
   "metadata": {},
   "outputs": [],
   "source": [
    "fare_rules_df = pd.concat(\n",
    "    [\n",
    "        fare_rules_df[fare_rules_df.agency_raw_name != \"VTA_2015_8_27\"],\n",
    "        vta_fare_rules_df\n",
    "    ],\n",
    "    sort = False,\n",
    "    ignore_index = True\n",
    ")\n",
    "\n",
    "fare_attributes_df = pd.concat(\n",
    "    [\n",
    "        fare_attributes_df[fare_attributes_df.agency_raw_name!=\"VTA_2015_8_27\"],\n",
    "        vta_fare_attributes_df\n",
    "    ],\n",
    "    sort = False,\n",
    "    ignore_index = True\n",
    ")"
   ]
  },
  {
   "cell_type": "code",
   "execution_count": 14,
   "metadata": {},
   "outputs": [
    {
     "name": "stdout",
     "output_type": "stream",
     "text": [
      "<class 'pandas.core.frame.DataFrame'>\n",
      "RangeIndex: 735 entries, 0 to 734\n",
      "Data columns (total 8 columns):\n",
      "fare_id              735 non-null object\n",
      "price                735 non-null float64\n",
      "currency_type        735 non-null object\n",
      "payment_method       732 non-null float64\n",
      "transfers            40 non-null object\n",
      "transfer_duration    262 non-null float64\n",
      "agency_raw_name      735 non-null object\n",
      "agency_id            250 non-null float64\n",
      "dtypes: float64(4), object(4)\n",
      "memory usage: 46.1+ KB\n"
     ]
    }
   ],
   "source": [
    "fare_attributes_df.info()"
   ]
  },
  {
   "cell_type": "code",
   "execution_count": 15,
   "metadata": {},
   "outputs": [
    {
     "name": "stdout",
     "output_type": "stream",
     "text": [
      "<class 'pandas.core.frame.DataFrame'>\n",
      "RangeIndex: 3129 entries, 0 to 3128\n",
      "Data columns (total 7 columns):\n",
      "fare_id              3129 non-null object\n",
      "route_id_original    434 non-null object\n",
      "agency_raw_name      3129 non-null object\n",
      "origin_id            2818 non-null object\n",
      "destination_id       2818 non-null object\n",
      "contains_id          19 non-null object\n",
      "route_id             446 non-null float64\n",
      "dtypes: float64(1), object(6)\n",
      "memory usage: 171.2+ KB\n"
     ]
    }
   ],
   "source": [
    "fare_rules_df.info()"
   ]
  },
  {
   "cell_type": "markdown",
   "metadata": {},
   "source": [
    "# add GG Transit"
   ]
  },
  {
   "cell_type": "code",
   "execution_count": 17,
   "metadata": {},
   "outputs": [],
   "source": [
    "ggtransit_fare_df = pd.read_csv(\n",
    "    os.path.join(input_dir,\"external\",\"gtfs\",\"add_fare\",\"GGTransit_fare\",\"fare.txt\")\n",
    ")"
   ]
  },
  {
   "cell_type": "code",
   "execution_count": 18,
   "metadata": {},
   "outputs": [
    {
     "data": {
      "text/html": [
       "<div>\n",
       "<style scoped>\n",
       "    .dataframe tbody tr th:only-of-type {\n",
       "        vertical-align: middle;\n",
       "    }\n",
       "\n",
       "    .dataframe tbody tr th {\n",
       "        vertical-align: top;\n",
       "    }\n",
       "\n",
       "    .dataframe thead th {\n",
       "        text-align: right;\n",
       "    }\n",
       "</style>\n",
       "<table border=\"1\" class=\"dataframe\">\n",
       "  <thead>\n",
       "    <tr style=\"text-align: right;\">\n",
       "      <th></th>\n",
       "      <th>bus zone</th>\n",
       "      <th>1</th>\n",
       "      <th>2</th>\n",
       "      <th>3</th>\n",
       "      <th>4</th>\n",
       "      <th>5</th>\n",
       "      <th>6</th>\n",
       "      <th>7</th>\n",
       "    </tr>\n",
       "  </thead>\n",
       "  <tbody>\n",
       "    <tr>\n",
       "      <th>0</th>\n",
       "      <td>1</td>\n",
       "      <td>4.75</td>\n",
       "      <td>5.25</td>\n",
       "      <td>6.50</td>\n",
       "      <td>7.75</td>\n",
       "      <td>11.25</td>\n",
       "      <td>12.50</td>\n",
       "      <td>9.75</td>\n",
       "    </tr>\n",
       "    <tr>\n",
       "      <th>1</th>\n",
       "      <td>2</td>\n",
       "      <td>5.25</td>\n",
       "      <td>2.00</td>\n",
       "      <td>2.00</td>\n",
       "      <td>2.00</td>\n",
       "      <td>7.75</td>\n",
       "      <td>9.25</td>\n",
       "      <td>5.25</td>\n",
       "    </tr>\n",
       "    <tr>\n",
       "      <th>2</th>\n",
       "      <td>3</td>\n",
       "      <td>6.50</td>\n",
       "      <td>2.00</td>\n",
       "      <td>2.00</td>\n",
       "      <td>2.00</td>\n",
       "      <td>6.50</td>\n",
       "      <td>7.75</td>\n",
       "      <td>5.25</td>\n",
       "    </tr>\n",
       "    <tr>\n",
       "      <th>3</th>\n",
       "      <td>4</td>\n",
       "      <td>7.75</td>\n",
       "      <td>2.00</td>\n",
       "      <td>2.00</td>\n",
       "      <td>2.00</td>\n",
       "      <td>5.25</td>\n",
       "      <td>6.50</td>\n",
       "      <td>5.25</td>\n",
       "    </tr>\n",
       "    <tr>\n",
       "      <th>4</th>\n",
       "      <td>5</td>\n",
       "      <td>11.25</td>\n",
       "      <td>7.75</td>\n",
       "      <td>6.50</td>\n",
       "      <td>5.25</td>\n",
       "      <td>4.75</td>\n",
       "      <td>4.75</td>\n",
       "      <td>9.75</td>\n",
       "    </tr>\n",
       "    <tr>\n",
       "      <th>5</th>\n",
       "      <td>6</td>\n",
       "      <td>12.50</td>\n",
       "      <td>9.25</td>\n",
       "      <td>7.75</td>\n",
       "      <td>6.50</td>\n",
       "      <td>4.75</td>\n",
       "      <td>4.75</td>\n",
       "      <td>9.75</td>\n",
       "    </tr>\n",
       "    <tr>\n",
       "      <th>6</th>\n",
       "      <td>7</td>\n",
       "      <td>9.75</td>\n",
       "      <td>5.25</td>\n",
       "      <td>5.25</td>\n",
       "      <td>5.25</td>\n",
       "      <td>9.75</td>\n",
       "      <td>9.75</td>\n",
       "      <td>4.75</td>\n",
       "    </tr>\n",
       "  </tbody>\n",
       "</table>\n",
       "</div>"
      ],
      "text/plain": [
       "   bus zone      1     2     3     4      5      6     7\n",
       "0         1   4.75  5.25  6.50  7.75  11.25  12.50  9.75\n",
       "1         2   5.25  2.00  2.00  2.00   7.75   9.25  5.25\n",
       "2         3   6.50  2.00  2.00  2.00   6.50   7.75  5.25\n",
       "3         4   7.75  2.00  2.00  2.00   5.25   6.50  5.25\n",
       "4         5  11.25  7.75  6.50  5.25   4.75   4.75  9.75\n",
       "5         6  12.50  9.25  7.75  6.50   4.75   4.75  9.75\n",
       "6         7   9.75  5.25  5.25  5.25   9.75   9.75  4.75"
      ]
     },
     "execution_count": 18,
     "metadata": {},
     "output_type": "execute_result"
    }
   ],
   "source": [
    "ggtransit_fare_df"
   ]
  },
  {
   "cell_type": "code",
   "execution_count": 19,
   "metadata": {},
   "outputs": [],
   "source": [
    "ggtransit_fare_df = pd.melt(ggtransit_fare_df, \n",
    "                            id_vars=['bus zone'], \n",
    "                            value_vars=[\"1\",\"2\",\"3\",\"4\",\"5\",\"6\",\"7\"],\n",
    "                            var_name='destination_id', \n",
    "                            value_name=\"price\")\n",
    "\n",
    "ggtransit_fare_df.rename(columns = {\"bus zone\" : \"origin_id\"},\n",
    "                         inplace = True)\n",
    "\n",
    "ggtransit_fare_df[\"fare_id\"] = range(1, 1+len(ggtransit_fare_df))\n",
    "\n",
    "ggtransit_fare_df[\"agency_raw_name\"] = \"GGTransit_2015_9_3\""
   ]
  },
  {
   "cell_type": "code",
   "execution_count": 20,
   "metadata": {},
   "outputs": [],
   "source": [
    "fare_attributes_df = pd.concat(\n",
    "    [\n",
    "        fare_attributes_df,\n",
    "        ggtransit_fare_df[[\"fare_id\", \"price\", \"agency_raw_name\"]]\n",
    "    ],\n",
    "    sort = False,\n",
    "    ignore_index = True\n",
    ")\n",
    "\n",
    "fare_rules_df = pd.concat(\n",
    "    [\n",
    "        fare_rules_df,\n",
    "        ggtransit_fare_df[\n",
    "            [\"fare_id\", \"origin_id\", \"destination_id\", \"agency_raw_name\"]]\n",
    "    ],\n",
    "    sort = False,\n",
    "    ignore_index = True\n",
    ")"
   ]
  },
  {
   "cell_type": "code",
   "execution_count": 21,
   "metadata": {},
   "outputs": [
    {
     "name": "stdout",
     "output_type": "stream",
     "text": [
      "<class 'pandas.core.frame.DataFrame'>\n",
      "RangeIndex: 784 entries, 0 to 783\n",
      "Data columns (total 8 columns):\n",
      "fare_id              784 non-null object\n",
      "price                784 non-null float64\n",
      "currency_type        735 non-null object\n",
      "payment_method       732 non-null float64\n",
      "transfers            40 non-null object\n",
      "transfer_duration    262 non-null float64\n",
      "agency_raw_name      784 non-null object\n",
      "agency_id            250 non-null float64\n",
      "dtypes: float64(4), object(4)\n",
      "memory usage: 49.1+ KB\n"
     ]
    }
   ],
   "source": [
    "fare_attributes_df.info()"
   ]
  },
  {
   "cell_type": "code",
   "execution_count": 22,
   "metadata": {},
   "outputs": [
    {
     "name": "stdout",
     "output_type": "stream",
     "text": [
      "<class 'pandas.core.frame.DataFrame'>\n",
      "RangeIndex: 3178 entries, 0 to 3177\n",
      "Data columns (total 7 columns):\n",
      "fare_id              3178 non-null object\n",
      "route_id_original    434 non-null object\n",
      "agency_raw_name      3178 non-null object\n",
      "origin_id            2867 non-null object\n",
      "destination_id       2867 non-null object\n",
      "contains_id          19 non-null object\n",
      "route_id             446 non-null float64\n",
      "dtypes: float64(1), object(6)\n",
      "memory usage: 173.9+ KB\n"
     ]
    }
   ],
   "source": [
    "fare_rules_df.info()"
   ]
  },
  {
   "cell_type": "markdown",
   "metadata": {},
   "source": [
    "# add AC Transit"
   ]
  },
  {
   "cell_type": "code",
   "execution_count": 23,
   "metadata": {},
   "outputs": [],
   "source": [
    "actransit_fare_rules_df = pd.read_csv(\n",
    "    os.path.join(input_dir,\"external\",\"gtfs\",\"add_fare\",\"ACTransit_fare\",\"fare_rules.txt\")\n",
    ")\n",
    "\n",
    "actransit_fare_attributes_df = pd.read_csv(\n",
    "    os.path.join(input_dir,\"external\",\"gtfs\",\"add_fare\",\"ACTransit_fare\",\"fare_attributes.txt\")\n",
    ")\n",
    "\n",
    "actransit_fare_rules_df[\"agency_raw_name\"] = \"ACTransit_2015_8_14\"\n",
    "actransit_fare_attributes_df[\"agency_raw_name\"] = \"ACTransit_2015_8_14\""
   ]
  },
  {
   "cell_type": "code",
   "execution_count": 24,
   "metadata": {},
   "outputs": [],
   "source": [
    "actransit_fare_rules_df.rename(columns = {\"route_id\":\"route_id_original\"},\n",
    "                               inplace = True)\n",
    "\n",
    "actransit_fare_rules_df = pd.merge(\n",
    "    actransit_fare_rules_df,\n",
    "    transit_net.feed.routes[[\"route_id_original\", \"route_id\", \"agency_raw_name\"]],\n",
    "    how = \"left\",\n",
    "    on = [\"route_id_original\", \"agency_raw_name\"]\n",
    ")"
   ]
  },
  {
   "cell_type": "code",
   "execution_count": 25,
   "metadata": {},
   "outputs": [],
   "source": [
    "fare_attributes_df = pd.concat(\n",
    "    [\n",
    "        fare_attributes_df,\n",
    "        actransit_fare_attributes_df\n",
    "    ],\n",
    "    sort = False,\n",
    "    ignore_index = True\n",
    ")\n",
    "\n",
    "fare_rules_df = pd.concat(\n",
    "    [\n",
    "        fare_rules_df,\n",
    "        actransit_fare_rules_df\n",
    "    ],\n",
    "    sort = False,\n",
    "    ignore_index = True\n",
    ")"
   ]
  },
  {
   "cell_type": "code",
   "execution_count": 26,
   "metadata": {},
   "outputs": [
    {
     "name": "stdout",
     "output_type": "stream",
     "text": [
      "<class 'pandas.core.frame.DataFrame'>\n",
      "RangeIndex: 786 entries, 0 to 785\n",
      "Data columns (total 8 columns):\n",
      "fare_id              786 non-null object\n",
      "price                786 non-null float64\n",
      "currency_type        737 non-null object\n",
      "payment_method       732 non-null float64\n",
      "transfers            40 non-null object\n",
      "transfer_duration    262 non-null float64\n",
      "agency_raw_name      786 non-null object\n",
      "agency_id            250 non-null float64\n",
      "dtypes: float64(4), object(4)\n",
      "memory usage: 49.2+ KB\n",
      "<class 'pandas.core.frame.DataFrame'>\n",
      "RangeIndex: 3333 entries, 0 to 3332\n",
      "Data columns (total 7 columns):\n",
      "fare_id              3333 non-null object\n",
      "route_id_original    589 non-null object\n",
      "agency_raw_name      3333 non-null object\n",
      "origin_id            2867 non-null object\n",
      "destination_id       2867 non-null object\n",
      "contains_id          19 non-null object\n",
      "route_id             598 non-null object\n",
      "dtypes: object(7)\n",
      "memory usage: 182.4+ KB\n"
     ]
    }
   ],
   "source": [
    "fare_attributes_df.info()\n",
    "fare_rules_df.info()"
   ]
  },
  {
   "cell_type": "markdown",
   "metadata": {},
   "source": [
    "# add SF Bay Ferry"
   ]
  },
  {
   "cell_type": "code",
   "execution_count": 27,
   "metadata": {},
   "outputs": [],
   "source": [
    "sfbay_fare_rules_df = pd.read_csv(\n",
    "    os.path.join(input_dir,\"external\",\"gtfs\",\"add_fare\",\"SF_Bay_ferry_fare\",\"fare_rules.txt\"),\n",
    "    dtype = {\"route_id\":\"str\"}\n",
    ")\n",
    "\n",
    "sfbay_fare_attributes_df = pd.read_csv(\n",
    "    os.path.join(input_dir,\"external\",\"gtfs\",\"add_fare\",\"SF_Bay_ferry_fare\",\"fare_attributes.txt\")\n",
    ")\n",
    "\n",
    "sfbay_fare_rules_df[\"agency_raw_name\"] = \"SF_Bay_Ferry2016_07_01\"\n",
    "sfbay_fare_attributes_df[\"agency_raw_name\"] = \"SF_Bay_Ferry2016_07_01\""
   ]
  },
  {
   "cell_type": "code",
   "execution_count": 28,
   "metadata": {},
   "outputs": [],
   "source": [
    "sfbay_fare_rules_df.rename(columns = {\"route_id\":\"route_id_original\"},\n",
    "                           inplace = True)\n",
    "\n",
    "sfbay_fare_rules_df = pd.merge(\n",
    "    sfbay_fare_rules_df,\n",
    "    transit_net.feed.routes[[\"route_id_original\", \"route_id\", \"agency_raw_name\"]],\n",
    "    how = \"left\",\n",
    "    on = [\"route_id_original\", \"agency_raw_name\"]\n",
    ")"
   ]
  },
  {
   "cell_type": "code",
   "execution_count": 29,
   "metadata": {},
   "outputs": [],
   "source": [
    "fare_attributes_df = pd.concat(\n",
    "    [\n",
    "        fare_attributes_df,\n",
    "        sfbay_fare_attributes_df\n",
    "    ],\n",
    "    sort = False,\n",
    "    ignore_index = True\n",
    ")\n",
    "\n",
    "fare_rules_df = pd.concat(\n",
    "    [\n",
    "        fare_rules_df,\n",
    "        sfbay_fare_rules_df\n",
    "    ],\n",
    "    sort = False,\n",
    "    ignore_index = True\n",
    ")"
   ]
  },
  {
   "cell_type": "code",
   "execution_count": 30,
   "metadata": {},
   "outputs": [
    {
     "name": "stdout",
     "output_type": "stream",
     "text": [
      "<class 'pandas.core.frame.DataFrame'>\n",
      "RangeIndex: 792 entries, 0 to 791\n",
      "Data columns (total 8 columns):\n",
      "fare_id              792 non-null object\n",
      "price                792 non-null float64\n",
      "currency_type        743 non-null object\n",
      "payment_method       738 non-null float64\n",
      "transfers            46 non-null object\n",
      "transfer_duration    262 non-null float64\n",
      "agency_raw_name      792 non-null object\n",
      "agency_id            250 non-null float64\n",
      "dtypes: float64(4), object(4)\n",
      "memory usage: 49.6+ KB\n",
      "<class 'pandas.core.frame.DataFrame'>\n",
      "RangeIndex: 3339 entries, 0 to 3338\n",
      "Data columns (total 7 columns):\n",
      "fare_id              3339 non-null object\n",
      "route_id_original    595 non-null object\n",
      "agency_raw_name      3339 non-null object\n",
      "origin_id            2867 non-null object\n",
      "destination_id       2867 non-null object\n",
      "contains_id          19 non-null object\n",
      "route_id             602 non-null object\n",
      "dtypes: object(7)\n",
      "memory usage: 182.7+ KB\n"
     ]
    }
   ],
   "source": [
    "fare_attributes_df.info()\n",
    "fare_rules_df.info()"
   ]
  },
  {
   "cell_type": "markdown",
   "metadata": {},
   "source": [
    "# add marguerite fare"
   ]
  },
  {
   "cell_type": "code",
   "execution_count": 31,
   "metadata": {},
   "outputs": [],
   "source": [
    "marguerite_fare_attributes_df = pd.DataFrame(\n",
    "    data = {\"fare_id\" : [1], \"price\" : [0], \"agency_raw_name\" : \"Marguerite_2016_10_10\"}\n",
    ")"
   ]
  },
  {
   "cell_type": "code",
   "execution_count": 32,
   "metadata": {},
   "outputs": [
    {
     "data": {
      "text/html": [
       "<div>\n",
       "<style scoped>\n",
       "    .dataframe tbody tr th:only-of-type {\n",
       "        vertical-align: middle;\n",
       "    }\n",
       "\n",
       "    .dataframe tbody tr th {\n",
       "        vertical-align: top;\n",
       "    }\n",
       "\n",
       "    .dataframe thead th {\n",
       "        text-align: right;\n",
       "    }\n",
       "</style>\n",
       "<table border=\"1\" class=\"dataframe\">\n",
       "  <thead>\n",
       "    <tr style=\"text-align: right;\">\n",
       "      <th></th>\n",
       "      <th>fare_id</th>\n",
       "      <th>price</th>\n",
       "      <th>agency_raw_name</th>\n",
       "    </tr>\n",
       "  </thead>\n",
       "  <tbody>\n",
       "    <tr>\n",
       "      <th>0</th>\n",
       "      <td>1</td>\n",
       "      <td>0</td>\n",
       "      <td>Marguerite_2016_10_10</td>\n",
       "    </tr>\n",
       "  </tbody>\n",
       "</table>\n",
       "</div>"
      ],
      "text/plain": [
       "   fare_id  price        agency_raw_name\n",
       "0        1      0  Marguerite_2016_10_10"
      ]
     },
     "execution_count": 32,
     "metadata": {},
     "output_type": "execute_result"
    }
   ],
   "source": [
    "marguerite_fare_attributes_df"
   ]
  },
  {
   "cell_type": "code",
   "execution_count": 33,
   "metadata": {},
   "outputs": [],
   "source": [
    "fare_attributes_df = pd.concat(\n",
    "    [\n",
    "        fare_attributes_df,\n",
    "        marguerite_fare_attributes_df\n",
    "    ],\n",
    "    sort = False,\n",
    "    ignore_index = True\n",
    ")"
   ]
  },
  {
   "cell_type": "markdown",
   "metadata": {},
   "source": [
    "# add TriDelta fare"
   ]
  },
  {
   "cell_type": "code",
   "execution_count": 34,
   "metadata": {},
   "outputs": [],
   "source": [
    "tridelta_fare_rules_df = pd.read_csv(\n",
    "    os.path.join(input_dir,\"external\",\"gtfs\",\"add_fare\",\"TriDelta_fare\",\"fare_rules.txt\"),\n",
    "    dtype = {\"route_id\":\"str\"}\n",
    ")\n",
    "\n",
    "tridelta_fare_attributes_df = pd.read_csv(\n",
    "    os.path.join(input_dir,\"external\",\"gtfs\",\"add_fare\",\"TriDelta_fare\",\"fare_attributes.txt\")\n",
    ")\n",
    "\n",
    "tridelta_fare_rules_df[\"agency_raw_name\"] = \"TriDelta-GTFS-2018-05-24_21-43-17\"\n",
    "tridelta_fare_attributes_df[\"agency_raw_name\"] = \"TriDelta-GTFS-2018-05-24_21-43-17\""
   ]
  },
  {
   "cell_type": "code",
   "execution_count": 35,
   "metadata": {},
   "outputs": [],
   "source": [
    "tridelta_fare_rules_df.rename(columns = {\"route_id\":\"route_id_original\"},\n",
    "                           inplace = True)\n",
    "\n",
    "tridelta_fare_rules_df = pd.merge(\n",
    "    tridelta_fare_rules_df,\n",
    "    transit_net.feed.routes[[\"route_id_original\", \"route_id\", \"agency_raw_name\"]],\n",
    "    how = \"left\",\n",
    "    on = [\"route_id_original\", \"agency_raw_name\"]\n",
    ")"
   ]
  },
  {
   "cell_type": "code",
   "execution_count": 36,
   "metadata": {},
   "outputs": [
    {
     "name": "stdout",
     "output_type": "stream",
     "text": [
      "<class 'pandas.core.frame.DataFrame'>\n",
      "RangeIndex: 795 entries, 0 to 794\n",
      "Data columns (total 8 columns):\n",
      "fare_id              795 non-null object\n",
      "price                795 non-null float64\n",
      "currency_type        743 non-null object\n",
      "payment_method       738 non-null float64\n",
      "transfers            46 non-null object\n",
      "transfer_duration    262 non-null float64\n",
      "agency_raw_name      795 non-null object\n",
      "agency_id            250 non-null float64\n",
      "dtypes: float64(4), object(4)\n",
      "memory usage: 49.8+ KB\n",
      "<class 'pandas.core.frame.DataFrame'>\n",
      "RangeIndex: 3358 entries, 0 to 3357\n",
      "Data columns (total 7 columns):\n",
      "fare_id              3358 non-null object\n",
      "route_id_original    614 non-null object\n",
      "agency_raw_name      3358 non-null object\n",
      "origin_id            2867 non-null object\n",
      "destination_id       2867 non-null object\n",
      "contains_id          19 non-null object\n",
      "route_id             616 non-null object\n",
      "dtypes: object(7)\n",
      "memory usage: 183.8+ KB\n"
     ]
    }
   ],
   "source": [
    "fare_attributes_df = pd.concat(\n",
    "    [\n",
    "        fare_attributes_df,\n",
    "        tridelta_fare_attributes_df\n",
    "    ],\n",
    "    sort = False,\n",
    "    ignore_index = True\n",
    ")\n",
    "\n",
    "fare_rules_df = pd.concat(\n",
    "    [\n",
    "        fare_rules_df,\n",
    "        tridelta_fare_rules_df\n",
    "    ],\n",
    "    sort = False,\n",
    "    ignore_index = True\n",
    ")\n",
    "\n",
    "fare_attributes_df.info()\n",
    "fare_rules_df.info()"
   ]
  },
  {
   "cell_type": "markdown",
   "metadata": {},
   "source": [
    "# add Vine fare"
   ]
  },
  {
   "cell_type": "code",
   "execution_count": 37,
   "metadata": {},
   "outputs": [],
   "source": [
    "vine_fare_rules_df = pd.read_csv(\n",
    "    os.path.join(input_dir,\"external\",\"gtfs\",\"add_fare\",\"Vine_fare\",\"fare_rules.txt\"),\n",
    "    dtype = {\"route_id\":\"str\"}\n",
    ")\n",
    "\n",
    "vine_fare_attributes_df = pd.read_csv(\n",
    "    os.path.join(input_dir,\"external\",\"gtfs\",\"add_fare\",\"Vine_fare\",\"fare_attributes.txt\")\n",
    ")\n",
    "\n",
    "vine_fare_rules_df[\"agency_raw_name\"] = \"Vine_GTFS_PLUS_2015\"\n",
    "vine_fare_attributes_df[\"agency_raw_name\"] = \"Vine_GTFS_PLUS_2015\""
   ]
  },
  {
   "cell_type": "code",
   "execution_count": 38,
   "metadata": {},
   "outputs": [],
   "source": [
    "vine_fare_rules_df.rename(columns = {\"route_id\":\"route_id_original\"},\n",
    "                           inplace = True)\n",
    "\n",
    "vine_fare_rules_df = pd.merge(\n",
    "    vine_fare_rules_df,\n",
    "    transit_net.feed.routes[[\"route_id_original\", \"route_id\", \"agency_raw_name\"]],\n",
    "    how = \"left\",\n",
    "    on = [\"route_id_original\", \"agency_raw_name\"]\n",
    ")"
   ]
  },
  {
   "cell_type": "code",
   "execution_count": 39,
   "metadata": {},
   "outputs": [
    {
     "name": "stdout",
     "output_type": "stream",
     "text": [
      "<class 'pandas.core.frame.DataFrame'>\n",
      "RangeIndex: 798 entries, 0 to 797\n",
      "Data columns (total 8 columns):\n",
      "fare_id              798 non-null object\n",
      "price                798 non-null float64\n",
      "currency_type        743 non-null object\n",
      "payment_method       738 non-null float64\n",
      "transfers            46 non-null object\n",
      "transfer_duration    262 non-null float64\n",
      "agency_raw_name      798 non-null object\n",
      "agency_id            250 non-null float64\n",
      "dtypes: float64(4), object(4)\n",
      "memory usage: 50.0+ KB\n",
      "<class 'pandas.core.frame.DataFrame'>\n",
      "RangeIndex: 3371 entries, 0 to 3370\n",
      "Data columns (total 7 columns):\n",
      "fare_id              3371 non-null object\n",
      "route_id_original    627 non-null object\n",
      "agency_raw_name      3371 non-null object\n",
      "origin_id            2867 non-null object\n",
      "destination_id       2867 non-null object\n",
      "contains_id          19 non-null object\n",
      "route_id             629 non-null object\n",
      "dtypes: object(7)\n",
      "memory usage: 184.5+ KB\n"
     ]
    }
   ],
   "source": [
    "fare_attributes_df = pd.concat(\n",
    "    [\n",
    "        fare_attributes_df,\n",
    "        vine_fare_attributes_df\n",
    "    ],\n",
    "    sort = False,\n",
    "    ignore_index = True\n",
    ")\n",
    "\n",
    "fare_rules_df = pd.concat(\n",
    "    [\n",
    "        fare_rules_df,\n",
    "        vine_fare_rules_df\n",
    "    ],\n",
    "    sort = False,\n",
    "    ignore_index = True\n",
    ")\n",
    "\n",
    "fare_attributes_df.info()\n",
    "fare_rules_df.info()"
   ]
  },
  {
   "cell_type": "markdown",
   "metadata": {},
   "source": [
    "# add wheels fare"
   ]
  },
  {
   "cell_type": "code",
   "execution_count": 40,
   "metadata": {},
   "outputs": [],
   "source": [
    "wheels_fare_attributes_df = pd.DataFrame(\n",
    "    data = {\"fare_id\" : [1], \n",
    "            \"price\" : [2], \n",
    "            \"agency_raw_name\" : [\"Wheels_2016_7_13\"]}\n",
    ")"
   ]
  },
  {
   "cell_type": "code",
   "execution_count": 41,
   "metadata": {},
   "outputs": [
    {
     "data": {
      "text/html": [
       "<div>\n",
       "<style scoped>\n",
       "    .dataframe tbody tr th:only-of-type {\n",
       "        vertical-align: middle;\n",
       "    }\n",
       "\n",
       "    .dataframe tbody tr th {\n",
       "        vertical-align: top;\n",
       "    }\n",
       "\n",
       "    .dataframe thead th {\n",
       "        text-align: right;\n",
       "    }\n",
       "</style>\n",
       "<table border=\"1\" class=\"dataframe\">\n",
       "  <thead>\n",
       "    <tr style=\"text-align: right;\">\n",
       "      <th></th>\n",
       "      <th>fare_id</th>\n",
       "      <th>price</th>\n",
       "      <th>agency_raw_name</th>\n",
       "    </tr>\n",
       "  </thead>\n",
       "  <tbody>\n",
       "    <tr>\n",
       "      <th>0</th>\n",
       "      <td>1</td>\n",
       "      <td>2</td>\n",
       "      <td>Wheels_2016_7_13</td>\n",
       "    </tr>\n",
       "  </tbody>\n",
       "</table>\n",
       "</div>"
      ],
      "text/plain": [
       "   fare_id  price   agency_raw_name\n",
       "0        1      2  Wheels_2016_7_13"
      ]
     },
     "execution_count": 41,
     "metadata": {},
     "output_type": "execute_result"
    }
   ],
   "source": [
    "wheels_fare_attributes_df"
   ]
  },
  {
   "cell_type": "code",
   "execution_count": 42,
   "metadata": {},
   "outputs": [],
   "source": [
    "fare_attributes_df = pd.concat(\n",
    "    [\n",
    "        fare_attributes_df,\n",
    "        wheels_fare_attributes_df\n",
    "    ],\n",
    "    sort = False,\n",
    "    ignore_index = True\n",
    ")"
   ]
  },
  {
   "cell_type": "markdown",
   "metadata": {},
   "source": [
    "# add CCTA two routes that did not have fare in its GTFS"
   ]
  },
  {
   "cell_type": "code",
   "execution_count": 43,
   "metadata": {},
   "outputs": [],
   "source": [
    "ccta_fare_rules_df = pd.read_csv(\n",
    "    os.path.join(input_dir,\"external\",\"gtfs\",\"add_fare\",\"CCTA_fare\",\"fare_rules.txt\"),\n",
    "    dtype = {\"route_id\":\"str\"}\n",
    ")\n",
    "\n",
    "ccta_fare_attributes_df = pd.read_csv(\n",
    "    os.path.join(input_dir,\"external\",\"gtfs\",\"add_fare\",\"CCTA_fare\",\"fare_attributes.txt\")\n",
    ")\n",
    "\n",
    "ccta_fare_rules_df[\"agency_raw_name\"] = \"CCTA_2015_8_11\"\n",
    "ccta_fare_attributes_df[\"agency_raw_name\"] = \"CCTA_2015_8_11\""
   ]
  },
  {
   "cell_type": "code",
   "execution_count": 44,
   "metadata": {},
   "outputs": [],
   "source": [
    "ccta_fare_rules_df.rename(columns = {\"route_id\":\"route_id_original\"},\n",
    "                           inplace = True)\n",
    "\n",
    "ccta_fare_rules_df = pd.merge(\n",
    "    ccta_fare_rules_df,\n",
    "    transit_net.feed.routes[[\"route_id_original\", \"route_id\", \"agency_raw_name\"]],\n",
    "    how = \"left\",\n",
    "    on = [\"route_id_original\", \"agency_raw_name\"]\n",
    ")"
   ]
  },
  {
   "cell_type": "code",
   "execution_count": 45,
   "metadata": {},
   "outputs": [
    {
     "data": {
      "text/html": [
       "<div>\n",
       "<style scoped>\n",
       "    .dataframe tbody tr th:only-of-type {\n",
       "        vertical-align: middle;\n",
       "    }\n",
       "\n",
       "    .dataframe tbody tr th {\n",
       "        vertical-align: top;\n",
       "    }\n",
       "\n",
       "    .dataframe thead th {\n",
       "        text-align: right;\n",
       "    }\n",
       "</style>\n",
       "<table border=\"1\" class=\"dataframe\">\n",
       "  <thead>\n",
       "    <tr style=\"text-align: right;\">\n",
       "      <th></th>\n",
       "      <th>fare_id</th>\n",
       "      <th>route_id_original</th>\n",
       "      <th>agency_raw_name</th>\n",
       "      <th>route_id</th>\n",
       "    </tr>\n",
       "  </thead>\n",
       "  <tbody>\n",
       "    <tr>\n",
       "      <th>0</th>\n",
       "      <td>missing</td>\n",
       "      <td>14_merged_381003103</td>\n",
       "      <td>CCTA_2015_8_11</td>\n",
       "      <td>168</td>\n",
       "    </tr>\n",
       "    <tr>\n",
       "      <th>1</th>\n",
       "      <td>missing</td>\n",
       "      <td>25_merged_381003089</td>\n",
       "      <td>CCTA_2015_8_11</td>\n",
       "      <td>172</td>\n",
       "    </tr>\n",
       "    <tr>\n",
       "      <th>2</th>\n",
       "      <td>missing</td>\n",
       "      <td>26_merged_381003090</td>\n",
       "      <td>CCTA_2015_8_11</td>\n",
       "      <td>173</td>\n",
       "    </tr>\n",
       "  </tbody>\n",
       "</table>\n",
       "</div>"
      ],
      "text/plain": [
       "   fare_id    route_id_original agency_raw_name route_id\n",
       "0  missing  14_merged_381003103  CCTA_2015_8_11      168\n",
       "1  missing  25_merged_381003089  CCTA_2015_8_11      172\n",
       "2  missing  26_merged_381003090  CCTA_2015_8_11      173"
      ]
     },
     "execution_count": 45,
     "metadata": {},
     "output_type": "execute_result"
    }
   ],
   "source": [
    "ccta_fare_rules_df"
   ]
  },
  {
   "cell_type": "code",
   "execution_count": 46,
   "metadata": {},
   "outputs": [
    {
     "name": "stdout",
     "output_type": "stream",
     "text": [
      "<class 'pandas.core.frame.DataFrame'>\n",
      "RangeIndex: 800 entries, 0 to 799\n",
      "Data columns (total 8 columns):\n",
      "fare_id              800 non-null object\n",
      "price                800 non-null float64\n",
      "currency_type        743 non-null object\n",
      "payment_method       738 non-null float64\n",
      "transfers            46 non-null object\n",
      "transfer_duration    262 non-null float64\n",
      "agency_raw_name      800 non-null object\n",
      "agency_id            250 non-null float64\n",
      "dtypes: float64(4), object(4)\n",
      "memory usage: 50.1+ KB\n",
      "<class 'pandas.core.frame.DataFrame'>\n",
      "RangeIndex: 3374 entries, 0 to 3373\n",
      "Data columns (total 7 columns):\n",
      "fare_id              3374 non-null object\n",
      "route_id_original    630 non-null object\n",
      "agency_raw_name      3374 non-null object\n",
      "origin_id            2867 non-null object\n",
      "destination_id       2867 non-null object\n",
      "contains_id          19 non-null object\n",
      "route_id             632 non-null object\n",
      "dtypes: object(7)\n",
      "memory usage: 184.6+ KB\n"
     ]
    }
   ],
   "source": [
    "fare_attributes_df = pd.concat(\n",
    "    [\n",
    "        fare_attributes_df,\n",
    "        ccta_fare_attributes_df\n",
    "    ],\n",
    "    sort = False,\n",
    "    ignore_index = True\n",
    ")\n",
    "\n",
    "fare_rules_df = pd.concat(\n",
    "    [\n",
    "        fare_rules_df,\n",
    "        ccta_fare_rules_df\n",
    "    ],\n",
    "    sort = False,\n",
    "    ignore_index = True\n",
    ")\n",
    "\n",
    "fare_attributes_df.info()\n",
    "fare_rules_df.info()"
   ]
  },
  {
   "cell_type": "markdown",
   "metadata": {},
   "source": [
    "# add muni one missing bus fare"
   ]
  },
  {
   "cell_type": "code",
   "execution_count": 47,
   "metadata": {},
   "outputs": [],
   "source": [
    "sfmta_fare_rules_df = pd.read_csv(\n",
    "    os.path.join(input_dir,\"external\",\"gtfs\",\"add_fare\",\"SFMTA_fare\",\"fare_rules.txt\"),\n",
    "    dtype = {\"route_id\":\"str\"}\n",
    ")\n",
    "\n",
    "sfmta_fare_rules_df[\"agency_raw_name\"] = \"SFMTA_2015_8_11\""
   ]
  },
  {
   "cell_type": "code",
   "execution_count": 48,
   "metadata": {},
   "outputs": [
    {
     "name": "stdout",
     "output_type": "stream",
     "text": [
      "<class 'pandas.core.frame.DataFrame'>\n",
      "RangeIndex: 800 entries, 0 to 799\n",
      "Data columns (total 8 columns):\n",
      "fare_id              800 non-null object\n",
      "price                800 non-null float64\n",
      "currency_type        743 non-null object\n",
      "payment_method       738 non-null float64\n",
      "transfers            46 non-null object\n",
      "transfer_duration    262 non-null float64\n",
      "agency_raw_name      800 non-null object\n",
      "agency_id            250 non-null float64\n",
      "dtypes: float64(4), object(4)\n",
      "memory usage: 50.1+ KB\n",
      "<class 'pandas.core.frame.DataFrame'>\n",
      "RangeIndex: 3375 entries, 0 to 3374\n",
      "Data columns (total 7 columns):\n",
      "fare_id              3375 non-null object\n",
      "route_id_original    631 non-null object\n",
      "agency_raw_name      3375 non-null object\n",
      "origin_id            2867 non-null object\n",
      "destination_id       2867 non-null object\n",
      "contains_id          19 non-null object\n",
      "route_id             633 non-null object\n",
      "dtypes: object(7)\n",
      "memory usage: 184.7+ KB\n"
     ]
    }
   ],
   "source": [
    "sfmta_fare_rules_df.rename(columns = {\"route_id\":\"route_id_original\"},\n",
    "                           inplace = True)\n",
    "\n",
    "sfmta_fare_rules_df = pd.merge(\n",
    "    sfmta_fare_rules_df,\n",
    "    transit_net.feed.routes[[\"route_id_original\", \"route_id\", \"agency_raw_name\"]],\n",
    "    how = \"left\",\n",
    "    on = [\"route_id_original\", \"agency_raw_name\"]\n",
    ")\n",
    "\n",
    "fare_rules_df = pd.concat(\n",
    "    [\n",
    "        fare_rules_df,\n",
    "        sfmta_fare_rules_df\n",
    "    ],\n",
    "    sort = False,\n",
    "    ignore_index = True\n",
    ")\n",
    "\n",
    "fare_attributes_df.info()\n",
    "fare_rules_df.info()"
   ]
  },
  {
   "cell_type": "markdown",
   "metadata": {},
   "source": [
    "# write out"
   ]
  },
  {
   "cell_type": "code",
   "execution_count": 49,
   "metadata": {},
   "outputs": [],
   "source": [
    "fare_attributes_df.to_csv(os.path.join(output_dir, \"fare_attributes.txt\"),\n",
    "                          sep = \",\",\n",
    "                          index = False)\n",
    "\n",
    "fare_rules_df.to_csv(os.path.join(output_dir, \"fare_rules.txt\"),\n",
    "                          sep = \",\",\n",
    "                          index = False)"
   ]
  }
 ],
 "metadata": {
  "kernelspec": {
   "display_name": "Python 3",
   "language": "python",
   "name": "python3"
  },
  "language_info": {
   "codemirror_mode": {
    "name": "ipython",
    "version": 3
   },
   "file_extension": ".py",
   "mimetype": "text/x-python",
   "name": "python",
   "nbconvert_exporter": "python",
   "pygments_lexer": "ipython3",
   "version": "3.7.9"
  }
 },
 "nbformat": 4,
 "nbformat_minor": 4
}
