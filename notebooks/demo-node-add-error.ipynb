{
 "cells": [
  {
   "cell_type": "markdown",
   "metadata": {},
   "source": [
    "# Make Project Cards"
   ]
  },
  {
   "cell_type": "code",
   "execution_count": 19,
   "metadata": {},
   "outputs": [],
   "source": [
    "import os\n",
    "import sys\n",
    "import yaml\n",
    "import pickle\n",
    "import glob\n",
    "import copy\n",
    "\n",
    "import pandas as pd\n",
    "\n",
    "from network_wrangler import RoadwayNetwork\n",
    "from network_wrangler import TransitNetwork\n",
    "from network_wrangler import ProjectCard\n",
    "from network_wrangler import Scenario\n",
    "from network_wrangler import WranglerLogger\n",
    "\n",
    "from lasso import ModelRoadwayNetwork\n",
    "from lasso import StandardTransit\n",
    "from lasso import Parameters\n",
    "from lasso import Project\n",
    "from lasso import mtc"
   ]
  },
  {
   "cell_type": "code",
   "execution_count": 2,
   "metadata": {},
   "outputs": [],
   "source": [
    "%load_ext autoreload\n",
    "%autoreload 2"
   ]
  },
  {
   "cell_type": "code",
   "execution_count": 3,
   "metadata": {},
   "outputs": [],
   "source": [
    "import logging\n",
    "logger = logging.getLogger(\"WranglerLogger\")\n",
    "logger.handlers[0].stream = sys.stdout\n",
    "logger.setLevel(logging.INFO)"
   ]
  },
  {
   "cell_type": "markdown",
   "metadata": {},
   "source": [
    "# Remote I/O and parameters"
   ]
  },
  {
   "cell_type": "code",
   "execution_count": 4,
   "metadata": {},
   "outputs": [],
   "source": [
    "# root_dir = os.path.join('/Users', 'wsp', 'Documents', 'GitHub', 'travel-model-two-networks')\n",
    "# root_dir = \"D:/github/lfs-cleaning/travel-model-two-networks\"\n",
    "root_dir = \"D:/david_ory_github/travel-model-two-networks-data\"\n",
    "input_dir = os.path.join(root_dir, 'data', 'processed', 'version_08')\n",
    "output_dir = input_dir\n",
    "card_dir = \"D:/david_ory_github/travel-model-two-networks/project_cards\"\n",
    "lasso_dir = \"C:/Users/david.ory/Documents/github/mtc_Lasso\"\n",
    "# lasso_dir = os.path.join('/Users', 'wsp', 'Documents', 'GitHub', 'mtc-Lasso')\n",
    "# lasso_dir = \"Z:/Data/Users/Sijia/MTC/github/Lasso\""
   ]
  },
  {
   "cell_type": "code",
   "execution_count": 5,
   "metadata": {},
   "outputs": [
    {
     "name": "stdout",
     "output_type": "stream",
     "text": [
      "2021-04-14 13:28:45, INFO: Lasso base directory set as: C:/Users/david.ory/Documents/github/mtc_Lasso\n",
      "2021-04-14 13:28:45, INFO: Lasso base directory set as: C:/Users/david.ory/Documents/github/mtc_Lasso\n",
      "2021-04-14 13:28:45, INFO: Lasso base directory set as: C:/Users/david.ory/Documents/github/mtc_Lasso\n",
      "2021-04-14 13:28:45, INFO: Lasso base directory set as: C:/Users/david.ory/Documents/github/mtc_Lasso\n"
     ]
    }
   ],
   "source": [
    "parameters = Parameters(lasso_base_dir = lasso_dir)"
   ]
  },
  {
   "cell_type": "markdown",
   "metadata": {},
   "source": [
    "# Read pickle"
   ]
  },
  {
   "cell_type": "code",
   "execution_count": 6,
   "metadata": {},
   "outputs": [],
   "source": [
    "pickle_file_name = os.path.join(input_dir, 'working_scenario_01.pickle')\n",
    "scenario = pickle.load(open(pickle_file_name, 'rb'))"
   ]
  },
  {
   "cell_type": "code",
   "execution_count": 11,
   "metadata": {},
   "outputs": [
    {
     "name": "stdout",
     "output_type": "stream",
     "text": [
      "2021-04-14 13:41:18, INFO: Lasso base directory set as: C:/Users/david.ory/Documents/github/mtc_Lasso\n",
      "2021-04-14 13:41:18, INFO: Lasso base directory set as: C:/Users/david.ory/Documents/github/mtc_Lasso\n",
      "2021-04-14 13:41:18, INFO: Lasso base directory set as: C:/Users/david.ory/Documents/github/mtc_Lasso\n",
      "2021-04-14 13:41:18, INFO: Lasso base directory set as: C:/Users/david.ory/Documents/github/mtc_Lasso\n",
      "2021-04-14 13:41:19, INFO: Filling nan for network from network wrangler\n",
      "2021-04-14 13:41:19, INFO: Filling nan for network from network wrangler\n",
      "2021-04-14 13:41:41, INFO: Converting variable type to mtc standard\n",
      "2021-04-14 13:41:41, INFO: Converting variable type to mtc standard\n"
     ]
    }
   ],
   "source": [
    "model_net = ModelRoadwayNetwork.from_RoadwayNetwork(\n",
    "    roadway_network_object = scenario.road_net, \n",
    "    parameters = parameters)"
   ]
  },
  {
   "cell_type": "markdown",
   "metadata": {},
   "source": [
    "## Node Add Error"
   ]
  },
  {
   "cell_type": "code",
   "execution_count": 22,
   "metadata": {},
   "outputs": [
    {
     "name": "stdout",
     "output_type": "stream",
     "text": [
      "2021-04-14 14:08:51, INFO: No base transit network.\n",
      "2021-04-14 14:08:51, INFO: No base transit network.\n",
      "2021-04-14 14:08:51, INFO: No transit changes given or processed.\n",
      "2021-04-14 14:08:51, INFO: No transit changes given or processed.\n",
      "2021-04-14 14:08:51, INFO: Reading logfile: node_add.log\n",
      "2021-04-14 14:08:51, INFO: Reading logfile: node_add.log\n",
      "2021-04-14 14:08:51, INFO: Processed 1 Node lines and 0 Link lines\n",
      "2021-04-14 14:08:51, INFO: Processed 1 Node lines and 0 Link lines\n",
      "2021-04-14 14:08:51, INFO: Lasso base directory set as: C:/Users/david.ory/Documents/github/mtc_Lasso\n",
      "2021-04-14 14:08:51, INFO: Lasso base directory set as: C:/Users/david.ory/Documents/github/mtc_Lasso\n",
      "2021-04-14 14:08:51, INFO: Lasso base directory set as: C:/Users/david.ory/Documents/github/mtc_Lasso\n",
      "2021-04-14 14:08:51, INFO: Lasso base directory set as: C:/Users/david.ory/Documents/github/mtc_Lasso\n",
      "2021-04-14 14:08:51, INFO: Evaluating compatibility between roadway network changes and base network. Not evaluating deletions.\n",
      "2021-04-14 14:08:51, INFO: Evaluating compatibility between roadway network changes and base network. Not evaluating deletions.\n",
      "2021-04-14 14:09:01, INFO: Evaluating project changes.\n",
      "2021-04-14 14:09:01, INFO: Evaluating project changes.\n",
      "2021-04-14 14:09:01, INFO: Length of link changes 0\n",
      "2021-04-14 14:09:01, INFO: Length of link changes 0\n"
     ]
    },
    {
     "ename": "AttributeError",
     "evalue": "'DataFrame' object has no attribute 'OPERATION_final'",
     "output_type": "error",
     "traceback": [
      "\u001b[1;31m---------------------------------------------------------------------------\u001b[0m",
      "\u001b[1;31mAttributeError\u001b[0m                            Traceback (most recent call last)",
      "\u001b[1;32m<ipython-input-22-54ee836a4c78>\u001b[0m in \u001b[0;36m<module>\u001b[1;34m\u001b[0m\n\u001b[0;32m      3\u001b[0m         \u001b[0mroadway_log_file\u001b[0m \u001b[1;33m=\u001b[0m \u001b[1;34m\"node_add.log\"\u001b[0m\u001b[1;33m,\u001b[0m\u001b[1;33m\u001b[0m\u001b[1;33m\u001b[0m\u001b[0m\n\u001b[0;32m      4\u001b[0m         \u001b[0mproject_name\u001b[0m \u001b[1;33m=\u001b[0m \u001b[1;34m\"Node Add Bug\"\u001b[0m\u001b[1;33m,\u001b[0m\u001b[1;33m\u001b[0m\u001b[1;33m\u001b[0m\u001b[0m\n\u001b[1;32m----> 5\u001b[1;33m         \u001b[0mparameters\u001b[0m \u001b[1;33m=\u001b[0m \u001b[0mparameters\u001b[0m\u001b[1;33m,\u001b[0m\u001b[1;33m\u001b[0m\u001b[1;33m\u001b[0m\u001b[0m\n\u001b[0m\u001b[0;32m      6\u001b[0m )\n",
      "\u001b[1;32mc:\\users\\david.ory\\documents\\github\\mtc_lasso\\lasso\\project.py\u001b[0m in \u001b[0;36mcreate_project\u001b[1;34m(roadway_log_file, roadway_shp_file, roadway_csv_file, base_roadway_dir, base_transit_source, build_transit_source, roadway_changes, transit_changes, base_roadway_network, base_transit_network, build_transit_network, project_name, recalculate_calculated_variables, recalculate_distance, parameters, **kwargs)\u001b[0m\n\u001b[0;32m    331\u001b[0m             \u001b[0mevaluate\u001b[0m\u001b[1;33m=\u001b[0m\u001b[1;32mTrue\u001b[0m\u001b[1;33m,\u001b[0m\u001b[1;33m\u001b[0m\u001b[1;33m\u001b[0m\u001b[0m\n\u001b[0;32m    332\u001b[0m             \u001b[0mproject_name\u001b[0m\u001b[1;33m=\u001b[0m\u001b[0mproject_name\u001b[0m\u001b[1;33m,\u001b[0m\u001b[1;33m\u001b[0m\u001b[1;33m\u001b[0m\u001b[0m\n\u001b[1;32m--> 333\u001b[1;33m             \u001b[0mparameters\u001b[0m\u001b[1;33m=\u001b[0m\u001b[0mparameters\u001b[0m\u001b[1;33m,\u001b[0m\u001b[1;33m\u001b[0m\u001b[1;33m\u001b[0m\u001b[0m\n\u001b[0m\u001b[0;32m    334\u001b[0m         )\n\u001b[0;32m    335\u001b[0m \u001b[1;33m\u001b[0m\u001b[0m\n",
      "\u001b[1;32mc:\\users\\david.ory\\documents\\github\\mtc_lasso\\lasso\\project.py\u001b[0m in \u001b[0;36m__init__\u001b[1;34m(self, roadway_changes, transit_changes, base_roadway_network, base_transit_network, build_transit_network, project_name, evaluate, parameters)\u001b[0m\n\u001b[0;32m    123\u001b[0m \u001b[1;33m\u001b[0m\u001b[0m\n\u001b[0;32m    124\u001b[0m         \u001b[1;32mif\u001b[0m \u001b[0mevaluate\u001b[0m\u001b[1;33m:\u001b[0m\u001b[1;33m\u001b[0m\u001b[1;33m\u001b[0m\u001b[0m\n\u001b[1;32m--> 125\u001b[1;33m             \u001b[0mself\u001b[0m\u001b[1;33m.\u001b[0m\u001b[0mevaluate_changes\u001b[0m\u001b[1;33m(\u001b[0m\u001b[1;33m)\u001b[0m\u001b[1;33m\u001b[0m\u001b[1;33m\u001b[0m\u001b[0m\n\u001b[0m\u001b[0;32m    126\u001b[0m \u001b[1;33m\u001b[0m\u001b[0m\n\u001b[0;32m    127\u001b[0m     \u001b[1;32mdef\u001b[0m \u001b[0mwrite_project_card\u001b[0m\u001b[1;33m(\u001b[0m\u001b[0mself\u001b[0m\u001b[1;33m,\u001b[0m \u001b[0mfilename\u001b[0m\u001b[1;33m:\u001b[0m \u001b[0mstr\u001b[0m \u001b[1;33m=\u001b[0m \u001b[1;32mNone\u001b[0m\u001b[1;33m)\u001b[0m\u001b[1;33m:\u001b[0m\u001b[1;33m\u001b[0m\u001b[1;33m\u001b[0m\u001b[0m\n",
      "\u001b[1;32mc:\\users\\david.ory\\documents\\github\\mtc_lasso\\lasso\\project.py\u001b[0m in \u001b[0;36mevaluate_changes\u001b[1;34m(self)\u001b[0m\n\u001b[0;32m    474\u001b[0m \u001b[1;33m\u001b[0m\u001b[0m\n\u001b[0;32m    475\u001b[0m         \u001b[1;32mif\u001b[0m \u001b[1;32mnot\u001b[0m \u001b[0mself\u001b[0m\u001b[1;33m.\u001b[0m\u001b[0mroadway_changes\u001b[0m\u001b[1;33m.\u001b[0m\u001b[0mempty\u001b[0m\u001b[1;33m:\u001b[0m\u001b[1;33m\u001b[0m\u001b[1;33m\u001b[0m\u001b[0m\n\u001b[1;32m--> 476\u001b[1;33m             \u001b[0mhighway_change_list\u001b[0m \u001b[1;33m=\u001b[0m \u001b[0mself\u001b[0m\u001b[1;33m.\u001b[0m\u001b[0madd_highway_changes\u001b[0m\u001b[1;33m(\u001b[0m\u001b[1;33m)\u001b[0m\u001b[1;33m\u001b[0m\u001b[1;33m\u001b[0m\u001b[0m\n\u001b[0m\u001b[0;32m    477\u001b[0m \u001b[1;33m\u001b[0m\u001b[0m\n\u001b[0;32m    478\u001b[0m         if (self.transit_changes is not None) or (\n",
      "\u001b[1;32mc:\\users\\david.ory\\documents\\github\\mtc_lasso\\lasso\\project.py\u001b[0m in \u001b[0;36madd_highway_changes\u001b[1;34m(self, limit_variables_to_existing_network)\u001b[0m\n\u001b[0;32m    811\u001b[0m \u001b[1;33m\u001b[0m\u001b[0m\n\u001b[0;32m    812\u001b[0m         \u001b[1;31m# process deletions\u001b[0m\u001b[1;33m\u001b[0m\u001b[1;33m\u001b[0m\u001b[1;33m\u001b[0m\u001b[0m\n\u001b[1;32m--> 813\u001b[1;33m         \u001b[0mdelete_link_dict\u001b[0m \u001b[1;33m=\u001b[0m \u001b[0m_process_deletions\u001b[0m\u001b[1;33m(\u001b[0m\u001b[0mlink_changes_df\u001b[0m\u001b[1;33m)\u001b[0m\u001b[1;33m\u001b[0m\u001b[1;33m\u001b[0m\u001b[0m\n\u001b[0m\u001b[0;32m    814\u001b[0m \u001b[1;33m\u001b[0m\u001b[0m\n\u001b[0;32m    815\u001b[0m         \u001b[1;31m# process additions\u001b[0m\u001b[1;33m\u001b[0m\u001b[1;33m\u001b[0m\u001b[1;33m\u001b[0m\u001b[0m\n",
      "\u001b[1;32mc:\\users\\david.ory\\documents\\github\\mtc_lasso\\lasso\\project.py\u001b[0m in \u001b[0;36m_process_deletions\u001b[1;34m(link_changes_df)\u001b[0m\n\u001b[0;32m    542\u001b[0m             \u001b[0mWranglerLogger\u001b[0m\u001b[1;33m.\u001b[0m\u001b[0mdebug\u001b[0m\u001b[1;33m(\u001b[0m\u001b[1;34m\"Processing link deletions\"\u001b[0m\u001b[1;33m)\u001b[0m\u001b[1;33m\u001b[0m\u001b[1;33m\u001b[0m\u001b[0m\n\u001b[0;32m    543\u001b[0m \u001b[1;33m\u001b[0m\u001b[0m\n\u001b[1;32m--> 544\u001b[1;33m             \u001b[0mcube_delete_df\u001b[0m \u001b[1;33m=\u001b[0m \u001b[0mlink_changes_df\u001b[0m\u001b[1;33m[\u001b[0m\u001b[0mlink_changes_df\u001b[0m\u001b[1;33m.\u001b[0m\u001b[0mOPERATION_final\u001b[0m \u001b[1;33m==\u001b[0m \u001b[1;34m\"D\"\u001b[0m\u001b[1;33m]\u001b[0m\u001b[1;33m\u001b[0m\u001b[1;33m\u001b[0m\u001b[0m\n\u001b[0m\u001b[0;32m    545\u001b[0m             \u001b[1;32mif\u001b[0m \u001b[0mlen\u001b[0m\u001b[1;33m(\u001b[0m\u001b[0mcube_delete_df\u001b[0m\u001b[1;33m)\u001b[0m \u001b[1;33m>\u001b[0m \u001b[1;36m0\u001b[0m\u001b[1;33m:\u001b[0m\u001b[1;33m\u001b[0m\u001b[1;33m\u001b[0m\u001b[0m\n\u001b[0;32m    546\u001b[0m                 \u001b[0mlinks_to_delete\u001b[0m \u001b[1;33m=\u001b[0m \u001b[0mcube_delete_df\u001b[0m\u001b[1;33m[\u001b[0m\u001b[1;34m\"model_link_id\"\u001b[0m\u001b[1;33m]\u001b[0m\u001b[1;33m.\u001b[0m\u001b[0mtolist\u001b[0m\u001b[1;33m(\u001b[0m\u001b[1;33m)\u001b[0m\u001b[1;33m\u001b[0m\u001b[1;33m\u001b[0m\u001b[0m\n",
      "\u001b[1;32m~\\anaconda3\\envs\\mtc_lasso\\lib\\site-packages\\pandas\\core\\generic.py\u001b[0m in \u001b[0;36m__getattr__\u001b[1;34m(self, name)\u001b[0m\n\u001b[0;32m   5137\u001b[0m             \u001b[1;32mif\u001b[0m \u001b[0mself\u001b[0m\u001b[1;33m.\u001b[0m\u001b[0m_info_axis\u001b[0m\u001b[1;33m.\u001b[0m\u001b[0m_can_hold_identifiers_and_holds_name\u001b[0m\u001b[1;33m(\u001b[0m\u001b[0mname\u001b[0m\u001b[1;33m)\u001b[0m\u001b[1;33m:\u001b[0m\u001b[1;33m\u001b[0m\u001b[1;33m\u001b[0m\u001b[0m\n\u001b[0;32m   5138\u001b[0m                 \u001b[1;32mreturn\u001b[0m \u001b[0mself\u001b[0m\u001b[1;33m[\u001b[0m\u001b[0mname\u001b[0m\u001b[1;33m]\u001b[0m\u001b[1;33m\u001b[0m\u001b[1;33m\u001b[0m\u001b[0m\n\u001b[1;32m-> 5139\u001b[1;33m             \u001b[1;32mreturn\u001b[0m \u001b[0mobject\u001b[0m\u001b[1;33m.\u001b[0m\u001b[0m__getattribute__\u001b[0m\u001b[1;33m(\u001b[0m\u001b[0mself\u001b[0m\u001b[1;33m,\u001b[0m \u001b[0mname\u001b[0m\u001b[1;33m)\u001b[0m\u001b[1;33m\u001b[0m\u001b[1;33m\u001b[0m\u001b[0m\n\u001b[0m\u001b[0;32m   5140\u001b[0m \u001b[1;33m\u001b[0m\u001b[0m\n\u001b[0;32m   5141\u001b[0m     \u001b[1;32mdef\u001b[0m \u001b[0m__setattr__\u001b[0m\u001b[1;33m(\u001b[0m\u001b[0mself\u001b[0m\u001b[1;33m,\u001b[0m \u001b[0mname\u001b[0m\u001b[1;33m:\u001b[0m \u001b[0mstr\u001b[0m\u001b[1;33m,\u001b[0m \u001b[0mvalue\u001b[0m\u001b[1;33m)\u001b[0m \u001b[1;33m->\u001b[0m \u001b[1;32mNone\u001b[0m\u001b[1;33m:\u001b[0m\u001b[1;33m\u001b[0m\u001b[1;33m\u001b[0m\u001b[0m\n",
      "\u001b[1;31mAttributeError\u001b[0m: 'DataFrame' object has no attribute 'OPERATION_final'"
     ]
    }
   ],
   "source": [
    "project = Project.create_project(\n",
    "        base_roadway_network = model_net,\n",
    "        roadway_log_file = \"node_add.log\",\n",
    "        project_name = \"Node Add Bug\",\n",
    "        parameters = parameters,\n",
    ")"
   ]
  },
  {
   "cell_type": "code",
   "execution_count": null,
   "metadata": {},
   "outputs": [],
   "source": []
  }
 ],
 "metadata": {
  "kernelspec": {
   "display_name": "Python 3",
   "language": "python",
   "name": "python3"
  },
  "language_info": {
   "codemirror_mode": {
    "name": "ipython",
    "version": 3
   },
   "file_extension": ".py",
   "mimetype": "text/x-python",
   "name": "python",
   "nbconvert_exporter": "python",
   "pygments_lexer": "ipython3",
   "version": "3.7.8"
  }
 },
 "nbformat": 4,
 "nbformat_minor": 4
}
