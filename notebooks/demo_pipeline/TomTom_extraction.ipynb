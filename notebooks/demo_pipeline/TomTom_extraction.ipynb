{
 "cells": [
  {
   "cell_type": "markdown",
   "metadata": {},
   "source": [
    "# This notebook reads in TomTom raw data and prepares data for conflation"
   ]
  },
  {
   "cell_type": "code",
   "execution_count": 1,
   "metadata": {},
   "outputs": [],
   "source": [
    "import fiona\n",
    "import geopandas as gpd\n",
    "import pandas as pd"
   ]
  },
  {
   "cell_type": "markdown",
   "metadata": {},
   "source": [
    "# reading tomtom data"
   ]
  },
  {
   "cell_type": "code",
   "execution_count": 3,
   "metadata": {},
   "outputs": [],
   "source": [
    "# loading tomtom data source\n",
    "\n",
    "gdb_file = \"../data/external/tomtom/Network_region.gdb\"\n",
    "\n",
    "# Get all the layers from the .gdb file \n",
    "\n",
    "layers = fiona.listlayers(gdb_file)"
   ]
  },
  {
   "cell_type": "code",
   "execution_count": 4,
   "metadata": {},
   "outputs": [],
   "source": [
    "# street link layer\n",
    "\n",
    "link_gdf = gpd.read_file(gdb_file, layer = 'mn_nw_BayArea')"
   ]
  },
  {
   "cell_type": "code",
   "execution_count": 5,
   "metadata": {},
   "outputs": [
    {
     "data": {
      "text/plain": [
       "Index(['ID', 'FEATTYP', 'FT', 'F_JNCTID', 'F_JNCTTYP', 'T_JNCTID', 'T_JNCTTYP',\n",
       "       'PJ', 'METERS', 'FRC', 'NETCLASS', 'NETBCLASS', 'NET2CLASS', 'NAME',\n",
       "       'NAMELC', 'SOL', 'NAMETYP', 'CHARGE', 'SHIELDNUM', 'RTETYP', 'RTEDIR',\n",
       "       'RTEDIRVD', 'PROCSTAT', 'FOW', 'SLIPRD', 'FREEWAY', 'BACKRD', 'TOLLRD',\n",
       "       'RDCOND', 'STUBBLE', 'PRIVATERD', 'CONSTATUS', 'ONEWAY', 'F_BP', 'T_BP',\n",
       "       'F_ELEV', 'T_ELEV', 'KPH', 'MINUTES', 'POSACCUR', 'CARRIAGE', 'LANES',\n",
       "       'RAMP', 'ADA', 'TRANS', 'DYNSPEED', 'SPEEDCAT', 'NTHRUTRAF', 'ROUGHRD',\n",
       "       'PARTSTRUC', 'ORDER08', 'Shape_Length', 'geometry'],\n",
       "      dtype='object')"
      ]
     },
     "execution_count": 5,
     "metadata": {},
     "output_type": "execute_result"
    }
   ],
   "source": [
    "# street link attributes\n",
    "\n",
    "link_gdf.columns"
   ]
  },
  {
   "cell_type": "code",
   "execution_count": 6,
   "metadata": {},
   "outputs": [
    {
     "data": {
      "text/plain": [
       "{'init': 'epsg:4326'}"
      ]
     },
     "execution_count": 6,
     "metadata": {},
     "output_type": "execute_result"
    }
   ],
   "source": [
    "# convert to ESPG lat-lon\n",
    "\n",
    "link_gdf = link_gdf.to_crs({'init': 'epsg:4326'})\n",
    "link_gdf.crs"
   ]
  },
  {
   "cell_type": "markdown",
   "metadata": {},
   "source": [
    "# there is no existing unique tomtom handle for Bay Area, thus we need to create unique handle"
   ]
  },
  {
   "cell_type": "code",
   "execution_count": 7,
   "metadata": {},
   "outputs": [
    {
     "data": {
      "text/plain": [
       "(602060, 53)"
      ]
     },
     "execution_count": 7,
     "metadata": {},
     "output_type": "execute_result"
    }
   ],
   "source": [
    "# total # tomtom links\n",
    "\n",
    "link_gdf.shape"
   ]
  },
  {
   "cell_type": "code",
   "execution_count": 8,
   "metadata": {},
   "outputs": [
    {
     "data": {
      "text/plain": [
       "601846"
      ]
     },
     "execution_count": 8,
     "metadata": {},
     "output_type": "execute_result"
    }
   ],
   "source": [
    "# unique tomtom handles\n",
    "\n",
    "len(link_gdf.groupby([\"ID\", \"F_JNCTID\", \"T_JNCTID\"]).count())"
   ]
  },
  {
   "cell_type": "code",
   "execution_count": 9,
   "metadata": {},
   "outputs": [],
   "source": [
    "# generating unique handle for tomtom\n",
    "\n",
    "link_gdf[\"tomtom_link_id\"] = range(1, len(link_gdf)+1)"
   ]
  },
  {
   "cell_type": "code",
   "execution_count": 11,
   "metadata": {},
   "outputs": [
    {
     "data": {
      "text/html": [
       "<div>\n",
       "<style scoped>\n",
       "    .dataframe tbody tr th:only-of-type {\n",
       "        vertical-align: middle;\n",
       "    }\n",
       "\n",
       "    .dataframe tbody tr th {\n",
       "        vertical-align: top;\n",
       "    }\n",
       "\n",
       "    .dataframe thead th {\n",
       "        text-align: right;\n",
       "    }\n",
       "</style>\n",
       "<table border=\"1\" class=\"dataframe\">\n",
       "  <thead>\n",
       "    <tr style=\"text-align: right;\">\n",
       "      <th></th>\n",
       "      <th>tomtom_link_id</th>\n",
       "      <th>geometry</th>\n",
       "    </tr>\n",
       "  </thead>\n",
       "  <tbody>\n",
       "    <tr>\n",
       "      <th>10</th>\n",
       "      <td>11</td>\n",
       "      <td>(LINESTRING (-123.0221169995461 38.80109000009...</td>\n",
       "    </tr>\n",
       "    <tr>\n",
       "      <th>11</th>\n",
       "      <td>12</td>\n",
       "      <td>(LINESTRING (-123.0142609997229 38.80494599934...</td>\n",
       "    </tr>\n",
       "    <tr>\n",
       "      <th>12</th>\n",
       "      <td>13</td>\n",
       "      <td>(LINESTRING (-123.0170649992541 38.81000799984...</td>\n",
       "    </tr>\n",
       "    <tr>\n",
       "      <th>13</th>\n",
       "      <td>14</td>\n",
       "      <td>(LINESTRING (-122.7365599998377 38.34300099973...</td>\n",
       "    </tr>\n",
       "    <tr>\n",
       "      <th>14</th>\n",
       "      <td>15</td>\n",
       "      <td>(LINESTRING (-122.6129169998391 38.34361200020...</td>\n",
       "    </tr>\n",
       "    <tr>\n",
       "      <th>15</th>\n",
       "      <td>16</td>\n",
       "      <td>(LINESTRING (-122.7844010002056 38.34604299989...</td>\n",
       "    </tr>\n",
       "    <tr>\n",
       "      <th>16</th>\n",
       "      <td>17</td>\n",
       "      <td>(LINESTRING (-122.7647339995357 38.34587100021...</td>\n",
       "    </tr>\n",
       "    <tr>\n",
       "      <th>17</th>\n",
       "      <td>18</td>\n",
       "      <td>(LINESTRING (-122.6910070004136 38.34813400042...</td>\n",
       "    </tr>\n",
       "    <tr>\n",
       "      <th>18</th>\n",
       "      <td>19</td>\n",
       "      <td>(LINESTRING (-122.6989400002297 38.34855299937...</td>\n",
       "    </tr>\n",
       "    <tr>\n",
       "      <th>19</th>\n",
       "      <td>20</td>\n",
       "      <td>(LINESTRING (-123.0606939995791 38.35021500024...</td>\n",
       "    </tr>\n",
       "  </tbody>\n",
       "</table>\n",
       "</div>"
      ],
      "text/plain": [
       "    tomtom_link_id                                           geometry\n",
       "10              11  (LINESTRING (-123.0221169995461 38.80109000009...\n",
       "11              12  (LINESTRING (-123.0142609997229 38.80494599934...\n",
       "12              13  (LINESTRING (-123.0170649992541 38.81000799984...\n",
       "13              14  (LINESTRING (-122.7365599998377 38.34300099973...\n",
       "14              15  (LINESTRING (-122.6129169998391 38.34361200020...\n",
       "15              16  (LINESTRING (-122.7844010002056 38.34604299989...\n",
       "16              17  (LINESTRING (-122.7647339995357 38.34587100021...\n",
       "17              18  (LINESTRING (-122.6910070004136 38.34813400042...\n",
       "18              19  (LINESTRING (-122.6989400002297 38.34855299937...\n",
       "19              20  (LINESTRING (-123.0606939995791 38.35021500024..."
      ]
     },
     "execution_count": 11,
     "metadata": {},
     "output_type": "execute_result"
    }
   ],
   "source": [
    "link_gdf[[\"tomtom_link_id\", \"geometry\"]].iloc[1*10 :(1+1)*10]"
   ]
  },
  {
   "cell_type": "code",
   "execution_count": 14,
   "metadata": {},
   "outputs": [
    {
     "data": {
      "text/plain": [
       "0     448466\n",
       "2      66145\n",
       "3      34110\n",
       "1      21904\n",
       "4      20391\n",
       "5       9004\n",
       "6       1682\n",
       "7        321\n",
       "8         21\n",
       "9          9\n",
       "10         5\n",
       "17         2\n",
       "Name: LANES, dtype: int64"
      ]
     },
     "execution_count": 14,
     "metadata": {},
     "output_type": "execute_result"
    }
   ],
   "source": [
    "link_gdf.LANES.value_counts()"
   ]
  },
  {
   "cell_type": "markdown",
   "metadata": {},
   "source": [
    "# Partition tomtom by county for shst match"
   ]
  },
  {
   "cell_type": "code",
   "execution_count": 22,
   "metadata": {},
   "outputs": [],
   "source": [
    "for i in range(14):\n",
    "    boundary_gdf = gpd.read_file(\"../data/external/county_boundaries/boundary_\"+str(i+1)+\".geojson\")\n",
    "    \n",
    "    sub_tomtom_gdf = link_gdf[link_gdf.intersects(boundary_gdf.geometry.unary_union)].copy()\n",
    "    \n",
    "    sub_tomtom_gdf[[\"tomtom_link_id\", \"geometry\"]].to_file(\"../data/external/tomtom/tomtom\"+str(i+1)+\".in.geojson\",\n",
    "                                                driver = \"GeoJSON\")"
   ]
  },
  {
   "cell_type": "code",
   "execution_count": 37,
   "metadata": {},
   "outputs": [
    {
     "data": {
      "text/html": [
       "<div>\n",
       "<style scoped>\n",
       "    .dataframe tbody tr th:only-of-type {\n",
       "        vertical-align: middle;\n",
       "    }\n",
       "\n",
       "    .dataframe tbody tr th {\n",
       "        vertical-align: top;\n",
       "    }\n",
       "\n",
       "    .dataframe thead th {\n",
       "        text-align: right;\n",
       "    }\n",
       "</style>\n",
       "<table border=\"1\" class=\"dataframe\">\n",
       "  <thead>\n",
       "    <tr style=\"text-align: right;\">\n",
       "      <th></th>\n",
       "      <th>ID</th>\n",
       "      <th>FEATTYP</th>\n",
       "      <th>FT</th>\n",
       "      <th>F_JNCTID</th>\n",
       "      <th>F_JNCTTYP</th>\n",
       "      <th>T_JNCTID</th>\n",
       "      <th>T_JNCTTYP</th>\n",
       "      <th>PJ</th>\n",
       "      <th>METERS</th>\n",
       "      <th>FRC</th>\n",
       "      <th>...</th>\n",
       "      <th>TRANS</th>\n",
       "      <th>DYNSPEED</th>\n",
       "      <th>SPEEDCAT</th>\n",
       "      <th>NTHRUTRAF</th>\n",
       "      <th>ROUGHRD</th>\n",
       "      <th>PARTSTRUC</th>\n",
       "      <th>ORDER08</th>\n",
       "      <th>Shape_Length</th>\n",
       "      <th>geometry</th>\n",
       "      <th>tomtom_link_id</th>\n",
       "    </tr>\n",
       "  </thead>\n",
       "  <tbody>\n",
       "    <tr>\n",
       "      <th>0</th>\n",
       "      <td>6.840000e+13</td>\n",
       "      <td>4110</td>\n",
       "      <td>0</td>\n",
       "      <td>6.840001e+13</td>\n",
       "      <td>0</td>\n",
       "      <td>6.840001e+13</td>\n",
       "      <td>0</td>\n",
       "      <td>0</td>\n",
       "      <td>1554.62</td>\n",
       "      <td>7</td>\n",
       "      <td>...</td>\n",
       "      <td>0</td>\n",
       "      <td>0</td>\n",
       "      <td>7</td>\n",
       "      <td>0</td>\n",
       "      <td>0</td>\n",
       "      <td>0</td>\n",
       "      <td>CA097</td>\n",
       "      <td>1989.817478</td>\n",
       "      <td>(LINESTRING (-122.8315739998535 38.62133700023...</td>\n",
       "      <td>1</td>\n",
       "    </tr>\n",
       "    <tr>\n",
       "      <th>1</th>\n",
       "      <td>6.840000e+13</td>\n",
       "      <td>4110</td>\n",
       "      <td>0</td>\n",
       "      <td>6.840001e+13</td>\n",
       "      <td>0</td>\n",
       "      <td>6.840001e+13</td>\n",
       "      <td>0</td>\n",
       "      <td>0</td>\n",
       "      <td>551.09</td>\n",
       "      <td>7</td>\n",
       "      <td>...</td>\n",
       "      <td>0</td>\n",
       "      <td>0</td>\n",
       "      <td>6</td>\n",
       "      <td>0</td>\n",
       "      <td>0</td>\n",
       "      <td>0</td>\n",
       "      <td>CA097</td>\n",
       "      <td>704.628862</td>\n",
       "      <td>(LINESTRING (-122.83972099993 38.6229560004714...</td>\n",
       "      <td>2</td>\n",
       "    </tr>\n",
       "    <tr>\n",
       "      <th>2</th>\n",
       "      <td>6.840000e+13</td>\n",
       "      <td>4110</td>\n",
       "      <td>0</td>\n",
       "      <td>6.840001e+13</td>\n",
       "      <td>0</td>\n",
       "      <td>6.840002e+13</td>\n",
       "      <td>0</td>\n",
       "      <td>0</td>\n",
       "      <td>53.22</td>\n",
       "      <td>7</td>\n",
       "      <td>...</td>\n",
       "      <td>0</td>\n",
       "      <td>0</td>\n",
       "      <td>7</td>\n",
       "      <td>0</td>\n",
       "      <td>0</td>\n",
       "      <td>0</td>\n",
       "      <td>CA097</td>\n",
       "      <td>68.054041</td>\n",
       "      <td>(LINESTRING (-122.868480999434 38.626759999424...</td>\n",
       "      <td>3</td>\n",
       "    </tr>\n",
       "  </tbody>\n",
       "</table>\n",
       "<p>3 rows × 54 columns</p>\n",
       "</div>"
      ],
      "text/plain": [
       "             ID  FEATTYP  FT      F_JNCTID  F_JNCTTYP      T_JNCTID  \\\n",
       "0  6.840000e+13     4110   0  6.840001e+13          0  6.840001e+13   \n",
       "1  6.840000e+13     4110   0  6.840001e+13          0  6.840001e+13   \n",
       "2  6.840000e+13     4110   0  6.840001e+13          0  6.840002e+13   \n",
       "\n",
       "   T_JNCTTYP  PJ   METERS  FRC  ...  TRANS  DYNSPEED  SPEEDCAT NTHRUTRAF  \\\n",
       "0          0   0  1554.62    7  ...      0         0         7         0   \n",
       "1          0   0   551.09    7  ...      0         0         6         0   \n",
       "2          0   0    53.22    7  ...      0         0         7         0   \n",
       "\n",
       "  ROUGHRD  PARTSTRUC  ORDER08 Shape_Length  \\\n",
       "0       0          0    CA097  1989.817478   \n",
       "1       0          0    CA097   704.628862   \n",
       "2       0          0    CA097    68.054041   \n",
       "\n",
       "                                            geometry  tomtom_link_id  \n",
       "0  (LINESTRING (-122.8315739998535 38.62133700023...               1  \n",
       "1  (LINESTRING (-122.83972099993 38.6229560004714...               2  \n",
       "2  (LINESTRING (-122.868480999434 38.626759999424...               3  \n",
       "\n",
       "[3 rows x 54 columns]"
      ]
     },
     "execution_count": 37,
     "metadata": {},
     "output_type": "execute_result"
    }
   ],
   "source": [
    "link_gdf.head(3)"
   ]
  },
  {
   "cell_type": "code",
   "execution_count": 34,
   "metadata": {},
   "outputs": [
    {
     "data": {
      "text/html": [
       "<div>\n",
       "<style scoped>\n",
       "    .dataframe tbody tr th:only-of-type {\n",
       "        vertical-align: middle;\n",
       "    }\n",
       "\n",
       "    .dataframe tbody tr th {\n",
       "        vertical-align: top;\n",
       "    }\n",
       "\n",
       "    .dataframe thead th {\n",
       "        text-align: right;\n",
       "    }\n",
       "</style>\n",
       "<table border=\"1\" class=\"dataframe\">\n",
       "  <thead>\n",
       "    <tr style=\"text-align: right;\">\n",
       "      <th></th>\n",
       "      <th>ID</th>\n",
       "      <th>FEATTYP</th>\n",
       "      <th>FT</th>\n",
       "      <th>F_JNCTID</th>\n",
       "      <th>F_JNCTTYP</th>\n",
       "      <th>T_JNCTID</th>\n",
       "      <th>T_JNCTTYP</th>\n",
       "      <th>PJ</th>\n",
       "      <th>METERS</th>\n",
       "      <th>FRC</th>\n",
       "      <th>...</th>\n",
       "      <th>TRANS</th>\n",
       "      <th>DYNSPEED</th>\n",
       "      <th>SPEEDCAT</th>\n",
       "      <th>NTHRUTRAF</th>\n",
       "      <th>ROUGHRD</th>\n",
       "      <th>PARTSTRUC</th>\n",
       "      <th>ORDER08</th>\n",
       "      <th>Shape_Length</th>\n",
       "      <th>geometry</th>\n",
       "      <th>tomtom_link_id</th>\n",
       "    </tr>\n",
       "  </thead>\n",
       "  <tbody>\n",
       "  </tbody>\n",
       "</table>\n",
       "<p>0 rows × 54 columns</p>\n",
       "</div>"
      ],
      "text/plain": [
       "Empty GeoDataFrame\n",
       "Columns: [ID, FEATTYP, FT, F_JNCTID, F_JNCTTYP, T_JNCTID, T_JNCTTYP, PJ, METERS, FRC, NETCLASS, NETBCLASS, NET2CLASS, NAME, NAMELC, SOL, NAMETYP, CHARGE, SHIELDNUM, RTETYP, RTEDIR, RTEDIRVD, PROCSTAT, FOW, SLIPRD, FREEWAY, BACKRD, TOLLRD, RDCOND, STUBBLE, PRIVATERD, CONSTATUS, ONEWAY, F_BP, T_BP, F_ELEV, T_ELEV, KPH, MINUTES, POSACCUR, CARRIAGE, LANES, RAMP, ADA, TRANS, DYNSPEED, SPEEDCAT, NTHRUTRAF, ROUGHRD, PARTSTRUC, ORDER08, Shape_Length, geometry, tomtom_link_id]\n",
       "Index: []\n",
       "\n",
       "[0 rows x 54 columns]"
      ]
     },
     "execution_count": 34,
     "metadata": {},
     "output_type": "execute_result"
    }
   ],
   "source": [
    "link_gdf[~(link_gdf.geom_type == 'MultiLineString')]"
   ]
  },
  {
   "cell_type": "markdown",
   "metadata": {},
   "source": [
    "# SF county, combination of [\"ID\", \"F_JNCTID\", \"T_JNCTID\"] can serve as unique handle"
   ]
  },
  {
   "cell_type": "code",
   "execution_count": 24,
   "metadata": {},
   "outputs": [
    {
     "data": {
      "text/plain": [
       "{'init': 'epsg:4326'}"
      ]
     },
     "execution_count": 24,
     "metadata": {},
     "output_type": "execute_result"
    }
   ],
   "source": [
    "# read county boundry\n",
    "\n",
    "sf_boundry = gpd.read_file(\"../external_data/county/boundary_4.geojson\")\n",
    "sf_boundry.crs"
   ]
  },
  {
   "cell_type": "code",
   "execution_count": 43,
   "metadata": {},
   "outputs": [],
   "source": [
    "# tomtom links in sf\n",
    "sf_link_gdf = link_gdf[link_gdf.intersects(sf_boundry.geometry.unary_union)].copy()"
   ]
  },
  {
   "cell_type": "code",
   "execution_count": 39,
   "metadata": {},
   "outputs": [
    {
     "data": {
      "text/plain": [
       "(31805, 54)"
      ]
     },
     "execution_count": 39,
     "metadata": {},
     "output_type": "execute_result"
    }
   ],
   "source": [
    "sf_link_gdf.shape"
   ]
  },
  {
   "cell_type": "code",
   "execution_count": 46,
   "metadata": {
    "scrolled": true
   },
   "outputs": [
    {
     "data": {
      "text/plain": [
       "31805"
      ]
     },
     "execution_count": 46,
     "metadata": {},
     "output_type": "execute_result"
    }
   ],
   "source": [
    "len(sf_link_gdf.groupby([\"ID\", \"F_JNCTID\", \"T_JNCTID\"]).count())"
   ]
  },
  {
   "cell_type": "code",
   "execution_count": 44,
   "metadata": {},
   "outputs": [],
   "source": [
    "# write out complete tomtom atrributes in geojson\n",
    "\n",
    "sf_link_gdf.to_file(\"../tomtom/tomtom_sf.geojson\", driver = \"GeoJSON\")"
   ]
  },
  {
   "cell_type": "code",
   "execution_count": null,
   "metadata": {},
   "outputs": [],
   "source": [
    "# write out sf tomtom for SHST match\n",
    "\n",
    "sf_link_gdf[[\"ID\", \"F_JNCTID\", \"T_JNCTID\", \"geometry\"]].to_file(\"../tomtom/Network_region_shape/tomtom_sf.in.geojson\",\n",
    "                                                driver = \"GeoJSON\")"
   ]
  }
 ],
 "metadata": {
  "kernelspec": {
   "display_name": "MetC_new",
   "language": "python",
   "name": "metc_new"
  },
  "language_info": {
   "codemirror_mode": {
    "name": "ipython",
    "version": 3
   },
   "file_extension": ".py",
   "mimetype": "text/x-python",
   "name": "python",
   "nbconvert_exporter": "python",
   "pygments_lexer": "ipython3",
   "version": "3.7.3"
  }
 },
 "nbformat": 4,
 "nbformat_minor": 2
}
