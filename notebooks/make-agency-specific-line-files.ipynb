{
 "cells": [
  {
   "cell_type": "markdown",
   "metadata": {},
   "source": [
    "# Make agency-specific Cube line files\n",
    "see [issue 25](https://github.com/BayAreaMetro/travel-model-two-networks/issues/25)"
   ]
  },
  {
   "cell_type": "code",
   "execution_count": 1,
   "metadata": {},
   "outputs": [],
   "source": [
    "import os\n",
    "import sys\n",
    "import yaml\n",
    "import copy\n",
    "\n",
    "import pandas as pd\n",
    "\n",
    "from network_wrangler import TransitNetwork\n",
    "from network_wrangler import WranglerLogger\n",
    "\n",
    "from lasso import StandardTransit\n",
    "from lasso import Parameters\n",
    "from lasso import mtc\n",
    "\n",
    "import pickle"
   ]
  },
  {
   "cell_type": "code",
   "execution_count": 2,
   "metadata": {},
   "outputs": [],
   "source": [
    "%load_ext autoreload\n",
    "%autoreload 2"
   ]
  },
  {
   "cell_type": "code",
   "execution_count": 3,
   "metadata": {},
   "outputs": [],
   "source": [
    "import logging\n",
    "logger = logging.getLogger(\"WranglerLogger\")\n",
    "logger.handlers[0].stream = sys.stdout\n",
    "# if you don't want to see so much detail, set to logging.INFO or DEBUG\n",
    "logger.setLevel(logging.INFO)"
   ]
  },
  {
   "cell_type": "markdown",
   "metadata": {},
   "source": [
    "## Remote I/O"
   ]
  },
  {
   "cell_type": "code",
   "execution_count": 4,
   "metadata": {},
   "outputs": [],
   "source": [
    "root_dir = \"D:/github/lfs-cleaning/travel-model-two-networks\"\n",
    "input_dir = os.path.join(root_dir, 'data', 'processed', 'version_03')\n",
    "output_dir = os.path.join(root_dir, 'data', 'processed', 'version_05')\n",
    "lasso_dir = \"Z:/Data/Users/Sijia/MTC/github/Lasso\""
   ]
  },
  {
   "cell_type": "code",
   "execution_count": 5,
   "metadata": {},
   "outputs": [
    {
     "name": "stdout",
     "output_type": "stream",
     "text": [
      "2021-03-02 17:44:50, INFO: Lasso base directory set as: Z:/Data/Users/Sijia/MTC/github/Lasso\n",
      "2021-03-02 17:44:50, INFO: Lasso base directory set as: Z:/Data/Users/Sijia/MTC/github/Lasso\n",
      "2021-03-02 17:44:50, INFO: Lasso base directory set as: Z:/Data/Users/Sijia/MTC/github/Lasso\n",
      "2021-03-02 17:44:50, INFO: Lasso base directory set as: Z:/Data/Users/Sijia/MTC/github/Lasso\n"
     ]
    }
   ],
   "source": [
    "parameters = Parameters(lasso_base_dir = lasso_dir)"
   ]
  },
  {
   "cell_type": "markdown",
   "metadata": {},
   "source": [
    "## Data Read"
   ]
  },
  {
   "cell_type": "code",
   "execution_count": 6,
   "metadata": {},
   "outputs": [
    {
     "name": "stdout",
     "output_type": "stream",
     "text": [
      "2021-03-02 17:44:50, INFO: Read in transit feed from: D:/github/lfs-cleaning/travel-model-two-networks\\data\\processed\\version_03\n",
      "2021-03-02 17:44:50, INFO: Read in transit feed from: D:/github/lfs-cleaning/travel-model-two-networks\\data\\processed\\version_03\n",
      "2021-03-02 17:44:51, INFO: Removing calendar.txt from transit network config because file not found\n",
      "2021-03-02 17:44:51, INFO: Removing calendar.txt from transit network config because file not found\n",
      "2021-03-02 17:44:51, INFO: Removing calendar_dates.txt from transit network config because file not found\n",
      "2021-03-02 17:44:51, INFO: Removing calendar_dates.txt from transit network config because file not found\n",
      "2021-03-02 17:44:53, INFO: Removing transfers.txt from transit network config because file not found\n",
      "2021-03-02 17:44:53, INFO: Removing transfers.txt from transit network config because file not found\n",
      "2021-03-02 17:44:53, INFO: Removing feed_info.txt from transit network config because file not found\n",
      "2021-03-02 17:44:53, INFO: Removing feed_info.txt from transit network config because file not found\n",
      "2021-03-02 17:44:53, WARNING: The following stop_ids from are referenced but missing from stops.txt: ['place_ETSF', 'ctca', 'cthi', 'ctsmar', 'place_SHBA', 'place_CHCO', 'place_4SSP', 'place_90MA', 'ctta', 'place_CCCO', 'place_TAPI', 'ctba', 'place_CVBA', 'place_HBBA', 'place_DBBA', 'place_HIWY', 'ctbe', 'ctsf', 'ctbl', 'place_14BD', 'place_HPNR', 'place_CSSH', 'ctsb', 'ctha', 'ctbu', 'place_FRBA', 'ctgi', 'place_BNTE', 'place_11BD', 'ctco', 'ctsc', 'place_PSOT', 'place_NAMO', 'place_MBLS', 'place_FVMA', 'place_BDBL', 'ctsu', 'place_11JE', 'place_12BD', 'ctmh', 'place_SNCO', 'place_PAHE', 'place_BYBA', 'ctsa', 'place_FBBA', 'place_MOME', 'ctpa', 'ctsmat', 'ctmi', 'place_SMSE', 'place_ROBA', 'place_NEPA', 'ctsj', 'ctscl', 'ct22', 'place_WOBA', 'place_HRSH', 'place_CBBA', 'ctrwc', 'place_EBBA', 'ctla', 'ctssf', 'place_SHDF', 'ctcap', 'ctmv', 'ctmp']\n",
      "2021-03-02 17:44:53, WARNING: The following stop_ids from are referenced but missing from stops.txt: ['place_ETSF', 'ctca', 'cthi', 'ctsmar', 'place_SHBA', 'place_CHCO', 'place_4SSP', 'place_90MA', 'ctta', 'place_CCCO', 'place_TAPI', 'ctba', 'place_CVBA', 'place_HBBA', 'place_DBBA', 'place_HIWY', 'ctbe', 'ctsf', 'ctbl', 'place_14BD', 'place_HPNR', 'place_CSSH', 'ctsb', 'ctha', 'ctbu', 'place_FRBA', 'ctgi', 'place_BNTE', 'place_11BD', 'ctco', 'ctsc', 'place_PSOT', 'place_NAMO', 'place_MBLS', 'place_FVMA', 'place_BDBL', 'ctsu', 'place_11JE', 'place_12BD', 'ctmh', 'place_SNCO', 'place_PAHE', 'place_BYBA', 'ctsa', 'place_FBBA', 'place_MOME', 'ctpa', 'ctsmat', 'ctmi', 'place_SMSE', 'place_ROBA', 'place_NEPA', 'ctsj', 'ctscl', 'ct22', 'place_WOBA', 'place_HRSH', 'place_CBBA', 'ctrwc', 'place_EBBA', 'ctla', 'ctssf', 'place_SHDF', 'ctcap', 'ctmv', 'ctmp']\n"
     ]
    }
   ],
   "source": [
    "transit_net = TransitNetwork.read(feed_path = input_dir)"
   ]
  },
  {
   "cell_type": "code",
   "execution_count": 7,
   "metadata": {},
   "outputs": [
    {
     "name": "stdout",
     "output_type": "stream",
     "text": [
      "2021-03-02 17:44:53, INFO: Lasso base directory set as: Z:/Data/Users/Sijia/MTC/github/Lasso\n",
      "2021-03-02 17:44:53, INFO: Lasso base directory set as: Z:/Data/Users/Sijia/MTC/github/Lasso\n",
      "2021-03-02 17:44:53, INFO: Lasso base directory set as: Z:/Data/Users/Sijia/MTC/github/Lasso\n",
      "2021-03-02 17:44:53, INFO: Lasso base directory set as: Z:/Data/Users/Sijia/MTC/github/Lasso\n"
     ]
    }
   ],
   "source": [
    "standard_transit_net = StandardTransit.fromTransitNetwork(transit_net, parameters = parameters)"
   ]
  },
  {
   "cell_type": "markdown",
   "metadata": {},
   "source": [
    "## Write"
   ]
  },
  {
   "cell_type": "code",
   "execution_count": 8,
   "metadata": {},
   "outputs": [
    {
     "name": "stdout",
     "output_type": "stream",
     "text": [
      "2021-03-02 17:44:54, INFO: Converting GTFS Standard Properties to MTC's Cube Standard\n",
      "2021-03-02 17:44:54, INFO: Converting GTFS Standard Properties to MTC's Cube Standard\n",
      "2021-03-02 17:45:00, INFO: Converting GTFS Standard Properties to MTC's Cube Standard\n",
      "2021-03-02 17:45:00, INFO: Converting GTFS Standard Properties to MTC's Cube Standard\n",
      "2021-03-02 17:45:00, INFO: Converting GTFS Standard Properties to MTC's Cube Standard\n",
      "2021-03-02 17:45:00, INFO: Converting GTFS Standard Properties to MTC's Cube Standard\n",
      "2021-03-02 17:45:20, INFO: Converting GTFS Standard Properties to MTC's Cube Standard\n",
      "2021-03-02 17:45:20, INFO: Converting GTFS Standard Properties to MTC's Cube Standard\n",
      "2021-03-02 17:45:22, INFO: Converting GTFS Standard Properties to MTC's Cube Standard\n",
      "2021-03-02 17:45:22, INFO: Converting GTFS Standard Properties to MTC's Cube Standard\n",
      "2021-03-02 17:45:25, INFO: Converting GTFS Standard Properties to MTC's Cube Standard\n",
      "2021-03-02 17:45:25, INFO: Converting GTFS Standard Properties to MTC's Cube Standard\n",
      "2021-03-02 17:45:33, INFO: Converting GTFS Standard Properties to MTC's Cube Standard\n",
      "2021-03-02 17:45:33, INFO: Converting GTFS Standard Properties to MTC's Cube Standard\n",
      "2021-03-02 17:45:51, INFO: Converting GTFS Standard Properties to MTC's Cube Standard\n",
      "2021-03-02 17:45:51, INFO: Converting GTFS Standard Properties to MTC's Cube Standard\n",
      "2021-03-02 17:45:53, INFO: Converting GTFS Standard Properties to MTC's Cube Standard\n",
      "2021-03-02 17:45:53, INFO: Converting GTFS Standard Properties to MTC's Cube Standard\n",
      "2021-03-02 17:46:01, INFO: Converting GTFS Standard Properties to MTC's Cube Standard\n",
      "2021-03-02 17:46:01, INFO: Converting GTFS Standard Properties to MTC's Cube Standard\n",
      "2021-03-02 17:46:06, INFO: Converting GTFS Standard Properties to MTC's Cube Standard\n",
      "2021-03-02 17:46:06, INFO: Converting GTFS Standard Properties to MTC's Cube Standard\n",
      "2021-03-02 17:46:07, INFO: Converting GTFS Standard Properties to MTC's Cube Standard\n",
      "2021-03-02 17:46:07, INFO: Converting GTFS Standard Properties to MTC's Cube Standard\n",
      "2021-03-02 17:46:56, INFO: Converting GTFS Standard Properties to MTC's Cube Standard\n",
      "2021-03-02 17:46:56, INFO: Converting GTFS Standard Properties to MTC's Cube Standard\n",
      "2021-03-02 17:47:27, INFO: Converting GTFS Standard Properties to MTC's Cube Standard\n",
      "2021-03-02 17:47:27, INFO: Converting GTFS Standard Properties to MTC's Cube Standard\n",
      "2021-03-02 17:47:36, INFO: Converting GTFS Standard Properties to MTC's Cube Standard\n",
      "2021-03-02 17:47:36, INFO: Converting GTFS Standard Properties to MTC's Cube Standard\n",
      "2021-03-02 17:47:46, INFO: Converting GTFS Standard Properties to MTC's Cube Standard\n",
      "2021-03-02 17:47:46, INFO: Converting GTFS Standard Properties to MTC's Cube Standard\n",
      "2021-03-02 17:48:29, INFO: Converting GTFS Standard Properties to MTC's Cube Standard\n",
      "2021-03-02 17:48:29, INFO: Converting GTFS Standard Properties to MTC's Cube Standard\n",
      "2021-03-02 17:48:37, INFO: Converting GTFS Standard Properties to MTC's Cube Standard\n",
      "2021-03-02 17:48:37, INFO: Converting GTFS Standard Properties to MTC's Cube Standard\n",
      "2021-03-02 17:48:41, INFO: Converting GTFS Standard Properties to MTC's Cube Standard\n",
      "2021-03-02 17:48:41, INFO: Converting GTFS Standard Properties to MTC's Cube Standard\n",
      "2021-03-02 17:48:47, INFO: Converting GTFS Standard Properties to MTC's Cube Standard\n",
      "2021-03-02 17:48:47, INFO: Converting GTFS Standard Properties to MTC's Cube Standard\n",
      "2021-03-02 17:48:50, INFO: Converting GTFS Standard Properties to MTC's Cube Standard\n",
      "2021-03-02 17:48:50, INFO: Converting GTFS Standard Properties to MTC's Cube Standard\n",
      "2021-03-02 17:48:53, INFO: Converting GTFS Standard Properties to MTC's Cube Standard\n",
      "2021-03-02 17:48:53, INFO: Converting GTFS Standard Properties to MTC's Cube Standard\n",
      "2021-03-02 17:49:02, INFO: Converting GTFS Standard Properties to MTC's Cube Standard\n",
      "2021-03-02 17:49:02, INFO: Converting GTFS Standard Properties to MTC's Cube Standard\n",
      "2021-03-02 17:49:04, INFO: Converting GTFS Standard Properties to MTC's Cube Standard\n",
      "2021-03-02 17:49:04, INFO: Converting GTFS Standard Properties to MTC's Cube Standard\n",
      "2021-03-02 17:50:17, INFO: Converting GTFS Standard Properties to MTC's Cube Standard\n",
      "2021-03-02 17:50:17, INFO: Converting GTFS Standard Properties to MTC's Cube Standard\n",
      "2021-03-02 17:50:19, INFO: Converting GTFS Standard Properties to MTC's Cube Standard\n",
      "2021-03-02 17:50:19, INFO: Converting GTFS Standard Properties to MTC's Cube Standard\n",
      "2021-03-02 17:50:20, INFO: Converting GTFS Standard Properties to MTC's Cube Standard\n",
      "2021-03-02 17:50:20, INFO: Converting GTFS Standard Properties to MTC's Cube Standard\n",
      "2021-03-02 17:50:26, INFO: Converting GTFS Standard Properties to MTC's Cube Standard\n",
      "2021-03-02 17:50:26, INFO: Converting GTFS Standard Properties to MTC's Cube Standard\n"
     ]
    }
   ],
   "source": [
    "for agency in standard_transit_net.feed.routes.agency_raw_name.unique():\n",
    "    sub_transit_net = copy.deepcopy(standard_transit_net)\n",
    "    sub_transit_net.feed.trips = sub_transit_net.feed.trips[sub_transit_net.feed.trips.agency_raw_name == agency]\n",
    "    mtc.write_as_cube_lin(sub_transit_net, parameters, outpath = os.path.join(output_dir, agency + \"_transit.lin\"))"
   ]
  }
 ],
 "metadata": {
  "kernelspec": {
   "display_name": "Python 3",
   "language": "python",
   "name": "python3"
  },
  "language_info": {
   "codemirror_mode": {
    "name": "ipython",
    "version": 3
   },
   "file_extension": ".py",
   "mimetype": "text/x-python",
   "name": "python",
   "nbconvert_exporter": "python",
   "pygments_lexer": "ipython3",
   "version": "3.7.9"
  }
 },
 "nbformat": 4,
 "nbformat_minor": 4
}
