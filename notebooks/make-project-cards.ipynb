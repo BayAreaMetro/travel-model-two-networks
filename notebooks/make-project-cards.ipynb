{
 "cells": [
  {
   "cell_type": "markdown",
   "metadata": {},
   "source": [
    "# Make Project Cards"
   ]
  },
  {
   "cell_type": "code",
   "execution_count": 1,
   "metadata": {},
   "outputs": [],
   "source": [
    "import os\n",
    "import sys\n",
    "import yaml\n",
    "import pickle\n",
    "import glob\n",
    "import copy\n",
    "\n",
    "import pandas as pd\n",
    "\n",
    "from network_wrangler import RoadwayNetwork\n",
    "from network_wrangler import TransitNetwork\n",
    "from network_wrangler import ProjectCard\n",
    "from network_wrangler import Scenario\n",
    "from network_wrangler import WranglerLogger\n",
    "\n",
    "from lasso import ModelRoadwayNetwork\n",
    "from lasso import StandardTransit\n",
    "from lasso import Parameters\n",
    "from lasso import Project\n",
    "from lasso import mtc"
   ]
  },
  {
   "cell_type": "code",
   "execution_count": 2,
   "metadata": {},
   "outputs": [],
   "source": [
    "%load_ext autoreload\n",
    "%autoreload 2"
   ]
  },
  {
   "cell_type": "code",
   "execution_count": 3,
   "metadata": {},
   "outputs": [],
   "source": [
    "import logging\n",
    "logger = logging.getLogger(\"WranglerLogger\")\n",
    "logger.handlers[0].stream = sys.stdout\n",
    "logger.setLevel(logging.INFO)"
   ]
  },
  {
   "cell_type": "markdown",
   "metadata": {},
   "source": [
    "# Remote I/O and parameters"
   ]
  },
  {
   "cell_type": "code",
   "execution_count": 4,
   "metadata": {},
   "outputs": [],
   "source": [
    "# root_dir = os.path.join('/Users', 'wsp', 'Documents', 'GitHub', 'travel-model-two-networks')\n",
    "# root_dir = \"D:/github/lfs-cleaning/travel-model-two-networks\"\n",
    "root_dir = \"D:/david_ory_github/travel-model-two-networks-data\"\n",
    "input_dir = os.path.join(root_dir, 'data', 'processed', 'version_08')\n",
    "output_dir = input_dir\n",
    "card_dir = \"D:/david_ory_github/travel-model-two-networks/project_cards\"\n",
    "lasso_dir = \"C:/Users/david.ory/Documents/github/mtc_Lasso\"\n",
    "# lasso_dir = os.path.join('/Users', 'wsp', 'Documents', 'GitHub', 'mtc-Lasso')\n",
    "# lasso_dir = \"Z:/Data/Users/Sijia/MTC/github/Lasso\""
   ]
  },
  {
   "cell_type": "code",
   "execution_count": 5,
   "metadata": {},
   "outputs": [
    {
     "name": "stdout",
     "output_type": "stream",
     "text": [
      "2021-04-14 14:18:08, INFO: Lasso base directory set as: C:/Users/david.ory/Documents/github/mtc_Lasso\n",
      "2021-04-14 14:18:08, INFO: Lasso base directory set as: C:/Users/david.ory/Documents/github/mtc_Lasso\n",
      "2021-04-14 14:18:08, INFO: Lasso base directory set as: C:/Users/david.ory/Documents/github/mtc_Lasso\n",
      "2021-04-14 14:18:08, INFO: Lasso base directory set as: C:/Users/david.ory/Documents/github/mtc_Lasso\n"
     ]
    }
   ],
   "source": [
    "parameters = Parameters(lasso_base_dir = lasso_dir)"
   ]
  },
  {
   "cell_type": "markdown",
   "metadata": {},
   "source": [
    "# Read pickle"
   ]
  },
  {
   "cell_type": "code",
   "execution_count": 6,
   "metadata": {},
   "outputs": [],
   "source": [
    "pickle_file_name = os.path.join(input_dir, 'working_scenario_01.pickle')\n",
    "scenario = pickle.load(open(pickle_file_name, 'rb'))"
   ]
  },
  {
   "cell_type": "markdown",
   "metadata": {},
   "source": [
    "## Find Max `model_link_id` in Marin and Alameda"
   ]
  },
  {
   "cell_type": "code",
   "execution_count": 7,
   "metadata": {},
   "outputs": [
    {
     "data": {
      "text/plain": [
       "8063197"
      ]
     },
     "execution_count": 7,
     "metadata": {},
     "output_type": "execute_result"
    }
   ],
   "source": [
    "df = scenario.road_net.links_df\n",
    "df[df['county'] == 'Marin'].model_link_id.max()"
   ]
  },
  {
   "cell_type": "code",
   "execution_count": 8,
   "metadata": {},
   "outputs": [
    {
     "data": {
      "text/plain": [
       "3315450"
      ]
     },
     "execution_count": 8,
     "metadata": {},
     "output_type": "execute_result"
    }
   ],
   "source": [
    "df = scenario.road_net.links_df\n",
    "df[df['county'] == 'Alameda'].model_link_id.max()"
   ]
  },
  {
   "cell_type": "code",
   "execution_count": 9,
   "metadata": {},
   "outputs": [
    {
     "data": {
      "text/plain": [
       "376642    2535792\n",
       "Name: B, dtype: int64"
      ]
     },
     "execution_count": 9,
     "metadata": {},
     "output_type": "execute_result"
    }
   ],
   "source": [
    "df = scenario.road_net.links_df\n",
    "df = df[df['A'] == 2562924]\n",
    "df.B"
   ]
  },
  {
   "cell_type": "code",
   "execution_count": 10,
   "metadata": {},
   "outputs": [
    {
     "data": {
      "text/plain": [
       "5026533"
      ]
     },
     "execution_count": 10,
     "metadata": {},
     "output_type": "execute_result"
    }
   ],
   "source": [
    "scenario.road_net.nodes_df.model_node_id.max()"
   ]
  },
  {
   "cell_type": "code",
   "execution_count": 11,
   "metadata": {},
   "outputs": [
    {
     "name": "stdout",
     "output_type": "stream",
     "text": [
      "2021-04-14 14:30:57, INFO: Lasso base directory set as: C:/Users/david.ory/Documents/github/mtc_Lasso\n",
      "2021-04-14 14:30:57, INFO: Lasso base directory set as: C:/Users/david.ory/Documents/github/mtc_Lasso\n",
      "2021-04-14 14:30:57, INFO: Lasso base directory set as: C:/Users/david.ory/Documents/github/mtc_Lasso\n",
      "2021-04-14 14:30:57, INFO: Lasso base directory set as: C:/Users/david.ory/Documents/github/mtc_Lasso\n",
      "2021-04-14 14:30:57, INFO: Filling nan for network from network wrangler\n",
      "2021-04-14 14:30:57, INFO: Filling nan for network from network wrangler\n",
      "2021-04-14 14:31:17, INFO: Converting variable type to mtc standard\n",
      "2021-04-14 14:31:17, INFO: Converting variable type to mtc standard\n"
     ]
    }
   ],
   "source": [
    "model_net = ModelRoadwayNetwork.from_RoadwayNetwork(\n",
    "    roadway_network_object = scenario.road_net, \n",
    "    parameters = parameters)"
   ]
  },
  {
   "cell_type": "markdown",
   "metadata": {},
   "source": [
    "## Make San Mateo Bridge Skeleton"
   ]
  },
  {
   "cell_type": "code",
   "execution_count": 15,
   "metadata": {},
   "outputs": [
    {
     "name": "stdout",
     "output_type": "stream",
     "text": [
      "2021-04-14 14:40:08, INFO: No base transit network.\n",
      "2021-04-14 14:40:08, INFO: No base transit network.\n",
      "2021-04-14 14:40:08, INFO: No transit changes given or processed.\n",
      "2021-04-14 14:40:08, INFO: No transit changes given or processed.\n",
      "2021-04-14 14:40:08, INFO: Reading logfile: D:/david_ory_github/travel-model-two-networks-data\\data\\processed\\version_08\\san_mateo_plaza_hand.log\n",
      "2021-04-14 14:40:08, INFO: Reading logfile: D:/david_ory_github/travel-model-two-networks-data\\data\\processed\\version_08\\san_mateo_plaza_hand.log\n",
      "2021-04-14 14:40:08, INFO: Processed 1 Node lines and 3 Link lines\n",
      "2021-04-14 14:40:08, INFO: Processed 1 Node lines and 3 Link lines\n",
      "2021-04-14 14:40:08, INFO: Lasso base directory set as: C:/Users/david.ory/Documents/github/mtc_Lasso\n",
      "2021-04-14 14:40:08, INFO: Lasso base directory set as: C:/Users/david.ory/Documents/github/mtc_Lasso\n",
      "2021-04-14 14:40:08, INFO: Lasso base directory set as: C:/Users/david.ory/Documents/github/mtc_Lasso\n",
      "2021-04-14 14:40:08, INFO: Lasso base directory set as: C:/Users/david.ory/Documents/github/mtc_Lasso\n",
      "2021-04-14 14:40:09, INFO: Evaluating compatibility between roadway network changes and base network. Not evaluating deletions.\n",
      "2021-04-14 14:40:09, INFO: Evaluating compatibility between roadway network changes and base network. Not evaluating deletions.\n",
      "2021-04-14 14:40:19, INFO: Evaluating project changes.\n",
      "2021-04-14 14:40:19, INFO: Evaluating project changes.\n",
      "2021-04-14 14:40:19, INFO: Length of link changes 3\n",
      "2021-04-14 14:40:19, INFO: Length of link changes 3\n",
      "2021-04-14 14:40:19, WARNING: The following attributes are specified in the changes but do not exist in the base network: ['OPERATION_final']\n",
      "2021-04-14 14:40:19, WARNING: The following attributes are specified in the changes but do not exist in the base network: ['OPERATION_final']\n",
      "2021-04-14 14:40:19, INFO: No link changes processed\n",
      "2021-04-14 14:40:19, INFO: No link changes processed\n"
     ]
    }
   ],
   "source": [
    "project = Project.create_project(\n",
    "        base_roadway_network = model_net,\n",
    "        roadway_log_file = os.path.join(input_dir, \"san_mateo_plaza_hand.log\"),\n",
    "        project_name = \"San Mateo Bridge Skeleton\",\n",
    "        parameters = parameters,\n",
    ")"
   ]
  },
  {
   "cell_type": "code",
   "execution_count": 16,
   "metadata": {},
   "outputs": [
    {
     "name": "stdout",
     "output_type": "stream",
     "text": [
      "2021-04-14 14:40:22, INFO: Wrote project card to: D:/david_ory_github/travel-model-two-networks-data\\data\\processed\\version_08\\San Mateo Skeleton.yml\n",
      "2021-04-14 14:40:22, INFO: Wrote project card to: D:/david_ory_github/travel-model-two-networks-data\\data\\processed\\version_08\\San Mateo Skeleton.yml\n"
     ]
    }
   ],
   "source": [
    "project.write_project_card(os.path.join(output_dir, \"San Mateo Skeleton.yml\"))"
   ]
  },
  {
   "cell_type": "markdown",
   "metadata": {},
   "source": [
    "## Make Golden Gate Bridge Skeleton"
   ]
  },
  {
   "cell_type": "code",
   "execution_count": 17,
   "metadata": {},
   "outputs": [
    {
     "name": "stdout",
     "output_type": "stream",
     "text": [
      "2021-04-14 14:50:38, INFO: No base transit network.\n",
      "2021-04-14 14:50:38, INFO: No base transit network.\n",
      "2021-04-14 14:50:38, INFO: No transit changes given or processed.\n",
      "2021-04-14 14:50:38, INFO: No transit changes given or processed.\n",
      "2021-04-14 14:50:38, INFO: Reading logfile: D:/david_ory_github/travel-model-two-networks-data\\data\\processed\\version_08\\golden_gate_plaza.log\n",
      "2021-04-14 14:50:38, INFO: Reading logfile: D:/david_ory_github/travel-model-two-networks-data\\data\\processed\\version_08\\golden_gate_plaza.log\n",
      "2021-04-14 14:50:38, INFO: Processed 1 Node lines and 3 Link lines\n",
      "2021-04-14 14:50:38, INFO: Processed 1 Node lines and 3 Link lines\n",
      "2021-04-14 14:50:38, INFO: Lasso base directory set as: C:/Users/david.ory/Documents/github/mtc_Lasso\n",
      "2021-04-14 14:50:38, INFO: Lasso base directory set as: C:/Users/david.ory/Documents/github/mtc_Lasso\n",
      "2021-04-14 14:50:38, INFO: Lasso base directory set as: C:/Users/david.ory/Documents/github/mtc_Lasso\n",
      "2021-04-14 14:50:38, INFO: Lasso base directory set as: C:/Users/david.ory/Documents/github/mtc_Lasso\n",
      "2021-04-14 14:50:38, INFO: Evaluating compatibility between roadway network changes and base network. Not evaluating deletions.\n",
      "2021-04-14 14:50:38, INFO: Evaluating compatibility between roadway network changes and base network. Not evaluating deletions.\n",
      "2021-04-14 14:50:48, INFO: Evaluating project changes.\n",
      "2021-04-14 14:50:48, INFO: Evaluating project changes.\n",
      "2021-04-14 14:50:48, INFO: Length of link changes 3\n",
      "2021-04-14 14:50:48, INFO: Length of link changes 3\n",
      "2021-04-14 14:50:48, WARNING: The following attributes are specified in the changes but do not exist in the base network: ['OPERATION_final']\n",
      "2021-04-14 14:50:48, WARNING: The following attributes are specified in the changes but do not exist in the base network: ['OPERATION_final']\n",
      "2021-04-14 14:50:48, INFO: No link changes processed\n",
      "2021-04-14 14:50:48, INFO: No link changes processed\n"
     ]
    }
   ],
   "source": [
    "project = Project.create_project(\n",
    "        base_roadway_network = model_net,\n",
    "        roadway_log_file = os.path.join(input_dir, \"golden_gate_plaza.log\"),\n",
    "        project_name = \"Golden Gate Bridge Skeleton\",\n",
    "        parameters = parameters,\n",
    ")"
   ]
  },
  {
   "cell_type": "code",
   "execution_count": 18,
   "metadata": {},
   "outputs": [
    {
     "name": "stdout",
     "output_type": "stream",
     "text": [
      "2021-04-14 14:50:58, INFO: Wrote project card to: D:/david_ory_github/travel-model-two-networks-data\\data\\processed\\version_08\\Golden Gate Skeleton.yml\n",
      "2021-04-14 14:50:58, INFO: Wrote project card to: D:/david_ory_github/travel-model-two-networks-data\\data\\processed\\version_08\\Golden Gate Skeleton.yml\n"
     ]
    }
   ],
   "source": [
    "project.write_project_card(os.path.join(output_dir, \"Golden Gate Skeleton.yml\"))"
   ]
  },
  {
   "cell_type": "code",
   "execution_count": null,
   "metadata": {},
   "outputs": [],
   "source": []
  }
 ],
 "metadata": {
  "kernelspec": {
   "display_name": "Python 3",
   "language": "python",
   "name": "python3"
  },
  "language_info": {
   "codemirror_mode": {
    "name": "ipython",
    "version": 3
   },
   "file_extension": ".py",
   "mimetype": "text/x-python",
   "name": "python",
   "nbconvert_exporter": "python",
   "pygments_lexer": "ipython3",
   "version": "3.7.8"
  }
 },
 "nbformat": 4,
 "nbformat_minor": 4
}
