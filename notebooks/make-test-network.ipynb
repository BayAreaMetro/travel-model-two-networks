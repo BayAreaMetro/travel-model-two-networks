{
 "cells": [
  {
   "cell_type": "markdown",
   "metadata": {},
   "source": [
    "# Make Test Network"
   ]
  },
  {
   "cell_type": "code",
   "execution_count": 1,
   "metadata": {},
   "outputs": [],
   "source": [
    "import os\n",
    "import sys\n",
    "import yaml\n",
    "import glob\n",
    "import copy\n",
    "\n",
    "import pandas as pd\n",
    "import geopandas as gpd\n",
    "\n",
    "from network_wrangler import RoadwayNetwork\n",
    "from network_wrangler import TransitNetwork\n",
    "from network_wrangler import WranglerLogger\n",
    "\n",
    "from lasso import ModelRoadwayNetwork\n",
    "from lasso import StandardTransit\n",
    "from lasso import Parameters\n",
    "from lasso import mtc"
   ]
  },
  {
   "cell_type": "code",
   "execution_count": 2,
   "metadata": {},
   "outputs": [],
   "source": [
    "%load_ext autoreload\n",
    "%autoreload 2"
   ]
  },
  {
   "cell_type": "code",
   "execution_count": 3,
   "metadata": {},
   "outputs": [],
   "source": [
    "import logging\n",
    "logger = logging.getLogger(\"WranglerLogger\")\n",
    "logger.handlers[0].stream = sys.stdout\n",
    "logger.setLevel(logging.INFO)"
   ]
  },
  {
   "cell_type": "markdown",
   "metadata": {},
   "source": [
    "### Remote I/O and Parameters"
   ]
  },
  {
   "cell_type": "code",
   "execution_count": 4,
   "metadata": {},
   "outputs": [],
   "source": [
    "# root_dir = os.path.join('/Users', 'wsp', 'Documents', 'GitHub', 'travel-model-two-networks')\n",
    "root_dir = os.path.join('C:\\\\Users', 'david.ory', 'Documents', 'GitHub', 'travel-model-two-networks')\n",
    "input_dir = os.path.join(root_dir, 'data', 'processed', 'version_03')\n",
    "boundary_dir = os.path.join(root_dir, 'data', 'external', 'census')\n",
    "\n",
    "# lasso_dir = os.path.join('/Users', 'wsp', 'Documents', 'GitHub', 'mtc-Lasso')\n",
    "lasso_dir = os.path.join('C:\\\\Users', 'david.ory', 'Documents', 'GitHub', 'mtc_Lasso')\n",
    "output_dir = os.path.join(lasso_dir, \"examples\", \"mtc\")"
   ]
  },
  {
   "cell_type": "code",
   "execution_count": 6,
   "metadata": {},
   "outputs": [
    {
     "name": "stdout",
     "output_type": "stream",
     "text": [
      "2021-01-26 11:36:05, INFO: Lasso base directory set as: Z:/Data/Users/Sijia/MTC/github/Lasso\n",
      "2021-01-26 11:36:05, INFO: Lasso base directory set as: Z:/Data/Users/Sijia/MTC/github/Lasso\n",
      "2021-01-26 11:36:05, INFO: Lasso base directory set as: Z:/Data/Users/Sijia/MTC/github/Lasso\n",
      "2021-01-26 11:36:05, INFO: Lasso base directory set as: Z:/Data/Users/Sijia/MTC/github/Lasso\n"
     ]
    }
   ],
   "source": [
    "parameters = Parameters(lasso_base_dir = lasso_dir)"
   ]
  },
  {
   "cell_type": "markdown",
   "metadata": {},
   "source": [
    "### Data Reads"
   ]
  },
  {
   "cell_type": "code",
   "execution_count": 7,
   "metadata": {},
   "outputs": [
    {
     "name": "stdout",
     "output_type": "stream",
     "text": [
      "2021-01-26 11:36:05, INFO: Reading RoadwayNetwork\n",
      "2021-01-26 11:36:05, INFO: Reading RoadwayNetwork\n",
      "2021-01-26 11:41:06, INFO: Read 2230053 links from D:/gitHub/travel-model-two-networks\\data\\processed\\version_03\\v03_link.json\n",
      "2021-01-26 11:41:06, INFO: Read 2230053 links from D:/gitHub/travel-model-two-networks\\data\\processed\\version_03\\v03_link.json\n",
      "2021-01-26 11:41:06, INFO: Read 696464 nodes from D:/gitHub/travel-model-two-networks\\data\\processed\\version_03\\v03_node.geojson\n",
      "2021-01-26 11:41:06, INFO: Read 696464 nodes from D:/gitHub/travel-model-two-networks\\data\\processed\\version_03\\v03_node.geojson\n",
      "2021-01-26 11:41:06, INFO: Read 1169824 shapes from D:/gitHub/travel-model-two-networks\\data\\processed\\version_03\\v03_shape.geojson\n",
      "2021-01-26 11:41:06, INFO: Read 1169824 shapes from D:/gitHub/travel-model-two-networks\\data\\processed\\version_03\\v03_shape.geojson\n"
     ]
    }
   ],
   "source": [
    "link_file = os.path.join(input_dir, 'v03_link.json')\n",
    "node_file = os.path.join(input_dir, 'v03_node.geojson')\n",
    "shape_file = os.path.join(input_dir, 'v03_shape.geojson')\n",
    "\n",
    "road_net = RoadwayNetwork.read(\n",
    "    link_filename = link_file, \n",
    "    node_filename = node_file, \n",
    "    shape_filename = shape_file\n",
    ")"
   ]
  },
  {
   "cell_type": "code",
   "execution_count": 8,
   "metadata": {},
   "outputs": [
    {
     "name": "stdout",
     "output_type": "stream",
     "text": [
      "2021-01-26 11:47:10, INFO: Read in transit feed from: D:/gitHub/travel-model-two-networks\\data\\processed\\version_03\n",
      "2021-01-26 11:47:10, INFO: Read in transit feed from: D:/gitHub/travel-model-two-networks\\data\\processed\\version_03\n",
      "2021-01-26 11:47:12, INFO: Removing fare_attributes.txt from transit network config because file not found\n",
      "2021-01-26 11:47:12, INFO: Removing fare_attributes.txt from transit network config because file not found\n",
      "2021-01-26 11:47:12, INFO: Removing fare_rules.txt from transit network config because file not found\n",
      "2021-01-26 11:47:12, INFO: Removing fare_rules.txt from transit network config because file not found\n",
      "2021-01-26 11:47:13, INFO: Removing transfers.txt from transit network config because file not found\n",
      "2021-01-26 11:47:13, INFO: Removing transfers.txt from transit network config because file not found\n",
      "2021-01-26 11:47:13, WARNING: The following stop_ids from are referenced but missing from stops.txt: ['place_CVBA', 'ctsj', 'place_WOBA', 'ctgi', 'place_FVMA', 'place_TAPI', 'ctsmat', 'place_SHBA', 'ctcap', 'place_14BD', 'place_4SSP', 'place_SNCO', 'place_NEPA', 'place_HPNR', 'ctbu', 'place_HIWY', 'place_MBLS', 'place_CHCO', 'ctssf', 'ctmp', 'place_SHDF', 'place_NAMO', 'ctha', 'place_FRBA', 'place_EBBA', 'place_CSSH', 'place_11BD', 'place_HRSH', 'ctmi', 'ctmv', 'ctsmar', 'ctco', 'ctba', 'place_BNTE', 'place_PAHE', 'place_CCCO', 'ct22', 'ctrwc', 'place_PSOT', 'ctbe', 'place_ROBA', 'ctca', 'place_90MA', 'place_12BD', 'place_11JE', 'ctscl', 'ctsa', 'place_MOME', 'place_HBBA', 'cthi', 'ctsb', 'place_DBBA', 'place_ETSF', 'place_FBBA', 'place_SMSE', 'ctta', 'place_BDBL', 'place_BYBA', 'ctsu', 'place_CBBA', 'ctsf', 'ctsc', 'ctbl', 'ctpa', 'ctla', 'ctmh']\n",
      "2021-01-26 11:47:13, WARNING: The following stop_ids from are referenced but missing from stops.txt: ['place_CVBA', 'ctsj', 'place_WOBA', 'ctgi', 'place_FVMA', 'place_TAPI', 'ctsmat', 'place_SHBA', 'ctcap', 'place_14BD', 'place_4SSP', 'place_SNCO', 'place_NEPA', 'place_HPNR', 'ctbu', 'place_HIWY', 'place_MBLS', 'place_CHCO', 'ctssf', 'ctmp', 'place_SHDF', 'place_NAMO', 'ctha', 'place_FRBA', 'place_EBBA', 'place_CSSH', 'place_11BD', 'place_HRSH', 'ctmi', 'ctmv', 'ctsmar', 'ctco', 'ctba', 'place_BNTE', 'place_PAHE', 'place_CCCO', 'ct22', 'ctrwc', 'place_PSOT', 'ctbe', 'place_ROBA', 'ctca', 'place_90MA', 'place_12BD', 'place_11JE', 'ctscl', 'ctsa', 'place_MOME', 'place_HBBA', 'cthi', 'ctsb', 'place_DBBA', 'place_ETSF', 'place_FBBA', 'place_SMSE', 'ctta', 'place_BDBL', 'place_BYBA', 'ctsu', 'place_CBBA', 'ctsf', 'ctsc', 'ctbl', 'ctpa', 'ctla', 'ctmh']\n"
     ]
    }
   ],
   "source": [
    "transit_net = TransitNetwork.read(feed_path = input_dir)"
   ]
  },
  {
   "cell_type": "code",
   "execution_count": 9,
   "metadata": {},
   "outputs": [
    {
     "data": {
      "text/html": [
       "<div>\n",
       "<style scoped>\n",
       "    .dataframe tbody tr th:only-of-type {\n",
       "        vertical-align: middle;\n",
       "    }\n",
       "\n",
       "    .dataframe tbody tr th {\n",
       "        vertical-align: top;\n",
       "    }\n",
       "\n",
       "    .dataframe thead th {\n",
       "        text-align: right;\n",
       "    }\n",
       "</style>\n",
       "<table border=\"1\" class=\"dataframe\">\n",
       "  <thead>\n",
       "    <tr style=\"text-align: right;\">\n",
       "      <th></th>\n",
       "      <th>STATEFP</th>\n",
       "      <th>PLACEFP</th>\n",
       "      <th>PLACENS</th>\n",
       "      <th>GEOID</th>\n",
       "      <th>NAME</th>\n",
       "      <th>NAMELSAD</th>\n",
       "      <th>LSAD</th>\n",
       "      <th>CLASSFP</th>\n",
       "      <th>PCICBSA</th>\n",
       "      <th>PCINECTA</th>\n",
       "      <th>MTFCC</th>\n",
       "      <th>FUNCSTAT</th>\n",
       "      <th>ALAND</th>\n",
       "      <th>AWATER</th>\n",
       "      <th>INTPTLAT</th>\n",
       "      <th>INTPTLON</th>\n",
       "      <th>geometry</th>\n",
       "    </tr>\n",
       "  </thead>\n",
       "  <tbody>\n",
       "    <tr>\n",
       "      <th>0</th>\n",
       "      <td>06</td>\n",
       "      <td>66140</td>\n",
       "      <td>02411785</td>\n",
       "      <td>0666140</td>\n",
       "      <td>San Fernando</td>\n",
       "      <td>San Fernando city</td>\n",
       "      <td>25</td>\n",
       "      <td>C1</td>\n",
       "      <td>N</td>\n",
       "      <td>N</td>\n",
       "      <td>G4110</td>\n",
       "      <td>A</td>\n",
       "      <td>6148697</td>\n",
       "      <td>0</td>\n",
       "      <td>+34.2886519</td>\n",
       "      <td>-118.4362413</td>\n",
       "      <td>POLYGON ((-13186463.855 4067122.651, -13186256...</td>\n",
       "    </tr>\n",
       "    <tr>\n",
       "      <th>1</th>\n",
       "      <td>06</td>\n",
       "      <td>14190</td>\n",
       "      <td>02409487</td>\n",
       "      <td>0614190</td>\n",
       "      <td>Cloverdale</td>\n",
       "      <td>Cloverdale city</td>\n",
       "      <td>25</td>\n",
       "      <td>C1</td>\n",
       "      <td>N</td>\n",
       "      <td>N</td>\n",
       "      <td>G4110</td>\n",
       "      <td>A</td>\n",
       "      <td>7863863</td>\n",
       "      <td>59201</td>\n",
       "      <td>+38.7959624</td>\n",
       "      <td>-123.0153700</td>\n",
       "      <td>POLYGON ((-13696207.846 4691208.338, -13696205...</td>\n",
       "    </tr>\n",
       "    <tr>\n",
       "      <th>2</th>\n",
       "      <td>06</td>\n",
       "      <td>16560</td>\n",
       "      <td>02410240</td>\n",
       "      <td>0616560</td>\n",
       "      <td>Cotati</td>\n",
       "      <td>Cotati city</td>\n",
       "      <td>25</td>\n",
       "      <td>C1</td>\n",
       "      <td>N</td>\n",
       "      <td>N</td>\n",
       "      <td>G4110</td>\n",
       "      <td>A</td>\n",
       "      <td>4869007</td>\n",
       "      <td>8380</td>\n",
       "      <td>+38.3284920</td>\n",
       "      <td>-122.7100491</td>\n",
       "      <td>POLYGON ((-13662197.838 4626644.614, -13662188...</td>\n",
       "    </tr>\n",
       "    <tr>\n",
       "      <th>3</th>\n",
       "      <td>06</td>\n",
       "      <td>65042</td>\n",
       "      <td>02411779</td>\n",
       "      <td>0665042</td>\n",
       "      <td>San Buenaventura (Ventura)</td>\n",
       "      <td>San Buenaventura (Ventura) city</td>\n",
       "      <td>25</td>\n",
       "      <td>C1</td>\n",
       "      <td>Y</td>\n",
       "      <td>N</td>\n",
       "      <td>G4110</td>\n",
       "      <td>A</td>\n",
       "      <td>56500370</td>\n",
       "      <td>27033715</td>\n",
       "      <td>+34.2677796</td>\n",
       "      <td>-119.2542062</td>\n",
       "      <td>MULTIPOLYGON (((-13280094.138 4075172.878, -13...</td>\n",
       "    </tr>\n",
       "    <tr>\n",
       "      <th>4</th>\n",
       "      <td>06</td>\n",
       "      <td>30014</td>\n",
       "      <td>02410601</td>\n",
       "      <td>0630014</td>\n",
       "      <td>Glendora</td>\n",
       "      <td>Glendora city</td>\n",
       "      <td>25</td>\n",
       "      <td>C1</td>\n",
       "      <td>N</td>\n",
       "      <td>N</td>\n",
       "      <td>G4110</td>\n",
       "      <td>A</td>\n",
       "      <td>50251851</td>\n",
       "      <td>403066</td>\n",
       "      <td>+34.1449667</td>\n",
       "      <td>-117.8476672</td>\n",
       "      <td>POLYGON ((-13123577.793 4048398.248, -13123527...</td>\n",
       "    </tr>\n",
       "  </tbody>\n",
       "</table>\n",
       "</div>"
      ],
      "text/plain": [
       "  STATEFP PLACEFP   PLACENS    GEOID                        NAME  \\\n",
       "0      06   66140  02411785  0666140                San Fernando   \n",
       "1      06   14190  02409487  0614190                  Cloverdale   \n",
       "2      06   16560  02410240  0616560                      Cotati   \n",
       "3      06   65042  02411779  0665042  San Buenaventura (Ventura)   \n",
       "4      06   30014  02410601  0630014                    Glendora   \n",
       "\n",
       "                          NAMELSAD LSAD CLASSFP PCICBSA PCINECTA  MTFCC  \\\n",
       "0                San Fernando city   25      C1       N        N  G4110   \n",
       "1                  Cloverdale city   25      C1       N        N  G4110   \n",
       "2                      Cotati city   25      C1       N        N  G4110   \n",
       "3  San Buenaventura (Ventura) city   25      C1       Y        N  G4110   \n",
       "4                    Glendora city   25      C1       N        N  G4110   \n",
       "\n",
       "  FUNCSTAT     ALAND    AWATER     INTPTLAT      INTPTLON  \\\n",
       "0        A   6148697         0  +34.2886519  -118.4362413   \n",
       "1        A   7863863     59201  +38.7959624  -123.0153700   \n",
       "2        A   4869007      8380  +38.3284920  -122.7100491   \n",
       "3        A  56500370  27033715  +34.2677796  -119.2542062   \n",
       "4        A  50251851    403066  +34.1449667  -117.8476672   \n",
       "\n",
       "                                            geometry  \n",
       "0  POLYGON ((-13186463.855 4067122.651, -13186256...  \n",
       "1  POLYGON ((-13696207.846 4691208.338, -13696205...  \n",
       "2  POLYGON ((-13662197.838 4626644.614, -13662188...  \n",
       "3  MULTIPOLYGON (((-13280094.138 4075172.878, -13...  \n",
       "4  POLYGON ((-13123577.793 4048398.248, -13123527...  "
      ]
     },
     "execution_count": 9,
     "metadata": {},
     "output_type": "execute_result"
    }
   ],
   "source": [
    "places_gdf = gpd.read_file(os.path.join(boundary_dir, 'CA_Places_TIGER2016.shp'))\n",
    "places_gdf.head()"
   ]
  },
  {
   "cell_type": "code",
   "execution_count": 10,
   "metadata": {},
   "outputs": [
    {
     "data": {
      "text/html": [
       "<div>\n",
       "<style scoped>\n",
       "    .dataframe tbody tr th:only-of-type {\n",
       "        vertical-align: middle;\n",
       "    }\n",
       "\n",
       "    .dataframe tbody tr th {\n",
       "        vertical-align: top;\n",
       "    }\n",
       "\n",
       "    .dataframe thead th {\n",
       "        text-align: right;\n",
       "    }\n",
       "</style>\n",
       "<table border=\"1\" class=\"dataframe\">\n",
       "  <thead>\n",
       "    <tr style=\"text-align: right;\">\n",
       "      <th></th>\n",
       "      <th>STATEFP</th>\n",
       "      <th>PLACEFP</th>\n",
       "      <th>PLACENS</th>\n",
       "      <th>GEOID</th>\n",
       "      <th>NAME</th>\n",
       "      <th>NAMELSAD</th>\n",
       "      <th>LSAD</th>\n",
       "      <th>CLASSFP</th>\n",
       "      <th>PCICBSA</th>\n",
       "      <th>PCINECTA</th>\n",
       "      <th>MTFCC</th>\n",
       "      <th>FUNCSTAT</th>\n",
       "      <th>ALAND</th>\n",
       "      <th>AWATER</th>\n",
       "      <th>INTPTLAT</th>\n",
       "      <th>INTPTLON</th>\n",
       "      <th>geometry</th>\n",
       "    </tr>\n",
       "  </thead>\n",
       "  <tbody>\n",
       "    <tr>\n",
       "      <th>472</th>\n",
       "      <td>06</td>\n",
       "      <td>81204</td>\n",
       "      <td>02412130</td>\n",
       "      <td>0681204</td>\n",
       "      <td>Union City</td>\n",
       "      <td>Union City city</td>\n",
       "      <td>25</td>\n",
       "      <td>C1</td>\n",
       "      <td>N</td>\n",
       "      <td>N</td>\n",
       "      <td>G4110</td>\n",
       "      <td>A</td>\n",
       "      <td>50244982</td>\n",
       "      <td>0</td>\n",
       "      <td>+37.6029595</td>\n",
       "      <td>-122.0187225</td>\n",
       "      <td>POLYGON ((-122.09655 37.58293, -122.09648 37.5...</td>\n",
       "    </tr>\n",
       "  </tbody>\n",
       "</table>\n",
       "</div>"
      ],
      "text/plain": [
       "    STATEFP PLACEFP   PLACENS    GEOID        NAME         NAMELSAD LSAD  \\\n",
       "472      06   81204  02412130  0681204  Union City  Union City city   25   \n",
       "\n",
       "    CLASSFP PCICBSA PCINECTA  MTFCC FUNCSTAT     ALAND  AWATER     INTPTLAT  \\\n",
       "472      C1       N        N  G4110        A  50244982       0  +37.6029595   \n",
       "\n",
       "         INTPTLON                                           geometry  \n",
       "472  -122.0187225  POLYGON ((-122.09655 37.58293, -122.09648 37.5...  "
      ]
     },
     "execution_count": 10,
     "metadata": {},
     "output_type": "execute_result"
    }
   ],
   "source": [
    "union_city_gdf = places_gdf.loc[places_gdf['NAME'] == 'Union City'].to_crs(4326)\n",
    "union_city_gdf.head()"
   ]
  },
  {
   "cell_type": "markdown",
   "metadata": {},
   "source": [
    "### Transit Selections"
   ]
  },
  {
   "cell_type": "code",
   "execution_count": 13,
   "metadata": {},
   "outputs": [],
   "source": [
    "agency_df = transit_net.feed.agency.loc[transit_net.feed.agency['agency_id'] == 'UCT']\n",
    "routes_df = transit_net.feed.routes.loc[transit_net.feed.routes['agency_id'] == 'UCT']\n",
    "trips_df = transit_net.feed.trips[transit_net.feed.trips['route_id'].isin(routes_df['route_id'])]\n",
    "freqs_df = transit_net.feed.frequencies[transit_net.feed.frequencies['trip_id'].isin(trips_df['trip_id'])]\n",
    "shapes_df = transit_net.feed.shapes[transit_net.feed.shapes['shape_id'].isin(trips_df['shape_id'])]\n",
    "stop_times_df = transit_net.feed.stop_times[transit_net.feed.stop_times['trip_id'].isin(trips_df['trip_id'])]\n",
    "stops_df = transit_net.feed.stops[transit_net.feed.stops['stop_id'].isin(stop_times_df['stop_id'])]"
   ]
  },
  {
   "cell_type": "markdown",
   "metadata": {},
   "source": [
    "### Roadway Selection"
   ]
  },
  {
   "cell_type": "code",
   "execution_count": 11,
   "metadata": {},
   "outputs": [],
   "source": [
    "shapes_gdf = road_net.shapes_df.copy()"
   ]
  },
  {
   "cell_type": "code",
   "execution_count": 17,
   "metadata": {},
   "outputs": [
    {
     "name": "stdout",
     "output_type": "stream",
     "text": [
      "<class 'geopandas.geodataframe.GeoDataFrame'>\n",
      "Int64Index: 1169824 entries, 0 to 1169823\n",
      "Data columns (total 8 columns):\n",
      "index                 1169824 non-null int64\n",
      "backReferenceId       869970 non-null object\n",
      "forwardReferenceId    869970 non-null object\n",
      "fromIntersectionId    1147790 non-null object\n",
      "id                    1169824 non-null object\n",
      "shape_id              869970 non-null float64\n",
      "toIntersectionId      869970 non-null object\n",
      "geometry              1169824 non-null geometry\n",
      "dtypes: float64(1), geometry(1), int64(1), object(5)\n",
      "memory usage: 80.3+ MB\n"
     ]
    }
   ],
   "source": [
    "shapes_gdf.info()"
   ]
  },
  {
   "cell_type": "code",
   "execution_count": 14,
   "metadata": {},
   "outputs": [],
   "source": [
    "union_city_shapes_gdf = gpd.sjoin(shapes_gdf, union_city_gdf, op='intersects')"
   ]
  },
  {
   "cell_type": "code",
   "execution_count": 16,
   "metadata": {
    "scrolled": false
   },
   "outputs": [
    {
     "name": "stdout",
     "output_type": "stream",
     "text": [
      "<class 'geopandas.geodataframe.GeoDataFrame'>\n",
      "Int64Index: 8514 entries, 47424 to 1169819\n",
      "Data columns (total 25 columns):\n",
      "index                 8514 non-null int64\n",
      "backReferenceId       6273 non-null object\n",
      "forwardReferenceId    6273 non-null object\n",
      "fromIntersectionId    8274 non-null object\n",
      "id                    8514 non-null object\n",
      "shape_id              6273 non-null float64\n",
      "toIntersectionId      6273 non-null object\n",
      "geometry              8514 non-null geometry\n",
      "index_right           8514 non-null int64\n",
      "STATEFP               8514 non-null object\n",
      "PLACEFP               8514 non-null object\n",
      "PLACENS               8514 non-null object\n",
      "GEOID                 8514 non-null object\n",
      "NAME                  8514 non-null object\n",
      "NAMELSAD              8514 non-null object\n",
      "LSAD                  8514 non-null object\n",
      "CLASSFP               8514 non-null object\n",
      "PCICBSA               8514 non-null object\n",
      "PCINECTA              8514 non-null object\n",
      "MTFCC                 8514 non-null object\n",
      "FUNCSTAT              8514 non-null object\n",
      "ALAND                 8514 non-null int64\n",
      "AWATER                8514 non-null int64\n",
      "INTPTLAT              8514 non-null object\n",
      "INTPTLON              8514 non-null object\n",
      "dtypes: float64(1), geometry(1), int64(4), object(19)\n",
      "memory usage: 1.7+ MB\n"
     ]
    }
   ],
   "source": [
    "union_city_shapes_gdf.info()"
   ]
  },
  {
   "cell_type": "code",
   "execution_count": 28,
   "metadata": {
    "scrolled": true
   },
   "outputs": [
    {
     "data": {
      "text/plain": [
       "Index(['index', 'A', 'B', 'access', 'assignable', 'bike_access', 'county',\n",
       "       'distance', 'drive_access', 'egress', 'fromIntersectionId', 'ft',\n",
       "       'ft_cal', 'id', 'lanes', 'locationReferences', 'managed', 'maxspeed',\n",
       "       'model_link_id', 'name', 'oneWay', 'rail_only', 'rail_traveltime',\n",
       "       'ref', 'roadway', 'segment_id', 'shape_id', 'shstGeometryId',\n",
       "       'shstReferenceId', 'toIntersectionId', 'tollbooth', 'tollseg',\n",
       "       'transit', 'u', 'useclass', 'v', 'walk_access', 'wayId', 'cntype',\n",
       "       'lanes_EA', 'lanes_AM', 'lanes_MD', 'lanes_PM', 'lanes_EV',\n",
       "       'ML_lanes_EA', 'ML_lanes_AM', 'ML_lanes_MD', 'ML_lanes_PM',\n",
       "       'ML_lanes_EV', 'useclass_EA', 'useclass_AM', 'useclass_MD',\n",
       "       'useclass_PM', 'useclass_EV', 'geometry'],\n",
       "      dtype='object')"
      ]
     },
     "execution_count": 28,
     "metadata": {},
     "output_type": "execute_result"
    }
   ],
   "source": [
    "links_df = road_net.links_df.copy()\n",
    "links_df.columns"
   ]
  },
  {
   "cell_type": "code",
   "execution_count": 20,
   "metadata": {},
   "outputs": [],
   "source": [
    "union_city_transit_links_df = links_df[(links_df.A.isin(shapes_df.shape_model_node_id.tolist())) | \n",
    "                                       (links_df.B.isin(shapes_df.shape_model_node_id.tolist()))].copy()"
   ]
  },
  {
   "cell_type": "code",
   "execution_count": 29,
   "metadata": {},
   "outputs": [],
   "source": [
    "union_city_links_df = links_df[(links_df.model_link_id.isin(union_city_transit_links_df.model_link_id)) |\n",
    "                               (links_df.shstGeometryId.isin(union_city_shapes_gdf.id))].copy()"
   ]
  },
  {
   "cell_type": "code",
   "execution_count": 38,
   "metadata": {},
   "outputs": [],
   "source": [
    "union_city_links_df[\"bus_only\"] = 0"
   ]
  },
  {
   "cell_type": "code",
   "execution_count": 30,
   "metadata": {},
   "outputs": [
    {
     "data": {
      "text/plain": [
       "(16411, 55)"
      ]
     },
     "execution_count": 30,
     "metadata": {},
     "output_type": "execute_result"
    }
   ],
   "source": [
    "union_city_links_df.shape"
   ]
  },
  {
   "cell_type": "code",
   "execution_count": 31,
   "metadata": {},
   "outputs": [
    {
     "data": {
      "text/html": [
       "<div>\n",
       "<style scoped>\n",
       "    .dataframe tbody tr th:only-of-type {\n",
       "        vertical-align: middle;\n",
       "    }\n",
       "\n",
       "    .dataframe tbody tr th {\n",
       "        vertical-align: top;\n",
       "    }\n",
       "\n",
       "    .dataframe thead th {\n",
       "        text-align: right;\n",
       "    }\n",
       "</style>\n",
       "<table border=\"1\" class=\"dataframe\">\n",
       "  <thead>\n",
       "    <tr style=\"text-align: right;\">\n",
       "      <th></th>\n",
       "      <th>model_node_id</th>\n",
       "      <th>index</th>\n",
       "      <th>osm_node_id</th>\n",
       "      <th>shst_node_id</th>\n",
       "      <th>county</th>\n",
       "      <th>drive_access</th>\n",
       "      <th>walk_access</th>\n",
       "      <th>bike_access</th>\n",
       "      <th>rail_only</th>\n",
       "      <th>X</th>\n",
       "      <th>Y</th>\n",
       "      <th>farezone</th>\n",
       "      <th>geometry</th>\n",
       "    </tr>\n",
       "    <tr>\n",
       "      <th>model_node_id_idx</th>\n",
       "      <th></th>\n",
       "      <th></th>\n",
       "      <th></th>\n",
       "      <th></th>\n",
       "      <th></th>\n",
       "      <th></th>\n",
       "      <th></th>\n",
       "      <th></th>\n",
       "      <th></th>\n",
       "      <th></th>\n",
       "      <th></th>\n",
       "      <th></th>\n",
       "      <th></th>\n",
       "    </tr>\n",
       "  </thead>\n",
       "  <tbody>\n",
       "    <tr>\n",
       "      <th>3000000</th>\n",
       "      <td>3000000</td>\n",
       "      <td>0</td>\n",
       "      <td>2.40124e+09</td>\n",
       "      <td>505d64eb98f1da8d812a3b3801034308</td>\n",
       "      <td>Contra Costa</td>\n",
       "      <td>1</td>\n",
       "      <td>1</td>\n",
       "      <td>1</td>\n",
       "      <td>0</td>\n",
       "      <td>-122.331554</td>\n",
       "      <td>37.981204</td>\n",
       "      <td>0</td>\n",
       "      <td>POINT (-122.33155 37.98120)</td>\n",
       "    </tr>\n",
       "    <tr>\n",
       "      <th>3000001</th>\n",
       "      <td>3000001</td>\n",
       "      <td>1</td>\n",
       "      <td>5.78391e+07</td>\n",
       "      <td>473979c78435732f01ca5a168afb62e0</td>\n",
       "      <td>Contra Costa</td>\n",
       "      <td>1</td>\n",
       "      <td>1</td>\n",
       "      <td>1</td>\n",
       "      <td>0</td>\n",
       "      <td>-121.944770</td>\n",
       "      <td>37.953322</td>\n",
       "      <td>0</td>\n",
       "      <td>POINT (-121.94477 37.95332)</td>\n",
       "    </tr>\n",
       "    <tr>\n",
       "      <th>5000000</th>\n",
       "      <td>5000000</td>\n",
       "      <td>2</td>\n",
       "      <td>1.02439e+09</td>\n",
       "      <td>fc7b575d5d8c961d4a70fca846ae7f80</td>\n",
       "      <td>Marin</td>\n",
       "      <td>1</td>\n",
       "      <td>1</td>\n",
       "      <td>1</td>\n",
       "      <td>0</td>\n",
       "      <td>-122.539828</td>\n",
       "      <td>37.897999</td>\n",
       "      <td>0</td>\n",
       "      <td>POINT (-122.53983 37.89800)</td>\n",
       "    </tr>\n",
       "    <tr>\n",
       "      <th>2000000</th>\n",
       "      <td>2000000</td>\n",
       "      <td>3</td>\n",
       "      <td>6.55614e+07</td>\n",
       "      <td>6c60cf34e9dc3e123eefb829fe80c76a</td>\n",
       "      <td>Santa Clara</td>\n",
       "      <td>1</td>\n",
       "      <td>1</td>\n",
       "      <td>1</td>\n",
       "      <td>0</td>\n",
       "      <td>-122.031897</td>\n",
       "      <td>37.267386</td>\n",
       "      <td>1</td>\n",
       "      <td>POINT (-122.03190 37.26739)</td>\n",
       "    </tr>\n",
       "    <tr>\n",
       "      <th>2000001</th>\n",
       "      <td>2000001</td>\n",
       "      <td>4</td>\n",
       "      <td>4.54558e+09</td>\n",
       "      <td>013e1f994fd86c1f226098f8364f7286</td>\n",
       "      <td>Santa Clara</td>\n",
       "      <td>1</td>\n",
       "      <td>1</td>\n",
       "      <td>1</td>\n",
       "      <td>0</td>\n",
       "      <td>-122.011863</td>\n",
       "      <td>37.378447</td>\n",
       "      <td>0</td>\n",
       "      <td>POINT (-122.01186 37.37845)</td>\n",
       "    </tr>\n",
       "  </tbody>\n",
       "</table>\n",
       "</div>"
      ],
      "text/plain": [
       "                   model_node_id  index  osm_node_id  \\\n",
       "model_node_id_idx                                      \n",
       "3000000                  3000000      0  2.40124e+09   \n",
       "3000001                  3000001      1  5.78391e+07   \n",
       "5000000                  5000000      2  1.02439e+09   \n",
       "2000000                  2000000      3  6.55614e+07   \n",
       "2000001                  2000001      4  4.54558e+09   \n",
       "\n",
       "                                       shst_node_id        county  \\\n",
       "model_node_id_idx                                                   \n",
       "3000000            505d64eb98f1da8d812a3b3801034308  Contra Costa   \n",
       "3000001            473979c78435732f01ca5a168afb62e0  Contra Costa   \n",
       "5000000            fc7b575d5d8c961d4a70fca846ae7f80         Marin   \n",
       "2000000            6c60cf34e9dc3e123eefb829fe80c76a   Santa Clara   \n",
       "2000001            013e1f994fd86c1f226098f8364f7286   Santa Clara   \n",
       "\n",
       "                   drive_access  walk_access  bike_access  rail_only  \\\n",
       "model_node_id_idx                                                      \n",
       "3000000                       1            1            1          0   \n",
       "3000001                       1            1            1          0   \n",
       "5000000                       1            1            1          0   \n",
       "2000000                       1            1            1          0   \n",
       "2000001                       1            1            1          0   \n",
       "\n",
       "                            X          Y  farezone  \\\n",
       "model_node_id_idx                                    \n",
       "3000000           -122.331554  37.981204         0   \n",
       "3000001           -121.944770  37.953322         0   \n",
       "5000000           -122.539828  37.897999         0   \n",
       "2000000           -122.031897  37.267386         1   \n",
       "2000001           -122.011863  37.378447         0   \n",
       "\n",
       "                                      geometry  \n",
       "model_node_id_idx                               \n",
       "3000000            POINT (-122.33155 37.98120)  \n",
       "3000001            POINT (-121.94477 37.95332)  \n",
       "5000000            POINT (-122.53983 37.89800)  \n",
       "2000000            POINT (-122.03190 37.26739)  \n",
       "2000001            POINT (-122.01186 37.37845)  "
      ]
     },
     "execution_count": 31,
     "metadata": {},
     "output_type": "execute_result"
    }
   ],
   "source": [
    "nodes_df = road_net.nodes_df.copy()\n",
    "nodes_df.head()"
   ]
  },
  {
   "cell_type": "code",
   "execution_count": 32,
   "metadata": {},
   "outputs": [
    {
     "name": "stdout",
     "output_type": "stream",
     "text": [
      "<class 'geopandas.geodataframe.GeoDataFrame'>\n",
      "Int64Index: 696464 entries, 3000000 to 7547315\n",
      "Data columns (total 13 columns):\n",
      "model_node_id    696464 non-null int64\n",
      "index            696464 non-null int64\n",
      "osm_node_id      696464 non-null object\n",
      "shst_node_id     696464 non-null object\n",
      "county           696464 non-null object\n",
      "drive_access     696464 non-null int64\n",
      "walk_access      696464 non-null int64\n",
      "bike_access      696464 non-null int64\n",
      "rail_only        696464 non-null int64\n",
      "X                696464 non-null float64\n",
      "Y                696464 non-null float64\n",
      "farezone         696464 non-null int64\n",
      "geometry         696464 non-null geometry\n",
      "dtypes: float64(2), geometry(1), int64(7), object(3)\n",
      "memory usage: 74.4+ MB\n"
     ]
    }
   ],
   "source": [
    "nodes_df.info()"
   ]
  },
  {
   "cell_type": "code",
   "execution_count": 33,
   "metadata": {},
   "outputs": [
    {
     "name": "stdout",
     "output_type": "stream",
     "text": [
      "<class 'geopandas.geodataframe.GeoDataFrame'>\n",
      "Int64Index: 5233 entries, 2500116 to 391404\n",
      "Data columns (total 13 columns):\n",
      "model_node_id    5233 non-null int64\n",
      "index            5233 non-null int64\n",
      "osm_node_id      5233 non-null object\n",
      "shst_node_id     5233 non-null object\n",
      "county           5233 non-null object\n",
      "drive_access     5233 non-null int64\n",
      "walk_access      5233 non-null int64\n",
      "bike_access      5233 non-null int64\n",
      "rail_only        5233 non-null int64\n",
      "X                5233 non-null float64\n",
      "Y                5233 non-null float64\n",
      "farezone         5233 non-null int64\n",
      "geometry         5233 non-null geometry\n",
      "dtypes: float64(2), geometry(1), int64(7), object(3)\n",
      "memory usage: 572.4+ KB\n"
     ]
    }
   ],
   "source": [
    "union_city_nodes_df = nodes_df[nodes_df.model_node_id.isin(union_city_links_df.A.tolist() + \n",
    "                                                           union_city_links_df.B.tolist())].copy()\n",
    "union_city_nodes_df.info()"
   ]
  },
  {
   "cell_type": "markdown",
   "metadata": {},
   "source": [
    "### Make and Verify Network"
   ]
  },
  {
   "cell_type": "code",
   "execution_count": 39,
   "metadata": {},
   "outputs": [],
   "source": [
    "union_city_roadway_net = copy.deepcopy(road_net)\n",
    "union_city_roadway_net.links_df = union_city_links_df\n",
    "union_city_roadway_net.shapes_df = union_city_shapes_gdf\n",
    "union_city_roadway_net.nodes_df = union_city_nodes_df"
   ]
  },
  {
   "cell_type": "code",
   "execution_count": 35,
   "metadata": {},
   "outputs": [],
   "source": [
    "union_city_transit_net =  copy.deepcopy(transit_net)\n",
    "union_city_transit_net.feed.agency = agency_df\n",
    "union_city_transit_net.feed.routes = routes_df\n",
    "union_city_transit_net.feed.trips  = trips_df\n",
    "union_city_transit_net.feed.frequencies = freqs_df\n",
    "union_city_transit_net.feed.shapes = shapes_df\n",
    "union_city_transit_net.feed.stop_times = stop_times_df\n",
    "union_city_transit_net.feed.stops = stops_df\n",
    "\n",
    "union_city_transit_net.road_net = union_city_roadway_net"
   ]
  },
  {
   "cell_type": "code",
   "execution_count": 40,
   "metadata": {},
   "outputs": [
    {
     "data": {
      "text/plain": [
       "Index(['index', 'A', 'B', 'access', 'assignable', 'bike_access', 'county',\n",
       "       'distance', 'drive_access', 'egress', 'fromIntersectionId', 'ft',\n",
       "       'ft_cal', 'id', 'lanes', 'locationReferences', 'managed', 'maxspeed',\n",
       "       'model_link_id', 'name', 'oneWay', 'rail_only', 'rail_traveltime',\n",
       "       'ref', 'roadway', 'segment_id', 'shape_id', 'shstGeometryId',\n",
       "       'shstReferenceId', 'toIntersectionId', 'tollbooth', 'tollseg',\n",
       "       'transit', 'u', 'useclass', 'v', 'walk_access', 'wayId', 'cntype',\n",
       "       'lanes_EA', 'lanes_AM', 'lanes_MD', 'lanes_PM', 'lanes_EV',\n",
       "       'ML_lanes_EA', 'ML_lanes_AM', 'ML_lanes_MD', 'ML_lanes_PM',\n",
       "       'ML_lanes_EV', 'useclass_EA', 'useclass_AM', 'useclass_MD',\n",
       "       'useclass_PM', 'useclass_EV', 'geometry', 'bus_only'],\n",
       "      dtype='object')"
      ]
     },
     "execution_count": 40,
     "metadata": {},
     "output_type": "execute_result"
    }
   ],
   "source": [
    "union_city_roadway_net.links_df.columns"
   ]
  },
  {
   "cell_type": "code",
   "execution_count": 41,
   "metadata": {},
   "outputs": [
    {
     "data": {
      "text/plain": [
       "True"
      ]
     },
     "execution_count": 41,
     "metadata": {},
     "output_type": "execute_result"
    }
   ],
   "source": [
    "union_city_transit_net.validate_road_network_consistencies()"
   ]
  },
  {
   "cell_type": "code",
   "execution_count": 42,
   "metadata": {},
   "outputs": [
    {
     "data": {
      "text/plain": [
       "True"
      ]
     },
     "execution_count": 42,
     "metadata": {},
     "output_type": "execute_result"
    }
   ],
   "source": [
    "union_city_transit_net.validate_transit_stops()"
   ]
  },
  {
   "cell_type": "markdown",
   "metadata": {},
   "source": [
    "# Write out"
   ]
  },
  {
   "cell_type": "code",
   "execution_count": 44,
   "metadata": {},
   "outputs": [],
   "source": [
    "union_city_roadway_net.write(path = output_dir, filename = \"union_city\")"
   ]
  },
  {
   "cell_type": "code",
   "execution_count": 45,
   "metadata": {},
   "outputs": [
    {
     "name": "stdout",
     "output_type": "stream",
     "text": [
      "2021-01-26 12:31:38, INFO: Writing transit to directory: Z:/Data/Users/Sijia/MTC/github/Lasso\\examples\\mtc\n",
      "2021-01-26 12:31:38, INFO: Writing transit to directory: Z:/Data/Users/Sijia/MTC/github/Lasso\\examples\\mtc\n"
     ]
    }
   ],
   "source": [
    "union_city_transit_net.write(path = output_dir)"
   ]
  }
 ],
 "metadata": {
  "kernelspec": {
   "display_name": "Python 3",
   "language": "python",
   "name": "python3"
  },
  "language_info": {
   "codemirror_mode": {
    "name": "ipython",
    "version": 3
   },
   "file_extension": ".py",
   "mimetype": "text/x-python",
   "name": "python",
   "nbconvert_exporter": "python",
   "pygments_lexer": "ipython3",
   "version": "3.7.9"
  }
 },
 "nbformat": 4,
 "nbformat_minor": 4
}
