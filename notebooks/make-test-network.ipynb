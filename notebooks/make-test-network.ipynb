{
 "cells": [
  {
   "cell_type": "markdown",
   "metadata": {},
   "source": [
    "# Make Test Network"
   ]
  },
  {
   "cell_type": "code",
   "execution_count": 1,
   "metadata": {},
   "outputs": [],
   "source": [
    "import os\n",
    "import sys\n",
    "import yaml\n",
    "import glob\n",
    "import copy\n",
    "\n",
    "import pandas as pd\n",
    "import geopandas as gpd\n",
    "\n",
    "from network_wrangler import RoadwayNetwork\n",
    "from network_wrangler import TransitNetwork\n",
    "from network_wrangler import WranglerLogger\n",
    "\n",
    "from lasso import ModelRoadwayNetwork\n",
    "from lasso import StandardTransit\n",
    "from lasso import Parameters\n",
    "from lasso import mtc"
   ]
  },
  {
   "cell_type": "code",
   "execution_count": 2,
   "metadata": {},
   "outputs": [],
   "source": [
    "%load_ext autoreload\n",
    "%autoreload 2"
   ]
  },
  {
   "cell_type": "code",
   "execution_count": 3,
   "metadata": {},
   "outputs": [],
   "source": [
    "import logging\n",
    "logger = logging.getLogger(\"WranglerLogger\")\n",
    "logger.handlers[0].stream = sys.stdout\n",
    "logger.setLevel(logging.INFO)"
   ]
  },
  {
   "cell_type": "markdown",
   "metadata": {},
   "source": [
    "### Remote I/O and Parameters"
   ]
  },
  {
   "cell_type": "code",
   "execution_count": 4,
   "metadata": {},
   "outputs": [],
   "source": [
    "# root_dir = os.path.join('/Users', 'wsp', 'Documents', 'GitHub', 'travel-model-two-networks')\n",
    "root_dir = os.path.join('C:\\\\Users', 'david.ory', 'Documents', 'GitHub', 'travel-model-two-networks')\n",
    "input_dir = os.path.join(root_dir, 'data', 'processed', 'version_03')\n",
    "boundary_dir = os.path.join(root_dir, 'data', 'external', 'census')\n",
    "output_dir = input_dir\n",
    "# lasso_dir = os.path.join('/Users', 'wsp', 'Documents', 'GitHub', 'mtc-Lasso')\n",
    "lasso_dir = os.path.join('C:\\\\Users', 'david.ory', 'Documents', 'GitHub', 'mtc_Lasso')"
   ]
  },
  {
   "cell_type": "code",
   "execution_count": 5,
   "metadata": {},
   "outputs": [
    {
     "name": "stdout",
     "output_type": "stream",
     "text": [
      "2021-01-15 14:19:13, INFO: Lasso base directory set as: C:\\Users\\david.ory\\Documents\\GitHub\\mtc_Lasso\n",
      "2021-01-15 14:19:13, INFO: Lasso base directory set as: C:\\Users\\david.ory\\Documents\\GitHub\\mtc_Lasso\n",
      "2021-01-15 14:19:13, INFO: Lasso base directory set as: C:\\Users\\david.ory\\Documents\\GitHub\\mtc_Lasso\n",
      "2021-01-15 14:19:13, INFO: Lasso base directory set as: C:\\Users\\david.ory\\Documents\\GitHub\\mtc_Lasso\n"
     ]
    }
   ],
   "source": [
    "parameters = Parameters(lasso_base_dir = lasso_dir)"
   ]
  },
  {
   "cell_type": "markdown",
   "metadata": {},
   "source": [
    "### Data Reads"
   ]
  },
  {
   "cell_type": "code",
   "execution_count": 7,
   "metadata": {},
   "outputs": [
    {
     "name": "stdout",
     "output_type": "stream",
     "text": [
      "2021-01-15 14:19:28, INFO: Reading from following files:\n",
      "-C:\\Users\\david.ory\\Documents\\GitHub\\travel-model-two-networks\\data\\processed\\version_03\\v03_link.json\n",
      "-C:\\Users\\david.ory\\Documents\\GitHub\\travel-model-two-networks\\data\\processed\\version_03\\v03_node.geojson\n",
      "-C:\\Users\\david.ory\\Documents\\GitHub\\travel-model-two-networks\\data\\processed\\version_03\\v03_shape.geojson.\n",
      "2021-01-15 14:19:28, INFO: Reading from following files:\n",
      "-C:\\Users\\david.ory\\Documents\\GitHub\\travel-model-two-networks\\data\\processed\\version_03\\v03_link.json\n",
      "-C:\\Users\\david.ory\\Documents\\GitHub\\travel-model-two-networks\\data\\processed\\version_03\\v03_node.geojson\n",
      "-C:\\Users\\david.ory\\Documents\\GitHub\\travel-model-two-networks\\data\\processed\\version_03\\v03_shape.geojson.\n",
      "2021-01-15 14:26:36, INFO: Read 2238330 links from C:\\Users\\david.ory\\Documents\\GitHub\\travel-model-two-networks\\data\\processed\\version_03\\v03_link.json\n",
      "2021-01-15 14:26:36, INFO: Read 2238330 links from C:\\Users\\david.ory\\Documents\\GitHub\\travel-model-two-networks\\data\\processed\\version_03\\v03_link.json\n",
      "2021-01-15 14:26:36, INFO: Read 696465 nodes from C:\\Users\\david.ory\\Documents\\GitHub\\travel-model-two-networks\\data\\processed\\version_03\\v03_node.geojson\n",
      "2021-01-15 14:26:36, INFO: Read 696465 nodes from C:\\Users\\david.ory\\Documents\\GitHub\\travel-model-two-networks\\data\\processed\\version_03\\v03_node.geojson\n",
      "2021-01-15 14:26:36, INFO: Read 1173954 shapes from C:\\Users\\david.ory\\Documents\\GitHub\\travel-model-two-networks\\data\\processed\\version_03\\v03_shape.geojson\n",
      "2021-01-15 14:26:36, INFO: Read 1173954 shapes from C:\\Users\\david.ory\\Documents\\GitHub\\travel-model-two-networks\\data\\processed\\version_03\\v03_shape.geojson\n",
      "2021-01-15 14:39:41, ERROR: Foreign key: ['A', 'B'] is not unique in network links\n",
      "2021-01-15 14:39:41, ERROR: Foreign key: ['A', 'B'] is not unique in network links\n",
      "2021-01-15 14:39:41, ERROR: Unique identifier model_node_id is not unique in network nodes\n",
      "2021-01-15 14:39:41, ERROR: Unique identifier model_node_id is not unique in network nodes\n",
      "2021-01-15 14:39:41, ERROR: Foreign key: model_node_id is not unique in network nodes\n",
      "2021-01-15 14:39:41, ERROR: Foreign key: model_node_id is not unique in network nodes\n"
     ]
    },
    {
     "ename": "ValueError",
     "evalue": "IDs in network not unique",
     "output_type": "error",
     "traceback": [
      "\u001b[1;31m---------------------------------------------------------------------------\u001b[0m",
      "\u001b[1;31mValueError\u001b[0m                                Traceback (most recent call last)",
      "\u001b[1;32m<ipython-input-7-5cd53ace216c>\u001b[0m in \u001b[0;36m<module>\u001b[1;34m\u001b[0m\n\u001b[0;32m      6\u001b[0m     \u001b[0mlink_file\u001b[0m \u001b[1;33m=\u001b[0m \u001b[0mlink_file\u001b[0m\u001b[1;33m,\u001b[0m\u001b[1;33m\u001b[0m\u001b[1;33m\u001b[0m\u001b[0m\n\u001b[0;32m      7\u001b[0m     \u001b[0mnode_file\u001b[0m \u001b[1;33m=\u001b[0m \u001b[0mnode_file\u001b[0m\u001b[1;33m,\u001b[0m\u001b[1;33m\u001b[0m\u001b[1;33m\u001b[0m\u001b[0m\n\u001b[1;32m----> 8\u001b[1;33m     \u001b[0mshape_file\u001b[0m \u001b[1;33m=\u001b[0m \u001b[0mshape_file\u001b[0m\u001b[1;33m\u001b[0m\u001b[1;33m\u001b[0m\u001b[0m\n\u001b[0m\u001b[0;32m      9\u001b[0m )\n",
      "\u001b[1;32mc:\\users\\david.ory\\documents\\github\\mtc_network_wrangler\\network_wrangler\\roadwaynetwork.py\u001b[0m in \u001b[0;36mread\u001b[1;34m(link_file, node_file, shape_file, fast)\u001b[0m\n\u001b[0;32m    315\u001b[0m \u001b[1;33m\u001b[0m\u001b[0m\n\u001b[0;32m    316\u001b[0m         roadway_network = RoadwayNetwork(\n\u001b[1;32m--> 317\u001b[1;33m             \u001b[0mnodes\u001b[0m\u001b[1;33m=\u001b[0m\u001b[0mnodes_df\u001b[0m\u001b[1;33m,\u001b[0m \u001b[0mlinks\u001b[0m\u001b[1;33m=\u001b[0m\u001b[0mlinks_df\u001b[0m\u001b[1;33m,\u001b[0m \u001b[0mshapes\u001b[0m\u001b[1;33m=\u001b[0m\u001b[0mshapes_df\u001b[0m\u001b[1;33m\u001b[0m\u001b[1;33m\u001b[0m\u001b[0m\n\u001b[0m\u001b[0;32m    318\u001b[0m         )\n\u001b[0;32m    319\u001b[0m \u001b[1;33m\u001b[0m\u001b[0m\n",
      "\u001b[1;32mc:\\users\\david.ory\\documents\\github\\mtc_network_wrangler\\network_wrangler\\roadwaynetwork.py\u001b[0m in \u001b[0;36m__init__\u001b[1;34m(self, nodes, links, shapes)\u001b[0m\n\u001b[0;32m    200\u001b[0m         \u001b[1;31m#        self.links_df[field] = default_value\u001b[0m\u001b[1;33m\u001b[0m\u001b[1;33m\u001b[0m\u001b[1;33m\u001b[0m\u001b[0m\n\u001b[0;32m    201\u001b[0m         \u001b[1;32mif\u001b[0m \u001b[1;32mnot\u001b[0m \u001b[0mself\u001b[0m\u001b[1;33m.\u001b[0m\u001b[0mvalidate_uniqueness\u001b[0m\u001b[1;33m(\u001b[0m\u001b[1;33m)\u001b[0m\u001b[1;33m:\u001b[0m\u001b[1;33m\u001b[0m\u001b[1;33m\u001b[0m\u001b[0m\n\u001b[1;32m--> 202\u001b[1;33m             \u001b[1;32mraise\u001b[0m \u001b[0mValueError\u001b[0m\u001b[1;33m(\u001b[0m\u001b[1;34m\"IDs in network not unique\"\u001b[0m\u001b[1;33m)\u001b[0m\u001b[1;33m\u001b[0m\u001b[1;33m\u001b[0m\u001b[0m\n\u001b[0m\u001b[0;32m    203\u001b[0m         \u001b[0mself\u001b[0m\u001b[1;33m.\u001b[0m\u001b[0mselections\u001b[0m \u001b[1;33m=\u001b[0m \u001b[1;33m{\u001b[0m\u001b[1;33m}\u001b[0m\u001b[1;33m\u001b[0m\u001b[1;33m\u001b[0m\u001b[0m\n\u001b[0;32m    204\u001b[0m \u001b[1;33m\u001b[0m\u001b[0m\n",
      "\u001b[1;31mValueError\u001b[0m: IDs in network not unique"
     ]
    }
   ],
   "source": [
    "link_file = os.path.join(input_dir, 'v03_link.json')\n",
    "node_file = os.path.join(input_dir, 'v03_node.geojson')\n",
    "shape_file = os.path.join(input_dir, 'v03_shape.geojson')\n",
    "\n",
    "road_net = RoadwayNetwork.read(\n",
    "    link_file = link_file, \n",
    "    node_file = node_file, \n",
    "    shape_file = shape_file\n",
    ")"
   ]
  },
  {
   "cell_type": "code",
   "execution_count": null,
   "metadata": {},
   "outputs": [],
   "source": [
    "transit_net = TransitNetwork.read(feed_path = input_dir)"
   ]
  },
  {
   "cell_type": "code",
   "execution_count": null,
   "metadata": {},
   "outputs": [],
   "source": [
    "places_gdf = gpd.read_file(os.path.join(boundary_dir, 'CA_Places_TIGER2016.shp'))\n",
    "places_gdf.head()"
   ]
  },
  {
   "cell_type": "code",
   "execution_count": null,
   "metadata": {},
   "outputs": [],
   "source": [
    "union_city_gdf = places_gdf.loc[places_gdf['NAME'] == 'Union City'].to_crs(4326)\n",
    "union_city_gdf.head()"
   ]
  },
  {
   "cell_type": "markdown",
   "metadata": {},
   "source": [
    "### Roadway Selection"
   ]
  },
  {
   "cell_type": "code",
   "execution_count": null,
   "metadata": {},
   "outputs": [],
   "source": [
    "shapes_gdf = road_net.shapes_df"
   ]
  },
  {
   "cell_type": "code",
   "execution_count": null,
   "metadata": {},
   "outputs": [],
   "source": [
    "shapes_gdf.head()"
   ]
  },
  {
   "cell_type": "code",
   "execution_count": null,
   "metadata": {},
   "outputs": [],
   "source": [
    "union_city_shapes_gdf = gpd.sjoin(shapes_gdf, union_city_gdf, op='intersects')"
   ]
  },
  {
   "cell_type": "code",
   "execution_count": null,
   "metadata": {},
   "outputs": [],
   "source": [
    "union_city_shapes_gdf.head()"
   ]
  },
  {
   "cell_type": "code",
   "execution_count": null,
   "metadata": {},
   "outputs": [],
   "source": [
    "links_df = road_net.links_df\n",
    "links_df.columns"
   ]
  },
  {
   "cell_type": "code",
   "execution_count": null,
   "metadata": {},
   "outputs": [],
   "source": [
    "union_city_links_df = pd.merge(\n",
    "    union_city_shapes_gdf[['id', 'shape_id']],\n",
    "    links_df,\n",
    "    on = 'shape_id',\n",
    "    how = 'left',\n",
    ")"
   ]
  },
  {
   "cell_type": "code",
   "execution_count": null,
   "metadata": {},
   "outputs": [],
   "source": [
    "union_city_links_df.shape"
   ]
  },
  {
   "cell_type": "code",
   "execution_count": null,
   "metadata": {},
   "outputs": [],
   "source": [
    "node_list_df = pd.concat(\n",
    "    [union_city_links_df[['fromIntersectionId']].rename(columns = {'fromIntersectionId': 'shst_node_id'}), \n",
    "     union_city_links_df[['toIntersectionId']].rename(columns = {'toIntersectionId': 'shst_node_id'})], \n",
    "    ignore_index = True\n",
    ").drop_duplicates()\n",
    "\n",
    "node_list_df.head()"
   ]
  },
  {
   "cell_type": "code",
   "execution_count": null,
   "metadata": {},
   "outputs": [],
   "source": [
    "nodes_df = road_net.nodes_df\n",
    "nodes_df.head()"
   ]
  },
  {
   "cell_type": "code",
   "execution_count": null,
   "metadata": {},
   "outputs": [],
   "source": [
    "nodes_df.shape"
   ]
  },
  {
   "cell_type": "code",
   "execution_count": null,
   "metadata": {},
   "outputs": [],
   "source": [
    "union_city_nodes_df = nodes_df[nodes_df['shst_node_id'].isin(node_list_df['shst_node_id'])]\n",
    "union_city_nodes_df.shape"
   ]
  },
  {
   "cell_type": "markdown",
   "metadata": {},
   "source": [
    "### Transit Selections"
   ]
  },
  {
   "cell_type": "code",
   "execution_count": null,
   "metadata": {},
   "outputs": [],
   "source": [
    "agency_df = transit_net.feed.agency.loc[transit_net.feed.agency['agency_id'] == 'UCT']\n",
    "routes_df = transit_net.feed.routes.loc[transit_net.feed.routes['agency_id'] == 'UCT']\n",
    "trips_df = transit_net.feed.trips[transit_net.feed.trips['route_id'].isin(routes_df['route_id'])]\n",
    "freqs_df = transit_net.feed.frequencies[transit_net.feed.frequencies['trip_id'].isin(trips_df['trip_id'])]\n",
    "shapes_df = transit_net.feed.shapes[transit_net.feed.shapes['shape_id'].isin(trips_df['shape_id'])]\n",
    "stop_times_df = transit_net.feed.stop_times[transit_net.feed.stop_times['trip_id'].isin(trips_df['trip_id'])]\n",
    "stops_df = transit_net.feed.stops[transit_net.feed.stops['stop_id'].isin(stop_times_df['stop_id'])]"
   ]
  },
  {
   "cell_type": "markdown",
   "metadata": {},
   "source": [
    "### Make and Verify Network"
   ]
  },
  {
   "cell_type": "code",
   "execution_count": null,
   "metadata": {},
   "outputs": [],
   "source": [
    "union_city_roadway_net = copy.deepcopy(road_net)\n",
    "union_city_roadway_net.links_df = links_df\n",
    "union_city_roadway_net.shapes_df = shapes_gdf\n",
    "union_city_roadway_net.nodes_df = nodes_df"
   ]
  },
  {
   "cell_type": "code",
   "execution_count": null,
   "metadata": {},
   "outputs": [],
   "source": [
    "union_city_transit_net =  copy.deepcopy(transit_net)\n",
    "union_city_transit_net.feed.agency = agency_df\n",
    "union_city_transit_net.feed.routes = routes_df\n",
    "union_city_transit_net.feed.trips  = trips_df\n",
    "union_city_transit_net.feed.frequencies = freqs_df\n",
    "union_city_transit_net.feed.shapes = shapes_df\n",
    "union_city_transit_net.feed.stop_times = stop_times_df\n",
    "union_city_transit_net.feed.stops = stops_df\n",
    "\n",
    "union_city_transit_net.road_net = union_city_roadway_net"
   ]
  },
  {
   "cell_type": "code",
   "execution_count": null,
   "metadata": {},
   "outputs": [],
   "source": [
    "union_city_roadway_net.links_df.columns"
   ]
  },
  {
   "cell_type": "code",
   "execution_count": null,
   "metadata": {},
   "outputs": [],
   "source": [
    "union_city_transit_net.validate_road_network_consistencies()"
   ]
  },
  {
   "cell_type": "code",
   "execution_count": null,
   "metadata": {},
   "outputs": [],
   "source": [
    "union_city_transit_net.validate_transit_stops()"
   ]
  },
  {
   "cell_type": "code",
   "execution_count": null,
   "metadata": {},
   "outputs": [],
   "source": [
    "# TODO: iteratively add nodes if needed to accommodate transit routes"
   ]
  }
 ],
 "metadata": {
  "kernelspec": {
   "display_name": "Python 3",
   "language": "python",
   "name": "python3"
  },
  "language_info": {
   "codemirror_mode": {
    "name": "ipython",
    "version": 3
   },
   "file_extension": ".py",
   "mimetype": "text/x-python",
   "name": "python",
   "nbconvert_exporter": "python",
   "pygments_lexer": "ipython3",
   "version": "3.7.8"
  }
 },
 "nbformat": 4,
 "nbformat_minor": 4
}
