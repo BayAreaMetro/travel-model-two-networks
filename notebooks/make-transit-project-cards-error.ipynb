{
 "cells": [
  {
   "cell_type": "markdown",
   "metadata": {},
   "source": [
    "Make a Transit Project Card"
   ]
  },
  {
   "cell_type": "code",
   "execution_count": 1,
   "metadata": {},
   "outputs": [],
   "source": [
    "import os\n",
    "import sys\n",
    "\n",
    "from lasso import Project\n",
    "from lasso import CubeTransit\n",
    "from lasso import Parameters\n",
    "\n",
    "from network_wrangler import RoadwayNetwork\n",
    "from network_wrangler import WranglerLogger"
   ]
  },
  {
   "cell_type": "code",
   "execution_count": 2,
   "metadata": {},
   "outputs": [],
   "source": [
    "%load_ext autoreload\n",
    "%autoreload 2"
   ]
  },
  {
   "cell_type": "code",
   "execution_count": 3,
   "metadata": {},
   "outputs": [],
   "source": [
    "import logging\n",
    "logger = logging.getLogger(\"WranglerLogger\")\n",
    "logger.handlers[0].stream = sys.stdout\n",
    "logger.setLevel(logging.INFO)"
   ]
  },
  {
   "cell_type": "code",
   "execution_count": 4,
   "metadata": {},
   "outputs": [],
   "source": [
    "lasso_dir = \"C:/Users/USGS667806/Lasso\" \n",
    "line_dir = \"C:/Users/USGS667806/Documents/GitHub/travel-model-two-networks/notebooks/temp\"\n",
    "base_file_name = os.path.join(line_dir, 'ACTransit_2015_8_14_transit.lin')\n",
    "edit_file_name = os.path.join(line_dir, 'ACTransit_2015_8_14_transit_40_Dtn_Oakland_Bayfair_Bart_RtID30_d0_EA.lin')\n",
    "card_file_name = os.path.join(line_dir, 'ac-transit-route-40-edits.yml')"
   ]
  },
  {
   "cell_type": "code",
   "execution_count": 5,
   "metadata": {},
   "outputs": [
    {
     "name": "stdout",
     "output_type": "stream",
     "text": [
      "2021-03-05 13:21:39, INFO: Lasso base directory set as: C:/Users/USGS667806/Lasso\n",
      "2021-03-05 13:21:39, INFO: Lasso base directory set as: C:/Users/USGS667806/Lasso\n",
      "2021-03-05 13:21:39, INFO: Lasso base directory set as: C:/Users/USGS667806/Lasso\n",
      "2021-03-05 13:21:39, INFO: Lasso base directory set as: C:/Users/USGS667806/Lasso\n"
     ]
    }
   ],
   "source": [
    "parameters = Parameters(lasso_base_dir = lasso_dir)"
   ]
  },
  {
   "cell_type": "code",
   "execution_count": 6,
   "metadata": {},
   "outputs": [
    {
     "data": {
      "text/plain": [
       "'C:/Users/USGS667806/Lasso'"
      ]
     },
     "execution_count": 6,
     "metadata": {},
     "output_type": "execute_result"
    }
   ],
   "source": [
    "parameters.lasso_base_dir"
   ]
  },
  {
   "cell_type": "code",
   "execution_count": 7,
   "metadata": {
    "scrolled": false
   },
   "outputs": [
    {
     "name": "stdout",
     "output_type": "stream",
     "text": [
      "2021-03-05 13:21:40, INFO: Lasso base directory set as: C:/Users/USGS667806/Lasso\n",
      "2021-03-05 13:21:40, INFO: Lasso base directory set as: C:/Users/USGS667806/Lasso\n",
      "2021-03-05 13:21:40, INFO: Lasso base directory set as: C:/Users/USGS667806/Lasso\n",
      "2021-03-05 13:21:40, INFO: Lasso base directory set as: C:/Users/USGS667806/Lasso\n",
      "reading: C:/Users/USGS667806/Documents/GitHub/travel-model-two-networks/notebooks/temp\\ACTransit_2015_8_14_transit.lin\n"
     ]
    },
    {
     "ename": "UnexpectedCharacters",
     "evalue": "No terminal defined for 'G' at line 12 col 12\n\n SHORTNAME=G,\n           ^\n\nExpecting: {'MODE', 'LINE', 'SEMICOLON_COMMENT', 'OPERATOR', 'PROGRAM_TYPE', 'SHORTNAME', 'LONGNAME', 'HEADWAY', 'TIME_PERIOD', 'CIRCULAR', 'WHITESPACE', 'NAME', 'LSQB', '__ANON_2', 'RUNTIME', 'N', 'NODES', 'FREQ', '__ANON_1', 'STRING', 'USERA1', 'SIGNED_INT', 'COLOR', 'BOOLEAN', 'FLOAT', 'NODE_NUM', 'TIMEFAC', 'XYSPEED', 'ONEWAY', 'USERA2', 'ACCESS', 'COMMA', 'DELAY', 'FARESYSTEM', 'ALLSTOPS', 'TIME', 'NNTIME', 'RSQB', 'VEHICLETYPE', 'OWNER', 'EQUAL'}\n\nPrevious tokens: Token('EQUAL', '=')\n",
     "output_type": "error",
     "traceback": [
      "\u001b[1;31m---------------------------------------------------------------------------\u001b[0m",
      "\u001b[1;31mUnexpectedCharacters\u001b[0m                      Traceback (most recent call last)",
      "\u001b[1;32m~\\Anaconda3\\envs\\lasso_environment\\lib\\site-packages\\lark\\lexer.py\u001b[0m in \u001b[0;36mlex\u001b[1;34m(self, lexer_state, parser_state)\u001b[0m\n\u001b[0;32m    430\u001b[0m                 \u001b[0mlexer\u001b[0m \u001b[1;33m=\u001b[0m \u001b[0mself\u001b[0m\u001b[1;33m.\u001b[0m\u001b[0mlexers\u001b[0m\u001b[1;33m[\u001b[0m\u001b[0mparser_state\u001b[0m\u001b[1;33m.\u001b[0m\u001b[0mposition\u001b[0m\u001b[1;33m]\u001b[0m\u001b[1;33m\u001b[0m\u001b[1;33m\u001b[0m\u001b[0m\n\u001b[1;32m--> 431\u001b[1;33m                 \u001b[1;32myield\u001b[0m \u001b[0mlexer\u001b[0m\u001b[1;33m.\u001b[0m\u001b[0mnext_token\u001b[0m\u001b[1;33m(\u001b[0m\u001b[0mlexer_state\u001b[0m\u001b[1;33m)\u001b[0m\u001b[1;33m\u001b[0m\u001b[1;33m\u001b[0m\u001b[0m\n\u001b[0m\u001b[0;32m    432\u001b[0m         \u001b[1;32mexcept\u001b[0m \u001b[0mEOFError\u001b[0m\u001b[1;33m:\u001b[0m\u001b[1;33m\u001b[0m\u001b[1;33m\u001b[0m\u001b[0m\n",
      "\u001b[1;32m~\\Anaconda3\\envs\\lasso_environment\\lib\\site-packages\\lark\\lexer.py\u001b[0m in \u001b[0;36mnext_token\u001b[1;34m(self, lex_state)\u001b[0m\n\u001b[0;32m    354\u001b[0m                 raise UnexpectedCharacters(lex_state.text, line_ctr.char_pos, line_ctr.line, line_ctr.column,\n\u001b[1;32m--> 355\u001b[1;33m                                            allowed=allowed, token_history=lex_state.last_token and [lex_state.last_token])\n\u001b[0m\u001b[0;32m    356\u001b[0m \u001b[1;33m\u001b[0m\u001b[0m\n",
      "\u001b[1;31mUnexpectedCharacters\u001b[0m: No terminal defined for 'G' at line 12 col 12\n\n SHORTNAME=G,\n           ^\n\nExpecting: {'BOOLEAN', 'FLOAT', 'SIGNED_INT', 'STRING'}\n\nPrevious tokens: Token('EQUAL', '=')\n",
      "\nDuring handling of the above exception, another exception occurred:\n",
      "\u001b[1;31mUnexpectedCharacters\u001b[0m                      Traceback (most recent call last)",
      "\u001b[1;32m<ipython-input-7-ab385149df84>\u001b[0m in \u001b[0;36m<module>\u001b[1;34m\u001b[0m\n\u001b[0;32m      2\u001b[0m     \u001b[0mbase_transit_source\u001b[0m\u001b[1;33m=\u001b[0m\u001b[0mbase_file_name\u001b[0m\u001b[1;33m,\u001b[0m\u001b[1;33m\u001b[0m\u001b[1;33m\u001b[0m\u001b[0m\n\u001b[0;32m      3\u001b[0m     \u001b[0mbuild_transit_source\u001b[0m\u001b[1;33m=\u001b[0m\u001b[0medit_file_name\u001b[0m\u001b[1;33m,\u001b[0m\u001b[1;33m\u001b[0m\u001b[1;33m\u001b[0m\u001b[0m\n\u001b[1;32m----> 4\u001b[1;33m     \u001b[0mparameters\u001b[0m\u001b[1;33m=\u001b[0m\u001b[0mparameters\u001b[0m\u001b[1;33m,\u001b[0m\u001b[1;33m\u001b[0m\u001b[1;33m\u001b[0m\u001b[0m\n\u001b[0m\u001b[0;32m      5\u001b[0m )\n\u001b[0;32m      6\u001b[0m \u001b[1;33m\u001b[0m\u001b[0m\n",
      "\u001b[1;32mc:\\users\\usgs667806\\lasso\\lasso\\project.py\u001b[0m in \u001b[0;36mcreate_project\u001b[1;34m(roadway_log_file, roadway_shp_file, roadway_csv_file, base_roadway_dir, base_transit_source, build_transit_source, roadway_changes, transit_changes, base_roadway_network, base_transit_network, build_transit_network, project_name, recalculate_calculated_variables, recalculate_distance, parameters, **kwargs)\u001b[0m\n\u001b[0;32m    209\u001b[0m             \u001b[1;32mraise\u001b[0m \u001b[0mValueError\u001b[0m\u001b[1;33m(\u001b[0m\u001b[0mmsg\u001b[0m\u001b[1;33m)\u001b[0m\u001b[1;33m\u001b[0m\u001b[1;33m\u001b[0m\u001b[0m\n\u001b[0;32m    210\u001b[0m         \u001b[1;32mif\u001b[0m \u001b[0mbase_transit_source\u001b[0m\u001b[1;33m:\u001b[0m\u001b[1;33m\u001b[0m\u001b[1;33m\u001b[0m\u001b[0m\n\u001b[1;32m--> 211\u001b[1;33m             \u001b[0mbase_transit_network\u001b[0m \u001b[1;33m=\u001b[0m \u001b[0mCubeTransit\u001b[0m\u001b[1;33m.\u001b[0m\u001b[0mcreate_from_cube\u001b[0m\u001b[1;33m(\u001b[0m\u001b[0mbase_transit_source\u001b[0m\u001b[1;33m,\u001b[0m \u001b[0mparameters\u001b[0m\u001b[1;33m)\u001b[0m\u001b[1;33m\u001b[0m\u001b[1;33m\u001b[0m\u001b[0m\n\u001b[0m\u001b[0;32m    212\u001b[0m             WranglerLogger.debug(\n\u001b[0;32m    213\u001b[0m                 \u001b[1;34m\"Base network has {} lines\"\u001b[0m\u001b[1;33m.\u001b[0m\u001b[0mformat\u001b[0m\u001b[1;33m(\u001b[0m\u001b[0mlen\u001b[0m\u001b[1;33m(\u001b[0m\u001b[0mbase_transit_network\u001b[0m\u001b[1;33m.\u001b[0m\u001b[0mlines\u001b[0m\u001b[1;33m)\u001b[0m\u001b[1;33m)\u001b[0m\u001b[1;33m\u001b[0m\u001b[1;33m\u001b[0m\u001b[0m\n",
      "\u001b[1;32mc:\\users\\usgs667806\\lasso\\lasso\\transit.py\u001b[0m in \u001b[0;36mcreate_from_cube\u001b[1;34m(transit_source, parameters)\u001b[0m\n\u001b[0;32m    179\u001b[0m \u001b[1;33m\u001b[0m\u001b[0m\n\u001b[0;32m    180\u001b[0m         \u001b[0mtn\u001b[0m \u001b[1;33m=\u001b[0m \u001b[0mCubeTransit\u001b[0m\u001b[1;33m(\u001b[0m\u001b[0mparameters\u001b[0m\u001b[1;33m)\u001b[0m\u001b[1;33m\u001b[0m\u001b[1;33m\u001b[0m\u001b[0m\n\u001b[1;32m--> 181\u001b[1;33m         \u001b[0mtn\u001b[0m\u001b[1;33m.\u001b[0m\u001b[0madd_cube\u001b[0m\u001b[1;33m(\u001b[0m\u001b[0mtransit_source\u001b[0m\u001b[1;33m)\u001b[0m\u001b[1;33m\u001b[0m\u001b[1;33m\u001b[0m\u001b[0m\n\u001b[0m\u001b[0;32m    182\u001b[0m \u001b[1;33m\u001b[0m\u001b[0m\n\u001b[0;32m    183\u001b[0m         \u001b[1;32mreturn\u001b[0m \u001b[0mtn\u001b[0m\u001b[1;33m\u001b[0m\u001b[1;33m\u001b[0m\u001b[0m\n",
      "\u001b[1;32mc:\\users\\usgs667806\\lasso\\lasso\\transit.py\u001b[0m in \u001b[0;36madd_cube\u001b[1;34m(self, transit_source)\u001b[0m\n\u001b[0;32m    119\u001b[0m                 )\n\u001b[0;32m    120\u001b[0m                 \u001b[0mself\u001b[0m\u001b[1;33m.\u001b[0m\u001b[0msource_list\u001b[0m\u001b[1;33m.\u001b[0m\u001b[0mappend\u001b[0m\u001b[1;33m(\u001b[0m\u001b[0mtransit_source\u001b[0m\u001b[1;33m)\u001b[0m\u001b[1;33m\u001b[0m\u001b[1;33m\u001b[0m\u001b[0m\n\u001b[1;32m--> 121\u001b[1;33m                 \u001b[0mparse_tree\u001b[0m \u001b[1;33m=\u001b[0m \u001b[0mparser\u001b[0m\u001b[1;33m.\u001b[0m\u001b[0mparse\u001b[0m\u001b[1;33m(\u001b[0m\u001b[0mfile\u001b[0m\u001b[1;33m.\u001b[0m\u001b[0mread\u001b[0m\u001b[1;33m(\u001b[0m\u001b[1;33m)\u001b[0m\u001b[1;33m)\u001b[0m\u001b[1;33m\u001b[0m\u001b[1;33m\u001b[0m\u001b[0m\n\u001b[0m\u001b[0;32m    122\u001b[0m         \u001b[1;32melif\u001b[0m \u001b[0mos\u001b[0m\u001b[1;33m.\u001b[0m\u001b[0mpath\u001b[0m\u001b[1;33m.\u001b[0m\u001b[0misdir\u001b[0m\u001b[1;33m(\u001b[0m\u001b[0mtransit_source\u001b[0m\u001b[1;33m)\u001b[0m\u001b[1;33m:\u001b[0m\u001b[1;33m\u001b[0m\u001b[1;33m\u001b[0m\u001b[0m\n\u001b[0;32m    123\u001b[0m             \u001b[1;32mimport\u001b[0m \u001b[0mglob\u001b[0m\u001b[1;33m\u001b[0m\u001b[1;33m\u001b[0m\u001b[0m\n",
      "\u001b[1;32m~\\Anaconda3\\envs\\lasso_environment\\lib\\site-packages\\lark\\lark.py\u001b[0m in \u001b[0;36mparse\u001b[1;34m(self, text, start, on_error)\u001b[0m\n\u001b[0;32m    493\u001b[0m \u001b[1;33m\u001b[0m\u001b[0m\n\u001b[0;32m    494\u001b[0m         \u001b[1;32mtry\u001b[0m\u001b[1;33m:\u001b[0m\u001b[1;33m\u001b[0m\u001b[1;33m\u001b[0m\u001b[0m\n\u001b[1;32m--> 495\u001b[1;33m             \u001b[1;32mreturn\u001b[0m \u001b[0mself\u001b[0m\u001b[1;33m.\u001b[0m\u001b[0mparser\u001b[0m\u001b[1;33m.\u001b[0m\u001b[0mparse\u001b[0m\u001b[1;33m(\u001b[0m\u001b[0mtext\u001b[0m\u001b[1;33m,\u001b[0m \u001b[0mstart\u001b[0m\u001b[1;33m=\u001b[0m\u001b[0mstart\u001b[0m\u001b[1;33m)\u001b[0m\u001b[1;33m\u001b[0m\u001b[1;33m\u001b[0m\u001b[0m\n\u001b[0m\u001b[0;32m    496\u001b[0m         \u001b[1;32mexcept\u001b[0m \u001b[0mUnexpectedInput\u001b[0m \u001b[1;32mas\u001b[0m \u001b[0me\u001b[0m\u001b[1;33m:\u001b[0m\u001b[1;33m\u001b[0m\u001b[1;33m\u001b[0m\u001b[0m\n\u001b[0;32m    497\u001b[0m             \u001b[1;32mif\u001b[0m \u001b[0mon_error\u001b[0m \u001b[1;32mis\u001b[0m \u001b[1;32mNone\u001b[0m\u001b[1;33m:\u001b[0m\u001b[1;33m\u001b[0m\u001b[1;33m\u001b[0m\u001b[0m\n",
      "\u001b[1;32m~\\Anaconda3\\envs\\lasso_environment\\lib\\site-packages\\lark\\parser_frontends.py\u001b[0m in \u001b[0;36mparse\u001b[1;34m(self, text, start)\u001b[0m\n\u001b[0;32m    135\u001b[0m \u001b[1;33m\u001b[0m\u001b[0m\n\u001b[0;32m    136\u001b[0m     \u001b[1;32mdef\u001b[0m \u001b[0mparse\u001b[0m\u001b[1;33m(\u001b[0m\u001b[0mself\u001b[0m\u001b[1;33m,\u001b[0m \u001b[0mtext\u001b[0m\u001b[1;33m,\u001b[0m \u001b[0mstart\u001b[0m\u001b[1;33m=\u001b[0m\u001b[1;32mNone\u001b[0m\u001b[1;33m)\u001b[0m\u001b[1;33m:\u001b[0m\u001b[1;33m\u001b[0m\u001b[1;33m\u001b[0m\u001b[0m\n\u001b[1;32m--> 137\u001b[1;33m         \u001b[1;32mreturn\u001b[0m \u001b[0mself\u001b[0m\u001b[1;33m.\u001b[0m\u001b[0m_parse\u001b[0m\u001b[1;33m(\u001b[0m\u001b[0mstart\u001b[0m\u001b[1;33m,\u001b[0m \u001b[0mself\u001b[0m\u001b[1;33m.\u001b[0m\u001b[0mmake_lexer\u001b[0m\u001b[1;33m(\u001b[0m\u001b[0mtext\u001b[0m\u001b[1;33m)\u001b[0m\u001b[1;33m)\u001b[0m\u001b[1;33m\u001b[0m\u001b[1;33m\u001b[0m\u001b[0m\n\u001b[0m\u001b[0;32m    138\u001b[0m \u001b[1;33m\u001b[0m\u001b[0m\n\u001b[0;32m    139\u001b[0m     \u001b[1;32mdef\u001b[0m \u001b[0minit_traditional_lexer\u001b[0m\u001b[1;33m(\u001b[0m\u001b[0mself\u001b[0m\u001b[1;33m)\u001b[0m\u001b[1;33m:\u001b[0m\u001b[1;33m\u001b[0m\u001b[1;33m\u001b[0m\u001b[0m\n",
      "\u001b[1;32m~\\Anaconda3\\envs\\lasso_environment\\lib\\site-packages\\lark\\parser_frontends.py\u001b[0m in \u001b[0;36m_parse\u001b[1;34m(self, start, input, *args)\u001b[0m\n\u001b[0;32m     70\u001b[0m                 \u001b[1;32mraise\u001b[0m \u001b[0mValueError\u001b[0m\u001b[1;33m(\u001b[0m\u001b[1;34m\"Lark initialized with more than 1 possible start rule. Must specify which start rule to parse\"\u001b[0m\u001b[1;33m,\u001b[0m \u001b[0mstart\u001b[0m\u001b[1;33m)\u001b[0m\u001b[1;33m\u001b[0m\u001b[1;33m\u001b[0m\u001b[0m\n\u001b[0;32m     71\u001b[0m             \u001b[0mstart\u001b[0m \u001b[1;33m,\u001b[0m\u001b[1;33m=\u001b[0m \u001b[0mstart\u001b[0m\u001b[1;33m\u001b[0m\u001b[1;33m\u001b[0m\u001b[0m\n\u001b[1;32m---> 72\u001b[1;33m         \u001b[1;32mreturn\u001b[0m \u001b[0mself\u001b[0m\u001b[1;33m.\u001b[0m\u001b[0mparser\u001b[0m\u001b[1;33m.\u001b[0m\u001b[0mparse\u001b[0m\u001b[1;33m(\u001b[0m\u001b[0minput\u001b[0m\u001b[1;33m,\u001b[0m \u001b[0mstart\u001b[0m\u001b[1;33m,\u001b[0m \u001b[1;33m*\u001b[0m\u001b[0margs\u001b[0m\u001b[1;33m)\u001b[0m\u001b[1;33m\u001b[0m\u001b[1;33m\u001b[0m\u001b[0m\n\u001b[0m\u001b[0;32m     73\u001b[0m \u001b[1;33m\u001b[0m\u001b[0m\n\u001b[0;32m     74\u001b[0m \u001b[1;33m\u001b[0m\u001b[0m\n",
      "\u001b[1;32m~\\Anaconda3\\envs\\lasso_environment\\lib\\site-packages\\lark\\parsers\\lalr_parser.py\u001b[0m in \u001b[0;36mparse\u001b[1;34m(self, *args)\u001b[0m\n\u001b[0;32m     33\u001b[0m \u001b[1;33m\u001b[0m\u001b[0m\n\u001b[0;32m     34\u001b[0m     \u001b[1;32mdef\u001b[0m \u001b[0mparse\u001b[0m\u001b[1;33m(\u001b[0m\u001b[0mself\u001b[0m\u001b[1;33m,\u001b[0m \u001b[1;33m*\u001b[0m\u001b[0margs\u001b[0m\u001b[1;33m)\u001b[0m\u001b[1;33m:\u001b[0m\u001b[1;33m\u001b[0m\u001b[1;33m\u001b[0m\u001b[0m\n\u001b[1;32m---> 35\u001b[1;33m         \u001b[1;32mreturn\u001b[0m \u001b[0mself\u001b[0m\u001b[1;33m.\u001b[0m\u001b[0mparser\u001b[0m\u001b[1;33m.\u001b[0m\u001b[0mparse\u001b[0m\u001b[1;33m(\u001b[0m\u001b[1;33m*\u001b[0m\u001b[0margs\u001b[0m\u001b[1;33m)\u001b[0m\u001b[1;33m\u001b[0m\u001b[1;33m\u001b[0m\u001b[0m\n\u001b[0m\u001b[0;32m     36\u001b[0m \u001b[1;33m\u001b[0m\u001b[0m\n\u001b[0;32m     37\u001b[0m \u001b[1;33m\u001b[0m\u001b[0m\n",
      "\u001b[1;32m~\\Anaconda3\\envs\\lasso_environment\\lib\\site-packages\\lark\\parsers\\lalr_parser.py\u001b[0m in \u001b[0;36mparse\u001b[1;34m(self, lexer, start, value_stack, state_stack)\u001b[0m\n\u001b[0;32m    127\u001b[0m         \u001b[0mparse_conf\u001b[0m \u001b[1;33m=\u001b[0m \u001b[0mParseConf\u001b[0m\u001b[1;33m(\u001b[0m\u001b[0mself\u001b[0m\u001b[1;33m.\u001b[0m\u001b[0mparse_table\u001b[0m\u001b[1;33m,\u001b[0m \u001b[0mself\u001b[0m\u001b[1;33m.\u001b[0m\u001b[0mcallbacks\u001b[0m\u001b[1;33m,\u001b[0m \u001b[0mstart\u001b[0m\u001b[1;33m)\u001b[0m\u001b[1;33m\u001b[0m\u001b[1;33m\u001b[0m\u001b[0m\n\u001b[0;32m    128\u001b[0m         \u001b[0mparser_state\u001b[0m \u001b[1;33m=\u001b[0m \u001b[0mParserState\u001b[0m\u001b[1;33m(\u001b[0m\u001b[0mparse_conf\u001b[0m\u001b[1;33m,\u001b[0m \u001b[0mlexer\u001b[0m\u001b[1;33m,\u001b[0m \u001b[0mstate_stack\u001b[0m\u001b[1;33m,\u001b[0m \u001b[0mvalue_stack\u001b[0m\u001b[1;33m)\u001b[0m\u001b[1;33m\u001b[0m\u001b[1;33m\u001b[0m\u001b[0m\n\u001b[1;32m--> 129\u001b[1;33m         \u001b[1;32mreturn\u001b[0m \u001b[0mself\u001b[0m\u001b[1;33m.\u001b[0m\u001b[0mparse_from_state\u001b[0m\u001b[1;33m(\u001b[0m\u001b[0mparser_state\u001b[0m\u001b[1;33m)\u001b[0m\u001b[1;33m\u001b[0m\u001b[1;33m\u001b[0m\u001b[0m\n\u001b[0m\u001b[0;32m    130\u001b[0m \u001b[1;33m\u001b[0m\u001b[0m\n\u001b[0;32m    131\u001b[0m     \u001b[1;32mdef\u001b[0m \u001b[0mparse_from_state\u001b[0m\u001b[1;33m(\u001b[0m\u001b[0mself\u001b[0m\u001b[1;33m,\u001b[0m \u001b[0mstate\u001b[0m\u001b[1;33m)\u001b[0m\u001b[1;33m:\u001b[0m\u001b[1;33m\u001b[0m\u001b[1;33m\u001b[0m\u001b[0m\n",
      "\u001b[1;32m~\\Anaconda3\\envs\\lasso_environment\\lib\\site-packages\\lark\\parsers\\lalr_parser.py\u001b[0m in \u001b[0;36mparse_from_state\u001b[1;34m(self, state)\u001b[0m\n\u001b[0;32m    143\u001b[0m             \u001b[1;32mexcept\u001b[0m \u001b[0mNameError\u001b[0m\u001b[1;33m:\u001b[0m\u001b[1;33m\u001b[0m\u001b[1;33m\u001b[0m\u001b[0m\n\u001b[0;32m    144\u001b[0m                 \u001b[1;32mpass\u001b[0m\u001b[1;33m\u001b[0m\u001b[1;33m\u001b[0m\u001b[0m\n\u001b[1;32m--> 145\u001b[1;33m             \u001b[1;32mraise\u001b[0m \u001b[0me\u001b[0m\u001b[1;33m\u001b[0m\u001b[1;33m\u001b[0m\u001b[0m\n\u001b[0m\u001b[0;32m    146\u001b[0m         \u001b[1;32mexcept\u001b[0m \u001b[0mException\u001b[0m \u001b[1;32mas\u001b[0m \u001b[0me\u001b[0m\u001b[1;33m:\u001b[0m\u001b[1;33m\u001b[0m\u001b[1;33m\u001b[0m\u001b[0m\n\u001b[0;32m    147\u001b[0m             \u001b[1;32mif\u001b[0m \u001b[0mself\u001b[0m\u001b[1;33m.\u001b[0m\u001b[0mdebug\u001b[0m\u001b[1;33m:\u001b[0m\u001b[1;33m\u001b[0m\u001b[1;33m\u001b[0m\u001b[0m\n",
      "\u001b[1;32m~\\Anaconda3\\envs\\lasso_environment\\lib\\site-packages\\lark\\parsers\\lalr_parser.py\u001b[0m in \u001b[0;36mparse_from_state\u001b[1;34m(self, state)\u001b[0m\n\u001b[0;32m    133\u001b[0m         \u001b[1;32mtry\u001b[0m\u001b[1;33m:\u001b[0m\u001b[1;33m\u001b[0m\u001b[1;33m\u001b[0m\u001b[0m\n\u001b[0;32m    134\u001b[0m             \u001b[0mtoken\u001b[0m \u001b[1;33m=\u001b[0m \u001b[1;32mNone\u001b[0m\u001b[1;33m\u001b[0m\u001b[1;33m\u001b[0m\u001b[0m\n\u001b[1;32m--> 135\u001b[1;33m             \u001b[1;32mfor\u001b[0m \u001b[0mtoken\u001b[0m \u001b[1;32min\u001b[0m \u001b[0mstate\u001b[0m\u001b[1;33m.\u001b[0m\u001b[0mlexer\u001b[0m\u001b[1;33m.\u001b[0m\u001b[0mlex\u001b[0m\u001b[1;33m(\u001b[0m\u001b[0mstate\u001b[0m\u001b[1;33m)\u001b[0m\u001b[1;33m:\u001b[0m\u001b[1;33m\u001b[0m\u001b[1;33m\u001b[0m\u001b[0m\n\u001b[0m\u001b[0;32m    136\u001b[0m                 \u001b[0mstate\u001b[0m\u001b[1;33m.\u001b[0m\u001b[0mfeed_token\u001b[0m\u001b[1;33m(\u001b[0m\u001b[0mtoken\u001b[0m\u001b[1;33m)\u001b[0m\u001b[1;33m\u001b[0m\u001b[1;33m\u001b[0m\u001b[0m\n\u001b[0;32m    137\u001b[0m \u001b[1;33m\u001b[0m\u001b[0m\n",
      "\u001b[1;32m~\\Anaconda3\\envs\\lasso_environment\\lib\\site-packages\\lark\\lexer.py\u001b[0m in \u001b[0;36mlex\u001b[1;34m(self, lexer_state, parser_state)\u001b[0m\n\u001b[0;32m    435\u001b[0m             \u001b[1;31m# In the contextual lexer, UnexpectedCharacters can mean that the terminal is defined, but not in the current context.\u001b[0m\u001b[1;33m\u001b[0m\u001b[1;33m\u001b[0m\u001b[1;33m\u001b[0m\u001b[0m\n\u001b[0;32m    436\u001b[0m             \u001b[1;31m# This tests the input against the global context, to provide a nicer error.\u001b[0m\u001b[1;33m\u001b[0m\u001b[1;33m\u001b[0m\u001b[1;33m\u001b[0m\u001b[0m\n\u001b[1;32m--> 437\u001b[1;33m             \u001b[0mtoken\u001b[0m \u001b[1;33m=\u001b[0m \u001b[0mself\u001b[0m\u001b[1;33m.\u001b[0m\u001b[0mroot_lexer\u001b[0m\u001b[1;33m.\u001b[0m\u001b[0mnext_token\u001b[0m\u001b[1;33m(\u001b[0m\u001b[0mlexer_state\u001b[0m\u001b[1;33m)\u001b[0m\u001b[1;33m\u001b[0m\u001b[1;33m\u001b[0m\u001b[0m\n\u001b[0m\u001b[0;32m    438\u001b[0m             \u001b[1;32mraise\u001b[0m \u001b[0mUnexpectedToken\u001b[0m\u001b[1;33m(\u001b[0m\u001b[0mtoken\u001b[0m\u001b[1;33m,\u001b[0m \u001b[0me\u001b[0m\u001b[1;33m.\u001b[0m\u001b[0mallowed\u001b[0m\u001b[1;33m,\u001b[0m \u001b[0mstate\u001b[0m\u001b[1;33m=\u001b[0m\u001b[0mparser_state\u001b[0m\u001b[1;33m.\u001b[0m\u001b[0mposition\u001b[0m\u001b[1;33m)\u001b[0m\u001b[1;33m\u001b[0m\u001b[1;33m\u001b[0m\u001b[0m\n\u001b[0;32m    439\u001b[0m \u001b[1;33m\u001b[0m\u001b[0m\n",
      "\u001b[1;32m~\\Anaconda3\\envs\\lasso_environment\\lib\\site-packages\\lark\\lexer.py\u001b[0m in \u001b[0;36mnext_token\u001b[1;34m(self, lex_state)\u001b[0m\n\u001b[0;32m    353\u001b[0m                     \u001b[0mallowed\u001b[0m \u001b[1;33m=\u001b[0m \u001b[1;33m{\u001b[0m\u001b[1;34m\"<END-OF-FILE>\"\u001b[0m\u001b[1;33m}\u001b[0m\u001b[1;33m\u001b[0m\u001b[1;33m\u001b[0m\u001b[0m\n\u001b[0;32m    354\u001b[0m                 raise UnexpectedCharacters(lex_state.text, line_ctr.char_pos, line_ctr.line, line_ctr.column,\n\u001b[1;32m--> 355\u001b[1;33m                                            allowed=allowed, token_history=lex_state.last_token and [lex_state.last_token])\n\u001b[0m\u001b[0;32m    356\u001b[0m \u001b[1;33m\u001b[0m\u001b[0m\n\u001b[0;32m    357\u001b[0m             \u001b[0mvalue\u001b[0m\u001b[1;33m,\u001b[0m \u001b[0mtype_\u001b[0m \u001b[1;33m=\u001b[0m \u001b[0mres\u001b[0m\u001b[1;33m\u001b[0m\u001b[1;33m\u001b[0m\u001b[0m\n",
      "\u001b[1;31mUnexpectedCharacters\u001b[0m: No terminal defined for 'G' at line 12 col 12\n\n SHORTNAME=G,\n           ^\n\nExpecting: {'MODE', 'LINE', 'SEMICOLON_COMMENT', 'OPERATOR', 'PROGRAM_TYPE', 'SHORTNAME', 'LONGNAME', 'HEADWAY', 'TIME_PERIOD', 'CIRCULAR', 'WHITESPACE', 'NAME', 'LSQB', '__ANON_2', 'RUNTIME', 'N', 'NODES', 'FREQ', '__ANON_1', 'STRING', 'USERA1', 'SIGNED_INT', 'COLOR', 'BOOLEAN', 'FLOAT', 'NODE_NUM', 'TIMEFAC', 'XYSPEED', 'ONEWAY', 'USERA2', 'ACCESS', 'COMMA', 'DELAY', 'FARESYSTEM', 'ALLSTOPS', 'TIME', 'NNTIME', 'RSQB', 'VEHICLETYPE', 'OWNER', 'EQUAL'}\n\nPrevious tokens: Token('EQUAL', '=')\n"
     ]
    }
   ],
   "source": [
    "card = Project.create_project(\n",
    "    base_transit_source=base_file_name,\n",
    "    build_transit_source=edit_file_name,\n",
    "    parameters=parameters,\n",
    ")\n",
    "\n",
    "card.write_project_card(filename = card_file_name)"
   ]
  },
  {
   "cell_type": "code",
   "execution_count": null,
   "metadata": {},
   "outputs": [],
   "source": []
  }
 ],
 "metadata": {
  "kernelspec": {
   "display_name": "Python 3",
   "language": "python",
   "name": "python3"
  },
  "language_info": {
   "codemirror_mode": {
    "name": "ipython",
    "version": 3
   },
   "file_extension": ".py",
   "mimetype": "text/x-python",
   "name": "python",
   "nbconvert_exporter": "python",
   "pygments_lexer": "ipython3",
   "version": "3.7.9"
  }
 },
 "nbformat": 4,
 "nbformat_minor": 4
}
