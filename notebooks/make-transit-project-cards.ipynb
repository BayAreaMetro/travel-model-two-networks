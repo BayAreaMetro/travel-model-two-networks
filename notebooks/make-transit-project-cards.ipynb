{
 "cells": [
  {
   "cell_type": "markdown",
   "metadata": {},
   "source": [
    "Make a Transit Project Card"
   ]
  },
  {
   "cell_type": "code",
   "execution_count": 1,
   "metadata": {},
   "outputs": [],
   "source": [
    "import os\n",
    "import sys\n",
    "\n",
    "from lasso import Project\n",
    "from lasso import CubeTransit\n",
    "from lasso import Parameters\n",
    "\n",
    "from network_wrangler import RoadwayNetwork\n",
    "from network_wrangler import WranglerLogger"
   ]
  },
  {
   "cell_type": "code",
   "execution_count": 2,
   "metadata": {},
   "outputs": [],
   "source": [
    "%load_ext autoreload\n",
    "%autoreload 2"
   ]
  },
  {
   "cell_type": "code",
   "execution_count": 3,
   "metadata": {},
   "outputs": [],
   "source": [
    "import logging\n",
    "logger = logging.getLogger(\"WranglerLogger\")\n",
    "logger.handlers[0].stream = sys.stdout\n",
    "logger.setLevel(logging.INFO)"
   ]
  },
  {
   "cell_type": "code",
   "execution_count": 10,
   "metadata": {},
   "outputs": [],
   "source": [
    "lasso_dir = \"Z:/Data/Users/Sijia/MTC/github/Lasso\" \n",
    "line_dir = \"D:/github/lfs-cleaning/travel-model-two-networks/notebooks/temp\"\n",
    "base_file_name = os.path.join(line_dir, 'ACTransit_2015_8_14_transit.lin')\n",
    "edit_file_name = os.path.join(line_dir, 'ac-transit-route-40-edits.lin')\n",
    "card_file_name = os.path.join(line_dir, 'ac-transit-route-40-edits.yml')"
   ]
  },
  {
   "cell_type": "code",
   "execution_count": 11,
   "metadata": {},
   "outputs": [
    {
     "name": "stdout",
     "output_type": "stream",
     "text": [
      "2021-03-02 15:48:04, INFO: Lasso base directory set as: Z:/Data/Users/Sijia/MTC/github/Lasso\n",
      "2021-03-02 15:48:04, INFO: Lasso base directory set as: Z:/Data/Users/Sijia/MTC/github/Lasso\n",
      "2021-03-02 15:48:04, INFO: Lasso base directory set as: Z:/Data/Users/Sijia/MTC/github/Lasso\n",
      "2021-03-02 15:48:04, INFO: Lasso base directory set as: Z:/Data/Users/Sijia/MTC/github/Lasso\n"
     ]
    }
   ],
   "source": [
    "parameters = Parameters(lasso_base_dir = lasso_dir)"
   ]
  },
  {
   "cell_type": "code",
   "execution_count": 12,
   "metadata": {},
   "outputs": [
    {
     "data": {
      "text/plain": [
       "'Z:/Data/Users/Sijia/MTC/github/Lasso'"
      ]
     },
     "execution_count": 12,
     "metadata": {},
     "output_type": "execute_result"
    }
   ],
   "source": [
    "parameters.lasso_base_dir"
   ]
  },
  {
   "cell_type": "code",
   "execution_count": 33,
   "metadata": {
    "scrolled": false
   },
   "outputs": [
    {
     "name": "stdout",
     "output_type": "stream",
     "text": [
      "2021-03-02 16:35:13, INFO: Lasso base directory set as: Z:/Data/Users/Sijia/MTC/github/Lasso\n",
      "2021-03-02 16:35:13, INFO: Lasso base directory set as: Z:/Data/Users/Sijia/MTC/github/Lasso\n",
      "2021-03-02 16:35:13, INFO: Lasso base directory set as: Z:/Data/Users/Sijia/MTC/github/Lasso\n",
      "2021-03-02 16:35:13, INFO: Lasso base directory set as: Z:/Data/Users/Sijia/MTC/github/Lasso\n",
      "reading: D:/github/lfs-cleaning/travel-model-two-networks/notebooks/temp\\ACTransit_2015_8_14_transit.lin\n",
      "2021-03-02 16:35:20, INFO: Lasso base directory set as: Z:/Data/Users/Sijia/MTC/github/Lasso\n",
      "2021-03-02 16:35:20, INFO: Lasso base directory set as: Z:/Data/Users/Sijia/MTC/github/Lasso\n",
      "2021-03-02 16:35:20, INFO: Lasso base directory set as: Z:/Data/Users/Sijia/MTC/github/Lasso\n",
      "2021-03-02 16:35:20, INFO: Lasso base directory set as: Z:/Data/Users/Sijia/MTC/github/Lasso\n",
      "reading: D:/github/lfs-cleaning/travel-model-two-networks/notebooks/temp\\ac-transit-route-40-edits.lin\n",
      "2021-03-02 16:35:29, INFO: No roadway changes given or processed.\n",
      "2021-03-02 16:35:29, INFO: No roadway changes given or processed.\n",
      "2021-03-02 16:35:29, INFO: No base roadway network.\n",
      "2021-03-02 16:35:29, INFO: No base roadway network.\n",
      "2021-03-02 16:35:29, INFO: Lasso base directory set as: Z:/Data/Users/Sijia/MTC/github/Lasso\n",
      "2021-03-02 16:35:29, INFO: Lasso base directory set as: Z:/Data/Users/Sijia/MTC/github/Lasso\n",
      "2021-03-02 16:35:29, INFO: Lasso base directory set as: Z:/Data/Users/Sijia/MTC/github/Lasso\n",
      "2021-03-02 16:35:29, INFO: Lasso base directory set as: Z:/Data/Users/Sijia/MTC/github/Lasso\n",
      "2021-03-02 16:35:29, INFO: Evaluating project changes.\n",
      "2021-03-02 16:35:29, INFO: Evaluating project changes.\n",
      "2021-03-02 16:35:31, INFO: Wrote project card to: D:/github/lfs-cleaning/travel-model-two-networks/notebooks/temp\\ac-transit-route-40-edits.yml\n",
      "2021-03-02 16:35:31, INFO: Wrote project card to: D:/github/lfs-cleaning/travel-model-two-networks/notebooks/temp\\ac-transit-route-40-edits.yml\n"
     ]
    }
   ],
   "source": [
    "card = Project.create_project(\n",
    "    base_transit_source=base_file_name,\n",
    "    build_transit_source=edit_file_name,\n",
    "    parameters=parameters,\n",
    ")\n",
    "\n",
    "card.write_project_card(filename = card_file_name)"
   ]
  }
 ],
 "metadata": {
  "kernelspec": {
   "display_name": "Python 3",
   "language": "python",
   "name": "python3"
  },
  "language_info": {
   "codemirror_mode": {
    "name": "ipython",
    "version": 3
   },
   "file_extension": ".py",
   "mimetype": "text/x-python",
   "name": "python",
   "nbconvert_exporter": "python",
   "pygments_lexer": "ipython3",
   "version": "3.7.9"
  }
 },
 "nbformat": 4,
 "nbformat_minor": 4
}
