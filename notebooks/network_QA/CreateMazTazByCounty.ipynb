{
 "cells": [
  {
   "cell_type": "code",
   "execution_count": 59,
   "id": "8e31c5bb",
   "metadata": {},
   "outputs": [],
   "source": [
    "# this notebook split up the maz and taz shapefiles into counties\n",
    "import os\n",
    "import pandas as pd\n",
    "import geopandas as gpd"
   ]
  },
  {
   "cell_type": "code",
   "execution_count": 60,
   "id": "96799bd1",
   "metadata": {},
   "outputs": [],
   "source": [
    "# input and output directories\n",
    "\n",
    "# directory where the maz and taz shapefiles are saved\n",
    "input_dir = os.path.join('\\\\..\\\\..\\\\..\\\\..\\\\Data',\n",
    "                       'GIS layers',\n",
    "                       'TM2_maz_taz_v2.2')\n",
    "\n",
    "# directory where the outputs will be saved\n",
    "output_dir = os.path.join('\\\\..\\\\..\\\\..\\\\..\\\\Development',\n",
    "                       'Travel Model Two',\n",
    "                       'Supply',\n",
    "                       'Network_QA_2022',\n",
    "                       'Maps_to_publish',\n",
    "                       'mazstazs_by_county')"
   ]
  },
  {
   "cell_type": "code",
   "execution_count": 61,
   "id": "5f795440",
   "metadata": {},
   "outputs": [
    {
     "data": {
      "text/plain": [
       "['.backups',\n",
       " '.Rproj.user',\n",
       " 'blocks_mazs_tazs.csv',\n",
       " 'blocks_mazs_tazs.dbf',\n",
       " 'blocks_mazs_tazs_updated.csv',\n",
       " 'blocks_mazs_tazs_v2.1.1.csv',\n",
       " 'blocks_mazs_tazs_v2.1.1.dbf',\n",
       " 'blocks_mazs_tazs_v2.1.2.csv',\n",
       " 'blocks_mazs_tazs_v2.1.2.dbf',\n",
       " 'blocks_mazs_tazs_v2.1.3.csv',\n",
       " 'blocks_mazs_tazs_v2.1.3.dbf',\n",
       " 'blocks_mazs_tazs_v2.1.4.csv',\n",
       " 'blocks_mazs_tazs_v2.1.4.dbf',\n",
       " 'blocks_mazs_tazs_v2.1.5.csv',\n",
       " 'blocks_mazs_tazs_v2.1.5.dbf',\n",
       " 'block_noland.csv',\n",
       " 'csv_to_dbf.R',\n",
       " 'Index',\n",
       " 'mazs_TM2_v2_2.cpg',\n",
       " 'mazs_TM2_v2_2.dbf',\n",
       " 'mazs_TM2_v2_2.json',\n",
       " 'mazs_TM2_v2_2.prj',\n",
       " 'mazs_TM2_v2_2.sbn',\n",
       " 'mazs_TM2_v2_2.sbx',\n",
       " 'mazs_TM2_v2_2.shp',\n",
       " 'mazs_TM2_v2_2.shp.LZORN-Z840.17288.22144.sr.lock',\n",
       " 'mazs_TM2_v2_2.shp.LZORN-Z840.22108.22144.sr.lock',\n",
       " 'mazs_TM2_v2_2.shp.LZORN-Z840.22136.22144.sr.lock',\n",
       " 'mazs_TM2_v2_2.shp.LZORN-Z840.6312.22144.sr.lock',\n",
       " 'mazs_TM2_v2_2.shp.xml',\n",
       " 'mazs_TM2_v2_2.shx',\n",
       " 'mazs_TM2_v2_2_intersect_puma2000.cpg',\n",
       " 'mazs_TM2_v2_2_intersect_puma2000.dbf',\n",
       " 'mazs_TM2_v2_2_intersect_puma2000.prj',\n",
       " 'mazs_TM2_v2_2_intersect_puma2000.sbn',\n",
       " 'mazs_TM2_v2_2_intersect_puma2000.sbx',\n",
       " 'mazs_TM2_v2_2_intersect_puma2000.shp',\n",
       " 'mazs_TM2_v2_2_intersect_puma2000.shp.xml',\n",
       " 'mazs_TM2_v2_2_intersect_puma2000.shx',\n",
       " 'mazs_TM2_v2_2_proj_NAD1983ca0406.cpg',\n",
       " 'mazs_TM2_v2_2_proj_NAD1983ca0406.dbf',\n",
       " 'mazs_TM2_v2_2_proj_NAD1983ca0406.prj',\n",
       " 'mazs_TM2_v2_2_proj_NAD1983ca0406.sbn',\n",
       " 'mazs_TM2_v2_2_proj_NAD1983ca0406.sbx',\n",
       " 'mazs_TM2_v2_2_proj_NAD1983ca0406.shp',\n",
       " 'mazs_TM2_v2_2_proj_NAD1983ca0406.shp.xml',\n",
       " 'mazs_TM2_v2_2_proj_NAD1983ca0406.shx',\n",
       " 'maz_taz_checker.log',\n",
       " 'maz_taz_checker_v2.1.2.log',\n",
       " 'maz_taz_checker_v2.1.3.log',\n",
       " 'maz_taz_checker_v2.1.4.log',\n",
       " 'maz_taz_checker_v2.1.5.log',\n",
       " 'Readme.txt',\n",
       " 'tazs_TM2_v2_2.cpg',\n",
       " 'tazs_TM2_v2_2.dbf',\n",
       " 'tazs_TM2_v2_2.json',\n",
       " 'tazs_TM2_v2_2.prj',\n",
       " 'tazs_TM2_v2_2.sbn',\n",
       " 'tazs_TM2_v2_2.sbx',\n",
       " 'tazs_TM2_v2_2.shp',\n",
       " 'tazs_TM2_v2_2.shp.LZORN-Z840.22136.22144.sr.lock',\n",
       " 'tazs_TM2_v2_2.shp.LZORN-Z840.6312.22144.sr.lock',\n",
       " 'tazs_TM2_v2_2.shp.xml',\n",
       " 'tazs_TM2_v2_2.shx',\n",
       " 'tazs_TM2_v2_2_intersect_puma2000.cpg',\n",
       " 'tazs_TM2_v2_2_intersect_puma2000.dbf',\n",
       " 'tazs_TM2_v2_2_intersect_puma2000.prj',\n",
       " 'tazs_TM2_v2_2_intersect_puma2000.sbn',\n",
       " 'tazs_TM2_v2_2_intersect_puma2000.sbx',\n",
       " 'tazs_TM2_v2_2_intersect_puma2000.shp',\n",
       " 'tazs_TM2_v2_2_intersect_puma2000.shp.xml',\n",
       " 'tazs_TM2_v2_2_intersect_puma2000.shx',\n",
       " 'tazs_TM2_v2_2_Intersect_SUPERD.cpg',\n",
       " 'tazs_TM2_v2_2_Intersect_SUPERD.dbf',\n",
       " 'tazs_TM2_v2_2_Intersect_SUPERD.prj',\n",
       " 'tazs_TM2_v2_2_Intersect_SUPERD.sbn',\n",
       " 'tazs_TM2_v2_2_Intersect_SUPERD.sbx',\n",
       " 'tazs_TM2_v2_2_Intersect_SUPERD.shp',\n",
       " 'tazs_TM2_v2_2_Intersect_SUPERD.shp.xml',\n",
       " 'tazs_TM2_v2_2_Intersect_SUPERD.shx',\n",
       " 'tazs_TM2_v2_2_Intersect_SUPERD.xlsx',\n",
       " 'tazs_TM2_v2_2_proj_NAD1983ca0406.cpg',\n",
       " 'tazs_TM2_v2_2_proj_NAD1983ca0406.dbf',\n",
       " 'tazs_TM2_v2_2_proj_NAD1983ca0406.prj',\n",
       " 'tazs_TM2_v2_2_proj_NAD1983ca0406.sbn',\n",
       " 'tazs_TM2_v2_2_proj_NAD1983ca0406.sbx',\n",
       " 'tazs_TM2_v2_2_proj_NAD1983ca0406.shp',\n",
       " 'tazs_TM2_v2_2_proj_NAD1983ca0406.shp.xml',\n",
       " 'tazs_TM2_v2_2_proj_NAD1983ca0406.shx',\n",
       " 'tazs_TM2_v2_2_SUPERD.csv',\n",
       " 'tazs_TM2_v2_2_superd_county.csv',\n",
       " 'TM2_maz_taz_v2.2.Rproj',\n",
       " 'TM2_zones22_and_census_geographies.aprx',\n",
       " 'TM2_zones22_and_census_geographies.gdb',\n",
       " 'TM2_zones22_and_census_geographies.tbx',\n",
       " 'travel_model_super_districts_042021']"
      ]
     },
     "execution_count": 61,
     "metadata": {},
     "output_type": "execute_result"
    }
   ],
   "source": [
    "os.listdir(os.path.join(input_dir))"
   ]
  },
  {
   "cell_type": "code",
   "execution_count": 62,
   "id": "50f4eb2f",
   "metadata": {},
   "outputs": [],
   "source": [
    "# read the maz file\n",
    "maz_gdf = gpd.read_file(os.path.join(input_dir,'mazs_TM2_v2_2.shp'))"
   ]
  },
  {
   "cell_type": "code",
   "execution_count": 63,
   "id": "e4847815",
   "metadata": {},
   "outputs": [
    {
     "name": "stdout",
     "output_type": "stream",
     "text": [
      "<class 'geopandas.geodataframe.GeoDataFrame'>\n",
      "RangeIndex: 39726 entries, 0 to 39725\n",
      "Data columns (total 10 columns):\n",
      " #   Column      Non-Null Count  Dtype   \n",
      "---  ------      --------------  -----   \n",
      " 0   maz         39726 non-null  int64   \n",
      " 1   ALAND10     39726 non-null  float64 \n",
      " 2   AWATER10    39726 non-null  float64 \n",
      " 3   blockcount  39726 non-null  int64   \n",
      " 4   taz         39726 non-null  int64   \n",
      " 5   partcount   39726 non-null  int64   \n",
      " 6   PERIM_GEO   39726 non-null  float64 \n",
      " 7   psq_overa   39726 non-null  float64 \n",
      " 8   acres       39726 non-null  float64 \n",
      " 9   geometry    39726 non-null  geometry\n",
      "dtypes: float64(5), geometry(1), int64(4)\n",
      "memory usage: 3.0 MB\n"
     ]
    }
   ],
   "source": [
    "# get info for the maz file\n",
    "maz_gdf.info()"
   ]
  },
  {
   "cell_type": "code",
   "execution_count": 64,
   "id": "7c9cd11e",
   "metadata": {},
   "outputs": [],
   "source": [
    "# read the file containing the county information\n",
    "TazToCounty_df = pd.read_csv(os.path.join(input_dir,'tazs_TM2_v2_2_superd_county.csv'))"
   ]
  },
  {
   "cell_type": "code",
   "execution_count": 65,
   "id": "dc057850",
   "metadata": {},
   "outputs": [
    {
     "name": "stdout",
     "output_type": "stream",
     "text": [
      "<class 'pandas.core.frame.DataFrame'>\n",
      "RangeIndex: 4735 entries, 0 to 4734\n",
      "Data columns (total 4 columns):\n",
      " #   Column       Non-Null Count  Dtype \n",
      "---  ------       --------------  ----- \n",
      " 0   TAZ          4735 non-null   int64 \n",
      " 1   SUPERD       4735 non-null   int64 \n",
      " 2   COUNTY       4735 non-null   int64 \n",
      " 3   COUNTY_NAME  4735 non-null   object\n",
      "dtypes: int64(3), object(1)\n",
      "memory usage: 148.1+ KB\n"
     ]
    }
   ],
   "source": [
    "# get info for the taz to county file\n",
    "TazToCounty_df.info()"
   ]
  },
  {
   "cell_type": "code",
   "execution_count": 66,
   "id": "77c36ff8",
   "metadata": {},
   "outputs": [],
   "source": [
    "# join the maz file with the TazToCounty file\n",
    "maz_TazToCounty_gdf = pd.merge(maz_gdf,\n",
    "                             TazToCounty_df,\n",
    "                             how='outer',\n",
    "                             left_on=['taz'], \n",
    "                             right_on=['TAZ'],\n",
    "                             indicator=True)"
   ]
  },
  {
   "cell_type": "code",
   "execution_count": 67,
   "id": "53d193fb",
   "metadata": {},
   "outputs": [
    {
     "data": {
      "text/plain": [
       "both          39726\n",
       "left_only         0\n",
       "right_only        0\n",
       "Name: _merge, dtype: int64"
      ]
     },
     "execution_count": 67,
     "metadata": {},
     "output_type": "execute_result"
    }
   ],
   "source": [
    "# Review the merge indicator\n",
    "maz_TazToCounty_gdf['_merge'].value_counts()"
   ]
  },
  {
   "cell_type": "code",
   "execution_count": 68,
   "id": "f798da99",
   "metadata": {},
   "outputs": [
    {
     "name": "stderr",
     "output_type": "stream",
     "text": [
      "C:\\Users\\ftsang\\AppData\\Local\\Temp/ipykernel_4312/2237551078.py:2: FutureWarning: In a future version of pandas all arguments of DataFrame.drop except for the argument 'labels' will be keyword-only\n",
      "  maz_TazToCounty_gdf = maz_TazToCounty_gdf.drop('_merge', 1)\n"
     ]
    }
   ],
   "source": [
    "# before exporting by county, need to drop the merge indicator\n",
    "maz_TazToCounty_gdf = maz_TazToCounty_gdf.drop('_merge', 1)\n",
    "# where 1 is the axis number (0 for rows and 1 for columns.)"
   ]
  },
  {
   "cell_type": "code",
   "execution_count": 69,
   "id": "bf2ed72b",
   "metadata": {},
   "outputs": [
    {
     "data": {
      "text/plain": [
       "Alameda          8626\n",
       "Santa Clara      8510\n",
       "Contra Costa     5912\n",
       "San Mateo        4454\n",
       "San Francisco    4153\n",
       "Sonoma           2887\n",
       "Solano           2810\n",
       "Marin            1418\n",
       "Napa              956\n",
       "Name: COUNTY_NAME, dtype: int64"
      ]
     },
     "execution_count": 69,
     "metadata": {},
     "output_type": "execute_result"
    }
   ],
   "source": [
    "# before exporting by county, look at data by county\n",
    "maz_TazToCounty_gdf['COUNTY_NAME'].value_counts()"
   ]
  },
  {
   "cell_type": "code",
   "execution_count": 70,
   "id": "17dcb90e",
   "metadata": {},
   "outputs": [
    {
     "name": "stderr",
     "output_type": "stream",
     "text": [
      "C:\\Users\\ftsang\\AppData\\Local\\Temp/ipykernel_4312/1923814081.py:8: UserWarning: Column names longer than 10 characters will be truncated when saved to ESRI Shapefile.\n",
      "  maz_countylayer_gdf.to_file(os.path.join(output_dir, output_file_name))\n",
      "C:\\Users\\ftsang\\AppData\\Local\\Temp/ipykernel_4312/1923814081.py:8: UserWarning: Column names longer than 10 characters will be truncated when saved to ESRI Shapefile.\n",
      "  maz_countylayer_gdf.to_file(os.path.join(output_dir, output_file_name))\n",
      "C:\\Users\\ftsang\\AppData\\Local\\Temp/ipykernel_4312/1923814081.py:8: UserWarning: Column names longer than 10 characters will be truncated when saved to ESRI Shapefile.\n",
      "  maz_countylayer_gdf.to_file(os.path.join(output_dir, output_file_name))\n",
      "C:\\Users\\ftsang\\AppData\\Local\\Temp/ipykernel_4312/1923814081.py:8: UserWarning: Column names longer than 10 characters will be truncated when saved to ESRI Shapefile.\n",
      "  maz_countylayer_gdf.to_file(os.path.join(output_dir, output_file_name))\n",
      "C:\\Users\\ftsang\\AppData\\Local\\Temp/ipykernel_4312/1923814081.py:8: UserWarning: Column names longer than 10 characters will be truncated when saved to ESRI Shapefile.\n",
      "  maz_countylayer_gdf.to_file(os.path.join(output_dir, output_file_name))\n",
      "C:\\Users\\ftsang\\AppData\\Local\\Temp/ipykernel_4312/1923814081.py:8: UserWarning: Column names longer than 10 characters will be truncated when saved to ESRI Shapefile.\n",
      "  maz_countylayer_gdf.to_file(os.path.join(output_dir, output_file_name))\n",
      "C:\\Users\\ftsang\\AppData\\Local\\Temp/ipykernel_4312/1923814081.py:8: UserWarning: Column names longer than 10 characters will be truncated when saved to ESRI Shapefile.\n",
      "  maz_countylayer_gdf.to_file(os.path.join(output_dir, output_file_name))\n",
      "C:\\Users\\ftsang\\AppData\\Local\\Temp/ipykernel_4312/1923814081.py:8: UserWarning: Column names longer than 10 characters will be truncated when saved to ESRI Shapefile.\n",
      "  maz_countylayer_gdf.to_file(os.path.join(output_dir, output_file_name))\n",
      "C:\\Users\\ftsang\\AppData\\Local\\Temp/ipykernel_4312/1923814081.py:8: UserWarning: Column names longer than 10 characters will be truncated when saved to ESRI Shapefile.\n",
      "  maz_countylayer_gdf.to_file(os.path.join(output_dir, output_file_name))\n"
     ]
    }
   ],
   "source": [
    "# export to shape\n",
    "counties = [\"Alameda\", \"Contra Costa\", \"Marin\",  \"Napa\",  \"San Francisco\",  \"San Mateo\",  \"Santa Clara\",  \"Solano\",  \"Sonoma\"]\n",
    "\n",
    "for x in counties:\n",
    "   \n",
    "   maz_countylayer_gdf = maz_TazToCounty_gdf[maz_TazToCounty_gdf['COUNTY_NAME']==x]\n",
    "   output_file_name = \"mazs_\" + x + \".shp\"\n",
    "   maz_countylayer_gdf.to_file(os.path.join(output_dir, output_file_name))"
   ]
  },
  {
   "cell_type": "code",
   "execution_count": 72,
   "id": "b04a0ea1",
   "metadata": {},
   "outputs": [],
   "source": [
    "# read the taz file\n",
    "taz_gdf = gpd.read_file(os.path.join(input_dir,'tazs_TM2_v2_2.shp'))"
   ]
  },
  {
   "cell_type": "code",
   "execution_count": 73,
   "id": "2bfdf68f",
   "metadata": {},
   "outputs": [
    {
     "name": "stdout",
     "output_type": "stream",
     "text": [
      "<class 'geopandas.geodataframe.GeoDataFrame'>\n",
      "RangeIndex: 4735 entries, 0 to 4734\n",
      "Data columns (total 10 columns):\n",
      " #   Column      Non-Null Count  Dtype   \n",
      "---  ------      --------------  -----   \n",
      " 0   taz         4735 non-null   int64   \n",
      " 1   ALAND10     4735 non-null   float64 \n",
      " 2   AWATER10    4735 non-null   float64 \n",
      " 3   blockcount  4735 non-null   int64   \n",
      " 4   mazcount    4735 non-null   int64   \n",
      " 5   partcount   4735 non-null   int64   \n",
      " 6   PERIM_GEO   4735 non-null   float64 \n",
      " 7   psq_overa   4735 non-null   float64 \n",
      " 8   acres       4735 non-null   float64 \n",
      " 9   geometry    4735 non-null   geometry\n",
      "dtypes: float64(5), geometry(1), int64(4)\n",
      "memory usage: 370.0 KB\n"
     ]
    }
   ],
   "source": [
    "# get info for the maz file\n",
    "taz_gdf.info()"
   ]
  },
  {
   "cell_type": "code",
   "execution_count": 74,
   "id": "8ed7bad7",
   "metadata": {},
   "outputs": [],
   "source": [
    "# join the taz file with the TazToCounty file\n",
    "taz_TazToCounty_gdf = pd.merge(taz_gdf,\n",
    "                             TazToCounty_df,\n",
    "                             how='outer',\n",
    "                             left_on=['taz'], \n",
    "                             right_on=['TAZ'],\n",
    "                             indicator=True)"
   ]
  },
  {
   "cell_type": "code",
   "execution_count": 75,
   "id": "94212a3f",
   "metadata": {},
   "outputs": [
    {
     "data": {
      "text/plain": [
       "both          4735\n",
       "left_only        0\n",
       "right_only       0\n",
       "Name: _merge, dtype: int64"
      ]
     },
     "execution_count": 75,
     "metadata": {},
     "output_type": "execute_result"
    }
   ],
   "source": [
    "# Review the merge indicator\n",
    "taz_TazToCounty_gdf['_merge'].value_counts()"
   ]
  },
  {
   "cell_type": "code",
   "execution_count": 76,
   "id": "5dff49ac",
   "metadata": {},
   "outputs": [
    {
     "name": "stderr",
     "output_type": "stream",
     "text": [
      "C:\\Users\\ftsang\\AppData\\Local\\Temp/ipykernel_4312/2684771816.py:2: FutureWarning: In a future version of pandas all arguments of DataFrame.drop except for the argument 'labels' will be keyword-only\n",
      "  taz_TazToCounty_gdf = taz_TazToCounty_gdf.drop('_merge', 1)\n"
     ]
    }
   ],
   "source": [
    "# before exporting by county, need to drop the merge indicator\n",
    "taz_TazToCounty_gdf = taz_TazToCounty_gdf.drop('_merge', 1)\n",
    "# where 1 is the axis number (0 for rows and 1 for columns.)"
   ]
  },
  {
   "cell_type": "code",
   "execution_count": 77,
   "id": "602fd3b6",
   "metadata": {},
   "outputs": [
    {
     "data": {
      "text/plain": [
       "Alameda          1100\n",
       "Santa Clara      1021\n",
       "San Francisco     636\n",
       "Contra Costa      630\n",
       "San Mateo         421\n",
       "Sonoma            357\n",
       "Solano            269\n",
       "Marin             201\n",
       "Napa              100\n",
       "Name: COUNTY_NAME, dtype: int64"
      ]
     },
     "execution_count": 77,
     "metadata": {},
     "output_type": "execute_result"
    }
   ],
   "source": [
    "# before exporting by county, look at data by county\n",
    "taz_TazToCounty_gdf['COUNTY_NAME'].value_counts()"
   ]
  },
  {
   "cell_type": "code",
   "execution_count": 78,
   "id": "36dcdd22",
   "metadata": {},
   "outputs": [
    {
     "name": "stderr",
     "output_type": "stream",
     "text": [
      "C:\\Users\\ftsang\\AppData\\Local\\Temp/ipykernel_4312/1012793132.py:8: UserWarning: Column names longer than 10 characters will be truncated when saved to ESRI Shapefile.\n",
      "  taz_countylayer_gdf.to_file(os.path.join(output_dir, output_file_name))\n",
      "C:\\Users\\ftsang\\AppData\\Local\\Temp/ipykernel_4312/1012793132.py:8: UserWarning: Column names longer than 10 characters will be truncated when saved to ESRI Shapefile.\n",
      "  taz_countylayer_gdf.to_file(os.path.join(output_dir, output_file_name))\n",
      "C:\\Users\\ftsang\\AppData\\Local\\Temp/ipykernel_4312/1012793132.py:8: UserWarning: Column names longer than 10 characters will be truncated when saved to ESRI Shapefile.\n",
      "  taz_countylayer_gdf.to_file(os.path.join(output_dir, output_file_name))\n",
      "C:\\Users\\ftsang\\AppData\\Local\\Temp/ipykernel_4312/1012793132.py:8: UserWarning: Column names longer than 10 characters will be truncated when saved to ESRI Shapefile.\n",
      "  taz_countylayer_gdf.to_file(os.path.join(output_dir, output_file_name))\n",
      "C:\\Users\\ftsang\\AppData\\Local\\Temp/ipykernel_4312/1012793132.py:8: UserWarning: Column names longer than 10 characters will be truncated when saved to ESRI Shapefile.\n",
      "  taz_countylayer_gdf.to_file(os.path.join(output_dir, output_file_name))\n",
      "C:\\Users\\ftsang\\AppData\\Local\\Temp/ipykernel_4312/1012793132.py:8: UserWarning: Column names longer than 10 characters will be truncated when saved to ESRI Shapefile.\n",
      "  taz_countylayer_gdf.to_file(os.path.join(output_dir, output_file_name))\n",
      "C:\\Users\\ftsang\\AppData\\Local\\Temp/ipykernel_4312/1012793132.py:8: UserWarning: Column names longer than 10 characters will be truncated when saved to ESRI Shapefile.\n",
      "  taz_countylayer_gdf.to_file(os.path.join(output_dir, output_file_name))\n",
      "C:\\Users\\ftsang\\AppData\\Local\\Temp/ipykernel_4312/1012793132.py:8: UserWarning: Column names longer than 10 characters will be truncated when saved to ESRI Shapefile.\n",
      "  taz_countylayer_gdf.to_file(os.path.join(output_dir, output_file_name))\n",
      "C:\\Users\\ftsang\\AppData\\Local\\Temp/ipykernel_4312/1012793132.py:8: UserWarning: Column names longer than 10 characters will be truncated when saved to ESRI Shapefile.\n",
      "  taz_countylayer_gdf.to_file(os.path.join(output_dir, output_file_name))\n"
     ]
    }
   ],
   "source": [
    "# export to shape\n",
    "counties = [\"Alameda\", \"Contra Costa\", \"Marin\",  \"Napa\",  \"San Francisco\",  \"San Mateo\",  \"Santa Clara\",  \"Solano\",  \"Sonoma\"]\n",
    "\n",
    "for x in counties:\n",
    "   \n",
    "   taz_countylayer_gdf = taz_TazToCounty_gdf[taz_TazToCounty_gdf['COUNTY_NAME']==x]\n",
    "   output_file_name = \"tazs_\" + x + \".shp\"\n",
    "   taz_countylayer_gdf.to_file(os.path.join(output_dir, output_file_name))"
   ]
  }
 ],
 "metadata": {
  "kernelspec": {
   "display_name": "geo_env",
   "language": "python",
   "name": "geo_env"
  },
  "language_info": {
   "codemirror_mode": {
    "name": "ipython",
    "version": 3
   },
   "file_extension": ".py",
   "mimetype": "text/x-python",
   "name": "python",
   "nbconvert_exporter": "python",
   "pygments_lexer": "ipython3",
   "version": "3.10.0"
  }
 },
 "nbformat": 4,
 "nbformat_minor": 5
}
