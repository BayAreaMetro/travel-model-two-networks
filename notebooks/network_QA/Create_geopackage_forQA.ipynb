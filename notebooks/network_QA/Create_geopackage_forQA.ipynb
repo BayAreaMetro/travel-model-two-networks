{
 "cells": [
  {
   "cell_type": "code",
   "execution_count": 1,
   "id": "e33f061a",
   "metadata": {},
   "outputs": [],
   "source": [
    "# this notebook reads the geopackage file\n",
    "import os\n",
    "import pandas as pd\n",
    "import geopandas as gpd"
   ]
  },
  {
   "cell_type": "code",
   "execution_count": 3,
   "id": "34db1a6f",
   "metadata": {},
   "outputs": [],
   "source": [
    "# input and output directories\n",
    "# I worked locallly to minimize latency. \n",
    "# When I'm done, I manually move the output to Box (C:\\Users\\ftsang\\Box\\Modeling and Surveys\\Development\\Travel Model Two Development\\Travel Model Two Network Rebuild\\travel-model-two-networks\\tm2_network_exploration_Flavia\\tm2_roadway_QA)\n",
    "\n",
    "# directory where the tm2 geopackage is saved\n",
    "input_dir = os.path.join('\\\\..\\\\..\\\\..\\\\..\\\\Users',\n",
    "                       'ftsang',\n",
    "                       'Documents',\n",
    "                       'tm2_network_exploration',\n",
    "                       'tm2_roadway_gpkg_QA',\n",
    "                       'network_gpkg')\n",
    "\n",
    "# directory where the outputs will be saved\n",
    "output_dir = os.path.join('\\\\..\\\\..\\\\..\\\\..\\\\Users',\n",
    "                       'ftsang',\n",
    "                       'Documents',\n",
    "                       'tm2_network_exploration',\n",
    "                       'tm2_roadway_gpkg_QA')"
   ]
  },
  {
   "cell_type": "code",
   "execution_count": 4,
   "id": "0290a280",
   "metadata": {},
   "outputs": [
    {
     "data": {
      "text/plain": [
       "['model_net.gpkg']"
      ]
     },
     "execution_count": 4,
     "metadata": {},
     "output_type": "execute_result"
    }
   ],
   "source": [
    "os.listdir(os.path.join(input_dir))"
   ]
  },
  {
   "cell_type": "code",
   "execution_count": 21,
   "id": "d032872b",
   "metadata": {},
   "outputs": [],
   "source": [
    "# read the tm2 geopackage\n",
    "links_gdf = gpd.read_file(os.path.join(input_dir,'model_net.gpkg'), layer='links')"
   ]
  },
  {
   "cell_type": "code",
   "execution_count": 22,
   "id": "eb2ba35a",
   "metadata": {},
   "outputs": [
    {
     "name": "stdout",
     "output_type": "stream",
     "text": [
      "<class 'geopandas.geodataframe.GeoDataFrame'>\n",
      "RangeIndex: 2240283 entries, 0 to 2240282\n",
      "Data columns (total 31 columns):\n",
      " #   Column          Dtype   \n",
      "---  ------          -----   \n",
      " 0   A               int64   \n",
      " 1   B               int64   \n",
      " 2   model_link_id   int64   \n",
      " 3   shstGeometryId  object  \n",
      " 4   name            object  \n",
      " 5   ft              int64   \n",
      " 6   assignable      int64   \n",
      " 7   cntype          object  \n",
      " 8   distance        float64 \n",
      " 9   county          object  \n",
      " 10  bike_access     int64   \n",
      " 11  drive_access    int64   \n",
      " 12  walk_access     int64   \n",
      " 13  rail_only       int64   \n",
      " 14  bus_only        int64   \n",
      " 15  transit         int64   \n",
      " 16  managed         int64   \n",
      " 17  tollbooth       int64   \n",
      " 18  tollseg         int64   \n",
      " 19  segment_id      int64   \n",
      " 20  lanes_EA        int64   \n",
      " 21  lanes_AM        int64   \n",
      " 22  lanes_MD        int64   \n",
      " 23  lanes_PM        int64   \n",
      " 24  lanes_EV        int64   \n",
      " 25  useclass_EA     int64   \n",
      " 26  useclass_AM     int64   \n",
      " 27  useclass_MD     int64   \n",
      " 28  useclass_PM     int64   \n",
      " 29  useclass_EV     int64   \n",
      " 30  geometry        geometry\n",
      "dtypes: float64(1), geometry(1), int64(25), object(4)\n",
      "memory usage: 529.9+ MB\n"
     ]
    }
   ],
   "source": [
    "# get info for the geopackage\n",
    "links_gdf.info()"
   ]
  },
  {
   "cell_type": "code",
   "execution_count": 23,
   "id": "1b724f22",
   "metadata": {},
   "outputs": [],
   "source": [
    "# add a blank field for CTA comments\n",
    "links_gdf['CTA_comments'] = '' "
   ]
  },
  {
   "cell_type": "code",
   "execution_count": 25,
   "id": "695bbf1b",
   "metadata": {},
   "outputs": [],
   "source": [
    "# drop all centroid connectors and bike/ped (ft=8 and ft=99), to make the output layer more readable\n",
    "links_noFT8n99_gdf = links_gdf[links_gdf['ft']<8]"
   ]
  },
  {
   "cell_type": "code",
   "execution_count": 27,
   "id": "a053b8b0",
   "metadata": {},
   "outputs": [],
   "source": [
    "# but FT=8 also included the access/egress dummy links for managed lanes\n",
    "# so save a database of these dummy links\n",
    "# and then append (concat) them\n",
    "dummy_gdf = links_gdf[links_gdf['name'].str.contains('Dummy', na=False)]\n",
    "links_noFT8n99_gdf = pd.concat([links_noFT8n99_gdf, dummy_gdf])"
   ]
  },
  {
   "cell_type": "code",
   "execution_count": 35,
   "id": "b18078b1",
   "metadata": {
    "scrolled": true
   },
   "outputs": [
    {
     "data": {
      "text/plain": [
       "99    890204\n",
       "8     603956\n",
       "7     538684\n",
       "6      96409\n",
       "5      58376\n",
       "4      39051\n",
       "3       6452\n",
       "1       3666\n",
       "2       3485\n",
       "Name: ft, dtype: int64"
      ]
     },
     "execution_count": 35,
     "metadata": {},
     "output_type": "execute_result"
    }
   ],
   "source": [
    "# look at data by facility type before and after the data processing\n",
    "# before:\n",
    "links_gdf['ft'].value_counts()"
   ]
  },
  {
   "cell_type": "code",
   "execution_count": 36,
   "id": "a7d739a6",
   "metadata": {},
   "outputs": [
    {
     "data": {
      "text/plain": [
       "7    538684\n",
       "6     96409\n",
       "5     58376\n",
       "4     39051\n",
       "3      6452\n",
       "1      3666\n",
       "2      3485\n",
       "8      2998\n",
       "Name: ft, dtype: int64"
      ]
     },
     "execution_count": 36,
     "metadata": {},
     "output_type": "execute_result"
    }
   ],
   "source": [
    "# after:\n",
    "links_noFT8n99_gdf['ft'].value_counts()"
   ]
  },
  {
   "cell_type": "code",
   "execution_count": 37,
   "id": "538ae736",
   "metadata": {},
   "outputs": [
    {
     "data": {
      "text/plain": [
       "Santa Clara      662698\n",
       "Alameda          444167\n",
       "Contra Costa     327165\n",
       "San Mateo        203945\n",
       "Sonoma           178969\n",
       "Solano           157577\n",
       "San Francisco    133512\n",
       "Marin             85148\n",
       "Napa              47068\n",
       "External             34\n",
       "Name: county, dtype: int64"
      ]
     },
     "execution_count": 37,
     "metadata": {},
     "output_type": "execute_result"
    }
   ],
   "source": [
    "# before exporting by county, look at data by county\n",
    "# first with all links included\n",
    "links_gdf['county'].value_counts()"
   ]
  },
  {
   "cell_type": "code",
   "execution_count": 38,
   "id": "783f0043",
   "metadata": {},
   "outputs": [
    {
     "data": {
      "text/plain": [
       "Santa Clara      186576\n",
       "Alameda          149835\n",
       "Contra Costa     125062\n",
       "Sonoma            70643\n",
       "San Mateo         68019\n",
       "Solano            59287\n",
       "San Francisco     37417\n",
       "Marin             34070\n",
       "Napa              18206\n",
       "External              6\n",
       "Name: county, dtype: int64"
      ]
     },
     "execution_count": 38,
     "metadata": {},
     "output_type": "execute_result"
    }
   ],
   "source": [
    "# second without centroid connectors and bike ped\n",
    "links_noFT8n99_gdf['county'].value_counts()"
   ]
  },
  {
   "cell_type": "code",
   "execution_count": 46,
   "id": "db070108",
   "metadata": {},
   "outputs": [],
   "source": [
    "# Alameda\n",
    "tm2_Alameda_gdf = links_noFT8n99_gdf[links_noFT8n99_gdf['county']=='Alameda']\n",
    "tm2_Alameda_gdf.to_file(os.path.join(output_dir,\"tm2QA.gpkg\"), layer='tm2_Alameda', driver=\"GPKG\")"
   ]
  },
  {
   "cell_type": "code",
   "execution_count": 47,
   "id": "1d03745b",
   "metadata": {},
   "outputs": [],
   "source": [
    "# Contra Costa\n",
    "tm2_ContraCosta_gdf = links_noFT8n99_gdf[links_noFT8n99_gdf['county']=='Contra Costa']\n",
    "tm2_ContraCosta_gdf.to_file(os.path.join(output_dir,\"tm2QA.gpkg\"), layer='tm2_ContraCosta', driver=\"GPKG\")\n",
    "                            \n",
    "# make sure the final geopackage has multiple layers "
   ]
  }
 ],
 "metadata": {
  "kernelspec": {
   "display_name": "geo_env",
   "language": "python",
   "name": "geo_env"
  },
  "language_info": {
   "codemirror_mode": {
    "name": "ipython",
    "version": 3
   },
   "file_extension": ".py",
   "mimetype": "text/x-python",
   "name": "python",
   "nbconvert_exporter": "python",
   "pygments_lexer": "ipython3",
   "version": "3.10.0"
  }
 },
 "nbformat": 4,
 "nbformat_minor": 5
}
