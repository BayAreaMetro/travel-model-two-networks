{
 "cells": [
  {
   "cell_type": "code",
   "execution_count": 1,
   "id": "f403428f",
   "metadata": {},
   "outputs": [],
   "source": [
    "import os\n",
    "import pandas as pd\n",
    "import geopandas as gpd"
   ]
  },
  {
   "cell_type": "code",
   "execution_count": 11,
   "id": "fe6ca683",
   "metadata": {},
   "outputs": [],
   "source": [
    "# input and output directories\n",
    "\n",
    "# directory where the cube export is saved\n",
    "# cube export was done manually because I don't know how to turn on trueshape display with a script\n",
    "input_dir = os.path.join('\\\\..\\\\..\\\\..\\\\..\\\\Users',\n",
    "                       'ftsang',\n",
    "                       'Documents',\n",
    "                       'tm2_network_exploration',\n",
    "                       'tm2_roadway_QA',\n",
    "                       'Cube_export_V12')\n",
    "\n",
    "# directory where the outputs will be saved\n",
    "output_dir = os.path.join('\\\\..\\\\..\\\\..\\\\..\\\\Users',\n",
    "                       'ftsang',\n",
    "                       'Documents',\n",
    "                       'tm2_network_exploration',\n",
    "                       'tm2_roadway_QA')"
   ]
  },
  {
   "cell_type": "code",
   "execution_count": 12,
   "id": "b184adda",
   "metadata": {},
   "outputs": [
    {
     "data": {
      "text/plain": [
       "['.ipynb_checkpoints',\n",
       " 'complete_network.dbf',\n",
       " 'complete_network.prj',\n",
       " 'complete_network.shp',\n",
       " 'complete_network.shx',\n",
       " 'Create_roadway_by_county.ipynb']"
      ]
     },
     "execution_count": 12,
     "metadata": {},
     "output_type": "execute_result"
    }
   ],
   "source": [
    "os.listdir(input_dir)"
   ]
  },
  {
   "cell_type": "code",
   "execution_count": 13,
   "id": "2fe3dd6c",
   "metadata": {},
   "outputs": [],
   "source": [
    "#read the complete network\n",
    "complete_net_gdf = gpd.read_file(os.path.join(input_dir,'complete_network.shp'))"
   ]
  },
  {
   "cell_type": "code",
   "execution_count": 14,
   "id": "7beba474",
   "metadata": {},
   "outputs": [
    {
     "name": "stdout",
     "output_type": "stream",
     "text": [
      "<class 'geopandas.geodataframe.GeoDataFrame'>\n",
      "RangeIndex: 2240283 entries, 0 to 2240282\n",
      "Data columns (total 31 columns):\n",
      " #   Column       Dtype   \n",
      "---  ------       -----   \n",
      " 0   A            int64   \n",
      " 1   B            int64   \n",
      " 2   ASSIGNABLE   int64   \n",
      " 3   BIKE_ACCESS  int64   \n",
      " 4   BUS_ONLY     int64   \n",
      " 5   COUNTY       object  \n",
      " 6   DISTANCE     float64 \n",
      " 7   DRIVE_ACCES  int64   \n",
      " 8   FT           int64   \n",
      " 9   MANAGED      int64   \n",
      " 10  MODEL_LINK_  int64   \n",
      " 11  NAME         object  \n",
      " 12  RAIL_ONLY    int64   \n",
      " 13  SEGMENT_ID   int64   \n",
      " 14  SHSTGEOMETR  object  \n",
      " 15  TOLLBOOTH    int64   \n",
      " 16  TOLLSEG      int64   \n",
      " 17  TRANSIT      int64   \n",
      " 18  WALK_ACCESS  int64   \n",
      " 19  CNTYPE       object  \n",
      " 20  LANES_EA     int64   \n",
      " 21  LANES_AM     int64   \n",
      " 22  LANES_MD     int64   \n",
      " 23  LANES_PM     int64   \n",
      " 24  LANES_EV     int64   \n",
      " 25  USECLASS_EA  int64   \n",
      " 26  USECLASS_AM  int64   \n",
      " 27  USECLASS_MD  int64   \n",
      " 28  USECLASS_PM  int64   \n",
      " 29  USECLASS_EV  int64   \n",
      " 30  geometry     geometry\n",
      "dtypes: float64(1), geometry(1), int64(25), object(4)\n",
      "memory usage: 529.9+ MB\n"
     ]
    }
   ],
   "source": [
    "#get info for complete_network.shp\n",
    "complete_net_gdf.info()"
   ]
  },
  {
   "cell_type": "code",
   "execution_count": 15,
   "id": "17cf0556",
   "metadata": {},
   "outputs": [
    {
     "data": {
      "text/plain": [
       "Santa Clara      662698\n",
       "Alameda          444167\n",
       "Contra Costa     327165\n",
       "San Mateo        203945\n",
       "Sonoma           178969\n",
       "Solano           157577\n",
       "San Francisco    133512\n",
       "Marin             85148\n",
       "Napa              47068\n",
       "External             34\n",
       "Name: COUNTY, dtype: int64"
      ]
     },
     "execution_count": 15,
     "metadata": {},
     "output_type": "execute_result"
    }
   ],
   "source": [
    "#look at the data by county\n",
    "complete_net_gdf['COUNTY'].value_counts()"
   ]
  },
  {
   "cell_type": "code",
   "execution_count": 16,
   "id": "c118a1f4",
   "metadata": {},
   "outputs": [
    {
     "data": {
      "text/plain": [
       "99    890204\n",
       "8     603956\n",
       "7     538684\n",
       "6      96409\n",
       "5      58376\n",
       "4      39051\n",
       "3       6452\n",
       "1       3666\n",
       "2       3485\n",
       "Name: FT, dtype: int64"
      ]
     },
     "execution_count": 16,
     "metadata": {},
     "output_type": "execute_result"
    }
   ],
   "source": [
    "#look at the data by facility type\n",
    "complete_net_gdf['FT'].value_counts()"
   ]
  },
  {
   "cell_type": "code",
   "execution_count": 17,
   "id": "9788ffbc",
   "metadata": {},
   "outputs": [],
   "source": [
    "# before exporting, drop centroid connectors (ft=8) and bike/peds (ft=99)\n",
    "tm2_cube_noFT8n99_gdf = complete_net_gdf[complete_net_gdf['FT']<8]"
   ]
  },
  {
   "cell_type": "code",
   "execution_count": 18,
   "id": "e42613ac",
   "metadata": {},
   "outputs": [
    {
     "name": "stderr",
     "output_type": "stream",
     "text": [
      "C:\\Users\\ftsang\\AppData\\Local\\Temp/ipykernel_12760/1694021939.py:2: UserWarning: Column names longer than 10 characters will be truncated when saved to ESRI Shapefile.\n",
      "  tm2_cube_noFT8n99_gdf.to_file(os.path.join(out_dir,'tm2_cube_noFT8n99.shp'))\n"
     ]
    }
   ],
   "source": [
    "# export to shape\n",
    "tm2_cube_noFT8n99_gdf.to_file(os.path.join(out_dir,'tm2_cube_noFT8n99.shp'))"
   ]
  },
  {
   "cell_type": "code",
   "execution_count": 19,
   "id": "770c10d4",
   "metadata": {},
   "outputs": [
    {
     "name": "stderr",
     "output_type": "stream",
     "text": [
      "C:\\Users\\ftsang\\AppData\\Local\\Temp/ipykernel_12760/1182861389.py:4: UserWarning: Column names longer than 10 characters will be truncated when saved to ESRI Shapefile.\n",
      "  tm2cube_SantaClara_gdf.to_file(os.path.join(out_dir,'tm2cube_SantaClara.shp'))\n"
     ]
    }
   ],
   "source": [
    "# export by county\n",
    "# Santa Clara\n",
    "tm2cube_SantaClara_gdf = tm2_cube_noFT8n99_gdf[tm2_cube_noFT8n99_gdf['COUNTY']=='Santa Clara']\n",
    "tm2cube_SantaClara_gdf.to_file(os.path.join(out_dir,'tm2cube_SantaClara.shp'))"
   ]
  },
  {
   "cell_type": "code",
   "execution_count": null,
   "id": "c2460e0e",
   "metadata": {},
   "outputs": [],
   "source": [
    "# Alameda\n",
    "tm2cube_Alameda_gdf = tm2_cube_noFT8n99_gdf[tm2_cube_noFT8n99_gdf['COUNTY']=='Alameda']\n",
    "tm2cube_Alameda_gdf.to_file(os.path.join(out_dir,'tm2cube_Alameda.shp'))"
   ]
  },
  {
   "cell_type": "code",
   "execution_count": 20,
   "id": "38798c7f",
   "metadata": {},
   "outputs": [
    {
     "name": "stderr",
     "output_type": "stream",
     "text": [
      "C:\\Users\\ftsang\\AppData\\Local\\Temp/ipykernel_12760/1604064202.py:3: UserWarning: Column names longer than 10 characters will be truncated when saved to ESRI Shapefile.\n",
      "  tm2cube_ContraCosta_gdf.to_file(os.path.join(out_dir,'tm2cube_ContraCosta.shp'))\n"
     ]
    }
   ],
   "source": [
    "# Contra Costa\n",
    "tm2cube_ContraCosta_gdf = tm2_cube_noFT8n99_gdf[tm2_cube_noFT8n99_gdf['COUNTY']=='Contra Costa']\n",
    "tm2cube_ContraCosta_gdf.to_file(os.path.join(out_dir,'tm2cube_ContraCosta.shp'))"
   ]
  },
  {
   "cell_type": "code",
   "execution_count": null,
   "id": "ecdf1935",
   "metadata": {},
   "outputs": [],
   "source": [
    "# San Mateo\n",
    "tm2cube_SanMateo_gdf = tm2_cube_noFT8n99_gdf[tm2_cube_noFT8n99_gdf['COUNTY']=='San Mateo']\n",
    "tm2cube_SanMateo_gdf.to_file(os.path.join(out_dir,'tm2cube_SanMateo.shp'))"
   ]
  },
  {
   "cell_type": "code",
   "execution_count": null,
   "id": "9ce64c5f",
   "metadata": {},
   "outputs": [],
   "source": []
  },
  {
   "cell_type": "code",
   "execution_count": null,
   "id": "4ffda15f",
   "metadata": {},
   "outputs": [],
   "source": []
  },
  {
   "cell_type": "code",
   "execution_count": null,
   "id": "1d2514a3",
   "metadata": {},
   "outputs": [],
   "source": []
  },
  {
   "cell_type": "code",
   "execution_count": null,
   "id": "4d5e4bde",
   "metadata": {},
   "outputs": [],
   "source": []
  },
  {
   "cell_type": "code",
   "execution_count": null,
   "id": "0758c40d",
   "metadata": {},
   "outputs": [],
   "source": []
  },
  {
   "cell_type": "code",
   "execution_count": null,
   "id": "68edee10",
   "metadata": {},
   "outputs": [],
   "source": []
  }
 ],
 "metadata": {
  "kernelspec": {
   "display_name": "geo_env",
   "language": "python",
   "name": "geo_env"
  },
  "language_info": {
   "codemirror_mode": {
    "name": "ipython",
    "version": 3
   },
   "file_extension": ".py",
   "mimetype": "text/x-python",
   "name": "python",
   "nbconvert_exporter": "python",
   "pygments_lexer": "ipython3",
   "version": "3.10.0"
  }
 },
 "nbformat": 4,
 "nbformat_minor": 5
}
