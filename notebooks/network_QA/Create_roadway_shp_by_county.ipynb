{
 "cells": [
  {
   "cell_type": "code",
   "execution_count": 26,
   "id": "f403428f",
   "metadata": {},
   "outputs": [],
   "source": [
    "# this notebook creates the tm2 roadway network \n",
    "# by joining the shapes from the standard network (links.shp) to the model network attributes (complete_network.dbf)\n",
    "# it also split the roadway network into smaller chunks, to facilitate easy rendering and reviewing in ArcGIS\n",
    "\n",
    "import os\n",
    "import pandas as pd\n",
    "import geopandas as gpd\n",
    "from simpledbf import Dbf5"
   ]
  },
  {
   "cell_type": "code",
   "execution_count": 27,
   "id": "fe6ca683",
   "metadata": {},
   "outputs": [],
   "source": [
    "# input and output directories\n",
    "\n",
    "# directory where the cube export (dbf) is saved\n",
    "input_dir1 = os.path.join('\\\\..\\\\..\\\\..\\\\..\\\\Users',\n",
    "                       'ftsang',\n",
    "                       'Documents',\n",
    "                       'tm2_network_exploration',\n",
    "                       'tm2_roadway_QA',\n",
    "                        'Cube_export_V12')\n",
    "\n",
    "# directory where the tm2 shapes are saved\n",
    "input_dir2 = os.path.join('\\\\..\\\\..\\\\..\\\\..\\\\Users',\n",
    "                       'ftsang',\n",
    "                       'Documents',\n",
    "                       'tm2_network_exploration',\n",
    "                       'version_12')\n",
    "\n",
    "# directory where the outputs will be saved\n",
    "output_dir = os.path.join('\\\\..\\\\..\\\\..\\\\..\\\\Users',\n",
    "                       'ftsang',\n",
    "                       'Documents',\n",
    "                       'tm2_network_exploration',\n",
    "                       'tm2_roadway_QA')"
   ]
  },
  {
   "cell_type": "code",
   "execution_count": 28,
   "id": "627565fa",
   "metadata": {},
   "outputs": [
    {
     "data": {
      "text/plain": [
       "['.ipynb_checkpoints',\n",
       " 'complete_network.dbf',\n",
       " 'complete_network.prj',\n",
       " 'complete_network.shp',\n",
       " 'complete_network.shx',\n",
       " 'Create_roadway_by_county.ipynb']"
      ]
     },
     "execution_count": 28,
     "metadata": {},
     "output_type": "execute_result"
    }
   ],
   "source": [
    "os.listdir(os.path.join(input_dir1))"
   ]
  },
  {
   "cell_type": "code",
   "execution_count": 29,
   "id": "2fe3dd6c",
   "metadata": {},
   "outputs": [],
   "source": [
    "# read the attributes from th cube network\n",
    "complete_net_dbf = Dbf5(os.path.join(input_dir1,'complete_network.dbf'))"
   ]
  },
  {
   "cell_type": "code",
   "execution_count": 30,
   "id": "1d6eb30c",
   "metadata": {},
   "outputs": [],
   "source": [
    "# save it as a dataframe\n",
    "tm2_attrs_df = complete_net_dbf.to_dataframe()"
   ]
  },
  {
   "cell_type": "code",
   "execution_count": 31,
   "id": "9739e7af",
   "metadata": {},
   "outputs": [
    {
     "name": "stdout",
     "output_type": "stream",
     "text": [
      "<class 'pandas.core.frame.DataFrame'>\n",
      "RangeIndex: 2240283 entries, 0 to 2240282\n",
      "Data columns (total 30 columns):\n",
      " #   Column       Dtype  \n",
      "---  ------       -----  \n",
      " 0   A            int64  \n",
      " 1   B            int64  \n",
      " 2   ASSIGNABLE   int64  \n",
      " 3   BIKE_ACCESS  int64  \n",
      " 4   BUS_ONLY     int64  \n",
      " 5   COUNTY       object \n",
      " 6   DISTANCE     float64\n",
      " 7   DRIVE_ACCES  int64  \n",
      " 8   FT           int64  \n",
      " 9   MANAGED      int64  \n",
      " 10  MODEL_LINK_  int64  \n",
      " 11  NAME         object \n",
      " 12  RAIL_ONLY    int64  \n",
      " 13  SEGMENT_ID   int64  \n",
      " 14  SHSTGEOMETR  object \n",
      " 15  TOLLBOOTH    int64  \n",
      " 16  TOLLSEG      int64  \n",
      " 17  TRANSIT      int64  \n",
      " 18  WALK_ACCESS  int64  \n",
      " 19  CNTYPE       object \n",
      " 20  LANES_EA     int64  \n",
      " 21  LANES_AM     int64  \n",
      " 22  LANES_MD     int64  \n",
      " 23  LANES_PM     int64  \n",
      " 24  LANES_EV     int64  \n",
      " 25  USECLASS_EA  int64  \n",
      " 26  USECLASS_AM  int64  \n",
      " 27  USECLASS_MD  int64  \n",
      " 28  USECLASS_PM  int64  \n",
      " 29  USECLASS_EV  int64  \n",
      "dtypes: float64(1), int64(25), object(4)\n",
      "memory usage: 512.8+ MB\n"
     ]
    }
   ],
   "source": [
    "#get info for complete_network.dbf\n",
    "tm2_attrs_df.info()"
   ]
  },
  {
   "cell_type": "code",
   "execution_count": 32,
   "id": "1624313a",
   "metadata": {},
   "outputs": [],
   "source": [
    "# read tm2 shapes as geodataframe\n",
    "links_shp_gdf = gpd.read_file(os.path.join(input_dir2,'links.shp'))"
   ]
  },
  {
   "cell_type": "code",
   "execution_count": 33,
   "id": "3ae02ba6",
   "metadata": {},
   "outputs": [],
   "source": [
    "# join the two\n",
    "# perform an outer join, keeping all entries in the shapefile and the attribute file  \n",
    "tm2_net_attrs_gdf = pd.merge(links_shp_gdf,\n",
    "                             tm2_attrs_df,\n",
    "                             how='outer',\n",
    "                             left_on=['A','B'], \n",
    "                             right_on = ['A','B'],\n",
    "                             indicator=True)"
   ]
  },
  {
   "cell_type": "code",
   "execution_count": 34,
   "id": "ab0e64e8",
   "metadata": {},
   "outputs": [
    {
     "data": {
      "text/plain": [
       "both          2240283\n",
       "left_only           0\n",
       "right_only          0\n",
       "Name: _merge, dtype: int64"
      ]
     },
     "execution_count": 34,
     "metadata": {},
     "output_type": "execute_result"
    }
   ],
   "source": [
    "# review the merge indicator\n",
    "tm2_net_attrs_gdf['_merge'].value_counts()"
   ]
  },
  {
   "cell_type": "code",
   "execution_count": 35,
   "id": "82ac3b06",
   "metadata": {},
   "outputs": [
    {
     "name": "stdout",
     "output_type": "stream",
     "text": [
      "<class 'geopandas.geodataframe.GeoDataFrame'>\n",
      "Int64Index: 2240283 entries, 0 to 2240282\n",
      "Data columns (total 39 columns):\n",
      " #   Column       Dtype   \n",
      "---  ------       -----   \n",
      " 0   A            int64   \n",
      " 1   B            int64   \n",
      " 2   assignable   int64   \n",
      " 3   link_id      int64   \n",
      " 4   name         object  \n",
      " 5   tollbooth    int64   \n",
      " 6   cntype       object  \n",
      " 7   lanes_AM     int64   \n",
      " 8   useclass_A   int64   \n",
      " 9   geometry     geometry\n",
      " 10  ASSIGNABLE   int64   \n",
      " 11  BIKE_ACCESS  int64   \n",
      " 12  BUS_ONLY     int64   \n",
      " 13  COUNTY       object  \n",
      " 14  DISTANCE     float64 \n",
      " 15  DRIVE_ACCES  int64   \n",
      " 16  FT           int64   \n",
      " 17  MANAGED      int64   \n",
      " 18  MODEL_LINK_  int64   \n",
      " 19  NAME         object  \n",
      " 20  RAIL_ONLY    int64   \n",
      " 21  SEGMENT_ID   int64   \n",
      " 22  SHSTGEOMETR  object  \n",
      " 23  TOLLBOOTH    int64   \n",
      " 24  TOLLSEG      int64   \n",
      " 25  TRANSIT      int64   \n",
      " 26  WALK_ACCESS  int64   \n",
      " 27  CNTYPE       object  \n",
      " 28  LANES_EA     int64   \n",
      " 29  LANES_AM     int64   \n",
      " 30  LANES_MD     int64   \n",
      " 31  LANES_PM     int64   \n",
      " 32  LANES_EV     int64   \n",
      " 33  USECLASS_EA  int64   \n",
      " 34  USECLASS_AM  int64   \n",
      " 35  USECLASS_MD  int64   \n",
      " 36  USECLASS_PM  int64   \n",
      " 37  USECLASS_EV  int64   \n",
      " 38  _merge       category\n",
      "dtypes: category(1), float64(1), geometry(1), int64(30), object(6)\n",
      "memory usage: 668.7+ MB\n"
     ]
    }
   ],
   "source": [
    "# get info for the joined geodatabase\n",
    "tm2_net_attrs_gdf.info()"
   ]
  },
  {
   "cell_type": "code",
   "execution_count": 44,
   "id": "af4c0963",
   "metadata": {},
   "outputs": [],
   "source": [
    "# Rename varaibles to be less than 10 characters, to preapre for exporting to ESRI shapefile\n",
    "tm2_net_attrs_gdf.rename(columns={'BIKE_ACCESS': 'BikeAccess', \n",
    "                                  'DRIVE_ACCES': 'DrvAccess', \n",
    "                                  'MODEL_LINK_': 'ModelLinkID', \n",
    "                                  'SHSTGEOMETR': 'SHSTGEOMET', \n",
    "                                  'WALK_ACCESS': 'WalkAccess', \n",
    "                                  'USECLASS_EA': 'UseClassEA', \n",
    "                                  'USECLASS_AM': 'UseClassAM',\n",
    "                                  'USECLASS_MD': 'UseClassMD', \n",
    "                                  'USECLASS_PM': 'UseClassPM', \n",
    "                                  'USECLASS_EV': 'UseClassEV'}, inplace=True)"
   ]
  },
  {
   "cell_type": "code",
   "execution_count": 45,
   "id": "d40d8943",
   "metadata": {},
   "outputs": [
    {
     "data": {
      "text/plain": [
       "Santa Clara      662698\n",
       "Alameda          444167\n",
       "Contra Costa     327165\n",
       "San Mateo        203945\n",
       "Sonoma           178969\n",
       "Solano           157577\n",
       "San Francisco    133512\n",
       "Marin             85148\n",
       "Napa              47068\n",
       "External             34\n",
       "Name: COUNTY, dtype: int64"
      ]
     },
     "execution_count": 45,
     "metadata": {},
     "output_type": "execute_result"
    }
   ],
   "source": [
    "#look at the data by county\n",
    "tm2_net_attrs_gdf['COUNTY'].value_counts()"
   ]
  },
  {
   "cell_type": "code",
   "execution_count": 46,
   "id": "80a7708f",
   "metadata": {},
   "outputs": [
    {
     "data": {
      "text/plain": [
       "99    890204\n",
       "8     603956\n",
       "7     538684\n",
       "6      96409\n",
       "5      58376\n",
       "4      39051\n",
       "3       6452\n",
       "1       3666\n",
       "2       3485\n",
       "Name: FT, dtype: int64"
      ]
     },
     "execution_count": 46,
     "metadata": {},
     "output_type": "execute_result"
    }
   ],
   "source": [
    "#look at the data by facility type\n",
    "tm2_net_attrs_gdf['FT'].value_counts()"
   ]
  },
  {
   "cell_type": "code",
   "execution_count": 52,
   "id": "f295ae75",
   "metadata": {},
   "outputs": [],
   "source": [
    "# Simplify dataset for export\n",
    "# These are varaibles in the Cube\n",
    "# To keep this as a geodataframe, the variable 'geometry' needs to be kept \n",
    "export_cols = [\n",
    "    'A',\n",
    "    'B',\n",
    "    'ASSIGNABLE',\n",
    "    'BikeAccess',\n",
    "    'BUS_ONLY',\n",
    "    'COUNTY',\n",
    "    'DISTANCE',\n",
    "    'DrvAccess',\n",
    "    'FT',\n",
    "    'MANAGED',\n",
    "    'ModelLinkID',\n",
    "    'NAME',\n",
    "    'RAIL_ONLY',\n",
    "    'SEGMENT_ID',\n",
    "    'SHSTGEOMET',\n",
    "    'TOLLBOOTH',\n",
    "    'TOLLSEG',\n",
    "    'TRANSIT',\n",
    "    'WalkAccess',\n",
    "    'CNTYPE',\n",
    "    'LANES_EA',\n",
    "    'LANES_AM',\n",
    "    'LANES_MD',\n",
    "    'LANES_PM',\n",
    "    'LANES_EV',\n",
    "    'UseClassEA',\n",
    "    'UseClassAM',\n",
    "    'UseClassMD',\n",
    "    'UseClassPM',\n",
    "    'UseClassEV',\n",
    "    'geometry'\n",
    "]\n",
    "tm2_net_gdf = tm2_net_attrs_gdf[export_cols].copy()"
   ]
  },
  {
   "cell_type": "code",
   "execution_count": 56,
   "id": "a2fb2a11",
   "metadata": {},
   "outputs": [],
   "source": [
    "# drop all centroid connectors (ft=8 and ft=99), to make the output shapefile samller\n",
    "tm2_noFT8n99_gdf = tm2_net_gdf[tm2_net_gdf['FT']<8]"
   ]
  },
  {
   "cell_type": "code",
   "execution_count": 57,
   "id": "73cd69c3",
   "metadata": {},
   "outputs": [
    {
     "name": "stderr",
     "output_type": "stream",
     "text": [
      "C:\\Users\\ftsang\\AppData\\Local\\Temp/ipykernel_21108/2132459893.py:2: UserWarning: Column names longer than 10 characters will be truncated when saved to ESRI Shapefile.\n",
      "  tm2_noFT8n99_gdf.to_file(os.path.join(output_dir,'tm2_noFT8n99.shp'))\n"
     ]
    }
   ],
   "source": [
    "# export to shape\n",
    "tm2_noFT8n99_gdf.to_file(os.path.join(output_dir,'tm2_noFT8n99.shp'))"
   ]
  },
  {
   "cell_type": "code",
   "execution_count": 58,
   "id": "bb154af2",
   "metadata": {},
   "outputs": [
    {
     "data": {
      "text/plain": [
       "Santa Clara      184784\n",
       "Alameda          149414\n",
       "Contra Costa     124701\n",
       "Sonoma            70525\n",
       "San Mateo         67979\n",
       "Solano            59203\n",
       "San Francisco     37417\n",
       "Marin             33894\n",
       "Napa              18206\n",
       "Name: COUNTY, dtype: int64"
      ]
     },
     "execution_count": 58,
     "metadata": {},
     "output_type": "execute_result"
    }
   ],
   "source": [
    "# before exporting by county, look at data by county\n",
    "tm2_noFT8n99_gdf['COUNTY'].value_counts()"
   ]
  },
  {
   "cell_type": "code",
   "execution_count": 62,
   "id": "30694810",
   "metadata": {},
   "outputs": [
    {
     "name": "stderr",
     "output_type": "stream",
     "text": [
      "C:\\Users\\ftsang\\AppData\\Local\\Temp/ipykernel_21108/1129730753.py:3: UserWarning: Column names longer than 10 characters will be truncated when saved to ESRI Shapefile.\n",
      "  tm2_Alameda_gdf.to_file(os.path.join(output_dir,'tm2_Alameda.shp'))\n"
     ]
    }
   ],
   "source": [
    "# Alameda\n",
    "tm2_Alameda_gdf = tm2_noFT8n99_gdf[tm2_noFT8n99_gdf['COUNTY']=='Alameda']\n",
    "tm2_Alameda_gdf.to_file(os.path.join(output_dir,'tm2_Alameda.shp'))"
   ]
  },
  {
   "cell_type": "code",
   "execution_count": 63,
   "id": "ef8c0cbd",
   "metadata": {},
   "outputs": [
    {
     "name": "stderr",
     "output_type": "stream",
     "text": [
      "C:\\Users\\ftsang\\AppData\\Local\\Temp/ipykernel_21108/2091518235.py:3: UserWarning: Column names longer than 10 characters will be truncated when saved to ESRI Shapefile.\n",
      "  tm2_ContraCosta_gdf.to_file(os.path.join(output_dir,'tm2_ContraCosta.shp'))\n"
     ]
    }
   ],
   "source": [
    "# Contra Costa\n",
    "tm2_ContraCosta_gdf = tm2_noFT8n99_gdf[tm2_noFT8n99_gdf['COUNTY']=='Contra Costa']\n",
    "tm2_ContraCosta_gdf.to_file(os.path.join(output_dir,'tm2_ContraCosta.shp'))"
   ]
  },
  {
   "cell_type": "code",
   "execution_count": 64,
   "id": "8098ffd1",
   "metadata": {},
   "outputs": [
    {
     "name": "stderr",
     "output_type": "stream",
     "text": [
      "C:\\Users\\ftsang\\AppData\\Local\\Temp/ipykernel_21108/4137638056.py:3: UserWarning: Column names longer than 10 characters will be truncated when saved to ESRI Shapefile.\n",
      "  tm2_Marin_gdf.to_file(os.path.join(output_dir,'tm2_Marin.shp'))\n"
     ]
    }
   ],
   "source": [
    "# Marin\n",
    "tm2_Marin_gdf = tm2_noFT8n99_gdf[tm2_noFT8n99_gdf['COUNTY']=='Marin']\n",
    "tm2_Marin_gdf.to_file(os.path.join(output_dir,'tm2_Marin.shp'))"
   ]
  },
  {
   "cell_type": "code",
   "execution_count": 65,
   "id": "d8aa400a",
   "metadata": {},
   "outputs": [
    {
     "name": "stderr",
     "output_type": "stream",
     "text": [
      "C:\\Users\\ftsang\\AppData\\Local\\Temp/ipykernel_21108/59174188.py:3: UserWarning: Column names longer than 10 characters will be truncated when saved to ESRI Shapefile.\n",
      "  tm2_Napa_gdf.to_file(os.path.join(output_dir,'tm2_Napa.shp'))\n"
     ]
    }
   ],
   "source": [
    "# Napa\n",
    "tm2_Napa_gdf = tm2_noFT8n99_gdf[tm2_noFT8n99_gdf['COUNTY']=='Napa']\n",
    "tm2_Napa_gdf.to_file(os.path.join(output_dir,'tm2_Napa.shp'))"
   ]
  },
  {
   "cell_type": "code",
   "execution_count": 66,
   "id": "5647a6f6",
   "metadata": {},
   "outputs": [
    {
     "name": "stderr",
     "output_type": "stream",
     "text": [
      "C:\\Users\\ftsang\\AppData\\Local\\Temp/ipykernel_21108/4345700.py:3: UserWarning: Column names longer than 10 characters will be truncated when saved to ESRI Shapefile.\n",
      "  tm2_SanFrancisco_gdf.to_file(os.path.join(output_dir,'tm2_SanFrancisco.shp'))\n"
     ]
    }
   ],
   "source": [
    "# San Francisco\n",
    "tm2_SanFrancisco_gdf = tm2_noFT8n99_gdf[tm2_noFT8n99_gdf['COUNTY']=='San Francisco']\n",
    "tm2_SanFrancisco_gdf.to_file(os.path.join(output_dir,'tm2_SanFrancisco.shp'))"
   ]
  },
  {
   "cell_type": "code",
   "execution_count": 67,
   "id": "f8b743e2",
   "metadata": {},
   "outputs": [
    {
     "name": "stderr",
     "output_type": "stream",
     "text": [
      "C:\\Users\\ftsang\\AppData\\Local\\Temp/ipykernel_21108/712001098.py:3: UserWarning: Column names longer than 10 characters will be truncated when saved to ESRI Shapefile.\n",
      "  tm2_SanMateo_gdf.to_file(os.path.join(output_dir,'tm2_SanMateo.shp'))\n"
     ]
    }
   ],
   "source": [
    "# San Mateo\n",
    "tm2_SanMateo_gdf = tm2_noFT8n99_gdf[tm2_noFT8n99_gdf['COUNTY']=='San Mateo']\n",
    "tm2_SanMateo_gdf.to_file(os.path.join(output_dir,'tm2_SanMateo.shp'))"
   ]
  },
  {
   "cell_type": "code",
   "execution_count": 68,
   "id": "6bac7a5a",
   "metadata": {},
   "outputs": [
    {
     "name": "stderr",
     "output_type": "stream",
     "text": [
      "C:\\Users\\ftsang\\AppData\\Local\\Temp/ipykernel_21108/389720085.py:3: UserWarning: Column names longer than 10 characters will be truncated when saved to ESRI Shapefile.\n",
      "  tm2_SantaClara_gdf.to_file(os.path.join(output_dir,'tm2_SantaClara.shp'))\n"
     ]
    }
   ],
   "source": [
    "# Santa Clara\n",
    "tm2_SantaClara_gdf = tm2_noFT8n99_gdf[tm2_noFT8n99_gdf['COUNTY']=='Santa Clara']\n",
    "tm2_SantaClara_gdf.to_file(os.path.join(output_dir,'tm2_SantaClara.shp'))"
   ]
  },
  {
   "cell_type": "code",
   "execution_count": 69,
   "id": "69d50b50",
   "metadata": {},
   "outputs": [
    {
     "name": "stderr",
     "output_type": "stream",
     "text": [
      "C:\\Users\\ftsang\\AppData\\Local\\Temp/ipykernel_21108/3790675858.py:3: UserWarning: Column names longer than 10 characters will be truncated when saved to ESRI Shapefile.\n",
      "  tm2_Solano_gdf.to_file(os.path.join(output_dir,'tm2_Solano.shp'))\n"
     ]
    }
   ],
   "source": [
    "# Solano\n",
    "tm2_Solano_gdf = tm2_noFT8n99_gdf[tm2_noFT8n99_gdf['COUNTY']=='Solano']\n",
    "tm2_Solano_gdf.to_file(os.path.join(output_dir,'tm2_Solano.shp'))"
   ]
  },
  {
   "cell_type": "code",
   "execution_count": 70,
   "id": "03a94c33",
   "metadata": {},
   "outputs": [
    {
     "name": "stderr",
     "output_type": "stream",
     "text": [
      "C:\\Users\\ftsang\\AppData\\Local\\Temp/ipykernel_21108/2084347741.py:3: UserWarning: Column names longer than 10 characters will be truncated when saved to ESRI Shapefile.\n",
      "  tm2_Sonoma_gdf.to_file(os.path.join(output_dir,'tm2_Sonoma.shp'))\n"
     ]
    }
   ],
   "source": [
    "# Sonoma\n",
    "tm2_Sonoma_gdf = tm2_noFT8n99_gdf[tm2_noFT8n99_gdf['COUNTY']=='Sonoma']\n",
    "tm2_Sonoma_gdf.to_file(os.path.join(output_dir,'tm2_Sonoma.shp'))"
   ]
  },
  {
   "cell_type": "code",
   "execution_count": 72,
   "id": "c1e6e4e9",
   "metadata": {},
   "outputs": [
    {
     "name": "stderr",
     "output_type": "stream",
     "text": [
      "C:\\Users\\ftsang\\AppData\\Local\\Temp/ipykernel_21108/3502059596.py:3: UserWarning: Column names longer than 10 characters will be truncated when saved to ESRI Shapefile.\n",
      "  tm2_ft8_gdf.to_file(os.path.join(output_dir,'tm2_ft8_CentroidConnectors.shp'))\n"
     ]
    }
   ],
   "source": [
    "# Output centroid connectors as a separate layer\n",
    "tm2_ft8_gdf = tm2_net_gdf[tm2_net_gdf['FT']==8]\n",
    "tm2_ft8_gdf.to_file(os.path.join(output_dir,'tm2_ft8_CentroidConnectors.shp'))"
   ]
  },
  {
   "cell_type": "code",
   "execution_count": null,
   "id": "9de2e307",
   "metadata": {},
   "outputs": [
    {
     "name": "stderr",
     "output_type": "stream",
     "text": [
      "C:\\Users\\ftsang\\AppData\\Local\\Temp/ipykernel_21108/3212603367.py:3: UserWarning: Column names longer than 10 characters will be truncated when saved to ESRI Shapefile.\n",
      "  tm2_ft99_gdf.to_file(os.path.join(output_dir,'tm2_ft99_BikePedOnlyPaths.shp'))\n"
     ]
    }
   ],
   "source": [
    "# Output bike/pedestrian only paths as a separate layer\n",
    "tm2_ft99_gdf = tm2_net_gdf[tm2_net_gdf['FT']==99]\n",
    "tm2_ft99_gdf.to_file(os.path.join(output_dir,'tm2_ft99_BikePedOnlyPaths.shp'))"
   ]
  }
 ],
 "metadata": {
  "kernelspec": {
   "display_name": "geo_env",
   "language": "python",
   "name": "geo_env"
  },
  "language_info": {
   "codemirror_mode": {
    "name": "ipython",
    "version": 3
   },
   "file_extension": ".py",
   "mimetype": "text/x-python",
   "name": "python",
   "nbconvert_exporter": "python",
   "pygments_lexer": "ipython3",
   "version": "3.10.0"
  }
 },
 "nbformat": 4,
 "nbformat_minor": 5
}
