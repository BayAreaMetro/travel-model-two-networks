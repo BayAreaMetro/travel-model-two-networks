{
 "cells": [
  {
   "cell_type": "code",
   "execution_count": 43,
   "id": "3d6e1feb",
   "metadata": {},
   "outputs": [],
   "source": [
    "# This notebook joins links.shp and v12_link.json via A-B\n",
    "# for Asana task \"publish the roadway network on Tableau / ArcGIS Online\": https://app.asana.com/0/572982923864207/1201640719412254\n",
    "# this script is aborted when I realised \"lanes\" are not always numeric in v12_link.json"
   ]
  },
  {
   "cell_type": "code",
   "execution_count": 1,
   "id": "f403428f",
   "metadata": {},
   "outputs": [],
   "source": [
    "import os\n",
    "import pandas as pd\n",
    "import geopandas as gpd"
   ]
  },
  {
   "cell_type": "code",
   "execution_count": 21,
   "id": "fe6ca683",
   "metadata": {},
   "outputs": [],
   "source": [
    "# input and output directories\n",
    "\n",
    "# directory where the standard network is saved\n",
    "std_dir = os.path.join('\\\\..\\\\..\\\\..\\\\..\\\\Users',\n",
    "                       'ftsang',\n",
    "                       'Documents',\n",
    "                       'tm2_network_exploration',\n",
    "                       'version_12')\n",
    "\n",
    "# directory where the outputs will be saved\n",
    "out_dir = os.path.join('\\\\..\\\\..\\\\..\\\\..\\\\Users',\n",
    "                       'ftsang',\n",
    "                       'Documents',\n",
    "                       'tm2_network_exploration',\n",
    "                       'tm2_roadway_QA')"
   ]
  },
  {
   "cell_type": "code",
   "execution_count": 20,
   "id": "8c37033c",
   "metadata": {},
   "outputs": [
    {
     "data": {
      "text/plain": [
       "['ACE_2017_3_20_transit.lin',\n",
       " 'ACTransit_2015_8_14_transit.lin',\n",
       " 'agency.txt',\n",
       " 'BART_2015_8_3_transit.lin',\n",
       " 'Blue&Gold_gtfs_10_4_2017_transit.lin',\n",
       " 'Caltrain_2015_5_13_transit.lin',\n",
       " 'Capitol_2017_3_20_transit.lin',\n",
       " 'CCTA_2015_8_11_transit.lin',\n",
       " 'commuteDOTorg_GTFSImportExport_20160127_final_mj_transit.lin',\n",
       " 'complete_network.net',\n",
       " 'Emeryville_2016_10_26_transit.lin',\n",
       " 'emme_archive',\n",
       " 'emme_drive_network.zip',\n",
       " 'emme_maz_active_modes_network_subregion_north.zip',\n",
       " 'emme_maz_active_modes_network_subregion_south.zip',\n",
       " 'emme_tap_transit_network.zip',\n",
       " 'Fairfield_2015_10_14_transit.lin',\n",
       " 'fareMatrix.txt',\n",
       " 'fares.far',\n",
       " 'faresystem_crosswalk.txt',\n",
       " 'fare_attributes.txt',\n",
       " 'fare_rules.txt',\n",
       " 'frequencies.txt',\n",
       " 'GGTransit_2015_9_3_transit.lin',\n",
       " 'link.zip',\n",
       " 'links.cpg',\n",
       " 'links.dbf',\n",
       " 'links.prj',\n",
       " 'links.shp',\n",
       " 'links.shx',\n",
       " 'make_complete_network_from_fixed_width_file.s',\n",
       " 'Marguerite_2016_10_10_transit.lin',\n",
       " 'MarinTransit_2015_8_31_transit.lin',\n",
       " 'model_net.pickle',\n",
       " 'model_transit_net.pickle',\n",
       " 'MVGo_2016_10_26_transit.lin',\n",
       " 'node.zip',\n",
       " 'nodes.cpg',\n",
       " 'nodes.dbf',\n",
       " 'nodes.prj',\n",
       " 'nodes.shp',\n",
       " 'nodes.shp.FTSANG-Z840.16308.16092.sr.lock',\n",
       " 'nodes.shp.FTSANG-Z840.16324.16092.sr.lock',\n",
       " 'nodes.shp.FTSANG-Z840.16332.16092.sr.lock',\n",
       " 'nodes.shp.FTSANG-Z840.9104.16092.sr.lock',\n",
       " 'nodes.shx',\n",
       " 'petalumatransit-petaluma-ca-us__11_12_15_transit.lin',\n",
       " 'RioVista_2015_8_20_transit.lin',\n",
       " 'routes.txt',\n",
       " 'SamTrans_2015_8_20_transit.lin',\n",
       " 'SantaRosa_google_transit_08_28_15_transit.lin',\n",
       " 'SFMTA_2015_8_11_transit.lin',\n",
       " 'SF_Bay_Ferry2016_07_01_transit.lin',\n",
       " 'sf_network.net',\n",
       " 'shape.zip',\n",
       " 'shapes.txt',\n",
       " 'Soltrans_2016_5_20_transit.lin',\n",
       " 'SonomaCounty_2015_8_18_transit.lin',\n",
       " 'stops.txt',\n",
       " 'stop_times.txt',\n",
       " 'transfer.csv',\n",
       " 'transit.lin',\n",
       " 'TriDelta-GTFS-2018-05-24_21-43-17_transit.lin',\n",
       " 'trips.txt',\n",
       " 'Union_City_Transit_Aug-01-2015 to Jun-30-2017_transit.lin',\n",
       " 'v12_agency.txt',\n",
       " 'v12_fare_attributes.txt',\n",
       " 'v12_fare_rules.txt',\n",
       " 'v12_frequencies.txt',\n",
       " 'v12_link.zip',\n",
       " 'v12_links.feather',\n",
       " 'v12_node.zip',\n",
       " 'v12_routes.txt',\n",
       " 'v12_shape.zip',\n",
       " 'v12_shapes.txt',\n",
       " 'v12_stops.txt',\n",
       " 'v12_stop_times.txt',\n",
       " 'v12_trips.txt',\n",
       " 'vacavillecitycoach-2020-ca-us_transit.lin',\n",
       " 'vehtype.pts',\n",
       " 'Vine_GTFS_PLUS_2015_transit.lin',\n",
       " 'VTA_2015_8_27_transit.lin',\n",
       " 'westcat-ca-us_9_17_2015_transit.lin',\n",
       " 'Wheels_2016_7_13_transit.lin']"
      ]
     },
     "execution_count": 20,
     "metadata": {},
     "output_type": "execute_result"
    }
   ],
   "source": [
    "os.listdir(std_net_dir)"
   ]
  },
  {
   "cell_type": "code",
   "execution_count": 23,
   "id": "489231ad",
   "metadata": {},
   "outputs": [],
   "source": [
    "# read tm2 shapes as geodataframe\n",
    "links_shp_gdf = gpd.read_file(os.path.join(std_dir,'links.shp'))"
   ]
  },
  {
   "cell_type": "code",
   "execution_count": 24,
   "id": "2fe3dd6c",
   "metadata": {},
   "outputs": [
    {
     "name": "stdout",
     "output_type": "stream",
     "text": [
      "<class 'geopandas.geodataframe.GeoDataFrame'>\n",
      "RangeIndex: 2240283 entries, 0 to 2240282\n",
      "Data columns (total 10 columns):\n",
      " #   Column      Dtype   \n",
      "---  ------      -----   \n",
      " 0   A           int64   \n",
      " 1   B           int64   \n",
      " 2   assignable  int64   \n",
      " 3   link_id     int64   \n",
      " 4   name        object  \n",
      " 5   tollbooth   int64   \n",
      " 6   cntype      object  \n",
      " 7   lanes_AM    int64   \n",
      " 8   useclass_A  int64   \n",
      " 9   geometry    geometry\n",
      "dtypes: geometry(1), int64(7), object(2)\n",
      "memory usage: 170.9+ MB\n"
     ]
    }
   ],
   "source": [
    "# get info for links.shp\n",
    "links_shp_gdf.info()"
   ]
  },
  {
   "cell_type": "code",
   "execution_count": 29,
   "id": "6d1fc1c6",
   "metadata": {},
   "outputs": [],
   "source": [
    "# read tm2 network link attributes\n",
    "# this zip file constains the json file v12_link.json\n",
    "tm2_attrs_df = pd.read_json(os.path.join(work_dir,'v12_link.zip'))"
   ]
  },
  {
   "cell_type": "code",
   "execution_count": 31,
   "id": "248e6325",
   "metadata": {},
   "outputs": [
    {
     "name": "stdout",
     "output_type": "stream",
     "text": [
      "<class 'pandas.core.frame.DataFrame'>\n",
      "RangeIndex: 2235780 entries, 0 to 2235779\n",
      "Data columns (total 43 columns):\n",
      " #   Column              Dtype \n",
      "---  ------              ----- \n",
      " 0   access              object\n",
      " 1   bike_access         int64 \n",
      " 2   drive_access        int64 \n",
      " 3   fromIntersectionId  object\n",
      " 4   lanes               object\n",
      " 5   maxspeed            object\n",
      " 6   name                object\n",
      " 7   oneWay              object\n",
      " 8   ref                 object\n",
      " 9   roadway             object\n",
      " 10  shstGeometryId      object\n",
      " 11  shstReferenceId     object\n",
      " 12  toIntersectionId    object\n",
      " 13  u                   object\n",
      " 14  v                   object\n",
      " 15  walk_access         int64 \n",
      " 16  wayId               object\n",
      " 17  county              object\n",
      " 18  model_link_id       int64 \n",
      " 19  A                   int64 \n",
      " 20  B                   int64 \n",
      " 21  rail_traveltime     object\n",
      " 22  rail_only           int64 \n",
      " 23  locationReferences  object\n",
      " 24  ft_cal              object\n",
      " 25  ft                  int64 \n",
      " 26  useclass            object\n",
      " 27  assignable_cal      object\n",
      " 28  assignable          int64 \n",
      " 29  transit             object\n",
      " 30  id                  object\n",
      " 31  tollbooth           int64 \n",
      " 32  bus_only            int64 \n",
      " 33  transit_access      object\n",
      " 34  managed             int64 \n",
      " 35  ML_lanes            object\n",
      " 36  segment_id          int64 \n",
      " 37  ML_tollbooth        object\n",
      " 38  ML_useclass         object\n",
      " 39  ML_access           object\n",
      " 40  ML_egress           object\n",
      " 41  ML_tollseg          object\n",
      " 42  tollseg             int64 \n",
      "dtypes: int64(14), object(29)\n",
      "memory usage: 733.5+ MB\n"
     ]
    }
   ],
   "source": [
    "# get info for tm2 attributes \n",
    "tm2_attrs_df.info()"
   ]
  },
  {
   "cell_type": "code",
   "execution_count": 33,
   "id": "40a2bec6",
   "metadata": {},
   "outputs": [
    {
     "data": {
      "text/plain": [
       "99    890204\n",
       "8     600958\n",
       "7     538675\n",
       "6      96409\n",
       "5      58376\n",
       "4      39050\n",
       "3       6438\n",
       "2       2975\n",
       "1       2695\n",
       "Name: ft, dtype: int64"
      ]
     },
     "execution_count": 33,
     "metadata": {},
     "output_type": "execute_result"
    }
   ],
   "source": [
    "# look at what facility types are in v12_link.json\n",
    "tm2_attrs_df['ft'].value_counts()"
   ]
  },
  {
   "cell_type": "code",
   "execution_count": 36,
   "id": "bb938076",
   "metadata": {},
   "outputs": [],
   "source": [
    "# Perform an outer join, keeping all entries in the shapefile and the attribute file  \n",
    "tm2_net_attrs_gdf = pd.merge(links_shp_gdf,\n",
    "                             tm2_attrs_df,\n",
    "                             how='left',\n",
    "                             left_on=['A','B'], \n",
    "                             right_on = ['A','B'],\n",
    "                             indicator=True)"
   ]
  },
  {
   "cell_type": "code",
   "execution_count": 37,
   "id": "cf81bfbb",
   "metadata": {},
   "outputs": [
    {
     "data": {
      "text/plain": [
       "both          2235780\n",
       "left_only        4503\n",
       "right_only          0\n",
       "Name: _merge, dtype: int64"
      ]
     },
     "execution_count": 37,
     "metadata": {},
     "output_type": "execute_result"
    }
   ],
   "source": [
    "# Review the merge indicator\n",
    "tm2_net_attrs_gdf['_merge'].value_counts()"
   ]
  },
  {
   "cell_type": "code",
   "execution_count": 38,
   "id": "9c74a78d",
   "metadata": {},
   "outputs": [],
   "source": [
    "# How come some shapes in links.shp that don't have attributes from v12_link.json? \n",
    "# Of 4,503 links, \n",
    "# 1,505 links are \"parallel managed lanes needed for Cube\"\n",
    "# 2,998 links are \"access/egress dummies needed for Cube\""
   ]
  },
  {
   "cell_type": "code",
   "execution_count": 45,
   "id": "4b8b6713",
   "metadata": {},
   "outputs": [
    {
     "name": "stdout",
     "output_type": "stream",
     "text": [
      "<class 'geopandas.geodataframe.GeoDataFrame'>\n",
      "Int64Index: 2240283 entries, 0 to 2240282\n",
      "Data columns (total 54 columns):\n",
      " #   Column              Dtype   \n",
      "---  ------              -----   \n",
      " 0   A                   int64   \n",
      " 1   B                   int64   \n",
      " 2   assignable_x        int64   \n",
      " 3   link_id             int64   \n",
      " 4   name_x              object  \n",
      " 5   tollbooth_x         int64   \n",
      " 6   cntype              object  \n",
      " 7   lanes_AM            int64   \n",
      " 8   useclass_A          int64   \n",
      " 9   geometry            geometry\n",
      " 10  A-B                 object  \n",
      " 11  access              object  \n",
      " 12  bike_access         float64 \n",
      " 13  drive_access        float64 \n",
      " 14  fromIntersectionId  object  \n",
      " 15  lanes               object  \n",
      " 16  maxspeed            object  \n",
      " 17  name_y              object  \n",
      " 18  oneWay              object  \n",
      " 19  ref                 object  \n",
      " 20  roadway             object  \n",
      " 21  shstGeometryId      object  \n",
      " 22  shstReferenceId     object  \n",
      " 23  toIntersectionId    object  \n",
      " 24  u                   object  \n",
      " 25  v                   object  \n",
      " 26  walk_access         float64 \n",
      " 27  wayId               object  \n",
      " 28  county              object  \n",
      " 29  model_link_id       float64 \n",
      " 30  rail_traveltime     object  \n",
      " 31  rail_only           float64 \n",
      " 32  locationReferences  object  \n",
      " 33  ft_cal              object  \n",
      " 34  ft                  float64 \n",
      " 35  useclass            object  \n",
      " 36  assignable_cal      object  \n",
      " 37  assignable_y        float64 \n",
      " 38  transit             object  \n",
      " 39  id                  object  \n",
      " 40  tollbooth_y         float64 \n",
      " 41  bus_only            float64 \n",
      " 42  transit_access      object  \n",
      " 43  managed             float64 \n",
      " 44  ML_lanes            object  \n",
      " 45  segment_id          float64 \n",
      " 46  ML_tollbooth        object  \n",
      " 47  ML_useclass         object  \n",
      " 48  ML_access           object  \n",
      " 49  ML_egress           object  \n",
      " 50  ML_tollseg          object  \n",
      " 51  tollseg             float64 \n",
      " 52  linkAB              object  \n",
      " 53  _merge              category\n",
      "dtypes: category(1), float64(12), geometry(1), int64(7), object(33)\n",
      "memory usage: 925.1+ MB\n"
     ]
    }
   ],
   "source": [
    "tm2_net_attrs_gdf.info()"
   ]
  },
  {
   "cell_type": "code",
   "execution_count": 46,
   "id": "9d0ae176",
   "metadata": {},
   "outputs": [],
   "source": [
    "# Simplify dataset for export\n",
    "# These are varaibles in the Cube\n",
    "# To keep this as a geodataframe, the variable 'geometry' needs to be kept \n",
    "export_cols = [\n",
    "    'A',\n",
    "    'B',\n",
    "    'assignable_y',\n",
    "    'bike_access',\n",
    "    'bus_only',\n",
    "    'county',\n",
    "    'drive_access',\n",
    "    'ft',\n",
    "    'managed',\n",
    "    'model_link_id',\n",
    "    'name_y',\n",
    "    'rail_only',\n",
    "    'segment_id',\n",
    "    'shstGeometryId',\n",
    "    'tollbooth_y',\n",
    "    'tollseg',\n",
    "    'transit',\n",
    "    'walk_access',\n",
    "    'lanes',\n",
    "    'useclass',\n",
    "    'geometry'\n",
    "]\n",
    "tm2_net_gdf = tm2_net_attrs_gdf[export_cols].copy()"
   ]
  },
  {
   "cell_type": "code",
   "execution_count": 56,
   "id": "45962f20",
   "metadata": {},
   "outputs": [],
   "source": [
    "# drop all centroid connectors (ft=8)\n",
    "tm2_net_noFT8n99_gdf = tm2_net_gdf[tm2_net_gdf['ft']<8]"
   ]
  },
  {
   "cell_type": "code",
   "execution_count": 49,
   "id": "c87af1cc",
   "metadata": {},
   "outputs": [
    {
     "name": "stderr",
     "output_type": "stream",
     "text": [
      "C:\\Users\\ftsang\\AppData\\Local\\Temp/ipykernel_35044/394349255.py:2: UserWarning: Column names longer than 10 characters will be truncated when saved to ESRI Shapefile.\n",
      "  tm2_net_noFT8_gdf.to_file(os.path.join(out_dir,'tm2_standard_format.shp'))\n"
     ]
    }
   ],
   "source": [
    "#export to shape\n",
    "tm2_net_noFT8n99_gdf.to_file(os.path.join(out_dir,'tm2_standard_format.shp'))"
   ]
  },
  {
   "cell_type": "code",
   "execution_count": 51,
   "id": "219f19d3",
   "metadata": {},
   "outputs": [
    {
     "name": "stderr",
     "output_type": "stream",
     "text": [
      "C:\\Users\\ftsang\\AppData\\Local\\Temp/ipykernel_35044/3529408073.py:3: UserWarning: Column names longer than 10 characters will be truncated when saved to ESRI Shapefile.\n",
      "  tm2_net_FT8_gdf.to_file(os.path.join(out_dir,'tm2_CentroidConnectors.shp'))\n"
     ]
    }
   ],
   "source": [
    "#export all the centroid connectors as its own layer\n",
    "tm2_net_FT8_gdf = tm2_net_gdf[tm2_net_gdf['ft']==8]\n",
    "tm2_net_FT8_gdf.to_file(os.path.join(out_dir,'tm2_CentroidConnectors.shp'))"
   ]
  },
  {
   "cell_type": "code",
   "execution_count": 52,
   "id": "837a7596",
   "metadata": {},
   "outputs": [
    {
     "data": {
      "text/plain": [
       "Santa Clara      660008\n",
       "Alameda          443532\n",
       "Contra Costa     326621\n",
       "San Mateo        203882\n",
       "Sonoma           178792\n",
       "Solano           157454\n",
       "San Francisco    133512\n",
       "Marin             84883\n",
       "Napa              47068\n",
       "External             28\n",
       "Name: county, dtype: int64"
      ]
     },
     "execution_count": 52,
     "metadata": {},
     "output_type": "execute_result"
    }
   ],
   "source": [
    "#prepare to export by county\n",
    "tm2_attrs_df['county'].value_counts()\n"
   ]
  },
  {
   "cell_type": "code",
   "execution_count": 55,
   "id": "3794aa44",
   "metadata": {},
   "outputs": [
    {
     "name": "stderr",
     "output_type": "stream",
     "text": [
      "C:\\Users\\ftsang\\AppData\\Local\\Temp/ipykernel_35044/2307126350.py:3: UserWarning: Column names longer than 10 characters will be truncated when saved to ESRI Shapefile.\n",
      "  tm2_ContraCosta_gdf.to_file(os.path.join(out_dir,'tm2_ContraCosta.shp'))\n"
     ]
    }
   ],
   "source": [
    "# export by county\n",
    "tm2_ContraCosta_gdf = tm2_net_noFT8n99_gdf[tm2_net_noFT8n99_gdf['county']=='Contra Costa']\n",
    "tm2_ContraCosta_gdf.to_file(os.path.join(out_dir,'tm2_ContraCosta.shp'))"
   ]
  },
  {
   "cell_type": "code",
   "execution_count": 58,
   "id": "e62a5282",
   "metadata": {},
   "outputs": [
    {
     "ename": "TypeError",
     "evalue": "unhashable type: 'dict'",
     "output_type": "error",
     "traceback": [
      "\u001b[1;31m---------------------------------------------------------------------------\u001b[0m",
      "\u001b[1;31mTypeError\u001b[0m                                 Traceback (most recent call last)",
      "\u001b[1;32mpandas\\_libs\\hashtable_class_helper.pxi\u001b[0m in \u001b[0;36mpandas._libs.hashtable.PyObjectHashTable.map_locations\u001b[1;34m()\u001b[0m\n",
      "\u001b[1;31mTypeError\u001b[0m: unhashable type: 'dict'"
     ]
    },
    {
     "name": "stderr",
     "output_type": "stream",
     "text": [
      "Exception ignored in: 'pandas._libs.index.IndexEngine._call_map_locations'\n",
      "Traceback (most recent call last):\n",
      "  File \"pandas\\_libs\\hashtable_class_helper.pxi\", line 5231, in pandas._libs.hashtable.PyObjectHashTable.map_locations\n",
      "TypeError: unhashable type: 'dict'\n"
     ]
    },
    {
     "data": {
      "text/plain": [
       "1                                                                                                                                                  2087484\n",
       "2                                                                                                                                                   104031\n",
       "3                                                                                                                                                    22211\n",
       "4                                                                                                                                                    13305\n",
       "5                                                                                                                                                     6261\n",
       "6                                                                                                                                                      785\n",
       "{'default': 4, 'timeofday': [{'time': [21600, 36000], 'value': 3}, {'time': [54000, 68400], 'value': 3}]}                                              510\n",
       "{'default': 3, 'timeofday': [{'time': [21600, 36000], 'value': 2}, {'time': [54000, 68400], 'value': 2}]}                                              180\n",
       "{'default': 5, 'timeofday': [{'time': [21600, 36000], 'value': 4}, {'time': [54000, 68400], 'value': 4}]}                                              140\n",
       "{'default': 4, 'timeofday': [{'time': [21600, 36000], 'value': 3}]}                                                                                    125\n",
       "7                                                                                                                                                      125\n",
       "{'default': 6, 'timeofday': [{'time': [21600, 36000], 'value': 5}, {'time': [54000, 68400], 'value': 5}]}                                               96\n",
       "{'default': 3, 'timeofday': [{'time': [21600, 36000], 'value': 2}]}                                                                                     80\n",
       "{'default': 4, 'timeofday': [{'time': [21600, 36000], 'value': 3}, {'time': [36000, 54000], 'value': 3}, {'time': [54000, 68400], 'value': 3}]}         71\n",
       "{'default': 4, 'timeofday': [{'time': [54000, 68400], 'value': 3}]}                                                                                     62\n",
       "1                                                                                                                                                       52\n",
       "{'default': 5, 'timeofday': [{'time': [21600, 36000], 'value': 4}]}                                                                                     49\n",
       "{'default': 5, 'timeofday': [{'time': [21600, 36000], 'value': 4}, {'time': [36000, 54000], 'value': 4}, {'time': [54000, 68400], 'value': 4}]}         41\n",
       "{'default': 2, 'timeofday': [{'time': [21600, 36000], 'value': 1}, {'time': [54000, 68400], 'value': 1}]}                                               21\n",
       "{'default': 5, 'timeofday': [{'time': [54000, 68400], 'value': 4}]}                                                                                     20\n",
       "{'default': 3, 'timeofday': [{'time': [21600, 36000], 'value': 2}, {'time': [36000, 54000], 'value': 2}, {'time': [54000, 68400], 'value': 2}]}         19\n",
       "8                                                                                                                                                       18\n",
       "{'default': 6, 'timeofday': [{'time': [21600, 36000], 'value': 5}, {'time': [36000, 54000], 'value': 5}, {'time': [54000, 68400], 'value': 5}]}         13\n",
       "{'default': 6, 'timeofday': [{'time': [21600, 36000], 'value': 5}]}                                                                                     12\n",
       "{'default': 6, 'timeofday': [{'time': [54000, 68400], 'value': 5}]}                                                                                     11\n",
       "{'default': 1, 'timeofday': [{'time': [21600, 36000], 'value': 0}, {'time': [54000, 68400], 'value': 0}]}                                                9\n",
       "{'default': 7, 'timeofday': [{'time': [21600, 36000], 'value': 6}, {'time': [54000, 68400], 'value': 6}]}                                                9\n",
       "{'default': 3, 'timeofday': [{'time': [54000, 68400], 'value': 2}]}                                                                                      7\n",
       "{'default': 4, 'timeofday': [{'time': [21600, 36000], 'value': 2}, {'time': [36000, 54000], 'value': 2}, {'time': [54000, 68400], 'value': 2}]}          6\n",
       "{'default': 7, 'timeofday': [{'time': [21600, 36000], 'value': 5}, {'time': [36000, 54000], 'value': 5}, {'time': [54000, 68400], 'value': 5}]}          4\n",
       "{'default': 2, 'timeofday': [{'time': [54000, 68400], 'value': 1}]}                                                                                      3\n",
       "{'default': 7, 'timeofday': [{'time': [21600, 36000], 'value': 6}]}                                                                                      3\n",
       "{'default': 12, 'timeofday': [{'time': [21600, 36000], 'value': 10}, {'time': [54000, 68400], 'value': 10}]}                                             2\n",
       "{'default': 2, 'timeofday': [{'time': [21600, 36000], 'value': 1}, {'time': [36000, 54000], 'value': 1}, {'time': [54000, 68400], 'value': 1}]}          2\n",
       "{'default': 6, 'timeofday': [{'time': [21600, 36000], 'value': 4}, {'time': [36000, 54000], 'value': 4}, {'time': [54000, 68400], 'value': 4}]}          2\n",
       "{'default': 7, 'timeofday': [{'time': [21600, 36000], 'value': 6}, {'time': [36000, 54000], 'value': 6}, {'time': [54000, 68400], 'value': 6}]}          2\n",
       "{'default': 1, 'timeofday': [{'time': [21600, 36000], 'value': 0}, {'time': [36000, 54000], 'value': 0}, {'time': [54000, 68400], 'value': 0}]}          2\n",
       "{'default': 3, 'timeofday': [{'time': [21600, 36000], 'value': 2}, {'time': [54000, 68400], 'value': 4}]}                                                1\n",
       "{'default': 16, 'timeofday': [{'time': [21600, 36000], 'value': 14}, {'time': [54000, 68400], 'value': 14}]}                                             1\n",
       "9                                                                                                                                                        1\n",
       "{'default': 4, 'timeofday': [{'time': [21600, 36000], 'value': 2}, {'time': [54000, 68400], 'value': 2}]}                                                1\n",
       "{'default': 7, 'timeofday': [{'time': [21600, 36000], 'value': 5}, {'time': [54000, 68400], 'value': 5}]}                                                1\n",
       "{'default': 3, 'timeofday': [{'time': [21600, 36000], 'value': 4}, {'time': [54000, 68400], 'value': 2}]}                                                1\n",
       "{'default': 9, 'timeofday': [{'time': [21600, 36000], 'value': 7}, {'time': [54000, 68400], 'value': 7}]}                                                1\n",
       "Name: lanes, dtype: int64"
      ]
     },
     "execution_count": 58,
     "metadata": {},
     "output_type": "execute_result"
    }
   ],
   "source": [
    "# aborted the idea of publishing the netework in standard format when I realised \"lanes\" are not always numeric\n",
    "tm2_attrs_df['lanes'].value_counts()"
   ]
  }
 ],
 "metadata": {
  "kernelspec": {
   "display_name": "geo_env",
   "language": "python",
   "name": "geo_env"
  },
  "language_info": {
   "codemirror_mode": {
    "name": "ipython",
    "version": 3
   },
   "file_extension": ".py",
   "mimetype": "text/x-python",
   "name": "python",
   "nbconvert_exporter": "python",
   "pygments_lexer": "ipython3",
   "version": "3.10.0"
  }
 },
 "nbformat": 4,
 "nbformat_minor": 5
}
