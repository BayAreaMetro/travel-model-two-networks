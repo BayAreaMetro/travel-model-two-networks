{
 "cells": [
  {
   "cell_type": "markdown",
   "metadata": {},
   "source": []
  },
  {
   "cell_type": "code",
   "execution_count": null,
   "metadata": {},
   "outputs": [],
   "source": [
    "\n",
    "import os\n",
    "import sys\n",
    "import yaml\n",
    "from subprocess import Popen\n",
    "import pickle\n",
    "\n",
    "import pandas as pd\n",
    "import geopandas as gpd\n",
    "import numpy as np\n",
    "\n",
    "from network_wrangler import RoadwayNetwork\n",
    "from network_wrangler import TransitNetwork\n",
    "from network_wrangler import Scenario\n",
    "from network_wrangler import WranglerLogger\n",
    "from network_wrangler import ProjectCard"
   ]
  },
  {
   "cell_type": "code",
   "execution_count": null,
   "metadata": {},
   "outputs": [],
   "source": [
    "%load_ext autoreload\n",
    "%autoreload 2"
   ]
  },
  {
   "cell_type": "code",
   "execution_count": null,
   "metadata": {},
   "outputs": [],
   "source": [
    "import logging\n",
    "logger = logging.getLogger(\"WranglerLogger\")\n",
    "logger.handlers[0].stream = sys.stdout\n",
    "logger.setLevel(logging.INFO)"
   ]
  },
  {
   "cell_type": "code",
   "execution_count": null,
   "metadata": {},
   "outputs": [],
   "source": [
    "input_dir = os.path.join(os.getcwd(),'../','examples','mtc') # change path to Github\n",
    "pickle_dir = os.path.join(input_dir, 'network_standard')\n",
    "output_dir = os.path.join(input_dir, 'network_standard')\n",
    "card_dir = os.path.join(input_dir, 'project_cards')"
   ]
  },
  {
   "cell_type": "code",
   "execution_count": null,
   "metadata": {},
   "outputs": [],
   "source": [
    "link_file = os.path.join(input_dir, 'link.json')\n",
    "node_file = os.path.join(input_dir, 'node.geojson')\n",
    "shape_file = os.path.join(input_dir, 'shape.geojson')"
   ]
  },
  {
   "cell_type": "code",
   "execution_count": null,
   "metadata": {},
   "outputs": [],
   "source": [
    "roadway_net = RoadwayNetwork.read(link_file = link_file, node_file = node_file, shape_file = shape_file)"
   ]
  },
  {
   "cell_type": "code",
   "execution_count": null,
   "metadata": {},
   "outputs": [],
   "source": [
    "roadway_net.links_df = roadway_net.links_df[roadway_net.links_df['drive_access'] == 1]\n",
    "\n",
    "roadway_net.links_df = roadway_net.links_df.drop(['lanes'], axis=1)"
   ]
  },
  {
   "cell_type": "code",
   "execution_count": null,
   "metadata": {},
   "outputs": [],
   "source": [
    "roadway_net.links_df['lanes'] = 89"
   ]
  },
  {
   "cell_type": "code",
   "execution_count": null,
   "metadata": {},
   "outputs": [],
   "source": [
    "base_scenario = {\"road_net\": roadway_net}"
   ]
  },
  {
   "cell_type": "code",
   "execution_count": null,
   "metadata": {},
   "outputs": [],
   "source": [
    "working_scenario = Scenario.create_scenario(\n",
    "    base_scenario = base_scenario, \n",
    "    card_directory = os.path.join(input_dir, 'project_cards'),\n",
    "    glob_search = \"*attribute*.yml\"\n",
    ")"
   ]
  },
  {
   "cell_type": "code",
   "execution_count": null,
   "metadata": {},
   "outputs": [],
   "source": [
    "working_scenario.get_project_names()"
   ]
  },
  {
   "cell_type": "code",
   "execution_count": null,
   "metadata": {},
   "outputs": [],
   "source": [
    "working_scenario_filename = os.path.join(output_dir, 'working_scenario_00.pickle')\n",
    "pickle.dump(working_scenario, open(working_scenario_filename, 'wb'))"
   ]
  },
  {
   "cell_type": "code",
   "execution_count": null,
   "metadata": {},
   "outputs": [],
   "source": [
    "roadway_net_filename = os.path.join(output_dir, 'roadway_network_00.pickle')\n",
    "pickle.dump(roadway_net, open(roadway_net_filename, 'wb'))"
   ]
  },
  {
   "cell_type": "code",
   "execution_count": null,
   "metadata": {},
   "outputs": [],
   "source": [
    "roadway_net.links_df[roadway_net.links_df.model_link_id == 7000410] #just to check lanes attribute"
   ]
  },
  {
   "cell_type": "code",
   "execution_count": null,
   "metadata": {},
   "outputs": [],
   "source": [
    "working_scenario_filename = os.path.join(pickle_dir, 'working_scenario_00.pickle')\n",
    "v_01_scenario = pickle.load(open(working_scenario_filename, 'rb'))"
   ]
  },
  {
   "cell_type": "code",
   "execution_count": null,
   "metadata": {
    "scrolled": true
   },
   "outputs": [],
   "source": [
    "v_01_scenario.apply_all_projects()"
   ]
  },
  {
   "cell_type": "markdown",
   "metadata": {},
   "source": [
    "View applied project cards"
   ]
  },
  {
   "cell_type": "code",
   "execution_count": null,
   "metadata": {},
   "outputs": [],
   "source": [
    "v_01_scenario.applied_projects"
   ]
  },
  {
   "cell_type": "code",
   "execution_count": null,
   "metadata": {},
   "outputs": [],
   "source": [
    "roadway_net_filename = os.path.join(output_dir, 'roadway_network_with_projects.pickle')\n",
    "pickle.dump(v_01_scenario.road_net, open(roadway_net_filename, 'wb'))"
   ]
  },
  {
   "cell_type": "code",
   "execution_count": null,
   "metadata": {
    "scrolled": true
   },
   "outputs": [],
   "source": [
    "v_01_scenario.road_net.links_df[v_01_scenario.road_net.links_df.model_link_id == 7000410] # quick check for access egress links"
   ]
  },
  {
   "cell_type": "code",
   "execution_count": null,
   "metadata": {},
   "outputs": [],
   "source": [
    "v_01_scenario.road_net.links_df[v_01_scenario.road_net.links_df.model_link_id == 7000410][['A','B']] # quick check for access egress links"
   ]
  },
  {
   "cell_type": "code",
   "execution_count": null,
   "metadata": {},
   "outputs": [],
   "source": [
    "v_01_scenario.road_net.links_df[v_01_scenario.road_net.links_df.A == 4500406] # quick check for access egress links"
   ]
  },
  {
   "cell_type": "code",
   "execution_count": null,
   "metadata": {
    "scrolled": true
   },
   "outputs": [],
   "source": [
    " v_01_scenario.road_net.links_df[v_01_scenario.road_net.links_df.A == 4500406].model_link_id # quick check for access egress links"
   ]
  },
  {
   "cell_type": "code",
   "execution_count": null,
   "metadata": {},
   "outputs": [],
   "source": [
    "v_01_scenario.road_net.write(path = output_dir, filename = 'v02_') # write out network"
   ]
  }
 ],
 "metadata": {
  "kernelspec": {
   "display_name": "Python 3",
   "language": "python",
   "name": "python3"
  },
  "language_info": {
   "codemirror_mode": {
    "name": "ipython",
    "version": 3
   },
   "file_extension": ".py",
   "mimetype": "text/x-python",
   "name": "python",
   "nbconvert_exporter": "python",
   "pygments_lexer": "ipython3",
   "version": "3.7.8"
  }
 },
 "nbformat": 4,
 "nbformat_minor": 4
}
