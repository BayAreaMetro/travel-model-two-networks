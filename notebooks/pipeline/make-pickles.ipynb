{
 "cells": [
  {
   "cell_type": "markdown",
   "metadata": {},
   "source": []
  },
  {
   "cell_type": "code",
   "execution_count": 1,
   "metadata": {},
   "outputs": [],
   "source": [
    "\n",
    "import os\n",
    "import sys\n",
    "import yaml\n",
    "from subprocess import Popen\n",
    "import pickle\n",
    "\n",
    "import pandas as pd\n",
    "import geopandas as gpd\n",
    "import numpy as np\n",
    "\n",
    "from network_wrangler import RoadwayNetwork\n",
    "from network_wrangler import TransitNetwork\n",
    "from network_wrangler import Scenario\n",
    "from network_wrangler import WranglerLogger\n",
    "from network_wrangler import ProjectCard"
   ]
  },
  {
   "cell_type": "code",
   "execution_count": 2,
   "metadata": {},
   "outputs": [],
   "source": [
    "%load_ext autoreload\n",
    "%autoreload 2"
   ]
  },
  {
   "cell_type": "code",
   "execution_count": 3,
   "metadata": {},
   "outputs": [],
   "source": [
    "import logging\n",
    "logger = logging.getLogger(\"WranglerLogger\")\n",
    "logger.handlers[0].stream = sys.stdout\n",
    "logger.setLevel(logging.INFO)"
   ]
  },
  {
   "cell_type": "code",
   "execution_count": 4,
   "metadata": {},
   "outputs": [],
   "source": [
    "input_dir = os.path.join(os.getcwd(),'../','examples','mtc') # change path to Github\n",
    "pickle_dir = os.path.join(input_dir, 'network_standard')\n",
    "output_dir = os.path.join(input_dir, 'network_standard')\n",
    "card_dir = os.path.join(input_dir, 'project_cards')"
   ]
  },
  {
   "cell_type": "code",
   "execution_count": 5,
   "metadata": {},
   "outputs": [],
   "source": [
    "link_file = os.path.join(input_dir, 'link.json')\n",
    "node_file = os.path.join(input_dir, 'node.geojson')\n",
    "shape_file = os.path.join(input_dir, 'shape.geojson')"
   ]
  },
  {
   "cell_type": "code",
   "execution_count": 6,
   "metadata": {
    "scrolled": true
   },
   "outputs": [
    {
     "name": "stdout",
     "output_type": "stream",
     "text": [
      "2020-10-16 00:46:05, INFO: Reading from following files:\n",
      "-C:\\Users\\USGS667806\\network_wrangler\\notebook\\../examples\\mtc\\link.json\n",
      "-C:\\Users\\USGS667806\\network_wrangler\\notebook\\../examples\\mtc\\node.geojson\n",
      "-C:\\Users\\USGS667806\\network_wrangler\\notebook\\../examples\\mtc\\shape.geojson.\n",
      "2020-10-16 00:46:05, INFO: Reading from following files:\n",
      "-C:\\Users\\USGS667806\\network_wrangler\\notebook\\../examples\\mtc\\link.json\n",
      "-C:\\Users\\USGS667806\\network_wrangler\\notebook\\../examples\\mtc\\node.geojson\n",
      "-C:\\Users\\USGS667806\\network_wrangler\\notebook\\../examples\\mtc\\shape.geojson.\n",
      "2020-10-16 00:48:50, INFO: Read 1634769 links from C:\\Users\\USGS667806\\network_wrangler\\notebook\\../examples\\mtc\\link.json\n",
      "2020-10-16 00:48:50, INFO: Read 1634769 links from C:\\Users\\USGS667806\\network_wrangler\\notebook\\../examples\\mtc\\link.json\n",
      "2020-10-16 00:48:50, INFO: Read 644475 nodes from C:\\Users\\USGS667806\\network_wrangler\\notebook\\../examples\\mtc\\node.geojson\n",
      "2020-10-16 00:48:50, INFO: Read 644475 nodes from C:\\Users\\USGS667806\\network_wrangler\\notebook\\../examples\\mtc\\node.geojson\n",
      "2020-10-16 00:48:50, INFO: Read 869970 shapes from C:\\Users\\USGS667806\\network_wrangler\\notebook\\../examples\\mtc\\shape.geojson\n",
      "2020-10-16 00:48:50, INFO: Read 869970 shapes from C:\\Users\\USGS667806\\network_wrangler\\notebook\\../examples\\mtc\\shape.geojson\n"
     ]
    }
   ],
   "source": [
    "roadway_net = RoadwayNetwork.read(link_file = link_file, node_file = node_file, shape_file = shape_file)"
   ]
  },
  {
   "cell_type": "code",
   "execution_count": 7,
   "metadata": {},
   "outputs": [],
   "source": [
    "roadway_net.links_df = roadway_net.links_df\n",
    "\n",
    "roadway_net.links_df = roadway_net.links_df.drop(['lanes'], axis=1)"
   ]
  },
  {
   "cell_type": "code",
   "execution_count": 8,
   "metadata": {},
   "outputs": [],
   "source": [
    "roadway_net.links_df['lanes'] = 89"
   ]
  },
  {
   "cell_type": "code",
   "execution_count": 9,
   "metadata": {},
   "outputs": [],
   "source": [
    "base_scenario = {\"road_net\": roadway_net}"
   ]
  },
  {
   "cell_type": "code",
   "execution_count": 10,
   "metadata": {},
   "outputs": [
    {
     "name": "stdout",
     "output_type": "stream",
     "text": [
      "2020-10-16 00:53:55, INFO: Creating Scenario\n",
      "2020-10-16 00:53:55, INFO: Creating Scenario\n"
     ]
    }
   ],
   "source": [
    "working_scenario = Scenario.create_scenario(\n",
    "    base_scenario = base_scenario)"
   ]
  },
  {
   "cell_type": "code",
   "execution_count": 11,
   "metadata": {},
   "outputs": [],
   "source": [
    "working_scenario_filename = os.path.join(output_dir, 'working_scenario_00.pickle')\n",
    "pickle.dump(working_scenario, open(working_scenario_filename, 'wb'))"
   ]
  },
  {
   "cell_type": "code",
   "execution_count": 12,
   "metadata": {},
   "outputs": [],
   "source": [
    "roadway_net_filename = os.path.join(output_dir, 'roadway_network_00.pickle')\n",
    "pickle.dump(roadway_net, open(roadway_net_filename, 'wb'))"
   ]
  }
 ],
 "metadata": {
  "kernelspec": {
   "display_name": "Python 3",
   "language": "python",
   "name": "python3"
  },
  "language_info": {
   "codemirror_mode": {
    "name": "ipython",
    "version": 3
   },
   "file_extension": ".py",
   "mimetype": "text/x-python",
   "name": "python",
   "nbconvert_exporter": "python",
   "pygments_lexer": "ipython3",
   "version": "3.7.8"
  }
 },
 "nbformat": 4,
 "nbformat_minor": 4
}
