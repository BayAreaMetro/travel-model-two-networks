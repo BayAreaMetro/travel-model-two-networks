{
 "cells": [
  {
   "cell_type": "markdown",
   "metadata": {},
   "source": []
  },
  {
   "cell_type": "code",
   "execution_count": 7,
   "metadata": {},
   "outputs": [],
   "source": [
    "import os\n",
    "import sys\n",
    "import yaml\n",
    "import glob\n",
    "from subprocess import Popen\n",
    "import pickle\n",
    "\n",
    "import pandas as pd\n",
    "import geopandas as gpd\n",
    "import numpy as np\n",
    "\n",
    "from network_wrangler import RoadwayNetwork\n",
    "from network_wrangler import TransitNetwork\n",
    "from network_wrangler import Scenario\n",
    "from network_wrangler import WranglerLogger\n",
    "from network_wrangler import ProjectCard"
   ]
  },
  {
   "cell_type": "code",
   "execution_count": 8,
   "metadata": {},
   "outputs": [
    {
     "name": "stdout",
     "output_type": "stream",
     "text": [
      "The autoreload extension is already loaded. To reload it, use:\n",
      "  %reload_ext autoreload\n"
     ]
    }
   ],
   "source": [
    "%load_ext autoreload\n",
    "%autoreload 2"
   ]
  },
  {
   "cell_type": "code",
   "execution_count": 9,
   "metadata": {},
   "outputs": [],
   "source": [
    "import logging\n",
    "logger = logging.getLogger(\"WranglerLogger\")\n",
    "logger.handlers[0].stream = sys.stdout\n",
    "logger.setLevel(logging.INFO)"
   ]
  },
  {
   "cell_type": "code",
   "execution_count": 10,
   "metadata": {},
   "outputs": [],
   "source": [
    "input_dir = os.path.join(os.getcwd(),'../','examples','mtc') \n",
    "pickle_dir = os.path.join(input_dir, 'network_standard')\n",
    "output_dir = os.path.join(input_dir, 'network_standard')\n",
    "card_dir = os.path.join(input_dir, 'project_cards')"
   ]
  },
  {
   "cell_type": "code",
   "execution_count": 11,
   "metadata": {},
   "outputs": [],
   "source": [
    "working_scenario_filename = os.path.join(pickle_dir, 'working_scenario_00.pickle')\n",
    "v_01_scenario = pickle.load(open(working_scenario_filename, 'rb'))"
   ]
  },
  {
   "cell_type": "code",
   "execution_count": 12,
   "metadata": {},
   "outputs": [],
   "source": [
    "# Create a list of all project cards in the card directory\n",
    "file = list(glob.glob(os.path.join(card_dir,'*.yml')))"
   ]
  },
  {
   "cell_type": "code",
   "execution_count": 13,
   "metadata": {},
   "outputs": [],
   "source": [
    "project_card_list = []\n",
    "\n",
    "for card in file:\n",
    "    \n",
    "    project_card = ProjectCard.read(card, validate = False)\n",
    "\n",
    "    project_card_list.append(project_card)"
   ]
  },
  {
   "cell_type": "code",
   "execution_count": 14,
   "metadata": {},
   "outputs": [
    {
     "name": "stdout",
     "output_type": "stream",
     "text": [
      "2020-10-16 01:01:34, INFO: Applying Year 2015 Modify HOV Lanes and USE on CA-237 EB US 101 to North 1st Street\n",
      "2020-10-16 01:01:34, INFO: Applying Year 2015 Modify HOV Lanes and USE on CA-237 EB US 101 to North 1st Street\n",
      "2020-10-16 01:01:34, INFO: Applying Year 2015 Modify HOV Lanes and USE on CA-237 EB US 101 to North 1st Street\n",
      "2020-10-16 01:01:34, INFO: Applying Year 2015 Modify HOV Lanes and USE on CA-237 EB US 101 to North 1st Street\n",
      "2020-10-16 01:01:34, INFO: Applying Project to Roadway Network: Year 2015 Modify HOV Lanes and USE on CA-237 EB US 101 to North 1st Street\n",
      "2020-10-16 01:01:34, INFO: Applying Project to Roadway Network: Year 2015 Modify HOV Lanes and USE on CA-237 EB US 101 to North 1st Street\n"
     ]
    },
    {
     "name": "stderr",
     "output_type": "stream",
     "text": [
      "C:\\Users\\USGS667806\\Miniconda3\\envs\\wrangler_env\\lib\\site-packages\\geopandas\\geodataframe.py:853: SettingWithCopyWarning: \n",
      "A value is trying to be set on a copy of a slice from a DataFrame.\n",
      "Try using .loc[row_indexer,col_indexer] = value instead\n",
      "\n",
      "See the caveats in the documentation: https://pandas.pydata.org/pandas-docs/stable/user_guide/indexing.html#returning-a-view-versus-a-copy\n",
      "  super(GeoDataFrame, self).__setitem__(key, value)\n"
     ]
    },
    {
     "name": "stdout",
     "output_type": "stream",
     "text": [
      "2020-10-16 01:01:35, INFO: Applying Year 2015 Modify HOV Lanes and USE on CA-237 WB North 1st Street to US 101\n",
      "2020-10-16 01:01:35, INFO: Applying Year 2015 Modify HOV Lanes and USE on CA-237 WB North 1st Street to US 101\n",
      "2020-10-16 01:01:35, INFO: Applying Year 2015 Modify HOV Lanes and USE on CA-237 WB North 1st Street to US 101\n",
      "2020-10-16 01:01:35, INFO: Applying Year 2015 Modify HOV Lanes and USE on CA-237 WB North 1st Street to US 101\n",
      "2020-10-16 01:01:35, INFO: Applying Project to Roadway Network: Year 2015 Modify HOV Lanes and USE on CA-237 WB North 1st Street to US 101\n",
      "2020-10-16 01:01:35, INFO: Applying Project to Roadway Network: Year 2015 Modify HOV Lanes and USE on CA-237 WB North 1st Street to US 101\n",
      "2020-10-16 01:01:36, INFO: Applying Year 2015 Modify HOV Lanes and USE on CA-280 NB Bascom Ave to Magdalena Ave\n",
      "2020-10-16 01:01:36, INFO: Applying Year 2015 Modify HOV Lanes and USE on CA-280 NB Bascom Ave to Magdalena Ave\n"
     ]
    },
    {
     "name": "stderr",
     "output_type": "stream",
     "text": [
      "C:\\Users\\USGS667806\\Miniconda3\\envs\\wrangler_env\\lib\\site-packages\\geopandas\\geodataframe.py:853: SettingWithCopyWarning: \n",
      "A value is trying to be set on a copy of a slice from a DataFrame.\n",
      "Try using .loc[row_indexer,col_indexer] = value instead\n",
      "\n",
      "See the caveats in the documentation: https://pandas.pydata.org/pandas-docs/stable/user_guide/indexing.html#returning-a-view-versus-a-copy\n",
      "  super(GeoDataFrame, self).__setitem__(key, value)\n"
     ]
    },
    {
     "name": "stdout",
     "output_type": "stream",
     "text": [
      "2020-10-16 01:01:36, INFO: Applying Year 2015 Modify HOV Lanes and USE on CA-280 NB Bascom Ave to Magdalena Ave\n",
      "2020-10-16 01:01:36, INFO: Applying Year 2015 Modify HOV Lanes and USE on CA-280 NB Bascom Ave to Magdalena Ave\n",
      "2020-10-16 01:01:36, INFO: Applying Project to Roadway Network: Year 2015 Modify HOV Lanes and USE on CA-280 NB Bascom Ave to Magdalena Ave\n",
      "2020-10-16 01:01:36, INFO: Applying Project to Roadway Network: Year 2015 Modify HOV Lanes and USE on CA-280 NB Bascom Ave to Magdalena Ave\n",
      "2020-10-16 01:01:37, INFO: Applying Year 2015 Modify HOV Lanes and USE on CA-280 SB Magdalena Ave to Southwest Expressway\n",
      "2020-10-16 01:01:37, INFO: Applying Year 2015 Modify HOV Lanes and USE on CA-280 SB Magdalena Ave to Southwest Expressway\n",
      "2020-10-16 01:01:37, INFO: Applying Year 2015 Modify HOV Lanes and USE on CA-280 SB Magdalena Ave to Southwest Expressway\n",
      "2020-10-16 01:01:37, INFO: Applying Year 2015 Modify HOV Lanes and USE on CA-280 SB Magdalena Ave to Southwest Expressway\n",
      "2020-10-16 01:01:37, INFO: Applying Project to Roadway Network: Year 2015 Modify HOV Lanes and USE on CA-280 SB Magdalena Ave to Southwest Expressway\n",
      "2020-10-16 01:01:37, INFO: Applying Project to Roadway Network: Year 2015 Modify HOV Lanes and USE on CA-280 SB Magdalena Ave to Southwest Expressway\n"
     ]
    },
    {
     "name": "stderr",
     "output_type": "stream",
     "text": [
      "C:\\Users\\USGS667806\\Miniconda3\\envs\\wrangler_env\\lib\\site-packages\\geopandas\\geodataframe.py:853: SettingWithCopyWarning: \n",
      "A value is trying to be set on a copy of a slice from a DataFrame.\n",
      "Try using .loc[row_indexer,col_indexer] = value instead\n",
      "\n",
      "See the caveats in the documentation: https://pandas.pydata.org/pandas-docs/stable/user_guide/indexing.html#returning-a-view-versus-a-copy\n",
      "  super(GeoDataFrame, self).__setitem__(key, value)\n"
     ]
    },
    {
     "name": "stdout",
     "output_type": "stream",
     "text": [
      "2020-10-16 01:01:37, INFO: Applying Year 2015 Modify HOV Lanes and USE on CA-84 WB I-880 to Dumbarton Bridge Toll Plaza\n",
      "2020-10-16 01:01:37, INFO: Applying Year 2015 Modify HOV Lanes and USE on CA-84 WB I-880 to Dumbarton Bridge Toll Plaza\n",
      "2020-10-16 01:01:37, INFO: Applying Year 2015 Modify HOV Lanes and USE on CA-84 WB I-880 to Dumbarton Bridge Toll Plaza\n",
      "2020-10-16 01:01:37, INFO: Applying Year 2015 Modify HOV Lanes and USE on CA-84 WB I-880 to Dumbarton Bridge Toll Plaza\n",
      "2020-10-16 01:01:37, INFO: Applying Project to Roadway Network: Year 2015 Modify HOV Lanes and USE on CA-84 WB I-880 to Dumbarton Bridge Toll Plaza\n",
      "2020-10-16 01:01:37, INFO: Applying Project to Roadway Network: Year 2015 Modify HOV Lanes and USE on CA-84 WB I-880 to Dumbarton Bridge Toll Plaza\n"
     ]
    },
    {
     "name": "stderr",
     "output_type": "stream",
     "text": [
      "C:\\Users\\USGS667806\\Miniconda3\\envs\\wrangler_env\\lib\\site-packages\\geopandas\\geodataframe.py:853: SettingWithCopyWarning: \n",
      "A value is trying to be set on a copy of a slice from a DataFrame.\n",
      "Try using .loc[row_indexer,col_indexer] = value instead\n",
      "\n",
      "See the caveats in the documentation: https://pandas.pydata.org/pandas-docs/stable/user_guide/indexing.html#returning-a-view-versus-a-copy\n",
      "  super(GeoDataFrame, self).__setitem__(key, value)\n"
     ]
    },
    {
     "name": "stdout",
     "output_type": "stream",
     "text": [
      "2020-10-16 01:01:37, INFO: Applying Year 2015 Modify HOV Lanes and USE on CA-85 NB US101 to US101\n"
     ]
    },
    {
     "name": "stderr",
     "output_type": "stream",
     "text": [
      "C:\\Users\\USGS667806\\Miniconda3\\envs\\wrangler_env\\lib\\site-packages\\geopandas\\geodataframe.py:853: SettingWithCopyWarning: \n",
      "A value is trying to be set on a copy of a slice from a DataFrame.\n",
      "Try using .loc[row_indexer,col_indexer] = value instead\n",
      "\n",
      "See the caveats in the documentation: https://pandas.pydata.org/pandas-docs/stable/user_guide/indexing.html#returning-a-view-versus-a-copy\n",
      "  super(GeoDataFrame, self).__setitem__(key, value)\n"
     ]
    },
    {
     "name": "stdout",
     "output_type": "stream",
     "text": [
      "2020-10-16 01:01:37, INFO: Applying Year 2015 Modify HOV Lanes and USE on CA-85 NB US101 to US101\n",
      "2020-10-16 01:01:37, INFO: Applying Year 2015 Modify HOV Lanes and USE on CA-85 NB US101 to US101\n",
      "2020-10-16 01:01:37, INFO: Applying Year 2015 Modify HOV Lanes and USE on CA-85 NB US101 to US101\n",
      "2020-10-16 01:01:37, INFO: Applying Project to Roadway Network: Year 2015 Modify HOV Lanes and USE on CA-85 NB US101 to US101\n",
      "2020-10-16 01:01:37, INFO: Applying Project to Roadway Network: Year 2015 Modify HOV Lanes and USE on CA-85 NB US101 to US101\n",
      "2020-10-16 01:01:38, INFO: Applying Year 2015 Modify HOV Lanes and USE on CA-85 SB US101 to US101\n",
      "2020-10-16 01:01:38, INFO: Applying Year 2015 Modify HOV Lanes and USE on CA-85 SB US101 to US101\n",
      "2020-10-16 01:01:38, INFO: Applying Year 2015 Modify HOV Lanes and USE on CA-85 SB US101 to US101\n",
      "2020-10-16 01:01:38, INFO: Applying Year 2015 Modify HOV Lanes and USE on CA-85 SB US101 to US101\n",
      "2020-10-16 01:01:38, INFO: Applying Project to Roadway Network: Year 2015 Modify HOV Lanes and USE on CA-85 SB US101 to US101\n",
      "2020-10-16 01:01:38, INFO: Applying Project to Roadway Network: Year 2015 Modify HOV Lanes and USE on CA-85 SB US101 to US101\n"
     ]
    },
    {
     "name": "stderr",
     "output_type": "stream",
     "text": [
      "C:\\Users\\USGS667806\\Miniconda3\\envs\\wrangler_env\\lib\\site-packages\\geopandas\\geodataframe.py:853: SettingWithCopyWarning: \n",
      "A value is trying to be set on a copy of a slice from a DataFrame.\n",
      "Try using .loc[row_indexer,col_indexer] = value instead\n",
      "\n",
      "See the caveats in the documentation: https://pandas.pydata.org/pandas-docs/stable/user_guide/indexing.html#returning-a-view-versus-a-copy\n",
      "  super(GeoDataFrame, self).__setitem__(key, value)\n"
     ]
    },
    {
     "name": "stdout",
     "output_type": "stream",
     "text": [
      "2020-10-16 01:01:38, INFO: Applying Year 2015 Modify HOV Lanes and USE on CA 87 NB CA-85 to US 101\n",
      "2020-10-16 01:01:38, INFO: Applying Year 2015 Modify HOV Lanes and USE on CA 87 NB CA-85 to US 101\n",
      "2020-10-16 01:01:38, INFO: Applying Year 2015 Modify HOV Lanes and USE on CA 87 NB CA-85 to US 101\n",
      "2020-10-16 01:01:38, INFO: Applying Year 2015 Modify HOV Lanes and USE on CA 87 NB CA-85 to US 101\n",
      "2020-10-16 01:01:38, INFO: Applying Project to Roadway Network: Year 2015 Modify HOV Lanes and USE on CA 87 NB CA-85 to US 101\n",
      "2020-10-16 01:01:38, INFO: Applying Project to Roadway Network: Year 2015 Modify HOV Lanes and USE on CA 87 NB CA-85 to US 101\n"
     ]
    },
    {
     "name": "stderr",
     "output_type": "stream",
     "text": [
      "C:\\Users\\USGS667806\\Miniconda3\\envs\\wrangler_env\\lib\\site-packages\\geopandas\\geodataframe.py:853: SettingWithCopyWarning: \n",
      "A value is trying to be set on a copy of a slice from a DataFrame.\n",
      "Try using .loc[row_indexer,col_indexer] = value instead\n",
      "\n",
      "See the caveats in the documentation: https://pandas.pydata.org/pandas-docs/stable/user_guide/indexing.html#returning-a-view-versus-a-copy\n",
      "  super(GeoDataFrame, self).__setitem__(key, value)\n",
      "C:\\Users\\USGS667806\\Miniconda3\\envs\\wrangler_env\\lib\\site-packages\\geopandas\\geodataframe.py:853: SettingWithCopyWarning: \n",
      "A value is trying to be set on a copy of a slice from a DataFrame.\n",
      "Try using .loc[row_indexer,col_indexer] = value instead\n",
      "\n",
      "See the caveats in the documentation: https://pandas.pydata.org/pandas-docs/stable/user_guide/indexing.html#returning-a-view-versus-a-copy\n",
      "  super(GeoDataFrame, self).__setitem__(key, value)\n"
     ]
    },
    {
     "name": "stdout",
     "output_type": "stream",
     "text": [
      "2020-10-16 01:01:38, INFO: Applying Year 2015 Modify HOV Lanes and USE on CA-87 SB US 101 to CA-85\n",
      "2020-10-16 01:01:38, INFO: Applying Year 2015 Modify HOV Lanes and USE on CA-87 SB US 101 to CA-85\n",
      "2020-10-16 01:01:38, INFO: Applying Year 2015 Modify HOV Lanes and USE on CA-87 SB US 101 to CA-85\n",
      "2020-10-16 01:01:38, INFO: Applying Year 2015 Modify HOV Lanes and USE on CA-87 SB US 101 to CA-85\n",
      "2020-10-16 01:01:38, INFO: Applying Project to Roadway Network: Year 2015 Modify HOV Lanes and USE on CA-87 SB US 101 to CA-85\n",
      "2020-10-16 01:01:38, INFO: Applying Project to Roadway Network: Year 2015 Modify HOV Lanes and USE on CA-87 SB US 101 to CA-85\n",
      "2020-10-16 01:01:39, INFO: Applying Year 2015 Modify HOV Lanes and USE on CA-92 WB Eden Landing Rd to San Mateo-Hayward Bridge Toll Plaza\n",
      "2020-10-16 01:01:39, INFO: Applying Year 2015 Modify HOV Lanes and USE on CA-92 WB Eden Landing Rd to San Mateo-Hayward Bridge Toll Plaza\n",
      "2020-10-16 01:01:39, INFO: Applying Year 2015 Modify HOV Lanes and USE on CA-92 WB Eden Landing Rd to San Mateo-Hayward Bridge Toll Plaza\n",
      "2020-10-16 01:01:39, INFO: Applying Year 2015 Modify HOV Lanes and USE on CA-92 WB Eden Landing Rd to San Mateo-Hayward Bridge Toll Plaza\n",
      "2020-10-16 01:01:39, INFO: Applying Project to Roadway Network: Year 2015 Modify HOV Lanes and USE on CA-92 WB Eden Landing Rd to San Mateo-Hayward Bridge Toll Plaza\n",
      "2020-10-16 01:01:39, INFO: Applying Project to Roadway Network: Year 2015 Modify HOV Lanes and USE on CA-92 WB Eden Landing Rd to San Mateo-Hayward Bridge Toll Plaza\n"
     ]
    },
    {
     "name": "stderr",
     "output_type": "stream",
     "text": [
      "C:\\Users\\USGS667806\\Miniconda3\\envs\\wrangler_env\\lib\\site-packages\\geopandas\\geodataframe.py:853: SettingWithCopyWarning: \n",
      "A value is trying to be set on a copy of a slice from a DataFrame.\n",
      "Try using .loc[row_indexer,col_indexer] = value instead\n",
      "\n",
      "See the caveats in the documentation: https://pandas.pydata.org/pandas-docs/stable/user_guide/indexing.html#returning-a-view-versus-a-copy\n",
      "  super(GeoDataFrame, self).__setitem__(key, value)\n"
     ]
    },
    {
     "name": "stdout",
     "output_type": "stream",
     "text": [
      "2020-10-16 01:01:39, INFO: Applying Year 2015 Modify HOV Lanes and USE on E Capitol Expressway NB US101 to I-680\n",
      "2020-10-16 01:01:39, INFO: Applying Year 2015 Modify HOV Lanes and USE on E Capitol Expressway NB US101 to I-680\n",
      "2020-10-16 01:01:39, INFO: Applying Year 2015 Modify HOV Lanes and USE on E Capitol Expressway NB US101 to I-680\n",
      "2020-10-16 01:01:39, INFO: Applying Year 2015 Modify HOV Lanes and USE on E Capitol Expressway NB US101 to I-680\n",
      "2020-10-16 01:01:39, INFO: Applying Project to Roadway Network: Year 2015 Modify HOV Lanes and USE on E Capitol Expressway NB US101 to I-680\n",
      "2020-10-16 01:01:39, INFO: Applying Project to Roadway Network: Year 2015 Modify HOV Lanes and USE on E Capitol Expressway NB US101 to I-680\n"
     ]
    },
    {
     "name": "stderr",
     "output_type": "stream",
     "text": [
      "C:\\Users\\USGS667806\\Miniconda3\\envs\\wrangler_env\\lib\\site-packages\\geopandas\\geodataframe.py:853: SettingWithCopyWarning: \n",
      "A value is trying to be set on a copy of a slice from a DataFrame.\n",
      "Try using .loc[row_indexer,col_indexer] = value instead\n",
      "\n",
      "See the caveats in the documentation: https://pandas.pydata.org/pandas-docs/stable/user_guide/indexing.html#returning-a-view-versus-a-copy\n",
      "  super(GeoDataFrame, self).__setitem__(key, value)\n"
     ]
    },
    {
     "name": "stdout",
     "output_type": "stream",
     "text": [
      "2020-10-16 01:01:40, INFO: Applying Year 2015 Modify HOV Lanes and USE on E Capitol Expressway SB I-680 to US 101\n"
     ]
    },
    {
     "name": "stderr",
     "output_type": "stream",
     "text": [
      "C:\\Users\\USGS667806\\Miniconda3\\envs\\wrangler_env\\lib\\site-packages\\geopandas\\geodataframe.py:853: SettingWithCopyWarning: \n",
      "A value is trying to be set on a copy of a slice from a DataFrame.\n",
      "Try using .loc[row_indexer,col_indexer] = value instead\n",
      "\n",
      "See the caveats in the documentation: https://pandas.pydata.org/pandas-docs/stable/user_guide/indexing.html#returning-a-view-versus-a-copy\n",
      "  super(GeoDataFrame, self).__setitem__(key, value)\n"
     ]
    },
    {
     "name": "stdout",
     "output_type": "stream",
     "text": [
      "2020-10-16 01:01:40, INFO: Applying Year 2015 Modify HOV Lanes and USE on E Capitol Expressway SB I-680 to US 101\n",
      "2020-10-16 01:01:40, INFO: Applying Year 2015 Modify HOV Lanes and USE on E Capitol Expressway SB I-680 to US 101\n",
      "2020-10-16 01:01:40, INFO: Applying Year 2015 Modify HOV Lanes and USE on E Capitol Expressway SB I-680 to US 101\n",
      "2020-10-16 01:01:40, INFO: Applying Project to Roadway Network: Year 2015 Modify HOV Lanes and USE on E Capitol Expressway SB I-680 to US 101\n",
      "2020-10-16 01:01:40, INFO: Applying Project to Roadway Network: Year 2015 Modify HOV Lanes and USE on E Capitol Expressway SB I-680 to US 101\n",
      "2020-10-16 01:01:40, INFO: Applying Year 2015 Modify HOV Lanes and USE on Hwy 4 EB from Port Chicago Highway to Deer Valley Road\n",
      "2020-10-16 01:01:40, INFO: Applying Year 2015 Modify HOV Lanes and USE on Hwy 4 EB from Port Chicago Highway to Deer Valley Road\n",
      "2020-10-16 01:01:40, INFO: Applying Year 2015 Modify HOV Lanes and USE on Hwy 4 EB from Port Chicago Highway to Deer Valley Road\n",
      "2020-10-16 01:01:40, INFO: Applying Year 2015 Modify HOV Lanes and USE on Hwy 4 EB from Port Chicago Highway to Deer Valley Road\n",
      "2020-10-16 01:01:40, INFO: Applying Project to Roadway Network: Year 2015 Modify HOV Lanes and USE on Hwy 4 EB from Port Chicago Highway to Deer Valley Road\n",
      "2020-10-16 01:01:40, INFO: Applying Project to Roadway Network: Year 2015 Modify HOV Lanes and USE on Hwy 4 EB from Port Chicago Highway to Deer Valley Road\n"
     ]
    },
    {
     "name": "stderr",
     "output_type": "stream",
     "text": [
      "C:\\Users\\USGS667806\\Miniconda3\\envs\\wrangler_env\\lib\\site-packages\\geopandas\\geodataframe.py:853: SettingWithCopyWarning: \n",
      "A value is trying to be set on a copy of a slice from a DataFrame.\n",
      "Try using .loc[row_indexer,col_indexer] = value instead\n",
      "\n",
      "See the caveats in the documentation: https://pandas.pydata.org/pandas-docs/stable/user_guide/indexing.html#returning-a-view-versus-a-copy\n",
      "  super(GeoDataFrame, self).__setitem__(key, value)\n"
     ]
    },
    {
     "name": "stdout",
     "output_type": "stream",
     "text": [
      "2020-10-16 01:01:41, INFO: Applying Year 2015 Modify HOV lanes and USE on Hwy 4 WB from Deer Valley Road to Port Chicago Highway\n",
      "2020-10-16 01:01:41, INFO: Applying Year 2015 Modify HOV lanes and USE on Hwy 4 WB from Deer Valley Road to Port Chicago Highway\n",
      "2020-10-16 01:01:41, INFO: Applying Year 2015 Modify HOV lanes and USE on Hwy 4 WB from Deer Valley Road to Port Chicago Highway\n",
      "2020-10-16 01:01:41, INFO: Applying Year 2015 Modify HOV lanes and USE on Hwy 4 WB from Deer Valley Road to Port Chicago Highway\n",
      "2020-10-16 01:01:41, INFO: Applying Project to Roadway Network: Year 2015 Modify HOV lanes and USE on Hwy 4 WB from Deer Valley Road to Port Chicago Highway\n"
     ]
    },
    {
     "name": "stderr",
     "output_type": "stream",
     "text": [
      "C:\\Users\\USGS667806\\Miniconda3\\envs\\wrangler_env\\lib\\site-packages\\geopandas\\geodataframe.py:853: SettingWithCopyWarning: \n",
      "A value is trying to be set on a copy of a slice from a DataFrame.\n",
      "Try using .loc[row_indexer,col_indexer] = value instead\n",
      "\n",
      "See the caveats in the documentation: https://pandas.pydata.org/pandas-docs/stable/user_guide/indexing.html#returning-a-view-versus-a-copy\n",
      "  super(GeoDataFrame, self).__setitem__(key, value)\n"
     ]
    },
    {
     "name": "stdout",
     "output_type": "stream",
     "text": [
      "2020-10-16 01:01:41, INFO: Applying Project to Roadway Network: Year 2015 Modify HOV lanes and USE on Hwy 4 WB from Deer Valley Road to Port Chicago Highway\n",
      "2020-10-16 01:01:41, INFO: Applying Year 2015 Modify HOV Lanes and USE on I-680 NB from Acosta Blvd to Rudgear Road\n",
      "2020-10-16 01:01:41, INFO: Applying Year 2015 Modify HOV Lanes and USE on I-680 NB from Acosta Blvd to Rudgear Road\n",
      "2020-10-16 01:01:41, INFO: Applying Year 2015 Modify HOV Lanes and USE on I-680 NB from Acosta Blvd to Rudgear Road\n",
      "2020-10-16 01:01:41, INFO: Applying Year 2015 Modify HOV Lanes and USE on I-680 NB from Acosta Blvd to Rudgear Road\n",
      "2020-10-16 01:01:41, INFO: Applying Project to Roadway Network: Year 2015 Modify HOV Lanes and USE on I-680 NB from Acosta Blvd to Rudgear Road\n",
      "2020-10-16 01:01:41, INFO: Applying Project to Roadway Network: Year 2015 Modify HOV Lanes and USE on I-680 NB from Acosta Blvd to Rudgear Road\n"
     ]
    },
    {
     "name": "stderr",
     "output_type": "stream",
     "text": [
      "C:\\Users\\USGS667806\\Miniconda3\\envs\\wrangler_env\\lib\\site-packages\\geopandas\\geodataframe.py:853: SettingWithCopyWarning: \n",
      "A value is trying to be set on a copy of a slice from a DataFrame.\n",
      "Try using .loc[row_indexer,col_indexer] = value instead\n",
      "\n",
      "See the caveats in the documentation: https://pandas.pydata.org/pandas-docs/stable/user_guide/indexing.html#returning-a-view-versus-a-copy\n",
      "  super(GeoDataFrame, self).__setitem__(key, value)\n"
     ]
    },
    {
     "name": "stdout",
     "output_type": "stream",
     "text": [
      "2020-10-16 01:01:41, INFO: Applying Year 2015 Modify HOV Lanes USE on I-680 NB CA-242 to Benicia Bridge\n",
      "2020-10-16 01:01:41, INFO: Applying Year 2015 Modify HOV Lanes USE on I-680 NB CA-242 to Benicia Bridge\n",
      "2020-10-16 01:01:41, INFO: Applying Year 2015 Modify HOV Lanes USE on I-680 NB CA-242 to Benicia Bridge\n",
      "2020-10-16 01:01:41, INFO: Applying Year 2015 Modify HOV Lanes USE on I-680 NB CA-242 to Benicia Bridge\n",
      "2020-10-16 01:01:41, INFO: Applying Project to Roadway Network: Year 2015 Modify HOV Lanes USE on I-680 NB CA-242 to Benicia Bridge\n",
      "2020-10-16 01:01:41, INFO: Applying Project to Roadway Network: Year 2015 Modify HOV Lanes USE on I-680 NB CA-242 to Benicia Bridge\n"
     ]
    },
    {
     "name": "stderr",
     "output_type": "stream",
     "text": [
      "C:\\Users\\USGS667806\\Miniconda3\\envs\\wrangler_env\\lib\\site-packages\\geopandas\\geodataframe.py:853: SettingWithCopyWarning: \n",
      "A value is trying to be set on a copy of a slice from a DataFrame.\n",
      "Try using .loc[row_indexer,col_indexer] = value instead\n",
      "\n",
      "See the caveats in the documentation: https://pandas.pydata.org/pandas-docs/stable/user_guide/indexing.html#returning-a-view-versus-a-copy\n",
      "  super(GeoDataFrame, self).__setitem__(key, value)\n"
     ]
    },
    {
     "name": "stdout",
     "output_type": "stream",
     "text": [
      "2020-10-16 01:01:42, INFO: Applying Year 2015 Modify HOV Lanes and USE on I-680 SB from Benicia Bridge to CA-242\n",
      "2020-10-16 01:01:42, INFO: Applying Year 2015 Modify HOV Lanes and USE on I-680 SB from Benicia Bridge to CA-242\n",
      "2020-10-16 01:01:42, INFO: Applying Year 2015 Modify HOV Lanes and USE on I-680 SB from Benicia Bridge to CA-242\n",
      "2020-10-16 01:01:42, INFO: Applying Year 2015 Modify HOV Lanes and USE on I-680 SB from Benicia Bridge to CA-242\n",
      "2020-10-16 01:01:42, INFO: Applying Project to Roadway Network: Year 2015 Modify HOV Lanes and USE on I-680 SB from Benicia Bridge to CA-242\n",
      "2020-10-16 01:01:42, INFO: Applying Project to Roadway Network: Year 2015 Modify HOV Lanes and USE on I-680 SB from Benicia Bridge to CA-242\n"
     ]
    },
    {
     "name": "stderr",
     "output_type": "stream",
     "text": [
      "C:\\Users\\USGS667806\\Miniconda3\\envs\\wrangler_env\\lib\\site-packages\\geopandas\\geodataframe.py:853: SettingWithCopyWarning: \n",
      "A value is trying to be set on a copy of a slice from a DataFrame.\n",
      "Try using .loc[row_indexer,col_indexer] = value instead\n",
      "\n",
      "See the caveats in the documentation: https://pandas.pydata.org/pandas-docs/stable/user_guide/indexing.html#returning-a-view-versus-a-copy\n",
      "  super(GeoDataFrame, self).__setitem__(key, value)\n"
     ]
    },
    {
     "name": "stdout",
     "output_type": "stream",
     "text": [
      "2020-10-16 01:01:42, INFO: Applying Year 2015 Modify HOV Lanes and USE on I-680 SB from Rudgear Road to Acosta Blvd\n",
      "2020-10-16 01:01:42, INFO: Applying Year 2015 Modify HOV Lanes and USE on I-680 SB from Rudgear Road to Acosta Blvd\n",
      "2020-10-16 01:01:42, INFO: Applying Year 2015 Modify HOV Lanes and USE on I-680 SB from Rudgear Road to Acosta Blvd\n",
      "2020-10-16 01:01:42, INFO: Applying Year 2015 Modify HOV Lanes and USE on I-680 SB from Rudgear Road to Acosta Blvd\n",
      "2020-10-16 01:01:42, INFO: Applying Project to Roadway Network: Year 2015 Modify HOV Lanes and USE on I-680 SB from Rudgear Road to Acosta Blvd\n",
      "2020-10-16 01:01:42, INFO: Applying Project to Roadway Network: Year 2015 Modify HOV Lanes and USE on I-680 SB from Rudgear Road to Acosta Blvd\n"
     ]
    },
    {
     "name": "stderr",
     "output_type": "stream",
     "text": [
      "C:\\Users\\USGS667806\\Miniconda3\\envs\\wrangler_env\\lib\\site-packages\\geopandas\\geodataframe.py:853: SettingWithCopyWarning: \n",
      "A value is trying to be set on a copy of a slice from a DataFrame.\n",
      "Try using .loc[row_indexer,col_indexer] = value instead\n",
      "\n",
      "See the caveats in the documentation: https://pandas.pydata.org/pandas-docs/stable/user_guide/indexing.html#returning-a-view-versus-a-copy\n",
      "  super(GeoDataFrame, self).__setitem__(key, value)\n"
     ]
    },
    {
     "name": "stdout",
     "output_type": "stream",
     "text": [
      "2020-10-16 01:01:42, INFO: Applying Year 2015 Modify HOV Lanes and USE on I-80 EB from Bay Bridge to Carquinez Bridge Toll Plaza\n",
      "2020-10-16 01:01:42, INFO: Applying Year 2015 Modify HOV Lanes and USE on I-80 EB from Bay Bridge to Carquinez Bridge Toll Plaza\n",
      "2020-10-16 01:01:42, INFO: Applying Year 2015 Modify HOV Lanes and USE on I-80 EB from Bay Bridge to Carquinez Bridge Toll Plaza\n",
      "2020-10-16 01:01:42, INFO: Applying Year 2015 Modify HOV Lanes and USE on I-80 EB from Bay Bridge to Carquinez Bridge Toll Plaza\n",
      "2020-10-16 01:01:42, INFO: Applying Project to Roadway Network: Year 2015 Modify HOV Lanes and USE on I-80 EB from Bay Bridge to Carquinez Bridge Toll Plaza\n",
      "2020-10-16 01:01:42, INFO: Applying Project to Roadway Network: Year 2015 Modify HOV Lanes and USE on I-80 EB from Bay Bridge to Carquinez Bridge Toll Plaza\n"
     ]
    },
    {
     "name": "stderr",
     "output_type": "stream",
     "text": [
      "C:\\Users\\USGS667806\\Miniconda3\\envs\\wrangler_env\\lib\\site-packages\\geopandas\\geodataframe.py:853: SettingWithCopyWarning: \n",
      "A value is trying to be set on a copy of a slice from a DataFrame.\n",
      "Try using .loc[row_indexer,col_indexer] = value instead\n",
      "\n",
      "See the caveats in the documentation: https://pandas.pydata.org/pandas-docs/stable/user_guide/indexing.html#returning-a-view-versus-a-copy\n",
      "  super(GeoDataFrame, self).__setitem__(key, value)\n"
     ]
    },
    {
     "name": "stdout",
     "output_type": "stream",
     "text": [
      "2020-10-16 01:01:43, INFO: Applying Year 2015 Modify HOV Lanes and USE on I-80 EB from I-680 to Fairfield\n",
      "2020-10-16 01:01:43, INFO: Applying Year 2015 Modify HOV Lanes and USE on I-80 EB from I-680 to Fairfield\n",
      "2020-10-16 01:01:43, INFO: Applying Year 2015 Modify HOV Lanes and USE on I-80 EB from I-680 to Fairfield\n",
      "2020-10-16 01:01:43, INFO: Applying Year 2015 Modify HOV Lanes and USE on I-80 EB from I-680 to Fairfield\n",
      "2020-10-16 01:01:43, INFO: Applying Project to Roadway Network: Year 2015 Modify HOV Lanes and USE on I-80 EB from I-680 to Fairfield\n",
      "2020-10-16 01:01:43, INFO: Applying Project to Roadway Network: Year 2015 Modify HOV Lanes and USE on I-80 EB from I-680 to Fairfield\n"
     ]
    },
    {
     "name": "stderr",
     "output_type": "stream",
     "text": [
      "C:\\Users\\USGS667806\\Miniconda3\\envs\\wrangler_env\\lib\\site-packages\\geopandas\\geodataframe.py:853: SettingWithCopyWarning: \n",
      "A value is trying to be set on a copy of a slice from a DataFrame.\n",
      "Try using .loc[row_indexer,col_indexer] = value instead\n",
      "\n",
      "See the caveats in the documentation: https://pandas.pydata.org/pandas-docs/stable/user_guide/indexing.html#returning-a-view-versus-a-copy\n",
      "  super(GeoDataFrame, self).__setitem__(key, value)\n"
     ]
    },
    {
     "name": "stdout",
     "output_type": "stream",
     "text": [
      "2020-10-16 01:01:43, INFO: Applying Year 2015 Modify HOV Lanes and USE on I-80 WB from Carquinez Bridge to Bay Bridge Toll Plaza\n",
      "2020-10-16 01:01:43, INFO: Applying Year 2015 Modify HOV Lanes and USE on I-80 WB from Carquinez Bridge to Bay Bridge Toll Plaza\n",
      "2020-10-16 01:01:43, INFO: Applying Year 2015 Modify HOV Lanes and USE on I-80 WB from Carquinez Bridge to Bay Bridge Toll Plaza\n",
      "2020-10-16 01:01:43, INFO: Applying Year 2015 Modify HOV Lanes and USE on I-80 WB from Carquinez Bridge to Bay Bridge Toll Plaza\n",
      "2020-10-16 01:01:43, INFO: Applying Project to Roadway Network: Year 2015 Modify HOV Lanes and USE on I-80 WB from Carquinez Bridge to Bay Bridge Toll Plaza\n",
      "2020-10-16 01:01:43, INFO: Applying Project to Roadway Network: Year 2015 Modify HOV Lanes and USE on I-80 WB from Carquinez Bridge to Bay Bridge Toll Plaza\n"
     ]
    },
    {
     "name": "stderr",
     "output_type": "stream",
     "text": [
      "C:\\Users\\USGS667806\\Miniconda3\\envs\\wrangler_env\\lib\\site-packages\\geopandas\\geodataframe.py:853: SettingWithCopyWarning: \n",
      "A value is trying to be set on a copy of a slice from a DataFrame.\n",
      "Try using .loc[row_indexer,col_indexer] = value instead\n",
      "\n",
      "See the caveats in the documentation: https://pandas.pydata.org/pandas-docs/stable/user_guide/indexing.html#returning-a-view-versus-a-copy\n",
      "  super(GeoDataFrame, self).__setitem__(key, value)\n"
     ]
    },
    {
     "name": "stdout",
     "output_type": "stream",
     "text": [
      "2020-10-16 01:01:43, INFO: Applying Year 2015 Modify HOV Lanes and USE on I-80 WB from Fairfield to I-680\n",
      "2020-10-16 01:01:43, INFO: Applying Year 2015 Modify HOV Lanes and USE on I-80 WB from Fairfield to I-680\n",
      "2020-10-16 01:01:43, INFO: Applying Year 2015 Modify HOV Lanes and USE on I-80 WB from Fairfield to I-680\n",
      "2020-10-16 01:01:43, INFO: Applying Year 2015 Modify HOV Lanes and USE on I-80 WB from Fairfield to I-680\n",
      "2020-10-16 01:01:43, INFO: Applying Project to Roadway Network: Year 2015 Modify HOV Lanes and USE on I-80 WB from Fairfield to I-680\n",
      "2020-10-16 01:01:43, INFO: Applying Project to Roadway Network: Year 2015 Modify HOV Lanes and USE on I-80 WB from Fairfield to I-680\n"
     ]
    },
    {
     "name": "stderr",
     "output_type": "stream",
     "text": [
      "C:\\Users\\USGS667806\\Miniconda3\\envs\\wrangler_env\\lib\\site-packages\\geopandas\\geodataframe.py:853: SettingWithCopyWarning: \n",
      "A value is trying to be set on a copy of a slice from a DataFrame.\n",
      "Try using .loc[row_indexer,col_indexer] = value instead\n",
      "\n",
      "See the caveats in the documentation: https://pandas.pydata.org/pandas-docs/stable/user_guide/indexing.html#returning-a-view-versus-a-copy\n",
      "  super(GeoDataFrame, self).__setitem__(key, value)\n"
     ]
    },
    {
     "name": "stdout",
     "output_type": "stream",
     "text": [
      "2020-10-16 01:01:44, INFO: Applying Year 2015 Modify HOV Lanes and USE on I-80 WB I-80 to Bay Bridge Toll Plaza\n",
      "2020-10-16 01:01:44, INFO: Applying Year 2015 Modify HOV Lanes and USE on I-80 WB I-80 to Bay Bridge Toll Plaza\n",
      "2020-10-16 01:01:44, INFO: Applying Year 2015 Modify HOV Lanes and USE on I-80 WB I-80 to Bay Bridge Toll Plaza\n",
      "2020-10-16 01:01:44, INFO: Applying Year 2015 Modify HOV Lanes and USE on I-80 WB I-80 to Bay Bridge Toll Plaza\n",
      "2020-10-16 01:01:44, INFO: Applying Project to Roadway Network: Year 2015 Modify HOV Lanes and USE on I-80 WB I-80 to Bay Bridge Toll Plaza\n",
      "2020-10-16 01:01:44, INFO: Applying Project to Roadway Network: Year 2015 Modify HOV Lanes and USE on I-80 WB I-80 to Bay Bridge Toll Plaza\n"
     ]
    },
    {
     "name": "stderr",
     "output_type": "stream",
     "text": [
      "C:\\Users\\USGS667806\\Miniconda3\\envs\\wrangler_env\\lib\\site-packages\\geopandas\\geodataframe.py:853: SettingWithCopyWarning: \n",
      "A value is trying to be set on a copy of a slice from a DataFrame.\n",
      "Try using .loc[row_indexer,col_indexer] = value instead\n",
      "\n",
      "See the caveats in the documentation: https://pandas.pydata.org/pandas-docs/stable/user_guide/indexing.html#returning-a-view-versus-a-copy\n",
      "  super(GeoDataFrame, self).__setitem__(key, value)\n"
     ]
    },
    {
     "name": "stdout",
     "output_type": "stream",
     "text": [
      "2020-10-16 01:01:44, INFO: Applying Year 2015 Modify HOV Lanes and USE on I-880 NB from Dixon Road to I-238\n",
      "2020-10-16 01:01:44, INFO: Applying Year 2015 Modify HOV Lanes and USE on I-880 NB from Dixon Road to I-238\n",
      "2020-10-16 01:01:44, INFO: Applying Year 2015 Modify HOV Lanes and USE on I-880 NB from Dixon Road to I-238\n",
      "2020-10-16 01:01:44, INFO: Applying Year 2015 Modify HOV Lanes and USE on I-880 NB from Dixon Road to I-238\n",
      "2020-10-16 01:01:44, INFO: Applying Project to Roadway Network: Year 2015 Modify HOV Lanes and USE on I-880 NB from Dixon Road to I-238\n",
      "2020-10-16 01:01:44, INFO: Applying Project to Roadway Network: Year 2015 Modify HOV Lanes and USE on I-880 NB from Dixon Road to I-238\n"
     ]
    },
    {
     "name": "stderr",
     "output_type": "stream",
     "text": [
      "C:\\Users\\USGS667806\\Miniconda3\\envs\\wrangler_env\\lib\\site-packages\\geopandas\\geodataframe.py:853: SettingWithCopyWarning: \n",
      "A value is trying to be set on a copy of a slice from a DataFrame.\n",
      "Try using .loc[row_indexer,col_indexer] = value instead\n",
      "\n",
      "See the caveats in the documentation: https://pandas.pydata.org/pandas-docs/stable/user_guide/indexing.html#returning-a-view-versus-a-copy\n",
      "  super(GeoDataFrame, self).__setitem__(key, value)\n"
     ]
    },
    {
     "name": "stdout",
     "output_type": "stream",
     "text": [
      "2020-10-16 01:01:44, INFO: Applying Year 2015 Modify HOV lanes and USE on I-880 NB US 101 to CA-237\n",
      "2020-10-16 01:01:44, INFO: Applying Year 2015 Modify HOV lanes and USE on I-880 NB US 101 to CA-237\n",
      "2020-10-16 01:01:44, INFO: Applying Year 2015 Modify HOV lanes and USE on I-880 NB US 101 to CA-237\n",
      "2020-10-16 01:01:44, INFO: Applying Year 2015 Modify HOV lanes and USE on I-880 NB US 101 to CA-237\n",
      "2020-10-16 01:01:44, INFO: Applying Project to Roadway Network: Year 2015 Modify HOV lanes and USE on I-880 NB US 101 to CA-237\n",
      "2020-10-16 01:01:44, INFO: Applying Project to Roadway Network: Year 2015 Modify HOV lanes and USE on I-880 NB US 101 to CA-237\n"
     ]
    },
    {
     "name": "stderr",
     "output_type": "stream",
     "text": [
      "C:\\Users\\USGS667806\\Miniconda3\\envs\\wrangler_env\\lib\\site-packages\\geopandas\\geodataframe.py:853: SettingWithCopyWarning: \n",
      "A value is trying to be set on a copy of a slice from a DataFrame.\n",
      "Try using .loc[row_indexer,col_indexer] = value instead\n",
      "\n",
      "See the caveats in the documentation: https://pandas.pydata.org/pandas-docs/stable/user_guide/indexing.html#returning-a-view-versus-a-copy\n",
      "  super(GeoDataFrame, self).__setitem__(key, value)\n"
     ]
    },
    {
     "name": "stdout",
     "output_type": "stream",
     "text": [
      "2020-10-16 01:01:45, INFO: Applying Year 2015 Modify HOV Lanes and USE on I-880 SB CA-237 to US 101\n",
      "2020-10-16 01:01:45, INFO: Applying Year 2015 Modify HOV Lanes and USE on I-880 SB CA-237 to US 101\n",
      "2020-10-16 01:01:45, INFO: Applying Year 2015 Modify HOV Lanes and USE on I-880 SB CA-237 to US 101\n"
     ]
    },
    {
     "name": "stderr",
     "output_type": "stream",
     "text": [
      "C:\\Users\\USGS667806\\Miniconda3\\envs\\wrangler_env\\lib\\site-packages\\geopandas\\geodataframe.py:853: SettingWithCopyWarning: \n",
      "A value is trying to be set on a copy of a slice from a DataFrame.\n",
      "Try using .loc[row_indexer,col_indexer] = value instead\n",
      "\n",
      "See the caveats in the documentation: https://pandas.pydata.org/pandas-docs/stable/user_guide/indexing.html#returning-a-view-versus-a-copy\n",
      "  super(GeoDataFrame, self).__setitem__(key, value)\n"
     ]
    },
    {
     "name": "stdout",
     "output_type": "stream",
     "text": [
      "2020-10-16 01:01:45, INFO: Applying Year 2015 Modify HOV Lanes and USE on I-880 SB CA-237 to US 101\n",
      "2020-10-16 01:01:45, INFO: Applying Project to Roadway Network: Year 2015 Modify HOV Lanes and USE on I-880 SB CA-237 to US 101\n",
      "2020-10-16 01:01:45, INFO: Applying Project to Roadway Network: Year 2015 Modify HOV Lanes and USE on I-880 SB CA-237 to US 101\n",
      "2020-10-16 01:01:45, INFO: Applying Year 2015 Modify HOV Lanes and USE on I-880 SB from Hegenberger Road to Dixon Road\n",
      "2020-10-16 01:01:45, INFO: Applying Year 2015 Modify HOV Lanes and USE on I-880 SB from Hegenberger Road to Dixon Road\n",
      "2020-10-16 01:01:45, INFO: Applying Year 2015 Modify HOV Lanes and USE on I-880 SB from Hegenberger Road to Dixon Road\n",
      "2020-10-16 01:01:45, INFO: Applying Year 2015 Modify HOV Lanes and USE on I-880 SB from Hegenberger Road to Dixon Road\n",
      "2020-10-16 01:01:45, INFO: Applying Project to Roadway Network: Year 2015 Modify HOV Lanes and USE on I-880 SB from Hegenberger Road to Dixon Road\n",
      "2020-10-16 01:01:45, INFO: Applying Project to Roadway Network: Year 2015 Modify HOV Lanes and USE on I-880 SB from Hegenberger Road to Dixon Road\n"
     ]
    },
    {
     "name": "stderr",
     "output_type": "stream",
     "text": [
      "C:\\Users\\USGS667806\\Miniconda3\\envs\\wrangler_env\\lib\\site-packages\\geopandas\\geodataframe.py:853: SettingWithCopyWarning: \n",
      "A value is trying to be set on a copy of a slice from a DataFrame.\n",
      "Try using .loc[row_indexer,col_indexer] = value instead\n",
      "\n",
      "See the caveats in the documentation: https://pandas.pydata.org/pandas-docs/stable/user_guide/indexing.html#returning-a-view-versus-a-copy\n",
      "  super(GeoDataFrame, self).__setitem__(key, value)\n"
     ]
    },
    {
     "name": "stdout",
     "output_type": "stream",
     "text": [
      "2020-10-16 01:01:46, INFO: Applying Year 2015 Modify HOV Lanes and USE on Lawrence Expressway NB I-280 to US 101\n",
      "2020-10-16 01:01:46, INFO: Applying Year 2015 Modify HOV Lanes and USE on Lawrence Expressway NB I-280 to US 101\n",
      "2020-10-16 01:01:46, INFO: Applying Year 2015 Modify HOV Lanes and USE on Lawrence Expressway NB I-280 to US 101\n",
      "2020-10-16 01:01:46, INFO: Applying Year 2015 Modify HOV Lanes and USE on Lawrence Expressway NB I-280 to US 101\n",
      "2020-10-16 01:01:46, INFO: Applying Project to Roadway Network: Year 2015 Modify HOV Lanes and USE on Lawrence Expressway NB I-280 to US 101\n",
      "2020-10-16 01:01:46, INFO: Applying Project to Roadway Network: Year 2015 Modify HOV Lanes and USE on Lawrence Expressway NB I-280 to US 101\n"
     ]
    },
    {
     "name": "stderr",
     "output_type": "stream",
     "text": [
      "C:\\Users\\USGS667806\\Miniconda3\\envs\\wrangler_env\\lib\\site-packages\\geopandas\\geodataframe.py:853: SettingWithCopyWarning: \n",
      "A value is trying to be set on a copy of a slice from a DataFrame.\n",
      "Try using .loc[row_indexer,col_indexer] = value instead\n",
      "\n",
      "See the caveats in the documentation: https://pandas.pydata.org/pandas-docs/stable/user_guide/indexing.html#returning-a-view-versus-a-copy\n",
      "  super(GeoDataFrame, self).__setitem__(key, value)\n"
     ]
    },
    {
     "name": "stdout",
     "output_type": "stream",
     "text": [
      "2020-10-16 01:01:46, INFO: Applying Year 2015 Modify HOV Lanes and USE on Lawrence Expressway SB US 101 to I-280\n",
      "2020-10-16 01:01:46, INFO: Applying Year 2015 Modify HOV Lanes and USE on Lawrence Expressway SB US 101 to I-280\n",
      "2020-10-16 01:01:46, INFO: Applying Year 2015 Modify HOV Lanes and USE on Lawrence Expressway SB US 101 to I-280\n",
      "2020-10-16 01:01:46, INFO: Applying Year 2015 Modify HOV Lanes and USE on Lawrence Expressway SB US 101 to I-280\n",
      "2020-10-16 01:01:46, INFO: Applying Project to Roadway Network: Year 2015 Modify HOV Lanes and USE on Lawrence Expressway SB US 101 to I-280\n",
      "2020-10-16 01:01:46, INFO: Applying Project to Roadway Network: Year 2015 Modify HOV Lanes and USE on Lawrence Expressway SB US 101 to I-280\n"
     ]
    },
    {
     "name": "stderr",
     "output_type": "stream",
     "text": [
      "C:\\Users\\USGS667806\\Miniconda3\\envs\\wrangler_env\\lib\\site-packages\\geopandas\\geodataframe.py:853: SettingWithCopyWarning: \n",
      "A value is trying to be set on a copy of a slice from a DataFrame.\n",
      "Try using .loc[row_indexer,col_indexer] = value instead\n",
      "\n",
      "See the caveats in the documentation: https://pandas.pydata.org/pandas-docs/stable/user_guide/indexing.html#returning-a-view-versus-a-copy\n",
      "  super(GeoDataFrame, self).__setitem__(key, value)\n"
     ]
    },
    {
     "name": "stdout",
     "output_type": "stream",
     "text": [
      "2020-10-16 01:01:47, INFO: Applying Year 2015 Modify HOV Lanes and USE on San Tomas Expressway NB Hwy 17 to I-880\n",
      "2020-10-16 01:01:47, INFO: Applying Year 2015 Modify HOV Lanes and USE on San Tomas Expressway NB Hwy 17 to I-880\n",
      "2020-10-16 01:01:47, INFO: Applying Year 2015 Modify HOV Lanes and USE on San Tomas Expressway NB Hwy 17 to I-880\n",
      "2020-10-16 01:01:47, INFO: Applying Year 2015 Modify HOV Lanes and USE on San Tomas Expressway NB Hwy 17 to I-880\n",
      "2020-10-16 01:01:47, INFO: Applying Project to Roadway Network: Year 2015 Modify HOV Lanes and USE on San Tomas Expressway NB Hwy 17 to I-880\n",
      "2020-10-16 01:01:47, INFO: Applying Project to Roadway Network: Year 2015 Modify HOV Lanes and USE on San Tomas Expressway NB Hwy 17 to I-880\n"
     ]
    },
    {
     "name": "stderr",
     "output_type": "stream",
     "text": [
      "C:\\Users\\USGS667806\\Miniconda3\\envs\\wrangler_env\\lib\\site-packages\\geopandas\\geodataframe.py:853: SettingWithCopyWarning: \n",
      "A value is trying to be set on a copy of a slice from a DataFrame.\n",
      "Try using .loc[row_indexer,col_indexer] = value instead\n",
      "\n",
      "See the caveats in the documentation: https://pandas.pydata.org/pandas-docs/stable/user_guide/indexing.html#returning-a-view-versus-a-copy\n",
      "  super(GeoDataFrame, self).__setitem__(key, value)\n"
     ]
    },
    {
     "name": "stdout",
     "output_type": "stream",
     "text": [
      "2020-10-16 01:01:48, INFO: Applying Year 2015 Modify HOV Lanes and USE on San Tomas Expressway SB I-880 to Hwy 17\n",
      "2020-10-16 01:01:48, INFO: Applying Year 2015 Modify HOV Lanes and USE on San Tomas Expressway SB I-880 to Hwy 17\n",
      "2020-10-16 01:01:48, INFO: Applying Year 2015 Modify HOV Lanes and USE on San Tomas Expressway SB I-880 to Hwy 17\n",
      "2020-10-16 01:01:48, INFO: Applying Year 2015 Modify HOV Lanes and USE on San Tomas Expressway SB I-880 to Hwy 17\n",
      "2020-10-16 01:01:48, INFO: Applying Project to Roadway Network: Year 2015 Modify HOV Lanes and USE on San Tomas Expressway SB I-880 to Hwy 17\n",
      "2020-10-16 01:01:48, INFO: Applying Project to Roadway Network: Year 2015 Modify HOV Lanes and USE on San Tomas Expressway SB I-880 to Hwy 17\n"
     ]
    },
    {
     "name": "stderr",
     "output_type": "stream",
     "text": [
      "C:\\Users\\USGS667806\\Miniconda3\\envs\\wrangler_env\\lib\\site-packages\\geopandas\\geodataframe.py:853: SettingWithCopyWarning: \n",
      "A value is trying to be set on a copy of a slice from a DataFrame.\n",
      "Try using .loc[row_indexer,col_indexer] = value instead\n",
      "\n",
      "See the caveats in the documentation: https://pandas.pydata.org/pandas-docs/stable/user_guide/indexing.html#returning-a-view-versus-a-copy\n",
      "  super(GeoDataFrame, self).__setitem__(key, value)\n"
     ]
    },
    {
     "name": "stdout",
     "output_type": "stream",
     "text": [
      "2020-10-16 01:01:48, INFO: Applying Year 2015 Modify HOV Lanes and USE on US 101 NB Cochran Road to CA-85\n",
      "2020-10-16 01:01:48, INFO: Applying Year 2015 Modify HOV Lanes and USE on US 101 NB Cochran Road to CA-85\n",
      "2020-10-16 01:01:48, INFO: Applying Year 2015 Modify HOV Lanes and USE on US 101 NB Cochran Road to CA-85\n",
      "2020-10-16 01:01:48, INFO: Applying Year 2015 Modify HOV Lanes and USE on US 101 NB Cochran Road to CA-85\n",
      "2020-10-16 01:01:48, INFO: Applying Project to Roadway Network: Year 2015 Modify HOV Lanes and USE on US 101 NB Cochran Road to CA-85\n",
      "2020-10-16 01:01:48, INFO: Applying Project to Roadway Network: Year 2015 Modify HOV Lanes and USE on US 101 NB Cochran Road to CA-85\n"
     ]
    },
    {
     "name": "stderr",
     "output_type": "stream",
     "text": [
      "C:\\Users\\USGS667806\\Miniconda3\\envs\\wrangler_env\\lib\\site-packages\\geopandas\\geodataframe.py:853: SettingWithCopyWarning: \n",
      "A value is trying to be set on a copy of a slice from a DataFrame.\n",
      "Try using .loc[row_indexer,col_indexer] = value instead\n",
      "\n",
      "See the caveats in the documentation: https://pandas.pydata.org/pandas-docs/stable/user_guide/indexing.html#returning-a-view-versus-a-copy\n",
      "  super(GeoDataFrame, self).__setitem__(key, value)\n"
     ]
    },
    {
     "name": "stdout",
     "output_type": "stream",
     "text": [
      "2020-10-16 01:01:49, INFO: Applying Year 2015 Modify HOV Lanes and USE on US-101 NB from North of Petaluma to South of Healdsburg\n"
     ]
    },
    {
     "name": "stderr",
     "output_type": "stream",
     "text": [
      "C:\\Users\\USGS667806\\Miniconda3\\envs\\wrangler_env\\lib\\site-packages\\geopandas\\geodataframe.py:853: SettingWithCopyWarning: \n",
      "A value is trying to be set on a copy of a slice from a DataFrame.\n",
      "Try using .loc[row_indexer,col_indexer] = value instead\n",
      "\n",
      "See the caveats in the documentation: https://pandas.pydata.org/pandas-docs/stable/user_guide/indexing.html#returning-a-view-versus-a-copy\n",
      "  super(GeoDataFrame, self).__setitem__(key, value)\n"
     ]
    },
    {
     "name": "stdout",
     "output_type": "stream",
     "text": [
      "2020-10-16 01:01:49, INFO: Applying Year 2015 Modify HOV Lanes and USE on US-101 NB from North of Petaluma to South of Healdsburg\n",
      "2020-10-16 01:01:49, INFO: Applying Year 2015 Modify HOV Lanes and USE on US-101 NB from North of Petaluma to South of Healdsburg\n",
      "2020-10-16 01:01:49, INFO: Applying Year 2015 Modify HOV Lanes and USE on US-101 NB from North of Petaluma to South of Healdsburg\n",
      "2020-10-16 01:01:49, INFO: Applying Project to Roadway Network: Year 2015 Modify HOV Lanes and USE on US-101 NB from North of Petaluma to South of Healdsburg\n",
      "2020-10-16 01:01:49, INFO: Applying Project to Roadway Network: Year 2015 Modify HOV Lanes and USE on US-101 NB from North of Petaluma to South of Healdsburg\n",
      "2020-10-16 01:01:50, INFO: Applying Year 2015 Modify HOV Lanes and USE on US 101 NB Oregon Expressway to Whipple Road\n",
      "2020-10-16 01:01:50, INFO: Applying Year 2015 Modify HOV Lanes and USE on US 101 NB Oregon Expressway to Whipple Road\n",
      "2020-10-16 01:01:50, INFO: Applying Year 2015 Modify HOV Lanes and USE on US 101 NB Oregon Expressway to Whipple Road\n",
      "2020-10-16 01:01:50, INFO: Applying Year 2015 Modify HOV Lanes and USE on US 101 NB Oregon Expressway to Whipple Road\n",
      "2020-10-16 01:01:50, INFO: Applying Project to Roadway Network: Year 2015 Modify HOV Lanes and USE on US 101 NB Oregon Expressway to Whipple Road\n",
      "2020-10-16 01:01:50, INFO: Applying Project to Roadway Network: Year 2015 Modify HOV Lanes and USE on US 101 NB Oregon Expressway to Whipple Road\n"
     ]
    },
    {
     "name": "stderr",
     "output_type": "stream",
     "text": [
      "C:\\Users\\USGS667806\\Miniconda3\\envs\\wrangler_env\\lib\\site-packages\\geopandas\\geodataframe.py:853: SettingWithCopyWarning: \n",
      "A value is trying to be set on a copy of a slice from a DataFrame.\n",
      "Try using .loc[row_indexer,col_indexer] = value instead\n",
      "\n",
      "See the caveats in the documentation: https://pandas.pydata.org/pandas-docs/stable/user_guide/indexing.html#returning-a-view-versus-a-copy\n",
      "  super(GeoDataFrame, self).__setitem__(key, value)\n"
     ]
    },
    {
     "name": "stdout",
     "output_type": "stream",
     "text": [
      "2020-10-16 01:01:50, INFO: Applying Year 2015 Modify HOV Lanes and USE on US-101 NB from North of Petaluma to South of Healdsburg\n",
      "2020-10-16 01:01:50, INFO: Applying Year 2015 Modify HOV Lanes and USE on US-101 NB from North of Petaluma to South of Healdsburg\n",
      "2020-10-16 01:01:50, INFO: Applying Year 2015 Modify HOV Lanes and USE on US-101 NB from North of Petaluma to South of Healdsburg\n",
      "2020-10-16 01:01:50, INFO: Applying Year 2015 Modify HOV Lanes and USE on US-101 NB from North of Petaluma to South of Healdsburg\n",
      "2020-10-16 01:01:50, INFO: Applying Project to Roadway Network: Year 2015 Modify HOV Lanes and USE on US-101 NB from North of Petaluma to South of Healdsburg\n",
      "2020-10-16 01:01:50, INFO: Applying Project to Roadway Network: Year 2015 Modify HOV Lanes and USE on US-101 NB from North of Petaluma to South of Healdsburg\n"
     ]
    },
    {
     "name": "stderr",
     "output_type": "stream",
     "text": [
      "C:\\Users\\USGS667806\\Miniconda3\\envs\\wrangler_env\\lib\\site-packages\\geopandas\\geodataframe.py:853: SettingWithCopyWarning: \n",
      "A value is trying to be set on a copy of a slice from a DataFrame.\n",
      "Try using .loc[row_indexer,col_indexer] = value instead\n",
      "\n",
      "See the caveats in the documentation: https://pandas.pydata.org/pandas-docs/stable/user_guide/indexing.html#returning-a-view-versus-a-copy\n",
      "  super(GeoDataFrame, self).__setitem__(key, value)\n"
     ]
    },
    {
     "name": "stdout",
     "output_type": "stream",
     "text": [
      "2020-10-16 01:01:50, INFO: Applying Year 2015 Modify HOV Lanes and USE on US 101 SB CA-85 to Cochrane Road\n",
      "2020-10-16 01:01:50, INFO: Applying Year 2015 Modify HOV Lanes and USE on US 101 SB CA-85 to Cochrane Road\n",
      "2020-10-16 01:01:50, INFO: Applying Year 2015 Modify HOV Lanes and USE on US 101 SB CA-85 to Cochrane Road\n",
      "2020-10-16 01:01:50, INFO: Applying Year 2015 Modify HOV Lanes and USE on US 101 SB CA-85 to Cochrane Road\n",
      "2020-10-16 01:01:50, INFO: Applying Project to Roadway Network: Year 2015 Modify HOV Lanes and USE on US 101 SB CA-85 to Cochrane Road\n",
      "2020-10-16 01:01:50, INFO: Applying Project to Roadway Network: Year 2015 Modify HOV Lanes and USE on US 101 SB CA-85 to Cochrane Road\n"
     ]
    },
    {
     "name": "stderr",
     "output_type": "stream",
     "text": [
      "C:\\Users\\USGS667806\\Miniconda3\\envs\\wrangler_env\\lib\\site-packages\\geopandas\\geodataframe.py:853: SettingWithCopyWarning: \n",
      "A value is trying to be set on a copy of a slice from a DataFrame.\n",
      "Try using .loc[row_indexer,col_indexer] = value instead\n",
      "\n",
      "See the caveats in the documentation: https://pandas.pydata.org/pandas-docs/stable/user_guide/indexing.html#returning-a-view-versus-a-copy\n",
      "  super(GeoDataFrame, self).__setitem__(key, value)\n"
     ]
    },
    {
     "name": "stdout",
     "output_type": "stream",
     "text": [
      "2020-10-16 01:01:52, INFO: Applying Year 2015 Modify HOV Lanes and USE on US 101 SB CA-85 to Oregon Expressway\n",
      "2020-10-16 01:01:52, INFO: Applying Year 2015 Modify HOV Lanes and USE on US 101 SB CA-85 to Oregon Expressway\n",
      "2020-10-16 01:01:52, INFO: Applying Year 2015 Modify HOV Lanes and USE on US 101 SB CA-85 to Oregon Expressway\n",
      "2020-10-16 01:01:52, INFO: Applying Year 2015 Modify HOV Lanes and USE on US 101 SB CA-85 to Oregon Expressway\n",
      "2020-10-16 01:01:52, INFO: Applying Project to Roadway Network: Year 2015 Modify HOV Lanes and USE on US 101 SB CA-85 to Oregon Expressway\n",
      "2020-10-16 01:01:52, INFO: Applying Project to Roadway Network: Year 2015 Modify HOV Lanes and USE on US 101 SB CA-85 to Oregon Expressway\n"
     ]
    },
    {
     "name": "stderr",
     "output_type": "stream",
     "text": [
      "C:\\Users\\USGS667806\\Miniconda3\\envs\\wrangler_env\\lib\\site-packages\\geopandas\\geodataframe.py:853: SettingWithCopyWarning: \n",
      "A value is trying to be set on a copy of a slice from a DataFrame.\n",
      "Try using .loc[row_indexer,col_indexer] = value instead\n",
      "\n",
      "See the caveats in the documentation: https://pandas.pydata.org/pandas-docs/stable/user_guide/indexing.html#returning-a-view-versus-a-copy\n",
      "  super(GeoDataFrame, self).__setitem__(key, value)\n"
     ]
    },
    {
     "name": "stdout",
     "output_type": "stream",
     "text": [
      "2020-10-16 01:01:52, INFO: Applying Year 2015 Modify USE and HOV Lanes on US-101 SB (Segment 02) from South of Healdsburg to North of Petaluma\n",
      "2020-10-16 01:01:52, INFO: Applying Year 2015 Modify USE and HOV Lanes on US-101 SB (Segment 02) from South of Healdsburg to North of Petaluma\n",
      "2020-10-16 01:01:52, INFO: Applying Year 2015 Modify USE and HOV Lanes on US-101 SB (Segment 02) from South of Healdsburg to North of Petaluma\n",
      "2020-10-16 01:01:52, INFO: Applying Year 2015 Modify USE and HOV Lanes on US-101 SB (Segment 02) from South of Healdsburg to North of Petaluma\n",
      "2020-10-16 01:01:52, INFO: Applying Project to Roadway Network: Year 2015 Modify USE and HOV Lanes on US-101 SB (Segment 02) from South of Healdsburg to North of Petaluma\n",
      "2020-10-16 01:01:52, INFO: Applying Project to Roadway Network: Year 2015 Modify USE and HOV Lanes on US-101 SB (Segment 02) from South of Healdsburg to North of Petaluma\n"
     ]
    },
    {
     "name": "stderr",
     "output_type": "stream",
     "text": [
      "C:\\Users\\USGS667806\\Miniconda3\\envs\\wrangler_env\\lib\\site-packages\\geopandas\\geodataframe.py:853: SettingWithCopyWarning: \n",
      "A value is trying to be set on a copy of a slice from a DataFrame.\n",
      "Try using .loc[row_indexer,col_indexer] = value instead\n",
      "\n",
      "See the caveats in the documentation: https://pandas.pydata.org/pandas-docs/stable/user_guide/indexing.html#returning-a-view-versus-a-copy\n",
      "  super(GeoDataFrame, self).__setitem__(key, value)\n"
     ]
    },
    {
     "name": "stdout",
     "output_type": "stream",
     "text": [
      "2020-10-16 01:01:52, INFO: Applying Year 2015 Modify HOV Lanes and USE on US-101 SB from South of Healdsburg to North of Petaluma\n",
      "2020-10-16 01:01:52, INFO: Applying Year 2015 Modify HOV Lanes and USE on US-101 SB from South of Healdsburg to North of Petaluma\n",
      "2020-10-16 01:01:52, INFO: Applying Year 2015 Modify HOV Lanes and USE on US-101 SB from South of Healdsburg to North of Petaluma\n",
      "2020-10-16 01:01:52, INFO: Applying Year 2015 Modify HOV Lanes and USE on US-101 SB from South of Healdsburg to North of Petaluma\n",
      "2020-10-16 01:01:52, INFO: Applying Project to Roadway Network: Year 2015 Modify HOV Lanes and USE on US-101 SB from South of Healdsburg to North of Petaluma\n",
      "2020-10-16 01:01:52, INFO: Applying Project to Roadway Network: Year 2015 Modify HOV Lanes and USE on US-101 SB from South of Healdsburg to North of Petaluma\n"
     ]
    },
    {
     "name": "stderr",
     "output_type": "stream",
     "text": [
      "C:\\Users\\USGS667806\\Miniconda3\\envs\\wrangler_env\\lib\\site-packages\\geopandas\\geodataframe.py:853: SettingWithCopyWarning: \n",
      "A value is trying to be set on a copy of a slice from a DataFrame.\n",
      "Try using .loc[row_indexer,col_indexer] = value instead\n",
      "\n",
      "See the caveats in the documentation: https://pandas.pydata.org/pandas-docs/stable/user_guide/indexing.html#returning-a-view-versus-a-copy\n",
      "  super(GeoDataFrame, self).__setitem__(key, value)\n",
      "C:\\Users\\USGS667806\\Miniconda3\\envs\\wrangler_env\\lib\\site-packages\\geopandas\\geodataframe.py:853: SettingWithCopyWarning: \n",
      "A value is trying to be set on a copy of a slice from a DataFrame.\n",
      "Try using .loc[row_indexer,col_indexer] = value instead\n",
      "\n",
      "See the caveats in the documentation: https://pandas.pydata.org/pandas-docs/stable/user_guide/indexing.html#returning-a-view-versus-a-copy\n",
      "  super(GeoDataFrame, self).__setitem__(key, value)\n"
     ]
    }
   ],
   "source": [
    "for project_card in project_card_list:\n",
    "    v_01_scenario.apply_project(project_card)"
   ]
  },
  {
   "cell_type": "code",
   "execution_count": 15,
   "metadata": {},
   "outputs": [
    {
     "data": {
      "text/plain": [
       "['Year 2015 Modify HOV Lanes and USE on CA-237 EB US 101 to North 1st Street',\n",
       " 'Year 2015 Modify HOV Lanes and USE on CA-237 WB North 1st Street to US 101',\n",
       " 'Year 2015 Modify HOV Lanes and USE on CA-280 NB Bascom Ave to Magdalena Ave',\n",
       " 'Year 2015 Modify HOV Lanes and USE on CA-280 SB Magdalena Ave to Southwest Expressway',\n",
       " 'Year 2015 Modify HOV Lanes and USE on CA-84 WB I-880 to Dumbarton Bridge Toll Plaza',\n",
       " 'Year 2015 Modify HOV Lanes and USE on CA-85 NB US101 to US101',\n",
       " 'Year 2015 Modify HOV Lanes and USE on CA-85 SB US101 to US101',\n",
       " 'Year 2015 Modify HOV Lanes and USE on CA 87 NB CA-85 to US 101',\n",
       " 'Year 2015 Modify HOV Lanes and USE on CA-87 SB US 101 to CA-85',\n",
       " 'Year 2015 Modify HOV Lanes and USE on CA-92 WB Eden Landing Rd to San Mateo-Hayward Bridge Toll Plaza',\n",
       " 'Year 2015 Modify HOV Lanes and USE on E Capitol Expressway NB US101 to I-680',\n",
       " 'Year 2015 Modify HOV Lanes and USE on E Capitol Expressway SB I-680 to US 101',\n",
       " 'Year 2015 Modify HOV Lanes and USE on Hwy 4 EB from Port Chicago Highway to Deer Valley Road',\n",
       " 'Year 2015 Modify HOV lanes and USE on Hwy 4 WB from Deer Valley Road to Port Chicago Highway',\n",
       " 'Year 2015 Modify HOV Lanes and USE on I-680 NB from Acosta Blvd to Rudgear Road',\n",
       " 'Year 2015 Modify HOV Lanes USE on I-680 NB CA-242 to Benicia Bridge',\n",
       " 'Year 2015 Modify HOV Lanes and USE on I-680 SB from Benicia Bridge to CA-242',\n",
       " 'Year 2015 Modify HOV Lanes and USE on I-680 SB from Rudgear Road to Acosta Blvd',\n",
       " 'Year 2015 Modify HOV Lanes and USE on I-80 EB from Bay Bridge to Carquinez Bridge Toll Plaza',\n",
       " 'Year 2015 Modify HOV Lanes and USE on I-80 EB from I-680 to Fairfield',\n",
       " 'Year 2015 Modify HOV Lanes and USE on I-80 WB from Carquinez Bridge to Bay Bridge Toll Plaza',\n",
       " 'Year 2015 Modify HOV Lanes and USE on I-80 WB from Fairfield to I-680',\n",
       " 'Year 2015 Modify HOV Lanes and USE on I-80 WB I-80 to Bay Bridge Toll Plaza',\n",
       " 'Year 2015 Modify HOV Lanes and USE on I-880 NB from Dixon Road to I-238',\n",
       " 'Year 2015 Modify HOV lanes and USE on I-880 NB US 101 to CA-237',\n",
       " 'Year 2015 Modify HOV Lanes and USE on I-880 SB CA-237 to US 101',\n",
       " 'Year 2015 Modify HOV Lanes and USE on I-880 SB from Hegenberger Road to Dixon Road',\n",
       " 'Year 2015 Modify HOV Lanes and USE on Lawrence Expressway NB I-280 to US 101',\n",
       " 'Year 2015 Modify HOV Lanes and USE on Lawrence Expressway SB US 101 to I-280',\n",
       " 'Year 2015 Modify HOV Lanes and USE on San Tomas Expressway NB Hwy 17 to I-880',\n",
       " 'Year 2015 Modify HOV Lanes and USE on San Tomas Expressway SB I-880 to Hwy 17',\n",
       " 'Year 2015 Modify HOV Lanes and USE on US 101 NB Cochran Road to CA-85',\n",
       " 'Year 2015 Modify HOV Lanes and USE on US-101 NB from North of Petaluma to South of Healdsburg',\n",
       " 'Year 2015 Modify HOV Lanes and USE on US 101 NB Oregon Expressway to Whipple Road',\n",
       " 'Year 2015 Modify HOV Lanes and USE on US 101 SB CA-85 to Cochrane Road',\n",
       " 'Year 2015 Modify HOV Lanes and USE on US 101 SB CA-85 to Oregon Expressway',\n",
       " 'Year 2015 Modify USE and HOV Lanes on US-101 SB (Segment 02) from South of Healdsburg to North of Petaluma',\n",
       " 'Year 2015 Modify HOV Lanes and USE on US-101 SB from South of Healdsburg to North of Petaluma']"
      ]
     },
     "execution_count": 15,
     "metadata": {},
     "output_type": "execute_result"
    }
   ],
   "source": [
    "v_01_scenario.applied_projects"
   ]
  },
  {
   "cell_type": "code",
   "execution_count": 16,
   "metadata": {
    "scrolled": true
   },
   "outputs": [
    {
     "name": "stdout",
     "output_type": "stream",
     "text": [
      "2020-10-16 01:02:05, INFO: Creating network with duplicated managed lanes\n",
      "2020-10-16 01:02:05, INFO: Creating network with duplicated managed lanes\n"
     ]
    },
    {
     "name": "stderr",
     "output_type": "stream",
     "text": [
      "C:\\Users\\USGS667806\\Miniconda3\\envs\\wrangler_env\\lib\\site-packages\\geopandas\\geodataframe.py:853: SettingWithCopyWarning: \n",
      "A value is trying to be set on a copy of a slice from a DataFrame.\n",
      "Try using .loc[row_indexer,col_indexer] = value instead\n",
      "\n",
      "See the caveats in the documentation: https://pandas.pydata.org/pandas-docs/stable/user_guide/indexing.html#returning-a-view-versus-a-copy\n",
      "  super(GeoDataFrame, self).__setitem__(key, value)\n",
      "C:\\Users\\USGS667806\\Miniconda3\\envs\\wrangler_env\\lib\\site-packages\\geopandas\\geodataframe.py:852: UserWarning: Geometry column does not contain geometry.\n",
      "  warnings.warn(\"Geometry column does not contain geometry.\")\n",
      "C:\\Users\\USGS667806\\Miniconda3\\envs\\wrangler_env\\lib\\site-packages\\pandas\\core\\indexing.py:1745: SettingWithCopyWarning: \n",
      "A value is trying to be set on a copy of a slice from a DataFrame.\n",
      "Try using .loc[row_indexer,col_indexer] = value instead\n",
      "\n",
      "See the caveats in the documentation: https://pandas.pydata.org/pandas-docs/stable/user_guide/indexing.html#returning-a-view-versus-a-copy\n",
      "  isetter(ilocs[0], value)\n"
     ]
    }
   ],
   "source": [
    "v_01_scenario.road_net.create_managed_lane_network(in_place = True) #needs to be called for managed lanes as an explicit command"
   ]
  },
  {
   "cell_type": "code",
   "execution_count": 17,
   "metadata": {
    "scrolled": true
   },
   "outputs": [],
   "source": [
    "roadway_net_filename = os.path.join(output_dir, 'roadway_network_with_projects.pickle')\n",
    "pickle.dump(v_01_scenario.road_net, open(roadway_net_filename, 'wb'))"
   ]
  },
  {
   "cell_type": "code",
   "execution_count": null,
   "metadata": {},
   "outputs": [],
   "source": [
    "v_01_scenario.road_net.write(path = output_dir, filename = 'v02_')"
   ]
  },
  {
   "cell_type": "code",
   "execution_count": null,
   "metadata": {},
   "outputs": [],
   "source": []
  }
 ],
 "metadata": {
  "kernelspec": {
   "display_name": "Python 3",
   "language": "python",
   "name": "python3"
  },
  "language_info": {
   "codemirror_mode": {
    "name": "ipython",
    "version": 3
   },
   "file_extension": ".py",
   "mimetype": "text/x-python",
   "name": "python",
   "nbconvert_exporter": "python",
   "pygments_lexer": "ipython3",
   "version": "3.7.8"
  }
 },
 "nbformat": 4,
 "nbformat_minor": 4
}
