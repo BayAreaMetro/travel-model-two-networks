{
 "cells": [
  {
   "cell_type": "markdown",
   "metadata": {},
   "source": [
    "# Export county boundary polygons for SharedStreets Extraction"
   ]
  },
  {
   "cell_type": "markdown",
   "metadata": {},
   "source": [
    "SharedStreets extraction requires a polygon boundary as input. Running extraction with the entire Bay Area as the boundary will run out of space. This script partitions the region geographically into 14 sub-regions."
   ]
  },
  {
   "cell_type": "code",
   "execution_count": 1,
   "metadata": {},
   "outputs": [],
   "source": [
    "import geopandas as gpd"
   ]
  },
  {
   "cell_type": "code",
   "execution_count": 4,
   "metadata": {},
   "outputs": [
    {
     "name": "stdout",
     "output_type": "stream",
     "text": [
      "County boundary file uses projection: {'init': 'epsg:4269'}\n",
      "Coverted to projection: {'init': 'epsg:4326', 'no_defs': True}\n"
     ]
    }
   ],
   "source": [
    "# polygon boundry\n",
    "county_polys_gdf = gpd.read_file(\"../../data/external/county_boundaries/county_5m - Copy.shp\")\n",
    "\n",
    "print(\"County boundary file uses projection: \" + str(county_polys_gdf.crs))\n",
    "\n",
    "# project to lat-long\n",
    "county_polys_gdf = county_polys_gdf.to_crs(epsg = 4326)\n",
    "boundary = county_polys_gdf.geometry.unary_union\n",
    "\n",
    "print(\"Coverted to projection: \" + str(county_polys_gdf.crs))\n",
    "#boundary = county_polys_gdf.iloc[3].geometry"
   ]
  },
  {
   "cell_type": "code",
   "execution_count": 6,
   "metadata": {},
   "outputs": [
    {
     "name": "stdout",
     "output_type": "stream",
     "text": [
      "Exporting boundry file number: 1\n",
      "Exporting boundry file number: 2\n",
      "Exporting boundry file number: 3\n",
      "Exporting boundry file number: 4\n",
      "Exporting boundry file number: 5\n",
      "Exporting boundry file number: 6\n",
      "Exporting boundry file number: 7\n",
      "Exporting boundry file number: 8\n",
      "Exporting boundry file number: 9\n",
      "Exporting boundry file number: 10\n",
      "Exporting boundry file number: 11\n",
      "Exporting boundry file number: 12\n",
      "Exporting boundry file number: 13\n",
      "Exporting boundry file number: 14\n"
     ]
    }
   ],
   "source": [
    "# export polygon to geojson for shst extraction\n",
    "i = 1\n",
    "for g in county_polys_gdf.geometry:\n",
    "    \n",
    "    print(\"Exporting boundry file number: \" + str(i))\n",
    "    \n",
    "    boundary_gdf = gpd.GeoDataFrame({\"geometry\" : gpd.GeoSeries(g)})\n",
    "\n",
    "    boundary_gdf.to_file(\"../../data/external/county_boundaries/boundary_\" + str(i) + \".geojson\",\n",
    "                        driver = \"GeoJSON\")\n",
    "    i += 1"
   ]
  }
 ],
 "metadata": {
  "kernelspec": {
   "display_name": "Python 3",
   "language": "python",
   "name": "python3"
  },
  "language_info": {
   "codemirror_mode": {
    "name": "ipython",
    "version": 3
   },
   "file_extension": ".py",
   "mimetype": "text/x-python",
   "name": "python",
   "nbconvert_exporter": "python",
   "pygments_lexer": "ipython3",
   "version": "3.8.8"
  }
 },
 "nbformat": 4,
 "nbformat_minor": 2
}
