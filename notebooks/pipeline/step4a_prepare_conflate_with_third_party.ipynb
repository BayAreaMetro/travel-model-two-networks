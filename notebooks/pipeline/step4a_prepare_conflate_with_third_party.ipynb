{
 "cells": [
  {
   "cell_type": "code",
   "execution_count": 1,
   "metadata": {},
   "outputs": [],
   "source": [
    "import pandas as pd\n",
    "import geopandas as gpd\n",
    "import numpy as np\n",
    "import json\n",
    "import requests\n",
    "from urllib.request import urlopen\n",
    "from zipfile import ZipFile\n",
    "from io import BytesIO\n",
    "import fiona\n",
    "from shapely.geometry import Point"
   ]
  },
  {
   "cell_type": "code",
   "execution_count": null,
   "metadata": {},
   "outputs": [],
   "source": [
    "# from methods import read_shst_extract\n",
    "# from methods import link_df_to_geojson\n",
    "# from methods import point_df_to_geojson"
   ]
  },
  {
   "cell_type": "code",
   "execution_count": null,
   "metadata": {},
   "outputs": [],
   "source": [
    "# data_interim_dir = \"../../data/interim/\""
   ]
  },
  {
   "cell_type": "markdown",
   "metadata": {},
   "source": [
    "# Prepare tomtom for conflation"
   ]
  },
  {
   "cell_type": "code",
   "execution_count": 2,
   "metadata": {},
   "outputs": [
    {
     "name": "stdout",
     "output_type": "stream",
     "text": [
      "['mn_sg', 'mn_cf', 'mn_axas', 'mn_axav', 'mn_sm', 'mn_nw', 'mn_jc', 'mn_ln', 'mn_mn', 'mn_pi', 'mn_rf', 'mn_ts', 'mn_2r', 'mn_ig', 'mn_is', 'mn_ld', 'mn_le', 'mn_lf', 'mn_li', 'mn_ll', 'mn_lt', 'mn_rfnm', 'mn_pm', 'mn_lp', 'mn_mp', 'mn_pc', 'mn_rd', 'mn_rn', 'mn_rs', 'mn_td', 'mn_tg', 'mn_tp', 'mn_pcnm', 'mn_si', 'mn_sp', 'mn_sr', 'mn_st', 'mn_tc', 'mn_tl', 'mn_to', 'mn_tt', 'mn_cn', 'mn_isnm', 'mn_jcea']\n"
     ]
    },
    {
     "name": "stderr",
     "output_type": "stream",
     "text": [
      "C:\\ProgramData\\Anaconda3\\lib\\site-packages\\pyproj\\crs\\crs.py:53: FutureWarning: '+init=<authority>:<code>' syntax is deprecated. '<authority>:<code>' is the preferred initialization method. When making the change, be mindful of axis order changes: https://pyproj4.github.io/pyproj/stable/gotchas.html#axis-order-changes-in-proj-6\n",
      "  return _prepare_from_string(\" \".join(pjargs))\n"
     ]
    },
    {
     "name": "stdout",
     "output_type": "stream",
     "text": [
      "+init=epsg:4326 +type=crs\n",
      "Wall time: 2min 56s\n"
     ]
    }
   ],
   "source": [
    "%%time\n",
    "# loading tomtom data source\n",
    "\n",
    "# gdb_file = \"Z:/Data/Users/Sijia/MTC/tomtom/Network_region.gdb\"\n",
    "gdb_file = 'C:/Users/ywang/Box/Modeling and Surveys/Development/Travel Model Two Development/Model Inputs/TomTom networkFGDB/network2019/Network_region.gdb'\n",
    "\n",
    "# Get all the layers from the .gdb file\n",
    "layers = fiona.listlayers(gdb_file)\n",
    "print(layers)\n",
    "\n",
    "# street link layer\n",
    "# tomtom_raw_gdf = gpd.read_file(gdb_file, layer = 'mn_nw_BayArea')\n",
    "tomtom_raw_gdf = gpd.read_file(gdb_file, layer = 'mn_nw')\n",
    "\n",
    "# convert to ESPG lat-lon\n",
    "tomtom_raw_gdf = tomtom_raw_gdf.to_crs({'init': 'epsg:4326'})\n",
    "print(tomtom_raw_gdf.crs)"
   ]
  },
  {
   "cell_type": "code",
   "execution_count": 3,
   "metadata": {},
   "outputs": [
    {
     "name": "stdout",
     "output_type": "stream",
     "text": [
      "<class 'geopandas.geodataframe.GeoDataFrame'>\n",
      "RangeIndex: 959969 entries, 0 to 959968\n",
      "Data columns (total 52 columns):\n",
      " #   Column        Non-Null Count   Dtype   \n",
      "---  ------        --------------   -----   \n",
      " 0   ID            959969 non-null  float64 \n",
      " 1   FEATTYP       959969 non-null  int64   \n",
      " 2   FT            959969 non-null  int64   \n",
      " 3   F_JNCTID      959969 non-null  float64 \n",
      " 4   F_JNCTTYP     959969 non-null  int64   \n",
      " 5   T_JNCTID      959969 non-null  float64 \n",
      " 6   T_JNCTTYP     959969 non-null  int64   \n",
      " 7   PJ            959969 non-null  int64   \n",
      " 8   METERS        959969 non-null  float64 \n",
      " 9   FRC           959969 non-null  int64   \n",
      " 10  NETCLASS      959969 non-null  int64   \n",
      " 11  NETBCLASS     959969 non-null  int64   \n",
      " 12  NET2CLASS     959969 non-null  int64   \n",
      " 13  NAME          959969 non-null  object  \n",
      " 14  NAMELC        959969 non-null  object  \n",
      " 15  SOL           959969 non-null  int64   \n",
      " 16  NAMETYP       959969 non-null  int64   \n",
      " 17  CHARGE        959969 non-null  object  \n",
      " 18  SHIELDNUM     959969 non-null  object  \n",
      " 19  RTETYP        959969 non-null  int64   \n",
      " 20  RTEDIR        959969 non-null  object  \n",
      " 21  RTEDIRVD      959969 non-null  object  \n",
      " 22  PROCSTAT      959969 non-null  int64   \n",
      " 23  FOW           959969 non-null  int64   \n",
      " 24  SLIPRD        959969 non-null  int64   \n",
      " 25  FREEWAY       959969 non-null  int64   \n",
      " 26  BACKRD        959969 non-null  int64   \n",
      " 27  TOLLRD        959969 non-null  int64   \n",
      " 28  RDCOND        959969 non-null  int64   \n",
      " 29  STUBBLE       959969 non-null  int64   \n",
      " 30  PRIVATERD     959969 non-null  int64   \n",
      " 31  CONSTATUS     959969 non-null  object  \n",
      " 32  ONEWAY        959969 non-null  object  \n",
      " 33  F_BP          959969 non-null  int64   \n",
      " 34  T_BP          959969 non-null  int64   \n",
      " 35  F_ELEV        959969 non-null  int64   \n",
      " 36  T_ELEV        959969 non-null  int64   \n",
      " 37  KPH           959969 non-null  int64   \n",
      " 38  MINUTES       959969 non-null  float64 \n",
      " 39  POSACCUR      959969 non-null  int64   \n",
      " 40  CARRIAGE      959969 non-null  object  \n",
      " 41  LANES         959969 non-null  int64   \n",
      " 42  RAMP          959969 non-null  int64   \n",
      " 43  ADA           959969 non-null  int64   \n",
      " 44  TRANS         959969 non-null  int64   \n",
      " 45  DYNSPEED      959969 non-null  int64   \n",
      " 46  SPEEDCAT      959969 non-null  int64   \n",
      " 47  NTHRUTRAF     959969 non-null  int64   \n",
      " 48  ROUGHRD       959969 non-null  int64   \n",
      " 49  PARTSTRUC     959969 non-null  int64   \n",
      " 50  Shape_Length  959969 non-null  float64 \n",
      " 51  geometry      959969 non-null  geometry\n",
      "dtypes: float64(6), geometry(1), int64(36), object(9)\n",
      "memory usage: 380.8+ MB\n"
     ]
    }
   ],
   "source": [
    "tomtom_raw_gdf.info()"
   ]
  },
  {
   "cell_type": "code",
   "execution_count": 4,
   "metadata": {},
   "outputs": [
    {
     "name": "stdout",
     "output_type": "stream",
     "text": [
      "total # tomtom links: 959969\n",
      "unique ID + F + T: 959969\n"
     ]
    }
   ],
   "source": [
    "# There is no existing unique tomtom handle for Bay Area, thus we need to create unique handle\n",
    "\n",
    "print('total # tomtom links: {}'.format(tomtom_raw_gdf.shape[0]))\n",
    "print('unique ID + F + T: {}'.format(len(tomtom_raw_gdf.groupby([\"ID\", \"F_JNCTID\", \"T_JNCTID\"]).count())))\n",
    "\n",
    "# generating unique handle for tomtom\n",
    "tomtom_raw_gdf[\"tomtom_link_id\"] = range(1, len(tomtom_raw_gdf)+1)"
   ]
  },
  {
   "cell_type": "code",
   "execution_count": 44,
   "metadata": {},
   "outputs": [],
   "source": [
    "# Partition tomtom by sub-region boundaries for shst match\n",
    "\n",
    "# for i in range(14):\n",
    "#     boundary_gdf = gpd.read_file(\"../../data/external/county_boundaries/boundary_\"+str(i+1)+\".geojson\")\n",
    "    \n",
    "#     sub_tomtom_gdf = tomtom_raw_gdf[tomtom_raw_gdf.intersects(boundary_gdf.geometry.unary_union)].copy()\n",
    "    \n",
    "#     sub_tomtom_gdf[[\"tomtom_link_id\", \"geometry\"]].to_file(\"../../data/external/tomtom/tomtom\"+str(i+1)+\".in.geojson\",\n",
    "#                                                 driver = \"GeoJSON\")"
   ]
  },
  {
   "cell_type": "code",
   "execution_count": 5,
   "metadata": {},
   "outputs": [],
   "source": [
    "# export modified raw data for merging the conflation results back\n",
    "tomtom_raw_gdf.to_file(\"../../data/external/tomtom/tomtom_raw.geojson\", driver = \"GeoJSON\")"
   ]
  },
  {
   "cell_type": "markdown",
   "metadata": {},
   "source": [
    "# Prepare TM2 for conflation"
   ]
  },
  {
   "cell_type": "code",
   "execution_count": 10,
   "metadata": {},
   "outputs": [
    {
     "name": "stdout",
     "output_type": "stream",
     "text": [
      "+init=epsg:4326 +type=crs\n",
      "Wall time: 41.2 s\n"
     ]
    }
   ],
   "source": [
    "%%time\n",
    "# loading TM2 non Marin version data source\n",
    "# http://bayareametro.github.io/travel-model-two/input/#roadway-network\n",
    "\n",
    "tm2_link_file = \"../../data/external/TM2_nonMarin/mtc_final_network_base.shp\"\n",
    "\n",
    "# street link layer\n",
    "tm2_link_gdf = gpd.read_file(tm2_link_file)\n",
    "\n",
    "# define initial ESPG\n",
    "tm2_link_gdf.crs = {\"init\" : \"esri:102646\"}\n",
    "# if the above throws an \"invalid crs\" error, try the following:\n",
    "# tm2_link_gdf.crs = \"esri:102646\"\n",
    "\n",
    "# convert to ESPG lat-lon\n",
    "tm2_link_gdf = tm2_link_gdf.to_crs({'init': 'epsg:4326'})\n",
    "print(tm2_link_gdf.crs)"
   ]
  },
  {
   "cell_type": "code",
   "execution_count": 11,
   "metadata": {},
   "outputs": [
    {
     "name": "stdout",
     "output_type": "stream",
     "text": [
      "<class 'geopandas.geodataframe.GeoDataFrame'>\n",
      "RangeIndex: 1405145 entries, 0 to 1405144\n",
      "Data columns (total 41 columns):\n",
      " #   Column       Non-Null Count    Dtype   \n",
      "---  ------       --------------    -----   \n",
      " 0   A            1405145 non-null  int64   \n",
      " 1   B            1405145 non-null  int64   \n",
      " 2   NUMLANES     1405145 non-null  int64   \n",
      " 3   F_JNCTID     1405145 non-null  int64   \n",
      " 4   T_JNCTID     1405145 non-null  int64   \n",
      " 5   FRC          1405145 non-null  int64   \n",
      " 6   NAME         741995 non-null   object  \n",
      " 7   FREEWAY      1405145 non-null  int64   \n",
      " 8   TOLLRD       291 non-null      object  \n",
      " 9   ONEWAY       129292 non-null   object  \n",
      " 10  KPH          1405145 non-null  int64   \n",
      " 11  MINUTES      1405145 non-null  float64 \n",
      " 12  CARRIAGE     100 non-null      object  \n",
      " 13  LANES        1405145 non-null  int64   \n",
      " 14  RAMP         1405145 non-null  int64   \n",
      " 15  SPEEDCAT     1405145 non-null  int64   \n",
      " 16  FEET         1405145 non-null  float64 \n",
      " 17  ASSIGNABLE   1405145 non-null  int64   \n",
      " 18  CNTYPE       1405113 non-null  object  \n",
      " 19  TRANSIT      1405145 non-null  int64   \n",
      " 20  HIGHWAYT     223551 non-null   object  \n",
      " 21  B_CLASS      1405145 non-null  int64   \n",
      " 22  GRADE_CAT    1405145 non-null  int64   \n",
      " 23  PED_FLAG     133179 non-null   object  \n",
      " 24  BIKEPEDOK    1405145 non-null  int64   \n",
      " 25  PEMSID       1405145 non-null  int64   \n",
      " 26  PEMSLANES    1405145 non-null  int64   \n",
      " 27  RTEDIR       1717 non-null     object  \n",
      " 28  PEMSDIST     1405145 non-null  float64 \n",
      " 29  REPRIORITIZ  1405145 non-null  int64   \n",
      " 30  TMCLOCREF    1405145 non-null  int64   \n",
      " 31  TAP_DRIVE    1405145 non-null  int64   \n",
      " 32  FT           1405145 non-null  int64   \n",
      " 33  FFS          1405145 non-null  float64 \n",
      " 34  USECLASS     1405145 non-null  int64   \n",
      " 35  TOLLBOOTH    1405145 non-null  int64   \n",
      " 36  DANGLING     1405145 non-null  int64   \n",
      " 37  HASTRANSIT   1405145 non-null  int64   \n",
      " 38  DELETE       1405145 non-null  int64   \n",
      " 39  TOLLSEG      1405145 non-null  int64   \n",
      " 40  geometry     1405145 non-null  geometry\n",
      "dtypes: float64(4), geometry(1), int64(28), object(8)\n",
      "memory usage: 439.5+ MB\n"
     ]
    }
   ],
   "source": [
    "tm2_link_gdf.info()"
   ]
  },
  {
   "cell_type": "code",
   "execution_count": 12,
   "metadata": {},
   "outputs": [
    {
     "name": "stdout",
     "output_type": "stream",
     "text": [
      "TANA     807224\n",
      "MAZ      252437\n",
      "PED      221905\n",
      "TAZ       63182\n",
      "TAP       43512\n",
      "USE        8981\n",
      "BIKE       6678\n",
      "LRAIL       864\n",
      "CRAIL       144\n",
      "HRAIL        90\n",
      "FERRY        52\n",
      "EXT          44\n",
      "NaN          32\n",
      "Name: CNTYPE, dtype: int64\n",
      "\n",
      " out of 1405145 links in non-Marin legacy TM2 network, 1035807 are roadway links\n",
      "# of unique AB node pairs: 1035807\n"
     ]
    }
   ],
   "source": [
    "# select only road way links\n",
    "\n",
    "print(tm2_link_gdf.CNTYPE.value_counts(dropna = False))\n",
    "\n",
    "tm2_link_roadway_gdf = tm2_link_gdf[tm2_link_gdf.CNTYPE.isin([\"BIKE\", \"PED\", \"TANA\"])].copy()\n",
    "print('\\n out of {} links in non-Marin legacy TM2 network, {} are roadway links'.format(\n",
    "    tm2_link_gdf.shape[0],\n",
    "    tm2_link_roadway_gdf.shape[0]))\n",
    "\n",
    "# double check with AB node pairs\n",
    "print('# of unique AB node pairs: {}'.format(tm2_link_roadway_gdf.groupby([\"A\", \"B\"]).count().shape[0]))"
   ]
  },
  {
   "cell_type": "code",
   "execution_count": 82,
   "metadata": {},
   "outputs": [],
   "source": [
    "# # Partition TM2 Non Marin for shst Match\n",
    "\n",
    "# for i in range(14):\n",
    "#     boundary_gdf = gpd.read_file(\"../../data/external/county_boundaries/boundary_\"+str(i+1)+\".geojson\")\n",
    "    \n",
    "#     sub_gdf = tm2_link_roadway_gdf[tm2_link_roadway_gdf.intersects(boundary_gdf.geometry.unary_union)].copy()\n",
    "    \n",
    "#     sub_gdf[[\"A\", \"B\", \"geometry\"]].to_file(\"../../data/external/TM2_nonMarin/tm2nonMarin_\"+str(i+1)+\".in.geojson\",\n",
    "#                                                 driver = \"GeoJSON\")"
   ]
  },
  {
   "cell_type": "code",
   "execution_count": 13,
   "metadata": {},
   "outputs": [],
   "source": [
    "# export raw network data for merging back the conflation result\n",
    "tm2_link_roadway_gdf.to_file(\"../../data/external/TM2_nonMarin/tm2nonMarin_raw.geojson\",\n",
    "                             driver = \"GeoJSON\")"
   ]
  },
  {
   "cell_type": "markdown",
   "metadata": {},
   "source": [
    "# Prepare TM2 Marin for conflation"
   ]
  },
  {
   "cell_type": "code",
   "execution_count": 14,
   "metadata": {},
   "outputs": [
    {
     "name": "stdout",
     "output_type": "stream",
     "text": [
      "+init=epsg:4326 +type=crs\n",
      "Wall time: 3min 15s\n"
     ]
    }
   ],
   "source": [
    "%%time\n",
    "# loading TM2 Marin version data source\n",
    "# http://bayareametro.github.io/travel-model-two/input/#roadway-network\n",
    "\n",
    "tm2_marin_link_file = \"../../data/external/TM2_Marin/mtc_final_network_base.shp\"\n",
    "\n",
    "# street link layer\n",
    "tm2_marin_link_gdf = gpd.read_file(tm2_marin_link_file)\n",
    "\n",
    "# define initial ESPG\n",
    "# tm2_marin_link_gdf.crs = {\"init\" : \"esri:102646\"}\n",
    "# if the above throws an \"invalid crs\" error, try the following:\n",
    "tm2_marin_link_gdf.crs = \"esri:102646\"\n",
    "\n",
    "# convert to ESPG lat-lon\n",
    "tm2_marin_link_gdf = tm2_marin_link_gdf.to_crs({'init': 'epsg:4326'})\n",
    "print(tm2_marin_link_gdf.crs)"
   ]
  },
  {
   "cell_type": "code",
   "execution_count": 15,
   "metadata": {},
   "outputs": [
    {
     "name": "stdout",
     "output_type": "stream",
     "text": [
      "<class 'geopandas.geodataframe.GeoDataFrame'>\n",
      "RangeIndex: 1405258 entries, 0 to 1405257\n",
      "Data columns (total 47 columns):\n",
      " #   Column       Non-Null Count    Dtype   \n",
      "---  ------       --------------    -----   \n",
      " 0   A            1405258 non-null  int64   \n",
      " 1   B            1405258 non-null  int64   \n",
      " 2   F_JNCTID     1405258 non-null  int64   \n",
      " 3   T_JNCTID     1405258 non-null  int64   \n",
      " 4   FRC          1405258 non-null  int64   \n",
      " 5   NAME         741998 non-null   object  \n",
      " 6   FREEWAY      1405258 non-null  int64   \n",
      " 7   TOLLRD       291 non-null      object  \n",
      " 8   ONEWAY       129297 non-null   object  \n",
      " 9   KPH          1405258 non-null  int64   \n",
      " 10  MINUTES      1405258 non-null  float64 \n",
      " 11  CARRIAGE     100 non-null      object  \n",
      " 12  LANES        1405258 non-null  int64   \n",
      " 13  RAMP         1405258 non-null  int64   \n",
      " 14  SPEEDCAT     1405258 non-null  int64   \n",
      " 15  FEET         1405258 non-null  float64 \n",
      " 16  ASSIGNABLE   1405258 non-null  int64   \n",
      " 17  CNTYPE       1405200 non-null  object  \n",
      " 18  TRANSIT      1405258 non-null  int64   \n",
      " 19  HIGHWAYT     223551 non-null   object  \n",
      " 20  B_CLASS      1405258 non-null  int64   \n",
      " 21  GRADE_CAT    1405258 non-null  int64   \n",
      " 22  PED_FLAG     133180 non-null   object  \n",
      " 23  BIKEPEDOK    1405258 non-null  int64   \n",
      " 24  PEMSID       1405258 non-null  int64   \n",
      " 25  PEMSLANES    1405258 non-null  int64   \n",
      " 26  RTEDIR       1714 non-null     object  \n",
      " 27  PEMSDIST     1405258 non-null  float64 \n",
      " 28  REPRIORITIZ  1405258 non-null  int64   \n",
      " 29  TMCLOCREF    1405258 non-null  int64   \n",
      " 30  TAP_DRIVE    1405258 non-null  int64   \n",
      " 31  FT           1405258 non-null  int64   \n",
      " 32  FFS          1405258 non-null  float64 \n",
      " 33  NUMLANES     1405258 non-null  int64   \n",
      " 34  USECLASS     1405258 non-null  int64   \n",
      " 35  TOLLBOOTH    1405258 non-null  int64   \n",
      " 36  DANGLING     1405258 non-null  int64   \n",
      " 37  HASTRANSIT   1405258 non-null  int64   \n",
      " 38  TOLLSEG      1405258 non-null  int64   \n",
      " 39  DELETE       1405258 non-null  int64   \n",
      " 40  FP_FT        1405258 non-null  int64   \n",
      " 41  FP_FFS       1405258 non-null  float64 \n",
      " 42  FP_LANES     1405258 non-null  int64   \n",
      " 43  CAP_FAC      1405258 non-null  int64   \n",
      " 44  SPD_FAC      1405258 non-null  int64   \n",
      " 45  MARIN        1405258 non-null  int64   \n",
      " 46  geometry     1405258 non-null  geometry\n",
      "dtypes: float64(5), geometry(1), int64(33), object(8)\n",
      "memory usage: 503.9+ MB\n"
     ]
    }
   ],
   "source": [
    "tm2_marin_link_gdf.info()"
   ]
  },
  {
   "cell_type": "code",
   "execution_count": 16,
   "metadata": {},
   "outputs": [
    {
     "name": "stdout",
     "output_type": "stream",
     "text": [
      "TANA     807115\n",
      "MAZ      252435\n",
      "PED      221905\n",
      "TAZ       63182\n",
      "TAP       43894\n",
      "USE        8797\n",
      "BIKE       6678\n",
      "LRAIL       864\n",
      "CRAIL       144\n",
      "HRAIL        90\n",
      "FERRY        52\n",
      "EXT          44\n",
      "Name: CNTYPE, dtype: int64\n",
      "\n",
      " out of 1405258 links in non-Marin legacy TM2 network, 1035698 are roadway links\n",
      "# of unique AB node pairs: 1035698\n"
     ]
    }
   ],
   "source": [
    "# select only road way links\n",
    "\n",
    "print(tm2_marin_link_gdf.CNTYPE.value_counts())\n",
    "\n",
    "tm2_marin_link_roadway_gdf = tm2_marin_link_gdf[tm2_marin_link_gdf.CNTYPE.isin([\"BIKE\", \"PED\", \"TANA\"])].copy()\n",
    "print('\\n out of {} links in non-Marin legacy TM2 network, {} are roadway links'.format(\n",
    "    tm2_marin_link_gdf.shape[0],\n",
    "    tm2_marin_link_roadway_gdf.shape[0]))\n",
    "\n",
    "# double check with AB node pairs\n",
    "print('# of unique AB node pairs: {}'.format(tm2_marin_link_roadway_gdf.groupby([\"A\", \"B\"]).count().shape[0]))"
   ]
  },
  {
   "cell_type": "code",
   "execution_count": 17,
   "metadata": {},
   "outputs": [],
   "source": [
    "# # Partition TM2 Marin for shst Match \n",
    "\n",
    "# for i in range(14):\n",
    "#     boundary_gdf = gpd.read_file(\"../../data/external/county_boundaries/boundary_\"+str(i+1)+\".geojson\")\n",
    "    \n",
    "#     sub_gdf = tm2_marin_link_roadway_gdf[tm2_marin_link_roadway_gdf.intersects(boundary_gdf.geometry.unary_union)].copy()\n",
    "    \n",
    "#     sub_gdf[[\"A\", \"B\", \"geometry\"]].to_file(\"../../data/external/TM2_Marin/tm2Marin_\"+str(i+1)+\".in.geojson\",\n",
    "#                                                 driver = \"GeoJSON\")"
   ]
  },
  {
   "cell_type": "code",
   "execution_count": 18,
   "metadata": {},
   "outputs": [],
   "source": [
    "# export raw network data for merging back the conflation result\n",
    "tm2_marin_link_roadway_gdf.to_file(\"../../data/external/TM2_Marin/tm2Marin_raw.geojson\",\n",
    "                                   driver = \"GeoJSON\")"
   ]
  },
  {
   "cell_type": "markdown",
   "metadata": {},
   "source": [
    "# Prepared SFCTA true shape file for conflation\n",
    "Eventually, the conflation result of the SFCTA true shape data was not used.\n",
    "Please see the Network Rebuild documentation for more details."
   ]
  },
  {
   "cell_type": "code",
   "execution_count": 65,
   "metadata": {},
   "outputs": [],
   "source": [
    "# sfcta_file = \"../../data/external/stclines/stclines.shp\"\n",
    "\n",
    "# sfcta_gdf = gpd.read_file(sfcta_file)\n",
    "\n",
    "# sfcta_gdf.crs = {\"init\" : \"epsg:2227\"}\n",
    "\n",
    "# # convert to ESPG lat-lon\n",
    "# sfcta_gdf = sfcta_gdf.to_crs({'init': 'epsg:4326'})\n",
    "# sfcta_gdf.crs\n",
    "\n",
    "# # drop duplicated shapes\n",
    "# sfcta_gdf.drop_duplicates(subset = sfcta_gdf.drop([\"geometry\"], axis=1).columns)\n",
    "\n",
    "# # there's no unique id for sfcta true shape file, not even combinations of A/B\n",
    "# sfcta_gdf[\"sfcta_trueshape_id\"] = range(1, len(sfcta_gdf) + 1)\n",
    "\n",
    "# # export for conflation\n",
    "# sfcta_gdf[[\"sfcta_trueshape_id\", \"geometry\"]].to_file(\"../../data/external/sfclines/sfcta.in.geojson\",\n",
    "#                                                 driver = \"GeoJSON\")"
   ]
  },
  {
   "cell_type": "markdown",
   "metadata": {},
   "source": [
    "# Prepare SFCTA Stick Network for conflation"
   ]
  },
  {
   "cell_type": "code",
   "execution_count": 19,
   "metadata": {},
   "outputs": [
    {
     "name": "stdout",
     "output_type": "stream",
     "text": [
      "+init=epsg:4326 +type=crs\n"
     ]
    }
   ],
   "source": [
    "sfcta_stick_file = \"../../data/external/sfcta/SanFrancisco_links.shp\"\n",
    "\n",
    "sfcta_stick_gdf = gpd.read_file(sfcta_stick_file)\n",
    "\n",
    "# set initial ESPG\n",
    "sfcta_stick_gdf.crs = {\"init\" : \"epsg:2227\"}\n",
    "\n",
    "# convert to ESPG lat-lon\n",
    "sfcta_stick_gdf = sfcta_stick_gdf.to_crs({'init': 'epsg:4326'})\n",
    "print(sfcta_stick_gdf.crs)"
   ]
  },
  {
   "cell_type": "code",
   "execution_count": 20,
   "metadata": {},
   "outputs": [
    {
     "name": "stdout",
     "output_type": "stream",
     "text": [
      "# of links: 61875\n",
      "Index(['A', 'B', 'TOLL', 'USE', 'CAP', 'AT', 'FT', 'STREETNAME', 'TYPE',\n",
      "       'MTYPE', 'SPEED', 'DISTANCE', 'TIME', 'LANE_AM', 'LANE_OP', 'LANE_PM',\n",
      "       'BUSLANE_AM', 'BUSLANE_OP', 'BUSLANE_PM', 'TOLLAM_DA', 'TOLLAM_SR2',\n",
      "       'TOLLAM_SR3', 'TOLLPM_DA', 'TOLLPM_SR2', 'TOLLPM_SR3', 'TOLLEA_DA',\n",
      "       'TOLLEA_SR2', 'TOLLEA_SR3', 'TOLLMD_DA', 'TOLLMD_SR2', 'TOLLMD_SR3',\n",
      "       'TOLLEV_DA', 'TOLLEV_SR2', 'TOLLEV_SR3', 'VALUETOLL_F', 'PASSTHRU',\n",
      "       'BUSTPS_AM', 'BUSTPS_OP', 'BUSTPS_PM', 'TSVA', 'TSIN', 'BIKE_CLASS',\n",
      "       'PER_RISE', 'ONEWAY', 'PROJ', 'DTA_EDIT_FL', 'TOLLTIME', 'PHASE',\n",
      "       'ACTION', 'geometry'],\n",
      "      dtype='object')\n"
     ]
    }
   ],
   "source": [
    "print('# of links: {}'.format(sfcta_stick_gdf.shape[0]))\n",
    "print(sfcta_stick_gdf.columns)"
   ]
  },
  {
   "cell_type": "code",
   "execution_count": 22,
   "metadata": {},
   "outputs": [],
   "source": [
    "# only conflation SF part of the network\n",
    "boundary_4_gdf = gpd.read_file(\"../../data/external/county_boundaries/boundary_4.geojson\")\n",
    "sfcta_stick_gdf = sfcta_stick_gdf[sfcta_stick_gdf.intersects(boundary_4_gdf.geometry.unary_union)]\n",
    "\n",
    "# remove \"special facility\"\n",
    "sfcta_stick_roadway_gdf = sfcta_stick_gdf[~(sfcta_stick_gdf.FT == 6)].copy()"
   ]
  },
  {
   "cell_type": "code",
   "execution_count": 23,
   "metadata": {},
   "outputs": [],
   "source": [
    "# Write out SFCTA stick network for conflation\n",
    "\n",
    "sfcta_stick_roadway_gdf[['A', 'B', \"geometry\"]].to_file(\"../../data/external/sfcta/sfcta_in.geojson\",\n",
    "                                                        driver=\"GeoJSON\")"
   ]
  },
  {
   "cell_type": "code",
   "execution_count": 24,
   "metadata": {},
   "outputs": [],
   "source": [
    "sfcta_stick_roadway_gdf.to_file(\"../../data/external/sfcta/sfcta_raw.geojson\",\n",
    "                                driver=\"GeoJSON\")"
   ]
  },
  {
   "cell_type": "markdown",
   "metadata": {},
   "source": [
    "# Prepare PEMS for conflation"
   ]
  },
  {
   "cell_type": "code",
   "execution_count": 27,
   "metadata": {},
   "outputs": [
    {
     "name": "stdout",
     "output_type": "stream",
     "text": [
      "Index(['station', 'district', 'route', 'direction', 'type', 'time_period',\n",
      "       'lanes', 'median_flow', 'avg_flow', 'sd_flow', 'median_speed',\n",
      "       'avg_speed', 'sd_speed', 'median_occup', 'avg_occup', 'sd_occupancy',\n",
      "       'days_observed', 'state_pm', 'abs_pm', 'latitude', 'longitude', 'year'],\n",
      "      dtype='object')\n"
     ]
    }
   ],
   "source": [
    "pems_file = \"../../data/external/mtc/pems_period.csv\"\n",
    "pems_df = pd.read_csv(pems_file)\n",
    "print(pems_df.columns)"
   ]
  },
  {
   "cell_type": "code",
   "execution_count": 28,
   "metadata": {},
   "outputs": [],
   "source": [
    "# create geometry from X and Y\n",
    "pems_df[\"geometry\"] = [Point(xy) for xy in zip(pems_df.longitude, pems_df.latitude)]\n",
    "\n",
    "pems_gdf = gpd.GeoDataFrame(pems_df, geometry = pems_df[\"geometry\"],\n",
    "                            crs={\"init\" : \"epsg:4326\"})\n",
    "\n",
    "# drop records missing geometry\n",
    "pems_gdf = pems_gdf[~((pems_gdf.longitude.isnull()) | (pems_gdf.latitude.isnull()))]"
   ]
  },
  {
   "cell_type": "code",
   "execution_count": 29,
   "metadata": {},
   "outputs": [],
   "source": [
    "# export for conflation\n",
    "pems_gdf.drop_duplicates(subset = [\"station\", \"longitude\", \"latitude\"],\n",
    "                         inplace=True)[[\"station\", \"longitude\", \"latitude\", \"geometry\"]].to_file(\n",
    "    \"../../data/external/mtc/pems.in.geojson\", driver = \"GeoJSON\")"
   ]
  },
  {
   "cell_type": "code",
   "execution_count": 30,
   "metadata": {},
   "outputs": [],
   "source": [
    "# export modified pems_gdf\n",
    "pems_gdf.to_file(\"../../data/external/mtc/pems_raw.geojson\", driver = \"GeoJSON\")"
   ]
  }
 ],
 "metadata": {
  "kernelspec": {
   "display_name": "Python 3",
   "language": "python",
   "name": "python3"
  },
  "language_info": {
   "codemirror_mode": {
    "name": "ipython",
    "version": 3
   },
   "file_extension": ".py",
   "mimetype": "text/x-python",
   "name": "python",
   "nbconvert_exporter": "python",
   "pygments_lexer": "ipython3",
   "version": "3.8.8"
  }
 },
 "nbformat": 4,
 "nbformat_minor": 2
}
