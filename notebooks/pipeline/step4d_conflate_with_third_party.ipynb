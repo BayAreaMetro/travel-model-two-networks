{
 "cells": [
  {
   "cell_type": "code",
   "execution_count": 1,
   "metadata": {},
   "outputs": [],
   "source": [
    "import pandas as pd\n",
    "import geopandas as gpd\n",
    "import numpy as np\n",
    "import json\n",
    "import requests\n",
    "from urllib.request import urlopen\n",
    "from zipfile import ZipFile\n",
    "from io import BytesIO\n",
    "import fiona\n",
    "from shapely.geometry import Point"
   ]
  },
  {
   "cell_type": "code",
   "execution_count": 2,
   "metadata": {},
   "outputs": [],
   "source": [
    "from methods import read_shst_extract\n",
    "from methods import link_df_to_geojson\n",
    "from methods import point_df_to_geojson"
   ]
  },
  {
   "cell_type": "code",
   "execution_count": 3,
   "metadata": {},
   "outputs": [],
   "source": [
    "data_external_dir = \"../../data/external/\"\n",
    "data_interim_dir = \"../../data/interim/\""
   ]
  },
  {
   "cell_type": "markdown",
   "metadata": {},
   "source": [
    "# Read base network from step 3"
   ]
  },
  {
   "cell_type": "code",
   "execution_count": 4,
   "metadata": {},
   "outputs": [
    {
     "name": "stdout",
     "output_type": "stream",
     "text": [
      "Wall time: 1min 56s\n"
     ]
    }
   ],
   "source": [
    "%%time\n",
    "link_file = data_interim_dir + \"step3_join_shst_extraction_with_osm/\" + \"link.json\"\n",
    "with open(link_file) as f:\n",
    "    link_json = json.load(f)\n",
    "link_df = pd.DataFrame(link_json)\n",
    "\n",
    "shape_gdf = gpd.read_file(data_interim_dir + \"step3_join_shst_extraction_with_osm/\" \n",
    "                          + \"shape.geojson\")\n",
    "\n",
    "link_gdf = pd.merge(link_df,\n",
    "                    shape_gdf[[\"id\", \"geometry\"]],\n",
    "                   how = \"left\",\n",
    "                   on = \"id\")\n",
    "\n",
    "link_gdf = gpd.GeoDataFrame(link_gdf,\n",
    "                            crs=\"EPSG:4326\")"
   ]
  },
  {
   "cell_type": "code",
   "execution_count": 5,
   "metadata": {},
   "outputs": [
    {
     "name": "stdout",
     "output_type": "stream",
     "text": [
      "1705772 links with columns: \n",
      "Index(['shstReferenceId', 'id', 'shstGeometryId', 'fromIntersectionId',\n",
      "       'toIntersectionId', 'u', 'v', 'link', 'oneWay', 'roundabout', 'wayId',\n",
      "       'access', 'area', 'bridge', 'est_width', 'highway', 'junction', 'key',\n",
      "       'landuse', 'lanes', 'maxspeed', 'name', 'ref', 'service', 'tunnel',\n",
      "       'width', 'roadway', 'drive_access', 'walk_access', 'bike_access',\n",
      "       'geometry'],\n",
      "      dtype='object')\n"
     ]
    }
   ],
   "source": [
    "print('{} links with columns: \\n{}'.format(link_gdf.shape[0], link_gdf.columns))"
   ]
  },
  {
   "cell_type": "markdown",
   "metadata": {},
   "source": [
    "# TomTom conflation"
   ]
  },
  {
   "cell_type": "code",
   "execution_count": 8,
   "metadata": {},
   "outputs": [
    {
     "name": "stdout",
     "output_type": "stream",
     "text": [
      "----------start reading shst extraction data-------------\n",
      "reading shst extraction data :  ../../data/interim/tomtom\\bike_rules\\tomtom_1.out.matched.geojson\n",
      "reading shst extraction data :  ../../data/interim/tomtom\\bike_rules\\tomtom_10.out.matched.geojson\n",
      "reading shst extraction data :  ../../data/interim/tomtom\\bike_rules\\tomtom_11.out.matched.geojson\n",
      "reading shst extraction data :  ../../data/interim/tomtom\\bike_rules\\tomtom_12.out.matched.geojson\n",
      "reading shst extraction data :  ../../data/interim/tomtom\\bike_rules\\tomtom_13.out.matched.geojson\n",
      "reading shst extraction data :  ../../data/interim/tomtom\\bike_rules\\tomtom_14.out.matched.geojson\n",
      "reading shst extraction data :  ../../data/interim/tomtom\\bike_rules\\tomtom_2.out.matched.geojson\n",
      "reading shst extraction data :  ../../data/interim/tomtom\\bike_rules\\tomtom_3.out.matched.geojson\n",
      "reading shst extraction data :  ../../data/interim/tomtom\\bike_rules\\tomtom_4.out.matched.geojson\n",
      "reading shst extraction data :  ../../data/interim/tomtom\\bike_rules\\tomtom_5.out.matched.geojson\n",
      "reading shst extraction data :  ../../data/interim/tomtom\\bike_rules\\tomtom_6.out.matched.geojson\n",
      "reading shst extraction data :  ../../data/interim/tomtom\\bike_rules\\tomtom_7.out.matched.geojson\n",
      "reading shst extraction data :  ../../data/interim/tomtom\\bike_rules\\tomtom_8.out.matched.geojson\n",
      "reading shst extraction data :  ../../data/interim/tomtom\\bike_rules\\tomtom_9.out.matched.geojson\n",
      "reading shst extraction data :  ../../data/interim/tomtom\\car_rules\\tomtom_1.out.matched.geojson\n",
      "reading shst extraction data :  ../../data/interim/tomtom\\car_rules\\tomtom_10.out.matched.geojson\n",
      "reading shst extraction data :  ../../data/interim/tomtom\\car_rules\\tomtom_11.out.matched.geojson\n",
      "reading shst extraction data :  ../../data/interim/tomtom\\car_rules\\tomtom_12.out.matched.geojson\n",
      "reading shst extraction data :  ../../data/interim/tomtom\\car_rules\\tomtom_13.out.matched.geojson\n",
      "reading shst extraction data :  ../../data/interim/tomtom\\car_rules\\tomtom_14.out.matched.geojson\n",
      "reading shst extraction data :  ../../data/interim/tomtom\\car_rules\\tomtom_2.out.matched.geojson\n",
      "reading shst extraction data :  ../../data/interim/tomtom\\car_rules\\tomtom_3.out.matched.geojson\n",
      "reading shst extraction data :  ../../data/interim/tomtom\\car_rules\\tomtom_4.out.matched.geojson\n",
      "reading shst extraction data :  ../../data/interim/tomtom\\car_rules\\tomtom_5.out.matched.geojson\n",
      "reading shst extraction data :  ../../data/interim/tomtom\\car_rules\\tomtom_6.out.matched.geojson\n",
      "reading shst extraction data :  ../../data/interim/tomtom\\car_rules\\tomtom_7.out.matched.geojson\n",
      "reading shst extraction data :  ../../data/interim/tomtom\\car_rules\\tomtom_8.out.matched.geojson\n",
      "reading shst extraction data :  ../../data/interim/tomtom\\car_rules\\tomtom_9.out.matched.geojson\n",
      "reading shst extraction data :  ../../data/interim/tomtom\\ped_rules\\tomtom_1.out.matched.geojson\n",
      "reading shst extraction data :  ../../data/interim/tomtom\\ped_rules\\tomtom_10.out.matched.geojson\n",
      "reading shst extraction data :  ../../data/interim/tomtom\\ped_rules\\tomtom_11.out.matched.geojson\n",
      "reading shst extraction data :  ../../data/interim/tomtom\\ped_rules\\tomtom_12.out.matched.geojson\n",
      "reading shst extraction data :  ../../data/interim/tomtom\\ped_rules\\tomtom_13.out.matched.geojson\n",
      "reading shst extraction data :  ../../data/interim/tomtom\\ped_rules\\tomtom_14.out.matched.geojson\n",
      "reading shst extraction data :  ../../data/interim/tomtom\\ped_rules\\tomtom_2.out.matched.geojson\n",
      "reading shst extraction data :  ../../data/interim/tomtom\\ped_rules\\tomtom_3.out.matched.geojson\n",
      "reading shst extraction data :  ../../data/interim/tomtom\\ped_rules\\tomtom_4.out.matched.geojson\n",
      "reading shst extraction data :  ../../data/interim/tomtom\\ped_rules\\tomtom_5.out.matched.geojson\n",
      "reading shst extraction data :  ../../data/interim/tomtom\\ped_rules\\tomtom_6.out.matched.geojson\n",
      "reading shst extraction data :  ../../data/interim/tomtom\\ped_rules\\tomtom_7.out.matched.geojson\n",
      "reading shst extraction data :  ../../data/interim/tomtom\\ped_rules\\tomtom_8.out.matched.geojson\n",
      "reading shst extraction data :  ../../data/interim/tomtom\\ped_rules\\tomtom_9.out.matched.geojson\n",
      "----------finished reading shst extraction data-------------\n",
      "\n",
      " 2477984 rows with columns: \n",
      "Index(['shstReferenceId', 'shstGeometryId', 'fromIntersectionId',\n",
      "       'toIntersectionId', 'gisReferenceId', 'gisGeometryId',\n",
      "       'gisTotalSegments', 'gisSegmentIndex', 'gisFromIntersectionId',\n",
      "       'gisToIntersectionId', 'startSideOfStreet', 'endSideOfStreet',\n",
      "       'sideOfStreet', 'score', 'matchType', 'pp_tomtom_link_id', 'geometry',\n",
      "       'source'],\n",
      "      dtype='object')\n"
     ]
    }
   ],
   "source": [
    "# Read tomtom ShSt match result\n",
    "\n",
    "tomtom_match_gdf = read_shst_extract(data_interim_dir + \"tomtom/\", \"tomtom_*.out.matched.geojson\")\n",
    "\n",
    "tomtom_match_gdf.rename(columns = {\"shstFromIntersectionId\" : \"fromIntersectionId\",\n",
    "                                   \"shstToIntersectionId\" : \"toIntersectionId\"},\n",
    "                       inplace = True)\n",
    "\n",
    "print('\\n {} rows with columns: \\n{}'.format(tomtom_match_gdf.shape[0],\n",
    "                                             tomtom_match_gdf.columns))"
   ]
  },
  {
   "cell_type": "code",
   "execution_count": 10,
   "metadata": {},
   "outputs": [
    {
     "name": "stdout",
     "output_type": "stream",
     "text": [
      "Sharedstreets matched 491883 out of 959969 total tomtom links.\n"
     ]
    }
   ],
   "source": [
    "print(\"Sharedstreets matched \"+ str(tomtom_match_gdf.pp_tomtom_link_id.nunique()) +\" out of \" + str(len(tomtom_raw_gdf)) \n",
    "      + \" total tomtom links.\")"
   ]
  },
  {
   "cell_type": "code",
   "execution_count": 9,
   "metadata": {},
   "outputs": [
    {
     "name": "stdout",
     "output_type": "stream",
     "text": [
      "\n",
      " 959969 rows with columns: \n",
      "Index(['ID', 'FEATTYP', 'FT', 'F_JNCTID', 'F_JNCTTYP', 'T_JNCTID', 'T_JNCTTYP',\n",
      "       'PJ', 'METERS', 'FRC', 'NETCLASS', 'NETBCLASS', 'NET2CLASS', 'NAME',\n",
      "       'NAMELC', 'SOL', 'NAMETYP', 'CHARGE', 'SHIELDNUM', 'RTETYP', 'RTEDIR',\n",
      "       'RTEDIRVD', 'PROCSTAT', 'FOW', 'SLIPRD', 'FREEWAY', 'BACKRD', 'TOLLRD',\n",
      "       'RDCOND', 'STUBBLE', 'PRIVATERD', 'CONSTATUS', 'ONEWAY', 'F_BP', 'T_BP',\n",
      "       'F_ELEV', 'T_ELEV', 'KPH', 'MINUTES', 'POSACCUR', 'CARRIAGE', 'LANES',\n",
      "       'RAMP', 'ADA', 'TRANS', 'DYNSPEED', 'SPEEDCAT', 'NTHRUTRAF', 'ROUGHRD',\n",
      "       'PARTSTRUC', 'Shape_Length', 'tomtom_link_id', 'geometry'],\n",
      "      dtype='object')\n"
     ]
    }
   ],
   "source": [
    "# Read tomtom raw data\n",
    "tomtom_raw_gdf = gpd.read_file(data_external_dir + 'tomtom/tomtom_raw.geojson')\n",
    "\n",
    "print('\\n {} rows with columns: \\n{}'.format(tomtom_raw_gdf.shape[0],\n",
    "                                             tomtom_raw_gdf.columns))"
   ]
  },
  {
   "cell_type": "code",
   "execution_count": 11,
   "metadata": {},
   "outputs": [
    {
     "name": "stdout",
     "output_type": "stream",
     "text": [
      "2477984 base network links have tomtom attributes\n"
     ]
    }
   ],
   "source": [
    "# merge\n",
    "tomtom_gdf = pd.merge(tomtom_match_gdf, \n",
    "                      tomtom_raw_gdf[['tomtom_link_id', 'ID', 'F_JNCTID', 'T_JNCTID', 'LANES', \"FRC\", \"NAME\", \"SHIELDNUM\",\n",
    "                                      \"RTEDIR\"]],\n",
    "                     how = \"left\",\n",
    "                     left_on = ['pp_tomtom_link_id'],\n",
    "                     right_on = ['tomtom_link_id']\n",
    "                     )\n",
    "                              \n",
    "print('{} base network links have tomtom attributes'.format(tomtom_gdf.shape[0]))"
   ]
  },
  {
   "cell_type": "code",
   "execution_count": 12,
   "metadata": {},
   "outputs": [],
   "source": [
    "# join tomtom with network\n",
    "\n",
    "unique_tomtom_match_gdf = tomtom_gdf.drop_duplicates(\n",
    "    subset = ['shstReferenceId', 'shstGeometryId', 'fromIntersectionId', 'toIntersectionId']).copy()\n",
    "\n",
    "unique_tomtom_match_gdf.rename(columns = {\"ID\" : \"tomtom_ID\", \"LANES\" : \"tomtom_lanes\", \"FRC\" : \"tomtom_FRC\",\n",
    "                                          \"NAME\" : \"tomtom_name\", \"SHIELDNUM\" : \"tomtom_shieldnum\", \n",
    "                                          \"RTEDIR\" : \"tomtom_rtedir\"},\n",
    "                              inplace = True)\n",
    "\n",
    "link_with_tomtom_gdf = pd.merge(link_gdf,\n",
    "                                unique_tomtom_match_gdf[['shstReferenceId', 'shstGeometryId', 'fromIntersectionId','toIntersectionId',\n",
    "                                                         'pp_tomtom_link_id', \"tomtom_ID\", 'F_JNCTID', 'T_JNCTID', \n",
    "                                                         \"tomtom_lanes\", \"tomtom_FRC\", \"tomtom_name\", \"tomtom_shieldnum\",\n",
    "                                                         \"tomtom_rtedir\"]],\n",
    "                                how = \"left\",\n",
    "                                on = ['shstReferenceId', 'shstGeometryId', 'fromIntersectionId', 'toIntersectionId'],\n",
    "                                )"
   ]
  },
  {
   "cell_type": "code",
   "execution_count": 13,
   "metadata": {},
   "outputs": [
    {
     "name": "stdout",
     "output_type": "stream",
     "text": [
      "<class 'geopandas.geodataframe.GeoDataFrame'>\n",
      "Int64Index: 1705772 entries, 0 to 1705771\n",
      "Data columns (total 40 columns):\n",
      " #   Column              Dtype   \n",
      "---  ------              -----   \n",
      " 0   shstReferenceId     object  \n",
      " 1   id                  object  \n",
      " 2   shstGeometryId      object  \n",
      " 3   fromIntersectionId  object  \n",
      " 4   toIntersectionId    object  \n",
      " 5   u                   int64   \n",
      " 6   v                   int64   \n",
      " 7   link                object  \n",
      " 8   oneWay              object  \n",
      " 9   roundabout          object  \n",
      " 10  wayId               object  \n",
      " 11  access              object  \n",
      " 12  area                object  \n",
      " 13  bridge              object  \n",
      " 14  est_width           object  \n",
      " 15  highway             object  \n",
      " 16  junction            object  \n",
      " 17  key                 object  \n",
      " 18  landuse             object  \n",
      " 19  lanes               object  \n",
      " 20  maxspeed            object  \n",
      " 21  name                object  \n",
      " 22  ref                 object  \n",
      " 23  service             object  \n",
      " 24  tunnel              object  \n",
      " 25  width               object  \n",
      " 26  roadway             object  \n",
      " 27  drive_access        int64   \n",
      " 28  walk_access         int64   \n",
      " 29  bike_access         int64   \n",
      " 30  geometry            geometry\n",
      " 31  pp_tomtom_link_id   float64 \n",
      " 32  tomtom_ID           float64 \n",
      " 33  F_JNCTID            float64 \n",
      " 34  T_JNCTID            float64 \n",
      " 35  tomtom_lanes        float64 \n",
      " 36  tomtom_FRC          float64 \n",
      " 37  tomtom_name         object  \n",
      " 38  tomtom_shieldnum    object  \n",
      " 39  tomtom_rtedir       object  \n",
      "dtypes: float64(6), geometry(1), int64(5), object(28)\n",
      "memory usage: 533.6+ MB\n"
     ]
    }
   ],
   "source": [
    "link_with_tomtom_gdf.info()"
   ]
  },
  {
   "cell_type": "markdown",
   "metadata": {},
   "source": [
    "# Read thrid party shst match results"
   ]
  },
  {
   "cell_type": "code",
   "execution_count": 14,
   "metadata": {},
   "outputs": [
    {
     "name": "stdout",
     "output_type": "stream",
     "text": [
      "----------start reading shst extraction data-------------\n",
      "reading shst extraction data :  ../../data/interim/tm2_nonMarin\\car_rules\\tm2nonMarin_1.out.matched.geojson\n",
      "reading shst extraction data :  ../../data/interim/tm2_nonMarin\\car_rules\\tm2nonMarin_10.out.matched.geojson\n",
      "reading shst extraction data :  ../../data/interim/tm2_nonMarin\\car_rules\\tm2nonMarin_11.out.matched.geojson\n",
      "reading shst extraction data :  ../../data/interim/tm2_nonMarin\\car_rules\\tm2nonMarin_12.out.matched.geojson\n",
      "reading shst extraction data :  ../../data/interim/tm2_nonMarin\\car_rules\\tm2nonMarin_13.out.matched.geojson\n",
      "reading shst extraction data :  ../../data/interim/tm2_nonMarin\\car_rules\\tm2nonMarin_14.out.matched.geojson\n",
      "reading shst extraction data :  ../../data/interim/tm2_nonMarin\\car_rules\\tm2nonMarin_2.out.matched.geojson\n",
      "reading shst extraction data :  ../../data/interim/tm2_nonMarin\\car_rules\\tm2nonMarin_3.out.matched.geojson\n",
      "reading shst extraction data :  ../../data/interim/tm2_nonMarin\\car_rules\\tm2nonMarin_4.out.matched.geojson\n",
      "reading shst extraction data :  ../../data/interim/tm2_nonMarin\\car_rules\\tm2nonMarin_5.out.matched.geojson\n",
      "reading shst extraction data :  ../../data/interim/tm2_nonMarin\\car_rules\\tm2nonMarin_6.out.matched.geojson\n",
      "reading shst extraction data :  ../../data/interim/tm2_nonMarin\\car_rules\\tm2nonMarin_7.out.matched.geojson\n",
      "reading shst extraction data :  ../../data/interim/tm2_nonMarin\\car_rules\\tm2nonMarin_8.out.matched.geojson\n",
      "reading shst extraction data :  ../../data/interim/tm2_nonMarin\\car_rules\\tm2nonMarin_9.out.matched.geojson\n",
      "reading shst extraction data :  ../../data/interim/tm2_nonMarin\\ped_rules\\tm2nonMarin_1.out.matched.geojson\n",
      "reading shst extraction data :  ../../data/interim/tm2_nonMarin\\ped_rules\\tm2nonMarin_10.out.matched.geojson\n",
      "reading shst extraction data :  ../../data/interim/tm2_nonMarin\\ped_rules\\tm2nonMarin_11.out.matched.geojson\n",
      "reading shst extraction data :  ../../data/interim/tm2_nonMarin\\ped_rules\\tm2nonMarin_12.out.matched.geojson\n",
      "reading shst extraction data :  ../../data/interim/tm2_nonMarin\\ped_rules\\tm2nonMarin_13.out.matched.geojson\n",
      "reading shst extraction data :  ../../data/interim/tm2_nonMarin\\ped_rules\\tm2nonMarin_14.out.matched.geojson\n",
      "reading shst extraction data :  ../../data/interim/tm2_nonMarin\\ped_rules\\tm2nonMarin_2.out.matched.geojson\n",
      "reading shst extraction data :  ../../data/interim/tm2_nonMarin\\ped_rules\\tm2nonMarin_3.out.matched.geojson\n",
      "reading shst extraction data :  ../../data/interim/tm2_nonMarin\\ped_rules\\tm2nonMarin_4.out.matched.geojson\n",
      "reading shst extraction data :  ../../data/interim/tm2_nonMarin\\ped_rules\\tm2nonMarin_5.out.matched.geojson\n",
      "reading shst extraction data :  ../../data/interim/tm2_nonMarin\\ped_rules\\tm2nonMarin_6.out.matched.geojson\n",
      "reading shst extraction data :  ../../data/interim/tm2_nonMarin\\ped_rules\\tm2nonMarin_7.out.matched.geojson\n",
      "reading shst extraction data :  ../../data/interim/tm2_nonMarin\\ped_rules\\tm2nonMarin_8.out.matched.geojson\n",
      "reading shst extraction data :  ../../data/interim/tm2_nonMarin\\ped_rules\\tm2nonMarin_9.out.matched.geojson\n",
      "reading shst extraction data :  ../../data/interim/tm2_nonMarin\\reverse_dir\\tm2nonMarin_1.out.matched.geojson\n",
      "reading shst extraction data :  ../../data/interim/tm2_nonMarin\\reverse_dir\\tm2nonMarin_10.out.matched.geojson\n",
      "reading shst extraction data :  ../../data/interim/tm2_nonMarin\\reverse_dir\\tm2nonMarin_11.out.matched.geojson\n",
      "reading shst extraction data :  ../../data/interim/tm2_nonMarin\\reverse_dir\\tm2nonMarin_12.out.matched.geojson\n",
      "reading shst extraction data :  ../../data/interim/tm2_nonMarin\\reverse_dir\\tm2nonMarin_13.out.matched.geojson\n",
      "reading shst extraction data :  ../../data/interim/tm2_nonMarin\\reverse_dir\\tm2nonMarin_14.out.matched.geojson\n",
      "reading shst extraction data :  ../../data/interim/tm2_nonMarin\\reverse_dir\\tm2nonMarin_2.out.matched.geojson\n",
      "reading shst extraction data :  ../../data/interim/tm2_nonMarin\\reverse_dir\\tm2nonMarin_3.out.matched.geojson\n",
      "reading shst extraction data :  ../../data/interim/tm2_nonMarin\\reverse_dir\\tm2nonMarin_4.out.matched.geojson\n",
      "reading shst extraction data :  ../../data/interim/tm2_nonMarin\\reverse_dir\\tm2nonMarin_5.out.matched.geojson\n",
      "reading shst extraction data :  ../../data/interim/tm2_nonMarin\\reverse_dir\\tm2nonMarin_6.out.matched.geojson\n",
      "reading shst extraction data :  ../../data/interim/tm2_nonMarin\\reverse_dir\\tm2nonMarin_7.out.matched.geojson\n",
      "reading shst extraction data :  ../../data/interim/tm2_nonMarin\\reverse_dir\\tm2nonMarin_8.out.matched.geojson\n",
      "reading shst extraction data :  ../../data/interim/tm2_nonMarin\\reverse_dir\\tm2nonMarin_9.out.matched.geojson\n",
      "----------finished reading shst extraction data-------------\n"
     ]
    }
   ],
   "source": [
    "# read TM2 non Marin conflation result\n",
    "\n",
    "tm2nonMarin_match_gdf = read_shst_extract(data_interim_dir + \"tm2_nonMarin/\", \"tm2nonMarin_*.out.matched.geojson\")\n",
    "\n",
    "tm2nonMarin_match_gdf.rename(columns = {\"shstFromIntersectionId\" : \"fromIntersectionId\",\n",
    "                                        \"shstToIntersectionId\" : \"toIntersectionId\"},\n",
    "                             inplace = True)"
   ]
  },
  {
   "cell_type": "code",
   "execution_count": 17,
   "metadata": {},
   "outputs": [
    {
     "name": "stdout",
     "output_type": "stream",
     "text": [
      "----------start reading shst extraction data-------------\n",
      "reading shst extraction data :  ../../data/interim/tm2_Marin\\car_rules\\tm2Marin_1.out.matched.geojson\n",
      "reading shst extraction data :  ../../data/interim/tm2_Marin\\car_rules\\tm2Marin_10.out.matched.geojson\n",
      "reading shst extraction data :  ../../data/interim/tm2_Marin\\car_rules\\tm2Marin_11.out.matched.geojson\n",
      "reading shst extraction data :  ../../data/interim/tm2_Marin\\car_rules\\tm2Marin_12.out.matched.geojson\n",
      "reading shst extraction data :  ../../data/interim/tm2_Marin\\car_rules\\tm2Marin_13.out.matched.geojson\n",
      "reading shst extraction data :  ../../data/interim/tm2_Marin\\car_rules\\tm2Marin_14.out.matched.geojson\n",
      "reading shst extraction data :  ../../data/interim/tm2_Marin\\car_rules\\tm2Marin_2.out.matched.geojson\n",
      "reading shst extraction data :  ../../data/interim/tm2_Marin\\car_rules\\tm2Marin_3.out.matched.geojson\n",
      "reading shst extraction data :  ../../data/interim/tm2_Marin\\car_rules\\tm2Marin_4.out.matched.geojson\n",
      "reading shst extraction data :  ../../data/interim/tm2_Marin\\car_rules\\tm2Marin_5.out.matched.geojson\n",
      "reading shst extraction data :  ../../data/interim/tm2_Marin\\car_rules\\tm2Marin_6.out.matched.geojson\n",
      "reading shst extraction data :  ../../data/interim/tm2_Marin\\car_rules\\tm2Marin_7.out.matched.geojson\n",
      "reading shst extraction data :  ../../data/interim/tm2_Marin\\car_rules\\tm2Marin_8.out.matched.geojson\n",
      "reading shst extraction data :  ../../data/interim/tm2_Marin\\car_rules\\tm2Marin_9.out.matched.geojson\n",
      "reading shst extraction data :  ../../data/interim/tm2_Marin\\ped_rules\\tm2Marin_1.out.matched.geojson\n",
      "reading shst extraction data :  ../../data/interim/tm2_Marin\\ped_rules\\tm2Marin_10.out.matched.geojson\n",
      "reading shst extraction data :  ../../data/interim/tm2_Marin\\ped_rules\\tm2Marin_11.out.matched.geojson\n",
      "reading shst extraction data :  ../../data/interim/tm2_Marin\\ped_rules\\tm2Marin_12.out.matched.geojson\n",
      "reading shst extraction data :  ../../data/interim/tm2_Marin\\ped_rules\\tm2Marin_13.out.matched.geojson\n",
      "reading shst extraction data :  ../../data/interim/tm2_Marin\\ped_rules\\tm2Marin_14.out.matched.geojson\n",
      "reading shst extraction data :  ../../data/interim/tm2_Marin\\ped_rules\\tm2Marin_2.out.matched.geojson\n",
      "reading shst extraction data :  ../../data/interim/tm2_Marin\\ped_rules\\tm2Marin_3.out.matched.geojson\n",
      "reading shst extraction data :  ../../data/interim/tm2_Marin\\ped_rules\\tm2Marin_4.out.matched.geojson\n",
      "reading shst extraction data :  ../../data/interim/tm2_Marin\\ped_rules\\tm2Marin_5.out.matched.geojson\n",
      "reading shst extraction data :  ../../data/interim/tm2_Marin\\ped_rules\\tm2Marin_6.out.matched.geojson\n",
      "reading shst extraction data :  ../../data/interim/tm2_Marin\\ped_rules\\tm2Marin_7.out.matched.geojson\n",
      "reading shst extraction data :  ../../data/interim/tm2_Marin\\ped_rules\\tm2Marin_8.out.matched.geojson\n",
      "reading shst extraction data :  ../../data/interim/tm2_Marin\\ped_rules\\tm2Marin_9.out.matched.geojson\n",
      "reading shst extraction data :  ../../data/interim/tm2_Marin\\reverse_dir\\tm2Marin_1.out.matched.geojson\n",
      "reading shst extraction data :  ../../data/interim/tm2_Marin\\reverse_dir\\tm2Marin_10.out.matched.geojson\n",
      "reading shst extraction data :  ../../data/interim/tm2_Marin\\reverse_dir\\tm2Marin_11.out.matched.geojson\n",
      "reading shst extraction data :  ../../data/interim/tm2_Marin\\reverse_dir\\tm2Marin_12.out.matched.geojson\n",
      "reading shst extraction data :  ../../data/interim/tm2_Marin\\reverse_dir\\tm2Marin_13.out.matched.geojson\n",
      "reading shst extraction data :  ../../data/interim/tm2_Marin\\reverse_dir\\tm2Marin_14.out.matched.geojson\n",
      "reading shst extraction data :  ../../data/interim/tm2_Marin\\reverse_dir\\tm2Marin_2.out.matched.geojson\n",
      "reading shst extraction data :  ../../data/interim/tm2_Marin\\reverse_dir\\tm2Marin_3.out.matched.geojson\n",
      "reading shst extraction data :  ../../data/interim/tm2_Marin\\reverse_dir\\tm2Marin_4.out.matched.geojson\n",
      "reading shst extraction data :  ../../data/interim/tm2_Marin\\reverse_dir\\tm2Marin_5.out.matched.geojson\n",
      "reading shst extraction data :  ../../data/interim/tm2_Marin\\reverse_dir\\tm2Marin_6.out.matched.geojson\n",
      "reading shst extraction data :  ../../data/interim/tm2_Marin\\reverse_dir\\tm2Marin_7.out.matched.geojson\n",
      "reading shst extraction data :  ../../data/interim/tm2_Marin\\reverse_dir\\tm2Marin_8.out.matched.geojson\n",
      "reading shst extraction data :  ../../data/interim/tm2_Marin\\reverse_dir\\tm2Marin_9.out.matched.geojson\n",
      "----------finished reading shst extraction data-------------\n"
     ]
    }
   ],
   "source": [
    "# read TM2 Marin conflation result\n",
    "\n",
    "tm2marin_match_gdf = read_shst_extract(data_interim_dir + \"tm2_Marin/\", \"tm2Marin_*.out.matched.geojson\")\n",
    "\n",
    "tm2marin_match_gdf.rename(columns = {\"shstFromIntersectionId\" : \"fromIntersectionId\",\n",
    "                                     \"shstToIntersectionId\" : \"toIntersectionId\"},\n",
    "                          inplace = True)"
   ]
  },
  {
   "cell_type": "code",
   "execution_count": null,
   "metadata": {},
   "outputs": [],
   "source": [
    "# # read sfcta true shape conflation result\n",
    "\n",
    "# sfcta_match_gdf = read_shst_extract(data_interim_dir + \"stclines/\", \"*sfcta.out.matched.geojson\")\n",
    "\n",
    "# sfcta_match_gdf.rename(columns = {\"shstFromIntersectionId\" : \"fromIntersectionId\",\n",
    "#                                    \"shstToIntersectionId\" : \"toIntersectionId\"},\n",
    "#                        inplace = True)"
   ]
  },
  {
   "cell_type": "code",
   "execution_count": 18,
   "metadata": {},
   "outputs": [
    {
     "name": "stdout",
     "output_type": "stream",
     "text": [
      "----------start reading shst extraction data-------------\n",
      "reading shst extraction data :  ../../data/interim/sfcta\\car_rules\\sfcta.out.matched.geojson\n",
      "reading shst extraction data :  ../../data/interim/sfcta\\ped_rules\\sfcta.out.matched.geojson\n",
      "reading shst extraction data :  ../../data/interim/sfcta\\reverse_dir\\sfcta.out.matched.geojson\n",
      "----------finished reading shst extraction data-------------\n"
     ]
    }
   ],
   "source": [
    "# read sfcta stick network conflation result\n",
    "\n",
    "sfcta_stick_match_gdf = read_shst_extract(data_interim_dir + \"sfcta/\", \"*sfcta.out.matched.geojson\")\n",
    "\n",
    "sfcta_stick_match_gdf.rename(columns = {\"shstFromIntersectionId\" : \"fromIntersectionId\",\n",
    "                                        \"shstToIntersectionId\" : \"toIntersectionId\"},\n",
    "                             inplace = True)"
   ]
  },
  {
   "cell_type": "code",
   "execution_count": 25,
   "metadata": {},
   "outputs": [],
   "source": [
    "# read source data\n",
    "\n",
    "# TM2 non-Marin\n",
    "tm2_link_roadway_gdf = gpd.read_file(data_external_dir + 'TM2_nonMarin/tm2nonMarin_raw.geojson')\n",
    "\n",
    "# TM2 Marin\n",
    "tm2_marin_link_roadway_gdf = gpd.read_file(data_external_dir + 'TM2_Marin/tm2Marin_raw.geojson')\n",
    "\n",
    "# SFCTA stick\n",
    "sfcta_stick_gdf = gpd.read_file(data_external_dir + 'sfcta/sfcta_raw.geojson')"
   ]
  },
  {
   "cell_type": "code",
   "execution_count": 26,
   "metadata": {},
   "outputs": [],
   "source": [
    "# join match result with source data\n",
    "\n",
    "# TM2 non Marin\n",
    "unique_tm2nonMarin_match_gdf = tm2nonMarin_match_gdf.drop_duplicates(\n",
    "    subset = ['shstReferenceId', 'shstGeometryId', 'fromIntersectionId', 'toIntersectionId']).copy()\n",
    "\n",
    "unique_tm2nonMarin_match_gdf = pd.merge(unique_tm2nonMarin_match_gdf, \n",
    "                                        tm2_link_roadway_gdf[['A', 'B', \"NUMLANES\", \"FT\", \"ASSIGNABLE\"]],\n",
    "                                        how = \"left\",\n",
    "                                        left_on = ['pp_a', \"pp_b\"],\n",
    "                                        right_on = ['A', \"B\"]\n",
    "                                       )\n",
    "\n",
    "unique_tm2nonMarin_match_gdf.rename(columns = {\"A\" : \"TM2_A\", \"B\" : \"TM2_B\", \"NUMLANES\" : \"TM2_LANES\", \n",
    "                                               \"FT\" : \"TM2_FT\", \"ASSIGNABLE\" : \"TM2_ASSIGNABLE\"},\n",
    "                                    inplace = True)\n",
    "\n",
    "# TM2 Marin\n",
    "unique_tm2marin_match_gdf = tm2marin_match_gdf.drop_duplicates(\n",
    "    subset = ['shstReferenceId', 'shstGeometryId', 'fromIntersectionId', 'toIntersectionId']).copy()\n",
    "\n",
    "unique_tm2marin_match_gdf = pd.merge(unique_tm2marin_match_gdf, \n",
    "                                     tm2_marin_link_roadway_gdf[['A', 'B', \"NUMLANES\", \"FT\", \"ASSIGNABLE\"]],\n",
    "                                     how = \"left\",\n",
    "                                     left_on = ['pp_a', \"pp_b\"],\n",
    "                                     right_on = ['A', \"B\"]\n",
    "                                     )\n",
    "\n",
    "unique_tm2marin_match_gdf.rename(columns = {\"A\" : \"TM2Marin_A\", \"B\" : \"TM2Marin_B\", \"NUMLANES\" : \"TM2Marin_LANES\", \n",
    "                                            \"FT\" : \"TM2Marin_FT\", \"ASSIGNABLE\" : \"TM2Marin_ASSIGNABLE\"},\n",
    "                                   inplace = True)\n",
    "\n",
    "# sfcta stick and true shape\n",
    "unique_sfcta_match_gdf = sfcta_stick_match_gdf.drop_duplicates(\n",
    "    subset = ['shstReferenceId', 'shstGeometryId', 'fromIntersectionId', 'toIntersectionId']).copy()\n",
    "\n",
    "unique_sfcta_match_gdf = pd.merge(unique_sfcta_match_gdf,\n",
    "                                  sfcta_stick_gdf[[\"A\", \"B\", \"FT\", \"STREETNAME\", \"LANE_AM\", \"LANE_OP\", \"LANE_PM\"]],\n",
    "                                  how = \"left\",\n",
    "                                  left_on = [\"pp_a\", \"pp_b\"],\n",
    "                                  right_on = [\"A\", \"B\"])\n",
    "\n",
    "unique_sfcta_match_gdf.rename(columns = {\"A\" : \"sfcta_A\", \"B\" : \"sfcta_B\", \"FT\" : \"sfcta_FT\", \"STREETNAME\" : \"sfcta_STREETNAME\",\n",
    "                                         \"LANE_AM\" : \"sfcta_LANE_AM\", \"LANE_OP\" : \"sfcta_LANE_OP\", \"LANE_PM\" : \"sfcta_LANE_PM\"},\n",
    "                             inplace = True)"
   ]
  },
  {
   "cell_type": "code",
   "execution_count": 20,
   "metadata": {},
   "outputs": [
    {
     "name": "stdout",
     "output_type": "stream",
     "text": [
      "ML    60319\n",
      "OR     9309\n",
      "FR     5733\n",
      "FF      666\n",
      "HV       30\n",
      "Name: type, dtype: int64\n"
     ]
    }
   ],
   "source": [
    "# read pems conflation result\n",
    "\n",
    "pems_match_gdf = gpd.read_file(data_interim_dir + \"mtc/pems_conflation_result.geojson\")\n",
    "\n",
    "print(pems_match_gdf['type'].value_counts())"
   ]
  },
  {
   "cell_type": "code",
   "execution_count": 21,
   "metadata": {},
   "outputs": [
    {
     "data": {
      "text/html": [
       "<div>\n",
       "<style scoped>\n",
       "    .dataframe tbody tr th:only-of-type {\n",
       "        vertical-align: middle;\n",
       "    }\n",
       "\n",
       "    .dataframe tbody tr th {\n",
       "        vertical-align: top;\n",
       "    }\n",
       "\n",
       "    .dataframe thead th {\n",
       "        text-align: right;\n",
       "    }\n",
       "</style>\n",
       "<table border=\"1\" class=\"dataframe\">\n",
       "  <thead>\n",
       "    <tr style=\"text-align: right;\">\n",
       "      <th>type</th>\n",
       "      <th>shstReferenceId</th>\n",
       "      <th>FF</th>\n",
       "      <th>FR</th>\n",
       "      <th>HV</th>\n",
       "      <th>ML</th>\n",
       "      <th>OR</th>\n",
       "    </tr>\n",
       "  </thead>\n",
       "  <tbody>\n",
       "    <tr>\n",
       "      <th>0</th>\n",
       "      <td>000619909cfedfdc3ae846759247e09f</td>\n",
       "      <td>0.0</td>\n",
       "      <td>0.0</td>\n",
       "      <td>0.0</td>\n",
       "      <td>3.0</td>\n",
       "      <td>0.0</td>\n",
       "    </tr>\n",
       "    <tr>\n",
       "      <th>1</th>\n",
       "      <td>001faa1f8bf0fafb4298b7438a83b506</td>\n",
       "      <td>0.0</td>\n",
       "      <td>0.0</td>\n",
       "      <td>0.0</td>\n",
       "      <td>3.0</td>\n",
       "      <td>0.0</td>\n",
       "    </tr>\n",
       "    <tr>\n",
       "      <th>2</th>\n",
       "      <td>003a921cd366f424ba0d42e1635f85c2</td>\n",
       "      <td>0.0</td>\n",
       "      <td>0.0</td>\n",
       "      <td>0.0</td>\n",
       "      <td>2.0</td>\n",
       "      <td>0.0</td>\n",
       "    </tr>\n",
       "    <tr>\n",
       "      <th>3</th>\n",
       "      <td>00441ada4f77ea0e20dd17acd688e289</td>\n",
       "      <td>0.0</td>\n",
       "      <td>0.0</td>\n",
       "      <td>0.0</td>\n",
       "      <td>3.0</td>\n",
       "      <td>0.0</td>\n",
       "    </tr>\n",
       "    <tr>\n",
       "      <th>4</th>\n",
       "      <td>005586c0c986e59d4dcd979513f7e8e6</td>\n",
       "      <td>0.0</td>\n",
       "      <td>0.0</td>\n",
       "      <td>0.0</td>\n",
       "      <td>4.0</td>\n",
       "      <td>0.0</td>\n",
       "    </tr>\n",
       "    <tr>\n",
       "      <th>...</th>\n",
       "      <td>...</td>\n",
       "      <td>...</td>\n",
       "      <td>...</td>\n",
       "      <td>...</td>\n",
       "      <td>...</td>\n",
       "      <td>...</td>\n",
       "    </tr>\n",
       "    <tr>\n",
       "      <th>2008</th>\n",
       "      <td>ff7acac14c0bb77fcdacf4ccd6966517</td>\n",
       "      <td>0.0</td>\n",
       "      <td>0.0</td>\n",
       "      <td>0.0</td>\n",
       "      <td>5.0</td>\n",
       "      <td>0.0</td>\n",
       "    </tr>\n",
       "    <tr>\n",
       "      <th>2009</th>\n",
       "      <td>ff8f4bf33f498176b2a6e2fe4d078ff4</td>\n",
       "      <td>0.0</td>\n",
       "      <td>0.0</td>\n",
       "      <td>0.0</td>\n",
       "      <td>2.0</td>\n",
       "      <td>0.0</td>\n",
       "    </tr>\n",
       "    <tr>\n",
       "      <th>2010</th>\n",
       "      <td>ff90d3fb5034f779cc6c4841f2fbcfc5</td>\n",
       "      <td>0.0</td>\n",
       "      <td>0.0</td>\n",
       "      <td>0.0</td>\n",
       "      <td>2.0</td>\n",
       "      <td>0.0</td>\n",
       "    </tr>\n",
       "    <tr>\n",
       "      <th>2011</th>\n",
       "      <td>ff9ba0a399cb6a07872339ed82edea56</td>\n",
       "      <td>0.0</td>\n",
       "      <td>0.0</td>\n",
       "      <td>0.0</td>\n",
       "      <td>4.0</td>\n",
       "      <td>0.0</td>\n",
       "    </tr>\n",
       "    <tr>\n",
       "      <th>2012</th>\n",
       "      <td>ff9fb0954535136f65fa9fda0774b468</td>\n",
       "      <td>0.0</td>\n",
       "      <td>0.0</td>\n",
       "      <td>0.0</td>\n",
       "      <td>4.0</td>\n",
       "      <td>0.0</td>\n",
       "    </tr>\n",
       "  </tbody>\n",
       "</table>\n",
       "<p>2013 rows × 6 columns</p>\n",
       "</div>"
      ],
      "text/plain": [
       "type                   shstReferenceId   FF   FR   HV   ML   OR\n",
       "0     000619909cfedfdc3ae846759247e09f  0.0  0.0  0.0  3.0  0.0\n",
       "1     001faa1f8bf0fafb4298b7438a83b506  0.0  0.0  0.0  3.0  0.0\n",
       "2     003a921cd366f424ba0d42e1635f85c2  0.0  0.0  0.0  2.0  0.0\n",
       "3     00441ada4f77ea0e20dd17acd688e289  0.0  0.0  0.0  3.0  0.0\n",
       "4     005586c0c986e59d4dcd979513f7e8e6  0.0  0.0  0.0  4.0  0.0\n",
       "...                                ...  ...  ...  ...  ...  ...\n",
       "2008  ff7acac14c0bb77fcdacf4ccd6966517  0.0  0.0  0.0  5.0  0.0\n",
       "2009  ff8f4bf33f498176b2a6e2fe4d078ff4  0.0  0.0  0.0  2.0  0.0\n",
       "2010  ff90d3fb5034f779cc6c4841f2fbcfc5  0.0  0.0  0.0  2.0  0.0\n",
       "2011  ff9ba0a399cb6a07872339ed82edea56  0.0  0.0  0.0  4.0  0.0\n",
       "2012  ff9fb0954535136f65fa9fda0774b468  0.0  0.0  0.0  4.0  0.0\n",
       "\n",
       "[2013 rows x 6 columns]"
      ]
     },
     "metadata": {},
     "output_type": "display_data"
    }
   ],
   "source": [
    "# link can have multiple pems station on it, so trying to get the mode of #lanes by station type\n",
    "\n",
    "pems_lanes_df = pems_match_gdf[(pems_match_gdf.year.isin([2014,2015,2016]))].groupby(\n",
    "    [\"shstReferenceId\", \"type\", \"lanes\"]\n",
    ")[\"station\"].count().sort_values(ascending = False).reset_index().drop_duplicates(subset = ['shstReferenceId', 'type'])\n",
    "\n",
    "pems_lanes_df = pems_lanes_df.pivot_table(index = [\"shstReferenceId\"], values = \"lanes\", columns = \"type\").fillna(0).reset_index()\n",
    "display(pems_lanes_df)"
   ]
  },
  {
   "cell_type": "code",
   "execution_count": 23,
   "metadata": {},
   "outputs": [
    {
     "data": {
      "text/html": [
       "<div>\n",
       "<style scoped>\n",
       "    .dataframe tbody tr th:only-of-type {\n",
       "        vertical-align: middle;\n",
       "    }\n",
       "\n",
       "    .dataframe tbody tr th {\n",
       "        vertical-align: top;\n",
       "    }\n",
       "\n",
       "    .dataframe thead th {\n",
       "        text-align: right;\n",
       "    }\n",
       "</style>\n",
       "<table border=\"1\" class=\"dataframe\">\n",
       "  <thead>\n",
       "    <tr style=\"text-align: right;\">\n",
       "      <th></th>\n",
       "      <th>shstReferenceId</th>\n",
       "      <th>PEMSID</th>\n",
       "    </tr>\n",
       "  </thead>\n",
       "  <tbody>\n",
       "    <tr>\n",
       "      <th>0</th>\n",
       "      <td>000619909cfedfdc3ae846759247e09f</td>\n",
       "      <td>[404433, 407341]</td>\n",
       "    </tr>\n",
       "    <tr>\n",
       "      <th>1</th>\n",
       "      <td>001faa1f8bf0fafb4298b7438a83b506</td>\n",
       "      <td>[400615]</td>\n",
       "    </tr>\n",
       "    <tr>\n",
       "      <th>2</th>\n",
       "      <td>003a921cd366f424ba0d42e1635f85c2</td>\n",
       "      <td>[409481, 409485]</td>\n",
       "    </tr>\n",
       "    <tr>\n",
       "      <th>3</th>\n",
       "      <td>00441ada4f77ea0e20dd17acd688e289</td>\n",
       "      <td>[404649]</td>\n",
       "    </tr>\n",
       "    <tr>\n",
       "      <th>4</th>\n",
       "      <td>005586c0c986e59d4dcd979513f7e8e6</td>\n",
       "      <td>[401943, 402067, 403412]</td>\n",
       "    </tr>\n",
       "    <tr>\n",
       "      <th>...</th>\n",
       "      <td>...</td>\n",
       "      <td>...</td>\n",
       "    </tr>\n",
       "    <tr>\n",
       "      <th>2008</th>\n",
       "      <td>ff7acac14c0bb77fcdacf4ccd6966517</td>\n",
       "      <td>[402575, 402577, 402579]</td>\n",
       "    </tr>\n",
       "    <tr>\n",
       "      <th>2009</th>\n",
       "      <td>ff8f4bf33f498176b2a6e2fe4d078ff4</td>\n",
       "      <td>[400108]</td>\n",
       "    </tr>\n",
       "    <tr>\n",
       "      <th>2010</th>\n",
       "      <td>ff90d3fb5034f779cc6c4841f2fbcfc5</td>\n",
       "      <td>[408152, 402096]</td>\n",
       "    </tr>\n",
       "    <tr>\n",
       "      <th>2011</th>\n",
       "      <td>ff9ba0a399cb6a07872339ed82edea56</td>\n",
       "      <td>[400703]</td>\n",
       "    </tr>\n",
       "    <tr>\n",
       "      <th>2012</th>\n",
       "      <td>ff9fb0954535136f65fa9fda0774b468</td>\n",
       "      <td>[404877, 414043]</td>\n",
       "    </tr>\n",
       "  </tbody>\n",
       "</table>\n",
       "<p>2013 rows × 2 columns</p>\n",
       "</div>"
      ],
      "text/plain": [
       "                       shstReferenceId                    PEMSID\n",
       "0     000619909cfedfdc3ae846759247e09f          [404433, 407341]\n",
       "1     001faa1f8bf0fafb4298b7438a83b506                  [400615]\n",
       "2     003a921cd366f424ba0d42e1635f85c2          [409481, 409485]\n",
       "3     00441ada4f77ea0e20dd17acd688e289                  [404649]\n",
       "4     005586c0c986e59d4dcd979513f7e8e6  [401943, 402067, 403412]\n",
       "...                                ...                       ...\n",
       "2008  ff7acac14c0bb77fcdacf4ccd6966517  [402575, 402577, 402579]\n",
       "2009  ff8f4bf33f498176b2a6e2fe4d078ff4                  [400108]\n",
       "2010  ff90d3fb5034f779cc6c4841f2fbcfc5          [408152, 402096]\n",
       "2011  ff9ba0a399cb6a07872339ed82edea56                  [400703]\n",
       "2012  ff9fb0954535136f65fa9fda0774b468          [404877, 414043]\n",
       "\n",
       "[2013 rows x 2 columns]"
      ]
     },
     "metadata": {},
     "output_type": "display_data"
    }
   ],
   "source": [
    "link_pems_df = pems_match_gdf[(pems_match_gdf.year.isin([2014,2015,2016]))].drop_duplicates(\n",
    "    subset = [\"shstReferenceId\", \"station\"]).groupby(\n",
    "    [\"shstReferenceId\"]\n",
    ")[\"station\"].apply(list).reset_index().rename(columns = {\"station\" : \"PEMSID\"})\n",
    "\n",
    "display(link_pems_df)"
   ]
  },
  {
   "cell_type": "code",
   "execution_count": 24,
   "metadata": {
    "scrolled": true
   },
   "outputs": [],
   "source": [
    "pems_lanes_df = pd.merge(\n",
    "    pems_lanes_df,\n",
    "    link_pems_df,\n",
    "    how = \"left\",\n",
    "    on = \"shstReferenceId\"\n",
    ")\n",
    "\n",
    "pems_lanes_df.rename(columns = {\"FF\" : \"pems_lanes_FF\", \"FR\" : \"pems_lanes_FR\", \"HV\" : \"pems_lanes_HV\", \n",
    "                                \"ML\" : \"pems_lanes_ML\", \"OR\" : \"pems_lanes_OR\"},\n",
    "                     inplace = True)"
   ]
  },
  {
   "cell_type": "markdown",
   "metadata": {},
   "source": [
    "# Join network with third party sources"
   ]
  },
  {
   "cell_type": "code",
   "execution_count": 28,
   "metadata": {},
   "outputs": [],
   "source": [
    "link_all_conflated_gdf = pd.merge(\n",
    "    link_with_tomtom_gdf,\n",
    "    unique_tm2nonMarin_match_gdf[['shstReferenceId', 'shstGeometryId', 'fromIntersectionId',\n",
    "       'toIntersectionId', 'TM2_A', 'TM2_B', 'TM2_LANES', 'TM2_FT', 'TM2_ASSIGNABLE']],\n",
    "    how = \"left\",\n",
    "    on = ['shstReferenceId', 'shstGeometryId', 'fromIntersectionId', \"toIntersectionId\"]\n",
    ")"
   ]
  },
  {
   "cell_type": "code",
   "execution_count": 29,
   "metadata": {},
   "outputs": [],
   "source": [
    "link_all_conflated_gdf = pd.merge(\n",
    "    link_all_conflated_gdf,\n",
    "    unique_tm2marin_match_gdf[['shstReferenceId', 'shstGeometryId', 'fromIntersectionId',\n",
    "       'toIntersectionId', 'TM2Marin_A', 'TM2Marin_B', 'TM2Marin_LANES', 'TM2Marin_FT',\n",
    "       'TM2Marin_ASSIGNABLE']],\n",
    "    how = \"left\",\n",
    "    on = ['shstReferenceId', 'shstGeometryId', 'fromIntersectionId', \"toIntersectionId\"]\n",
    ")"
   ]
  },
  {
   "cell_type": "code",
   "execution_count": 30,
   "metadata": {},
   "outputs": [],
   "source": [
    "link_all_conflated_gdf = pd.merge(\n",
    "    link_all_conflated_gdf,\n",
    "    unique_sfcta_match_gdf[['shstReferenceId', 'shstGeometryId', 'fromIntersectionId',\n",
    "       'toIntersectionId', 'sfcta_A', 'sfcta_B', 'sfcta_FT', 'sfcta_STREETNAME', 'sfcta_LANE_AM', 'sfcta_LANE_OP',\n",
    "       'sfcta_LANE_PM']],\n",
    "    how = \"left\",\n",
    "    on = ['shstReferenceId', 'shstGeometryId', 'fromIntersectionId', \"toIntersectionId\"]\n",
    ")"
   ]
  },
  {
   "cell_type": "code",
   "execution_count": 31,
   "metadata": {},
   "outputs": [],
   "source": [
    "link_all_conflated_gdf = pd.merge(\n",
    "    link_all_conflated_gdf,\n",
    "    pems_lanes_df,\n",
    "    how = \"left\",\n",
    "    on = \"shstReferenceId\"\n",
    ")"
   ]
  },
  {
   "cell_type": "code",
   "execution_count": 32,
   "metadata": {},
   "outputs": [
    {
     "name": "stdout",
     "output_type": "stream",
     "text": [
      "after conflation, 1705772 links with the follow columns: \n",
      "Index(['shstReferenceId', 'id', 'shstGeometryId', 'fromIntersectionId',\n",
      "       'toIntersectionId', 'u', 'v', 'link', 'oneWay', 'roundabout', 'wayId',\n",
      "       'access', 'area', 'bridge', 'est_width', 'highway', 'junction', 'key',\n",
      "       'landuse', 'lanes', 'maxspeed', 'name', 'ref', 'service', 'tunnel',\n",
      "       'width', 'roadway', 'drive_access', 'walk_access', 'bike_access',\n",
      "       'geometry', 'pp_tomtom_link_id', 'tomtom_ID', 'F_JNCTID', 'T_JNCTID',\n",
      "       'tomtom_lanes', 'tomtom_FRC', 'tomtom_name', 'tomtom_shieldnum',\n",
      "       'tomtom_rtedir', 'TM2_A', 'TM2_B', 'TM2_LANES', 'TM2_FT',\n",
      "       'TM2_ASSIGNABLE', 'TM2Marin_A', 'TM2Marin_B', 'TM2Marin_LANES',\n",
      "       'TM2Marin_FT', 'TM2Marin_ASSIGNABLE', 'sfcta_A', 'sfcta_B', 'sfcta_FT',\n",
      "       'sfcta_STREETNAME', 'sfcta_LANE_AM', 'sfcta_LANE_OP', 'sfcta_LANE_PM',\n",
      "       'pems_lanes_FF', 'pems_lanes_FR', 'pems_lanes_HV', 'pems_lanes_ML',\n",
      "       'pems_lanes_OR', 'PEMSID'],\n",
      "      dtype='object')\n"
     ]
    }
   ],
   "source": [
    "print('after conflation, {} links with the follow columns: \\n{}'.format(\n",
    "    link_all_conflated_gdf.shape[0],\n",
    "    link_all_conflated_gdf.columns))"
   ]
  },
  {
   "cell_type": "markdown",
   "metadata": {},
   "source": [
    "# Write out standard link json and link feather"
   ]
  },
  {
   "cell_type": "code",
   "execution_count": 33,
   "metadata": {},
   "outputs": [
    {
     "name": "stdout",
     "output_type": "stream",
     "text": [
      "['shstReferenceId', 'id', 'shstGeometryId', 'fromIntersectionId', 'toIntersectionId', 'u', 'v', 'link', 'oneWay', 'roundabout', 'wayId', 'access', 'area', 'bridge', 'est_width', 'highway', 'junction', 'key', 'landuse', 'lanes', 'maxspeed', 'name', 'ref', 'service', 'tunnel', 'width', 'roadway', 'drive_access', 'walk_access', 'bike_access']\n"
     ]
    }
   ],
   "source": [
    "link_json_columns = link_df.columns.tolist()\n",
    "print(link_json_columns)"
   ]
  },
  {
   "cell_type": "code",
   "execution_count": 34,
   "metadata": {},
   "outputs": [
    {
     "name": "stdout",
     "output_type": "stream",
     "text": [
      "-------write out link json---------\n"
     ]
    }
   ],
   "source": [
    "print(\"-------write out link json---------\")\n",
    "\n",
    "link_prop = link_json_columns\n",
    "\n",
    "out = link_all_conflated_gdf[link_prop].to_json(orient = \"records\")\n",
    "\n",
    "with open(data_interim_dir + 'step4_conflate_with_tomtom/link.json', 'w') as f:\n",
    "    f.write(out)"
   ]
  },
  {
   "cell_type": "code",
   "execution_count": 35,
   "metadata": {},
   "outputs": [
    {
     "name": "stdout",
     "output_type": "stream",
     "text": [
      "-------write out link feather---------\n"
     ]
    }
   ],
   "source": [
    "print(\"-------write out link feather---------\")\n",
    "\n",
    "link_feather = link_all_conflated_gdf[link_json_columns].copy()\n",
    "\n",
    "object_col = list(link_feather.select_dtypes(['object']).columns)\n",
    "\n",
    "for c in object_col:\n",
    "    link_feather[c] = link_feather[c].astype(str)\n",
    "\n",
    "link_feather.to_feather(data_interim_dir + 'step4_conflate_with_tomtom/link.feather')"
   ]
  },
  {
   "cell_type": "code",
   "execution_count": 37,
   "metadata": {},
   "outputs": [
    {
     "name": "stdout",
     "output_type": "stream",
     "text": [
      "-------write out link geojson---------\n"
     ]
    }
   ],
   "source": [
    "print(\"-------write out link geojson---------\")\n",
    "\n",
    "link_all_conflated_gdf_prop = link_all_conflated_gdf.drop(\"geometry\", axis = 1).columns\n",
    "link_all_conflated_geojson = link_df_to_geojson(link_all_conflated_gdf, link_all_conflated_gdf_prop)\n",
    "\n",
    "with open(data_interim_dir + 'step4_conflate_with_tomtom/link.geojson', \"w\") as f:\n",
    "    json.dump(link_all_conflated_geojson, f)"
   ]
  },
  {
   "cell_type": "markdown",
   "metadata": {},
   "source": [
    "# Write out conflation result data base"
   ]
  },
  {
   "cell_type": "code",
   "execution_count": 38,
   "metadata": {},
   "outputs": [],
   "source": [
    "# tomtom FRC dictionary\n",
    "\n",
    "tomtom_FRC_dict = {\n",
    "    0: \"0-Motorway, Freeway, or Other Major Road\",\n",
    "    1: \"1-Major Road Less Important than a Motorway\",\n",
    "    2: \"2-Other Major Road\",\n",
    "    3: \"3-Secondary Road\",\n",
    "    4: \"4-Local Connecting Road\",\n",
    "    5: \"5-Local Road of High Importance\",\n",
    "    6: \"6-Local Road\",\n",
    "    7: \"7-Local Road of Minor Importance\",\n",
    "    8: \"8-Other Road\"\n",
    "}\n",
    "\n",
    "link_all_conflated_gdf[\"tomtom_FRC_def\"] = link_all_conflated_gdf[\"tomtom_FRC\"].map(tomtom_FRC_dict)"
   ]
  },
  {
   "cell_type": "code",
   "execution_count": 39,
   "metadata": {},
   "outputs": [
    {
     "data": {
      "text/plain": [
       "7-Local Road of Minor Importance               194543\n",
       "6-Local Road                                   162898\n",
       "4-Local Connecting Road                         60807\n",
       "5-Local Road of High Importance                 51673\n",
       "8-Other Road                                    17417\n",
       "3-Secondary Road                                14542\n",
       "1-Major Road Less Important than a Motorway      6381\n",
       "0-Motorway, Freeway, or Other Major Road         5104\n",
       "2-Other Major Road                                811\n",
       "Name: tomtom_FRC_def, dtype: int64"
      ]
     },
     "execution_count": 39,
     "metadata": {},
     "output_type": "execute_result"
    }
   ],
   "source": [
    "link_all_conflated_gdf.tomtom_FRC_def.value_counts()"
   ]
  },
  {
   "cell_type": "code",
   "execution_count": 40,
   "metadata": {},
   "outputs": [
    {
     "data": {
      "text/plain": [
       "4-Collector             549075\n",
       "7-Major Arterial        143229\n",
       "0-Connector              57792\n",
       "3-Expressway             14180\n",
       "2-Freeway                 3357\n",
       "5-Ramp                    2207\n",
       "1-Freeway to Freeway       159\n",
       "Name: TM2_FT_def, dtype: int64"
      ]
     },
     "execution_count": 40,
     "metadata": {},
     "output_type": "execute_result"
    }
   ],
   "source": [
    "TM2_FT_dict = {\n",
    "    0: \"0-Connector\",\n",
    "    1: \"1-Freeway to Freeway\",\n",
    "    2: \"2-Freeway\",\n",
    "    3: \"3-Expressway\",\n",
    "    4: \"4-Collector\",\n",
    "    5: \"5-Ramp\",\n",
    "    6: \"6-Special Facility\",\n",
    "    7: \"7-Major Arterial\",\n",
    "}\n",
    "\n",
    "link_all_conflated_gdf[\"TM2_FT_def\"] = link_all_conflated_gdf[\"TM2_FT\"].map(TM2_FT_dict)\n",
    "\n",
    "link_all_conflated_gdf.TM2_FT_def.value_counts()"
   ]
  },
  {
   "cell_type": "code",
   "execution_count": 41,
   "metadata": {},
   "outputs": [],
   "source": [
    "# write conflation data base\n",
    "\n",
    "tableau_fields = [\"shstReferenceId\", \"roadway\", \"lanes\", \"drive_access\", \"bike_access\", \"walk_access\",\n",
    "                  \"tomtom_FRC\", \"tomtom_FRC_def\", \"tomtom_lanes\", \"pp_tomtom_link_id\", 'F_JNCTID', 'T_JNCTID',\n",
    "                  'tomtom_name', 'tomtom_shieldnum', 'tomtom_rtedir', 'TM2Marin_A',\n",
    "                  'TM2Marin_B', 'TM2Marin_FT', 'TM2Marin_LANES', 'TM2Marin_ASSIGNABLE', \n",
    "                  'TM2_A', 'TM2_B', 'TM2_FT', \"TM2_FT_def\", 'TM2_LANES', 'TM2_ASSIGNABLE', \n",
    "                  \"sfcta_A\", 'sfcta_B', \"sfcta_STREETNAME\", 'sfcta_FT', 'sfcta_LANE_AM', 'sfcta_LANE_OP',\n",
    "                  'sfcta_LANE_PM', 'PEMSID', 'pems_lanes_FF', 'pems_lanes_FR',\n",
    "                  'pems_lanes_HV', 'pems_lanes_ML', 'pems_lanes_OR']\n",
    "\n",
    "link_all_conflated_gdf[tableau_fields].rename(columns = {\"lanes\" : \"lanes_osm\",\n",
    "                                                         \"pp_tomtom_link_id\" : \"tomtom_unique_id\"}\n",
    "                              ).to_csv(data_interim_dir + \"conflation_result.csv\",\n",
    "                             index = False)"
   ]
  }
 ],
 "metadata": {
  "kernelspec": {
   "display_name": "Python 3",
   "language": "python",
   "name": "python3"
  },
  "language_info": {
   "codemirror_mode": {
    "name": "ipython",
    "version": 3
   },
   "file_extension": ".py",
   "mimetype": "text/x-python",
   "name": "python",
   "nbconvert_exporter": "python",
   "pygments_lexer": "ipython3",
   "version": "3.8.8"
  }
 },
 "nbformat": 4,
 "nbformat_minor": 2
}
