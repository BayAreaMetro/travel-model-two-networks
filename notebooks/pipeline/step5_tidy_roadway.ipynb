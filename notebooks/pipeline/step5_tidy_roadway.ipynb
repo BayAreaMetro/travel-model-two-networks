{
 "cells": [
  {
   "cell_type": "code",
   "execution_count": 1,
   "metadata": {},
   "outputs": [],
   "source": [
    "import pandas as pd\n",
    "import geopandas as gpd\n",
    "import numpy as np\n",
    "import json\n",
    "from scipy.spatial import cKDTree"
   ]
  },
  {
   "cell_type": "code",
   "execution_count": 2,
   "metadata": {},
   "outputs": [],
   "source": [
    "from methods import link_df_to_geojson\n",
    "from methods import point_df_to_geojson\n",
    "from methods import identify_dead_end_nodes"
   ]
  },
  {
   "cell_type": "code",
   "execution_count": 3,
   "metadata": {},
   "outputs": [],
   "source": [
    "data_interim_dir = \"../../data/interim/\"\n",
    "data_external_dir = \"../../data/external/\""
   ]
  },
  {
   "cell_type": "markdown",
   "metadata": {},
   "source": [
    "# Read network"
   ]
  },
  {
   "cell_type": "code",
   "execution_count": 4,
   "metadata": {
    "scrolled": true
   },
   "outputs": [
    {
     "name": "stdout",
     "output_type": "stream",
     "text": [
      "(908267, 6)\n",
      "['id', 'fromIntersectionId', 'toIntersectionId', 'forwardReferenceId', 'backReferenceId', 'geometry']\n"
     ]
    },
    {
     "data": {
      "text/html": [
       "<div>\n",
       "<style scoped>\n",
       "    .dataframe tbody tr th:only-of-type {\n",
       "        vertical-align: middle;\n",
       "    }\n",
       "\n",
       "    .dataframe tbody tr th {\n",
       "        vertical-align: top;\n",
       "    }\n",
       "\n",
       "    .dataframe thead th {\n",
       "        text-align: right;\n",
       "    }\n",
       "</style>\n",
       "<table border=\"1\" class=\"dataframe\">\n",
       "  <thead>\n",
       "    <tr style=\"text-align: right;\">\n",
       "      <th></th>\n",
       "      <th>id</th>\n",
       "      <th>fromIntersectionId</th>\n",
       "      <th>toIntersectionId</th>\n",
       "      <th>forwardReferenceId</th>\n",
       "      <th>backReferenceId</th>\n",
       "      <th>geometry</th>\n",
       "    </tr>\n",
       "  </thead>\n",
       "  <tbody>\n",
       "    <tr>\n",
       "      <th>0</th>\n",
       "      <td>89d807e34d7630c619bbc23a64e1313e</td>\n",
       "      <td>fc62d018be0236d6b9e43536ebc51830</td>\n",
       "      <td>61c9208c38c5d942c222859cb7073e30</td>\n",
       "      <td>1f25555f0c2f4a6c1205f4f0079c818f</td>\n",
       "      <td>d0e1dddc808772de514b913b8f6875c7</td>\n",
       "      <td>LINESTRING (-121.81724 38.00970, -121.81667 38...</td>\n",
       "    </tr>\n",
       "    <tr>\n",
       "      <th>1</th>\n",
       "      <td>95451c235af17ca9cde815dfc3f4b6ce</td>\n",
       "      <td>1bf4572e933b7f6d81535ff217053926</td>\n",
       "      <td>d60ae663adb14804616d2ca06c3ff8fb</td>\n",
       "      <td>89dd7cf0f842c091241b9a139a5e9506</td>\n",
       "      <td>f38e31579534d3a5abb518ef31bb0517</td>\n",
       "      <td>LINESTRING (-121.81720 38.00839, -121.81726 38...</td>\n",
       "    </tr>\n",
       "    <tr>\n",
       "      <th>2</th>\n",
       "      <td>6c28c78ee3ac710cf40194e2cac3730d</td>\n",
       "      <td>fc62d018be0236d6b9e43536ebc51830</td>\n",
       "      <td>d60ae663adb14804616d2ca06c3ff8fb</td>\n",
       "      <td>31529c3bf7a3c1a1aa9f76a607762487</td>\n",
       "      <td>80c4235b61bd0fe1b1538b8b36b40958</td>\n",
       "      <td>LINESTRING (-121.81724 38.00970, -121.81726 38...</td>\n",
       "    </tr>\n",
       "    <tr>\n",
       "      <th>3</th>\n",
       "      <td>bcf240fee04a590969705fdaeea814ea</td>\n",
       "      <td>3e8bf208fb1c0ead020efb50b80c55a2</td>\n",
       "      <td>41a9c2c8d1301064a72cedcb5f063361</td>\n",
       "      <td>a70e2e0a5ae6887d0c7b05ed4697c38b</td>\n",
       "      <td>5db4d3943495df8be0ec50e54142ba76</td>\n",
       "      <td>LINESTRING (-121.81806 38.00838, -121.81887 38...</td>\n",
       "    </tr>\n",
       "    <tr>\n",
       "      <th>4</th>\n",
       "      <td>2172fcefdf21e39f6810c4deaf9f89ee</td>\n",
       "      <td>cc73172a9282f3a8567c5d5303a61b42</td>\n",
       "      <td>41a9c2c8d1301064a72cedcb5f063361</td>\n",
       "      <td>91739e1e9ab6e5825162731d510ac4cb</td>\n",
       "      <td>adbcce138fec70e8b6c0abbc86918b1c</td>\n",
       "      <td>LINESTRING (-121.81878 38.00941, -121.81883 38...</td>\n",
       "    </tr>\n",
       "  </tbody>\n",
       "</table>\n",
       "</div>"
      ],
      "text/plain": [
       "                                 id                fromIntersectionId  \\\n",
       "0  89d807e34d7630c619bbc23a64e1313e  fc62d018be0236d6b9e43536ebc51830   \n",
       "1  95451c235af17ca9cde815dfc3f4b6ce  1bf4572e933b7f6d81535ff217053926   \n",
       "2  6c28c78ee3ac710cf40194e2cac3730d  fc62d018be0236d6b9e43536ebc51830   \n",
       "3  bcf240fee04a590969705fdaeea814ea  3e8bf208fb1c0ead020efb50b80c55a2   \n",
       "4  2172fcefdf21e39f6810c4deaf9f89ee  cc73172a9282f3a8567c5d5303a61b42   \n",
       "\n",
       "                   toIntersectionId                forwardReferenceId  \\\n",
       "0  61c9208c38c5d942c222859cb7073e30  1f25555f0c2f4a6c1205f4f0079c818f   \n",
       "1  d60ae663adb14804616d2ca06c3ff8fb  89dd7cf0f842c091241b9a139a5e9506   \n",
       "2  d60ae663adb14804616d2ca06c3ff8fb  31529c3bf7a3c1a1aa9f76a607762487   \n",
       "3  41a9c2c8d1301064a72cedcb5f063361  a70e2e0a5ae6887d0c7b05ed4697c38b   \n",
       "4  41a9c2c8d1301064a72cedcb5f063361  91739e1e9ab6e5825162731d510ac4cb   \n",
       "\n",
       "                    backReferenceId  \\\n",
       "0  d0e1dddc808772de514b913b8f6875c7   \n",
       "1  f38e31579534d3a5abb518ef31bb0517   \n",
       "2  80c4235b61bd0fe1b1538b8b36b40958   \n",
       "3  5db4d3943495df8be0ec50e54142ba76   \n",
       "4  adbcce138fec70e8b6c0abbc86918b1c   \n",
       "\n",
       "                                            geometry  \n",
       "0  LINESTRING (-121.81724 38.00970, -121.81667 38...  \n",
       "1  LINESTRING (-121.81720 38.00839, -121.81726 38...  \n",
       "2  LINESTRING (-121.81724 38.00970, -121.81726 38...  \n",
       "3  LINESTRING (-121.81806 38.00838, -121.81887 38...  \n",
       "4  LINESTRING (-121.81878 38.00941, -121.81883 38...  "
      ]
     },
     "metadata": {},
     "output_type": "display_data"
    },
    {
     "name": "stdout",
     "output_type": "stream",
     "text": [
      "Wall time: 1min 43s\n"
     ]
    }
   ],
   "source": [
    "%%time\n",
    "shape_gdf = gpd.read_file(data_interim_dir + \"step3_join_shst_extraction_with_osm/\" + \"shape.geojson\")\n",
    "print(shape_gdf.shape)\n",
    "print(list(shape_gdf))\n",
    "display(shape_gdf.head())"
   ]
  },
  {
   "cell_type": "code",
   "execution_count": 5,
   "metadata": {},
   "outputs": [
    {
     "name": "stdout",
     "output_type": "stream",
     "text": [
      "(661159, 6)\n",
      "['osm_node_id', 'shst_node_id', 'drive_access', 'walk_access', 'bike_access', 'geometry']\n"
     ]
    },
    {
     "data": {
      "text/html": [
       "<div>\n",
       "<style scoped>\n",
       "    .dataframe tbody tr th:only-of-type {\n",
       "        vertical-align: middle;\n",
       "    }\n",
       "\n",
       "    .dataframe tbody tr th {\n",
       "        vertical-align: top;\n",
       "    }\n",
       "\n",
       "    .dataframe thead th {\n",
       "        text-align: right;\n",
       "    }\n",
       "</style>\n",
       "<table border=\"1\" class=\"dataframe\">\n",
       "  <thead>\n",
       "    <tr style=\"text-align: right;\">\n",
       "      <th></th>\n",
       "      <th>osm_node_id</th>\n",
       "      <th>shst_node_id</th>\n",
       "      <th>drive_access</th>\n",
       "      <th>walk_access</th>\n",
       "      <th>bike_access</th>\n",
       "      <th>geometry</th>\n",
       "    </tr>\n",
       "  </thead>\n",
       "  <tbody>\n",
       "    <tr>\n",
       "      <th>0</th>\n",
       "      <td>2401244716</td>\n",
       "      <td>505d64eb98f1da8d812a3b3801034308</td>\n",
       "      <td>1</td>\n",
       "      <td>1</td>\n",
       "      <td>1</td>\n",
       "      <td>POINT (-122.33155 37.98120)</td>\n",
       "    </tr>\n",
       "    <tr>\n",
       "      <th>1</th>\n",
       "      <td>57839068</td>\n",
       "      <td>473979c78435732f01ca5a168afb62e0</td>\n",
       "      <td>1</td>\n",
       "      <td>1</td>\n",
       "      <td>1</td>\n",
       "      <td>POINT (-121.94477 37.95332)</td>\n",
       "    </tr>\n",
       "    <tr>\n",
       "      <th>2</th>\n",
       "      <td>1024388950</td>\n",
       "      <td>fc7b575d5d8c961d4a70fca846ae7f80</td>\n",
       "      <td>1</td>\n",
       "      <td>1</td>\n",
       "      <td>1</td>\n",
       "      <td>POINT (-122.53983 37.89800)</td>\n",
       "    </tr>\n",
       "    <tr>\n",
       "      <th>3</th>\n",
       "      <td>65561433</td>\n",
       "      <td>6c60cf34e9dc3e123eefb829fe80c76a</td>\n",
       "      <td>1</td>\n",
       "      <td>1</td>\n",
       "      <td>1</td>\n",
       "      <td>POINT (-122.03190 37.26739)</td>\n",
       "    </tr>\n",
       "    <tr>\n",
       "      <th>4</th>\n",
       "      <td>4545575571</td>\n",
       "      <td>013e1f994fd86c1f226098f8364f7286</td>\n",
       "      <td>1</td>\n",
       "      <td>1</td>\n",
       "      <td>1</td>\n",
       "      <td>POINT (-122.01186 37.37845)</td>\n",
       "    </tr>\n",
       "  </tbody>\n",
       "</table>\n",
       "</div>"
      ],
      "text/plain": [
       "   osm_node_id                      shst_node_id  drive_access  walk_access  \\\n",
       "0   2401244716  505d64eb98f1da8d812a3b3801034308             1            1   \n",
       "1     57839068  473979c78435732f01ca5a168afb62e0             1            1   \n",
       "2   1024388950  fc7b575d5d8c961d4a70fca846ae7f80             1            1   \n",
       "3     65561433  6c60cf34e9dc3e123eefb829fe80c76a             1            1   \n",
       "4   4545575571  013e1f994fd86c1f226098f8364f7286             1            1   \n",
       "\n",
       "   bike_access                     geometry  \n",
       "0            1  POINT (-122.33155 37.98120)  \n",
       "1            1  POINT (-121.94477 37.95332)  \n",
       "2            1  POINT (-122.53983 37.89800)  \n",
       "3            1  POINT (-122.03190 37.26739)  \n",
       "4            1  POINT (-122.01186 37.37845)  "
      ]
     },
     "metadata": {},
     "output_type": "display_data"
    },
    {
     "name": "stdout",
     "output_type": "stream",
     "text": [
      "Wall time: 48 s\n"
     ]
    }
   ],
   "source": [
    "%%time\n",
    "node_file = data_interim_dir + \"step3_join_shst_extraction_with_osm/\" + \"node.geojson\"\n",
    "node_gdf = gpd.read_file(node_file)\n",
    "print(node_gdf.shape)\n",
    "print(list(node_gdf))\n",
    "display(node_gdf.head())"
   ]
  },
  {
   "cell_type": "code",
   "execution_count": 6,
   "metadata": {},
   "outputs": [
    {
     "name": "stdout",
     "output_type": "stream",
     "text": [
      "(1705772, 30)\n",
      "['access', 'area', 'bike_access', 'bridge', 'drive_access', 'est_width', 'fromIntersectionId', 'highway', 'id', 'junction', 'key', 'landuse', 'lanes', 'link', 'maxspeed', 'name', 'oneWay', 'ref', 'roadway', 'roundabout', 'service', 'shstGeometryId', 'shstReferenceId', 'toIntersectionId', 'tunnel', 'u', 'v', 'walk_access', 'wayId', 'width']\n"
     ]
    },
    {
     "data": {
      "text/html": [
       "<div>\n",
       "<style scoped>\n",
       "    .dataframe tbody tr th:only-of-type {\n",
       "        vertical-align: middle;\n",
       "    }\n",
       "\n",
       "    .dataframe tbody tr th {\n",
       "        vertical-align: top;\n",
       "    }\n",
       "\n",
       "    .dataframe thead th {\n",
       "        text-align: right;\n",
       "    }\n",
       "</style>\n",
       "<table border=\"1\" class=\"dataframe\">\n",
       "  <thead>\n",
       "    <tr style=\"text-align: right;\">\n",
       "      <th></th>\n",
       "      <th>access</th>\n",
       "      <th>area</th>\n",
       "      <th>bike_access</th>\n",
       "      <th>bridge</th>\n",
       "      <th>drive_access</th>\n",
       "      <th>est_width</th>\n",
       "      <th>fromIntersectionId</th>\n",
       "      <th>highway</th>\n",
       "      <th>id</th>\n",
       "      <th>junction</th>\n",
       "      <th>...</th>\n",
       "      <th>service</th>\n",
       "      <th>shstGeometryId</th>\n",
       "      <th>shstReferenceId</th>\n",
       "      <th>toIntersectionId</th>\n",
       "      <th>tunnel</th>\n",
       "      <th>u</th>\n",
       "      <th>v</th>\n",
       "      <th>walk_access</th>\n",
       "      <th>wayId</th>\n",
       "      <th>width</th>\n",
       "    </tr>\n",
       "  </thead>\n",
       "  <tbody>\n",
       "    <tr>\n",
       "      <th>0</th>\n",
       "      <td>nan</td>\n",
       "      <td>nan</td>\n",
       "      <td>1</td>\n",
       "      <td>nan</td>\n",
       "      <td>1</td>\n",
       "      <td>nan</td>\n",
       "      <td>505d64eb98f1da8d812a3b3801034308</td>\n",
       "      <td>service</td>\n",
       "      <td>208e093f10a62dcc6646a8efa0bde136</td>\n",
       "      <td>nan</td>\n",
       "      <td>...</td>\n",
       "      <td>parking_aisle</td>\n",
       "      <td>208e093f10a62dcc6646a8efa0bde136</td>\n",
       "      <td>00000461094d7f302e7afdcfc7ff5ba3</td>\n",
       "      <td>fb8b1bcb4bb81380f0dc83c1aa5006f4</td>\n",
       "      <td>nan</td>\n",
       "      <td>2401244716</td>\n",
       "      <td>2401244712</td>\n",
       "      <td>1</td>\n",
       "      <td>231794292</td>\n",
       "      <td>nan</td>\n",
       "    </tr>\n",
       "    <tr>\n",
       "      <th>1</th>\n",
       "      <td>nan</td>\n",
       "      <td>nan</td>\n",
       "      <td>1</td>\n",
       "      <td>nan</td>\n",
       "      <td>1</td>\n",
       "      <td>nan</td>\n",
       "      <td>473979c78435732f01ca5a168afb62e0</td>\n",
       "      <td>residential</td>\n",
       "      <td>5fe3056a5583474c0c898983cd6a638b</td>\n",
       "      <td>nan</td>\n",
       "      <td>...</td>\n",
       "      <td>nan</td>\n",
       "      <td>5fe3056a5583474c0c898983cd6a638b</td>\n",
       "      <td>00000b467d2e08f9abf13eeafee3ed46</td>\n",
       "      <td>5adfc2245bcc082b5b004dbc53d9dfb0</td>\n",
       "      <td>nan</td>\n",
       "      <td>57839068</td>\n",
       "      <td>57869731</td>\n",
       "      <td>1</td>\n",
       "      <td>7864473</td>\n",
       "      <td>nan</td>\n",
       "    </tr>\n",
       "    <tr>\n",
       "      <th>2</th>\n",
       "      <td>nan</td>\n",
       "      <td>nan</td>\n",
       "      <td>1</td>\n",
       "      <td>nan</td>\n",
       "      <td>1</td>\n",
       "      <td>nan</td>\n",
       "      <td>fc7b575d5d8c961d4a70fca846ae7f80</td>\n",
       "      <td>tertiary</td>\n",
       "      <td>38e962038ecf17c6c7394ba88bc3b4c1</td>\n",
       "      <td>nan</td>\n",
       "      <td>...</td>\n",
       "      <td>nan</td>\n",
       "      <td>38e962038ecf17c6c7394ba88bc3b4c1</td>\n",
       "      <td>000018062272093dbaa5d49303062454</td>\n",
       "      <td>7550e87fc64657a10282672d814ab3c5</td>\n",
       "      <td>nan</td>\n",
       "      <td>1024388950</td>\n",
       "      <td>110424978</td>\n",
       "      <td>1</td>\n",
       "      <td>12183318</td>\n",
       "      <td>nan</td>\n",
       "    </tr>\n",
       "    <tr>\n",
       "      <th>3</th>\n",
       "      <td>nan</td>\n",
       "      <td>nan</td>\n",
       "      <td>1</td>\n",
       "      <td>nan</td>\n",
       "      <td>1</td>\n",
       "      <td>nan</td>\n",
       "      <td>6c60cf34e9dc3e123eefb829fe80c76a</td>\n",
       "      <td>residential</td>\n",
       "      <td>f3558c6d4c7e3d48742ea3755186c20d</td>\n",
       "      <td>nan</td>\n",
       "      <td>...</td>\n",
       "      <td>nan</td>\n",
       "      <td>f3558c6d4c7e3d48742ea3755186c20d</td>\n",
       "      <td>000018a23d1330dcfbae79f44e9fca1a</td>\n",
       "      <td>cce854f3462409d6825c15ac6309f495</td>\n",
       "      <td>nan</td>\n",
       "      <td>65561433</td>\n",
       "      <td>1325928459</td>\n",
       "      <td>1</td>\n",
       "      <td>8951190</td>\n",
       "      <td>nan</td>\n",
       "    </tr>\n",
       "    <tr>\n",
       "      <th>4</th>\n",
       "      <td>nan</td>\n",
       "      <td>nan</td>\n",
       "      <td>1</td>\n",
       "      <td>nan</td>\n",
       "      <td>1</td>\n",
       "      <td>nan</td>\n",
       "      <td>013e1f994fd86c1f226098f8364f7286</td>\n",
       "      <td>service</td>\n",
       "      <td>550ef74674d67256659c5ab80d35d7a7</td>\n",
       "      <td>nan</td>\n",
       "      <td>...</td>\n",
       "      <td>road</td>\n",
       "      <td>550ef74674d67256659c5ab80d35d7a7</td>\n",
       "      <td>0000491ae6975893d350d75ed7aa5842</td>\n",
       "      <td>9513a9ae6406c5d62f9bf1a7bafd2b73</td>\n",
       "      <td>nan</td>\n",
       "      <td>4545575571</td>\n",
       "      <td>4545575563</td>\n",
       "      <td>1</td>\n",
       "      <td>458575920</td>\n",
       "      <td>nan</td>\n",
       "    </tr>\n",
       "  </tbody>\n",
       "</table>\n",
       "<p>5 rows × 30 columns</p>\n",
       "</div>"
      ],
      "text/plain": [
       "  access area  bike_access bridge  drive_access est_width  \\\n",
       "0    nan  nan            1    nan             1       nan   \n",
       "1    nan  nan            1    nan             1       nan   \n",
       "2    nan  nan            1    nan             1       nan   \n",
       "3    nan  nan            1    nan             1       nan   \n",
       "4    nan  nan            1    nan             1       nan   \n",
       "\n",
       "                 fromIntersectionId      highway  \\\n",
       "0  505d64eb98f1da8d812a3b3801034308      service   \n",
       "1  473979c78435732f01ca5a168afb62e0  residential   \n",
       "2  fc7b575d5d8c961d4a70fca846ae7f80     tertiary   \n",
       "3  6c60cf34e9dc3e123eefb829fe80c76a  residential   \n",
       "4  013e1f994fd86c1f226098f8364f7286      service   \n",
       "\n",
       "                                 id junction  ...        service  \\\n",
       "0  208e093f10a62dcc6646a8efa0bde136      nan  ...  parking_aisle   \n",
       "1  5fe3056a5583474c0c898983cd6a638b      nan  ...            nan   \n",
       "2  38e962038ecf17c6c7394ba88bc3b4c1      nan  ...            nan   \n",
       "3  f3558c6d4c7e3d48742ea3755186c20d      nan  ...            nan   \n",
       "4  550ef74674d67256659c5ab80d35d7a7      nan  ...           road   \n",
       "\n",
       "                     shstGeometryId                   shstReferenceId  \\\n",
       "0  208e093f10a62dcc6646a8efa0bde136  00000461094d7f302e7afdcfc7ff5ba3   \n",
       "1  5fe3056a5583474c0c898983cd6a638b  00000b467d2e08f9abf13eeafee3ed46   \n",
       "2  38e962038ecf17c6c7394ba88bc3b4c1  000018062272093dbaa5d49303062454   \n",
       "3  f3558c6d4c7e3d48742ea3755186c20d  000018a23d1330dcfbae79f44e9fca1a   \n",
       "4  550ef74674d67256659c5ab80d35d7a7  0000491ae6975893d350d75ed7aa5842   \n",
       "\n",
       "                   toIntersectionId tunnel           u           v  \\\n",
       "0  fb8b1bcb4bb81380f0dc83c1aa5006f4    nan  2401244716  2401244712   \n",
       "1  5adfc2245bcc082b5b004dbc53d9dfb0    nan    57839068    57869731   \n",
       "2  7550e87fc64657a10282672d814ab3c5    nan  1024388950   110424978   \n",
       "3  cce854f3462409d6825c15ac6309f495    nan    65561433  1325928459   \n",
       "4  9513a9ae6406c5d62f9bf1a7bafd2b73    nan  4545575571  4545575563   \n",
       "\n",
       "  walk_access      wayId width  \n",
       "0           1  231794292   nan  \n",
       "1           1    7864473   nan  \n",
       "2           1   12183318   nan  \n",
       "3           1    8951190   nan  \n",
       "4           1  458575920   nan  \n",
       "\n",
       "[5 rows x 30 columns]"
      ]
     },
     "metadata": {},
     "output_type": "display_data"
    },
    {
     "name": "stdout",
     "output_type": "stream",
     "text": [
      "Wall time: 13.7 s\n"
     ]
    }
   ],
   "source": [
    "%%time\n",
    "link_file = data_interim_dir + \"step4_conflate_with_tomtom/\" + \"link.feather\"\n",
    "\n",
    "link_df = pd.read_feather(link_file)\n",
    "\n",
    "print(link_df.shape)\n",
    "print(list(link_df))\n",
    "display(link_df.head())"
   ]
  },
  {
   "cell_type": "code",
   "execution_count": 8,
   "metadata": {},
   "outputs": [
    {
     "name": "stdout",
     "output_type": "stream",
     "text": [
      "epsg:4326\n"
     ]
    }
   ],
   "source": [
    "print(shape_gdf.crs)"
   ]
  },
  {
   "cell_type": "markdown",
   "metadata": {},
   "source": [
    "# Join county name to shapes and nodes"
   ]
  },
  {
   "cell_type": "code",
   "execution_count": 9,
   "metadata": {},
   "outputs": [
    {
     "name": "stdout",
     "output_type": "stream",
     "text": [
      "(3233, 10)\n",
      "['STATEFP', 'COUNTYFP', 'COUNTYNS', 'AFFGEOID', 'GEOID', 'NAME', 'LSAD', 'ALAND', 'AWATER', 'geometry']\n"
     ]
    },
    {
     "data": {
      "text/html": [
       "<div>\n",
       "<style scoped>\n",
       "    .dataframe tbody tr th:only-of-type {\n",
       "        vertical-align: middle;\n",
       "    }\n",
       "\n",
       "    .dataframe tbody tr th {\n",
       "        vertical-align: top;\n",
       "    }\n",
       "\n",
       "    .dataframe thead th {\n",
       "        text-align: right;\n",
       "    }\n",
       "</style>\n",
       "<table border=\"1\" class=\"dataframe\">\n",
       "  <thead>\n",
       "    <tr style=\"text-align: right;\">\n",
       "      <th></th>\n",
       "      <th>STATEFP</th>\n",
       "      <th>COUNTYFP</th>\n",
       "      <th>COUNTYNS</th>\n",
       "      <th>AFFGEOID</th>\n",
       "      <th>GEOID</th>\n",
       "      <th>NAME</th>\n",
       "      <th>LSAD</th>\n",
       "      <th>ALAND</th>\n",
       "      <th>AWATER</th>\n",
       "      <th>geometry</th>\n",
       "    </tr>\n",
       "  </thead>\n",
       "  <tbody>\n",
       "    <tr>\n",
       "      <th>0</th>\n",
       "      <td>21</td>\n",
       "      <td>007</td>\n",
       "      <td>00516850</td>\n",
       "      <td>0500000US21007</td>\n",
       "      <td>21007</td>\n",
       "      <td>Ballard</td>\n",
       "      <td>06</td>\n",
       "      <td>639387454</td>\n",
       "      <td>69473325</td>\n",
       "      <td>POLYGON ((-89.18137 37.04630, -89.17938 37.053...</td>\n",
       "    </tr>\n",
       "    <tr>\n",
       "      <th>1</th>\n",
       "      <td>21</td>\n",
       "      <td>017</td>\n",
       "      <td>00516855</td>\n",
       "      <td>0500000US21017</td>\n",
       "      <td>21017</td>\n",
       "      <td>Bourbon</td>\n",
       "      <td>06</td>\n",
       "      <td>750439351</td>\n",
       "      <td>4829777</td>\n",
       "      <td>POLYGON ((-84.44266 38.28324, -84.44114 38.283...</td>\n",
       "    </tr>\n",
       "    <tr>\n",
       "      <th>2</th>\n",
       "      <td>21</td>\n",
       "      <td>031</td>\n",
       "      <td>00516862</td>\n",
       "      <td>0500000US21031</td>\n",
       "      <td>21031</td>\n",
       "      <td>Butler</td>\n",
       "      <td>06</td>\n",
       "      <td>1103571974</td>\n",
       "      <td>13943044</td>\n",
       "      <td>POLYGON ((-86.94486 37.07341, -86.94346 37.074...</td>\n",
       "    </tr>\n",
       "    <tr>\n",
       "      <th>3</th>\n",
       "      <td>21</td>\n",
       "      <td>065</td>\n",
       "      <td>00516879</td>\n",
       "      <td>0500000US21065</td>\n",
       "      <td>21065</td>\n",
       "      <td>Estill</td>\n",
       "      <td>06</td>\n",
       "      <td>655509930</td>\n",
       "      <td>6516335</td>\n",
       "      <td>POLYGON ((-84.12662 37.64540, -84.12483 37.646...</td>\n",
       "    </tr>\n",
       "    <tr>\n",
       "      <th>4</th>\n",
       "      <td>21</td>\n",
       "      <td>069</td>\n",
       "      <td>00516881</td>\n",
       "      <td>0500000US21069</td>\n",
       "      <td>21069</td>\n",
       "      <td>Fleming</td>\n",
       "      <td>06</td>\n",
       "      <td>902727151</td>\n",
       "      <td>7182793</td>\n",
       "      <td>POLYGON ((-83.98428 38.44549, -83.98246 38.450...</td>\n",
       "    </tr>\n",
       "  </tbody>\n",
       "</table>\n",
       "</div>"
      ],
      "text/plain": [
       "  STATEFP COUNTYFP  COUNTYNS        AFFGEOID  GEOID     NAME LSAD       ALAND  \\\n",
       "0      21      007  00516850  0500000US21007  21007  Ballard   06   639387454   \n",
       "1      21      017  00516855  0500000US21017  21017  Bourbon   06   750439351   \n",
       "2      21      031  00516862  0500000US21031  21031   Butler   06  1103571974   \n",
       "3      21      065  00516879  0500000US21065  21065   Estill   06   655509930   \n",
       "4      21      069  00516881  0500000US21069  21069  Fleming   06   902727151   \n",
       "\n",
       "     AWATER                                           geometry  \n",
       "0  69473325  POLYGON ((-89.18137 37.04630, -89.17938 37.053...  \n",
       "1   4829777  POLYGON ((-84.44266 38.28324, -84.44114 38.283...  \n",
       "2  13943044  POLYGON ((-86.94486 37.07341, -86.94346 37.074...  \n",
       "3   6516335  POLYGON ((-84.12662 37.64540, -84.12483 37.646...  \n",
       "4   7182793  POLYGON ((-83.98428 38.44549, -83.98246 38.450...  "
      ]
     },
     "metadata": {},
     "output_type": "display_data"
    }
   ],
   "source": [
    "county_file = data_external_dir + \"county_boundaries/cb_2018_us_county_500k/cb_2018_us_county_500k.shp\"\n",
    "\n",
    "county_gdf = gpd.read_file(county_file)\n",
    "\n",
    "county_gdf = county_gdf.to_crs(shape_gdf.crs)\n",
    "\n",
    "print(county_gdf.shape)\n",
    "print(list(county_gdf))\n",
    "display(county_gdf.head())"
   ]
  },
  {
   "cell_type": "code",
   "execution_count": 10,
   "metadata": {},
   "outputs": [
    {
     "name": "stdout",
     "output_type": "stream",
     "text": [
      "Wall time: 4min 31s\n"
     ]
    }
   ],
   "source": [
    "%%time\n",
    "# spatial join nodes with county shape\n",
    "node_county_gdf = gpd.sjoin(node_gdf, county_gdf, how = \"left\", op = \"intersects\")"
   ]
  },
  {
   "cell_type": "code",
   "execution_count": 11,
   "metadata": {},
   "outputs": [
    {
     "name": "stdout",
     "output_type": "stream",
     "text": [
      "# of unique nodes: 661159\n",
      "# of nodes in spatial join result: 661160\n",
      "# of unique nodes in spatial join result: 661159\n"
     ]
    }
   ],
   "source": [
    "# one node got joined to two counties\n",
    "print('# of unique nodes: {}'.format(node_gdf.shape[0]))\n",
    "print('# of nodes in spatial join result: {}'.format(node_county_gdf.shape[0]))\n",
    "print('# of unique nodes in spatial join result: {}'.format(node_county_gdf.shst_node_id.nunique()))"
   ]
  },
  {
   "cell_type": "code",
   "execution_count": 13,
   "metadata": {
    "scrolled": true
   },
   "outputs": [
    {
     "name": "stderr",
     "output_type": "stream",
     "text": [
      "C:\\ProgramData\\Anaconda3\\lib\\site-packages\\pyproj\\crs\\crs.py:53: FutureWarning: '+init=<authority>:<code>' syntax is deprecated. '<authority>:<code>' is the preferred initialization method. When making the change, be mindful of axis order changes: https://pyproj4.github.io/pyproj/stable/gotchas.html#axis-order-changes-in-proj-6\n",
      "  return _prepare_from_string(\" \".join(pjargs))\n"
     ]
    }
   ],
   "source": [
    "# use nearest match for nodes that did not get county match (e.g. in the Bay)\n",
    "\n",
    "node_county_matched_gdf = node_county_gdf[node_county_gdf.NAME.notnull()].copy()\n",
    "node_county_unmatched_gdf = node_county_gdf[node_county_gdf.NAME.isnull()].copy()\n",
    "\n",
    "node_county_matched_gdf = node_county_matched_gdf.to_crs(epsg = 26915)\n",
    "node_county_matched_gdf['X'] = node_county_matched_gdf.geometry.map(lambda g:g.x)\n",
    "node_county_matched_gdf['Y'] = node_county_matched_gdf.geometry.map(lambda g:g.y)\n",
    "\n",
    "node_matched_inventory_ref = node_county_matched_gdf[['X', 'Y']].values\n",
    "node_matched_tree = cKDTree(node_matched_inventory_ref)\n",
    "\n",
    "node_county_unmatched_gdf = node_county_unmatched_gdf.to_crs({'init' : 'epsg:26915'})\n",
    "node_county_unmatched_gdf['X'] = node_county_unmatched_gdf['geometry'].apply(lambda p: p.x)\n",
    "node_county_unmatched_gdf['Y'] = node_county_unmatched_gdf['geometry'].apply(lambda p: p.y)\n",
    "\n",
    "node_county_rematch_gdf = pd.DataFrame()\n",
    "\n",
    "for i in range(len(node_county_unmatched_gdf)):\n",
    "    point = node_county_unmatched_gdf.iloc[i][['X', 'Y']].values\n",
    "    dd, ii = node_matched_tree.query(point, k = 1)\n",
    "    add_snap_gdf = gpd.GeoDataFrame(node_county_matched_gdf.iloc[ii][[\"NAME\"]]).transpose().reset_index(drop = True)\n",
    "    \n",
    "    add_snap_gdf['shst_node_id'] = node_county_unmatched_gdf.iloc[i]['shst_node_id']\n",
    "    \n",
    "    if i == 0:\n",
    "        node_county_rematch_gdf = add_snap_gdf.copy()\n",
    "    else:\n",
    "        node_county_rematch_gdf = node_county_rematch_gdf.append(add_snap_gdf, ignore_index=True, sort=False)"
   ]
  },
  {
   "cell_type": "code",
   "execution_count": 15,
   "metadata": {},
   "outputs": [
    {
     "name": "stdout",
     "output_type": "stream",
     "text": [
      "Santa Clara      193106\n",
      "Alameda          126021\n",
      "Contra Costa      97374\n",
      "San Mateo         56430\n",
      "Sonoma            56166\n",
      "Solano            47305\n",
      "San Francisco     27656\n",
      "Marin             26543\n",
      "Napa              13838\n",
      "Santa Cruz         5232\n",
      "Yolo               4238\n",
      "Lake               2890\n",
      "San Joaquin        2120\n",
      "San Benito         1095\n",
      "Sacramento          383\n",
      "Mendocino           324\n",
      "Stanislaus          268\n",
      "Monterey            124\n",
      "Merced               47\n",
      "Name: NAME, dtype: int64\n"
     ]
    }
   ],
   "source": [
    "# fill out missing county names\n",
    "\n",
    "node_county_rematch_dict = dict(zip(node_county_rematch_gdf.shst_node_id, node_county_rematch_gdf.NAME))\n",
    "node_county_gdf[\"NAME\"] = node_county_gdf[\"NAME\"].fillna(node_county_gdf.shst_node_id.map(node_county_rematch_dict))\n",
    "\n",
    "print(node_county_gdf.NAME.value_counts())"
   ]
  },
  {
   "cell_type": "code",
   "execution_count": 16,
   "metadata": {},
   "outputs": [
    {
     "name": "stderr",
     "output_type": "stream",
     "text": [
      "<timed exec>:5: UserWarning: Geometry is in a geographic CRS. Results from 'centroid' are likely incorrect. Use 'GeoSeries.to_crs()' to re-project geometries to a projected CRS before this operation.\n",
      "\n"
     ]
    },
    {
     "name": "stdout",
     "output_type": "stream",
     "text": [
      "Wall time: 6min 24s\n"
     ]
    }
   ],
   "source": [
    "%%time\n",
    "# spatial join link shapes with county shape\n",
    "\n",
    "# first, get link centroids\n",
    "shape_centroid_gdf = shape_gdf.copy()\n",
    "shape_centroid_gdf[\"geometry\"] = shape_centroid_gdf[\"geometry\"].centroid\n",
    "\n",
    "# spatial join\n",
    "shape_centroid_gdf = gpd.sjoin(shape_centroid_gdf, county_gdf, how = \"left\", op = \"intersects\")\n",
    "\n",
    "# merge name to shape_gdf\n",
    "shape_county_gdf = pd.merge(\n",
    "    shape_gdf,\n",
    "    shape_centroid_gdf[[\"id\", \"NAME\"]],\n",
    "    how = \"left\",\n",
    "    on = \"id\"\n",
    ")"
   ]
  },
  {
   "cell_type": "code",
   "execution_count": 17,
   "metadata": {},
   "outputs": [
    {
     "name": "stdout",
     "output_type": "stream",
     "text": [
      "# of unique link shapes: 908267\n",
      "# of link shapes in spatial join result: 908267\n",
      "# of unique link shapes in spatial join result: 908267\n"
     ]
    }
   ],
   "source": [
    "print('# of unique link shapes: {}'.format(shape_gdf.shape[0]))\n",
    "print('# of link shapes in spatial join result: {}'.format(shape_county_gdf.shape[0]))\n",
    "print('# of unique link shapes in spatial join result: {}'.format(shape_county_gdf.id.nunique()))"
   ]
  },
  {
   "cell_type": "code",
   "execution_count": 18,
   "metadata": {},
   "outputs": [
    {
     "name": "stderr",
     "output_type": "stream",
     "text": [
      "C:\\ProgramData\\Anaconda3\\lib\\site-packages\\pyproj\\crs\\crs.py:53: FutureWarning: '+init=<authority>:<code>' syntax is deprecated. '<authority>:<code>' is the preferred initialization method. When making the change, be mindful of axis order changes: https://pyproj4.github.io/pyproj/stable/gotchas.html#axis-order-changes-in-proj-6\n",
      "  return _prepare_from_string(\" \".join(pjargs))\n"
     ]
    },
    {
     "name": "stdout",
     "output_type": "stream",
     "text": [
      "(275, 2)\n"
     ]
    }
   ],
   "source": [
    "# use nearest for links that did not get county match\n",
    "node_county_matched_gdf = node_county_gdf[node_county_gdf.NAME.notnull()].copy()\n",
    "\n",
    "node_county_matched_gdf = node_county_matched_gdf.to_crs(epsg = 26915)\n",
    "node_county_matched_gdf['X'] = node_county_matched_gdf.geometry.map(lambda g:g.x)\n",
    "node_county_matched_gdf['Y'] = node_county_matched_gdf.geometry.map(lambda g:g.y)\n",
    "\n",
    "node_matched_inventory_ref = node_county_matched_gdf[['X', 'Y']].values\n",
    "node_matched_tree = cKDTree(node_matched_inventory_ref)\n",
    "\n",
    "shape_county_unmatched_gdf = shape_county_gdf[shape_county_gdf.NAME.isnull()].copy()\n",
    "\n",
    "shape_county_unmatched_gdf = shape_county_unmatched_gdf.to_crs({'init' : 'epsg:26915'})\n",
    "shape_county_unmatched_gdf[\"geometry\"] = shape_county_unmatched_gdf[\"geometry\"].centroid\n",
    "shape_county_unmatched_gdf['X'] = shape_county_unmatched_gdf['geometry'].apply(lambda p: p.x)\n",
    "shape_county_unmatched_gdf['Y'] = shape_county_unmatched_gdf['geometry'].apply(lambda p: p.y)\n",
    "\n",
    "shape_county_rematch_gdf = pd.DataFrame()\n",
    "\n",
    "for i in range(len(shape_county_unmatched_gdf)):\n",
    "    point = shape_county_unmatched_gdf.iloc[i][['X', 'Y']].values\n",
    "    dd, ii = node_matched_tree.query(point, k = 1)\n",
    "    add_snap_gdf = gpd.GeoDataFrame(node_county_matched_gdf.iloc[ii][[\"NAME\"]]).transpose().reset_index(drop = True)\n",
    "    \n",
    "    add_snap_gdf['id'] = shape_county_unmatched_gdf.iloc[i]['id']\n",
    "    \n",
    "    if i == 0:\n",
    "        shape_county_rematch_gdf = add_snap_gdf.copy()\n",
    "    else:\n",
    "        shape_county_rematch_gdf = shape_county_rematch_gdf.append(add_snap_gdf, ignore_index=True, sort=False)\n",
    "\n",
    "print(shape_county_rematch_gdf.shape)"
   ]
  },
  {
   "cell_type": "code",
   "execution_count": 20,
   "metadata": {},
   "outputs": [
    {
     "name": "stdout",
     "output_type": "stream",
     "text": [
      "Santa Clara      278209\n",
      "Alameda          173779\n",
      "Contra Costa     130627\n",
      "San Mateo         77557\n",
      "Sonoma            70904\n",
      "Solano            63237\n",
      "San Francisco     41427\n",
      "Marin             34603\n",
      "Napa              17845\n",
      "Santa Cruz         6053\n",
      "Yolo               5072\n",
      "Lake               3452\n",
      "San Joaquin        2895\n",
      "San Benito         1234\n",
      "Sacramento          499\n",
      "Mendocino           367\n",
      "Stanislaus          319\n",
      "Monterey            139\n",
      "Merced               49\n",
      "Name: NAME, dtype: int64\n"
     ]
    }
   ],
   "source": [
    "# fill out missing county names\n",
    "shape_county_rematch_dict = dict(zip(shape_county_rematch_gdf.id, shape_county_rematch_gdf.NAME))\n",
    "shape_county_gdf[\"NAME\"] = shape_county_gdf[\"NAME\"].fillna(shape_county_gdf.id.map(shape_county_rematch_dict))\n",
    "\n",
    "print(shape_county_gdf.NAME.value_counts())"
   ]
  },
  {
   "cell_type": "markdown",
   "metadata": {},
   "source": [
    "# Remove duplicate shape/node in county match, e.g. geometry on the boundary"
   ]
  },
  {
   "cell_type": "code",
   "execution_count": 21,
   "metadata": {},
   "outputs": [],
   "source": [
    "node_county_gdf.drop_duplicates(subset = [\"shst_node_id\"], inplace = True)\n",
    "shape_county_gdf.drop_duplicates(subset = [\"id\"], inplace = True)"
   ]
  },
  {
   "cell_type": "markdown",
   "metadata": {},
   "source": [
    "# Remove links and nodes outside of the 9 counties"
   ]
  },
  {
   "cell_type": "code",
   "execution_count": 22,
   "metadata": {},
   "outputs": [],
   "source": [
    "MPO_county_list = ['San Francisco', 'Santa Clara', 'Sonoma', 'Marin', 'San Mateo',\n",
    "       'Contra Costa', 'Solano', 'Napa', 'Alameda']"
   ]
  },
  {
   "cell_type": "code",
   "execution_count": 23,
   "metadata": {},
   "outputs": [],
   "source": [
    "shape_MPO_gdf = shape_county_gdf[shape_county_gdf.NAME.isin(MPO_county_list)].copy()"
   ]
  },
  {
   "cell_type": "code",
   "execution_count": 28,
   "metadata": {},
   "outputs": [],
   "source": [
    "# merge name to node_gdf\n",
    "node_gdf = pd.merge(\n",
    "    node_gdf, \n",
    "    node_county_gdf[[\"shst_node_id\", \"NAME\"]].rename(columns = {\"NAME\": \"county\"}), \n",
    "    how = \"left\", \n",
    "    on = \"shst_node_id\") "
   ]
  },
  {
   "cell_type": "code",
   "execution_count": 30,
   "metadata": {},
   "outputs": [],
   "source": [
    "link_MPO_df = link_df[link_df.shstGeometryId.isin(shape_MPO_gdf.id.tolist())].copy()\n",
    "\n",
    "node_MPO_gdf = node_gdf[node_gdf.shst_node_id.isin(link_MPO_df.fromIntersectionId.tolist() + \n",
    "                                                   link_MPO_df.toIntersectionId.tolist())].copy()"
   ]
  },
  {
   "cell_type": "code",
   "execution_count": 31,
   "metadata": {},
   "outputs": [],
   "source": [
    "# nodes that are outside of MPO but used by MPO links, need to give them the internal county names for node numbering\n",
    "\n",
    "node_MPO_rename_county_gdf = node_MPO_gdf[~node_MPO_gdf.county.isin(MPO_county_list)].copy()\n",
    "\n",
    "node_link_county_names_df = pd.concat(\n",
    "    [\n",
    "        shape_MPO_gdf.groupby([\"fromIntersectionId\", \"NAME\"])[\"id\"].count().reset_index().rename(\n",
    "            columns = {\"fromIntersectionId\" : \"shst_node_id\", \"NAME\" : \"county\"}),\n",
    "        shape_MPO_gdf.groupby([\"toIntersectionId\", \"NAME\"])[\"id\"].count().reset_index().rename(\n",
    "            columns = {\"toIntersectionId\" : \"shst_node_id\", \"NAME\" : \"county\"})\n",
    "    ],\n",
    "    sort = False,\n",
    "    ignore_index = True\n",
    ")\n",
    "\n",
    "node_MPO_rename_county_gdf = pd.merge(\n",
    "    node_MPO_rename_county_gdf.drop([\"county\"], axis = 1),\n",
    "    node_link_county_names_df[[\"shst_node_id\", \"county\"]],\n",
    "    how = \"left\",\n",
    "    on = \"shst_node_id\"\n",
    ")\n",
    "\n",
    "node_MPO_rename_county_gdf.drop_duplicates(subset = [\"osm_node_id\", \"shst_node_id\"], inplace = True)"
   ]
  },
  {
   "cell_type": "code",
   "execution_count": 32,
   "metadata": {},
   "outputs": [],
   "source": [
    "node_MPO_gdf = pd.concat(\n",
    "    [\n",
    "        node_MPO_gdf[node_MPO_gdf.county.isin(MPO_county_list)],\n",
    "        node_MPO_rename_county_gdf\n",
    "    ],\n",
    "    sort = False,\n",
    "    ignore_index = True\n",
    ")"
   ]
  },
  {
   "cell_type": "code",
   "execution_count": 33,
   "metadata": {},
   "outputs": [
    {
     "name": "stderr",
     "output_type": "stream",
     "text": [
      "C:\\ProgramData\\Anaconda3\\lib\\site-packages\\pyproj\\crs\\crs.py:53: FutureWarning: '+init=<authority>:<code>' syntax is deprecated. '<authority>:<code>' is the preferred initialization method. When making the change, be mindful of axis order changes: https://pyproj4.github.io/pyproj/stable/gotchas.html#axis-order-changes-in-proj-6\n",
      "  return _prepare_from_string(\" \".join(pjargs))\n"
     ]
    }
   ],
   "source": [
    "link_MPO_gdf = pd.merge(\n",
    "    link_MPO_df,\n",
    "    shape_MPO_gdf[[\"id\", \"NAME\", \"geometry\"]].rename(columns = {\"NAME\" : \"county\"}),\n",
    "    how = \"left\", \n",
    "    on = \"id\"        # note: \"id\" is \"shstGeometryId\"\n",
    ")\n",
    "\n",
    "link_MPO_gdf = gpd.GeoDataFrame(link_MPO_gdf, geometry = link_MPO_gdf[\"geometry\"],\n",
    "                                crs={\"init\" : \"epsg:4326\"})"
   ]
  },
  {
   "cell_type": "markdown",
   "metadata": {},
   "source": [
    "# Add length"
   ]
  },
  {
   "cell_type": "code",
   "execution_count": 34,
   "metadata": {},
   "outputs": [],
   "source": [
    "# add length in meters\n",
    "\n",
    "geom_length = link_MPO_gdf[['geometry']].copy()\n",
    "geom_length = geom_length.to_crs(epsg = 26915)\n",
    "geom_length[\"length\"] = geom_length.length\n",
    "\n",
    "link_MPO_gdf[\"length\"] = geom_length[\"length\"]"
   ]
  },
  {
   "cell_type": "markdown",
   "metadata": {},
   "source": [
    "# drop circular links (u == v)"
   ]
  },
  {
   "cell_type": "code",
   "execution_count": 35,
   "metadata": {},
   "outputs": [
    {
     "name": "stdout",
     "output_type": "stream",
     "text": [
      "5560 circular links, 4921 unique id\n"
     ]
    }
   ],
   "source": [
    "circular_link_gdf = link_MPO_gdf[link_MPO_gdf.u == link_MPO_gdf.v].copy()\n",
    "print('{} circular links, {} unique id'.format(circular_link_gdf.shape[0], circular_link_gdf.id.nunique()))"
   ]
  },
  {
   "cell_type": "code",
   "execution_count": 36,
   "metadata": {},
   "outputs": [
    {
     "name": "stdout",
     "output_type": "stream",
     "text": [
      "after dropping circular links, 1661184 links remain, with 1661184 unique shstReferenceId, 883267 unique id\n"
     ]
    }
   ],
   "source": [
    "link_MPO_gdf = link_MPO_gdf[~ link_MPO_gdf.shstReferenceId.isin(circular_link_gdf.shstReferenceId.tolist())]\n",
    "\n",
    "print('after dropping circular links, {} links remain, with {} unique shstReferenceId, {} unique id'.format(\n",
    "        link_MPO_gdf.shape[0],\n",
    "        link_MPO_gdf.shstReferenceId.nunique(),\n",
    "        link_MPO_gdf.id.nunique()))"
   ]
  },
  {
   "cell_type": "code",
   "execution_count": 37,
   "metadata": {},
   "outputs": [
    {
     "name": "stdout",
     "output_type": "stream",
     "text": [
      "after dropping circular links, 883267 shapes remain, with 883267 unique id\n"
     ]
    }
   ],
   "source": [
    "# drop shapes of circular links\n",
    "shape_MPO_gdf = shape_MPO_gdf[shape_MPO_gdf.id.isin(link_MPO_gdf.id)]\n",
    "print('after dropping circular links, {} shapes remain, with {} unique id'.format(\n",
    "        shape_MPO_gdf.shape[0],\n",
    "        shape_MPO_gdf.id.nunique()))"
   ]
  },
  {
   "cell_type": "code",
   "execution_count": 38,
   "metadata": {},
   "outputs": [
    {
     "name": "stdout",
     "output_type": "stream",
     "text": [
      "after dropping circular links, 643811 nodes remain\n"
     ]
    }
   ],
   "source": [
    "# drop circular-link-only nodes \n",
    "node_MPO_gdf = node_MPO_gdf[(node_MPO_gdf.osm_node_id.isin(link_MPO_gdf.u.tolist())) | \n",
    "                            (node_MPO_gdf.osm_node_id.isin(link_MPO_gdf.v.tolist()))]\n",
    "print('after dropping circular links, {} nodes remain'.format(node_MPO_gdf.shape[0]))"
   ]
  },
  {
   "cell_type": "markdown",
   "metadata": {},
   "source": [
    "# Flag drive dead end"
   ]
  },
  {
   "cell_type": "code",
   "execution_count": 39,
   "metadata": {},
   "outputs": [
    {
     "name": "stdout",
     "output_type": "stream",
     "text": [
      "# of dead end nodes: 142963\n"
     ]
    }
   ],
   "source": [
    "non_dead_end_link_handle_df = link_MPO_gdf[(link_MPO_gdf.drive_access == 1)][[\"u\", \"v\"]]\n",
    "\n",
    "dead_end_node_list = identify_dead_end_nodes(non_dead_end_link_handle_df)\n",
    "\n",
    "cumulative_dead_end_node_list = []\n",
    "\n",
    "while len(dead_end_node_list) > 0:\n",
    "    cumulative_dead_end_node_list = cumulative_dead_end_node_list + dead_end_node_list\n",
    "    \n",
    "    non_dead_end_link_handle_df = non_dead_end_link_handle_df[~(non_dead_end_link_handle_df.u.isin(dead_end_node_list)) & \n",
    "                                            ~(non_dead_end_link_handle_df.v.isin(dead_end_node_list))].copy()\n",
    "    \n",
    "    dead_end_node_list = identify_dead_end_nodes(non_dead_end_link_handle_df)\n",
    "\n",
    "print('# of dead end nodes: {}'.format(len(cumulative_dead_end_node_list)))"
   ]
  },
  {
   "cell_type": "code",
   "execution_count": 40,
   "metadata": {},
   "outputs": [
    {
     "name": "stdout",
     "output_type": "stream",
     "text": [
      "drive access stats of links: \n",
      " 1    1309170\n",
      "0     352014\n",
      "Name: drive_access, dtype: int64\n",
      "after flagging dead end links, drive access stats of links: \n",
      " 1    1019540\n",
      "0     641644\n",
      "Name: drive_access, dtype: int64\n"
     ]
    }
   ],
   "source": [
    "# update node and link drive access\n",
    "# if u/v in dead end node list, then drive access = 0\n",
    "# if osm_node_id in dead end node list, then drive access = 0\n",
    "\n",
    "print('drive access stats of links: \\n {}\\n'.format(link_MPO_gdf.drive_access.value_counts()))\n",
    "\n",
    "link_MPO_gdf['drive_access'] = np.where(((link_MPO_gdf.u.isin(cumulative_dead_end_node_list)) | \n",
    "                                               (link_MPO_gdf.v.isin(cumulative_dead_end_node_list))) &\n",
    "                                        ~(link_MPO_gdf.roadway.isin(['primary', 'secondary', 'motorway', 'primary_link',\n",
    "                                               'motorway_link', 'trunk_link', 'trunk', 'secondary_link',\n",
    "                                               'tertiary_link'])),\n",
    "                                               0,\n",
    "                                               link_MPO_gdf.drive_access)\n",
    "\n",
    "print('after flagging dead end links, drive access stats of links: \\n {}'.format(link_MPO_gdf.drive_access.value_counts()))"
   ]
  },
  {
   "cell_type": "code",
   "execution_count": 41,
   "metadata": {},
   "outputs": [
    {
     "name": "stdout",
     "output_type": "stream",
     "text": [
      "drive access stats of nodes: \n",
      " 1    545259\n",
      "0     98552\n",
      "Name: drive_access, dtype: int64\n",
      "\n",
      "after flagging dead end links, drive access stats of nodes: \n",
      " 1    402361\n",
      "0    241450\n",
      "Name: drive_access, dtype: int64\n",
      "\n"
     ]
    }
   ],
   "source": [
    "# update network type variable for node\n",
    "\n",
    "print('drive access stats of nodes: \\n {}\\n'.format(node_MPO_gdf.drive_access.value_counts()))\n",
    "\n",
    "A_B_df = pd.concat([link_MPO_gdf[[\"u\", \"fromIntersectionId\", \"drive_access\", \"walk_access\", \"bike_access\"]].rename(\n",
    "                            columns = {\"u\":\"osm_node_id\", \"fromIntersectionId\" : \"shst_node_id\"}),\n",
    "                  link_MPO_gdf[[\"v\", \"toIntersectionId\", \"drive_access\", \"walk_access\", \"bike_access\"]].rename(\n",
    "                            columns = {\"v\":\"osm_node_id\", \"toIntersectionId\" : \"shst_node_id\"})],\n",
    "                  sort = False,\n",
    "                  ignore_index = True)\n",
    "\n",
    "A_B_df.drop_duplicates(inplace = True)\n",
    "\n",
    "A_B_df = A_B_df.groupby([\"osm_node_id\", \"shst_node_id\"]).max().reset_index()\n",
    "\n",
    "node_MPO_gdf = pd.merge(node_MPO_gdf.drop([\"drive_access\", \"walk_access\", \"bike_access\"], axis = 1),\n",
    "                      A_B_df,\n",
    "                      how = \"left\",\n",
    "                      on = [\"osm_node_id\", \"shst_node_id\"])\n",
    "\n",
    "print('after flagging dead end links, drive access stats of nodes: \\n {}\\n'.format(node_MPO_gdf.drive_access.value_counts()))"
   ]
  },
  {
   "cell_type": "code",
   "execution_count": 42,
   "metadata": {},
   "outputs": [
    {
     "data": {
      "text/plain": [
       "0"
      ]
     },
     "execution_count": 42,
     "metadata": {},
     "output_type": "execute_result"
    }
   ],
   "source": [
    "# check: there should be no link that is not accessible by all modes\n",
    "link_MPO_gdf[(link_MPO_gdf.drive_access == 0) & (link_MPO_gdf.walk_access == 0) & (link_MPO_gdf.bike_access == 0)].shape[0]"
   ]
  },
  {
   "cell_type": "code",
   "execution_count": 43,
   "metadata": {},
   "outputs": [
    {
     "name": "stdout",
     "output_type": "stream",
     "text": [
      "roadway types: \n",
      "['service' 'residential' 'tertiary' 'primary' 'cycleway' 'footway'\n",
      " 'secondary' 'motorway' 'primary_link' 'motorway_link' 'trunk_link'\n",
      " 'trunk' 'secondary_link' 'tertiary_link']\n",
      "\n",
      "roadway types of link with drive_access==0: \n",
      "footway        250682\n",
      "service        156349\n",
      "residential    132552\n",
      "cycleway       101332\n",
      "tertiary          729\n",
      "Name: roadway, dtype: int64\n",
      "\n"
     ]
    }
   ],
   "source": [
    "# double check: roadway types versus drive_access\n",
    "\n",
    "print('roadway types: \\n{}\\n'.format(link_df.roadway.unique()))\n",
    "\n",
    "print('roadway types of link with drive_access==0: \\n{}\\n'.format(\n",
    "    link_MPO_gdf[(link_MPO_gdf.drive_access == 0)].roadway.value_counts()))"
   ]
  },
  {
   "cell_type": "markdown",
   "metadata": {},
   "source": [
    "# Drop duplicate links between same AB node pair"
   ]
  },
  {
   "cell_type": "code",
   "execution_count": 44,
   "metadata": {},
   "outputs": [
    {
     "data": {
      "text/html": [
       "<div>\n",
       "<style scoped>\n",
       "    .dataframe tbody tr th:only-of-type {\n",
       "        vertical-align: middle;\n",
       "    }\n",
       "\n",
       "    .dataframe tbody tr th {\n",
       "        vertical-align: top;\n",
       "    }\n",
       "\n",
       "    .dataframe thead th {\n",
       "        text-align: right;\n",
       "    }\n",
       "</style>\n",
       "<table border=\"1\" class=\"dataframe\">\n",
       "  <thead>\n",
       "    <tr style=\"text-align: right;\">\n",
       "      <th></th>\n",
       "      <th>u</th>\n",
       "      <th>v</th>\n",
       "      <th>shstReferenceId</th>\n",
       "    </tr>\n",
       "  </thead>\n",
       "  <tbody>\n",
       "    <tr>\n",
       "      <th>0</th>\n",
       "      <td>281266</td>\n",
       "      <td>65358141</td>\n",
       "      <td>1</td>\n",
       "    </tr>\n",
       "    <tr>\n",
       "      <th>1</th>\n",
       "      <td>4913174652</td>\n",
       "      <td>4913174650</td>\n",
       "      <td>1</td>\n",
       "    </tr>\n",
       "    <tr>\n",
       "      <th>2</th>\n",
       "      <td>4913174652</td>\n",
       "      <td>4913174644</td>\n",
       "      <td>1</td>\n",
       "    </tr>\n",
       "    <tr>\n",
       "      <th>3</th>\n",
       "      <td>4913174650</td>\n",
       "      <td>4913174654</td>\n",
       "      <td>1</td>\n",
       "    </tr>\n",
       "    <tr>\n",
       "      <th>4</th>\n",
       "      <td>4913174650</td>\n",
       "      <td>4913174652</td>\n",
       "      <td>1</td>\n",
       "    </tr>\n",
       "    <tr>\n",
       "      <th>...</th>\n",
       "      <td>...</td>\n",
       "      <td>...</td>\n",
       "      <td>...</td>\n",
       "    </tr>\n",
       "    <tr>\n",
       "      <th>1632697</th>\n",
       "      <td>65409920</td>\n",
       "      <td>670714007</td>\n",
       "      <td>3</td>\n",
       "    </tr>\n",
       "    <tr>\n",
       "      <th>1632698</th>\n",
       "      <td>4913479606</td>\n",
       "      <td>4913479605</td>\n",
       "      <td>3</td>\n",
       "    </tr>\n",
       "    <tr>\n",
       "      <th>1632699</th>\n",
       "      <td>747649693</td>\n",
       "      <td>747649688</td>\n",
       "      <td>5</td>\n",
       "    </tr>\n",
       "    <tr>\n",
       "      <th>1632700</th>\n",
       "      <td>747649688</td>\n",
       "      <td>747649693</td>\n",
       "      <td>5</td>\n",
       "    </tr>\n",
       "    <tr>\n",
       "      <th>1632701</th>\n",
       "      <td>4281289216</td>\n",
       "      <td>4281289265</td>\n",
       "      <td>7</td>\n",
       "    </tr>\n",
       "  </tbody>\n",
       "</table>\n",
       "<p>1632702 rows × 3 columns</p>\n",
       "</div>"
      ],
      "text/plain": [
       "                  u           v  shstReferenceId\n",
       "0            281266    65358141                1\n",
       "1        4913174652  4913174650                1\n",
       "2        4913174652  4913174644                1\n",
       "3        4913174650  4913174654                1\n",
       "4        4913174650  4913174652                1\n",
       "...             ...         ...              ...\n",
       "1632697    65409920   670714007                3\n",
       "1632698  4913479606  4913479605                3\n",
       "1632699   747649693   747649688                5\n",
       "1632700   747649688   747649693                5\n",
       "1632701  4281289216  4281289265                7\n",
       "\n",
       "[1632702 rows x 3 columns]"
      ]
     },
     "metadata": {},
     "output_type": "display_data"
    }
   ],
   "source": [
    "# get count of shstReferenceId of unique u/v pairs\n",
    "non_unique_AB_links_df = link_MPO_gdf.groupby([\"u\", \"v\"]).shstReferenceId.count().sort_values().reset_index()\n",
    "display(non_unique_AB_links_df)"
   ]
  },
  {
   "cell_type": "code",
   "execution_count": 46,
   "metadata": {},
   "outputs": [
    {
     "name": "stdout",
     "output_type": "stream",
     "text": [
      "links has 1661184 unique shstReferenceId, 1632702 unique u/v pairs\n"
     ]
    }
   ],
   "source": [
    "print('links has {} unique shstReferenceId, {} unique u/v pairs'.format(link_MPO_gdf.shstReferenceId.nunique(),\n",
    "                                                                        non_unique_AB_links_df.shape[0]))"
   ]
  },
  {
   "cell_type": "code",
   "execution_count": 47,
   "metadata": {},
   "outputs": [],
   "source": [
    "# u/v pairs with multiple links\n",
    "non_unique_AB_links_df = non_unique_AB_links_df[non_unique_AB_links_df.shstReferenceId > 1]\n",
    "print('{} u/v pairs have multiple links')\n",
    "\n",
    "# get their link attributes\n",
    "non_unique_AB_links_df = pd.merge(non_unique_AB_links_df[[\"u\", \"v\"]],\n",
    "                                  link_MPO_gdf[[\"u\", \"v\", \"highway\", \"roadway\",\n",
    "                                                \"drive_access\", \"bike_access\", \"walk_access\", \"length\",\n",
    "                                                \"wayId\", \"shstGeometryId\", \"shstReferenceId\", \"geometry\"]],\n",
    "                                  how = \"left\",\n",
    "                                  on = [\"u\", \"v\"])"
   ]
  },
  {
   "cell_type": "code",
   "execution_count": 48,
   "metadata": {},
   "outputs": [],
   "source": [
    "# read roadway hierarchy crosswalk\n",
    "roadway_hierarchy_df = pd.read_csv(\"../../data/interim/highway_to_roadway.csv\")\n",
    "\n",
    "roadway_hierarchy_df = roadway_hierarchy_df.drop_duplicates(subset = \"roadway\")\n",
    "\n",
    "# merge roadway hierarchy to u/v pairs with multiple links\n",
    "non_unique_AB_links_df = pd.merge(non_unique_AB_links_df,\n",
    "                                  roadway_hierarchy_df[[\"roadway\", \"hierarchy\"]],\n",
    "                                  how = \"left\",\n",
    "                                  on = \"roadway\")"
   ]
  },
  {
   "cell_type": "code",
   "execution_count": 49,
   "metadata": {},
   "outputs": [],
   "source": [
    "# sort on hierarchy (ascending), drive_access(descending), bike_access(descending), walk_access(descending), length(ascending)\n",
    "\n",
    "non_unique_AB_links_sorted_df =  non_unique_AB_links_df.sort_values(\n",
    "    by = [\"hierarchy\", \"drive_access\", \"bike_access\", \"walk_access\", \"length\"],\n",
    "    ascending = [True, False, False, False, True])\n",
    "\n",
    "# keep only one link for each u/v pair \n",
    "unique_AB_links_df = non_unique_AB_links_sorted_df.drop_duplicates(subset = [\"u\", \"v\"], keep = \"first\")"
   ]
  },
  {
   "cell_type": "code",
   "execution_count": 50,
   "metadata": {},
   "outputs": [],
   "source": [
    "# select links that should be dropped\n",
    "from_list = non_unique_AB_links_df.shstReferenceId.tolist()\n",
    "to_list = unique_AB_links_df.shstReferenceId.tolist()\n",
    "\n",
    "drop_link_model_link_id_list = [c for c in from_list if c not in to_list]"
   ]
  },
  {
   "cell_type": "code",
   "execution_count": 51,
   "metadata": {},
   "outputs": [],
   "source": [
    "# drop the links and the corresponding shapes\n",
    "link_MPO_gdf = link_MPO_gdf[~ link_MPO_gdf.shstReferenceId.isin(drop_link_model_link_id_list)]\n",
    "shape_MPO_gdf = shape_MPO_gdf[shape_MPO_gdf.id.isin(link_MPO_gdf.id)].copy()"
   ]
  },
  {
   "cell_type": "markdown",
   "metadata": {},
   "source": [
    "# Numbering Nodes"
   ]
  },
  {
   "cell_type": "code",
   "execution_count": 52,
   "metadata": {},
   "outputs": [],
   "source": [
    "# number ranges for nodes by county\n",
    "county_node_numbering_start_dict = {\n",
    "    \"San Francisco\" : 1000000, \n",
    "    \"San Mateo\" : 1500000,\n",
    "    \"Santa Clara\" : 2000000,\n",
    "    \"Alameda\" : 2500000,\n",
    "    \"Contra Costa\" : 3000000,\n",
    "    \"Solano\" : 3500000,\n",
    "    \"Napa\" : 4000000,\n",
    "    \"Sonoma\" : 4500000,\n",
    "    \"Marin\" : 5000000\n",
    "}"
   ]
  },
  {
   "cell_type": "code",
   "execution_count": 54,
   "metadata": {},
   "outputs": [
    {
     "data": {
      "text/plain": [
       "Santa Clara      192799\n",
       "Alameda          125942\n",
       "Contra Costa      97273\n",
       "San Mateo         56363\n",
       "Sonoma            56146\n",
       "Solano            47318\n",
       "San Francisco     27608\n",
       "Marin             26529\n",
       "Napa              13833\n",
       "Name: county, dtype: int64"
      ]
     },
     "execution_count": 54,
     "metadata": {},
     "output_type": "execute_result"
    }
   ],
   "source": [
    "# create model_mode_id by county\n",
    "node_MPO_gdf[\"model_node_id\"] = node_MPO_gdf.groupby([\"county\"]).cumcount()\n",
    "node_MPO_gdf[\"county_numbering_start\"] = node_MPO_gdf[\"county\"].map(county_node_numbering_start_dict)\n",
    "node_MPO_gdf[\"model_node_id\"] = node_MPO_gdf[\"model_node_id\"] + node_MPO_gdf[\"county_numbering_start\"]\n",
    "\n",
    "node_MPO_gdf.county.value_counts(dropna=False)"
   ]
  },
  {
   "cell_type": "code",
   "execution_count": 56,
   "metadata": {},
   "outputs": [
    {
     "name": "stdout",
     "output_type": "stream",
     "text": [
      "643811 unique model_node_id, 643811 nodes have county tagging\n"
     ]
    }
   ],
   "source": [
    "# check consistency\n",
    "print('{} unique model_node_id, {} nodes have county tagging'.format(\n",
    "    node_MPO_gdf.model_node_id.nunique(),\n",
    "    node_MPO_gdf[node_MPO_gdf.county.isin(county_node_numbering_start_dict.keys())].shape[0]))"
   ]
  },
  {
   "cell_type": "markdown",
   "metadata": {},
   "source": [
    "# Numbering Links"
   ]
  },
  {
   "cell_type": "code",
   "execution_count": 55,
   "metadata": {},
   "outputs": [],
   "source": [
    "# number ranges for links by county\n",
    "county_link_numbering_start_dict = {\n",
    "    \"San Francisco\" : 1, \n",
    "    \"San Mateo\" : 1000000,\n",
    "    \"Santa Clara\" : 2000000,\n",
    "    \"Alameda\" : 3000000,\n",
    "    \"Contra Costa\" : 4000000,\n",
    "    \"Solano\" : 5000000,\n",
    "    \"Napa\" : 6000000,\n",
    "    \"Sonoma\" : 7000000,\n",
    "    \"Marin\" : 8000000\n",
    "}"
   ]
  },
  {
   "cell_type": "code",
   "execution_count": 57,
   "metadata": {},
   "outputs": [
    {
     "data": {
      "text/plain": [
       "Santa Clara      516565\n",
       "Alameda          315314\n",
       "Contra Costa     237448\n",
       "San Mateo        140927\n",
       "Sonoma           135042\n",
       "Solano           117102\n",
       "San Francisco     73440\n",
       "Marin             63184\n",
       "Napa              33680\n",
       "Name: county, dtype: int64"
      ]
     },
     "execution_count": 57,
     "metadata": {},
     "output_type": "execute_result"
    }
   ],
   "source": [
    "# create model_link_id by county\n",
    "link_MPO_gdf[\"model_link_id\"] = link_MPO_gdf.groupby([\"county\"]).cumcount()\n",
    "link_MPO_gdf[\"county_numbering_start\"] = link_MPO_gdf[\"county\"].map(county_link_numbering_start_dict)\n",
    "link_MPO_gdf[\"model_link_id\"] = link_MPO_gdf[\"model_link_id\"] + link_MPO_gdf[\"county_numbering_start\"]\n",
    "\n",
    "link_MPO_gdf.county.value_counts(dropna=False)"
   ]
  },
  {
   "cell_type": "code",
   "execution_count": 58,
   "metadata": {},
   "outputs": [
    {
     "name": "stdout",
     "output_type": "stream",
     "text": [
      "1632702 unique model_link_id, 1632702 links have county tagging\n"
     ]
    }
   ],
   "source": [
    "# check consistency\n",
    "print('{} unique model_link_id, {} links have county tagging'.format(\n",
    "    link_MPO_gdf.model_link_id.nunique(),\n",
    "    link_MPO_gdf[link_MPO_gdf.county.isin(county_link_numbering_start_dict.keys())].shape[0]))"
   ]
  },
  {
   "cell_type": "markdown",
   "metadata": {},
   "source": [
    "# Numbering Link A/B nodes"
   ]
  },
  {
   "cell_type": "code",
   "execution_count": 59,
   "metadata": {},
   "outputs": [],
   "source": [
    "# shst_node_id - model_node_id dictionary \n",
    "node_shst_model_id_dict = dict(zip(node_MPO_gdf.shst_node_id, node_MPO_gdf.model_node_id))"
   ]
  },
  {
   "cell_type": "code",
   "execution_count": 60,
   "metadata": {},
   "outputs": [],
   "source": [
    "# map shst_node_id to model_node_id as A/B\n",
    "link_MPO_gdf[\"A\"] = link_MPO_gdf[\"fromIntersectionId\"].map(node_shst_model_id_dict)\n",
    "link_MPO_gdf[\"B\"] = link_MPO_gdf[\"toIntersectionId\"].map(node_shst_model_id_dict)"
   ]
  },
  {
   "cell_type": "code",
   "execution_count": 61,
   "metadata": {},
   "outputs": [
    {
     "name": "stdout",
     "output_type": "stream",
     "text": [
      "Series([], Name: county, dtype: int64)\n",
      "Series([], Name: county, dtype: int64)\n"
     ]
    }
   ],
   "source": [
    "# check: all links should have A and B\n",
    "print(link_MPO_gdf[link_MPO_gdf.A.isnull()].county.value_counts())\n",
    "print(link_MPO_gdf[link_MPO_gdf.B.isnull()].county.value_counts())"
   ]
  },
  {
   "cell_type": "markdown",
   "metadata": {},
   "source": [
    "# Write out"
   ]
  },
  {
   "cell_type": "code",
   "execution_count": 62,
   "metadata": {},
   "outputs": [
    {
     "name": "stdout",
     "output_type": "stream",
     "text": [
      "-------write out link shape geojson---------\n",
      "-------write out link json---------\n",
      "-------write out node geojson---------\n"
     ]
    }
   ],
   "source": [
    "not_to_export_link_json = [\"id\", \"link\"]\n",
    "\n",
    "print(\"-------write out link shape geojson---------\")\n",
    "\n",
    "shape_prop = ['id', 'fromIntersectionId', 'toIntersectionId', 'forwardReferenceId', 'backReferenceId']\n",
    "shape_geojson = link_df_to_geojson(shape_MPO_gdf, shape_prop)\n",
    "\n",
    "with open(\"../../data/interim/step5_tidy_roadway/shape_yq.geojson\", \"w\") as f:\n",
    "    json.dump(shape_geojson, f)\n",
    "\n",
    "    \n",
    "print(\"-------write out link json---------\")\n",
    "\n",
    "link_prop = link_MPO_gdf.drop([\"geometry\"] + not_to_export_link_json, axis = 1).columns.tolist()\n",
    "\n",
    "out = link_MPO_gdf[link_prop].to_json(orient = \"records\")\n",
    "\n",
    "with open('../../data/interim/step5_tidy_roadway/link_yq.json', 'w') as f:\n",
    "    f.write(out)\n",
    "\n",
    "    \n",
    "print(\"-------write out node geojson---------\")\n",
    "\n",
    "node_prop = node_MPO_gdf.drop(\"geometry\", axis = 1).columns.tolist()\n",
    "node_geojson = point_df_to_geojson(node_MPO_gdf, node_prop)\n",
    "\n",
    "with open(\"../../data/interim/step5_tidy_roadway/node_yq.geojson\", \"w\") as f:\n",
    "    json.dump(node_geojson, f)  "
   ]
  },
  {
   "cell_type": "code",
   "execution_count": 63,
   "metadata": {},
   "outputs": [
    {
     "data": {
      "text/plain": [
       "Index(['access', 'area', 'bike_access', 'bridge', 'drive_access', 'est_width',\n",
       "       'fromIntersectionId', 'highway', 'id', 'junction', 'key', 'landuse',\n",
       "       'lanes', 'link', 'maxspeed', 'name', 'oneWay', 'ref', 'roadway',\n",
       "       'roundabout', 'service', 'shstGeometryId', 'shstReferenceId',\n",
       "       'toIntersectionId', 'tunnel', 'u', 'v', 'walk_access', 'wayId', 'width',\n",
       "       'county', 'geometry', 'length', 'model_link_id',\n",
       "       'county_numbering_start', 'A', 'B'],\n",
       "      dtype='object')"
      ]
     },
     "execution_count": 63,
     "metadata": {},
     "output_type": "execute_result"
    }
   ],
   "source": [
    "link_MPO_gdf.columns"
   ]
  },
  {
   "cell_type": "code",
   "execution_count": 64,
   "metadata": {},
   "outputs": [
    {
     "name": "stdout",
     "output_type": "stream",
     "text": [
      "-------write out link feather---------\n"
     ]
    },
    {
     "name": "stderr",
     "output_type": "stream",
     "text": [
      "<ipython-input-64-91ef128c8389>:5: UserWarning: this is an initial implementation of Parquet/Feather file support and associated metadata.  This is tracking version 0.1.0 of the metadata specification at https://github.com/geopandas/geo-arrow-spec\n",
      "\n",
      "This metadata specification does not yet make stability promises.  We do not yet recommend using this in a production setting unless you are able to rewrite your Parquet/Feather files.\n",
      "\n",
      "To further ignore this warning, you can do: \n",
      "import warnings; warnings.filterwarnings('ignore', message='.*initial implementation of Parquet.*')\n",
      "  link_feather.to_feather(data_interim_dir + 'step5_tidy_roadway/link_yq.feather')\n"
     ]
    }
   ],
   "source": [
    "print(\"-------write out link feather---------\")\n",
    "\n",
    "link_feather = link_MPO_gdf.reset_index(drop = True).drop(\"geometry\", axis = 1).copy()\n",
    "\n",
    "link_feather.to_feather(data_interim_dir + 'step5_tidy_roadway/link_yq.feather')"
   ]
  },
  {
   "cell_type": "code",
   "execution_count": 65,
   "metadata": {},
   "outputs": [
    {
     "data": {
      "text/plain": [
       "Index(['access', 'area', 'bike_access', 'bridge', 'drive_access', 'est_width',\n",
       "       'fromIntersectionId', 'highway', 'id', 'junction', 'key', 'landuse',\n",
       "       'lanes', 'link', 'maxspeed', 'name', 'oneWay', 'ref', 'roadway',\n",
       "       'roundabout', 'service', 'shstGeometryId', 'shstReferenceId',\n",
       "       'toIntersectionId', 'tunnel', 'u', 'v', 'walk_access', 'wayId', 'width',\n",
       "       'county', 'length', 'model_link_id', 'county_numbering_start', 'A',\n",
       "       'B'],\n",
       "      dtype='object')"
      ]
     },
     "execution_count": 65,
     "metadata": {},
     "output_type": "execute_result"
    }
   ],
   "source": [
    "link_feather.columns"
   ]
  },
  {
   "cell_type": "code",
   "execution_count": 67,
   "metadata": {},
   "outputs": [
    {
     "data": {
      "text/plain": [
       "Index(['id', 'fromIntersectionId', 'toIntersectionId', 'forwardReferenceId',\n",
       "       'backReferenceId', 'geometry', 'NAME'],\n",
       "      dtype='object')"
      ]
     },
     "execution_count": 67,
     "metadata": {},
     "output_type": "execute_result"
    }
   ],
   "source": [
    "shape_MPO_gdf.columns"
   ]
  },
  {
   "cell_type": "code",
   "execution_count": 69,
   "metadata": {},
   "outputs": [
    {
     "data": {
      "text/plain": [
       "Index(['osm_node_id', 'shst_node_id', 'geometry', 'county', 'drive_access',\n",
       "       'walk_access', 'bike_access', 'model_node_id',\n",
       "       'county_numbering_start'],\n",
       "      dtype='object')"
      ]
     },
     "execution_count": 69,
     "metadata": {},
     "output_type": "execute_result"
    }
   ],
   "source": [
    "node_MPO_gdf.columns"
   ]
  }
 ],
 "metadata": {
  "kernelspec": {
   "display_name": "Python 3",
   "language": "python",
   "name": "python3"
  },
  "language_info": {
   "codemirror_mode": {
    "name": "ipython",
    "version": 3
   },
   "file_extension": ".py",
   "mimetype": "text/x-python",
   "name": "python",
   "nbconvert_exporter": "python",
   "pygments_lexer": "ipython3",
   "version": "3.8.8"
  }
 },
 "nbformat": 4,
 "nbformat_minor": 2
}
