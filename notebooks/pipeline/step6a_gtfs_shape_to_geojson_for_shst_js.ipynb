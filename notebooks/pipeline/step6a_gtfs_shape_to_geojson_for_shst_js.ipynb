{
 "cells": [
  {
   "cell_type": "markdown",
   "metadata": {},
   "source": [
    "# This notebook goes through preparing geojson shape inputs for shst match"
   ]
  },
  {
   "cell_type": "code",
   "execution_count": 1,
   "metadata": {},
   "outputs": [],
   "source": [
    "import geopandas as gpd\n",
    "import geojson\n",
    "from geojson import Feature, FeatureCollection\n",
    "import json\n",
    "from shapely.geometry import Point, LineString\n",
    "import pandas as pd\n",
    "import os"
   ]
  },
  {
   "cell_type": "code",
   "execution_count": 2,
   "metadata": {},
   "outputs": [],
   "source": [
    "gtfs_2015_data_dir = \"../../data/external/gtfs/2015/\""
   ]
  },
  {
   "cell_type": "code",
   "execution_count": 3,
   "metadata": {
    "scrolled": false
   },
   "outputs": [
    {
     "data": {
      "text/plain": [
       "['ACE_2017_3_20',\n",
       " 'ACTransit_2015_8_14',\n",
       " 'BART_2015_8_3',\n",
       " 'Blue&Gold_gtfs_10_4_2017',\n",
       " 'Caltrain_2015_5_13',\n",
       " 'Capitol_2017_3_20',\n",
       " 'CCTA_2015_8_11',\n",
       " 'Emeryville_2016_10_26',\n",
       " 'Fairfield_2015_10_14',\n",
       " 'Fairfield_2015_10_14_updates',\n",
       " 'GGFerries_2017_3_18',\n",
       " 'GGTransit_2015_9_3',\n",
       " 'Marguerite_2016_10_10',\n",
       " 'MarinTransit_2015_8_31',\n",
       " 'MVGo_2016_10_26',\n",
       " 'petalumatransit-petaluma-ca-us__11_12_15',\n",
       " 'Petaluma_2016_5_22',\n",
       " 'RioVista_2015_8_20',\n",
       " 'SamTrans_2015_8_20',\n",
       " 'SantaRosa_google_transit_08_28_15',\n",
       " 'SFMTA_2015_8_11',\n",
       " 'SF_Bay_Ferry2016_07_01',\n",
       " 'Soltrans_2016_5_20',\n",
       " 'SonomaCounty_2015_8_18',\n",
       " 'TriDelta-GTFS-2018-05-24_21-43-17',\n",
       " 'Union_City_Transit_Aug-01-2015 to Jun-30-2017',\n",
       " 'vacavillecitycoach-2020-ca-us',\n",
       " 'Vine_GTFS_PLUS_2015',\n",
       " 'VTA_2015_8_27',\n",
       " 'westcat-ca-us_9_17_2015',\n",
       " 'WestCAT_2016_5_26',\n",
       " 'Wheels_2016_7_13']"
      ]
     },
     "execution_count": 3,
     "metadata": {},
     "output_type": "execute_result"
    }
   ],
   "source": [
    "os.listdir(gtfs_2015_data_dir)"
   ]
  },
  {
   "cell_type": "code",
   "execution_count": 4,
   "metadata": {},
   "outputs": [],
   "source": [
    "def gtfs_tojson_test(name):\n",
    "    try:\n",
    "        shape_df = pd.read_csv(gtfs_2015_data_dir + name + \"/shapes.txt\")\n",
    "        geometry = [Point(xy) for xy in zip(shape_df.shape_pt_lon, shape_df.shape_pt_lat)]\n",
    "        shape_df = gpd.GeoDataFrame(shape_df, geometry = geometry)\n",
    "        \n",
    "        line_df = shape_df.groupby(['shape_id'])['geometry'].apply(lambda x:LineString(x.tolist())).reset_index()\n",
    "        line_gdf = gpd.GeoDataFrame(line_df, geometry = 'geometry')\n",
    "    \n",
    "        line_gdf.to_file( \"../../data/external/gtfs/\" + name + \".transit.geojson\", \n",
    "                          driver='GeoJSON')\n",
    "        \n",
    "        return line_gdf\n",
    "    \n",
    "    except:\n",
    "        return None"
   ]
  },
  {
   "cell_type": "code",
   "execution_count": 1,
   "metadata": {},
   "outputs": [],
   "source": [
    "# no need to conflate rail route shapes because they do not use the raodway network\n",
    "rail = ['BART_2015_8_3', 'Caltrain_2015_5_13', 'Capitol_2017_3_20', 'GGFerries_2017_3_18', 'SF_Bay_Ferry2016_07_01']"
   ]
  },
  {
   "cell_type": "code",
   "execution_count": 5,
   "metadata": {},
   "outputs": [
    {
     "name": "stderr",
     "output_type": "stream",
     "text": [
      "C:\\Users\\ywang\\AppData\\Local\\Continuum\\anaconda3\\lib\\site-packages\\IPython\\core\\interactiveshell.py:3249: DtypeWarning: Columns (0) have mixed types.Specify dtype option on import or set low_memory=False.\n",
      "  if (await self.run_code(code, result,  async_=asy)):\n"
     ]
    }
   ],
   "source": [
    "for name in os.listdir(gtfs_2015_data_dir):\n",
    "    if not name in rail:\n",
    "        line_gdf = gtfs_tojson_test(name)"
   ]
  },
  {
   "cell_type": "code",
   "execution_count": null,
   "metadata": {},
   "outputs": [],
   "source": []
  }
 ],
 "metadata": {
  "kernelspec": {
   "display_name": "Python 3 (ipykernel)",
   "language": "python",
   "name": "python3"
  },
  "language_info": {
   "codemirror_mode": {
    "name": "ipython",
    "version": 3
   },
   "file_extension": ".py",
   "mimetype": "text/x-python",
   "name": "python",
   "nbconvert_exporter": "python",
   "pygments_lexer": "ipython3",
   "version": "3.8.13"
  }
 },
 "nbformat": 4,
 "nbformat_minor": 2
}
