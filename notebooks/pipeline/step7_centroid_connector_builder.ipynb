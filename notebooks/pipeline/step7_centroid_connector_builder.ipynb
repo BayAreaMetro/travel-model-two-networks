{
 "cells": [
  {
   "cell_type": "markdown",
   "metadata": {},
   "source": [
    "# This notebook goes through building drive, walk, and bike centroids and centorid connectors\n",
    "\n",
    "1. centroid nodes come from existing network\n",
    "2. drive centroid connector built by finding the new non-freeway drive node closest to the existing network's drive loading point\n",
    "3. bike and walk centroid connector built by finding the closest new walk and bike node to the centroid"
   ]
  },
  {
   "cell_type": "code",
   "execution_count": 1,
   "metadata": {},
   "outputs": [],
   "source": [
    "import pandas as pd\n",
    "import numpy as np\n",
    "import geopandas as gpd\n",
    "from simpledbf import Dbf5\n",
    "from shapely.geometry import Point, shape, LineString\n",
    "from scipy.spatial import cKDTree\n",
    "import json\n",
    "import math\n",
    "import fiona\n",
    "import os\n",
    "\n",
    "%matplotlib inline\n",
    "\n",
    "import matplotlib.pyplot as plt\n",
    "\n",
    "pd.set_option('display.float_format', lambda x: '%.3f' % x)"
   ]
  },
  {
   "cell_type": "code",
   "execution_count": 2,
   "metadata": {},
   "outputs": [],
   "source": [
    "%load_ext autoreload\n",
    "%autoreload 2"
   ]
  },
  {
   "cell_type": "code",
   "execution_count": 3,
   "metadata": {},
   "outputs": [],
   "source": [
    "from methods import link_df_to_geojson\n",
    "from methods import point_df_to_geojson\n",
    "from methods import reproject\n",
    "from methods import num_of_drive_loadpoint_per_centroid\n",
    "from methods import num_of_walk_bike_loadpoint_per_centroid\n",
    "from methods import find_new_load_point\n",
    "from methods import generate_centroid_connectors\n",
    "from methods import consolidate_cc\n",
    "\n",
    "from methods import project_geometry\n",
    "from methods import project_gdf\n",
    "from methods import buffer1\n",
    "from methods import buffer2\n",
    "from methods import get_non_near_connectors"
   ]
  },
  {
   "cell_type": "code",
   "execution_count": 4,
   "metadata": {},
   "outputs": [],
   "source": [
    "step6_output_folder = \"../../data/interim/step6_gtfs/version_12/\"\n",
    "county_shape_folder = \"../data/external/county/\""
   ]
  },
  {
   "cell_type": "markdown",
   "metadata": {},
   "source": [
    "# Inputs"
   ]
  },
  {
   "cell_type": "code",
   "execution_count": 5,
   "metadata": {},
   "outputs": [
    {
     "name": "stdout",
     "output_type": "stream",
     "text": [
      "read link\n",
      "read node\n",
      "read shape\n",
      "Wall time: 2min 33s\n"
     ]
    }
   ],
   "source": [
    "%%time\n",
    "# Network Standard files from Step 6\n",
    "\n",
    "print('read link')\n",
    "link_file = step6_output_folder + \"link.feather\"\n",
    "link_df = pd.read_feather(link_file)\n",
    "\n",
    "print('read node')\n",
    "node_file = step6_output_folder + \"node.geojson\"\n",
    "node_gdf = gpd.read_file(node_file)\n",
    "\n",
    "print('read shape')\n",
    "shape_file = step6_output_folder + \"shape.geojson\"\n",
    "shape_gdf = gpd.read_file(shape_file)"
   ]
  },
  {
   "cell_type": "code",
   "execution_count": 6,
   "metadata": {},
   "outputs": [],
   "source": [
    "# TAZ and MAZ polygons\n",
    "\n",
    "taz_poly_gdf = gpd.read_file('../../data/external/maz_taz/tazs_TM2_v2_2.shp')\n",
    "taz_poly_gdf = taz_poly_gdf.to_crs(epsg = 4326)\n",
    "\n",
    "maz_poly_gdf = gpd.read_file('../../data/external/maz_taz/mazs_TM2_v2_2.shp')\n",
    "maz_poly_gdf = maz_poly_gdf.to_crs(epsg = 4326)"
   ]
  },
  {
   "cell_type": "code",
   "execution_count": 7,
   "metadata": {},
   "outputs": [
    {
     "data": {
      "text/html": [
       "<div>\n",
       "<style scoped>\n",
       "    .dataframe tbody tr th:only-of-type {\n",
       "        vertical-align: middle;\n",
       "    }\n",
       "\n",
       "    .dataframe tbody tr th {\n",
       "        vertical-align: top;\n",
       "    }\n",
       "\n",
       "    .dataframe thead th {\n",
       "        text-align: right;\n",
       "    }\n",
       "</style>\n",
       "<table border=\"1\" class=\"dataframe\">\n",
       "  <thead>\n",
       "    <tr style=\"text-align: right;\">\n",
       "      <th></th>\n",
       "      <th>shstReferenceId</th>\n",
       "      <th>A_node</th>\n",
       "      <th>B_node</th>\n",
       "      <th>lanes</th>\n",
       "      <th>assignable</th>\n",
       "      <th>ft</th>\n",
       "    </tr>\n",
       "  </thead>\n",
       "  <tbody>\n",
       "    <tr>\n",
       "      <th>0</th>\n",
       "      <td>00000b467d2e08f9abf13eeafee3ed46</td>\n",
       "      <td>3027596</td>\n",
       "      <td>3028181</td>\n",
       "      <td>1</td>\n",
       "      <td>1</td>\n",
       "      <td>Collector</td>\n",
       "    </tr>\n",
       "    <tr>\n",
       "      <th>1</th>\n",
       "      <td>000018062272093dbaa5d49303062454</td>\n",
       "      <td>5005807</td>\n",
       "      <td>5010629</td>\n",
       "      <td>1</td>\n",
       "      <td>1</td>\n",
       "      <td>Collector</td>\n",
       "    </tr>\n",
       "    <tr>\n",
       "      <th>2</th>\n",
       "      <td>000018a23d1330dcfbae79f44e9fca1a</td>\n",
       "      <td>2002804</td>\n",
       "      <td>2113098</td>\n",
       "      <td>1</td>\n",
       "      <td>1</td>\n",
       "      <td>Major Arterial</td>\n",
       "    </tr>\n",
       "    <tr>\n",
       "      <th>3</th>\n",
       "      <td>00004e60296f9a9faa45248283397c28</td>\n",
       "      <td>2042055</td>\n",
       "      <td>2049818</td>\n",
       "      <td>2</td>\n",
       "      <td>1</td>\n",
       "      <td>Major Arterial</td>\n",
       "    </tr>\n",
       "    <tr>\n",
       "      <th>4</th>\n",
       "      <td>00008f3db470b7993ed7efe3fdbbe371</td>\n",
       "      <td>1005731</td>\n",
       "      <td>1004692</td>\n",
       "      <td>1</td>\n",
       "      <td>1</td>\n",
       "      <td>Collector</td>\n",
       "    </tr>\n",
       "  </tbody>\n",
       "</table>\n",
       "</div>"
      ],
      "text/plain": [
       "                    shstReferenceId   A_node   B_node  lanes  assignable  \\\n",
       "0  00000b467d2e08f9abf13eeafee3ed46  3027596  3028181      1           1   \n",
       "1  000018062272093dbaa5d49303062454  5005807  5010629      1           1   \n",
       "2  000018a23d1330dcfbae79f44e9fca1a  2002804  2113098      1           1   \n",
       "3  00004e60296f9a9faa45248283397c28  2042055  2049818      2           1   \n",
       "4  00008f3db470b7993ed7efe3fdbbe371  1005731  1004692      1           1   \n",
       "\n",
       "               ft  \n",
       "0       Collector  \n",
       "1       Collector  \n",
       "2  Major Arterial  \n",
       "3  Major Arterial  \n",
       "4       Collector  "
      ]
     },
     "execution_count": 7,
     "metadata": {},
     "output_type": "execute_result"
    }
   ],
   "source": [
    "# legacy lookup for assignable\n",
    "# initially this file is used to build centroid connectors; as we have newer versions of the network,\n",
    "# updated assignable lookup is used instead of this one.\n",
    "tm2_lookup_df = pd.read_csv(r'C:\\Users\\{}\\Documents\\GitHub\\Lasso\\mtc_data\\lookups\\legacy_tm2_attributes.csv'.format(os.getenv('USERNAME')))\n",
    "tm2_lookup_df.head()"
   ]
  },
  {
   "cell_type": "code",
   "execution_count": 8,
   "metadata": {},
   "outputs": [
    {
     "name": "stdout",
     "output_type": "stream",
     "text": [
      "0    1807923\n",
      "1     422124\n",
      "Name: ASSIGNABLE, dtype: int64\n",
      "\n",
      "link connector types of assignable links: \n",
      "TANA    391050\n",
      "TAZ      31069\n",
      "PED          5\n",
      "Name: CNTYPE, dtype: int64\n"
     ]
    }
   ],
   "source": [
    "# assignable analysis result from RSG\n",
    "dbf = Dbf5(\"../../data/processed/version_05/assignable_analysis_links.dbf\")\n",
    "assignable_lookup_df = dbf.to_dataframe()\n",
    "\n",
    "assignable_lookup_df = assignable_lookup_df[['A', 'B', 'ASSIGNABLE', 'CNTYPE']]\n",
    "# export assignable lookup table\n",
    "#assignable_lookup_df[[\"A\", \"B\", \"ASSIGNABLE\", \"CNTYPE\"]].to_csv(\"../../data/processed/version_05/assignable_analysis_links.csv\",\n",
    "#                                                     index = False)\n",
    "\n",
    "# assignable_lookup_df = pd.read_csv(\"../../data/processed/version_05/assignable_analysis_links.csv\")\n",
    "\n",
    "# some stats\n",
    "print(assignable_lookup_df.ASSIGNABLE.value_counts())\n",
    "print('\\nlink connector types of assignable links: \\n{}'.format(assignable_lookup_df[assignable_lookup_df.ASSIGNABLE==1].CNTYPE.value_counts()))"
   ]
  },
  {
   "cell_type": "code",
   "execution_count": 9,
   "metadata": {},
   "outputs": [
    {
     "name": "stderr",
     "output_type": "stream",
     "text": [
      "C:\\ProgramData\\Anaconda3\\lib\\site-packages\\pyproj\\crs\\crs.py:53: FutureWarning: '+init=<authority>:<code>' syntax is deprecated. '<authority>:<code>' is the preferred initialization method. When making the change, be mindful of axis order changes: https://pyproj4.github.io/pyproj/stable/gotchas.html#axis-order-changes-in-proj-6\n",
      "  return _prepare_from_string(\" \".join(pjargs))\n"
     ]
    }
   ],
   "source": [
    "# merge assignable lookup with link gdf\n",
    "\n",
    "link_gdf = pd.merge(link_df,\n",
    "                    shape_gdf[[\"id\", \"geometry\"]],\n",
    "                    how = \"left\",\n",
    "                    on = \"id\")\n",
    "\n",
    "link_gdf = gpd.GeoDataFrame(link_gdf, \n",
    "                            geometry = link_gdf[\"geometry\"],\n",
    "                            crs={\"init\" : \"epsg:4326\"})\n",
    "\n",
    "# # As noted above, since we have updated assignable lookup, we no longer use the legacy assignable lookup\n",
    "# link_gdf = pd.merge(\n",
    "#     link_gdf,\n",
    "#     tm2_lookup_df[[\"shstReferenceId\", \"assignable\"]],\n",
    "#     how = \"left\",\n",
    "#     on = \"shstReferenceId\"\n",
    "# )\n",
    "\n",
    "link_gdf = pd.merge(\n",
    "    link_gdf,\n",
    "    assignable_lookup_df[[\"A\", \"B\", \"ASSIGNABLE\"]],\n",
    "    how = \"left\",\n",
    "    on = [\"A\", \"B\"]\n",
    ")\n",
    "\n",
    "link_gdf.rename(columns = {\"ASSIGNABLE\" : \"assignable\"}, inplace = True)"
   ]
  },
  {
   "cell_type": "code",
   "execution_count": 10,
   "metadata": {},
   "outputs": [
    {
     "data": {
      "text/plain": [
       "0.000    1245221\n",
       "1.000     388313\n",
       "Name: assignable, dtype: int64"
      ]
     },
     "execution_count": 10,
     "metadata": {},
     "output_type": "execute_result"
    }
   ],
   "source": [
    "# stats\n",
    "link_gdf.assignable.value_counts()"
   ]
  },
  {
   "cell_type": "markdown",
   "metadata": {},
   "source": [
    "# existing centroid connector"
   ]
  },
  {
   "cell_type": "markdown",
   "metadata": {},
   "source": [
    "### existing TAZ centorids and centroid connectors"
   ]
  },
  {
   "cell_type": "code",
   "execution_count": 11,
   "metadata": {},
   "outputs": [
    {
     "name": "stdout",
     "output_type": "stream",
     "text": [
      "+init=epsg:4326 +type=crs\n",
      "+init=epsg:4326 +type=crs\n",
      "Wall time: 3min 50s\n"
     ]
    }
   ],
   "source": [
    "%%time\n",
    "# read existing network\n",
    "\n",
    "existing_network_link_gdf = gpd.read_file(\"../../data/external/TM2_nonMarin/tm2_links.shp\")\n",
    "existing_network_node_gdf = gpd.read_file(\"../../data/external/TM2_nonMarin/tm2_nodes.shp\")\n",
    "\n",
    "# set initial CRS\n",
    "# one of the following two syntaxes would work, depending on package versions \n",
    "# existing_network_link_gdf.crs = {\"init\" : \"esri:102646\"}\n",
    "# existing_network_node_gdf.crs = {\"init\" : \"esri:102646\"}\n",
    "existing_network_link_gdf.crs = \"esri:102646\"\n",
    "existing_network_node_gdf.crs = \"esri:102646\"\n",
    "\n",
    "# convert to ESPG lat-lon\n",
    "\n",
    "existing_network_link_gdf = existing_network_link_gdf.to_crs({'init': 'epsg:4326'})\n",
    "print(existing_network_link_gdf.crs)\n",
    "\n",
    "existing_network_node_gdf = existing_network_node_gdf.to_crs({'init': 'epsg:4326'})\n",
    "print(existing_network_node_gdf.crs)"
   ]
  },
  {
   "cell_type": "markdown",
   "metadata": {},
   "source": [
    "existing_network_link_gdf[[\"CNTYPE\",\"geometry\"]].to_file(\"../../data/interim/step7_centroid_connector/tm2_connectors.geojson\",\n",
    "                                                        driver = \"GeoJSON\")"
   ]
  },
  {
   "cell_type": "code",
   "execution_count": 12,
   "metadata": {},
   "outputs": [],
   "source": [
    "#covert networks to espg 26915 for nearest node operation\n",
    "existing_network_link_gdf, existing_network_node_gdf = reproject(existing_network_link_gdf,\n",
    "                                                                 existing_network_node_gdf,\n",
    "                                                                 26915)"
   ]
  },
  {
   "cell_type": "code",
   "execution_count": 13,
   "metadata": {},
   "outputs": [],
   "source": [
    "# TAZ and MAZ centroids node id ranges in the legacy network\n",
    "\n",
    "taz_N_list = list(range(1, 10000)) + list(range(100001, 110000)) + list(range(200001, 210000)) + list(range(300001, 310000))\\\n",
    "+ list(range(400001, 410000)) + list(range(500001, 510000)) + list(range(600001, 610000)) + list(range(700001, 710000))\\\n",
    "+ list(range(800001, 810000)) + list(range(900001, 1000000))\n",
    "\n",
    "maz_N_list = list(range(10001, 90000)) + list(range(110001, 190000)) + list(range(210001, 290000)) + list(range(310001, 390000))\\\n",
    "+ list(range(410001, 490000)) + list(range(510001, 590000)) + list(range(610001, 690000)) + list(range(710001, 790000))\\\n",
    "+ list(range(810001, 890000))"
   ]
  },
  {
   "cell_type": "code",
   "execution_count": 14,
   "metadata": {
    "scrolled": true
   },
   "outputs": [
    {
     "name": "stdout",
     "output_type": "stream",
     "text": [
      "number of unique TAZ centroids: 4756\n",
      "\n",
      "facility types of TAZ connectors: \n",
      "6    31624\n",
      "Name: FT, dtype: int64\n",
      "\n",
      "CNTYPE of taz connectors: \n",
      "TAZ    31591\n",
      "EXT       33\n",
      "Name: CNTYPE, dtype: int64\n",
      "\n"
     ]
    },
    {
     "data": {
      "text/html": [
       "<div>\n",
       "<style scoped>\n",
       "    .dataframe tbody tr th:only-of-type {\n",
       "        vertical-align: middle;\n",
       "    }\n",
       "\n",
       "    .dataframe tbody tr th {\n",
       "        vertical-align: top;\n",
       "    }\n",
       "\n",
       "    .dataframe thead th {\n",
       "        text-align: right;\n",
       "    }\n",
       "</style>\n",
       "<table border=\"1\" class=\"dataframe\">\n",
       "  <thead>\n",
       "    <tr style=\"text-align: right;\">\n",
       "      <th></th>\n",
       "      <th>A</th>\n",
       "      <th>B</th>\n",
       "      <th>NUMLANES</th>\n",
       "      <th>F_JNCTID</th>\n",
       "      <th>T_JNCTID</th>\n",
       "      <th>FRC</th>\n",
       "      <th>NAME</th>\n",
       "      <th>FREEWAY</th>\n",
       "      <th>TOLLRD</th>\n",
       "      <th>ONEWAY</th>\n",
       "      <th>...</th>\n",
       "      <th>FFS</th>\n",
       "      <th>USECLASS</th>\n",
       "      <th>TOLLBOOTH</th>\n",
       "      <th>DANGLING</th>\n",
       "      <th>HASTRANSIT</th>\n",
       "      <th>DELETE</th>\n",
       "      <th>TOLLSEG</th>\n",
       "      <th>geometry</th>\n",
       "      <th>c</th>\n",
       "      <th>non_c</th>\n",
       "    </tr>\n",
       "  </thead>\n",
       "  <tbody>\n",
       "    <tr>\n",
       "      <th>0</th>\n",
       "      <td>1</td>\n",
       "      <td>1002463</td>\n",
       "      <td>0</td>\n",
       "      <td>0</td>\n",
       "      <td>0</td>\n",
       "      <td>0</td>\n",
       "      <td>None</td>\n",
       "      <td>0</td>\n",
       "      <td>None</td>\n",
       "      <td>None</td>\n",
       "      <td>...</td>\n",
       "      <td>25.000</td>\n",
       "      <td>0</td>\n",
       "      <td>0</td>\n",
       "      <td>0</td>\n",
       "      <td>0</td>\n",
       "      <td>0</td>\n",
       "      <td>0</td>\n",
       "      <td>LINESTRING (-2116430.484 4613514.384, -2116715...</td>\n",
       "      <td>1</td>\n",
       "      <td>1002463</td>\n",
       "    </tr>\n",
       "    <tr>\n",
       "      <th>1</th>\n",
       "      <td>1</td>\n",
       "      <td>1002702</td>\n",
       "      <td>0</td>\n",
       "      <td>0</td>\n",
       "      <td>0</td>\n",
       "      <td>0</td>\n",
       "      <td>None</td>\n",
       "      <td>0</td>\n",
       "      <td>None</td>\n",
       "      <td>None</td>\n",
       "      <td>...</td>\n",
       "      <td>25.000</td>\n",
       "      <td>0</td>\n",
       "      <td>0</td>\n",
       "      <td>0</td>\n",
       "      <td>0</td>\n",
       "      <td>0</td>\n",
       "      <td>0</td>\n",
       "      <td>LINESTRING (-2116430.484 4613514.384, -2116320...</td>\n",
       "      <td>1</td>\n",
       "      <td>1002702</td>\n",
       "    </tr>\n",
       "    <tr>\n",
       "      <th>2</th>\n",
       "      <td>1</td>\n",
       "      <td>1003078</td>\n",
       "      <td>0</td>\n",
       "      <td>0</td>\n",
       "      <td>0</td>\n",
       "      <td>0</td>\n",
       "      <td>None</td>\n",
       "      <td>0</td>\n",
       "      <td>None</td>\n",
       "      <td>None</td>\n",
       "      <td>...</td>\n",
       "      <td>25.000</td>\n",
       "      <td>0</td>\n",
       "      <td>0</td>\n",
       "      <td>0</td>\n",
       "      <td>0</td>\n",
       "      <td>0</td>\n",
       "      <td>0</td>\n",
       "      <td>LINESTRING (-2116430.484 4613514.384, -2116775...</td>\n",
       "      <td>1</td>\n",
       "      <td>1003078</td>\n",
       "    </tr>\n",
       "    <tr>\n",
       "      <th>3</th>\n",
       "      <td>1</td>\n",
       "      <td>1004400</td>\n",
       "      <td>0</td>\n",
       "      <td>0</td>\n",
       "      <td>0</td>\n",
       "      <td>0</td>\n",
       "      <td>None</td>\n",
       "      <td>0</td>\n",
       "      <td>None</td>\n",
       "      <td>None</td>\n",
       "      <td>...</td>\n",
       "      <td>25.000</td>\n",
       "      <td>0</td>\n",
       "      <td>0</td>\n",
       "      <td>0</td>\n",
       "      <td>0</td>\n",
       "      <td>0</td>\n",
       "      <td>0</td>\n",
       "      <td>LINESTRING (-2116430.484 4613514.384, -2116567...</td>\n",
       "      <td>1</td>\n",
       "      <td>1004400</td>\n",
       "    </tr>\n",
       "    <tr>\n",
       "      <th>4</th>\n",
       "      <td>1</td>\n",
       "      <td>1009833</td>\n",
       "      <td>0</td>\n",
       "      <td>0</td>\n",
       "      <td>0</td>\n",
       "      <td>0</td>\n",
       "      <td>None</td>\n",
       "      <td>0</td>\n",
       "      <td>None</td>\n",
       "      <td>None</td>\n",
       "      <td>...</td>\n",
       "      <td>25.000</td>\n",
       "      <td>0</td>\n",
       "      <td>0</td>\n",
       "      <td>0</td>\n",
       "      <td>0</td>\n",
       "      <td>0</td>\n",
       "      <td>0</td>\n",
       "      <td>LINESTRING (-2116430.484 4613514.384, -2116740...</td>\n",
       "      <td>1</td>\n",
       "      <td>1009833</td>\n",
       "    </tr>\n",
       "  </tbody>\n",
       "</table>\n",
       "<p>5 rows × 43 columns</p>\n",
       "</div>"
      ],
      "text/plain": [
       "   A        B  NUMLANES  F_JNCTID  T_JNCTID  FRC  NAME  FREEWAY TOLLRD ONEWAY  \\\n",
       "0  1  1002463         0         0         0    0  None        0   None   None   \n",
       "1  1  1002702         0         0         0    0  None        0   None   None   \n",
       "2  1  1003078         0         0         0    0  None        0   None   None   \n",
       "3  1  1004400         0         0         0    0  None        0   None   None   \n",
       "4  1  1009833         0         0         0    0  None        0   None   None   \n",
       "\n",
       "   ...    FFS  USECLASS TOLLBOOTH  DANGLING  HASTRANSIT  DELETE  TOLLSEG  \\\n",
       "0  ... 25.000         0         0         0           0       0        0   \n",
       "1  ... 25.000         0         0         0           0       0        0   \n",
       "2  ... 25.000         0         0         0           0       0        0   \n",
       "3  ... 25.000         0         0         0           0       0        0   \n",
       "4  ... 25.000         0         0         0           0       0        0   \n",
       "\n",
       "                                            geometry  c    non_c  \n",
       "0  LINESTRING (-2116430.484 4613514.384, -2116715...  1  1002463  \n",
       "1  LINESTRING (-2116430.484 4613514.384, -2116320...  1  1002702  \n",
       "2  LINESTRING (-2116430.484 4613514.384, -2116775...  1  1003078  \n",
       "3  LINESTRING (-2116430.484 4613514.384, -2116567...  1  1004400  \n",
       "4  LINESTRING (-2116430.484 4613514.384, -2116740...  1  1009833  \n",
       "\n",
       "[5 rows x 43 columns]"
      ]
     },
     "metadata": {},
     "output_type": "display_data"
    }
   ],
   "source": [
    "# existing taz level centroids\n",
    "taz_node_gdf = existing_network_node_gdf[existing_network_node_gdf.N.isin(taz_N_list)].copy()\n",
    "\n",
    "# existing taz level centroid connectors\n",
    "taz_connectors_gdf = existing_network_link_gdf[existing_network_link_gdf.CNTYPE.isin([\"TAZ\", \"EXT\"])].copy()\n",
    "\n",
    "taz_connectors_gdf = taz_connectors_gdf[(taz_connectors_gdf.A.isin(taz_N_list)) | \n",
    "                                       (taz_connectors_gdf.B.isin(taz_N_list))].copy()\n",
    "\n",
    "# identify centroid (c) and non-centroid (non-c) for each centroid connector\n",
    "taz_connectors_gdf[\"c\"] = np.where(taz_connectors_gdf[\"A\"].isin(taz_N_list),\n",
    "                                  taz_connectors_gdf[\"A\"],\n",
    "                                  taz_connectors_gdf[\"B\"])\n",
    "taz_connectors_gdf[\"non_c\"] = np.where(taz_connectors_gdf[\"A\"].isin(taz_N_list),\n",
    "                                  taz_connectors_gdf[\"B\"],\n",
    "                                  taz_connectors_gdf[\"A\"])\n",
    "\n",
    "taz_connectors_gdf.drop_duplicates(subset = [\"c\", \"non_c\"], inplace = True)\n",
    "\n",
    "print('number of unique TAZ centroids: {}'.format(taz_connectors_gdf.c.nunique()))\n",
    "print('\\nfacility types of TAZ connectors: \\n{}'.format(taz_connectors_gdf.FT.value_counts()))\n",
    "print('\\nCNTYPE of taz connectors: \\n{}\\n'.format(taz_connectors_gdf.CNTYPE.value_counts()))\n",
    "display(taz_connectors_gdf.head())"
   ]
  },
  {
   "cell_type": "code",
   "execution_count": 15,
   "metadata": {},
   "outputs": [
    {
     "name": "stdout",
     "output_type": "stream",
     "text": [
      "after dropping long connectors, TAZ centroid connectors went from 31624 to 31243, with 4756 unique TAZ centroids\n",
      "epsg:26915\n"
     ]
    }
   ],
   "source": [
    "# label connectors by length and drop the longer ones\n",
    "\n",
    "taz_connectors_gdf[\"length\"] = taz_connectors_gdf.geometry.length\n",
    "\n",
    "taz_connectors_gdf[\"length_mean\"] = taz_connectors_gdf.groupby([\"c\"]).length.transform(\"mean\") \n",
    "\n",
    "taz_connectors_gdf[\"length_std\"] = taz_connectors_gdf.groupby([\"c\"]).length.transform(\"std\") \n",
    "\n",
    "taz_connectors_gdf[\"length_norm\"] = (taz_connectors_gdf[\"length\"] - taz_connectors_gdf[\"length_mean\"]) / taz_connectors_gdf[\"length_std\"]\n",
    "\n",
    "taz_connectors_gdf[\"keep\"] = np.where((taz_connectors_gdf.length <= taz_connectors_gdf.length_mean + taz_connectors_gdf.length_std) |\n",
    "                                      (taz_connectors_gdf.length_std < taz_connectors_gdf.length_mean * 0.6) | \n",
    "                                      (taz_connectors_gdf.length_std.isnull()),\n",
    "                                     1,\n",
    "                                     0)\n",
    "\n",
    "taz_drop_long_connectors_gdf = taz_connectors_gdf[taz_connectors_gdf.keep == 1].copy()\n",
    "\n",
    "print('after dropping long connectors, TAZ centroid connectors went from {} to {}, with {} unique TAZ centroids'.format(\n",
    "    taz_connectors_gdf.shape[0],\n",
    "    taz_drop_long_connectors_gdf.shape[0],\n",
    "    taz_drop_long_connectors_gdf.c.nunique()))\n",
    "\n",
    "print(taz_drop_long_connectors_gdf.crs)"
   ]
  },
  {
   "cell_type": "markdown",
   "metadata": {},
   "source": [
    "### existing MAZ centroid and centroid connectors"
   ]
  },
  {
   "cell_type": "code",
   "execution_count": 16,
   "metadata": {},
   "outputs": [
    {
     "name": "stdout",
     "output_type": "stream",
     "text": [
      "\n",
      "facility types of MAZ connectors: \n",
      "6    125745\n",
      "Name: FT, dtype: int64\n",
      "\n",
      "CNTYPE of MAZ connectors: \n",
      "MAZ    125745\n",
      "Name: CNTYPE, dtype: int64\n",
      "\n"
     ]
    }
   ],
   "source": [
    "# existing maz level centroids\n",
    "maz_node_gdf = existing_network_node_gdf[existing_network_node_gdf.N.isin(maz_N_list)].copy()\n",
    "\n",
    "# existing taz level centroid connectors\n",
    "maz_connectors_gdf = existing_network_link_gdf[existing_network_link_gdf.CNTYPE == \"MAZ\"].copy()\n",
    "\n",
    "maz_connectors_gdf = maz_connectors_gdf[(maz_connectors_gdf.A.isin(maz_N_list)) | \n",
    "                                       (maz_connectors_gdf.B.isin(maz_N_list))].copy()\n",
    "\n",
    "# identify centroid (c) and non-centroid (non-c) for each centroid connector\n",
    "maz_connectors_gdf[\"c\"] = np.where(maz_connectors_gdf[\"A\"].isin(maz_N_list),\n",
    "                                  maz_connectors_gdf[\"A\"],\n",
    "                                  maz_connectors_gdf[\"B\"])\n",
    "maz_connectors_gdf[\"non_c\"] = np.where(maz_connectors_gdf[\"A\"].isin(maz_N_list),\n",
    "                                  maz_connectors_gdf[\"B\"],\n",
    "                                  maz_connectors_gdf[\"A\"])\n",
    "\n",
    "maz_connectors_gdf.drop_duplicates(subset = [\"c\", \"non_c\"], inplace = True)\n",
    "\n",
    "print('\\nfacility types of MAZ connectors: \\n{}'.format(maz_connectors_gdf.FT.value_counts()))\n",
    "print('\\nCNTYPE of MAZ connectors: \\n{}\\n'.format(maz_connectors_gdf.CNTYPE.value_counts()))"
   ]
  },
  {
   "cell_type": "code",
   "execution_count": 17,
   "metadata": {},
   "outputs": [
    {
     "name": "stdout",
     "output_type": "stream",
     "text": [
      "number of unique N in maz_node_gdf: 39726\n",
      "\n",
      "number of unique maz centroids: 39721\n",
      "\n",
      "nodes that are maz nodes but not maz centroids: \n",
      "[ 10186  16084 111432 111433 411178]\n"
     ]
    }
   ],
   "source": [
    "print('number of unique N in maz_node_gdf: {}\\n'.format(maz_node_gdf.N.nunique()))\n",
    "print('number of unique maz centroids: {}\\n'.format(maz_connectors_gdf.c.nunique()))\n",
    "\n",
    "print('nodes that are maz nodes but not maz centroids: \\n{}'.format(\n",
    "    np.setdiff1d(maz_node_gdf.N.tolist(), maz_connectors_gdf.c.tolist())))"
   ]
  },
  {
   "cell_type": "code",
   "execution_count": 18,
   "metadata": {},
   "outputs": [
    {
     "data": {
      "text/html": [
       "<div>\n",
       "<style scoped>\n",
       "    .dataframe tbody tr th:only-of-type {\n",
       "        vertical-align: middle;\n",
       "    }\n",
       "\n",
       "    .dataframe tbody tr th {\n",
       "        vertical-align: top;\n",
       "    }\n",
       "\n",
       "    .dataframe thead th {\n",
       "        text-align: right;\n",
       "    }\n",
       "</style>\n",
       "<table border=\"1\" class=\"dataframe\">\n",
       "  <thead>\n",
       "    <tr style=\"text-align: right;\">\n",
       "      <th></th>\n",
       "      <th>A</th>\n",
       "      <th>B</th>\n",
       "      <th>NUMLANES</th>\n",
       "      <th>F_JNCTID</th>\n",
       "      <th>T_JNCTID</th>\n",
       "      <th>FRC</th>\n",
       "      <th>NAME</th>\n",
       "      <th>FREEWAY</th>\n",
       "      <th>TOLLRD</th>\n",
       "      <th>ONEWAY</th>\n",
       "      <th>...</th>\n",
       "      <th>TAP_DRIVE</th>\n",
       "      <th>FT</th>\n",
       "      <th>FFS</th>\n",
       "      <th>USECLASS</th>\n",
       "      <th>TOLLBOOTH</th>\n",
       "      <th>DANGLING</th>\n",
       "      <th>HASTRANSIT</th>\n",
       "      <th>DELETE</th>\n",
       "      <th>TOLLSEG</th>\n",
       "      <th>geometry</th>\n",
       "    </tr>\n",
       "  </thead>\n",
       "  <tbody>\n",
       "  </tbody>\n",
       "</table>\n",
       "<p>0 rows × 41 columns</p>\n",
       "</div>"
      ],
      "text/plain": [
       "Empty GeoDataFrame\n",
       "Columns: [A, B, NUMLANES, F_JNCTID, T_JNCTID, FRC, NAME, FREEWAY, TOLLRD, ONEWAY, KPH, MINUTES, CARRIAGE, LANES, RAMP, SPEEDCAT, FEET, ASSIGNABLE, CNTYPE, TRANSIT, HIGHWAYT, B_CLASS, GRADE_CAT, PED_FLAG, BIKEPEDOK, PEMSID, PEMSLANES, RTEDIR, PEMSDIST, REPRIORITIZ, TMCLOCREF, TAP_DRIVE, FT, FFS, USECLASS, TOLLBOOTH, DANGLING, HASTRANSIT, DELETE, TOLLSEG, geometry]\n",
       "Index: []\n",
       "\n",
       "[0 rows x 41 columns]"
      ]
     },
     "metadata": {},
     "output_type": "display_data"
    },
    {
     "data": {
      "text/html": [
       "<div>\n",
       "<style scoped>\n",
       "    .dataframe tbody tr th:only-of-type {\n",
       "        vertical-align: middle;\n",
       "    }\n",
       "\n",
       "    .dataframe tbody tr th {\n",
       "        vertical-align: top;\n",
       "    }\n",
       "\n",
       "    .dataframe thead th {\n",
       "        text-align: right;\n",
       "    }\n",
       "</style>\n",
       "<table border=\"1\" class=\"dataframe\">\n",
       "  <thead>\n",
       "    <tr style=\"text-align: right;\">\n",
       "      <th></th>\n",
       "      <th>N</th>\n",
       "      <th>FAREZONE</th>\n",
       "      <th>X</th>\n",
       "      <th>Y</th>\n",
       "      <th>COUNTY</th>\n",
       "      <th>MODE</th>\n",
       "      <th>TYPE</th>\n",
       "      <th>ID</th>\n",
       "      <th>PNR_CAP</th>\n",
       "      <th>PNR1</th>\n",
       "      <th>...</th>\n",
       "      <th>RTDMODE</th>\n",
       "      <th>TAZSEQ</th>\n",
       "      <th>MAZSEQ</th>\n",
       "      <th>TAPSEQ</th>\n",
       "      <th>EXTSEQ</th>\n",
       "      <th>NEW_NODE</th>\n",
       "      <th>OLD_NODE</th>\n",
       "      <th>TEMP</th>\n",
       "      <th>TEMP2</th>\n",
       "      <th>geometry</th>\n",
       "    </tr>\n",
       "  </thead>\n",
       "  <tbody>\n",
       "    <tr>\n",
       "      <th>735</th>\n",
       "      <td>10186</td>\n",
       "      <td>0</td>\n",
       "      <td>-2107516.995</td>\n",
       "      <td>4612058.273</td>\n",
       "      <td>0</td>\n",
       "      <td>0</td>\n",
       "      <td>0</td>\n",
       "      <td>0</td>\n",
       "      <td>0</td>\n",
       "      <td>0</td>\n",
       "      <td>...</td>\n",
       "      <td>0</td>\n",
       "      <td>0</td>\n",
       "      <td>0</td>\n",
       "      <td>0</td>\n",
       "      <td>0</td>\n",
       "      <td>0</td>\n",
       "      <td>0</td>\n",
       "      <td>0</td>\n",
       "      <td>0</td>\n",
       "      <td>POINT (-2107516.995 4612058.273)</td>\n",
       "    </tr>\n",
       "    <tr>\n",
       "      <th>4059</th>\n",
       "      <td>16084</td>\n",
       "      <td>0</td>\n",
       "      <td>-2171711.462</td>\n",
       "      <td>4623635.108</td>\n",
       "      <td>0</td>\n",
       "      <td>0</td>\n",
       "      <td>0</td>\n",
       "      <td>0</td>\n",
       "      <td>0</td>\n",
       "      <td>0</td>\n",
       "      <td>...</td>\n",
       "      <td>0</td>\n",
       "      <td>0</td>\n",
       "      <td>0</td>\n",
       "      <td>0</td>\n",
       "      <td>0</td>\n",
       "      <td>0</td>\n",
       "      <td>0</td>\n",
       "      <td>0</td>\n",
       "      <td>0</td>\n",
       "      <td>POINT (-2171711.462 4623635.108)</td>\n",
       "    </tr>\n",
       "    <tr>\n",
       "      <th>6701</th>\n",
       "      <td>111432</td>\n",
       "      <td>0</td>\n",
       "      <td>-2107631.545</td>\n",
       "      <td>4579615.002</td>\n",
       "      <td>0</td>\n",
       "      <td>0</td>\n",
       "      <td>0</td>\n",
       "      <td>0</td>\n",
       "      <td>0</td>\n",
       "      <td>0</td>\n",
       "      <td>...</td>\n",
       "      <td>0</td>\n",
       "      <td>0</td>\n",
       "      <td>0</td>\n",
       "      <td>0</td>\n",
       "      <td>0</td>\n",
       "      <td>0</td>\n",
       "      <td>0</td>\n",
       "      <td>0</td>\n",
       "      <td>0</td>\n",
       "      <td>POINT (-2107631.545 4579615.002)</td>\n",
       "    </tr>\n",
       "    <tr>\n",
       "      <th>6702</th>\n",
       "      <td>111433</td>\n",
       "      <td>0</td>\n",
       "      <td>-2104739.322</td>\n",
       "      <td>4576745.752</td>\n",
       "      <td>0</td>\n",
       "      <td>0</td>\n",
       "      <td>0</td>\n",
       "      <td>0</td>\n",
       "      <td>0</td>\n",
       "      <td>0</td>\n",
       "      <td>...</td>\n",
       "      <td>0</td>\n",
       "      <td>0</td>\n",
       "      <td>0</td>\n",
       "      <td>0</td>\n",
       "      <td>0</td>\n",
       "      <td>0</td>\n",
       "      <td>0</td>\n",
       "      <td>0</td>\n",
       "      <td>0</td>\n",
       "      <td>POINT (-2104739.322 4576745.752)</td>\n",
       "    </tr>\n",
       "    <tr>\n",
       "      <th>34383</th>\n",
       "      <td>411178</td>\n",
       "      <td>0</td>\n",
       "      <td>-2105415.904</td>\n",
       "      <td>4625783.336</td>\n",
       "      <td>0</td>\n",
       "      <td>0</td>\n",
       "      <td>0</td>\n",
       "      <td>0</td>\n",
       "      <td>0</td>\n",
       "      <td>0</td>\n",
       "      <td>...</td>\n",
       "      <td>0</td>\n",
       "      <td>0</td>\n",
       "      <td>0</td>\n",
       "      <td>0</td>\n",
       "      <td>0</td>\n",
       "      <td>0</td>\n",
       "      <td>0</td>\n",
       "      <td>0</td>\n",
       "      <td>0</td>\n",
       "      <td>POINT (-2105415.904 4625783.336)</td>\n",
       "    </tr>\n",
       "  </tbody>\n",
       "</table>\n",
       "<p>5 rows × 30 columns</p>\n",
       "</div>"
      ],
      "text/plain": [
       "            N  FAREZONE            X           Y  COUNTY  MODE  TYPE  ID  \\\n",
       "735     10186         0 -2107516.995 4612058.273       0     0     0   0   \n",
       "4059    16084         0 -2171711.462 4623635.108       0     0     0   0   \n",
       "6701   111432         0 -2107631.545 4579615.002       0     0     0   0   \n",
       "6702   111433         0 -2104739.322 4576745.752       0     0     0   0   \n",
       "34383  411178         0 -2105415.904 4625783.336       0     0     0   0   \n",
       "\n",
       "       PNR_CAP  PNR1  ...  RTDMODE  TAZSEQ  MAZSEQ  TAPSEQ  EXTSEQ  NEW_NODE  \\\n",
       "735          0     0  ...        0       0       0       0       0         0   \n",
       "4059         0     0  ...        0       0       0       0       0         0   \n",
       "6701         0     0  ...        0       0       0       0       0         0   \n",
       "6702         0     0  ...        0       0       0       0       0         0   \n",
       "34383        0     0  ...        0       0       0       0       0         0   \n",
       "\n",
       "       OLD_NODE  TEMP  TEMP2                          geometry  \n",
       "735           0     0      0  POINT (-2107516.995 4612058.273)  \n",
       "4059          0     0      0  POINT (-2171711.462 4623635.108)  \n",
       "6701          0     0      0  POINT (-2107631.545 4579615.002)  \n",
       "6702          0     0      0  POINT (-2104739.322 4576745.752)  \n",
       "34383         0     0      0  POINT (-2105415.904 4625783.336)  \n",
       "\n",
       "[5 rows x 30 columns]"
      ]
     },
     "metadata": {},
     "output_type": "display_data"
    }
   ],
   "source": [
    "# examine - appear to be nodes that don't belong to any link\n",
    "display(existing_network_link_gdf[(existing_network_link_gdf.B.isin([10186,16084,111432,111433,411178])) | (existing_network_link_gdf.A.isin([10186,16084,111432,111433,411178]))])\n",
    "display(existing_network_node_gdf[existing_network_node_gdf.N.isin([10186,16084,111432,111433,411178])])"
   ]
  },
  {
   "cell_type": "code",
   "execution_count": 71,
   "metadata": {},
   "outputs": [],
   "source": [
    "# maz_node_gdf = maz_node_gdf[maz_node_gdf.N.isin(maz_connectors_gdf.c.tolist())]"
   ]
  },
  {
   "cell_type": "code",
   "execution_count": 19,
   "metadata": {},
   "outputs": [
    {
     "name": "stdout",
     "output_type": "stream",
     "text": [
      "after dropping long connectors, TAZ centroid connectors went from 125745 to 122987, with 39721 unique TAZ centroids\n"
     ]
    }
   ],
   "source": [
    "# label connectors by length and drop the longer ones\n",
    "\n",
    "maz_connectors_gdf[\"length\"] = maz_connectors_gdf.geometry.length\n",
    "\n",
    "maz_connectors_gdf[\"length_mean\"] = maz_connectors_gdf.groupby([\"c\"]).length.transform(\"mean\") \n",
    "\n",
    "maz_connectors_gdf[\"length_std\"] = maz_connectors_gdf.groupby([\"c\"]).length.transform(\"std\") \n",
    "\n",
    "maz_connectors_gdf[\"length_norm\"] = (maz_connectors_gdf[\"length\"] - maz_connectors_gdf[\"length_mean\"]) / maz_connectors_gdf[\"length_std\"]\n",
    "\n",
    "maz_connectors_gdf[\"keep\"] = np.where((maz_connectors_gdf.length <= maz_connectors_gdf.length_mean + maz_connectors_gdf.length_std) |\n",
    "                                      (maz_connectors_gdf.length_std < maz_connectors_gdf.length_mean * 0.6) | \n",
    "                                      (maz_connectors_gdf.length_std.isnull()),\n",
    "                                     1,\n",
    "                                     0)\n",
    "\n",
    "maz_drop_long_connectors_gdf = maz_connectors_gdf[maz_connectors_gdf.keep == 1].copy()\n",
    "\n",
    "print('after dropping long connectors, TAZ centroid connectors went from {} to {}, with {} unique TAZ centroids'.format(\n",
    "    maz_connectors_gdf.shape[0],\n",
    "    maz_drop_long_connectors_gdf.shape[0],\n",
    "    maz_drop_long_connectors_gdf.c.nunique()))"
   ]
  },
  {
   "cell_type": "markdown",
   "metadata": {},
   "source": [
    "# build new TAZ centroid connectors"
   ]
  },
  {
   "cell_type": "markdown",
   "metadata": {},
   "source": [
    "### For each zone, find how many nodes that have only two assignable geometries (not reference)"
   ]
  },
  {
   "cell_type": "code",
   "execution_count": 20,
   "metadata": {},
   "outputs": [
    {
     "data": {
      "text/plain": [
       "residential       407426\n",
       "service           389515\n",
       "tertiary           93218\n",
       "secondary          68529\n",
       "primary            26492\n",
       "motorway_link       4983\n",
       "trunk               4160\n",
       "motorway            2774\n",
       "secondary_link      1566\n",
       "primary_link        1506\n",
       "trunk_link          1382\n",
       "tertiary_link        611\n",
       "Name: roadway, dtype: int64"
      ]
     },
     "execution_count": 20,
     "metadata": {},
     "output_type": "execute_result"
    }
   ],
   "source": [
    "link_gdf[link_gdf.drive_access==1].roadway.value_counts()"
   ]
  },
  {
   "cell_type": "code",
   "execution_count": 21,
   "metadata": {},
   "outputs": [
    {
     "name": "stdout",
     "output_type": "stream",
     "text": [
      "out of 178678 nodes with assignable links, 127885 have only two assignable geometries\n"
     ]
    }
   ],
   "source": [
    "assignable_link_gdf = link_gdf[(link_gdf.assignable == 1) & \n",
    "                               ~(link_gdf.roadway.isin(\n",
    "                                   [\"motorway_link\", \"motorway\", \"trunk\", \"trunk_link\", \"service\"])) &\n",
    "                              (link_gdf.drive_access == 1)].copy()\n",
    "\n",
    "# count geometry, regardless of if the geometry represents one link (one-way) or two links (two-way)\n",
    "\n",
    "a_geometry_count_df = assignable_link_gdf.groupby(\n",
    "    [\"A\", \"shstGeometryId\"])[\"model_link_id\"].count().reset_index().rename(columns = {\"A\" : \"model_node_id\"})\n",
    "b_geometry_count_df = assignable_link_gdf.groupby(\n",
    "    [\"B\", \"shstGeometryId\"])[\"model_link_id\"].count().reset_index().rename(columns = {\"B\" : \"model_node_id\"})\n",
    "\n",
    "node_geometry_count_df = pd.concat([a_geometry_count_df, b_geometry_count_df], ignore_index = True, sort = False)\n",
    "\n",
    "node_geometry_count_df = node_geometry_count_df.groupby(\n",
    "    [\"model_node_id\", \"shstGeometryId\"]).count().reset_index().groupby([\"model_node_id\"])[\"shstGeometryId\"].count().reset_index()\n",
    "\n",
    "node_two_geometry_df = node_geometry_count_df[node_geometry_count_df.shstGeometryId == 2].copy()\n",
    "node_two_geometry_id_list = node_two_geometry_df.model_node_id.tolist()\n",
    "\n",
    "\n",
    "print('out of {} nodes with assignable links, {} have only two assignable geometries'.format(\n",
    "    node_geometry_count_df.shape[0], node_two_geometry_df.shape[0]))"
   ]
  },
  {
   "cell_type": "code",
   "execution_count": 22,
   "metadata": {},
   "outputs": [
    {
     "name": "stderr",
     "output_type": "stream",
     "text": [
      "C:\\ProgramData\\Anaconda3\\lib\\site-packages\\pyproj\\crs\\crs.py:53: FutureWarning: '+init=<authority>:<code>' syntax is deprecated. '<authority>:<code>' is the preferred initialization method. When making the change, be mindful of axis order changes: https://pyproj4.github.io/pyproj/stable/gotchas.html#axis-order-changes-in-proj-6\n",
      "  return _prepare_from_string(\" \".join(pjargs))\n"
     ]
    }
   ],
   "source": [
    "# add other node attributes\n",
    "node_two_geometry_df = pd.merge(\n",
    "    node_two_geometry_df,\n",
    "    node_gdf[[\"model_node_id\", \"osm_node_id\", \"shst_node_id\", \"geometry\"]],\n",
    "    how = \"left\",\n",
    "    on = \"model_node_id\"\n",
    ")\n",
    "\n",
    "# convert to geodataframe\n",
    "node_two_geometry_df = gpd.GeoDataFrame(node_two_geometry_df, \n",
    "                                        geometry = node_two_geometry_df[\"geometry\"],\n",
    "                                        crs = {\"init\" : \"epsg:4326\"})"
   ]
  },
  {
   "cell_type": "code",
   "execution_count": 23,
   "metadata": {},
   "outputs": [
    {
     "name": "stdout",
     "output_type": "stream",
     "text": [
      "<class 'geopandas.geodataframe.GeoDataFrame'>\n",
      "Int64Index: 127885 entries, 0 to 127884\n",
      "Data columns (total 5 columns):\n",
      " #   Column          Non-Null Count   Dtype   \n",
      "---  ------          --------------   -----   \n",
      " 0   model_node_id   127885 non-null  int64   \n",
      " 1   shstGeometryId  127885 non-null  int64   \n",
      " 2   osm_node_id     127885 non-null  float64 \n",
      " 3   shst_node_id    127885 non-null  object  \n",
      " 4   geometry        127885 non-null  geometry\n",
      "dtypes: float64(1), geometry(1), int64(2), object(1)\n",
      "memory usage: 5.9+ MB\n"
     ]
    }
   ],
   "source": [
    "node_two_geometry_df.info()"
   ]
  },
  {
   "cell_type": "markdown",
   "metadata": {},
   "source": [
    "### create two buffers around each TAZ"
   ]
  },
  {
   "cell_type": "code",
   "execution_count": 24,
   "metadata": {},
   "outputs": [
    {
     "name": "stderr",
     "output_type": "stream",
     "text": [
      "C:\\ProgramData\\Anaconda3\\lib\\site-packages\\pyproj\\crs\\crs.py:53: FutureWarning: '+init=<authority>:<code>' syntax is deprecated. '<authority>:<code>' is the preferred initialization method. When making the change, be mindful of axis order changes: https://pyproj4.github.io/pyproj/stable/gotchas.html#axis-order-changes-in-proj-6\n",
      "  return _prepare_from_string(\" \".join(pjargs))\n"
     ]
    },
    {
     "name": "stdout",
     "output_type": "stream",
     "text": [
      "Wall time: 5min 8s\n"
     ]
    }
   ],
   "source": [
    "%%time\n",
    "# creat two buffers for each TAZ, buffer1 is a 10-meter buffer, buffer2 is a minimum_rotated_rectangle buffer.\n",
    "\n",
    "taz_poly_buffer1_gdf = taz_poly_gdf.copy()\n",
    "taz_poly_buffer2_gdf = taz_poly_gdf.copy()\n",
    "\n",
    "taz_poly_buffer1_gdf[\"geometry_buffer\"] = taz_poly_buffer1_gdf[\"geometry\"].apply(lambda x: buffer1(x))\n",
    "taz_poly_buffer1_gdf.rename(columns = {\"geometry\" : \"geometry_orig\", \"geometry_buffer\" : \"geometry\"}, inplace = True)\n",
    "\n",
    "taz_poly_buffer2_gdf[\"geometry_buffer\"] = taz_poly_buffer2_gdf[\"geometry\"].apply(lambda x: buffer2(x))\n",
    "taz_poly_buffer2_gdf.rename(columns = {\"geometry\" : \"geometry_orig\", \"geometry_buffer\" : \"geometry\"}, inplace = True)"
   ]
  },
  {
   "cell_type": "code",
   "execution_count": 25,
   "metadata": {},
   "outputs": [
    {
     "name": "stderr",
     "output_type": "stream",
     "text": [
      "<timed exec>:4: UserWarning: CRS mismatch between the CRS of left geometries and the CRS of right geometries.\n",
      "Use `to_crs()` to reproject one of the input geometries to match the CRS of the other.\n",
      "\n",
      "Left CRS: +init=epsg:4326 +type=crs\n",
      "Right CRS: EPSG:4326\n",
      "\n",
      "<timed exec>:9: UserWarning: CRS mismatch between the CRS of left geometries and the CRS of right geometries.\n",
      "Use `to_crs()` to reproject one of the input geometries to match the CRS of the other.\n",
      "\n",
      "Left CRS: +init=epsg:4326 +type=crs\n",
      "Right CRS: EPSG:4326\n",
      "\n",
      "<timed exec>:14: UserWarning: CRS mismatch between the CRS of left geometries and the CRS of right geometries.\n",
      "Use `to_crs()` to reproject one of the input geometries to match the CRS of the other.\n",
      "\n",
      "Left CRS: +init=epsg:4326 +type=crs\n",
      "Right CRS: EPSG:4326\n",
      "\n"
     ]
    },
    {
     "name": "stdout",
     "output_type": "stream",
     "text": [
      "127885\n",
      "127885\n",
      "127885\n",
      "127885\n",
      "Wall time: 2min 40s\n"
     ]
    }
   ],
   "source": [
    "%%time\n",
    "# spatially join ('intersects') node_two_geometry with three types of geographies: taz, taz_buffer1, taz_buffer2,\n",
    "# so each node is tagged with the taz, taz_buffer1, taz_buffer2 it belongs to\n",
    "\n",
    "taz_node_two_geometry_df = gpd.sjoin(node_two_geometry_df, \n",
    "                                     taz_poly_gdf[[\"geometry\", \"taz\"]], \n",
    "                                     how = \"left\", \n",
    "                                     op = \"intersects\")\n",
    "\n",
    "taz_buffer1_node_two_geometry_df = gpd.sjoin(node_two_geometry_df, \n",
    "                                             taz_poly_buffer1_gdf[[\"geometry\", \"taz\"]], \n",
    "                                             how = \"left\", \n",
    "                                             op = \"intersects\")\n",
    "\n",
    "taz_buffer2_node_two_geometry_df = gpd.sjoin(node_two_geometry_df, \n",
    "                                             taz_poly_buffer2_gdf[[\"geometry\", \"taz\"]], \n",
    "                                             how = \"left\", \n",
    "                                             op = \"intersects\")\n",
    "\n",
    "# check three spatial joins have the same node_id count\n",
    "print(taz_node_two_geometry_df.model_node_id.nunique())\n",
    "print(taz_buffer1_node_two_geometry_df.model_node_id.nunique())\n",
    "print(taz_buffer2_node_two_geometry_df.model_node_id.nunique())\n",
    "print(node_two_geometry_df.model_node_id.nunique())"
   ]
  },
  {
   "cell_type": "code",
   "execution_count": 26,
   "metadata": {},
   "outputs": [
    {
     "name": "stdout",
     "output_type": "stream",
     "text": [
      "unique TAZs in spatial join with TAZ: 4682\n",
      "unique TAZs in spatial join with TAZ 10-meter buffer: 4716\n",
      "unique TAZs in spatial join with TAZ minimum_rotated_rectangle: 4712\n"
     ]
    }
   ],
   "source": [
    "print('unique TAZs in spatial join with TAZ: {}'.format(taz_node_two_geometry_df.taz.nunique()))\n",
    "print('unique TAZs in spatial join with TAZ 10-meter buffer: {}'.format(\n",
    "    taz_buffer1_node_two_geometry_df.taz.nunique()))\n",
    "print('unique TAZs in spatial join with TAZ minimum_rotated_rectangle: {}'.format(\n",
    "    taz_buffer2_node_two_geometry_df.taz.nunique()))"
   ]
  },
  {
   "cell_type": "code",
   "execution_count": 27,
   "metadata": {
    "scrolled": true
   },
   "outputs": [],
   "source": [
    "# count # of nodes in type of geographies\n",
    "taz_node_two_geometry_count_df = taz_node_two_geometry_df.groupby([\"taz\"])[\"model_node_id\"].count().reset_index()\n",
    "taz_buffer1_node_two_geometry_count_df = taz_buffer1_node_two_geometry_df.groupby([\"taz\"])[\"model_node_id\"].count().reset_index()\n",
    "taz_buffer2_node_two_geometry_count_df = taz_buffer2_node_two_geometry_df.groupby([\"taz\"])[\"model_node_id\"].count().reset_index()"
   ]
  },
  {
   "cell_type": "code",
   "execution_count": 28,
   "metadata": {},
   "outputs": [
    {
     "data": {
      "text/html": [
       "<div>\n",
       "<style scoped>\n",
       "    .dataframe tbody tr th:only-of-type {\n",
       "        vertical-align: middle;\n",
       "    }\n",
       "\n",
       "    .dataframe tbody tr th {\n",
       "        vertical-align: top;\n",
       "    }\n",
       "\n",
       "    .dataframe thead th {\n",
       "        text-align: right;\n",
       "    }\n",
       "</style>\n",
       "<table border=\"1\" class=\"dataframe\">\n",
       "  <thead>\n",
       "    <tr style=\"text-align: right;\">\n",
       "      <th></th>\n",
       "      <th>taz</th>\n",
       "      <th>model_node_id</th>\n",
       "    </tr>\n",
       "  </thead>\n",
       "  <tbody>\n",
       "    <tr>\n",
       "      <th>398</th>\n",
       "      <td>430.000</td>\n",
       "      <td>15</td>\n",
       "    </tr>\n",
       "  </tbody>\n",
       "</table>\n",
       "</div>"
      ],
      "text/plain": [
       "        taz  model_node_id\n",
       "398 430.000             15"
      ]
     },
     "metadata": {},
     "output_type": "display_data"
    },
    {
     "data": {
      "text/html": [
       "<div>\n",
       "<style scoped>\n",
       "    .dataframe tbody tr th:only-of-type {\n",
       "        vertical-align: middle;\n",
       "    }\n",
       "\n",
       "    .dataframe tbody tr th {\n",
       "        vertical-align: top;\n",
       "    }\n",
       "\n",
       "    .dataframe thead th {\n",
       "        text-align: right;\n",
       "    }\n",
       "</style>\n",
       "<table border=\"1\" class=\"dataframe\">\n",
       "  <thead>\n",
       "    <tr style=\"text-align: right;\">\n",
       "      <th></th>\n",
       "      <th>taz</th>\n",
       "      <th>model_node_id</th>\n",
       "    </tr>\n",
       "  </thead>\n",
       "  <tbody>\n",
       "    <tr>\n",
       "      <th>414</th>\n",
       "      <td>430.000</td>\n",
       "      <td>17</td>\n",
       "    </tr>\n",
       "    <tr>\n",
       "      <th>420</th>\n",
       "      <td>439.000</td>\n",
       "      <td>3</td>\n",
       "    </tr>\n",
       "  </tbody>\n",
       "</table>\n",
       "</div>"
      ],
      "text/plain": [
       "        taz  model_node_id\n",
       "414 430.000             17\n",
       "420 439.000              3"
      ]
     },
     "metadata": {},
     "output_type": "display_data"
    },
    {
     "data": {
      "text/html": [
       "<div>\n",
       "<style scoped>\n",
       "    .dataframe tbody tr th:only-of-type {\n",
       "        vertical-align: middle;\n",
       "    }\n",
       "\n",
       "    .dataframe tbody tr th {\n",
       "        vertical-align: top;\n",
       "    }\n",
       "\n",
       "    .dataframe thead th {\n",
       "        text-align: right;\n",
       "    }\n",
       "</style>\n",
       "<table border=\"1\" class=\"dataframe\">\n",
       "  <thead>\n",
       "    <tr style=\"text-align: right;\">\n",
       "      <th></th>\n",
       "      <th>taz</th>\n",
       "      <th>model_node_id</th>\n",
       "    </tr>\n",
       "  </thead>\n",
       "  <tbody>\n",
       "    <tr>\n",
       "      <th>409</th>\n",
       "      <td>430</td>\n",
       "      <td>15</td>\n",
       "    </tr>\n",
       "    <tr>\n",
       "      <th>415</th>\n",
       "      <td>439</td>\n",
       "      <td>3</td>\n",
       "    </tr>\n",
       "  </tbody>\n",
       "</table>\n",
       "</div>"
      ],
      "text/plain": [
       "     taz  model_node_id\n",
       "409  430             15\n",
       "415  439              3"
      ]
     },
     "metadata": {},
     "output_type": "display_data"
    }
   ],
   "source": [
    "# examples of TAZs not consistent in the three types of geographies\n",
    "display(taz_node_two_geometry_count_df[taz_node_two_geometry_count_df.taz.isin([433, 435, 439, 430])])\n",
    "display(taz_buffer1_node_two_geometry_count_df[taz_buffer1_node_two_geometry_count_df.taz.isin([433, 435, 439, 430])])\n",
    "display(taz_buffer2_node_two_geometry_count_df[taz_buffer2_node_two_geometry_count_df.taz.isin([433, 435, 439, 430])])"
   ]
  },
  {
   "cell_type": "markdown",
   "metadata": {},
   "source": [
    "### create taz drive centroid connectors"
   ]
  },
  {
   "cell_type": "code",
   "execution_count": 29,
   "metadata": {},
   "outputs": [
    {
     "name": "stderr",
     "output_type": "stream",
     "text": [
      "C:\\ProgramData\\Anaconda3\\lib\\site-packages\\pyproj\\crs\\crs.py:53: FutureWarning: '+init=<authority>:<code>' syntax is deprecated. '<authority>:<code>' is the preferred initialization method. When making the change, be mindful of axis order changes: https://pyproj4.github.io/pyproj/stable/gotchas.html#axis-order-changes-in-proj-6\n",
      "  return _prepare_from_string(\" \".join(pjargs))\n"
     ]
    },
    {
     "name": "stdout",
     "output_type": "stream",
     "text": [
      "Wall time: 7min 4s\n"
     ]
    }
   ],
   "source": [
    "%%time\n",
    "# create taz drive centroids and centroid connectors using taz_buffer1\n",
    "\n",
    "taz_buffer1_node_two_geometry_df.rename(columns = {\"taz\" : \"c\"}, inplace = True)\n",
    "\n",
    "taz_drive_cc_group1_gdf, taz_drive_centroid_group1_gdf = generate_centroid_connectors('drive',\n",
    "                                                                        taz_drop_long_connectors_gdf,\n",
    "                                                                        taz_buffer1_node_two_geometry_df,\n",
    "                                                                        existing_network_node_gdf)"
   ]
  },
  {
   "cell_type": "code",
   "execution_count": 30,
   "metadata": {
    "scrolled": true
   },
   "outputs": [
    {
     "data": {
      "text/html": [
       "<div>\n",
       "<style scoped>\n",
       "    .dataframe tbody tr th:only-of-type {\n",
       "        vertical-align: middle;\n",
       "    }\n",
       "\n",
       "    .dataframe tbody tr th {\n",
       "        vertical-align: top;\n",
       "    }\n",
       "\n",
       "    .dataframe thead th {\n",
       "        text-align: right;\n",
       "    }\n",
       "</style>\n",
       "<table border=\"1\" class=\"dataframe\">\n",
       "  <thead>\n",
       "    <tr style=\"text-align: right;\">\n",
       "      <th></th>\n",
       "      <th>u</th>\n",
       "      <th>shst_node_id</th>\n",
       "      <th>A</th>\n",
       "      <th>geometry_ld</th>\n",
       "      <th>B</th>\n",
       "      <th>geometry_c</th>\n",
       "      <th>geometry</th>\n",
       "      <th>fromIntersectionId</th>\n",
       "      <th>shstGeometryId</th>\n",
       "      <th>id</th>\n",
       "    </tr>\n",
       "  </thead>\n",
       "  <tbody>\n",
       "    <tr>\n",
       "      <th>0</th>\n",
       "      <td>1723563906.000</td>\n",
       "      <td>c4f793a9cc09e7ea16381ca307a17bab</td>\n",
       "      <td>1001671</td>\n",
       "      <td>POINT (-2116707.795 4613515.834)</td>\n",
       "      <td>1</td>\n",
       "      <td>POINT (-2116430.484461717 4613514.38417453)</td>\n",
       "      <td>LINESTRING (-122.42630 37.76972, -122.42356 37...</td>\n",
       "      <td>c4f793a9cc09e7ea16381ca307a17bab</td>\n",
       "      <td>cc1</td>\n",
       "      <td>cc1</td>\n",
       "    </tr>\n",
       "    <tr>\n",
       "      <th>1</th>\n",
       "      <td>5437876960.000</td>\n",
       "      <td>0166709338db50c787ff1f0cbde03108</td>\n",
       "      <td>1024255</td>\n",
       "      <td>POINT (-2116335.318 4613451.920)</td>\n",
       "      <td>1</td>\n",
       "      <td>POINT (-2116430.484461717 4613514.38417453)</td>\n",
       "      <td>LINESTRING (-122.42240 37.77023, -122.42356 37...</td>\n",
       "      <td>0166709338db50c787ff1f0cbde03108</td>\n",
       "      <td>cc2</td>\n",
       "      <td>cc2</td>\n",
       "    </tr>\n",
       "    <tr>\n",
       "      <th>2</th>\n",
       "      <td>65292019.000</td>\n",
       "      <td>47607b5b93cfe3112c30ca77905ed17c</td>\n",
       "      <td>1007266</td>\n",
       "      <td>POINT (-2116776.152 4613447.413)</td>\n",
       "      <td>1</td>\n",
       "      <td>POINT (-2116430.484461717 4613514.38417453)</td>\n",
       "      <td>LINESTRING (-122.42674 37.76900, -122.42356 37...</td>\n",
       "      <td>47607b5b93cfe3112c30ca77905ed17c</td>\n",
       "      <td>cc3</td>\n",
       "      <td>cc3</td>\n",
       "    </tr>\n",
       "    <tr>\n",
       "      <th>3</th>\n",
       "      <td>295083423.000</td>\n",
       "      <td>0ed7b96215de420ad456a1355e3350d8</td>\n",
       "      <td>1024558</td>\n",
       "      <td>POINT (-2116574.606 4613393.596)</td>\n",
       "      <td>1</td>\n",
       "      <td>POINT (-2116430.484461717 4613514.38417453)</td>\n",
       "      <td>LINESTRING (-122.42457 37.76912, -122.42356 37...</td>\n",
       "      <td>0ed7b96215de420ad456a1355e3350d8</td>\n",
       "      <td>cc4</td>\n",
       "      <td>cc4</td>\n",
       "    </tr>\n",
       "    <tr>\n",
       "      <th>4</th>\n",
       "      <td>4087590310.000</td>\n",
       "      <td>f59e05dcd867cb660a9dfd24bedaf2ad</td>\n",
       "      <td>1022692</td>\n",
       "      <td>POINT (-2116735.490 4613483.039)</td>\n",
       "      <td>1</td>\n",
       "      <td>POINT (-2116430.484461717 4613514.38417453)</td>\n",
       "      <td>LINESTRING (-122.42646 37.76939, -122.42356 37...</td>\n",
       "      <td>f59e05dcd867cb660a9dfd24bedaf2ad</td>\n",
       "      <td>cc5</td>\n",
       "      <td>cc5</td>\n",
       "    </tr>\n",
       "  </tbody>\n",
       "</table>\n",
       "</div>"
      ],
      "text/plain": [
       "               u                      shst_node_id        A  \\\n",
       "0 1723563906.000  c4f793a9cc09e7ea16381ca307a17bab  1001671   \n",
       "1 5437876960.000  0166709338db50c787ff1f0cbde03108  1024255   \n",
       "2   65292019.000  47607b5b93cfe3112c30ca77905ed17c  1007266   \n",
       "3  295083423.000  0ed7b96215de420ad456a1355e3350d8  1024558   \n",
       "4 4087590310.000  f59e05dcd867cb660a9dfd24bedaf2ad  1022692   \n",
       "\n",
       "                        geometry_ld  B  \\\n",
       "0  POINT (-2116707.795 4613515.834)  1   \n",
       "1  POINT (-2116335.318 4613451.920)  1   \n",
       "2  POINT (-2116776.152 4613447.413)  1   \n",
       "3  POINT (-2116574.606 4613393.596)  1   \n",
       "4  POINT (-2116735.490 4613483.039)  1   \n",
       "\n",
       "                                    geometry_c  \\\n",
       "0  POINT (-2116430.484461717 4613514.38417453)   \n",
       "1  POINT (-2116430.484461717 4613514.38417453)   \n",
       "2  POINT (-2116430.484461717 4613514.38417453)   \n",
       "3  POINT (-2116430.484461717 4613514.38417453)   \n",
       "4  POINT (-2116430.484461717 4613514.38417453)   \n",
       "\n",
       "                                            geometry  \\\n",
       "0  LINESTRING (-122.42630 37.76972, -122.42356 37...   \n",
       "1  LINESTRING (-122.42240 37.77023, -122.42356 37...   \n",
       "2  LINESTRING (-122.42674 37.76900, -122.42356 37...   \n",
       "3  LINESTRING (-122.42457 37.76912, -122.42356 37...   \n",
       "4  LINESTRING (-122.42646 37.76939, -122.42356 37...   \n",
       "\n",
       "                 fromIntersectionId shstGeometryId   id  \n",
       "0  c4f793a9cc09e7ea16381ca307a17bab            cc1  cc1  \n",
       "1  0166709338db50c787ff1f0cbde03108            cc2  cc2  \n",
       "2  47607b5b93cfe3112c30ca77905ed17c            cc3  cc3  \n",
       "3  0ed7b96215de420ad456a1355e3350d8            cc4  cc4  \n",
       "4  f59e05dcd867cb660a9dfd24bedaf2ad            cc5  cc5  "
      ]
     },
     "metadata": {},
     "output_type": "display_data"
    }
   ],
   "source": [
    "display(taz_drive_cc_group1_gdf.head())"
   ]
  },
  {
   "cell_type": "code",
   "execution_count": 31,
   "metadata": {},
   "outputs": [
    {
     "data": {
      "text/html": [
       "<div>\n",
       "<style scoped>\n",
       "    .dataframe tbody tr th:only-of-type {\n",
       "        vertical-align: middle;\n",
       "    }\n",
       "\n",
       "    .dataframe tbody tr th {\n",
       "        vertical-align: top;\n",
       "    }\n",
       "\n",
       "    .dataframe thead th {\n",
       "        text-align: right;\n",
       "    }\n",
       "</style>\n",
       "<table border=\"1\" class=\"dataframe\">\n",
       "  <thead>\n",
       "    <tr style=\"text-align: right;\">\n",
       "      <th></th>\n",
       "      <th>model_node_id</th>\n",
       "      <th>geometry</th>\n",
       "    </tr>\n",
       "  </thead>\n",
       "  <tbody>\n",
       "    <tr>\n",
       "      <th>0</th>\n",
       "      <td>1</td>\n",
       "      <td>POINT (-122.42356 37.77046)</td>\n",
       "    </tr>\n",
       "    <tr>\n",
       "      <th>7</th>\n",
       "      <td>2</td>\n",
       "      <td>POINT (-122.41851 37.76431)</td>\n",
       "    </tr>\n",
       "    <tr>\n",
       "      <th>15</th>\n",
       "      <td>3</td>\n",
       "      <td>POINT (-122.42438 37.76777)</td>\n",
       "    </tr>\n",
       "    <tr>\n",
       "      <th>23</th>\n",
       "      <td>4</td>\n",
       "      <td>POINT (-122.37238 37.82546)</td>\n",
       "    </tr>\n",
       "    <tr>\n",
       "      <th>26</th>\n",
       "      <td>5</td>\n",
       "      <td>POINT (-122.42760 37.76654)</td>\n",
       "    </tr>\n",
       "  </tbody>\n",
       "</table>\n",
       "</div>"
      ],
      "text/plain": [
       "    model_node_id                     geometry\n",
       "0               1  POINT (-122.42356 37.77046)\n",
       "7               2  POINT (-122.41851 37.76431)\n",
       "15              3  POINT (-122.42438 37.76777)\n",
       "23              4  POINT (-122.37238 37.82546)\n",
       "26              5  POINT (-122.42760 37.76654)"
      ]
     },
     "metadata": {},
     "output_type": "display_data"
    }
   ],
   "source": [
    "display(taz_drive_centroid_group1_gdf.head())"
   ]
  },
  {
   "cell_type": "code",
   "execution_count": 32,
   "metadata": {},
   "outputs": [
    {
     "name": "stdout",
     "output_type": "stream",
     "text": [
      "4551 TAZ centroids got 3 or more centroid connectors from 1st round of cc creation using taz_buffer1\n",
      "205 TAZ centroids did not get 3 or more centroid connectors from 1st round of cc creation using taz_buffer1\n"
     ]
    }
   ],
   "source": [
    "# count how many centroid connectors were created for each taz centroid\n",
    "taz_drive_cc_group1_count_df = taz_drive_cc_group1_gdf.groupby([\"B\"])[\"u\"].count().reset_index()\n",
    "\n",
    "taz_group2_list = taz_drive_cc_group1_count_df[\n",
    "    taz_drive_cc_group1_count_df.u < 3].B.tolist() + \\\n",
    "[c for c in taz_node_gdf.N.tolist() if c not in taz_drive_cc_group1_count_df.B.tolist()]\n",
    "\n",
    "print('{} TAZ centroids got 3 or more centroid connectors from 1st round of cc creation using taz_buffer1'.format(\n",
    "    taz_drive_cc_group1_count_df[taz_drive_cc_group1_count_df.u >= 3].B.nunique()))\n",
    "\n",
    "print('{} TAZ centroids did not get 3 or more centroid connectors from 1st round of cc creation using taz_buffer1'.format(\n",
    "    len(taz_group2_list)))"
   ]
  },
  {
   "cell_type": "code",
   "execution_count": 33,
   "metadata": {},
   "outputs": [
    {
     "name": "stdout",
     "output_type": "stream",
     "text": [
      "Wall time: 51.9 s\n"
     ]
    },
    {
     "name": "stderr",
     "output_type": "stream",
     "text": [
      "C:\\ProgramData\\Anaconda3\\lib\\site-packages\\pyproj\\crs\\crs.py:53: FutureWarning: '+init=<authority>:<code>' syntax is deprecated. '<authority>:<code>' is the preferred initialization method. When making the change, be mindful of axis order changes: https://pyproj4.github.io/pyproj/stable/gotchas.html#axis-order-changes-in-proj-6\n",
      "  return _prepare_from_string(\" \".join(pjargs))\n"
     ]
    }
   ],
   "source": [
    "%%time\n",
    "# for the TAZ centroids that didn't get 3 or more centroid connectors in 1st round,\n",
    "# create centroid connectors using taz_buffer2, considering all nodes within the TAZ boundary that have assignable links,\n",
    "# not limited to nodes with two geometries as in 1st round. \n",
    "\n",
    "exclude_links_df = link_gdf[link_gdf.roadway.isin([\"motorway_link\", \"motorway\", \"trunk\", \"trunk_link\"])]\n",
    "\n",
    "drive_node_gdf = node_gdf[(node_gdf.drive_access == 1) & \n",
    "                          ~(node_gdf.osm_node_id.isin(exclude_links_df.u.tolist() + \n",
    "                              exclude_links_df.v.tolist())) &\n",
    "                         (node_gdf.model_node_id.isin(assignable_link_gdf.A.tolist() + \n",
    "                                                     assignable_link_gdf.A.tolist()))].copy()\n",
    "\n",
    "taz_drive_cc_group2_gdf, taz_drive_centroid_group2_gdf = generate_centroid_connectors('drive',\n",
    "                                                                        taz_drop_long_connectors_gdf[taz_drop_long_connectors_gdf.c.isin(taz_group2_list)],\n",
    "                                                                        drive_node_gdf,\n",
    "                                                                        existing_network_node_gdf)"
   ]
  },
  {
   "cell_type": "code",
   "execution_count": 34,
   "metadata": {},
   "outputs": [
    {
     "name": "stdout",
     "output_type": "stream",
     "text": [
      "total 27727 drive centroid connectors for 4756 taz centroids; the centroid file has 4756 nodes\n"
     ]
    }
   ],
   "source": [
    "# combine connectors and centroids created in two rounds, drop duplicates\n",
    "\n",
    "taz_drive_cc_gdf = pd.concat(\n",
    "    [taz_drive_cc_group1_gdf, taz_drive_cc_group2_gdf],\n",
    "    sort = False,\n",
    "    ignore_index = True\n",
    ")\n",
    "\n",
    "taz_drive_cc_gdf.drop_duplicates(subset = [\"A\", \"B\"], inplace = True)\n",
    "\n",
    "taz_drive_cc_gdf[\"shstGeometryId\"] = range(1, 1+len(taz_drive_cc_gdf))\n",
    "taz_drive_cc_gdf[\"shstGeometryId\"] = taz_drive_cc_gdf[\"shstGeometryId\"].apply(lambda x: \"drive_cc\" + str(x))\n",
    "taz_drive_cc_gdf[\"id\"] = taz_drive_cc_gdf[\"shstGeometryId\"]\n",
    "\n",
    "taz_drive_centroid_gdf = pd.concat(\n",
    "    [taz_drive_centroid_group1_gdf, taz_drive_centroid_group2_gdf],\n",
    "    sort = False,\n",
    "    ignore_index = True\n",
    ")\n",
    "\n",
    "taz_drive_centroid_gdf.drop_duplicates(subset = [\"model_node_id\"], inplace = True)\n",
    "\n",
    "print('total {} drive centroid connectors for {} taz centroids; the centroid file has {} nodes'.format(\n",
    "    taz_drive_cc_gdf.shape[0],\n",
    "    taz_drive_cc_gdf.B.nunique(),\n",
    "    taz_drive_centroid_gdf.model_node_id.nunique()))"
   ]
  },
  {
   "cell_type": "code",
   "execution_count": 35,
   "metadata": {},
   "outputs": [
    {
     "name": "stdout",
     "output_type": "stream",
     "text": [
      "16480 taz drive connectors kept, from 4756 TAZ centroids\n",
      "Wall time: 47.7 s\n"
     ]
    }
   ],
   "source": [
    "%%time\n",
    "# tag if a connector will be kept: if there are more than four centroid connectors, \n",
    "# keep four that have the greatest divergence. \n",
    "# If less than four centroid connectors exist, keep all the connections.\n",
    "\n",
    "keep_taz_drive_cc_gdf = get_non_near_connectors(taz_drive_cc_gdf, taz_N_list, maz_N_list, node_two_geometry_id_list)\n",
    "\n",
    "keep_taz_drive_cc_gdf = taz_drive_cc_gdf[taz_drive_cc_gdf.id.isin(keep_taz_drive_cc_gdf.id)].copy()\n",
    "\n",
    "print('{} taz drive connectors kept, from {} TAZ centroids'.format(keep_taz_drive_cc_gdf.shape[0],\n",
    "                                                                   keep_taz_drive_cc_gdf.B.nunique()))"
   ]
  },
  {
   "cell_type": "code",
   "execution_count": 36,
   "metadata": {},
   "outputs": [
    {
     "name": "stdout",
     "output_type": "stream",
     "text": [
      "save TAZ drive connectors\n",
      "save 4756 TAZ centroids\n"
     ]
    }
   ],
   "source": [
    "print('save TAZ drive connectors')\n",
    "keep_taz_drive_cc_gdf.to_pickle(\"../../data/interim/step7_centroid_connector/taz_drive_cc.pickle\")\n",
    "\n",
    "print('save {} TAZ centroids'.format(taz_drive_centroid_gdf.shape[0]))\n",
    "taz_drive_centroid_gdf.to_pickle(\"../../data/interim/step7_centroid_connector/taz_drive_centroid.pickle\")"
   ]
  },
  {
   "cell_type": "code",
   "execution_count": 95,
   "metadata": {
    "scrolled": true
   },
   "outputs": [
    {
     "name": "stdout",
     "output_type": "stream",
     "text": [
      "save TAZ drive connector links\n"
     ]
    },
    {
     "name": "stderr",
     "output_type": "stream",
     "text": [
      "C:\\ProgramData\\Anaconda3\\lib\\site-packages\\pyproj\\crs\\crs.py:53: FutureWarning: '+init=<authority>:<code>' syntax is deprecated. '<authority>:<code>' is the preferred initialization method. When making the change, be mindful of axis order changes: https://pyproj4.github.io/pyproj/stable/gotchas.html#axis-order-changes-in-proj-6\n",
      "  return _prepare_from_string(\" \".join(pjargs))\n",
      "<ipython-input-95-1149b690a0d4>:2: FutureWarning: CRS mismatch between CRS of the passed geometries and 'crs'. Use 'GeoDataFrame.set_crs(crs, allow_override=True)' to overwrite CRS or 'GeoDataFrame.to_crs(crs)' to reproject geometries. CRS mismatch will raise an error in the future versions of GeoPandas.\n",
      "  gpd.GeoDataFrame(keep_taz_drive_cc_gdf[[\"geometry\", \"id\"]],\n"
     ]
    }
   ],
   "source": [
    "print('save TAZ drive connector links')\n",
    "gpd.GeoDataFrame(keep_taz_drive_cc_gdf[[\"geometry\", \"id\"]],\n",
    "                                    geometry = keep_taz_drive_cc_gdf['geometry'], crs = {\"init\" : \"epsg:4326\"}).to_file(\n",
    "    \"../../data/interim/step7_centroid_connector/taz_drive.geojson\",\n",
    "                        driver = \"GeoJSON\")"
   ]
  },
  {
   "cell_type": "code",
   "execution_count": 37,
   "metadata": {},
   "outputs": [
    {
     "name": "stdout",
     "output_type": "stream",
     "text": [
      "After adding the other direction, taz drive centroid connectors has 32960 links, 16480 shape\n"
     ]
    }
   ],
   "source": [
    "taz_cc_link_df, taz_cc_shape_gdf = consolidate_cc(link_gdf,\n",
    "#                                              taz_drive_centroid_gdf,\n",
    "                                             node_gdf,\n",
    "                                             keep_taz_drive_cc_gdf)\n",
    "\n",
    "print('After adding the other direction, taz drive centroid connectors has {} links, {} shape'.format(\n",
    "    taz_cc_link_df.shape[0],\n",
    "    taz_cc_shape_gdf.shape[0]))"
   ]
  },
  {
   "cell_type": "code",
   "execution_count": 38,
   "metadata": {},
   "outputs": [
    {
     "name": "stderr",
     "output_type": "stream",
     "text": [
      "C:\\ProgramData\\Anaconda3\\lib\\site-packages\\pyproj\\crs\\crs.py:53: FutureWarning: '+init=<authority>:<code>' syntax is deprecated. '<authority>:<code>' is the preferred initialization method. When making the change, be mindful of axis order changes: https://pyproj4.github.io/pyproj/stable/gotchas.html#axis-order-changes-in-proj-6\n",
      "  return _prepare_from_string(\" \".join(pjargs))\n"
     ]
    }
   ],
   "source": [
    "# save taz drive centroid connector shapes\n",
    "taz_cc_shape_gdf = gpd.GeoDataFrame(taz_cc_shape_gdf, geometry = taz_cc_shape_gdf['geometry'], crs = {\"init\" : \"epsg:4326\"})\n",
    "\n",
    "taz_cc_shape_gdf.to_file(\"../../data/interim/step7_centroid_connector/taz.geojson\",\n",
    "                         driver = \"GeoJSON\")"
   ]
  },
  {
   "cell_type": "markdown",
   "metadata": {},
   "source": [
    "# build new MAZ centroid connectors"
   ]
  },
  {
   "cell_type": "markdown",
   "metadata": {},
   "source": [
    "### create MAZ drive centroid connectors"
   ]
  },
  {
   "cell_type": "code",
   "execution_count": 39,
   "metadata": {},
   "outputs": [
    {
     "name": "stderr",
     "output_type": "stream",
     "text": [
      "C:\\ProgramData\\Anaconda3\\lib\\site-packages\\pyproj\\crs\\crs.py:53: FutureWarning: '+init=<authority>:<code>' syntax is deprecated. '<authority>:<code>' is the preferred initialization method. When making the change, be mindful of axis order changes: https://pyproj4.github.io/pyproj/stable/gotchas.html#axis-order-changes-in-proj-6\n",
      "  return _prepare_from_string(\" \".join(pjargs))\n"
     ]
    },
    {
     "name": "stdout",
     "output_type": "stream",
     "text": [
      "Wall time: 44min 31s\n"
     ]
    }
   ],
   "source": [
    "%%time\n",
    "# creat two buffers for each MAZ, buffer1 is a 10-meter buffer, buffer2 is a minimum_rotated_rectangle buffer.\n",
    "\n",
    "maz_poly_buffer1_gdf = maz_poly_gdf.copy()\n",
    "maz_poly_buffer2_gdf = maz_poly_gdf.copy()\n",
    "\n",
    "maz_poly_buffer1_gdf[\"geometry_buffer\"] = maz_poly_buffer1_gdf[\"geometry\"].apply(lambda x: buffer1(x))\n",
    "maz_poly_buffer2_gdf[\"geometry_buffer\"] = maz_poly_buffer2_gdf[\"geometry\"].apply(lambda x: buffer2(x))"
   ]
  },
  {
   "cell_type": "code",
   "execution_count": 44,
   "metadata": {},
   "outputs": [
    {
     "name": "stderr",
     "output_type": "stream",
     "text": [
      "<timed exec>:6: UserWarning: CRS mismatch between the CRS of left geometries and the CRS of right geometries.\n",
      "Use `to_crs()` to reproject one of the input geometries to match the CRS of the other.\n",
      "\n",
      "Left CRS: +init=epsg:4326 +type=crs\n",
      "Right CRS: EPSG:4326\n",
      "\n"
     ]
    },
    {
     "name": "stdout",
     "output_type": "stream",
     "text": [
      "Wall time: 30.2 s\n"
     ]
    }
   ],
   "source": [
    "%%time\n",
    "# spatially join ('intersects') node_two_geometry with maz_buffer1, \n",
    "# so each node is tagged with the maz_buffer1 it belongs to\n",
    "\n",
    "maz_poly_buffer1_gdf.rename(columns = {\"geometry\" : \"geometry_orig\", \"geometry_buffer\" : \"geometry\"}, inplace = True)\n",
    "\n",
    "maz_buffer1_node_two_geometry_df = gpd.sjoin(node_two_geometry_df, maz_poly_buffer1_gdf[[\"geometry\", \"maz\"]], \n",
    "                                             how = \"left\", op = \"intersects\")"
   ]
  },
  {
   "cell_type": "code",
   "execution_count": 45,
   "metadata": {},
   "outputs": [
    {
     "name": "stderr",
     "output_type": "stream",
     "text": [
      "C:\\ProgramData\\Anaconda3\\lib\\site-packages\\pyproj\\crs\\crs.py:53: FutureWarning: '+init=<authority>:<code>' syntax is deprecated. '<authority>:<code>' is the preferred initialization method. When making the change, be mindful of axis order changes: https://pyproj4.github.io/pyproj/stable/gotchas.html#axis-order-changes-in-proj-6\n",
      "  return _prepare_from_string(\" \".join(pjargs))\n"
     ]
    },
    {
     "name": "stdout",
     "output_type": "stream",
     "text": [
      "Wall time: 34min 46s\n"
     ]
    }
   ],
   "source": [
    "%%time\n",
    "# create maz drive centroids and centroid connectors using maz_buffer1\n",
    "\n",
    "maz_buffer1_node_two_geometry_df.rename(columns = {\"maz\" : \"c\"}, inplace = True)\n",
    "\n",
    "maz_drive_cc_group1_gdf, maz_drive_centroid_group1_gdf = generate_centroid_connectors('drive',\n",
    "                                                                        maz_drop_long_connectors_gdf,\n",
    "                                                                        maz_buffer1_node_two_geometry_df,\n",
    "                                                                        existing_network_node_gdf)"
   ]
  },
  {
   "cell_type": "code",
   "execution_count": 46,
   "metadata": {},
   "outputs": [
    {
     "name": "stdout",
     "output_type": "stream",
     "text": [
      "<class 'geopandas.geodataframe.GeoDataFrame'>\n",
      "Int64Index: 71467 entries, 0 to 108276\n",
      "Data columns (total 10 columns):\n",
      " #   Column              Non-Null Count  Dtype   \n",
      "---  ------              --------------  -----   \n",
      " 0   u                   71467 non-null  object  \n",
      " 1   shst_node_id        71467 non-null  object  \n",
      " 2   A                   71467 non-null  object  \n",
      " 3   geometry_ld         71467 non-null  geometry\n",
      " 4   B                   71467 non-null  int64   \n",
      " 5   geometry_c          71467 non-null  object  \n",
      " 6   geometry            71467 non-null  geometry\n",
      " 7   fromIntersectionId  71467 non-null  object  \n",
      " 8   shstGeometryId      71467 non-null  object  \n",
      " 9   id                  71467 non-null  object  \n",
      "dtypes: geometry(2), int64(1), object(7)\n",
      "memory usage: 6.0+ MB\n"
     ]
    }
   ],
   "source": [
    "maz_drive_cc_group1_gdf.info()"
   ]
  },
  {
   "cell_type": "code",
   "execution_count": 47,
   "metadata": {},
   "outputs": [
    {
     "name": "stdout",
     "output_type": "stream",
     "text": [
      "22596 MAZ centroids got 2 or more drive centroid connectors from 1st round of cc creation using maz_buffer1\n",
      "17130 TAZ centroids did not get 3 or more centroid connectors from 1st round of cc creation using taz_buffer1\n"
     ]
    }
   ],
   "source": [
    "# count how many drive centroid connectors were created for each MAZ centroid\n",
    "maz_drive_cc_count_df = maz_drive_cc_group1_gdf.groupby([\"B\"])[\"u\"].count().reset_index()\n",
    "\n",
    "maz_group2_list = maz_drive_cc_count_df[maz_drive_cc_count_df.u < 2].B.tolist() + \\\n",
    "[c for c in maz_node_gdf.N.tolist() if c not in maz_drive_cc_count_df.B.tolist()]\n",
    "\n",
    "print('{} MAZ centroids got 2 or more drive centroid connectors from 1st round of cc creation using maz_buffer1'.format(\n",
    "    maz_drive_cc_count_df[maz_drive_cc_count_df.u >= 2].B.nunique()))\n",
    "\n",
    "print('{} TAZ centroids did not get 2 or more centroid connectors from 1st round of cc creation using taz_buffer1'.format(\n",
    "    len(maz_group2_list)))"
   ]
  },
  {
   "cell_type": "code",
   "execution_count": 50,
   "metadata": {},
   "outputs": [
    {
     "name": "stderr",
     "output_type": "stream",
     "text": [
      "C:\\ProgramData\\Anaconda3\\lib\\site-packages\\pyproj\\crs\\crs.py:53: FutureWarning: '+init=<authority>:<code>' syntax is deprecated. '<authority>:<code>' is the preferred initialization method. When making the change, be mindful of axis order changes: https://pyproj4.github.io/pyproj/stable/gotchas.html#axis-order-changes-in-proj-6\n",
      "  return _prepare_from_string(\" \".join(pjargs))\n"
     ]
    },
    {
     "name": "stdout",
     "output_type": "stream",
     "text": [
      "Wall time: 37min 54s\n"
     ]
    }
   ],
   "source": [
    "%%time\n",
    "# for the MAZ centroids that didn't get 2 or more centroid connectors in 1st round,\n",
    "# create centroid connectors using maz_buffer2, considering all nodes within the MAZ boundary that have assignable links,\n",
    "# not limited to nodes with two geometries as in 1st round. \n",
    "\n",
    "exclude_links_df = link_gdf[link_gdf.roadway.isin([\"motorway_link\", \"motorway\", \"trunk\", \"trunk_link\"])]\n",
    "\n",
    "drive_node_gdf = node_gdf[(node_gdf.drive_access == 1) & \n",
    "                          ~(node_gdf.osm_node_id.isin(exclude_links_df.u.tolist() + \n",
    "                              exclude_links_df.v.tolist())) &\n",
    "                         (node_gdf.model_node_id.isin(assignable_link_gdf.A.tolist() + \n",
    "                                                     assignable_link_gdf.A.tolist()))].copy()\n",
    "\n",
    "maz_drive_cc_group2_gdf, maz_drive_centroid_group2_gdf = generate_centroid_connectors('drive',\n",
    "                                                                        maz_drop_long_connectors_gdf[maz_drop_long_connectors_gdf.c.isin(maz_group2_list)],\n",
    "                                                                        drive_node_gdf,\n",
    "                                                                        existing_network_node_gdf)"
   ]
  },
  {
   "cell_type": "code",
   "execution_count": 51,
   "metadata": {},
   "outputs": [
    {
     "name": "stdout",
     "output_type": "stream",
     "text": [
      "<class 'geopandas.geodataframe.GeoDataFrame'>\n",
      "Int64Index: 28592 entries, 0 to 41434\n",
      "Data columns (total 10 columns):\n",
      " #   Column              Non-Null Count  Dtype   \n",
      "---  ------              --------------  -----   \n",
      " 0   u                   28592 non-null  object  \n",
      " 1   shst_node_id        28592 non-null  object  \n",
      " 2   A                   28592 non-null  object  \n",
      " 3   geometry_ld         28592 non-null  geometry\n",
      " 4   B                   28592 non-null  int64   \n",
      " 5   geometry_c          28592 non-null  object  \n",
      " 6   geometry            28592 non-null  geometry\n",
      " 7   fromIntersectionId  28592 non-null  object  \n",
      " 8   shstGeometryId      28592 non-null  object  \n",
      " 9   id                  28592 non-null  object  \n",
      "dtypes: geometry(2), int64(1), object(7)\n",
      "memory usage: 2.4+ MB\n"
     ]
    }
   ],
   "source": [
    "maz_drive_cc_group2_gdf.info()"
   ]
  },
  {
   "cell_type": "code",
   "execution_count": 52,
   "metadata": {},
   "outputs": [],
   "source": [
    "# combine connectors and centroids created in two rounds, drop duplicates\n",
    "\n",
    "maz_drive_cc_gdf = pd.concat(\n",
    "    [maz_drive_cc_group1_gdf, maz_drive_cc_group2_gdf],\n",
    "    sort = False,\n",
    "    ignore_index = True\n",
    ")\n",
    "\n",
    "maz_drive_cc_gdf.drop_duplicates(subset = [\"A\", \"B\"], inplace = True)\n",
    "\n",
    "maz_drive_centroid_gdf = pd.concat(\n",
    "    [maz_drive_centroid_group1_gdf, maz_drive_centroid_group2_gdf],\n",
    "    sort = False,\n",
    "    ignore_index = True\n",
    ")\n",
    "\n",
    "maz_drive_centroid_gdf.drop_duplicates(subset = [\"model_node_id\"], inplace = True)"
   ]
  },
  {
   "cell_type": "code",
   "execution_count": 53,
   "metadata": {},
   "outputs": [
    {
     "name": "stdout",
     "output_type": "stream",
     "text": [
      "87968 maz drive connectors kept, from 39721 maz centroids\n",
      "epsg:4326\n"
     ]
    }
   ],
   "source": [
    "# tag if a connector will be kept: if there are more than four centroid connectors, \n",
    "# keep four that have the greatest divergence. \n",
    "# If less than four centroid connectors exist, keep all the connections.\n",
    "\n",
    "keep_maz_drive_cc_gdf = get_non_near_connectors(maz_drive_cc_gdf, taz_N_list, maz_N_list, node_two_geometry_id_list)\n",
    "\n",
    "keep_maz_drive_cc_gdf = maz_drive_cc_gdf[maz_drive_cc_gdf.id.isin(keep_maz_drive_cc_gdf.id)].copy()\n",
    "\n",
    "print('{} maz drive connectors kept, from {} maz centroids'.format(keep_maz_drive_cc_gdf.shape[0],\n",
    "                                                                   keep_maz_drive_cc_gdf.B.nunique()))\n",
    "\n",
    "print(keep_maz_drive_cc_gdf.crs)"
   ]
  },
  {
   "cell_type": "code",
   "execution_count": 55,
   "metadata": {},
   "outputs": [
    {
     "name": "stdout",
     "output_type": "stream",
     "text": [
      "save MAZ drive connectors\n",
      "save 39721 MAZ centroids\n",
      "save MAZ drive connectors geometries\n"
     ]
    }
   ],
   "source": [
    "print('save MAZ drive connectors')\n",
    "keep_maz_drive_cc_gdf.to_pickle(\"../../data/interim/step7_centroid_connector/maz_drive_cc.pickle\")\n",
    "\n",
    "print('save {} MAZ centroids'.format(maz_drive_centroid_gdf.shape[0]))\n",
    "maz_drive_centroid_gdf.to_pickle(\"../../data/interim/step7_centroid_connector/maz_drive_centroid.pickle\")\n",
    "\n",
    "print('save MAZ drive connectors geometries')\n",
    "keep_maz_drive_cc_gdf[[\"geometry\"]].to_file(\"../../data/interim/step7_centroid_connector/maz_drive.geojson\",\n",
    "                                            driver = \"GeoJSON\")"
   ]
  },
  {
   "cell_type": "markdown",
   "metadata": {},
   "source": [
    "### create MAZ walk centroid connectors"
   ]
  },
  {
   "cell_type": "code",
   "execution_count": 56,
   "metadata": {
    "scrolled": true
   },
   "outputs": [
    {
     "name": "stderr",
     "output_type": "stream",
     "text": [
      "C:\\ProgramData\\Anaconda3\\lib\\site-packages\\pyproj\\crs\\crs.py:53: FutureWarning: '+init=<authority>:<code>' syntax is deprecated. '<authority>:<code>' is the preferred initialization method. When making the change, be mindful of axis order changes: https://pyproj4.github.io/pyproj/stable/gotchas.html#axis-order-changes-in-proj-6\n",
      "  return _prepare_from_string(\" \".join(pjargs))\n"
     ]
    },
    {
     "name": "stdout",
     "output_type": "stream",
     "text": [
      "Wall time: 1h 44min 14s\n"
     ]
    }
   ],
   "source": [
    "%%time\n",
    "\n",
    "walk_node_gdf = node_gdf[(node_gdf.walk_access == 1) & (node_gdf.rail_only != 1)]\n",
    "\n",
    "maz_walk_cc_gdf, maz_walk_centroid_gdf = generate_centroid_connectors('walk',\n",
    "                                                                      maz_drop_long_connectors_gdf,\n",
    "                                                                      walk_node_gdf, \n",
    "                                                                      maz_node_gdf)"
   ]
  },
  {
   "cell_type": "code",
   "execution_count": 57,
   "metadata": {},
   "outputs": [
    {
     "name": "stdout",
     "output_type": "stream",
     "text": [
      "198630 maz walk connectors kept, from 39726 maz centroids\n"
     ]
    }
   ],
   "source": [
    "print('{} maz walk connectors kept, from {} maz centroids'.format(maz_walk_cc_gdf.shape[0],\n",
    "                                                                  maz_walk_cc_gdf.B.nunique()))"
   ]
  },
  {
   "cell_type": "code",
   "execution_count": 58,
   "metadata": {},
   "outputs": [],
   "source": [
    "# print('save MAZ walk connectors')\n",
    "maz_walk_cc_gdf.to_pickle(\"../../data/interim/step7_centroid_connector/maz_walk_cc.pickle\")\n",
    "\n",
    "# print('save {} MAZ walk centroids'.format(maz_walk_cc_gdf.shape[0]))\n",
    "maz_walk_centroid_gdf.to_pickle(\"../../data/interim/step7_centroid_connector/maz_walk_centroid.pickle\")\n",
    "\n",
    "# print('save MAZ walk centroid connector shapes')\n",
    "maz_walk_cc_gdf[[\"geometry\"]].to_file(\"../../data/interim/step7_centroid_connector/maz_walk.geojson\",\n",
    "                                      driver = \"GeoJSON\")"
   ]
  },
  {
   "cell_type": "markdown",
   "metadata": {},
   "source": [
    "### create MAZ bike centroid connectors"
   ]
  },
  {
   "cell_type": "code",
   "execution_count": 59,
   "metadata": {},
   "outputs": [
    {
     "name": "stderr",
     "output_type": "stream",
     "text": [
      "C:\\ProgramData\\Anaconda3\\lib\\site-packages\\pyproj\\crs\\crs.py:53: FutureWarning: '+init=<authority>:<code>' syntax is deprecated. '<authority>:<code>' is the preferred initialization method. When making the change, be mindful of axis order changes: https://pyproj4.github.io/pyproj/stable/gotchas.html#axis-order-changes-in-proj-6\n",
      "  return _prepare_from_string(\" \".join(pjargs))\n"
     ]
    },
    {
     "name": "stdout",
     "output_type": "stream",
     "text": [
      "Wall time: 1h 36min 47s\n"
     ]
    }
   ],
   "source": [
    "%%time\n",
    "\n",
    "bike_node_gdf = node_gdf[(node_gdf.bike_access == 1)]\n",
    "\n",
    "maz_bike_cc_gdf, maz_bike_centroid_gdf = generate_centroid_connectors('bike',\n",
    "                                                                        maz_drop_long_connectors_gdf,\n",
    "                                                                        bike_node_gdf, \n",
    "                                                                        maz_node_gdf)"
   ]
  },
  {
   "cell_type": "code",
   "execution_count": 60,
   "metadata": {},
   "outputs": [
    {
     "name": "stdout",
     "output_type": "stream",
     "text": [
      "198630 maz bike connectors kept, from 39726 maz centroids\n"
     ]
    }
   ],
   "source": [
    "print('{} maz bike connectors kept, from {} maz centroids'.format(maz_bike_cc_gdf.shape[0],\n",
    "                                                                  maz_bike_cc_gdf.B.nunique()))"
   ]
  },
  {
   "cell_type": "code",
   "execution_count": 61,
   "metadata": {},
   "outputs": [],
   "source": [
    "# print('save MAZ bike connectors')\n",
    "maz_bike_cc_gdf.to_pickle(\"../../data/interim/step7_centroid_connector/maz_bike_cc.pickle\")\n",
    "\n",
    "# print('save {} MAZ bike centroids'.format(maz_walk_cc_gdf.shape[0]))\n",
    "maz_bike_centroid_gdf.to_pickle(\"../../data/interim/step7_centroid_connector/maz_bike_centroid.pickle\")\n",
    "\n",
    "# print('save MAZ bike centroid connector shapes')\n",
    "maz_bike_cc_gdf[[\"geometry\"]].to_file(\"../../data/interim/step7_centroid_connector/maz_bike.geojson\",\n",
    "                                      driver = \"GeoJSON\")"
   ]
  },
  {
   "cell_type": "code",
   "execution_count": 62,
   "metadata": {},
   "outputs": [
    {
     "name": "stdout",
     "output_type": "stream",
     "text": [
      "(39726, 2)\n",
      "<class 'geopandas.geodataframe.GeoDataFrame'>\n",
      "Int64Index: 198630 entries, 0 to 198629\n",
      "Data columns (total 10 columns):\n",
      " #   Column              Non-Null Count   Dtype   \n",
      "---  ------              --------------   -----   \n",
      " 0   u                   198630 non-null  float64 \n",
      " 1   shst_node_id        198630 non-null  object  \n",
      " 2   A                   198630 non-null  int64   \n",
      " 3   geometry_ld         198630 non-null  geometry\n",
      " 4   B                   198630 non-null  int64   \n",
      " 5   geometry_c          198630 non-null  object  \n",
      " 6   geometry            198630 non-null  geometry\n",
      " 7   fromIntersectionId  198630 non-null  object  \n",
      " 8   shstGeometryId      198630 non-null  object  \n",
      " 9   id                  198630 non-null  object  \n",
      "dtypes: float64(1), geometry(2), int64(2), object(5)\n",
      "memory usage: 16.7+ MB\n"
     ]
    }
   ],
   "source": [
    "print(maz_walk_centroid_gdf.shape)\n",
    "maz_walk_cc_gdf.info()"
   ]
  },
  {
   "cell_type": "code",
   "execution_count": 63,
   "metadata": {},
   "outputs": [
    {
     "name": "stdout",
     "output_type": "stream",
     "text": [
      "(39726, 2)\n",
      "<class 'geopandas.geodataframe.GeoDataFrame'>\n",
      "Int64Index: 198630 entries, 0 to 198629\n",
      "Data columns (total 10 columns):\n",
      " #   Column              Non-Null Count   Dtype   \n",
      "---  ------              --------------   -----   \n",
      " 0   u                   198630 non-null  float64 \n",
      " 1   shst_node_id        198630 non-null  object  \n",
      " 2   A                   198630 non-null  int64   \n",
      " 3   geometry_ld         198630 non-null  geometry\n",
      " 4   B                   198630 non-null  int64   \n",
      " 5   geometry_c          198630 non-null  object  \n",
      " 6   geometry            198630 non-null  geometry\n",
      " 7   fromIntersectionId  198630 non-null  object  \n",
      " 8   shstGeometryId      198630 non-null  object  \n",
      " 9   id                  198630 non-null  object  \n",
      "dtypes: float64(1), geometry(2), int64(2), object(5)\n",
      "memory usage: 16.7+ MB\n"
     ]
    }
   ],
   "source": [
    "print(maz_bike_centroid_gdf.shape)\n",
    "maz_bike_cc_gdf.info()"
   ]
  },
  {
   "cell_type": "code",
   "execution_count": 64,
   "metadata": {},
   "outputs": [],
   "source": [
    "# leave previously disconnected 5 MAZs disconnected\n",
    "\n",
    "maz_bike_cc_gdf = maz_bike_cc_gdf[~maz_bike_cc_gdf.B.isin([10186, 16084, 111432, 111433, 411178])]\n",
    "maz_walk_cc_gdf = maz_walk_cc_gdf[~maz_walk_cc_gdf.B.isin([10186, 16084, 111432, 111433, 411178])]"
   ]
  },
  {
   "cell_type": "code",
   "execution_count": 65,
   "metadata": {},
   "outputs": [
    {
     "data": {
      "text/html": [
       "<div>\n",
       "<style scoped>\n",
       "    .dataframe tbody tr th:only-of-type {\n",
       "        vertical-align: middle;\n",
       "    }\n",
       "\n",
       "    .dataframe tbody tr th {\n",
       "        vertical-align: top;\n",
       "    }\n",
       "\n",
       "    .dataframe thead th {\n",
       "        text-align: right;\n",
       "    }\n",
       "</style>\n",
       "<table border=\"1\" class=\"dataframe\">\n",
       "  <thead>\n",
       "    <tr style=\"text-align: right;\">\n",
       "      <th></th>\n",
       "      <th>u</th>\n",
       "      <th>shst_node_id</th>\n",
       "      <th>A</th>\n",
       "      <th>geometry_ld</th>\n",
       "      <th>B</th>\n",
       "      <th>geometry_c</th>\n",
       "      <th>geometry</th>\n",
       "      <th>fromIntersectionId</th>\n",
       "      <th>shstGeometryId</th>\n",
       "      <th>id</th>\n",
       "    </tr>\n",
       "  </thead>\n",
       "  <tbody>\n",
       "  </tbody>\n",
       "</table>\n",
       "</div>"
      ],
      "text/plain": [
       "Empty GeoDataFrame\n",
       "Columns: [u, shst_node_id, A, geometry_ld, B, geometry_c, geometry, fromIntersectionId, shstGeometryId, id]\n",
       "Index: []"
      ]
     },
     "execution_count": 65,
     "metadata": {},
     "output_type": "execute_result"
    }
   ],
   "source": [
    "keep_maz_drive_cc_gdf[keep_maz_drive_cc_gdf.A.isin([10186, 16084, 111432, 111433, 411178])]"
   ]
  },
  {
   "cell_type": "code",
   "execution_count": 66,
   "metadata": {},
   "outputs": [
    {
     "data": {
      "text/html": [
       "<div>\n",
       "<style scoped>\n",
       "    .dataframe tbody tr th:only-of-type {\n",
       "        vertical-align: middle;\n",
       "    }\n",
       "\n",
       "    .dataframe tbody tr th {\n",
       "        vertical-align: top;\n",
       "    }\n",
       "\n",
       "    .dataframe thead th {\n",
       "        text-align: right;\n",
       "    }\n",
       "</style>\n",
       "<table border=\"1\" class=\"dataframe\">\n",
       "  <thead>\n",
       "    <tr style=\"text-align: right;\">\n",
       "      <th></th>\n",
       "      <th>model_node_id</th>\n",
       "      <th>geometry</th>\n",
       "    </tr>\n",
       "  </thead>\n",
       "  <tbody>\n",
       "  </tbody>\n",
       "</table>\n",
       "</div>"
      ],
      "text/plain": [
       "Empty GeoDataFrame\n",
       "Columns: [model_node_id, geometry]\n",
       "Index: []"
      ]
     },
     "execution_count": 66,
     "metadata": {},
     "output_type": "execute_result"
    }
   ],
   "source": [
    "maz_drive_centroid_gdf[maz_drive_centroid_gdf.model_node_id.isin([10186, 16084, 111432, 111433, 411178])]"
   ]
  },
  {
   "cell_type": "markdown",
   "metadata": {},
   "source": [
    "### consolidate MAZ drive, walk, bike centroid connectors"
   ]
  },
  {
   "cell_type": "code",
   "execution_count": 67,
   "metadata": {},
   "outputs": [],
   "source": [
    "maz_walk_cc_gdf = pd.read_pickle(\"../../data/interim/step7_centroid_connector/maz_walk_cc.pickle\")\n",
    "maz_walk_centroid_gdf = pd.read_pickle(\"../../data/interim/step7_centroid_connector/maz_walk_centroid.pickle\")\n",
    "\n",
    "maz_bike_cc_gdf = pd.read_pickle(\"../../data/interim/step7_centroid_connector/maz_bike_cc.pickle\")"
   ]
  },
  {
   "cell_type": "code",
   "execution_count": 68,
   "metadata": {},
   "outputs": [],
   "source": [
    "maz_cc_link_df, maz_cc_shape_gdf = consolidate_cc(link_gdf,\n",
    "#                                              maz_drive_centroid_gdf,\n",
    "                                                  node_gdf,\n",
    "                                                  keep_maz_drive_cc_gdf, \n",
    "                                                  maz_walk_cc_gdf, \n",
    "                                                  maz_bike_cc_gdf, \n",
    "                                                 )"
   ]
  },
  {
   "cell_type": "code",
   "execution_count": 69,
   "metadata": {},
   "outputs": [
    {
     "name": "stdout",
     "output_type": "stream",
     "text": [
      "<class 'pandas.core.frame.DataFrame'>\n",
      "RangeIndex: 531584 entries, 0 to 531583\n",
      "Data columns (total 11 columns):\n",
      " #   Column              Non-Null Count   Dtype  \n",
      "---  ------              --------------   -----  \n",
      " 0   A                   531584 non-null  int64  \n",
      " 1   B                   531584 non-null  int64  \n",
      " 2   drive_access        175936 non-null  float64\n",
      " 3   walk_access         510418 non-null  float64\n",
      " 4   bike_access         507038 non-null  float64\n",
      " 5   shstGeometryId      531584 non-null  object \n",
      " 6   id                  531584 non-null  object \n",
      " 7   u                   265792 non-null  float64\n",
      " 8   v                   265792 non-null  float64\n",
      " 9   fromIntersectionId  265792 non-null  object \n",
      " 10  toIntersectionId    265792 non-null  object \n",
      "dtypes: float64(5), int64(2), object(4)\n",
      "memory usage: 44.6+ MB\n",
      "<class 'pandas.core.frame.DataFrame'>\n",
      "Int64Index: 265792 entries, 0 to 265791\n",
      "Data columns (total 4 columns):\n",
      " #   Column              Non-Null Count   Dtype   \n",
      "---  ------              --------------   -----   \n",
      " 0   id                  265792 non-null  object  \n",
      " 1   geometry            265792 non-null  geometry\n",
      " 2   fromIntersectionId  265792 non-null  object  \n",
      " 3   toIntersectionId    0 non-null       object  \n",
      "dtypes: geometry(1), object(3)\n",
      "memory usage: 10.1+ MB\n"
     ]
    }
   ],
   "source": [
    "maz_cc_link_df.info()\n",
    "maz_cc_shape_gdf.info()"
   ]
  },
  {
   "cell_type": "code",
   "execution_count": 70,
   "metadata": {},
   "outputs": [],
   "source": [
    "# add additional fields\n",
    "\n",
    "maz_cc_shape_gdf[\"id\"] = \"maz_\" + maz_cc_shape_gdf[\"id\"]\n",
    "maz_cc_shape_gdf[\"shstGeometryId\"] = maz_cc_shape_gdf[\"id\"]\n",
    "maz_cc_link_df[\"id\"] = \"maz_\" + maz_cc_link_df[\"id\"]\n",
    "maz_cc_link_df[\"shstGeometryId\"] = maz_cc_link_df[\"id\"]\n",
    "maz_cc_link_df[\"roadway\"] = \"maz\"\n",
    "\n",
    "taz_cc_shape_gdf[\"id\"] = \"taz_\" + taz_cc_shape_gdf[\"id\"]\n",
    "taz_cc_shape_gdf[\"shstGeometryId\"] = taz_cc_shape_gdf[\"id\"]\n",
    "taz_cc_link_df[\"id\"] = \"taz_\" + taz_cc_link_df[\"id\"]\n",
    "taz_cc_link_df[\"shstGeometryId\"] = taz_cc_link_df[\"id\"]\n",
    "taz_cc_link_df[\"roadway\"] = \"taz\""
   ]
  },
  {
   "cell_type": "code",
   "execution_count": 71,
   "metadata": {
    "scrolled": true
   },
   "outputs": [
    {
     "data": {
      "text/html": [
       "<div>\n",
       "<style scoped>\n",
       "    .dataframe tbody tr th:only-of-type {\n",
       "        vertical-align: middle;\n",
       "    }\n",
       "\n",
       "    .dataframe tbody tr th {\n",
       "        vertical-align: top;\n",
       "    }\n",
       "\n",
       "    .dataframe thead th {\n",
       "        text-align: right;\n",
       "    }\n",
       "</style>\n",
       "<table border=\"1\" class=\"dataframe\">\n",
       "  <thead>\n",
       "    <tr style=\"text-align: right;\">\n",
       "      <th></th>\n",
       "      <th>id</th>\n",
       "      <th>geometry</th>\n",
       "      <th>fromIntersectionId</th>\n",
       "      <th>toIntersectionId</th>\n",
       "      <th>shstGeometryId</th>\n",
       "    </tr>\n",
       "  </thead>\n",
       "  <tbody>\n",
       "    <tr>\n",
       "      <th>0</th>\n",
       "      <td>taz_cc661</td>\n",
       "      <td>LINESTRING (-122.48890 37.77798, -122.48574 37...</td>\n",
       "      <td>55d370526a55a5d348e23751aad86ac0</td>\n",
       "      <td>NaN</td>\n",
       "      <td>taz_cc661</td>\n",
       "    </tr>\n",
       "    <tr>\n",
       "      <th>1</th>\n",
       "      <td>taz_cc830</td>\n",
       "      <td>LINESTRING (-122.48890 37.77798, -122.48560 37...</td>\n",
       "      <td>55d370526a55a5d348e23751aad86ac0</td>\n",
       "      <td>NaN</td>\n",
       "      <td>taz_cc830</td>\n",
       "    </tr>\n",
       "    <tr>\n",
       "      <th>2</th>\n",
       "      <td>taz_cc1710</td>\n",
       "      <td>LINESTRING (-122.48890 37.77798, -122.49096 37...</td>\n",
       "      <td>55d370526a55a5d348e23751aad86ac0</td>\n",
       "      <td>NaN</td>\n",
       "      <td>taz_cc1710</td>\n",
       "    </tr>\n",
       "    <tr>\n",
       "      <th>3</th>\n",
       "      <td>taz_cc323</td>\n",
       "      <td>LINESTRING (-122.40358 37.73441, -122.40141 37...</td>\n",
       "      <td>5c7c469988248e3572b82b39c894dfd6</td>\n",
       "      <td>NaN</td>\n",
       "      <td>taz_cc323</td>\n",
       "    </tr>\n",
       "    <tr>\n",
       "      <th>4</th>\n",
       "      <td>taz_cc494</td>\n",
       "      <td>LINESTRING (-122.42312 37.73736, -122.42210 37...</td>\n",
       "      <td>7eaf8516bbeb338c7fc1a89ec32accd2</td>\n",
       "      <td>NaN</td>\n",
       "      <td>taz_cc494</td>\n",
       "    </tr>\n",
       "    <tr>\n",
       "      <th>...</th>\n",
       "      <td>...</td>\n",
       "      <td>...</td>\n",
       "      <td>...</td>\n",
       "      <td>...</td>\n",
       "      <td>...</td>\n",
       "    </tr>\n",
       "    <tr>\n",
       "      <th>16475</th>\n",
       "      <td>taz_cc15624</td>\n",
       "      <td>LINESTRING (-122.51882 37.96222, -122.51903 37...</td>\n",
       "      <td>ff2becc676a9c4cedab5f099f10a4eee</td>\n",
       "      <td>NaN</td>\n",
       "      <td>taz_cc15624</td>\n",
       "    </tr>\n",
       "    <tr>\n",
       "      <th>16476</th>\n",
       "      <td>taz_cc15572</td>\n",
       "      <td>LINESTRING (-122.53791 38.00294, -122.53528 38...</td>\n",
       "      <td>14965915f21991aa34f40aabcff54712</td>\n",
       "      <td>NaN</td>\n",
       "      <td>taz_cc15572</td>\n",
       "    </tr>\n",
       "    <tr>\n",
       "      <th>16477</th>\n",
       "      <td>taz_cc15641</td>\n",
       "      <td>LINESTRING (-122.61559 38.10042, -122.61509 38...</td>\n",
       "      <td>bdc4168ac410b3d1c594d35e28b8750b</td>\n",
       "      <td>NaN</td>\n",
       "      <td>taz_cc15641</td>\n",
       "    </tr>\n",
       "    <tr>\n",
       "      <th>16478</th>\n",
       "      <td>taz_cc15594</td>\n",
       "      <td>LINESTRING (-122.55709 37.98342, -122.54763 37...</td>\n",
       "      <td>b689e4c0b34ac9137082d027c9fe452a</td>\n",
       "      <td>NaN</td>\n",
       "      <td>taz_cc15594</td>\n",
       "    </tr>\n",
       "    <tr>\n",
       "      <th>16479</th>\n",
       "      <td>taz_cc15914</td>\n",
       "      <td>LINESTRING (-122.55709 37.98342, -122.55384 37...</td>\n",
       "      <td>b689e4c0b34ac9137082d027c9fe452a</td>\n",
       "      <td>NaN</td>\n",
       "      <td>taz_cc15914</td>\n",
       "    </tr>\n",
       "  </tbody>\n",
       "</table>\n",
       "<p>16480 rows × 5 columns</p>\n",
       "</div>"
      ],
      "text/plain": [
       "                id                                           geometry  \\\n",
       "0        taz_cc661  LINESTRING (-122.48890 37.77798, -122.48574 37...   \n",
       "1        taz_cc830  LINESTRING (-122.48890 37.77798, -122.48560 37...   \n",
       "2       taz_cc1710  LINESTRING (-122.48890 37.77798, -122.49096 37...   \n",
       "3        taz_cc323  LINESTRING (-122.40358 37.73441, -122.40141 37...   \n",
       "4        taz_cc494  LINESTRING (-122.42312 37.73736, -122.42210 37...   \n",
       "...            ...                                                ...   \n",
       "16475  taz_cc15624  LINESTRING (-122.51882 37.96222, -122.51903 37...   \n",
       "16476  taz_cc15572  LINESTRING (-122.53791 38.00294, -122.53528 38...   \n",
       "16477  taz_cc15641  LINESTRING (-122.61559 38.10042, -122.61509 38...   \n",
       "16478  taz_cc15594  LINESTRING (-122.55709 37.98342, -122.54763 37...   \n",
       "16479  taz_cc15914  LINESTRING (-122.55709 37.98342, -122.55384 37...   \n",
       "\n",
       "                     fromIntersectionId toIntersectionId shstGeometryId  \n",
       "0      55d370526a55a5d348e23751aad86ac0              NaN      taz_cc661  \n",
       "1      55d370526a55a5d348e23751aad86ac0              NaN      taz_cc830  \n",
       "2      55d370526a55a5d348e23751aad86ac0              NaN     taz_cc1710  \n",
       "3      5c7c469988248e3572b82b39c894dfd6              NaN      taz_cc323  \n",
       "4      7eaf8516bbeb338c7fc1a89ec32accd2              NaN      taz_cc494  \n",
       "...                                 ...              ...            ...  \n",
       "16475  ff2becc676a9c4cedab5f099f10a4eee              NaN    taz_cc15624  \n",
       "16476  14965915f21991aa34f40aabcff54712              NaN    taz_cc15572  \n",
       "16477  bdc4168ac410b3d1c594d35e28b8750b              NaN    taz_cc15641  \n",
       "16478  b689e4c0b34ac9137082d027c9fe452a              NaN    taz_cc15594  \n",
       "16479  b689e4c0b34ac9137082d027c9fe452a              NaN    taz_cc15914  \n",
       "\n",
       "[16480 rows x 5 columns]"
      ]
     },
     "execution_count": 71,
     "metadata": {},
     "output_type": "execute_result"
    }
   ],
   "source": [
    "taz_cc_shape_gdf"
   ]
  },
  {
   "cell_type": "code",
   "execution_count": 72,
   "metadata": {
    "scrolled": true
   },
   "outputs": [
    {
     "data": {
      "text/html": [
       "<div>\n",
       "<style scoped>\n",
       "    .dataframe tbody tr th:only-of-type {\n",
       "        vertical-align: middle;\n",
       "    }\n",
       "\n",
       "    .dataframe tbody tr th {\n",
       "        vertical-align: top;\n",
       "    }\n",
       "\n",
       "    .dataframe thead th {\n",
       "        text-align: right;\n",
       "    }\n",
       "</style>\n",
       "<table border=\"1\" class=\"dataframe\">\n",
       "  <thead>\n",
       "    <tr style=\"text-align: right;\">\n",
       "      <th></th>\n",
       "      <th>id</th>\n",
       "      <th>geometry</th>\n",
       "      <th>fromIntersectionId</th>\n",
       "      <th>toIntersectionId</th>\n",
       "      <th>shstGeometryId</th>\n",
       "    </tr>\n",
       "  </thead>\n",
       "  <tbody>\n",
       "    <tr>\n",
       "      <th>0</th>\n",
       "      <td>maz_cc1700</td>\n",
       "      <td>LINESTRING (-122.48890 37.77798, -122.48934 37...</td>\n",
       "      <td>55d370526a55a5d348e23751aad86ac0</td>\n",
       "      <td>NaN</td>\n",
       "      <td>maz_cc1700</td>\n",
       "    </tr>\n",
       "    <tr>\n",
       "      <th>1</th>\n",
       "      <td>maz_cc93330</td>\n",
       "      <td>LINESTRING (-122.48890 37.77798, -122.48841 37...</td>\n",
       "      <td>55d370526a55a5d348e23751aad86ac0</td>\n",
       "      <td>NaN</td>\n",
       "      <td>maz_cc93330</td>\n",
       "    </tr>\n",
       "    <tr>\n",
       "      <th>2</th>\n",
       "      <td>maz_cc4885</td>\n",
       "      <td>LINESTRING (-122.48890 37.77798, -122.48827 37...</td>\n",
       "      <td>55d370526a55a5d348e23751aad86ac0</td>\n",
       "      <td>NaN</td>\n",
       "      <td>maz_cc4885</td>\n",
       "    </tr>\n",
       "    <tr>\n",
       "      <th>3</th>\n",
       "      <td>maz_cc1147</td>\n",
       "      <td>LINESTRING (-122.40358 37.73441, -122.40322 37...</td>\n",
       "      <td>5c7c469988248e3572b82b39c894dfd6</td>\n",
       "      <td>NaN</td>\n",
       "      <td>maz_cc1147</td>\n",
       "    </tr>\n",
       "    <tr>\n",
       "      <th>4</th>\n",
       "      <td>maz_cc94197</td>\n",
       "      <td>LINESTRING (-122.40358 37.73441, -122.40411 37...</td>\n",
       "      <td>5c7c469988248e3572b82b39c894dfd6</td>\n",
       "      <td>NaN</td>\n",
       "      <td>maz_cc94197</td>\n",
       "    </tr>\n",
       "    <tr>\n",
       "      <th>...</th>\n",
       "      <td>...</td>\n",
       "      <td>...</td>\n",
       "      <td>...</td>\n",
       "      <td>...</td>\n",
       "      <td>...</td>\n",
       "    </tr>\n",
       "    <tr>\n",
       "      <th>265787</th>\n",
       "      <td>maz_cc254752</td>\n",
       "      <td>LINESTRING (-122.53399 37.97255, -122.53402 37...</td>\n",
       "      <td>76a5f9c2d6475f92407e74851390afcd</td>\n",
       "      <td>NaN</td>\n",
       "      <td>maz_cc254752</td>\n",
       "    </tr>\n",
       "    <tr>\n",
       "      <th>265788</th>\n",
       "      <td>maz_cc252175</td>\n",
       "      <td>LINESTRING (-122.50579 38.01442, -122.50792 38...</td>\n",
       "      <td>fe0248568538ee4788947378fe2103ee</td>\n",
       "      <td>NaN</td>\n",
       "      <td>maz_cc252175</td>\n",
       "    </tr>\n",
       "    <tr>\n",
       "      <th>265789</th>\n",
       "      <td>maz_cc251317</td>\n",
       "      <td>LINESTRING (-122.52150 37.94815, -122.52165 37...</td>\n",
       "      <td>a53800167102307969b5b6b68cfcf79a</td>\n",
       "      <td>NaN</td>\n",
       "      <td>maz_cc251317</td>\n",
       "    </tr>\n",
       "    <tr>\n",
       "      <th>265790</th>\n",
       "      <td>maz_cc251603</td>\n",
       "      <td>LINESTRING (-122.52150 37.94815, -122.52209 37...</td>\n",
       "      <td>a53800167102307969b5b6b68cfcf79a</td>\n",
       "      <td>NaN</td>\n",
       "      <td>maz_cc251603</td>\n",
       "    </tr>\n",
       "    <tr>\n",
       "      <th>265791</th>\n",
       "      <td>maz_cc252522</td>\n",
       "      <td>LINESTRING (-122.50576 37.94873, -122.50580 37...</td>\n",
       "      <td>44c53879b5a9797cbb2eff72b5f64699</td>\n",
       "      <td>NaN</td>\n",
       "      <td>maz_cc252522</td>\n",
       "    </tr>\n",
       "  </tbody>\n",
       "</table>\n",
       "<p>265792 rows × 5 columns</p>\n",
       "</div>"
      ],
      "text/plain": [
       "                  id                                           geometry  \\\n",
       "0         maz_cc1700  LINESTRING (-122.48890 37.77798, -122.48934 37...   \n",
       "1        maz_cc93330  LINESTRING (-122.48890 37.77798, -122.48841 37...   \n",
       "2         maz_cc4885  LINESTRING (-122.48890 37.77798, -122.48827 37...   \n",
       "3         maz_cc1147  LINESTRING (-122.40358 37.73441, -122.40322 37...   \n",
       "4        maz_cc94197  LINESTRING (-122.40358 37.73441, -122.40411 37...   \n",
       "...              ...                                                ...   \n",
       "265787  maz_cc254752  LINESTRING (-122.53399 37.97255, -122.53402 37...   \n",
       "265788  maz_cc252175  LINESTRING (-122.50579 38.01442, -122.50792 38...   \n",
       "265789  maz_cc251317  LINESTRING (-122.52150 37.94815, -122.52165 37...   \n",
       "265790  maz_cc251603  LINESTRING (-122.52150 37.94815, -122.52209 37...   \n",
       "265791  maz_cc252522  LINESTRING (-122.50576 37.94873, -122.50580 37...   \n",
       "\n",
       "                      fromIntersectionId toIntersectionId shstGeometryId  \n",
       "0       55d370526a55a5d348e23751aad86ac0              NaN     maz_cc1700  \n",
       "1       55d370526a55a5d348e23751aad86ac0              NaN    maz_cc93330  \n",
       "2       55d370526a55a5d348e23751aad86ac0              NaN     maz_cc4885  \n",
       "3       5c7c469988248e3572b82b39c894dfd6              NaN     maz_cc1147  \n",
       "4       5c7c469988248e3572b82b39c894dfd6              NaN    maz_cc94197  \n",
       "...                                  ...              ...            ...  \n",
       "265787  76a5f9c2d6475f92407e74851390afcd              NaN   maz_cc254752  \n",
       "265788  fe0248568538ee4788947378fe2103ee              NaN   maz_cc252175  \n",
       "265789  a53800167102307969b5b6b68cfcf79a              NaN   maz_cc251317  \n",
       "265790  a53800167102307969b5b6b68cfcf79a              NaN   maz_cc251603  \n",
       "265791  44c53879b5a9797cbb2eff72b5f64699              NaN   maz_cc252522  \n",
       "\n",
       "[265792 rows x 5 columns]"
      ]
     },
     "execution_count": 72,
     "metadata": {},
     "output_type": "execute_result"
    }
   ],
   "source": [
    "maz_cc_shape_gdf"
   ]
  },
  {
   "cell_type": "markdown",
   "metadata": {},
   "source": [
    "# consolidate centroid connectors and add attributes"
   ]
  },
  {
   "cell_type": "markdown",
   "metadata": {},
   "source": [
    "### consolidate and renumber"
   ]
  },
  {
   "cell_type": "code",
   "execution_count": 73,
   "metadata": {},
   "outputs": [],
   "source": [
    "# merge TAZ cc shape and MAZ cc shape\n",
    "all_cc_shape_gdf = pd.concat(\n",
    "    [taz_cc_shape_gdf, maz_cc_shape_gdf],\n",
    "    sort = False,\n",
    "    ignore_index = True\n",
    ")"
   ]
  },
  {
   "cell_type": "code",
   "execution_count": 74,
   "metadata": {},
   "outputs": [
    {
     "name": "stdout",
     "output_type": "stream",
     "text": [
      "TAZ/MAZ centroid connections total 282272 shapes\n"
     ]
    }
   ],
   "source": [
    "# add 'county'\n",
    "all_cc_shape_gdf = pd.merge(\n",
    "    all_cc_shape_gdf,\n",
    "    node_gdf[[\"shst_node_id\", \"county\"]].rename(columns = {\"shst_node_id\" : \"fromIntersectionId\"}),\n",
    "    how = \"left\",\n",
    "    on = \"fromIntersectionId\"\n",
    ")\n",
    "print('TAZ/MAZ centroid connections total {} shapes'.format(all_cc_shape_gdf.id.nunique()))"
   ]
  },
  {
   "cell_type": "code",
   "execution_count": 75,
   "metadata": {},
   "outputs": [
    {
     "name": "stdout",
     "output_type": "stream",
     "text": [
      "<class 'geopandas.geodataframe.GeoDataFrame'>\n",
      "Int64Index: 282272 entries, 0 to 282271\n",
      "Data columns (total 6 columns):\n",
      " #   Column              Non-Null Count   Dtype   \n",
      "---  ------              --------------   -----   \n",
      " 0   id                  282272 non-null  object  \n",
      " 1   geometry            282272 non-null  geometry\n",
      " 2   fromIntersectionId  282272 non-null  object  \n",
      " 3   toIntersectionId    0 non-null       object  \n",
      " 4   shstGeometryId      282272 non-null  object  \n",
      " 5   county              282272 non-null  object  \n",
      "dtypes: geometry(1), object(5)\n",
      "memory usage: 15.1+ MB\n"
     ]
    }
   ],
   "source": [
    "all_cc_shape_gdf.info()"
   ]
  },
  {
   "cell_type": "code",
   "execution_count": null,
   "metadata": {},
   "outputs": [],
   "source": [
    "# maz_bike_cc_gdf = maz_bike_cc_gdf[~maz_bike_cc_gdf.B.isin([10186, 16084, 111432, 111433, 411178])]\n",
    "# maz_walk_cc_gdf = maz_walk_cc_gdf[~maz_walk_cc_gdf.B.isin([10186, 16084, 111432, 111433, 411178])]"
   ]
  },
  {
   "cell_type": "code",
   "execution_count": 76,
   "metadata": {},
   "outputs": [
    {
     "data": {
      "text/plain": [
       "Santa Clara      67529\n",
       "Alameda          59584\n",
       "Contra Costa     42274\n",
       "San Mateo        29748\n",
       "San Francisco    26606\n",
       "Sonoma           20509\n",
       "Solano           19449\n",
       "Marin            10111\n",
       "Napa              6462\n",
       "Name: county, dtype: int64"
      ]
     },
     "execution_count": 76,
     "metadata": {},
     "output_type": "execute_result"
    }
   ],
   "source": [
    "all_cc_shape_gdf.county.value_counts()"
   ]
  },
  {
   "cell_type": "code",
   "execution_count": 77,
   "metadata": {},
   "outputs": [
    {
     "name": "stderr",
     "output_type": "stream",
     "text": [
      "<ipython-input-77-793cc7bf60d9>:2: FutureWarning: CRS mismatch between CRS of the passed geometries and 'crs'. Use 'GeoDataFrame.set_crs(crs, allow_override=True)' to overwrite CRS or 'GeoDataFrame.to_crs(crs)' to reproject geometries. CRS mismatch will raise an error in the future versions of GeoPandas.\n",
      "  all_cc_shape_gdf = gpd.GeoDataFrame(all_cc_shape_gdf, geometry = all_cc_shape_gdf.geometry, crs = shape_gdf.crs)\n"
     ]
    }
   ],
   "source": [
    "# convert to geodataframe\n",
    "all_cc_shape_gdf = gpd.GeoDataFrame(all_cc_shape_gdf, geometry = all_cc_shape_gdf.geometry, crs = shape_gdf.crs)"
   ]
  },
  {
   "cell_type": "code",
   "execution_count": 78,
   "metadata": {},
   "outputs": [],
   "source": [
    "# merge TAZ cc shape and MAZ cc shape, add additional fields\n",
    "\n",
    "all_cc_link_df = pd.concat(\n",
    "    [taz_cc_link_df, maz_cc_link_df],\n",
    "    sort = False,\n",
    "    ignore_index = True\n",
    ")\n",
    "\n",
    "all_cc_link_df = pd.merge(\n",
    "    all_cc_link_df,\n",
    "    all_cc_shape_gdf[[\"id\", \"county\"]],\n",
    "    how = \"left\",\n",
    "    on = [\"id\"]\n",
    ")\n",
    "\n",
    "all_cc_link_df[\"drive_access\"].fillna(0, inplace = True)\n",
    "all_cc_link_df[\"bike_access\"].fillna(0, inplace = True)\n",
    "all_cc_link_df[\"walk_access\"].fillna(0, inplace = True)\n",
    "\n",
    "all_cc_link_df[\"drive_access\"] = all_cc_link_df[\"drive_access\"].astype(int)\n",
    "all_cc_link_df[\"bike_access\"] = all_cc_link_df[\"bike_access\"].astype(int)\n",
    "all_cc_link_df[\"walk_access\"] = all_cc_link_df[\"walk_access\"].astype(int)\n",
    "\n",
    "all_cc_link_df[\"rail_only\"] = 0"
   ]
  },
  {
   "cell_type": "code",
   "execution_count": 79,
   "metadata": {},
   "outputs": [],
   "source": [
    "# get the last node and link number of counties\n",
    "\n",
    "county_last_link_id_df = link_df.groupby(\"county\")[\"model_link_id\"].max().reset_index().rename(\n",
    "    columns = {\"model_link_id\" : \"county_last_id\"})\n",
    "\n",
    "all_cc_link_df = pd.merge(\n",
    "    all_cc_link_df,\n",
    "    county_last_link_id_df,\n",
    "    how = \"left\",\n",
    "    on = \"county\"\n",
    ")\n",
    "\n",
    "all_cc_link_df[\"model_link_id\"] = all_cc_link_df.groupby([\"county\"]).cumcount() + 1\n",
    "\n",
    "all_cc_link_df[\"model_link_id\"] = all_cc_link_df[\"model_link_id\"] + all_cc_link_df[\"county_last_id\"]"
   ]
  },
  {
   "cell_type": "code",
   "execution_count": 80,
   "metadata": {},
   "outputs": [
    {
     "name": "stdout",
     "output_type": "stream",
     "text": [
      "centroid connectors has 564544 unique model_link_id, 282272 unique id\n"
     ]
    }
   ],
   "source": [
    "print('centroid connectors has {} unique model_link_id, {} unique id'.format(\n",
    "    all_cc_link_df.model_link_id.nunique(),\n",
    "    all_cc_link_df.id.nunique()))"
   ]
  },
  {
   "cell_type": "code",
   "execution_count": 81,
   "metadata": {},
   "outputs": [
    {
     "name": "stdout",
     "output_type": "stream",
     "text": [
      "total 44482 centroids\n"
     ]
    }
   ],
   "source": [
    "# merge TAZ drive centroids and MAZ walk centroids\n",
    "all_centroid_node_gdf = pd.concat(\n",
    "    [taz_drive_centroid_gdf, maz_walk_centroid_gdf],\n",
    "    sort = False,\n",
    "    ignore_index = True\n",
    ")\n",
    "\n",
    "all_centroid_node_gdf[\"drive_access\"] = 1\n",
    "all_centroid_node_gdf['walk_access'] = 1\n",
    "all_centroid_node_gdf['bike_access'] = 1\n",
    "all_centroid_node_gdf['rail_only'] = 0\n",
    "\n",
    "print('total {} centroids'.format(all_centroid_node_gdf.model_node_id.nunique()))"
   ]
  },
  {
   "cell_type": "code",
   "execution_count": 82,
   "metadata": {
    "scrolled": true
   },
   "outputs": [
    {
     "data": {
      "text/html": [
       "<div>\n",
       "<style scoped>\n",
       "    .dataframe tbody tr th:only-of-type {\n",
       "        vertical-align: middle;\n",
       "    }\n",
       "\n",
       "    .dataframe tbody tr th {\n",
       "        vertical-align: top;\n",
       "    }\n",
       "\n",
       "    .dataframe thead th {\n",
       "        text-align: right;\n",
       "    }\n",
       "</style>\n",
       "<table border=\"1\" class=\"dataframe\">\n",
       "  <thead>\n",
       "    <tr style=\"text-align: right;\">\n",
       "      <th></th>\n",
       "      <th>model_node_id</th>\n",
       "      <th>geometry</th>\n",
       "      <th>drive_access</th>\n",
       "      <th>walk_access</th>\n",
       "      <th>bike_access</th>\n",
       "      <th>rail_only</th>\n",
       "    </tr>\n",
       "  </thead>\n",
       "  <tbody>\n",
       "    <tr>\n",
       "      <th>0</th>\n",
       "      <td>1</td>\n",
       "      <td>POINT (-122.42356 37.77046)</td>\n",
       "      <td>1</td>\n",
       "      <td>1</td>\n",
       "      <td>1</td>\n",
       "      <td>0</td>\n",
       "    </tr>\n",
       "    <tr>\n",
       "      <th>1</th>\n",
       "      <td>2</td>\n",
       "      <td>POINT (-122.41851 37.76431)</td>\n",
       "      <td>1</td>\n",
       "      <td>1</td>\n",
       "      <td>1</td>\n",
       "      <td>0</td>\n",
       "    </tr>\n",
       "    <tr>\n",
       "      <th>2</th>\n",
       "      <td>3</td>\n",
       "      <td>POINT (-122.42438 37.76777)</td>\n",
       "      <td>1</td>\n",
       "      <td>1</td>\n",
       "      <td>1</td>\n",
       "      <td>0</td>\n",
       "    </tr>\n",
       "    <tr>\n",
       "      <th>3</th>\n",
       "      <td>4</td>\n",
       "      <td>POINT (-122.37238 37.82546)</td>\n",
       "      <td>1</td>\n",
       "      <td>1</td>\n",
       "      <td>1</td>\n",
       "      <td>0</td>\n",
       "    </tr>\n",
       "    <tr>\n",
       "      <th>4</th>\n",
       "      <td>5</td>\n",
       "      <td>POINT (-122.42760 37.76654)</td>\n",
       "      <td>1</td>\n",
       "      <td>1</td>\n",
       "      <td>1</td>\n",
       "      <td>0</td>\n",
       "    </tr>\n",
       "    <tr>\n",
       "      <th>...</th>\n",
       "      <td>...</td>\n",
       "      <td>...</td>\n",
       "      <td>...</td>\n",
       "      <td>...</td>\n",
       "      <td>...</td>\n",
       "      <td>...</td>\n",
       "    </tr>\n",
       "    <tr>\n",
       "      <th>44477</th>\n",
       "      <td>814481</td>\n",
       "      <td>POINT (-122.54322 38.06314)</td>\n",
       "      <td>1</td>\n",
       "      <td>1</td>\n",
       "      <td>1</td>\n",
       "      <td>0</td>\n",
       "    </tr>\n",
       "    <tr>\n",
       "      <th>44478</th>\n",
       "      <td>814495</td>\n",
       "      <td>POINT (-122.55315 38.07583)</td>\n",
       "      <td>1</td>\n",
       "      <td>1</td>\n",
       "      <td>1</td>\n",
       "      <td>0</td>\n",
       "    </tr>\n",
       "    <tr>\n",
       "      <th>44479</th>\n",
       "      <td>814497</td>\n",
       "      <td>POINT (-122.60985 38.10304)</td>\n",
       "      <td>1</td>\n",
       "      <td>1</td>\n",
       "      <td>1</td>\n",
       "      <td>0</td>\n",
       "    </tr>\n",
       "    <tr>\n",
       "      <th>44480</th>\n",
       "      <td>814500</td>\n",
       "      <td>POINT (-122.50930 37.89107)</td>\n",
       "      <td>1</td>\n",
       "      <td>1</td>\n",
       "      <td>1</td>\n",
       "      <td>0</td>\n",
       "    </tr>\n",
       "    <tr>\n",
       "      <th>44481</th>\n",
       "      <td>814506</td>\n",
       "      <td>POINT (-122.54945 37.91181)</td>\n",
       "      <td>1</td>\n",
       "      <td>1</td>\n",
       "      <td>1</td>\n",
       "      <td>0</td>\n",
       "    </tr>\n",
       "  </tbody>\n",
       "</table>\n",
       "<p>44482 rows × 6 columns</p>\n",
       "</div>"
      ],
      "text/plain": [
       "       model_node_id                     geometry  drive_access  walk_access  \\\n",
       "0                  1  POINT (-122.42356 37.77046)             1            1   \n",
       "1                  2  POINT (-122.41851 37.76431)             1            1   \n",
       "2                  3  POINT (-122.42438 37.76777)             1            1   \n",
       "3                  4  POINT (-122.37238 37.82546)             1            1   \n",
       "4                  5  POINT (-122.42760 37.76654)             1            1   \n",
       "...              ...                          ...           ...          ...   \n",
       "44477         814481  POINT (-122.54322 38.06314)             1            1   \n",
       "44478         814495  POINT (-122.55315 38.07583)             1            1   \n",
       "44479         814497  POINT (-122.60985 38.10304)             1            1   \n",
       "44480         814500  POINT (-122.50930 37.89107)             1            1   \n",
       "44481         814506  POINT (-122.54945 37.91181)             1            1   \n",
       "\n",
       "       bike_access  rail_only  \n",
       "0                1          0  \n",
       "1                1          0  \n",
       "2                1          0  \n",
       "3                1          0  \n",
       "4                1          0  \n",
       "...            ...        ...  \n",
       "44477            1          0  \n",
       "44478            1          0  \n",
       "44479            1          0  \n",
       "44480            1          0  \n",
       "44481            1          0  \n",
       "\n",
       "[44482 rows x 6 columns]"
      ]
     },
     "execution_count": 82,
     "metadata": {},
     "output_type": "execute_result"
    }
   ],
   "source": [
    "all_centroid_node_gdf"
   ]
  },
  {
   "cell_type": "code",
   "execution_count": 83,
   "metadata": {},
   "outputs": [],
   "source": [
    "#concat centroid and centroid connectors to network\n",
    "\n",
    "all_link_df = pd.concat([link_df,\n",
    "                        all_cc_link_df.drop(['county_last_id'], axis = 1)],\n",
    "                       sort = False,\n",
    "                       ignore_index = True)\n",
    "\n",
    "all_shape_gdf = pd.concat([shape_gdf,\n",
    "                          all_cc_shape_gdf],\n",
    "                         sort = False,\n",
    "                         ignore_index = True)\n",
    "\n",
    "node_gdf = node_gdf.to_crs(epsg = 4326)\n",
    "\n",
    "all_node_gdf = pd.concat([node_gdf,\n",
    "                         all_centroid_node_gdf],\n",
    "                        sort = False,\n",
    "                        ignore_index = True)"
   ]
  },
  {
   "cell_type": "markdown",
   "metadata": {},
   "source": [
    "### add length"
   ]
  },
  {
   "cell_type": "code",
   "execution_count": 84,
   "metadata": {},
   "outputs": [],
   "source": [
    "all_cc_link_gdf = pd.merge(all_cc_link_df, all_cc_shape_gdf[[\"id\", \"geometry\"]], how = \"left\", on = \"id\")"
   ]
  },
  {
   "cell_type": "code",
   "execution_count": 85,
   "metadata": {},
   "outputs": [
    {
     "data": {
      "text/html": [
       "<div>\n",
       "<style scoped>\n",
       "    .dataframe tbody tr th:only-of-type {\n",
       "        vertical-align: middle;\n",
       "    }\n",
       "\n",
       "    .dataframe tbody tr th {\n",
       "        vertical-align: top;\n",
       "    }\n",
       "\n",
       "    .dataframe thead th {\n",
       "        text-align: right;\n",
       "    }\n",
       "</style>\n",
       "<table border=\"1\" class=\"dataframe\">\n",
       "  <thead>\n",
       "    <tr style=\"text-align: right;\">\n",
       "      <th></th>\n",
       "      <th>A</th>\n",
       "      <th>B</th>\n",
       "      <th>drive_access</th>\n",
       "      <th>walk_access</th>\n",
       "      <th>bike_access</th>\n",
       "      <th>shstGeometryId</th>\n",
       "      <th>id</th>\n",
       "      <th>u</th>\n",
       "      <th>v</th>\n",
       "      <th>fromIntersectionId</th>\n",
       "      <th>toIntersectionId</th>\n",
       "      <th>roadway</th>\n",
       "      <th>county</th>\n",
       "      <th>rail_only</th>\n",
       "      <th>county_last_id</th>\n",
       "      <th>model_link_id</th>\n",
       "      <th>geometry</th>\n",
       "    </tr>\n",
       "  </thead>\n",
       "  <tbody>\n",
       "  </tbody>\n",
       "</table>\n",
       "</div>"
      ],
      "text/plain": [
       "Empty DataFrame\n",
       "Columns: [A, B, drive_access, walk_access, bike_access, shstGeometryId, id, u, v, fromIntersectionId, toIntersectionId, roadway, county, rail_only, county_last_id, model_link_id, geometry]\n",
       "Index: []"
      ]
     },
     "execution_count": 85,
     "metadata": {},
     "output_type": "execute_result"
    }
   ],
   "source": [
    "all_cc_link_gdf[all_cc_link_gdf.geometry.isnull()]"
   ]
  },
  {
   "cell_type": "code",
   "execution_count": 86,
   "metadata": {},
   "outputs": [],
   "source": [
    "all_cc_link_gdf = gpd.GeoDataFrame(all_cc_link_gdf, \n",
    "                                   geometry = all_cc_link_gdf[\"geometry\"], \n",
    "                                   crs = shape_gdf.crs)"
   ]
  },
  {
   "cell_type": "code",
   "execution_count": 87,
   "metadata": {},
   "outputs": [],
   "source": [
    "geom_length = all_cc_link_gdf[['geometry']].copy()\n",
    "geom_length = geom_length.to_crs(epsg = 26915)\n",
    "geom_length[\"length\"] = geom_length.length\n",
    "\n",
    "all_cc_link_gdf[\"length\"] = geom_length[\"length\"]"
   ]
  },
  {
   "cell_type": "markdown",
   "metadata": {},
   "source": [
    "### add locationreference"
   ]
  },
  {
   "cell_type": "code",
   "execution_count": 88,
   "metadata": {},
   "outputs": [],
   "source": [
    "all_node_gdf['X'] = all_node_gdf['geometry'].apply(lambda p: p.x)\n",
    "all_node_gdf['Y'] = all_node_gdf['geometry'].apply(lambda p: p.y)\n",
    "all_node_gdf['point'] = [list(xy) for xy in zip(all_node_gdf.X, all_node_gdf.Y)]\n",
    "node_dict = dict(zip(all_node_gdf.model_node_id, all_node_gdf.point))\n",
    "    \n",
    "all_cc_link_gdf['A_point'] = all_cc_link_gdf['A'].map(node_dict)\n",
    "all_cc_link_gdf['B_point'] = all_cc_link_gdf['B'].map(node_dict)\n",
    "all_cc_link_gdf['locationReferences'] = all_cc_link_gdf.apply(lambda x: [{'sequence':1, \n",
    "                                                             'point': x['A_point'],\n",
    "                                                             'distanceToNextRef':x['length'],\n",
    "                                                            'bearing' : 0,\n",
    "                                                             'intersectionId':x['fromIntersectionId']},\n",
    "                                                                         {'sequence':2, \n",
    "                                                             'point': x['B_point'],\n",
    "                                                             'intersectionId':x['toIntersectionId']}],\n",
    "                                                   axis = 1)"
   ]
  },
  {
   "cell_type": "markdown",
   "metadata": {},
   "source": [
    "# write out"
   ]
  },
  {
   "cell_type": "code",
   "execution_count": 89,
   "metadata": {},
   "outputs": [],
   "source": [
    "int_col = [\"bike_access\", \"walk_access\", \"drive_access\", \"rail_only\", \"A\", \"B\", \"u\", \"v\"]\n",
    "for c in int_col:\n",
    "    all_cc_link_gdf[c] = all_cc_link_gdf[c].fillna(0).astype(np.int64)\n",
    "\n",
    "int_col = [\"bike_access\", \"walk_access\", \"drive_access\", \"rail_only\"]\n",
    "for c in int_col:\n",
    "    all_centroid_node_gdf[c] = all_centroid_node_gdf[c].fillna(0).astype(np.int64)"
   ]
  },
  {
   "cell_type": "code",
   "execution_count": 90,
   "metadata": {},
   "outputs": [
    {
     "name": "stdout",
     "output_type": "stream",
     "text": [
      "-------write out link shape geojson---------\n",
      "Wall time: 35.7 s\n"
     ]
    }
   ],
   "source": [
    "%%time\n",
    "\n",
    "print(\"-------write out link shape geojson---------\")\n",
    "\n",
    "shape_prop = ['id', 'fromIntersectionId', 'toIntersectionId']\n",
    "shape_geojson = link_df_to_geojson(all_cc_shape_gdf, shape_prop)\n",
    "\n",
    "with open(\"../../data/interim/step7_centroid_connector/cc_shape.geojson\", \"w\") as f:\n",
    "    json.dump(shape_geojson, f)"
   ]
  },
  {
   "cell_type": "code",
   "execution_count": 91,
   "metadata": {},
   "outputs": [
    {
     "name": "stdout",
     "output_type": "stream",
     "text": [
      "-------write out link json---------\n",
      "Wall time: 11.6 s\n"
     ]
    }
   ],
   "source": [
    "%%time\n",
    "\n",
    "# write out link variable json\n",
    "# link unique handle \"shstReferenceId\" + \"shstGeometryId\"\n",
    "\n",
    "print(\"-------write out link json---------\")\n",
    "\n",
    "link_prop = all_cc_link_gdf.drop([\"geometry\"], axis = 1).columns.tolist()\n",
    "\n",
    "out = all_cc_link_gdf[link_prop].to_json(orient = \"records\")\n",
    "\n",
    "with open(\"../../data/interim/step7_centroid_connector/cc_link.json\", 'w') as f:\n",
    "    f.write(out)"
   ]
  },
  {
   "cell_type": "code",
   "execution_count": 92,
   "metadata": {},
   "outputs": [
    {
     "name": "stdout",
     "output_type": "stream",
     "text": [
      "-------write out node geojson---------\n",
      "Wall time: 6.02 s\n"
     ]
    }
   ],
   "source": [
    "%%time\n",
    "\n",
    "print(\"-------write out node geojson---------\")\n",
    "\n",
    "node_prop = all_centroid_node_gdf.drop([\"geometry\"], axis = 1).columns.tolist()\n",
    "node_geojson = point_df_to_geojson(all_centroid_node_gdf, node_prop)\n",
    "\n",
    "with open(\"../../data/interim/step7_centroid_connector/centroid_node.geojson\", \"w\") as f:\n",
    "    json.dump(node_geojson, f)"
   ]
  },
  {
   "cell_type": "code",
   "execution_count": 93,
   "metadata": {},
   "outputs": [
    {
     "name": "stdout",
     "output_type": "stream",
     "text": [
      "-------write out pickle---------\n"
     ]
    }
   ],
   "source": [
    "print(\"-------write out pickle---------\")\n",
    "\n",
    "all_cc_link_gdf.drop(['county_last_id','A_point', 'B_point'], axis = 1).to_pickle(\n",
    "    \"../../data/interim/step7_centroid_connector/cc_link.pickle\")\n",
    "all_cc_shape_gdf.to_pickle(\"../../data/interim/step7_centroid_connector/cc_shape.pickle\")\n",
    "all_centroid_node_gdf.to_pickle(\"../../data/interim/step7_centroid_connector/centroid_node.pickle\")"
   ]
  },
  {
   "cell_type": "code",
   "execution_count": 94,
   "metadata": {},
   "outputs": [
    {
     "name": "stdout",
     "output_type": "stream",
     "text": [
      "(564544, 21)\n",
      "(282272, 6)\n",
      "(44482, 6)\n"
     ]
    }
   ],
   "source": [
    "print(all_cc_link_gdf.shape)\n",
    "print(all_cc_shape_gdf.shape)\n",
    "print(all_centroid_node_gdf.shape)"
   ]
  },
  {
   "cell_type": "code",
   "execution_count": null,
   "metadata": {},
   "outputs": [],
   "source": []
  }
 ],
 "metadata": {
  "kernelspec": {
   "display_name": "Python 3",
   "language": "python",
   "name": "python3"
  },
  "language_info": {
   "codemirror_mode": {
    "name": "ipython",
    "version": 3
   },
   "file_extension": ".py",
   "mimetype": "text/x-python",
   "name": "python",
   "nbconvert_exporter": "python",
   "pygments_lexer": "ipython3",
   "version": "3.8.8"
  }
 },
 "nbformat": 4,
 "nbformat_minor": 2
}
