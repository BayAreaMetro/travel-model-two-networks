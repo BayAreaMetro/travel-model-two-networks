{
 "cells": [
  {
   "cell_type": "code",
   "execution_count": 1,
   "metadata": {},
   "outputs": [],
   "source": [
    "import pandas as pd\n",
    "import numpy as np\n",
    "import geopandas as gpd\n",
    "from shapely.geometry import Point, shape, LineString\n",
    "import json\n",
    "\n",
    "%matplotlib inline\n",
    "\n",
    "import matplotlib.pyplot as plt\n",
    "\n",
    "pd.set_option('display.float_format', lambda x: '%.3f' % x)"
   ]
  },
  {
   "cell_type": "code",
   "execution_count": 2,
   "metadata": {},
   "outputs": [],
   "source": [
    "from methods import link_df_to_geojson\n",
    "from methods import point_df_to_geojson\n",
    "from methods import reproject"
   ]
  },
  {
   "cell_type": "code",
   "execution_count": 3,
   "metadata": {},
   "outputs": [],
   "source": [
    "step6_output_folder = \"../../data/interim/step6_gtfs/version_12/\"\n",
    "data_interim_dir = \"../../data/interim/\""
   ]
  },
  {
   "cell_type": "code",
   "execution_count": 5,
   "metadata": {},
   "outputs": [
    {
     "name": "stdout",
     "output_type": "stream",
     "text": [
      "read link\n",
      "read node\n",
      "read shape\n"
     ]
    }
   ],
   "source": [
    "print('read link')\n",
    "link_file = step6_output_folder + \"link.feather\"\n",
    "link_df = pd.read_feather(link_file)\n",
    "\n",
    "print('read node')\n",
    "node_file = step6_output_folder + \"node.geojson\"\n",
    "node_gdf = gpd.read_file(node_file)\n",
    "\n",
    "print('read shape')\n",
    "shape_file = step6_output_folder + \"shape.geojson\"\n",
    "shape_gdf = gpd.read_file(shape_file)"
   ]
  },
  {
   "cell_type": "code",
   "execution_count": 7,
   "metadata": {},
   "outputs": [
    {
     "name": "stderr",
     "output_type": "stream",
     "text": [
      "C:\\Users\\wangs1\\AppData\\Roaming\\Python\\Python37\\site-packages\\pyproj\\crs\\crs.py:68: FutureWarning: '+init=<authority>:<code>' syntax is deprecated. '<authority>:<code>' is the preferred initialization method. When making the change, be mindful of axis order changes: https://pyproj4.github.io/pyproj/stable/gotchas.html#axis-order-changes-in-proj-6\n",
      "  return _prepare_from_string(\" \".join(pjargs))\n"
     ]
    }
   ],
   "source": [
    "link_gdf = pd.merge(link_df,\n",
    "                    shape_gdf[[\"id\", \"geometry\"]],\n",
    "                   how = \"left\",\n",
    "                   on = \"id\")\n",
    "\n",
    "link_gdf = gpd.GeoDataFrame(link_gdf, geometry = link_gdf[\"geometry\"],\n",
    "                            crs={\"init\" : \"epsg:4326\"})"
   ]
  },
  {
   "cell_type": "code",
   "execution_count": 8,
   "metadata": {},
   "outputs": [],
   "source": [
    "geom_length = link_gdf[['geometry']].copy()\n",
    "geom_length = geom_length.to_crs(epsg = 26915)\n",
    "geom_length[\"length\"] = geom_length.length\n",
    "\n",
    "link_gdf[\"length\"] = geom_length[\"length\"]"
   ]
  },
  {
   "cell_type": "code",
   "execution_count": 9,
   "metadata": {},
   "outputs": [],
   "source": [
    "node_gdf['X'] = node_gdf['geometry'].apply(lambda p: p.x)\n",
    "node_gdf['Y'] = node_gdf['geometry'].apply(lambda p: p.y)\n",
    "node_gdf['point'] = [list(xy) for xy in zip(node_gdf.X, node_gdf.Y)]\n",
    "node_dict = dict(zip(node_gdf.model_node_id, node_gdf.point))\n",
    "    \n",
    "link_gdf['A_point'] = link_gdf['A'].map(node_dict)\n",
    "link_gdf['B_point'] = link_gdf['B'].map(node_dict)\n",
    "link_gdf['locationReferences'] = link_gdf.apply(lambda x: [{'sequence':1, \n",
    "                                                             'point': x['A_point'],\n",
    "                                                             'distanceToNextRef':x['length'],\n",
    "                                                            'bearing' : 0,\n",
    "                                                             'intersectionId':x['fromIntersectionId']},\n",
    "                                                                         {'sequence':2, \n",
    "                                                             'point': x['B_point'],\n",
    "                                                             'intersectionId':x['toIntersectionId']}],\n",
    "                                                   axis = 1)"
   ]
  },
  {
   "cell_type": "code",
   "execution_count": 11,
   "metadata": {},
   "outputs": [],
   "source": [
    "shape_gdf[\"shape_id\"] = range(1, 1+ len(shape_gdf))\n",
    "\n",
    "shape_id_dict = dict(zip(shape_gdf.id, shape_gdf.shape_id))\n",
    "\n",
    "link_gdf[\"shape_id\"] = link_gdf[\"id\"].map(shape_id_dict)"
   ]
  },
  {
   "cell_type": "code",
   "execution_count": 12,
   "metadata": {},
   "outputs": [
    {
     "name": "stdout",
     "output_type": "stream",
     "text": [
      "-------write out link shape geojson---------\n",
      "Wall time: 2min 50s\n"
     ]
    }
   ],
   "source": [
    "%%time\n",
    "\n",
    "print(\"-------write out link shape geojson---------\")\n",
    "\n",
    "shape_prop = ['id', 'fromIntersectionId', 'toIntersectionId', 'forwardReferenceId', 'backReferenceId']\n",
    "shape_geojson = link_df_to_geojson(shape_gdf, shape_prop)\n",
    "\n",
    "with open(data_interim_dir + \"step8_standard_format/shape.geojson\", \"w\") as f:\n",
    "    json.dump(shape_geojson, f)"
   ]
  },
  {
   "cell_type": "code",
   "execution_count": null,
   "metadata": {},
   "outputs": [],
   "source": [
    "shape_gdf.info()"
   ]
  },
  {
   "cell_type": "code",
   "execution_count": 14,
   "metadata": {},
   "outputs": [
    {
     "name": "stdout",
     "output_type": "stream",
     "text": [
      "-------write out link json---------\n",
      "Wall time: 33.5 s\n"
     ]
    }
   ],
   "source": [
    "%%time\n",
    "\n",
    "# write out link variable json\n",
    "# link unique handle \"shstReferenceId\" + \"shstGeometryId\"\n",
    "\n",
    "print(\"-------write out link json---------\")\n",
    "\n",
    "link_prop = link_gdf.drop(['geometry', 'A_point', 'B_point', \"service\", \"roundabout\", 'est_width',\n",
    "                          'highway', 'junction', 'key', 'landuse', 'link', 'area', 'id', 'length',\n",
    "                          'width', 'bridge', 'tunnel',\n",
    "                          'shape_id'], \n",
    "                          axis = 1).columns.tolist()\n",
    "\n",
    "out = link_gdf[link_prop].to_json(orient = \"records\")\n",
    "\n",
    "with open(data_interim_dir + \"step8_standard_format/link.json\", 'w') as f:\n",
    "    f.write(out)"
   ]
  },
  {
   "cell_type": "code",
   "execution_count": 15,
   "metadata": {},
   "outputs": [
    {
     "name": "stdout",
     "output_type": "stream",
     "text": [
      "-------write out link feather---------\n"
     ]
    },
    {
     "name": "stderr",
     "output_type": "stream",
     "text": [
      "C:\\Users\\wangs1\\.conda\\envs\\MetC_new\\lib\\site-packages\\ipykernel_launcher.py:9: UserWarning: this is an initial implementation of Parquet/Feather file support and associated metadata.  This is tracking version 0.1.0 of the metadata specification at https://github.com/geopandas/geo-arrow-spec\n",
      "\n",
      "This metadata specification does not yet make stability promises.  We do not yet recommend using this in a production setting unless you are able to rewrite your Parquet/Feather files.\n",
      "\n",
      "To further ignore this warning, you can do: \n",
      "import warnings; warnings.filterwarnings('ignore', message='.*initial implementation of Parquet.*')\n",
      "  if __name__ == '__main__':\n"
     ]
    }
   ],
   "source": [
    "print(\"-------write out link feather---------\")\n",
    "\n",
    "link_feather = link_gdf.drop(['geometry', 'A_point', 'B_point', \"service\", \"roundabout\", 'est_width',\n",
    "                          'highway', 'junction', 'key', 'landuse', 'link', 'area', 'id', 'length',\n",
    "                          'width', 'bridge', 'tunnel',\n",
    "                             'shape_id'], \n",
    "                          axis = 1).copy()\n",
    "\n",
    "link_feather.to_feather(data_interim_dir + 'step8_standard_format/link.feather')"
   ]
  },
  {
   "cell_type": "code",
   "execution_count": 16,
   "metadata": {},
   "outputs": [
    {
     "name": "stdout",
     "output_type": "stream",
     "text": [
      "<class 'geopandas.geodataframe.GeoDataFrame'>\n",
      "Int64Index: 1634790 entries, 0 to 1634789\n",
      "Data columns (total 24 columns):\n",
      "access                1632702 non-null object\n",
      "bike_access           1634790 non-null int64\n",
      "drive_access          1634790 non-null int64\n",
      "fromIntersectionId    1632702 non-null object\n",
      "lanes                 1632702 non-null object\n",
      "maxspeed              1632702 non-null object\n",
      "name                  1632702 non-null object\n",
      "oneWay                1632702 non-null object\n",
      "ref                   1632702 non-null object\n",
      "roadway               1632702 non-null object\n",
      "shstGeometryId        1634790 non-null object\n",
      "shstReferenceId       1632702 non-null object\n",
      "toIntersectionId      1632702 non-null object\n",
      "u                     1632702 non-null float64\n",
      "v                     1632702 non-null float64\n",
      "walk_access           1634790 non-null int64\n",
      "wayId                 1632702 non-null object\n",
      "county                1634790 non-null object\n",
      "model_link_id         1634790 non-null int64\n",
      "A                     1634790 non-null int64\n",
      "B                     1634790 non-null int64\n",
      "rail_traveltime       613 non-null float64\n",
      "rail_only             1634790 non-null int64\n",
      "locationReferences    1634790 non-null object\n",
      "dtypes: float64(3), int64(7), object(14)\n",
      "memory usage: 311.8+ MB\n"
     ]
    }
   ],
   "source": [
    "link_feather.info()"
   ]
  },
  {
   "cell_type": "code",
   "execution_count": 18,
   "metadata": {},
   "outputs": [
    {
     "name": "stdout",
     "output_type": "stream",
     "text": [
      "-------write out node geojson---------\n",
      "Wall time: 2min 23s\n"
     ]
    }
   ],
   "source": [
    "%%time\n",
    "\n",
    "print(\"-------write out node geojson---------\")\n",
    "\n",
    "node_prop = node_gdf.drop([\"geometry\", \"point\"], axis = 1).columns.tolist()\n",
    "node_geojson = point_df_to_geojson(node_gdf, node_prop)\n",
    "\n",
    "with open(data_interim_dir + \"step8_standard_format/node.geojson\", \"w\") as f:\n",
    "    json.dump(node_geojson, f)"
   ]
  },
  {
   "cell_type": "code",
   "execution_count": 17,
   "metadata": {},
   "outputs": [
    {
     "data": {
      "text/plain": [
       "Index(['osm_node_id', 'shst_node_id', 'county', 'drive_access', 'walk_access',\n",
       "       'bike_access', 'model_node_id', 'rail_only', 'geometry', 'X', 'Y',\n",
       "       'point'],\n",
       "      dtype='object')"
      ]
     },
     "execution_count": 17,
     "metadata": {},
     "output_type": "execute_result"
    }
   ],
   "source": [
    "node_gdf.info()"
   ]
  }
 ],
 "metadata": {
  "kernelspec": {
   "display_name": "Python 3",
   "language": "python",
   "name": "python3"
  },
  "language_info": {
   "codemirror_mode": {
    "name": "ipython",
    "version": 3
   },
   "file_extension": ".py",
   "mimetype": "text/x-python",
   "name": "python",
   "nbconvert_exporter": "python",
   "pygments_lexer": "ipython3",
   "version": "3.8.8"
  }
 },
 "nbformat": 4,
 "nbformat_minor": 2
}
