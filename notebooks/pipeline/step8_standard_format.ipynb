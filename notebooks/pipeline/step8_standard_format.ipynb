{
 "cells": [
  {
   "cell_type": "code",
   "execution_count": 1,
   "metadata": {},
   "outputs": [],
   "source": [
    "import pandas as pd\n",
    "import numpy as np\n",
    "import geopandas as gpd\n",
    "import pyproj\n",
    "from shapely.geometry import Point, shape, LineString\n",
    "import json\n",
    "import os\n",
    "\n",
    "%matplotlib inline\n",
    "\n",
    "import matplotlib.pyplot as plt\n",
    "\n",
    "pd.set_option('display.float_format', lambda x: '%.3f' % x)"
   ]
  },
  {
   "cell_type": "code",
   "execution_count": 2,
   "metadata": {},
   "outputs": [],
   "source": [
    "from methods import link_df_to_geojson\n",
    "from methods import point_df_to_geojson\n",
    "from methods import reproject"
   ]
  },
  {
   "cell_type": "code",
   "execution_count": 3,
   "metadata": {},
   "outputs": [],
   "source": [
    "# input directories - use Box\n",
    "TM2_REBUILD_BOX_DIR     = r\"C:\\Users\\{}\\Box\\Modeling and Surveys\\Development\\Travel Model Two Development\\Travel Model Two Network Rebuild\".format(os.getenv('USERNAME'))\n",
    "TM2_NETWORKS_DATA_DIR   = os.path.join(TM2_REBUILD_BOX_DIR,    \"travel-model-two-networks\", \"data\")\n",
    "input_data_interim_dir  = os.path.join(TM2_NETWORKS_DATA_DIR,  \"interim\")\n",
    "input_data_external_dir = os.path.join(TM2_NETWORKS_DATA_DIR,  \"external\")\n",
    "input_step6_interim_dir = os.path.join(input_data_interim_dir, \"step6_gtfs\",\"version_12\")"
   ]
  },
  {
   "cell_type": "code",
   "execution_count": 4,
   "metadata": {},
   "outputs": [],
   "source": [
    "# output folders\n",
    "output_data_interim_dir = r\"C:\\Users\\{}\\Documents\\scratch\\tm2_network_building\\interim\\step8_standard_format\\\\\".format(os.getenv('USERNAME'))\n",
    "os.makedirs(output_data_interim_dir, exist_ok=True)"
   ]
  },
  {
   "cell_type": "code",
   "execution_count": 5,
   "metadata": {},
   "outputs": [
    {
     "name": "stdout",
     "output_type": "stream",
     "text": [
      "read link\n",
      "read node\n",
      "read shape\n",
      "Wall time: 2min 51s\n"
     ]
    }
   ],
   "source": [
    "%%time\n",
    "# Wall time: ~3min\n",
    "print('read link')\n",
    "link_file = os.path.join(input_step6_interim_dir,\"link.feather\")\n",
    "link_df = pd.read_feather(link_file)\n",
    "\n",
    "print('read node')\n",
    "node_file = os.path.join(input_step6_interim_dir,\"node.geojson\")\n",
    "node_gdf = gpd.read_file(node_file)\n",
    "\n",
    "print('read shape')\n",
    "shape_file = os.path.join(input_step6_interim_dir,\"shape.geojson\")\n",
    "shape_gdf = gpd.read_file(shape_file)"
   ]
  },
  {
   "cell_type": "code",
   "execution_count": 6,
   "metadata": {},
   "outputs": [],
   "source": [
    "link_gdf = pd.merge(link_df,\n",
    "                    shape_gdf[[\"id\", \"geometry\"]],\n",
    "                   how = \"left\",\n",
    "                   on = \"id\")\n",
    "\n",
    "link_gdf = gpd.GeoDataFrame(link_gdf, geometry = link_gdf[\"geometry\"],\n",
    "                            crs=pyproj.CRS(\"EPSG:4326\"))"
   ]
  },
  {
   "cell_type": "code",
   "execution_count": 7,
   "metadata": {},
   "outputs": [],
   "source": [
    "geom_length = link_gdf[['geometry']].copy()\n",
    "geom_length = geom_length.to_crs(epsg = 26915)\n",
    "geom_length[\"length\"] = geom_length.length\n",
    "\n",
    "link_gdf[\"length\"] = geom_length[\"length\"]"
   ]
  },
  {
   "cell_type": "code",
   "execution_count": 8,
   "metadata": {},
   "outputs": [],
   "source": [
    "node_gdf['X'] = node_gdf['geometry'].apply(lambda p: p.x)\n",
    "node_gdf['Y'] = node_gdf['geometry'].apply(lambda p: p.y)\n",
    "node_gdf['point'] = [list(xy) for xy in zip(node_gdf.X, node_gdf.Y)]\n",
    "node_dict = dict(zip(node_gdf.model_node_id, node_gdf.point))\n",
    "    \n",
    "link_gdf['A_point'] = link_gdf['A'].map(node_dict)\n",
    "link_gdf['B_point'] = link_gdf['B'].map(node_dict)\n",
    "link_gdf['locationReferences'] = link_gdf.apply(lambda x: [{'sequence':1, \n",
    "                                                             'point': x['A_point'],\n",
    "                                                             'distanceToNextRef':x['length'],\n",
    "                                                            'bearing' : 0,\n",
    "                                                             'intersectionId':x['fromIntersectionId']},\n",
    "                                                                         {'sequence':2, \n",
    "                                                             'point': x['B_point'],\n",
    "                                                             'intersectionId':x['toIntersectionId']}],\n",
    "                                                   axis = 1)"
   ]
  },
  {
   "cell_type": "code",
   "execution_count": 9,
   "metadata": {},
   "outputs": [],
   "source": [
    "shape_gdf[\"shape_id\"] = range(1, 1+ len(shape_gdf))\n",
    "\n",
    "shape_id_dict = dict(zip(shape_gdf.id, shape_gdf.shape_id))\n",
    "\n",
    "link_gdf[\"shape_id\"] = link_gdf[\"id\"].map(shape_id_dict)"
   ]
  },
  {
   "cell_type": "code",
   "execution_count": 10,
   "metadata": {},
   "outputs": [
    {
     "name": "stdout",
     "output_type": "stream",
     "text": [
      "-------write out link shape geojson---------\n",
      "Wall time: 4min 16s\n"
     ]
    }
   ],
   "source": [
    "%%time\n",
    "# Wall time: ~5min\n",
    "print(\"-------write out link shape geojson---------\")\n",
    "\n",
    "shape_prop = ['id', 'fromIntersectionId', 'toIntersectionId', 'forwardReferenceId', 'backReferenceId']\n",
    "shape_geojson = link_df_to_geojson(shape_gdf, shape_prop)\n",
    "\n",
    "with open(os.path.join(output_data_interim_dir,\"shape.geojson\"), \"w\") as f:\n",
    "    json.dump(shape_geojson, f)"
   ]
  },
  {
   "cell_type": "code",
   "execution_count": 11,
   "metadata": {},
   "outputs": [
    {
     "name": "stdout",
     "output_type": "stream",
     "text": [
      "<class 'geopandas.geodataframe.GeoDataFrame'>\n",
      "RangeIndex: 869986 entries, 0 to 869985\n",
      "Data columns (total 7 columns):\n",
      " #   Column              Non-Null Count   Dtype   \n",
      "---  ------              --------------   -----   \n",
      " 0   id                  869986 non-null  object  \n",
      " 1   fromIntersectionId  869986 non-null  object  \n",
      " 2   toIntersectionId    869986 non-null  object  \n",
      " 3   forwardReferenceId  869986 non-null  object  \n",
      " 4   backReferenceId     869986 non-null  object  \n",
      " 5   geometry            869986 non-null  geometry\n",
      " 6   shape_id            869986 non-null  int32   \n",
      "dtypes: geometry(1), int32(1), object(5)\n",
      "memory usage: 43.1+ MB\n"
     ]
    }
   ],
   "source": [
    "shape_gdf.info()"
   ]
  },
  {
   "cell_type": "code",
   "execution_count": 12,
   "metadata": {},
   "outputs": [
    {
     "name": "stdout",
     "output_type": "stream",
     "text": [
      "-------write out link json---------\n",
      "Wall time: 50.5 s\n"
     ]
    }
   ],
   "source": [
    "%%time\n",
    "# Wall time: ~1min\n",
    "# write out link variable json\n",
    "# link unique handle \"shstReferenceId\" + \"shstGeometryId\"\n",
    "\n",
    "print(\"-------write out link json---------\")\n",
    "\n",
    "link_prop = link_gdf.drop(['geometry', 'A_point', 'B_point', \"service\", \"roundabout\", 'est_width',\n",
    "                          'highway', 'junction', 'key', 'landuse', 'link', 'area', 'id', 'length',\n",
    "                          'width', 'bridge', 'tunnel',\n",
    "                          'shape_id'], \n",
    "                          axis = 1).columns.tolist()\n",
    "\n",
    "out = link_gdf[link_prop].to_json(orient = \"records\")\n",
    "\n",
    "with open(os.path.join(output_data_interim_dir,\"link.json\"), 'w') as f:\n",
    "    f.write(out)"
   ]
  },
  {
   "cell_type": "code",
   "execution_count": 13,
   "metadata": {},
   "outputs": [
    {
     "name": "stdout",
     "output_type": "stream",
     "text": [
      "-------write out link feather---------\n"
     ]
    },
    {
     "name": "stderr",
     "output_type": "stream",
     "text": [
      "C:\\Users\\lzorn\\.conda\\envs\\tm2_network_dev\\lib\\site-packages\\ipykernel_launcher.py:9: UserWarning: this is an initial implementation of Parquet/Feather file support and associated metadata.  This is tracking version 0.1.0 of the metadata specification at https://github.com/geopandas/geo-arrow-spec\n",
      "\n",
      "This metadata specification does not yet make stability promises.  We do not yet recommend using this in a production setting unless you are able to rewrite your Parquet/Feather files.\n",
      "\n",
      "To further ignore this warning, you can do: \n",
      "import warnings; warnings.filterwarnings('ignore', message='.*initial implementation of Parquet.*')\n",
      "  if __name__ == '__main__':\n"
     ]
    }
   ],
   "source": [
    "print(\"-------write out link feather---------\")\n",
    "\n",
    "link_feather = link_gdf.drop(['geometry', 'A_point', 'B_point', \"service\", \"roundabout\", 'est_width',\n",
    "                          'highway', 'junction', 'key', 'landuse', 'link', 'area', 'id', 'length',\n",
    "                          'width', 'bridge', 'tunnel',\n",
    "                             'shape_id'], \n",
    "                          axis = 1).copy()\n",
    "\n",
    "link_feather.to_feather(os.path.join(output_data_interim_dir,'link.feather'))"
   ]
  },
  {
   "cell_type": "code",
   "execution_count": 14,
   "metadata": {},
   "outputs": [
    {
     "name": "stdout",
     "output_type": "stream",
     "text": [
      "<class 'geopandas.geodataframe.GeoDataFrame'>\n",
      "Int64Index: 1634790 entries, 0 to 1634789\n",
      "Data columns (total 24 columns):\n",
      " #   Column              Non-Null Count    Dtype  \n",
      "---  ------              --------------    -----  \n",
      " 0   access              1632702 non-null  object \n",
      " 1   bike_access         1634790 non-null  int64  \n",
      " 2   drive_access        1634790 non-null  int64  \n",
      " 3   fromIntersectionId  1632702 non-null  object \n",
      " 4   lanes               1632702 non-null  object \n",
      " 5   maxspeed            1632702 non-null  object \n",
      " 6   name                1632702 non-null  object \n",
      " 7   oneWay              1632702 non-null  object \n",
      " 8   ref                 1632702 non-null  object \n",
      " 9   roadway             1632702 non-null  object \n",
      " 10  shstGeometryId      1634790 non-null  object \n",
      " 11  shstReferenceId     1632702 non-null  object \n",
      " 12  toIntersectionId    1632702 non-null  object \n",
      " 13  u                   1632702 non-null  float64\n",
      " 14  v                   1632702 non-null  float64\n",
      " 15  walk_access         1634790 non-null  int64  \n",
      " 16  wayId               1632702 non-null  object \n",
      " 17  county              1634790 non-null  object \n",
      " 18  model_link_id       1634790 non-null  int64  \n",
      " 19  A                   1634790 non-null  int64  \n",
      " 20  B                   1634790 non-null  int64  \n",
      " 21  rail_traveltime     613 non-null      float64\n",
      " 22  rail_only           1634790 non-null  int64  \n",
      " 23  locationReferences  1634790 non-null  object \n",
      "dtypes: float64(3), int64(7), object(14)\n",
      "memory usage: 391.8+ MB\n"
     ]
    }
   ],
   "source": [
    "link_feather.info()"
   ]
  },
  {
   "cell_type": "code",
   "execution_count": 15,
   "metadata": {},
   "outputs": [
    {
     "name": "stdout",
     "output_type": "stream",
     "text": [
      "-------write out node geojson---------\n",
      "Wall time: 3min 27s\n"
     ]
    }
   ],
   "source": [
    "%%time\n",
    "# Wall time: ~4min\n",
    "print(\"-------write out node geojson---------\")\n",
    "\n",
    "node_prop = node_gdf.drop([\"geometry\", \"point\"], axis = 1).columns.tolist()\n",
    "node_geojson = point_df_to_geojson(node_gdf, node_prop)\n",
    "\n",
    "with open(os.path.join(output_data_interim_dir,\"node.geojson\"), \"w\") as f:\n",
    "    json.dump(node_geojson, f)"
   ]
  },
  {
   "cell_type": "code",
   "execution_count": 16,
   "metadata": {},
   "outputs": [
    {
     "name": "stdout",
     "output_type": "stream",
     "text": [
      "<class 'geopandas.geodataframe.GeoDataFrame'>\n",
      "RangeIndex: 644480 entries, 0 to 644479\n",
      "Data columns (total 12 columns):\n",
      " #   Column         Non-Null Count   Dtype   \n",
      "---  ------         --------------   -----   \n",
      " 0   osm_node_id    643811 non-null  float64 \n",
      " 1   shst_node_id   644480 non-null  object  \n",
      " 2   county         644480 non-null  object  \n",
      " 3   drive_access   644480 non-null  int64   \n",
      " 4   walk_access    644480 non-null  int64   \n",
      " 5   bike_access    644480 non-null  int64   \n",
      " 6   model_node_id  644480 non-null  int64   \n",
      " 7   rail_only      644480 non-null  int64   \n",
      " 8   geometry       644480 non-null  geometry\n",
      " 9   X              644480 non-null  float64 \n",
      " 10  Y              644480 non-null  float64 \n",
      " 11  point          644480 non-null  object  \n",
      "dtypes: float64(3), geometry(1), int64(5), object(3)\n",
      "memory usage: 59.0+ MB\n"
     ]
    }
   ],
   "source": [
    "node_gdf.info()"
   ]
  }
 ],
 "metadata": {
  "kernelspec": {
   "display_name": "Python 3",
   "language": "python",
   "name": "python3"
  },
  "language_info": {
   "codemirror_mode": {
    "name": "ipython",
    "version": 3
   },
   "file_extension": ".py",
   "mimetype": "text/x-python",
   "name": "python",
   "nbconvert_exporter": "python",
   "pygments_lexer": "ipython3",
   "version": "3.7.9"
  }
 },
 "nbformat": 4,
 "nbformat_minor": 2
}
