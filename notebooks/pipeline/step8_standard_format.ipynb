{
 "cells": [
  {
   "cell_type": "code",
   "execution_count": 1,
   "metadata": {},
   "outputs": [],
   "source": [
    "import pandas as pd\n",
    "import numpy as np\n",
    "import geopandas as gpd\n",
    "from shapely.geometry import Point, shape, LineString\n",
    "import json\n",
    "\n",
    "\n",
    "%matplotlib inline\n",
    "\n",
    "import matplotlib.pyplot as plt\n",
    "\n",
    "pd.set_option('display.float_format', lambda x: '%.3f' % x)"
   ]
  },
  {
   "cell_type": "code",
   "execution_count": 2,
   "metadata": {},
   "outputs": [],
   "source": [
    "from methods import link_df_to_geojson\n",
    "from methods import point_df_to_geojson\n",
    "from methods import reproject"
   ]
  },
  {
   "cell_type": "code",
   "execution_count": 3,
   "metadata": {},
   "outputs": [],
   "source": [
    "step6_output_folder = \"../../data/interim/step6_gtfs/\"\n",
    "data_interim_dir = \"../../data/interim/\""
   ]
  },
  {
   "cell_type": "code",
   "execution_count": 4,
   "metadata": {},
   "outputs": [],
   "source": [
    "link_file = step6_output_folder + \"link.feather\"\n",
    "link_df = pd.read_feather(link_file)\n",
    "\n",
    "node_file = step6_output_folder + \"node.geojson\"\n",
    "node_gdf = gpd.read_file(node_file)\n",
    "\n",
    "shape_file = step6_output_folder + \"shape.geojson\"\n",
    "shape_gdf = gpd.read_file(shape_file)"
   ]
  },
  {
   "cell_type": "code",
   "execution_count": 5,
   "metadata": {},
   "outputs": [],
   "source": [
    "link_gdf = pd.merge(link_df,\n",
    "                    shape_gdf[[\"id\", \"geometry\"]],\n",
    "                   how = \"left\",\n",
    "                   on = \"id\")\n",
    "\n",
    "link_gdf = gpd.GeoDataFrame(link_gdf, geometry = link_gdf[\"geometry\"],\n",
    "                            crs={\"init\" : \"epsg:4326\"})"
   ]
  },
  {
   "cell_type": "code",
   "execution_count": 6,
   "metadata": {},
   "outputs": [],
   "source": [
    "geom_length = link_gdf[['geometry']].copy()\n",
    "geom_length = geom_length.to_crs(epsg = 26915)\n",
    "geom_length[\"length\"] = geom_length.length\n",
    "\n",
    "link_gdf[\"length\"] = geom_length[\"length\"]"
   ]
  },
  {
   "cell_type": "code",
   "execution_count": 7,
   "metadata": {},
   "outputs": [],
   "source": [
    "node_gdf['X'] = node_gdf['geometry'].apply(lambda p: p.x)\n",
    "node_gdf['Y'] = node_gdf['geometry'].apply(lambda p: p.y)\n",
    "node_gdf['point'] = [list(xy) for xy in zip(node_gdf.X, node_gdf.Y)]\n",
    "node_dict = dict(zip(node_gdf.model_node_id, node_gdf.point))\n",
    "    \n",
    "link_gdf['A_point'] = link_gdf['A'].map(node_dict)\n",
    "link_gdf['B_point'] = link_gdf['B'].map(node_dict)\n",
    "link_gdf['locationReferences'] = link_gdf.apply(lambda x: [{'sequence':1, \n",
    "                                                             'point': x['A_point'],\n",
    "                                                             'distanceToNextRef':x['length'],\n",
    "                                                            'bearing' : 0,\n",
    "                                                             'intersectionId':x['fromIntersectionId']},\n",
    "                                                                         {'sequence':2, \n",
    "                                                             'point': x['B_point'],\n",
    "                                                             'intersectionId':x['toIntersectionId']}],\n",
    "                                                   axis = 1)"
   ]
  },
  {
   "cell_type": "code",
   "execution_count": 8,
   "metadata": {},
   "outputs": [
    {
     "data": {
      "text/plain": [
       "[{'sequence': 1,\n",
       "  'point': [-122.33155420000001, 37.9812044],\n",
       "  'distanceToNextRef': 84.64524959467963,\n",
       "  'bearing': 0,\n",
       "  'intersectionId': '505d64eb98f1da8d812a3b3801034308'},\n",
       " {'sequence': 2,\n",
       "  'point': [-122.33199630000001, 37.9818082],\n",
       "  'intersectionId': 'fb8b1bcb4bb81380f0dc83c1aa5006f4'}]"
      ]
     },
     "execution_count": 8,
     "metadata": {},
     "output_type": "execute_result"
    }
   ],
   "source": [
    "link_gdf.locationReferences.iloc[0]"
   ]
  },
  {
   "cell_type": "code",
   "execution_count": 9,
   "metadata": {},
   "outputs": [],
   "source": [
    "shape_gdf[\"shape_id\"] = range(1, 1+ len(shape_gdf))\n",
    "\n",
    "shape_id_dict = dict(zip(shape_gdf.id, shape_gdf.shape_id))\n",
    "\n",
    "link_gdf[\"shape_id\"] = link_gdf[\"id\"].map(shape_id_dict)"
   ]
  },
  {
   "cell_type": "code",
   "execution_count": 10,
   "metadata": {},
   "outputs": [
    {
     "name": "stdout",
     "output_type": "stream",
     "text": [
      "-------write out link shape geojson---------\n",
      "Wall time: 3min 30s\n"
     ]
    }
   ],
   "source": [
    "%%time\n",
    "\n",
    "print(\"-------write out link shape geojson---------\")\n",
    "\n",
    "shape_prop = ['id', 'shape_id', 'fromIntersectionId', 'toIntersectionId', 'forwardReferenceId', 'backReferenceId']\n",
    "shape_geojson = link_df_to_geojson(shape_gdf, shape_prop)\n",
    "\n",
    "with open(data_interim_dir + \"step8_standard_format/shape.geojson\", \"w\") as f:\n",
    "    json.dump(shape_geojson, f)"
   ]
  },
  {
   "cell_type": "code",
   "execution_count": 11,
   "metadata": {},
   "outputs": [
    {
     "data": {
      "text/plain": [
       "Index(['access', 'area', 'bike_access', 'bridge', 'drive_access', 'est_width',\n",
       "       'fromIntersectionId', 'highway', 'id', 'junction', 'key', 'landuse',\n",
       "       'lanes', 'link', 'maxspeed', 'name', 'oneWay', 'ref', 'roadway',\n",
       "       'roundabout', 'service', 'shstGeometryId', 'shstReferenceId',\n",
       "       'toIntersectionId', 'tunnel', 'u', 'v', 'walk_access', 'wayId', 'width',\n",
       "       'county', 'length', 'model_link_id', 'A', 'B', 'rail_traveltime',\n",
       "       'rail_only', 'geometry', 'A_point', 'B_point', 'locationReferences',\n",
       "       'shape_id'],\n",
       "      dtype='object')"
      ]
     },
     "execution_count": 11,
     "metadata": {},
     "output_type": "execute_result"
    }
   ],
   "source": [
    "link_gdf.columns"
   ]
  },
  {
   "cell_type": "code",
   "execution_count": 12,
   "metadata": {},
   "outputs": [
    {
     "name": "stdout",
     "output_type": "stream",
     "text": [
      "-------write out link json---------\n",
      "Wall time: 40.5 s\n"
     ]
    }
   ],
   "source": [
    "%%time\n",
    "\n",
    "# write out link variable json\n",
    "# link unique handle \"shstReferenceId\" + \"shstGeometryId\"\n",
    "\n",
    "print(\"-------write out link json---------\")\n",
    "\n",
    "link_prop = link_gdf.drop(['geometry', 'A_point', 'B_point', \"service\", \"roundabout\", 'est_width',\n",
    "                          'highway', 'junction', 'key', 'landuse', 'link', 'area', 'id', 'length',\n",
    "                          'width', 'bridge', 'tunnel'], \n",
    "                          axis = 1).columns.tolist()\n",
    "\n",
    "out = link_gdf[link_prop].to_json(orient = \"records\")\n",
    "\n",
    "with open(data_interim_dir + \"step8_standard_format/link.json\", 'w') as f:\n",
    "    f.write(out)"
   ]
  },
  {
   "cell_type": "code",
   "execution_count": 13,
   "metadata": {},
   "outputs": [
    {
     "name": "stdout",
     "output_type": "stream",
     "text": [
      "-------write out link feather---------\n"
     ]
    }
   ],
   "source": [
    "print(\"-------write out link feather---------\")\n",
    "\n",
    "link_feather = link_gdf.drop(['geometry', 'A_point', 'B_point', \"service\", \"roundabout\", 'est_width',\n",
    "                          'highway', 'junction', 'key', 'landuse', 'link', 'area', 'id', 'length',\n",
    "                          'width', 'bridge', 'tunnel'], \n",
    "                          axis = 1).copy()\n",
    "\n",
    "link_feather.to_feather(data_interim_dir + 'step8_standard_format/link.feather')"
   ]
  },
  {
   "cell_type": "code",
   "execution_count": 14,
   "metadata": {},
   "outputs": [
    {
     "name": "stdout",
     "output_type": "stream",
     "text": [
      "<class 'geopandas.geodataframe.GeoDataFrame'>\n",
      "Int64Index: 1634769 entries, 0 to 1634768\n",
      "Data columns (total 25 columns):\n",
      "access                1632702 non-null object\n",
      "bike_access           1634769 non-null int64\n",
      "drive_access          1634769 non-null int64\n",
      "fromIntersectionId    1632702 non-null object\n",
      "lanes                 1632702 non-null object\n",
      "maxspeed              1632702 non-null object\n",
      "name                  1632702 non-null object\n",
      "oneWay                1632702 non-null object\n",
      "ref                   1632702 non-null object\n",
      "roadway               1632702 non-null object\n",
      "shstGeometryId        1634769 non-null object\n",
      "shstReferenceId       1632702 non-null object\n",
      "toIntersectionId      1632702 non-null object\n",
      "u                     1632702 non-null float64\n",
      "v                     1632702 non-null float64\n",
      "walk_access           1634769 non-null int64\n",
      "wayId                 1632702 non-null object\n",
      "county                1634769 non-null object\n",
      "model_link_id         1634769 non-null int64\n",
      "A                     1634769 non-null int64\n",
      "B                     1634769 non-null int64\n",
      "rail_traveltime       607 non-null float64\n",
      "rail_only             1634769 non-null int64\n",
      "locationReferences    1634769 non-null object\n",
      "shape_id              1634769 non-null int64\n",
      "dtypes: float64(3), int64(8), object(14)\n",
      "memory usage: 324.3+ MB\n"
     ]
    }
   ],
   "source": [
    "link_feather.info()"
   ]
  },
  {
   "cell_type": "code",
   "execution_count": 15,
   "metadata": {},
   "outputs": [
    {
     "data": {
      "text/plain": [
       "Index(['osm_node_id', 'shst_node_id', 'county', 'drive_access', 'walk_access',\n",
       "       'bike_access', 'model_node_id', 'rail_only', 'geometry', 'X', 'Y',\n",
       "       'point'],\n",
       "      dtype='object')"
      ]
     },
     "execution_count": 15,
     "metadata": {},
     "output_type": "execute_result"
    }
   ],
   "source": [
    "node_gdf.columns"
   ]
  },
  {
   "cell_type": "code",
   "execution_count": 16,
   "metadata": {},
   "outputs": [
    {
     "name": "stdout",
     "output_type": "stream",
     "text": [
      "-------write out node geojson---------\n",
      "Wall time: 2min 40s\n"
     ]
    }
   ],
   "source": [
    "%%time\n",
    "\n",
    "print(\"-------write out node geojson---------\")\n",
    "\n",
    "node_prop = node_gdf.drop([\"geometry\", \"point\"], axis = 1).columns.tolist()\n",
    "node_geojson = point_df_to_geojson(node_gdf, node_prop)\n",
    "\n",
    "with open(data_interim_dir + \"step8_standard_format/node.geojson\", \"w\") as f:\n",
    "    json.dump(node_geojson, f)"
   ]
  },
  {
   "cell_type": "code",
   "execution_count": 17,
   "metadata": {},
   "outputs": [
    {
     "data": {
      "text/html": [
       "<div>\n",
       "<style scoped>\n",
       "    .dataframe tbody tr th:only-of-type {\n",
       "        vertical-align: middle;\n",
       "    }\n",
       "\n",
       "    .dataframe tbody tr th {\n",
       "        vertical-align: top;\n",
       "    }\n",
       "\n",
       "    .dataframe thead th {\n",
       "        text-align: right;\n",
       "    }\n",
       "</style>\n",
       "<table border=\"1\" class=\"dataframe\">\n",
       "  <thead>\n",
       "    <tr style=\"text-align: right;\">\n",
       "      <th></th>\n",
       "      <th>access</th>\n",
       "      <th>area</th>\n",
       "      <th>bike_access</th>\n",
       "      <th>bridge</th>\n",
       "      <th>drive_access</th>\n",
       "      <th>est_width</th>\n",
       "      <th>fromIntersectionId</th>\n",
       "      <th>highway</th>\n",
       "      <th>id</th>\n",
       "      <th>junction</th>\n",
       "      <th>...</th>\n",
       "      <th>model_link_id</th>\n",
       "      <th>A</th>\n",
       "      <th>B</th>\n",
       "      <th>rail_traveltime</th>\n",
       "      <th>rail_only</th>\n",
       "      <th>geometry</th>\n",
       "      <th>A_point</th>\n",
       "      <th>B_point</th>\n",
       "      <th>locationReferences</th>\n",
       "      <th>shape_id</th>\n",
       "    </tr>\n",
       "  </thead>\n",
       "  <tbody>\n",
       "    <tr>\n",
       "      <th>9248</th>\n",
       "      <td>nan</td>\n",
       "      <td>nan</td>\n",
       "      <td>1</td>\n",
       "      <td>nan</td>\n",
       "      <td>1</td>\n",
       "      <td>nan</td>\n",
       "      <td>409aedbef6c920728691b0f3e27d5e31</td>\n",
       "      <td>secondary</td>\n",
       "      <td>52ca3e033440fc92ef3536f97d83281e</td>\n",
       "      <td>nan</td>\n",
       "      <td>...</td>\n",
       "      <td>7000783</td>\n",
       "      <td>4500793</td>\n",
       "      <td>4521115</td>\n",
       "      <td>nan</td>\n",
       "      <td>0</td>\n",
       "      <td>LINESTRING (-122.7244187 38.4227762, -122.7243...</td>\n",
       "      <td>[-122.7244187, 38.4227762]</td>\n",
       "      <td>[-122.7243586, 38.4223055]</td>\n",
       "      <td>[{'sequence': 1, 'point': [-122.7244187, 38.42...</td>\n",
       "      <td>139078</td>\n",
       "    </tr>\n",
       "  </tbody>\n",
       "</table>\n",
       "<p>1 rows × 42 columns</p>\n",
       "</div>"
      ],
      "text/plain": [
       "     access area  bike_access bridge  drive_access est_width  \\\n",
       "9248    nan  nan            1    nan             1       nan   \n",
       "\n",
       "                    fromIntersectionId    highway  \\\n",
       "9248  409aedbef6c920728691b0f3e27d5e31  secondary   \n",
       "\n",
       "                                    id junction  ... model_link_id        A  \\\n",
       "9248  52ca3e033440fc92ef3536f97d83281e      nan  ...       7000783  4500793   \n",
       "\n",
       "            B rail_traveltime rail_only  \\\n",
       "9248  4521115             nan         0   \n",
       "\n",
       "                                               geometry  \\\n",
       "9248  LINESTRING (-122.7244187 38.4227762, -122.7243...   \n",
       "\n",
       "                         A_point                     B_point  \\\n",
       "9248  [-122.7244187, 38.4227762]  [-122.7243586, 38.4223055]   \n",
       "\n",
       "                                     locationReferences shape_id  \n",
       "9248  [{'sequence': 1, 'point': [-122.7244187, 38.42...   139078  \n",
       "\n",
       "[1 rows x 42 columns]"
      ]
     },
     "execution_count": 17,
     "metadata": {},
     "output_type": "execute_result"
    }
   ],
   "source": [
    "link_gdf[link_gdf.model_link_id == 7000783]"
   ]
  },
  {
   "cell_type": "code",
   "execution_count": 18,
   "metadata": {},
   "outputs": [
    {
     "name": "stdout",
     "output_type": "stream",
     "text": [
      "<class 'geopandas.geodataframe.GeoDataFrame'>\n",
      "Int64Index: 1634769 entries, 0 to 1634768\n",
      "Data columns (total 42 columns):\n",
      "access                1632702 non-null object\n",
      "area                  1632702 non-null object\n",
      "bike_access           1634769 non-null int64\n",
      "bridge                1632702 non-null object\n",
      "drive_access          1634769 non-null int64\n",
      "est_width             1632702 non-null object\n",
      "fromIntersectionId    1632702 non-null object\n",
      "highway               1632702 non-null object\n",
      "id                    1634769 non-null object\n",
      "junction              1632702 non-null object\n",
      "key                   1632702 non-null object\n",
      "landuse               1632702 non-null object\n",
      "lanes                 1632702 non-null object\n",
      "link                  1632702 non-null object\n",
      "maxspeed              1632702 non-null object\n",
      "name                  1632702 non-null object\n",
      "oneWay                1632702 non-null object\n",
      "ref                   1632702 non-null object\n",
      "roadway               1632702 non-null object\n",
      "roundabout            1632702 non-null object\n",
      "service               1632702 non-null object\n",
      "shstGeometryId        1634769 non-null object\n",
      "shstReferenceId       1632702 non-null object\n",
      "toIntersectionId      1632702 non-null object\n",
      "tunnel                1632702 non-null object\n",
      "u                     1632702 non-null float64\n",
      "v                     1632702 non-null float64\n",
      "walk_access           1634769 non-null int64\n",
      "wayId                 1632702 non-null object\n",
      "width                 1632702 non-null object\n",
      "county                1634769 non-null object\n",
      "length                1634769 non-null float64\n",
      "model_link_id         1634769 non-null int64\n",
      "A                     1634769 non-null int64\n",
      "B                     1634769 non-null int64\n",
      "rail_traveltime       607 non-null float64\n",
      "rail_only             1634769 non-null int64\n",
      "geometry              1634769 non-null object\n",
      "A_point               1634769 non-null object\n",
      "B_point               1634769 non-null object\n",
      "locationReferences    1634769 non-null object\n",
      "shape_id              1634769 non-null int64\n",
      "dtypes: float64(4), int64(8), object(30)\n",
      "memory usage: 616.3+ MB\n"
     ]
    }
   ],
   "source": [
    "link_gdf.info()"
   ]
  },
  {
   "cell_type": "code",
   "execution_count": 19,
   "metadata": {},
   "outputs": [
    {
     "data": {
      "text/plain": [
       "(869970, 7)"
      ]
     },
     "execution_count": 19,
     "metadata": {},
     "output_type": "execute_result"
    }
   ],
   "source": [
    "shape_gdf.shape"
   ]
  }
 ],
 "metadata": {
  "kernelspec": {
   "display_name": "MetC_new",
   "language": "python",
   "name": "metc_new"
  },
  "language_info": {
   "codemirror_mode": {
    "name": "ipython",
    "version": 3
   },
   "file_extension": ".py",
   "mimetype": "text/x-python",
   "name": "python",
   "nbconvert_exporter": "python",
   "pygments_lexer": "ipython3",
   "version": "3.7.3"
  }
 },
 "nbformat": 4,
 "nbformat_minor": 2
}
