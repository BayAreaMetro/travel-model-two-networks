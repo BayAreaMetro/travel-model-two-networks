{
 "cells": [
  {
   "cell_type": "code",
   "execution_count": null,
   "metadata": {},
   "outputs": [],
   "source": [
    "from pyproj import CRS\n",
    "from shapely.geometry import LineString, Point"
   ]
  },
  {
   "cell_type": "code",
   "execution_count": null,
   "metadata": {},
   "outputs": [],
   "source": [
    "import os\n",
    "import sys\n",
    "import yaml\n",
    "import pickle\n",
    "import glob\n",
    "\n",
    "import pandas as pd\n",
    "import geopandas as gpd\n",
    "import numpy as np\n",
    "\n",
    "# https://github.com/BayAreaMetro/network_wrangler/tree/generic_agency\n",
    "from network_wrangler import RoadwayNetwork\n",
    "from network_wrangler import TransitNetwork\n",
    "from network_wrangler import ProjectCard\n",
    "from network_wrangler import Scenario\n",
    "from network_wrangler import WranglerLogger\n",
    "\n",
    "# https://github.com/BayAreaMetro/Lasso/tree/mtc_parameters\n",
    "from lasso import ModelRoadwayNetwork\n",
    "from lasso import StandardTransit\n",
    "from lasso import Parameters\n",
    "from lasso import mtc"
   ]
  },
  {
   "cell_type": "code",
   "execution_count": null,
   "metadata": {},
   "outputs": [],
   "source": [
    "%load_ext autoreload\n",
    "%autoreload 2"
   ]
  },
  {
   "cell_type": "markdown",
   "metadata": {},
   "source": [
    "# I/O"
   ]
  },
  {
   "cell_type": "code",
   "execution_count": null,
   "metadata": {},
   "outputs": [],
   "source": [
    "# input directories - use Box\n",
    "TM2_REBUILD_BOX_DIR      = r\"C:\\Users\\{}\\Box\\Modeling and Surveys\\Development\\Travel Model Two Development\\Travel Model Two Network Rebuild\".format(os.getenv('USERNAME'))\n",
    "TM2_NETWORKS_DATA_DIR    = os.path.join(TM2_REBUILD_BOX_DIR,    \"travel-model-two-networks\", \"data\")\n",
    "input_data_interim_dir   = os.path.join(TM2_NETWORKS_DATA_DIR,  \"interim\")\n",
    "input_data_processed_dir = os.path.join(TM2_NETWORKS_DATA_DIR,  \"processed\")\n",
    "input_data_external_dir  = os.path.join(TM2_NETWORKS_DATA_DIR,  \"external\")\n",
    "\n",
    "# why version_03?\n",
    "input_dir               = os.path.join(input_data_processed_dir, 'version_03')\n",
    "\n",
    "# Lasso\n",
    "LASSO_DIR               = 'C:/Users/{}/Documents/GitHub/Lasso'.format(os.getenv('USERNAME'))"
   ]
  },
  {
   "cell_type": "code",
   "execution_count": null,
   "metadata": {},
   "outputs": [],
   "source": [
    "# output folders - use local, most likely\n",
    "output_data_interim_dir = r\"C:\\Users\\{}\\Documents\\scratch\\tm2_network_building\\interim\\step9_taps\"\n",
    "os.makedirs(output_data_interim_dir, exist_ok=True)"
   ]
  },
  {
   "cell_type": "code",
   "execution_count": null,
   "metadata": {},
   "outputs": [],
   "source": [
    "parameters = Parameters(lasso_base_dir = LASSO_DIR)"
   ]
  },
  {
   "cell_type": "code",
   "execution_count": null,
   "metadata": {},
   "outputs": [],
   "source": [
    "%%time\n",
    "\n",
    "# todo: What is this?\n",
    "version_00_pickle_file_name = os.path.join(input_dir, 'working_scenario_01.pickle')\n",
    "v_00_scenario = pickle.load(open(version_00_pickle_file_name, 'rb'))"
   ]
  },
  {
   "cell_type": "code",
   "execution_count": null,
   "metadata": {},
   "outputs": [],
   "source": [
    "# check data in the pickle file\n",
    "# print(v_00_scenario.road_net.nodes_df.columns)\n",
    "# print(v_00_scenario.road_net.links_df.columns)\n",
    "# print(v_00_scenario.road_net.shapes_df.columns)\n",
    "\n",
    "v_00_scenario.transit_net.feed.stops.info()\n",
    "\n",
    "print('\\n number of unique stop_id: {}'.format(v_00_scenario.transit_net.feed.stop_times.stop_id.nunique()))"
   ]
  },
  {
   "cell_type": "code",
   "execution_count": null,
   "metadata": {},
   "outputs": [],
   "source": [
    "### check stops that are not walk accessible - there should be none\n",
    "\n",
    "stops_df = v_00_scenario.transit_net.feed.stops.copy()\n",
    "stops_df[\"model_node_id\"] = stops_df[\"model_node_id\"].astype(int)\n",
    "\n",
    "stops_df = pd.merge(stops_df, \n",
    "                    v_00_scenario.road_net.nodes_df[[\"model_node_id\", \"X\", \"Y\", \"drive_access\", \"walk_access\"]], \n",
    "                    how = \"left\", \n",
    "                    on = \"model_node_id\")\n",
    "\n",
    "print(stops_df[stops_df.walk_access == 0].shape[0])\n",
    "\n",
    "print(v_00_scenario.road_net.links_df[\n",
    "    (v_00_scenario.road_net.links_df.A.isin(stops_df[stops_df.walk_access == 0].model_node_id)) |\n",
    "    (v_00_scenario.road_net.links_df.B.isin(stops_df[stops_df.walk_access == 0].model_node_id))].roadway.value_counts())"
   ]
  },
  {
   "cell_type": "markdown",
   "metadata": {},
   "source": [
    "# Explore TAP creation options (not required for creating the network)\n",
    "\n",
    "This part tries three options to create TAPs and TAP links (k-means option 1, k-means option 2, kmeans final option), and compare the results with the TAPs and TAP links of the legacy TM2 network (non-Marin version). "
   ]
  },
  {
   "cell_type": "markdown",
   "metadata": {},
   "source": [
    "### k-means option 1"
   ]
  },
  {
   "cell_type": "code",
   "execution_count": null,
   "metadata": {},
   "outputs": [],
   "source": [
    "%%time\n",
    "kmeans_loc_taps_gdf, stops_loc_taps_df = mtc.create_taps_kmeans_location_based(\n",
    "    transit_network = v_00_scenario.transit_net,\n",
    "    roadway_network = v_00_scenario.road_net,\n",
    "    parameters = parameters,\n",
    "    bus_clusters = 6000,\n",
    ")"
   ]
  },
  {
   "cell_type": "code",
   "execution_count": null,
   "metadata": {
    "scrolled": true
   },
   "outputs": [],
   "source": [
    "kmeans_loc_taps_gdf"
   ]
  },
  {
   "cell_type": "code",
   "execution_count": null,
   "metadata": {},
   "outputs": [],
   "source": [
    "stops_loc_taps_df"
   ]
  },
  {
   "cell_type": "markdown",
   "metadata": {},
   "source": [
    "### k-means option 2"
   ]
  },
  {
   "cell_type": "code",
   "execution_count": null,
   "metadata": {},
   "outputs": [],
   "source": [
    "%%time\n",
    "kmeans_fre_taps_gdf, stops_fre_taps_df = mtc.create_taps_kmeans_frequency_based(\n",
    "    transit_network = v_00_scenario.transit_net,\n",
    "    roadway_network = v_00_scenario.road_net,\n",
    "    parameters = parameters,\n",
    "    bus_clusters = 6000,\n",
    ")"
   ]
  },
  {
   "cell_type": "code",
   "execution_count": null,
   "metadata": {},
   "outputs": [],
   "source": [
    "kmeans_fre_taps_gdf"
   ]
  },
  {
   "cell_type": "code",
   "execution_count": null,
   "metadata": {},
   "outputs": [],
   "source": [
    "stops_fre_taps_df"
   ]
  },
  {
   "cell_type": "markdown",
   "metadata": {},
   "source": [
    "### kmeans final option"
   ]
  },
  {
   "cell_type": "code",
   "execution_count": null,
   "metadata": {},
   "outputs": [],
   "source": [
    "%%time\n",
    "kmeans_taps_gdf, stops_taps_df = mtc.create_taps_kmeans(\n",
    "    transit_network = v_00_scenario.transit_net,\n",
    "    roadway_network = v_00_scenario.road_net,\n",
    "    parameters = parameters,\n",
    "    clusters = 6000,\n",
    ")"
   ]
  },
  {
   "cell_type": "code",
   "execution_count": null,
   "metadata": {},
   "outputs": [],
   "source": [
    "kmeans_taps_gdf"
   ]
  },
  {
   "cell_type": "code",
   "execution_count": null,
   "metadata": {},
   "outputs": [],
   "source": [
    "stops_taps_df"
   ]
  },
  {
   "cell_type": "markdown",
   "metadata": {},
   "source": [
    "### TM2 legacy network taps and tap links"
   ]
  },
  {
   "cell_type": "code",
   "execution_count": null,
   "metadata": {},
   "outputs": [],
   "source": [
    "# read legacy TM2 network nodes nonMarin version\n",
    "existing_network_node_gdf = gpd.read_file(os.path.join(input_data_external_dir,\"TM2_nonMarin\",\"tm2_nodes.shp\"))\n",
    "\n",
    "existing_network_node_gdf.crs = CRS(\"ESRI:102646\")\n",
    "existing_network_node_gdf = existing_network_node_gdf.to_crs(CRS(\"EPSG:4326\"))"
   ]
  },
  {
   "cell_type": "code",
   "execution_count": null,
   "metadata": {
    "scrolled": true
   },
   "outputs": [],
   "source": [
    "# get TAPS from the legacy network\n",
    "\n",
    "TAP_N_list = list(range(90001, 99999)) + list(range(190001, 199999)) + list(range(290001, 299999))\\\n",
    "+ list(range(390001, 399999))\\\n",
    "+ list(range(490001, 499999)) + list(range(590001, 599999)) + list(range(690001, 699999)) + list(range(790001, 799999))\\\n",
    "+ list(range(890001, 899999))\n",
    "\n",
    "existing_network_node_gdf[\"X\"] = existing_network_node_gdf[\"geometry\"].apply(lambda g: g.x)\n",
    "existing_network_node_gdf[\"Y\"] = existing_network_node_gdf[\"geometry\"].apply(lambda g: g.y)\n",
    "\n",
    "existing_taps_gdf = existing_network_node_gdf[existing_network_node_gdf.N.isin(TAP_N_list)].copy()\n",
    "\n",
    "existing_taps_gdf.rename(columns = {\"N\" : \"tap_id_tm2\"}, inplace = True)\n",
    "\n",
    "existing_taps_gdf[[\"tap_id_tm2\", \"X\", \"Y\", \"geometry\"]]"
   ]
  },
  {
   "cell_type": "code",
   "execution_count": null,
   "metadata": {},
   "outputs": [],
   "source": [
    "%%time\n",
    "# read legacy TM2 network links nonMarin version\n",
    "existing_network_link_gdf = gpd.read_file(os.path.join(input_data_external_dir,\"TM2_nonMarin\",\"tm2_links.shp\"))\n",
    "\n",
    "existing_network_link_gdf.crs = CRS(\"ESRI:102646\")\n",
    "existing_network_link_gdf = existing_network_link_gdf.to_crs(CRS(\"EPSG:4326\"))"
   ]
  },
  {
   "cell_type": "code",
   "execution_count": null,
   "metadata": {},
   "outputs": [],
   "source": [
    "# existing_network_link_gdf.ASSIGNABLE.value_counts()"
   ]
  },
  {
   "cell_type": "code",
   "execution_count": null,
   "metadata": {},
   "outputs": [],
   "source": [
    "# existing_network_link_gdf.DELETE.value_counts()"
   ]
  },
  {
   "cell_type": "code",
   "execution_count": null,
   "metadata": {
    "scrolled": true
   },
   "outputs": [],
   "source": [
    "# pd.crosstab([existing_network_link_gdf.CNTYPE, existing_network_link_gdf.FT, existing_network_link_gdf.ASSIGNABLE], \n",
    "#             existing_network_link_gdf.DELETE)"
   ]
  },
  {
   "cell_type": "code",
   "execution_count": null,
   "metadata": {},
   "outputs": [],
   "source": [
    "# pd.crosstab(existing_network_link_gdf.ASSIGNABLE, existing_network_link_gdf.DELETE)"
   ]
  },
  {
   "cell_type": "code",
   "execution_count": null,
   "metadata": {},
   "outputs": [],
   "source": [
    "# get TAP links from the legacy network\n",
    "\n",
    "existing_taps_links_gdf = existing_network_link_gdf[existing_network_link_gdf.CNTYPE == \"TAP\"].copy()\n",
    "\n",
    "# calculate link length, which represents distance to TAPs\n",
    "geom_length = existing_taps_links_gdf[['geometry']].copy()\n",
    "geom_length = geom_length.to_crs(epsg = 26915)\n",
    "geom_length[\"length\"] = geom_length.length\n",
    "\n",
    "existing_taps_links_gdf[\"distance_to_tap\"] = geom_length[\"length\"]\n",
    "\n",
    "print('max distance to tap: {} meters, or {} miles'.format(\n",
    "    existing_taps_links_gdf[\"distance_to_tap\"].max(),\n",
    "    existing_taps_links_gdf[\"distance_to_tap\"].max() * 0.000621371))"
   ]
  },
  {
   "cell_type": "code",
   "execution_count": null,
   "metadata": {
    "scrolled": true
   },
   "outputs": [],
   "source": [
    "# tag tap_id and stop_id of TAP links\n",
    "\n",
    "existing_taps_links_gdf[\"tap_id_tm2\"] = np.where(existing_taps_links_gdf.A.isin(TAP_N_list), \n",
    "                                                 existing_taps_links_gdf.A, \n",
    "                                                 existing_taps_links_gdf.B)\n",
    "existing_taps_links_gdf[\"stop_id\"] = np.where(existing_taps_links_gdf.A.isin(TAP_N_list), \n",
    "                                              existing_taps_links_gdf.B, \n",
    "                                              existing_taps_links_gdf.A)\n",
    "\n",
    "existing_taps_links_gdf = existing_taps_links_gdf.drop_duplicates(subset = [\"tap_id_tm2\", \"stop_id\"])"
   ]
  },
  {
   "cell_type": "code",
   "execution_count": null,
   "metadata": {},
   "outputs": [],
   "source": [
    "# add other node attributes for the \"stop\" end of the TAP links\n",
    "existing_taps_links_gdf = pd.merge(existing_taps_links_gdf,\n",
    "                                   existing_network_node_gdf[[\"N\", \"X\", \"Y\"]].rename(columns = {\"N\" : \"stop_id\"}),\n",
    "                                   how = \"left\",\n",
    "                                   on = \"stop_id\")"
   ]
  },
  {
   "cell_type": "code",
   "execution_count": null,
   "metadata": {},
   "outputs": [],
   "source": [
    "# add link type and stop_source (for later comparison)\n",
    "existing_taps_links_gdf[\"type\"] = \"stops\"\n",
    "existing_taps_links_gdf[\"stop_source\"] = \"tm2\""
   ]
  },
  {
   "cell_type": "code",
   "execution_count": null,
   "metadata": {
    "scrolled": true
   },
   "outputs": [],
   "source": [
    "existing_taps_links_gdf[[\"tap_id_tm2\", \"stop_id\", \"X\", \"Y\", \"geometry\", \"distance_to_tap\",\"type\", \"stop_source\"]]"
   ]
  },
  {
   "cell_type": "markdown",
   "metadata": {},
   "source": [
    "### assemble data"
   ]
  },
  {
   "cell_type": "code",
   "execution_count": null,
   "metadata": {},
   "outputs": [],
   "source": [
    "# merge tap links (stop-tap mapping) of 3 k-mean calculations with stops_df from the working_scenario\n",
    "\n",
    "consolidate_stops_taps_df = pd.merge(\n",
    "    stops_df, \n",
    "    stops_loc_taps_df[[\"stop_id\", \"tap_id\"]].rename(\n",
    "        columns = {\"tap_id\" : \"tap_id_location_based\"}),     # k-mean option 1\n",
    "    how = \"left\",\n",
    "    on = \"stop_id\"\n",
    ")\n",
    "\n",
    "consolidate_stops_taps_df = pd.merge(\n",
    "    consolidate_stops_taps_df, \n",
    "    stops_fre_taps_df[[\"stop_id\", \"num_trip\", \"tap_id\"]].rename(\n",
    "        columns = {\"tap_id\" : \"tap_id_frequency_based\"}),    # k-mean option 2\n",
    "    how = \"left\",\n",
    "    on = \"stop_id\"\n",
    ")\n",
    "\n",
    "consolidate_stops_taps_df = pd.merge(\n",
    "    consolidate_stops_taps_df, \n",
    "    stops_taps_df[[\"stop_id\", \"tap_id\"]].rename(\n",
    "        columns = {\"tap_id\" : \"tap_id_kmeans\"}),            # kmeans final option\n",
    "    how = \"left\",\n",
    "    on = \"stop_id\"\n",
    ")\n",
    "\n",
    "consolidate_stops_taps_df[\"type\"] = \"stops\"\n",
    "consolidate_stops_taps_df[\"stop_source\"] = \"new\""
   ]
  },
  {
   "cell_type": "code",
   "execution_count": null,
   "metadata": {
    "scrolled": true
   },
   "outputs": [],
   "source": [
    "consolidate_stops_taps_df"
   ]
  },
  {
   "cell_type": "code",
   "execution_count": null,
   "metadata": {},
   "outputs": [],
   "source": [
    "consolidate_stops_taps_df.columns"
   ]
  },
  {
   "cell_type": "code",
   "execution_count": null,
   "metadata": {},
   "outputs": [],
   "source": [
    "# merge taps of 3 k-mean calculations with existing taps in the legacy TM2 network\n",
    "\n",
    "kmeans_loc_taps_gdf[\"tap_source\"] = \"kmeans_location_based\"\n",
    "kmeans_loc_taps_gdf.rename(columns = {\"tap_id\" :\"tap_id_location_based\"}, inplace = True)\n",
    "\n",
    "kmeans_fre_taps_gdf[\"tap_source\"] = \"kmeans_frequency_based\"\n",
    "kmeans_fre_taps_gdf.rename(columns = {\"tap_id\" :\"tap_id_frequency_based\"}, inplace = True)\n",
    "\n",
    "kmeans_taps_gdf[\"tap_source\"] = \"kmeans\"\n",
    "kmeans_taps_gdf.rename(columns = {\"tap_id\" :\"tap_id_kmeans\"}, inplace = True)\n",
    "\n",
    "existing_taps_gdf[\"tap_source\"] = \"tm2\"\n",
    "\n",
    "\n",
    "taps_df = pd.concat([kmeans_loc_taps_gdf,\n",
    "                     kmeans_fre_taps_gdf,\n",
    "                     existing_taps_gdf[[\"tap_id_tm2\", \"X\", \"Y\", \"geometry\", \"tap_source\"]],\n",
    "                     kmeans_taps_gdf],\n",
    "                   sort = False,\n",
    "                   ignore_index = True)\n",
    "\n",
    "taps_df[\"type\"] = \"taps\""
   ]
  },
  {
   "cell_type": "code",
   "execution_count": null,
   "metadata": {},
   "outputs": [],
   "source": [
    "# combine consolidated taps attributes with consolidated tap links\n",
    "# the resulting dataframe has both stops (with attributes of the corresponding tap links) and taps (with only tap attributes)\n",
    "out_df = pd.concat(\n",
    "    [consolidate_stops_taps_df[[\"X\", \"Y\", \"stop_id\", \"stop_name\", \"num_trip\",\n",
    "                    \"tap_id_location_based\", \"tap_id_frequency_based\", 'tap_id_kmeans',\"type\", \"stop_source\"]],\n",
    "    taps_df[[\"tap_id_location_based\", \"tap_id_frequency_based\", 'tap_id_kmeans', \"tap_id_tm2\", \"X\", \"Y\", \"tap_source\", \"type\"]]],\n",
    "    sort = False,\n",
    "    ignore_index = True\n",
    ")"
   ]
  },
  {
   "cell_type": "code",
   "execution_count": null,
   "metadata": {},
   "outputs": [],
   "source": [
    "# some stats:\n",
    "print(out_df['type'].value_counts())\n",
    "\n",
    "display(out_df.groupby(['type', 'tap_source'])['X'].count().reset_index())\n",
    "\n",
    "print(out_df.num_trip.max())\n",
    "\n",
    "print(out_df.columns)"
   ]
  },
  {
   "cell_type": "code",
   "execution_count": null,
   "metadata": {},
   "outputs": [],
   "source": [
    "# add tap link distance - based on the length of the lingstring, not distance along the network \n",
    "\n",
    "out_df = pd.merge(out_df, \n",
    "                  kmeans_taps_gdf[[\"tap_id_kmeans\", \"X\", \"Y\"]].rename(columns = {\"X\" : \"tap_X\", \"Y\" : \"tap_Y\"}),\n",
    "                  how = 'left',\n",
    "                  on = [\"tap_id_kmeans\"])\n",
    "\n",
    "out_df[\"geometry\"] = out_df.apply(lambda x: LineString([Point(x.X, x.Y), Point(x.tap_X, x.tap_Y)]), axis = 1)\n",
    "\n",
    "out_df = gpd.GeoDataFrame(out_df, geometry = out_df[\"geometry\"], crs = CRS(\"EPSG:4326\"))\n",
    "\n",
    "geom_length = out_df[['geometry']].copy()\n",
    "geom_length = geom_length.to_crs(epsg = 26915)\n",
    "geom_length[\"length\"] = geom_length.length\n",
    "\n",
    "out_df[\"distance_to_tap\"] = geom_length[\"length\"]\n",
    "out_df[\"distance_to_tap\"] = np.where(out_df[\"type\"] == \"stops\", \n",
    "                                     out_df[\"distance_to_tap\"], \n",
    "                                     99999)\n",
    "\n",
    "out_df.drop([\"tap_X\", \"tap_Y\", \"geometry\"], axis = 1, inplace = True)"
   ]
  },
  {
   "cell_type": "code",
   "execution_count": null,
   "metadata": {},
   "outputs": [],
   "source": [
    "# append tm2 tap distance\n",
    "\n",
    "out_df = pd.concat([out_df, \n",
    "                    existing_taps_links_gdf[[\"tap_id_tm2\", \"stop_id\", \"X\", \"Y\", \"distance_to_tap\", \"type\", \"stop_source\"]]],\n",
    "                  sort = False,\n",
    "                  ignore_index = True)"
   ]
  },
  {
   "cell_type": "code",
   "execution_count": null,
   "metadata": {
    "scrolled": true
   },
   "outputs": [],
   "source": [
    "out_df.info()\n",
    "\n",
    "display(out_df)"
   ]
  },
  {
   "cell_type": "code",
   "execution_count": null,
   "metadata": {},
   "outputs": [],
   "source": [
    "%%time\n",
    "# add county\n",
    "\n",
    "county_file = os.path.join(os.path.join(input_data_external_dir,\"county_boundaries\",\"cb_2018_us_county_500k\",\n",
    "                                        \"cb_2018_us_county_500k.shp\"))\n",
    "county_gdf = gpd.read_file(county_file)\n",
    "county_gdf = county_gdf.to_crs(\"EPSG:4326\")\n",
    "\n",
    "out_df[\"geometry\"] = out_df.apply(lambda x: Point(x.X, x.Y), axis = 1)\n",
    "out_df = gpd.GeoDataFrame(out_df, geometry = out_df[\"geometry\"], crs = CRS(\"EPSG:4326\"))\n",
    "\n",
    "out_df = gpd.sjoin(out_df, county_gdf[[\"NAME\", \"geometry\"]], how = \"left\", op = \"intersects\")"
   ]
  },
  {
   "cell_type": "code",
   "execution_count": null,
   "metadata": {},
   "outputs": [],
   "source": [
    "out_df.NAME.value_counts()"
   ]
  },
  {
   "cell_type": "code",
   "execution_count": null,
   "metadata": {},
   "outputs": [],
   "source": [
    "# export for analysis\n",
    "out_df.to_csv(os.path.join(output_data_interim_dir,\"stops_and_taps.csv\"), index = False)"
   ]
  },
  {
   "cell_type": "markdown",
   "metadata": {},
   "source": [
    "# Use the chosen method to create TAPs and write out "
   ]
  },
  {
   "cell_type": "code",
   "execution_count": null,
   "metadata": {},
   "outputs": [],
   "source": [
    "%%time\n",
    "tap_nodes_gdf, tap_links_gdf, tap_shapes_gdf = mtc.create_tap_nodes_and_links(\n",
    "transit_network = v_00_scenario.transit_net,\n",
    "    roadway_network = v_00_scenario.road_net,\n",
    "    parameters = parameters,\n",
    "    num_taps = 6000,\n",
    ")"
   ]
  },
  {
   "cell_type": "code",
   "execution_count": null,
   "metadata": {},
   "outputs": [],
   "source": [
    "print(\"-------write out pickle---------\")\n",
    "\n",
    "tap_links_gdf.to_pickle( os.path.join(output_data_interim_dir, \"tap_link.pickle\"))\n",
    "tap_shapes_gdf.to_pickle(os.path.join(output_data_interim_dir, \"tap_shape.pickle\"))\n",
    "tap_nodes_gdf.to_pickle( os.path.join(output_data_interim_dir, \"tap_node.pickle\"))"
   ]
  },
  {
   "cell_type": "markdown",
   "metadata": {},
   "source": [
    "# TAP file"
   ]
  },
  {
   "cell_type": "code",
   "execution_count": null,
   "metadata": {},
   "outputs": [],
   "source": [
    "tap_node_gdf = pd.read_pickle(os.path.join(output_data_interim_dir, \"tap_node.pickle\"))"
   ]
  },
  {
   "cell_type": "code",
   "execution_count": null,
   "metadata": {},
   "outputs": [],
   "source": [
    "tap_shape_gdf = pd.read_pickle(os.path.join(output_data_interim_dir, \"tap_shape.pickle\"))"
   ]
  },
  {
   "cell_type": "code",
   "execution_count": null,
   "metadata": {},
   "outputs": [],
   "source": [
    "mode_crosswalk = pd.read_csv(parameters.mode_crosswalk_file)\n",
    "display(mode_crosswalk.head())\n",
    "mode_crosswalk.drop_duplicates(subset = [\"agency_raw_name\", \"route_type\", \"is_express_bus\"], inplace = True)"
   ]
  },
  {
   "cell_type": "code",
   "execution_count": null,
   "metadata": {},
   "outputs": [],
   "source": [
    "v_00_scenario.transit_net.feed.routes.info()"
   ]
  },
  {
   "cell_type": "code",
   "execution_count": null,
   "metadata": {},
   "outputs": [],
   "source": [
    "trip_df = v_00_scenario.transit_net.feed.trips.copy()\n",
    "\n",
    "trip_df = pd.merge(trip_df, v_00_scenario.transit_net.feed.routes.drop(\"agency_raw_name\", axis = 1), how=\"left\", on=\"route_id\")\n",
    "\n",
    "trip_df = pd.merge(trip_df, v_00_scenario.transit_net.feed.agency[[\"agency_name\", \"agency_raw_name\", \"agency_id\"]], \n",
    "                   how = \"left\", on = [\"agency_raw_name\", \"agency_id\"])\n",
    "\n",
    "# identify express bus\n",
    "trip_df[\"is_express_bus\"] = trip_df.apply(lambda x: mtc._is_express_bus(x), axis = 1)\n",
    "trip_df.drop(\"agency_name\", axis = 1 , inplace = True)\n",
    "\n",
    "trip_df = pd.merge(\n",
    "        trip_df,\n",
    "        mode_crosswalk.drop(\"agency_id\", axis = 1),\n",
    "        how = \"left\",\n",
    "        on = [\"agency_raw_name\", \"route_type\", \"is_express_bus\"]\n",
    "    )"
   ]
  },
  {
   "cell_type": "code",
   "execution_count": null,
   "metadata": {},
   "outputs": [],
   "source": [
    "stop_times_df = v_00_scenario.transit_net.feed.stop_times.copy()\n",
    "\n",
    "stops_df = stop_times_df.groupby([\"stop_id\", \"trip_id\"])[\"stop_sequence\"].count().reset_index().drop(\"stop_sequence\", axis = 1)"
   ]
  },
  {
   "cell_type": "code",
   "execution_count": null,
   "metadata": {},
   "outputs": [],
   "source": [
    "stops_df = pd.merge(stops_df, trip_df[[\"trip_id\", \"TM2_line_haul_name\"]], how = \"left\", on = [\"trip_id\"])"
   ]
  },
  {
   "cell_type": "code",
   "execution_count": null,
   "metadata": {},
   "outputs": [],
   "source": [
    "stops_df = pd.merge(stops_df,\n",
    "                    v_00_scenario.transit_net.feed.stops[[\"stop_id\", \"model_node_id\"]],\n",
    "                   how = \"left\",\n",
    "                   on = \"stop_id\")"
   ]
  },
  {
   "cell_type": "code",
   "execution_count": null,
   "metadata": {},
   "outputs": [],
   "source": [
    "stops_df.info()"
   ]
  },
  {
   "cell_type": "code",
   "execution_count": null,
   "metadata": {},
   "outputs": [],
   "source": [
    "stops_df[\"model_node_id\"] = stops_df[\"model_node_id\"].astype(int)"
   ]
  },
  {
   "cell_type": "code",
   "execution_count": null,
   "metadata": {},
   "outputs": [],
   "source": [
    "tap_df = pd.merge(tap_node_gdf, \n",
    "                  tap_shape_gdf[[\"tap_id\", \"model_node_id\"]].rename(columns = {\"model_node_id\" : \"stop_model_node_id\"}), \n",
    "                  how = \"left\", on = \"tap_id\")\n",
    "\n",
    "tap_df = pd.merge(tap_df,\n",
    "                  stops_df[[\"model_node_id\", \"TM2_line_haul_name\"]].rename(columns = {\"model_node_id\" : \"stop_model_node_id\"}),\n",
    "                  how = \"left\",\n",
    "                  on = \"stop_model_node_id\")"
   ]
  },
  {
   "cell_type": "code",
   "execution_count": null,
   "metadata": {},
   "outputs": [],
   "source": [
    "tap_df.info()"
   ]
  },
  {
   "cell_type": "code",
   "execution_count": null,
   "metadata": {},
   "outputs": [],
   "source": [
    "tap_df.TM2_line_haul_name.unique()"
   ]
  },
  {
   "cell_type": "code",
   "execution_count": null,
   "metadata": {},
   "outputs": [],
   "source": [
    "line_haul_name_dict = {'Local bus' : 1, 'Express bus' : 2, 'Commuter rail' : 6, 'Light rail' : 4,\n",
    "       'Heavy rail' : 5, 'Ferry service' : 3}\n",
    "\n",
    "tap_df[\"mode\"] = tap_df[\"TM2_line_haul_name\"].map(line_haul_name_dict)\n",
    "\n",
    "out_df = tap_df.groupby([\"tap_id\", \"county\", \"model_node_id\", \"X\", \"Y\"])[\"mode\"].apply(lambda x: list(set(x))).reset_index()\n",
    "\n",
    "out_df = out_df.sort_values(by = \"model_node_id\")\n",
    "\n",
    "out_df['county'] = out_df['county'].map(parameters.county_code_dict)\n",
    "\n",
    "out_df.rename(columns = {\"tap_id\" : \"OBJECTID\", \"model_node_id\" : \"N\", \"X\" : \"long\", \"Y\" : \"lat\"},inplace = True)\n",
    "\n",
    "out_df[\"mode\"] = out_df[\"mode\"].apply(lambda x: \",\".join(map(str, x)))"
   ]
  },
  {
   "cell_type": "code",
   "execution_count": null,
   "metadata": {},
   "outputs": [],
   "source": [
    "out_df.to_csv(os.path.join(output_data_interim_dir, \"tap_node.csv\"), index = False)"
   ]
  }
 ],
 "metadata": {
  "kernelspec": {
   "display_name": "Python 3",
   "language": "python",
   "name": "python3"
  },
  "language_info": {
   "codemirror_mode": {
    "name": "ipython",
    "version": 3
   },
   "file_extension": ".py",
   "mimetype": "text/x-python",
   "name": "python",
   "nbconvert_exporter": "python",
   "pygments_lexer": "ipython3",
   "version": "3.7.9"
  }
 },
 "nbformat": 4,
 "nbformat_minor": 4
}
