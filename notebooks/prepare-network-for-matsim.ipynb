{
 "cells": [
  {
   "cell_type": "markdown",
   "metadata": {},
   "source": [
    "# start point for MATSim work"
   ]
  },
  {
   "cell_type": "code",
   "execution_count": 1,
   "metadata": {},
   "outputs": [],
   "source": [
    "import os\n",
    "import sys\n",
    "import yaml\n",
    "import pickle\n",
    "import glob\n",
    "import copy\n",
    "\n",
    "import pandas as pd\n",
    "\n",
    "from network_wrangler import RoadwayNetwork\n",
    "from network_wrangler import TransitNetwork\n",
    "from network_wrangler import ProjectCard\n",
    "from network_wrangler import Scenario\n",
    "from network_wrangler import WranglerLogger\n",
    "\n",
    "from lasso import ModelRoadwayNetwork\n",
    "from lasso import StandardTransit\n",
    "from lasso import Parameters\n",
    "from lasso import mtc"
   ]
  },
  {
   "cell_type": "code",
   "execution_count": 2,
   "metadata": {},
   "outputs": [],
   "source": [
    "%load_ext autoreload\n",
    "%autoreload 2"
   ]
  },
  {
   "cell_type": "code",
   "execution_count": 3,
   "metadata": {},
   "outputs": [],
   "source": [
    "import logging\n",
    "logger = logging.getLogger(\"WranglerLogger\")\n",
    "logger.handlers[0].stream = sys.stdout\n",
    "logger.setLevel(logging.INFO)"
   ]
  },
  {
   "cell_type": "markdown",
   "metadata": {},
   "source": [
    "## Remote I/O and Parameters"
   ]
  },
  {
   "cell_type": "code",
   "execution_count": 4,
   "metadata": {},
   "outputs": [],
   "source": [
    "# root_dir = os.path.join('/Users', 'wsp', 'Documents', 'GitHub', 'travel-model-two-networks')\n",
    "root_dir = \"D:/github/lfs-cleaning/travel-model-two-networks\"\n",
    "input_dir = os.path.join(root_dir, 'data', 'processed', 'version_05')\n",
    "output_dir = input_dir\n",
    "card_dir = os.path.join(root_dir, 'project_cards')\n",
    "# lasso_dir = os.path.join('/Users', 'wsp', 'Documents', 'GitHub', 'mtc-Lasso')\n",
    "lasso_dir = \"Z:/Data/Users/Sijia/MTC/github/Lasso\""
   ]
  },
  {
   "cell_type": "code",
   "execution_count": 5,
   "metadata": {},
   "outputs": [
    {
     "name": "stdout",
     "output_type": "stream",
     "text": [
      "2021-03-03 11:16:55, INFO: Lasso base directory set as: Z:/Data/Users/Sijia/MTC/github/Lasso\n",
      "2021-03-03 11:16:55, INFO: Lasso base directory set as: Z:/Data/Users/Sijia/MTC/github/Lasso\n",
      "2021-03-03 11:16:55, INFO: Lasso base directory set as: Z:/Data/Users/Sijia/MTC/github/Lasso\n",
      "2021-03-03 11:16:55, INFO: Lasso base directory set as: Z:/Data/Users/Sijia/MTC/github/Lasso\n"
     ]
    }
   ],
   "source": [
    "parameters = Parameters(lasso_base_dir = lasso_dir)"
   ]
  },
  {
   "cell_type": "markdown",
   "metadata": {},
   "source": [
    "## Read Version 06 Scenario"
   ]
  },
  {
   "cell_type": "code",
   "execution_count": 6,
   "metadata": {},
   "outputs": [],
   "source": [
    "version_06_pickle_file_name = os.path.join(input_dir, 'working_scenario_06.pickle')\n",
    "v_06_scenario = pickle.load(open(version_06_pickle_file_name, 'rb'))"
   ]
  },
  {
   "cell_type": "code",
   "execution_count": 7,
   "metadata": {},
   "outputs": [
    {
     "name": "stdout",
     "output_type": "stream",
     "text": [
      "(2190435, 44)\n",
      "(688957, 12)\n",
      "(1147816, 7)\n"
     ]
    }
   ],
   "source": [
    "print(v_06_scenario.road_net.links_df.shape)\n",
    "print(v_06_scenario.road_net.nodes_df.shape)\n",
    "print(v_06_scenario.road_net.shapes_df.shape)"
   ]
  },
  {
   "cell_type": "markdown",
   "metadata": {},
   "source": [
    "## Remove centroid and centroid connectors from standard network\n",
    "they were added to standard network via notebook 05 before applying external station project cards"
   ]
  },
  {
   "cell_type": "code",
   "execution_count": 8,
   "metadata": {},
   "outputs": [],
   "source": [
    "v_06_scenario.road_net.links_df = v_06_scenario.road_net.links_df[\n",
    "    ~(v_06_scenario.road_net.links_df.roadway.isin([\"taz\", \"maz\"]))\n",
    "]\n",
    "\n",
    "v_06_scenario.road_net.nodes_df = v_06_scenario.road_net.nodes_df[\n",
    "    ~(v_06_scenario.road_net.nodes_df.model_node_id.isin(parameters.taz_N_list + parameters.maz_N_list))\n",
    "]\n",
    "\n",
    "v_06_scenario.road_net.shapes_df = v_06_scenario.road_net.shapes_df[\n",
    "    (v_06_scenario.road_net.shapes_df.id.isin(v_06_scenario.road_net.links_df[\"id\"]))\n",
    "]"
   ]
  },
  {
   "cell_type": "code",
   "execution_count": 9,
   "metadata": {},
   "outputs": [
    {
     "name": "stdout",
     "output_type": "stream",
     "text": [
      "(1634769, 44)\n",
      "(644475, 12)\n",
      "(869970, 7)\n"
     ]
    }
   ],
   "source": [
    "print(v_06_scenario.road_net.links_df.shape)\n",
    "print(v_06_scenario.road_net.nodes_df.shape)\n",
    "print(v_06_scenario.road_net.shapes_df.shape)"
   ]
  },
  {
   "cell_type": "markdown",
   "metadata": {},
   "source": [
    "## Make Travel Model Networks"
   ]
  },
  {
   "cell_type": "code",
   "execution_count": 15,
   "metadata": {
    "scrolled": true
   },
   "outputs": [
    {
     "name": "stdout",
     "output_type": "stream",
     "text": [
      "2021-03-03 11:36:06, INFO: Lasso base directory set as: Z:/Data/Users/Sijia/MTC/github/Lasso\n",
      "2021-03-03 11:36:06, INFO: Lasso base directory set as: Z:/Data/Users/Sijia/MTC/github/Lasso\n",
      "2021-03-03 11:36:06, INFO: Lasso base directory set as: Z:/Data/Users/Sijia/MTC/github/Lasso\n",
      "2021-03-03 11:36:06, INFO: Lasso base directory set as: Z:/Data/Users/Sijia/MTC/github/Lasso\n"
     ]
    }
   ],
   "source": [
    "model_net = ModelRoadwayNetwork.from_RoadwayNetwork(\n",
    "    roadway_network_object = v_06_scenario.road_net, \n",
    "    parameters = parameters)"
   ]
  },
  {
   "cell_type": "code",
   "execution_count": 16,
   "metadata": {},
   "outputs": [
    {
     "name": "stdout",
     "output_type": "stream",
     "text": [
      "(1634769, 44)\n",
      "(644475, 12)\n",
      "(869970, 7)\n"
     ]
    }
   ],
   "source": [
    "print(model_net.links_df.shape)\n",
    "print(model_net.nodes_df.shape)\n",
    "print(model_net.shapes_df.shape)"
   ]
  },
  {
   "cell_type": "markdown",
   "metadata": {},
   "source": [
    "#probably not needed for MATSim\n",
    "model_net = mtc.add_tap_and_tap_connector(\n",
    "    roadway_network = model_net,\n",
    "    parameters = parameters)"
   ]
  },
  {
   "cell_type": "markdown",
   "metadata": {},
   "source": [
    "print(model_net.links_df.shape)\n",
    "print(model_net.nodes_df.shape)\n",
    "print(model_net.shapes_df.shape)"
   ]
  },
  {
   "cell_type": "code",
   "execution_count": 17,
   "metadata": {},
   "outputs": [
    {
     "data": {
      "text/plain": [
       "1634769"
      ]
     },
     "execution_count": 17,
     "metadata": {},
     "output_type": "execute_result"
    }
   ],
   "source": [
    "model_net.links_df.model_link_id.nunique()"
   ]
  },
  {
   "cell_type": "code",
   "execution_count": 18,
   "metadata": {},
   "outputs": [
    {
     "data": {
      "text/plain": [
       "644475"
      ]
     },
     "execution_count": 18,
     "metadata": {},
     "output_type": "execute_result"
    }
   ],
   "source": [
    "model_net.nodes_df.model_node_id.nunique()"
   ]
  },
  {
   "cell_type": "code",
   "execution_count": 19,
   "metadata": {},
   "outputs": [
    {
     "data": {
      "text/plain": [
       "869970"
      ]
     },
     "execution_count": 19,
     "metadata": {},
     "output_type": "execute_result"
    }
   ],
   "source": [
    "model_net.shapes_df.id.nunique()"
   ]
  },
  {
   "cell_type": "code",
   "execution_count": 23,
   "metadata": {
    "scrolled": false
   },
   "outputs": [
    {
     "name": "stdout",
     "output_type": "stream",
     "text": [
      "2021-03-03 12:13:35, INFO: Renaming roadway attributes to be consistent with what mtc's model is expecting\n",
      "2021-03-03 12:13:35, INFO: Renaming roadway attributes to be consistent with what mtc's model is expecting\n",
      "2021-03-03 12:13:35, INFO: Creating managed lane network.\n",
      "2021-03-03 12:13:35, INFO: Creating managed lane network.\n",
      "2021-03-03 12:13:35, INFO: Creating network with duplicated managed lanes\n",
      "2021-03-03 12:13:35, INFO: Creating network with duplicated managed lanes\n",
      "2021-03-03 12:13:35, ERROR: managed lane access links already exist in network; shouldn't be running create managed lane network. Returning network as-is.\n",
      "2021-03-03 12:13:35, ERROR: managed lane access links already exist in network; shouldn't be running create managed lane network. Returning network as-is.\n",
      "2021-03-03 12:13:36, INFO: Determining cntype\n",
      "2021-03-03 12:13:36, INFO: Determining cntype\n",
      "2021-03-03 12:13:36, INFO: Lasso base directory set as: Z:/Data/Users/Sijia/MTC/github/Lasso\n",
      "2021-03-03 12:13:36, INFO: Lasso base directory set as: Z:/Data/Users/Sijia/MTC/github/Lasso\n",
      "2021-03-03 12:13:36, INFO: Lasso base directory set as: Z:/Data/Users/Sijia/MTC/github/Lasso\n",
      "2021-03-03 12:13:36, INFO: Lasso base directory set as: Z:/Data/Users/Sijia/MTC/github/Lasso\n",
      "2021-03-03 12:13:36, INFO: Variable 'cntype' already in network. Returning without overwriting.\n",
      "2021-03-03 12:13:36, INFO: Variable 'cntype' already in network. Returning without overwriting.\n",
      "2021-03-03 12:13:36, INFO: Determining transit\n",
      "2021-03-03 12:13:36, INFO: Determining transit\n",
      "2021-03-03 12:13:36, INFO: Lasso base directory set as: Z:/Data/Users/Sijia/MTC/github/Lasso\n",
      "2021-03-03 12:13:36, INFO: Lasso base directory set as: Z:/Data/Users/Sijia/MTC/github/Lasso\n",
      "2021-03-03 12:13:36, INFO: Lasso base directory set as: Z:/Data/Users/Sijia/MTC/github/Lasso\n",
      "2021-03-03 12:13:36, INFO: Lasso base directory set as: Z:/Data/Users/Sijia/MTC/github/Lasso\n",
      "2021-03-03 12:13:36, INFO: Variable 'transit' updated for some links. Returning without overwriting for those links. Calculating for other links\n",
      "2021-03-03 12:13:36, INFO: Variable 'transit' updated for some links. Returning without overwriting for those links. Calculating for other links\n",
      "2021-03-03 12:13:36, INFO: Calculating and adding roadway network variable: transit\n",
      "2021-03-03 12:13:36, INFO: Calculating and adding roadway network variable: transit\n",
      "2021-03-03 12:13:36, INFO: Finished determining transit-only variable: transit\n",
      "2021-03-03 12:13:36, INFO: Finished determining transit-only variable: transit\n",
      "2021-03-03 12:13:36, INFO: Determining useclass\n",
      "2021-03-03 12:13:36, INFO: Determining useclass\n",
      "2021-03-03 12:13:36, INFO: Lasso base directory set as: Z:/Data/Users/Sijia/MTC/github/Lasso\n",
      "2021-03-03 12:13:36, INFO: Lasso base directory set as: Z:/Data/Users/Sijia/MTC/github/Lasso\n",
      "2021-03-03 12:13:36, INFO: Lasso base directory set as: Z:/Data/Users/Sijia/MTC/github/Lasso\n",
      "2021-03-03 12:13:36, INFO: Lasso base directory set as: Z:/Data/Users/Sijia/MTC/github/Lasso\n",
      "2021-03-03 12:13:36, INFO: Variable 'useclass' updated for some links. Returning without overwriting for those links. Calculating for other links\n",
      "2021-03-03 12:13:36, INFO: Variable 'useclass' updated for some links. Returning without overwriting for those links. Calculating for other links\n",
      "2021-03-03 12:13:36, INFO: Calculating and adding roadway network variable: useclass\n",
      "2021-03-03 12:13:36, INFO: Calculating and adding roadway network variable: useclass\n",
      "2021-03-03 12:13:36, INFO: Finished determining variable: useclass\n",
      "2021-03-03 12:13:36, INFO: Finished determining variable: useclass\n",
      "2021-03-03 12:13:36, INFO: Calculating Facility Type\n",
      "2021-03-03 12:13:36, INFO: Calculating Facility Type\n",
      "2021-03-03 12:13:36, INFO: Lasso base directory set as: Z:/Data/Users/Sijia/MTC/github/Lasso\n",
      "2021-03-03 12:13:36, INFO: Lasso base directory set as: Z:/Data/Users/Sijia/MTC/github/Lasso\n",
      "2021-03-03 12:13:36, INFO: Lasso base directory set as: Z:/Data/Users/Sijia/MTC/github/Lasso\n",
      "2021-03-03 12:13:36, INFO: Lasso base directory set as: Z:/Data/Users/Sijia/MTC/github/Lasso\n",
      "2021-03-03 12:13:36, INFO: Variable 'ft' updated for some links. Returning without overwriting for those links. Calculating for other links\n",
      "2021-03-03 12:13:36, INFO: Variable 'ft' updated for some links. Returning without overwriting for those links. Calculating for other links\n",
      "2021-03-03 12:15:59, INFO: Finished calculating roadway class variable: ft\n",
      "2021-03-03 12:15:59, INFO: Finished calculating roadway class variable: ft\n",
      "2021-03-03 12:16:00, INFO: Overwriting existing distance Variable 'distance' already in network\n",
      "2021-03-03 12:16:00, INFO: Overwriting existing distance Variable 'distance' already in network\n",
      "2021-03-03 12:16:39, INFO: Calculating distance for all links\n",
      "2021-03-03 12:16:39, INFO: Calculating distance for all links\n",
      "2021-03-03 12:16:42, INFO: Calculating distance for all links\n",
      "2021-03-03 12:16:42, INFO: Calculating distance for all links\n",
      "2021-03-03 12:16:48, INFO: Filling nan for network from network wrangler\n",
      "2021-03-03 12:16:48, INFO: Filling nan for network from network wrangler\n",
      "2021-03-03 12:17:11, INFO: Splitting variables by time period and category\n",
      "2021-03-03 12:17:11, INFO: Splitting variables by time period and category\n",
      "2021-03-03 12:17:17, WARNING: Specified variable to split: ML_lanes not in network variables: Index(['index', 'A', 'B', 'access', 'assignable', 'bike_access', 'bus_only',\n",
      "       'county', 'distance', 'drive_access', 'egress', 'fromIntersectionId',\n",
      "       'ft', 'ft_cal', 'geometry', 'id', 'lanes', 'locationReferences',\n",
      "       'managed', 'maxspeed', 'model_link_id', 'name', 'oneWay', 'rail_only',\n",
      "       'rail_traveltime', 'ref', 'roadway', 'segment_id', 'shape_id',\n",
      "       'shstGeometryId', 'shstReferenceId', 'toIntersectionId', 'tollbooth',\n",
      "       'tollseg', 'transit', 'transit_access', 'u', 'useclass', 'v',\n",
      "       'walk_access', 'wayId', 'cntype', 'lanes_EA', 'lanes_AM', 'lanes_MD',\n",
      "       'lanes_PM', 'lanes_EV'],\n",
      "      dtype='object'). Returning 0.\n",
      "2021-03-03 12:17:17, WARNING: Specified variable to split: ML_lanes not in network variables: Index(['index', 'A', 'B', 'access', 'assignable', 'bike_access', 'bus_only',\n",
      "       'county', 'distance', 'drive_access', 'egress', 'fromIntersectionId',\n",
      "       'ft', 'ft_cal', 'geometry', 'id', 'lanes', 'locationReferences',\n",
      "       'managed', 'maxspeed', 'model_link_id', 'name', 'oneWay', 'rail_only',\n",
      "       'rail_traveltime', 'ref', 'roadway', 'segment_id', 'shape_id',\n",
      "       'shstGeometryId', 'shstReferenceId', 'toIntersectionId', 'tollbooth',\n",
      "       'tollseg', 'transit', 'transit_access', 'u', 'useclass', 'v',\n",
      "       'walk_access', 'wayId', 'cntype', 'lanes_EA', 'lanes_AM', 'lanes_MD',\n",
      "       'lanes_PM', 'lanes_EV'],\n",
      "      dtype='object'). Returning 0.\n",
      "2021-03-03 12:17:21, INFO: Converting variable type to mtc standard\n",
      "2021-03-03 12:17:21, INFO: Converting variable type to mtc standard\n",
      "2021-03-03 12:17:49, INFO: Setting Coordinate Reference System to ESRI:102646\n",
      "2021-03-03 12:17:49, INFO: Setting Coordinate Reference System to ESRI:102646\n"
     ]
    }
   ],
   "source": [
    "model_net = mtc.roadway_standard_to_mtc_network(model_net, parameters)"
   ]
  },
  {
   "cell_type": "code",
   "execution_count": 24,
   "metadata": {},
   "outputs": [
    {
     "data": {
      "text/plain": [
       "(1639168, 57)"
      ]
     },
     "execution_count": 24,
     "metadata": {},
     "output_type": "execute_result"
    }
   ],
   "source": [
    "model_net.links_mtc_df.shape"
   ]
  },
  {
   "cell_type": "code",
   "execution_count": 25,
   "metadata": {},
   "outputs": [
    {
     "data": {
      "text/plain": [
       "1639168"
      ]
     },
     "execution_count": 25,
     "metadata": {},
     "output_type": "execute_result"
    }
   ],
   "source": [
    "model_net.links_mtc_df.model_link_id.nunique()"
   ]
  },
  {
   "cell_type": "code",
   "execution_count": 26,
   "metadata": {},
   "outputs": [
    {
     "data": {
      "text/plain": [
       "(645980, 13)"
      ]
     },
     "execution_count": 26,
     "metadata": {},
     "output_type": "execute_result"
    }
   ],
   "source": [
    "model_net.nodes_mtc_df.shape"
   ]
  },
  {
   "cell_type": "code",
   "execution_count": 27,
   "metadata": {},
   "outputs": [
    {
     "data": {
      "text/plain": [
       "645980"
      ]
     },
     "execution_count": 27,
     "metadata": {},
     "output_type": "execute_result"
    }
   ],
   "source": [
    "model_net.nodes_df.model_node_id.nunique()"
   ]
  },
  {
   "cell_type": "markdown",
   "metadata": {},
   "source": [
    "## Write to Disk"
   ]
  },
  {
   "cell_type": "markdown",
   "metadata": {},
   "source": [
    "## As shapefile"
   ]
  },
  {
   "cell_type": "markdown",
   "metadata": {},
   "source": [
    "model_net.write_roadway_as_shp(\n",
    "    output_link_shp = os.path.join(output_dir, 'links.shp'),\n",
    "    output_node_shp = os.path.join(output_dir, 'nodes.shp'),\n",
    "    link_output_variables = [\"model_link_id\", \"A\", \"B\", \"geometry\", \n",
    "                             \"drive_access\",\n",
    "                            'lanes_EA', 'lanes_AM',\n",
    "       'lanes_MD', 'lanes_PM', 'lanes_EV', \"useclass_AM\", \"useclass_MD\", \n",
    "                            \"useclass_PM\", \"useclass_EV\", \"useclass_EA\",\n",
    "                            \"cntype\", \"tollbooth\", \"tollseg\"],\n",
    "    node_output_variables = [\"model_node_id\", \"geometry\"],\n",
    "    data_to_csv = False,\n",
    "    data_to_dbf = True,\n",
    ")"
   ]
  },
  {
   "cell_type": "markdown",
   "metadata": {},
   "source": [
    "## As fixed width (for CUBE)"
   ]
  },
  {
   "cell_type": "markdown",
   "metadata": {},
   "source": [
    "model_net.write_roadway_as_fixedwidth(\n",
    "    output_link_txt = os.path.join(output_dir, 'links.txt'),\n",
    "    output_node_txt = os.path.join(output_dir, 'nodes.txt'),\n",
    "    output_link_header_width_txt = os.path.join(output_dir, 'links_header_width.txt'),\n",
    "    output_node_header_width_txt = os.path.join(output_dir, 'nodes_header_width.txt'),\n",
    "    output_cube_network_script = os.path.join(output_dir, 'make_complete_network_from_fixed_width_file.s'),\n",
    "    #drive_only = True\n",
    ")"
   ]
  },
  {
   "cell_type": "markdown",
   "metadata": {},
   "source": [
    "%%capture\n",
    "os.chdir(output_dir)\n",
    "!make_cube.bat"
   ]
  },
  {
   "cell_type": "markdown",
   "metadata": {},
   "source": [
    "%%capture\n",
    "!runtpp make_simple_roadway_network.s\n",
    "!runtpp make_complete_marin_network.s\n",
    "!runtpp make_simple_transit_network.s\n",
    "!runtpp make_highway_ext_stn_connector_network.s"
   ]
  },
  {
   "cell_type": "markdown",
   "metadata": {},
   "source": [
    "## As transit line file (for CUBE)"
   ]
  },
  {
   "cell_type": "markdown",
   "metadata": {},
   "source": [
    "mtc.write_cube_fare_files(\n",
    "    roadway_network=v_06_scenario.road_net,\n",
    "    transit_network=v_06_scenario.transit_net,\n",
    "    parameters=parameters,\n",
    "    outpath = os.path.join(output_dir)\n",
    ")"
   ]
  },
  {
   "cell_type": "markdown",
   "metadata": {},
   "source": [
    "standard_transit_net = StandardTransit.fromTransitNetwork(v_06_scenario.transit_net, parameters = parameters)\n",
    "mtc.write_as_cube_lin(standard_transit_net, parameters, outpath = os.path.join(output_dir, \"transit.lin\"))"
   ]
  },
  {
   "cell_type": "markdown",
   "metadata": {},
   "source": [
    "## As pickle"
   ]
  },
  {
   "cell_type": "markdown",
   "metadata": {},
   "source": [
    "working_scenario_filename = os.path.join(output_dir, 'working_scenario_07.pickle')\n",
    "pickle.dump(v_06_scenario, open(working_scenario_filename, 'wb'))"
   ]
  },
  {
   "cell_type": "markdown",
   "metadata": {},
   "source": [
    "## As standard network"
   ]
  },
  {
   "cell_type": "markdown",
   "metadata": {},
   "source": [
    "model_net.write(path = output_dir, filename = \"v06\")"
   ]
  }
 ],
 "metadata": {
  "kernelspec": {
   "display_name": "Python 3",
   "language": "python",
   "name": "python3"
  },
  "language_info": {
   "codemirror_mode": {
    "name": "ipython",
    "version": 3
   },
   "file_extension": ".py",
   "mimetype": "text/x-python",
   "name": "python",
   "nbconvert_exporter": "python",
   "pygments_lexer": "ipython3",
   "version": "3.7.9"
  }
 },
 "nbformat": 4,
 "nbformat_minor": 4
}
