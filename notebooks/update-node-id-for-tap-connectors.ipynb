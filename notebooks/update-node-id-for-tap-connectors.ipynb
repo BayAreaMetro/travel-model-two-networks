{
 "cells": [
  {
   "cell_type": "markdown",
   "metadata": {},
   "source": [
    "This notebook is needed because in version 12, I reran step6 creating transit netwok to add missing Amtrak segments, and thus rail nodes and links IDs got shifted, we need to update IDs in:\n",
    "\n",
    "1. project cards\n",
    "2. tap files\n",
    "\n",
    "and this notebook updates the node IDs in tap files, it is needed to run just ONCE"
   ]
  },
  {
   "cell_type": "code",
   "execution_count": 2,
   "metadata": {},
   "outputs": [],
   "source": [
    "import pandas as pd\n",
    "import os"
   ]
  },
  {
   "cell_type": "markdown",
   "metadata": {},
   "source": [
    "# Remote I/O"
   ]
  },
  {
   "cell_type": "code",
   "execution_count": 3,
   "metadata": {},
   "outputs": [],
   "source": [
    "lasso_dir = \"Z:/Data/Users/Sijia/MTC/github/Lasso\"\n",
    "tap_file_dir = os.path.join(lasso_dir, 'mtc_data', 'tap')\n",
    "\n",
    "root_dir = \"D:/github/lfs-cleaning/travel-model-two-networks\"\n",
    "node_id_crosswalk_file = os.path.join(root_dir, 'data', 'processed', 'version_12', 'node_id_crosswalk.csv')\n",
    "\n",
    "out_dir = tap_file_dir"
   ]
  },
  {
   "cell_type": "markdown",
   "metadata": {},
   "source": [
    "# Read files"
   ]
  },
  {
   "cell_type": "code",
   "execution_count": 30,
   "metadata": {},
   "outputs": [],
   "source": [
    "tap_nodes_df = pd.read_pickle(os.path.join(tap_file_dir, 'tap_node.pickle'))"
   ]
  },
  {
   "cell_type": "code",
   "execution_count": 4,
   "metadata": {},
   "outputs": [],
   "source": [
    "tap_links_df = pd.read_pickle(os.path.join(tap_file_dir, 'tap_link.pickle'))"
   ]
  },
  {
   "cell_type": "code",
   "execution_count": 23,
   "metadata": {},
   "outputs": [],
   "source": [
    "tap_shapes_df = pd.read_pickle(os.path.join(tap_file_dir, 'tap_shape.pickle'))"
   ]
  },
  {
   "cell_type": "code",
   "execution_count": 25,
   "metadata": {
    "scrolled": true
   },
   "outputs": [
    {
     "data": {
      "text/plain": [
       "Index(['stop_name', 'stop_desc', 'stop_lat', 'stop_lon', 'zone_id', 'stop_url',\n",
       "       'location_type', 'parent_station', 'stop_timezone',\n",
       "       'wheelchair_boarding', 'stop_code', 'platform_code', 'position',\n",
       "       'direction', 'stop_id', 'osm_node_id', 'shst_node_id', 'model_node_id',\n",
       "       'X', 'Y', 'tap_id', 'tap_X', 'tap_Y', 'id', 'shstGeometryId',\n",
       "       'geometry'],\n",
       "      dtype='object')"
      ]
     },
     "execution_count": 25,
     "metadata": {},
     "output_type": "execute_result"
    }
   ],
   "source": [
    "tap_shapes_df.columns"
   ]
  },
  {
   "cell_type": "code",
   "execution_count": 5,
   "metadata": {},
   "outputs": [],
   "source": [
    "node_id_crosswalk_df = pd.read_csv(node_id_crosswalk_file)"
   ]
  },
  {
   "cell_type": "markdown",
   "metadata": {},
   "source": [
    "# Update ID Process"
   ]
  },
  {
   "cell_type": "code",
   "execution_count": 9,
   "metadata": {},
   "outputs": [],
   "source": [
    "def update_stop_node_id(x, node_id_dict):\n",
    "    if x in list(node_id_dict.keys()):\n",
    "        return node_id_dict[x]\n",
    "    else:\n",
    "        return x"
   ]
  },
  {
   "cell_type": "code",
   "execution_count": 10,
   "metadata": {},
   "outputs": [],
   "source": [
    "node_crosswalk_dict = dict(zip(node_id_crosswalk_df.model_node_id_old, node_id_crosswalk_df.model_node_id_new))"
   ]
  },
  {
   "cell_type": "code",
   "execution_count": 13,
   "metadata": {},
   "outputs": [],
   "source": [
    "new_tap_links_df = tap_links_df.copy()\n",
    "\n",
    "new_tap_links_df['A'] = new_tap_links_df['A'].apply(lambda x: update_stop_node_id(x, node_crosswalk_dict))\n",
    "new_tap_links_df['B'] = new_tap_links_df['B'].apply(lambda x: update_stop_node_id(x, node_crosswalk_dict))"
   ]
  },
  {
   "cell_type": "code",
   "execution_count": 22,
   "metadata": {},
   "outputs": [
    {
     "data": {
      "text/html": [
       "<div>\n",
       "<style scoped>\n",
       "    .dataframe tbody tr th:only-of-type {\n",
       "        vertical-align: middle;\n",
       "    }\n",
       "\n",
       "    .dataframe tbody tr th {\n",
       "        vertical-align: top;\n",
       "    }\n",
       "\n",
       "    .dataframe thead th {\n",
       "        text-align: right;\n",
       "    }\n",
       "</style>\n",
       "<table border=\"1\" class=\"dataframe\">\n",
       "  <thead>\n",
       "    <tr style=\"text-align: right;\">\n",
       "      <th></th>\n",
       "      <th>stop_name</th>\n",
       "      <th>A</th>\n",
       "      <th>B</th>\n",
       "    </tr>\n",
       "  </thead>\n",
       "  <tbody>\n",
       "    <tr>\n",
       "      <th>4653</th>\n",
       "      <td>Taylor St &amp; Bay St</td>\n",
       "      <td>1027677</td>\n",
       "      <td>90098</td>\n",
       "    </tr>\n",
       "  </tbody>\n",
       "</table>\n",
       "</div>"
      ],
      "text/plain": [
       "               stop_name        A      B\n",
       "4653  Taylor St & Bay St  1027677  90098"
      ]
     },
     "execution_count": 22,
     "metadata": {},
     "output_type": "execute_result"
    }
   ],
   "source": [
    "new_tap_links_df[new_tap_links_df.A == 1027677][[\"stop_name\",\"A\", \"B\"]]"
   ]
  },
  {
   "cell_type": "code",
   "execution_count": 20,
   "metadata": {},
   "outputs": [
    {
     "data": {
      "text/html": [
       "<div>\n",
       "<style scoped>\n",
       "    .dataframe tbody tr th:only-of-type {\n",
       "        vertical-align: middle;\n",
       "    }\n",
       "\n",
       "    .dataframe tbody tr th {\n",
       "        vertical-align: top;\n",
       "    }\n",
       "\n",
       "    .dataframe thead th {\n",
       "        text-align: right;\n",
       "    }\n",
       "</style>\n",
       "<table border=\"1\" class=\"dataframe\">\n",
       "  <thead>\n",
       "    <tr style=\"text-align: right;\">\n",
       "      <th></th>\n",
       "      <th>stop_name</th>\n",
       "      <th>A</th>\n",
       "      <th>B</th>\n",
       "    </tr>\n",
       "  </thead>\n",
       "  <tbody>\n",
       "    <tr>\n",
       "      <th>4653</th>\n",
       "      <td>Taylor St &amp; Bay St</td>\n",
       "      <td>1027676</td>\n",
       "      <td>90098</td>\n",
       "    </tr>\n",
       "  </tbody>\n",
       "</table>\n",
       "</div>"
      ],
      "text/plain": [
       "               stop_name        A      B\n",
       "4653  Taylor St & Bay St  1027676  90098"
      ]
     },
     "execution_count": 20,
     "metadata": {},
     "output_type": "execute_result"
    }
   ],
   "source": [
    "tap_links_df[tap_links_df.A == 1027676][[\"stop_name\",\"A\", \"B\"]]"
   ]
  },
  {
   "cell_type": "code",
   "execution_count": 26,
   "metadata": {},
   "outputs": [],
   "source": [
    "new_tap_shapes_df = tap_shapes_df.copy()\n",
    "\n",
    "new_tap_shapes_df['model_node_id'] = new_tap_shapes_df['model_node_id'].apply(\n",
    "    lambda x: update_stop_node_id(x, node_crosswalk_dict))"
   ]
  },
  {
   "cell_type": "code",
   "execution_count": 27,
   "metadata": {},
   "outputs": [
    {
     "data": {
      "text/html": [
       "<div>\n",
       "<style scoped>\n",
       "    .dataframe tbody tr th:only-of-type {\n",
       "        vertical-align: middle;\n",
       "    }\n",
       "\n",
       "    .dataframe tbody tr th {\n",
       "        vertical-align: top;\n",
       "    }\n",
       "\n",
       "    .dataframe thead th {\n",
       "        text-align: right;\n",
       "    }\n",
       "</style>\n",
       "<table border=\"1\" class=\"dataframe\">\n",
       "  <thead>\n",
       "    <tr style=\"text-align: right;\">\n",
       "      <th></th>\n",
       "      <th>stop_name</th>\n",
       "      <th>stop_desc</th>\n",
       "      <th>stop_lat</th>\n",
       "      <th>stop_lon</th>\n",
       "      <th>zone_id</th>\n",
       "      <th>stop_url</th>\n",
       "      <th>location_type</th>\n",
       "      <th>parent_station</th>\n",
       "      <th>stop_timezone</th>\n",
       "      <th>wheelchair_boarding</th>\n",
       "      <th>...</th>\n",
       "      <th>shst_node_id</th>\n",
       "      <th>model_node_id</th>\n",
       "      <th>X</th>\n",
       "      <th>Y</th>\n",
       "      <th>tap_id</th>\n",
       "      <th>tap_X</th>\n",
       "      <th>tap_Y</th>\n",
       "      <th>id</th>\n",
       "      <th>shstGeometryId</th>\n",
       "      <th>geometry</th>\n",
       "    </tr>\n",
       "  </thead>\n",
       "  <tbody>\n",
       "    <tr>\n",
       "      <th>5888</th>\n",
       "      <td>Taylor St &amp; Bay St</td>\n",
       "      <td>NaN</td>\n",
       "      <td>37.805257</td>\n",
       "      <td>-122.415307</td>\n",
       "      <td>NaN</td>\n",
       "      <td>NaN</td>\n",
       "      <td>NaN</td>\n",
       "      <td>NaN</td>\n",
       "      <td>NaN</td>\n",
       "      <td>NaN</td>\n",
       "      <td>...</td>\n",
       "      <td>NaN</td>\n",
       "      <td>1027676</td>\n",
       "      <td>-122.415307</td>\n",
       "      <td>37.805257</td>\n",
       "      <td>1229</td>\n",
       "      <td>-122.415201</td>\n",
       "      <td>37.80418</td>\n",
       "      <td>tap_4654</td>\n",
       "      <td>tap_4654</td>\n",
       "      <td>LINESTRING (-122.41531 37.80526, -122.41520 37...</td>\n",
       "    </tr>\n",
       "  </tbody>\n",
       "</table>\n",
       "<p>1 rows × 26 columns</p>\n",
       "</div>"
      ],
      "text/plain": [
       "               stop_name stop_desc   stop_lat    stop_lon zone_id stop_url  \\\n",
       "5888  Taylor St & Bay St       NaN  37.805257 -122.415307     NaN      NaN   \n",
       "\n",
       "      location_type parent_station stop_timezone  wheelchair_boarding  ...  \\\n",
       "5888            NaN            NaN           NaN                  NaN  ...   \n",
       "\n",
       "     shst_node_id model_node_id           X          Y tap_id       tap_X  \\\n",
       "5888          NaN       1027676 -122.415307  37.805257   1229 -122.415201   \n",
       "\n",
       "         tap_Y        id  shstGeometryId  \\\n",
       "5888  37.80418  tap_4654        tap_4654   \n",
       "\n",
       "                                               geometry  \n",
       "5888  LINESTRING (-122.41531 37.80526, -122.41520 37...  \n",
       "\n",
       "[1 rows x 26 columns]"
      ]
     },
     "execution_count": 27,
     "metadata": {},
     "output_type": "execute_result"
    }
   ],
   "source": [
    "tap_shapes_df[tap_shapes_df.model_node_id == 1027676]"
   ]
  },
  {
   "cell_type": "code",
   "execution_count": 29,
   "metadata": {},
   "outputs": [
    {
     "data": {
      "text/html": [
       "<div>\n",
       "<style scoped>\n",
       "    .dataframe tbody tr th:only-of-type {\n",
       "        vertical-align: middle;\n",
       "    }\n",
       "\n",
       "    .dataframe tbody tr th {\n",
       "        vertical-align: top;\n",
       "    }\n",
       "\n",
       "    .dataframe thead th {\n",
       "        text-align: right;\n",
       "    }\n",
       "</style>\n",
       "<table border=\"1\" class=\"dataframe\">\n",
       "  <thead>\n",
       "    <tr style=\"text-align: right;\">\n",
       "      <th></th>\n",
       "      <th>stop_name</th>\n",
       "      <th>stop_desc</th>\n",
       "      <th>stop_lat</th>\n",
       "      <th>stop_lon</th>\n",
       "      <th>zone_id</th>\n",
       "      <th>stop_url</th>\n",
       "      <th>location_type</th>\n",
       "      <th>parent_station</th>\n",
       "      <th>stop_timezone</th>\n",
       "      <th>wheelchair_boarding</th>\n",
       "      <th>...</th>\n",
       "      <th>shst_node_id</th>\n",
       "      <th>model_node_id</th>\n",
       "      <th>X</th>\n",
       "      <th>Y</th>\n",
       "      <th>tap_id</th>\n",
       "      <th>tap_X</th>\n",
       "      <th>tap_Y</th>\n",
       "      <th>id</th>\n",
       "      <th>shstGeometryId</th>\n",
       "      <th>geometry</th>\n",
       "    </tr>\n",
       "  </thead>\n",
       "  <tbody>\n",
       "    <tr>\n",
       "      <th>5888</th>\n",
       "      <td>Taylor St &amp; Bay St</td>\n",
       "      <td>NaN</td>\n",
       "      <td>37.805257</td>\n",
       "      <td>-122.415307</td>\n",
       "      <td>NaN</td>\n",
       "      <td>NaN</td>\n",
       "      <td>NaN</td>\n",
       "      <td>NaN</td>\n",
       "      <td>NaN</td>\n",
       "      <td>NaN</td>\n",
       "      <td>...</td>\n",
       "      <td>NaN</td>\n",
       "      <td>1027677</td>\n",
       "      <td>-122.415307</td>\n",
       "      <td>37.805257</td>\n",
       "      <td>1229</td>\n",
       "      <td>-122.415201</td>\n",
       "      <td>37.80418</td>\n",
       "      <td>tap_4654</td>\n",
       "      <td>tap_4654</td>\n",
       "      <td>LINESTRING (-122.41531 37.80526, -122.41520 37...</td>\n",
       "    </tr>\n",
       "  </tbody>\n",
       "</table>\n",
       "<p>1 rows × 26 columns</p>\n",
       "</div>"
      ],
      "text/plain": [
       "               stop_name stop_desc   stop_lat    stop_lon zone_id stop_url  \\\n",
       "5888  Taylor St & Bay St       NaN  37.805257 -122.415307     NaN      NaN   \n",
       "\n",
       "      location_type parent_station stop_timezone  wheelchair_boarding  ...  \\\n",
       "5888            NaN            NaN           NaN                  NaN  ...   \n",
       "\n",
       "     shst_node_id model_node_id           X          Y tap_id       tap_X  \\\n",
       "5888          NaN       1027677 -122.415307  37.805257   1229 -122.415201   \n",
       "\n",
       "         tap_Y        id  shstGeometryId  \\\n",
       "5888  37.80418  tap_4654        tap_4654   \n",
       "\n",
       "                                               geometry  \n",
       "5888  LINESTRING (-122.41531 37.80526, -122.41520 37...  \n",
       "\n",
       "[1 rows x 26 columns]"
      ]
     },
     "execution_count": 29,
     "metadata": {},
     "output_type": "execute_result"
    }
   ],
   "source": [
    "new_tap_shapes_df[new_tap_shapes_df.model_node_id == 1027677]"
   ]
  },
  {
   "cell_type": "markdown",
   "metadata": {},
   "source": [
    "# write out update files"
   ]
  },
  {
   "cell_type": "code",
   "execution_count": 32,
   "metadata": {},
   "outputs": [],
   "source": [
    "new_tap_links_df.to_pickle(os.path.join(out_dir, 'tap_link.pickle'))\n",
    "new_tap_shapes_df.to_pickle(os.path.join(out_dir, 'tap_shape.pickle'))"
   ]
  }
 ],
 "metadata": {
  "kernelspec": {
   "display_name": "Python 3",
   "language": "python",
   "name": "python3"
  },
  "language_info": {
   "codemirror_mode": {
    "name": "ipython",
    "version": 3
   },
   "file_extension": ".py",
   "mimetype": "text/x-python",
   "name": "python",
   "nbconvert_exporter": "python",
   "pygments_lexer": "ipython3",
   "version": "3.7.9"
  }
 },
 "nbformat": 4,
 "nbformat_minor": 4
}
