{
 "cells": [
  {
   "cell_type": "markdown",
   "metadata": {},
   "source": [
    "# Update Project Cards"
   ]
  },
  {
   "cell_type": "code",
   "execution_count": 1,
   "metadata": {},
   "outputs": [],
   "source": [
    "import os\n",
    "import sys\n",
    "import yaml\n",
    "import pickle\n",
    "\n",
    "import pandas as pd\n",
    "\n",
    "from network_wrangler import RoadwayNetwork\n",
    "from network_wrangler import TransitNetwork\n",
    "from network_wrangler import ProjectCard\n",
    "from network_wrangler import Scenario\n",
    "from network_wrangler import WranglerLogger\n",
    "\n",
    "from lasso import ModelRoadwayNetwork\n",
    "from lasso import StandardTransit\n",
    "from lasso import Parameters\n",
    "from lasso import mtc\n"
   ]
  },
  {
   "cell_type": "code",
   "execution_count": 2,
   "metadata": {},
   "outputs": [],
   "source": [
    "%load_ext autoreload\n",
    "%autoreload 2"
   ]
  },
  {
   "cell_type": "code",
   "execution_count": 3,
   "metadata": {},
   "outputs": [],
   "source": [
    "import logging\n",
    "logger = logging.getLogger(\"WranglerLogger\")\n",
    "logger.handlers[0].stream = sys.stdout\n",
    "logger.setLevel(logging.INFO)"
   ]
  },
  {
   "cell_type": "markdown",
   "metadata": {},
   "source": [
    "## Remote I/O and Parameters"
   ]
  },
  {
   "cell_type": "code",
   "execution_count": 4,
   "metadata": {},
   "outputs": [],
   "source": [
    "root_dir = os.path.join('/Users', 'wsp', 'Documents', 'GitHub', 'travel-model-two-networks')\n",
    "input_dir = os.path.join(root_dir, 'data', 'processed', 'version_02')\n",
    "output_dir = input_dir\n",
    "card_dir = os.path.join(root_dir, 'project_cards')\n",
    "lasso_dir = os.path.join('/Users', 'wsp', 'Documents', 'GitHub', 'mtc-Lasso')"
   ]
  },
  {
   "cell_type": "code",
   "execution_count": 5,
   "metadata": {},
   "outputs": [
    {
     "name": "stdout",
     "output_type": "stream",
     "text": [
      "2020-10-27 08:51:57, INFO: Lasso base directory set as: /Users/wsp/Documents/GitHub/mtc-Lasso\n",
      "2020-10-27 08:51:57, INFO: Lasso base directory set as: /Users/wsp/Documents/GitHub/mtc-Lasso\n"
     ]
    }
   ],
   "source": [
    "parameters = Parameters(lasso_base_dir = lasso_dir)"
   ]
  },
  {
   "cell_type": "markdown",
   "metadata": {},
   "source": [
    "## Make Crosswalk"
   ]
  },
  {
   "cell_type": "code",
   "execution_count": 6,
   "metadata": {},
   "outputs": [],
   "source": [
    "version_00_pickle_file_name = os.path.join(input_dir, 'working_scenario_00.pickle')\n",
    "v_00_scenario = pickle.load(open(version_00_pickle_file_name, 'rb'))"
   ]
  },
  {
   "cell_type": "code",
   "execution_count": 7,
   "metadata": {},
   "outputs": [
    {
     "data": {
      "text/html": [
       "<div>\n",
       "<style scoped>\n",
       "    .dataframe tbody tr th:only-of-type {\n",
       "        vertical-align: middle;\n",
       "    }\n",
       "\n",
       "    .dataframe tbody tr th {\n",
       "        vertical-align: top;\n",
       "    }\n",
       "\n",
       "    .dataframe thead th {\n",
       "        text-align: right;\n",
       "    }\n",
       "</style>\n",
       "<table border=\"1\" class=\"dataframe\">\n",
       "  <thead>\n",
       "    <tr style=\"text-align: right;\">\n",
       "      <th></th>\n",
       "      <th>model_link_id</th>\n",
       "      <th>shstReferenceId</th>\n",
       "    </tr>\n",
       "  </thead>\n",
       "  <tbody>\n",
       "    <tr>\n",
       "      <th>0</th>\n",
       "      <td>4000000</td>\n",
       "      <td>00000461094d7f302e7afdcfc7ff5ba3</td>\n",
       "    </tr>\n",
       "    <tr>\n",
       "      <th>1</th>\n",
       "      <td>4000001</td>\n",
       "      <td>00000b467d2e08f9abf13eeafee3ed46</td>\n",
       "    </tr>\n",
       "    <tr>\n",
       "      <th>2</th>\n",
       "      <td>8000000</td>\n",
       "      <td>000018062272093dbaa5d49303062454</td>\n",
       "    </tr>\n",
       "    <tr>\n",
       "      <th>3</th>\n",
       "      <td>2000000</td>\n",
       "      <td>000018a23d1330dcfbae79f44e9fca1a</td>\n",
       "    </tr>\n",
       "    <tr>\n",
       "      <th>4</th>\n",
       "      <td>2000001</td>\n",
       "      <td>0000491ae6975893d350d75ed7aa5842</td>\n",
       "    </tr>\n",
       "  </tbody>\n",
       "</table>\n",
       "</div>"
      ],
      "text/plain": [
       "   model_link_id                   shstReferenceId\n",
       "0        4000000  00000461094d7f302e7afdcfc7ff5ba3\n",
       "1        4000001  00000b467d2e08f9abf13eeafee3ed46\n",
       "2        8000000  000018062272093dbaa5d49303062454\n",
       "3        2000000  000018a23d1330dcfbae79f44e9fca1a\n",
       "4        2000001  0000491ae6975893d350d75ed7aa5842"
      ]
     },
     "execution_count": 7,
     "metadata": {},
     "output_type": "execute_result"
    }
   ],
   "source": [
    "cross_df = v_00_scenario.road_net.links_df[['model_link_id', 'shstReferenceId']]\n",
    "cross_df.head()"
   ]
  },
  {
   "cell_type": "markdown",
   "metadata": {},
   "source": [
    "## Add Model Link ID"
   ]
  },
  {
   "cell_type": "code",
   "execution_count": 79,
   "metadata": {},
   "outputs": [],
   "source": [
    "filename_list = ['year_2015_i80_wb_hov_ala.yml',\n",
    "                'year_2015_bus_only_ggt_on_us101.yml',\n",
    "                'year_2015_attributes_exclude_trucks_sr85.yml',\n",
    "                'year_2015_managed_lane_i80_ramp_to_bay_bridge.yml',\n",
    "                'year_2015_attributes_exclude_trucks_i580.yml',\n",
    "                'year_2015_bus_only_transbay_terminal_ramps.yml']"
   ]
  },
  {
   "cell_type": "code",
   "execution_count": 83,
   "metadata": {},
   "outputs": [],
   "source": [
    "filename_list = ['year_2015_bus_only_transbay_terminal_ramps.yml']"
   ]
  },
  {
   "cell_type": "code",
   "execution_count": 84,
   "metadata": {},
   "outputs": [
    {
     "name": "stdout",
     "output_type": "stream",
     "text": [
      "year_2015_bus_only_transbay_terminal_ramps.yml\n"
     ]
    }
   ],
   "source": [
    "for filename in filename_list:\n",
    "    \n",
    "    print(filename)\n",
    "    \n",
    "    with open(os.path.join(card_dir, filename)) as f:\n",
    "        data = yaml.load(f, Loader=yaml.FullLoader)\n",
    "    \n",
    "    x = data.get('changes')\n",
    "    y = x[0].get('facility').get('link')\n",
    "    df = pd.DataFrame(y[0].get('shStReferenceId'))\n",
    "    df = df.rename(columns={0:'shstReferenceId'})\n",
    "    \n",
    "    output_df = pd.merge(df, cross_df, how='left', on='shstReferenceId')\n",
    "    \n",
    "    add_dict = {'model_link_id':output_df['model_link_id'].to_list()}\n",
    "    \n",
    "    data['changes'][0]['facility']['link'].append(add_dict)\n",
    "    \n",
    "    outputfile = os.path.splitext(filename)[0] + '_corrected' + os.path.splitext(filename)[1]\n",
    "    \n",
    "    with open(os.path.join(card_dir, outputfile), 'w') as f:\n",
    "        data = yaml.dump(data, f, default_flow_style=False, sort_keys=False)\n",
    "    \n",
    "    \n",
    "    \n",
    "    \n",
    "    "
   ]
  },
  {
   "cell_type": "code",
   "execution_count": null,
   "metadata": {},
   "outputs": [],
   "source": []
  }
 ],
 "metadata": {
  "kernelspec": {
   "display_name": "Python 3",
   "language": "python",
   "name": "python3"
  },
  "language_info": {
   "codemirror_mode": {
    "name": "ipython",
    "version": 3
   },
   "file_extension": ".py",
   "mimetype": "text/x-python",
   "name": "python",
   "nbconvert_exporter": "python",
   "pygments_lexer": "ipython3",
   "version": "3.7.8"
  }
 },
 "nbformat": 4,
 "nbformat_minor": 4
}
